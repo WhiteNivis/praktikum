{
 "cells": [
  {
   "cell_type": "markdown",
   "metadata": {},
   "source": [
    "# Защита персональных данных клиентов"
   ]
  },
  {
   "cell_type": "markdown",
   "metadata": {},
   "source": [
    "Страховой компании «Хоть потоп» требуется защитить данные клиентов. Необходимо разработать такой метод преобразования данных, чтобы по ним было сложно восстановить персональную информацию. При этом качество моделей машинного обучения не должно ухудшаться. \n",
    "\n",
    "<font color='green'>Цель</font>\n",
    "\n",
    "Разработать алгоритм защиты данных. \n",
    "\n",
    "<font color='green'>Задачи</font>\n",
    "\n",
    "- исследовать данные;\n",
    "- ответить на вопрос об изменении параметров линейной регрессии при умножении матрицы признаков на обратимую матрицу;\n",
    "- разработать алгоритм защиты данных;\n",
    "- проверить работу алгоритма;\n",
    "\n",
    "<font color='green'>Файлы</font>\n",
    "\n",
    "- `insurance.csv`\n",
    "\n",
    "<font color='green'>Признаки</font>\n",
    "\n",
    "-    Пол;\n",
    "-    Возраст;\n",
    "-    Зарплата;\n",
    "-    Члены семьи.\n",
    "\n",
    "<font color='green'>Целевой признак</font>\n",
    "\n",
    "- `Страховые выплаты`.\n",
    "\n",
    "<font color='green'>Содержание</font>"
   ]
  },
  {
   "cell_type": "markdown",
   "metadata": {
    "toc": true
   },
   "source": [
    "<h1><span class=\"tocSkip\"></span></h1>\n",
    "<div class=\"toc\"><ul class=\"toc-item\"><li><span><a href=\"#Загрузка-данных\" data-toc-modified-id=\"Загрузка-данных-1\"><span class=\"toc-item-num\">1&nbsp;&nbsp;</span>Загрузка данных</a></span></li><li><span><a href=\"#Умножение-признаков-на-обратимую-матрицу\" data-toc-modified-id=\"Умножение-признаков-на-обратимую-матрицу-2\"><span class=\"toc-item-num\">2&nbsp;&nbsp;</span>Умножение признаков на обратимую матрицу</a></span></li><li><span><a href=\"#Алгоритм-преобразования-данных.\" data-toc-modified-id=\"Алгоритм-преобразования-данных.-3\"><span class=\"toc-item-num\">3&nbsp;&nbsp;</span>Алгоритм преобразования данных.</a></span></li><li><span><a href=\"#Проверка-алгоритма\" data-toc-modified-id=\"Проверка-алгоритма-4\"><span class=\"toc-item-num\">4&nbsp;&nbsp;</span>Проверка алгоритма</a></span><ul class=\"toc-item\"><li><span><a href=\"#Подготовка-данных\" data-toc-modified-id=\"Подготовка-данных-4.1\"><span class=\"toc-item-num\">4.1&nbsp;&nbsp;</span>Подготовка данных</a></span></li><li><span><a href=\"#Стандартная-модель-c-модификацией-признаков\" data-toc-modified-id=\"Стандартная-модель-c-модификацией-признаков-4.2\"><span class=\"toc-item-num\">4.2&nbsp;&nbsp;</span>Стандартная модель c модификацией признаков</a></span></li><li><span><a href=\"#Стандартная-модель-без-модификации-признаков\" data-toc-modified-id=\"Стандартная-модель-без-модификации-признаков-4.3\"><span class=\"toc-item-num\">4.3&nbsp;&nbsp;</span>Стандартная модель без модификации признаков</a></span></li></ul></li></ul></div>"
   ]
  },
  {
   "cell_type": "markdown",
   "metadata": {},
   "source": [
    "## Загрузка данных"
   ]
  },
  {
   "cell_type": "code",
   "execution_count": 1,
   "metadata": {},
   "outputs": [],
   "source": [
    "import pandas as pd\n",
    "import numpy as np\n",
    "\n",
    "from sklearn.linear_model import LinearRegression\n",
    "from sklearn.model_selection import train_test_split, GridSearchCV\n",
    "from sklearn.metrics import r2_score\n",
    "import seaborn as sns\n",
    "import matplotlib.pyplot as plt\n",
    "\n",
    "import warnings\n",
    "warnings.filterwarnings(\"ignore\", category=FutureWarning)"
   ]
  },
  {
   "cell_type": "code",
   "execution_count": 2,
   "metadata": {},
   "outputs": [],
   "source": [
    "data = pd.read_csv('/ML/datasets/insurance.csv')"
   ]
  },
  {
   "cell_type": "code",
   "execution_count": 3,
   "metadata": {},
   "outputs": [
    {
     "data": {
      "text/html": [
       "<div>\n",
       "<style scoped>\n",
       "    .dataframe tbody tr th:only-of-type {\n",
       "        vertical-align: middle;\n",
       "    }\n",
       "\n",
       "    .dataframe tbody tr th {\n",
       "        vertical-align: top;\n",
       "    }\n",
       "\n",
       "    .dataframe thead th {\n",
       "        text-align: right;\n",
       "    }\n",
       "</style>\n",
       "<table border=\"1\" class=\"dataframe\">\n",
       "  <thead>\n",
       "    <tr style=\"text-align: right;\">\n",
       "      <th></th>\n",
       "      <th>Пол</th>\n",
       "      <th>Возраст</th>\n",
       "      <th>Зарплата</th>\n",
       "      <th>Члены семьи</th>\n",
       "      <th>Страховые выплаты</th>\n",
       "    </tr>\n",
       "  </thead>\n",
       "  <tbody>\n",
       "    <tr>\n",
       "      <th>0</th>\n",
       "      <td>1</td>\n",
       "      <td>41.0</td>\n",
       "      <td>49600.0</td>\n",
       "      <td>1</td>\n",
       "      <td>0</td>\n",
       "    </tr>\n",
       "    <tr>\n",
       "      <th>1</th>\n",
       "      <td>0</td>\n",
       "      <td>46.0</td>\n",
       "      <td>38000.0</td>\n",
       "      <td>1</td>\n",
       "      <td>1</td>\n",
       "    </tr>\n",
       "    <tr>\n",
       "      <th>2</th>\n",
       "      <td>0</td>\n",
       "      <td>29.0</td>\n",
       "      <td>21000.0</td>\n",
       "      <td>0</td>\n",
       "      <td>0</td>\n",
       "    </tr>\n",
       "    <tr>\n",
       "      <th>3</th>\n",
       "      <td>0</td>\n",
       "      <td>21.0</td>\n",
       "      <td>41700.0</td>\n",
       "      <td>2</td>\n",
       "      <td>0</td>\n",
       "    </tr>\n",
       "    <tr>\n",
       "      <th>4</th>\n",
       "      <td>1</td>\n",
       "      <td>28.0</td>\n",
       "      <td>26100.0</td>\n",
       "      <td>0</td>\n",
       "      <td>0</td>\n",
       "    </tr>\n",
       "  </tbody>\n",
       "</table>\n",
       "</div>"
      ],
      "text/plain": [
       "   Пол  Возраст  Зарплата  Члены семьи  Страховые выплаты\n",
       "0    1     41.0   49600.0            1                  0\n",
       "1    0     46.0   38000.0            1                  1\n",
       "2    0     29.0   21000.0            0                  0\n",
       "3    0     21.0   41700.0            2                  0\n",
       "4    1     28.0   26100.0            0                  0"
      ]
     },
     "execution_count": 3,
     "metadata": {},
     "output_type": "execute_result"
    }
   ],
   "source": [
    "data.head()"
   ]
  },
  {
   "cell_type": "code",
   "execution_count": 4,
   "metadata": {},
   "outputs": [
    {
     "name": "stdout",
     "output_type": "stream",
     "text": [
      "<class 'pandas.core.frame.DataFrame'>\n",
      "RangeIndex: 5000 entries, 0 to 4999\n",
      "Data columns (total 5 columns):\n",
      " #   Column             Non-Null Count  Dtype  \n",
      "---  ------             --------------  -----  \n",
      " 0   Пол                5000 non-null   int64  \n",
      " 1   Возраст            5000 non-null   float64\n",
      " 2   Зарплата           5000 non-null   float64\n",
      " 3   Члены семьи        5000 non-null   int64  \n",
      " 4   Страховые выплаты  5000 non-null   int64  \n",
      "dtypes: float64(2), int64(3)\n",
      "memory usage: 195.4 KB\n"
     ]
    }
   ],
   "source": [
    "data.info()"
   ]
  },
  {
   "cell_type": "code",
   "execution_count": 5,
   "metadata": {},
   "outputs": [
    {
     "data": {
      "text/html": [
       "<div>\n",
       "<style scoped>\n",
       "    .dataframe tbody tr th:only-of-type {\n",
       "        vertical-align: middle;\n",
       "    }\n",
       "\n",
       "    .dataframe tbody tr th {\n",
       "        vertical-align: top;\n",
       "    }\n",
       "\n",
       "    .dataframe thead th {\n",
       "        text-align: right;\n",
       "    }\n",
       "</style>\n",
       "<table border=\"1\" class=\"dataframe\">\n",
       "  <thead>\n",
       "    <tr style=\"text-align: right;\">\n",
       "      <th></th>\n",
       "      <th>Пол</th>\n",
       "      <th>Возраст</th>\n",
       "      <th>Зарплата</th>\n",
       "      <th>Члены семьи</th>\n",
       "      <th>Страховые выплаты</th>\n",
       "    </tr>\n",
       "  </thead>\n",
       "  <tbody>\n",
       "    <tr>\n",
       "      <th>count</th>\n",
       "      <td>5000.000000</td>\n",
       "      <td>5000.000000</td>\n",
       "      <td>5000.000000</td>\n",
       "      <td>5000.000000</td>\n",
       "      <td>5000.000000</td>\n",
       "    </tr>\n",
       "    <tr>\n",
       "      <th>mean</th>\n",
       "      <td>0.499000</td>\n",
       "      <td>30.952800</td>\n",
       "      <td>39916.360000</td>\n",
       "      <td>1.194200</td>\n",
       "      <td>0.148000</td>\n",
       "    </tr>\n",
       "    <tr>\n",
       "      <th>std</th>\n",
       "      <td>0.500049</td>\n",
       "      <td>8.440807</td>\n",
       "      <td>9900.083569</td>\n",
       "      <td>1.091387</td>\n",
       "      <td>0.463183</td>\n",
       "    </tr>\n",
       "    <tr>\n",
       "      <th>min</th>\n",
       "      <td>0.000000</td>\n",
       "      <td>18.000000</td>\n",
       "      <td>5300.000000</td>\n",
       "      <td>0.000000</td>\n",
       "      <td>0.000000</td>\n",
       "    </tr>\n",
       "    <tr>\n",
       "      <th>25%</th>\n",
       "      <td>0.000000</td>\n",
       "      <td>24.000000</td>\n",
       "      <td>33300.000000</td>\n",
       "      <td>0.000000</td>\n",
       "      <td>0.000000</td>\n",
       "    </tr>\n",
       "    <tr>\n",
       "      <th>50%</th>\n",
       "      <td>0.000000</td>\n",
       "      <td>30.000000</td>\n",
       "      <td>40200.000000</td>\n",
       "      <td>1.000000</td>\n",
       "      <td>0.000000</td>\n",
       "    </tr>\n",
       "    <tr>\n",
       "      <th>75%</th>\n",
       "      <td>1.000000</td>\n",
       "      <td>37.000000</td>\n",
       "      <td>46600.000000</td>\n",
       "      <td>2.000000</td>\n",
       "      <td>0.000000</td>\n",
       "    </tr>\n",
       "    <tr>\n",
       "      <th>max</th>\n",
       "      <td>1.000000</td>\n",
       "      <td>65.000000</td>\n",
       "      <td>79000.000000</td>\n",
       "      <td>6.000000</td>\n",
       "      <td>5.000000</td>\n",
       "    </tr>\n",
       "  </tbody>\n",
       "</table>\n",
       "</div>"
      ],
      "text/plain": [
       "               Пол      Возраст      Зарплата  Члены семьи  Страховые выплаты\n",
       "count  5000.000000  5000.000000   5000.000000  5000.000000        5000.000000\n",
       "mean      0.499000    30.952800  39916.360000     1.194200           0.148000\n",
       "std       0.500049     8.440807   9900.083569     1.091387           0.463183\n",
       "min       0.000000    18.000000   5300.000000     0.000000           0.000000\n",
       "25%       0.000000    24.000000  33300.000000     0.000000           0.000000\n",
       "50%       0.000000    30.000000  40200.000000     1.000000           0.000000\n",
       "75%       1.000000    37.000000  46600.000000     2.000000           0.000000\n",
       "max       1.000000    65.000000  79000.000000     6.000000           5.000000"
      ]
     },
     "execution_count": 5,
     "metadata": {},
     "output_type": "execute_result"
    }
   ],
   "source": [
    "data.describe()"
   ]
  },
  {
   "cell_type": "code",
   "execution_count": 6,
   "metadata": {},
   "outputs": [
    {
     "data": {
      "text/plain": [
       "153"
      ]
     },
     "execution_count": 6,
     "metadata": {},
     "output_type": "execute_result"
    }
   ],
   "source": [
    "data.duplicated().sum() "
   ]
  },
  {
   "cell_type": "markdown",
   "metadata": {},
   "source": [
    "В отсутствии уникального ID клиента, не будем считать найденные записи дубликатами."
   ]
  },
  {
   "cell_type": "code",
   "execution_count": 7,
   "metadata": {},
   "outputs": [
    {
     "data": {
      "image/png": "[encoded data removed]",
      "text/plain": [
       "<Figure size 720x720 with 6 Axes>"
      ]
     },
     "metadata": {
      "needs_background": "light"
     },
     "output_type": "display_data"
    }
   ],
   "source": [
    "data.hist(figsize=(10, 10));"
   ]
  },
  {
   "cell_type": "code",
   "execution_count": 8,
   "metadata": {},
   "outputs": [
    {
     "data": {
      "image/png": "[encoded data removed]",
      "text/plain": [
       "<Figure size 504x504 with 1 Axes>"
      ]
     },
     "metadata": {
      "needs_background": "light"
     },
     "output_type": "display_data"
    }
   ],
   "source": [
    "plt.figure(figsize=(7, 7))\n",
    "sns.heatmap(data.corr(), annot=True, cbar=False, linewidths=.5, fmt= '.2f')\n",
    "plt.show()"
   ]
  },
  {
   "cell_type": "markdown",
   "metadata": {},
   "source": [
    "**Вывод**"
   ]
  },
  {
   "cell_type": "markdown",
   "metadata": {},
   "source": [
    "Пропусков и дубликатов в данных не обнаружено. Наибольшая корреляция целевого признака наблюдается с параметром `'Возраст'`: 0,65. "
   ]
  },
  {
   "cell_type": "markdown",
   "metadata": {},
   "source": [
    "## Умножение признаков на обратимую матрицу"
   ]
  },
  {
   "cell_type": "markdown",
   "metadata": {},
   "source": [
    "Проверим как изменяются параметры линейной регрессии при умножении признаков на обратимую матрицу."
   ]
  },
  {
   "cell_type": "markdown",
   "metadata": {},
   "source": [
    "Обозначения:\n",
    "\n",
    "- $X$ — матрица признаков (нулевой столбец состоит из единиц)\n",
    "- $y$ — вектор целевого признака\n",
    "- $P$ — матрица, на которую умножаются признаки\n",
    "- $P^{-1}$ — матрица, обратная к $P$\n",
    "- $w$ — вектор весов линейной регрессии (нулевой элемент равен сдвигу)\n",
    "- $E$ — единичная матрица"
   ]
  },
  {
   "cell_type": "markdown",
   "metadata": {},
   "source": [
    "$$\n",
    "w_1 = (X^T X)^{-1} X^T y\n",
    "$$\n",
    "\n",
    "$$\n",
    "w_2 = ((XP)^T XP)^{-1} (XP)^T y\n",
    "$$\n",
    "\n",
    "Приравняем $w_1$ к $w_2$ и раскроем скобки, воспользовавшись следующими свойствами: \n",
    "\n",
    "$(AB)^{T} = B^{T}A^{T}$\n",
    "\n",
    "$(AB)^{-1} = B^{-1}A^{-1}$\n",
    "\n",
    "$AA^{-1} = A^{-1}A =  E$\n",
    "\n",
    "$$(X^T X)^{-1} X^T y \\stackrel{?}{=} ((XP)^T XP)^{-1} (XP)^T y\n",
    "$$\n",
    "\n",
    "$$(X^T X)^{-1} X^T y\\stackrel{?}{=}(P^T (X^T X) P)^{-1} P^T X^T y \n",
    "$$\n",
    "\n",
    "$$(X^T X)^{-1} X^T y\\stackrel{?}{=}P^{-1} (X^T X)^{-1} (P^T)^{-1} P^T X^T y \n",
    "$$\n",
    "\n",
    "$$(X^T X)^{-1} X^T y\\stackrel{?}{=}P^{-1} (X^T X)^{-1} E X^T y \n",
    "$$\n",
    "\n",
    "$$w_2=P^{-1}w_1\n",
    "$$\n",
    "\n",
    "Предсказания:\n",
    "\n",
    "$$a_1 = Xw_1\n",
    "$$\n",
    "\n",
    "$$a_2 = XPw_2 = XPP^{-1}w_1 = Xw_1\n",
    "$$\n",
    "\n",
    "$$a_1 = a_2\n",
    "$$"
   ]
  },
  {
   "cell_type": "markdown",
   "metadata": {},
   "source": [
    "Предсказания модели не изменились."
   ]
  },
  {
   "cell_type": "markdown",
   "metadata": {},
   "source": [
    "**Вывод**"
   ]
  },
  {
   "cell_type": "markdown",
   "metadata": {},
   "source": [
    "При умножении признаков на обратимую матрицу $P$ параметры линейной регресии не изменяются."
   ]
  },
  {
   "cell_type": "markdown",
   "metadata": {},
   "source": [
    "## Алгоритм преобразования данных."
   ]
  },
  {
   "cell_type": "markdown",
   "metadata": {},
   "source": [
    "Обозначения:\n",
    "\n",
    "- $X$ — матрица признаков (нулевой столбец состоит из единиц)\n",
    "- $y$ — вектор целевого признака\n",
    "- $P$ — матрица, на которую умножаются признаки\n",
    "- $P^{-1}$ — матрица, обратная к $P$\n",
    "- $data$ - данные\n",
    "- $E$ - единичная матрица\n",
    "\n",
    "В качестве алгоритма защиты данных предлагается следующая последовательность шагов:"
   ]
  },
  {
   "cell_type": "markdown",
   "metadata": {},
   "source": [
    "1) Создать рандомную матрицу $P$ размера n*n, где n - кол-во признаков.\n",
    "\n",
    "2) Проверить обратимость матрицы $P$. В случае возникновения ошибки вернуться к пункту 1).\n",
    "\n",
    "3) Умножить матрицу признаков на матрицу $P$.\n",
    "\n",
    "C этого этапа данные о клиентах хрянятся в зашифрованном виде. Ключ - матрица $P$.\n",
    "\n",
    "4) Далее работа ведется по стандартному алгоритму ML. "
   ]
  },
  {
   "cell_type": "markdown",
   "metadata": {},
   "source": [
    "**Обоснование**\n",
    "Т.к. создаваемая нами для шифрования матрица является обратимой, то она имеет обратную матрицу. Исходя из свойств обратной и единичной матриц имеем:\n",
    "\n",
    "$$\n",
    "XP^{-1}P = XE= X\n",
    "$$\n",
    "\n",
    "В любой момент, при необходимости, мы имеем возможность восстановить исходные данные. При этом, согласно ранее сделанным выводам, для обучения алгоритма ML этого не требуется.\n"
   ]
  },
  {
   "cell_type": "markdown",
   "metadata": {},
   "source": [
    "**Вывод**"
   ]
  },
  {
   "cell_type": "markdown",
   "metadata": {},
   "source": [
    "В качестве алгоритма защиты данных предложено шифрование методом умножения матриц. "
   ]
  },
  {
   "cell_type": "markdown",
   "metadata": {},
   "source": [
    "## Проверка алгоритма"
   ]
  },
  {
   "cell_type": "markdown",
   "metadata": {},
   "source": [
    "### Подготовка данных"
   ]
  },
  {
   "cell_type": "markdown",
   "metadata": {},
   "source": [
    "Создание обратной матрицы:"
   ]
  },
  {
   "cell_type": "code",
   "execution_count": 9,
   "metadata": {},
   "outputs": [],
   "source": [
    "def rnd_matrix(n):\n",
    "    random_matrix = np.random.normal(size=(n, n))\n",
    "    try:\n",
    "        np.linalg.inv(random_matrix) \n",
    "    except LinAlgError:\n",
    "        rnd_matrix(n)\n",
    "    return random_matrix"
   ]
  },
  {
   "cell_type": "code",
   "execution_count": 10,
   "metadata": {},
   "outputs": [],
   "source": [
    "\n",
    "target = data['Страховые выплаты']\n",
    "features = data.drop(['Страховые выплаты'] , axis=1)\n",
    "features_modify = np.dot(features, rnd_matrix(len(features.columns)))\n",
    "\n",
    "result = pd.DataFrame(index=['R2']) #датафрейм для хранения результатов работы моделей"
   ]
  },
  {
   "cell_type": "markdown",
   "metadata": {},
   "source": [
    "### Стандартная модель c модификацией признаков"
   ]
  },
  {
   "cell_type": "code",
   "execution_count": 11,
   "metadata": {},
   "outputs": [
    {
     "name": "stdout",
     "output_type": "stream",
     "text": [
      "(4000, 4) (4000,) (1000, 4) (1000,)\n"
     ]
    }
   ],
   "source": [
    "features_train_modify, features_test_modify, target_train, target_test = train_test_split(\n",
    "    features_modify, target, test_size=0.20, random_state=12345)\n",
    "print(features_train_modify.shape, target_train.shape, features_test_modify.shape, target_test.shape)"
   ]
  },
  {
   "cell_type": "code",
   "execution_count": 12,
   "metadata": {},
   "outputs": [
    {
     "name": "stdout",
     "output_type": "stream",
     "text": [
      "R2:0.412\n",
      "Slopes: [ 0.04254897 -0.05418629  0.04957844 -0.01084399]\n",
      "Intercept: -0.949050223637787\n"
     ]
    }
   ],
   "source": [
    "param_grid = {'fit_intercept':[True,False],\n",
    "              'normalize':[True,False],\n",
    "              'copy_X':[True, False]\n",
    "}\n",
    "\n",
    "model = LinearRegression()\n",
    "grid_search = GridSearchCV(model, param_grid, cv=5, refit='r2_score')\n",
    "grid_search.fit(features_train_modify, target_train)\n",
    "predicted_test = grid_search.best_estimator_.predict(features_test_modify)\n",
    "\n",
    "print('R2:{:.3f}'.format(r2_score(target_test, predicted_test)))\n",
    "print(\"Slopes:\", grid_search.best_estimator_.coef_)\n",
    "print(\"Intercept:\", grid_search.best_estimator_.intercept_)\n",
    "\n",
    "result['Стандартная модель c модификацией признаков'] = [r2_score(target_test, predicted_test)] # сохранение результата"
   ]
  },
  {
   "cell_type": "code",
   "execution_count": 13,
   "metadata": {},
   "outputs": [
    {
     "data": {
      "image/png": "[encoded data removed]",
      "text/plain": [
       "<Figure size 432x288 with 1 Axes>"
      ]
     },
     "metadata": {
      "needs_background": "light"
     },
     "output_type": "display_data"
    }
   ],
   "source": [
    "featureImportance = pd.DataFrame({\"feature\": data.drop(['Страховые выплаты'] , axis=1).columns, \n",
    "                                  \"importance\": grid_search.best_estimator_.coef_})\n",
    "\n",
    "featureImportance.set_index(\"feature\", inplace=True)\n",
    "featureImportance.sort_values([\"importance\"], ascending=False, inplace=True)\n",
    "sns.barplot(x=featureImportance.index, y='importance', data=featureImportance);"
   ]
  },
  {
   "cell_type": "markdown",
   "metadata": {},
   "source": [
    "### Стандартная модель без модификации признаков"
   ]
  },
  {
   "cell_type": "code",
   "execution_count": 14,
   "metadata": {},
   "outputs": [
    {
     "name": "stdout",
     "output_type": "stream",
     "text": [
      "(4000, 4) (4000,) (1000, 4) (1000,)\n"
     ]
    }
   ],
   "source": [
    "features_train, features_test = train_test_split(features, test_size=0.20, random_state=12345)\n",
    "print(features_train.shape, target_train.shape, features_test.shape, target_test.shape)"
   ]
  },
  {
   "cell_type": "code",
   "execution_count": 15,
   "metadata": {},
   "outputs": [
    {
     "name": "stdout",
     "output_type": "stream",
     "text": [
      "R2:0.412\n",
      "Slopes: [ 1.03381395e-02  3.61850636e-02 -3.43919648e-07 -1.25501642e-02]\n",
      "Intercept: -0.9490502236348631\n"
     ]
    }
   ],
   "source": [
    "param_grid = {'fit_intercept':[True,False],\n",
    "              'normalize':[True,False],\n",
    "              'copy_X':[True, False]\n",
    "}\n",
    "\n",
    "model = LinearRegression()\n",
    "grid_search = GridSearchCV(model, param_grid, cv=5, refit='r2_score')\n",
    "grid_search.fit(features_train, target_train)\n",
    "predicted_test = grid_search.best_estimator_.predict(features_test)\n",
    "\n",
    "print('R2:{:.3f}'.format(r2_score(target_test, predicted_test)))\n",
    "print(\"Slopes:\", grid_search.best_estimator_.coef_)\n",
    "print(\"Intercept:\", grid_search.best_estimator_.intercept_)\n",
    "\n",
    "result['Стандартная модель без модификации признаков'] = [r2_score(target_test, predicted_test)] # сохранение результата"
   ]
  },
  {
   "cell_type": "code",
   "execution_count": 16,
   "metadata": {},
   "outputs": [
    {
     "data": {
      "image/png": "[encoded data removed]",
      "text/plain": [
       "<Figure size 432x288 with 1 Axes>"
      ]
     },
     "metadata": {
      "needs_background": "light"
     },
     "output_type": "display_data"
    }
   ],
   "source": [
    "featureImportance = pd.DataFrame({\"feature\": data.drop(['Страховые выплаты'] , axis=1).columns, \n",
    "                                  \"importance\": grid_search.best_estimator_.coef_})\n",
    "\n",
    "featureImportance.set_index(\"feature\", inplace=True)\n",
    "featureImportance.sort_values([\"importance\"], ascending=False, inplace=True)\n",
    "sns.barplot(x=featureImportance.index, y='importance', data=featureImportance);"
   ]
  },
  {
   "cell_type": "markdown",
   "metadata": {},
   "source": [
    "**Вывод**"
   ]
  },
  {
   "cell_type": "code",
   "execution_count": 17,
   "metadata": {
    "scrolled": false
   },
   "outputs": [
    {
     "data": {
      "text/html": [
       "<div>\n",
       "<style scoped>\n",
       "    .dataframe tbody tr th:only-of-type {\n",
       "        vertical-align: middle;\n",
       "    }\n",
       "\n",
       "    .dataframe tbody tr th {\n",
       "        vertical-align: top;\n",
       "    }\n",
       "\n",
       "    .dataframe thead th {\n",
       "        text-align: right;\n",
       "    }\n",
       "</style>\n",
       "<table border=\"1\" class=\"dataframe\">\n",
       "  <thead>\n",
       "    <tr style=\"text-align: right;\">\n",
       "      <th></th>\n",
       "      <th>R2</th>\n",
       "    </tr>\n",
       "  </thead>\n",
       "  <tbody>\n",
       "    <tr>\n",
       "      <th>Стандартная модель c модификацией признаков</th>\n",
       "      <td>0.411768</td>\n",
       "    </tr>\n",
       "    <tr>\n",
       "      <th>Стандартная модель без модификации признаков</th>\n",
       "      <td>0.411768</td>\n",
       "    </tr>\n",
       "  </tbody>\n",
       "</table>\n",
       "</div>"
      ],
      "text/plain": [
       "                                                    R2\n",
       "Стандартная модель c модификацией признаков   0.411768\n",
       "Стандартная модель без модификации признаков  0.411768"
      ]
     },
     "execution_count": 17,
     "metadata": {},
     "output_type": "execute_result"
    }
   ],
   "source": [
    "result = result.T\n",
    "result"
   ]
  },
  {
   "cell_type": "markdown",
   "metadata": {},
   "source": [
    "Для защиты данных пользователей в работе предложено шифрование методом умножения матриц. В качестве ключа, при необходимости получения первоначальной информации, используется  обратимая матрица $P$. Применение алгоритма к данным не влияет на предсказания линейной регрессии, при этом стоит отметить изменение коэффициентов самой модели."
   ]
  }
 ],
 "metadata": {
  "ExecuteTimeLog": [
   {
    "duration": 356,
    "start_time": "2022-05-03T18:09:19.276Z"
   },
   {
    "duration": 17,
    "start_time": "2022-05-03T18:10:09.497Z"
   },
   {
    "duration": 16,
    "start_time": "2022-05-03T18:10:41.844Z"
   },
   {
    "duration": 11,
    "start_time": "2022-05-03T18:18:05.787Z"
   },
   {
    "duration": 22,
    "start_time": "2022-05-03T18:20:14.706Z"
   },
   {
    "duration": 60,
    "start_time": "2022-05-03T18:21:15.604Z"
   },
   {
    "duration": 6,
    "start_time": "2022-05-03T18:23:42.151Z"
   },
   {
    "duration": 8,
    "start_time": "2022-05-03T18:24:04.592Z"
   },
   {
    "duration": 3945,
    "start_time": "2022-05-03T18:24:27.056Z"
   },
   {
    "duration": 1130,
    "start_time": "2022-05-03T18:24:34.799Z"
   },
   {
    "duration": 2820,
    "start_time": "2022-05-03T18:24:41.976Z"
   },
   {
    "duration": 24,
    "start_time": "2022-05-03T18:26:22.377Z"
   },
   {
    "duration": 3937,
    "start_time": "2022-05-03T18:26:30.570Z"
   },
   {
    "duration": 4230,
    "start_time": "2022-05-03T18:26:57.162Z"
   },
   {
    "duration": 6247,
    "start_time": "2022-05-03T18:27:24.706Z"
   },
   {
    "duration": 429,
    "start_time": "2022-05-03T18:30:03.395Z"
   },
   {
    "duration": 4008,
    "start_time": "2022-05-03T18:31:04.660Z"
   },
   {
    "duration": 267,
    "start_time": "2022-05-03T18:31:47.390Z"
   },
   {
    "duration": 88,
    "start_time": "2022-05-03T18:33:40.646Z"
   },
   {
    "duration": 10,
    "start_time": "2022-05-03T18:34:54.024Z"
   },
   {
    "duration": 6,
    "start_time": "2022-05-03T18:35:32.177Z"
   },
   {
    "duration": 4,
    "start_time": "2022-05-03T18:35:44.658Z"
   },
   {
    "duration": 1729,
    "start_time": "2022-05-04T04:31:33.906Z"
   },
   {
    "duration": 91408,
    "start_time": "2022-05-04T04:31:42.465Z"
   },
   {
    "duration": 1562,
    "start_time": "2022-05-04T04:33:13.877Z"
   },
   {
    "duration": 16,
    "start_time": "2022-05-04T04:33:15.443Z"
   },
   {
    "duration": 38,
    "start_time": "2022-05-04T04:33:15.463Z"
   },
   {
    "duration": 11,
    "start_time": "2022-05-04T04:33:15.502Z"
   },
   {
    "duration": 20,
    "start_time": "2022-05-04T04:33:15.514Z"
   },
   {
    "duration": 3208,
    "start_time": "2022-05-04T04:33:15.536Z"
   },
   {
    "duration": 355,
    "start_time": "2022-05-04T04:33:18.746Z"
   },
   {
    "duration": 6,
    "start_time": "2022-05-04T04:33:19.103Z"
   },
   {
    "duration": 10,
    "start_time": "2022-05-04T04:33:19.110Z"
   },
   {
    "duration": 7,
    "start_time": "2022-05-04T04:33:19.121Z"
   },
   {
    "duration": 88,
    "start_time": "2022-05-04T04:35:32.791Z"
   },
   {
    "duration": 270,
    "start_time": "2022-05-04T04:36:03.688Z"
   },
   {
    "duration": 126,
    "start_time": "2022-05-04T04:36:39.498Z"
   },
   {
    "duration": 14,
    "start_time": "2022-05-04T04:36:59.276Z"
   },
   {
    "duration": 129,
    "start_time": "2022-05-04T04:37:12.966Z"
   },
   {
    "duration": 9,
    "start_time": "2022-05-04T04:38:29.299Z"
   },
   {
    "duration": 3,
    "start_time": "2022-05-04T04:38:37.099Z"
   },
   {
    "duration": 4,
    "start_time": "2022-05-04T04:38:43.419Z"
   },
   {
    "duration": 4,
    "start_time": "2022-05-04T04:39:43.074Z"
   },
   {
    "duration": 4,
    "start_time": "2022-05-04T04:39:45.581Z"
   },
   {
    "duration": 4,
    "start_time": "2022-05-04T04:42:15.472Z"
   },
   {
    "duration": 6,
    "start_time": "2022-05-04T04:42:20.770Z"
   },
   {
    "duration": 8,
    "start_time": "2022-05-04T04:43:17.292Z"
   },
   {
    "duration": 4,
    "start_time": "2022-05-04T04:43:21.480Z"
   },
   {
    "duration": 17,
    "start_time": "2022-05-04T04:47:22.247Z"
   },
   {
    "duration": 138,
    "start_time": "2022-05-04T04:47:28.104Z"
   },
   {
    "duration": 147,
    "start_time": "2022-05-04T04:49:34.356Z"
   },
   {
    "duration": 722,
    "start_time": "2022-05-04T04:49:46.713Z"
   },
   {
    "duration": 23689,
    "start_time": "2022-05-04T04:49:48.825Z"
   },
   {
    "duration": 181,
    "start_time": "2022-05-04T04:50:27.338Z"
   },
   {
    "duration": 1963,
    "start_time": "2022-05-04T04:59:08.164Z"
   },
   {
    "duration": 1837,
    "start_time": "2022-05-04T05:00:07.160Z"
   },
   {
    "duration": 12034,
    "start_time": "2022-05-04T05:00:28.087Z"
   },
   {
    "duration": 11358,
    "start_time": "2022-05-04T05:02:18.873Z"
   },
   {
    "duration": 11660,
    "start_time": "2022-05-04T05:02:56.377Z"
   },
   {
    "duration": 25,
    "start_time": "2022-05-04T05:09:10.284Z"
   },
   {
    "duration": 1769,
    "start_time": "2022-05-04T05:10:28.355Z"
   },
   {
    "duration": 44,
    "start_time": "2022-05-04T05:10:33.542Z"
   },
   {
    "duration": 3133,
    "start_time": "2022-05-04T05:11:26.538Z"
   },
   {
    "duration": 3,
    "start_time": "2022-05-04T05:11:31.979Z"
   },
   {
    "duration": 5372,
    "start_time": "2022-05-04T05:12:04.027Z"
   },
   {
    "duration": 3,
    "start_time": "2022-05-04T05:12:11.387Z"
   },
   {
    "duration": 47,
    "start_time": "2022-05-04T05:13:31.747Z"
   },
   {
    "duration": 1640,
    "start_time": "2022-05-04T05:13:42.307Z"
   },
   {
    "duration": 12,
    "start_time": "2022-05-04T05:13:46.215Z"
   },
   {
    "duration": 628,
    "start_time": "2022-05-04T05:13:48.855Z"
   },
   {
    "duration": 3202,
    "start_time": "2022-05-04T05:14:19.239Z"
   },
   {
    "duration": 7682,
    "start_time": "2022-05-04T05:14:31.423Z"
   },
   {
    "duration": 17,
    "start_time": "2022-05-04T05:49:40.662Z"
   },
   {
    "duration": 10,
    "start_time": "2022-05-04T05:49:42.674Z"
   },
   {
    "duration": 10,
    "start_time": "2022-05-04T05:50:20.938Z"
   },
   {
    "duration": 14,
    "start_time": "2022-05-04T05:51:02.306Z"
   },
   {
    "duration": 10,
    "start_time": "2022-05-04T05:51:07.323Z"
   },
   {
    "duration": 4,
    "start_time": "2022-05-04T05:53:23.989Z"
   },
   {
    "duration": 14,
    "start_time": "2022-05-04T05:53:25.845Z"
   },
   {
    "duration": 1844,
    "start_time": "2022-05-04T05:53:46.414Z"
   },
   {
    "duration": 5,
    "start_time": "2022-05-04T05:54:37.502Z"
   },
   {
    "duration": 11,
    "start_time": "2022-05-04T05:54:40.046Z"
   },
   {
    "duration": 3396,
    "start_time": "2022-05-04T05:55:13.679Z"
   },
   {
    "duration": 8284,
    "start_time": "2022-05-04T05:55:27.222Z"
   },
   {
    "duration": 4,
    "start_time": "2022-05-04T05:55:56.375Z"
   },
   {
    "duration": 10,
    "start_time": "2022-05-04T05:55:58.343Z"
   },
   {
    "duration": 3343,
    "start_time": "2022-05-04T05:56:04.735Z"
   },
   {
    "duration": 8794,
    "start_time": "2022-05-04T05:56:09.712Z"
   },
   {
    "duration": 4,
    "start_time": "2022-05-04T05:56:32.463Z"
   },
   {
    "duration": 3241,
    "start_time": "2022-05-04T05:56:51.712Z"
   },
   {
    "duration": 4,
    "start_time": "2022-05-04T05:56:56.927Z"
   },
   {
    "duration": 5869,
    "start_time": "2022-05-04T05:57:06.599Z"
   },
   {
    "duration": 5,
    "start_time": "2022-05-04T05:57:14.848Z"
   },
   {
    "duration": 11941,
    "start_time": "2022-05-04T05:57:22.112Z"
   },
   {
    "duration": 16,
    "start_time": "2022-05-04T05:59:38.226Z"
   },
   {
    "duration": 661,
    "start_time": "2022-05-04T05:59:59.090Z"
   },
   {
    "duration": 20500,
    "start_time": "2022-05-04T06:00:17.394Z"
   },
   {
    "duration": 5,
    "start_time": "2022-05-04T06:03:19.300Z"
   },
   {
    "duration": 10,
    "start_time": "2022-05-04T06:03:20.516Z"
   },
   {
    "duration": 7,
    "start_time": "2022-05-04T06:04:05.165Z"
   },
   {
    "duration": 11,
    "start_time": "2022-05-04T06:04:06.016Z"
   },
   {
    "duration": 18330,
    "start_time": "2022-05-04T06:04:36.182Z"
   },
   {
    "duration": 3,
    "start_time": "2022-05-04T06:05:00.574Z"
   },
   {
    "duration": 1563,
    "start_time": "2022-05-04T06:57:52.541Z"
   },
   {
    "duration": 30,
    "start_time": "2022-05-04T06:57:57.741Z"
   },
   {
    "duration": 849,
    "start_time": "2022-05-04T06:58:09.479Z"
   },
   {
    "duration": 24412,
    "start_time": "2022-05-04T06:58:26.277Z"
   },
   {
    "duration": 8,
    "start_time": "2022-05-04T06:58:52.959Z"
   },
   {
    "duration": 16,
    "start_time": "2022-05-04T06:59:51.543Z"
   },
   {
    "duration": 12,
    "start_time": "2022-05-04T06:59:53.166Z"
   },
   {
    "duration": 796,
    "start_time": "2022-05-04T06:59:53.496Z"
   },
   {
    "duration": 304,
    "start_time": "2022-05-04T07:00:01.645Z"
   },
   {
    "duration": 4,
    "start_time": "2022-05-04T07:00:04.105Z"
   },
   {
    "duration": 4,
    "start_time": "2022-05-04T07:01:02.370Z"
   },
   {
    "duration": 2,
    "start_time": "2022-05-04T07:01:13.315Z"
   },
   {
    "duration": 4,
    "start_time": "2022-05-04T07:01:28.835Z"
   },
   {
    "duration": 145,
    "start_time": "2022-05-04T07:01:47.975Z"
   },
   {
    "duration": 5,
    "start_time": "2022-05-04T07:04:08.335Z"
   },
   {
    "duration": 120,
    "start_time": "2022-05-04T07:04:24.327Z"
   },
   {
    "duration": 4,
    "start_time": "2022-05-04T07:04:25.598Z"
   },
   {
    "duration": 3,
    "start_time": "2022-05-04T07:04:29.206Z"
   },
   {
    "duration": 5,
    "start_time": "2022-05-04T07:04:29.910Z"
   },
   {
    "duration": 146,
    "start_time": "2022-05-04T07:09:54.716Z"
   },
   {
    "duration": 28992,
    "start_time": "2022-05-04T07:10:00.965Z"
   },
   {
    "duration": 4,
    "start_time": "2022-05-04T07:10:34.295Z"
   },
   {
    "duration": 179,
    "start_time": "2022-05-04T07:11:09.581Z"
   },
   {
    "duration": 4,
    "start_time": "2022-05-04T07:11:10.478Z"
   },
   {
    "duration": 3,
    "start_time": "2022-05-04T07:11:28.143Z"
   },
   {
    "duration": 96,
    "start_time": "2022-05-04T07:11:33.656Z"
   },
   {
    "duration": 130,
    "start_time": "2022-05-04T07:11:56.174Z"
   },
   {
    "duration": 10,
    "start_time": "2022-05-04T07:13:43.017Z"
   },
   {
    "duration": 4,
    "start_time": "2022-05-04T07:13:54.625Z"
   },
   {
    "duration": 5,
    "start_time": "2022-05-04T07:14:10.955Z"
   },
   {
    "duration": 6,
    "start_time": "2022-05-04T07:45:29.997Z"
   },
   {
    "duration": 27765,
    "start_time": "2022-05-04T07:45:37.092Z"
   },
   {
    "duration": 6,
    "start_time": "2022-05-04T07:46:07.013Z"
   },
   {
    "duration": 145,
    "start_time": "2022-05-04T07:46:17.709Z"
   },
   {
    "duration": 8,
    "start_time": "2022-05-04T07:46:58.245Z"
   },
   {
    "duration": 4,
    "start_time": "2022-05-04T07:47:01.878Z"
   },
   {
    "duration": 318,
    "start_time": "2022-05-04T07:47:07.031Z"
   },
   {
    "duration": 705,
    "start_time": "2022-05-04T08:32:31.294Z"
   },
   {
    "duration": 189,
    "start_time": "2022-05-04T08:32:32.765Z"
   },
   {
    "duration": 13,
    "start_time": "2022-05-04T08:32:45.981Z"
   },
   {
    "duration": 23,
    "start_time": "2022-05-04T08:34:37.414Z"
   },
   {
    "duration": 119,
    "start_time": "2022-05-04T08:35:11.545Z"
   },
   {
    "duration": 8,
    "start_time": "2022-05-04T08:35:30.467Z"
   },
   {
    "duration": 11,
    "start_time": "2022-05-04T08:35:46.143Z"
   },
   {
    "duration": 13,
    "start_time": "2022-05-04T08:35:46.919Z"
   },
   {
    "duration": 856,
    "start_time": "2022-05-04T08:35:52.864Z"
   },
   {
    "duration": 124,
    "start_time": "2022-05-04T08:35:54.838Z"
   },
   {
    "duration": 11,
    "start_time": "2022-05-04T08:36:00.632Z"
   },
   {
    "duration": 9,
    "start_time": "2022-05-04T08:36:01.227Z"
   },
   {
    "duration": 63,
    "start_time": "2022-05-04T08:37:07.088Z"
   },
   {
    "duration": 25852,
    "start_time": "2022-05-04T08:37:34.114Z"
   },
   {
    "duration": 47538,
    "start_time": "2022-05-04T08:38:26.520Z"
   },
   {
    "duration": 113,
    "start_time": "2022-05-04T08:52:23.200Z"
   },
   {
    "duration": 21,
    "start_time": "2022-05-04T09:39:36.740Z"
   },
   {
    "duration": 10,
    "start_time": "2022-05-04T09:39:51.452Z"
   },
   {
    "duration": 10,
    "start_time": "2022-05-04T09:39:56.373Z"
   },
   {
    "duration": 5,
    "start_time": "2022-05-04T09:43:26.095Z"
   },
   {
    "duration": 8,
    "start_time": "2022-05-04T09:43:56.727Z"
   },
   {
    "duration": 7,
    "start_time": "2022-05-04T09:47:32.761Z"
   },
   {
    "duration": 5,
    "start_time": "2022-05-04T09:48:32.642Z"
   },
   {
    "duration": 5,
    "start_time": "2022-05-04T09:48:52.852Z"
   },
   {
    "duration": 5,
    "start_time": "2022-05-04T09:49:08.963Z"
   },
   {
    "duration": 14,
    "start_time": "2022-05-04T10:53:33.522Z"
   },
   {
    "duration": 5,
    "start_time": "2022-05-04T10:53:43.127Z"
   },
   {
    "duration": 8,
    "start_time": "2022-05-04T10:53:49.041Z"
   },
   {
    "duration": 4,
    "start_time": "2022-05-04T11:35:20.683Z"
   },
   {
    "duration": 9,
    "start_time": "2022-05-04T11:35:23.123Z"
   },
   {
    "duration": 605,
    "start_time": "2022-05-04T11:35:52.427Z"
   },
   {
    "duration": 4,
    "start_time": "2022-05-04T11:35:55.234Z"
   },
   {
    "duration": 633,
    "start_time": "2022-05-04T11:35:55.738Z"
   },
   {
    "duration": 8,
    "start_time": "2022-05-04T11:35:56.373Z"
   },
   {
    "duration": 4,
    "start_time": "2022-05-04T11:40:07.103Z"
   },
   {
    "duration": 607,
    "start_time": "2022-05-04T11:40:07.766Z"
   },
   {
    "duration": 8,
    "start_time": "2022-05-04T11:40:08.590Z"
   },
   {
    "duration": 135,
    "start_time": "2022-05-04T11:40:09.318Z"
   },
   {
    "duration": 47,
    "start_time": "2022-05-04T11:41:35.808Z"
   },
   {
    "duration": 879,
    "start_time": "2022-05-04T11:41:37.231Z"
   },
   {
    "duration": 39,
    "start_time": "2022-05-04T11:41:38.112Z"
   },
   {
    "duration": 215,
    "start_time": "2022-05-04T11:41:39.832Z"
   },
   {
    "duration": 183,
    "start_time": "2022-05-04T11:45:17.683Z"
   },
   {
    "duration": 187,
    "start_time": "2022-05-04T11:45:42.964Z"
   },
   {
    "duration": 21490,
    "start_time": "2022-05-04T11:45:55.667Z"
   },
   {
    "duration": 22533,
    "start_time": "2022-05-04T11:48:15.621Z"
   },
   {
    "duration": 866,
    "start_time": "2022-05-04T11:55:28.291Z"
   },
   {
    "duration": 9,
    "start_time": "2022-05-04T11:55:35.730Z"
   },
   {
    "duration": 134,
    "start_time": "2022-05-04T11:56:23.621Z"
   },
   {
    "duration": 26,
    "start_time": "2022-05-04T11:56:39.731Z"
   },
   {
    "duration": 77,
    "start_time": "2022-05-04T11:56:59.971Z"
   },
   {
    "duration": 30,
    "start_time": "2022-05-04T12:02:10.230Z"
   },
   {
    "duration": 957,
    "start_time": "2022-05-04T12:02:26.496Z"
   },
   {
    "duration": 31,
    "start_time": "2022-05-04T12:02:29.024Z"
   },
   {
    "duration": 45,
    "start_time": "2022-05-04T12:03:08.439Z"
   },
   {
    "duration": 12,
    "start_time": "2022-05-04T12:03:17.983Z"
   },
   {
    "duration": 8,
    "start_time": "2022-05-04T12:03:24.622Z"
   },
   {
    "duration": 958,
    "start_time": "2022-05-04T12:03:32.394Z"
   },
   {
    "duration": 133,
    "start_time": "2022-05-04T12:03:36.919Z"
   },
   {
    "duration": 8,
    "start_time": "2022-05-04T12:04:51.448Z"
   },
   {
    "duration": 4,
    "start_time": "2022-05-04T12:04:52.024Z"
   },
   {
    "duration": 844,
    "start_time": "2022-05-04T12:07:15.410Z"
   },
   {
    "duration": 22,
    "start_time": "2022-05-04T12:07:20.241Z"
   },
   {
    "duration": 8,
    "start_time": "2022-05-04T12:20:47.637Z"
   },
   {
    "duration": 4,
    "start_time": "2022-05-04T12:29:07.474Z"
   },
   {
    "duration": 30037,
    "start_time": "2022-05-04T12:32:14.927Z"
   },
   {
    "duration": 24877,
    "start_time": "2022-05-04T12:32:51.581Z"
   },
   {
    "duration": 27869,
    "start_time": "2022-05-04T12:47:30.154Z"
   },
   {
    "duration": 158,
    "start_time": "2022-05-04T12:48:03.299Z"
   },
   {
    "duration": 5,
    "start_time": "2022-05-04T12:48:05.611Z"
   },
   {
    "duration": 4,
    "start_time": "2022-05-04T12:48:06.468Z"
   },
   {
    "duration": 17,
    "start_time": "2022-05-04T12:48:23.041Z"
   },
   {
    "duration": 151,
    "start_time": "2022-05-04T12:48:30.868Z"
   },
   {
    "duration": 29561,
    "start_time": "2022-05-04T12:48:45.388Z"
   },
   {
    "duration": 131,
    "start_time": "2022-05-04T12:49:21.029Z"
   },
   {
    "duration": 4,
    "start_time": "2022-05-04T12:49:46.997Z"
   },
   {
    "duration": 4,
    "start_time": "2022-05-04T12:49:47.710Z"
   },
   {
    "duration": 5,
    "start_time": "2022-05-04T13:04:21.376Z"
   },
   {
    "duration": 9,
    "start_time": "2022-05-04T13:45:34.415Z"
   },
   {
    "duration": 31,
    "start_time": "2022-05-04T13:45:36.479Z"
   },
   {
    "duration": 8,
    "start_time": "2022-05-04T13:46:33.233Z"
   },
   {
    "duration": 159,
    "start_time": "2022-05-04T13:50:01.939Z"
   },
   {
    "duration": 157,
    "start_time": "2022-05-04T13:50:50.627Z"
   },
   {
    "duration": 97,
    "start_time": "2022-05-04T13:51:30.692Z"
   },
   {
    "duration": 3,
    "start_time": "2022-05-04T13:52:30.631Z"
   },
   {
    "duration": 72,
    "start_time": "2022-05-04T13:54:20.590Z"
   },
   {
    "duration": 178,
    "start_time": "2022-05-04T13:54:30.686Z"
   },
   {
    "duration": 111,
    "start_time": "2022-05-04T13:59:25.842Z"
   },
   {
    "duration": 108,
    "start_time": "2022-05-04T14:00:01.179Z"
   },
   {
    "duration": 26852,
    "start_time": "2022-05-04T14:05:07.127Z"
   },
   {
    "duration": 3,
    "start_time": "2022-05-04T14:12:34.173Z"
   },
   {
    "duration": 30847,
    "start_time": "2022-05-04T14:12:34.613Z"
   },
   {
    "duration": 191,
    "start_time": "2022-05-04T14:13:05.462Z"
   },
   {
    "duration": 92,
    "start_time": "2022-05-04T14:13:05.656Z"
   },
   {
    "duration": 235,
    "start_time": "2022-05-04T14:13:05.751Z"
   },
   {
    "duration": 108,
    "start_time": "2022-05-04T14:13:05.988Z"
   },
   {
    "duration": 6,
    "start_time": "2022-05-04T14:13:43.775Z"
   },
   {
    "duration": 106,
    "start_time": "2022-05-04T14:13:45.373Z"
   },
   {
    "duration": 103,
    "start_time": "2022-05-04T14:13:47.502Z"
   },
   {
    "duration": 89,
    "start_time": "2022-05-04T14:14:12.151Z"
   },
   {
    "duration": 107,
    "start_time": "2022-05-04T14:14:20.669Z"
   },
   {
    "duration": 6,
    "start_time": "2022-05-04T14:14:40.111Z"
   },
   {
    "duration": 72,
    "start_time": "2022-05-04T14:15:07.374Z"
   },
   {
    "duration": 96,
    "start_time": "2022-05-04T14:15:27.951Z"
   },
   {
    "duration": 6,
    "start_time": "2022-05-04T14:17:28.080Z"
   },
   {
    "duration": 73,
    "start_time": "2022-05-04T14:17:43.272Z"
   },
   {
    "duration": 105,
    "start_time": "2022-05-04T14:17:54.913Z"
   },
   {
    "duration": 148,
    "start_time": "2022-05-04T14:18:31.209Z"
   },
   {
    "duration": 8,
    "start_time": "2022-05-04T14:18:33.945Z"
   },
   {
    "duration": 179,
    "start_time": "2022-05-04T14:18:35.137Z"
   },
   {
    "duration": 151,
    "start_time": "2022-05-04T14:18:38.842Z"
   },
   {
    "duration": 6,
    "start_time": "2022-05-04T14:18:42.881Z"
   },
   {
    "duration": 106,
    "start_time": "2022-05-04T14:18:43.985Z"
   },
   {
    "duration": 108,
    "start_time": "2022-05-04T14:18:46.409Z"
   },
   {
    "duration": 25343,
    "start_time": "2022-05-04T14:19:46.874Z"
   },
   {
    "duration": 29407,
    "start_time": "2022-05-04T14:22:04.267Z"
   },
   {
    "duration": 98,
    "start_time": "2022-05-04T14:22:46.189Z"
   },
   {
    "duration": 117,
    "start_time": "2022-05-04T14:23:08.265Z"
   },
   {
    "duration": 6,
    "start_time": "2022-05-04T14:48:21.832Z"
   },
   {
    "duration": 7,
    "start_time": "2022-05-04T14:53:27.756Z"
   },
   {
    "duration": 9,
    "start_time": "2022-05-04T14:53:30.829Z"
   },
   {
    "duration": 10,
    "start_time": "2022-05-04T14:53:49.564Z"
   },
   {
    "duration": 4,
    "start_time": "2022-05-04T14:54:27.068Z"
   },
   {
    "duration": 5,
    "start_time": "2022-05-04T14:54:37.309Z"
   },
   {
    "duration": 129,
    "start_time": "2022-05-04T14:54:37.877Z"
   },
   {
    "duration": 113,
    "start_time": "2022-05-04T14:54:49.790Z"
   },
   {
    "duration": 109,
    "start_time": "2022-05-04T14:55:33.702Z"
   },
   {
    "duration": 17,
    "start_time": "2022-05-04T14:56:52.446Z"
   },
   {
    "duration": 16,
    "start_time": "2022-05-04T14:57:11.848Z"
   },
   {
    "duration": 8,
    "start_time": "2022-05-04T14:57:33.641Z"
   },
   {
    "duration": 10,
    "start_time": "2022-05-04T14:57:58.608Z"
   },
   {
    "duration": 10,
    "start_time": "2022-05-04T14:58:40.128Z"
   },
   {
    "duration": 9,
    "start_time": "2022-05-04T14:58:56.569Z"
   },
   {
    "duration": 104,
    "start_time": "2022-05-04T15:01:15.331Z"
   },
   {
    "duration": 6,
    "start_time": "2022-05-04T15:02:13.363Z"
   },
   {
    "duration": 8,
    "start_time": "2022-05-04T15:02:53.020Z"
   },
   {
    "duration": 96,
    "start_time": "2022-05-04T15:03:05.060Z"
   },
   {
    "duration": 2,
    "start_time": "2022-05-04T15:05:56.799Z"
   },
   {
    "duration": 97,
    "start_time": "2022-05-04T15:06:41.711Z"
   },
   {
    "duration": 6,
    "start_time": "2022-05-04T15:08:17.224Z"
   },
   {
    "duration": 17,
    "start_time": "2022-05-04T15:08:29.953Z"
   },
   {
    "duration": 187,
    "start_time": "2022-05-04T15:08:39.144Z"
   },
   {
    "duration": 29460,
    "start_time": "2022-05-04T15:11:13.106Z"
   },
   {
    "duration": 28949,
    "start_time": "2022-05-04T15:12:09.916Z"
   },
   {
    "duration": 106,
    "start_time": "2022-05-04T16:58:09.645Z"
   },
   {
    "duration": 101,
    "start_time": "2022-05-04T16:58:18.409Z"
   },
   {
    "duration": 16,
    "start_time": "2022-05-04T16:58:41.534Z"
   },
   {
    "duration": 25789,
    "start_time": "2022-05-04T16:58:51.362Z"
   },
   {
    "duration": 28740,
    "start_time": "2022-05-04T17:01:05.961Z"
   },
   {
    "duration": 24154,
    "start_time": "2022-05-04T17:06:20.996Z"
   },
   {
    "duration": 30326,
    "start_time": "2022-05-04T17:11:24.944Z"
   },
   {
    "duration": 26399,
    "start_time": "2022-05-04T17:12:51.889Z"
   },
   {
    "duration": 25367,
    "start_time": "2022-05-04T17:15:25.838Z"
   },
   {
    "duration": 26500,
    "start_time": "2022-05-04T17:16:12.064Z"
   },
   {
    "duration": 590,
    "start_time": "2022-05-04T17:20:10.775Z"
   },
   {
    "duration": 18888,
    "start_time": "2022-05-04T17:20:19.703Z"
   },
   {
    "duration": 18761,
    "start_time": "2022-05-04T17:23:27.757Z"
   },
   {
    "duration": 87,
    "start_time": "2022-05-04T17:24:08.066Z"
   },
   {
    "duration": 6,
    "start_time": "2022-05-04T17:24:22.322Z"
   },
   {
    "duration": 102,
    "start_time": "2022-05-04T17:26:50.396Z"
   },
   {
    "duration": 17,
    "start_time": "2022-05-04T17:27:03.708Z"
   },
   {
    "duration": 18827,
    "start_time": "2022-05-04T17:30:47.759Z"
   },
   {
    "duration": 4,
    "start_time": "2022-05-04T17:31:26.888Z"
   },
   {
    "duration": 6,
    "start_time": "2022-05-04T17:31:31.056Z"
   },
   {
    "duration": 3,
    "start_time": "2022-05-04T17:31:41.753Z"
   },
   {
    "duration": 8,
    "start_time": "2022-05-04T17:31:48.785Z"
   },
   {
    "duration": 4,
    "start_time": "2022-05-04T17:31:59.288Z"
   },
   {
    "duration": 5,
    "start_time": "2022-05-04T17:32:02.071Z"
   },
   {
    "duration": 4,
    "start_time": "2022-05-04T17:32:33.977Z"
   },
   {
    "duration": 6,
    "start_time": "2022-05-04T17:32:35.697Z"
   },
   {
    "duration": 9,
    "start_time": "2022-05-04T17:33:51.434Z"
   },
   {
    "duration": 10,
    "start_time": "2022-05-04T17:34:11.619Z"
   },
   {
    "duration": 7,
    "start_time": "2022-05-04T17:34:26.475Z"
   },
   {
    "duration": 20855,
    "start_time": "2022-05-04T17:34:41.706Z"
   },
   {
    "duration": 7,
    "start_time": "2022-05-04T17:35:54.906Z"
   },
   {
    "duration": 6,
    "start_time": "2022-05-04T17:37:00.501Z"
   },
   {
    "duration": 7,
    "start_time": "2022-05-04T17:37:50.533Z"
   },
   {
    "duration": 8,
    "start_time": "2022-05-04T17:39:15.128Z"
   },
   {
    "duration": 18719,
    "start_time": "2022-05-04T17:39:18.214Z"
   },
   {
    "duration": 6,
    "start_time": "2022-05-04T17:39:49.134Z"
   },
   {
    "duration": 6,
    "start_time": "2022-05-04T17:39:57.623Z"
   },
   {
    "duration": 7,
    "start_time": "2022-05-04T17:40:04.503Z"
   },
   {
    "duration": 8,
    "start_time": "2022-05-04T17:40:19.111Z"
   },
   {
    "duration": 6,
    "start_time": "2022-05-04T17:40:21.199Z"
   },
   {
    "duration": 19689,
    "start_time": "2022-05-04T17:41:38.079Z"
   },
   {
    "duration": 91213,
    "start_time": "2022-05-04T17:45:34.963Z"
   },
   {
    "duration": 1401,
    "start_time": "2022-05-04T17:47:06.178Z"
   },
   {
    "duration": 12,
    "start_time": "2022-05-04T17:47:07.581Z"
   },
   {
    "duration": 11,
    "start_time": "2022-05-04T17:47:07.595Z"
   },
   {
    "duration": 10,
    "start_time": "2022-05-04T17:47:07.608Z"
   },
   {
    "duration": 41,
    "start_time": "2022-05-04T17:47:07.620Z"
   },
   {
    "duration": 5,
    "start_time": "2022-05-04T17:47:07.663Z"
   },
   {
    "duration": 110,
    "start_time": "2022-05-04T17:47:07.670Z"
   },
   {
    "duration": 0,
    "start_time": "2022-05-04T17:47:07.782Z"
   },
   {
    "duration": 0,
    "start_time": "2022-05-04T17:47:07.783Z"
   },
   {
    "duration": 0,
    "start_time": "2022-05-04T17:47:07.784Z"
   },
   {
    "duration": 0,
    "start_time": "2022-05-04T17:47:07.786Z"
   },
   {
    "duration": 0,
    "start_time": "2022-05-04T17:47:07.787Z"
   },
   {
    "duration": 0,
    "start_time": "2022-05-04T17:47:07.788Z"
   },
   {
    "duration": 0,
    "start_time": "2022-05-04T17:47:07.789Z"
   },
   {
    "duration": 0,
    "start_time": "2022-05-04T17:47:07.790Z"
   },
   {
    "duration": 0,
    "start_time": "2022-05-04T17:47:07.791Z"
   },
   {
    "duration": 0,
    "start_time": "2022-05-04T17:47:07.792Z"
   },
   {
    "duration": 0,
    "start_time": "2022-05-04T17:47:07.793Z"
   },
   {
    "duration": 0,
    "start_time": "2022-05-04T17:47:07.794Z"
   },
   {
    "duration": 0,
    "start_time": "2022-05-04T17:47:07.795Z"
   },
   {
    "duration": 0,
    "start_time": "2022-05-04T17:47:07.796Z"
   },
   {
    "duration": 105559,
    "start_time": "2022-05-04T17:51:18.232Z"
   },
   {
    "duration": 1534,
    "start_time": "2022-05-04T17:53:03.793Z"
   },
   {
    "duration": 12,
    "start_time": "2022-05-04T17:53:05.329Z"
   },
   {
    "duration": 20,
    "start_time": "2022-05-04T17:53:05.343Z"
   },
   {
    "duration": 21,
    "start_time": "2022-05-04T17:53:05.365Z"
   },
   {
    "duration": 24,
    "start_time": "2022-05-04T17:53:05.388Z"
   },
   {
    "duration": 6,
    "start_time": "2022-05-04T17:53:05.414Z"
   },
   {
    "duration": 3498,
    "start_time": "2022-05-04T17:53:05.421Z"
   },
   {
    "duration": 287,
    "start_time": "2022-05-04T17:53:08.921Z"
   },
   {
    "duration": 5,
    "start_time": "2022-05-04T17:53:09.213Z"
   },
   {
    "duration": 24685,
    "start_time": "2022-05-04T17:53:09.220Z"
   },
   {
    "duration": 161,
    "start_time": "2022-05-04T17:53:33.907Z"
   },
   {
    "duration": 100,
    "start_time": "2022-05-04T17:53:34.071Z"
   },
   {
    "duration": 154,
    "start_time": "2022-05-04T17:53:34.173Z"
   },
   {
    "duration": 161,
    "start_time": "2022-05-04T17:53:34.329Z"
   },
   {
    "duration": 8,
    "start_time": "2022-05-04T17:53:34.492Z"
   },
   {
    "duration": 208,
    "start_time": "2022-05-04T17:53:34.502Z"
   },
   {
    "duration": 122,
    "start_time": "2022-05-04T17:53:34.711Z"
   },
   {
    "duration": 127,
    "start_time": "2022-05-04T17:53:34.835Z"
   },
   {
    "duration": 0,
    "start_time": "2022-05-04T17:53:34.965Z"
   },
   {
    "duration": 0,
    "start_time": "2022-05-04T17:53:34.966Z"
   },
   {
    "duration": 0,
    "start_time": "2022-05-04T17:53:34.967Z"
   },
   {
    "duration": 24788,
    "start_time": "2022-05-04T17:55:20.961Z"
   },
   {
    "duration": 161,
    "start_time": "2022-05-04T17:55:45.752Z"
   },
   {
    "duration": 118,
    "start_time": "2022-05-04T17:55:45.915Z"
   },
   {
    "duration": 13,
    "start_time": "2022-05-04T17:55:46.035Z"
   },
   {
    "duration": 13,
    "start_time": "2022-05-04T17:57:14.642Z"
   },
   {
    "duration": 106659,
    "start_time": "2022-05-04T18:24:52.206Z"
   },
   {
    "duration": 1409,
    "start_time": "2022-05-04T18:26:38.867Z"
   },
   {
    "duration": 12,
    "start_time": "2022-05-04T18:26:40.277Z"
   },
   {
    "duration": 12,
    "start_time": "2022-05-04T18:26:40.291Z"
   },
   {
    "duration": 19,
    "start_time": "2022-05-04T18:26:40.304Z"
   },
   {
    "duration": 34,
    "start_time": "2022-05-04T18:26:40.324Z"
   },
   {
    "duration": 5,
    "start_time": "2022-05-04T18:26:40.360Z"
   },
   {
    "duration": 2984,
    "start_time": "2022-05-04T18:26:40.367Z"
   },
   {
    "duration": 311,
    "start_time": "2022-05-04T18:26:43.352Z"
   },
   {
    "duration": 4,
    "start_time": "2022-05-04T18:26:43.666Z"
   },
   {
    "duration": 24797,
    "start_time": "2022-05-04T18:26:43.671Z"
   },
   {
    "duration": 181,
    "start_time": "2022-05-04T18:27:08.469Z"
   },
   {
    "duration": 97,
    "start_time": "2022-05-04T18:27:08.652Z"
   },
   {
    "duration": 156,
    "start_time": "2022-05-04T18:27:08.751Z"
   },
   {
    "duration": 134,
    "start_time": "2022-05-04T18:27:08.909Z"
   },
   {
    "duration": 8,
    "start_time": "2022-05-04T18:27:09.044Z"
   },
   {
    "duration": 192,
    "start_time": "2022-05-04T18:27:09.053Z"
   },
   {
    "duration": 112,
    "start_time": "2022-05-04T18:27:09.247Z"
   },
   {
    "duration": 24387,
    "start_time": "2022-05-04T18:27:09.361Z"
   },
   {
    "duration": 154,
    "start_time": "2022-05-04T18:27:33.750Z"
   },
   {
    "duration": 107,
    "start_time": "2022-05-04T18:27:33.905Z"
   },
   {
    "duration": 9,
    "start_time": "2022-05-04T18:27:34.014Z"
   },
   {
    "duration": 8,
    "start_time": "2022-05-04T18:34:44.700Z"
   },
   {
    "duration": 38734,
    "start_time": "2022-05-04T18:39:25.192Z"
   },
   {
    "duration": 3284,
    "start_time": "2022-05-04T18:40:03.929Z"
   },
   {
    "duration": 12,
    "start_time": "2022-05-04T18:40:07.215Z"
   },
   {
    "duration": 19,
    "start_time": "2022-05-04T18:40:07.229Z"
   },
   {
    "duration": 11,
    "start_time": "2022-05-04T18:40:07.250Z"
   },
   {
    "duration": 23,
    "start_time": "2022-05-04T18:40:07.263Z"
   },
   {
    "duration": 6,
    "start_time": "2022-05-04T18:40:07.288Z"
   },
   {
    "duration": 3153,
    "start_time": "2022-05-04T18:40:07.295Z"
   },
   {
    "duration": 340,
    "start_time": "2022-05-04T18:40:10.451Z"
   },
   {
    "duration": 26912,
    "start_time": "2022-05-04T18:40:10.794Z"
   },
   {
    "duration": 0,
    "start_time": "2022-05-04T18:40:37.707Z"
   },
   {
    "duration": 0,
    "start_time": "2022-05-04T18:40:37.709Z"
   },
   {
    "duration": 0,
    "start_time": "2022-05-04T18:40:37.710Z"
   },
   {
    "duration": 0,
    "start_time": "2022-05-04T18:40:37.711Z"
   },
   {
    "duration": 0,
    "start_time": "2022-05-04T18:40:37.712Z"
   },
   {
    "duration": 0,
    "start_time": "2022-05-04T18:40:37.713Z"
   },
   {
    "duration": 0,
    "start_time": "2022-05-04T18:40:37.714Z"
   },
   {
    "duration": 0,
    "start_time": "2022-05-04T18:40:37.716Z"
   },
   {
    "duration": 0,
    "start_time": "2022-05-04T18:40:37.717Z"
   },
   {
    "duration": 0,
    "start_time": "2022-05-04T18:40:37.718Z"
   },
   {
    "duration": 0,
    "start_time": "2022-05-04T18:40:37.719Z"
   },
   {
    "duration": 25268,
    "start_time": "2022-05-04T18:46:11.383Z"
   },
   {
    "duration": 80,
    "start_time": "2022-05-04T18:46:41.278Z"
   },
   {
    "duration": 7,
    "start_time": "2022-05-04T18:46:42.767Z"
   },
   {
    "duration": 91,
    "start_time": "2022-05-04T18:46:43.280Z"
   },
   {
    "duration": 123,
    "start_time": "2022-05-04T18:46:44.760Z"
   },
   {
    "duration": 6,
    "start_time": "2022-05-04T18:46:48.815Z"
   },
   {
    "duration": 184,
    "start_time": "2022-05-04T18:46:49.343Z"
   },
   {
    "duration": 118,
    "start_time": "2022-05-04T18:46:49.839Z"
   },
   {
    "duration": 32453,
    "start_time": "2022-05-04T18:46:52.199Z"
   },
   {
    "duration": 178,
    "start_time": "2022-05-04T18:47:24.655Z"
   },
   {
    "duration": 118,
    "start_time": "2022-05-04T18:47:24.835Z"
   },
   {
    "duration": 4,
    "start_time": "2022-05-04T18:47:24.956Z"
   },
   {
    "duration": 9,
    "start_time": "2022-05-04T18:47:33.448Z"
   },
   {
    "duration": 9,
    "start_time": "2022-05-04T18:47:48.208Z"
   },
   {
    "duration": 105545,
    "start_time": "2022-05-04T18:47:58.727Z"
   },
   {
    "duration": 1465,
    "start_time": "2022-05-04T18:49:44.275Z"
   },
   {
    "duration": 13,
    "start_time": "2022-05-04T18:49:45.742Z"
   },
   {
    "duration": 26,
    "start_time": "2022-05-04T18:49:45.758Z"
   },
   {
    "duration": 11,
    "start_time": "2022-05-04T18:49:45.785Z"
   },
   {
    "duration": 26,
    "start_time": "2022-05-04T18:49:45.799Z"
   },
   {
    "duration": 7,
    "start_time": "2022-05-04T18:49:45.827Z"
   },
   {
    "duration": 3177,
    "start_time": "2022-05-04T18:49:45.836Z"
   },
   {
    "duration": 406,
    "start_time": "2022-05-04T18:49:49.015Z"
   },
   {
    "duration": 29324,
    "start_time": "2022-05-04T18:49:49.424Z"
   },
   {
    "duration": 220,
    "start_time": "2022-05-04T18:50:18.750Z"
   },
   {
    "duration": 88,
    "start_time": "2022-05-04T18:50:18.973Z"
   },
   {
    "duration": 200,
    "start_time": "2022-05-04T18:50:19.063Z"
   },
   {
    "duration": 175,
    "start_time": "2022-05-04T18:50:19.266Z"
   },
   {
    "duration": 11,
    "start_time": "2022-05-04T18:50:19.443Z"
   },
   {
    "duration": 322,
    "start_time": "2022-05-04T18:50:19.456Z"
   },
   {
    "duration": 134,
    "start_time": "2022-05-04T18:50:19.780Z"
   },
   {
    "duration": 28838,
    "start_time": "2022-05-04T18:50:19.916Z"
   },
   {
    "duration": 150,
    "start_time": "2022-05-04T18:50:48.758Z"
   },
   {
    "duration": 140,
    "start_time": "2022-05-04T18:50:48.910Z"
   },
   {
    "duration": 9,
    "start_time": "2022-05-04T18:50:49.052Z"
   },
   {
    "duration": 210,
    "start_time": "2022-05-05T10:19:45.246Z"
   },
   {
    "duration": 1890,
    "start_time": "2022-05-05T10:52:47.769Z"
   },
   {
    "duration": 112,
    "start_time": "2022-05-05T10:53:03.558Z"
   },
   {
    "duration": 16,
    "start_time": "2022-05-05T10:53:20.406Z"
   },
   {
    "duration": 9,
    "start_time": "2022-05-05T11:02:39.910Z"
   },
   {
    "duration": 10,
    "start_time": "2022-05-05T11:02:56.173Z"
   },
   {
    "duration": 15,
    "start_time": "2022-05-05T11:03:02.494Z"
   },
   {
    "duration": 13,
    "start_time": "2022-05-05T11:04:28.807Z"
   },
   {
    "duration": 11,
    "start_time": "2022-05-05T11:04:59.919Z"
   },
   {
    "duration": 5,
    "start_time": "2022-05-05T11:06:12.289Z"
   },
   {
    "duration": 8,
    "start_time": "2022-05-05T11:08:10.745Z"
   },
   {
    "duration": 4,
    "start_time": "2022-05-05T11:08:11.681Z"
   },
   {
    "duration": 5,
    "start_time": "2022-05-05T11:08:15.394Z"
   },
   {
    "duration": 9,
    "start_time": "2022-05-05T11:08:38.010Z"
   },
   {
    "duration": 5,
    "start_time": "2022-05-05T11:09:07.595Z"
   },
   {
    "duration": 11,
    "start_time": "2022-05-05T11:16:36.367Z"
   },
   {
    "duration": 7,
    "start_time": "2022-05-05T11:16:55.945Z"
   },
   {
    "duration": 8,
    "start_time": "2022-05-05T11:16:57.713Z"
   },
   {
    "duration": 6,
    "start_time": "2022-05-05T11:16:59.017Z"
   },
   {
    "duration": 5,
    "start_time": "2022-05-05T11:17:00.129Z"
   },
   {
    "duration": 5,
    "start_time": "2022-05-05T11:22:38.614Z"
   },
   {
    "duration": 5,
    "start_time": "2022-05-05T11:23:50.717Z"
   },
   {
    "duration": 127,
    "start_time": "2022-05-05T11:23:53.278Z"
   },
   {
    "duration": 7,
    "start_time": "2022-05-05T11:23:58.591Z"
   },
   {
    "duration": 6,
    "start_time": "2022-05-05T11:25:04.696Z"
   },
   {
    "duration": 12,
    "start_time": "2022-05-05T12:03:43.261Z"
   },
   {
    "duration": 4,
    "start_time": "2022-05-05T12:17:56.677Z"
   },
   {
    "duration": 142,
    "start_time": "2022-05-05T12:18:13.505Z"
   },
   {
    "duration": 4,
    "start_time": "2022-05-05T12:18:39.807Z"
   },
   {
    "duration": 129,
    "start_time": "2022-05-05T12:18:40.697Z"
   },
   {
    "duration": 165,
    "start_time": "2022-05-05T12:19:36.466Z"
   },
   {
    "duration": 146,
    "start_time": "2022-05-05T12:19:53.682Z"
   },
   {
    "duration": 5,
    "start_time": "2022-05-05T12:20:14.545Z"
   },
   {
    "duration": 4,
    "start_time": "2022-05-05T12:20:36.027Z"
   },
   {
    "duration": 104968,
    "start_time": "2022-05-05T12:35:49.563Z"
   },
   {
    "duration": 1490,
    "start_time": "2022-05-05T12:37:34.534Z"
   },
   {
    "duration": 0,
    "start_time": "2022-05-05T12:37:36.026Z"
   },
   {
    "duration": 0,
    "start_time": "2022-05-05T12:37:36.027Z"
   },
   {
    "duration": 0,
    "start_time": "2022-05-05T12:37:36.028Z"
   },
   {
    "duration": 0,
    "start_time": "2022-05-05T12:37:36.029Z"
   },
   {
    "duration": 0,
    "start_time": "2022-05-05T12:37:36.030Z"
   },
   {
    "duration": 0,
    "start_time": "2022-05-05T12:37:36.031Z"
   },
   {
    "duration": 0,
    "start_time": "2022-05-05T12:37:36.032Z"
   },
   {
    "duration": 0,
    "start_time": "2022-05-05T12:37:36.034Z"
   },
   {
    "duration": 0,
    "start_time": "2022-05-05T12:37:36.035Z"
   },
   {
    "duration": 0,
    "start_time": "2022-05-05T12:37:36.036Z"
   },
   {
    "duration": 0,
    "start_time": "2022-05-05T12:37:36.037Z"
   },
   {
    "duration": 0,
    "start_time": "2022-05-05T12:37:36.038Z"
   },
   {
    "duration": 0,
    "start_time": "2022-05-05T12:37:36.039Z"
   },
   {
    "duration": 0,
    "start_time": "2022-05-05T12:37:36.040Z"
   },
   {
    "duration": 0,
    "start_time": "2022-05-05T12:37:36.041Z"
   },
   {
    "duration": 0,
    "start_time": "2022-05-05T12:37:36.042Z"
   },
   {
    "duration": 0,
    "start_time": "2022-05-05T12:37:36.043Z"
   },
   {
    "duration": 0,
    "start_time": "2022-05-05T12:37:36.044Z"
   },
   {
    "duration": 0,
    "start_time": "2022-05-05T12:37:36.045Z"
   },
   {
    "duration": 99778,
    "start_time": "2022-05-05T12:39:34.876Z"
   },
   {
    "duration": 19,
    "start_time": "2022-05-05T12:42:28.559Z"
   },
   {
    "duration": 479,
    "start_time": "2022-05-05T12:42:31.862Z"
   },
   {
    "duration": 561,
    "start_time": "2022-05-05T12:42:39.390Z"
   },
   {
    "duration": 550,
    "start_time": "2022-05-05T12:42:47.241Z"
   },
   {
    "duration": 497,
    "start_time": "2022-05-05T12:42:57.639Z"
   },
   {
    "duration": 1592,
    "start_time": "2022-05-05T12:43:33.148Z"
   },
   {
    "duration": 14,
    "start_time": "2022-05-05T12:43:34.742Z"
   },
   {
    "duration": 18,
    "start_time": "2022-05-05T12:43:34.758Z"
   },
   {
    "duration": 17,
    "start_time": "2022-05-05T12:43:34.778Z"
   },
   {
    "duration": 34,
    "start_time": "2022-05-05T12:43:34.797Z"
   },
   {
    "duration": 7,
    "start_time": "2022-05-05T12:43:34.833Z"
   },
   {
    "duration": 555,
    "start_time": "2022-05-05T12:43:34.842Z"
   },
   {
    "duration": 290,
    "start_time": "2022-05-05T12:43:35.400Z"
   },
   {
    "duration": 30294,
    "start_time": "2022-05-05T12:43:35.691Z"
   },
   {
    "duration": 34299,
    "start_time": "2022-05-05T12:44:05.987Z"
   },
   {
    "duration": 6,
    "start_time": "2022-05-05T12:44:40.373Z"
   },
   {
    "duration": 172,
    "start_time": "2022-05-05T12:44:40.382Z"
   },
   {
    "duration": 146,
    "start_time": "2022-05-05T12:44:40.556Z"
   },
   {
    "duration": 7,
    "start_time": "2022-05-05T12:44:40.703Z"
   },
   {
    "duration": 307,
    "start_time": "2022-05-05T12:44:40.712Z"
   },
   {
    "duration": 127,
    "start_time": "2022-05-05T12:44:41.022Z"
   },
   {
    "duration": 4,
    "start_time": "2022-05-05T12:44:41.151Z"
   },
   {
    "duration": 83,
    "start_time": "2022-05-05T12:44:41.173Z"
   },
   {
    "duration": 125,
    "start_time": "2022-05-05T12:44:41.257Z"
   },
   {
    "duration": 8,
    "start_time": "2022-05-05T12:44:41.384Z"
   },
   {
    "duration": 14,
    "start_time": "2022-05-05T12:58:49.009Z"
   },
   {
    "duration": 11,
    "start_time": "2022-05-05T12:58:50.855Z"
   },
   {
    "duration": 4,
    "start_time": "2022-05-05T12:59:23.961Z"
   },
   {
    "duration": 10,
    "start_time": "2022-05-05T12:59:45.505Z"
   },
   {
    "duration": 6,
    "start_time": "2022-05-05T13:00:03.609Z"
   },
   {
    "duration": 10,
    "start_time": "2022-05-05T13:00:08.105Z"
   },
   {
    "duration": 5,
    "start_time": "2022-05-05T13:00:19.745Z"
   },
   {
    "duration": 479,
    "start_time": "2022-05-05T13:01:02.945Z"
   },
   {
    "duration": 13,
    "start_time": "2022-05-05T13:01:10.609Z"
   },
   {
    "duration": 294,
    "start_time": "2022-05-05T13:01:13.785Z"
   },
   {
    "duration": 1428,
    "start_time": "2022-05-05T13:02:37.416Z"
   },
   {
    "duration": 13,
    "start_time": "2022-05-05T13:02:38.846Z"
   },
   {
    "duration": 13,
    "start_time": "2022-05-05T13:02:38.861Z"
   },
   {
    "duration": 11,
    "start_time": "2022-05-05T13:02:38.877Z"
   },
   {
    "duration": 25,
    "start_time": "2022-05-05T13:02:38.890Z"
   },
   {
    "duration": 6,
    "start_time": "2022-05-05T13:02:38.917Z"
   },
   {
    "duration": 561,
    "start_time": "2022-05-05T13:02:38.925Z"
   },
   {
    "duration": 296,
    "start_time": "2022-05-05T13:02:39.488Z"
   },
   {
    "duration": 28969,
    "start_time": "2022-05-05T13:02:39.785Z"
   },
   {
    "duration": 30636,
    "start_time": "2022-05-05T13:03:08.756Z"
   },
   {
    "duration": 83,
    "start_time": "2022-05-05T13:03:39.394Z"
   },
   {
    "duration": 101,
    "start_time": "2022-05-05T13:03:39.478Z"
   },
   {
    "duration": 140,
    "start_time": "2022-05-05T13:03:39.581Z"
   },
   {
    "duration": 7,
    "start_time": "2022-05-05T13:03:39.723Z"
   },
   {
    "duration": 307,
    "start_time": "2022-05-05T13:03:39.732Z"
   },
   {
    "duration": 141,
    "start_time": "2022-05-05T13:03:40.042Z"
   },
   {
    "duration": 6,
    "start_time": "2022-05-05T13:03:40.186Z"
   },
   {
    "duration": 103,
    "start_time": "2022-05-05T13:03:40.195Z"
   },
   {
    "duration": 120,
    "start_time": "2022-05-05T13:03:40.300Z"
   },
   {
    "duration": 8,
    "start_time": "2022-05-05T13:03:40.422Z"
   },
   {
    "duration": 1691,
    "start_time": "2022-05-05T13:04:35.565Z"
   },
   {
    "duration": 12,
    "start_time": "2022-05-05T13:04:37.258Z"
   },
   {
    "duration": 12,
    "start_time": "2022-05-05T13:04:37.272Z"
   },
   {
    "duration": 12,
    "start_time": "2022-05-05T13:04:37.286Z"
   },
   {
    "duration": 26,
    "start_time": "2022-05-05T13:04:37.299Z"
   },
   {
    "duration": 5,
    "start_time": "2022-05-05T13:04:37.327Z"
   },
   {
    "duration": 559,
    "start_time": "2022-05-05T13:04:37.334Z"
   },
   {
    "duration": 310,
    "start_time": "2022-05-05T13:04:37.894Z"
   },
   {
    "duration": 32266,
    "start_time": "2022-05-05T13:04:38.206Z"
   },
   {
    "duration": 24906,
    "start_time": "2022-05-05T13:05:10.475Z"
   },
   {
    "duration": 7,
    "start_time": "2022-05-05T13:05:35.383Z"
   },
   {
    "duration": 171,
    "start_time": "2022-05-05T13:05:35.393Z"
   },
   {
    "duration": 130,
    "start_time": "2022-05-05T13:05:35.573Z"
   },
   {
    "duration": 6,
    "start_time": "2022-05-05T13:05:35.705Z"
   },
   {
    "duration": 306,
    "start_time": "2022-05-05T13:05:35.712Z"
   },
   {
    "duration": 126,
    "start_time": "2022-05-05T13:05:36.020Z"
   },
   {
    "duration": 5,
    "start_time": "2022-05-05T13:05:36.148Z"
   },
   {
    "duration": 103,
    "start_time": "2022-05-05T13:05:36.154Z"
   },
   {
    "duration": 123,
    "start_time": "2022-05-05T13:05:36.259Z"
   },
   {
    "duration": 8,
    "start_time": "2022-05-05T13:05:36.384Z"
   },
   {
    "duration": 1978,
    "start_time": "2022-05-06T09:27:29.560Z"
   },
   {
    "duration": 82,
    "start_time": "2022-05-06T09:27:31.541Z"
   },
   {
    "duration": 21,
    "start_time": "2022-05-06T09:27:31.627Z"
   },
   {
    "duration": 22,
    "start_time": "2022-05-06T09:27:31.650Z"
   },
   {
    "duration": 30,
    "start_time": "2022-05-06T09:27:31.674Z"
   },
   {
    "duration": 6,
    "start_time": "2022-05-06T09:27:31.706Z"
   },
   {
    "duration": 658,
    "start_time": "2022-05-06T09:27:31.714Z"
   },
   {
    "duration": 375,
    "start_time": "2022-05-06T09:27:32.374Z"
   },
   {
    "duration": 22930,
    "start_time": "2022-05-06T09:27:32.752Z"
   },
   {
    "duration": 27356,
    "start_time": "2022-05-06T09:27:55.684Z"
   },
   {
    "duration": 9,
    "start_time": "2022-05-06T09:28:23.043Z"
   },
   {
    "duration": 452,
    "start_time": "2022-05-06T09:28:23.055Z"
   },
   {
    "duration": 147,
    "start_time": "2022-05-06T09:28:23.509Z"
   },
   {
    "duration": 6,
    "start_time": "2022-05-06T09:28:23.658Z"
   },
   {
    "duration": 238,
    "start_time": "2022-05-06T09:28:23.665Z"
   },
   {
    "duration": 146,
    "start_time": "2022-05-06T09:28:23.905Z"
   },
   {
    "duration": 6,
    "start_time": "2022-05-06T09:28:24.053Z"
   },
   {
    "duration": 121,
    "start_time": "2022-05-06T09:28:24.060Z"
   },
   {
    "duration": 138,
    "start_time": "2022-05-06T09:28:24.183Z"
   },
   {
    "duration": 24,
    "start_time": "2022-05-06T09:28:24.323Z"
   },
   {
    "duration": 5,
    "start_time": "2022-05-06T09:28:32.694Z"
   },
   {
    "duration": 4,
    "start_time": "2022-05-06T09:28:37.894Z"
   },
   {
    "duration": 191,
    "start_time": "2022-05-06T09:43:02.898Z"
   }
  ],
  "kernelspec": {
   "display_name": "Python 3 (ipykernel)",
   "language": "python",
   "name": "python3"
  },
  "language_info": {
   "codemirror_mode": {
    "name": "ipython",
    "version": 3
   },
   "file_extension": ".py",
   "mimetype": "text/x-python",
   "name": "python",
   "nbconvert_exporter": "python",
   "pygments_lexer": "ipython3",
   "version": "3.9.12"
  },
  "toc": {
   "base_numbering": 1,
   "nav_menu": {},
   "number_sections": true,
   "sideBar": true,
   "skip_h1_title": true,
   "title_cell": "",
   "title_sidebar": "",
   "toc_cell": true,
   "toc_position": {},
   "toc_section_display": true,
   "toc_window_display": false
  }
 },
 "nbformat": 4,
 "nbformat_minor": 2
}
