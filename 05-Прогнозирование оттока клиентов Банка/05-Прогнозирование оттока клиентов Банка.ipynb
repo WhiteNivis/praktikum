{
 "cells": [
  {
   "cell_type": "markdown",
   "metadata": {},
   "source": [
    "# Разработка предсказательной модели оттока клиентов банка\n",
    "\n",
    "Банк «Бета-Банк» столкнулся с проблемой оттока клиентов. Банковские маркетологи считают, что сохранять текущих клиентов дешевле, чем привлекать новых. Нужно спрогнозировать, уйдёт клиент из банка в ближайшее время или нет. В нашем распоряжении данные о поведении клиентов и расторжении договоров с банком. \n",
    "\n",
    "<font color='green'>Цель</font>\n",
    "\n",
    "Нужно построить модель, которая предскажет уйдёт клиент из банка или нет. \n",
    "\n",
    "Основная метрика эффективности - `f1 мера`.\n",
    "\n",
    "<font color='green'>Задачи</font>\n",
    "\n",
    "Поставлена задача классификации. Этапы выполнения:\n",
    "\n",
    "- подготовить данные;\n",
    "- исследовать данные;\n",
    "- проработать проблему дисбаланса классов;\n",
    "- исследовать качество следующих моделей:\n",
    "  \n",
    "      1) Логистическая регрессия\n",
    "      2) Решающее дерево\n",
    "      3) Cлучайный лес      \n",
    "      \n",
    "- достигнуть значения метрики `f1` на тестовой выборке не менее 0,59. \n",
    "\n",
    "<font color='green'>Файлы</font>\n",
    "\n",
    "- `Churn.csv`\n",
    "\n",
    "<font color='green'>Признаки</font>\n",
    "\n",
    "- `RowNumber` — индекс строки в данных;\n",
    "- `CustomerId` — уникальный идентификатор клиента;\n",
    "- `Surname` — фамилия;\n",
    "- `CreditScore` — кредитный рейтинг;\n",
    "- `Geography` — страна проживания;\n",
    "- `Gender` — пол;\n",
    "- `Age` — возраст;\n",
    "- `Tenure` — сколько лет человек является клиентом банка;\n",
    "- `Balance` — баланс на счёте;\n",
    "- `NumOfProducts` — количество продуктов банка, используемых клиентом;\n",
    "- `HasCrCard` — наличие кредитной карты;\n",
    "- `IsActiveMember` — активность клиента;\n",
    "- `EstimatedSalary` — предполагаемая зарплата.\n",
    "\n",
    "<font color='green'>Целевой признак</font>\n",
    "\n",
    "- `Exited` — факт ухода клиента.\n",
    "\n",
    "<font color='green'>Содержание</font>"
   ]
  },
  {
   "cell_type": "markdown",
   "metadata": {
    "toc": true
   },
   "source": [
    "<h1><span class=\"tocSkip\"></span></h1>\n",
    "<div class=\"toc\"><ul class=\"toc-item\"><li><span><a href=\"#Подготовка-данных\" data-toc-modified-id=\"Подготовка-данных-1\"><span class=\"toc-item-num\">1&nbsp;&nbsp;</span>Подготовка данных</a></span></li><li><span><a href=\"#Исследование-задачи\" data-toc-modified-id=\"Исследование-задачи-2\"><span class=\"toc-item-num\">2&nbsp;&nbsp;</span>Исследование задачи</a></span><ul class=\"toc-item\"><li><span><a href=\"#Разделение-данных-на-выборки\" data-toc-modified-id=\"Разделение-данных-на-выборки-2.1\"><span class=\"toc-item-num\">2.1&nbsp;&nbsp;</span>Разделение данных на выборки</a></span></li><li><span><a href=\"#Масштабирование-признаков\" data-toc-modified-id=\"Масштабирование-признаков-2.2\"><span class=\"toc-item-num\">2.2&nbsp;&nbsp;</span>Масштабирование признаков</a></span></li></ul></li><li><span><a href=\"#Борьба-с-дисбалансом\" data-toc-modified-id=\"Борьба-с-дисбалансом-3\"><span class=\"toc-item-num\">3&nbsp;&nbsp;</span>Борьба с дисбалансом</a></span></li><li><span><a href=\"#Выбор-модели\" data-toc-modified-id=\"Выбор-модели-4\"><span class=\"toc-item-num\">4&nbsp;&nbsp;</span>Выбор модели</a></span><ul class=\"toc-item\"><li><span><a href=\"#Логистическая-регрессия\" data-toc-modified-id=\"Логистическая-регрессия-4.1\"><span class=\"toc-item-num\">4.1&nbsp;&nbsp;</span>Логистическая регрессия</a></span><ul class=\"toc-item\"><li><span><a href=\"#Подбор-параметров-без-устранения-дисбаланса\" data-toc-modified-id=\"Подбор-параметров-без-устранения-дисбаланса-4.1.1\"><span class=\"toc-item-num\">4.1.1&nbsp;&nbsp;</span>Подбор параметров без устранения дисбаланса</a></span></li><li><span><a href=\"#Подбор-параметров-с-устранением-дисбаланса\" data-toc-modified-id=\"Подбор-параметров-с-устранением-дисбаланса-4.1.2\"><span class=\"toc-item-num\">4.1.2&nbsp;&nbsp;</span>Подбор параметров с устранением дисбаланса</a></span></li></ul></li><li><span><a href=\"#Решающее-дерево\" data-toc-modified-id=\"Решающее-дерево-4.2\"><span class=\"toc-item-num\">4.2&nbsp;&nbsp;</span>Решающее дерево</a></span><ul class=\"toc-item\"><li><span><a href=\"#Подбор-параметров-без-устранения-дисбаланса\" data-toc-modified-id=\"Подбор-параметров-без-устранения-дисбаланса-4.2.1\"><span class=\"toc-item-num\">4.2.1&nbsp;&nbsp;</span>Подбор параметров без устранения дисбаланса</a></span></li><li><span><a href=\"#Подбор-параметров-с-устранением-дисбаланса\" data-toc-modified-id=\"Подбор-параметров-с-устранением-дисбаланса-4.2.2\"><span class=\"toc-item-num\">4.2.2&nbsp;&nbsp;</span>Подбор параметров с устранением дисбаланса</a></span></li></ul></li><li><span><a href=\"#Cлучайный-лес\" data-toc-modified-id=\"Cлучайный-лес-4.3\"><span class=\"toc-item-num\">4.3&nbsp;&nbsp;</span>Cлучайный лес</a></span><ul class=\"toc-item\"><li><span><a href=\"#Подбор-параметров-без-устранения-дисбаланса\" data-toc-modified-id=\"Подбор-параметров-без-устранения-дисбаланса-4.3.1\"><span class=\"toc-item-num\">4.3.1&nbsp;&nbsp;</span>Подбор параметров без устранения дисбаланса</a></span></li><li><span><a href=\"#Подбор-параметров-с-устранением-дисбаланса\" data-toc-modified-id=\"Подбор-параметров-с-устранением-дисбаланса-4.3.2\"><span class=\"toc-item-num\">4.3.2&nbsp;&nbsp;</span>Подбор параметров с устранением дисбаланса</a></span></li></ul></li></ul></li><li><span><a href=\"#Тестирование-модели\" data-toc-modified-id=\"Тестирование-модели-5\"><span class=\"toc-item-num\">5&nbsp;&nbsp;</span>Тестирование модели</a></span><ul class=\"toc-item\"><li><span><a href=\"#Модель-decision_tree_balance\" data-toc-modified-id=\"Модель-decision_tree_balance-5.1\"><span class=\"toc-item-num\">5.1&nbsp;&nbsp;</span>Модель decision_tree_balance</a></span></li><li><span><a href=\"#Модель-random_forest_disbalance\" data-toc-modified-id=\"Модель-random_forest_disbalance-5.2\"><span class=\"toc-item-num\">5.2&nbsp;&nbsp;</span>Модель random_forest_disbalance</a></span></li><li><span><a href=\"#Модель-random_forest_balance\" data-toc-modified-id=\"Модель-random_forest_balance-5.3\"><span class=\"toc-item-num\">5.3&nbsp;&nbsp;</span>Модель random_forest_balance</a></span></li></ul></li></ul></div>"
   ]
  },
  {
   "cell_type": "markdown",
   "metadata": {},
   "source": [
    "## Подготовка данных"
   ]
  },
  {
   "cell_type": "code",
   "execution_count": 1,
   "metadata": {},
   "outputs": [],
   "source": [
    "import warnings\n",
    "from sklearn.exceptions import UndefinedMetricWarning\n",
    "warnings.filterwarnings(\"ignore\", category=UndefinedMetricWarning)\n",
    "warnings.filterwarnings(\"ignore\", category=FutureWarning)\n",
    "warnings.filterwarnings(\"ignore\", category=DeprecationWarning)\n",
    "\n",
    "import pandas as pd\n",
    "import numpy as np\n",
    "\n",
    "from sklearn.tree import DecisionTreeClassifier\n",
    "from sklearn.ensemble import RandomForestClassifier\n",
    "from sklearn.linear_model import LogisticRegression\n",
    "from sklearn.model_selection import train_test_split, GridSearchCV, cross_validate, RandomizedSearchCV\n",
    "from sklearn.metrics import accuracy_score, precision_score, recall_score, f1_score, make_scorer, roc_auc_score, roc_curve\n",
    "from sklearn.preprocessing import StandardScaler\n",
    "from sklearn.utils import shuffle\n",
    "from sklearn.metrics import confusion_matrix\n",
    "\n",
    "import sweetviz as sv # для EDA\n",
    "\n",
    "import seaborn as sns\n",
    "import matplotlib.pyplot as plt\n",
    "%matplotlib inline"
   ]
  },
  {
   "cell_type": "code",
   "execution_count": 2,
   "metadata": {},
   "outputs": [],
   "source": [
    "data = pd.read_csv('/ML/datasets/Churn.csv')"
   ]
  },
  {
   "cell_type": "code",
   "execution_count": 3,
   "metadata": {},
   "outputs": [
    {
     "data": {
      "text/html": [
       "<div>\n",
       "<style scoped>\n",
       "    .dataframe tbody tr th:only-of-type {\n",
       "        vertical-align: middle;\n",
       "    }\n",
       "\n",
       "    .dataframe tbody tr th {\n",
       "        vertical-align: top;\n",
       "    }\n",
       "\n",
       "    .dataframe thead th {\n",
       "        text-align: right;\n",
       "    }\n",
       "</style>\n",
       "<table border=\"1\" class=\"dataframe\">\n",
       "  <thead>\n",
       "    <tr style=\"text-align: right;\">\n",
       "      <th></th>\n",
       "      <th>0</th>\n",
       "      <th>1</th>\n",
       "      <th>2</th>\n",
       "      <th>3</th>\n",
       "      <th>4</th>\n",
       "    </tr>\n",
       "  </thead>\n",
       "  <tbody>\n",
       "    <tr>\n",
       "      <th>RowNumber</th>\n",
       "      <td>1</td>\n",
       "      <td>2</td>\n",
       "      <td>3</td>\n",
       "      <td>4</td>\n",
       "      <td>5</td>\n",
       "    </tr>\n",
       "    <tr>\n",
       "      <th>CustomerId</th>\n",
       "      <td>15634602</td>\n",
       "      <td>15647311</td>\n",
       "      <td>15619304</td>\n",
       "      <td>15701354</td>\n",
       "      <td>15737888</td>\n",
       "    </tr>\n",
       "    <tr>\n",
       "      <th>Surname</th>\n",
       "      <td>Hargrave</td>\n",
       "      <td>Hill</td>\n",
       "      <td>Onio</td>\n",
       "      <td>Boni</td>\n",
       "      <td>Mitchell</td>\n",
       "    </tr>\n",
       "    <tr>\n",
       "      <th>CreditScore</th>\n",
       "      <td>619</td>\n",
       "      <td>608</td>\n",
       "      <td>502</td>\n",
       "      <td>699</td>\n",
       "      <td>850</td>\n",
       "    </tr>\n",
       "    <tr>\n",
       "      <th>Geography</th>\n",
       "      <td>France</td>\n",
       "      <td>Spain</td>\n",
       "      <td>France</td>\n",
       "      <td>France</td>\n",
       "      <td>Spain</td>\n",
       "    </tr>\n",
       "    <tr>\n",
       "      <th>Gender</th>\n",
       "      <td>Female</td>\n",
       "      <td>Female</td>\n",
       "      <td>Female</td>\n",
       "      <td>Female</td>\n",
       "      <td>Female</td>\n",
       "    </tr>\n",
       "    <tr>\n",
       "      <th>Age</th>\n",
       "      <td>42</td>\n",
       "      <td>41</td>\n",
       "      <td>42</td>\n",
       "      <td>39</td>\n",
       "      <td>43</td>\n",
       "    </tr>\n",
       "    <tr>\n",
       "      <th>Tenure</th>\n",
       "      <td>2.0</td>\n",
       "      <td>1.0</td>\n",
       "      <td>8.0</td>\n",
       "      <td>1.0</td>\n",
       "      <td>2.0</td>\n",
       "    </tr>\n",
       "    <tr>\n",
       "      <th>Balance</th>\n",
       "      <td>0.0</td>\n",
       "      <td>83807.86</td>\n",
       "      <td>159660.8</td>\n",
       "      <td>0.0</td>\n",
       "      <td>125510.82</td>\n",
       "    </tr>\n",
       "    <tr>\n",
       "      <th>NumOfProducts</th>\n",
       "      <td>1</td>\n",
       "      <td>1</td>\n",
       "      <td>3</td>\n",
       "      <td>2</td>\n",
       "      <td>1</td>\n",
       "    </tr>\n",
       "    <tr>\n",
       "      <th>HasCrCard</th>\n",
       "      <td>1</td>\n",
       "      <td>0</td>\n",
       "      <td>1</td>\n",
       "      <td>0</td>\n",
       "      <td>1</td>\n",
       "    </tr>\n",
       "    <tr>\n",
       "      <th>IsActiveMember</th>\n",
       "      <td>1</td>\n",
       "      <td>1</td>\n",
       "      <td>0</td>\n",
       "      <td>0</td>\n",
       "      <td>1</td>\n",
       "    </tr>\n",
       "    <tr>\n",
       "      <th>EstimatedSalary</th>\n",
       "      <td>101348.88</td>\n",
       "      <td>112542.58</td>\n",
       "      <td>113931.57</td>\n",
       "      <td>93826.63</td>\n",
       "      <td>79084.1</td>\n",
       "    </tr>\n",
       "    <tr>\n",
       "      <th>Exited</th>\n",
       "      <td>1</td>\n",
       "      <td>0</td>\n",
       "      <td>1</td>\n",
       "      <td>0</td>\n",
       "      <td>0</td>\n",
       "    </tr>\n",
       "  </tbody>\n",
       "</table>\n",
       "</div>"
      ],
      "text/plain": [
       "                         0          1          2         3          4\n",
       "RowNumber                1          2          3         4          5\n",
       "CustomerId        15634602   15647311   15619304  15701354   15737888\n",
       "Surname           Hargrave       Hill       Onio      Boni   Mitchell\n",
       "CreditScore            619        608        502       699        850\n",
       "Geography           France      Spain     France    France      Spain\n",
       "Gender              Female     Female     Female    Female     Female\n",
       "Age                     42         41         42        39         43\n",
       "Tenure                 2.0        1.0        8.0       1.0        2.0\n",
       "Balance                0.0   83807.86   159660.8       0.0  125510.82\n",
       "NumOfProducts            1          1          3         2          1\n",
       "HasCrCard                1          0          1         0          1\n",
       "IsActiveMember           1          1          0         0          1\n",
       "EstimatedSalary  101348.88  112542.58  113931.57  93826.63    79084.1\n",
       "Exited                   1          0          1         0          0"
      ]
     },
     "execution_count": 3,
     "metadata": {},
     "output_type": "execute_result"
    }
   ],
   "source": [
    "data.head().T"
   ]
  },
  {
   "cell_type": "markdown",
   "metadata": {},
   "source": [
    "Сформируем новый датасет с нужной для анализа информацией. "
   ]
  },
  {
   "cell_type": "code",
   "execution_count": 4,
   "metadata": {},
   "outputs": [
    {
     "data": {
      "text/html": [
       "<div>\n",
       "<style scoped>\n",
       "    .dataframe tbody tr th:only-of-type {\n",
       "        vertical-align: middle;\n",
       "    }\n",
       "\n",
       "    .dataframe tbody tr th {\n",
       "        vertical-align: top;\n",
       "    }\n",
       "\n",
       "    .dataframe thead th {\n",
       "        text-align: right;\n",
       "    }\n",
       "</style>\n",
       "<table border=\"1\" class=\"dataframe\">\n",
       "  <thead>\n",
       "    <tr style=\"text-align: right;\">\n",
       "      <th></th>\n",
       "      <th>CreditScore</th>\n",
       "      <th>Geography</th>\n",
       "      <th>Gender</th>\n",
       "      <th>Age</th>\n",
       "      <th>Tenure</th>\n",
       "      <th>Balance</th>\n",
       "      <th>NumOfProducts</th>\n",
       "      <th>HasCrCard</th>\n",
       "      <th>IsActiveMember</th>\n",
       "      <th>EstimatedSalary</th>\n",
       "      <th>Exited</th>\n",
       "    </tr>\n",
       "  </thead>\n",
       "  <tbody>\n",
       "    <tr>\n",
       "      <th>0</th>\n",
       "      <td>619</td>\n",
       "      <td>France</td>\n",
       "      <td>Female</td>\n",
       "      <td>42</td>\n",
       "      <td>2.0</td>\n",
       "      <td>0.00</td>\n",
       "      <td>1</td>\n",
       "      <td>1</td>\n",
       "      <td>1</td>\n",
       "      <td>101348.88</td>\n",
       "      <td>1</td>\n",
       "    </tr>\n",
       "    <tr>\n",
       "      <th>1</th>\n",
       "      <td>608</td>\n",
       "      <td>Spain</td>\n",
       "      <td>Female</td>\n",
       "      <td>41</td>\n",
       "      <td>1.0</td>\n",
       "      <td>83807.86</td>\n",
       "      <td>1</td>\n",
       "      <td>0</td>\n",
       "      <td>1</td>\n",
       "      <td>112542.58</td>\n",
       "      <td>0</td>\n",
       "    </tr>\n",
       "    <tr>\n",
       "      <th>2</th>\n",
       "      <td>502</td>\n",
       "      <td>France</td>\n",
       "      <td>Female</td>\n",
       "      <td>42</td>\n",
       "      <td>8.0</td>\n",
       "      <td>159660.80</td>\n",
       "      <td>3</td>\n",
       "      <td>1</td>\n",
       "      <td>0</td>\n",
       "      <td>113931.57</td>\n",
       "      <td>1</td>\n",
       "    </tr>\n",
       "  </tbody>\n",
       "</table>\n",
       "</div>"
      ],
      "text/plain": [
       "   CreditScore Geography  Gender  Age  Tenure    Balance  NumOfProducts  \\\n",
       "0          619    France  Female   42     2.0       0.00              1   \n",
       "1          608     Spain  Female   41     1.0   83807.86              1   \n",
       "2          502    France  Female   42     8.0  159660.80              3   \n",
       "\n",
       "   HasCrCard  IsActiveMember  EstimatedSalary  Exited  \n",
       "0          1               1        101348.88       1  \n",
       "1          0               1        112542.58       0  \n",
       "2          1               0        113931.57       1  "
      ]
     },
     "execution_count": 4,
     "metadata": {},
     "output_type": "execute_result"
    }
   ],
   "source": [
    "df = data.drop(['RowNumber', 'CustomerId', 'Surname'], axis=1)\n",
    "df.head(3)"
   ]
  },
  {
   "cell_type": "markdown",
   "metadata": {},
   "source": [
    "Приведем названия столбцов к нижнему регистру."
   ]
  },
  {
   "cell_type": "code",
   "execution_count": 5,
   "metadata": {},
   "outputs": [
    {
     "data": {
      "text/plain": [
       "Index(['creditscore', 'geography', 'gender', 'age', 'tenure', 'balance',\n",
       "       'numofproducts', 'hascrcard', 'isactivemember', 'estimatedsalary',\n",
       "       'exited'],\n",
       "      dtype='object')"
      ]
     },
     "execution_count": 5,
     "metadata": {},
     "output_type": "execute_result"
    }
   ],
   "source": [
    "df.columns = df.columns.str.lower()\n",
    "df.columns"
   ]
  },
  {
   "cell_type": "markdown",
   "metadata": {},
   "source": [
    "Сформируем отчет для исследовательского анализа данных."
   ]
  },
  {
   "cell_type": "code",
   "execution_count": 6,
   "metadata": {},
   "outputs": [
    {
     "data": {
      "application/vnd.jupyter.widget-view+json": {
       "model_id": "507230b2af5146b5b277bd0afca5edb6",
       "version_major": 2,
       "version_minor": 0
      },
      "text/plain": [
       "                                             |          | [  0%]   00:00 -> (? left)"
      ]
     },
     "metadata": {},
     "output_type": "display_data"
    },
    {
     "name": "stdout",
     "output_type": "stream",
     "text": [
      "Report SWEETVIZ_REPORT.html was generated! NOTEBOOK/COLAB USERS: the web browser MAY not pop up, regardless, the report IS saved in your notebook/colab files.\n"
     ]
    }
   ],
   "source": [
    "report = sv.analyze(df)\n",
    "#report.show_notebook()\n",
    "report.show_html()"
   ]
  },
  {
   "cell_type": "markdown",
   "metadata": {},
   "source": [
    "Наблюдается дисбаланс классов. В столбце `'tenure'` имеются пропуски. Дубликаты не выявлены."
   ]
  },
  {
   "cell_type": "code",
   "execution_count": 7,
   "metadata": {},
   "outputs": [
    {
     "data": {
      "text/html": [
       "<div>\n",
       "<style scoped>\n",
       "    .dataframe tbody tr th:only-of-type {\n",
       "        vertical-align: middle;\n",
       "    }\n",
       "\n",
       "    .dataframe tbody tr th {\n",
       "        vertical-align: top;\n",
       "    }\n",
       "\n",
       "    .dataframe thead th {\n",
       "        text-align: right;\n",
       "    }\n",
       "</style>\n",
       "<table border=\"1\" class=\"dataframe\">\n",
       "  <thead>\n",
       "    <tr style=\"text-align: right;\">\n",
       "      <th></th>\n",
       "      <th>creditscore</th>\n",
       "      <th>geography</th>\n",
       "      <th>gender</th>\n",
       "      <th>age</th>\n",
       "      <th>tenure</th>\n",
       "      <th>balance</th>\n",
       "      <th>numofproducts</th>\n",
       "      <th>hascrcard</th>\n",
       "      <th>isactivemember</th>\n",
       "      <th>estimatedsalary</th>\n",
       "      <th>exited</th>\n",
       "    </tr>\n",
       "  </thead>\n",
       "  <tbody>\n",
       "    <tr>\n",
       "      <th>30</th>\n",
       "      <td>591</td>\n",
       "      <td>Spain</td>\n",
       "      <td>Female</td>\n",
       "      <td>39</td>\n",
       "      <td>NaN</td>\n",
       "      <td>0.00</td>\n",
       "      <td>3</td>\n",
       "      <td>1</td>\n",
       "      <td>0</td>\n",
       "      <td>140469.38</td>\n",
       "      <td>1</td>\n",
       "    </tr>\n",
       "    <tr>\n",
       "      <th>48</th>\n",
       "      <td>550</td>\n",
       "      <td>Germany</td>\n",
       "      <td>Male</td>\n",
       "      <td>38</td>\n",
       "      <td>NaN</td>\n",
       "      <td>103391.38</td>\n",
       "      <td>1</td>\n",
       "      <td>0</td>\n",
       "      <td>1</td>\n",
       "      <td>90878.13</td>\n",
       "      <td>0</td>\n",
       "    </tr>\n",
       "    <tr>\n",
       "      <th>51</th>\n",
       "      <td>585</td>\n",
       "      <td>Germany</td>\n",
       "      <td>Male</td>\n",
       "      <td>36</td>\n",
       "      <td>NaN</td>\n",
       "      <td>146050.97</td>\n",
       "      <td>2</td>\n",
       "      <td>0</td>\n",
       "      <td>0</td>\n",
       "      <td>86424.57</td>\n",
       "      <td>0</td>\n",
       "    </tr>\n",
       "    <tr>\n",
       "      <th>53</th>\n",
       "      <td>655</td>\n",
       "      <td>Germany</td>\n",
       "      <td>Male</td>\n",
       "      <td>41</td>\n",
       "      <td>NaN</td>\n",
       "      <td>125561.97</td>\n",
       "      <td>1</td>\n",
       "      <td>0</td>\n",
       "      <td>0</td>\n",
       "      <td>164040.94</td>\n",
       "      <td>1</td>\n",
       "    </tr>\n",
       "    <tr>\n",
       "      <th>60</th>\n",
       "      <td>742</td>\n",
       "      <td>Germany</td>\n",
       "      <td>Male</td>\n",
       "      <td>35</td>\n",
       "      <td>NaN</td>\n",
       "      <td>136857.00</td>\n",
       "      <td>1</td>\n",
       "      <td>0</td>\n",
       "      <td>0</td>\n",
       "      <td>84509.57</td>\n",
       "      <td>0</td>\n",
       "    </tr>\n",
       "  </tbody>\n",
       "</table>\n",
       "</div>"
      ],
      "text/plain": [
       "    creditscore geography  gender  age  tenure    balance  numofproducts  \\\n",
       "30          591     Spain  Female   39     NaN       0.00              3   \n",
       "48          550   Germany    Male   38     NaN  103391.38              1   \n",
       "51          585   Germany    Male   36     NaN  146050.97              2   \n",
       "53          655   Germany    Male   41     NaN  125561.97              1   \n",
       "60          742   Germany    Male   35     NaN  136857.00              1   \n",
       "\n",
       "    hascrcard  isactivemember  estimatedsalary  exited  \n",
       "30          1               0        140469.38       1  \n",
       "48          0               1         90878.13       0  \n",
       "51          0               0         86424.57       0  \n",
       "53          0               0        164040.94       1  \n",
       "60          0               0         84509.57       0  "
      ]
     },
     "execution_count": 7,
     "metadata": {},
     "output_type": "execute_result"
    }
   ],
   "source": [
    "df[df['tenure'].isna()].head()"
   ]
  },
  {
   "cell_type": "markdown",
   "metadata": {},
   "source": [
    "Явная закономерность в пропусках не прослеживается. Из-за достаточно высокой доли пропущенных значений (`9%`) не будем удалять данные, а заполним пропуски нулями."
   ]
  },
  {
   "cell_type": "code",
   "execution_count": 8,
   "metadata": {},
   "outputs": [
    {
     "data": {
      "text/html": [
       "<div>\n",
       "<style scoped>\n",
       "    .dataframe tbody tr th:only-of-type {\n",
       "        vertical-align: middle;\n",
       "    }\n",
       "\n",
       "    .dataframe tbody tr th {\n",
       "        vertical-align: top;\n",
       "    }\n",
       "\n",
       "    .dataframe thead th {\n",
       "        text-align: right;\n",
       "    }\n",
       "</style>\n",
       "<table border=\"1\" class=\"dataframe\">\n",
       "  <thead>\n",
       "    <tr style=\"text-align: right;\">\n",
       "      <th></th>\n",
       "      <th>creditscore</th>\n",
       "      <th>geography</th>\n",
       "      <th>gender</th>\n",
       "      <th>age</th>\n",
       "      <th>tenure</th>\n",
       "      <th>balance</th>\n",
       "      <th>numofproducts</th>\n",
       "      <th>hascrcard</th>\n",
       "      <th>isactivemember</th>\n",
       "      <th>estimatedsalary</th>\n",
       "      <th>exited</th>\n",
       "    </tr>\n",
       "  </thead>\n",
       "  <tbody>\n",
       "  </tbody>\n",
       "</table>\n",
       "</div>"
      ],
      "text/plain": [
       "Empty DataFrame\n",
       "Columns: [creditscore, geography, gender, age, tenure, balance, numofproducts, hascrcard, isactivemember, estimatedsalary, exited]\n",
       "Index: []"
      ]
     },
     "execution_count": 8,
     "metadata": {},
     "output_type": "execute_result"
    }
   ],
   "source": [
    "df.fillna(value = 0, inplace = True)\n",
    "df[df['tenure'].isna()]"
   ]
  },
  {
   "cell_type": "markdown",
   "metadata": {},
   "source": [
    "Преобразуем категориальные признаки методом One-Hot Encoding."
   ]
  },
  {
   "cell_type": "code",
   "execution_count": 9,
   "metadata": {},
   "outputs": [],
   "source": [
    "df = pd.get_dummies(df, drop_first=True)"
   ]
  },
  {
   "cell_type": "code",
   "execution_count": 10,
   "metadata": {},
   "outputs": [
    {
     "data": {
      "text/html": [
       "<div>\n",
       "<style scoped>\n",
       "    .dataframe tbody tr th:only-of-type {\n",
       "        vertical-align: middle;\n",
       "    }\n",
       "\n",
       "    .dataframe tbody tr th {\n",
       "        vertical-align: top;\n",
       "    }\n",
       "\n",
       "    .dataframe thead th {\n",
       "        text-align: right;\n",
       "    }\n",
       "</style>\n",
       "<table border=\"1\" class=\"dataframe\">\n",
       "  <thead>\n",
       "    <tr style=\"text-align: right;\">\n",
       "      <th></th>\n",
       "      <th>creditscore</th>\n",
       "      <th>age</th>\n",
       "      <th>tenure</th>\n",
       "      <th>balance</th>\n",
       "      <th>numofproducts</th>\n",
       "      <th>hascrcard</th>\n",
       "      <th>isactivemember</th>\n",
       "      <th>estimatedsalary</th>\n",
       "      <th>exited</th>\n",
       "      <th>geography_Germany</th>\n",
       "      <th>geography_Spain</th>\n",
       "      <th>gender_Male</th>\n",
       "    </tr>\n",
       "  </thead>\n",
       "  <tbody>\n",
       "    <tr>\n",
       "      <th>0</th>\n",
       "      <td>619</td>\n",
       "      <td>42</td>\n",
       "      <td>2.0</td>\n",
       "      <td>0.00</td>\n",
       "      <td>1</td>\n",
       "      <td>1</td>\n",
       "      <td>1</td>\n",
       "      <td>101348.88</td>\n",
       "      <td>1</td>\n",
       "      <td>0</td>\n",
       "      <td>0</td>\n",
       "      <td>0</td>\n",
       "    </tr>\n",
       "    <tr>\n",
       "      <th>1</th>\n",
       "      <td>608</td>\n",
       "      <td>41</td>\n",
       "      <td>1.0</td>\n",
       "      <td>83807.86</td>\n",
       "      <td>1</td>\n",
       "      <td>0</td>\n",
       "      <td>1</td>\n",
       "      <td>112542.58</td>\n",
       "      <td>0</td>\n",
       "      <td>0</td>\n",
       "      <td>1</td>\n",
       "      <td>0</td>\n",
       "    </tr>\n",
       "    <tr>\n",
       "      <th>2</th>\n",
       "      <td>502</td>\n",
       "      <td>42</td>\n",
       "      <td>8.0</td>\n",
       "      <td>159660.80</td>\n",
       "      <td>3</td>\n",
       "      <td>1</td>\n",
       "      <td>0</td>\n",
       "      <td>113931.57</td>\n",
       "      <td>1</td>\n",
       "      <td>0</td>\n",
       "      <td>0</td>\n",
       "      <td>0</td>\n",
       "    </tr>\n",
       "  </tbody>\n",
       "</table>\n",
       "</div>"
      ],
      "text/plain": [
       "   creditscore  age  tenure    balance  numofproducts  hascrcard  \\\n",
       "0          619   42     2.0       0.00              1          1   \n",
       "1          608   41     1.0   83807.86              1          0   \n",
       "2          502   42     8.0  159660.80              3          1   \n",
       "\n",
       "   isactivemember  estimatedsalary  exited  geography_Germany  \\\n",
       "0               1        101348.88       1                  0   \n",
       "1               1        112542.58       0                  0   \n",
       "2               0        113931.57       1                  0   \n",
       "\n",
       "   geography_Spain  gender_Male  \n",
       "0                0            0  \n",
       "1                1            0  \n",
       "2                0            0  "
      ]
     },
     "execution_count": 10,
     "metadata": {},
     "output_type": "execute_result"
    }
   ],
   "source": [
    "df.head(3)"
   ]
  },
  {
   "cell_type": "code",
   "execution_count": 11,
   "metadata": {},
   "outputs": [
    {
     "name": "stdout",
     "output_type": "stream",
     "text": [
      "<class 'pandas.core.frame.DataFrame'>\n",
      "RangeIndex: 10000 entries, 0 to 9999\n",
      "Data columns (total 12 columns):\n",
      " #   Column             Non-Null Count  Dtype  \n",
      "---  ------             --------------  -----  \n",
      " 0   creditscore        10000 non-null  int64  \n",
      " 1   age                10000 non-null  int64  \n",
      " 2   tenure             10000 non-null  float64\n",
      " 3   balance            10000 non-null  float64\n",
      " 4   numofproducts      10000 non-null  int64  \n",
      " 5   hascrcard          10000 non-null  int64  \n",
      " 6   isactivemember     10000 non-null  int64  \n",
      " 7   estimatedsalary    10000 non-null  float64\n",
      " 8   exited             10000 non-null  int64  \n",
      " 9   geography_Germany  10000 non-null  uint8  \n",
      " 10  geography_Spain    10000 non-null  uint8  \n",
      " 11  gender_Male        10000 non-null  uint8  \n",
      "dtypes: float64(3), int64(6), uint8(3)\n",
      "memory usage: 732.5 KB\n"
     ]
    }
   ],
   "source": [
    "df.info()"
   ]
  },
  {
   "cell_type": "markdown",
   "metadata": {},
   "source": [
    "**Вывод**"
   ]
  },
  {
   "cell_type": "markdown",
   "metadata": {},
   "source": [
    "Для дальнейшей работы принято решение не использовать даные из столбцов: `'RowNumber'`, `'CustomerId'`, `'Surname'`.\n",
    "В столбце `'tenure'` выявлены пропуски (9%), которые заменены целочисленным значением `'0'`. Наблюдается несбалансированность классов целевого признака: `'0'` - 80% и `'1'` - 20%. Категориальные данные преобразованы с помощью метода OHE."
   ]
  },
  {
   "cell_type": "markdown",
   "metadata": {},
   "source": [
    "## Исследование задачи"
   ]
  },
  {
   "cell_type": "markdown",
   "metadata": {},
   "source": [
    "### Разделение данных на выборки"
   ]
  },
  {
   "cell_type": "markdown",
   "metadata": {},
   "source": [
    "Выделим признаки и целевой признак. "
   ]
  },
  {
   "cell_type": "code",
   "execution_count": 12,
   "metadata": {},
   "outputs": [],
   "source": [
    "features = df.drop(['exited'], axis=1)\n",
    "target = df['exited']"
   ]
  },
  {
   "cell_type": "markdown",
   "metadata": {},
   "source": [
    "Разобьём данные на тренировочную, валидационную и тестовую выборки. "
   ]
  },
  {
   "cell_type": "code",
   "execution_count": 13,
   "metadata": {},
   "outputs": [],
   "source": [
    "features_train, features_test, target_train, target_test = train_test_split(\n",
    "    features, target, test_size=0.4, random_state=12345, stratify=target)\n",
    "\n",
    "features_test, features_valid, target_test, target_valid = train_test_split(\n",
    "    features_test, target_test, test_size=0.5, random_state=12345, stratify=target_test)"
   ]
  },
  {
   "cell_type": "markdown",
   "metadata": {},
   "source": [
    "Проверим размеры полученных файлов. "
   ]
  },
  {
   "cell_type": "code",
   "execution_count": 14,
   "metadata": {},
   "outputs": [
    {
     "name": "stdout",
     "output_type": "stream",
     "text": [
      "(6000, 11) (6000,) (2000, 11) (2000,) (2000, 11) (2000,)\n"
     ]
    }
   ],
   "source": [
    "print(features_train.shape, target_train.shape, features_valid.shape, target_valid.shape, features_test.shape,\\\n",
    "    target_test.shape)"
   ]
  },
  {
   "cell_type": "markdown",
   "metadata": {},
   "source": [
    "Проверим баланс целевого признака."
   ]
  },
  {
   "cell_type": "code",
   "execution_count": 15,
   "metadata": {},
   "outputs": [
    {
     "name": "stdout",
     "output_type": "stream",
     "text": [
      "0    0.796333\n",
      "1    0.203667\n",
      "Name: exited, dtype: float64\n",
      "0    0.7965\n",
      "1    0.2035\n",
      "Name: exited, dtype: float64\n",
      "0    0.796\n",
      "1    0.204\n",
      "Name: exited, dtype: float64\n"
     ]
    }
   ],
   "source": [
    "print(target_train.value_counts(normalize=True))\n",
    "print(target_valid.value_counts(normalize=True))\n",
    "print(target_test.value_counts(normalize=True))"
   ]
  },
  {
   "cell_type": "markdown",
   "metadata": {},
   "source": [
    "### Масштабирование признаков"
   ]
  },
  {
   "cell_type": "markdown",
   "metadata": {},
   "source": [
    "Приведем признаки в столбцах `'creditscore'`, `'age'`, `'balance'`, `'estimatedsalary'` к единому масштабу."
   ]
  },
  {
   "cell_type": "code",
   "execution_count": 16,
   "metadata": {},
   "outputs": [],
   "source": [
    "pd.options.mode.chained_assignment = None\n",
    "numeric = ['creditscore', 'age', 'balance', 'estimatedsalary']\n",
    "scaler = StandardScaler()\n",
    "scaler.fit(features_train[numeric])\n",
    "features_train[numeric] = scaler.transform(features_train[numeric])\n",
    "features_valid[numeric] = scaler.transform(features_valid[numeric])\n",
    "features_test[numeric] = scaler.transform(features_test[numeric]) "
   ]
  },
  {
   "cell_type": "markdown",
   "metadata": {},
   "source": [
    "**Вывод**"
   ]
  },
  {
   "cell_type": "markdown",
   "metadata": {},
   "source": [
    "Значения в столбцах `'creditscore'`, `'age'`, `'balance'`, `'estimatedsalary'` приведены к единому масштабу.\n",
    "Данные разделены на тренировочную, валидационную и тестовую выборки."
   ]
  },
  {
   "cell_type": "markdown",
   "metadata": {},
   "source": [
    "## Борьба с дисбалансом"
   ]
  },
  {
   "cell_type": "markdown",
   "metadata": {},
   "source": [
    "Создадим функцию для устранения дисбаланса классов в данных. Т.к. количество данных сравнительно небольшое, будем использовать увеличение выборки."
   ]
  },
  {
   "cell_type": "code",
   "execution_count": 17,
   "metadata": {},
   "outputs": [],
   "source": [
    "def upsample(features, target, repeat):\n",
    "    features_zeros = features[target == 0]\n",
    "    features_ones = features[target == 1]\n",
    "    target_zeros = target[target == 0]\n",
    "    target_ones = target[target == 1]\n",
    "\n",
    "    features_upsampled = pd.concat([features_zeros] + [features_ones] * repeat)\n",
    "    target_upsampled = pd.concat([target_zeros] + [target_ones] * repeat)\n",
    "    \n",
    "    features_upsampled, target_upsampled = shuffle(\n",
    "        features_upsampled, target_upsampled, random_state=12345)\n",
    "    \n",
    "    return features_upsampled, target_upsampled\n",
    "\n",
    "features_upsampled, target_upsampled = upsample(features_train, target_train, 4)"
   ]
  },
  {
   "cell_type": "markdown",
   "metadata": {},
   "source": [
    "Проверим баланс классов:"
   ]
  },
  {
   "cell_type": "code",
   "execution_count": 18,
   "metadata": {},
   "outputs": [
    {
     "data": {
      "text/plain": [
       "1    0.50569\n",
       "0    0.49431\n",
       "Name: exited, dtype: float64"
      ]
     },
     "execution_count": 18,
     "metadata": {},
     "output_type": "execute_result"
    }
   ],
   "source": [
    "target_upsampled.value_counts(normalize=True)"
   ]
  },
  {
   "cell_type": "markdown",
   "metadata": {},
   "source": [
    "**Вывод**"
   ]
  },
  {
   "cell_type": "markdown",
   "metadata": {},
   "source": [
    "При создании функции для устранения проблемы дисбаланса применен метод увеличения выборки."
   ]
  },
  {
   "cell_type": "markdown",
   "metadata": {},
   "source": [
    "## Выбор модели"
   ]
  },
  {
   "cell_type": "markdown",
   "metadata": {},
   "source": [
    "Cоздадим функции для отображения Матрицы ошибок, вывода основных метрик и сохранения результатов работы моделей:"
   ]
  },
  {
   "cell_type": "code",
   "execution_count": 19,
   "metadata": {},
   "outputs": [],
   "source": [
    "def matrix_conf(target, predictions):\n",
    "    matrix = confusion_matrix(target, predictions)\n",
    "    plt.figure(figsize=(4, 3))\n",
    "    ax= plt.subplot()\n",
    "    sns.heatmap(matrix, annot=True, fmt='g', ax=ax); \n",
    "    ax.set_xlabel('Predicted labels');ax.set_ylabel('True labels'); \n",
    "    ax.set_title('Confusion Matrix'); \n",
    "    ax.xaxis.set_ticklabels(['0', '1']); ax.yaxis.set_ticklabels(['0', '1'])\n",
    "\n",
    "def mean_test_scorer(grid_search):\n",
    "    results = pd.DataFrame(grid_search.cv_results_)\n",
    "    results = results[['mean_test_f1', 'mean_test_auc_roc','mean_test_precision', 'mean_test_recall', \\\n",
    "                       'mean_test_accuracy']].round(3).sort_values(by='mean_test_f1', ascending=False)\n",
    "    results.columns = ['f1', 'auc_roc', 'precision', 'recall', 'accuracy']\n",
    "    return results\n",
    "\n",
    "def quality(model, prediction, true):\n",
    "    f1 = f1_score(true, prediction)\n",
    "    precision = precision_score(true, prediction)\n",
    "    recall = recall_score(true, prediction)\n",
    "    accuracy = accuracy_score(true, prediction)\n",
    "    \n",
    "    probabilities_train = model.predict_proba(features_train)\n",
    "    probabilities_one_train = probabilities_train[:, 1]\n",
    "    auc_roc = roc_auc_score(true, probabilities_one_train)\n",
    "    scorers = pd.DataFrame([f1, auc_roc, precision, recall, accuracy], index=['f1', 'auc_roc', 'precision', 'recall', \\\n",
    "              'accuracy']).round(3).T\n",
    "    return scorers\n",
    "\n",
    "def model_result(model, results):    \n",
    "    scorers = pd.DataFrame(results.iloc[0])\n",
    "    scorers.columns = [model]\n",
    "    return scorers\n",
    "\n",
    "\n",
    "scorers_result = pd.DataFrame() #датафрейм для хранения результатов работы моделей"
   ]
  },
  {
   "cell_type": "markdown",
   "metadata": {},
   "source": [
    "### Логистическая регрессия"
   ]
  },
  {
   "cell_type": "markdown",
   "metadata": {},
   "source": [
    "#### Подбор параметров без устранения дисбаланса"
   ]
  },
  {
   "cell_type": "code",
   "execution_count": 20,
   "metadata": {},
   "outputs": [
    {
     "name": "stdout",
     "output_type": "stream",
     "text": [
      "f1 на тренировочной выборке: 0.498\n",
      "Параметры лучшей модели: {'C': 0.012742749857031334, 'class_weight': 'balanced', 'penalty': 'l1'}\n",
      "CPU times: total: 5.7 s\n",
      "Wall time: 5.69 s\n"
     ]
    }
   ],
   "source": [
    "%%time\n",
    "\n",
    "param_grid = {'penalty' : ['l1', 'l2'],\n",
    "              'C' : np.logspace(-4, 4, 20),\n",
    "              'class_weight': [None, 'balanced']\n",
    "}\n",
    "\n",
    "scorers = {'precision': make_scorer(precision_score),\n",
    "           'recall': make_scorer(recall_score),\n",
    "           'accuracy': make_scorer(accuracy_score),\n",
    "           'f1': make_scorer(f1_score),\n",
    "           'auc_roc': make_scorer(roc_auc_score)\n",
    "} \n",
    "\n",
    "model_logistic_regression = LogisticRegression(random_state=12345, solver='liblinear')\n",
    "grid_search_logistic_regression = GridSearchCV(model_logistic_regression, param_grid, cv=5, scoring=scorers, refit='f1')\n",
    "grid_search_logistic_regression.fit(features_train, target_train)\n",
    "predictions_train = grid_search_logistic_regression.best_estimator_.predict(features_train)\n",
    "\n",
    "\n",
    "print(\"f1 на тренировочной выборке: {:.3f}\".format(grid_search_logistic_regression.best_score_)) \n",
    "print(\"Параметры лучшей модели:\", grid_search_logistic_regression.best_params_)"
   ]
  },
  {
   "cell_type": "code",
   "execution_count": 21,
   "metadata": {},
   "outputs": [
    {
     "data": {
      "image/png": "[encoded data removed]",
      "text/plain": [
       "<Figure size 400x300 with 2 Axes>"
      ]
     },
     "metadata": {},
     "output_type": "display_data"
    }
   ],
   "source": [
    "matrix_conf(target_train, predictions_train)"
   ]
  },
  {
   "cell_type": "markdown",
   "metadata": {},
   "source": [
    "Модель сделала 1646 ошибку. Плохо прогнозируется класс \"1\".\n",
    "\n",
    "В таблице ниже представлены средние значения метрик на соответствующем тесте при подборе параметров и кросс-валидации: "
   ]
  },
  {
   "cell_type": "code",
   "execution_count": 22,
   "metadata": {},
   "outputs": [
    {
     "data": {
      "text/html": [
       "<div>\n",
       "<style scoped>\n",
       "    .dataframe tbody tr th:only-of-type {\n",
       "        vertical-align: middle;\n",
       "    }\n",
       "\n",
       "    .dataframe tbody tr th {\n",
       "        vertical-align: top;\n",
       "    }\n",
       "\n",
       "    .dataframe thead th {\n",
       "        text-align: right;\n",
       "    }\n",
       "</style>\n",
       "<table border=\"1\" class=\"dataframe\">\n",
       "  <thead>\n",
       "    <tr style=\"text-align: right;\">\n",
       "      <th></th>\n",
       "      <th>f1</th>\n",
       "      <th>auc_roc</th>\n",
       "      <th>precision</th>\n",
       "      <th>recall</th>\n",
       "      <th>accuracy</th>\n",
       "    </tr>\n",
       "  </thead>\n",
       "  <tbody>\n",
       "    <tr>\n",
       "      <th>22</th>\n",
       "      <td>0.498</td>\n",
       "      <td>0.704</td>\n",
       "      <td>0.399</td>\n",
       "      <td>0.664</td>\n",
       "      <td>0.728</td>\n",
       "    </tr>\n",
       "    <tr>\n",
       "      <th>15</th>\n",
       "      <td>0.498</td>\n",
       "      <td>0.704</td>\n",
       "      <td>0.398</td>\n",
       "      <td>0.664</td>\n",
       "      <td>0.727</td>\n",
       "    </tr>\n",
       "    <tr>\n",
       "      <th>19</th>\n",
       "      <td>0.496</td>\n",
       "      <td>0.703</td>\n",
       "      <td>0.395</td>\n",
       "      <td>0.669</td>\n",
       "      <td>0.724</td>\n",
       "    </tr>\n",
       "    <tr>\n",
       "      <th>23</th>\n",
       "      <td>0.493</td>\n",
       "      <td>0.701</td>\n",
       "      <td>0.389</td>\n",
       "      <td>0.673</td>\n",
       "      <td>0.718</td>\n",
       "    </tr>\n",
       "    <tr>\n",
       "      <th>11</th>\n",
       "      <td>0.493</td>\n",
       "      <td>0.699</td>\n",
       "      <td>0.396</td>\n",
       "      <td>0.652</td>\n",
       "      <td>0.727</td>\n",
       "    </tr>\n",
       "    <tr>\n",
       "      <th>26</th>\n",
       "      <td>0.493</td>\n",
       "      <td>0.701</td>\n",
       "      <td>0.391</td>\n",
       "      <td>0.669</td>\n",
       "      <td>0.720</td>\n",
       "    </tr>\n",
       "    <tr>\n",
       "      <th>18</th>\n",
       "      <td>0.491</td>\n",
       "      <td>0.701</td>\n",
       "      <td>0.385</td>\n",
       "      <td>0.680</td>\n",
       "      <td>0.713</td>\n",
       "    </tr>\n",
       "    <tr>\n",
       "      <th>27</th>\n",
       "      <td>0.489</td>\n",
       "      <td>0.699</td>\n",
       "      <td>0.383</td>\n",
       "      <td>0.678</td>\n",
       "      <td>0.712</td>\n",
       "    </tr>\n",
       "    <tr>\n",
       "      <th>7</th>\n",
       "      <td>0.489</td>\n",
       "      <td>0.694</td>\n",
       "      <td>0.397</td>\n",
       "      <td>0.637</td>\n",
       "      <td>0.729</td>\n",
       "    </tr>\n",
       "    <tr>\n",
       "      <th>31</th>\n",
       "      <td>0.488</td>\n",
       "      <td>0.698</td>\n",
       "      <td>0.381</td>\n",
       "      <td>0.679</td>\n",
       "      <td>0.710</td>\n",
       "    </tr>\n",
       "  </tbody>\n",
       "</table>\n",
       "</div>"
      ],
      "text/plain": [
       "       f1  auc_roc  precision  recall  accuracy\n",
       "22  0.498    0.704      0.399   0.664     0.728\n",
       "15  0.498    0.704      0.398   0.664     0.727\n",
       "19  0.496    0.703      0.395   0.669     0.724\n",
       "23  0.493    0.701      0.389   0.673     0.718\n",
       "11  0.493    0.699      0.396   0.652     0.727\n",
       "26  0.493    0.701      0.391   0.669     0.720\n",
       "18  0.491    0.701      0.385   0.680     0.713\n",
       "27  0.489    0.699      0.383   0.678     0.712\n",
       "7   0.489    0.694      0.397   0.637     0.729\n",
       "31  0.488    0.698      0.381   0.679     0.710"
      ]
     },
     "execution_count": 22,
     "metadata": {},
     "output_type": "execute_result"
    }
   ],
   "source": [
    "results = mean_test_scorer(grid_search_logistic_regression)\n",
    "results.head(10)"
   ]
  },
  {
   "cell_type": "code",
   "execution_count": 23,
   "metadata": {},
   "outputs": [],
   "source": [
    "scorers_result = model_result('log_reg_disbalance', results).join(scorers_result) #сохранение результатов"
   ]
  },
  {
   "cell_type": "markdown",
   "metadata": {},
   "source": [
    "#### Подбор параметров с устранением дисбаланса"
   ]
  },
  {
   "cell_type": "code",
   "execution_count": 24,
   "metadata": {},
   "outputs": [
    {
     "name": "stdout",
     "output_type": "stream",
     "text": [
      "f1 на тренировочной выборке: 0.500\n",
      "Параметры лучшей модели: 'C':  0.004832930238571752, 'class_weight': 'balanced', 'penalty': 'l1'\n",
      "CPU times: total: 2.69 s\n",
      "Wall time: 2.68 s\n"
     ]
    }
   ],
   "source": [
    "%%time\n",
    "best_model_logistic_regression = None\n",
    "best_scorer_logistic_regression = 0\n",
    "\n",
    "best_penalty = None\n",
    "best_C = None\n",
    "best_class_weight = None\n",
    "\n",
    "results = pd.DataFrame() # сюда запишем метрики на каждом шаге цикла с помощью функции quality()\n",
    "\n",
    "for penalty in ('l1', 'l2'):\n",
    "    for C in np.logspace(-4, 4, 20):\n",
    "        for class_weight in (None, 'balanced'):\n",
    "            model_logistic_regression = LogisticRegression(random_state=12345, solver='liblinear', penalty=penalty, \\\n",
    "                                        C=C, class_weight=class_weight)     \n",
    "            model_logistic_regression.fit(features_upsampled, target_upsampled)\n",
    "            predictions_train = model_logistic_regression.predict(features_train)\n",
    "            predictions_valid = model_logistic_regression.predict(features_valid)\n",
    "            scorer = f1_score(predictions_train, target_train)\n",
    "            results = pd.concat([results,quality(model_logistic_regression, predictions_train, \\\n",
    "                           target_train)], ignore_index=True)\n",
    "            \n",
    "            if scorer > best_scorer_logistic_regression:\n",
    "                best_model_logistic_regression = model_logistic_regression\n",
    "                best_scorer_logistic_regression = scorer\n",
    "                \n",
    "                best_penalty = penalty\n",
    "                best_C = C\n",
    "                best_class_weight = class_weight\n",
    "                       \n",
    "            \n",
    "print(\"f1 на тренировочной выборке: {:.3f}\".format(best_scorer_logistic_regression))\n",
    "print(\"Параметры лучшей модели: 'C':  {:.18f}, 'class_weight': '{}', 'penalty': '{}'\".format(best_C, best_class_weight,\\\n",
    "                                                                               best_penalty))    \n",
    "            "
   ]
  },
  {
   "cell_type": "code",
   "execution_count": 25,
   "metadata": {},
   "outputs": [
    {
     "data": {
      "image/png": "[encoded data removed]",
      "text/plain": [
       "<Figure size 400x300 with 2 Axes>"
      ]
     },
     "metadata": {},
     "output_type": "display_data"
    }
   ],
   "source": [
    "matrix_conf(target_train, best_model_logistic_regression.predict(features_train))"
   ]
  },
  {
   "cell_type": "markdown",
   "metadata": {},
   "source": [
    "Модель сделала 1642 ошибки. Плохо прогнозируется класс \"1\".\n",
    "\n",
    "В таблице ниже представлены значения метрик на соответствующем тесте при подборе параметров:"
   ]
  },
  {
   "cell_type": "code",
   "execution_count": 26,
   "metadata": {},
   "outputs": [
    {
     "data": {
      "text/html": [
       "<div>\n",
       "<style scoped>\n",
       "    .dataframe tbody tr th:only-of-type {\n",
       "        vertical-align: middle;\n",
       "    }\n",
       "\n",
       "    .dataframe tbody tr th {\n",
       "        vertical-align: top;\n",
       "    }\n",
       "\n",
       "    .dataframe thead th {\n",
       "        text-align: right;\n",
       "    }\n",
       "</style>\n",
       "<table border=\"1\" class=\"dataframe\">\n",
       "  <thead>\n",
       "    <tr style=\"text-align: right;\">\n",
       "      <th></th>\n",
       "      <th>f1</th>\n",
       "      <th>auc_roc</th>\n",
       "      <th>precision</th>\n",
       "      <th>recall</th>\n",
       "      <th>accuracy</th>\n",
       "    </tr>\n",
       "  </thead>\n",
       "  <tbody>\n",
       "    <tr>\n",
       "      <th>9</th>\n",
       "      <td>0.500</td>\n",
       "      <td>0.760</td>\n",
       "      <td>0.398</td>\n",
       "      <td>0.671</td>\n",
       "      <td>0.726</td>\n",
       "    </tr>\n",
       "    <tr>\n",
       "      <th>47</th>\n",
       "      <td>0.499</td>\n",
       "      <td>0.765</td>\n",
       "      <td>0.399</td>\n",
       "      <td>0.665</td>\n",
       "      <td>0.728</td>\n",
       "    </tr>\n",
       "    <tr>\n",
       "      <th>8</th>\n",
       "      <td>0.498</td>\n",
       "      <td>0.760</td>\n",
       "      <td>0.393</td>\n",
       "      <td>0.678</td>\n",
       "      <td>0.722</td>\n",
       "    </tr>\n",
       "    <tr>\n",
       "      <th>44</th>\n",
       "      <td>0.497</td>\n",
       "      <td>0.761</td>\n",
       "      <td>0.393</td>\n",
       "      <td>0.676</td>\n",
       "      <td>0.721</td>\n",
       "    </tr>\n",
       "    <tr>\n",
       "      <th>49</th>\n",
       "      <td>0.497</td>\n",
       "      <td>0.767</td>\n",
       "      <td>0.394</td>\n",
       "      <td>0.675</td>\n",
       "      <td>0.722</td>\n",
       "    </tr>\n",
       "    <tr>\n",
       "      <th>51</th>\n",
       "      <td>0.496</td>\n",
       "      <td>0.767</td>\n",
       "      <td>0.390</td>\n",
       "      <td>0.681</td>\n",
       "      <td>0.718</td>\n",
       "    </tr>\n",
       "    <tr>\n",
       "      <th>50</th>\n",
       "      <td>0.496</td>\n",
       "      <td>0.767</td>\n",
       "      <td>0.387</td>\n",
       "      <td>0.691</td>\n",
       "      <td>0.714</td>\n",
       "    </tr>\n",
       "    <tr>\n",
       "      <th>46</th>\n",
       "      <td>0.496</td>\n",
       "      <td>0.765</td>\n",
       "      <td>0.392</td>\n",
       "      <td>0.674</td>\n",
       "      <td>0.721</td>\n",
       "    </tr>\n",
       "    <tr>\n",
       "      <th>48</th>\n",
       "      <td>0.496</td>\n",
       "      <td>0.767</td>\n",
       "      <td>0.389</td>\n",
       "      <td>0.685</td>\n",
       "      <td>0.717</td>\n",
       "    </tr>\n",
       "    <tr>\n",
       "      <th>45</th>\n",
       "      <td>0.496</td>\n",
       "      <td>0.761</td>\n",
       "      <td>0.397</td>\n",
       "      <td>0.661</td>\n",
       "      <td>0.727</td>\n",
       "    </tr>\n",
       "  </tbody>\n",
       "</table>\n",
       "</div>"
      ],
      "text/plain": [
       "       f1  auc_roc  precision  recall  accuracy\n",
       "9   0.500    0.760      0.398   0.671     0.726\n",
       "47  0.499    0.765      0.399   0.665     0.728\n",
       "8   0.498    0.760      0.393   0.678     0.722\n",
       "44  0.497    0.761      0.393   0.676     0.721\n",
       "49  0.497    0.767      0.394   0.675     0.722\n",
       "51  0.496    0.767      0.390   0.681     0.718\n",
       "50  0.496    0.767      0.387   0.691     0.714\n",
       "46  0.496    0.765      0.392   0.674     0.721\n",
       "48  0.496    0.767      0.389   0.685     0.717\n",
       "45  0.496    0.761      0.397   0.661     0.727"
      ]
     },
     "execution_count": 26,
     "metadata": {},
     "output_type": "execute_result"
    }
   ],
   "source": [
    "results = results.sort_values(by='f1', ascending=False)\n",
    "results.head(10)"
   ]
  },
  {
   "cell_type": "code",
   "execution_count": 27,
   "metadata": {},
   "outputs": [],
   "source": [
    "scorers_result = model_result('log_reg_balance', results).join(scorers_result) #сохранение результатов"
   ]
  },
  {
   "cell_type": "markdown",
   "metadata": {},
   "source": [
    "### Решающее дерево"
   ]
  },
  {
   "cell_type": "markdown",
   "metadata": {},
   "source": [
    "#### Подбор параметров без устранения дисбаланса"
   ]
  },
  {
   "cell_type": "code",
   "execution_count": 28,
   "metadata": {},
   "outputs": [
    {
     "name": "stdout",
     "output_type": "stream",
     "text": [
      "f1 на тренировочной выборке: 0.570\n",
      "Параметры лучшей модели: {'class_weight': 'balanced', 'criterion': 'entropy', 'max_depth': 7, 'min_samples_leaf': 3}\n",
      "CPU times: total: 21.2 s\n",
      "Wall time: 21.2 s\n"
     ]
    }
   ],
   "source": [
    "%%time\n",
    "\n",
    "param_grid = {'max_depth': range (1,10),\n",
    "              'criterion': ['gini', 'entropy'],\n",
    "              'min_samples_leaf': range (3,10),\n",
    "              'class_weight': [None, 'balanced']\n",
    "}\n",
    "\n",
    "scorers = {'precision': make_scorer(precision_score),\n",
    "           'recall': make_scorer(recall_score),\n",
    "           'accuracy': make_scorer(accuracy_score),\n",
    "           'f1': make_scorer(f1_score),\n",
    "           'auc_roc': make_scorer(roc_auc_score)\n",
    "} \n",
    "\n",
    "model_decision_tree = DecisionTreeClassifier(random_state=12345)\n",
    "grid_search_decision_tree = GridSearchCV(model_decision_tree, param_grid, cv=5, scoring=scorers, refit='f1')\n",
    "grid_search_decision_tree.fit(features_train, target_train)\n",
    "predictions_train = grid_search_decision_tree.best_estimator_.predict(features_train)\n",
    "\n",
    "\n",
    "print(\"f1 на тренировочной выборке: {:.3f}\".format(grid_search_decision_tree.best_score_)) \n",
    "print(\"Параметры лучшей модели:\", grid_search_decision_tree.best_params_)"
   ]
  },
  {
   "cell_type": "code",
   "execution_count": 29,
   "metadata": {},
   "outputs": [
    {
     "data": {
      "image/png": "[encoded data removed]",
      "text/plain": [
       "<Figure size 400x300 with 2 Axes>"
      ]
     },
     "metadata": {},
     "output_type": "display_data"
    }
   ],
   "source": [
    "matrix_conf(target_train, predictions_train)"
   ]
  },
  {
   "cell_type": "markdown",
   "metadata": {},
   "source": [
    "Модель сделала 1056 ошибки. Класс `\"1\"` прогнозируется лучше, чем в модели `LogisticRegression`. Все еще много предсказаний `FP`.\n",
    "\n",
    "В таблице ниже представлены средние значения метрик на соответствующем тесте при подборе параметров и кросс-валидации:"
   ]
  },
  {
   "cell_type": "code",
   "execution_count": 30,
   "metadata": {},
   "outputs": [
    {
     "data": {
      "text/html": [
       "<div>\n",
       "<style scoped>\n",
       "    .dataframe tbody tr th:only-of-type {\n",
       "        vertical-align: middle;\n",
       "    }\n",
       "\n",
       "    .dataframe tbody tr th {\n",
       "        vertical-align: top;\n",
       "    }\n",
       "\n",
       "    .dataframe thead th {\n",
       "        text-align: right;\n",
       "    }\n",
       "</style>\n",
       "<table border=\"1\" class=\"dataframe\">\n",
       "  <thead>\n",
       "    <tr style=\"text-align: right;\">\n",
       "      <th></th>\n",
       "      <th>f1</th>\n",
       "      <th>auc_roc</th>\n",
       "      <th>precision</th>\n",
       "      <th>recall</th>\n",
       "      <th>accuracy</th>\n",
       "    </tr>\n",
       "  </thead>\n",
       "  <tbody>\n",
       "    <tr>\n",
       "      <th>231</th>\n",
       "      <td>0.570</td>\n",
       "      <td>0.761</td>\n",
       "      <td>0.464</td>\n",
       "      <td>0.746</td>\n",
       "      <td>0.769</td>\n",
       "    </tr>\n",
       "    <tr>\n",
       "      <th>169</th>\n",
       "      <td>0.569</td>\n",
       "      <td>0.763</td>\n",
       "      <td>0.455</td>\n",
       "      <td>0.760</td>\n",
       "      <td>0.764</td>\n",
       "    </tr>\n",
       "    <tr>\n",
       "      <th>168</th>\n",
       "      <td>0.569</td>\n",
       "      <td>0.763</td>\n",
       "      <td>0.456</td>\n",
       "      <td>0.759</td>\n",
       "      <td>0.765</td>\n",
       "    </tr>\n",
       "    <tr>\n",
       "      <th>170</th>\n",
       "      <td>0.569</td>\n",
       "      <td>0.762</td>\n",
       "      <td>0.457</td>\n",
       "      <td>0.756</td>\n",
       "      <td>0.766</td>\n",
       "    </tr>\n",
       "    <tr>\n",
       "      <th>237</th>\n",
       "      <td>0.569</td>\n",
       "      <td>0.760</td>\n",
       "      <td>0.463</td>\n",
       "      <td>0.741</td>\n",
       "      <td>0.770</td>\n",
       "    </tr>\n",
       "    <tr>\n",
       "      <th>232</th>\n",
       "      <td>0.569</td>\n",
       "      <td>0.758</td>\n",
       "      <td>0.467</td>\n",
       "      <td>0.736</td>\n",
       "      <td>0.772</td>\n",
       "    </tr>\n",
       "    <tr>\n",
       "      <th>233</th>\n",
       "      <td>0.569</td>\n",
       "      <td>0.758</td>\n",
       "      <td>0.466</td>\n",
       "      <td>0.736</td>\n",
       "      <td>0.772</td>\n",
       "    </tr>\n",
       "    <tr>\n",
       "      <th>234</th>\n",
       "      <td>0.569</td>\n",
       "      <td>0.759</td>\n",
       "      <td>0.464</td>\n",
       "      <td>0.741</td>\n",
       "      <td>0.770</td>\n",
       "    </tr>\n",
       "    <tr>\n",
       "      <th>236</th>\n",
       "      <td>0.568</td>\n",
       "      <td>0.759</td>\n",
       "      <td>0.463</td>\n",
       "      <td>0.738</td>\n",
       "      <td>0.771</td>\n",
       "    </tr>\n",
       "    <tr>\n",
       "      <th>171</th>\n",
       "      <td>0.568</td>\n",
       "      <td>0.763</td>\n",
       "      <td>0.455</td>\n",
       "      <td>0.760</td>\n",
       "      <td>0.764</td>\n",
       "    </tr>\n",
       "  </tbody>\n",
       "</table>\n",
       "</div>"
      ],
      "text/plain": [
       "        f1  auc_roc  precision  recall  accuracy\n",
       "231  0.570    0.761      0.464   0.746     0.769\n",
       "169  0.569    0.763      0.455   0.760     0.764\n",
       "168  0.569    0.763      0.456   0.759     0.765\n",
       "170  0.569    0.762      0.457   0.756     0.766\n",
       "237  0.569    0.760      0.463   0.741     0.770\n",
       "232  0.569    0.758      0.467   0.736     0.772\n",
       "233  0.569    0.758      0.466   0.736     0.772\n",
       "234  0.569    0.759      0.464   0.741     0.770\n",
       "236  0.568    0.759      0.463   0.738     0.771\n",
       "171  0.568    0.763      0.455   0.760     0.764"
      ]
     },
     "execution_count": 30,
     "metadata": {},
     "output_type": "execute_result"
    }
   ],
   "source": [
    "results = mean_test_scorer(grid_search_decision_tree)\n",
    "results.head(10)"
   ]
  },
  {
   "cell_type": "code",
   "execution_count": 31,
   "metadata": {},
   "outputs": [],
   "source": [
    "scorers_result = model_result('dec_tree_disbalance', results).join(scorers_result)#сохранение результатов"
   ]
  },
  {
   "cell_type": "markdown",
   "metadata": {},
   "source": [
    "#### Подбор параметров с устранением дисбаланса"
   ]
  },
  {
   "cell_type": "code",
   "execution_count": 32,
   "metadata": {},
   "outputs": [
    {
     "name": "stdout",
     "output_type": "stream",
     "text": [
      "f1 на тренировочной выборке: 0.667\n",
      "Параметры лучшей модели: 'class_weight': 'None', 'criterion': 'gini',  'max_depth':  9, 'min_samples_leaf': '3'\n",
      "CPU times: total: 8.19 s\n",
      "Wall time: 8.19 s\n"
     ]
    }
   ],
   "source": [
    "%%time\n",
    "best_model_decision_tree = None\n",
    "best_scorer_decision_tree = 0\n",
    "\n",
    "best_max_depth = None\n",
    "best_min_samples_leaf = None\n",
    "best_criterion = None\n",
    "best_class_weight = None\n",
    "\n",
    "results = pd.DataFrame() # сюда запишем метрики на каждом шаге цикла с помощью функции quality()\n",
    "\n",
    "for max_depth in range(1, 10):\n",
    "    for min_samples_leaf in range(3, 10):\n",
    "        for criterion in ('gini', 'entropy'):\n",
    "            for class_weight in (None, 'balanced'):\n",
    "                model_decision_tree = DecisionTreeClassifier(random_state=12345, max_depth=max_depth, \\\n",
    "                                      min_samples_leaf=min_samples_leaf, criterion=criterion, class_weight=class_weight)     \n",
    "                model_decision_tree.fit(features_upsampled, target_upsampled)\n",
    "                predictions_train = model_decision_tree.predict(features_train)\n",
    "                predictions_valid = model_decision_tree.predict(features_valid)\n",
    "                scorer = f1_score(predictions_train, target_train)\n",
    "                if scorer > best_scorer_decision_tree:\n",
    "                    best_model_decision_tree = model_decision_tree\n",
    "                    best_scorer_decision_tree = scorer\n",
    "                    \n",
    "                    best_max_depth = max_depth\n",
    "                    best_min_samples_leaf = min_samples_leaf\n",
    "                    best_criterion = criterion\n",
    "                    best_class_weight = class_weight\n",
    "                \n",
    "                results = pd.concat([results,quality(model_decision_tree, predictions_train, \\\n",
    "                           target_train)], ignore_index=True)\n",
    "print(\"f1 на тренировочной выборке: {:.3f}\".format(best_scorer_decision_tree))\n",
    "print(\"Параметры лучшей модели: 'class_weight': '{}', 'criterion': '{}',  'max_depth':  {}, 'min_samples_leaf': '{}'\".format(best_class_weight,\\\n",
    "                                                best_criterion, best_max_depth, best_min_samples_leaf))    \n",
    "            "
   ]
  },
  {
   "cell_type": "code",
   "execution_count": 33,
   "metadata": {},
   "outputs": [
    {
     "data": {
      "image/png": "[encoded data removed]",
      "text/plain": [
       "<Figure size 400x300 with 2 Axes>"
      ]
     },
     "metadata": {},
     "output_type": "display_data"
    }
   ],
   "source": [
    "matrix_conf(target_train, best_model_decision_tree.predict(features_train))"
   ]
  },
  {
   "cell_type": "markdown",
   "metadata": {},
   "source": [
    "Модель сделала 1053 ошибки. Класс `\"1\"` прогнозируется лучше, чем в модели без устранения дисбаланса. Все еще много предсказаний `FP`.\n",
    "\n",
    "В таблице ниже представлены значения метрик на соответствующем тесте при подборе параметров:"
   ]
  },
  {
   "cell_type": "code",
   "execution_count": 34,
   "metadata": {},
   "outputs": [
    {
     "data": {
      "text/html": [
       "<div>\n",
       "<style scoped>\n",
       "    .dataframe tbody tr th:only-of-type {\n",
       "        vertical-align: middle;\n",
       "    }\n",
       "\n",
       "    .dataframe tbody tr th {\n",
       "        vertical-align: top;\n",
       "    }\n",
       "\n",
       "    .dataframe thead th {\n",
       "        text-align: right;\n",
       "    }\n",
       "</style>\n",
       "<table border=\"1\" class=\"dataframe\">\n",
       "  <thead>\n",
       "    <tr style=\"text-align: right;\">\n",
       "      <th></th>\n",
       "      <th>f1</th>\n",
       "      <th>auc_roc</th>\n",
       "      <th>precision</th>\n",
       "      <th>recall</th>\n",
       "      <th>accuracy</th>\n",
       "    </tr>\n",
       "  </thead>\n",
       "  <tbody>\n",
       "    <tr>\n",
       "      <th>224</th>\n",
       "      <td>0.667</td>\n",
       "      <td>0.928</td>\n",
       "      <td>0.544</td>\n",
       "      <td>0.863</td>\n",
       "      <td>0.824</td>\n",
       "    </tr>\n",
       "    <tr>\n",
       "      <th>249</th>\n",
       "      <td>0.667</td>\n",
       "      <td>0.922</td>\n",
       "      <td>0.557</td>\n",
       "      <td>0.830</td>\n",
       "      <td>0.831</td>\n",
       "    </tr>\n",
       "    <tr>\n",
       "      <th>225</th>\n",
       "      <td>0.667</td>\n",
       "      <td>0.928</td>\n",
       "      <td>0.544</td>\n",
       "      <td>0.863</td>\n",
       "      <td>0.824</td>\n",
       "    </tr>\n",
       "    <tr>\n",
       "      <th>248</th>\n",
       "      <td>0.666</td>\n",
       "      <td>0.922</td>\n",
       "      <td>0.557</td>\n",
       "      <td>0.830</td>\n",
       "      <td>0.831</td>\n",
       "    </tr>\n",
       "    <tr>\n",
       "      <th>229</th>\n",
       "      <td>0.665</td>\n",
       "      <td>0.927</td>\n",
       "      <td>0.541</td>\n",
       "      <td>0.863</td>\n",
       "      <td>0.823</td>\n",
       "    </tr>\n",
       "    <tr>\n",
       "      <th>228</th>\n",
       "      <td>0.665</td>\n",
       "      <td>0.927</td>\n",
       "      <td>0.541</td>\n",
       "      <td>0.863</td>\n",
       "      <td>0.823</td>\n",
       "    </tr>\n",
       "    <tr>\n",
       "      <th>233</th>\n",
       "      <td>0.662</td>\n",
       "      <td>0.925</td>\n",
       "      <td>0.538</td>\n",
       "      <td>0.860</td>\n",
       "      <td>0.821</td>\n",
       "    </tr>\n",
       "    <tr>\n",
       "      <th>232</th>\n",
       "      <td>0.661</td>\n",
       "      <td>0.925</td>\n",
       "      <td>0.537</td>\n",
       "      <td>0.860</td>\n",
       "      <td>0.821</td>\n",
       "    </tr>\n",
       "    <tr>\n",
       "      <th>244</th>\n",
       "      <td>0.659</td>\n",
       "      <td>0.923</td>\n",
       "      <td>0.536</td>\n",
       "      <td>0.854</td>\n",
       "      <td>0.820</td>\n",
       "    </tr>\n",
       "    <tr>\n",
       "      <th>245</th>\n",
       "      <td>0.659</td>\n",
       "      <td>0.923</td>\n",
       "      <td>0.537</td>\n",
       "      <td>0.854</td>\n",
       "      <td>0.820</td>\n",
       "    </tr>\n",
       "  </tbody>\n",
       "</table>\n",
       "</div>"
      ],
      "text/plain": [
       "        f1  auc_roc  precision  recall  accuracy\n",
       "224  0.667    0.928      0.544   0.863     0.824\n",
       "249  0.667    0.922      0.557   0.830     0.831\n",
       "225  0.667    0.928      0.544   0.863     0.824\n",
       "248  0.666    0.922      0.557   0.830     0.831\n",
       "229  0.665    0.927      0.541   0.863     0.823\n",
       "228  0.665    0.927      0.541   0.863     0.823\n",
       "233  0.662    0.925      0.538   0.860     0.821\n",
       "232  0.661    0.925      0.537   0.860     0.821\n",
       "244  0.659    0.923      0.536   0.854     0.820\n",
       "245  0.659    0.923      0.537   0.854     0.820"
      ]
     },
     "execution_count": 34,
     "metadata": {},
     "output_type": "execute_result"
    }
   ],
   "source": [
    "results = results.sort_values(by='f1', ascending=False)\n",
    "results.head(10)"
   ]
  },
  {
   "cell_type": "code",
   "execution_count": 35,
   "metadata": {},
   "outputs": [],
   "source": [
    "scorers_result = model_result('dec_tree_balance', results).join(scorers_result) #сохранение результатов"
   ]
  },
  {
   "cell_type": "markdown",
   "metadata": {},
   "source": [
    "### Cлучайный лес"
   ]
  },
  {
   "cell_type": "markdown",
   "metadata": {},
   "source": [
    "#### Подбор параметров без устранения дисбаланса"
   ]
  },
  {
   "cell_type": "code",
   "execution_count": 36,
   "metadata": {},
   "outputs": [
    {
     "name": "stdout",
     "output_type": "stream",
     "text": [
      "f1 на тренировочной выборке: 0.605\n",
      "Параметры лучшей модели: {'n_estimators': 51, 'max_depth': 9, 'class_weight': 'balanced'}\n",
      "CPU times: total: 6.45 s\n",
      "Wall time: 6.46 s\n"
     ]
    }
   ],
   "source": [
    "%%time\n",
    "\n",
    "param_grid = {'n_estimators': range (1,100,5),\n",
    "              'max_depth': range (1,10),\n",
    "              'class_weight': [None, 'balanced']\n",
    "}\n",
    "scorers = {'precision': make_scorer(precision_score),\n",
    "           'recall': make_scorer(recall_score),\n",
    "           'accuracy': make_scorer(accuracy_score),\n",
    "           'f1': make_scorer(f1_score),\n",
    "           'auc_roc': make_scorer(roc_auc_score)\n",
    "          } \n",
    "\n",
    "model_random_forest = RandomForestClassifier(random_state=12345)\n",
    "grid_search_random_forest = RandomizedSearchCV(model_random_forest, param_grid, cv=5, scoring=scorers, refit='f1', random_state=12345)\n",
    "grid_search_random_forest.fit(features_train, target_train)\n",
    "predictions_train = grid_search_random_forest.best_estimator_.predict(features_train)\n",
    "\n",
    "\n",
    "print(\"f1 на тренировочной выборке: {:.3f}\".format(grid_search_random_forest.best_score_)) \n",
    "print(\"Параметры лучшей модели:\", grid_search_random_forest.best_params_)"
   ]
  },
  {
   "cell_type": "code",
   "execution_count": 37,
   "metadata": {},
   "outputs": [
    {
     "data": {
      "image/png": "[encoded data removed]",
      "text/plain": [
       "<Figure size 400x300 with 2 Axes>"
      ]
     },
     "metadata": {},
     "output_type": "display_data"
    }
   ],
   "source": [
    "matrix_conf(target_train, predictions_train)"
   ]
  },
  {
   "cell_type": "markdown",
   "metadata": {},
   "source": [
    "Модель сделала 638 ошибок. Значительно снизилось количество предсказаний `FP` по сравнению с предыдущими моделями.\n",
    "\n",
    "В таблице ниже представлены средние значения метрик на соответствующем тесте при подборе параметров и кросс-валидации:"
   ]
  },
  {
   "cell_type": "code",
   "execution_count": 38,
   "metadata": {},
   "outputs": [
    {
     "data": {
      "text/html": [
       "<div>\n",
       "<style scoped>\n",
       "    .dataframe tbody tr th:only-of-type {\n",
       "        vertical-align: middle;\n",
       "    }\n",
       "\n",
       "    .dataframe tbody tr th {\n",
       "        vertical-align: top;\n",
       "    }\n",
       "\n",
       "    .dataframe thead th {\n",
       "        text-align: right;\n",
       "    }\n",
       "</style>\n",
       "<table border=\"1\" class=\"dataframe\">\n",
       "  <thead>\n",
       "    <tr style=\"text-align: right;\">\n",
       "      <th></th>\n",
       "      <th>f1</th>\n",
       "      <th>auc_roc</th>\n",
       "      <th>precision</th>\n",
       "      <th>recall</th>\n",
       "      <th>accuracy</th>\n",
       "    </tr>\n",
       "  </thead>\n",
       "  <tbody>\n",
       "    <tr>\n",
       "      <th>8</th>\n",
       "      <td>0.605</td>\n",
       "      <td>0.755</td>\n",
       "      <td>0.594</td>\n",
       "      <td>0.619</td>\n",
       "      <td>0.836</td>\n",
       "    </tr>\n",
       "    <tr>\n",
       "      <th>1</th>\n",
       "      <td>0.575</td>\n",
       "      <td>0.758</td>\n",
       "      <td>0.484</td>\n",
       "      <td>0.711</td>\n",
       "      <td>0.786</td>\n",
       "    </tr>\n",
       "    <tr>\n",
       "      <th>4</th>\n",
       "      <td>0.540</td>\n",
       "      <td>0.730</td>\n",
       "      <td>0.457</td>\n",
       "      <td>0.661</td>\n",
       "      <td>0.771</td>\n",
       "    </tr>\n",
       "    <tr>\n",
       "      <th>5</th>\n",
       "      <td>0.520</td>\n",
       "      <td>0.716</td>\n",
       "      <td>0.433</td>\n",
       "      <td>0.654</td>\n",
       "      <td>0.754</td>\n",
       "    </tr>\n",
       "    <tr>\n",
       "      <th>3</th>\n",
       "      <td>0.518</td>\n",
       "      <td>0.678</td>\n",
       "      <td>0.835</td>\n",
       "      <td>0.376</td>\n",
       "      <td>0.858</td>\n",
       "    </tr>\n",
       "    <tr>\n",
       "      <th>7</th>\n",
       "      <td>0.505</td>\n",
       "      <td>0.678</td>\n",
       "      <td>0.651</td>\n",
       "      <td>0.413</td>\n",
       "      <td>0.835</td>\n",
       "    </tr>\n",
       "    <tr>\n",
       "      <th>2</th>\n",
       "      <td>0.502</td>\n",
       "      <td>0.670</td>\n",
       "      <td>0.838</td>\n",
       "      <td>0.358</td>\n",
       "      <td>0.855</td>\n",
       "    </tr>\n",
       "    <tr>\n",
       "      <th>9</th>\n",
       "      <td>0.499</td>\n",
       "      <td>0.669</td>\n",
       "      <td>0.847</td>\n",
       "      <td>0.354</td>\n",
       "      <td>0.855</td>\n",
       "    </tr>\n",
       "    <tr>\n",
       "      <th>6</th>\n",
       "      <td>0.222</td>\n",
       "      <td>0.562</td>\n",
       "      <td>0.886</td>\n",
       "      <td>0.128</td>\n",
       "      <td>0.819</td>\n",
       "    </tr>\n",
       "    <tr>\n",
       "      <th>0</th>\n",
       "      <td>0.115</td>\n",
       "      <td>0.531</td>\n",
       "      <td>1.000</td>\n",
       "      <td>0.061</td>\n",
       "      <td>0.809</td>\n",
       "    </tr>\n",
       "  </tbody>\n",
       "</table>\n",
       "</div>"
      ],
      "text/plain": [
       "      f1  auc_roc  precision  recall  accuracy\n",
       "8  0.605    0.755      0.594   0.619     0.836\n",
       "1  0.575    0.758      0.484   0.711     0.786\n",
       "4  0.540    0.730      0.457   0.661     0.771\n",
       "5  0.520    0.716      0.433   0.654     0.754\n",
       "3  0.518    0.678      0.835   0.376     0.858\n",
       "7  0.505    0.678      0.651   0.413     0.835\n",
       "2  0.502    0.670      0.838   0.358     0.855\n",
       "9  0.499    0.669      0.847   0.354     0.855\n",
       "6  0.222    0.562      0.886   0.128     0.819\n",
       "0  0.115    0.531      1.000   0.061     0.809"
      ]
     },
     "execution_count": 38,
     "metadata": {},
     "output_type": "execute_result"
    }
   ],
   "source": [
    "results = mean_test_scorer(grid_search_random_forest)\n",
    "results.head(10)"
   ]
  },
  {
   "cell_type": "code",
   "execution_count": 39,
   "metadata": {},
   "outputs": [],
   "source": [
    "scorers_result = model_result('rand_forest_disbalance', results).join(scorers_result)#сохранение результатов"
   ]
  },
  {
   "cell_type": "markdown",
   "metadata": {},
   "source": [
    "#### Подбор параметров с устранением дисбаланса"
   ]
  },
  {
   "cell_type": "code",
   "execution_count": 40,
   "metadata": {},
   "outputs": [
    {
     "name": "stdout",
     "output_type": "stream",
     "text": [
      "f1 на тренировочной выборке: 0.761\n",
      "Параметры лучшей модели: 'n_estimators': '76', 'max_depth':  9, 'class_weight': 'balanced'\n",
      "CPU times: total: 1min 41s\n",
      "Wall time: 1min 41s\n"
     ]
    }
   ],
   "source": [
    "%%time\n",
    "best_model_random_forest = None\n",
    "best_scorer_random_forest = 0\n",
    "\n",
    "best_max_depth = None\n",
    "best_n_estimators = None\n",
    "best_class_weight = None\n",
    "\n",
    "\n",
    "results = pd.DataFrame() # сюда запишем метрики на каждом шаге цикла с помощью функции quality()\n",
    "\n",
    "for max_depth in range(1, 10):\n",
    "    for n_estimators in range(1,100,5):\n",
    "        for class_weight in (None, 'balanced'):\n",
    "            model_random_forest = RandomForestClassifier(random_state=12345, max_depth=max_depth, \\\n",
    "                                  n_estimators=n_estimators, class_weight=class_weight)     \n",
    "            model_random_forest.fit(features_upsampled, target_upsampled)\n",
    "            predictions_train = model_random_forest.predict(features_train)\n",
    "            predictions_valid = model_random_forest.predict(features_valid)\n",
    "            scorer = f1_score(predictions_train, target_train)\n",
    "            if scorer > best_scorer_random_forest:\n",
    "                best_model_random_forest = model_random_forest\n",
    "                best_scorer_random_forest = scorer\n",
    "                    \n",
    "                best_max_depth = max_depth\n",
    "                best_n_estimators = n_estimators\n",
    "                best_class_weight = class_weight\n",
    "                \n",
    "            results = pd.concat([results,quality(model_random_forest, predictions_train, \\\n",
    "                           target_train)], ignore_index=True)\n",
    "print(\"f1 на тренировочной выборке: {:.3f}\".format(best_scorer_random_forest))\n",
    "print(\"Параметры лучшей модели: 'n_estimators': '{}', 'max_depth':  {}, 'class_weight': '{}'\".format(best_n_estimators,\\\n",
    "                                                best_max_depth, best_class_weight))    "
   ]
  },
  {
   "cell_type": "code",
   "execution_count": 41,
   "metadata": {},
   "outputs": [
    {
     "data": {
      "image/png": "[encoded data removed]",
      "text/plain": [
       "<Figure size 400x300 with 2 Axes>"
      ]
     },
     "metadata": {},
     "output_type": "display_data"
    }
   ],
   "source": [
    "matrix_conf(target_train, best_model_random_forest.predict(features_train))"
   ]
  },
  {
   "cell_type": "markdown",
   "metadata": {},
   "source": [
    "Модель сделала 666 ошибок. Улучшилось предсказание класса `1` по сравнению с предыдущей моделью, но увеличилось количество предсказаний `FP`.\n",
    "\n",
    "В таблице ниже представлены значения метрик на соответствующем тесте при подборе параметров:"
   ]
  },
  {
   "cell_type": "code",
   "execution_count": 42,
   "metadata": {},
   "outputs": [
    {
     "data": {
      "text/html": [
       "<div>\n",
       "<style scoped>\n",
       "    .dataframe tbody tr th:only-of-type {\n",
       "        vertical-align: middle;\n",
       "    }\n",
       "\n",
       "    .dataframe tbody tr th {\n",
       "        vertical-align: top;\n",
       "    }\n",
       "\n",
       "    .dataframe thead th {\n",
       "        text-align: right;\n",
       "    }\n",
       "</style>\n",
       "<table border=\"1\" class=\"dataframe\">\n",
       "  <thead>\n",
       "    <tr style=\"text-align: right;\">\n",
       "      <th></th>\n",
       "      <th>f1</th>\n",
       "      <th>auc_roc</th>\n",
       "      <th>precision</th>\n",
       "      <th>recall</th>\n",
       "      <th>accuracy</th>\n",
       "    </tr>\n",
       "  </thead>\n",
       "  <tbody>\n",
       "    <tr>\n",
       "      <th>359</th>\n",
       "      <td>0.761</td>\n",
       "      <td>0.954</td>\n",
       "      <td>0.684</td>\n",
       "      <td>0.858</td>\n",
       "      <td>0.890</td>\n",
       "    </tr>\n",
       "    <tr>\n",
       "      <th>351</th>\n",
       "      <td>0.761</td>\n",
       "      <td>0.954</td>\n",
       "      <td>0.686</td>\n",
       "      <td>0.855</td>\n",
       "      <td>0.891</td>\n",
       "    </tr>\n",
       "    <tr>\n",
       "      <th>345</th>\n",
       "      <td>0.760</td>\n",
       "      <td>0.953</td>\n",
       "      <td>0.683</td>\n",
       "      <td>0.857</td>\n",
       "      <td>0.890</td>\n",
       "    </tr>\n",
       "    <tr>\n",
       "      <th>357</th>\n",
       "      <td>0.760</td>\n",
       "      <td>0.954</td>\n",
       "      <td>0.681</td>\n",
       "      <td>0.859</td>\n",
       "      <td>0.890</td>\n",
       "    </tr>\n",
       "    <tr>\n",
       "      <th>355</th>\n",
       "      <td>0.760</td>\n",
       "      <td>0.955</td>\n",
       "      <td>0.683</td>\n",
       "      <td>0.856</td>\n",
       "      <td>0.890</td>\n",
       "    </tr>\n",
       "    <tr>\n",
       "      <th>353</th>\n",
       "      <td>0.760</td>\n",
       "      <td>0.954</td>\n",
       "      <td>0.684</td>\n",
       "      <td>0.856</td>\n",
       "      <td>0.890</td>\n",
       "    </tr>\n",
       "    <tr>\n",
       "      <th>349</th>\n",
       "      <td>0.760</td>\n",
       "      <td>0.953</td>\n",
       "      <td>0.684</td>\n",
       "      <td>0.856</td>\n",
       "      <td>0.890</td>\n",
       "    </tr>\n",
       "    <tr>\n",
       "      <th>347</th>\n",
       "      <td>0.759</td>\n",
       "      <td>0.953</td>\n",
       "      <td>0.684</td>\n",
       "      <td>0.853</td>\n",
       "      <td>0.890</td>\n",
       "    </tr>\n",
       "    <tr>\n",
       "      <th>343</th>\n",
       "      <td>0.758</td>\n",
       "      <td>0.952</td>\n",
       "      <td>0.684</td>\n",
       "      <td>0.849</td>\n",
       "      <td>0.889</td>\n",
       "    </tr>\n",
       "    <tr>\n",
       "      <th>337</th>\n",
       "      <td>0.756</td>\n",
       "      <td>0.952</td>\n",
       "      <td>0.677</td>\n",
       "      <td>0.854</td>\n",
       "      <td>0.888</td>\n",
       "    </tr>\n",
       "  </tbody>\n",
       "</table>\n",
       "</div>"
      ],
      "text/plain": [
       "        f1  auc_roc  precision  recall  accuracy\n",
       "359  0.761    0.954      0.684   0.858     0.890\n",
       "351  0.761    0.954      0.686   0.855     0.891\n",
       "345  0.760    0.953      0.683   0.857     0.890\n",
       "357  0.760    0.954      0.681   0.859     0.890\n",
       "355  0.760    0.955      0.683   0.856     0.890\n",
       "353  0.760    0.954      0.684   0.856     0.890\n",
       "349  0.760    0.953      0.684   0.856     0.890\n",
       "347  0.759    0.953      0.684   0.853     0.890\n",
       "343  0.758    0.952      0.684   0.849     0.889\n",
       "337  0.756    0.952      0.677   0.854     0.888"
      ]
     },
     "execution_count": 42,
     "metadata": {},
     "output_type": "execute_result"
    }
   ],
   "source": [
    "results = results.sort_values(by='f1', ascending=False)\n",
    "results.head(10)"
   ]
  },
  {
   "cell_type": "code",
   "execution_count": 43,
   "metadata": {},
   "outputs": [],
   "source": [
    "scorers_result = model_result('rand_forest_balance', results).join(scorers_result) #сохранение результатов"
   ]
  },
  {
   "cell_type": "markdown",
   "metadata": {},
   "source": [
    "**Вывод**"
   ]
  },
  {
   "cell_type": "markdown",
   "metadata": {},
   "source": [
    "При условии максимизации метрики `f1`, результаты работы лучших моделей на тренировочной выборке выглядят следующим образом:"
   ]
  },
  {
   "cell_type": "code",
   "execution_count": 44,
   "metadata": {},
   "outputs": [
    {
     "data": {
      "text/html": [
       "<div>\n",
       "<style scoped>\n",
       "    .dataframe tbody tr th:only-of-type {\n",
       "        vertical-align: middle;\n",
       "    }\n",
       "\n",
       "    .dataframe tbody tr th {\n",
       "        vertical-align: top;\n",
       "    }\n",
       "\n",
       "    .dataframe thead th {\n",
       "        text-align: right;\n",
       "    }\n",
       "</style>\n",
       "<table border=\"1\" class=\"dataframe\">\n",
       "  <thead>\n",
       "    <tr style=\"text-align: right;\">\n",
       "      <th></th>\n",
       "      <th>rand_forest_balance</th>\n",
       "      <th>rand_forest_disbalance</th>\n",
       "      <th>dec_tree_balance</th>\n",
       "      <th>dec_tree_disbalance</th>\n",
       "      <th>log_reg_balance</th>\n",
       "      <th>log_reg_disbalance</th>\n",
       "    </tr>\n",
       "  </thead>\n",
       "  <tbody>\n",
       "    <tr>\n",
       "      <th>f1</th>\n",
       "      <td>0.761</td>\n",
       "      <td>0.605</td>\n",
       "      <td>0.667</td>\n",
       "      <td>0.570</td>\n",
       "      <td>0.500</td>\n",
       "      <td>0.498</td>\n",
       "    </tr>\n",
       "    <tr>\n",
       "      <th>auc_roc</th>\n",
       "      <td>0.954</td>\n",
       "      <td>0.755</td>\n",
       "      <td>0.928</td>\n",
       "      <td>0.761</td>\n",
       "      <td>0.760</td>\n",
       "      <td>0.704</td>\n",
       "    </tr>\n",
       "    <tr>\n",
       "      <th>precision</th>\n",
       "      <td>0.684</td>\n",
       "      <td>0.594</td>\n",
       "      <td>0.544</td>\n",
       "      <td>0.464</td>\n",
       "      <td>0.398</td>\n",
       "      <td>0.399</td>\n",
       "    </tr>\n",
       "    <tr>\n",
       "      <th>recall</th>\n",
       "      <td>0.858</td>\n",
       "      <td>0.619</td>\n",
       "      <td>0.863</td>\n",
       "      <td>0.746</td>\n",
       "      <td>0.671</td>\n",
       "      <td>0.664</td>\n",
       "    </tr>\n",
       "    <tr>\n",
       "      <th>accuracy</th>\n",
       "      <td>0.890</td>\n",
       "      <td>0.836</td>\n",
       "      <td>0.824</td>\n",
       "      <td>0.769</td>\n",
       "      <td>0.726</td>\n",
       "      <td>0.728</td>\n",
       "    </tr>\n",
       "  </tbody>\n",
       "</table>\n",
       "</div>"
      ],
      "text/plain": [
       "           rand_forest_balance  rand_forest_disbalance  dec_tree_balance  \\\n",
       "f1                       0.761                   0.605             0.667   \n",
       "auc_roc                  0.954                   0.755             0.928   \n",
       "precision                0.684                   0.594             0.544   \n",
       "recall                   0.858                   0.619             0.863   \n",
       "accuracy                 0.890                   0.836             0.824   \n",
       "\n",
       "           dec_tree_disbalance  log_reg_balance  log_reg_disbalance  \n",
       "f1                       0.570            0.500               0.498  \n",
       "auc_roc                  0.761            0.760               0.704  \n",
       "precision                0.464            0.398               0.399  \n",
       "recall                   0.746            0.671               0.664  \n",
       "accuracy                 0.769            0.726               0.728  "
      ]
     },
     "execution_count": 44,
     "metadata": {},
     "output_type": "execute_result"
    }
   ],
   "source": [
    "scorers_result"
   ]
  },
  {
   "cell_type": "markdown",
   "metadata": {},
   "source": [
    "Пороговому значению `f1` > 0.59 соответствуют 3 модели: `random_forest_disbalance`, `random_forest_balance` и  `decision_tree_balance`."
   ]
  },
  {
   "cell_type": "markdown",
   "metadata": {},
   "source": [
    "## Тестирование модели"
   ]
  },
  {
   "cell_type": "markdown",
   "metadata": {},
   "source": [
    "Проверим модели на валидационной выборке. "
   ]
  },
  {
   "cell_type": "markdown",
   "metadata": {},
   "source": [
    "### Модель decision_tree_balance"
   ]
  },
  {
   "cell_type": "code",
   "execution_count": 45,
   "metadata": {},
   "outputs": [
    {
     "name": "stdout",
     "output_type": "stream",
     "text": [
      "f1 на тренировочной выборке: 0.667\n",
      "f1 на валидационной выборке: 0.529\n",
      "auc_roc на тренировочной выборке: 0.928\n",
      "auc_roc на валидационной выборке: 0.775\n"
     ]
    }
   ],
   "source": [
    "predictions_valid = best_model_decision_tree.predict(features_valid)\n",
    "predictions_train = best_model_decision_tree.predict(features_train)\n",
    "\n",
    "probabilities_train = best_model_decision_tree.predict_proba(features_train)\n",
    "probabilities_one_train = probabilities_train[:, 1]\n",
    "auc_roc_train = roc_auc_score(target_train, probabilities_one_train)\n",
    "\n",
    "probabilities_valid = best_model_decision_tree.predict_proba(features_valid)\n",
    "probabilities_one_valid = probabilities_valid[:, 1]\n",
    "auc_roc_valid = roc_auc_score(target_valid, probabilities_one_valid)\n",
    "\n",
    "print(\"f1 на тренировочной выборке: {:.3f}\".format(best_scorer_decision_tree))\n",
    "print(\"f1 на валидационной выборке: {:.3f}\".format(f1_score(target_valid, predictions_valid)))\n",
    "print(\"auc_roc на тренировочной выборке: {:.3f}\".format(auc_roc_train))\n",
    "print(\"auc_roc на валидационной выборке: {:.3f}\".format(auc_roc_valid))"
   ]
  },
  {
   "cell_type": "markdown",
   "metadata": {},
   "source": [
    "Значение метрики `auc_roc` на валидационной выборке значительно снизилось. Порог метрики `f1` - `0.59` не достигнут."
   ]
  },
  {
   "cell_type": "markdown",
   "metadata": {},
   "source": [
    "### Модель random_forest_disbalance"
   ]
  },
  {
   "cell_type": "code",
   "execution_count": 46,
   "metadata": {},
   "outputs": [
    {
     "name": "stdout",
     "output_type": "stream",
     "text": [
      "f1 на тренировочной выборке: 0.605\n",
      "f1 на валидационной выборке: 0.607\n",
      "auc_roc на тренировочной выборке: 0.948\n",
      "auc_roc на валидационной выборке: 0.849\n"
     ]
    }
   ],
   "source": [
    "predictions_valid = grid_search_random_forest.best_estimator_.predict(features_valid)\n",
    "predictions_train = grid_search_random_forest.best_estimator_.predict(features_train)\n",
    "\n",
    "probabilities_train = grid_search_random_forest.best_estimator_.predict_proba(features_train)\n",
    "probabilities_one_train = probabilities_train[:, 1]\n",
    "auc_roc_train = roc_auc_score(target_train, probabilities_one_train)\n",
    "\n",
    "probabilities_valid = grid_search_random_forest.best_estimator_.predict_proba(features_valid)\n",
    "probabilities_one_valid = probabilities_valid[:, 1]\n",
    "auc_roc_valid = roc_auc_score(target_valid, probabilities_one_valid)\n",
    "\n",
    "print(\"f1 на тренировочной выборке: {:.3f}\".format(grid_search_random_forest.best_score_))\n",
    "print(\"f1 на валидационной выборке: {:.3f}\".format(f1_score(target_valid, predictions_valid)))\n",
    "print(\"auc_roc на тренировочной выборке: {:.3f}\".format(auc_roc_train))\n",
    "print(\"auc_roc на валидационной выборке: {:.3f}\".format(auc_roc_valid))"
   ]
  },
  {
   "cell_type": "markdown",
   "metadata": {},
   "source": [
    "Порог метрики `f1` - `0.59` достигнут."
   ]
  },
  {
   "cell_type": "markdown",
   "metadata": {},
   "source": [
    "### Модель random_forest_balance"
   ]
  },
  {
   "cell_type": "code",
   "execution_count": 47,
   "metadata": {},
   "outputs": [
    {
     "name": "stdout",
     "output_type": "stream",
     "text": [
      "f1 на тренировочной выборке: 0.761\n",
      "f1 на валидационной выборке: 0.610\n",
      "auc_roc на тренировочной выборке: 0.954\n",
      "auc_roc на валидационной выборке: 0.853\n"
     ]
    }
   ],
   "source": [
    "predictions_valid = best_model_random_forest.predict(features_valid)\n",
    "predictions_train = best_model_random_forest.predict(features_train)\n",
    "\n",
    "probabilities_train = best_model_random_forest.predict_proba(features_train)\n",
    "probabilities_one_train = probabilities_train[:, 1]\n",
    "auc_roc_train = roc_auc_score(target_train, probabilities_one_train)\n",
    "\n",
    "probabilities_valid = best_model_random_forest.predict_proba(features_valid)\n",
    "probabilities_one_valid = probabilities_valid[:, 1]\n",
    "auc_roc_valid = roc_auc_score(target_valid, probabilities_one_valid)\n",
    "\n",
    "print(\"f1 на тренировочной выборке: {:.3f}\".format(best_scorer_random_forest))\n",
    "print(\"f1 на валидационной выборке: {:.3f}\".format(f1_score(target_valid, predictions_valid)))\n",
    "print(\"auc_roc на тренировочной выборке: {:.3f}\".format(auc_roc_train))\n",
    "print(\"auc_roc на валидационной выборке: {:.3f}\".format(auc_roc_valid))"
   ]
  },
  {
   "cell_type": "markdown",
   "metadata": {},
   "source": [
    "Порог метрики `f1` - `0.59` достигнут. \n",
    "\n",
    "Переобучим модель `random_forest_balance` на данных `train` + `valid` и проверим ее на тестовой выборке."
   ]
  },
  {
   "cell_type": "code",
   "execution_count": 48,
   "metadata": {},
   "outputs": [
    {
     "name": "stdout",
     "output_type": "stream",
     "text": [
      "f1 на тестовой выборке: 0.644\n",
      "auc_roc на тестовой выборке: 0.873\n"
     ]
    }
   ],
   "source": [
    "features_train = pd.concat([features_train,features_valid], ignore_index=True)\n",
    "target_train = pd.concat([target_train,target_valid], ignore_index=True)\n",
    "\n",
    "features_upsampled, target_upsampled = upsample(features_train, target_train, 4) #устранение дисбаланса\n",
    "\n",
    "best_model_random_forest.fit(features_upsampled, target_upsampled)\n",
    "predictions_test = best_model_random_forest.predict(features_test)\n",
    "\n",
    "probabilities_test = best_model_random_forest.predict_proba(features_test)\n",
    "probabilities_one_test = probabilities_test[:, 1]\n",
    "auc_roc_test = roc_auc_score(target_test, probabilities_one_test)\n",
    "\n",
    "print(\"f1 на тестовой выборке: {:.3f}\".format(f1_score(target_test, predictions_test)))\n",
    "print(\"auc_roc на тестовой выборке: {:.3f}\".format(auc_roc_test))"
   ]
  },
  {
   "cell_type": "markdown",
   "metadata": {},
   "source": [
    "Порог метрики `f1` - `0.59` на тестовой выборке достигнут. График ROC-кривой для финальной модели выглядит следующим образом:"
   ]
  },
  {
   "cell_type": "code",
   "execution_count": 49,
   "metadata": {},
   "outputs": [
    {
     "data": {
      "image/png": "[encoded data removed]",
      "text/plain": [
       "<Figure size 600x400 with 1 Axes>"
      ]
     },
     "metadata": {},
     "output_type": "display_data"
    }
   ],
   "source": [
    "fpr, tpr, thresholds = roc_curve(target_test, probabilities_one_test) \n",
    "sns.set_style(\"whitegrid\")\n",
    "sns.lineplot(x=fpr, y=tpr)\n",
    "plt.plot([0, 1], [0, 1], linestyle='--')\n",
    "plt.xlim([0.0, 1.0])\n",
    "plt.ylim([0.0, 1.0])\n",
    "plt.xlabel('False Positive Rate')\n",
    "plt.ylabel('True Positive Rate')\n",
    "plt.title('ROC-кривая')\n",
    "plt.show()"
   ]
  },
  {
   "cell_type": "markdown",
   "metadata": {},
   "source": [
    "**Вывод**"
   ]
  },
  {
   "cell_type": "markdown",
   "metadata": {},
   "source": [
    "Рабочей моделью для предсказания поведения клиентов Банка признана модель `\"Cлучайный лес\"` с применением функции балансировки классов и следующими параметрами:"
   ]
  },
  {
   "cell_type": "code",
   "execution_count": 50,
   "metadata": {},
   "outputs": [
    {
     "data": {
      "text/html": [
       "<style>#sk-container-id-1 {color: black;background-color: white;}#sk-container-id-1 pre{padding: 0;}#sk-container-id-1 div.sk-toggleable {background-color: white;}#sk-container-id-1 label.sk-toggleable__label {cursor: pointer;display: block;width: 100%;margin-bottom: 0;padding: 0.3em;box-sizing: border-box;text-align: center;}#sk-container-id-1 label.sk-toggleable__label-arrow:before {content: \"▸\";float: left;margin-right: 0.25em;color: #696969;}#sk-container-id-1 label.sk-toggleable__label-arrow:hover:before {color: black;}#sk-container-id-1 div.sk-estimator:hover label.sk-toggleable__label-arrow:before {color: black;}#sk-container-id-1 div.sk-toggleable__content {max-height: 0;max-width: 0;overflow: hidden;text-align: left;background-color: #f0f8ff;}#sk-container-id-1 div.sk-toggleable__content pre {margin: 0.2em;color: black;border-radius: 0.25em;background-color: #f0f8ff;}#sk-container-id-1 input.sk-toggleable__control:checked~div.sk-toggleable__content {max-height: 200px;max-width: 100%;overflow: auto;}#sk-container-id-1 input.sk-toggleable__control:checked~label.sk-toggleable__label-arrow:before {content: \"▾\";}#sk-container-id-1 div.sk-estimator input.sk-toggleable__control:checked~label.sk-toggleable__label {background-color: #d4ebff;}#sk-container-id-1 div.sk-label input.sk-toggleable__control:checked~label.sk-toggleable__label {background-color: #d4ebff;}#sk-container-id-1 input.sk-hidden--visually {border: 0;clip: rect(1px 1px 1px 1px);clip: rect(1px, 1px, 1px, 1px);height: 1px;margin: -1px;overflow: hidden;padding: 0;position: absolute;width: 1px;}#sk-container-id-1 div.sk-estimator {font-family: monospace;background-color: #f0f8ff;border: 1px dotted black;border-radius: 0.25em;box-sizing: border-box;margin-bottom: 0.5em;}#sk-container-id-1 div.sk-estimator:hover {background-color: #d4ebff;}#sk-container-id-1 div.sk-parallel-item::after {content: \"\";width: 100%;border-bottom: 1px solid gray;flex-grow: 1;}#sk-container-id-1 div.sk-label:hover label.sk-toggleable__label {background-color: #d4ebff;}#sk-container-id-1 div.sk-serial::before {content: \"\";position: absolute;border-left: 1px solid gray;box-sizing: border-box;top: 0;bottom: 0;left: 50%;z-index: 0;}#sk-container-id-1 div.sk-serial {display: flex;flex-direction: column;align-items: center;background-color: white;padding-right: 0.2em;padding-left: 0.2em;position: relative;}#sk-container-id-1 div.sk-item {position: relative;z-index: 1;}#sk-container-id-1 div.sk-parallel {display: flex;align-items: stretch;justify-content: center;background-color: white;position: relative;}#sk-container-id-1 div.sk-item::before, #sk-container-id-1 div.sk-parallel-item::before {content: \"\";position: absolute;border-left: 1px solid gray;box-sizing: border-box;top: 0;bottom: 0;left: 50%;z-index: -1;}#sk-container-id-1 div.sk-parallel-item {display: flex;flex-direction: column;z-index: 1;position: relative;background-color: white;}#sk-container-id-1 div.sk-parallel-item:first-child::after {align-self: flex-end;width: 50%;}#sk-container-id-1 div.sk-parallel-item:last-child::after {align-self: flex-start;width: 50%;}#sk-container-id-1 div.sk-parallel-item:only-child::after {width: 0;}#sk-container-id-1 div.sk-dashed-wrapped {border: 1px dashed gray;margin: 0 0.4em 0.5em 0.4em;box-sizing: border-box;padding-bottom: 0.4em;background-color: white;}#sk-container-id-1 div.sk-label label {font-family: monospace;font-weight: bold;display: inline-block;line-height: 1.2em;}#sk-container-id-1 div.sk-label-container {text-align: center;}#sk-container-id-1 div.sk-container {/* jupyter's `normalize.less` sets `[hidden] { display: none; }` but bootstrap.min.css set `[hidden] { display: none !important; }` so we also need the `!important` here to be able to override the default hidden behavior on the sphinx rendered scikit-learn.org. See: https://github.com/scikit-learn/scikit-learn/issues/21755 */display: inline-block !important;position: relative;}#sk-container-id-1 div.sk-text-repr-fallback {display: none;}</style><div id=\"sk-container-id-1\" class=\"sk-top-container\"><div class=\"sk-text-repr-fallback\"><pre>RandomForestClassifier(class_weight=&#x27;balanced&#x27;, max_depth=9, n_estimators=76,\n",
       "                       random_state=12345)</pre><b>In a Jupyter environment, please rerun this cell to show the HTML representation or trust the notebook. <br />On GitHub, the HTML representation is unable to render, please try loading this page with nbviewer.org.</b></div><div class=\"sk-container\" hidden><div class=\"sk-item\"><div class=\"sk-estimator sk-toggleable\"><input class=\"sk-toggleable__control sk-hidden--visually\" id=\"sk-estimator-id-1\" type=\"checkbox\" checked><label for=\"sk-estimator-id-1\" class=\"sk-toggleable__label sk-toggleable__label-arrow\">RandomForestClassifier</label><div class=\"sk-toggleable__content\"><pre>RandomForestClassifier(class_weight=&#x27;balanced&#x27;, max_depth=9, n_estimators=76,\n",
       "                       random_state=12345)</pre></div></div></div></div></div>"
      ],
      "text/plain": [
       "RandomForestClassifier(class_weight='balanced', max_depth=9, n_estimators=76,\n",
       "                       random_state=12345)"
      ]
     },
     "execution_count": 50,
     "metadata": {},
     "output_type": "execute_result"
    }
   ],
   "source": [
    "best_model_random_forest"
   ]
  },
  {
   "cell_type": "code",
   "execution_count": 51,
   "metadata": {},
   "outputs": [
    {
     "name": "stdout",
     "output_type": "stream",
     "text": [
      "f1 модели на тестовой выборке: 0.644\n"
     ]
    }
   ],
   "source": [
    "print(\"f1 модели на тестовой выборке: {:.3f}\".format(f1_score(target_test, predictions_test)))"
   ]
  }
 ],
 "metadata": {
  "ExecuteTimeLog": [
   {
    "duration": 1764,
    "start_time": "2022-01-04T15:09:55.587Z"
   },
   {
    "duration": 17791,
    "start_time": "2022-01-04T15:10:34.882Z"
   },
   {
    "duration": 846,
    "start_time": "2022-01-04T15:11:01.354Z"
   },
   {
    "duration": 7,
    "start_time": "2022-01-04T15:11:23.347Z"
   },
   {
    "duration": 35,
    "start_time": "2022-01-04T15:12:11.259Z"
   },
   {
    "duration": 24,
    "start_time": "2022-01-04T15:12:12.667Z"
   },
   {
    "duration": 15,
    "start_time": "2022-01-04T15:12:20.388Z"
   },
   {
    "duration": 61,
    "start_time": "2022-01-04T15:17:34.431Z"
   },
   {
    "duration": 62,
    "start_time": "2022-01-04T15:17:42.112Z"
   },
   {
    "duration": 11,
    "start_time": "2022-01-04T20:48:48.511Z"
   },
   {
    "duration": 2322,
    "start_time": "2022-01-04T20:51:11.377Z"
   },
   {
    "duration": 4830,
    "start_time": "2022-01-04T20:51:46.896Z"
   },
   {
    "duration": 2252,
    "start_time": "2022-01-04T20:52:09.545Z"
   },
   {
    "duration": 3601,
    "start_time": "2022-01-04T20:52:27.817Z"
   },
   {
    "duration": 3747,
    "start_time": "2022-01-04T20:52:58.327Z"
   },
   {
    "duration": 3547,
    "start_time": "2022-01-04T20:53:04.006Z"
   },
   {
    "duration": 3369,
    "start_time": "2022-01-04T20:53:09.670Z"
   },
   {
    "duration": 37,
    "start_time": "2022-01-04T20:53:13.766Z"
   },
   {
    "duration": 20,
    "start_time": "2022-01-04T20:53:14.582Z"
   },
   {
    "duration": 18,
    "start_time": "2022-01-04T20:53:16.861Z"
   },
   {
    "duration": 58,
    "start_time": "2022-01-04T20:53:18.638Z"
   },
   {
    "duration": 42,
    "start_time": "2022-01-04T20:55:20.259Z"
   },
   {
    "duration": 7,
    "start_time": "2022-01-04T20:55:47.263Z"
   },
   {
    "duration": 117626,
    "start_time": "2022-01-04T20:55:56.822Z"
   },
   {
    "duration": 122368,
    "start_time": "2022-01-04T20:57:54.452Z"
   },
   {
    "duration": 288,
    "start_time": "2022-01-04T21:02:52.467Z"
   },
   {
    "duration": 12,
    "start_time": "2022-01-04T21:02:59.604Z"
   },
   {
    "duration": 30,
    "start_time": "2022-01-04T21:03:22.413Z"
   },
   {
    "duration": 8,
    "start_time": "2022-01-04T21:03:54.109Z"
   },
   {
    "duration": 20,
    "start_time": "2022-01-04T21:09:59.810Z"
   },
   {
    "duration": 4,
    "start_time": "2022-01-04T21:13:59.092Z"
   },
   {
    "duration": 7,
    "start_time": "2022-01-04T21:14:07.228Z"
   },
   {
    "duration": 4705,
    "start_time": "2022-01-04T21:17:30.862Z"
   },
   {
    "duration": 19,
    "start_time": "2022-01-04T21:18:08.318Z"
   },
   {
    "duration": 3995,
    "start_time": "2022-01-04T21:27:38.637Z"
   },
   {
    "duration": 23,
    "start_time": "2022-01-04T21:27:48.453Z"
   },
   {
    "duration": 3839,
    "start_time": "2022-01-04T21:29:59.830Z"
   },
   {
    "duration": 3396,
    "start_time": "2022-01-04T21:30:13.691Z"
   },
   {
    "duration": 101,
    "start_time": "2022-01-04T21:30:53.048Z"
   },
   {
    "duration": 23,
    "start_time": "2022-01-04T21:30:59.479Z"
   },
   {
    "duration": 23,
    "start_time": "2022-01-04T21:31:31.345Z"
   },
   {
    "duration": 1422,
    "start_time": "2022-01-05T11:08:07.998Z"
   },
   {
    "duration": 11377,
    "start_time": "2022-01-05T11:11:03.266Z"
   },
   {
    "duration": 3068,
    "start_time": "2022-01-05T11:11:16.762Z"
   },
   {
    "duration": 563,
    "start_time": "2022-01-05T11:11:35.042Z"
   },
   {
    "duration": 31,
    "start_time": "2022-01-05T11:11:41.929Z"
   },
   {
    "duration": 15,
    "start_time": "2022-01-05T11:11:43.482Z"
   },
   {
    "duration": 9,
    "start_time": "2022-01-05T11:11:46.801Z"
   },
   {
    "duration": 5,
    "start_time": "2022-01-05T11:11:57.585Z"
   },
   {
    "duration": 40,
    "start_time": "2022-01-05T11:11:58.617Z"
   },
   {
    "duration": 7199,
    "start_time": "2022-01-05T11:12:34.034Z"
   },
   {
    "duration": 157,
    "start_time": "2022-01-05T11:12:46.729Z"
   },
   {
    "duration": 6920,
    "start_time": "2022-01-05T11:14:03.860Z"
   },
   {
    "duration": 13,
    "start_time": "2022-01-05T11:23:11.721Z"
   },
   {
    "duration": 4,
    "start_time": "2022-01-05T11:24:03.106Z"
   },
   {
    "duration": 331,
    "start_time": "2022-01-05T12:04:41.701Z"
   },
   {
    "duration": 28,
    "start_time": "2022-01-05T12:04:47.276Z"
   },
   {
    "duration": 11,
    "start_time": "2022-01-05T12:04:48.541Z"
   },
   {
    "duration": 12,
    "start_time": "2022-01-05T12:04:52.189Z"
   },
   {
    "duration": 5,
    "start_time": "2022-01-05T12:05:15.788Z"
   },
   {
    "duration": 6716,
    "start_time": "2022-01-05T12:05:19.976Z"
   },
   {
    "duration": 10,
    "start_time": "2022-01-05T12:14:22.578Z"
   },
   {
    "duration": 15,
    "start_time": "2022-01-05T12:15:34.076Z"
   },
   {
    "duration": 19,
    "start_time": "2022-01-05T12:29:52.910Z"
   },
   {
    "duration": 15,
    "start_time": "2022-01-05T12:30:10.262Z"
   },
   {
    "duration": 16,
    "start_time": "2022-01-05T12:30:26.814Z"
   },
   {
    "duration": 11,
    "start_time": "2022-01-05T12:31:48.565Z"
   },
   {
    "duration": 2708,
    "start_time": "2022-01-05T12:33:13.609Z"
   },
   {
    "duration": 2286,
    "start_time": "2022-01-05T12:33:16.319Z"
   },
   {
    "duration": 2220,
    "start_time": "2022-01-05T12:33:18.607Z"
   },
   {
    "duration": 31,
    "start_time": "2022-01-05T12:33:20.828Z"
   },
   {
    "duration": 13,
    "start_time": "2022-01-05T12:33:20.860Z"
   },
   {
    "duration": 13,
    "start_time": "2022-01-05T12:33:20.874Z"
   },
   {
    "duration": 6,
    "start_time": "2022-01-05T12:33:20.888Z"
   },
   {
    "duration": 8365,
    "start_time": "2022-01-05T12:33:20.896Z"
   },
   {
    "duration": 15,
    "start_time": "2022-01-05T12:33:29.263Z"
   },
   {
    "duration": 62,
    "start_time": "2022-01-05T12:33:29.280Z"
   },
   {
    "duration": 655,
    "start_time": "2022-01-05T12:33:29.344Z"
   },
   {
    "duration": 1116,
    "start_time": "2022-01-05T12:33:28.885Z"
   },
   {
    "duration": 1116,
    "start_time": "2022-01-05T12:33:28.887Z"
   },
   {
    "duration": 1114,
    "start_time": "2022-01-05T12:33:28.890Z"
   },
   {
    "duration": 1112,
    "start_time": "2022-01-05T12:33:28.893Z"
   },
   {
    "duration": 12,
    "start_time": "2022-01-05T12:34:07.200Z"
   },
   {
    "duration": 12,
    "start_time": "2022-01-05T12:34:31.529Z"
   },
   {
    "duration": 10,
    "start_time": "2022-01-05T12:36:56.019Z"
   },
   {
    "duration": 8364,
    "start_time": "2022-01-05T12:37:20.478Z"
   },
   {
    "duration": 11,
    "start_time": "2022-01-05T12:41:22.142Z"
   },
   {
    "duration": 8596,
    "start_time": "2022-01-05T12:41:43.656Z"
   },
   {
    "duration": 11,
    "start_time": "2022-01-05T12:42:34.367Z"
   },
   {
    "duration": 8236,
    "start_time": "2022-01-05T12:42:50.729Z"
   },
   {
    "duration": 2548,
    "start_time": "2022-01-05T12:43:29.141Z"
   },
   {
    "duration": 2383,
    "start_time": "2022-01-05T12:43:31.691Z"
   },
   {
    "duration": 2494,
    "start_time": "2022-01-05T12:43:34.076Z"
   },
   {
    "duration": 30,
    "start_time": "2022-01-05T12:43:36.572Z"
   },
   {
    "duration": 12,
    "start_time": "2022-01-05T12:43:36.603Z"
   },
   {
    "duration": 25,
    "start_time": "2022-01-05T12:43:36.617Z"
   },
   {
    "duration": 9,
    "start_time": "2022-01-05T12:43:36.643Z"
   },
   {
    "duration": 8927,
    "start_time": "2022-01-05T12:43:36.654Z"
   },
   {
    "duration": 19,
    "start_time": "2022-01-05T12:43:45.583Z"
   },
   {
    "duration": 47,
    "start_time": "2022-01-05T12:43:45.605Z"
   },
   {
    "duration": 556,
    "start_time": "2022-01-05T12:43:45.654Z"
   },
   {
    "duration": 1122,
    "start_time": "2022-01-05T12:43:45.090Z"
   },
   {
    "duration": 1123,
    "start_time": "2022-01-05T12:43:45.091Z"
   },
   {
    "duration": 1122,
    "start_time": "2022-01-05T12:43:45.093Z"
   },
   {
    "duration": 1121,
    "start_time": "2022-01-05T12:43:45.095Z"
   },
   {
    "duration": 14,
    "start_time": "2022-01-05T12:48:35.914Z"
   },
   {
    "duration": 10,
    "start_time": "2022-01-05T12:48:56.402Z"
   },
   {
    "duration": 11,
    "start_time": "2022-01-05T12:49:11.978Z"
   },
   {
    "duration": 11,
    "start_time": "2022-01-05T12:49:21.387Z"
   },
   {
    "duration": 8227,
    "start_time": "2022-01-05T12:49:31.837Z"
   },
   {
    "duration": 287,
    "start_time": "2022-01-05T13:36:25.280Z"
   },
   {
    "duration": 32,
    "start_time": "2022-01-05T13:36:52.641Z"
   },
   {
    "duration": 6468,
    "start_time": "2022-01-05T13:37:02.801Z"
   },
   {
    "duration": 2447,
    "start_time": "2022-01-05T13:41:34.478Z"
   },
   {
    "duration": 2378,
    "start_time": "2022-01-05T13:41:36.927Z"
   },
   {
    "duration": 2019,
    "start_time": "2022-01-05T13:41:39.310Z"
   },
   {
    "duration": 30,
    "start_time": "2022-01-05T13:41:41.330Z"
   },
   {
    "duration": 12,
    "start_time": "2022-01-05T13:41:41.362Z"
   },
   {
    "duration": 11,
    "start_time": "2022-01-05T13:41:41.376Z"
   },
   {
    "duration": 7,
    "start_time": "2022-01-05T13:41:41.389Z"
   },
   {
    "duration": 8528,
    "start_time": "2022-01-05T13:41:41.397Z"
   },
   {
    "duration": 25,
    "start_time": "2022-01-05T13:41:49.927Z"
   },
   {
    "duration": 15,
    "start_time": "2022-01-05T13:41:49.954Z"
   },
   {
    "duration": 7645,
    "start_time": "2022-01-05T13:41:49.971Z"
   },
   {
    "duration": 1110,
    "start_time": "2022-01-05T13:41:56.508Z"
   },
   {
    "duration": 1109,
    "start_time": "2022-01-05T13:41:56.510Z"
   },
   {
    "duration": 1105,
    "start_time": "2022-01-05T13:41:56.516Z"
   },
   {
    "duration": 1104,
    "start_time": "2022-01-05T13:41:56.518Z"
   },
   {
    "duration": 1104,
    "start_time": "2022-01-05T13:41:56.519Z"
   },
   {
    "duration": 1103,
    "start_time": "2022-01-05T13:41:56.521Z"
   },
   {
    "duration": 1119,
    "start_time": "2022-01-05T13:41:56.522Z"
   },
   {
    "duration": 2886,
    "start_time": "2022-01-05T13:44:39.168Z"
   },
   {
    "duration": 3871,
    "start_time": "2022-01-05T13:45:50.848Z"
   },
   {
    "duration": 962,
    "start_time": "2022-01-05T13:46:18.461Z"
   },
   {
    "duration": 563,
    "start_time": "2022-01-05T13:47:20.846Z"
   },
   {
    "duration": 4961,
    "start_time": "2022-01-05T13:48:24.810Z"
   },
   {
    "duration": 4871,
    "start_time": "2022-01-05T13:49:00.074Z"
   },
   {
    "duration": 242,
    "start_time": "2022-01-05T13:51:08.852Z"
   },
   {
    "duration": 5,
    "start_time": "2022-01-05T13:51:53.828Z"
   },
   {
    "duration": 1615,
    "start_time": "2022-01-05T13:52:00.244Z"
   },
   {
    "duration": 1952,
    "start_time": "2022-01-05T13:52:57.189Z"
   },
   {
    "duration": 6822,
    "start_time": "2022-01-05T13:54:45.663Z"
   },
   {
    "duration": 12,
    "start_time": "2022-01-05T13:55:55.487Z"
   },
   {
    "duration": 6331,
    "start_time": "2022-01-05T15:20:13.710Z"
   },
   {
    "duration": 1321,
    "start_time": "2022-01-05T15:21:43.440Z"
   },
   {
    "duration": 3232,
    "start_time": "2022-01-05T15:22:09.591Z"
   },
   {
    "duration": 2516,
    "start_time": "2022-01-05T15:22:23.471Z"
   },
   {
    "duration": 3370,
    "start_time": "2022-01-05T15:22:31.023Z"
   },
   {
    "duration": 4,
    "start_time": "2022-01-05T15:36:16.473Z"
   },
   {
    "duration": 248,
    "start_time": "2022-01-05T15:39:17.083Z"
   },
   {
    "duration": 10,
    "start_time": "2022-01-05T15:39:47.323Z"
   },
   {
    "duration": 77,
    "start_time": "2022-01-05T15:40:03.243Z"
   },
   {
    "duration": 4,
    "start_time": "2022-01-05T15:40:34.348Z"
   },
   {
    "duration": 10,
    "start_time": "2022-01-05T15:51:37.875Z"
   },
   {
    "duration": 15,
    "start_time": "2022-01-05T15:51:39.491Z"
   },
   {
    "duration": 11,
    "start_time": "2022-01-05T15:51:58.292Z"
   },
   {
    "duration": 13,
    "start_time": "2022-01-05T16:01:37.993Z"
   },
   {
    "duration": 11,
    "start_time": "2022-01-05T16:01:42.101Z"
   },
   {
    "duration": 12,
    "start_time": "2022-01-05T16:01:51.418Z"
   },
   {
    "duration": 10,
    "start_time": "2022-01-05T16:01:59.170Z"
   },
   {
    "duration": 11,
    "start_time": "2022-01-05T16:02:23.156Z"
   },
   {
    "duration": 10,
    "start_time": "2022-01-05T16:02:27.563Z"
   },
   {
    "duration": 10,
    "start_time": "2022-01-05T16:02:57.348Z"
   },
   {
    "duration": 10,
    "start_time": "2022-01-05T16:02:57.931Z"
   },
   {
    "duration": 5,
    "start_time": "2022-01-05T16:03:07.259Z"
   },
   {
    "duration": 9,
    "start_time": "2022-01-05T16:03:09.859Z"
   },
   {
    "duration": 4,
    "start_time": "2022-01-05T16:03:12.235Z"
   },
   {
    "duration": 6,
    "start_time": "2022-01-05T16:04:43.228Z"
   },
   {
    "duration": 11,
    "start_time": "2022-01-05T16:05:51.780Z"
   },
   {
    "duration": 240,
    "start_time": "2022-01-05T16:07:17.990Z"
   },
   {
    "duration": 9,
    "start_time": "2022-01-05T16:07:38.478Z"
   },
   {
    "duration": 3,
    "start_time": "2022-01-05T16:07:46.867Z"
   },
   {
    "duration": 12,
    "start_time": "2022-01-05T16:08:12.207Z"
   },
   {
    "duration": 11,
    "start_time": "2022-01-05T16:08:36.759Z"
   },
   {
    "duration": 11,
    "start_time": "2022-01-05T16:09:03.327Z"
   },
   {
    "duration": 10,
    "start_time": "2022-01-05T16:09:15.191Z"
   },
   {
    "duration": 9,
    "start_time": "2022-01-05T16:09:19.641Z"
   },
   {
    "duration": 11,
    "start_time": "2022-01-05T16:10:04.689Z"
   },
   {
    "duration": 12,
    "start_time": "2022-01-05T16:10:21.289Z"
   },
   {
    "duration": 10,
    "start_time": "2022-01-05T16:16:49.836Z"
   },
   {
    "duration": 11,
    "start_time": "2022-01-05T16:16:50.997Z"
   },
   {
    "duration": 10,
    "start_time": "2022-01-05T16:16:56.108Z"
   },
   {
    "duration": 3,
    "start_time": "2022-01-05T16:34:21.736Z"
   },
   {
    "duration": 4,
    "start_time": "2022-01-05T16:44:38.197Z"
   },
   {
    "duration": 3,
    "start_time": "2022-01-05T16:45:04.071Z"
   },
   {
    "duration": 2,
    "start_time": "2022-01-05T16:45:50.232Z"
   },
   {
    "duration": 3,
    "start_time": "2022-01-05T16:46:56.576Z"
   },
   {
    "duration": 457439,
    "start_time": "2022-01-05T17:19:05.414Z"
   },
   {
    "duration": 5,
    "start_time": "2022-01-05T17:52:05.918Z"
   },
   {
    "duration": 605,
    "start_time": "2022-01-05T17:55:03.385Z"
   },
   {
    "duration": 735,
    "start_time": "2022-01-05T17:55:29.921Z"
   },
   {
    "duration": 1238,
    "start_time": "2022-01-05T17:55:54.697Z"
   },
   {
    "duration": 1266,
    "start_time": "2022-01-05T17:56:47.642Z"
   },
   {
    "duration": 13144,
    "start_time": "2022-01-05T17:58:20.787Z"
   },
   {
    "duration": 7,
    "start_time": "2022-01-05T18:09:19.308Z"
   },
   {
    "duration": 6,
    "start_time": "2022-01-05T18:09:31.980Z"
   },
   {
    "duration": 466655,
    "start_time": "2022-01-05T18:48:02.847Z"
   },
   {
    "duration": 7,
    "start_time": "2022-01-05T18:55:49.504Z"
   },
   {
    "duration": 6402,
    "start_time": "2022-01-05T18:55:49.513Z"
   },
   {
    "duration": 170,
    "start_time": "2022-01-05T18:57:35.623Z"
   },
   {
    "duration": 2947,
    "start_time": "2022-01-05T19:04:22.261Z"
   },
   {
    "duration": 225,
    "start_time": "2022-01-05T19:12:30.756Z"
   },
   {
    "duration": 171,
    "start_time": "2022-01-05T19:13:00.522Z"
   },
   {
    "duration": 1408,
    "start_time": "2022-01-05T19:13:07.849Z"
   },
   {
    "duration": 1549,
    "start_time": "2022-01-05T19:13:54.834Z"
   },
   {
    "duration": 6,
    "start_time": "2022-01-05T19:16:14.173Z"
   },
   {
    "duration": 1600,
    "start_time": "2022-01-05T19:16:23.230Z"
   },
   {
    "duration": 928,
    "start_time": "2022-01-05T19:17:58.493Z"
   },
   {
    "duration": 1295,
    "start_time": "2022-01-05T19:18:49.886Z"
   },
   {
    "duration": 75,
    "start_time": "2022-01-05T19:19:32.902Z"
   },
   {
    "duration": 84,
    "start_time": "2022-01-05T19:20:10.887Z"
   },
   {
    "duration": 1187,
    "start_time": "2022-01-05T19:20:47.063Z"
   },
   {
    "duration": 2562,
    "start_time": "2022-01-05T19:23:51.366Z"
   },
   {
    "duration": 2569,
    "start_time": "2022-01-05T19:23:53.930Z"
   },
   {
    "duration": 2435,
    "start_time": "2022-01-05T19:23:56.502Z"
   },
   {
    "duration": 31,
    "start_time": "2022-01-05T19:23:58.939Z"
   },
   {
    "duration": 14,
    "start_time": "2022-01-05T19:23:58.972Z"
   },
   {
    "duration": 11,
    "start_time": "2022-01-05T19:23:58.988Z"
   },
   {
    "duration": 16,
    "start_time": "2022-01-05T19:23:59.000Z"
   },
   {
    "duration": 4,
    "start_time": "2022-01-05T19:23:59.018Z"
   },
   {
    "duration": 9305,
    "start_time": "2022-01-05T19:23:59.024Z"
   },
   {
    "duration": 12,
    "start_time": "2022-01-05T19:24:08.341Z"
   },
   {
    "duration": 13,
    "start_time": "2022-01-05T19:24:08.355Z"
   },
   {
    "duration": 11,
    "start_time": "2022-01-05T19:24:08.370Z"
   },
   {
    "duration": 10,
    "start_time": "2022-01-05T19:24:08.383Z"
   },
   {
    "duration": 46,
    "start_time": "2022-01-05T19:24:08.395Z"
   },
   {
    "duration": 10,
    "start_time": "2022-01-05T19:24:08.443Z"
   },
   {
    "duration": 4,
    "start_time": "2022-01-05T19:24:08.454Z"
   },
   {
    "duration": 7,
    "start_time": "2022-01-05T19:24:08.460Z"
   },
   {
    "duration": 7,
    "start_time": "2022-01-05T19:24:08.468Z"
   },
   {
    "duration": 15,
    "start_time": "2022-01-05T19:24:08.477Z"
   },
   {
    "duration": 3,
    "start_time": "2022-01-05T19:24:08.494Z"
   },
   {
    "duration": 1443,
    "start_time": "2022-01-05T19:24:08.499Z"
   },
   {
    "duration": 1646,
    "start_time": "2022-01-05T19:24:09.944Z"
   },
   {
    "duration": 6427,
    "start_time": "2022-01-05T19:24:50.295Z"
   },
   {
    "duration": 81,
    "start_time": "2022-01-05T19:30:51.580Z"
   },
   {
    "duration": 194,
    "start_time": "2022-01-05T19:32:00.355Z"
   },
   {
    "duration": 1366,
    "start_time": "2022-01-05T19:35:38.112Z"
   },
   {
    "duration": 1384,
    "start_time": "2022-01-05T19:36:38.703Z"
   },
   {
    "duration": 11310,
    "start_time": "2022-01-05T19:38:01.951Z"
   },
   {
    "duration": 1355,
    "start_time": "2022-01-05T19:39:39.970Z"
   },
   {
    "duration": 10799,
    "start_time": "2022-01-05T19:39:44.437Z"
   },
   {
    "duration": 10465,
    "start_time": "2022-01-05T19:44:04.245Z"
   },
   {
    "duration": 1388,
    "start_time": "2022-01-05T19:44:47.574Z"
   },
   {
    "duration": 2833,
    "start_time": "2022-01-05T19:46:44.244Z"
   },
   {
    "duration": 2891,
    "start_time": "2022-01-05T19:46:47.080Z"
   },
   {
    "duration": 2181,
    "start_time": "2022-01-05T19:46:49.974Z"
   },
   {
    "duration": 31,
    "start_time": "2022-01-05T19:46:52.157Z"
   },
   {
    "duration": 13,
    "start_time": "2022-01-05T19:46:52.190Z"
   },
   {
    "duration": 14,
    "start_time": "2022-01-05T19:46:52.205Z"
   },
   {
    "duration": 23,
    "start_time": "2022-01-05T19:46:52.221Z"
   },
   {
    "duration": 5,
    "start_time": "2022-01-05T19:46:52.247Z"
   },
   {
    "duration": 8788,
    "start_time": "2022-01-05T19:46:52.254Z"
   },
   {
    "duration": 16,
    "start_time": "2022-01-05T19:47:01.044Z"
   },
   {
    "duration": 32,
    "start_time": "2022-01-05T19:47:01.062Z"
   },
   {
    "duration": 44,
    "start_time": "2022-01-05T19:47:01.096Z"
   },
   {
    "duration": 33,
    "start_time": "2022-01-05T19:47:01.142Z"
   },
   {
    "duration": 19,
    "start_time": "2022-01-05T19:47:01.178Z"
   },
   {
    "duration": 25,
    "start_time": "2022-01-05T19:47:01.199Z"
   },
   {
    "duration": 4,
    "start_time": "2022-01-05T19:47:01.227Z"
   },
   {
    "duration": 14,
    "start_time": "2022-01-05T19:47:01.233Z"
   },
   {
    "duration": 19,
    "start_time": "2022-01-05T19:47:01.249Z"
   },
   {
    "duration": 16,
    "start_time": "2022-01-05T19:47:01.270Z"
   },
   {
    "duration": 12,
    "start_time": "2022-01-05T19:47:01.288Z"
   },
   {
    "duration": 331,
    "start_time": "2022-01-05T19:47:01.301Z"
   },
   {
    "duration": 2401,
    "start_time": "2022-01-05T19:49:50.374Z"
   },
   {
    "duration": 2407,
    "start_time": "2022-01-05T19:49:52.777Z"
   },
   {
    "duration": 1950,
    "start_time": "2022-01-05T19:49:55.188Z"
   },
   {
    "duration": 36,
    "start_time": "2022-01-05T19:49:57.140Z"
   },
   {
    "duration": 15,
    "start_time": "2022-01-05T19:49:57.178Z"
   },
   {
    "duration": 15,
    "start_time": "2022-01-05T19:49:57.195Z"
   },
   {
    "duration": 10,
    "start_time": "2022-01-05T19:49:57.212Z"
   },
   {
    "duration": 5,
    "start_time": "2022-01-05T19:49:57.223Z"
   },
   {
    "duration": 9027,
    "start_time": "2022-01-05T19:49:57.229Z"
   },
   {
    "duration": 11,
    "start_time": "2022-01-05T19:50:06.258Z"
   },
   {
    "duration": 8,
    "start_time": "2022-01-05T19:50:06.270Z"
   },
   {
    "duration": 8,
    "start_time": "2022-01-05T19:50:06.280Z"
   },
   {
    "duration": 9,
    "start_time": "2022-01-05T19:50:06.289Z"
   },
   {
    "duration": 5,
    "start_time": "2022-01-05T19:50:06.341Z"
   },
   {
    "duration": 9,
    "start_time": "2022-01-05T19:50:06.347Z"
   },
   {
    "duration": 3,
    "start_time": "2022-01-05T19:50:06.358Z"
   },
   {
    "duration": 6,
    "start_time": "2022-01-05T19:50:06.362Z"
   },
   {
    "duration": 6,
    "start_time": "2022-01-05T19:50:06.370Z"
   },
   {
    "duration": 14,
    "start_time": "2022-01-05T19:50:06.378Z"
   },
   {
    "duration": 5,
    "start_time": "2022-01-05T19:50:06.393Z"
   },
   {
    "duration": 2395,
    "start_time": "2022-01-05T19:56:50.215Z"
   },
   {
    "duration": 2407,
    "start_time": "2022-01-05T19:56:52.612Z"
   },
   {
    "duration": 2144,
    "start_time": "2022-01-05T19:56:55.021Z"
   },
   {
    "duration": 31,
    "start_time": "2022-01-05T19:56:57.167Z"
   },
   {
    "duration": 15,
    "start_time": "2022-01-05T19:56:57.200Z"
   },
   {
    "duration": 12,
    "start_time": "2022-01-05T19:56:57.217Z"
   },
   {
    "duration": 20,
    "start_time": "2022-01-05T19:56:57.231Z"
   },
   {
    "duration": 4,
    "start_time": "2022-01-05T19:56:57.254Z"
   },
   {
    "duration": 8897,
    "start_time": "2022-01-05T19:56:57.260Z"
   },
   {
    "duration": 17,
    "start_time": "2022-01-05T19:57:06.159Z"
   },
   {
    "duration": 13,
    "start_time": "2022-01-05T19:57:06.179Z"
   },
   {
    "duration": 57,
    "start_time": "2022-01-05T19:57:06.194Z"
   },
   {
    "duration": 13,
    "start_time": "2022-01-05T19:57:06.253Z"
   },
   {
    "duration": 10,
    "start_time": "2022-01-05T19:57:06.269Z"
   },
   {
    "duration": 9,
    "start_time": "2022-01-05T19:57:06.281Z"
   },
   {
    "duration": 3,
    "start_time": "2022-01-05T19:57:06.292Z"
   },
   {
    "duration": 8,
    "start_time": "2022-01-05T19:57:06.296Z"
   },
   {
    "duration": 8,
    "start_time": "2022-01-05T19:57:06.305Z"
   },
   {
    "duration": 36,
    "start_time": "2022-01-05T19:57:06.314Z"
   },
   {
    "duration": 4,
    "start_time": "2022-01-05T19:57:06.351Z"
   },
   {
    "duration": 1748,
    "start_time": "2022-01-05T19:57:06.357Z"
   },
   {
    "duration": 1410,
    "start_time": "2022-01-05T19:58:45.185Z"
   },
   {
    "duration": 1457,
    "start_time": "2022-01-05T20:00:46.603Z"
   },
   {
    "duration": 1499,
    "start_time": "2022-01-05T20:01:25.884Z"
   },
   {
    "duration": 2522,
    "start_time": "2022-01-05T20:02:53.022Z"
   },
   {
    "duration": 2325,
    "start_time": "2022-01-05T20:02:55.546Z"
   },
   {
    "duration": 2134,
    "start_time": "2022-01-05T20:02:57.874Z"
   },
   {
    "duration": 31,
    "start_time": "2022-01-05T20:03:00.010Z"
   },
   {
    "duration": 13,
    "start_time": "2022-01-05T20:03:00.043Z"
   },
   {
    "duration": 14,
    "start_time": "2022-01-05T20:03:00.058Z"
   },
   {
    "duration": 17,
    "start_time": "2022-01-05T20:03:00.074Z"
   },
   {
    "duration": 11,
    "start_time": "2022-01-05T20:03:00.094Z"
   },
   {
    "duration": 9257,
    "start_time": "2022-01-05T20:03:00.107Z"
   },
   {
    "duration": 12,
    "start_time": "2022-01-05T20:03:09.365Z"
   },
   {
    "duration": 12,
    "start_time": "2022-01-05T20:03:09.379Z"
   },
   {
    "duration": 50,
    "start_time": "2022-01-05T20:03:09.393Z"
   },
   {
    "duration": 11,
    "start_time": "2022-01-05T20:03:09.445Z"
   },
   {
    "duration": 7,
    "start_time": "2022-01-05T20:03:09.457Z"
   },
   {
    "duration": 9,
    "start_time": "2022-01-05T20:03:09.465Z"
   },
   {
    "duration": 4,
    "start_time": "2022-01-05T20:03:09.475Z"
   },
   {
    "duration": 10,
    "start_time": "2022-01-05T20:03:09.480Z"
   },
   {
    "duration": 6,
    "start_time": "2022-01-05T20:03:09.491Z"
   },
   {
    "duration": 13,
    "start_time": "2022-01-05T20:03:09.498Z"
   },
   {
    "duration": 29,
    "start_time": "2022-01-05T20:03:09.512Z"
   },
   {
    "duration": 464,
    "start_time": "2022-01-05T20:10:53.497Z"
   },
   {
    "duration": 287,
    "start_time": "2022-01-05T20:11:20.248Z"
   },
   {
    "duration": 275,
    "start_time": "2022-01-05T20:12:35.772Z"
   },
   {
    "duration": 249806,
    "start_time": "2022-01-05T20:17:01.207Z"
   },
   {
    "duration": 171,
    "start_time": "2022-01-05T20:25:18.066Z"
   },
   {
    "duration": 824,
    "start_time": "2022-01-05T20:26:41.538Z"
   },
   {
    "duration": 2441,
    "start_time": "2022-01-05T20:28:12.261Z"
   },
   {
    "duration": 2468,
    "start_time": "2022-01-05T20:28:14.704Z"
   },
   {
    "duration": 1992,
    "start_time": "2022-01-05T20:28:17.175Z"
   },
   {
    "duration": 30,
    "start_time": "2022-01-05T20:28:19.169Z"
   },
   {
    "duration": 12,
    "start_time": "2022-01-05T20:28:19.201Z"
   },
   {
    "duration": 25,
    "start_time": "2022-01-05T20:28:19.214Z"
   },
   {
    "duration": 15,
    "start_time": "2022-01-05T20:28:19.241Z"
   },
   {
    "duration": 9,
    "start_time": "2022-01-05T20:28:19.258Z"
   },
   {
    "duration": 8331,
    "start_time": "2022-01-05T20:28:19.269Z"
   },
   {
    "duration": 40,
    "start_time": "2022-01-05T20:28:27.602Z"
   },
   {
    "duration": 14,
    "start_time": "2022-01-05T20:28:27.644Z"
   },
   {
    "duration": 10,
    "start_time": "2022-01-05T20:28:27.660Z"
   },
   {
    "duration": 10,
    "start_time": "2022-01-05T20:28:27.672Z"
   },
   {
    "duration": 10,
    "start_time": "2022-01-05T20:28:27.683Z"
   },
   {
    "duration": 53,
    "start_time": "2022-01-05T20:28:27.694Z"
   },
   {
    "duration": 3,
    "start_time": "2022-01-05T20:28:27.749Z"
   },
   {
    "duration": 7,
    "start_time": "2022-01-05T20:28:27.754Z"
   },
   {
    "duration": 6,
    "start_time": "2022-01-05T20:28:27.763Z"
   },
   {
    "duration": 11,
    "start_time": "2022-01-05T20:28:27.770Z"
   },
   {
    "duration": 816,
    "start_time": "2022-01-05T20:28:27.783Z"
   },
   {
    "duration": 790,
    "start_time": "2022-01-05T20:29:56.241Z"
   },
   {
    "duration": 11,
    "start_time": "2022-01-05T20:32:32.377Z"
   },
   {
    "duration": 7,
    "start_time": "2022-01-05T20:32:38.009Z"
   },
   {
    "duration": 10,
    "start_time": "2022-01-05T20:33:04.147Z"
   },
   {
    "duration": 4,
    "start_time": "2022-01-05T20:33:06.395Z"
   },
   {
    "duration": 15423,
    "start_time": "2022-01-05T20:36:14.732Z"
   },
   {
    "duration": 15277,
    "start_time": "2022-01-05T20:37:22.333Z"
   },
   {
    "duration": 2592,
    "start_time": "2022-01-05T20:38:22.505Z"
   },
   {
    "duration": 2473,
    "start_time": "2022-01-05T20:38:25.099Z"
   },
   {
    "duration": 2092,
    "start_time": "2022-01-05T20:38:27.574Z"
   },
   {
    "duration": 31,
    "start_time": "2022-01-05T20:38:29.668Z"
   },
   {
    "duration": 13,
    "start_time": "2022-01-05T20:38:29.701Z"
   },
   {
    "duration": 12,
    "start_time": "2022-01-05T20:38:29.716Z"
   },
   {
    "duration": 13,
    "start_time": "2022-01-05T20:38:29.741Z"
   },
   {
    "duration": 4,
    "start_time": "2022-01-05T20:38:29.756Z"
   },
   {
    "duration": 8857,
    "start_time": "2022-01-05T20:38:29.762Z"
   },
   {
    "duration": 25,
    "start_time": "2022-01-05T20:38:38.621Z"
   },
   {
    "duration": 11,
    "start_time": "2022-01-05T20:38:38.648Z"
   },
   {
    "duration": 13,
    "start_time": "2022-01-05T20:38:38.661Z"
   },
   {
    "duration": 9,
    "start_time": "2022-01-05T20:38:38.676Z"
   },
   {
    "duration": 54,
    "start_time": "2022-01-05T20:38:38.687Z"
   },
   {
    "duration": 11,
    "start_time": "2022-01-05T20:38:38.743Z"
   },
   {
    "duration": 4,
    "start_time": "2022-01-05T20:38:38.755Z"
   },
   {
    "duration": 6,
    "start_time": "2022-01-05T20:38:38.761Z"
   },
   {
    "duration": 6,
    "start_time": "2022-01-05T20:38:38.769Z"
   },
   {
    "duration": 11,
    "start_time": "2022-01-05T20:38:38.777Z"
   },
   {
    "duration": 15076,
    "start_time": "2022-01-05T20:38:38.790Z"
   },
   {
    "duration": 14969,
    "start_time": "2022-01-05T20:42:06.431Z"
   },
   {
    "duration": 67694,
    "start_time": "2022-01-05T20:42:37.263Z"
   },
   {
    "duration": 2706,
    "start_time": "2022-01-05T20:58:43.844Z"
   },
   {
    "duration": 3403,
    "start_time": "2022-01-05T20:58:46.553Z"
   },
   {
    "duration": 2402,
    "start_time": "2022-01-05T20:58:49.960Z"
   },
   {
    "duration": 1414,
    "start_time": "2022-01-05T20:58:50.951Z"
   },
   {
    "duration": 1412,
    "start_time": "2022-01-05T20:58:50.954Z"
   },
   {
    "duration": 1410,
    "start_time": "2022-01-05T20:58:50.957Z"
   },
   {
    "duration": 1406,
    "start_time": "2022-01-05T20:58:50.962Z"
   },
   {
    "duration": 1404,
    "start_time": "2022-01-05T20:58:50.965Z"
   },
   {
    "duration": 1403,
    "start_time": "2022-01-05T20:58:50.967Z"
   },
   {
    "duration": 1401,
    "start_time": "2022-01-05T20:58:50.970Z"
   },
   {
    "duration": 1400,
    "start_time": "2022-01-05T20:58:50.972Z"
   },
   {
    "duration": 1399,
    "start_time": "2022-01-05T20:58:50.974Z"
   },
   {
    "duration": 1395,
    "start_time": "2022-01-05T20:58:50.979Z"
   },
   {
    "duration": 1393,
    "start_time": "2022-01-05T20:58:50.982Z"
   },
   {
    "duration": 1392,
    "start_time": "2022-01-05T20:58:50.984Z"
   },
   {
    "duration": 1392,
    "start_time": "2022-01-05T20:58:50.985Z"
   },
   {
    "duration": 1391,
    "start_time": "2022-01-05T20:58:50.987Z"
   },
   {
    "duration": 1390,
    "start_time": "2022-01-05T20:58:50.989Z"
   },
   {
    "duration": 1389,
    "start_time": "2022-01-05T20:58:50.991Z"
   },
   {
    "duration": 1386,
    "start_time": "2022-01-05T20:58:50.995Z"
   },
   {
    "duration": 1385,
    "start_time": "2022-01-05T20:58:50.997Z"
   },
   {
    "duration": 88,
    "start_time": "2022-01-05T21:08:19.838Z"
   },
   {
    "duration": 123,
    "start_time": "2022-01-05T21:08:33.998Z"
   },
   {
    "duration": 172,
    "start_time": "2022-01-05T21:08:45.870Z"
   },
   {
    "duration": 311,
    "start_time": "2022-01-05T21:10:32.135Z"
   },
   {
    "duration": 2436,
    "start_time": "2022-01-05T21:11:13.413Z"
   },
   {
    "duration": 2682,
    "start_time": "2022-01-05T21:11:15.851Z"
   },
   {
    "duration": 2256,
    "start_time": "2022-01-05T21:11:18.535Z"
   },
   {
    "duration": 30,
    "start_time": "2022-01-05T21:11:20.793Z"
   },
   {
    "duration": 17,
    "start_time": "2022-01-05T21:11:20.825Z"
   },
   {
    "duration": 28,
    "start_time": "2022-01-05T21:11:20.844Z"
   },
   {
    "duration": 34,
    "start_time": "2022-01-05T21:11:20.874Z"
   },
   {
    "duration": 29,
    "start_time": "2022-01-05T21:11:20.910Z"
   },
   {
    "duration": 8915,
    "start_time": "2022-01-05T21:11:20.942Z"
   },
   {
    "duration": 12,
    "start_time": "2022-01-05T21:11:29.859Z"
   },
   {
    "duration": 11,
    "start_time": "2022-01-05T21:11:29.873Z"
   },
   {
    "duration": 10,
    "start_time": "2022-01-05T21:11:29.885Z"
   },
   {
    "duration": 50,
    "start_time": "2022-01-05T21:11:29.896Z"
   },
   {
    "duration": 8,
    "start_time": "2022-01-05T21:11:29.947Z"
   },
   {
    "duration": 10,
    "start_time": "2022-01-05T21:11:29.956Z"
   },
   {
    "duration": 35,
    "start_time": "2022-01-05T21:11:29.968Z"
   },
   {
    "duration": 18,
    "start_time": "2022-01-05T21:11:30.005Z"
   },
   {
    "duration": 20,
    "start_time": "2022-01-05T21:11:30.025Z"
   },
   {
    "duration": 18,
    "start_time": "2022-01-05T21:11:30.047Z"
   },
   {
    "duration": 388,
    "start_time": "2022-01-05T21:11:30.067Z"
   },
   {
    "duration": 1436,
    "start_time": "2022-01-05T21:11:29.021Z"
   },
   {
    "duration": 88826,
    "start_time": "2022-01-05T21:11:58.750Z"
   },
   {
    "duration": 3,
    "start_time": "2022-01-05T21:13:27.578Z"
   },
   {
    "duration": 7,
    "start_time": "2022-01-05T21:13:27.583Z"
   },
   {
    "duration": 247,
    "start_time": "2022-01-05T21:16:45.298Z"
   },
   {
    "duration": 245,
    "start_time": "2022-01-05T21:17:11.717Z"
   },
   {
    "duration": 8,
    "start_time": "2022-01-05T21:18:23.531Z"
   },
   {
    "duration": 6,
    "start_time": "2022-01-05T21:18:57.673Z"
   },
   {
    "duration": 6,
    "start_time": "2022-01-05T21:19:07.900Z"
   },
   {
    "duration": 2506,
    "start_time": "2022-01-05T21:20:21.090Z"
   },
   {
    "duration": 2464,
    "start_time": "2022-01-05T21:20:23.598Z"
   },
   {
    "duration": 2357,
    "start_time": "2022-01-05T21:20:26.064Z"
   },
   {
    "duration": 32,
    "start_time": "2022-01-05T21:20:28.423Z"
   },
   {
    "duration": 14,
    "start_time": "2022-01-05T21:20:28.456Z"
   },
   {
    "duration": 11,
    "start_time": "2022-01-05T21:20:28.472Z"
   },
   {
    "duration": 19,
    "start_time": "2022-01-05T21:20:28.485Z"
   },
   {
    "duration": 5,
    "start_time": "2022-01-05T21:20:28.506Z"
   },
   {
    "duration": 8444,
    "start_time": "2022-01-05T21:20:28.513Z"
   },
   {
    "duration": 12,
    "start_time": "2022-01-05T21:20:36.959Z"
   },
   {
    "duration": 28,
    "start_time": "2022-01-05T21:20:36.973Z"
   },
   {
    "duration": 23,
    "start_time": "2022-01-05T21:20:37.003Z"
   },
   {
    "duration": 25,
    "start_time": "2022-01-05T21:20:37.028Z"
   },
   {
    "duration": 38,
    "start_time": "2022-01-05T21:20:37.055Z"
   },
   {
    "duration": 35,
    "start_time": "2022-01-05T21:20:37.095Z"
   },
   {
    "duration": 20,
    "start_time": "2022-01-05T21:20:37.132Z"
   },
   {
    "duration": 42,
    "start_time": "2022-01-05T21:20:37.154Z"
   },
   {
    "duration": 25,
    "start_time": "2022-01-05T21:20:37.198Z"
   },
   {
    "duration": 35,
    "start_time": "2022-01-05T21:20:37.225Z"
   },
   {
    "duration": 89548,
    "start_time": "2022-01-05T21:20:37.261Z"
   },
   {
    "duration": 3,
    "start_time": "2022-01-05T21:22:06.811Z"
   },
   {
    "duration": 5,
    "start_time": "2022-01-05T21:22:06.816Z"
   },
   {
    "duration": 377,
    "start_time": "2022-01-05T21:23:58.353Z"
   },
   {
    "duration": 4,
    "start_time": "2022-01-05T21:24:22.438Z"
   },
   {
    "duration": 5,
    "start_time": "2022-01-05T21:24:34.130Z"
   },
   {
    "duration": 307,
    "start_time": "2022-01-05T21:25:01.002Z"
   },
   {
    "duration": 7,
    "start_time": "2022-01-05T21:26:39.324Z"
   },
   {
    "duration": 6,
    "start_time": "2022-01-05T21:26:52.900Z"
   },
   {
    "duration": 7,
    "start_time": "2022-01-05T21:27:06.715Z"
   },
   {
    "duration": 2919,
    "start_time": "2022-01-05T21:28:44.930Z"
   },
   {
    "duration": 2420,
    "start_time": "2022-01-05T21:28:47.852Z"
   },
   {
    "duration": 2087,
    "start_time": "2022-01-05T21:28:50.274Z"
   },
   {
    "duration": 32,
    "start_time": "2022-01-05T21:28:52.363Z"
   },
   {
    "duration": 13,
    "start_time": "2022-01-05T21:28:52.397Z"
   },
   {
    "duration": 11,
    "start_time": "2022-01-05T21:28:52.412Z"
   },
   {
    "duration": 17,
    "start_time": "2022-01-05T21:28:52.425Z"
   },
   {
    "duration": 5,
    "start_time": "2022-01-05T21:28:52.444Z"
   },
   {
    "duration": 8396,
    "start_time": "2022-01-05T21:28:52.451Z"
   },
   {
    "duration": 11,
    "start_time": "2022-01-05T21:29:00.849Z"
   },
   {
    "duration": 18,
    "start_time": "2022-01-05T21:29:00.862Z"
   },
   {
    "duration": 11,
    "start_time": "2022-01-05T21:29:00.882Z"
   },
   {
    "duration": 15,
    "start_time": "2022-01-05T21:29:00.895Z"
   },
   {
    "duration": 5,
    "start_time": "2022-01-05T21:29:00.942Z"
   },
   {
    "duration": 19,
    "start_time": "2022-01-05T21:29:00.949Z"
   },
   {
    "duration": 6,
    "start_time": "2022-01-05T21:29:00.970Z"
   },
   {
    "duration": 17,
    "start_time": "2022-01-05T21:29:00.977Z"
   },
   {
    "duration": 18,
    "start_time": "2022-01-05T21:29:00.996Z"
   },
   {
    "duration": 27,
    "start_time": "2022-01-05T21:29:01.015Z"
   },
   {
    "duration": 92098,
    "start_time": "2022-01-05T21:29:01.044Z"
   },
   {
    "duration": 311,
    "start_time": "2022-01-05T21:41:24.124Z"
   },
   {
    "duration": 6,
    "start_time": "2022-01-05T21:42:34.381Z"
   },
   {
    "duration": 5550,
    "start_time": "2022-01-05T21:42:45.452Z"
   },
   {
    "duration": 82,
    "start_time": "2022-01-05T21:45:15.885Z"
   },
   {
    "duration": 35,
    "start_time": "2022-01-05T21:45:26.613Z"
   },
   {
    "duration": 15,
    "start_time": "2022-01-05T21:45:55.573Z"
   },
   {
    "duration": 24,
    "start_time": "2022-01-05T21:47:27.999Z"
   },
   {
    "duration": 285,
    "start_time": "2022-01-05T21:48:32.719Z"
   },
   {
    "duration": 82,
    "start_time": "2022-01-05T21:49:18.816Z"
   },
   {
    "duration": 24,
    "start_time": "2022-01-05T21:49:46.488Z"
   },
   {
    "duration": 18,
    "start_time": "2022-01-05T21:49:56.808Z"
   },
   {
    "duration": 12,
    "start_time": "2022-01-05T21:51:36.929Z"
   },
   {
    "duration": 12,
    "start_time": "2022-01-05T21:52:38.386Z"
   },
   {
    "duration": 15,
    "start_time": "2022-01-05T21:53:14.211Z"
   },
   {
    "duration": 17,
    "start_time": "2022-01-05T21:54:24.516Z"
   },
   {
    "duration": 15,
    "start_time": "2022-01-05T21:54:35.019Z"
   },
   {
    "duration": 15,
    "start_time": "2022-01-05T21:54:57.524Z"
   },
   {
    "duration": 20,
    "start_time": "2022-01-05T21:55:44.420Z"
   },
   {
    "duration": 163,
    "start_time": "2022-01-06T07:52:19.846Z"
   },
   {
    "duration": 104336,
    "start_time": "2022-01-06T07:53:31.345Z"
   },
   {
    "duration": 38095,
    "start_time": "2022-01-06T07:55:15.683Z"
   },
   {
    "duration": 1378,
    "start_time": "2022-01-06T07:55:53.780Z"
   },
   {
    "duration": 1223,
    "start_time": "2022-01-06T07:55:53.938Z"
   },
   {
    "duration": 1221,
    "start_time": "2022-01-06T07:55:53.941Z"
   },
   {
    "duration": 1219,
    "start_time": "2022-01-06T07:55:53.944Z"
   },
   {
    "duration": 1215,
    "start_time": "2022-01-06T07:55:53.949Z"
   },
   {
    "duration": 1214,
    "start_time": "2022-01-06T07:55:53.951Z"
   },
   {
    "duration": 1213,
    "start_time": "2022-01-06T07:55:53.953Z"
   },
   {
    "duration": 1212,
    "start_time": "2022-01-06T07:55:53.955Z"
   },
   {
    "duration": 1210,
    "start_time": "2022-01-06T07:55:53.958Z"
   },
   {
    "duration": 1210,
    "start_time": "2022-01-06T07:55:53.959Z"
   },
   {
    "duration": 1208,
    "start_time": "2022-01-06T07:55:53.962Z"
   },
   {
    "duration": 1207,
    "start_time": "2022-01-06T07:55:53.964Z"
   },
   {
    "duration": 1206,
    "start_time": "2022-01-06T07:55:53.966Z"
   },
   {
    "duration": 1205,
    "start_time": "2022-01-06T07:55:53.968Z"
   },
   {
    "duration": 1206,
    "start_time": "2022-01-06T07:55:53.969Z"
   },
   {
    "duration": 1205,
    "start_time": "2022-01-06T07:55:53.971Z"
   },
   {
    "duration": 1204,
    "start_time": "2022-01-06T07:55:53.973Z"
   },
   {
    "duration": 1202,
    "start_time": "2022-01-06T07:55:53.975Z"
   },
   {
    "duration": 1199,
    "start_time": "2022-01-06T07:55:53.980Z"
   },
   {
    "duration": 1197,
    "start_time": "2022-01-06T07:55:53.983Z"
   },
   {
    "duration": 101041,
    "start_time": "2022-01-06T07:57:09.222Z"
   },
   {
    "duration": 422,
    "start_time": "2022-01-06T07:58:50.265Z"
   },
   {
    "duration": 2271,
    "start_time": "2022-01-06T08:00:05.580Z"
   },
   {
    "duration": 31,
    "start_time": "2022-01-06T08:00:07.853Z"
   },
   {
    "duration": 18,
    "start_time": "2022-01-06T08:00:07.889Z"
   },
   {
    "duration": 13,
    "start_time": "2022-01-06T08:00:07.910Z"
   },
   {
    "duration": 14,
    "start_time": "2022-01-06T08:00:07.925Z"
   },
   {
    "duration": 5,
    "start_time": "2022-01-06T08:00:07.941Z"
   },
   {
    "duration": 9471,
    "start_time": "2022-01-06T08:00:07.947Z"
   },
   {
    "duration": 12,
    "start_time": "2022-01-06T08:00:17.421Z"
   },
   {
    "duration": 21,
    "start_time": "2022-01-06T08:00:17.435Z"
   },
   {
    "duration": 55,
    "start_time": "2022-01-06T08:00:17.457Z"
   },
   {
    "duration": 23,
    "start_time": "2022-01-06T08:00:17.515Z"
   },
   {
    "duration": 30,
    "start_time": "2022-01-06T08:00:17.540Z"
   },
   {
    "duration": 47,
    "start_time": "2022-01-06T08:00:17.572Z"
   },
   {
    "duration": 28,
    "start_time": "2022-01-06T08:00:17.620Z"
   },
   {
    "duration": 30,
    "start_time": "2022-01-06T08:00:17.649Z"
   },
   {
    "duration": 38,
    "start_time": "2022-01-06T08:00:17.680Z"
   },
   {
    "duration": 33,
    "start_time": "2022-01-06T08:00:17.719Z"
   },
   {
    "duration": 245,
    "start_time": "2022-01-06T08:00:17.754Z"
   },
   {
    "duration": 5821,
    "start_time": "2022-01-06T08:00:18.002Z"
   },
   {
    "duration": 17,
    "start_time": "2022-01-06T08:00:23.826Z"
   },
   {
    "duration": 126,
    "start_time": "2022-01-06T08:03:29.189Z"
   },
   {
    "duration": 208,
    "start_time": "2022-01-06T08:07:30.392Z"
   },
   {
    "duration": 231,
    "start_time": "2022-01-06T08:07:41.720Z"
   },
   {
    "duration": 23,
    "start_time": "2022-01-06T08:08:01.448Z"
   },
   {
    "duration": 726,
    "start_time": "2022-01-06T08:08:23.880Z"
   },
   {
    "duration": 726,
    "start_time": "2022-01-06T08:09:46.738Z"
   },
   {
    "duration": 4,
    "start_time": "2022-01-06T08:10:34.458Z"
   },
   {
    "duration": 1031,
    "start_time": "2022-01-06T08:15:23.368Z"
   },
   {
    "duration": 4,
    "start_time": "2022-01-06T08:16:08.262Z"
   },
   {
    "duration": 750,
    "start_time": "2022-01-06T08:16:11.993Z"
   },
   {
    "duration": 777,
    "start_time": "2022-01-06T08:17:44.824Z"
   },
   {
    "duration": 736,
    "start_time": "2022-01-06T08:19:28.496Z"
   },
   {
    "duration": 764,
    "start_time": "2022-01-06T08:19:40.921Z"
   },
   {
    "duration": 65,
    "start_time": "2022-01-06T08:33:15.351Z"
   },
   {
    "duration": 57,
    "start_time": "2022-01-06T08:33:26.659Z"
   },
   {
    "duration": 99,
    "start_time": "2022-01-06T08:33:33.467Z"
   },
   {
    "duration": 3,
    "start_time": "2022-01-06T08:34:00.627Z"
   },
   {
    "duration": 741,
    "start_time": "2022-01-06T08:34:38.838Z"
   },
   {
    "duration": 8,
    "start_time": "2022-01-06T08:43:27.841Z"
   },
   {
    "duration": 6298,
    "start_time": "2022-01-06T08:45:06.378Z"
   },
   {
    "duration": 6065,
    "start_time": "2022-01-06T08:46:29.490Z"
   },
   {
    "duration": 36,
    "start_time": "2022-01-06T08:54:41.274Z"
   },
   {
    "duration": 17,
    "start_time": "2022-01-06T08:55:12.874Z"
   },
   {
    "duration": 17,
    "start_time": "2022-01-06T08:56:08.452Z"
   },
   {
    "duration": 19,
    "start_time": "2022-01-06T08:56:19.707Z"
   },
   {
    "duration": 22,
    "start_time": "2022-01-06T08:57:19.172Z"
   },
   {
    "duration": 16,
    "start_time": "2022-01-06T08:58:29.436Z"
   },
   {
    "duration": 18,
    "start_time": "2022-01-06T09:00:20.357Z"
   },
   {
    "duration": 62,
    "start_time": "2022-01-06T09:00:40.958Z"
   },
   {
    "duration": 17,
    "start_time": "2022-01-06T09:01:40.478Z"
   },
   {
    "duration": 16,
    "start_time": "2022-01-06T09:02:13.862Z"
   },
   {
    "duration": 18,
    "start_time": "2022-01-06T09:03:25.111Z"
   },
   {
    "duration": 9,
    "start_time": "2022-01-06T09:09:21.852Z"
   },
   {
    "duration": 18,
    "start_time": "2022-01-06T09:09:26.813Z"
   },
   {
    "duration": 16,
    "start_time": "2022-01-06T09:09:34.565Z"
   },
   {
    "duration": 25,
    "start_time": "2022-01-06T09:10:40.790Z"
   },
   {
    "duration": 629,
    "start_time": "2022-01-06T09:11:34.093Z"
   },
   {
    "duration": 12,
    "start_time": "2022-01-06T09:11:41.701Z"
   },
   {
    "duration": 18,
    "start_time": "2022-01-06T09:11:59.149Z"
   },
   {
    "duration": 67,
    "start_time": "2022-01-06T09:13:15.654Z"
   },
   {
    "duration": 70,
    "start_time": "2022-01-06T09:13:32.593Z"
   },
   {
    "duration": 6384,
    "start_time": "2022-01-06T09:13:37.543Z"
   },
   {
    "duration": 6376,
    "start_time": "2022-01-06T09:13:55.617Z"
   },
   {
    "duration": 6225,
    "start_time": "2022-01-06T09:22:45.141Z"
   },
   {
    "duration": 19,
    "start_time": "2022-01-06T09:22:59.637Z"
   },
   {
    "duration": 209,
    "start_time": "2022-01-06T09:24:15.749Z"
   },
   {
    "duration": 67,
    "start_time": "2022-01-06T09:24:31.183Z"
   },
   {
    "duration": 189,
    "start_time": "2022-01-06T09:24:48.422Z"
   },
   {
    "duration": 21,
    "start_time": "2022-01-06T09:25:15.096Z"
   },
   {
    "duration": 133,
    "start_time": "2022-01-06T09:37:21.310Z"
   },
   {
    "duration": 7,
    "start_time": "2022-01-06T09:37:48.703Z"
   },
   {
    "duration": 141,
    "start_time": "2022-01-06T09:37:55.632Z"
   },
   {
    "duration": 135,
    "start_time": "2022-01-06T09:39:03.946Z"
   },
   {
    "duration": 143,
    "start_time": "2022-01-06T09:39:38.761Z"
   },
   {
    "duration": 236,
    "start_time": "2022-01-06T09:41:47.611Z"
   },
   {
    "duration": 2798,
    "start_time": "2022-01-06T09:44:02.310Z"
   },
   {
    "duration": 42868,
    "start_time": "2022-01-06T09:46:45.238Z"
   },
   {
    "duration": 32,
    "start_time": "2022-01-06T09:48:50.682Z"
   },
   {
    "duration": 124,
    "start_time": "2022-01-06T09:50:13.203Z"
   },
   {
    "duration": 47166,
    "start_time": "2022-01-06T09:51:02.338Z"
   },
   {
    "duration": 189,
    "start_time": "2022-01-06T09:51:49.507Z"
   },
   {
    "duration": 20,
    "start_time": "2022-01-06T09:52:23.012Z"
   },
   {
    "duration": 2004,
    "start_time": "2022-01-06T09:56:29.381Z"
   },
   {
    "duration": 18,
    "start_time": "2022-01-06T09:57:32.239Z"
   },
   {
    "duration": 18,
    "start_time": "2022-01-06T09:57:42.982Z"
   },
   {
    "duration": 24,
    "start_time": "2022-01-06T09:59:00.496Z"
   },
   {
    "duration": 174,
    "start_time": "2022-01-06T10:09:52.600Z"
   },
   {
    "duration": 159,
    "start_time": "2022-01-06T10:11:02.120Z"
   },
   {
    "duration": 219,
    "start_time": "2022-01-06T10:11:11.568Z"
   },
   {
    "duration": 252,
    "start_time": "2022-01-06T10:11:35.265Z"
   },
   {
    "duration": 175823,
    "start_time": "2022-01-06T10:11:51.064Z"
   },
   {
    "duration": 345173,
    "start_time": "2022-01-06T10:15:31.828Z"
   },
   {
    "duration": 59,
    "start_time": "2022-01-06T10:21:17.262Z"
   },
   {
    "duration": 383,
    "start_time": "2022-01-06T10:22:38.424Z"
   },
   {
    "duration": 6,
    "start_time": "2022-01-06T10:23:36.217Z"
   },
   {
    "duration": 36,
    "start_time": "2022-01-06T10:23:50.898Z"
   },
   {
    "duration": 14,
    "start_time": "2022-01-06T10:24:11.849Z"
   },
   {
    "duration": 18,
    "start_time": "2022-01-06T10:25:19.434Z"
   },
   {
    "duration": 36,
    "start_time": "2022-01-06T10:26:07.651Z"
   },
   {
    "duration": 39,
    "start_time": "2022-01-06T10:26:19.670Z"
   },
   {
    "duration": 17,
    "start_time": "2022-01-06T10:26:56.754Z"
   },
   {
    "duration": 35,
    "start_time": "2022-01-06T10:27:09.554Z"
   },
   {
    "duration": 35,
    "start_time": "2022-01-06T10:27:25.966Z"
   },
   {
    "duration": 43,
    "start_time": "2022-01-06T10:27:47.635Z"
   },
   {
    "duration": 17,
    "start_time": "2022-01-06T10:28:35.780Z"
   },
   {
    "duration": 16,
    "start_time": "2022-01-06T10:28:52.726Z"
   },
   {
    "duration": 17,
    "start_time": "2022-01-06T10:29:15.012Z"
   },
   {
    "duration": 20,
    "start_time": "2022-01-06T10:29:49.503Z"
   },
   {
    "duration": 14,
    "start_time": "2022-01-06T10:29:59.975Z"
   },
   {
    "duration": 313,
    "start_time": "2022-01-06T10:30:13.205Z"
   },
   {
    "duration": 240,
    "start_time": "2022-01-06T10:30:20.775Z"
   },
   {
    "duration": 14,
    "start_time": "2022-01-06T10:30:25.330Z"
   },
   {
    "duration": 15,
    "start_time": "2022-01-06T10:30:33.543Z"
   },
   {
    "duration": 14,
    "start_time": "2022-01-06T10:30:38.621Z"
   },
   {
    "duration": 13,
    "start_time": "2022-01-06T10:30:44.272Z"
   },
   {
    "duration": 14,
    "start_time": "2022-01-06T10:31:15.807Z"
   },
   {
    "duration": 6,
    "start_time": "2022-01-06T10:33:14.848Z"
   },
   {
    "duration": 51375,
    "start_time": "2022-01-06T10:34:38.329Z"
   },
   {
    "duration": 17,
    "start_time": "2022-01-06T10:37:12.828Z"
   },
   {
    "duration": 18,
    "start_time": "2022-01-06T10:38:13.940Z"
   },
   {
    "duration": 185,
    "start_time": "2022-01-06T10:41:07.649Z"
   },
   {
    "duration": 188,
    "start_time": "2022-01-06T10:41:49.111Z"
   },
   {
    "duration": 470571,
    "start_time": "2022-01-06T10:42:01.584Z"
   },
   {
    "duration": 13,
    "start_time": "2022-01-06T10:51:15.999Z"
   },
   {
    "duration": 13,
    "start_time": "2022-01-06T10:51:25.799Z"
   },
   {
    "duration": 23,
    "start_time": "2022-01-06T10:51:29.526Z"
   },
   {
    "duration": 7878,
    "start_time": "2022-01-06T10:52:39.496Z"
   },
   {
    "duration": 10594,
    "start_time": "2022-01-06T10:53:15.663Z"
   },
   {
    "duration": 8315,
    "start_time": "2022-01-06T10:53:37.847Z"
   },
   {
    "duration": 21225,
    "start_time": "2022-01-06T10:53:55.673Z"
   },
   {
    "duration": 17967,
    "start_time": "2022-01-06T10:54:25.425Z"
   },
   {
    "duration": 13685,
    "start_time": "2022-01-06T10:54:52.689Z"
   },
   {
    "duration": 195,
    "start_time": "2022-01-06T11:00:20.683Z"
   },
   {
    "duration": 2089,
    "start_time": "2022-01-06T11:09:20.572Z"
   },
   {
    "duration": 31,
    "start_time": "2022-01-06T11:09:22.663Z"
   },
   {
    "duration": 20,
    "start_time": "2022-01-06T11:09:22.697Z"
   },
   {
    "duration": 13,
    "start_time": "2022-01-06T11:09:22.719Z"
   },
   {
    "duration": 11,
    "start_time": "2022-01-06T11:09:22.733Z"
   },
   {
    "duration": 5,
    "start_time": "2022-01-06T11:09:22.745Z"
   },
   {
    "duration": 9551,
    "start_time": "2022-01-06T11:09:22.752Z"
   },
   {
    "duration": 16,
    "start_time": "2022-01-06T11:09:32.305Z"
   },
   {
    "duration": 10,
    "start_time": "2022-01-06T11:09:32.324Z"
   },
   {
    "duration": 8,
    "start_time": "2022-01-06T11:09:32.336Z"
   },
   {
    "duration": 59,
    "start_time": "2022-01-06T11:09:32.346Z"
   },
   {
    "duration": 5,
    "start_time": "2022-01-06T11:09:32.408Z"
   },
   {
    "duration": 10,
    "start_time": "2022-01-06T11:09:32.415Z"
   },
   {
    "duration": 3,
    "start_time": "2022-01-06T11:09:32.427Z"
   },
   {
    "duration": 8,
    "start_time": "2022-01-06T11:09:32.431Z"
   },
   {
    "duration": 6,
    "start_time": "2022-01-06T11:09:32.441Z"
   },
   {
    "duration": 51,
    "start_time": "2022-01-06T11:09:32.448Z"
   },
   {
    "duration": 13,
    "start_time": "2022-01-06T11:09:32.501Z"
   },
   {
    "duration": 7,
    "start_time": "2022-01-06T11:09:32.516Z"
   },
   {
    "duration": 47891,
    "start_time": "2022-01-06T11:09:32.525Z"
   },
   {
    "duration": 174,
    "start_time": "2022-01-06T11:10:20.420Z"
   },
   {
    "duration": 47996,
    "start_time": "2022-01-06T11:10:20.596Z"
   },
   {
    "duration": 107,
    "start_time": "2022-01-06T11:11:08.595Z"
   },
   {
    "duration": 14102,
    "start_time": "2022-01-06T11:11:08.705Z"
   },
   {
    "duration": 19,
    "start_time": "2022-01-06T11:11:22.809Z"
   },
   {
    "duration": 19093,
    "start_time": "2022-01-06T11:11:22.830Z"
   },
   {
    "duration": 16,
    "start_time": "2022-01-06T11:11:41.926Z"
   },
   {
    "duration": 67,
    "start_time": "2022-01-06T11:11:41.944Z"
   },
   {
    "duration": 89,
    "start_time": "2022-01-06T11:11:41.924Z"
   },
   {
    "duration": 89,
    "start_time": "2022-01-06T11:11:41.926Z"
   },
   {
    "duration": 87,
    "start_time": "2022-01-06T11:11:41.929Z"
   },
   {
    "duration": 2015,
    "start_time": "2022-01-06T11:12:28.655Z"
   },
   {
    "duration": 35,
    "start_time": "2022-01-06T11:12:30.672Z"
   },
   {
    "duration": 15,
    "start_time": "2022-01-06T11:12:30.715Z"
   },
   {
    "duration": 12,
    "start_time": "2022-01-06T11:12:30.731Z"
   },
   {
    "duration": 13,
    "start_time": "2022-01-06T11:12:30.745Z"
   },
   {
    "duration": 7,
    "start_time": "2022-01-06T11:12:30.760Z"
   },
   {
    "duration": 9519,
    "start_time": "2022-01-06T11:12:30.800Z"
   },
   {
    "duration": 17,
    "start_time": "2022-01-06T11:12:40.322Z"
   },
   {
    "duration": 55,
    "start_time": "2022-01-06T11:12:40.341Z"
   },
   {
    "duration": 11,
    "start_time": "2022-01-06T11:12:40.398Z"
   },
   {
    "duration": 12,
    "start_time": "2022-01-06T11:12:40.411Z"
   },
   {
    "duration": 5,
    "start_time": "2022-01-06T11:12:40.425Z"
   },
   {
    "duration": 10,
    "start_time": "2022-01-06T11:12:40.431Z"
   },
   {
    "duration": 3,
    "start_time": "2022-01-06T11:12:40.442Z"
   },
   {
    "duration": 6,
    "start_time": "2022-01-06T11:12:40.447Z"
   },
   {
    "duration": 7,
    "start_time": "2022-01-06T11:12:40.492Z"
   },
   {
    "duration": 19,
    "start_time": "2022-01-06T11:12:40.501Z"
   },
   {
    "duration": 10,
    "start_time": "2022-01-06T11:12:40.522Z"
   },
   {
    "duration": 9,
    "start_time": "2022-01-06T11:12:40.533Z"
   },
   {
    "duration": 49474,
    "start_time": "2022-01-06T11:12:40.544Z"
   },
   {
    "duration": 178,
    "start_time": "2022-01-06T11:13:30.021Z"
   },
   {
    "duration": 51702,
    "start_time": "2022-01-06T11:13:30.201Z"
   },
   {
    "duration": 180,
    "start_time": "2022-01-06T11:14:21.911Z"
   },
   {
    "duration": 13673,
    "start_time": "2022-01-06T11:14:22.094Z"
   },
   {
    "duration": 23,
    "start_time": "2022-01-06T11:14:35.769Z"
   },
   {
    "duration": 18821,
    "start_time": "2022-01-06T11:14:35.797Z"
   },
   {
    "duration": 16,
    "start_time": "2022-01-06T11:14:54.620Z"
   },
   {
    "duration": 6905765,
    "start_time": "2022-01-06T11:14:54.638Z"
   },
   {
    "duration": 30,
    "start_time": "2022-01-06T13:10:00.405Z"
   },
   {
    "duration": 2029,
    "start_time": "2022-01-06T13:43:58.753Z"
   },
   {
    "duration": 32,
    "start_time": "2022-01-06T13:44:00.784Z"
   },
   {
    "duration": 14,
    "start_time": "2022-01-06T13:44:00.818Z"
   },
   {
    "duration": 13,
    "start_time": "2022-01-06T13:44:00.833Z"
   },
   {
    "duration": 16,
    "start_time": "2022-01-06T13:44:00.848Z"
   },
   {
    "duration": 8,
    "start_time": "2022-01-06T13:44:00.866Z"
   },
   {
    "duration": 9657,
    "start_time": "2022-01-06T13:44:00.876Z"
   },
   {
    "duration": 12,
    "start_time": "2022-01-06T13:44:10.535Z"
   },
   {
    "duration": 47,
    "start_time": "2022-01-06T13:44:10.550Z"
   },
   {
    "duration": 12,
    "start_time": "2022-01-06T13:44:10.600Z"
   },
   {
    "duration": 30,
    "start_time": "2022-01-06T13:44:10.615Z"
   },
   {
    "duration": 16,
    "start_time": "2022-01-06T13:44:10.647Z"
   },
   {
    "duration": 34,
    "start_time": "2022-01-06T13:44:10.664Z"
   },
   {
    "duration": 17,
    "start_time": "2022-01-06T13:44:10.700Z"
   },
   {
    "duration": 23,
    "start_time": "2022-01-06T13:44:10.719Z"
   },
   {
    "duration": 21,
    "start_time": "2022-01-06T13:44:10.744Z"
   },
   {
    "duration": 22,
    "start_time": "2022-01-06T13:44:10.766Z"
   },
   {
    "duration": 29,
    "start_time": "2022-01-06T13:44:10.790Z"
   },
   {
    "duration": 26,
    "start_time": "2022-01-06T13:44:10.821Z"
   },
   {
    "duration": 47350,
    "start_time": "2022-01-06T13:44:10.848Z"
   },
   {
    "duration": 102,
    "start_time": "2022-01-06T13:44:58.205Z"
   },
   {
    "duration": 52799,
    "start_time": "2022-01-06T13:44:58.309Z"
   },
   {
    "duration": 26,
    "start_time": "2022-01-06T13:45:51.193Z"
   },
   {
    "duration": 14539,
    "start_time": "2022-01-06T13:45:51.221Z"
   },
   {
    "duration": 17,
    "start_time": "2022-01-06T13:46:05.762Z"
   },
   {
    "duration": 5767,
    "start_time": "2022-01-06T13:46:05.781Z"
   },
   {
    "duration": 18,
    "start_time": "2022-01-06T13:46:11.551Z"
   },
   {
    "duration": 242,
    "start_time": "2022-01-06T13:46:11.571Z"
   },
   {
    "duration": 198,
    "start_time": "2022-01-06T13:46:11.815Z"
   },
   {
    "duration": 173,
    "start_time": "2022-01-06T13:46:11.843Z"
   },
   {
    "duration": 10,
    "start_time": "2022-01-06T13:47:27.809Z"
   },
   {
    "duration": 12433,
    "start_time": "2022-01-06T13:47:38.624Z"
   },
   {
    "duration": 19,
    "start_time": "2022-01-06T13:47:59.513Z"
   },
   {
    "duration": 17516,
    "start_time": "2022-01-06T13:48:52.320Z"
   },
   {
    "duration": 19,
    "start_time": "2022-01-06T13:49:39.962Z"
   },
   {
    "duration": 83025,
    "start_time": "2022-01-06T13:50:07.411Z"
   },
   {
    "duration": 150767,
    "start_time": "2022-01-06T13:52:16.821Z"
   },
   {
    "duration": 47865,
    "start_time": "2022-01-06T13:58:28.033Z"
   },
   {
    "duration": 121,
    "start_time": "2022-01-06T14:00:16.163Z"
   },
   {
    "duration": 48440,
    "start_time": "2022-01-06T14:00:23.375Z"
   },
   {
    "duration": 97480,
    "start_time": "2022-01-06T14:05:48.725Z"
   },
   {
    "duration": 9,
    "start_time": "2022-01-06T14:17:59.311Z"
   },
   {
    "duration": 8300,
    "start_time": "2022-01-06T14:20:41.127Z"
   },
   {
    "duration": 10911,
    "start_time": "2022-01-06T14:21:16.577Z"
   },
   {
    "duration": 14852,
    "start_time": "2022-01-06T14:21:55.673Z"
   },
   {
    "duration": 17095,
    "start_time": "2022-01-06T14:22:57.664Z"
   },
   {
    "duration": 168,
    "start_time": "2022-01-06T14:30:28.358Z"
   },
   {
    "duration": 10,
    "start_time": "2022-01-06T14:30:41.991Z"
   },
   {
    "duration": 13111,
    "start_time": "2022-01-06T14:30:46.904Z"
   },
   {
    "duration": 17938,
    "start_time": "2022-01-06T14:31:48.015Z"
   },
   {
    "duration": 14678,
    "start_time": "2022-01-06T14:33:35.945Z"
   },
   {
    "duration": 30,
    "start_time": "2022-01-06T16:05:09.579Z"
   },
   {
    "duration": 37258,
    "start_time": "2022-01-06T16:05:59.477Z"
   },
   {
    "duration": 37737,
    "start_time": "2022-01-06T16:08:15.688Z"
   },
   {
    "duration": 35142,
    "start_time": "2022-01-06T16:11:51.986Z"
   },
   {
    "duration": 125,
    "start_time": "2022-01-06T16:24:33.881Z"
   },
   {
    "duration": 131875,
    "start_time": "2022-01-06T16:28:38.332Z"
   },
   {
    "duration": 26,
    "start_time": "2022-01-06T16:34:02.281Z"
   },
   {
    "duration": 141811,
    "start_time": "2022-01-06T16:35:13.114Z"
   },
   {
    "duration": 17,
    "start_time": "2022-01-06T16:37:34.927Z"
   },
   {
    "duration": 2281,
    "start_time": "2022-01-06T16:41:36.264Z"
   },
   {
    "duration": 32,
    "start_time": "2022-01-06T16:41:38.547Z"
   },
   {
    "duration": 30,
    "start_time": "2022-01-06T16:41:38.583Z"
   },
   {
    "duration": 19,
    "start_time": "2022-01-06T16:41:38.615Z"
   },
   {
    "duration": 12,
    "start_time": "2022-01-06T16:41:38.636Z"
   },
   {
    "duration": 5,
    "start_time": "2022-01-06T16:41:38.650Z"
   },
   {
    "duration": 9495,
    "start_time": "2022-01-06T16:41:38.656Z"
   },
   {
    "duration": 48,
    "start_time": "2022-01-06T16:41:48.154Z"
   },
   {
    "duration": 21,
    "start_time": "2022-01-06T16:41:48.209Z"
   },
   {
    "duration": 10,
    "start_time": "2022-01-06T16:41:48.234Z"
   },
   {
    "duration": 13,
    "start_time": "2022-01-06T16:41:48.246Z"
   },
   {
    "duration": 10,
    "start_time": "2022-01-06T16:41:48.261Z"
   },
   {
    "duration": 16,
    "start_time": "2022-01-06T16:41:48.291Z"
   },
   {
    "duration": 6,
    "start_time": "2022-01-06T16:41:48.312Z"
   },
   {
    "duration": 15,
    "start_time": "2022-01-06T16:41:48.321Z"
   },
   {
    "duration": 7,
    "start_time": "2022-01-06T16:41:48.338Z"
   },
   {
    "duration": 322,
    "start_time": "2022-01-06T16:41:48.347Z"
   },
   {
    "duration": 283,
    "start_time": "2022-01-06T16:41:48.389Z"
   },
   {
    "duration": 282,
    "start_time": "2022-01-06T16:41:48.391Z"
   },
   {
    "duration": 280,
    "start_time": "2022-01-06T16:41:48.393Z"
   },
   {
    "duration": 275,
    "start_time": "2022-01-06T16:41:48.399Z"
   },
   {
    "duration": 274,
    "start_time": "2022-01-06T16:41:48.401Z"
   },
   {
    "duration": 273,
    "start_time": "2022-01-06T16:41:48.403Z"
   },
   {
    "duration": 273,
    "start_time": "2022-01-06T16:41:48.404Z"
   },
   {
    "duration": 271,
    "start_time": "2022-01-06T16:41:48.407Z"
   },
   {
    "duration": 270,
    "start_time": "2022-01-06T16:41:48.409Z"
   },
   {
    "duration": 266,
    "start_time": "2022-01-06T16:41:48.414Z"
   },
   {
    "duration": 265,
    "start_time": "2022-01-06T16:41:48.416Z"
   },
   {
    "duration": 263,
    "start_time": "2022-01-06T16:41:48.418Z"
   },
   {
    "duration": 262,
    "start_time": "2022-01-06T16:41:48.420Z"
   },
   {
    "duration": 261,
    "start_time": "2022-01-06T16:41:48.422Z"
   },
   {
    "duration": 260,
    "start_time": "2022-01-06T16:41:48.424Z"
   },
   {
    "duration": 259,
    "start_time": "2022-01-06T16:41:48.426Z"
   },
   {
    "duration": 255,
    "start_time": "2022-01-06T16:41:48.431Z"
   },
   {
    "duration": 254,
    "start_time": "2022-01-06T16:41:48.433Z"
   },
   {
    "duration": 253,
    "start_time": "2022-01-06T16:41:48.435Z"
   },
   {
    "duration": 252,
    "start_time": "2022-01-06T16:41:48.437Z"
   },
   {
    "duration": 12,
    "start_time": "2022-01-06T16:42:40.567Z"
   },
   {
    "duration": 2115,
    "start_time": "2022-01-06T16:43:36.408Z"
   },
   {
    "duration": 31,
    "start_time": "2022-01-06T16:43:38.527Z"
   },
   {
    "duration": 13,
    "start_time": "2022-01-06T16:43:38.562Z"
   },
   {
    "duration": 27,
    "start_time": "2022-01-06T16:43:38.576Z"
   },
   {
    "duration": 17,
    "start_time": "2022-01-06T16:43:38.605Z"
   },
   {
    "duration": 6,
    "start_time": "2022-01-06T16:43:38.624Z"
   },
   {
    "duration": 9204,
    "start_time": "2022-01-06T16:43:38.632Z"
   },
   {
    "duration": 13,
    "start_time": "2022-01-06T16:43:47.839Z"
   },
   {
    "duration": 11,
    "start_time": "2022-01-06T16:43:47.854Z"
   },
   {
    "duration": 22,
    "start_time": "2022-01-06T16:43:47.896Z"
   },
   {
    "duration": 11,
    "start_time": "2022-01-06T16:43:47.922Z"
   },
   {
    "duration": 5,
    "start_time": "2022-01-06T16:43:47.935Z"
   },
   {
    "duration": 9,
    "start_time": "2022-01-06T16:43:47.942Z"
   },
   {
    "duration": 4,
    "start_time": "2022-01-06T16:43:47.953Z"
   },
   {
    "duration": 42,
    "start_time": "2022-01-06T16:43:47.959Z"
   },
   {
    "duration": 15,
    "start_time": "2022-01-06T16:43:48.005Z"
   },
   {
    "duration": 12,
    "start_time": "2022-01-06T16:43:48.022Z"
   },
   {
    "duration": 13,
    "start_time": "2022-01-06T16:43:48.036Z"
   },
   {
    "duration": 6,
    "start_time": "2022-01-06T16:43:48.051Z"
   },
   {
    "duration": 44874,
    "start_time": "2022-01-06T16:43:48.060Z"
   },
   {
    "duration": 113,
    "start_time": "2022-01-06T16:44:32.992Z"
   },
   {
    "duration": 50794,
    "start_time": "2022-01-06T16:44:33.114Z"
   },
   {
    "duration": 125,
    "start_time": "2022-01-06T16:45:23.910Z"
   },
   {
    "duration": 14877,
    "start_time": "2022-01-06T16:45:24.037Z"
   },
   {
    "duration": 19,
    "start_time": "2022-01-06T16:45:38.917Z"
   },
   {
    "duration": 5695,
    "start_time": "2022-01-06T16:45:38.940Z"
   },
   {
    "duration": 19,
    "start_time": "2022-01-06T16:45:44.637Z"
   },
   {
    "duration": 13019,
    "start_time": "2022-01-06T16:45:44.658Z"
   },
   {
    "duration": 36,
    "start_time": "2022-01-06T16:45:57.679Z"
   },
   {
    "duration": 18580,
    "start_time": "2022-01-06T16:45:57.717Z"
   },
   {
    "duration": 29,
    "start_time": "2022-01-06T16:46:16.305Z"
   },
   {
    "duration": 40723,
    "start_time": "2022-01-06T16:46:16.336Z"
   },
   {
    "duration": 80268,
    "start_time": "2022-01-06T16:46:57.061Z"
   },
   {
    "duration": 132480,
    "start_time": "2022-01-06T16:48:17.331Z"
   },
   {
    "duration": 26,
    "start_time": "2022-01-06T16:50:29.816Z"
   },
   {
    "duration": 139196,
    "start_time": "2022-01-06T16:50:29.843Z"
   },
   {
    "duration": 18,
    "start_time": "2022-01-06T16:52:49.042Z"
   },
   {
    "duration": 45920,
    "start_time": "2022-01-06T16:57:59.298Z"
   },
   {
    "duration": 69,
    "start_time": "2022-01-06T16:59:18.737Z"
   },
   {
    "duration": 45425,
    "start_time": "2022-01-06T16:59:45.467Z"
   },
   {
    "duration": 50593,
    "start_time": "2022-01-06T17:02:00.100Z"
   },
   {
    "duration": 52797,
    "start_time": "2022-01-06T17:03:29.119Z"
   },
   {
    "duration": 14631,
    "start_time": "2022-01-06T17:06:06.423Z"
   },
   {
    "duration": 15320,
    "start_time": "2022-01-06T17:06:35.064Z"
   },
   {
    "duration": 2024,
    "start_time": "2022-01-06T17:29:40.287Z"
   },
   {
    "duration": 31,
    "start_time": "2022-01-06T17:29:42.313Z"
   },
   {
    "duration": 13,
    "start_time": "2022-01-06T17:29:42.348Z"
   },
   {
    "duration": 13,
    "start_time": "2022-01-06T17:29:42.362Z"
   },
   {
    "duration": 24,
    "start_time": "2022-01-06T17:29:42.376Z"
   },
   {
    "duration": 5,
    "start_time": "2022-01-06T17:29:42.402Z"
   },
   {
    "duration": 9318,
    "start_time": "2022-01-06T17:29:42.408Z"
   },
   {
    "duration": 13,
    "start_time": "2022-01-06T17:29:51.729Z"
   },
   {
    "duration": 48,
    "start_time": "2022-01-06T17:29:51.744Z"
   },
   {
    "duration": 12,
    "start_time": "2022-01-06T17:29:51.794Z"
   },
   {
    "duration": 13,
    "start_time": "2022-01-06T17:29:51.808Z"
   },
   {
    "duration": 6,
    "start_time": "2022-01-06T17:29:51.823Z"
   },
   {
    "duration": 9,
    "start_time": "2022-01-06T17:29:51.831Z"
   },
   {
    "duration": 4,
    "start_time": "2022-01-06T17:29:51.841Z"
   },
   {
    "duration": 8,
    "start_time": "2022-01-06T17:29:51.846Z"
   },
   {
    "duration": 41,
    "start_time": "2022-01-06T17:29:51.856Z"
   },
   {
    "duration": 13,
    "start_time": "2022-01-06T17:29:51.900Z"
   },
   {
    "duration": 11,
    "start_time": "2022-01-06T17:29:51.915Z"
   },
   {
    "duration": 5,
    "start_time": "2022-01-06T17:29:51.927Z"
   },
   {
    "duration": 48567,
    "start_time": "2022-01-06T17:29:51.934Z"
   },
   {
    "duration": 49293,
    "start_time": "2022-01-06T17:30:40.509Z"
   },
   {
    "duration": 195,
    "start_time": "2022-01-06T17:31:29.804Z"
   },
   {
    "duration": 54421,
    "start_time": "2022-01-06T17:31:30.001Z"
   },
   {
    "duration": 169,
    "start_time": "2022-01-06T17:32:24.424Z"
   },
   {
    "duration": 14297,
    "start_time": "2022-01-06T17:32:24.596Z"
   },
   {
    "duration": 14691,
    "start_time": "2022-01-06T17:32:38.897Z"
   },
   {
    "duration": 27,
    "start_time": "2022-01-06T17:32:53.590Z"
   },
   {
    "duration": 5473,
    "start_time": "2022-01-06T17:32:53.620Z"
   },
   {
    "duration": 25,
    "start_time": "2022-01-06T17:32:59.096Z"
   },
   {
    "duration": 12354,
    "start_time": "2022-01-06T17:32:59.123Z"
   },
   {
    "duration": 33,
    "start_time": "2022-01-06T17:33:11.479Z"
   },
   {
    "duration": 17397,
    "start_time": "2022-01-06T17:33:11.515Z"
   },
   {
    "duration": 18,
    "start_time": "2022-01-06T17:33:28.914Z"
   },
   {
    "duration": 36276,
    "start_time": "2022-01-06T17:33:28.933Z"
   },
   {
    "duration": 71594,
    "start_time": "2022-01-06T17:34:05.212Z"
   },
   {
    "duration": 121660,
    "start_time": "2022-01-06T17:35:16.808Z"
   },
   {
    "duration": 17,
    "start_time": "2022-01-06T17:37:18.470Z"
   },
   {
    "duration": 134172,
    "start_time": "2022-01-06T17:37:18.488Z"
   },
   {
    "duration": 18,
    "start_time": "2022-01-06T17:39:32.662Z"
   },
   {
    "duration": 2052,
    "start_time": "2022-01-06T17:41:27.915Z"
   },
   {
    "duration": 33,
    "start_time": "2022-01-06T17:41:29.969Z"
   },
   {
    "duration": 16,
    "start_time": "2022-01-06T17:41:30.005Z"
   },
   {
    "duration": 14,
    "start_time": "2022-01-06T17:41:30.024Z"
   },
   {
    "duration": 14,
    "start_time": "2022-01-06T17:41:30.040Z"
   },
   {
    "duration": 7,
    "start_time": "2022-01-06T17:41:30.056Z"
   },
   {
    "duration": 9430,
    "start_time": "2022-01-06T17:41:30.093Z"
   },
   {
    "duration": 13,
    "start_time": "2022-01-06T17:41:39.525Z"
   },
   {
    "duration": 11,
    "start_time": "2022-01-06T17:41:39.541Z"
   },
   {
    "duration": 14,
    "start_time": "2022-01-06T17:41:39.593Z"
   },
   {
    "duration": 13,
    "start_time": "2022-01-06T17:41:39.609Z"
   },
   {
    "duration": 7,
    "start_time": "2022-01-06T17:41:39.624Z"
   },
   {
    "duration": 10,
    "start_time": "2022-01-06T17:41:39.633Z"
   },
   {
    "duration": 3,
    "start_time": "2022-01-06T17:41:39.645Z"
   },
   {
    "duration": 42,
    "start_time": "2022-01-06T17:41:39.650Z"
   },
   {
    "duration": 7,
    "start_time": "2022-01-06T17:41:39.694Z"
   },
   {
    "duration": 11,
    "start_time": "2022-01-06T17:41:39.704Z"
   },
   {
    "duration": 13,
    "start_time": "2022-01-06T17:41:39.717Z"
   },
   {
    "duration": 5,
    "start_time": "2022-01-06T17:41:39.732Z"
   },
   {
    "duration": 48980,
    "start_time": "2022-01-06T17:41:39.738Z"
   },
   {
    "duration": 47274,
    "start_time": "2022-01-06T17:42:28.721Z"
   },
   {
    "duration": 104,
    "start_time": "2022-01-06T17:43:16.002Z"
   },
   {
    "duration": 58091,
    "start_time": "2022-01-06T17:43:16.108Z"
   },
   {
    "duration": 101,
    "start_time": "2022-01-06T17:44:14.203Z"
   },
   {
    "duration": 14473,
    "start_time": "2022-01-06T17:44:14.307Z"
   },
   {
    "duration": 14753,
    "start_time": "2022-01-06T17:44:28.782Z"
   },
   {
    "duration": 17,
    "start_time": "2022-01-06T17:44:43.538Z"
   },
   {
    "duration": 5442,
    "start_time": "2022-01-06T17:44:43.557Z"
   },
   {
    "duration": 19,
    "start_time": "2022-01-06T17:44:49.001Z"
   },
   {
    "duration": 12706,
    "start_time": "2022-01-06T17:44:49.022Z"
   },
   {
    "duration": 18,
    "start_time": "2022-01-06T17:45:01.729Z"
   },
   {
    "duration": 17320,
    "start_time": "2022-01-06T17:45:01.749Z"
   },
   {
    "duration": 28,
    "start_time": "2022-01-06T17:45:19.071Z"
   },
   {
    "duration": 38232,
    "start_time": "2022-01-06T17:45:19.102Z"
   },
   {
    "duration": 76515,
    "start_time": "2022-01-06T17:45:57.335Z"
   },
   {
    "duration": 123954,
    "start_time": "2022-01-06T17:47:13.852Z"
   },
   {
    "duration": 19,
    "start_time": "2022-01-06T17:49:17.808Z"
   },
   {
    "duration": 139584,
    "start_time": "2022-01-06T17:49:17.829Z"
   },
   {
    "duration": 17,
    "start_time": "2022-01-06T17:51:37.416Z"
   },
   {
    "duration": 285,
    "start_time": "2022-01-06T18:09:49.821Z"
   },
   {
    "duration": 179,
    "start_time": "2022-01-06T18:11:49.934Z"
   },
   {
    "duration": 15162,
    "start_time": "2022-01-06T18:12:07.230Z"
   },
   {
    "duration": 172,
    "start_time": "2022-01-06T18:12:29.438Z"
   },
   {
    "duration": 5,
    "start_time": "2022-01-06T18:13:05.023Z"
   },
   {
    "duration": 18,
    "start_time": "2022-01-06T18:15:00.872Z"
   },
   {
    "duration": 2212,
    "start_time": "2022-01-06T18:15:03.584Z"
   },
   {
    "duration": 5,
    "start_time": "2022-01-06T18:15:25.496Z"
   },
   {
    "duration": 81,
    "start_time": "2022-01-06T18:16:35.257Z"
   },
   {
    "duration": 181,
    "start_time": "2022-01-06T18:16:47.329Z"
   },
   {
    "duration": 2667,
    "start_time": "2022-01-06T18:16:56.330Z"
   },
   {
    "duration": 1858,
    "start_time": "2022-01-06T18:17:31.082Z"
   },
   {
    "duration": 8,
    "start_time": "2022-01-06T18:18:11.562Z"
   },
   {
    "duration": 341,
    "start_time": "2022-01-06T18:18:28.338Z"
   },
   {
    "duration": 6,
    "start_time": "2022-01-06T18:18:34.482Z"
   },
   {
    "duration": 7,
    "start_time": "2022-01-06T18:20:33.683Z"
   },
   {
    "duration": 17,
    "start_time": "2022-01-06T18:24:01.991Z"
   },
   {
    "duration": 95578,
    "start_time": "2022-01-06T18:26:29.112Z"
   },
   {
    "duration": 15007,
    "start_time": "2022-01-06T18:28:48.569Z"
   },
   {
    "duration": 14659,
    "start_time": "2022-01-06T18:31:59.500Z"
   },
   {
    "duration": 15347,
    "start_time": "2022-01-06T18:33:45.917Z"
   },
   {
    "duration": 16,
    "start_time": "2022-01-06T18:36:28.232Z"
   },
   {
    "duration": 127,
    "start_time": "2022-01-06T18:37:00.510Z"
   },
   {
    "duration": 15283,
    "start_time": "2022-01-06T18:42:30.955Z"
   },
   {
    "duration": 4,
    "start_time": "2022-01-06T18:56:06.564Z"
   },
   {
    "duration": 4,
    "start_time": "2022-01-06T18:56:45.372Z"
   },
   {
    "duration": 162,
    "start_time": "2022-01-06T18:58:08.973Z"
   },
   {
    "duration": 6,
    "start_time": "2022-01-06T18:59:38.286Z"
   },
   {
    "duration": 169,
    "start_time": "2022-01-06T18:59:42.069Z"
   },
   {
    "duration": 171,
    "start_time": "2022-01-06T18:59:47.663Z"
   },
   {
    "duration": 179,
    "start_time": "2022-01-06T19:00:54.023Z"
   },
   {
    "duration": 171,
    "start_time": "2022-01-06T19:00:58.631Z"
   },
   {
    "duration": 173,
    "start_time": "2022-01-06T19:01:04.023Z"
   },
   {
    "duration": 132782,
    "start_time": "2022-01-06T19:01:42.200Z"
   },
   {
    "duration": 138547,
    "start_time": "2022-01-06T19:04:32.036Z"
   },
   {
    "duration": 133365,
    "start_time": "2022-01-06T19:13:05.145Z"
   },
   {
    "duration": 1947,
    "start_time": "2022-01-07T08:15:06.305Z"
   },
   {
    "duration": 4,
    "start_time": "2022-01-07T10:46:11.680Z"
   },
   {
    "duration": 281,
    "start_time": "2022-01-07T10:46:58.758Z"
   },
   {
    "duration": 22299,
    "start_time": "2022-01-07T10:54:29.643Z"
   },
   {
    "duration": 3404,
    "start_time": "2022-01-07T10:54:51.945Z"
   },
   {
    "duration": 41,
    "start_time": "2022-01-07T10:54:55.353Z"
   },
   {
    "duration": 22,
    "start_time": "2022-01-07T10:54:55.397Z"
   },
   {
    "duration": 19,
    "start_time": "2022-01-07T10:54:55.422Z"
   },
   {
    "duration": 34,
    "start_time": "2022-01-07T10:54:55.443Z"
   },
   {
    "duration": 7,
    "start_time": "2022-01-07T10:54:55.480Z"
   },
   {
    "duration": 12370,
    "start_time": "2022-01-07T10:54:55.491Z"
   },
   {
    "duration": 24,
    "start_time": "2022-01-07T10:55:07.865Z"
   },
   {
    "duration": 123,
    "start_time": "2022-01-07T10:55:07.892Z"
   },
   {
    "duration": -73,
    "start_time": "2022-01-07T10:55:08.091Z"
   },
   {
    "duration": -80,
    "start_time": "2022-01-07T10:55:08.100Z"
   },
   {
    "duration": -81,
    "start_time": "2022-01-07T10:55:08.102Z"
   },
   {
    "duration": -81,
    "start_time": "2022-01-07T10:55:08.104Z"
   },
   {
    "duration": -79,
    "start_time": "2022-01-07T10:55:08.106Z"
   },
   {
    "duration": -80,
    "start_time": "2022-01-07T10:55:08.109Z"
   },
   {
    "duration": -83,
    "start_time": "2022-01-07T10:55:08.114Z"
   },
   {
    "duration": -81,
    "start_time": "2022-01-07T10:55:08.115Z"
   },
   {
    "duration": -82,
    "start_time": "2022-01-07T10:55:08.118Z"
   },
   {
    "duration": -82,
    "start_time": "2022-01-07T10:55:08.120Z"
   },
   {
    "duration": -81,
    "start_time": "2022-01-07T10:55:08.121Z"
   },
   {
    "duration": -80,
    "start_time": "2022-01-07T10:55:08.123Z"
   },
   {
    "duration": -80,
    "start_time": "2022-01-07T10:55:08.125Z"
   },
   {
    "duration": -82,
    "start_time": "2022-01-07T10:55:08.129Z"
   },
   {
    "duration": -82,
    "start_time": "2022-01-07T10:55:08.131Z"
   },
   {
    "duration": -82,
    "start_time": "2022-01-07T10:55:08.134Z"
   },
   {
    "duration": -82,
    "start_time": "2022-01-07T10:55:08.136Z"
   },
   {
    "duration": -79,
    "start_time": "2022-01-07T10:55:08.137Z"
   },
   {
    "duration": -80,
    "start_time": "2022-01-07T10:55:08.140Z"
   },
   {
    "duration": -78,
    "start_time": "2022-01-07T10:55:08.141Z"
   },
   {
    "duration": -81,
    "start_time": "2022-01-07T10:55:08.146Z"
   },
   {
    "duration": -81,
    "start_time": "2022-01-07T10:55:08.148Z"
   },
   {
    "duration": 5343,
    "start_time": "2022-01-07T10:55:23.976Z"
   },
   {
    "duration": 3306,
    "start_time": "2022-01-07T10:55:29.322Z"
   },
   {
    "duration": 36,
    "start_time": "2022-01-07T10:55:32.632Z"
   },
   {
    "duration": 19,
    "start_time": "2022-01-07T10:55:32.671Z"
   },
   {
    "duration": 18,
    "start_time": "2022-01-07T10:55:32.693Z"
   },
   {
    "duration": 16,
    "start_time": "2022-01-07T10:55:32.713Z"
   },
   {
    "duration": 8,
    "start_time": "2022-01-07T10:55:32.760Z"
   },
   {
    "duration": 10896,
    "start_time": "2022-01-07T10:55:32.774Z"
   },
   {
    "duration": 18,
    "start_time": "2022-01-07T10:55:43.673Z"
   },
   {
    "duration": 67,
    "start_time": "2022-01-07T10:55:43.694Z"
   },
   {
    "duration": 14,
    "start_time": "2022-01-07T10:55:43.764Z"
   },
   {
    "duration": 17,
    "start_time": "2022-01-07T10:55:43.781Z"
   },
   {
    "duration": 8,
    "start_time": "2022-01-07T10:55:43.801Z"
   },
   {
    "duration": 58,
    "start_time": "2022-01-07T10:55:43.811Z"
   },
   {
    "duration": 6,
    "start_time": "2022-01-07T10:55:43.872Z"
   },
   {
    "duration": 10,
    "start_time": "2022-01-07T10:55:43.881Z"
   },
   {
    "duration": 8,
    "start_time": "2022-01-07T10:55:43.894Z"
   },
   {
    "duration": 67,
    "start_time": "2022-01-07T10:55:43.905Z"
   },
   {
    "duration": 17,
    "start_time": "2022-01-07T10:55:43.974Z"
   },
   {
    "duration": 8,
    "start_time": "2022-01-07T10:55:43.994Z"
   },
   {
    "duration": 58156,
    "start_time": "2022-01-07T10:55:44.005Z"
   },
   {
    "duration": 113,
    "start_time": "2022-01-07T10:56:42.164Z"
   },
   {
    "duration": 19705,
    "start_time": "2022-01-07T10:56:42.281Z"
   },
   {
    "duration": 22,
    "start_time": "2022-01-07T10:57:01.989Z"
   },
   {
    "duration": 19129,
    "start_time": "2022-01-07T10:57:02.014Z"
   },
   {
    "duration": 27,
    "start_time": "2022-01-07T10:57:21.145Z"
   },
   {
    "duration": 57931,
    "start_time": "2022-01-07T10:57:21.175Z"
   },
   {
    "duration": 21,
    "start_time": "2022-01-07T10:58:19.109Z"
   },
   {
    "duration": 3964,
    "start_time": "2022-01-07T11:01:07.672Z"
   },
   {
    "duration": 3148,
    "start_time": "2022-01-07T11:01:11.639Z"
   },
   {
    "duration": 36,
    "start_time": "2022-01-07T11:01:14.790Z"
   },
   {
    "duration": 30,
    "start_time": "2022-01-07T11:01:14.829Z"
   },
   {
    "duration": 19,
    "start_time": "2022-01-07T11:01:14.861Z"
   },
   {
    "duration": 19,
    "start_time": "2022-01-07T11:01:14.883Z"
   },
   {
    "duration": 7,
    "start_time": "2022-01-07T11:01:14.904Z"
   },
   {
    "duration": 11395,
    "start_time": "2022-01-07T11:01:14.915Z"
   },
   {
    "duration": 47,
    "start_time": "2022-01-07T11:01:26.313Z"
   },
   {
    "duration": 16,
    "start_time": "2022-01-07T11:01:26.363Z"
   },
   {
    "duration": 14,
    "start_time": "2022-01-07T11:01:26.382Z"
   },
   {
    "duration": 65,
    "start_time": "2022-01-07T11:01:26.398Z"
   },
   {
    "duration": 7,
    "start_time": "2022-01-07T11:01:26.465Z"
   },
   {
    "duration": 12,
    "start_time": "2022-01-07T11:01:26.474Z"
   },
   {
    "duration": 5,
    "start_time": "2022-01-07T11:01:26.488Z"
   },
   {
    "duration": 8,
    "start_time": "2022-01-07T11:01:26.495Z"
   },
   {
    "duration": 8,
    "start_time": "2022-01-07T11:01:26.505Z"
   },
   {
    "duration": 57,
    "start_time": "2022-01-07T11:01:26.515Z"
   },
   {
    "duration": 16,
    "start_time": "2022-01-07T11:01:26.574Z"
   },
   {
    "duration": 6,
    "start_time": "2022-01-07T11:01:26.592Z"
   },
   {
    "duration": 60277,
    "start_time": "2022-01-07T11:01:26.600Z"
   },
   {
    "duration": 185,
    "start_time": "2022-01-07T11:02:26.880Z"
   },
   {
    "duration": 20321,
    "start_time": "2022-01-07T11:02:27.070Z"
   },
   {
    "duration": 29,
    "start_time": "2022-01-07T11:02:47.394Z"
   },
   {
    "duration": 18236,
    "start_time": "2022-01-07T11:02:47.426Z"
   },
   {
    "duration": 23,
    "start_time": "2022-01-07T11:03:05.665Z"
   },
   {
    "duration": 497,
    "start_time": "2022-01-07T11:03:05.690Z"
   },
   {
    "duration": 22,
    "start_time": "2022-01-07T11:03:06.189Z"
   },
   {
    "duration": 276,
    "start_time": "2022-01-07T11:03:06.213Z"
   },
   {
    "duration": 28,
    "start_time": "2022-01-07T11:03:06.491Z"
   },
   {
    "duration": 8,
    "start_time": "2022-01-07T11:03:06.522Z"
   },
   {
    "duration": 4001,
    "start_time": "2022-01-07T11:21:59.418Z"
   },
   {
    "duration": 3206,
    "start_time": "2022-01-07T11:22:03.422Z"
   },
   {
    "duration": 36,
    "start_time": "2022-01-07T11:22:06.631Z"
   },
   {
    "duration": 20,
    "start_time": "2022-01-07T11:22:06.670Z"
   },
   {
    "duration": 17,
    "start_time": "2022-01-07T11:22:06.693Z"
   },
   {
    "duration": 47,
    "start_time": "2022-01-07T11:22:06.713Z"
   },
   {
    "duration": 9,
    "start_time": "2022-01-07T11:22:06.763Z"
   },
   {
    "duration": 11500,
    "start_time": "2022-01-07T11:22:06.777Z"
   },
   {
    "duration": 18,
    "start_time": "2022-01-07T11:22:18.280Z"
   },
   {
    "duration": 60,
    "start_time": "2022-01-07T11:22:18.300Z"
   },
   {
    "duration": 13,
    "start_time": "2022-01-07T11:22:18.363Z"
   },
   {
    "duration": 15,
    "start_time": "2022-01-07T11:22:18.378Z"
   },
   {
    "duration": 6,
    "start_time": "2022-01-07T11:22:18.396Z"
   },
   {
    "duration": 12,
    "start_time": "2022-01-07T11:22:18.404Z"
   },
   {
    "duration": 6,
    "start_time": "2022-01-07T11:22:18.458Z"
   },
   {
    "duration": 8,
    "start_time": "2022-01-07T11:22:18.467Z"
   },
   {
    "duration": 8,
    "start_time": "2022-01-07T11:22:18.477Z"
   },
   {
    "duration": 14,
    "start_time": "2022-01-07T11:22:18.487Z"
   },
   {
    "duration": 56,
    "start_time": "2022-01-07T11:22:18.503Z"
   },
   {
    "duration": 7,
    "start_time": "2022-01-07T11:22:18.562Z"
   },
   {
    "duration": 58402,
    "start_time": "2022-01-07T11:22:18.571Z"
   },
   {
    "duration": 189,
    "start_time": "2022-01-07T11:23:16.978Z"
   },
   {
    "duration": 20017,
    "start_time": "2022-01-07T11:23:17.172Z"
   },
   {
    "duration": 22,
    "start_time": "2022-01-07T11:23:37.191Z"
   },
   {
    "duration": 18097,
    "start_time": "2022-01-07T11:23:37.215Z"
   },
   {
    "duration": 24,
    "start_time": "2022-01-07T11:23:55.315Z"
   },
   {
    "duration": 56291,
    "start_time": "2022-01-07T11:23:55.341Z"
   },
   {
    "duration": 31,
    "start_time": "2022-01-07T11:24:51.634Z"
   },
   {
    "duration": 2687,
    "start_time": "2022-01-07T11:24:51.668Z"
   },
   {
    "duration": 381,
    "start_time": "2022-01-07T11:24:54.358Z"
   },
   {
    "duration": 23,
    "start_time": "2022-01-07T11:24:54.718Z"
   },
   {
    "duration": 3408,
    "start_time": "2022-01-07T11:30:56.105Z"
   },
   {
    "duration": 2987,
    "start_time": "2022-01-07T11:31:19.919Z"
   },
   {
    "duration": 284,
    "start_time": "2022-01-07T11:34:34.722Z"
   },
   {
    "duration": 160456,
    "start_time": "2022-01-07T11:36:20.210Z"
   },
   {
    "duration": 154375,
    "start_time": "2022-01-07T11:41:24.084Z"
   },
   {
    "duration": 185955,
    "start_time": "2022-01-07T11:44:43.505Z"
   },
   {
    "duration": 159021,
    "start_time": "2022-01-07T12:11:34.834Z"
   },
   {
    "duration": 253,
    "start_time": "2022-01-07T12:17:07.407Z"
   },
   {
    "duration": 153747,
    "start_time": "2022-01-07T12:17:21.059Z"
   },
   {
    "duration": 153142,
    "start_time": "2022-01-07T12:24:12.732Z"
   },
   {
    "duration": 2513,
    "start_time": "2022-01-07T12:39:44.119Z"
   },
   {
    "duration": 277,
    "start_time": "2022-01-07T12:41:15.026Z"
   },
   {
    "duration": 10,
    "start_time": "2022-01-07T12:45:22.019Z"
   },
   {
    "duration": 11,
    "start_time": "2022-01-07T12:45:56.860Z"
   },
   {
    "duration": 15,
    "start_time": "2022-01-07T12:47:26.213Z"
   },
   {
    "duration": 3529,
    "start_time": "2022-01-07T12:48:15.054Z"
   },
   {
    "duration": 9,
    "start_time": "2022-01-07T12:48:59.972Z"
   },
   {
    "duration": 161066,
    "start_time": "2022-01-07T12:49:37.392Z"
   },
   {
    "duration": 155509,
    "start_time": "2022-01-07T12:52:54.674Z"
   },
   {
    "duration": 9,
    "start_time": "2022-01-07T12:56:37.476Z"
   },
   {
    "duration": 2473,
    "start_time": "2022-01-07T12:57:56.716Z"
   },
   {
    "duration": 166041,
    "start_time": "2022-01-07T12:58:37.341Z"
   },
   {
    "duration": 4333,
    "start_time": "2022-01-07T13:02:00.655Z"
   },
   {
    "duration": 3045,
    "start_time": "2022-01-07T13:02:04.991Z"
   },
   {
    "duration": 38,
    "start_time": "2022-01-07T13:02:08.040Z"
   },
   {
    "duration": 21,
    "start_time": "2022-01-07T13:02:08.081Z"
   },
   {
    "duration": 20,
    "start_time": "2022-01-07T13:02:08.105Z"
   },
   {
    "duration": 42,
    "start_time": "2022-01-07T13:02:08.128Z"
   },
   {
    "duration": 6,
    "start_time": "2022-01-07T13:02:08.173Z"
   },
   {
    "duration": 11628,
    "start_time": "2022-01-07T13:02:08.183Z"
   },
   {
    "duration": 46,
    "start_time": "2022-01-07T13:02:19.814Z"
   },
   {
    "duration": 15,
    "start_time": "2022-01-07T13:02:19.862Z"
   },
   {
    "duration": 13,
    "start_time": "2022-01-07T13:02:19.879Z"
   },
   {
    "duration": 15,
    "start_time": "2022-01-07T13:02:19.894Z"
   },
   {
    "duration": 48,
    "start_time": "2022-01-07T13:02:19.911Z"
   },
   {
    "duration": 14,
    "start_time": "2022-01-07T13:02:19.962Z"
   },
   {
    "duration": 5,
    "start_time": "2022-01-07T13:02:19.978Z"
   },
   {
    "duration": 9,
    "start_time": "2022-01-07T13:02:19.985Z"
   },
   {
    "duration": 8,
    "start_time": "2022-01-07T13:02:19.996Z"
   },
   {
    "duration": 62,
    "start_time": "2022-01-07T13:02:20.006Z"
   },
   {
    "duration": 16,
    "start_time": "2022-01-07T13:02:20.071Z"
   },
   {
    "duration": 7,
    "start_time": "2022-01-07T13:02:20.090Z"
   },
   {
    "duration": 58168,
    "start_time": "2022-01-07T13:02:20.100Z"
   },
   {
    "duration": 197,
    "start_time": "2022-01-07T13:03:18.272Z"
   },
   {
    "duration": 20487,
    "start_time": "2022-01-07T13:03:18.474Z"
   },
   {
    "duration": 24,
    "start_time": "2022-01-07T13:03:38.964Z"
   },
   {
    "duration": 18311,
    "start_time": "2022-01-07T13:03:38.991Z"
   },
   {
    "duration": 22,
    "start_time": "2022-01-07T13:03:57.305Z"
   },
   {
    "duration": 429,
    "start_time": "2022-01-07T13:03:57.329Z"
   },
   {
    "duration": 24,
    "start_time": "2022-01-07T13:03:57.760Z"
   },
   {
    "duration": 4,
    "start_time": "2022-01-07T13:03:57.787Z"
   },
   {
    "duration": 3838,
    "start_time": "2022-01-07T13:05:02.081Z"
   },
   {
    "duration": 3236,
    "start_time": "2022-01-07T13:05:05.922Z"
   },
   {
    "duration": 81,
    "start_time": "2022-01-07T13:05:09.162Z"
   },
   {
    "duration": 52,
    "start_time": "2022-01-07T13:05:09.249Z"
   },
   {
    "duration": 113,
    "start_time": "2022-01-07T13:05:09.308Z"
   },
   {
    "duration": 95,
    "start_time": "2022-01-07T13:05:09.424Z"
   },
   {
    "duration": 77,
    "start_time": "2022-01-07T13:05:09.523Z"
   },
   {
    "duration": 11182,
    "start_time": "2022-01-07T13:05:09.604Z"
   },
   {
    "duration": 19,
    "start_time": "2022-01-07T13:05:20.789Z"
   },
   {
    "duration": 51,
    "start_time": "2022-01-07T13:05:20.810Z"
   },
   {
    "duration": 12,
    "start_time": "2022-01-07T13:05:20.863Z"
   },
   {
    "duration": 24,
    "start_time": "2022-01-07T13:05:20.878Z"
   },
   {
    "duration": 8,
    "start_time": "2022-01-07T13:05:20.905Z"
   },
   {
    "duration": 44,
    "start_time": "2022-01-07T13:05:20.916Z"
   },
   {
    "duration": 5,
    "start_time": "2022-01-07T13:05:20.963Z"
   },
   {
    "duration": 15,
    "start_time": "2022-01-07T13:05:20.971Z"
   },
   {
    "duration": 12,
    "start_time": "2022-01-07T13:05:20.988Z"
   },
   {
    "duration": 15,
    "start_time": "2022-01-07T13:05:21.002Z"
   },
   {
    "duration": 45,
    "start_time": "2022-01-07T13:05:21.020Z"
   },
   {
    "duration": 8,
    "start_time": "2022-01-07T13:05:21.068Z"
   },
   {
    "duration": 55495,
    "start_time": "2022-01-07T13:05:21.079Z"
   },
   {
    "duration": 191,
    "start_time": "2022-01-07T13:06:16.578Z"
   },
   {
    "duration": 20432,
    "start_time": "2022-01-07T13:06:16.774Z"
   },
   {
    "duration": 25,
    "start_time": "2022-01-07T13:06:37.209Z"
   },
   {
    "duration": 18426,
    "start_time": "2022-01-07T13:06:37.260Z"
   },
   {
    "duration": 24,
    "start_time": "2022-01-07T13:06:55.689Z"
   },
   {
    "duration": 150845,
    "start_time": "2022-01-07T13:06:55.716Z"
   },
   {
    "duration": 22,
    "start_time": "2022-01-07T13:09:26.564Z"
   },
   {
    "duration": 5,
    "start_time": "2022-01-07T13:09:26.589Z"
   },
   {
    "duration": 26,
    "start_time": "2022-01-07T13:12:37.299Z"
   },
   {
    "duration": 24,
    "start_time": "2022-01-07T13:13:01.412Z"
   },
   {
    "duration": 25,
    "start_time": "2022-01-07T13:13:10.053Z"
   },
   {
    "duration": 542,
    "start_time": "2022-01-07T13:17:58.958Z"
   },
   {
    "duration": 12,
    "start_time": "2022-01-07T13:18:18.694Z"
   },
   {
    "duration": 1980,
    "start_time": "2022-01-07T13:18:29.806Z"
   },
   {
    "duration": 59105,
    "start_time": "2022-01-07T13:18:44.475Z"
   },
   {
    "duration": 502,
    "start_time": "2022-01-07T13:19:47.167Z"
   },
   {
    "duration": 393,
    "start_time": "2022-01-07T13:20:55.496Z"
   },
   {
    "duration": 33,
    "start_time": "2022-01-07T13:21:33.928Z"
   },
   {
    "duration": 354,
    "start_time": "2022-01-07T13:21:51.633Z"
   },
   {
    "duration": 338,
    "start_time": "2022-01-07T13:22:17.834Z"
   },
   {
    "duration": 568,
    "start_time": "2022-01-07T13:23:04.602Z"
   },
   {
    "duration": 673,
    "start_time": "2022-01-07T13:24:47.868Z"
   },
   {
    "duration": 8,
    "start_time": "2022-01-07T13:24:59.486Z"
   },
   {
    "duration": 865,
    "start_time": "2022-01-07T13:25:13.268Z"
   },
   {
    "duration": 7,
    "start_time": "2022-01-07T13:26:26.364Z"
   },
   {
    "duration": 1057,
    "start_time": "2022-01-07T13:26:37.901Z"
   },
   {
    "duration": 5,
    "start_time": "2022-01-07T13:30:12.047Z"
   },
   {
    "duration": 1091,
    "start_time": "2022-01-07T13:31:25.896Z"
   },
   {
    "duration": 1037,
    "start_time": "2022-01-07T13:32:12.201Z"
   },
   {
    "duration": 379,
    "start_time": "2022-01-07T13:32:21.121Z"
   },
   {
    "duration": 336,
    "start_time": "2022-01-07T13:32:59.975Z"
   },
   {
    "duration": 333,
    "start_time": "2022-01-07T13:33:20.154Z"
   },
   {
    "duration": 353,
    "start_time": "2022-01-07T13:33:29.929Z"
   },
   {
    "duration": 587,
    "start_time": "2022-01-07T13:34:05.634Z"
   },
   {
    "duration": 575,
    "start_time": "2022-01-07T13:34:23.642Z"
   },
   {
    "duration": 62252,
    "start_time": "2022-01-07T13:35:47.215Z"
   },
   {
    "duration": 486,
    "start_time": "2022-01-07T13:37:49.733Z"
   },
   {
    "duration": 6,
    "start_time": "2022-01-07T13:38:18.709Z"
   },
   {
    "duration": 455,
    "start_time": "2022-01-07T13:38:28.205Z"
   },
   {
    "duration": 375,
    "start_time": "2022-01-07T13:38:38.110Z"
   },
   {
    "duration": 4060,
    "start_time": "2022-01-07T13:39:16.315Z"
   },
   {
    "duration": 3047,
    "start_time": "2022-01-07T13:39:20.378Z"
   },
   {
    "duration": 37,
    "start_time": "2022-01-07T13:39:23.428Z"
   },
   {
    "duration": 20,
    "start_time": "2022-01-07T13:39:23.467Z"
   },
   {
    "duration": 18,
    "start_time": "2022-01-07T13:39:23.490Z"
   },
   {
    "duration": 17,
    "start_time": "2022-01-07T13:39:23.511Z"
   },
   {
    "duration": 7,
    "start_time": "2022-01-07T13:39:23.560Z"
   },
   {
    "duration": 11726,
    "start_time": "2022-01-07T13:39:23.571Z"
   },
   {
    "duration": 18,
    "start_time": "2022-01-07T13:39:35.300Z"
   },
   {
    "duration": 46,
    "start_time": "2022-01-07T13:39:35.321Z"
   },
   {
    "duration": 14,
    "start_time": "2022-01-07T13:39:35.369Z"
   },
   {
    "duration": 22,
    "start_time": "2022-01-07T13:39:35.386Z"
   },
   {
    "duration": 15,
    "start_time": "2022-01-07T13:39:35.411Z"
   },
   {
    "duration": 35,
    "start_time": "2022-01-07T13:39:35.429Z"
   },
   {
    "duration": 6,
    "start_time": "2022-01-07T13:39:35.466Z"
   },
   {
    "duration": 22,
    "start_time": "2022-01-07T13:39:35.474Z"
   },
   {
    "duration": 15,
    "start_time": "2022-01-07T13:39:35.499Z"
   },
   {
    "duration": 42,
    "start_time": "2022-01-07T13:39:35.517Z"
   },
   {
    "duration": 15,
    "start_time": "2022-01-07T13:39:35.561Z"
   },
   {
    "duration": 7,
    "start_time": "2022-01-07T13:39:35.578Z"
   },
   {
    "duration": 16,
    "start_time": "2022-01-07T13:39:35.587Z"
   },
   {
    "duration": 59571,
    "start_time": "2022-01-07T13:39:35.606Z"
   },
   {
    "duration": 105,
    "start_time": "2022-01-07T13:40:35.260Z"
   },
   {
    "duration": 445,
    "start_time": "2022-01-07T13:40:35.368Z"
   },
   {
    "duration": 48,
    "start_time": "2022-01-07T13:40:35.815Z"
   },
   {
    "duration": 21602,
    "start_time": "2022-01-07T13:40:35.866Z"
   },
   {
    "duration": 29,
    "start_time": "2022-01-07T13:40:57.470Z"
   },
   {
    "duration": 18874,
    "start_time": "2022-01-07T13:40:57.502Z"
   },
   {
    "duration": 23,
    "start_time": "2022-01-07T13:41:16.379Z"
   },
   {
    "duration": 159059,
    "start_time": "2022-01-07T13:41:16.405Z"
   },
   {
    "duration": 23,
    "start_time": "2022-01-07T13:43:55.466Z"
   },
   {
    "duration": 5,
    "start_time": "2022-01-07T13:43:55.491Z"
   },
   {
    "duration": 359,
    "start_time": "2022-01-07T13:47:37.231Z"
   },
   {
    "duration": 790,
    "start_time": "2022-01-07T13:48:42.097Z"
   },
   {
    "duration": 446,
    "start_time": "2022-01-07T13:48:51.263Z"
   },
   {
    "duration": 371,
    "start_time": "2022-01-07T13:48:56.967Z"
   },
   {
    "duration": 347,
    "start_time": "2022-01-07T13:49:07.431Z"
   },
   {
    "duration": 372,
    "start_time": "2022-01-07T13:49:13.720Z"
   },
   {
    "duration": 6,
    "start_time": "2022-01-07T13:50:47.249Z"
   },
   {
    "duration": 383,
    "start_time": "2022-01-07T13:51:07.890Z"
   },
   {
    "duration": 7,
    "start_time": "2022-01-07T13:51:55.322Z"
   },
   {
    "duration": 3862,
    "start_time": "2022-01-07T13:53:08.056Z"
   },
   {
    "duration": 4300,
    "start_time": "2022-01-07T13:53:11.921Z"
   },
   {
    "duration": 39,
    "start_time": "2022-01-07T13:53:16.224Z"
   },
   {
    "duration": 23,
    "start_time": "2022-01-07T13:53:16.266Z"
   },
   {
    "duration": 19,
    "start_time": "2022-01-07T13:53:16.292Z"
   },
   {
    "duration": 50,
    "start_time": "2022-01-07T13:53:16.314Z"
   },
   {
    "duration": 6,
    "start_time": "2022-01-07T13:53:16.367Z"
   },
   {
    "duration": 11604,
    "start_time": "2022-01-07T13:53:16.377Z"
   },
   {
    "duration": 20,
    "start_time": "2022-01-07T13:53:27.984Z"
   },
   {
    "duration": 55,
    "start_time": "2022-01-07T13:53:28.007Z"
   },
   {
    "duration": 13,
    "start_time": "2022-01-07T13:53:28.065Z"
   },
   {
    "duration": 15,
    "start_time": "2022-01-07T13:53:28.081Z"
   },
   {
    "duration": 6,
    "start_time": "2022-01-07T13:53:28.099Z"
   },
   {
    "duration": 12,
    "start_time": "2022-01-07T13:53:28.107Z"
   },
   {
    "duration": 6,
    "start_time": "2022-01-07T13:53:28.161Z"
   },
   {
    "duration": 9,
    "start_time": "2022-01-07T13:53:28.169Z"
   },
   {
    "duration": 7,
    "start_time": "2022-01-07T13:53:28.180Z"
   },
   {
    "duration": 17,
    "start_time": "2022-01-07T13:53:28.189Z"
   },
   {
    "duration": 51,
    "start_time": "2022-01-07T13:53:28.208Z"
   },
   {
    "duration": 7,
    "start_time": "2022-01-07T13:53:28.262Z"
   },
   {
    "duration": 8,
    "start_time": "2022-01-07T13:53:28.271Z"
   },
   {
    "duration": 58679,
    "start_time": "2022-01-07T13:53:28.282Z"
   },
   {
    "duration": 343,
    "start_time": "2022-01-07T13:54:27.058Z"
   },
   {
    "duration": 23,
    "start_time": "2022-01-07T13:54:27.404Z"
   },
   {
    "duration": 21578,
    "start_time": "2022-01-07T13:54:27.429Z"
   },
   {
    "duration": 381,
    "start_time": "2022-01-07T13:54:49.010Z"
   },
   {
    "duration": 22,
    "start_time": "2022-01-07T13:54:49.393Z"
   },
   {
    "duration": 18855,
    "start_time": "2022-01-07T13:54:49.417Z"
   },
   {
    "duration": 358,
    "start_time": "2022-01-07T13:55:08.275Z"
   },
   {
    "duration": 36,
    "start_time": "2022-01-07T13:55:08.635Z"
   },
   {
    "duration": 165694,
    "start_time": "2022-01-07T13:55:08.673Z"
   },
   {
    "duration": 341,
    "start_time": "2022-01-07T13:57:54.369Z"
   },
   {
    "duration": 21,
    "start_time": "2022-01-07T13:57:54.713Z"
   },
   {
    "duration": 4,
    "start_time": "2022-01-07T13:57:54.737Z"
   },
   {
    "duration": 3786,
    "start_time": "2022-01-07T14:01:31.580Z"
   },
   {
    "duration": 3055,
    "start_time": "2022-01-07T14:01:35.370Z"
   },
   {
    "duration": 37,
    "start_time": "2022-01-07T14:01:38.429Z"
   },
   {
    "duration": 21,
    "start_time": "2022-01-07T14:01:38.469Z"
   },
   {
    "duration": 19,
    "start_time": "2022-01-07T14:01:38.493Z"
   },
   {
    "duration": 51,
    "start_time": "2022-01-07T14:01:38.514Z"
   },
   {
    "duration": 7,
    "start_time": "2022-01-07T14:01:38.568Z"
   },
   {
    "duration": 12012,
    "start_time": "2022-01-07T14:01:38.578Z"
   },
   {
    "duration": 19,
    "start_time": "2022-01-07T14:01:50.593Z"
   },
   {
    "duration": 54,
    "start_time": "2022-01-07T14:01:50.614Z"
   },
   {
    "duration": 15,
    "start_time": "2022-01-07T14:01:50.671Z"
   },
   {
    "duration": 18,
    "start_time": "2022-01-07T14:01:50.689Z"
   },
   {
    "duration": 8,
    "start_time": "2022-01-07T14:01:50.709Z"
   },
   {
    "duration": 51,
    "start_time": "2022-01-07T14:01:50.719Z"
   },
   {
    "duration": 6,
    "start_time": "2022-01-07T14:01:50.773Z"
   },
   {
    "duration": 8,
    "start_time": "2022-01-07T14:01:50.782Z"
   },
   {
    "duration": 9,
    "start_time": "2022-01-07T14:01:50.793Z"
   },
   {
    "duration": 55,
    "start_time": "2022-01-07T14:01:50.804Z"
   },
   {
    "duration": 16,
    "start_time": "2022-01-07T14:01:50.862Z"
   },
   {
    "duration": 7,
    "start_time": "2022-01-07T14:01:50.880Z"
   },
   {
    "duration": 6,
    "start_time": "2022-01-07T14:01:50.889Z"
   },
   {
    "duration": 60362,
    "start_time": "2022-01-07T14:01:50.898Z"
   },
   {
    "duration": 555,
    "start_time": "2022-01-07T14:02:51.268Z"
   },
   {
    "duration": 34,
    "start_time": "2022-01-07T14:02:51.827Z"
   },
   {
    "duration": 21586,
    "start_time": "2022-01-07T14:02:51.864Z"
   },
   {
    "duration": 335,
    "start_time": "2022-01-07T14:03:13.459Z"
   },
   {
    "duration": 28,
    "start_time": "2022-01-07T14:03:13.798Z"
   },
   {
    "duration": 18856,
    "start_time": "2022-01-07T14:03:13.828Z"
   },
   {
    "duration": 407,
    "start_time": "2022-01-07T14:03:32.688Z"
   },
   {
    "duration": 27,
    "start_time": "2022-01-07T14:03:33.097Z"
   },
   {
    "duration": 189885,
    "start_time": "2022-01-07T14:03:33.127Z"
   },
   {
    "duration": 378,
    "start_time": "2022-01-07T14:06:43.015Z"
   },
   {
    "duration": 23,
    "start_time": "2022-01-07T14:06:43.396Z"
   },
   {
    "duration": 5,
    "start_time": "2022-01-07T14:06:43.421Z"
   },
   {
    "duration": 5341,
    "start_time": "2022-01-07T14:31:14.702Z"
   },
   {
    "duration": 2380,
    "start_time": "2022-01-07T14:31:38.598Z"
   },
   {
    "duration": 8,
    "start_time": "2022-01-07T14:33:35.423Z"
   },
   {
    "duration": 6,
    "start_time": "2022-01-07T14:34:08.103Z"
   },
   {
    "duration": 11,
    "start_time": "2022-01-07T14:35:18.768Z"
   },
   {
    "duration": 11,
    "start_time": "2022-01-07T14:36:24.066Z"
   },
   {
    "duration": 480,
    "start_time": "2022-01-07T14:37:03.090Z"
   },
   {
    "duration": 12,
    "start_time": "2022-01-07T14:38:08.884Z"
   },
   {
    "duration": 193,
    "start_time": "2022-01-07T14:38:31.868Z"
   },
   {
    "duration": 383,
    "start_time": "2022-01-07T14:38:45.052Z"
   },
   {
    "duration": 386,
    "start_time": "2022-01-07T14:39:06.948Z"
   },
   {
    "duration": 11,
    "start_time": "2022-01-07T14:39:19.124Z"
   },
   {
    "duration": 5,
    "start_time": "2022-01-07T14:40:14.965Z"
   },
   {
    "duration": 13,
    "start_time": "2022-01-07T14:40:24.829Z"
   },
   {
    "duration": 22,
    "start_time": "2022-01-07T14:41:55.406Z"
   },
   {
    "duration": 58106,
    "start_time": "2022-01-07T14:42:00.966Z"
   },
   {
    "duration": 22,
    "start_time": "2022-01-07T14:43:07.239Z"
   },
   {
    "duration": 12,
    "start_time": "2022-01-07T14:43:10.151Z"
   },
   {
    "duration": 6,
    "start_time": "2022-01-07T14:44:36.040Z"
   },
   {
    "duration": 560,
    "start_time": "2022-01-07T14:47:16.650Z"
   },
   {
    "duration": 367,
    "start_time": "2022-01-07T14:47:56.482Z"
   },
   {
    "duration": 405,
    "start_time": "2022-01-07T14:48:10.947Z"
   },
   {
    "duration": 6,
    "start_time": "2022-01-07T14:49:47.123Z"
   },
   {
    "duration": 13,
    "start_time": "2022-01-07T14:49:54.066Z"
   },
   {
    "duration": 13,
    "start_time": "2022-01-07T14:50:09.707Z"
   },
   {
    "duration": 6,
    "start_time": "2022-01-07T14:55:33.968Z"
   },
   {
    "duration": 24,
    "start_time": "2022-01-07T14:55:45.264Z"
   },
   {
    "duration": 381,
    "start_time": "2022-01-07T14:56:11.033Z"
   },
   {
    "duration": 916,
    "start_time": "2022-01-07T14:56:22.360Z"
   },
   {
    "duration": 9,
    "start_time": "2022-01-07T14:59:56.146Z"
   },
   {
    "duration": 7,
    "start_time": "2022-01-07T15:00:13.659Z"
   },
   {
    "duration": 425,
    "start_time": "2022-01-07T15:00:44.547Z"
   },
   {
    "duration": 6,
    "start_time": "2022-01-07T15:00:50.819Z"
   },
   {
    "duration": 12,
    "start_time": "2022-01-07T15:01:01.556Z"
   },
   {
    "duration": 14,
    "start_time": "2022-01-07T15:01:07.404Z"
   },
   {
    "duration": 417,
    "start_time": "2022-01-07T15:03:02.582Z"
   },
   {
    "duration": 445,
    "start_time": "2022-01-07T15:03:28.686Z"
   },
   {
    "duration": 12,
    "start_time": "2022-01-07T15:04:17.159Z"
   },
   {
    "duration": 375,
    "start_time": "2022-01-07T15:04:34.431Z"
   },
   {
    "duration": 10,
    "start_time": "2022-01-07T15:05:00.009Z"
   },
   {
    "duration": 11,
    "start_time": "2022-01-07T15:05:06.607Z"
   },
   {
    "duration": 8,
    "start_time": "2022-01-07T15:05:19.999Z"
   },
   {
    "duration": 11,
    "start_time": "2022-01-07T15:05:25.807Z"
   },
   {
    "duration": 11,
    "start_time": "2022-01-07T15:06:47.672Z"
   },
   {
    "duration": 6,
    "start_time": "2022-01-07T15:07:00.944Z"
   },
   {
    "duration": 12,
    "start_time": "2022-01-07T15:07:11.425Z"
   },
   {
    "duration": 7,
    "start_time": "2022-01-07T15:07:36.881Z"
   },
   {
    "duration": 10,
    "start_time": "2022-01-07T15:07:44.289Z"
   },
   {
    "duration": 11,
    "start_time": "2022-01-07T15:08:25.801Z"
   },
   {
    "duration": 11,
    "start_time": "2022-01-07T15:09:35.004Z"
   },
   {
    "duration": 8,
    "start_time": "2022-01-07T15:09:59.987Z"
   },
   {
    "duration": 6,
    "start_time": "2022-01-07T15:10:36.667Z"
   },
   {
    "duration": 10,
    "start_time": "2022-01-07T15:10:43.662Z"
   },
   {
    "duration": 494,
    "start_time": "2022-01-07T15:11:24.596Z"
   },
   {
    "duration": 516,
    "start_time": "2022-01-07T15:11:48.493Z"
   },
   {
    "duration": 4221,
    "start_time": "2022-01-07T15:13:08.386Z"
   },
   {
    "duration": 3168,
    "start_time": "2022-01-07T15:13:12.610Z"
   },
   {
    "duration": 39,
    "start_time": "2022-01-07T15:13:15.781Z"
   },
   {
    "duration": 19,
    "start_time": "2022-01-07T15:13:15.823Z"
   },
   {
    "duration": 19,
    "start_time": "2022-01-07T15:13:15.858Z"
   },
   {
    "duration": 18,
    "start_time": "2022-01-07T15:13:15.879Z"
   },
   {
    "duration": 7,
    "start_time": "2022-01-07T15:13:15.900Z"
   },
   {
    "duration": 13424,
    "start_time": "2022-01-07T15:13:15.913Z"
   },
   {
    "duration": 31,
    "start_time": "2022-01-07T15:13:29.341Z"
   },
   {
    "duration": 20,
    "start_time": "2022-01-07T15:13:29.376Z"
   },
   {
    "duration": 14,
    "start_time": "2022-01-07T15:13:29.399Z"
   },
   {
    "duration": 17,
    "start_time": "2022-01-07T15:13:29.460Z"
   },
   {
    "duration": 8,
    "start_time": "2022-01-07T15:13:29.480Z"
   },
   {
    "duration": 14,
    "start_time": "2022-01-07T15:13:29.491Z"
   },
   {
    "duration": 7,
    "start_time": "2022-01-07T15:13:29.508Z"
   },
   {
    "duration": 8,
    "start_time": "2022-01-07T15:13:29.564Z"
   },
   {
    "duration": 12,
    "start_time": "2022-01-07T15:13:29.575Z"
   },
   {
    "duration": 18,
    "start_time": "2022-01-07T15:13:29.589Z"
   },
   {
    "duration": 56,
    "start_time": "2022-01-07T15:13:29.610Z"
   },
   {
    "duration": 30,
    "start_time": "2022-01-07T15:13:29.668Z"
   },
   {
    "duration": 11,
    "start_time": "2022-01-07T15:13:29.701Z"
   },
   {
    "duration": 61175,
    "start_time": "2022-01-07T15:13:29.715Z"
   },
   {
    "duration": 430,
    "start_time": "2022-01-07T15:14:30.972Z"
   },
   {
    "duration": 27,
    "start_time": "2022-01-07T15:14:31.405Z"
   },
   {
    "duration": 26,
    "start_time": "2022-01-07T15:14:31.434Z"
   },
   {
    "duration": 21085,
    "start_time": "2022-01-07T15:14:31.463Z"
   },
   {
    "duration": 480,
    "start_time": "2022-01-07T15:14:52.551Z"
   },
   {
    "duration": 40,
    "start_time": "2022-01-07T15:14:53.034Z"
   },
   {
    "duration": 9,
    "start_time": "2022-01-07T15:14:53.077Z"
   },
   {
    "duration": 22521,
    "start_time": "2022-01-07T15:14:53.091Z"
   },
   {
    "duration": 483,
    "start_time": "2022-01-07T15:15:15.616Z"
   },
   {
    "duration": 58,
    "start_time": "2022-01-07T15:15:16.102Z"
   },
   {
    "duration": 9,
    "start_time": "2022-01-07T15:15:16.164Z"
   },
   {
    "duration": 230160,
    "start_time": "2022-01-07T15:15:16.176Z"
   },
   {
    "duration": 547,
    "start_time": "2022-01-07T15:19:06.339Z"
   },
   {
    "duration": 25,
    "start_time": "2022-01-07T15:19:06.890Z"
   },
   {
    "duration": 6,
    "start_time": "2022-01-07T15:19:06.917Z"
   },
   {
    "duration": 40,
    "start_time": "2022-01-07T15:19:06.926Z"
   },
   {
    "duration": 6,
    "start_time": "2022-01-07T15:19:06.969Z"
   },
   {
    "duration": 9,
    "start_time": "2022-01-07T15:41:45.802Z"
   },
   {
    "duration": 58224,
    "start_time": "2022-01-07T15:42:07.250Z"
   },
   {
    "duration": 21,
    "start_time": "2022-01-07T15:46:43.836Z"
   },
   {
    "duration": 4236,
    "start_time": "2022-01-07T15:47:31.165Z"
   },
   {
    "duration": 4096,
    "start_time": "2022-01-07T15:47:35.405Z"
   },
   {
    "duration": 38,
    "start_time": "2022-01-07T15:47:39.505Z"
   },
   {
    "duration": 22,
    "start_time": "2022-01-07T15:47:39.545Z"
   },
   {
    "duration": 18,
    "start_time": "2022-01-07T15:47:39.569Z"
   },
   {
    "duration": 23,
    "start_time": "2022-01-07T15:47:39.589Z"
   },
   {
    "duration": 8,
    "start_time": "2022-01-07T15:47:39.615Z"
   },
   {
    "duration": 11728,
    "start_time": "2022-01-07T15:47:39.659Z"
   },
   {
    "duration": 19,
    "start_time": "2022-01-07T15:47:51.391Z"
   },
   {
    "duration": 56,
    "start_time": "2022-01-07T15:47:51.412Z"
   },
   {
    "duration": 15,
    "start_time": "2022-01-07T15:47:51.470Z"
   },
   {
    "duration": 15,
    "start_time": "2022-01-07T15:47:51.488Z"
   },
   {
    "duration": 6,
    "start_time": "2022-01-07T15:47:51.505Z"
   },
   {
    "duration": 53,
    "start_time": "2022-01-07T15:47:51.513Z"
   },
   {
    "duration": 7,
    "start_time": "2022-01-07T15:47:51.568Z"
   },
   {
    "duration": 9,
    "start_time": "2022-01-07T15:47:51.577Z"
   },
   {
    "duration": 8,
    "start_time": "2022-01-07T15:47:51.588Z"
   },
   {
    "duration": 61,
    "start_time": "2022-01-07T15:47:51.598Z"
   },
   {
    "duration": 17,
    "start_time": "2022-01-07T15:47:51.662Z"
   },
   {
    "duration": 9,
    "start_time": "2022-01-07T15:47:51.681Z"
   },
   {
    "duration": 9,
    "start_time": "2022-01-07T15:47:51.692Z"
   },
   {
    "duration": 57374,
    "start_time": "2022-01-07T15:47:51.704Z"
   },
   {
    "duration": 500,
    "start_time": "2022-01-07T15:48:49.086Z"
   },
   {
    "duration": 20,
    "start_time": "2022-01-07T15:48:49.590Z"
   },
   {
    "duration": 687,
    "start_time": "2022-01-07T15:48:49.613Z"
   },
   {
    "duration": 194,
    "start_time": "2022-01-07T15:48:50.109Z"
   },
   {
    "duration": 192,
    "start_time": "2022-01-07T15:48:50.112Z"
   },
   {
    "duration": 190,
    "start_time": "2022-01-07T15:48:50.115Z"
   },
   {
    "duration": 190,
    "start_time": "2022-01-07T15:48:50.117Z"
   },
   {
    "duration": 188,
    "start_time": "2022-01-07T15:48:50.120Z"
   },
   {
    "duration": 185,
    "start_time": "2022-01-07T15:48:50.125Z"
   },
   {
    "duration": 183,
    "start_time": "2022-01-07T15:48:50.128Z"
   },
   {
    "duration": 182,
    "start_time": "2022-01-07T15:48:50.131Z"
   },
   {
    "duration": 180,
    "start_time": "2022-01-07T15:48:50.134Z"
   },
   {
    "duration": 180,
    "start_time": "2022-01-07T15:48:50.136Z"
   },
   {
    "duration": 177,
    "start_time": "2022-01-07T15:48:50.141Z"
   },
   {
    "duration": 176,
    "start_time": "2022-01-07T15:48:50.143Z"
   },
   {
    "duration": 175,
    "start_time": "2022-01-07T15:48:50.146Z"
   },
   {
    "duration": 175,
    "start_time": "2022-01-07T15:48:50.148Z"
   },
   {
    "duration": 174,
    "start_time": "2022-01-07T15:48:50.150Z"
   },
   {
    "duration": 173,
    "start_time": "2022-01-07T15:48:50.153Z"
   },
   {
    "duration": 170,
    "start_time": "2022-01-07T15:48:50.157Z"
   },
   {
    "duration": 163,
    "start_time": "2022-01-07T15:50:44.945Z"
   },
   {
    "duration": 10,
    "start_time": "2022-01-07T15:51:10.032Z"
   },
   {
    "duration": 4067,
    "start_time": "2022-01-07T15:51:16.835Z"
   },
   {
    "duration": 3076,
    "start_time": "2022-01-07T15:51:20.905Z"
   },
   {
    "duration": 35,
    "start_time": "2022-01-07T15:51:23.991Z"
   },
   {
    "duration": 31,
    "start_time": "2022-01-07T15:51:24.029Z"
   },
   {
    "duration": 20,
    "start_time": "2022-01-07T15:51:24.063Z"
   },
   {
    "duration": 16,
    "start_time": "2022-01-07T15:51:24.085Z"
   },
   {
    "duration": 6,
    "start_time": "2022-01-07T15:51:24.104Z"
   },
   {
    "duration": 11822,
    "start_time": "2022-01-07T15:51:24.113Z"
   },
   {
    "duration": 31,
    "start_time": "2022-01-07T15:51:35.938Z"
   },
   {
    "duration": 19,
    "start_time": "2022-01-07T15:51:35.971Z"
   },
   {
    "duration": 18,
    "start_time": "2022-01-07T15:51:35.993Z"
   },
   {
    "duration": 60,
    "start_time": "2022-01-07T15:51:36.014Z"
   },
   {
    "duration": 9,
    "start_time": "2022-01-07T15:51:36.077Z"
   },
   {
    "duration": 12,
    "start_time": "2022-01-07T15:51:36.088Z"
   },
   {
    "duration": 5,
    "start_time": "2022-01-07T15:51:36.103Z"
   },
   {
    "duration": 53,
    "start_time": "2022-01-07T15:51:36.111Z"
   },
   {
    "duration": 9,
    "start_time": "2022-01-07T15:51:36.167Z"
   },
   {
    "duration": 14,
    "start_time": "2022-01-07T15:51:36.179Z"
   },
   {
    "duration": 18,
    "start_time": "2022-01-07T15:51:36.196Z"
   },
   {
    "duration": 46,
    "start_time": "2022-01-07T15:51:36.217Z"
   },
   {
    "duration": 10,
    "start_time": "2022-01-07T15:51:36.265Z"
   },
   {
    "duration": 59084,
    "start_time": "2022-01-07T15:51:36.281Z"
   },
   {
    "duration": 512,
    "start_time": "2022-01-07T15:52:35.369Z"
   },
   {
    "duration": 35,
    "start_time": "2022-01-07T15:52:35.883Z"
   },
   {
    "duration": 544,
    "start_time": "2022-01-07T15:52:35.921Z"
   },
   {
    "duration": 194,
    "start_time": "2022-01-07T15:52:36.274Z"
   },
   {
    "duration": 191,
    "start_time": "2022-01-07T15:52:36.278Z"
   },
   {
    "duration": 191,
    "start_time": "2022-01-07T15:52:36.280Z"
   },
   {
    "duration": 189,
    "start_time": "2022-01-07T15:52:36.284Z"
   },
   {
    "duration": 186,
    "start_time": "2022-01-07T15:52:36.289Z"
   },
   {
    "duration": 185,
    "start_time": "2022-01-07T15:52:36.291Z"
   },
   {
    "duration": 184,
    "start_time": "2022-01-07T15:52:36.294Z"
   },
   {
    "duration": 182,
    "start_time": "2022-01-07T15:52:36.297Z"
   },
   {
    "duration": 182,
    "start_time": "2022-01-07T15:52:36.299Z"
   },
   {
    "duration": 180,
    "start_time": "2022-01-07T15:52:36.303Z"
   },
   {
    "duration": 178,
    "start_time": "2022-01-07T15:52:36.306Z"
   },
   {
    "duration": 177,
    "start_time": "2022-01-07T15:52:36.309Z"
   },
   {
    "duration": 177,
    "start_time": "2022-01-07T15:52:36.311Z"
   },
   {
    "duration": 176,
    "start_time": "2022-01-07T15:52:36.313Z"
   },
   {
    "duration": 175,
    "start_time": "2022-01-07T15:52:36.316Z"
   },
   {
    "duration": 171,
    "start_time": "2022-01-07T15:52:36.321Z"
   },
   {
    "duration": 170,
    "start_time": "2022-01-07T15:52:36.323Z"
   },
   {
    "duration": 21,
    "start_time": "2022-01-07T15:53:17.565Z"
   },
   {
    "duration": 469,
    "start_time": "2022-01-07T15:53:20.308Z"
   },
   {
    "duration": 20,
    "start_time": "2022-01-07T15:53:29.134Z"
   },
   {
    "duration": 6,
    "start_time": "2022-01-07T15:53:29.980Z"
   },
   {
    "duration": 3846,
    "start_time": "2022-01-07T15:54:03.477Z"
   },
   {
    "duration": 3745,
    "start_time": "2022-01-07T15:54:07.326Z"
   },
   {
    "duration": 44,
    "start_time": "2022-01-07T15:54:11.075Z"
   },
   {
    "duration": 22,
    "start_time": "2022-01-07T15:54:11.122Z"
   },
   {
    "duration": 30,
    "start_time": "2022-01-07T15:54:11.161Z"
   },
   {
    "duration": 25,
    "start_time": "2022-01-07T15:54:11.195Z"
   },
   {
    "duration": 36,
    "start_time": "2022-01-07T15:54:11.223Z"
   },
   {
    "duration": 12009,
    "start_time": "2022-01-07T15:54:11.264Z"
   },
   {
    "duration": 17,
    "start_time": "2022-01-07T15:54:23.276Z"
   },
   {
    "duration": 14,
    "start_time": "2022-01-07T15:54:23.296Z"
   },
   {
    "duration": 15,
    "start_time": "2022-01-07T15:54:23.359Z"
   },
   {
    "duration": 15,
    "start_time": "2022-01-07T15:54:23.377Z"
   },
   {
    "duration": 8,
    "start_time": "2022-01-07T15:54:23.394Z"
   },
   {
    "duration": 56,
    "start_time": "2022-01-07T15:54:23.404Z"
   },
   {
    "duration": 6,
    "start_time": "2022-01-07T15:54:23.463Z"
   },
   {
    "duration": 9,
    "start_time": "2022-01-07T15:54:23.471Z"
   },
   {
    "duration": 7,
    "start_time": "2022-01-07T15:54:23.482Z"
   },
   {
    "duration": 16,
    "start_time": "2022-01-07T15:54:23.491Z"
   },
   {
    "duration": 50,
    "start_time": "2022-01-07T15:54:23.509Z"
   },
   {
    "duration": 8,
    "start_time": "2022-01-07T15:54:23.561Z"
   },
   {
    "duration": 8,
    "start_time": "2022-01-07T15:54:23.571Z"
   },
   {
    "duration": 59995,
    "start_time": "2022-01-07T15:54:23.582Z"
   },
   {
    "duration": 435,
    "start_time": "2022-01-07T15:55:23.663Z"
   },
   {
    "duration": 23,
    "start_time": "2022-01-07T15:55:24.101Z"
   },
   {
    "duration": 17,
    "start_time": "2022-01-07T15:55:24.126Z"
   },
   {
    "duration": 20667,
    "start_time": "2022-01-07T15:55:24.158Z"
   },
   {
    "duration": 349,
    "start_time": "2022-01-07T15:55:44.827Z"
   },
   {
    "duration": 21,
    "start_time": "2022-01-07T15:55:45.179Z"
   },
   {
    "duration": 23,
    "start_time": "2022-01-07T15:55:45.203Z"
   },
   {
    "duration": 30,
    "start_time": "2022-01-07T15:55:45.229Z"
   },
   {
    "duration": 18994,
    "start_time": "2022-01-07T15:55:45.262Z"
   },
   {
    "duration": 347,
    "start_time": "2022-01-07T15:56:04.260Z"
   },
   {
    "duration": 21,
    "start_time": "2022-01-07T15:56:04.610Z"
   },
   {
    "duration": 39,
    "start_time": "2022-01-07T15:56:04.633Z"
   },
   {
    "duration": 5,
    "start_time": "2022-01-07T15:56:04.675Z"
   },
   {
    "duration": 161183,
    "start_time": "2022-01-07T15:56:04.683Z"
   },
   {
    "duration": 385,
    "start_time": "2022-01-07T15:58:45.869Z"
   },
   {
    "duration": 21,
    "start_time": "2022-01-07T15:58:46.256Z"
   },
   {
    "duration": 21,
    "start_time": "2022-01-07T15:58:46.280Z"
   },
   {
    "duration": 6,
    "start_time": "2022-01-07T15:58:46.304Z"
   },
   {
    "duration": 57,
    "start_time": "2022-01-07T15:58:46.313Z"
   },
   {
    "duration": 6,
    "start_time": "2022-01-07T15:58:46.373Z"
   },
   {
    "duration": 11,
    "start_time": "2022-01-07T16:06:12.548Z"
   },
   {
    "duration": 128,
    "start_time": "2022-01-07T16:07:04.056Z"
   },
   {
    "duration": 4247,
    "start_time": "2022-01-07T16:21:22.161Z"
   },
   {
    "duration": 3440,
    "start_time": "2022-01-07T16:21:26.411Z"
   },
   {
    "duration": 37,
    "start_time": "2022-01-07T16:21:29.858Z"
   },
   {
    "duration": 20,
    "start_time": "2022-01-07T16:21:29.898Z"
   },
   {
    "duration": 21,
    "start_time": "2022-01-07T16:21:29.921Z"
   },
   {
    "duration": 29,
    "start_time": "2022-01-07T16:21:29.944Z"
   },
   {
    "duration": 8,
    "start_time": "2022-01-07T16:21:29.976Z"
   },
   {
    "duration": 11724,
    "start_time": "2022-01-07T16:21:29.988Z"
   },
   {
    "duration": 46,
    "start_time": "2022-01-07T16:21:41.715Z"
   },
   {
    "duration": 14,
    "start_time": "2022-01-07T16:21:41.763Z"
   },
   {
    "duration": 12,
    "start_time": "2022-01-07T16:21:41.780Z"
   },
   {
    "duration": 14,
    "start_time": "2022-01-07T16:21:41.795Z"
   },
   {
    "duration": 52,
    "start_time": "2022-01-07T16:21:41.811Z"
   },
   {
    "duration": 12,
    "start_time": "2022-01-07T16:21:41.865Z"
   },
   {
    "duration": 6,
    "start_time": "2022-01-07T16:21:41.879Z"
   },
   {
    "duration": 10,
    "start_time": "2022-01-07T16:21:41.887Z"
   },
   {
    "duration": 7,
    "start_time": "2022-01-07T16:21:41.900Z"
   },
   {
    "duration": 57,
    "start_time": "2022-01-07T16:21:41.910Z"
   },
   {
    "duration": 15,
    "start_time": "2022-01-07T16:21:41.970Z"
   },
   {
    "duration": 9,
    "start_time": "2022-01-07T16:21:41.988Z"
   },
   {
    "duration": 10,
    "start_time": "2022-01-07T16:21:42.000Z"
   },
   {
    "duration": 62952,
    "start_time": "2022-01-07T16:21:42.013Z"
   },
   {
    "duration": 543,
    "start_time": "2022-01-07T16:22:44.971Z"
   },
   {
    "duration": 22,
    "start_time": "2022-01-07T16:22:45.518Z"
   },
   {
    "duration": 20,
    "start_time": "2022-01-07T16:22:45.543Z"
   },
   {
    "duration": 28551,
    "start_time": "2022-01-07T16:22:45.566Z"
   },
   {
    "duration": 508,
    "start_time": "2022-01-07T16:23:14.121Z"
   },
   {
    "duration": 46,
    "start_time": "2022-01-07T16:23:14.632Z"
   },
   {
    "duration": 6,
    "start_time": "2022-01-07T16:23:14.680Z"
   },
   {
    "duration": 18872,
    "start_time": "2022-01-07T16:23:14.689Z"
   },
   {
    "duration": 382,
    "start_time": "2022-01-07T16:23:33.564Z"
   },
   {
    "duration": 30,
    "start_time": "2022-01-07T16:23:33.948Z"
   },
   {
    "duration": 6,
    "start_time": "2022-01-07T16:23:33.981Z"
   },
   {
    "duration": 156818,
    "start_time": "2022-01-07T16:23:33.990Z"
   },
   {
    "duration": 368,
    "start_time": "2022-01-07T16:26:10.810Z"
   },
   {
    "duration": 21,
    "start_time": "2022-01-07T16:26:11.180Z"
   },
   {
    "duration": 10,
    "start_time": "2022-01-07T16:26:11.203Z"
   },
   {
    "duration": 34,
    "start_time": "2022-01-07T16:26:11.215Z"
   },
   {
    "duration": 9,
    "start_time": "2022-01-07T17:15:40.174Z"
   },
   {
    "duration": 373,
    "start_time": "2022-01-07T17:15:46.957Z"
   },
   {
    "duration": 9,
    "start_time": "2022-01-07T17:16:12.903Z"
   },
   {
    "duration": 4016,
    "start_time": "2022-01-07T17:16:19.884Z"
   },
   {
    "duration": 3251,
    "start_time": "2022-01-07T17:16:23.904Z"
   },
   {
    "duration": 38,
    "start_time": "2022-01-07T17:16:27.160Z"
   },
   {
    "duration": 21,
    "start_time": "2022-01-07T17:16:27.201Z"
   },
   {
    "duration": 34,
    "start_time": "2022-01-07T17:16:27.225Z"
   },
   {
    "duration": 17,
    "start_time": "2022-01-07T17:16:27.261Z"
   },
   {
    "duration": 6,
    "start_time": "2022-01-07T17:16:27.280Z"
   },
   {
    "duration": 11782,
    "start_time": "2022-01-07T17:16:27.290Z"
   },
   {
    "duration": 18,
    "start_time": "2022-01-07T17:16:39.075Z"
   },
   {
    "duration": 16,
    "start_time": "2022-01-07T17:16:39.096Z"
   },
   {
    "duration": 14,
    "start_time": "2022-01-07T17:16:39.159Z"
   },
   {
    "duration": 15,
    "start_time": "2022-01-07T17:16:39.175Z"
   },
   {
    "duration": 7,
    "start_time": "2022-01-07T17:16:39.193Z"
   },
   {
    "duration": 11,
    "start_time": "2022-01-07T17:16:39.202Z"
   },
   {
    "duration": 46,
    "start_time": "2022-01-07T17:16:39.216Z"
   },
   {
    "duration": 9,
    "start_time": "2022-01-07T17:16:39.264Z"
   },
   {
    "duration": 7,
    "start_time": "2022-01-07T17:16:39.275Z"
   },
   {
    "duration": 13,
    "start_time": "2022-01-07T17:16:39.285Z"
   },
   {
    "duration": 59,
    "start_time": "2022-01-07T17:16:39.301Z"
   },
   {
    "duration": 7,
    "start_time": "2022-01-07T17:16:39.362Z"
   },
   {
    "duration": 9,
    "start_time": "2022-01-07T17:16:39.372Z"
   },
   {
    "duration": 59285,
    "start_time": "2022-01-07T17:16:39.383Z"
   },
   {
    "duration": 503,
    "start_time": "2022-01-07T17:17:38.676Z"
   },
   {
    "duration": 20,
    "start_time": "2022-01-07T17:17:39.182Z"
   },
   {
    "duration": 5,
    "start_time": "2022-01-07T17:17:39.205Z"
   },
   {
    "duration": 20206,
    "start_time": "2022-01-07T17:17:39.212Z"
   },
   {
    "duration": 355,
    "start_time": "2022-01-07T17:17:59.421Z"
   },
   {
    "duration": 20,
    "start_time": "2022-01-07T17:17:59.779Z"
   },
   {
    "duration": 5,
    "start_time": "2022-01-07T17:17:59.801Z"
   },
   {
    "duration": 18924,
    "start_time": "2022-01-07T17:17:59.809Z"
   },
   {
    "duration": 338,
    "start_time": "2022-01-07T17:18:18.735Z"
   },
   {
    "duration": 19,
    "start_time": "2022-01-07T17:18:19.076Z"
   },
   {
    "duration": 7,
    "start_time": "2022-01-07T17:18:19.098Z"
   },
   {
    "duration": 165993,
    "start_time": "2022-01-07T17:18:19.107Z"
   },
   {
    "duration": 393,
    "start_time": "2022-01-07T17:21:05.103Z"
   },
   {
    "duration": 21,
    "start_time": "2022-01-07T17:21:05.499Z"
   },
   {
    "duration": 6,
    "start_time": "2022-01-07T17:21:05.522Z"
   },
   {
    "duration": 38,
    "start_time": "2022-01-07T17:21:05.530Z"
   },
   {
    "duration": 22,
    "start_time": "2022-01-07T17:30:31.720Z"
   },
   {
    "duration": 4090,
    "start_time": "2022-01-07T17:31:57.639Z"
   },
   {
    "duration": 3120,
    "start_time": "2022-01-07T17:32:01.732Z"
   },
   {
    "duration": 38,
    "start_time": "2022-01-07T17:32:04.855Z"
   },
   {
    "duration": 20,
    "start_time": "2022-01-07T17:32:04.895Z"
   },
   {
    "duration": 19,
    "start_time": "2022-01-07T17:32:04.917Z"
   },
   {
    "duration": 32,
    "start_time": "2022-01-07T17:32:04.939Z"
   },
   {
    "duration": 6,
    "start_time": "2022-01-07T17:32:04.974Z"
   },
   {
    "duration": 11696,
    "start_time": "2022-01-07T17:32:04.985Z"
   },
   {
    "duration": 24,
    "start_time": "2022-01-07T17:32:16.685Z"
   },
   {
    "duration": 61,
    "start_time": "2022-01-07T17:32:16.712Z"
   },
   {
    "duration": 15,
    "start_time": "2022-01-07T17:32:16.776Z"
   },
   {
    "duration": 65,
    "start_time": "2022-01-07T17:32:16.794Z"
   },
   {
    "duration": 8,
    "start_time": "2022-01-07T17:32:16.862Z"
   },
   {
    "duration": 13,
    "start_time": "2022-01-07T17:32:16.873Z"
   },
   {
    "duration": 6,
    "start_time": "2022-01-07T17:32:16.889Z"
   },
   {
    "duration": 9,
    "start_time": "2022-01-07T17:32:16.898Z"
   },
   {
    "duration": 56,
    "start_time": "2022-01-07T17:32:16.910Z"
   },
   {
    "duration": 14,
    "start_time": "2022-01-07T17:32:16.968Z"
   },
   {
    "duration": 15,
    "start_time": "2022-01-07T17:32:16.985Z"
   },
   {
    "duration": 7,
    "start_time": "2022-01-07T17:32:17.002Z"
   },
   {
    "duration": 52,
    "start_time": "2022-01-07T17:32:17.012Z"
   },
   {
    "duration": 58207,
    "start_time": "2022-01-07T17:32:17.067Z"
   },
   {
    "duration": 559,
    "start_time": "2022-01-07T17:33:15.281Z"
   },
   {
    "duration": 34,
    "start_time": "2022-01-07T17:33:15.844Z"
   },
   {
    "duration": 7,
    "start_time": "2022-01-07T17:33:15.880Z"
   },
   {
    "duration": 22279,
    "start_time": "2022-01-07T17:33:15.890Z"
   },
   {
    "duration": 360,
    "start_time": "2022-01-07T17:33:38.171Z"
   },
   {
    "duration": 30,
    "start_time": "2022-01-07T17:33:38.533Z"
   },
   {
    "duration": 6,
    "start_time": "2022-01-07T17:33:38.565Z"
   },
   {
    "duration": 19469,
    "start_time": "2022-01-07T17:33:38.573Z"
   },
   {
    "duration": 374,
    "start_time": "2022-01-07T17:33:58.044Z"
   },
   {
    "duration": 19,
    "start_time": "2022-01-07T17:33:58.420Z"
   },
   {
    "duration": 22,
    "start_time": "2022-01-07T17:33:58.441Z"
   },
   {
    "duration": 196056,
    "start_time": "2022-01-07T17:33:58.465Z"
   },
   {
    "duration": 360,
    "start_time": "2022-01-07T17:37:14.524Z"
   },
   {
    "duration": 21,
    "start_time": "2022-01-07T17:37:14.886Z"
   },
   {
    "duration": 8,
    "start_time": "2022-01-07T17:37:14.910Z"
   },
   {
    "duration": 44,
    "start_time": "2022-01-07T17:37:14.922Z"
   },
   {
    "duration": 408,
    "start_time": "2022-01-07T18:53:02.597Z"
   },
   {
    "duration": 5095,
    "start_time": "2022-01-07T18:53:42.904Z"
   },
   {
    "duration": 3761,
    "start_time": "2022-01-07T18:53:48.002Z"
   },
   {
    "duration": 44,
    "start_time": "2022-01-07T18:53:51.771Z"
   },
   {
    "duration": 22,
    "start_time": "2022-01-07T18:53:51.818Z"
   },
   {
    "duration": 19,
    "start_time": "2022-01-07T18:53:51.861Z"
   },
   {
    "duration": 27,
    "start_time": "2022-01-07T18:53:51.883Z"
   },
   {
    "duration": 6,
    "start_time": "2022-01-07T18:53:51.914Z"
   },
   {
    "duration": 12287,
    "start_time": "2022-01-07T18:53:51.924Z"
   },
   {
    "duration": 49,
    "start_time": "2022-01-07T18:54:04.214Z"
   },
   {
    "duration": 21,
    "start_time": "2022-01-07T18:54:04.265Z"
   },
   {
    "duration": 23,
    "start_time": "2022-01-07T18:54:04.289Z"
   },
   {
    "duration": 46,
    "start_time": "2022-01-07T18:54:04.315Z"
   },
   {
    "duration": 9,
    "start_time": "2022-01-07T18:54:04.364Z"
   },
   {
    "duration": 22,
    "start_time": "2022-01-07T18:54:04.376Z"
   },
   {
    "duration": 8,
    "start_time": "2022-01-07T18:54:04.401Z"
   },
   {
    "duration": 10,
    "start_time": "2022-01-07T18:54:04.412Z"
   },
   {
    "duration": 38,
    "start_time": "2022-01-07T18:54:04.425Z"
   },
   {
    "duration": 20,
    "start_time": "2022-01-07T18:54:04.466Z"
   },
   {
    "duration": 26,
    "start_time": "2022-01-07T18:54:04.488Z"
   },
   {
    "duration": 6,
    "start_time": "2022-01-07T18:54:04.517Z"
   },
   {
    "duration": 12,
    "start_time": "2022-01-07T18:54:04.526Z"
   },
   {
    "duration": 59013,
    "start_time": "2022-01-07T18:54:04.558Z"
   },
   {
    "duration": 548,
    "start_time": "2022-01-07T18:55:03.576Z"
   },
   {
    "duration": 36,
    "start_time": "2022-01-07T18:55:04.127Z"
   },
   {
    "duration": 5,
    "start_time": "2022-01-07T18:55:04.165Z"
   },
   {
    "duration": 21124,
    "start_time": "2022-01-07T18:55:04.173Z"
   },
   {
    "duration": 370,
    "start_time": "2022-01-07T18:55:25.299Z"
   },
   {
    "duration": 23,
    "start_time": "2022-01-07T18:55:25.672Z"
   },
   {
    "duration": 6,
    "start_time": "2022-01-07T18:55:25.698Z"
   },
   {
    "duration": 18200,
    "start_time": "2022-01-07T18:55:25.706Z"
   },
   {
    "duration": 387,
    "start_time": "2022-01-07T18:55:43.908Z"
   },
   {
    "duration": 20,
    "start_time": "2022-01-07T18:55:44.298Z"
   },
   {
    "duration": 5,
    "start_time": "2022-01-07T18:55:44.320Z"
   },
   {
    "duration": 156652,
    "start_time": "2022-01-07T18:55:44.328Z"
   },
   {
    "duration": 391,
    "start_time": "2022-01-07T18:58:20.983Z"
   },
   {
    "duration": 22,
    "start_time": "2022-01-07T18:58:21.376Z"
   },
   {
    "duration": 5,
    "start_time": "2022-01-07T18:58:21.400Z"
   },
   {
    "duration": 14,
    "start_time": "2022-01-07T18:58:21.407Z"
   },
   {
    "duration": 3979,
    "start_time": "2022-01-07T19:13:10.790Z"
   },
   {
    "duration": 3348,
    "start_time": "2022-01-07T19:13:14.777Z"
   },
   {
    "duration": 36,
    "start_time": "2022-01-07T19:13:18.128Z"
   },
   {
    "duration": 20,
    "start_time": "2022-01-07T19:13:18.167Z"
   },
   {
    "duration": 18,
    "start_time": "2022-01-07T19:13:18.189Z"
   },
   {
    "duration": 15,
    "start_time": "2022-01-07T19:13:18.210Z"
   },
   {
    "duration": 35,
    "start_time": "2022-01-07T19:13:18.229Z"
   },
   {
    "duration": 11785,
    "start_time": "2022-01-07T19:13:18.268Z"
   },
   {
    "duration": 25,
    "start_time": "2022-01-07T19:13:30.060Z"
   },
   {
    "duration": 80,
    "start_time": "2022-01-07T19:13:30.088Z"
   },
   {
    "duration": 16,
    "start_time": "2022-01-07T19:13:30.171Z"
   },
   {
    "duration": 18,
    "start_time": "2022-01-07T19:13:30.189Z"
   },
   {
    "duration": 52,
    "start_time": "2022-01-07T19:13:30.210Z"
   },
   {
    "duration": 12,
    "start_time": "2022-01-07T19:13:30.264Z"
   },
   {
    "duration": 5,
    "start_time": "2022-01-07T19:13:30.278Z"
   },
   {
    "duration": 7,
    "start_time": "2022-01-07T19:13:30.285Z"
   },
   {
    "duration": 12,
    "start_time": "2022-01-07T19:13:30.295Z"
   },
   {
    "duration": 50,
    "start_time": "2022-01-07T19:13:30.309Z"
   },
   {
    "duration": 17,
    "start_time": "2022-01-07T19:13:30.362Z"
   },
   {
    "duration": 7,
    "start_time": "2022-01-07T19:13:30.382Z"
   },
   {
    "duration": 15,
    "start_time": "2022-01-07T19:13:30.391Z"
   },
   {
    "duration": 56963,
    "start_time": "2022-01-07T19:13:30.411Z"
   },
   {
    "duration": 507,
    "start_time": "2022-01-07T19:14:27.378Z"
   },
   {
    "duration": 22,
    "start_time": "2022-01-07T19:14:27.887Z"
   },
   {
    "duration": 5,
    "start_time": "2022-01-07T19:14:27.912Z"
   },
   {
    "duration": 20804,
    "start_time": "2022-01-07T19:14:27.919Z"
   },
   {
    "duration": 355,
    "start_time": "2022-01-07T19:14:48.726Z"
   },
   {
    "duration": 22,
    "start_time": "2022-01-07T19:14:49.083Z"
   },
   {
    "duration": 6,
    "start_time": "2022-01-07T19:14:49.108Z"
   },
   {
    "duration": 18951,
    "start_time": "2022-01-07T19:14:49.116Z"
   },
   {
    "duration": 334,
    "start_time": "2022-01-07T19:15:08.069Z"
   },
   {
    "duration": 23,
    "start_time": "2022-01-07T19:15:08.405Z"
   },
   {
    "duration": 5,
    "start_time": "2022-01-07T19:15:08.431Z"
   },
   {
    "duration": 176942,
    "start_time": "2022-01-07T19:15:08.438Z"
   },
   {
    "duration": 380,
    "start_time": "2022-01-07T19:18:05.384Z"
   },
   {
    "duration": 23,
    "start_time": "2022-01-07T19:18:05.767Z"
   },
   {
    "duration": 8,
    "start_time": "2022-01-07T19:18:05.793Z"
   },
   {
    "duration": 15,
    "start_time": "2022-01-07T19:18:05.803Z"
   },
   {
    "duration": 5,
    "start_time": "2022-01-07T19:18:05.858Z"
   },
   {
    "duration": 57,
    "start_time": "2022-01-07T19:21:56.948Z"
   },
   {
    "duration": 4274,
    "start_time": "2022-01-07T19:32:07.133Z"
   },
   {
    "duration": 4161,
    "start_time": "2022-01-07T19:33:00.461Z"
   },
   {
    "duration": 3970,
    "start_time": "2022-01-07T19:33:15.974Z"
   },
   {
    "duration": 5125,
    "start_time": "2022-01-07T19:40:45.330Z"
   },
   {
    "duration": 5102,
    "start_time": "2022-01-07T19:41:07.410Z"
   },
   {
    "duration": 5288,
    "start_time": "2022-01-07T19:41:49.635Z"
   },
   {
    "duration": 4949,
    "start_time": "2022-01-07T19:44:59.022Z"
   },
   {
    "duration": 1109,
    "start_time": "2022-01-07T19:51:04.197Z"
   },
   {
    "duration": 1096,
    "start_time": "2022-01-07T19:51:20.013Z"
   },
   {
    "duration": 1106,
    "start_time": "2022-01-07T19:53:03.847Z"
   },
   {
    "duration": 869,
    "start_time": "2022-01-07T19:54:23.372Z"
   },
   {
    "duration": 897,
    "start_time": "2022-01-07T19:54:29.917Z"
   },
   {
    "duration": 889,
    "start_time": "2022-01-07T19:59:50.945Z"
   },
   {
    "duration": 102,
    "start_time": "2022-01-07T20:00:27.762Z"
   },
   {
    "duration": 17353,
    "start_time": "2022-01-07T20:09:12.158Z"
   },
   {
    "duration": 572,
    "start_time": "2022-01-07T20:13:36.418Z"
   },
   {
    "duration": 4119,
    "start_time": "2022-01-07T20:15:52.461Z"
   },
   {
    "duration": 3142,
    "start_time": "2022-01-07T20:15:56.583Z"
   },
   {
    "duration": 37,
    "start_time": "2022-01-07T20:15:59.728Z"
   },
   {
    "duration": 19,
    "start_time": "2022-01-07T20:15:59.768Z"
   },
   {
    "duration": 20,
    "start_time": "2022-01-07T20:15:59.790Z"
   },
   {
    "duration": 17,
    "start_time": "2022-01-07T20:15:59.813Z"
   },
   {
    "duration": 7,
    "start_time": "2022-01-07T20:15:59.860Z"
   },
   {
    "duration": 11414,
    "start_time": "2022-01-07T20:15:59.870Z"
   },
   {
    "duration": 22,
    "start_time": "2022-01-07T20:16:11.287Z"
   },
   {
    "duration": 54,
    "start_time": "2022-01-07T20:16:11.312Z"
   },
   {
    "duration": 14,
    "start_time": "2022-01-07T20:16:11.370Z"
   },
   {
    "duration": 14,
    "start_time": "2022-01-07T20:16:11.387Z"
   },
   {
    "duration": 7,
    "start_time": "2022-01-07T20:16:11.403Z"
   },
   {
    "duration": 56,
    "start_time": "2022-01-07T20:16:11.412Z"
   },
   {
    "duration": 5,
    "start_time": "2022-01-07T20:16:11.471Z"
   },
   {
    "duration": 17,
    "start_time": "2022-01-07T20:16:11.478Z"
   },
   {
    "duration": 17,
    "start_time": "2022-01-07T20:16:11.497Z"
   },
   {
    "duration": 27,
    "start_time": "2022-01-07T20:16:11.516Z"
   },
   {
    "duration": 31,
    "start_time": "2022-01-07T20:16:11.545Z"
   },
   {
    "duration": 7,
    "start_time": "2022-01-07T20:16:11.579Z"
   },
   {
    "duration": 9,
    "start_time": "2022-01-07T20:16:11.588Z"
   },
   {
    "duration": 59473,
    "start_time": "2022-01-07T20:16:11.599Z"
   },
   {
    "duration": 332,
    "start_time": "2022-01-07T20:17:11.259Z"
   },
   {
    "duration": 23,
    "start_time": "2022-01-07T20:17:11.594Z"
   },
   {
    "duration": 9,
    "start_time": "2022-01-07T20:17:11.619Z"
   },
   {
    "duration": 21042,
    "start_time": "2022-01-07T20:17:11.630Z"
   },
   {
    "duration": 349,
    "start_time": "2022-01-07T20:17:32.675Z"
   },
   {
    "duration": 35,
    "start_time": "2022-01-07T20:17:33.026Z"
   },
   {
    "duration": 6,
    "start_time": "2022-01-07T20:17:33.063Z"
   },
   {
    "duration": 18274,
    "start_time": "2022-01-07T20:17:33.072Z"
   },
   {
    "duration": 339,
    "start_time": "2022-01-07T20:17:51.348Z"
   },
   {
    "duration": 22,
    "start_time": "2022-01-07T20:17:51.690Z"
   },
   {
    "duration": 5,
    "start_time": "2022-01-07T20:17:51.715Z"
   },
   {
    "duration": 164030,
    "start_time": "2022-01-07T20:17:51.723Z"
   },
   {
    "duration": 406,
    "start_time": "2022-01-07T20:20:35.756Z"
   },
   {
    "duration": 24,
    "start_time": "2022-01-07T20:20:36.165Z"
   },
   {
    "duration": 9,
    "start_time": "2022-01-07T20:20:36.191Z"
   },
   {
    "duration": 14,
    "start_time": "2022-01-07T20:20:36.203Z"
   },
   {
    "duration": 5117,
    "start_time": "2022-01-07T20:20:36.221Z"
   },
   {
    "duration": 110,
    "start_time": "2022-01-07T20:20:41.341Z"
   },
   {
    "duration": 17459,
    "start_time": "2022-01-07T20:20:41.460Z"
   },
   {
    "duration": 147,
    "start_time": "2022-01-07T20:20:58.921Z"
   },
   {
    "duration": 359,
    "start_time": "2022-01-07T20:20:58.712Z"
   },
   {
    "duration": 17,
    "start_time": "2022-01-07T20:21:27.475Z"
   },
   {
    "duration": 5,
    "start_time": "2022-01-07T20:24:56.277Z"
   },
   {
    "duration": 4150,
    "start_time": "2022-01-07T20:26:21.885Z"
   },
   {
    "duration": 3217,
    "start_time": "2022-01-07T20:26:26.038Z"
   },
   {
    "duration": 36,
    "start_time": "2022-01-07T20:26:29.257Z"
   },
   {
    "duration": 19,
    "start_time": "2022-01-07T20:26:29.296Z"
   },
   {
    "duration": 18,
    "start_time": "2022-01-07T20:26:29.317Z"
   },
   {
    "duration": 38,
    "start_time": "2022-01-07T20:26:29.338Z"
   },
   {
    "duration": 6,
    "start_time": "2022-01-07T20:26:29.378Z"
   },
   {
    "duration": 11810,
    "start_time": "2022-01-07T20:26:29.388Z"
   },
   {
    "duration": 19,
    "start_time": "2022-01-07T20:26:41.201Z"
   },
   {
    "duration": 52,
    "start_time": "2022-01-07T20:26:41.223Z"
   },
   {
    "duration": 14,
    "start_time": "2022-01-07T20:26:41.278Z"
   },
   {
    "duration": 15,
    "start_time": "2022-01-07T20:26:41.295Z"
   },
   {
    "duration": 47,
    "start_time": "2022-01-07T20:26:41.313Z"
   },
   {
    "duration": 13,
    "start_time": "2022-01-07T20:26:41.362Z"
   },
   {
    "duration": 5,
    "start_time": "2022-01-07T20:26:41.377Z"
   },
   {
    "duration": 7,
    "start_time": "2022-01-07T20:26:41.384Z"
   },
   {
    "duration": 7,
    "start_time": "2022-01-07T20:26:41.394Z"
   },
   {
    "duration": 58,
    "start_time": "2022-01-07T20:26:41.403Z"
   },
   {
    "duration": 16,
    "start_time": "2022-01-07T20:26:41.463Z"
   },
   {
    "duration": 7,
    "start_time": "2022-01-07T20:26:41.482Z"
   },
   {
    "duration": 9,
    "start_time": "2022-01-07T20:26:41.491Z"
   },
   {
    "duration": 58474,
    "start_time": "2022-01-07T20:26:41.502Z"
   },
   {
    "duration": 451,
    "start_time": "2022-01-07T20:27:40.061Z"
   },
   {
    "duration": 22,
    "start_time": "2022-01-07T20:27:40.515Z"
   },
   {
    "duration": 21,
    "start_time": "2022-01-07T20:27:40.539Z"
   },
   {
    "duration": 20871,
    "start_time": "2022-01-07T20:27:40.562Z"
   },
   {
    "duration": 467,
    "start_time": "2022-01-07T20:28:01.436Z"
   },
   {
    "duration": 24,
    "start_time": "2022-01-07T20:28:01.905Z"
   },
   {
    "duration": 6,
    "start_time": "2022-01-07T20:28:01.932Z"
   },
   {
    "duration": 19595,
    "start_time": "2022-01-07T20:28:01.966Z"
   },
   {
    "duration": 354,
    "start_time": "2022-01-07T20:28:21.564Z"
   },
   {
    "duration": 23,
    "start_time": "2022-01-07T20:28:21.921Z"
   },
   {
    "duration": 6,
    "start_time": "2022-01-07T20:28:21.960Z"
   },
   {
    "duration": 192849,
    "start_time": "2022-01-07T20:28:21.968Z"
   },
   {
    "duration": 353,
    "start_time": "2022-01-07T20:31:34.819Z"
   },
   {
    "duration": 22,
    "start_time": "2022-01-07T20:31:35.174Z"
   },
   {
    "duration": 5,
    "start_time": "2022-01-07T20:31:35.199Z"
   },
   {
    "duration": 14,
    "start_time": "2022-01-07T20:31:35.207Z"
   },
   {
    "duration": 4450,
    "start_time": "2022-01-07T20:31:35.223Z"
   },
   {
    "duration": 368,
    "start_time": "2022-01-07T20:31:39.308Z"
   },
   {
    "duration": 364,
    "start_time": "2022-01-07T20:31:39.314Z"
   },
   {
    "duration": 363,
    "start_time": "2022-01-07T20:31:39.316Z"
   },
   {
    "duration": 361,
    "start_time": "2022-01-07T20:31:39.319Z"
   },
   {
    "duration": 358,
    "start_time": "2022-01-07T20:31:39.323Z"
   },
   {
    "duration": 4051,
    "start_time": "2022-01-07T20:34:06.301Z"
   },
   {
    "duration": 3215,
    "start_time": "2022-01-07T20:34:10.355Z"
   },
   {
    "duration": 37,
    "start_time": "2022-01-07T20:34:13.573Z"
   },
   {
    "duration": 20,
    "start_time": "2022-01-07T20:34:13.612Z"
   },
   {
    "duration": 30,
    "start_time": "2022-01-07T20:34:13.634Z"
   },
   {
    "duration": 22,
    "start_time": "2022-01-07T20:34:13.666Z"
   },
   {
    "duration": 6,
    "start_time": "2022-01-07T20:34:13.690Z"
   },
   {
    "duration": 12264,
    "start_time": "2022-01-07T20:34:13.698Z"
   },
   {
    "duration": 18,
    "start_time": "2022-01-07T20:34:25.966Z"
   },
   {
    "duration": 18,
    "start_time": "2022-01-07T20:34:25.989Z"
   },
   {
    "duration": 67,
    "start_time": "2022-01-07T20:34:26.010Z"
   },
   {
    "duration": 23,
    "start_time": "2022-01-07T20:34:26.080Z"
   },
   {
    "duration": 9,
    "start_time": "2022-01-07T20:34:26.106Z"
   },
   {
    "duration": 53,
    "start_time": "2022-01-07T20:34:26.119Z"
   },
   {
    "duration": 6,
    "start_time": "2022-01-07T20:34:26.176Z"
   },
   {
    "duration": 10,
    "start_time": "2022-01-07T20:34:26.186Z"
   },
   {
    "duration": 9,
    "start_time": "2022-01-07T20:34:26.200Z"
   },
   {
    "duration": 57,
    "start_time": "2022-01-07T20:34:26.212Z"
   },
   {
    "duration": 20,
    "start_time": "2022-01-07T20:34:26.273Z"
   },
   {
    "duration": 9,
    "start_time": "2022-01-07T20:34:26.296Z"
   },
   {
    "duration": 11,
    "start_time": "2022-01-07T20:34:26.308Z"
   },
   {
    "duration": 60109,
    "start_time": "2022-01-07T20:34:26.360Z"
   },
   {
    "duration": 434,
    "start_time": "2022-01-07T20:35:26.562Z"
   },
   {
    "duration": 24,
    "start_time": "2022-01-07T20:35:26.999Z"
   },
   {
    "duration": 6,
    "start_time": "2022-01-07T20:35:27.026Z"
   },
   {
    "duration": 20436,
    "start_time": "2022-01-07T20:35:27.035Z"
   },
   {
    "duration": 336,
    "start_time": "2022-01-07T20:35:47.476Z"
   },
   {
    "duration": 24,
    "start_time": "2022-01-07T20:35:47.815Z"
   },
   {
    "duration": 23,
    "start_time": "2022-01-07T20:35:47.841Z"
   },
   {
    "duration": 19430,
    "start_time": "2022-01-07T20:35:47.867Z"
   },
   {
    "duration": 393,
    "start_time": "2022-01-07T20:36:07.299Z"
   },
   {
    "duration": 22,
    "start_time": "2022-01-07T20:36:07.694Z"
   },
   {
    "duration": 6,
    "start_time": "2022-01-07T20:36:07.718Z"
   },
   {
    "duration": 167190,
    "start_time": "2022-01-07T20:36:07.726Z"
   },
   {
    "duration": 383,
    "start_time": "2022-01-07T20:38:54.919Z"
   },
   {
    "duration": 24,
    "start_time": "2022-01-07T20:38:55.304Z"
   },
   {
    "duration": 31,
    "start_time": "2022-01-07T20:38:55.331Z"
   },
   {
    "duration": 14,
    "start_time": "2022-01-07T20:38:55.365Z"
   },
   {
    "duration": 21824,
    "start_time": "2022-01-07T20:38:55.383Z"
   },
   {
    "duration": 51,
    "start_time": "2022-01-07T20:39:17.210Z"
   },
   {
    "duration": 5322,
    "start_time": "2022-01-07T20:39:17.264Z"
   },
   {
    "duration": 112,
    "start_time": "2022-01-07T20:39:22.588Z"
   },
   {
    "duration": 7,
    "start_time": "2022-01-07T20:39:22.702Z"
   },
   {
    "duration": 125,
    "start_time": "2022-01-08T07:31:54.371Z"
   },
   {
    "duration": 250,
    "start_time": "2022-01-08T07:32:05.021Z"
   },
   {
    "duration": 19130,
    "start_time": "2022-01-08T07:32:18.712Z"
   },
   {
    "duration": 2267,
    "start_time": "2022-01-08T07:32:37.846Z"
   },
   {
    "duration": 28,
    "start_time": "2022-01-08T07:32:40.115Z"
   },
   {
    "duration": 12,
    "start_time": "2022-01-08T07:32:40.144Z"
   },
   {
    "duration": 11,
    "start_time": "2022-01-08T07:32:40.157Z"
   },
   {
    "duration": 11,
    "start_time": "2022-01-08T07:32:40.169Z"
   },
   {
    "duration": 4,
    "start_time": "2022-01-08T07:32:40.182Z"
   },
   {
    "duration": 8617,
    "start_time": "2022-01-08T07:32:40.187Z"
   },
   {
    "duration": 10,
    "start_time": "2022-01-08T07:32:48.806Z"
   },
   {
    "duration": 16,
    "start_time": "2022-01-08T07:32:48.818Z"
   },
   {
    "duration": 7,
    "start_time": "2022-01-08T07:32:48.835Z"
   },
   {
    "duration": 11,
    "start_time": "2022-01-08T07:32:48.843Z"
   },
   {
    "duration": 7,
    "start_time": "2022-01-08T07:32:48.855Z"
   },
   {
    "duration": 7,
    "start_time": "2022-01-08T07:32:48.863Z"
   },
   {
    "duration": 2,
    "start_time": "2022-01-08T07:32:48.872Z"
   },
   {
    "duration": 5,
    "start_time": "2022-01-08T07:32:48.876Z"
   },
   {
    "duration": 6,
    "start_time": "2022-01-08T07:32:48.882Z"
   },
   {
    "duration": 13,
    "start_time": "2022-01-08T07:32:48.890Z"
   },
   {
    "duration": 10,
    "start_time": "2022-01-08T07:32:48.904Z"
   },
   {
    "duration": 4,
    "start_time": "2022-01-08T07:32:48.915Z"
   },
   {
    "duration": 4,
    "start_time": "2022-01-08T07:32:48.921Z"
   },
   {
    "duration": 80608,
    "start_time": "2022-01-08T07:32:48.928Z"
   },
   {
    "duration": 419,
    "start_time": "2022-01-08T07:34:09.539Z"
   },
   {
    "duration": 13,
    "start_time": "2022-01-08T07:34:09.960Z"
   },
   {
    "duration": 3,
    "start_time": "2022-01-08T07:34:09.974Z"
   },
   {
    "duration": 12813,
    "start_time": "2022-01-08T07:34:09.979Z"
   },
   {
    "duration": 282,
    "start_time": "2022-01-08T07:34:22.794Z"
   },
   {
    "duration": 13,
    "start_time": "2022-01-08T07:34:23.077Z"
   },
   {
    "duration": 11,
    "start_time": "2022-01-08T07:34:23.091Z"
   },
   {
    "duration": 10524,
    "start_time": "2022-01-08T07:34:23.104Z"
   },
   {
    "duration": 250,
    "start_time": "2022-01-08T07:34:33.630Z"
   },
   {
    "duration": 13,
    "start_time": "2022-01-08T07:34:33.881Z"
   },
   {
    "duration": 4,
    "start_time": "2022-01-08T07:34:33.895Z"
   },
   {
    "duration": 123290,
    "start_time": "2022-01-08T07:34:33.900Z"
   },
   {
    "duration": 257,
    "start_time": "2022-01-08T07:36:37.191Z"
   },
   {
    "duration": 13,
    "start_time": "2022-01-08T07:36:37.450Z"
   },
   {
    "duration": 4,
    "start_time": "2022-01-08T07:36:37.464Z"
   },
   {
    "duration": 9,
    "start_time": "2022-01-08T07:36:37.469Z"
   },
   {
    "duration": 11417,
    "start_time": "2022-01-08T07:36:37.479Z"
   },
   {
    "duration": 12,
    "start_time": "2022-01-08T07:36:48.897Z"
   },
   {
    "duration": 2919,
    "start_time": "2022-01-08T07:36:48.910Z"
   },
   {
    "duration": 58,
    "start_time": "2022-01-08T07:36:51.831Z"
   },
   {
    "duration": 4,
    "start_time": "2022-01-08T07:36:51.890Z"
   },
   {
    "duration": 23608,
    "start_time": "2022-01-08T07:36:51.896Z"
   },
   {
    "duration": 221,
    "start_time": "2022-01-08T07:37:48.466Z"
   },
   {
    "duration": 9269,
    "start_time": "2022-01-08T07:39:11.026Z"
   },
   {
    "duration": 204,
    "start_time": "2022-01-08T07:39:52.954Z"
   },
   {
    "duration": 2264,
    "start_time": "2022-01-08T07:40:57.268Z"
   },
   {
    "duration": 2163,
    "start_time": "2022-01-08T07:42:26.038Z"
   },
   {
    "duration": 213,
    "start_time": "2022-01-08T07:43:52.678Z"
   },
   {
    "duration": 232,
    "start_time": "2022-01-08T07:44:11.690Z"
   },
   {
    "duration": 2495,
    "start_time": "2022-01-08T07:47:24.778Z"
   },
   {
    "duration": 1990,
    "start_time": "2022-01-08T07:47:27.275Z"
   },
   {
    "duration": 27,
    "start_time": "2022-01-08T07:47:29.267Z"
   },
   {
    "duration": 11,
    "start_time": "2022-01-08T07:47:29.296Z"
   },
   {
    "duration": 10,
    "start_time": "2022-01-08T07:47:29.308Z"
   },
   {
    "duration": 15,
    "start_time": "2022-01-08T07:47:29.320Z"
   },
   {
    "duration": 5,
    "start_time": "2022-01-08T07:47:29.336Z"
   },
   {
    "duration": 7767,
    "start_time": "2022-01-08T07:47:29.344Z"
   },
   {
    "duration": 27,
    "start_time": "2022-01-08T07:47:37.113Z"
   },
   {
    "duration": 12,
    "start_time": "2022-01-08T07:47:37.141Z"
   },
   {
    "duration": 9,
    "start_time": "2022-01-08T07:47:37.155Z"
   },
   {
    "duration": 9,
    "start_time": "2022-01-08T07:47:37.166Z"
   },
   {
    "duration": 54,
    "start_time": "2022-01-08T07:47:37.177Z"
   },
   {
    "duration": 9,
    "start_time": "2022-01-08T07:47:37.232Z"
   },
   {
    "duration": 3,
    "start_time": "2022-01-08T07:47:37.242Z"
   },
   {
    "duration": 6,
    "start_time": "2022-01-08T07:47:37.247Z"
   },
   {
    "duration": 8,
    "start_time": "2022-01-08T07:47:37.254Z"
   },
   {
    "duration": 11,
    "start_time": "2022-01-08T07:47:37.263Z"
   },
   {
    "duration": 9,
    "start_time": "2022-01-08T07:47:37.275Z"
   },
   {
    "duration": 4,
    "start_time": "2022-01-08T07:47:37.285Z"
   },
   {
    "duration": 5,
    "start_time": "2022-01-08T07:47:37.290Z"
   },
   {
    "duration": 79838,
    "start_time": "2022-01-08T07:47:37.296Z"
   },
   {
    "duration": 446,
    "start_time": "2022-01-08T07:48:57.139Z"
   },
   {
    "duration": 13,
    "start_time": "2022-01-08T07:48:57.587Z"
   },
   {
    "duration": 3,
    "start_time": "2022-01-08T07:48:57.601Z"
   },
   {
    "duration": 26149,
    "start_time": "2022-01-08T07:48:57.606Z"
   },
   {
    "duration": 221,
    "start_time": "2022-01-08T07:49:23.757Z"
   },
   {
    "duration": 12,
    "start_time": "2022-01-08T07:49:23.980Z"
   },
   {
    "duration": 3,
    "start_time": "2022-01-08T07:49:23.993Z"
   },
   {
    "duration": 7965,
    "start_time": "2022-01-08T07:49:23.997Z"
   },
   {
    "duration": 206,
    "start_time": "2022-01-08T07:49:31.963Z"
   },
   {
    "duration": 13,
    "start_time": "2022-01-08T07:49:32.170Z"
   },
   {
    "duration": 3,
    "start_time": "2022-01-08T07:49:32.184Z"
   },
   {
    "duration": 115977,
    "start_time": "2022-01-08T07:49:32.189Z"
   },
   {
    "duration": 267,
    "start_time": "2022-01-08T07:51:28.167Z"
   },
   {
    "duration": 13,
    "start_time": "2022-01-08T07:51:28.436Z"
   },
   {
    "duration": 3,
    "start_time": "2022-01-08T07:51:28.450Z"
   },
   {
    "duration": 10,
    "start_time": "2022-01-08T07:51:28.454Z"
   },
   {
    "duration": 10777,
    "start_time": "2022-01-08T07:51:28.465Z"
   },
   {
    "duration": 10,
    "start_time": "2022-01-08T07:51:39.244Z"
   },
   {
    "duration": 2780,
    "start_time": "2022-01-08T07:51:39.256Z"
   },
   {
    "duration": 58,
    "start_time": "2022-01-08T07:51:42.038Z"
   },
   {
    "duration": 4,
    "start_time": "2022-01-08T07:51:42.098Z"
   },
   {
    "duration": 2506,
    "start_time": "2022-01-08T08:04:08.767Z"
   },
   {
    "duration": 2181,
    "start_time": "2022-01-08T08:04:11.275Z"
   },
   {
    "duration": 28,
    "start_time": "2022-01-08T08:04:13.458Z"
   },
   {
    "duration": 12,
    "start_time": "2022-01-08T08:04:13.487Z"
   },
   {
    "duration": 10,
    "start_time": "2022-01-08T08:04:13.500Z"
   },
   {
    "duration": 16,
    "start_time": "2022-01-08T08:04:13.511Z"
   },
   {
    "duration": 4,
    "start_time": "2022-01-08T08:04:13.528Z"
   },
   {
    "duration": 8454,
    "start_time": "2022-01-08T08:04:13.534Z"
   },
   {
    "duration": 11,
    "start_time": "2022-01-08T08:04:21.989Z"
   },
   {
    "duration": 31,
    "start_time": "2022-01-08T08:04:22.001Z"
   },
   {
    "duration": 7,
    "start_time": "2022-01-08T08:04:22.034Z"
   },
   {
    "duration": 9,
    "start_time": "2022-01-08T08:04:22.043Z"
   },
   {
    "duration": 5,
    "start_time": "2022-01-08T08:04:22.053Z"
   },
   {
    "duration": 8,
    "start_time": "2022-01-08T08:04:22.060Z"
   },
   {
    "duration": 4,
    "start_time": "2022-01-08T08:04:22.069Z"
   },
   {
    "duration": 5,
    "start_time": "2022-01-08T08:04:22.075Z"
   },
   {
    "duration": 46,
    "start_time": "2022-01-08T08:04:22.082Z"
   },
   {
    "duration": 8,
    "start_time": "2022-01-08T08:04:22.130Z"
   },
   {
    "duration": 10,
    "start_time": "2022-01-08T08:04:22.139Z"
   },
   {
    "duration": 4,
    "start_time": "2022-01-08T08:04:22.150Z"
   },
   {
    "duration": 4,
    "start_time": "2022-01-08T08:04:22.156Z"
   },
   {
    "duration": 82672,
    "start_time": "2022-01-08T08:04:22.162Z"
   },
   {
    "duration": 446,
    "start_time": "2022-01-08T08:05:44.838Z"
   },
   {
    "duration": 13,
    "start_time": "2022-01-08T08:05:45.286Z"
   },
   {
    "duration": 3,
    "start_time": "2022-01-08T08:05:45.300Z"
   },
   {
    "duration": 26256,
    "start_time": "2022-01-08T08:05:45.305Z"
   },
   {
    "duration": 204,
    "start_time": "2022-01-08T08:06:11.563Z"
   },
   {
    "duration": 15,
    "start_time": "2022-01-08T08:06:11.769Z"
   },
   {
    "duration": 3,
    "start_time": "2022-01-08T08:06:11.785Z"
   },
   {
    "duration": 9485,
    "start_time": "2022-01-08T08:06:11.790Z"
   },
   {
    "duration": 200,
    "start_time": "2022-01-08T08:06:21.277Z"
   },
   {
    "duration": 57,
    "start_time": "2022-01-08T08:06:21.479Z"
   },
   {
    "duration": 3,
    "start_time": "2022-01-08T08:06:21.538Z"
   },
   {
    "duration": 116787,
    "start_time": "2022-01-08T08:06:21.543Z"
   },
   {
    "duration": 243,
    "start_time": "2022-01-08T08:08:18.332Z"
   },
   {
    "duration": 14,
    "start_time": "2022-01-08T08:08:18.577Z"
   },
   {
    "duration": 4,
    "start_time": "2022-01-08T08:08:18.592Z"
   },
   {
    "duration": 30,
    "start_time": "2022-01-08T08:08:18.598Z"
   },
   {
    "duration": 3294,
    "start_time": "2022-01-08T08:08:18.629Z"
   },
   {
    "duration": 866,
    "start_time": "2022-01-08T08:08:21.059Z"
   },
   {
    "duration": 865,
    "start_time": "2022-01-08T08:08:21.061Z"
   },
   {
    "duration": 863,
    "start_time": "2022-01-08T08:08:21.064Z"
   },
   {
    "duration": 863,
    "start_time": "2022-01-08T08:08:21.065Z"
   },
   {
    "duration": 3,
    "start_time": "2022-01-08T08:09:18.148Z"
   },
   {
    "duration": 3640,
    "start_time": "2022-01-08T08:10:13.100Z"
   },
   {
    "duration": 3947,
    "start_time": "2022-01-08T08:12:28.942Z"
   },
   {
    "duration": 316,
    "start_time": "2022-01-08T08:13:07.334Z"
   },
   {
    "duration": 2533,
    "start_time": "2022-01-08T08:17:51.680Z"
   },
   {
    "duration": 2120,
    "start_time": "2022-01-08T08:17:54.215Z"
   },
   {
    "duration": 28,
    "start_time": "2022-01-08T08:17:56.338Z"
   },
   {
    "duration": 11,
    "start_time": "2022-01-08T08:17:56.368Z"
   },
   {
    "duration": 10,
    "start_time": "2022-01-08T08:17:56.380Z"
   },
   {
    "duration": 11,
    "start_time": "2022-01-08T08:17:56.391Z"
   },
   {
    "duration": 4,
    "start_time": "2022-01-08T08:17:56.404Z"
   },
   {
    "duration": 8442,
    "start_time": "2022-01-08T08:17:56.409Z"
   },
   {
    "duration": 11,
    "start_time": "2022-01-08T08:18:04.852Z"
   },
   {
    "duration": 10,
    "start_time": "2022-01-08T08:18:04.864Z"
   },
   {
    "duration": 8,
    "start_time": "2022-01-08T08:18:04.875Z"
   },
   {
    "duration": 49,
    "start_time": "2022-01-08T08:18:04.884Z"
   },
   {
    "duration": 4,
    "start_time": "2022-01-08T08:18:04.935Z"
   },
   {
    "duration": 8,
    "start_time": "2022-01-08T08:18:04.941Z"
   },
   {
    "duration": 2,
    "start_time": "2022-01-08T08:18:04.951Z"
   },
   {
    "duration": 5,
    "start_time": "2022-01-08T08:18:04.955Z"
   },
   {
    "duration": 6,
    "start_time": "2022-01-08T08:18:04.961Z"
   },
   {
    "duration": 8,
    "start_time": "2022-01-08T08:18:04.968Z"
   },
   {
    "duration": 9,
    "start_time": "2022-01-08T08:18:04.977Z"
   },
   {
    "duration": 4,
    "start_time": "2022-01-08T08:18:04.987Z"
   },
   {
    "duration": 37,
    "start_time": "2022-01-08T08:18:04.993Z"
   },
   {
    "duration": 81803,
    "start_time": "2022-01-08T08:18:05.033Z"
   },
   {
    "duration": 447,
    "start_time": "2022-01-08T08:19:26.839Z"
   },
   {
    "duration": 13,
    "start_time": "2022-01-08T08:19:27.287Z"
   },
   {
    "duration": 4,
    "start_time": "2022-01-08T08:19:27.301Z"
   },
   {
    "duration": 23991,
    "start_time": "2022-01-08T08:19:27.306Z"
   },
   {
    "duration": 257,
    "start_time": "2022-01-08T08:19:51.299Z"
   },
   {
    "duration": 13,
    "start_time": "2022-01-08T08:19:51.558Z"
   },
   {
    "duration": 9,
    "start_time": "2022-01-08T08:19:51.572Z"
   },
   {
    "duration": 8026,
    "start_time": "2022-01-08T08:19:51.583Z"
   },
   {
    "duration": 248,
    "start_time": "2022-01-08T08:19:59.610Z"
   },
   {
    "duration": 13,
    "start_time": "2022-01-08T08:19:59.859Z"
   },
   {
    "duration": 3,
    "start_time": "2022-01-08T08:19:59.874Z"
   },
   {
    "duration": 129098,
    "start_time": "2022-01-08T08:19:59.879Z"
   },
   {
    "duration": 294,
    "start_time": "2022-01-08T08:22:08.979Z"
   },
   {
    "duration": 13,
    "start_time": "2022-01-08T08:22:09.274Z"
   },
   {
    "duration": 5,
    "start_time": "2022-01-08T08:22:09.288Z"
   },
   {
    "duration": 20,
    "start_time": "2022-01-08T08:22:09.294Z"
   },
   {
    "duration": 3,
    "start_time": "2022-01-08T08:22:09.316Z"
   },
   {
    "duration": 442,
    "start_time": "2022-01-08T08:22:09.327Z"
   },
   {
    "duration": 883,
    "start_time": "2022-01-08T08:22:08.888Z"
   },
   {
    "duration": 881,
    "start_time": "2022-01-08T08:22:08.890Z"
   },
   {
    "duration": 879,
    "start_time": "2022-01-08T08:22:08.893Z"
   },
   {
    "duration": 877,
    "start_time": "2022-01-08T08:22:08.896Z"
   },
   {
    "duration": 875,
    "start_time": "2022-01-08T08:22:08.899Z"
   },
   {
    "duration": 2502,
    "start_time": "2022-01-08T08:26:13.394Z"
   },
   {
    "duration": 1997,
    "start_time": "2022-01-08T08:26:15.898Z"
   },
   {
    "duration": 28,
    "start_time": "2022-01-08T08:26:17.897Z"
   },
   {
    "duration": 10,
    "start_time": "2022-01-08T08:26:17.927Z"
   },
   {
    "duration": 11,
    "start_time": "2022-01-08T08:26:17.939Z"
   },
   {
    "duration": 10,
    "start_time": "2022-01-08T08:26:17.951Z"
   },
   {
    "duration": 5,
    "start_time": "2022-01-08T08:26:17.963Z"
   },
   {
    "duration": 8446,
    "start_time": "2022-01-08T08:26:17.971Z"
   },
   {
    "duration": 16,
    "start_time": "2022-01-08T08:26:26.419Z"
   },
   {
    "duration": 10,
    "start_time": "2022-01-08T08:26:26.437Z"
   },
   {
    "duration": 10,
    "start_time": "2022-01-08T08:26:26.448Z"
   },
   {
    "duration": 9,
    "start_time": "2022-01-08T08:26:26.459Z"
   },
   {
    "duration": 4,
    "start_time": "2022-01-08T08:26:26.469Z"
   },
   {
    "duration": 7,
    "start_time": "2022-01-08T08:26:26.474Z"
   },
   {
    "duration": 45,
    "start_time": "2022-01-08T08:26:26.483Z"
   },
   {
    "duration": 5,
    "start_time": "2022-01-08T08:26:26.529Z"
   },
   {
    "duration": 6,
    "start_time": "2022-01-08T08:26:26.535Z"
   },
   {
    "duration": 9,
    "start_time": "2022-01-08T08:26:26.542Z"
   },
   {
    "duration": 10,
    "start_time": "2022-01-08T08:26:26.552Z"
   },
   {
    "duration": 7,
    "start_time": "2022-01-08T08:26:26.563Z"
   },
   {
    "duration": 7,
    "start_time": "2022-01-08T08:26:26.571Z"
   },
   {
    "duration": 82451,
    "start_time": "2022-01-08T08:26:26.579Z"
   },
   {
    "duration": 440,
    "start_time": "2022-01-08T08:27:49.034Z"
   },
   {
    "duration": 13,
    "start_time": "2022-01-08T08:27:49.475Z"
   },
   {
    "duration": 4,
    "start_time": "2022-01-08T08:27:49.489Z"
   },
   {
    "duration": 24241,
    "start_time": "2022-01-08T08:27:49.494Z"
   },
   {
    "duration": 251,
    "start_time": "2022-01-08T08:28:13.736Z"
   },
   {
    "duration": 13,
    "start_time": "2022-01-08T08:28:13.988Z"
   },
   {
    "duration": 3,
    "start_time": "2022-01-08T08:28:14.002Z"
   },
   {
    "duration": 8215,
    "start_time": "2022-01-08T08:28:14.006Z"
   },
   {
    "duration": 260,
    "start_time": "2022-01-08T08:28:22.227Z"
   },
   {
    "duration": 13,
    "start_time": "2022-01-08T08:28:22.488Z"
   },
   {
    "duration": 4,
    "start_time": "2022-01-08T08:28:22.502Z"
   },
   {
    "duration": 21,
    "start_time": "2022-01-08T08:28:22.507Z"
   },
   {
    "duration": 533,
    "start_time": "2022-01-08T08:28:22.529Z"
   },
   {
    "duration": 884,
    "start_time": "2022-01-08T08:28:22.179Z"
   },
   {
    "duration": 883,
    "start_time": "2022-01-08T08:28:22.181Z"
   },
   {
    "duration": 9951,
    "start_time": "2022-01-08T08:30:31.977Z"
   },
   {
    "duration": 323,
    "start_time": "2022-01-08T08:31:03.666Z"
   },
   {
    "duration": 381,
    "start_time": "2022-01-08T08:31:17.762Z"
   },
   {
    "duration": 321,
    "start_time": "2022-01-08T08:31:31.155Z"
   },
   {
    "duration": 5,
    "start_time": "2022-01-08T08:32:58.339Z"
   },
   {
    "duration": 4,
    "start_time": "2022-01-08T08:33:11.532Z"
   },
   {
    "duration": 263,
    "start_time": "2022-01-08T08:33:45.292Z"
   },
   {
    "duration": 85,
    "start_time": "2022-01-08T08:35:11.933Z"
   },
   {
    "duration": 339,
    "start_time": "2022-01-08T08:35:34.638Z"
   },
   {
    "duration": 326,
    "start_time": "2022-01-08T08:37:05.695Z"
   },
   {
    "duration": 322,
    "start_time": "2022-01-08T08:38:47.456Z"
   },
   {
    "duration": 2492,
    "start_time": "2022-01-08T08:43:34.041Z"
   },
   {
    "duration": 2048,
    "start_time": "2022-01-08T08:43:36.535Z"
   },
   {
    "duration": 28,
    "start_time": "2022-01-08T08:43:38.585Z"
   },
   {
    "duration": 12,
    "start_time": "2022-01-08T08:43:38.615Z"
   },
   {
    "duration": 10,
    "start_time": "2022-01-08T08:43:38.628Z"
   },
   {
    "duration": 14,
    "start_time": "2022-01-08T08:43:38.639Z"
   },
   {
    "duration": 3,
    "start_time": "2022-01-08T08:43:38.654Z"
   },
   {
    "duration": 7953,
    "start_time": "2022-01-08T08:43:38.659Z"
   },
   {
    "duration": 19,
    "start_time": "2022-01-08T08:43:46.615Z"
   },
   {
    "duration": 14,
    "start_time": "2022-01-08T08:43:46.636Z"
   },
   {
    "duration": 12,
    "start_time": "2022-01-08T08:43:46.652Z"
   },
   {
    "duration": 11,
    "start_time": "2022-01-08T08:43:46.666Z"
   },
   {
    "duration": 10,
    "start_time": "2022-01-08T08:43:46.678Z"
   },
   {
    "duration": 38,
    "start_time": "2022-01-08T08:43:46.689Z"
   },
   {
    "duration": 3,
    "start_time": "2022-01-08T08:43:46.729Z"
   },
   {
    "duration": 9,
    "start_time": "2022-01-08T08:43:46.733Z"
   },
   {
    "duration": 9,
    "start_time": "2022-01-08T08:43:46.744Z"
   },
   {
    "duration": 12,
    "start_time": "2022-01-08T08:43:46.754Z"
   },
   {
    "duration": 12,
    "start_time": "2022-01-08T08:43:46.768Z"
   },
   {
    "duration": 6,
    "start_time": "2022-01-08T08:43:46.782Z"
   },
   {
    "duration": 37,
    "start_time": "2022-01-08T08:43:46.790Z"
   },
   {
    "duration": 83199,
    "start_time": "2022-01-08T08:43:46.829Z"
   },
   {
    "duration": 335,
    "start_time": "2022-01-08T08:45:10.035Z"
   },
   {
    "duration": 14,
    "start_time": "2022-01-08T08:45:10.372Z"
   },
   {
    "duration": 3,
    "start_time": "2022-01-08T08:45:10.387Z"
   },
   {
    "duration": 23946,
    "start_time": "2022-01-08T08:45:10.392Z"
   },
   {
    "duration": 248,
    "start_time": "2022-01-08T08:45:34.340Z"
   },
   {
    "duration": 13,
    "start_time": "2022-01-08T08:45:34.590Z"
   },
   {
    "duration": 3,
    "start_time": "2022-01-08T08:45:34.605Z"
   },
   {
    "duration": 8057,
    "start_time": "2022-01-08T08:45:34.609Z"
   },
   {
    "duration": 207,
    "start_time": "2022-01-08T08:45:42.668Z"
   },
   {
    "duration": 14,
    "start_time": "2022-01-08T08:45:42.877Z"
   },
   {
    "duration": 36,
    "start_time": "2022-01-08T08:45:42.892Z"
   },
   {
    "duration": 12,
    "start_time": "2022-01-08T08:45:42.930Z"
   },
   {
    "duration": 118,
    "start_time": "2022-01-08T08:45:42.944Z"
   },
   {
    "duration": 655,
    "start_time": "2022-01-08T08:45:43.064Z"
   },
   {
    "duration": 41,
    "start_time": "2022-01-08T08:45:43.721Z"
   },
   {
    "duration": 5,
    "start_time": "2022-01-08T08:45:43.763Z"
   },
   {
    "duration": 4,
    "start_time": "2022-01-08T08:46:54.611Z"
   },
   {
    "duration": 986,
    "start_time": "2022-01-08T08:48:52.543Z"
   },
   {
    "duration": 7,
    "start_time": "2022-01-08T09:00:39.549Z"
   },
   {
    "duration": 1757,
    "start_time": "2022-01-08T09:04:43.370Z"
   },
   {
    "duration": 1499,
    "start_time": "2022-01-08T09:04:56.546Z"
   },
   {
    "duration": 1284,
    "start_time": "2022-01-08T09:05:41.322Z"
   },
   {
    "duration": 1436,
    "start_time": "2022-01-08T09:05:57.835Z"
   },
   {
    "duration": 1137,
    "start_time": "2022-01-08T09:07:07.860Z"
   },
   {
    "duration": 1202,
    "start_time": "2022-01-08T09:07:26.900Z"
   },
   {
    "duration": 1185,
    "start_time": "2022-01-08T09:09:16.398Z"
   },
   {
    "duration": 1615,
    "start_time": "2022-01-08T09:10:21.558Z"
   },
   {
    "duration": 1593,
    "start_time": "2022-01-08T09:11:57.592Z"
   },
   {
    "duration": 1518,
    "start_time": "2022-01-08T09:12:47.553Z"
   },
   {
    "duration": 1206,
    "start_time": "2022-01-08T09:13:05.737Z"
   },
   {
    "duration": 1192,
    "start_time": "2022-01-08T09:13:34.441Z"
   },
   {
    "duration": 1187,
    "start_time": "2022-01-08T09:13:59.113Z"
   },
   {
    "duration": 1198,
    "start_time": "2022-01-08T09:14:35.073Z"
   },
   {
    "duration": 1208,
    "start_time": "2022-01-08T09:15:07.835Z"
   },
   {
    "duration": 1248,
    "start_time": "2022-01-08T09:15:17.947Z"
   },
   {
    "duration": 2617,
    "start_time": "2022-01-08T09:17:33.202Z"
   },
   {
    "duration": 6133,
    "start_time": "2022-01-08T09:19:41.917Z"
   },
   {
    "duration": 6422,
    "start_time": "2022-01-08T09:20:45.930Z"
   },
   {
    "duration": 1154,
    "start_time": "2022-01-08T09:28:05.994Z"
   },
   {
    "duration": 4,
    "start_time": "2022-01-08T09:40:27.787Z"
   },
   {
    "duration": 2462,
    "start_time": "2022-01-08T09:41:04.900Z"
   },
   {
    "duration": 2015,
    "start_time": "2022-01-08T09:41:07.367Z"
   },
   {
    "duration": 28,
    "start_time": "2022-01-08T09:41:09.384Z"
   },
   {
    "duration": 10,
    "start_time": "2022-01-08T09:41:09.414Z"
   },
   {
    "duration": 10,
    "start_time": "2022-01-08T09:41:09.425Z"
   },
   {
    "duration": 12,
    "start_time": "2022-01-08T09:41:09.436Z"
   },
   {
    "duration": 3,
    "start_time": "2022-01-08T09:41:09.450Z"
   },
   {
    "duration": 8678,
    "start_time": "2022-01-08T09:41:09.455Z"
   },
   {
    "duration": 11,
    "start_time": "2022-01-08T09:41:18.134Z"
   },
   {
    "duration": 10,
    "start_time": "2022-01-08T09:41:18.147Z"
   },
   {
    "duration": 8,
    "start_time": "2022-01-08T09:41:18.158Z"
   },
   {
    "duration": 8,
    "start_time": "2022-01-08T09:41:18.167Z"
   },
   {
    "duration": 5,
    "start_time": "2022-01-08T09:41:18.177Z"
   },
   {
    "duration": 50,
    "start_time": "2022-01-08T09:41:18.183Z"
   },
   {
    "duration": 3,
    "start_time": "2022-01-08T09:41:18.235Z"
   },
   {
    "duration": 11,
    "start_time": "2022-01-08T09:41:18.239Z"
   },
   {
    "duration": 5,
    "start_time": "2022-01-08T09:41:18.251Z"
   },
   {
    "duration": 9,
    "start_time": "2022-01-08T09:41:18.257Z"
   },
   {
    "duration": 10,
    "start_time": "2022-01-08T09:41:18.267Z"
   },
   {
    "duration": 4,
    "start_time": "2022-01-08T09:41:18.278Z"
   },
   {
    "duration": 5,
    "start_time": "2022-01-08T09:41:18.284Z"
   },
   {
    "duration": 83044,
    "start_time": "2022-01-08T09:41:18.291Z"
   },
   {
    "duration": 437,
    "start_time": "2022-01-08T09:42:41.338Z"
   },
   {
    "duration": 18,
    "start_time": "2022-01-08T09:42:41.776Z"
   },
   {
    "duration": 6,
    "start_time": "2022-01-08T09:42:41.796Z"
   },
   {
    "duration": 24413,
    "start_time": "2022-01-08T09:42:41.804Z"
   },
   {
    "duration": 240,
    "start_time": "2022-01-08T09:43:06.219Z"
   },
   {
    "duration": 13,
    "start_time": "2022-01-08T09:43:06.461Z"
   },
   {
    "duration": 3,
    "start_time": "2022-01-08T09:43:06.475Z"
   },
   {
    "duration": 8285,
    "start_time": "2022-01-08T09:43:06.480Z"
   },
   {
    "duration": 214,
    "start_time": "2022-01-08T09:43:14.767Z"
   },
   {
    "duration": 12,
    "start_time": "2022-01-08T09:43:14.983Z"
   },
   {
    "duration": 32,
    "start_time": "2022-01-08T09:43:14.997Z"
   },
   {
    "duration": 10,
    "start_time": "2022-01-08T09:43:15.030Z"
   },
   {
    "duration": 5,
    "start_time": "2022-01-08T09:43:15.042Z"
   },
   {
    "duration": 5914,
    "start_time": "2022-01-08T09:43:15.048Z"
   },
   {
    "duration": 1161,
    "start_time": "2022-01-08T09:43:20.963Z"
   },
   {
    "duration": 3,
    "start_time": "2022-01-08T09:43:22.127Z"
   },
   {
    "duration": 2294,
    "start_time": "2022-01-08T09:45:41.045Z"
   },
   {
    "duration": 6358,
    "start_time": "2022-01-08T09:56:23.981Z"
   },
   {
    "duration": 5949,
    "start_time": "2022-01-08T10:00:05.080Z"
   },
   {
    "duration": 124,
    "start_time": "2022-01-08T10:00:20.053Z"
   },
   {
    "duration": 438,
    "start_time": "2022-01-08T10:00:33.257Z"
   },
   {
    "duration": 6342,
    "start_time": "2022-01-08T10:03:10.627Z"
   },
   {
    "duration": 416,
    "start_time": "2022-01-08T10:03:16.971Z"
   },
   {
    "duration": 6178,
    "start_time": "2022-01-08T10:04:56.268Z"
   },
   {
    "duration": 328,
    "start_time": "2022-01-08T10:05:09.516Z"
   },
   {
    "duration": 323,
    "start_time": "2022-01-08T10:05:21.964Z"
   },
   {
    "duration": 329,
    "start_time": "2022-01-08T10:05:26.204Z"
   },
   {
    "duration": 720,
    "start_time": "2022-01-08T10:10:30.624Z"
   },
   {
    "duration": 827,
    "start_time": "2022-01-08T10:10:58.861Z"
   },
   {
    "duration": 5939,
    "start_time": "2022-01-08T10:11:47.096Z"
   },
   {
    "duration": 720,
    "start_time": "2022-01-08T10:11:58.356Z"
   },
   {
    "duration": 2421,
    "start_time": "2022-01-08T10:13:49.848Z"
   },
   {
    "duration": 2054,
    "start_time": "2022-01-08T10:13:52.271Z"
   },
   {
    "duration": 35,
    "start_time": "2022-01-08T10:13:54.328Z"
   },
   {
    "duration": 12,
    "start_time": "2022-01-08T10:13:54.365Z"
   },
   {
    "duration": 10,
    "start_time": "2022-01-08T10:13:54.379Z"
   },
   {
    "duration": 10,
    "start_time": "2022-01-08T10:13:54.391Z"
   },
   {
    "duration": 4,
    "start_time": "2022-01-08T10:13:54.402Z"
   },
   {
    "duration": 9100,
    "start_time": "2022-01-08T10:13:54.428Z"
   },
   {
    "duration": 10,
    "start_time": "2022-01-08T10:14:03.530Z"
   },
   {
    "duration": 7,
    "start_time": "2022-01-08T10:14:03.542Z"
   },
   {
    "duration": 9,
    "start_time": "2022-01-08T10:14:03.550Z"
   },
   {
    "duration": 8,
    "start_time": "2022-01-08T10:14:03.560Z"
   },
   {
    "duration": 5,
    "start_time": "2022-01-08T10:14:03.569Z"
   },
   {
    "duration": 52,
    "start_time": "2022-01-08T10:14:03.575Z"
   },
   {
    "duration": 3,
    "start_time": "2022-01-08T10:14:03.629Z"
   },
   {
    "duration": 10,
    "start_time": "2022-01-08T10:14:03.633Z"
   },
   {
    "duration": 5,
    "start_time": "2022-01-08T10:14:03.644Z"
   },
   {
    "duration": 8,
    "start_time": "2022-01-08T10:14:03.651Z"
   },
   {
    "duration": 10,
    "start_time": "2022-01-08T10:14:03.661Z"
   },
   {
    "duration": 9,
    "start_time": "2022-01-08T10:14:03.673Z"
   },
   {
    "duration": 7,
    "start_time": "2022-01-08T10:14:03.683Z"
   },
   {
    "duration": 81346,
    "start_time": "2022-01-08T10:14:03.692Z"
   },
   {
    "duration": 342,
    "start_time": "2022-01-08T10:15:25.130Z"
   },
   {
    "duration": 13,
    "start_time": "2022-01-08T10:15:25.474Z"
   },
   {
    "duration": 6,
    "start_time": "2022-01-08T10:15:25.488Z"
   },
   {
    "duration": 24176,
    "start_time": "2022-01-08T10:15:25.496Z"
   },
   {
    "duration": 261,
    "start_time": "2022-01-08T10:15:49.674Z"
   },
   {
    "duration": 13,
    "start_time": "2022-01-08T10:15:49.936Z"
   },
   {
    "duration": 3,
    "start_time": "2022-01-08T10:15:49.950Z"
   },
   {
    "duration": 8077,
    "start_time": "2022-01-08T10:15:49.955Z"
   },
   {
    "duration": 249,
    "start_time": "2022-01-08T10:15:58.033Z"
   },
   {
    "duration": 13,
    "start_time": "2022-01-08T10:15:58.283Z"
   },
   {
    "duration": 3,
    "start_time": "2022-01-08T10:15:58.297Z"
   },
   {
    "duration": 26,
    "start_time": "2022-01-08T10:15:58.301Z"
   },
   {
    "duration": 4,
    "start_time": "2022-01-08T10:15:58.328Z"
   },
   {
    "duration": 5975,
    "start_time": "2022-01-08T10:15:58.333Z"
   },
   {
    "duration": 703,
    "start_time": "2022-01-08T10:16:04.310Z"
   },
   {
    "duration": 3,
    "start_time": "2022-01-08T10:16:05.015Z"
   },
   {
    "duration": 9,
    "start_time": "2022-01-08T10:21:03.544Z"
   },
   {
    "duration": 2675,
    "start_time": "2022-01-08T10:23:12.912Z"
   },
   {
    "duration": 2499,
    "start_time": "2022-01-08T10:23:15.589Z"
   },
   {
    "duration": 36,
    "start_time": "2022-01-08T10:23:18.090Z"
   },
   {
    "duration": 17,
    "start_time": "2022-01-08T10:23:18.128Z"
   },
   {
    "duration": 15,
    "start_time": "2022-01-08T10:23:18.147Z"
   },
   {
    "duration": 16,
    "start_time": "2022-01-08T10:23:18.164Z"
   },
   {
    "duration": 9010,
    "start_time": "2022-01-08T10:23:18.181Z"
   },
   {
    "duration": 34,
    "start_time": "2022-01-08T10:23:27.194Z"
   },
   {
    "duration": 11,
    "start_time": "2022-01-08T10:23:27.231Z"
   },
   {
    "duration": 9,
    "start_time": "2022-01-08T10:23:27.243Z"
   },
   {
    "duration": 10,
    "start_time": "2022-01-08T10:23:27.253Z"
   },
   {
    "duration": 11,
    "start_time": "2022-01-08T10:23:27.264Z"
   },
   {
    "duration": 51,
    "start_time": "2022-01-08T10:23:27.276Z"
   },
   {
    "duration": 8,
    "start_time": "2022-01-08T10:23:27.329Z"
   },
   {
    "duration": 6,
    "start_time": "2022-01-08T10:23:27.339Z"
   },
   {
    "duration": 9,
    "start_time": "2022-01-08T10:23:27.347Z"
   },
   {
    "duration": 10,
    "start_time": "2022-01-08T10:23:27.358Z"
   },
   {
    "duration": 14,
    "start_time": "2022-01-08T10:23:27.370Z"
   },
   {
    "duration": 11,
    "start_time": "2022-01-08T10:23:27.385Z"
   },
   {
    "duration": 30,
    "start_time": "2022-01-08T10:23:27.398Z"
   },
   {
    "duration": 7,
    "start_time": "2022-01-08T10:23:27.429Z"
   },
   {
    "duration": 87217,
    "start_time": "2022-01-08T10:23:27.437Z"
   },
   {
    "duration": 441,
    "start_time": "2022-01-08T10:24:54.658Z"
   },
   {
    "duration": 26,
    "start_time": "2022-01-08T10:24:55.101Z"
   },
   {
    "duration": 5,
    "start_time": "2022-01-08T10:24:55.129Z"
   },
   {
    "duration": 26460,
    "start_time": "2022-01-08T10:24:55.136Z"
   },
   {
    "duration": 278,
    "start_time": "2022-01-08T10:25:21.598Z"
   },
   {
    "duration": 13,
    "start_time": "2022-01-08T10:25:21.877Z"
   },
   {
    "duration": 4,
    "start_time": "2022-01-08T10:25:21.892Z"
   },
   {
    "duration": 8175,
    "start_time": "2022-01-08T10:25:21.897Z"
   },
   {
    "duration": 257,
    "start_time": "2022-01-08T10:25:30.073Z"
   },
   {
    "duration": 14,
    "start_time": "2022-01-08T10:25:30.332Z"
   },
   {
    "duration": 13,
    "start_time": "2022-01-08T10:25:30.347Z"
   },
   {
    "duration": 14,
    "start_time": "2022-01-08T10:25:30.362Z"
   },
   {
    "duration": 12,
    "start_time": "2022-01-08T10:25:30.377Z"
   },
   {
    "duration": 5990,
    "start_time": "2022-01-08T10:25:30.390Z"
   },
   {
    "duration": 714,
    "start_time": "2022-01-08T10:25:36.382Z"
   },
   {
    "duration": 3,
    "start_time": "2022-01-08T10:25:37.098Z"
   },
   {
    "duration": 4,
    "start_time": "2022-01-08T12:39:02.627Z"
   },
   {
    "duration": 11,
    "start_time": "2022-01-08T12:39:05.923Z"
   },
   {
    "duration": 4,
    "start_time": "2022-01-08T12:39:35.091Z"
   },
   {
    "duration": 6,
    "start_time": "2022-01-08T12:41:12.180Z"
   },
   {
    "duration": 119,
    "start_time": "2022-01-08T12:41:32.125Z"
   },
   {
    "duration": 101,
    "start_time": "2022-01-08T12:41:37.453Z"
   },
   {
    "duration": 6,
    "start_time": "2022-01-08T12:41:45.429Z"
   },
   {
    "duration": 561,
    "start_time": "2022-01-08T12:42:47.133Z"
   },
   {
    "duration": 10,
    "start_time": "2022-01-08T12:43:08.974Z"
   },
   {
    "duration": 126,
    "start_time": "2022-01-08T12:53:31.855Z"
   },
   {
    "duration": 78239,
    "start_time": "2022-01-08T12:54:14.496Z"
   },
   {
    "duration": 7,
    "start_time": "2022-01-08T13:07:29.321Z"
   },
   {
    "duration": 321,
    "start_time": "2022-01-08T13:10:05.772Z"
   },
   {
    "duration": 109,
    "start_time": "2022-01-08T13:13:07.455Z"
   },
   {
    "duration": 104,
    "start_time": "2022-01-08T13:13:21.246Z"
   },
   {
    "duration": 1031,
    "start_time": "2022-01-08T13:13:31.318Z"
   },
   {
    "duration": 130,
    "start_time": "2022-01-08T13:25:40.273Z"
   },
   {
    "duration": 121,
    "start_time": "2022-01-08T13:26:58.539Z"
   },
   {
    "duration": 119,
    "start_time": "2022-01-08T13:27:12.914Z"
   },
   {
    "duration": 119,
    "start_time": "2022-01-08T13:28:47.124Z"
   },
   {
    "duration": 120,
    "start_time": "2022-01-08T13:29:13.435Z"
   },
   {
    "duration": 142,
    "start_time": "2022-01-08T13:29:33.509Z"
   },
   {
    "duration": 229,
    "start_time": "2022-01-08T13:29:51.155Z"
   },
   {
    "duration": 254,
    "start_time": "2022-01-08T13:30:15.891Z"
   },
   {
    "duration": 14649,
    "start_time": "2022-01-08T13:30:51.990Z"
   },
   {
    "duration": 14767,
    "start_time": "2022-01-08T13:36:18.664Z"
   },
   {
    "duration": 325,
    "start_time": "2022-01-08T13:37:55.378Z"
   },
   {
    "duration": 7,
    "start_time": "2022-01-08T13:38:11.763Z"
   },
   {
    "duration": 15198,
    "start_time": "2022-01-08T13:40:51.741Z"
   },
   {
    "duration": 14532,
    "start_time": "2022-01-08T13:41:34.397Z"
   },
   {
    "duration": 6,
    "start_time": "2022-01-08T13:42:14.452Z"
   },
   {
    "duration": 14702,
    "start_time": "2022-01-08T13:42:23.926Z"
   },
   {
    "duration": 7,
    "start_time": "2022-01-08T13:46:05.055Z"
   },
   {
    "duration": 15518,
    "start_time": "2022-01-08T13:46:19.921Z"
   },
   {
    "duration": 6,
    "start_time": "2022-01-08T13:48:06.584Z"
   },
   {
    "duration": 7,
    "start_time": "2022-01-08T13:48:39.881Z"
   },
   {
    "duration": 6,
    "start_time": "2022-01-08T13:48:48.801Z"
   },
   {
    "duration": 6,
    "start_time": "2022-01-08T13:49:03.570Z"
   },
   {
    "duration": 351,
    "start_time": "2022-01-08T13:49:23.418Z"
   },
   {
    "duration": 7,
    "start_time": "2022-01-08T13:51:15.451Z"
   },
   {
    "duration": 8,
    "start_time": "2022-01-08T13:53:44.228Z"
   },
   {
    "duration": 14792,
    "start_time": "2022-01-08T13:53:59.543Z"
   },
   {
    "duration": 7,
    "start_time": "2022-01-08T13:58:28.980Z"
   },
   {
    "duration": 14929,
    "start_time": "2022-01-08T13:59:30.621Z"
   },
   {
    "duration": 14763,
    "start_time": "2022-01-08T13:59:54.869Z"
   },
   {
    "duration": 6,
    "start_time": "2022-01-08T14:02:22.919Z"
   },
   {
    "duration": 14678,
    "start_time": "2022-01-08T14:02:40.056Z"
   },
   {
    "duration": 333,
    "start_time": "2022-01-08T14:19:49.260Z"
   },
   {
    "duration": 5,
    "start_time": "2022-01-08T14:20:03.021Z"
   },
   {
    "duration": 6,
    "start_time": "2022-01-08T14:20:05.820Z"
   },
   {
    "duration": 4,
    "start_time": "2022-01-08T14:20:20.308Z"
   },
   {
    "duration": 6,
    "start_time": "2022-01-08T14:20:21.107Z"
   },
   {
    "duration": 6,
    "start_time": "2022-01-08T16:07:25.966Z"
   },
   {
    "duration": 14819,
    "start_time": "2022-01-08T16:07:37.416Z"
   },
   {
    "duration": 9,
    "start_time": "2022-01-08T16:08:57.519Z"
   },
   {
    "duration": 7,
    "start_time": "2022-01-08T16:10:23.230Z"
   },
   {
    "duration": 6,
    "start_time": "2022-01-08T16:10:31.159Z"
   },
   {
    "duration": 14968,
    "start_time": "2022-01-08T16:10:52.569Z"
   },
   {
    "duration": 9,
    "start_time": "2022-01-08T16:12:29.488Z"
   },
   {
    "duration": 7,
    "start_time": "2022-01-08T16:12:32.121Z"
   },
   {
    "duration": 14633,
    "start_time": "2022-01-08T16:12:40.605Z"
   },
   {
    "duration": 6,
    "start_time": "2022-01-08T16:13:49.106Z"
   },
   {
    "duration": 243,
    "start_time": "2022-01-08T16:18:27.798Z"
   },
   {
    "duration": 6,
    "start_time": "2022-01-08T16:19:07.892Z"
   },
   {
    "duration": 583,
    "start_time": "2022-01-08T16:19:22.255Z"
   },
   {
    "duration": 477,
    "start_time": "2022-01-08T16:20:31.513Z"
   },
   {
    "duration": 18292,
    "start_time": "2022-01-08T16:21:11.536Z"
   },
   {
    "duration": 18828,
    "start_time": "2022-01-08T16:21:39.008Z"
   },
   {
    "duration": 19103,
    "start_time": "2022-01-08T16:22:41.726Z"
   },
   {
    "duration": 19047,
    "start_time": "2022-01-08T16:23:24.689Z"
   },
   {
    "duration": 5,
    "start_time": "2022-01-08T16:24:58.002Z"
   },
   {
    "duration": 6,
    "start_time": "2022-01-08T16:25:03.899Z"
   },
   {
    "duration": 7,
    "start_time": "2022-01-08T16:25:32.682Z"
   },
   {
    "duration": 7,
    "start_time": "2022-01-08T16:25:33.586Z"
   },
   {
    "duration": 8,
    "start_time": "2022-01-08T16:25:34.114Z"
   },
   {
    "duration": 8,
    "start_time": "2022-01-08T16:26:28.178Z"
   },
   {
    "duration": 6,
    "start_time": "2022-01-08T16:26:28.619Z"
   },
   {
    "duration": 6,
    "start_time": "2022-01-08T16:26:29.099Z"
   },
   {
    "duration": 331,
    "start_time": "2022-01-08T16:26:48.571Z"
   },
   {
    "duration": 8,
    "start_time": "2022-01-08T16:32:44.024Z"
   },
   {
    "duration": 6,
    "start_time": "2022-01-08T16:33:00.664Z"
   },
   {
    "duration": 8,
    "start_time": "2022-01-08T16:33:52.481Z"
   },
   {
    "duration": 7,
    "start_time": "2022-01-08T16:33:54.088Z"
   },
   {
    "duration": 7,
    "start_time": "2022-01-08T16:33:54.704Z"
   },
   {
    "duration": 9,
    "start_time": "2022-01-08T16:33:57.409Z"
   },
   {
    "duration": 341,
    "start_time": "2022-01-08T16:34:08.120Z"
   },
   {
    "duration": 392,
    "start_time": "2022-01-08T16:34:25.697Z"
   },
   {
    "duration": 8,
    "start_time": "2022-01-08T16:35:03.634Z"
   },
   {
    "duration": 419,
    "start_time": "2022-01-08T16:35:15.922Z"
   },
   {
    "duration": 5,
    "start_time": "2022-01-08T16:35:28.513Z"
   },
   {
    "duration": 3,
    "start_time": "2022-01-08T16:35:53.971Z"
   },
   {
    "duration": 7,
    "start_time": "2022-01-08T16:36:00.354Z"
   },
   {
    "duration": 393,
    "start_time": "2022-01-08T16:36:46.443Z"
   },
   {
    "duration": 351,
    "start_time": "2022-01-08T16:36:52.635Z"
   },
   {
    "duration": 7,
    "start_time": "2022-01-08T16:38:51.524Z"
   },
   {
    "duration": 7,
    "start_time": "2022-01-08T16:39:55.133Z"
   },
   {
    "duration": 7,
    "start_time": "2022-01-08T16:39:55.941Z"
   },
   {
    "duration": 222,
    "start_time": "2022-01-08T16:41:20.767Z"
   },
   {
    "duration": 14876,
    "start_time": "2022-01-08T16:42:29.766Z"
   },
   {
    "duration": 9,
    "start_time": "2022-01-08T16:44:49.424Z"
   },
   {
    "duration": 18674,
    "start_time": "2022-01-08T16:46:39.355Z"
   },
   {
    "duration": 10,
    "start_time": "2022-01-08T16:47:09.082Z"
   },
   {
    "duration": 8,
    "start_time": "2022-01-08T16:47:12.134Z"
   },
   {
    "duration": 9,
    "start_time": "2022-01-08T16:47:40.171Z"
   },
   {
    "duration": 18260,
    "start_time": "2022-01-08T16:48:12.468Z"
   },
   {
    "duration": 11,
    "start_time": "2022-01-08T16:50:00.166Z"
   },
   {
    "duration": 72244,
    "start_time": "2022-01-08T17:00:53.085Z"
   },
   {
    "duration": 79182,
    "start_time": "2022-01-08T17:03:13.350Z"
   },
   {
    "duration": 20476,
    "start_time": "2022-01-08T17:05:51.552Z"
   },
   {
    "duration": 108,
    "start_time": "2022-01-08T17:12:48.573Z"
   },
   {
    "duration": 109,
    "start_time": "2022-01-08T17:13:02.148Z"
   },
   {
    "duration": 332,
    "start_time": "2022-01-08T17:14:48.224Z"
   },
   {
    "duration": 4,
    "start_time": "2022-01-08T17:15:13.944Z"
   },
   {
    "duration": 331,
    "start_time": "2022-01-08T17:15:45.767Z"
   },
   {
    "duration": 4,
    "start_time": "2022-01-08T17:15:50.905Z"
   },
   {
    "duration": 17417,
    "start_time": "2022-01-08T17:17:54.410Z"
   },
   {
    "duration": 3,
    "start_time": "2022-01-08T17:18:43.347Z"
   },
   {
    "duration": 4,
    "start_time": "2022-01-08T17:20:21.738Z"
   },
   {
    "duration": 3,
    "start_time": "2022-01-08T17:20:44.171Z"
   },
   {
    "duration": 18551,
    "start_time": "2022-01-08T17:23:01.784Z"
   },
   {
    "duration": 269,
    "start_time": "2022-01-08T17:26:13.407Z"
   },
   {
    "duration": 264,
    "start_time": "2022-01-08T17:26:24.414Z"
   },
   {
    "duration": 440,
    "start_time": "2022-01-08T17:30:00.217Z"
   },
   {
    "duration": 10,
    "start_time": "2022-01-08T17:30:51.362Z"
   },
   {
    "duration": 2510,
    "start_time": "2022-01-08T17:38:19.578Z"
   },
   {
    "duration": 2086,
    "start_time": "2022-01-08T17:38:22.090Z"
   },
   {
    "duration": 28,
    "start_time": "2022-01-08T17:38:24.180Z"
   },
   {
    "duration": 12,
    "start_time": "2022-01-08T17:38:24.210Z"
   },
   {
    "duration": 14,
    "start_time": "2022-01-08T17:38:24.223Z"
   },
   {
    "duration": 6,
    "start_time": "2022-01-08T17:38:24.238Z"
   },
   {
    "duration": 8086,
    "start_time": "2022-01-08T17:38:24.246Z"
   },
   {
    "duration": 12,
    "start_time": "2022-01-08T17:38:32.333Z"
   },
   {
    "duration": 9,
    "start_time": "2022-01-08T17:38:32.347Z"
   },
   {
    "duration": 8,
    "start_time": "2022-01-08T17:38:32.358Z"
   },
   {
    "duration": 10,
    "start_time": "2022-01-08T17:38:32.367Z"
   },
   {
    "duration": 48,
    "start_time": "2022-01-08T17:38:32.379Z"
   },
   {
    "duration": 4,
    "start_time": "2022-01-08T17:38:32.429Z"
   },
   {
    "duration": 10,
    "start_time": "2022-01-08T17:38:32.435Z"
   },
   {
    "duration": 2,
    "start_time": "2022-01-08T17:38:32.447Z"
   },
   {
    "duration": 6,
    "start_time": "2022-01-08T17:38:32.451Z"
   },
   {
    "duration": 14,
    "start_time": "2022-01-08T17:38:32.458Z"
   },
   {
    "duration": 8,
    "start_time": "2022-01-08T17:38:32.473Z"
   },
   {
    "duration": 4,
    "start_time": "2022-01-08T17:38:32.483Z"
   },
   {
    "duration": 7,
    "start_time": "2022-01-08T17:38:32.488Z"
   },
   {
    "duration": 76208,
    "start_time": "2022-01-08T17:38:32.527Z"
   },
   {
    "duration": 445,
    "start_time": "2022-01-08T17:39:48.740Z"
   },
   {
    "duration": 755,
    "start_time": "2022-01-08T17:39:49.187Z"
   },
   {
    "duration": 1224,
    "start_time": "2022-01-08T17:39:48.720Z"
   },
   {
    "duration": 1222,
    "start_time": "2022-01-08T17:39:48.723Z"
   },
   {
    "duration": 1221,
    "start_time": "2022-01-08T17:39:48.725Z"
   },
   {
    "duration": 1219,
    "start_time": "2022-01-08T17:39:48.729Z"
   },
   {
    "duration": 1215,
    "start_time": "2022-01-08T17:39:48.734Z"
   },
   {
    "duration": 1212,
    "start_time": "2022-01-08T17:39:48.738Z"
   },
   {
    "duration": 1212,
    "start_time": "2022-01-08T17:39:48.740Z"
   },
   {
    "duration": 1210,
    "start_time": "2022-01-08T17:39:48.743Z"
   },
   {
    "duration": 1208,
    "start_time": "2022-01-08T17:39:48.746Z"
   },
   {
    "duration": 1205,
    "start_time": "2022-01-08T17:39:48.751Z"
   },
   {
    "duration": 1203,
    "start_time": "2022-01-08T17:39:48.754Z"
   },
   {
    "duration": 1201,
    "start_time": "2022-01-08T17:39:48.757Z"
   },
   {
    "duration": 1201,
    "start_time": "2022-01-08T17:39:48.759Z"
   },
   {
    "duration": 1200,
    "start_time": "2022-01-08T17:39:48.761Z"
   },
   {
    "duration": 1198,
    "start_time": "2022-01-08T17:39:48.764Z"
   },
   {
    "duration": 1195,
    "start_time": "2022-01-08T17:39:48.769Z"
   },
   {
    "duration": 1194,
    "start_time": "2022-01-08T17:39:48.771Z"
   },
   {
    "duration": 1193,
    "start_time": "2022-01-08T17:39:48.773Z"
   },
   {
    "duration": 7,
    "start_time": "2022-01-08T17:42:40.195Z"
   },
   {
    "duration": 75432,
    "start_time": "2022-01-08T17:43:25.599Z"
   },
   {
    "duration": 192,
    "start_time": "2022-01-08T17:45:04.172Z"
   },
   {
    "duration": 7,
    "start_time": "2022-01-08T17:57:07.846Z"
   },
   {
    "duration": 2511,
    "start_time": "2022-01-08T17:59:59.966Z"
   },
   {
    "duration": 2068,
    "start_time": "2022-01-08T18:00:02.479Z"
   },
   {
    "duration": 28,
    "start_time": "2022-01-08T18:00:04.548Z"
   },
   {
    "duration": 12,
    "start_time": "2022-01-08T18:00:04.578Z"
   },
   {
    "duration": 11,
    "start_time": "2022-01-08T18:00:04.591Z"
   },
   {
    "duration": 5,
    "start_time": "2022-01-08T18:00:04.603Z"
   },
   {
    "duration": 8331,
    "start_time": "2022-01-08T18:00:04.609Z"
   },
   {
    "duration": 11,
    "start_time": "2022-01-08T18:00:12.942Z"
   },
   {
    "duration": 8,
    "start_time": "2022-01-08T18:00:12.955Z"
   },
   {
    "duration": 8,
    "start_time": "2022-01-08T18:00:12.964Z"
   },
   {
    "duration": 8,
    "start_time": "2022-01-08T18:00:12.974Z"
   },
   {
    "duration": 11,
    "start_time": "2022-01-08T18:00:13.027Z"
   },
   {
    "duration": 4,
    "start_time": "2022-01-08T18:00:13.039Z"
   },
   {
    "duration": 11,
    "start_time": "2022-01-08T18:00:13.044Z"
   },
   {
    "duration": 3,
    "start_time": "2022-01-08T18:00:13.056Z"
   },
   {
    "duration": 8,
    "start_time": "2022-01-08T18:00:13.060Z"
   },
   {
    "duration": 10,
    "start_time": "2022-01-08T18:00:13.069Z"
   },
   {
    "duration": 9,
    "start_time": "2022-01-08T18:00:13.080Z"
   },
   {
    "duration": 5,
    "start_time": "2022-01-08T18:00:13.090Z"
   },
   {
    "duration": 35,
    "start_time": "2022-01-08T18:00:13.097Z"
   },
   {
    "duration": 76699,
    "start_time": "2022-01-08T18:00:13.134Z"
   },
   {
    "duration": 423,
    "start_time": "2022-01-08T18:01:29.835Z"
   },
   {
    "duration": 13,
    "start_time": "2022-01-08T18:01:30.261Z"
   },
   {
    "duration": 3,
    "start_time": "2022-01-08T18:01:30.276Z"
   },
   {
    "duration": 361,
    "start_time": "2022-01-08T18:01:30.280Z"
   },
   {
    "duration": 318,
    "start_time": "2022-01-08T18:01:30.642Z"
   },
   {
    "duration": 1243,
    "start_time": "2022-01-08T18:01:29.719Z"
   },
   {
    "duration": 1240,
    "start_time": "2022-01-08T18:01:29.723Z"
   },
   {
    "duration": 1238,
    "start_time": "2022-01-08T18:01:29.725Z"
   },
   {
    "duration": 1236,
    "start_time": "2022-01-08T18:01:29.728Z"
   },
   {
    "duration": 1234,
    "start_time": "2022-01-08T18:01:29.731Z"
   },
   {
    "duration": 1230,
    "start_time": "2022-01-08T18:01:29.736Z"
   },
   {
    "duration": 1227,
    "start_time": "2022-01-08T18:01:29.740Z"
   },
   {
    "duration": 1226,
    "start_time": "2022-01-08T18:01:29.742Z"
   },
   {
    "duration": 1225,
    "start_time": "2022-01-08T18:01:29.744Z"
   },
   {
    "duration": 1223,
    "start_time": "2022-01-08T18:01:29.747Z"
   },
   {
    "duration": 1218,
    "start_time": "2022-01-08T18:01:29.752Z"
   },
   {
    "duration": 1217,
    "start_time": "2022-01-08T18:01:29.754Z"
   },
   {
    "duration": 1215,
    "start_time": "2022-01-08T18:01:29.757Z"
   },
   {
    "duration": 1214,
    "start_time": "2022-01-08T18:01:29.759Z"
   },
   {
    "duration": 1213,
    "start_time": "2022-01-08T18:01:29.761Z"
   },
   {
    "duration": 2610,
    "start_time": "2022-01-08T18:12:17.927Z"
   },
   {
    "duration": 2051,
    "start_time": "2022-01-08T18:12:20.539Z"
   },
   {
    "duration": 28,
    "start_time": "2022-01-08T18:12:22.592Z"
   },
   {
    "duration": 12,
    "start_time": "2022-01-08T18:12:22.621Z"
   },
   {
    "duration": 10,
    "start_time": "2022-01-08T18:12:22.635Z"
   },
   {
    "duration": 6,
    "start_time": "2022-01-08T18:12:22.647Z"
   },
   {
    "duration": 8147,
    "start_time": "2022-01-08T18:12:22.654Z"
   },
   {
    "duration": 31,
    "start_time": "2022-01-08T18:12:30.803Z"
   },
   {
    "duration": 12,
    "start_time": "2022-01-08T18:12:30.837Z"
   },
   {
    "duration": 11,
    "start_time": "2022-01-08T18:12:30.851Z"
   },
   {
    "duration": 9,
    "start_time": "2022-01-08T18:12:30.864Z"
   },
   {
    "duration": 56,
    "start_time": "2022-01-08T18:12:30.875Z"
   },
   {
    "duration": 4,
    "start_time": "2022-01-08T18:12:30.932Z"
   },
   {
    "duration": 13,
    "start_time": "2022-01-08T18:12:30.938Z"
   },
   {
    "duration": 4,
    "start_time": "2022-01-08T18:12:30.953Z"
   },
   {
    "duration": 9,
    "start_time": "2022-01-08T18:12:30.958Z"
   },
   {
    "duration": 16,
    "start_time": "2022-01-08T18:12:30.968Z"
   },
   {
    "duration": 15,
    "start_time": "2022-01-08T18:12:30.986Z"
   },
   {
    "duration": 8,
    "start_time": "2022-01-08T18:12:31.002Z"
   },
   {
    "duration": 20,
    "start_time": "2022-01-08T18:12:31.011Z"
   },
   {
    "duration": 77007,
    "start_time": "2022-01-08T18:12:31.032Z"
   },
   {
    "duration": 419,
    "start_time": "2022-01-08T18:13:48.042Z"
   },
   {
    "duration": 13,
    "start_time": "2022-01-08T18:13:48.464Z"
   },
   {
    "duration": 4,
    "start_time": "2022-01-08T18:13:48.480Z"
   },
   {
    "duration": 459,
    "start_time": "2022-01-08T18:13:48.485Z"
   },
   {
    "duration": 347,
    "start_time": "2022-01-08T18:13:48.945Z"
   },
   {
    "duration": 1245,
    "start_time": "2022-01-08T18:13:48.049Z"
   },
   {
    "duration": 1244,
    "start_time": "2022-01-08T18:13:48.052Z"
   },
   {
    "duration": 1242,
    "start_time": "2022-01-08T18:13:48.055Z"
   },
   {
    "duration": 1239,
    "start_time": "2022-01-08T18:13:48.060Z"
   },
   {
    "duration": 1237,
    "start_time": "2022-01-08T18:13:48.063Z"
   },
   {
    "duration": 1237,
    "start_time": "2022-01-08T18:13:48.065Z"
   },
   {
    "duration": 1235,
    "start_time": "2022-01-08T18:13:48.068Z"
   },
   {
    "duration": 1234,
    "start_time": "2022-01-08T18:13:48.071Z"
   },
   {
    "duration": 1230,
    "start_time": "2022-01-08T18:13:48.076Z"
   },
   {
    "duration": 1228,
    "start_time": "2022-01-08T18:13:48.079Z"
   },
   {
    "duration": 1227,
    "start_time": "2022-01-08T18:13:48.082Z"
   },
   {
    "duration": 1226,
    "start_time": "2022-01-08T18:13:48.084Z"
   },
   {
    "duration": 1226,
    "start_time": "2022-01-08T18:13:48.086Z"
   },
   {
    "duration": 1224,
    "start_time": "2022-01-08T18:13:48.089Z"
   },
   {
    "duration": 1222,
    "start_time": "2022-01-08T18:13:48.092Z"
   },
   {
    "duration": 24031,
    "start_time": "2022-01-08T18:17:20.198Z"
   },
   {
    "duration": 404,
    "start_time": "2022-01-08T18:17:59.253Z"
   },
   {
    "duration": 11,
    "start_time": "2022-01-08T18:18:10.485Z"
   },
   {
    "duration": 5,
    "start_time": "2022-01-08T18:18:14.325Z"
   },
   {
    "duration": 2380,
    "start_time": "2022-01-08T18:18:21.699Z"
   },
   {
    "duration": 2162,
    "start_time": "2022-01-08T18:18:24.081Z"
   },
   {
    "duration": 58,
    "start_time": "2022-01-08T18:18:26.246Z"
   },
   {
    "duration": 62,
    "start_time": "2022-01-08T18:18:26.306Z"
   },
   {
    "duration": 36,
    "start_time": "2022-01-08T18:18:26.370Z"
   },
   {
    "duration": 5,
    "start_time": "2022-01-08T18:18:26.407Z"
   },
   {
    "duration": 7826,
    "start_time": "2022-01-08T18:18:26.414Z"
   },
   {
    "duration": 11,
    "start_time": "2022-01-08T18:18:34.243Z"
   },
   {
    "duration": 8,
    "start_time": "2022-01-08T18:18:34.256Z"
   },
   {
    "duration": 8,
    "start_time": "2022-01-08T18:18:34.265Z"
   },
   {
    "duration": 9,
    "start_time": "2022-01-08T18:18:34.274Z"
   },
   {
    "duration": 10,
    "start_time": "2022-01-08T18:18:34.327Z"
   },
   {
    "duration": 4,
    "start_time": "2022-01-08T18:18:34.338Z"
   },
   {
    "duration": 10,
    "start_time": "2022-01-08T18:18:34.343Z"
   },
   {
    "duration": 3,
    "start_time": "2022-01-08T18:18:34.355Z"
   },
   {
    "duration": 11,
    "start_time": "2022-01-08T18:18:34.360Z"
   },
   {
    "duration": 12,
    "start_time": "2022-01-08T18:18:34.373Z"
   },
   {
    "duration": 9,
    "start_time": "2022-01-08T18:18:34.386Z"
   },
   {
    "duration": 31,
    "start_time": "2022-01-08T18:18:34.396Z"
   },
   {
    "duration": 6,
    "start_time": "2022-01-08T18:18:34.429Z"
   },
   {
    "duration": 80594,
    "start_time": "2022-01-08T18:18:34.437Z"
   },
   {
    "duration": 421,
    "start_time": "2022-01-08T18:19:55.033Z"
   },
   {
    "duration": 14,
    "start_time": "2022-01-08T18:19:55.457Z"
   },
   {
    "duration": 4,
    "start_time": "2022-01-08T18:19:55.472Z"
   },
   {
    "duration": 27155,
    "start_time": "2022-01-08T18:19:55.477Z"
   },
   {
    "duration": 446,
    "start_time": "2022-01-08T18:20:22.634Z"
   },
   {
    "duration": 10,
    "start_time": "2022-01-08T18:20:23.081Z"
   },
   {
    "duration": 9,
    "start_time": "2022-01-08T18:20:23.092Z"
   },
   {
    "duration": 20551,
    "start_time": "2022-01-08T18:20:23.102Z"
   },
   {
    "duration": 227,
    "start_time": "2022-01-08T18:20:43.655Z"
   },
   {
    "duration": 14,
    "start_time": "2022-01-08T18:20:43.884Z"
   },
   {
    "duration": 5,
    "start_time": "2022-01-08T18:20:43.899Z"
   },
   {
    "duration": 7383,
    "start_time": "2022-01-08T18:20:43.905Z"
   },
   {
    "duration": 286,
    "start_time": "2022-01-08T18:20:51.290Z"
   },
   {
    "duration": 14,
    "start_time": "2022-01-08T18:20:51.578Z"
   },
   {
    "duration": 4,
    "start_time": "2022-01-08T18:20:51.593Z"
   },
   {
    "duration": 10,
    "start_time": "2022-01-08T18:20:51.598Z"
   },
   {
    "duration": 23,
    "start_time": "2022-01-08T18:20:51.609Z"
   },
   {
    "duration": 7515,
    "start_time": "2022-01-08T18:20:51.634Z"
   },
   {
    "duration": 881,
    "start_time": "2022-01-08T18:20:59.151Z"
   },
   {
    "duration": 4,
    "start_time": "2022-01-08T18:21:00.034Z"
   },
   {
    "duration": 2440,
    "start_time": "2022-01-08T18:30:14.167Z"
   },
   {
    "duration": 2016,
    "start_time": "2022-01-08T18:30:16.609Z"
   },
   {
    "duration": 28,
    "start_time": "2022-01-08T18:30:18.627Z"
   },
   {
    "duration": 11,
    "start_time": "2022-01-08T18:30:18.657Z"
   },
   {
    "duration": 10,
    "start_time": "2022-01-08T18:30:18.670Z"
   },
   {
    "duration": 5,
    "start_time": "2022-01-08T18:30:18.681Z"
   },
   {
    "duration": 8352,
    "start_time": "2022-01-08T18:30:18.687Z"
   },
   {
    "duration": 11,
    "start_time": "2022-01-08T18:30:27.041Z"
   },
   {
    "duration": 17,
    "start_time": "2022-01-08T18:30:27.053Z"
   },
   {
    "duration": 15,
    "start_time": "2022-01-08T18:30:27.072Z"
   },
   {
    "duration": 17,
    "start_time": "2022-01-08T18:30:27.089Z"
   },
   {
    "duration": 24,
    "start_time": "2022-01-08T18:30:27.107Z"
   },
   {
    "duration": 3,
    "start_time": "2022-01-08T18:30:27.133Z"
   },
   {
    "duration": 16,
    "start_time": "2022-01-08T18:30:27.138Z"
   },
   {
    "duration": 3,
    "start_time": "2022-01-08T18:30:27.155Z"
   },
   {
    "duration": 20,
    "start_time": "2022-01-08T18:30:27.160Z"
   },
   {
    "duration": 19,
    "start_time": "2022-01-08T18:30:27.182Z"
   },
   {
    "duration": 13,
    "start_time": "2022-01-08T18:30:27.202Z"
   },
   {
    "duration": 6,
    "start_time": "2022-01-08T18:30:27.217Z"
   },
   {
    "duration": 15,
    "start_time": "2022-01-08T18:30:27.225Z"
   },
   {
    "duration": 79789,
    "start_time": "2022-01-08T18:30:27.241Z"
   },
   {
    "duration": 358,
    "start_time": "2022-01-08T18:31:47.032Z"
   },
   {
    "duration": 13,
    "start_time": "2022-01-08T18:31:47.393Z"
   },
   {
    "duration": 4,
    "start_time": "2022-01-08T18:31:47.408Z"
   },
   {
    "duration": 24818,
    "start_time": "2022-01-08T18:31:47.413Z"
   },
   {
    "duration": 428,
    "start_time": "2022-01-08T18:32:12.235Z"
   },
   {
    "duration": 11,
    "start_time": "2022-01-08T18:32:12.664Z"
   },
   {
    "duration": 7,
    "start_time": "2022-01-08T18:32:12.676Z"
   },
   {
    "duration": 26165,
    "start_time": "2022-01-08T18:32:12.684Z"
   },
   {
    "duration": 233,
    "start_time": "2022-01-08T18:32:38.850Z"
   },
   {
    "duration": 14,
    "start_time": "2022-01-08T18:32:39.084Z"
   },
   {
    "duration": 4,
    "start_time": "2022-01-08T18:32:39.100Z"
   },
   {
    "duration": 7123,
    "start_time": "2022-01-08T18:32:39.105Z"
   },
   {
    "duration": 236,
    "start_time": "2022-01-08T18:32:46.229Z"
   },
   {
    "duration": 14,
    "start_time": "2022-01-08T18:32:46.466Z"
   },
   {
    "duration": 4,
    "start_time": "2022-01-08T18:32:46.481Z"
   },
   {
    "duration": 10,
    "start_time": "2022-01-08T18:32:46.486Z"
   },
   {
    "duration": 5,
    "start_time": "2022-01-08T18:32:46.497Z"
   },
   {
    "duration": 448,
    "start_time": "2022-01-08T18:32:46.527Z"
   },
   {
    "duration": 1247,
    "start_time": "2022-01-08T18:32:45.730Z"
   },
   {
    "duration": 1245,
    "start_time": "2022-01-08T18:32:45.733Z"
   },
   {
    "duration": 106,
    "start_time": "2022-01-08T18:35:57.093Z"
   },
   {
    "duration": 2474,
    "start_time": "2022-01-08T18:36:57.230Z"
   },
   {
    "duration": 2040,
    "start_time": "2022-01-08T18:36:59.705Z"
   },
   {
    "duration": 28,
    "start_time": "2022-01-08T18:37:01.749Z"
   },
   {
    "duration": 11,
    "start_time": "2022-01-08T18:37:01.778Z"
   },
   {
    "duration": 14,
    "start_time": "2022-01-08T18:37:01.790Z"
   },
   {
    "duration": 6,
    "start_time": "2022-01-08T18:37:01.806Z"
   },
   {
    "duration": 8419,
    "start_time": "2022-01-08T18:37:01.815Z"
   },
   {
    "duration": 11,
    "start_time": "2022-01-08T18:37:10.236Z"
   },
   {
    "duration": 10,
    "start_time": "2022-01-08T18:37:10.248Z"
   },
   {
    "duration": 8,
    "start_time": "2022-01-08T18:37:10.259Z"
   },
   {
    "duration": 8,
    "start_time": "2022-01-08T18:37:10.268Z"
   },
   {
    "duration": 9,
    "start_time": "2022-01-08T18:37:10.277Z"
   },
   {
    "duration": 3,
    "start_time": "2022-01-08T18:37:10.328Z"
   },
   {
    "duration": 10,
    "start_time": "2022-01-08T18:37:10.332Z"
   },
   {
    "duration": 3,
    "start_time": "2022-01-08T18:37:10.344Z"
   },
   {
    "duration": 6,
    "start_time": "2022-01-08T18:37:10.349Z"
   },
   {
    "duration": 17,
    "start_time": "2022-01-08T18:37:10.357Z"
   },
   {
    "duration": 12,
    "start_time": "2022-01-08T18:37:10.376Z"
   },
   {
    "duration": 5,
    "start_time": "2022-01-08T18:37:10.389Z"
   },
   {
    "duration": 7,
    "start_time": "2022-01-08T18:37:10.427Z"
   },
   {
    "duration": 75897,
    "start_time": "2022-01-08T18:37:10.435Z"
   },
   {
    "duration": 424,
    "start_time": "2022-01-08T18:38:26.336Z"
   },
   {
    "duration": 14,
    "start_time": "2022-01-08T18:38:26.762Z"
   },
   {
    "duration": 3,
    "start_time": "2022-01-08T18:38:26.777Z"
   },
   {
    "duration": 23948,
    "start_time": "2022-01-08T18:38:26.782Z"
   },
   {
    "duration": 430,
    "start_time": "2022-01-08T18:38:50.732Z"
   },
   {
    "duration": 9,
    "start_time": "2022-01-08T18:38:51.164Z"
   },
   {
    "duration": 8,
    "start_time": "2022-01-08T18:38:51.175Z"
   },
   {
    "duration": 21614,
    "start_time": "2022-01-08T18:38:51.184Z"
   },
   {
    "duration": 299,
    "start_time": "2022-01-08T18:39:12.801Z"
   },
   {
    "duration": 27,
    "start_time": "2022-01-08T18:39:13.102Z"
   },
   {
    "duration": 5,
    "start_time": "2022-01-08T18:39:13.130Z"
   },
   {
    "duration": 7330,
    "start_time": "2022-01-08T18:39:13.136Z"
   },
   {
    "duration": 214,
    "start_time": "2022-01-08T18:39:20.468Z"
   },
   {
    "duration": 54,
    "start_time": "2022-01-08T18:39:20.683Z"
   },
   {
    "duration": 5,
    "start_time": "2022-01-08T18:39:20.739Z"
   },
   {
    "duration": 9,
    "start_time": "2022-01-08T18:39:20.745Z"
   },
   {
    "duration": 5,
    "start_time": "2022-01-08T18:39:20.755Z"
   },
   {
    "duration": 454,
    "start_time": "2022-01-08T18:39:20.761Z"
   },
   {
    "duration": 1249,
    "start_time": "2022-01-08T18:39:19.967Z"
   },
   {
    "duration": 1248,
    "start_time": "2022-01-08T18:39:19.970Z"
   },
   {
    "duration": 2544,
    "start_time": "2022-01-08T19:15:52.737Z"
   },
   {
    "duration": 2207,
    "start_time": "2022-01-08T19:15:55.283Z"
   },
   {
    "duration": 28,
    "start_time": "2022-01-08T19:15:57.492Z"
   },
   {
    "duration": 11,
    "start_time": "2022-01-08T19:15:57.521Z"
   },
   {
    "duration": 9,
    "start_time": "2022-01-08T19:15:57.534Z"
   },
   {
    "duration": 6,
    "start_time": "2022-01-08T19:15:57.544Z"
   },
   {
    "duration": 8488,
    "start_time": "2022-01-08T19:15:57.551Z"
   },
   {
    "duration": 11,
    "start_time": "2022-01-08T19:16:06.041Z"
   },
   {
    "duration": 13,
    "start_time": "2022-01-08T19:16:06.053Z"
   },
   {
    "duration": 8,
    "start_time": "2022-01-08T19:16:06.068Z"
   },
   {
    "duration": 13,
    "start_time": "2022-01-08T19:16:06.077Z"
   },
   {
    "duration": 42,
    "start_time": "2022-01-08T19:16:06.091Z"
   },
   {
    "duration": 3,
    "start_time": "2022-01-08T19:16:06.135Z"
   },
   {
    "duration": 11,
    "start_time": "2022-01-08T19:16:06.140Z"
   },
   {
    "duration": 4,
    "start_time": "2022-01-08T19:16:06.152Z"
   },
   {
    "duration": 7,
    "start_time": "2022-01-08T19:16:06.157Z"
   },
   {
    "duration": 11,
    "start_time": "2022-01-08T19:16:06.166Z"
   },
   {
    "duration": 8,
    "start_time": "2022-01-08T19:16:06.178Z"
   },
   {
    "duration": 5,
    "start_time": "2022-01-08T19:16:06.187Z"
   },
   {
    "duration": 36,
    "start_time": "2022-01-08T19:16:06.194Z"
   },
   {
    "duration": 76503,
    "start_time": "2022-01-08T19:16:06.231Z"
   },
   {
    "duration": 429,
    "start_time": "2022-01-08T19:17:22.736Z"
   },
   {
    "duration": 13,
    "start_time": "2022-01-08T19:17:23.168Z"
   },
   {
    "duration": 3,
    "start_time": "2022-01-08T19:17:23.183Z"
   },
   {
    "duration": 24340,
    "start_time": "2022-01-08T19:17:23.188Z"
   },
   {
    "duration": 449,
    "start_time": "2022-01-08T19:17:47.530Z"
   },
   {
    "duration": 14,
    "start_time": "2022-01-08T19:17:47.982Z"
   },
   {
    "duration": 9,
    "start_time": "2022-01-08T19:17:47.997Z"
   },
   {
    "duration": 21039,
    "start_time": "2022-01-08T19:17:48.008Z"
   },
   {
    "duration": 241,
    "start_time": "2022-01-08T19:18:09.048Z"
   },
   {
    "duration": 13,
    "start_time": "2022-01-08T19:18:09.290Z"
   },
   {
    "duration": 4,
    "start_time": "2022-01-08T19:18:09.304Z"
   },
   {
    "duration": 9438,
    "start_time": "2022-01-08T19:18:09.309Z"
   },
   {
    "duration": 242,
    "start_time": "2022-01-08T19:18:18.749Z"
   },
   {
    "duration": 11,
    "start_time": "2022-01-08T19:18:18.993Z"
   },
   {
    "duration": 32,
    "start_time": "2022-01-08T19:18:19.005Z"
   },
   {
    "duration": 7678,
    "start_time": "2022-01-08T19:18:19.038Z"
   },
   {
    "duration": 246,
    "start_time": "2022-01-08T19:18:26.717Z"
   },
   {
    "duration": 17,
    "start_time": "2022-01-08T19:18:26.964Z"
   },
   {
    "duration": 5,
    "start_time": "2022-01-08T19:18:26.983Z"
   },
   {
    "duration": 15,
    "start_time": "2022-01-08T19:18:26.989Z"
   },
   {
    "duration": 25,
    "start_time": "2022-01-08T19:18:27.006Z"
   },
   {
    "duration": 421,
    "start_time": "2022-01-08T19:18:27.032Z"
   },
   {
    "duration": 1275,
    "start_time": "2022-01-08T19:18:26.179Z"
   },
   {
    "duration": 1273,
    "start_time": "2022-01-08T19:18:26.182Z"
   },
   {
    "duration": 2883,
    "start_time": "2022-01-08T19:46:14.037Z"
   },
   {
    "duration": 2067,
    "start_time": "2022-01-08T19:46:16.922Z"
   },
   {
    "duration": 28,
    "start_time": "2022-01-08T19:46:18.990Z"
   },
   {
    "duration": 11,
    "start_time": "2022-01-08T19:46:19.020Z"
   },
   {
    "duration": 10,
    "start_time": "2022-01-08T19:46:19.033Z"
   },
   {
    "duration": 4,
    "start_time": "2022-01-08T19:46:19.045Z"
   },
   {
    "duration": 7633,
    "start_time": "2022-01-08T19:46:19.050Z"
   },
   {
    "duration": 10,
    "start_time": "2022-01-08T19:46:26.686Z"
   },
   {
    "duration": 34,
    "start_time": "2022-01-08T19:46:26.698Z"
   },
   {
    "duration": 8,
    "start_time": "2022-01-08T19:46:26.733Z"
   },
   {
    "duration": 8,
    "start_time": "2022-01-08T19:46:26.742Z"
   },
   {
    "duration": 10,
    "start_time": "2022-01-08T19:46:26.752Z"
   },
   {
    "duration": 3,
    "start_time": "2022-01-08T19:46:26.763Z"
   },
   {
    "duration": 15,
    "start_time": "2022-01-08T19:46:26.768Z"
   },
   {
    "duration": 3,
    "start_time": "2022-01-08T19:46:26.784Z"
   },
   {
    "duration": 38,
    "start_time": "2022-01-08T19:46:26.789Z"
   },
   {
    "duration": 9,
    "start_time": "2022-01-08T19:46:26.829Z"
   },
   {
    "duration": 9,
    "start_time": "2022-01-08T19:46:26.839Z"
   },
   {
    "duration": 5,
    "start_time": "2022-01-08T19:46:26.850Z"
   },
   {
    "duration": 7,
    "start_time": "2022-01-08T19:46:26.856Z"
   },
   {
    "duration": 74769,
    "start_time": "2022-01-08T19:46:26.865Z"
   },
   {
    "duration": 422,
    "start_time": "2022-01-08T19:47:41.636Z"
   },
   {
    "duration": 20,
    "start_time": "2022-01-08T19:47:42.062Z"
   },
   {
    "duration": 4,
    "start_time": "2022-01-08T19:47:42.085Z"
   },
   {
    "duration": 25346,
    "start_time": "2022-01-08T19:47:42.091Z"
   },
   {
    "duration": 492,
    "start_time": "2022-01-08T19:48:07.528Z"
   },
   {
    "duration": 14,
    "start_time": "2022-01-08T19:48:08.027Z"
   },
   {
    "duration": 8,
    "start_time": "2022-01-08T19:48:08.043Z"
   },
   {
    "duration": 29869,
    "start_time": "2022-01-08T19:48:08.053Z"
   },
   {
    "duration": 238,
    "start_time": "2022-01-08T19:48:37.923Z"
   },
   {
    "duration": 13,
    "start_time": "2022-01-08T19:48:38.162Z"
   },
   {
    "duration": 3,
    "start_time": "2022-01-08T19:48:38.177Z"
   },
   {
    "duration": 7820,
    "start_time": "2022-01-08T19:48:38.182Z"
   },
   {
    "duration": 340,
    "start_time": "2022-01-08T19:48:46.004Z"
   },
   {
    "duration": 16,
    "start_time": "2022-01-08T19:48:46.346Z"
   },
   {
    "duration": 6,
    "start_time": "2022-01-08T19:48:46.364Z"
   },
   {
    "duration": 11428,
    "start_time": "2022-01-08T19:48:46.372Z"
   },
   {
    "duration": 313,
    "start_time": "2022-01-08T19:48:57.801Z"
   },
   {
    "duration": 28,
    "start_time": "2022-01-08T19:48:58.116Z"
   },
   {
    "duration": 5,
    "start_time": "2022-01-08T19:48:58.146Z"
   },
   {
    "duration": 144008,
    "start_time": "2022-01-08T19:48:58.153Z"
   },
   {
    "duration": 332,
    "start_time": "2022-01-08T19:51:22.163Z"
   },
   {
    "duration": 14,
    "start_time": "2022-01-08T19:51:22.496Z"
   },
   {
    "duration": 16,
    "start_time": "2022-01-08T19:51:22.511Z"
   },
   {
    "duration": 10,
    "start_time": "2022-01-08T19:51:22.529Z"
   },
   {
    "duration": 121,
    "start_time": "2022-01-08T19:51:53.562Z"
   },
   {
    "duration": 108,
    "start_time": "2022-01-08T19:52:08.841Z"
   },
   {
    "duration": 102,
    "start_time": "2022-01-08T19:52:22.377Z"
   },
   {
    "duration": 112,
    "start_time": "2022-01-08T19:52:26.129Z"
   },
   {
    "duration": 100,
    "start_time": "2022-01-08T19:52:43.714Z"
   },
   {
    "duration": 116,
    "start_time": "2022-01-08T19:53:22.842Z"
   },
   {
    "duration": 9,
    "start_time": "2022-01-08T19:53:32.266Z"
   },
   {
    "duration": 2509,
    "start_time": "2022-01-08T20:17:31.397Z"
   },
   {
    "duration": 2046,
    "start_time": "2022-01-08T20:17:33.908Z"
   },
   {
    "duration": 28,
    "start_time": "2022-01-08T20:17:35.958Z"
   },
   {
    "duration": 12,
    "start_time": "2022-01-08T20:17:35.987Z"
   },
   {
    "duration": 11,
    "start_time": "2022-01-08T20:17:36.001Z"
   },
   {
    "duration": 13,
    "start_time": "2022-01-08T20:17:36.014Z"
   },
   {
    "duration": 7766,
    "start_time": "2022-01-08T20:17:36.029Z"
   },
   {
    "duration": 10,
    "start_time": "2022-01-08T20:17:43.797Z"
   },
   {
    "duration": 8,
    "start_time": "2022-01-08T20:17:43.827Z"
   },
   {
    "duration": 9,
    "start_time": "2022-01-08T20:17:43.837Z"
   },
   {
    "duration": 8,
    "start_time": "2022-01-08T20:17:43.847Z"
   },
   {
    "duration": 14,
    "start_time": "2022-01-08T20:17:43.857Z"
   },
   {
    "duration": 3,
    "start_time": "2022-01-08T20:17:43.873Z"
   },
   {
    "duration": 10,
    "start_time": "2022-01-08T20:17:43.878Z"
   },
   {
    "duration": 39,
    "start_time": "2022-01-08T20:17:43.889Z"
   },
   {
    "duration": 7,
    "start_time": "2022-01-08T20:17:43.930Z"
   },
   {
    "duration": 12,
    "start_time": "2022-01-08T20:17:43.938Z"
   },
   {
    "duration": 9,
    "start_time": "2022-01-08T20:17:43.951Z"
   },
   {
    "duration": 4,
    "start_time": "2022-01-08T20:17:43.962Z"
   },
   {
    "duration": 6,
    "start_time": "2022-01-08T20:17:43.967Z"
   },
   {
    "duration": 75457,
    "start_time": "2022-01-08T20:17:43.975Z"
   },
   {
    "duration": 432,
    "start_time": "2022-01-08T20:18:59.436Z"
   },
   {
    "duration": 13,
    "start_time": "2022-01-08T20:18:59.870Z"
   },
   {
    "duration": 3,
    "start_time": "2022-01-08T20:18:59.884Z"
   },
   {
    "duration": 24645,
    "start_time": "2022-01-08T20:18:59.889Z"
   },
   {
    "duration": 428,
    "start_time": "2022-01-08T20:19:24.536Z"
   },
   {
    "duration": 10,
    "start_time": "2022-01-08T20:19:24.965Z"
   },
   {
    "duration": 6,
    "start_time": "2022-01-08T20:19:24.977Z"
   },
   {
    "duration": 20637,
    "start_time": "2022-01-08T20:19:24.985Z"
   },
   {
    "duration": 262,
    "start_time": "2022-01-08T20:19:45.627Z"
   },
   {
    "duration": 16,
    "start_time": "2022-01-08T20:19:45.891Z"
   },
   {
    "duration": 18,
    "start_time": "2022-01-08T20:19:45.909Z"
   },
   {
    "duration": 7724,
    "start_time": "2022-01-08T20:19:45.929Z"
   },
   {
    "duration": 213,
    "start_time": "2022-01-08T20:19:53.654Z"
   },
   {
    "duration": 10,
    "start_time": "2022-01-08T20:19:53.868Z"
   },
   {
    "duration": 5,
    "start_time": "2022-01-08T20:19:53.879Z"
   },
   {
    "duration": 7230,
    "start_time": "2022-01-08T20:19:53.885Z"
   },
   {
    "duration": 250,
    "start_time": "2022-01-08T20:20:01.116Z"
   },
   {
    "duration": 13,
    "start_time": "2022-01-08T20:20:01.367Z"
   },
   {
    "duration": 4,
    "start_time": "2022-01-08T20:20:01.381Z"
   },
   {
    "duration": 98284,
    "start_time": "2022-01-08T20:20:01.386Z"
   },
   {
    "duration": 308,
    "start_time": "2022-01-08T20:21:39.671Z"
   },
   {
    "duration": 9,
    "start_time": "2022-01-08T20:21:39.980Z"
   },
   {
    "duration": 10,
    "start_time": "2022-01-08T20:21:39.991Z"
   },
   {
    "duration": 20,
    "start_time": "2022-01-08T20:21:40.002Z"
   },
   {
    "duration": 4332,
    "start_time": "2022-01-08T20:42:32.474Z"
   },
   {
    "duration": 2068,
    "start_time": "2022-01-08T20:42:36.808Z"
   },
   {
    "duration": 29,
    "start_time": "2022-01-08T20:42:38.878Z"
   },
   {
    "duration": 11,
    "start_time": "2022-01-08T20:42:38.908Z"
   },
   {
    "duration": 10,
    "start_time": "2022-01-08T20:42:38.921Z"
   },
   {
    "duration": 7,
    "start_time": "2022-01-08T20:42:38.933Z"
   },
   {
    "duration": 9878,
    "start_time": "2022-01-08T20:42:38.942Z"
   },
   {
    "duration": 15,
    "start_time": "2022-01-08T20:42:48.828Z"
   },
   {
    "duration": 12,
    "start_time": "2022-01-08T20:42:48.846Z"
   },
   {
    "duration": 13,
    "start_time": "2022-01-08T20:42:48.860Z"
   },
   {
    "duration": 53,
    "start_time": "2022-01-08T20:42:48.875Z"
   },
   {
    "duration": 13,
    "start_time": "2022-01-08T20:42:48.930Z"
   },
   {
    "duration": 5,
    "start_time": "2022-01-08T20:42:48.944Z"
   },
   {
    "duration": 17,
    "start_time": "2022-01-08T20:42:48.951Z"
   },
   {
    "duration": 4,
    "start_time": "2022-01-08T20:42:48.970Z"
   },
   {
    "duration": 13,
    "start_time": "2022-01-08T20:42:48.975Z"
   },
   {
    "duration": 38,
    "start_time": "2022-01-08T20:42:48.990Z"
   },
   {
    "duration": 10,
    "start_time": "2022-01-08T20:42:49.029Z"
   },
   {
    "duration": 6,
    "start_time": "2022-01-08T20:42:49.041Z"
   },
   {
    "duration": 8,
    "start_time": "2022-01-08T20:42:49.049Z"
   },
   {
    "duration": 77272,
    "start_time": "2022-01-08T20:42:49.059Z"
   },
   {
    "duration": 425,
    "start_time": "2022-01-08T20:44:06.333Z"
   },
   {
    "duration": 13,
    "start_time": "2022-01-08T20:44:06.761Z"
   },
   {
    "duration": 3,
    "start_time": "2022-01-08T20:44:06.776Z"
   },
   {
    "duration": 24650,
    "start_time": "2022-01-08T20:44:06.780Z"
   },
   {
    "duration": 430,
    "start_time": "2022-01-08T20:44:31.432Z"
   },
   {
    "duration": 10,
    "start_time": "2022-01-08T20:44:31.864Z"
   },
   {
    "duration": 8,
    "start_time": "2022-01-08T20:44:31.875Z"
   },
   {
    "duration": 21709,
    "start_time": "2022-01-08T20:44:31.884Z"
   },
   {
    "duration": 254,
    "start_time": "2022-01-08T20:44:53.594Z"
   },
   {
    "duration": 15,
    "start_time": "2022-01-08T20:44:53.850Z"
   },
   {
    "duration": 4,
    "start_time": "2022-01-08T20:44:53.866Z"
   },
   {
    "duration": 8324,
    "start_time": "2022-01-08T20:44:53.872Z"
   },
   {
    "duration": 251,
    "start_time": "2022-01-08T20:45:02.198Z"
   },
   {
    "duration": 10,
    "start_time": "2022-01-08T20:45:02.451Z"
   },
   {
    "duration": 6,
    "start_time": "2022-01-08T20:45:02.463Z"
   },
   {
    "duration": 7254,
    "start_time": "2022-01-08T20:45:02.470Z"
   },
   {
    "duration": 235,
    "start_time": "2022-01-08T20:45:09.727Z"
   },
   {
    "duration": 13,
    "start_time": "2022-01-08T20:45:09.963Z"
   },
   {
    "duration": 5,
    "start_time": "2022-01-08T20:45:09.977Z"
   },
   {
    "duration": 97852,
    "start_time": "2022-01-08T20:45:09.984Z"
   },
   {
    "duration": 264,
    "start_time": "2022-01-08T20:46:47.838Z"
   },
   {
    "duration": 28,
    "start_time": "2022-01-08T20:46:48.103Z"
   },
   {
    "duration": 20,
    "start_time": "2022-01-08T20:46:48.132Z"
   },
   {
    "duration": 20,
    "start_time": "2022-01-08T20:46:48.153Z"
   },
   {
    "duration": 410,
    "start_time": "2022-01-08T21:06:58.185Z"
   },
   {
    "duration": 356,
    "start_time": "2022-01-08T21:07:34.981Z"
   },
   {
    "duration": 155,
    "start_time": "2022-01-08T21:08:07.474Z"
   },
   {
    "duration": 452,
    "start_time": "2022-01-08T21:08:42.386Z"
   },
   {
    "duration": 203,
    "start_time": "2022-01-08T21:08:50.827Z"
   },
   {
    "duration": 6,
    "start_time": "2022-01-08T21:15:16.525Z"
   },
   {
    "duration": 15,
    "start_time": "2022-01-08T21:15:47.350Z"
   },
   {
    "duration": 97,
    "start_time": "2022-01-08T21:16:06.230Z"
   },
   {
    "duration": 37,
    "start_time": "2022-01-08T21:17:39.591Z"
   },
   {
    "duration": 49,
    "start_time": "2022-01-08T21:18:22.079Z"
   },
   {
    "duration": 24975,
    "start_time": "2022-01-08T21:20:17.657Z"
   },
   {
    "duration": 13,
    "start_time": "2022-01-08T21:20:54.561Z"
   },
   {
    "duration": 10,
    "start_time": "2022-01-08T21:23:37.476Z"
   },
   {
    "duration": 11,
    "start_time": "2022-01-08T21:24:10.420Z"
   },
   {
    "duration": 24446,
    "start_time": "2022-01-08T21:26:24.189Z"
   },
   {
    "duration": 11,
    "start_time": "2022-01-08T21:34:44.612Z"
   },
   {
    "duration": 414,
    "start_time": "2022-01-08T21:35:05.243Z"
   },
   {
    "duration": 45,
    "start_time": "2022-01-08T21:35:24.884Z"
   },
   {
    "duration": 119,
    "start_time": "2022-01-08T21:36:15.211Z"
   },
   {
    "duration": 26327,
    "start_time": "2022-01-08T21:38:44.109Z"
   },
   {
    "duration": 25455,
    "start_time": "2022-01-08T21:40:31.782Z"
   },
   {
    "duration": 7,
    "start_time": "2022-01-08T21:46:12.186Z"
   },
   {
    "duration": 80334,
    "start_time": "2022-01-08T21:46:32.399Z"
   },
   {
    "duration": 2746,
    "start_time": "2022-01-08T21:49:15.272Z"
   },
   {
    "duration": 2065,
    "start_time": "2022-01-08T21:49:18.020Z"
   },
   {
    "duration": 28,
    "start_time": "2022-01-08T21:49:20.087Z"
   },
   {
    "duration": 10,
    "start_time": "2022-01-08T21:49:20.117Z"
   },
   {
    "duration": 10,
    "start_time": "2022-01-08T21:49:20.129Z"
   },
   {
    "duration": 5,
    "start_time": "2022-01-08T21:49:20.140Z"
   },
   {
    "duration": 9058,
    "start_time": "2022-01-08T21:49:20.147Z"
   },
   {
    "duration": 24,
    "start_time": "2022-01-08T21:49:29.207Z"
   },
   {
    "duration": 12,
    "start_time": "2022-01-08T21:49:29.233Z"
   },
   {
    "duration": 8,
    "start_time": "2022-01-08T21:49:29.247Z"
   },
   {
    "duration": 10,
    "start_time": "2022-01-08T21:49:29.256Z"
   },
   {
    "duration": 10,
    "start_time": "2022-01-08T21:49:29.268Z"
   },
   {
    "duration": 50,
    "start_time": "2022-01-08T21:49:29.279Z"
   },
   {
    "duration": 12,
    "start_time": "2022-01-08T21:49:29.331Z"
   },
   {
    "duration": 3,
    "start_time": "2022-01-08T21:49:29.345Z"
   },
   {
    "duration": 9,
    "start_time": "2022-01-08T21:49:29.350Z"
   },
   {
    "duration": 10,
    "start_time": "2022-01-08T21:49:29.361Z"
   },
   {
    "duration": 9,
    "start_time": "2022-01-08T21:49:29.372Z"
   },
   {
    "duration": 4,
    "start_time": "2022-01-08T21:49:29.382Z"
   },
   {
    "duration": 6,
    "start_time": "2022-01-08T21:49:29.387Z"
   },
   {
    "duration": 74537,
    "start_time": "2022-01-08T21:49:29.395Z"
   },
   {
    "duration": 447,
    "start_time": "2022-01-08T21:50:43.934Z"
   },
   {
    "duration": 12,
    "start_time": "2022-01-08T21:50:44.384Z"
   },
   {
    "duration": 4,
    "start_time": "2022-01-08T21:50:44.398Z"
   },
   {
    "duration": 24534,
    "start_time": "2022-01-08T21:50:44.403Z"
   },
   {
    "duration": 101,
    "start_time": "2022-01-08T21:51:09.028Z"
   },
   {
    "duration": 432,
    "start_time": "2022-01-08T21:51:09.130Z"
   },
   {
    "duration": 10,
    "start_time": "2022-01-08T21:51:09.563Z"
   },
   {
    "duration": 7,
    "start_time": "2022-01-08T21:51:09.574Z"
   },
   {
    "duration": 20777,
    "start_time": "2022-01-08T21:51:09.582Z"
   },
   {
    "duration": 207,
    "start_time": "2022-01-08T21:51:30.360Z"
   },
   {
    "duration": 13,
    "start_time": "2022-01-08T21:51:30.569Z"
   },
   {
    "duration": 7,
    "start_time": "2022-01-08T21:51:30.583Z"
   },
   {
    "duration": 7714,
    "start_time": "2022-01-08T21:51:30.591Z"
   },
   {
    "duration": 242,
    "start_time": "2022-01-08T21:51:38.307Z"
   },
   {
    "duration": 9,
    "start_time": "2022-01-08T21:51:38.551Z"
   },
   {
    "duration": 5,
    "start_time": "2022-01-08T21:51:38.562Z"
   },
   {
    "duration": 7067,
    "start_time": "2022-01-08T21:51:38.568Z"
   },
   {
    "duration": 233,
    "start_time": "2022-01-08T21:51:45.637Z"
   },
   {
    "duration": 14,
    "start_time": "2022-01-08T21:51:45.872Z"
   },
   {
    "duration": 4,
    "start_time": "2022-01-08T21:51:45.887Z"
   },
   {
    "duration": 100595,
    "start_time": "2022-01-08T21:51:45.893Z"
   },
   {
    "duration": 290,
    "start_time": "2022-01-08T21:53:26.490Z"
   },
   {
    "duration": 11,
    "start_time": "2022-01-08T21:53:26.782Z"
   },
   {
    "duration": 5,
    "start_time": "2022-01-08T21:53:26.795Z"
   },
   {
    "duration": 30,
    "start_time": "2022-01-08T21:53:26.801Z"
   },
   {
    "duration": 11,
    "start_time": "2022-01-08T21:59:34.407Z"
   },
   {
    "duration": 4,
    "start_time": "2022-01-08T22:07:40.595Z"
   },
   {
    "duration": 451,
    "start_time": "2022-01-08T22:09:05.516Z"
   },
   {
    "duration": 31,
    "start_time": "2022-01-08T22:09:33.605Z"
   },
   {
    "duration": 116,
    "start_time": "2022-01-08T22:27:03.359Z"
   },
   {
    "duration": 343,
    "start_time": "2022-01-08T22:27:26.008Z"
   },
   {
    "duration": 364,
    "start_time": "2022-01-08T22:27:58.649Z"
   },
   {
    "duration": 359,
    "start_time": "2022-01-08T22:28:31.657Z"
   },
   {
    "duration": 363,
    "start_time": "2022-01-08T22:29:32.817Z"
   },
   {
    "duration": 28,
    "start_time": "2022-01-08T22:30:11.049Z"
   },
   {
    "duration": 27,
    "start_time": "2022-01-08T22:30:15.578Z"
   },
   {
    "duration": 29,
    "start_time": "2022-01-08T22:30:19.281Z"
   },
   {
    "duration": 32,
    "start_time": "2022-01-08T22:30:28.129Z"
   },
   {
    "duration": 117,
    "start_time": "2022-01-08T22:33:15.065Z"
   },
   {
    "duration": 31,
    "start_time": "2022-01-08T22:33:32.922Z"
   },
   {
    "duration": 35,
    "start_time": "2022-01-08T22:35:34.160Z"
   },
   {
    "duration": 38,
    "start_time": "2022-01-08T22:37:16.349Z"
   },
   {
    "duration": 305,
    "start_time": "2022-01-08T22:46:13.493Z"
   },
   {
    "duration": 2494,
    "start_time": "2022-01-08T22:47:24.949Z"
   },
   {
    "duration": 2036,
    "start_time": "2022-01-08T22:47:27.447Z"
   },
   {
    "duration": 28,
    "start_time": "2022-01-08T22:47:29.485Z"
   },
   {
    "duration": 11,
    "start_time": "2022-01-08T22:47:29.514Z"
   },
   {
    "duration": 10,
    "start_time": "2022-01-08T22:47:29.526Z"
   },
   {
    "duration": 6,
    "start_time": "2022-01-08T22:47:29.537Z"
   },
   {
    "duration": 8067,
    "start_time": "2022-01-08T22:47:29.545Z"
   },
   {
    "duration": 22,
    "start_time": "2022-01-08T22:47:37.615Z"
   },
   {
    "duration": 11,
    "start_time": "2022-01-08T22:47:37.640Z"
   },
   {
    "duration": 11,
    "start_time": "2022-01-08T22:47:37.653Z"
   },
   {
    "duration": 10,
    "start_time": "2022-01-08T22:47:37.665Z"
   },
   {
    "duration": 59,
    "start_time": "2022-01-08T22:47:37.677Z"
   },
   {
    "duration": 5,
    "start_time": "2022-01-08T22:47:37.737Z"
   },
   {
    "duration": 12,
    "start_time": "2022-01-08T22:47:37.744Z"
   },
   {
    "duration": 3,
    "start_time": "2022-01-08T22:47:37.758Z"
   },
   {
    "duration": 7,
    "start_time": "2022-01-08T22:47:37.763Z"
   },
   {
    "duration": 10,
    "start_time": "2022-01-08T22:47:37.772Z"
   },
   {
    "duration": 44,
    "start_time": "2022-01-08T22:47:37.783Z"
   },
   {
    "duration": 4,
    "start_time": "2022-01-08T22:47:37.829Z"
   },
   {
    "duration": 7,
    "start_time": "2022-01-08T22:47:37.834Z"
   },
   {
    "duration": 76291,
    "start_time": "2022-01-08T22:47:37.842Z"
   },
   {
    "duration": 433,
    "start_time": "2022-01-08T22:48:54.136Z"
   },
   {
    "duration": 14,
    "start_time": "2022-01-08T22:48:54.570Z"
   },
   {
    "duration": 3,
    "start_time": "2022-01-08T22:48:54.586Z"
   },
   {
    "duration": 24536,
    "start_time": "2022-01-08T22:48:54.591Z"
   },
   {
    "duration": 100,
    "start_time": "2022-01-08T22:49:19.133Z"
   },
   {
    "duration": 428,
    "start_time": "2022-01-08T22:49:19.235Z"
   },
   {
    "duration": 11,
    "start_time": "2022-01-08T22:49:19.665Z"
   },
   {
    "duration": 8,
    "start_time": "2022-01-08T22:49:19.678Z"
   },
   {
    "duration": 20998,
    "start_time": "2022-01-08T22:49:19.687Z"
   },
   {
    "duration": 261,
    "start_time": "2022-01-08T22:49:40.686Z"
   },
   {
    "duration": 14,
    "start_time": "2022-01-08T22:49:40.949Z"
   },
   {
    "duration": 4,
    "start_time": "2022-01-08T22:49:40.964Z"
   },
   {
    "duration": 7831,
    "start_time": "2022-01-08T22:49:40.969Z"
   },
   {
    "duration": 277,
    "start_time": "2022-01-08T22:49:48.802Z"
   },
   {
    "duration": 10,
    "start_time": "2022-01-08T22:49:49.081Z"
   },
   {
    "duration": 5,
    "start_time": "2022-01-08T22:49:49.093Z"
   },
   {
    "duration": 7000,
    "start_time": "2022-01-08T22:49:49.099Z"
   },
   {
    "duration": 253,
    "start_time": "2022-01-08T22:49:56.100Z"
   },
   {
    "duration": 13,
    "start_time": "2022-01-08T22:49:56.355Z"
   },
   {
    "duration": 5,
    "start_time": "2022-01-08T22:49:56.370Z"
   },
   {
    "duration": 96280,
    "start_time": "2022-01-08T22:49:56.376Z"
   },
   {
    "duration": 298,
    "start_time": "2022-01-08T22:51:32.657Z"
   },
   {
    "duration": 10,
    "start_time": "2022-01-08T22:51:32.956Z"
   },
   {
    "duration": 6,
    "start_time": "2022-01-08T22:51:32.967Z"
   },
   {
    "duration": 14,
    "start_time": "2022-01-08T22:51:32.974Z"
   },
   {
    "duration": 64,
    "start_time": "2022-01-08T22:51:32.990Z"
   },
   {
    "duration": 336,
    "start_time": "2022-01-08T22:51:33.056Z"
   },
   {
    "duration": 732,
    "start_time": "2022-01-08T22:53:01.557Z"
   },
   {
    "duration": 310,
    "start_time": "2022-01-08T22:53:31.461Z"
   },
   {
    "duration": 74990,
    "start_time": "2022-01-08T22:56:42.041Z"
   },
   {
    "duration": 13,
    "start_time": "2022-01-08T22:58:12.856Z"
   },
   {
    "duration": 20762,
    "start_time": "2022-01-08T22:59:09.371Z"
   },
   {
    "duration": 13,
    "start_time": "2022-01-08T22:59:35.857Z"
   },
   {
    "duration": 6977,
    "start_time": "2022-01-08T23:00:16.715Z"
   },
   {
    "duration": 14,
    "start_time": "2022-01-08T23:00:31.945Z"
   },
   {
    "duration": 97,
    "start_time": "2022-01-08T23:03:02.380Z"
   },
   {
    "duration": 94,
    "start_time": "2022-01-08T23:05:29.412Z"
   },
   {
    "duration": 4,
    "start_time": "2022-01-08T23:12:36.201Z"
   },
   {
    "duration": 13,
    "start_time": "2022-01-08T23:13:51.402Z"
   },
   {
    "duration": 93,
    "start_time": "2022-01-08T23:14:10.865Z"
   },
   {
    "duration": 102,
    "start_time": "2022-01-08T23:16:36.845Z"
   },
   {
    "duration": 103,
    "start_time": "2022-01-08T23:18:17.662Z"
   },
   {
    "duration": 14,
    "start_time": "2022-01-08T23:18:58.846Z"
   },
   {
    "duration": 4,
    "start_time": "2022-01-08T23:23:27.057Z"
   },
   {
    "duration": 4,
    "start_time": "2022-01-08T23:25:27.209Z"
   },
   {
    "duration": 4,
    "start_time": "2022-01-08T23:25:45.714Z"
   },
   {
    "duration": 459,
    "start_time": "2022-01-08T23:27:49.060Z"
   },
   {
    "duration": 117,
    "start_time": "2022-01-08T23:28:12.492Z"
   },
   {
    "duration": 143,
    "start_time": "2022-01-08T23:29:37.565Z"
   },
   {
    "duration": 5,
    "start_time": "2022-01-08T23:31:56.133Z"
   },
   {
    "duration": 3,
    "start_time": "2022-01-08T23:32:15.230Z"
   },
   {
    "duration": 14,
    "start_time": "2022-01-08T23:33:54.895Z"
   },
   {
    "duration": 555,
    "start_time": "2022-01-08T23:35:38.336Z"
   },
   {
    "duration": 138,
    "start_time": "2022-01-08T23:39:04.766Z"
   },
   {
    "duration": 12,
    "start_time": "2022-01-08T23:39:46.208Z"
   },
   {
    "duration": 4,
    "start_time": "2022-01-08T23:40:02.683Z"
   },
   {
    "duration": 638,
    "start_time": "2022-01-08T23:40:09.924Z"
   },
   {
    "duration": 13,
    "start_time": "2022-01-08T23:40:24.507Z"
   },
   {
    "duration": 778,
    "start_time": "2022-01-08T23:40:26.571Z"
   },
   {
    "duration": 3661,
    "start_time": "2022-01-08T23:42:08.451Z"
   },
   {
    "duration": 2051,
    "start_time": "2022-01-08T23:42:12.114Z"
   },
   {
    "duration": 28,
    "start_time": "2022-01-08T23:42:14.167Z"
   },
   {
    "duration": 11,
    "start_time": "2022-01-08T23:42:14.196Z"
   },
   {
    "duration": 15,
    "start_time": "2022-01-08T23:42:14.209Z"
   },
   {
    "duration": 5,
    "start_time": "2022-01-08T23:42:14.227Z"
   },
   {
    "duration": 7867,
    "start_time": "2022-01-08T23:42:14.234Z"
   },
   {
    "duration": 25,
    "start_time": "2022-01-08T23:42:22.103Z"
   },
   {
    "duration": 9,
    "start_time": "2022-01-08T23:42:22.129Z"
   },
   {
    "duration": 9,
    "start_time": "2022-01-08T23:42:22.139Z"
   },
   {
    "duration": 8,
    "start_time": "2022-01-08T23:42:22.149Z"
   },
   {
    "duration": 10,
    "start_time": "2022-01-08T23:42:22.159Z"
   },
   {
    "duration": 3,
    "start_time": "2022-01-08T23:42:22.171Z"
   },
   {
    "duration": 52,
    "start_time": "2022-01-08T23:42:22.176Z"
   },
   {
    "duration": 4,
    "start_time": "2022-01-08T23:42:22.229Z"
   },
   {
    "duration": 7,
    "start_time": "2022-01-08T23:42:22.234Z"
   },
   {
    "duration": 13,
    "start_time": "2022-01-08T23:42:22.242Z"
   },
   {
    "duration": 8,
    "start_time": "2022-01-08T23:42:22.257Z"
   },
   {
    "duration": 4,
    "start_time": "2022-01-08T23:42:22.266Z"
   },
   {
    "duration": 6,
    "start_time": "2022-01-08T23:42:22.272Z"
   },
   {
    "duration": 74653,
    "start_time": "2022-01-08T23:42:22.279Z"
   },
   {
    "duration": 432,
    "start_time": "2022-01-08T23:43:36.934Z"
   },
   {
    "duration": 14,
    "start_time": "2022-01-08T23:43:37.369Z"
   },
   {
    "duration": 4,
    "start_time": "2022-01-08T23:43:37.384Z"
   },
   {
    "duration": 24642,
    "start_time": "2022-01-08T23:43:37.389Z"
   },
   {
    "duration": 100,
    "start_time": "2022-01-08T23:44:02.033Z"
   },
   {
    "duration": 451,
    "start_time": "2022-01-08T23:44:02.134Z"
   },
   {
    "duration": 9,
    "start_time": "2022-01-08T23:44:02.586Z"
   },
   {
    "duration": 9,
    "start_time": "2022-01-08T23:44:02.597Z"
   },
   {
    "duration": 22099,
    "start_time": "2022-01-08T23:44:02.608Z"
   },
   {
    "duration": 270,
    "start_time": "2022-01-08T23:44:24.708Z"
   },
   {
    "duration": 13,
    "start_time": "2022-01-08T23:44:24.980Z"
   },
   {
    "duration": 3,
    "start_time": "2022-01-08T23:44:24.994Z"
   },
   {
    "duration": 7673,
    "start_time": "2022-01-08T23:44:24.999Z"
   },
   {
    "duration": 197,
    "start_time": "2022-01-08T23:44:32.674Z"
   },
   {
    "duration": 9,
    "start_time": "2022-01-08T23:44:32.873Z"
   },
   {
    "duration": 43,
    "start_time": "2022-01-08T23:44:32.884Z"
   },
   {
    "duration": 7442,
    "start_time": "2022-01-08T23:44:32.929Z"
   },
   {
    "duration": 200,
    "start_time": "2022-01-08T23:44:40.373Z"
   },
   {
    "duration": 13,
    "start_time": "2022-01-08T23:44:40.575Z"
   },
   {
    "duration": 41,
    "start_time": "2022-01-08T23:44:40.589Z"
   },
   {
    "duration": 96394,
    "start_time": "2022-01-08T23:44:40.631Z"
   },
   {
    "duration": 243,
    "start_time": "2022-01-08T23:46:17.026Z"
   },
   {
    "duration": 10,
    "start_time": "2022-01-08T23:46:17.271Z"
   },
   {
    "duration": 6,
    "start_time": "2022-01-08T23:46:17.282Z"
   },
   {
    "duration": 12,
    "start_time": "2022-01-08T23:46:17.289Z"
   },
   {
    "duration": 27,
    "start_time": "2022-01-08T23:46:17.303Z"
   },
   {
    "duration": 98,
    "start_time": "2022-01-08T23:46:17.332Z"
   },
   {
    "duration": 110,
    "start_time": "2022-01-08T23:46:17.432Z"
   },
   {
    "duration": 10,
    "start_time": "2022-01-08T23:46:17.544Z"
   },
   {
    "duration": 491,
    "start_time": "2022-01-08T23:46:17.555Z"
   },
   {
    "duration": 5,
    "start_time": "2022-01-08T23:46:18.048Z"
   },
   {
    "duration": 325,
    "start_time": "2022-01-09T06:47:58.275Z"
   },
   {
    "duration": 12076,
    "start_time": "2022-01-09T06:55:23.321Z"
   },
   {
    "duration": 2447,
    "start_time": "2022-01-09T06:55:35.400Z"
   },
   {
    "duration": 29,
    "start_time": "2022-01-09T06:55:37.849Z"
   },
   {
    "duration": 12,
    "start_time": "2022-01-09T06:55:37.879Z"
   },
   {
    "duration": 24,
    "start_time": "2022-01-09T06:55:37.893Z"
   },
   {
    "duration": 29,
    "start_time": "2022-01-09T06:55:37.918Z"
   },
   {
    "duration": 8611,
    "start_time": "2022-01-09T06:55:37.949Z"
   },
   {
    "duration": 12,
    "start_time": "2022-01-09T06:55:46.563Z"
   },
   {
    "duration": 9,
    "start_time": "2022-01-09T06:55:46.577Z"
   },
   {
    "duration": 9,
    "start_time": "2022-01-09T06:55:46.588Z"
   },
   {
    "duration": 11,
    "start_time": "2022-01-09T06:55:46.599Z"
   },
   {
    "duration": 57,
    "start_time": "2022-01-09T06:55:46.612Z"
   },
   {
    "duration": 4,
    "start_time": "2022-01-09T06:55:46.671Z"
   },
   {
    "duration": 15,
    "start_time": "2022-01-09T06:55:46.677Z"
   },
   {
    "duration": 3,
    "start_time": "2022-01-09T06:55:46.694Z"
   },
   {
    "duration": 9,
    "start_time": "2022-01-09T06:55:46.699Z"
   },
   {
    "duration": 15,
    "start_time": "2022-01-09T06:55:46.710Z"
   },
   {
    "duration": 35,
    "start_time": "2022-01-09T06:55:46.726Z"
   },
   {
    "duration": 6,
    "start_time": "2022-01-09T06:55:46.762Z"
   },
   {
    "duration": 8,
    "start_time": "2022-01-09T06:55:46.769Z"
   },
   {
    "duration": 81897,
    "start_time": "2022-01-09T06:55:46.778Z"
   },
   {
    "duration": 383,
    "start_time": "2022-01-09T06:57:08.762Z"
   },
   {
    "duration": 23,
    "start_time": "2022-01-09T06:57:09.148Z"
   },
   {
    "duration": 11,
    "start_time": "2022-01-09T06:57:09.173Z"
   },
   {
    "duration": 27181,
    "start_time": "2022-01-09T06:57:09.186Z"
   },
   {
    "duration": 99,
    "start_time": "2022-01-09T06:57:36.369Z"
   },
   {
    "duration": 455,
    "start_time": "2022-01-09T06:57:36.469Z"
   },
   {
    "duration": 11,
    "start_time": "2022-01-09T06:57:36.926Z"
   },
   {
    "duration": 21,
    "start_time": "2022-01-09T06:57:36.939Z"
   },
   {
    "duration": 24138,
    "start_time": "2022-01-09T06:57:36.962Z"
   },
   {
    "duration": 276,
    "start_time": "2022-01-09T06:58:01.102Z"
   },
   {
    "duration": 16,
    "start_time": "2022-01-09T06:58:01.380Z"
   },
   {
    "duration": 4,
    "start_time": "2022-01-09T06:58:01.398Z"
   },
   {
    "duration": 8850,
    "start_time": "2022-01-09T06:58:01.404Z"
   },
   {
    "duration": 242,
    "start_time": "2022-01-09T06:58:10.260Z"
   },
   {
    "duration": 11,
    "start_time": "2022-01-09T06:58:10.503Z"
   },
   {
    "duration": 6,
    "start_time": "2022-01-09T06:58:10.516Z"
   },
   {
    "duration": 7739,
    "start_time": "2022-01-09T06:58:10.523Z"
   },
   {
    "duration": 251,
    "start_time": "2022-01-09T06:58:18.263Z"
   },
   {
    "duration": 15,
    "start_time": "2022-01-09T06:58:18.515Z"
   },
   {
    "duration": 4,
    "start_time": "2022-01-09T06:58:18.532Z"
   },
   {
    "duration": 108841,
    "start_time": "2022-01-09T06:58:18.538Z"
   },
   {
    "duration": 320,
    "start_time": "2022-01-09T07:00:07.381Z"
   },
   {
    "duration": 11,
    "start_time": "2022-01-09T07:00:07.703Z"
   },
   {
    "duration": 14,
    "start_time": "2022-01-09T07:00:07.716Z"
   },
   {
    "duration": 48,
    "start_time": "2022-01-09T07:00:07.731Z"
   },
   {
    "duration": 45,
    "start_time": "2022-01-09T07:00:07.781Z"
   },
   {
    "duration": 123,
    "start_time": "2022-01-09T07:00:07.827Z"
   },
   {
    "duration": 120,
    "start_time": "2022-01-09T07:00:07.951Z"
   },
   {
    "duration": 562,
    "start_time": "2022-01-09T07:00:08.073Z"
   },
   {
    "duration": 247,
    "start_time": "2022-01-09T07:00:08.637Z"
   },
   {
    "duration": 4,
    "start_time": "2022-01-09T07:00:08.886Z"
   },
   {
    "duration": 3588,
    "start_time": "2022-01-09T07:04:05.802Z"
   },
   {
    "duration": 3517,
    "start_time": "2022-01-09T07:06:23.628Z"
   },
   {
    "duration": 3868,
    "start_time": "2022-01-09T07:07:05.581Z"
   },
   {
    "duration": 3517,
    "start_time": "2022-01-09T07:07:18.916Z"
   },
   {
    "duration": 3788,
    "start_time": "2022-01-09T07:07:35.860Z"
   },
   {
    "duration": 4067,
    "start_time": "2022-01-09T07:07:48.893Z"
   },
   {
    "duration": 3633,
    "start_time": "2022-01-09T07:10:17.303Z"
   },
   {
    "duration": 2679,
    "start_time": "2022-01-09T07:10:40.869Z"
   },
   {
    "duration": 2260,
    "start_time": "2022-01-09T07:10:43.551Z"
   },
   {
    "duration": 33,
    "start_time": "2022-01-09T07:10:45.815Z"
   },
   {
    "duration": 14,
    "start_time": "2022-01-09T07:10:45.850Z"
   },
   {
    "duration": 12,
    "start_time": "2022-01-09T07:10:45.866Z"
   },
   {
    "duration": 14,
    "start_time": "2022-01-09T07:10:45.879Z"
   },
   {
    "duration": 8795,
    "start_time": "2022-01-09T07:10:45.895Z"
   },
   {
    "duration": 12,
    "start_time": "2022-01-09T07:10:54.692Z"
   },
   {
    "duration": 12,
    "start_time": "2022-01-09T07:10:54.706Z"
   },
   {
    "duration": 46,
    "start_time": "2022-01-09T07:10:54.719Z"
   },
   {
    "duration": 11,
    "start_time": "2022-01-09T07:10:54.767Z"
   },
   {
    "duration": 14,
    "start_time": "2022-01-09T07:10:54.780Z"
   },
   {
    "duration": 5,
    "start_time": "2022-01-09T07:10:54.796Z"
   },
   {
    "duration": 13,
    "start_time": "2022-01-09T07:10:54.803Z"
   },
   {
    "duration": 10,
    "start_time": "2022-01-09T07:10:54.818Z"
   },
   {
    "duration": 8,
    "start_time": "2022-01-09T07:10:54.860Z"
   },
   {
    "duration": 27,
    "start_time": "2022-01-09T07:10:54.870Z"
   },
   {
    "duration": 21,
    "start_time": "2022-01-09T07:10:54.899Z"
   },
   {
    "duration": 19,
    "start_time": "2022-01-09T07:10:54.922Z"
   },
   {
    "duration": 15,
    "start_time": "2022-01-09T07:10:54.943Z"
   },
   {
    "duration": 81805,
    "start_time": "2022-01-09T07:10:54.960Z"
   },
   {
    "duration": 439,
    "start_time": "2022-01-09T07:12:16.770Z"
   },
   {
    "duration": 14,
    "start_time": "2022-01-09T07:12:17.211Z"
   },
   {
    "duration": 4,
    "start_time": "2022-01-09T07:12:17.227Z"
   },
   {
    "duration": 26033,
    "start_time": "2022-01-09T07:12:17.232Z"
   },
   {
    "duration": 536,
    "start_time": "2022-01-09T07:12:43.268Z"
   },
   {
    "duration": 11,
    "start_time": "2022-01-09T07:12:43.806Z"
   },
   {
    "duration": 15,
    "start_time": "2022-01-09T07:12:43.818Z"
   },
   {
    "duration": 23300,
    "start_time": "2022-01-09T07:12:43.835Z"
   },
   {
    "duration": 283,
    "start_time": "2022-01-09T07:13:07.137Z"
   },
   {
    "duration": 15,
    "start_time": "2022-01-09T07:13:07.423Z"
   },
   {
    "duration": 32,
    "start_time": "2022-01-09T07:13:07.440Z"
   },
   {
    "duration": 8738,
    "start_time": "2022-01-09T07:13:07.474Z"
   },
   {
    "duration": 297,
    "start_time": "2022-01-09T07:13:16.214Z"
   },
   {
    "duration": 11,
    "start_time": "2022-01-09T07:13:16.512Z"
   },
   {
    "duration": 8,
    "start_time": "2022-01-09T07:13:16.525Z"
   },
   {
    "duration": 8033,
    "start_time": "2022-01-09T07:13:16.534Z"
   },
   {
    "duration": 249,
    "start_time": "2022-01-09T07:13:24.569Z"
   },
   {
    "duration": 14,
    "start_time": "2022-01-09T07:13:24.820Z"
   },
   {
    "duration": 4,
    "start_time": "2022-01-09T07:13:24.836Z"
   },
   {
    "duration": 109594,
    "start_time": "2022-01-09T07:13:24.842Z"
   },
   {
    "duration": 276,
    "start_time": "2022-01-09T07:15:14.438Z"
   },
   {
    "duration": 12,
    "start_time": "2022-01-09T07:15:14.715Z"
   },
   {
    "duration": 10,
    "start_time": "2022-01-09T07:15:14.728Z"
   },
   {
    "duration": 22,
    "start_time": "2022-01-09T07:15:14.739Z"
   },
   {
    "duration": 15,
    "start_time": "2022-01-09T07:15:14.763Z"
   },
   {
    "duration": 117,
    "start_time": "2022-01-09T07:15:14.779Z"
   },
   {
    "duration": 124,
    "start_time": "2022-01-09T07:15:14.898Z"
   },
   {
    "duration": 539,
    "start_time": "2022-01-09T07:15:15.024Z"
   },
   {
    "duration": 3810,
    "start_time": "2022-01-09T07:15:15.565Z"
   },
   {
    "duration": 5,
    "start_time": "2022-01-09T07:15:19.376Z"
   },
   {
    "duration": 2473,
    "start_time": "2022-01-09T07:18:11.546Z"
   },
   {
    "duration": 2291,
    "start_time": "2022-01-09T07:18:14.021Z"
   },
   {
    "duration": 33,
    "start_time": "2022-01-09T07:18:16.314Z"
   },
   {
    "duration": 14,
    "start_time": "2022-01-09T07:18:16.349Z"
   },
   {
    "duration": 17,
    "start_time": "2022-01-09T07:18:16.365Z"
   },
   {
    "duration": 7,
    "start_time": "2022-01-09T07:18:16.383Z"
   },
   {
    "duration": 8769,
    "start_time": "2022-01-09T07:18:16.392Z"
   },
   {
    "duration": 11,
    "start_time": "2022-01-09T07:18:25.164Z"
   },
   {
    "duration": 23,
    "start_time": "2022-01-09T07:18:25.177Z"
   },
   {
    "duration": 28,
    "start_time": "2022-01-09T07:18:25.202Z"
   },
   {
    "duration": 17,
    "start_time": "2022-01-09T07:18:25.232Z"
   },
   {
    "duration": 35,
    "start_time": "2022-01-09T07:18:25.251Z"
   },
   {
    "duration": 14,
    "start_time": "2022-01-09T07:18:25.288Z"
   },
   {
    "duration": 18,
    "start_time": "2022-01-09T07:18:25.304Z"
   },
   {
    "duration": 14,
    "start_time": "2022-01-09T07:18:25.324Z"
   },
   {
    "duration": 36,
    "start_time": "2022-01-09T07:18:25.340Z"
   },
   {
    "duration": 34,
    "start_time": "2022-01-09T07:18:25.377Z"
   },
   {
    "duration": 31,
    "start_time": "2022-01-09T07:18:25.413Z"
   },
   {
    "duration": 6,
    "start_time": "2022-01-09T07:18:25.446Z"
   },
   {
    "duration": 29,
    "start_time": "2022-01-09T07:18:25.453Z"
   },
   {
    "duration": 83687,
    "start_time": "2022-01-09T07:18:25.483Z"
   },
   {
    "duration": 436,
    "start_time": "2022-01-09T07:19:49.173Z"
   },
   {
    "duration": 17,
    "start_time": "2022-01-09T07:19:49.613Z"
   },
   {
    "duration": 4,
    "start_time": "2022-01-09T07:19:49.633Z"
   },
   {
    "duration": 25937,
    "start_time": "2022-01-09T07:19:49.639Z"
   },
   {
    "duration": 481,
    "start_time": "2022-01-09T07:20:15.662Z"
   },
   {
    "duration": 20,
    "start_time": "2022-01-09T07:20:16.145Z"
   },
   {
    "duration": 7,
    "start_time": "2022-01-09T07:20:16.167Z"
   },
   {
    "duration": 23976,
    "start_time": "2022-01-09T07:20:16.176Z"
   },
   {
    "duration": 242,
    "start_time": "2022-01-09T07:20:40.161Z"
   },
   {
    "duration": 16,
    "start_time": "2022-01-09T07:20:40.405Z"
   },
   {
    "duration": 4,
    "start_time": "2022-01-09T07:20:40.423Z"
   },
   {
    "duration": 8789,
    "start_time": "2022-01-09T07:20:40.428Z"
   },
   {
    "duration": 273,
    "start_time": "2022-01-09T07:20:49.219Z"
   },
   {
    "duration": 12,
    "start_time": "2022-01-09T07:20:49.493Z"
   },
   {
    "duration": 6,
    "start_time": "2022-01-09T07:20:49.506Z"
   },
   {
    "duration": 7677,
    "start_time": "2022-01-09T07:20:49.514Z"
   },
   {
    "duration": 230,
    "start_time": "2022-01-09T07:20:57.193Z"
   },
   {
    "duration": 15,
    "start_time": "2022-01-09T07:20:57.424Z"
   },
   {
    "duration": 23,
    "start_time": "2022-01-09T07:20:57.441Z"
   },
   {
    "duration": 107550,
    "start_time": "2022-01-09T07:20:57.465Z"
   },
   {
    "duration": 312,
    "start_time": "2022-01-09T07:22:45.017Z"
   },
   {
    "duration": 13,
    "start_time": "2022-01-09T07:22:45.330Z"
   },
   {
    "duration": 18,
    "start_time": "2022-01-09T07:22:45.344Z"
   },
   {
    "duration": 12,
    "start_time": "2022-01-09T07:22:45.363Z"
   },
   {
    "duration": 16,
    "start_time": "2022-01-09T07:22:45.376Z"
   },
   {
    "duration": 128,
    "start_time": "2022-01-09T07:22:45.394Z"
   },
   {
    "duration": 118,
    "start_time": "2022-01-09T07:22:45.524Z"
   },
   {
    "duration": 536,
    "start_time": "2022-01-09T07:22:45.644Z"
   },
   {
    "duration": 3629,
    "start_time": "2022-01-09T07:22:46.182Z"
   },
   {
    "duration": 5,
    "start_time": "2022-01-09T07:22:49.814Z"
   },
   {
    "duration": 669,
    "start_time": "2022-01-09T07:31:12.709Z"
   },
   {
    "duration": 713,
    "start_time": "2022-01-09T07:31:46.149Z"
   },
   {
    "duration": 2629,
    "start_time": "2022-01-09T07:32:29.492Z"
   },
   {
    "duration": 2301,
    "start_time": "2022-01-09T07:32:32.124Z"
   },
   {
    "duration": 31,
    "start_time": "2022-01-09T07:32:34.427Z"
   },
   {
    "duration": 16,
    "start_time": "2022-01-09T07:32:34.461Z"
   },
   {
    "duration": 14,
    "start_time": "2022-01-09T07:32:34.479Z"
   },
   {
    "duration": 6,
    "start_time": "2022-01-09T07:32:34.496Z"
   },
   {
    "duration": 9088,
    "start_time": "2022-01-09T07:32:34.503Z"
   },
   {
    "duration": 12,
    "start_time": "2022-01-09T07:32:43.594Z"
   },
   {
    "duration": 53,
    "start_time": "2022-01-09T07:32:43.608Z"
   },
   {
    "duration": 10,
    "start_time": "2022-01-09T07:32:43.663Z"
   },
   {
    "duration": 13,
    "start_time": "2022-01-09T07:32:43.675Z"
   },
   {
    "duration": 27,
    "start_time": "2022-01-09T07:32:43.689Z"
   },
   {
    "duration": 10,
    "start_time": "2022-01-09T07:32:43.718Z"
   },
   {
    "duration": 30,
    "start_time": "2022-01-09T07:32:43.730Z"
   },
   {
    "duration": 4,
    "start_time": "2022-01-09T07:32:43.762Z"
   },
   {
    "duration": 34,
    "start_time": "2022-01-09T07:32:43.768Z"
   },
   {
    "duration": 32,
    "start_time": "2022-01-09T07:32:43.804Z"
   },
   {
    "duration": 20,
    "start_time": "2022-01-09T07:32:43.838Z"
   },
   {
    "duration": 17,
    "start_time": "2022-01-09T07:32:43.859Z"
   },
   {
    "duration": 8,
    "start_time": "2022-01-09T07:32:43.878Z"
   },
   {
    "duration": 81774,
    "start_time": "2022-01-09T07:32:43.888Z"
   },
   {
    "duration": 347,
    "start_time": "2022-01-09T07:34:05.665Z"
   },
   {
    "duration": 15,
    "start_time": "2022-01-09T07:34:06.015Z"
   },
   {
    "duration": 5,
    "start_time": "2022-01-09T07:34:06.032Z"
   },
   {
    "duration": 26740,
    "start_time": "2022-01-09T07:34:06.039Z"
   },
   {
    "duration": 568,
    "start_time": "2022-01-09T07:34:32.862Z"
   },
   {
    "duration": 12,
    "start_time": "2022-01-09T07:34:33.432Z"
   },
   {
    "duration": 4,
    "start_time": "2022-01-09T07:34:33.461Z"
   },
   {
    "duration": 24054,
    "start_time": "2022-01-09T07:34:33.467Z"
   },
   {
    "duration": 270,
    "start_time": "2022-01-09T07:34:57.523Z"
   },
   {
    "duration": 15,
    "start_time": "2022-01-09T07:34:57.794Z"
   },
   {
    "duration": 4,
    "start_time": "2022-01-09T07:34:57.810Z"
   },
   {
    "duration": 9161,
    "start_time": "2022-01-09T07:34:57.816Z"
   },
   {
    "duration": 233,
    "start_time": "2022-01-09T07:35:06.979Z"
   },
   {
    "duration": 11,
    "start_time": "2022-01-09T07:35:07.214Z"
   },
   {
    "duration": 5,
    "start_time": "2022-01-09T07:35:07.227Z"
   },
   {
    "duration": 8027,
    "start_time": "2022-01-09T07:35:07.233Z"
   },
   {
    "duration": 251,
    "start_time": "2022-01-09T07:35:15.262Z"
   },
   {
    "duration": 15,
    "start_time": "2022-01-09T07:35:15.515Z"
   },
   {
    "duration": 4,
    "start_time": "2022-01-09T07:35:15.532Z"
   },
   {
    "duration": 109092,
    "start_time": "2022-01-09T07:35:15.538Z"
   },
   {
    "duration": 289,
    "start_time": "2022-01-09T07:37:04.632Z"
   },
   {
    "duration": 13,
    "start_time": "2022-01-09T07:37:04.922Z"
   },
   {
    "duration": 25,
    "start_time": "2022-01-09T07:37:04.937Z"
   },
   {
    "duration": 13,
    "start_time": "2022-01-09T07:37:04.963Z"
   },
   {
    "duration": 16,
    "start_time": "2022-01-09T07:37:04.978Z"
   },
   {
    "duration": 130,
    "start_time": "2022-01-09T07:37:04.996Z"
   },
   {
    "duration": 120,
    "start_time": "2022-01-09T07:37:05.128Z"
   },
   {
    "duration": 538,
    "start_time": "2022-01-09T07:37:05.249Z"
   },
   {
    "duration": 3551,
    "start_time": "2022-01-09T07:37:05.789Z"
   },
   {
    "duration": 5,
    "start_time": "2022-01-09T07:37:09.341Z"
   }
  ],
  "kernelspec": {
   "display_name": "Python 3 (ipykernel)",
   "language": "python",
   "name": "python3"
  },
  "language_info": {
   "codemirror_mode": {
    "name": "ipython",
    "version": 3
   },
   "file_extension": ".py",
   "mimetype": "text/x-python",
   "name": "python",
   "nbconvert_exporter": "python",
   "pygments_lexer": "ipython3",
   "version": "3.9.12"
  },
  "toc": {
   "base_numbering": 1,
   "nav_menu": {
    "height": "37px",
    "width": "209px"
   },
   "number_sections": true,
   "sideBar": true,
   "skip_h1_title": true,
   "title_cell": "",
   "title_sidebar": "Contents",
   "toc_cell": true,
   "toc_position": {
    "height": "calc(100% - 180px)",
    "left": "10px",
    "top": "150px",
    "width": "272.233px"
   },
   "toc_section_display": true,
   "toc_window_display": false
  }
 },
 "nbformat": 4,
 "nbformat_minor": 2
}
