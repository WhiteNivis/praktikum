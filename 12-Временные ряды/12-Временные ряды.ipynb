{
 "cells": [
  {
   "cell_type": "markdown",
   "metadata": {
    "toc": true
   },
   "source": [
    "<h1>Содержание<span class=\"tocSkip\"></span></h1>\n",
    "<div class=\"toc\"><ul class=\"toc-item\"><li><span><a href=\"#Подготовка\" data-toc-modified-id=\"Подготовка-1\"><span class=\"toc-item-num\">1&nbsp;&nbsp;</span>Подготовка</a></span></li><li><span><a href=\"#Анализ\" data-toc-modified-id=\"Анализ-2\"><span class=\"toc-item-num\">2&nbsp;&nbsp;</span>Анализ</a></span></li><li><span><a href=\"#Обучение\" data-toc-modified-id=\"Обучение-3\"><span class=\"toc-item-num\">3&nbsp;&nbsp;</span>Обучение</a></span></li><li><span><a href=\"#Тестирование\" data-toc-modified-id=\"Тестирование-4\"><span class=\"toc-item-num\">4&nbsp;&nbsp;</span>Тестирование</a></span></li></ul></div>"
   ]
  },
  {
   "cell_type": "markdown",
   "metadata": {},
   "source": [
    "#  Прогнозирование заказов такси"
   ]
  },
  {
   "cell_type": "markdown",
   "metadata": {},
   "source": [
    "Компания «Чётенькое такси» собрала исторические данные о заказах такси в аэропортах. Чтобы привлекать больше водителей в период пиковой нагрузки, нужно спрогнозировать количество заказов такси на следующий час. \n",
    "\n",
    "<font color='green'>Цель</font>\n",
    "\n",
    "Построить модель для предсказания количество заказов такси. Значение метрики *RMSE* на тестовой выборке должно быть не больше 48.\n",
    "\n",
    "<font color='green'>Задачи</font>\n",
    "\n",
    "1. Загрузить данные и выполнить их ресемплирование по одному часу.\n",
    "2. Проанализировать данные.\n",
    "3. Обучить разные модели с различными гиперпараметрами. Сделать тестовую выборку размером 10% от исходных данных.\n",
    "4. Проверить данные на тестовой выборке и сделать выводы.\n",
    "\n",
    "<font color='green'>Файлы</font>\n",
    "\n",
    "- `taxi.csv` \n",
    "\n",
    "<font color='green'>Целевой признак</font>\n",
    "\n",
    "- `num_orders` - кол-во заказов такси."
   ]
  },
  {
   "cell_type": "markdown",
   "metadata": {},
   "source": [
    "## Подготовка"
   ]
  },
  {
   "cell_type": "code",
   "execution_count": 2,
   "metadata": {},
   "outputs": [],
   "source": [
    "import pandas as pd\n",
    "import numpy as np\n",
    "import seaborn as sns\n",
    "import matplotlib.pyplot as plt\n",
    "%matplotlib inline\n",
    "\n",
    "from sklearn.model_selection import train_test_split, GridSearchCV, TimeSeriesSplit\n",
    "from sklearn.linear_model import LinearRegression\n",
    "from sklearn.tree import DecisionTreeRegressor\n",
    "from sklearn.dummy import DummyRegressor\n",
    "from sklearn.ensemble import RandomForestRegressor\n",
    "from sklearn.metrics import mean_squared_error              \n",
    "\n",
    "from statsmodels.tsa.seasonal import seasonal_decompose\n",
    "from statsmodels.tsa.stattools import adfuller\n",
    "\n",
    "from catboost import CatBoostRegressor\n",
    "\n",
    "import shap\n",
    "import os"
   ]
  },
  {
   "cell_type": "code",
   "execution_count": 3,
   "metadata": {},
   "outputs": [],
   "source": [
    "pth1 = '/ML/datasets/taxi.csv'\n",
    "pth2 = '/datasets/taxi.csv'\n",
    "\n",
    "if os.path.exists(pth1):\n",
    "    data = pd.read_csv(pth1, index_col=[0], parse_dates=[0])\n",
    "elif os.path.exists(pth2):\n",
    "    data = pd.read_csv(pth2, index_col=[0], parse_dates=[0])\n",
    "else:\n",
    "    print('Something is wrong')\n",
    "    \n",
    "data.sort_index(inplace=True)\n",
    "data = data.resample('1H').sum()"
   ]
  },
  {
   "cell_type": "code",
   "execution_count": 4,
   "metadata": {},
   "outputs": [
    {
     "data": {
      "text/html": [
       "<div>\n",
       "<style scoped>\n",
       "    .dataframe tbody tr th:only-of-type {\n",
       "        vertical-align: middle;\n",
       "    }\n",
       "\n",
       "    .dataframe tbody tr th {\n",
       "        vertical-align: top;\n",
       "    }\n",
       "\n",
       "    .dataframe thead th {\n",
       "        text-align: right;\n",
       "    }\n",
       "</style>\n",
       "<table border=\"1\" class=\"dataframe\">\n",
       "  <thead>\n",
       "    <tr style=\"text-align: right;\">\n",
       "      <th></th>\n",
       "      <th>num_orders</th>\n",
       "    </tr>\n",
       "    <tr>\n",
       "      <th>datetime</th>\n",
       "      <th></th>\n",
       "    </tr>\n",
       "  </thead>\n",
       "  <tbody>\n",
       "    <tr>\n",
       "      <th>2018-03-01 00:00:00</th>\n",
       "      <td>124</td>\n",
       "    </tr>\n",
       "    <tr>\n",
       "      <th>2018-03-01 01:00:00</th>\n",
       "      <td>85</td>\n",
       "    </tr>\n",
       "    <tr>\n",
       "      <th>2018-03-01 02:00:00</th>\n",
       "      <td>71</td>\n",
       "    </tr>\n",
       "    <tr>\n",
       "      <th>2018-03-01 03:00:00</th>\n",
       "      <td>66</td>\n",
       "    </tr>\n",
       "    <tr>\n",
       "      <th>2018-03-01 04:00:00</th>\n",
       "      <td>43</td>\n",
       "    </tr>\n",
       "    <tr>\n",
       "      <th>...</th>\n",
       "      <td>...</td>\n",
       "    </tr>\n",
       "    <tr>\n",
       "      <th>2018-08-31 19:00:00</th>\n",
       "      <td>136</td>\n",
       "    </tr>\n",
       "    <tr>\n",
       "      <th>2018-08-31 20:00:00</th>\n",
       "      <td>154</td>\n",
       "    </tr>\n",
       "    <tr>\n",
       "      <th>2018-08-31 21:00:00</th>\n",
       "      <td>159</td>\n",
       "    </tr>\n",
       "    <tr>\n",
       "      <th>2018-08-31 22:00:00</th>\n",
       "      <td>223</td>\n",
       "    </tr>\n",
       "    <tr>\n",
       "      <th>2018-08-31 23:00:00</th>\n",
       "      <td>205</td>\n",
       "    </tr>\n",
       "  </tbody>\n",
       "</table>\n",
       "<p>4416 rows × 1 columns</p>\n",
       "</div>"
      ],
      "text/plain": [
       "                     num_orders\n",
       "datetime                       \n",
       "2018-03-01 00:00:00         124\n",
       "2018-03-01 01:00:00          85\n",
       "2018-03-01 02:00:00          71\n",
       "2018-03-01 03:00:00          66\n",
       "2018-03-01 04:00:00          43\n",
       "...                         ...\n",
       "2018-08-31 19:00:00         136\n",
       "2018-08-31 20:00:00         154\n",
       "2018-08-31 21:00:00         159\n",
       "2018-08-31 22:00:00         223\n",
       "2018-08-31 23:00:00         205\n",
       "\n",
       "[4416 rows x 1 columns]"
      ]
     },
     "execution_count": 4,
     "metadata": {},
     "output_type": "execute_result"
    }
   ],
   "source": [
    "data"
   ]
  },
  {
   "cell_type": "code",
   "execution_count": 5,
   "metadata": {},
   "outputs": [
    {
     "name": "stdout",
     "output_type": "stream",
     "text": [
      "<class 'pandas.core.frame.DataFrame'>\n",
      "DatetimeIndex: 4416 entries, 2018-03-01 00:00:00 to 2018-08-31 23:00:00\n",
      "Freq: H\n",
      "Data columns (total 1 columns):\n",
      " #   Column      Non-Null Count  Dtype\n",
      "---  ------      --------------  -----\n",
      " 0   num_orders  4416 non-null   int64\n",
      "dtypes: int64(1)\n",
      "memory usage: 69.0 KB\n"
     ]
    }
   ],
   "source": [
    "data.info()"
   ]
  },
  {
   "cell_type": "markdown",
   "metadata": {},
   "source": [
    "Проверим наличие пропусков."
   ]
  },
  {
   "cell_type": "code",
   "execution_count": 6,
   "metadata": {},
   "outputs": [
    {
     "data": {
      "text/plain": [
       "num_orders    0\n",
       "dtype: int64"
      ]
     },
     "execution_count": 6,
     "metadata": {},
     "output_type": "execute_result"
    }
   ],
   "source": [
    "data.isnull().sum()"
   ]
  },
  {
   "cell_type": "markdown",
   "metadata": {},
   "source": [
    "Проверим наличие дубликатов."
   ]
  },
  {
   "cell_type": "code",
   "execution_count": 7,
   "metadata": {},
   "outputs": [
    {
     "data": {
      "text/html": [
       "<div>\n",
       "<style scoped>\n",
       "    .dataframe tbody tr th:only-of-type {\n",
       "        vertical-align: middle;\n",
       "    }\n",
       "\n",
       "    .dataframe tbody tr th {\n",
       "        vertical-align: top;\n",
       "    }\n",
       "\n",
       "    .dataframe thead th {\n",
       "        text-align: right;\n",
       "    }\n",
       "</style>\n",
       "<table border=\"1\" class=\"dataframe\">\n",
       "  <thead>\n",
       "    <tr style=\"text-align: right;\">\n",
       "      <th></th>\n",
       "      <th>num_orders</th>\n",
       "    </tr>\n",
       "    <tr>\n",
       "      <th>datetime</th>\n",
       "      <th></th>\n",
       "    </tr>\n",
       "  </thead>\n",
       "  <tbody>\n",
       "  </tbody>\n",
       "</table>\n",
       "</div>"
      ],
      "text/plain": [
       "Empty DataFrame\n",
       "Columns: [num_orders]\n",
       "Index: []"
      ]
     },
     "execution_count": 7,
     "metadata": {},
     "output_type": "execute_result"
    }
   ],
   "source": [
    "data[data.index.duplicated(keep=False)]"
   ]
  },
  {
   "cell_type": "markdown",
   "metadata": {},
   "source": [
    "**Вывод**"
   ]
  },
  {
   "cell_type": "markdown",
   "metadata": {},
   "source": [
    "Данные загружены. Пропуски и дубликаты не выявлены."
   ]
  },
  {
   "cell_type": "markdown",
   "metadata": {},
   "source": [
    "## Анализ"
   ]
  },
  {
   "cell_type": "markdown",
   "metadata": {},
   "source": [
    "Создадим скользящее среднее для наших данных."
   ]
  },
  {
   "cell_type": "code",
   "execution_count": 8,
   "metadata": {},
   "outputs": [],
   "source": [
    "data['rolling_mean'] = data['num_orders'].shift().rolling(12).mean()\n",
    "data = data.dropna()\n",
    "decomposed = seasonal_decompose(data['num_orders'])"
   ]
  },
  {
   "cell_type": "code",
   "execution_count": 9,
   "metadata": {},
   "outputs": [
    {
     "data": {
      "image/png": "[encoded data removed]",
      "text/plain": [
       "<Figure size 864x504 with 1 Axes>"
      ]
     },
     "metadata": {
      "needs_background": "light"
     },
     "output_type": "display_data"
    }
   ],
   "source": [
    "plt.figure(figsize=(12, 7))\n",
    "sns.lineplot(x=data.index, y='num_orders', data=data, label='ряд')\n",
    "sns.lineplot(x=data.index, y='rolling_mean', data=data, label='mean')\n",
    "plt.xlabel('Дата', fontsize=12)\n",
    "plt.ylabel('Кол-во заказов', fontsize=12)\n",
    "plt.title('Временной ряд заказов такси', fontsize=15);"
   ]
  },
  {
   "cell_type": "markdown",
   "metadata": {},
   "source": [
    "Посмотрим на остаток декомпозиции временного ряда."
   ]
  },
  {
   "cell_type": "code",
   "execution_count": 10,
   "metadata": {},
   "outputs": [
    {
     "data": {
      "image/png": "[encoded data removed]",
      "text/plain": [
       "<Figure size 864x504 with 1 Axes>"
      ]
     },
     "metadata": {
      "needs_background": "light"
     },
     "output_type": "display_data"
    }
   ],
   "source": [
    "plt.figure(figsize=(12, 7))\n",
    "sns.lineplot(x=data.index, y=decomposed.resid, data=decomposed)\n",
    "plt.xlabel('Дата', fontsize=12)\n",
    "plt.ylabel('Отклонение', fontsize=12)\n",
    "plt.title('Остаток декомпозиции временного ряда', fontsize=15);"
   ]
  },
  {
   "cell_type": "markdown",
   "metadata": {},
   "source": [
    "Остатки ведут себя достаточно стабильно. Есть выбросы в конце периода.\n",
    "\n",
    "Проверим гипотезу о стационарности временного ряда c помощью теста Дики-Фуллера (ADF).\n",
    "\n",
    "- **$H_0$** (нулевая гипотеза): временной ряд не стационарен.\n",
    "- **$H_1$** (альтернативная гипотеза): временной ряд стационарен."
   ]
  },
  {
   "cell_type": "code",
   "execution_count": 11,
   "metadata": {},
   "outputs": [
    {
     "name": "stdout",
     "output_type": "stream",
     "text": [
      "Критерий ADF: -3.035768\n",
      "P-значение: 0.031686\n",
      "Критические значения с разными доверительными интервалами:\n",
      "\t1%: -3.432\n",
      "Нулевая гипотеза не отвергнута – Временной ряд не стационарен\n",
      "\t5%: -2.862\n",
      "Нулевая гипотеза отвергнута – Временной ряд стационарен\n",
      "\t10%: -2.567\n",
      "Нулевая гипотеза отвергнута – Временной ряд стационарен\n"
     ]
    }
   ],
   "source": [
    "result = adfuller(data['num_orders'])\n",
    "print('Критерий ADF: %f' % result[0])\n",
    "print('P-значение: %f' % result[1])\n",
    "print('Критические значения с разными доверительными интервалами:')\n",
    "\n",
    "for key, value in result[4].items():\n",
    "    print('\\t%s: %.3f' % (key, value))\n",
    "    if result[0] < result[4][key]:\n",
    "        print ('Нулевая гипотеза отвергнута – Временной ряд стационарен')\n",
    "    else:\n",
    "        print ('Нулевая гипотеза не отвергнута – Временной ряд не стационарен')"
   ]
  },
  {
   "cell_type": "markdown",
   "metadata": {},
   "source": [
    "Критический уровень статистической значимости 5% и выше позволяет говорить нам о том, что ряд стационарен."
   ]
  },
  {
   "cell_type": "markdown",
   "metadata": {},
   "source": [
    "Посмотрим на тренд и сезонность."
   ]
  },
  {
   "cell_type": "code",
   "execution_count": 12,
   "metadata": {
    "scrolled": false
   },
   "outputs": [
    {
     "data": {
      "image/png": "[encoded data removed]",
      "text/plain": [
       "<Figure size 864x504 with 1 Axes>"
      ]
     },
     "metadata": {},
     "output_type": "display_data"
    },
    {
     "data": {
      "image/png": "[encoded data removed]",
      "text/plain": [
       "<Figure size 864x504 with 1 Axes>"
      ]
     },
     "metadata": {},
     "output_type": "display_data"
    },
    {
     "data": {
      "image/png": "[encoded data removed]",
      "text/plain": [
       "<Figure size 864x504 with 1 Axes>"
      ]
     },
     "metadata": {},
     "output_type": "display_data"
    }
   ],
   "source": [
    "sns.set(style=\"whitegrid\")\n",
    "plt.figure(figsize=(12, 7))\n",
    "sns.lineplot(x=data.index, y=decomposed.trend, data=decomposed)\n",
    "plt.xlabel('Дата', fontsize=12)\n",
    "plt.ylabel('Кол-во заказов', fontsize=12)\n",
    "plt.title('Тренд заказов такси', fontsize=15)\n",
    "\n",
    "plt.figure(figsize=(12, 7))\n",
    "sns.lineplot(x=data['2018-03-01':'2018-03-07'].index, y=decomposed.seasonal['2018-03-01':'2018-03-07'], data=decomposed)\n",
    "plt.xlabel('Дата в масштабе недели', fontsize=12)\n",
    "plt.ylabel('Отклонение', fontsize=12)\n",
    "plt.title('Сезонность заказов такси', fontsize=15)\n",
    "\n",
    "plt.figure(figsize=(12, 7))\n",
    "sns.lineplot(x=data['2018-03-01':'2018-03-02'].index.hour, y=decomposed.seasonal['2018-03-01':'2018-03-02'], data=decomposed)\n",
    "plt.xlabel('Время суток (часы)', fontsize=12)\n",
    "plt.ylabel('Отклонение', fontsize=12)\n",
    "plt.title('Сезонность заказов такси', fontsize=15)\n",
    "plt.xticks(range(23));"
   ]
  },
  {
   "cell_type": "markdown",
   "metadata": {},
   "source": [
    "Наблюдается общий восходящий тренд и цикличность периодом в 1 сутки. \n",
    "С учётом суточного характера сезонности, максимум заказов наблюдается в районе 0:00, минимум - в районе 6:00. Подобная картина, вероятно, связана с графиком работы метро и аэроэкспрессов/автобусов. Часть пассажиров выбирает такси при отсутствии возможности воспользоваться альтернативным транспортом. Локальные минимумы в 12.00 и в 18.00 могут быть связаны как с временем обеда/ужина, так и с расписанием рейсов с самых популярных направлений."
   ]
  },
  {
   "cell_type": "markdown",
   "metadata": {},
   "source": [
    "**Вывод**"
   ]
  },
  {
   "cell_type": "markdown",
   "metadata": {},
   "source": [
    "Критический уровень статистической значимости 5% и выше позволяет говорить о стационарности рассматриваемого ряда.\n",
    "В ходе анализа также выявлены:\n",
    "  \n",
    "  - общий восходящий тренд;\n",
    "  - цикличность периодом в 1 сутки."
   ]
  },
  {
   "cell_type": "markdown",
   "metadata": {},
   "source": [
    "## Обучение"
   ]
  },
  {
   "cell_type": "markdown",
   "metadata": {},
   "source": [
    "Учитывая, что данные о заказах такси есть за период с марта 2018 по август 2018 включительно, cоздадим новые признаки."
   ]
  },
  {
   "cell_type": "code",
   "execution_count": 13,
   "metadata": {},
   "outputs": [],
   "source": [
    "def make_features(data, max_lag):\n",
    "    df = data.copy()\n",
    "    \n",
    "    df['day'] = df.index.day\n",
    "    df['dayofweek'] = df.index.dayofweek\n",
    "    df['hour'] = df.index.hour\n",
    "    \n",
    "    for lag in range(1, max_lag + 1):\n",
    "        df['lag_{}'.format(lag)] = df['num_orders'].shift(lag)\n",
    "\n",
    "    return df\n",
    "\n",
    "df = make_features(data, 7)"
   ]
  },
  {
   "cell_type": "code",
   "execution_count": 14,
   "metadata": {},
   "outputs": [],
   "source": [
    "train, test = train_test_split(df, shuffle=False, test_size=0.1)\n",
    "train = train.dropna()"
   ]
  },
  {
   "cell_type": "code",
   "execution_count": 15,
   "metadata": {},
   "outputs": [],
   "source": [
    "y_train = train['num_orders']\n",
    "X_train = train.drop('num_orders', axis=1)\n",
    "y_test = test['num_orders']\n",
    "X_test = test.drop('num_orders', axis=1)"
   ]
  },
  {
   "cell_type": "code",
   "execution_count": 16,
   "metadata": {},
   "outputs": [
    {
     "name": "stdout",
     "output_type": "stream",
     "text": [
      "\n",
      "Модель: LinearRegression\n",
      "Лучшие параметры : {}\n",
      "Лучшее значение RMSE на train: 33.7812\n",
      "\n",
      "Модель: Random Forest\n",
      "Лучшие параметры : {'max_depth': 8, 'max_features': 8}\n",
      "Лучшее значение RMSE на train: 28.5464\n",
      "\n",
      "Модель: CatBoost\n",
      "Лучшие параметры : {'depth': 4, 'iterations': 1400, 'learning_rate': 0.01}\n",
      "Лучшее значение RMSE на train: 27.2781\n",
      "\n",
      "Модель: DecisionTree\n",
      "Лучшие параметры : {'max_depth': 7, 'max_features': 10}\n",
      "Лучшее значение RMSE на train: 31.6116\n",
      "\n",
      "Модель с лучшим значением RMSE на train: CatBoost\n",
      "Параметры лучшей модели: {'depth': 4, 'iterations': 1400, 'learning_rate': 0.01}\n"
     ]
    }
   ],
   "source": [
    "regressions = [\n",
    "                LinearRegression(),\n",
    "                RandomForestRegressor(random_state = 12345),\n",
    "                CatBoostRegressor(verbose=False, random_state = 12345),\n",
    "                DecisionTreeRegressor(random_state = 12345)\n",
    "              ]\n",
    "\n",
    "regressions_dict = {0: 'LinearRegression',\n",
    "                    1: 'Random Forest',\n",
    "                    2: 'CatBoost',\n",
    "                    3: 'DecisionTree'}\n",
    "\n",
    "param = {\n",
    "             0:{},\n",
    "    \n",
    "             1:{'max_depth' : range (3,9),\n",
    "                'max_features': range (1,11,1)},\n",
    "    \n",
    "             2:{'learning_rate': [0.001,0.01,0.1],\n",
    "                'depth': [2,4,6],\n",
    "                'iterations': range(900,1500,100)},\n",
    "    \n",
    "             3:{'max_depth' : range(3, 9),\n",
    "                'max_features': range(1,11,1)}   \n",
    "        }\n",
    "\n",
    "\n",
    "best_rmse = 48.0\n",
    "best_param = 0\n",
    "best_model = ''\n",
    "best_model_index = ''\n",
    "index = 0\n",
    "\n",
    "for reg in regressions:\n",
    "    \n",
    "    tscv = TimeSeriesSplit(n_splits=3)\n",
    "    model = GridSearchCV(estimator=reg, param_grid=param[index], scoring='neg_mean_squared_error', cv=tscv) \n",
    "    model.fit(X_train, y_train)\n",
    "    rmse = (-1*model.best_score_)**0.5\n",
    "    if rmse < best_rmse:\n",
    "        best_rmse = rmse\n",
    "        best_model_index = regressions_dict[index]\n",
    "        best_model = reg\n",
    "        best_param = model.best_params_\n",
    "        \n",
    "    print('\\nМодель: {}'.format(regressions_dict[index]))\n",
    "    print('Лучшие параметры : {}'.format(model.best_params_))\n",
    "    print('Лучшее значение RMSE на train: {:.4f}'.format(rmse))\n",
    "    \n",
    "    index += 1\n",
    "    \n",
    "print('\\nМодель с лучшим значением RMSE на train: {}'.format(best_model_index))\n",
    "print('Параметры лучшей модели:', best_param)"
   ]
  },
  {
   "cell_type": "markdown",
   "metadata": {},
   "source": [
    "**Вывод**"
   ]
  },
  {
   "cell_type": "code",
   "execution_count": 17,
   "metadata": {},
   "outputs": [
    {
     "name": "stdout",
     "output_type": "stream",
     "text": [
      "\n",
      "Модель с лучшим значением RMSE на train: CatBoost\n",
      "RMSE на train:  27.2781\n",
      "Параметры лучшей модели: {'depth': 4, 'iterations': 1400, 'learning_rate': 0.01}\n"
     ]
    }
   ],
   "source": [
    "print('\\nМодель с лучшим значением RMSE на train: {}'.format(best_model_index))\n",
    "print('RMSE на train:  {:.4f}'.format(best_rmse))\n",
    "print('Параметры лучшей модели:', best_param)"
   ]
  },
  {
   "cell_type": "markdown",
   "metadata": {},
   "source": [
    "## Тестирование"
   ]
  },
  {
   "cell_type": "markdown",
   "metadata": {},
   "source": [
    "Проверим лучшую модель на test."
   ]
  },
  {
   "cell_type": "code",
   "execution_count": 18,
   "metadata": {},
   "outputs": [
    {
     "name": "stdout",
     "output_type": "stream",
     "text": [
      "RMSE лучшей модели на test:  45.2954\n"
     ]
    }
   ],
   "source": [
    "model = CatBoostRegressor(depth=6, iterations=1400, learning_rate=0.01, verbose=False)\n",
    "model.fit(X_train, y_train)\n",
    "predicted_test = model.predict(X_test)\n",
    "print('RMSE лучшей модели на test:  {:.4f}'.format(mean_squared_error(y_test, predicted_test, squared=False)))\n",
    "\n",
    "explainer = shap.Explainer(model)\n",
    "\n",
    "shap_values_1 = explainer(X_train)\n",
    "shap_values_2 = shap.TreeExplainer(model).shap_values(X_train)"
   ]
  },
  {
   "cell_type": "markdown",
   "metadata": {},
   "source": [
    "Проверим модель на адекватность, сравнив с исскуственной."
   ]
  },
  {
   "cell_type": "code",
   "execution_count": 19,
   "metadata": {},
   "outputs": [
    {
     "name": "stdout",
     "output_type": "stream",
     "text": [
      "\n",
      "Стратегия модели: mean\n",
      "RMSE модели на test:  84.7431\n",
      "\n",
      "Стратегия модели: median\n",
      "RMSE модели на test:  87.2421\n"
     ]
    }
   ],
   "source": [
    "strategies = ['mean', 'median']\n",
    "\n",
    "for strategy in strategies:\n",
    "\n",
    "    baseline_model = DummyRegressor(strategy=strategy)\n",
    "    baseline_model.fit(X_train, y_train)\n",
    "\n",
    "    predicted = baseline_model.predict(X_test)\n",
    "    \n",
    "    print('\\nСтратегия модели:', strategy)\n",
    "    print('RMSE модели на test:  {:.4f}'.format(mean_squared_error(y_test, predicted, squared=False)))"
   ]
  },
  {
   "cell_type": "markdown",
   "metadata": {},
   "source": [
    "Необходимый порог для RMSE достигнут. Модель прошла проверку на адекватность. Посмотрим на важность признаков."
   ]
  },
  {
   "cell_type": "code",
   "execution_count": 20,
   "metadata": {},
   "outputs": [
    {
     "data": {
      "image/png": "[encoded data removed]",
      "text/plain": [
       "<Figure size 576x468 with 1 Axes>"
      ]
     },
     "metadata": {},
     "output_type": "display_data"
    }
   ],
   "source": [
    "shap.plots.bar(shap_values_1)"
   ]
  },
  {
   "cell_type": "markdown",
   "metadata": {},
   "source": [
    "Топ 3 важных признаков модели:\n",
    "    \n",
    "    - время заказа (час)\n",
    "    - скользящее среднее\n",
    "    - предыдущее значение ряда\n",
    "    \n",
    "Посмотрим на них подробнее."
   ]
  },
  {
   "cell_type": "code",
   "execution_count": 21,
   "metadata": {},
   "outputs": [
    {
     "data": {
      "image/png": "[encoded data removed]",
      "text/plain": [
       "<Figure size 576x194.4 with 2 Axes>"
      ]
     },
     "metadata": {},
     "output_type": "display_data"
    }
   ],
   "source": [
    "shap.summary_plot(shap_values_2, X_train, max_display=3, plot_size='auto')"
   ]
  },
  {
   "cell_type": "markdown",
   "metadata": {},
   "source": [
    "    Чем краснее точки на графике, тем выше значения признака в ней.\n",
    "    Чем толще линия на графике, тем больше таких точек наблюдения. \n",
    "\n",
    "- время заказа (час): нелинейная зависимость, максимальное кол-во заказов в час приходится на ночное время, минимальное - на утро.  \n",
    "- скользящее среднее: значение этого признака прямопропорционально значению целевого признака.\n",
    "- предыдущее значение ряда: значение этого признака прямопропорционально значению целевого признака."
   ]
  },
  {
   "cell_type": "markdown",
   "metadata": {},
   "source": [
    "Результат работы модели."
   ]
  },
  {
   "cell_type": "code",
   "execution_count": 22,
   "metadata": {},
   "outputs": [
    {
     "data": {
      "image/png": "[encoded data removed]",
      "text/plain": [
       "<Figure size 1080x504 with 1 Axes>"
      ]
     },
     "metadata": {},
     "output_type": "display_data"
    }
   ],
   "source": [
    "plt.figure(figsize=(15, 7))\n",
    "plt.plot(y_test, label='Факт')\n",
    "plt.plot(pd.Series(predicted_test, index=y_test.index), label='Прогноз')\n",
    "plt.xlabel('Дата', fontsize=12)\n",
    "plt.ylabel('Кол-во заказов', fontsize=12)\n",
    "plt.title('Результат работы модели на тестовой выборке', fontsize=15)\n",
    "plt.xticks(fontsize=10, rotation=45)\n",
    "plt.legend()\n",
    "plt.show()"
   ]
  },
  {
   "cell_type": "markdown",
   "metadata": {},
   "source": [
    "В целом, модель предсказывает меньшее кол-во заказов чем фактические данные."
   ]
  },
  {
   "cell_type": "markdown",
   "metadata": {},
   "source": [
    "**Вывод**"
   ]
  },
  {
   "cell_type": "markdown",
   "metadata": {},
   "source": [
    "В ходе анализа временного ряда заказов такси выявлены общий восходящий тренд и цикличность  периодом в 1 сутки."
   ]
  },
  {
   "cell_type": "code",
   "execution_count": 23,
   "metadata": {},
   "outputs": [
    {
     "name": "stdout",
     "output_type": "stream",
     "text": [
      "\n",
      "Модель с лучшим значением RMSE на train: CatBoost\n",
      "RMSE на test:  45.2954\n",
      "Параметры лучшей модели: {'depth': 4, 'iterations': 1400, 'learning_rate': 0.01}\n"
     ]
    }
   ],
   "source": [
    "print('\\nМодель с лучшим значением RMSE на train: {}'.format(best_model_index))\n",
    "print('RMSE на test:  {:.4f}'.format(mean_squared_error(y_test, predicted_test, squared=False)))\n",
    "print('Параметры лучшей модели:', best_param)"
   ]
  },
  {
   "cell_type": "markdown",
   "metadata": {},
   "source": [
    "Топ 3 важных признаков модели:\n",
    "    \n",
    "    - время заказа (час)\n",
    "    - скользящее среднее\n",
    "    - предыдущее значение ряда"
   ]
  }
 ],
 "metadata": {
  "ExecuteTimeLog": [
   {
    "duration": 15036,
    "start_time": "2022-10-18T10:22:09.849Z"
   },
   {
    "duration": 3288,
    "start_time": "2022-10-18T10:22:24.887Z"
   },
   {
    "duration": 220,
    "start_time": "2022-10-18T10:22:28.178Z"
   },
   {
    "duration": 0,
    "start_time": "2022-10-18T10:22:28.408Z"
   },
   {
    "duration": 13198,
    "start_time": "2022-10-18T10:23:05.852Z"
   },
   {
    "duration": 8,
    "start_time": "2022-10-18T10:23:19.052Z"
   },
   {
    "duration": 44,
    "start_time": "2022-10-18T10:23:19.061Z"
   },
   {
    "duration": 0,
    "start_time": "2022-10-18T10:23:19.107Z"
   },
   {
    "duration": 117,
    "start_time": "2022-10-18T10:23:46.702Z"
   },
   {
    "duration": 8,
    "start_time": "2022-10-18T10:23:47.983Z"
   },
   {
    "duration": 159,
    "start_time": "2022-10-18T10:23:49.030Z"
   },
   {
    "duration": 12,
    "start_time": "2022-10-18T10:24:03.431Z"
   },
   {
    "duration": 33,
    "start_time": "2022-10-18T10:40:09.614Z"
   },
   {
    "duration": 54,
    "start_time": "2022-10-18T10:40:32.264Z"
   },
   {
    "duration": 6,
    "start_time": "2022-10-18T10:40:33.590Z"
   },
   {
    "duration": 34,
    "start_time": "2022-10-18T10:40:55.921Z"
   },
   {
    "duration": 7,
    "start_time": "2022-10-18T10:40:56.977Z"
   },
   {
    "duration": 13,
    "start_time": "2022-10-18T10:41:11.715Z"
   },
   {
    "duration": 8,
    "start_time": "2022-10-18T10:41:21.691Z"
   },
   {
    "duration": 4,
    "start_time": "2022-10-18T10:45:25.883Z"
   },
   {
    "duration": 40,
    "start_time": "2022-10-18T10:45:26.571Z"
   },
   {
    "duration": 853,
    "start_time": "2022-10-18T10:45:27.155Z"
   },
   {
    "duration": 10,
    "start_time": "2022-10-18T10:45:50.813Z"
   },
   {
    "duration": 20,
    "start_time": "2022-10-18T10:45:51.555Z"
   },
   {
    "duration": 8,
    "start_time": "2022-10-18T10:46:36.871Z"
   },
   {
    "duration": 5,
    "start_time": "2022-10-18T10:46:37.463Z"
   },
   {
    "duration": 13,
    "start_time": "2022-10-18T10:46:39.551Z"
   },
   {
    "duration": 9,
    "start_time": "2022-10-18T10:46:55.456Z"
   },
   {
    "duration": 11,
    "start_time": "2022-10-18T10:47:01.585Z"
   },
   {
    "duration": 8,
    "start_time": "2022-10-18T10:49:20.450Z"
   },
   {
    "duration": 11,
    "start_time": "2022-10-18T10:49:58.748Z"
   },
   {
    "duration": 11,
    "start_time": "2022-10-18T10:50:13.789Z"
   },
   {
    "duration": 39,
    "start_time": "2022-10-18T10:53:48.996Z"
   },
   {
    "duration": 12,
    "start_time": "2022-10-18T10:53:50.452Z"
   },
   {
    "duration": 23,
    "start_time": "2022-10-18T10:53:51.268Z"
   },
   {
    "duration": 8,
    "start_time": "2022-10-18T10:53:59.876Z"
   },
   {
    "duration": 5,
    "start_time": "2022-10-18T10:54:00.396Z"
   },
   {
    "duration": 54,
    "start_time": "2022-10-18T10:54:01.164Z"
   },
   {
    "duration": 8,
    "start_time": "2022-10-18T10:54:45.503Z"
   },
   {
    "duration": 18,
    "start_time": "2022-10-18T10:54:46.367Z"
   },
   {
    "duration": 7,
    "start_time": "2022-10-18T10:55:11.385Z"
   },
   {
    "duration": 23,
    "start_time": "2022-10-18T10:55:11.753Z"
   },
   {
    "duration": 38,
    "start_time": "2022-10-18T10:55:16.001Z"
   },
   {
    "duration": 10,
    "start_time": "2022-10-18T10:55:16.377Z"
   },
   {
    "duration": 16,
    "start_time": "2022-10-18T10:55:16.761Z"
   },
   {
    "duration": 7,
    "start_time": "2022-10-18T10:55:22.889Z"
   },
   {
    "duration": 5,
    "start_time": "2022-10-18T10:55:23.819Z"
   },
   {
    "duration": 13,
    "start_time": "2022-10-18T10:55:24.345Z"
   },
   {
    "duration": 9,
    "start_time": "2022-10-18T10:55:37.378Z"
   },
   {
    "duration": 16,
    "start_time": "2022-10-18T10:55:37.802Z"
   },
   {
    "duration": 7,
    "start_time": "2022-10-18T10:55:38.603Z"
   },
   {
    "duration": 5,
    "start_time": "2022-10-18T10:55:39.426Z"
   },
   {
    "duration": 89,
    "start_time": "2022-10-18T10:55:40.419Z"
   },
   {
    "duration": 9,
    "start_time": "2022-10-18T10:55:53.107Z"
   },
   {
    "duration": 17,
    "start_time": "2022-10-18T10:55:53.724Z"
   },
   {
    "duration": 6,
    "start_time": "2022-10-18T10:55:54.636Z"
   },
   {
    "duration": 5,
    "start_time": "2022-10-18T10:55:55.419Z"
   },
   {
    "duration": 13,
    "start_time": "2022-10-18T10:55:56.011Z"
   },
   {
    "duration": 5,
    "start_time": "2022-10-18T10:56:04.732Z"
   },
   {
    "duration": 51,
    "start_time": "2022-10-18T10:56:05.092Z"
   },
   {
    "duration": 30,
    "start_time": "2022-10-18T10:56:05.477Z"
   },
   {
    "duration": 34,
    "start_time": "2022-10-18T10:56:05.852Z"
   },
   {
    "duration": 11,
    "start_time": "2022-10-18T10:56:06.677Z"
   },
   {
    "duration": 7,
    "start_time": "2022-10-18T10:56:07.306Z"
   },
   {
    "duration": 103,
    "start_time": "2022-10-18T10:56:07.708Z"
   },
   {
    "duration": 47,
    "start_time": "2022-10-18T10:57:22.617Z"
   },
   {
    "duration": 254,
    "start_time": "2022-10-18T10:58:31.101Z"
   },
   {
    "duration": 207,
    "start_time": "2022-10-18T10:58:40.887Z"
   },
   {
    "duration": 189,
    "start_time": "2022-10-18T11:00:39.934Z"
   },
   {
    "duration": 125,
    "start_time": "2022-10-18T11:01:01.328Z"
   },
   {
    "duration": 41,
    "start_time": "2022-10-18T11:01:56.027Z"
   },
   {
    "duration": 324,
    "start_time": "2022-10-18T11:01:56.507Z"
   },
   {
    "duration": 20,
    "start_time": "2022-10-18T11:02:06.380Z"
   },
   {
    "duration": 26,
    "start_time": "2022-10-18T11:02:07.795Z"
   },
   {
    "duration": 7,
    "start_time": "2022-10-18T11:02:10.172Z"
   },
   {
    "duration": 5,
    "start_time": "2022-10-18T11:02:10.916Z"
   },
   {
    "duration": 101,
    "start_time": "2022-10-18T11:02:11.916Z"
   },
   {
    "duration": 7,
    "start_time": "2022-10-18T11:04:26.413Z"
   },
   {
    "duration": 5,
    "start_time": "2022-10-18T11:04:26.820Z"
   },
   {
    "duration": 37,
    "start_time": "2022-10-18T11:04:27.204Z"
   },
   {
    "duration": 23,
    "start_time": "2022-10-18T11:04:31.277Z"
   },
   {
    "duration": 28,
    "start_time": "2022-10-18T11:04:32.197Z"
   },
   {
    "duration": 7,
    "start_time": "2022-10-18T11:04:33.053Z"
   },
   {
    "duration": 5,
    "start_time": "2022-10-18T11:04:33.829Z"
   },
   {
    "duration": 98,
    "start_time": "2022-10-18T11:04:34.213Z"
   },
   {
    "duration": 39,
    "start_time": "2022-10-18T11:04:47.103Z"
   },
   {
    "duration": 207,
    "start_time": "2022-10-18T11:04:47.534Z"
   },
   {
    "duration": 122,
    "start_time": "2022-10-18T11:04:53.143Z"
   },
   {
    "duration": 40,
    "start_time": "2022-10-18T11:05:18.192Z"
   },
   {
    "duration": 198,
    "start_time": "2022-10-18T11:05:18.880Z"
   },
   {
    "duration": 5,
    "start_time": "2022-10-18T11:05:32.097Z"
   },
   {
    "duration": 48,
    "start_time": "2022-10-18T11:05:32.517Z"
   },
   {
    "duration": 22,
    "start_time": "2022-10-18T11:05:33.049Z"
   },
   {
    "duration": 9,
    "start_time": "2022-10-18T11:05:36.667Z"
   },
   {
    "duration": 5,
    "start_time": "2022-10-18T11:05:37.362Z"
   },
   {
    "duration": 229,
    "start_time": "2022-10-18T11:05:37.785Z"
   },
   {
    "duration": 1367,
    "start_time": "2022-10-18T11:18:29.892Z"
   },
   {
    "duration": 38,
    "start_time": "2022-10-18T11:18:43.148Z"
   },
   {
    "duration": 205,
    "start_time": "2022-10-18T11:18:43.845Z"
   },
   {
    "duration": 38,
    "start_time": "2022-10-18T11:18:50.102Z"
   },
   {
    "duration": 195,
    "start_time": "2022-10-18T11:19:13.558Z"
   },
   {
    "duration": 189,
    "start_time": "2022-10-18T11:19:57.761Z"
   },
   {
    "duration": 195,
    "start_time": "2022-10-18T11:20:35.612Z"
   },
   {
    "duration": 39,
    "start_time": "2022-10-18T11:20:55.140Z"
   },
   {
    "duration": 192,
    "start_time": "2022-10-18T11:20:55.653Z"
   },
   {
    "duration": 232,
    "start_time": "2022-10-18T11:23:20.742Z"
   },
   {
    "duration": 426,
    "start_time": "2022-10-18T11:24:17.443Z"
   },
   {
    "duration": 230,
    "start_time": "2022-10-18T11:27:40.367Z"
   },
   {
    "duration": 163,
    "start_time": "2022-10-18T11:27:57.752Z"
   },
   {
    "duration": 164,
    "start_time": "2022-10-18T11:28:08.665Z"
   },
   {
    "duration": 350,
    "start_time": "2022-10-18T11:28:18.330Z"
   },
   {
    "duration": 675,
    "start_time": "2022-10-18T11:41:40.390Z"
   },
   {
    "duration": 566,
    "start_time": "2022-10-18T11:42:03.343Z"
   },
   {
    "duration": 568,
    "start_time": "2022-10-18T11:42:11.712Z"
   },
   {
    "duration": 10,
    "start_time": "2022-10-18T11:45:32.011Z"
   },
   {
    "duration": 38,
    "start_time": "2022-10-18T11:45:42.045Z"
   },
   {
    "duration": 10,
    "start_time": "2022-10-18T11:45:44.421Z"
   },
   {
    "duration": 924,
    "start_time": "2022-10-18T11:46:15.607Z"
   },
   {
    "duration": 897,
    "start_time": "2022-10-18T11:47:08.866Z"
   },
   {
    "duration": 4,
    "start_time": "2022-10-18T11:47:28.564Z"
   },
   {
    "duration": 38,
    "start_time": "2022-10-18T11:47:29.196Z"
   },
   {
    "duration": 21,
    "start_time": "2022-10-18T11:47:29.637Z"
   },
   {
    "duration": 985,
    "start_time": "2022-10-18T11:47:34.516Z"
   },
   {
    "duration": 5,
    "start_time": "2022-10-18T11:48:18.504Z"
   },
   {
    "duration": 38,
    "start_time": "2022-10-18T11:48:18.967Z"
   },
   {
    "duration": 21,
    "start_time": "2022-10-18T11:48:19.399Z"
   },
   {
    "duration": 949,
    "start_time": "2022-10-18T11:48:23.344Z"
   },
   {
    "duration": 30,
    "start_time": "2022-10-18T11:54:32.576Z"
   },
   {
    "duration": 38,
    "start_time": "2022-10-18T11:56:06.086Z"
   },
   {
    "duration": 43,
    "start_time": "2022-10-18T11:59:36.908Z"
   },
   {
    "duration": 4,
    "start_time": "2022-10-18T11:59:41.612Z"
   },
   {
    "duration": 40,
    "start_time": "2022-10-18T12:01:21.378Z"
   },
   {
    "duration": 986,
    "start_time": "2022-10-18T12:01:21.930Z"
   },
   {
    "duration": 612,
    "start_time": "2022-10-18T12:01:53.645Z"
   },
   {
    "duration": 1192,
    "start_time": "2022-10-18T12:02:12.918Z"
   },
   {
    "duration": 1226,
    "start_time": "2022-10-18T12:05:07.681Z"
   },
   {
    "duration": 42,
    "start_time": "2022-10-18T12:07:53.483Z"
   },
   {
    "duration": 1208,
    "start_time": "2022-10-18T12:07:53.812Z"
   },
   {
    "duration": 594,
    "start_time": "2022-10-18T12:08:16.975Z"
   },
   {
    "duration": 714,
    "start_time": "2022-10-18T12:11:48.091Z"
   },
   {
    "duration": 42,
    "start_time": "2022-10-18T12:12:38.558Z"
   },
   {
    "duration": 604,
    "start_time": "2022-10-18T12:12:38.886Z"
   },
   {
    "duration": 42,
    "start_time": "2022-10-18T12:13:07.844Z"
   },
   {
    "duration": 7,
    "start_time": "2022-10-18T12:13:14.696Z"
   },
   {
    "duration": 41,
    "start_time": "2022-10-18T12:14:41.878Z"
   },
   {
    "duration": 134,
    "start_time": "2022-10-18T12:14:49.455Z"
   },
   {
    "duration": 794,
    "start_time": "2022-10-18T12:15:46.804Z"
   },
   {
    "duration": 1150,
    "start_time": "2022-10-18T12:16:16.053Z"
   },
   {
    "duration": 189,
    "start_time": "2022-10-18T12:18:59.214Z"
   },
   {
    "duration": 579,
    "start_time": "2022-10-18T12:21:41.937Z"
   },
   {
    "duration": 819,
    "start_time": "2022-10-18T12:22:17.884Z"
   },
   {
    "duration": 38,
    "start_time": "2022-10-18T12:23:15.639Z"
   },
   {
    "duration": 803,
    "start_time": "2022-10-18T12:23:15.967Z"
   },
   {
    "duration": 864,
    "start_time": "2022-10-18T12:24:24.364Z"
   },
   {
    "duration": 1103,
    "start_time": "2022-10-18T12:24:36.245Z"
   },
   {
    "duration": 37,
    "start_time": "2022-10-18T12:24:56.641Z"
   },
   {
    "duration": 1079,
    "start_time": "2022-10-18T12:24:56.680Z"
   },
   {
    "duration": 39,
    "start_time": "2022-10-18T12:25:30.296Z"
   },
   {
    "duration": 1059,
    "start_time": "2022-10-18T12:25:30.600Z"
   },
   {
    "duration": 39,
    "start_time": "2022-10-18T12:44:56.212Z"
   },
   {
    "duration": 914,
    "start_time": "2022-10-18T12:44:57.339Z"
   },
   {
    "duration": 1068,
    "start_time": "2022-10-18T12:45:01.236Z"
   },
   {
    "duration": 975,
    "start_time": "2022-10-18T12:45:33.815Z"
   },
   {
    "duration": 40,
    "start_time": "2022-10-18T12:45:52.206Z"
   },
   {
    "duration": 970,
    "start_time": "2022-10-18T12:45:52.512Z"
   },
   {
    "duration": 1225,
    "start_time": "2022-10-18T12:45:53.961Z"
   },
   {
    "duration": 5,
    "start_time": "2022-10-18T13:08:06.958Z"
   },
   {
    "duration": 39,
    "start_time": "2022-10-18T13:08:08.519Z"
   },
   {
    "duration": 24,
    "start_time": "2022-10-18T13:08:09.118Z"
   },
   {
    "duration": 21,
    "start_time": "2022-10-18T13:08:10.508Z"
   },
   {
    "duration": 16,
    "start_time": "2022-10-18T13:08:12.438Z"
   },
   {
    "duration": 28,
    "start_time": "2022-10-18T13:11:43.428Z"
   },
   {
    "duration": 20,
    "start_time": "2022-10-18T13:12:02.285Z"
   },
   {
    "duration": 10,
    "start_time": "2022-10-18T13:59:50.047Z"
   },
   {
    "duration": 4,
    "start_time": "2022-10-18T13:59:51.575Z"
   },
   {
    "duration": 43,
    "start_time": "2022-10-18T13:59:52.056Z"
   },
   {
    "duration": 22,
    "start_time": "2022-10-18T13:59:53.807Z"
   },
   {
    "duration": 21,
    "start_time": "2022-10-18T13:59:54.365Z"
   },
   {
    "duration": 14,
    "start_time": "2022-10-18T13:59:55.183Z"
   },
   {
    "duration": 40,
    "start_time": "2022-10-18T13:59:58.215Z"
   },
   {
    "duration": 900,
    "start_time": "2022-10-18T13:59:58.887Z"
   },
   {
    "duration": 1057,
    "start_time": "2022-10-18T13:59:59.789Z"
   },
   {
    "duration": 6,
    "start_time": "2022-10-18T14:00:04.816Z"
   },
   {
    "duration": 5,
    "start_time": "2022-10-18T14:00:05.335Z"
   },
   {
    "duration": 17,
    "start_time": "2022-10-18T14:00:06.360Z"
   },
   {
    "duration": 8,
    "start_time": "2022-10-18T14:01:04.420Z"
   },
   {
    "duration": 42,
    "start_time": "2022-10-18T14:01:10.412Z"
   },
   {
    "duration": 59,
    "start_time": "2022-10-18T14:01:41.871Z"
   },
   {
    "duration": 3,
    "start_time": "2022-10-18T14:03:05.468Z"
   },
   {
    "duration": 35,
    "start_time": "2022-10-18T14:03:51.102Z"
   },
   {
    "duration": 5,
    "start_time": "2022-10-18T14:06:38.914Z"
   },
   {
    "duration": 4,
    "start_time": "2022-10-18T14:06:39.282Z"
   },
   {
    "duration": 4,
    "start_time": "2022-10-18T14:06:39.650Z"
   },
   {
    "duration": 5,
    "start_time": "2022-10-18T14:07:44.382Z"
   },
   {
    "duration": 4,
    "start_time": "2022-10-18T14:07:44.710Z"
   },
   {
    "duration": 12,
    "start_time": "2022-10-18T14:07:45.070Z"
   },
   {
    "duration": 4,
    "start_time": "2022-10-18T14:08:02.240Z"
   },
   {
    "duration": 54,
    "start_time": "2022-10-18T14:08:02.615Z"
   },
   {
    "duration": 30,
    "start_time": "2022-10-18T14:08:30.033Z"
   },
   {
    "duration": 25,
    "start_time": "2022-10-18T14:10:01.840Z"
   },
   {
    "duration": 66,
    "start_time": "2022-10-18T14:17:26.261Z"
   },
   {
    "duration": 69,
    "start_time": "2022-10-18T14:17:37.013Z"
   },
   {
    "duration": 89,
    "start_time": "2022-10-18T14:18:02.750Z"
   },
   {
    "duration": 6,
    "start_time": "2022-10-18T14:19:26.740Z"
   },
   {
    "duration": 5,
    "start_time": "2022-10-18T14:19:27.780Z"
   },
   {
    "duration": 3,
    "start_time": "2022-10-18T14:19:28.620Z"
   },
   {
    "duration": 4,
    "start_time": "2022-10-18T14:21:14.810Z"
   },
   {
    "duration": 75,
    "start_time": "2022-10-18T14:21:15.530Z"
   },
   {
    "duration": 11836,
    "start_time": "2022-10-18T14:22:30.898Z"
   },
   {
    "duration": 2682,
    "start_time": "2022-10-18T14:22:42.737Z"
   },
   {
    "duration": 4,
    "start_time": "2022-10-18T14:22:45.421Z"
   },
   {
    "duration": 53,
    "start_time": "2022-10-18T14:22:45.427Z"
   },
   {
    "duration": 22,
    "start_time": "2022-10-18T14:22:45.481Z"
   },
   {
    "duration": 27,
    "start_time": "2022-10-18T14:22:45.504Z"
   },
   {
    "duration": 15,
    "start_time": "2022-10-18T14:22:45.532Z"
   },
   {
    "duration": 34,
    "start_time": "2022-10-18T14:22:45.548Z"
   },
   {
    "duration": 1073,
    "start_time": "2022-10-18T14:22:45.584Z"
   },
   {
    "duration": 1053,
    "start_time": "2022-10-18T14:22:46.660Z"
   },
   {
    "duration": 7,
    "start_time": "2022-10-18T14:22:47.715Z"
   },
   {
    "duration": 25,
    "start_time": "2022-10-18T14:22:47.724Z"
   },
   {
    "duration": 354,
    "start_time": "2022-10-18T14:22:47.750Z"
   },
   {
    "duration": 0,
    "start_time": "2022-10-18T14:22:48.106Z"
   },
   {
    "duration": 9,
    "start_time": "2022-10-18T14:23:28.836Z"
   },
   {
    "duration": 11717,
    "start_time": "2022-10-18T14:25:09.506Z"
   },
   {
    "duration": 2500,
    "start_time": "2022-10-18T14:25:21.225Z"
   },
   {
    "duration": 5,
    "start_time": "2022-10-18T14:25:23.727Z"
   },
   {
    "duration": 50,
    "start_time": "2022-10-18T14:25:23.734Z"
   },
   {
    "duration": 24,
    "start_time": "2022-10-18T14:25:23.786Z"
   },
   {
    "duration": 29,
    "start_time": "2022-10-18T14:25:23.812Z"
   },
   {
    "duration": 16,
    "start_time": "2022-10-18T14:25:23.843Z"
   },
   {
    "duration": 1041,
    "start_time": "2022-10-18T14:25:23.860Z"
   },
   {
    "duration": 1076,
    "start_time": "2022-10-18T14:25:24.902Z"
   },
   {
    "duration": 37,
    "start_time": "2022-10-18T14:25:25.980Z"
   },
   {
    "duration": 8,
    "start_time": "2022-10-18T14:25:26.019Z"
   },
   {
    "duration": 21,
    "start_time": "2022-10-18T14:25:26.029Z"
   },
   {
    "duration": 158,
    "start_time": "2022-10-18T14:25:26.052Z"
   },
   {
    "duration": 5597,
    "start_time": "2022-10-18T14:25:26.212Z"
   },
   {
    "duration": 6519,
    "start_time": "2022-10-18T14:27:27.091Z"
   },
   {
    "duration": 2137,
    "start_time": "2022-10-18T14:29:46.684Z"
   },
   {
    "duration": 1686,
    "start_time": "2022-10-18T14:30:20.832Z"
   },
   {
    "duration": 1402,
    "start_time": "2022-10-18T14:31:58.108Z"
   },
   {
    "duration": 2085,
    "start_time": "2022-10-18T14:33:11.225Z"
   },
   {
    "duration": 11533,
    "start_time": "2022-10-18T14:46:03.923Z"
   },
   {
    "duration": 2416,
    "start_time": "2022-10-18T14:46:15.459Z"
   },
   {
    "duration": 5,
    "start_time": "2022-10-18T14:46:17.876Z"
   },
   {
    "duration": 48,
    "start_time": "2022-10-18T14:46:17.883Z"
   },
   {
    "duration": 21,
    "start_time": "2022-10-18T14:46:17.933Z"
   },
   {
    "duration": 23,
    "start_time": "2022-10-18T14:46:17.956Z"
   },
   {
    "duration": 30,
    "start_time": "2022-10-18T14:46:17.981Z"
   },
   {
    "duration": 1029,
    "start_time": "2022-10-18T14:46:18.013Z"
   },
   {
    "duration": 1074,
    "start_time": "2022-10-18T14:46:19.044Z"
   },
   {
    "duration": 34,
    "start_time": "2022-10-18T14:46:20.120Z"
   },
   {
    "duration": 8,
    "start_time": "2022-10-18T14:46:20.155Z"
   },
   {
    "duration": 26,
    "start_time": "2022-10-18T14:46:20.164Z"
   },
   {
    "duration": 237,
    "start_time": "2022-10-18T14:46:20.192Z"
   },
   {
    "duration": 3537,
    "start_time": "2022-10-18T14:46:35.675Z"
   },
   {
    "duration": 1130,
    "start_time": "2022-10-18T14:46:54.979Z"
   },
   {
    "duration": 19,
    "start_time": "2022-10-18T14:47:25.437Z"
   },
   {
    "duration": 1318,
    "start_time": "2022-10-18T14:47:50.093Z"
   },
   {
    "duration": 1898,
    "start_time": "2022-10-18T14:50:48.499Z"
   },
   {
    "duration": 56,
    "start_time": "2022-10-18T15:03:09.520Z"
   },
   {
    "duration": 11694,
    "start_time": "2022-10-18T15:03:29.796Z"
   },
   {
    "duration": 4161,
    "start_time": "2022-10-18T15:03:41.492Z"
   },
   {
    "duration": 4,
    "start_time": "2022-10-18T15:03:45.655Z"
   },
   {
    "duration": 47,
    "start_time": "2022-10-18T15:03:45.661Z"
   },
   {
    "duration": 23,
    "start_time": "2022-10-18T15:03:45.710Z"
   },
   {
    "duration": 25,
    "start_time": "2022-10-18T15:03:45.735Z"
   },
   {
    "duration": 15,
    "start_time": "2022-10-18T15:03:45.762Z"
   },
   {
    "duration": 1040,
    "start_time": "2022-10-18T15:03:45.778Z"
   },
   {
    "duration": 1062,
    "start_time": "2022-10-18T15:03:46.820Z"
   },
   {
    "duration": 42,
    "start_time": "2022-10-18T15:03:47.884Z"
   },
   {
    "duration": 7,
    "start_time": "2022-10-18T15:03:47.928Z"
   },
   {
    "duration": 5,
    "start_time": "2022-10-18T15:03:47.937Z"
   },
   {
    "duration": 1567,
    "start_time": "2022-10-18T15:03:47.943Z"
   },
   {
    "duration": 14489,
    "start_time": "2022-10-18T15:03:49.512Z"
   },
   {
    "duration": 0,
    "start_time": "2022-10-18T15:04:04.009Z"
   },
   {
    "duration": 2036,
    "start_time": "2022-10-18T15:05:21.881Z"
   },
   {
    "duration": 25,
    "start_time": "2022-10-18T15:05:39.345Z"
   },
   {
    "duration": 26,
    "start_time": "2022-10-18T15:06:03.828Z"
   },
   {
    "duration": 11457,
    "start_time": "2022-10-18T15:06:31.526Z"
   },
   {
    "duration": 3736,
    "start_time": "2022-10-18T15:07:14.208Z"
   },
   {
    "duration": 28,
    "start_time": "2022-10-18T15:07:49.279Z"
   },
   {
    "duration": 29,
    "start_time": "2022-10-18T15:08:06.875Z"
   },
   {
    "duration": 2749,
    "start_time": "2022-10-18T15:08:47.910Z"
   },
   {
    "duration": 26,
    "start_time": "2022-10-18T15:10:01.273Z"
   },
   {
    "duration": 13,
    "start_time": "2022-10-18T15:12:49.430Z"
   },
   {
    "duration": 12123,
    "start_time": "2022-10-18T15:41:38.310Z"
   },
   {
    "duration": 2571,
    "start_time": "2022-10-18T15:41:50.435Z"
   },
   {
    "duration": 6,
    "start_time": "2022-10-18T15:41:53.009Z"
   },
   {
    "duration": 61,
    "start_time": "2022-10-18T15:41:53.017Z"
   },
   {
    "duration": 22,
    "start_time": "2022-10-18T15:41:53.079Z"
   },
   {
    "duration": 24,
    "start_time": "2022-10-18T15:41:53.109Z"
   },
   {
    "duration": 16,
    "start_time": "2022-10-18T15:41:53.135Z"
   },
   {
    "duration": 1040,
    "start_time": "2022-10-18T15:41:53.153Z"
   },
   {
    "duration": 1065,
    "start_time": "2022-10-18T15:41:54.195Z"
   },
   {
    "duration": 34,
    "start_time": "2022-10-18T15:41:55.262Z"
   },
   {
    "duration": 7,
    "start_time": "2022-10-18T15:41:55.309Z"
   },
   {
    "duration": 4,
    "start_time": "2022-10-18T15:41:55.318Z"
   },
   {
    "duration": 994,
    "start_time": "2022-10-18T15:41:55.324Z"
   },
   {
    "duration": 294,
    "start_time": "2022-10-18T15:41:56.409Z"
   },
   {
    "duration": 0,
    "start_time": "2022-10-18T15:41:56.709Z"
   },
   {
    "duration": 0,
    "start_time": "2022-10-18T15:41:56.711Z"
   },
   {
    "duration": 0,
    "start_time": "2022-10-18T15:41:56.712Z"
   },
   {
    "duration": 23,
    "start_time": "2022-10-18T15:42:32.130Z"
   },
   {
    "duration": 33,
    "start_time": "2022-10-18T15:43:42.721Z"
   },
   {
    "duration": 5172,
    "start_time": "2022-10-18T15:44:05.291Z"
   },
   {
    "duration": 287238,
    "start_time": "2022-10-18T15:44:25.187Z"
   },
   {
    "duration": 207800,
    "start_time": "2022-10-18T15:49:12.427Z"
   },
   {
    "duration": 11913,
    "start_time": "2022-10-18T15:56:26.008Z"
   },
   {
    "duration": 2502,
    "start_time": "2022-10-18T15:56:37.924Z"
   },
   {
    "duration": 7,
    "start_time": "2022-10-18T15:56:40.428Z"
   },
   {
    "duration": 47,
    "start_time": "2022-10-18T15:56:40.437Z"
   },
   {
    "duration": 25,
    "start_time": "2022-10-18T15:56:40.486Z"
   },
   {
    "duration": 24,
    "start_time": "2022-10-18T15:56:40.513Z"
   },
   {
    "duration": 16,
    "start_time": "2022-10-18T15:56:40.538Z"
   },
   {
    "duration": 1053,
    "start_time": "2022-10-18T15:56:40.555Z"
   },
   {
    "duration": 1152,
    "start_time": "2022-10-18T15:56:41.610Z"
   },
   {
    "duration": 54,
    "start_time": "2022-10-18T15:56:42.765Z"
   },
   {
    "duration": 9,
    "start_time": "2022-10-18T15:56:42.821Z"
   },
   {
    "duration": 13,
    "start_time": "2022-10-18T15:56:42.832Z"
   },
   {
    "duration": 12221,
    "start_time": "2022-10-18T16:00:11.078Z"
   },
   {
    "duration": 2569,
    "start_time": "2022-10-18T16:00:23.301Z"
   },
   {
    "duration": 5,
    "start_time": "2022-10-18T16:00:25.871Z"
   },
   {
    "duration": 49,
    "start_time": "2022-10-18T16:00:25.877Z"
   },
   {
    "duration": 14,
    "start_time": "2022-10-18T16:00:25.928Z"
   },
   {
    "duration": 19,
    "start_time": "2022-10-18T16:00:25.943Z"
   },
   {
    "duration": 13,
    "start_time": "2022-10-18T16:00:25.964Z"
   },
   {
    "duration": 1032,
    "start_time": "2022-10-18T16:00:25.978Z"
   },
   {
    "duration": 1067,
    "start_time": "2022-10-18T16:00:27.012Z"
   },
   {
    "duration": 29,
    "start_time": "2022-10-18T16:00:28.081Z"
   },
   {
    "duration": 7,
    "start_time": "2022-10-18T16:00:28.112Z"
   },
   {
    "duration": 5,
    "start_time": "2022-10-18T16:00:28.120Z"
   },
   {
    "duration": 410247,
    "start_time": "2022-10-18T16:00:28.127Z"
   },
   {
    "duration": 0,
    "start_time": "2022-10-18T16:07:18.376Z"
   },
   {
    "duration": 79,
    "start_time": "2022-10-18T16:10:37.036Z"
   },
   {
    "duration": 372436,
    "start_time": "2022-10-18T16:12:02.678Z"
   },
   {
    "duration": 0,
    "start_time": "2022-10-18T16:18:15.116Z"
   },
   {
    "duration": 20,
    "start_time": "2022-10-18T16:27:44.456Z"
   },
   {
    "duration": 6,
    "start_time": "2022-10-18T16:28:18.803Z"
   },
   {
    "duration": 4,
    "start_time": "2022-10-18T16:29:15.231Z"
   },
   {
    "duration": 42,
    "start_time": "2022-10-18T16:29:15.615Z"
   },
   {
    "duration": 14,
    "start_time": "2022-10-18T16:29:16.247Z"
   },
   {
    "duration": 16,
    "start_time": "2022-10-18T16:29:17.112Z"
   },
   {
    "duration": 9,
    "start_time": "2022-10-18T16:29:26.519Z"
   },
   {
    "duration": 6,
    "start_time": "2022-10-18T16:29:28.303Z"
   },
   {
    "duration": 147,
    "start_time": "2022-10-18T16:29:29.064Z"
   },
   {
    "duration": 381728,
    "start_time": "2022-10-18T16:36:54.819Z"
   },
   {
    "duration": 9,
    "start_time": "2022-10-18T16:43:16.549Z"
   },
   {
    "duration": 5,
    "start_time": "2022-10-18T17:14:35.220Z"
   },
   {
    "duration": 6,
    "start_time": "2022-10-18T17:14:44.807Z"
   },
   {
    "duration": 14,
    "start_time": "2022-10-18T17:17:39.337Z"
   },
   {
    "duration": 372481,
    "start_time": "2022-10-18T17:31:19.576Z"
   },
   {
    "duration": 370998,
    "start_time": "2022-10-18T17:38:36.459Z"
   },
   {
    "duration": 8,
    "start_time": "2022-10-18T17:44:47.459Z"
   },
   {
    "duration": 5,
    "start_time": "2022-10-18T17:47:24.606Z"
   },
   {
    "duration": 407162,
    "start_time": "2022-10-18T17:50:36.002Z"
   },
   {
    "duration": 9,
    "start_time": "2022-10-18T17:57:23.166Z"
   },
   {
    "duration": 12,
    "start_time": "2022-10-18T18:05:13.934Z"
   },
   {
    "duration": 18,
    "start_time": "2022-10-18T18:05:21.502Z"
   },
   {
    "duration": 11,
    "start_time": "2022-10-18T18:05:39.894Z"
   },
   {
    "duration": 16,
    "start_time": "2022-10-18T18:05:48.519Z"
   },
   {
    "duration": 12,
    "start_time": "2022-10-18T18:05:53.079Z"
   },
   {
    "duration": 9,
    "start_time": "2022-10-18T18:06:05.832Z"
   },
   {
    "duration": 3,
    "start_time": "2022-10-18T18:06:27.441Z"
   },
   {
    "duration": 5,
    "start_time": "2022-10-18T18:06:38.578Z"
   },
   {
    "duration": 4,
    "start_time": "2022-10-18T18:06:44.275Z"
   },
   {
    "duration": 13,
    "start_time": "2022-10-18T18:06:58.236Z"
   },
   {
    "duration": 19,
    "start_time": "2022-10-18T18:07:09.100Z"
   },
   {
    "duration": 15,
    "start_time": "2022-10-18T18:07:14.131Z"
   },
   {
    "duration": 13470,
    "start_time": "2022-10-18T18:08:58.457Z"
   },
   {
    "duration": 2946,
    "start_time": "2022-10-18T18:09:11.930Z"
   },
   {
    "duration": 5,
    "start_time": "2022-10-18T18:09:14.879Z"
   },
   {
    "duration": 68,
    "start_time": "2022-10-18T18:09:14.887Z"
   },
   {
    "duration": 15,
    "start_time": "2022-10-18T18:09:14.957Z"
   },
   {
    "duration": 21,
    "start_time": "2022-10-18T18:09:14.974Z"
   },
   {
    "duration": 22,
    "start_time": "2022-10-18T18:09:15.008Z"
   },
   {
    "duration": 1111,
    "start_time": "2022-10-18T18:09:15.037Z"
   },
   {
    "duration": 1232,
    "start_time": "2022-10-18T18:09:16.150Z"
   },
   {
    "duration": 39,
    "start_time": "2022-10-18T18:09:17.384Z"
   },
   {
    "duration": 11,
    "start_time": "2022-10-18T18:09:17.425Z"
   },
   {
    "duration": 6,
    "start_time": "2022-10-18T18:09:17.437Z"
   },
   {
    "duration": 408744,
    "start_time": "2022-10-18T18:09:17.445Z"
   },
   {
    "duration": 0,
    "start_time": "2022-10-18T18:16:06.191Z"
   },
   {
    "duration": 0,
    "start_time": "2022-10-18T18:16:06.192Z"
   },
   {
    "duration": 0,
    "start_time": "2022-10-18T18:16:06.193Z"
   },
   {
    "duration": 0,
    "start_time": "2022-10-18T18:16:06.194Z"
   },
   {
    "duration": 406649,
    "start_time": "2022-10-18T18:18:43.641Z"
   },
   {
    "duration": 7,
    "start_time": "2022-10-18T18:25:30.292Z"
   },
   {
    "duration": 83,
    "start_time": "2022-10-18T18:25:30.301Z"
   },
   {
    "duration": 12070,
    "start_time": "2022-10-18T18:26:21.960Z"
   },
   {
    "duration": 2534,
    "start_time": "2022-10-18T18:26:34.033Z"
   },
   {
    "duration": 4,
    "start_time": "2022-10-18T18:26:36.569Z"
   },
   {
    "duration": 70,
    "start_time": "2022-10-18T18:26:36.575Z"
   },
   {
    "duration": 13,
    "start_time": "2022-10-18T18:26:36.646Z"
   },
   {
    "duration": 29,
    "start_time": "2022-10-18T18:26:36.660Z"
   },
   {
    "duration": 11,
    "start_time": "2022-10-18T18:26:36.691Z"
   },
   {
    "duration": 1004,
    "start_time": "2022-10-18T18:26:36.709Z"
   },
   {
    "duration": 1071,
    "start_time": "2022-10-18T18:26:37.714Z"
   },
   {
    "duration": 7,
    "start_time": "2022-10-18T18:26:38.787Z"
   },
   {
    "duration": 34,
    "start_time": "2022-10-18T18:26:38.796Z"
   },
   {
    "duration": 15085,
    "start_time": "2022-10-19T07:25:15.817Z"
   },
   {
    "duration": 4410,
    "start_time": "2022-10-19T07:25:30.905Z"
   },
   {
    "duration": 0,
    "start_time": "2022-10-19T07:25:35.317Z"
   },
   {
    "duration": 0,
    "start_time": "2022-10-19T07:25:35.319Z"
   },
   {
    "duration": 0,
    "start_time": "2022-10-19T07:25:35.321Z"
   },
   {
    "duration": 0,
    "start_time": "2022-10-19T07:25:35.322Z"
   },
   {
    "duration": 0,
    "start_time": "2022-10-19T07:25:35.324Z"
   },
   {
    "duration": 0,
    "start_time": "2022-10-19T07:25:35.325Z"
   },
   {
    "duration": 0,
    "start_time": "2022-10-19T07:25:35.327Z"
   },
   {
    "duration": 0,
    "start_time": "2022-10-19T07:25:35.328Z"
   },
   {
    "duration": 0,
    "start_time": "2022-10-19T07:25:35.330Z"
   },
   {
    "duration": 0,
    "start_time": "2022-10-19T07:25:35.331Z"
   },
   {
    "duration": 0,
    "start_time": "2022-10-19T07:25:35.333Z"
   },
   {
    "duration": 0,
    "start_time": "2022-10-19T07:25:35.334Z"
   },
   {
    "duration": 0,
    "start_time": "2022-10-19T07:25:35.335Z"
   },
   {
    "duration": 0,
    "start_time": "2022-10-19T07:25:35.337Z"
   },
   {
    "duration": 0,
    "start_time": "2022-10-19T07:25:35.338Z"
   },
   {
    "duration": 7249,
    "start_time": "2022-10-19T07:27:25.454Z"
   },
   {
    "duration": 1499,
    "start_time": "2022-10-19T07:27:32.705Z"
   },
   {
    "duration": 124,
    "start_time": "2022-10-19T07:27:34.205Z"
   },
   {
    "duration": 0,
    "start_time": "2022-10-19T07:27:34.330Z"
   },
   {
    "duration": 0,
    "start_time": "2022-10-19T07:27:34.332Z"
   },
   {
    "duration": 0,
    "start_time": "2022-10-19T07:27:34.333Z"
   },
   {
    "duration": 0,
    "start_time": "2022-10-19T07:27:34.334Z"
   },
   {
    "duration": 0,
    "start_time": "2022-10-19T07:27:34.335Z"
   },
   {
    "duration": 0,
    "start_time": "2022-10-19T07:27:34.336Z"
   },
   {
    "duration": 0,
    "start_time": "2022-10-19T07:27:34.337Z"
   },
   {
    "duration": 0,
    "start_time": "2022-10-19T07:27:34.338Z"
   },
   {
    "duration": 0,
    "start_time": "2022-10-19T07:27:34.339Z"
   },
   {
    "duration": 0,
    "start_time": "2022-10-19T07:27:34.341Z"
   },
   {
    "duration": 0,
    "start_time": "2022-10-19T07:27:34.342Z"
   },
   {
    "duration": 0,
    "start_time": "2022-10-19T07:27:34.343Z"
   },
   {
    "duration": 0,
    "start_time": "2022-10-19T07:27:34.344Z"
   },
   {
    "duration": 0,
    "start_time": "2022-10-19T07:27:34.345Z"
   },
   {
    "duration": 2690,
    "start_time": "2022-10-19T07:28:09.757Z"
   },
   {
    "duration": 1214,
    "start_time": "2022-10-19T07:28:12.449Z"
   },
   {
    "duration": 3,
    "start_time": "2022-10-19T07:28:13.667Z"
   },
   {
    "duration": 168,
    "start_time": "2022-10-19T07:28:13.672Z"
   },
   {
    "duration": 13,
    "start_time": "2022-10-19T07:28:13.842Z"
   },
   {
    "duration": 18,
    "start_time": "2022-10-19T07:28:13.856Z"
   },
   {
    "duration": 12,
    "start_time": "2022-10-19T07:28:13.876Z"
   },
   {
    "duration": 940,
    "start_time": "2022-10-19T07:28:13.889Z"
   },
   {
    "duration": 1142,
    "start_time": "2022-10-19T07:28:14.831Z"
   },
   {
    "duration": 8,
    "start_time": "2022-10-19T07:28:15.974Z"
   },
   {
    "duration": 10,
    "start_time": "2022-10-19T07:28:15.983Z"
   },
   {
    "duration": 373472,
    "start_time": "2022-10-19T07:28:15.995Z"
   },
   {
    "duration": 8,
    "start_time": "2022-10-19T07:34:29.470Z"
   },
   {
    "duration": 27,
    "start_time": "2022-10-19T07:34:29.479Z"
   },
   {
    "duration": 156,
    "start_time": "2022-10-19T07:34:29.508Z"
   },
   {
    "duration": 0,
    "start_time": "2022-10-19T07:34:29.666Z"
   },
   {
    "duration": 0,
    "start_time": "2022-10-19T07:34:29.668Z"
   },
   {
    "duration": 22,
    "start_time": "2022-10-19T07:37:19.774Z"
   },
   {
    "duration": 2881,
    "start_time": "2022-10-19T07:41:40.343Z"
   },
   {
    "duration": 1258,
    "start_time": "2022-10-19T07:41:43.227Z"
   },
   {
    "duration": 3,
    "start_time": "2022-10-19T07:41:44.487Z"
   },
   {
    "duration": 76,
    "start_time": "2022-10-19T07:41:44.491Z"
   },
   {
    "duration": 23,
    "start_time": "2022-10-19T07:41:44.570Z"
   },
   {
    "duration": 25,
    "start_time": "2022-10-19T07:41:44.595Z"
   },
   {
    "duration": 15,
    "start_time": "2022-10-19T07:41:44.622Z"
   },
   {
    "duration": 869,
    "start_time": "2022-10-19T07:41:44.638Z"
   },
   {
    "duration": 0,
    "start_time": "2022-10-19T07:41:45.510Z"
   },
   {
    "duration": 0,
    "start_time": "2022-10-19T07:41:45.512Z"
   },
   {
    "duration": 0,
    "start_time": "2022-10-19T07:41:45.513Z"
   },
   {
    "duration": 0,
    "start_time": "2022-10-19T07:41:45.514Z"
   },
   {
    "duration": 0,
    "start_time": "2022-10-19T07:41:45.515Z"
   },
   {
    "duration": 0,
    "start_time": "2022-10-19T07:41:45.517Z"
   },
   {
    "duration": 0,
    "start_time": "2022-10-19T07:41:45.518Z"
   },
   {
    "duration": 0,
    "start_time": "2022-10-19T07:41:45.519Z"
   },
   {
    "duration": 0,
    "start_time": "2022-10-19T07:41:45.520Z"
   },
   {
    "duration": 0,
    "start_time": "2022-10-19T07:41:45.521Z"
   },
   {
    "duration": 595,
    "start_time": "2022-10-19T07:44:58.361Z"
   },
   {
    "duration": 1129,
    "start_time": "2022-10-19T07:47:57.928Z"
   },
   {
    "duration": 614,
    "start_time": "2022-10-19T07:48:16.511Z"
   },
   {
    "duration": 796,
    "start_time": "2022-10-19T07:49:06.307Z"
   },
   {
    "duration": 2719,
    "start_time": "2022-10-19T07:49:43.546Z"
   },
   {
    "duration": 1343,
    "start_time": "2022-10-19T07:49:46.268Z"
   },
   {
    "duration": 4,
    "start_time": "2022-10-19T07:49:47.612Z"
   },
   {
    "duration": 70,
    "start_time": "2022-10-19T07:49:47.617Z"
   },
   {
    "duration": 14,
    "start_time": "2022-10-19T07:49:47.689Z"
   },
   {
    "duration": 22,
    "start_time": "2022-10-19T07:49:47.705Z"
   },
   {
    "duration": 14,
    "start_time": "2022-10-19T07:49:47.728Z"
   },
   {
    "duration": 982,
    "start_time": "2022-10-19T07:49:47.744Z"
   },
   {
    "duration": 1194,
    "start_time": "2022-10-19T07:49:48.728Z"
   },
   {
    "duration": 14,
    "start_time": "2022-10-19T07:49:49.924Z"
   },
   {
    "duration": 15,
    "start_time": "2022-10-19T07:49:49.940Z"
   },
   {
    "duration": 22,
    "start_time": "2022-10-19T07:49:49.957Z"
   },
   {
    "duration": 443032,
    "start_time": "2022-10-19T07:49:49.981Z"
   },
   {
    "duration": 9,
    "start_time": "2022-10-19T07:57:13.015Z"
   },
   {
    "duration": 19,
    "start_time": "2022-10-19T07:57:13.025Z"
   },
   {
    "duration": 132,
    "start_time": "2022-10-19T07:57:13.046Z"
   },
   {
    "duration": 0,
    "start_time": "2022-10-19T07:57:13.181Z"
   },
   {
    "duration": 0,
    "start_time": "2022-10-19T07:57:13.183Z"
   },
   {
    "duration": 10,
    "start_time": "2022-10-19T08:01:30.476Z"
   },
   {
    "duration": 7,
    "start_time": "2022-10-19T08:01:31.086Z"
   },
   {
    "duration": 167,
    "start_time": "2022-10-19T08:02:37.714Z"
   },
   {
    "duration": 15,
    "start_time": "2022-10-19T08:02:44.354Z"
   },
   {
    "duration": 25,
    "start_time": "2022-10-19T08:02:59.449Z"
   },
   {
    "duration": 3,
    "start_time": "2022-10-19T08:05:11.419Z"
   },
   {
    "duration": 15,
    "start_time": "2022-10-19T08:05:14.613Z"
   },
   {
    "duration": 3126,
    "start_time": "2022-10-19T08:08:52.264Z"
   },
   {
    "duration": 1753,
    "start_time": "2022-10-19T08:08:55.393Z"
   },
   {
    "duration": 3,
    "start_time": "2022-10-19T08:08:57.147Z"
   },
   {
    "duration": 66,
    "start_time": "2022-10-19T08:08:57.153Z"
   },
   {
    "duration": 16,
    "start_time": "2022-10-19T08:08:57.221Z"
   },
   {
    "duration": 22,
    "start_time": "2022-10-19T08:08:57.239Z"
   },
   {
    "duration": 43,
    "start_time": "2022-10-19T08:08:57.264Z"
   },
   {
    "duration": 2127,
    "start_time": "2022-10-19T08:08:57.309Z"
   },
   {
    "duration": 10,
    "start_time": "2022-10-19T08:08:59.438Z"
   },
   {
    "duration": 7,
    "start_time": "2022-10-19T08:08:59.451Z"
   },
   {
    "duration": 1646,
    "start_time": "2022-10-19T08:08:59.460Z"
   },
   {
    "duration": 0,
    "start_time": "2022-10-19T08:09:01.108Z"
   },
   {
    "duration": 0,
    "start_time": "2022-10-19T08:09:01.109Z"
   },
   {
    "duration": 0,
    "start_time": "2022-10-19T08:09:01.110Z"
   },
   {
    "duration": 0,
    "start_time": "2022-10-19T08:09:01.111Z"
   },
   {
    "duration": 0,
    "start_time": "2022-10-19T08:09:01.112Z"
   },
   {
    "duration": 0,
    "start_time": "2022-10-19T08:09:01.114Z"
   },
   {
    "duration": 508015,
    "start_time": "2022-10-19T08:10:16.131Z"
   },
   {
    "duration": 13,
    "start_time": "2022-10-19T08:18:44.149Z"
   },
   {
    "duration": 4,
    "start_time": "2022-10-19T08:22:41.382Z"
   },
   {
    "duration": 5,
    "start_time": "2022-10-19T08:22:42.321Z"
   },
   {
    "duration": 3,
    "start_time": "2022-10-19T08:22:44.609Z"
   },
   {
    "duration": 2931,
    "start_time": "2022-10-19T08:25:09.354Z"
   },
   {
    "duration": 1395,
    "start_time": "2022-10-19T08:25:12.289Z"
   },
   {
    "duration": 3,
    "start_time": "2022-10-19T08:25:13.686Z"
   },
   {
    "duration": 68,
    "start_time": "2022-10-19T08:25:13.691Z"
   },
   {
    "duration": 17,
    "start_time": "2022-10-19T08:25:13.761Z"
   },
   {
    "duration": 28,
    "start_time": "2022-10-19T08:25:13.779Z"
   },
   {
    "duration": 12,
    "start_time": "2022-10-19T08:25:13.809Z"
   },
   {
    "duration": 1994,
    "start_time": "2022-10-19T08:25:13.824Z"
   },
   {
    "duration": 10,
    "start_time": "2022-10-19T08:25:15.819Z"
   },
   {
    "duration": 6,
    "start_time": "2022-10-19T08:25:15.832Z"
   },
   {
    "duration": 390956,
    "start_time": "2022-10-19T08:25:15.840Z"
   },
   {
    "duration": 0,
    "start_time": "2022-10-19T08:31:46.798Z"
   },
   {
    "duration": 0,
    "start_time": "2022-10-19T08:31:46.801Z"
   },
   {
    "duration": 2591,
    "start_time": "2022-10-19T08:33:42.574Z"
   },
   {
    "duration": 1292,
    "start_time": "2022-10-19T08:33:45.168Z"
   },
   {
    "duration": 3,
    "start_time": "2022-10-19T08:33:46.462Z"
   },
   {
    "duration": 90,
    "start_time": "2022-10-19T08:33:46.468Z"
   },
   {
    "duration": 14,
    "start_time": "2022-10-19T08:33:46.560Z"
   },
   {
    "duration": 33,
    "start_time": "2022-10-19T08:33:46.576Z"
   },
   {
    "duration": 14,
    "start_time": "2022-10-19T08:33:46.611Z"
   },
   {
    "duration": 1785,
    "start_time": "2022-10-19T08:33:46.627Z"
   },
   {
    "duration": 8,
    "start_time": "2022-10-19T08:33:48.414Z"
   },
   {
    "duration": 14,
    "start_time": "2022-10-19T08:33:48.424Z"
   },
   {
    "duration": 77,
    "start_time": "2022-10-19T08:33:48.440Z"
   },
   {
    "duration": 0,
    "start_time": "2022-10-19T08:33:48.519Z"
   },
   {
    "duration": 0,
    "start_time": "2022-10-19T08:33:48.520Z"
   },
   {
    "duration": 394420,
    "start_time": "2022-10-19T08:39:21.621Z"
   },
   {
    "duration": 2790,
    "start_time": "2022-10-19T08:50:07.483Z"
   },
   {
    "duration": 1416,
    "start_time": "2022-10-19T08:50:10.276Z"
   },
   {
    "duration": 5,
    "start_time": "2022-10-19T08:50:11.693Z"
   },
   {
    "duration": 84,
    "start_time": "2022-10-19T08:50:11.700Z"
   },
   {
    "duration": 27,
    "start_time": "2022-10-19T08:50:11.788Z"
   },
   {
    "duration": 27,
    "start_time": "2022-10-19T08:50:11.817Z"
   },
   {
    "duration": 21,
    "start_time": "2022-10-19T08:50:11.846Z"
   },
   {
    "duration": 1966,
    "start_time": "2022-10-19T08:50:11.869Z"
   },
   {
    "duration": 7,
    "start_time": "2022-10-19T08:50:13.837Z"
   },
   {
    "duration": 8,
    "start_time": "2022-10-19T08:50:13.846Z"
   },
   {
    "duration": 389403,
    "start_time": "2022-10-19T08:50:13.856Z"
   },
   {
    "duration": 7,
    "start_time": "2022-10-19T08:56:43.261Z"
   },
   {
    "duration": 705,
    "start_time": "2022-10-19T08:56:43.269Z"
   },
   {
    "duration": 2956,
    "start_time": "2022-10-19T09:01:29.501Z"
   },
   {
    "duration": 1359,
    "start_time": "2022-10-19T09:01:32.461Z"
   },
   {
    "duration": 3,
    "start_time": "2022-10-19T09:01:33.822Z"
   },
   {
    "duration": 66,
    "start_time": "2022-10-19T09:01:33.828Z"
   },
   {
    "duration": 14,
    "start_time": "2022-10-19T09:01:33.896Z"
   },
   {
    "duration": 21,
    "start_time": "2022-10-19T09:01:33.912Z"
   },
   {
    "duration": 15,
    "start_time": "2022-10-19T09:01:33.935Z"
   },
   {
    "duration": 1916,
    "start_time": "2022-10-19T09:01:33.951Z"
   },
   {
    "duration": 9,
    "start_time": "2022-10-19T09:01:35.868Z"
   },
   {
    "duration": 12,
    "start_time": "2022-10-19T09:01:35.880Z"
   },
   {
    "duration": 399298,
    "start_time": "2022-10-19T09:01:35.894Z"
   },
   {
    "duration": 9,
    "start_time": "2022-10-19T09:08:15.194Z"
   },
   {
    "duration": 1275,
    "start_time": "2022-10-19T09:08:15.205Z"
   },
   {
    "duration": 3074,
    "start_time": "2022-10-19T09:35:10.604Z"
   },
   {
    "duration": 1533,
    "start_time": "2022-10-19T09:35:13.680Z"
   },
   {
    "duration": 3,
    "start_time": "2022-10-19T09:35:15.215Z"
   },
   {
    "duration": 73,
    "start_time": "2022-10-19T09:35:15.219Z"
   },
   {
    "duration": 16,
    "start_time": "2022-10-19T09:35:15.294Z"
   },
   {
    "duration": 23,
    "start_time": "2022-10-19T09:35:15.312Z"
   },
   {
    "duration": 16,
    "start_time": "2022-10-19T09:35:15.337Z"
   },
   {
    "duration": 1992,
    "start_time": "2022-10-19T09:35:15.355Z"
   },
   {
    "duration": 7,
    "start_time": "2022-10-19T09:35:17.348Z"
   },
   {
    "duration": 9,
    "start_time": "2022-10-19T09:35:17.357Z"
   },
   {
    "duration": 2430582,
    "start_time": "2022-10-19T09:35:17.368Z"
   },
   {
    "duration": 8,
    "start_time": "2022-10-19T10:15:47.952Z"
   },
   {
    "duration": 787,
    "start_time": "2022-10-19T10:15:47.962Z"
   },
   {
    "duration": 10,
    "start_time": "2022-10-19T10:32:59.458Z"
   },
   {
    "duration": 16,
    "start_time": "2022-10-19T10:33:16.018Z"
   },
   {
    "duration": 3736,
    "start_time": "2022-10-19T10:33:49.413Z"
   },
   {
    "duration": 2890,
    "start_time": "2022-10-19T10:35:39.083Z"
   },
   {
    "duration": 1422,
    "start_time": "2022-10-19T10:35:41.978Z"
   },
   {
    "duration": 3,
    "start_time": "2022-10-19T10:35:43.406Z"
   },
   {
    "duration": 67,
    "start_time": "2022-10-19T10:35:43.411Z"
   },
   {
    "duration": 14,
    "start_time": "2022-10-19T10:35:43.480Z"
   },
   {
    "duration": 20,
    "start_time": "2022-10-19T10:35:43.496Z"
   },
   {
    "duration": 14,
    "start_time": "2022-10-19T10:35:43.518Z"
   },
   {
    "duration": 2013,
    "start_time": "2022-10-19T10:35:43.534Z"
   },
   {
    "duration": 8,
    "start_time": "2022-10-19T10:35:45.549Z"
   },
   {
    "duration": 10,
    "start_time": "2022-10-19T10:35:45.559Z"
   },
   {
    "duration": 918481,
    "start_time": "2022-10-19T10:35:45.571Z"
   },
   {
    "duration": 9,
    "start_time": "2022-10-19T10:51:04.053Z"
   },
   {
    "duration": 137,
    "start_time": "2022-10-19T10:51:04.063Z"
   },
   {
    "duration": 5970,
    "start_time": "2022-10-19T11:25:03.637Z"
   },
   {
    "duration": 6215,
    "start_time": "2022-10-19T11:25:28.994Z"
   },
   {
    "duration": 3106,
    "start_time": "2022-10-19T11:34:30.024Z"
   },
   {
    "duration": 1372,
    "start_time": "2022-10-19T11:34:33.133Z"
   },
   {
    "duration": 5,
    "start_time": "2022-10-19T11:34:34.507Z"
   },
   {
    "duration": 63,
    "start_time": "2022-10-19T11:34:34.514Z"
   },
   {
    "duration": 14,
    "start_time": "2022-10-19T11:34:34.579Z"
   },
   {
    "duration": 22,
    "start_time": "2022-10-19T11:34:34.595Z"
   },
   {
    "duration": 24,
    "start_time": "2022-10-19T11:34:34.619Z"
   },
   {
    "duration": 1952,
    "start_time": "2022-10-19T11:34:34.645Z"
   },
   {
    "duration": 8,
    "start_time": "2022-10-19T11:34:36.601Z"
   },
   {
    "duration": 38,
    "start_time": "2022-10-19T11:34:36.612Z"
   },
   {
    "duration": 449418,
    "start_time": "2022-10-19T11:34:36.651Z"
   },
   {
    "duration": 18,
    "start_time": "2022-10-19T11:42:06.071Z"
   },
   {
    "duration": 6242,
    "start_time": "2022-10-19T11:42:06.090Z"
   },
   {
    "duration": 2708,
    "start_time": "2022-10-19T11:44:43.738Z"
   },
   {
    "duration": 1365,
    "start_time": "2022-10-19T11:44:46.449Z"
   },
   {
    "duration": 4,
    "start_time": "2022-10-19T11:44:47.817Z"
   },
   {
    "duration": 66,
    "start_time": "2022-10-19T11:44:47.823Z"
   },
   {
    "duration": 14,
    "start_time": "2022-10-19T11:44:47.891Z"
   },
   {
    "duration": 23,
    "start_time": "2022-10-19T11:44:47.906Z"
   },
   {
    "duration": 13,
    "start_time": "2022-10-19T11:44:47.930Z"
   },
   {
    "duration": 2004,
    "start_time": "2022-10-19T11:44:47.945Z"
   },
   {
    "duration": 9,
    "start_time": "2022-10-19T11:44:49.950Z"
   },
   {
    "duration": 15,
    "start_time": "2022-10-19T11:44:49.962Z"
   },
   {
    "duration": 429662,
    "start_time": "2022-10-19T11:44:49.979Z"
   },
   {
    "duration": 10,
    "start_time": "2022-10-19T11:51:59.643Z"
   },
   {
    "duration": 800,
    "start_time": "2022-10-19T11:51:59.656Z"
   },
   {
    "duration": 0,
    "start_time": "2022-10-19T11:52:00.460Z"
   },
   {
    "duration": 0,
    "start_time": "2022-10-19T11:52:00.462Z"
   },
   {
    "duration": 0,
    "start_time": "2022-10-19T11:52:00.464Z"
   },
   {
    "duration": 0,
    "start_time": "2022-10-19T11:52:00.467Z"
   },
   {
    "duration": 3599,
    "start_time": "2022-10-19T11:54:45.664Z"
   },
   {
    "duration": 3064,
    "start_time": "2022-10-19T12:00:51.014Z"
   },
   {
    "duration": 1460,
    "start_time": "2022-10-19T12:00:54.081Z"
   },
   {
    "duration": 3,
    "start_time": "2022-10-19T12:00:55.546Z"
   },
   {
    "duration": 69,
    "start_time": "2022-10-19T12:00:55.551Z"
   },
   {
    "duration": 16,
    "start_time": "2022-10-19T12:00:55.622Z"
   },
   {
    "duration": 21,
    "start_time": "2022-10-19T12:00:55.640Z"
   },
   {
    "duration": 34,
    "start_time": "2022-10-19T12:00:55.662Z"
   },
   {
    "duration": 2089,
    "start_time": "2022-10-19T12:00:55.698Z"
   },
   {
    "duration": 9,
    "start_time": "2022-10-19T12:00:57.790Z"
   },
   {
    "duration": 10,
    "start_time": "2022-10-19T12:00:57.801Z"
   },
   {
    "duration": 453949,
    "start_time": "2022-10-19T12:00:57.812Z"
   },
   {
    "duration": 9,
    "start_time": "2022-10-19T12:08:31.763Z"
   },
   {
    "duration": 3565,
    "start_time": "2022-10-19T12:08:31.774Z"
   },
   {
    "duration": 889,
    "start_time": "2022-10-19T12:08:35.341Z"
   },
   {
    "duration": 0,
    "start_time": "2022-10-19T12:08:36.232Z"
   },
   {
    "duration": 0,
    "start_time": "2022-10-19T12:08:36.233Z"
   },
   {
    "duration": 0,
    "start_time": "2022-10-19T12:08:36.234Z"
   },
   {
    "duration": 0,
    "start_time": "2022-10-19T12:08:36.236Z"
   },
   {
    "duration": 6,
    "start_time": "2022-10-19T12:10:47.776Z"
   },
   {
    "duration": 674,
    "start_time": "2022-10-19T12:10:56.784Z"
   },
   {
    "duration": 5,
    "start_time": "2022-10-19T12:11:58.613Z"
   },
   {
    "duration": 1525,
    "start_time": "2022-10-19T12:15:15.201Z"
   },
   {
    "duration": 1378,
    "start_time": "2022-10-19T12:16:03.406Z"
   },
   {
    "duration": 2609,
    "start_time": "2022-10-19T12:16:20.550Z"
   },
   {
    "duration": 560,
    "start_time": "2022-10-19T12:17:41.651Z"
   },
   {
    "duration": 12,
    "start_time": "2022-10-19T12:17:49.211Z"
   },
   {
    "duration": 926,
    "start_time": "2022-10-19T12:17:57.637Z"
   },
   {
    "duration": 19,
    "start_time": "2022-10-19T12:18:04.507Z"
   },
   {
    "duration": 5184,
    "start_time": "2022-10-19T12:20:41.414Z"
   },
   {
    "duration": 3161,
    "start_time": "2022-10-19T12:20:46.602Z"
   },
   {
    "duration": 2,
    "start_time": "2022-10-19T12:20:49.768Z"
   },
   {
    "duration": 104,
    "start_time": "2022-10-19T12:20:49.772Z"
   },
   {
    "duration": 15,
    "start_time": "2022-10-19T12:20:49.878Z"
   },
   {
    "duration": 21,
    "start_time": "2022-10-19T12:20:49.894Z"
   },
   {
    "duration": 14,
    "start_time": "2022-10-19T12:20:49.917Z"
   },
   {
    "duration": 3215,
    "start_time": "2022-10-19T12:20:49.933Z"
   },
   {
    "duration": 7,
    "start_time": "2022-10-19T12:20:53.150Z"
   },
   {
    "duration": 8,
    "start_time": "2022-10-19T12:20:53.159Z"
   },
   {
    "duration": 409582,
    "start_time": "2022-10-19T12:20:53.169Z"
   },
   {
    "duration": 8,
    "start_time": "2022-10-19T12:27:42.752Z"
   },
   {
    "duration": 1351,
    "start_time": "2022-10-19T12:27:42.762Z"
   },
   {
    "duration": 0,
    "start_time": "2022-10-19T12:27:44.115Z"
   },
   {
    "duration": 0,
    "start_time": "2022-10-19T12:27:44.116Z"
   },
   {
    "duration": 2650,
    "start_time": "2022-10-19T12:45:14.050Z"
   },
   {
    "duration": 346,
    "start_time": "2022-10-19T12:45:16.702Z"
   },
   {
    "duration": 1134,
    "start_time": "2022-10-19T12:45:17.050Z"
   },
   {
    "duration": 171,
    "start_time": "2022-10-19T12:46:45.720Z"
   },
   {
    "duration": 50,
    "start_time": "2022-10-19T12:47:03.161Z"
   },
   {
    "duration": 22,
    "start_time": "2022-10-19T12:47:04.650Z"
   },
   {
    "duration": 16,
    "start_time": "2022-10-19T12:47:06.232Z"
   },
   {
    "duration": 50,
    "start_time": "2022-10-19T12:47:20.970Z"
   },
   {
    "duration": 8,
    "start_time": "2022-10-19T12:47:25.763Z"
   },
   {
    "duration": 65,
    "start_time": "2022-10-19T12:50:01.869Z"
   },
   {
    "duration": 16,
    "start_time": "2022-10-19T12:50:03.253Z"
   },
   {
    "duration": 17,
    "start_time": "2022-10-19T12:50:05.373Z"
   },
   {
    "duration": 5564,
    "start_time": "2022-10-19T12:50:35.639Z"
   },
   {
    "duration": 6932,
    "start_time": "2022-10-19T12:50:41.206Z"
   },
   {
    "duration": 3,
    "start_time": "2022-10-19T12:50:48.140Z"
   },
   {
    "duration": 73,
    "start_time": "2022-10-19T12:50:48.145Z"
   },
   {
    "duration": 17,
    "start_time": "2022-10-19T12:50:48.219Z"
   },
   {
    "duration": 21,
    "start_time": "2022-10-19T12:50:48.238Z"
   },
   {
    "duration": 29,
    "start_time": "2022-10-19T12:50:48.261Z"
   },
   {
    "duration": 1772,
    "start_time": "2022-10-19T12:50:48.292Z"
   },
   {
    "duration": 9,
    "start_time": "2022-10-19T12:50:50.066Z"
   },
   {
    "duration": 6,
    "start_time": "2022-10-19T12:50:50.088Z"
   },
   {
    "duration": 414543,
    "start_time": "2022-10-19T12:50:50.096Z"
   },
   {
    "duration": 7,
    "start_time": "2022-10-19T12:57:44.640Z"
   },
   {
    "duration": 2444,
    "start_time": "2022-10-19T12:57:44.649Z"
   },
   {
    "duration": 354,
    "start_time": "2022-10-19T12:57:47.095Z"
   },
   {
    "duration": 1030,
    "start_time": "2022-10-19T12:57:47.451Z"
   },
   {
    "duration": 4850,
    "start_time": "2022-10-19T13:01:26.763Z"
   },
   {
    "duration": 2425,
    "start_time": "2022-10-19T13:01:31.615Z"
   },
   {
    "duration": 3,
    "start_time": "2022-10-19T13:01:34.042Z"
   },
   {
    "duration": 65,
    "start_time": "2022-10-19T13:01:34.047Z"
   },
   {
    "duration": 9,
    "start_time": "2022-10-19T13:01:34.114Z"
   },
   {
    "duration": 20,
    "start_time": "2022-10-19T13:01:34.125Z"
   },
   {
    "duration": 11,
    "start_time": "2022-10-19T13:01:34.147Z"
   },
   {
    "duration": 1733,
    "start_time": "2022-10-19T13:01:34.159Z"
   },
   {
    "duration": 9,
    "start_time": "2022-10-19T13:01:35.894Z"
   },
   {
    "duration": 7,
    "start_time": "2022-10-19T13:01:35.906Z"
   },
   {
    "duration": 278962,
    "start_time": "2022-10-19T13:01:35.914Z"
   },
   {
    "duration": 12,
    "start_time": "2022-10-19T13:06:14.878Z"
   },
   {
    "duration": 1766,
    "start_time": "2022-10-19T13:06:14.891Z"
   },
   {
    "duration": 347,
    "start_time": "2022-10-19T13:06:16.659Z"
   },
   {
    "duration": 970,
    "start_time": "2022-10-19T13:06:17.008Z"
   },
   {
    "duration": 2066,
    "start_time": "2022-10-19T13:13:19.123Z"
   },
   {
    "duration": 8,
    "start_time": "2022-10-19T13:13:56.991Z"
   },
   {
    "duration": 15,
    "start_time": "2022-10-19T13:13:58.253Z"
   },
   {
    "duration": 12,
    "start_time": "2022-10-19T13:13:59.355Z"
   },
   {
    "duration": 2010,
    "start_time": "2022-10-19T13:14:01.841Z"
   },
   {
    "duration": 55,
    "start_time": "2022-10-19T13:14:33.474Z"
   },
   {
    "duration": 10,
    "start_time": "2022-10-19T13:14:33.817Z"
   },
   {
    "duration": 13,
    "start_time": "2022-10-19T13:14:34.305Z"
   },
   {
    "duration": 13,
    "start_time": "2022-10-19T13:14:34.642Z"
   },
   {
    "duration": 1942,
    "start_time": "2022-10-19T13:14:37.082Z"
   },
   {
    "duration": 56,
    "start_time": "2022-10-19T13:15:03.803Z"
   },
   {
    "duration": 11,
    "start_time": "2022-10-19T13:15:04.140Z"
   },
   {
    "duration": 14,
    "start_time": "2022-10-19T13:15:04.533Z"
   },
   {
    "duration": 12,
    "start_time": "2022-10-19T13:15:04.851Z"
   },
   {
    "duration": 2139,
    "start_time": "2022-10-19T13:15:06.437Z"
   },
   {
    "duration": 52,
    "start_time": "2022-10-19T13:15:42.037Z"
   },
   {
    "duration": 10,
    "start_time": "2022-10-19T13:15:42.414Z"
   },
   {
    "duration": 13,
    "start_time": "2022-10-19T13:15:42.790Z"
   },
   {
    "duration": 11,
    "start_time": "2022-10-19T13:15:43.110Z"
   },
   {
    "duration": 2010,
    "start_time": "2022-10-19T13:15:44.598Z"
   },
   {
    "duration": 4970,
    "start_time": "2022-10-19T13:16:22.500Z"
   },
   {
    "duration": 2469,
    "start_time": "2022-10-19T13:16:27.472Z"
   },
   {
    "duration": 4,
    "start_time": "2022-10-19T13:16:29.943Z"
   },
   {
    "duration": 69,
    "start_time": "2022-10-19T13:16:29.949Z"
   },
   {
    "duration": 12,
    "start_time": "2022-10-19T13:16:30.019Z"
   },
   {
    "duration": 19,
    "start_time": "2022-10-19T13:16:30.033Z"
   },
   {
    "duration": 26,
    "start_time": "2022-10-19T13:16:30.054Z"
   },
   {
    "duration": 2258,
    "start_time": "2022-10-19T13:16:30.081Z"
   },
   {
    "duration": 7,
    "start_time": "2022-10-19T13:16:32.341Z"
   },
   {
    "duration": 8,
    "start_time": "2022-10-19T13:16:32.350Z"
   },
   {
    "duration": 301917,
    "start_time": "2022-10-19T13:16:32.360Z"
   },
   {
    "duration": 12,
    "start_time": "2022-10-19T13:21:34.279Z"
   },
   {
    "duration": 1777,
    "start_time": "2022-10-19T13:21:34.292Z"
   },
   {
    "duration": 295,
    "start_time": "2022-10-19T13:21:36.071Z"
   },
   {
    "duration": 884,
    "start_time": "2022-10-19T13:21:36.368Z"
   },
   {
    "duration": 1558,
    "start_time": "2022-10-19T13:22:14.583Z"
   },
   {
    "duration": 334,
    "start_time": "2022-10-19T13:22:21.663Z"
   },
   {
    "duration": 738,
    "start_time": "2022-10-19T13:22:25.007Z"
   },
   {
    "duration": 5,
    "start_time": "2022-10-19T13:25:15.771Z"
   },
   {
    "duration": 64,
    "start_time": "2022-10-19T13:25:16.155Z"
   },
   {
    "duration": 13,
    "start_time": "2022-10-19T13:25:16.507Z"
   },
   {
    "duration": 2312,
    "start_time": "2022-10-19T13:25:25.028Z"
   },
   {
    "duration": 5405,
    "start_time": "2022-10-19T13:25:38.249Z"
   },
   {
    "duration": 2706,
    "start_time": "2022-10-19T13:25:43.657Z"
   },
   {
    "duration": 4,
    "start_time": "2022-10-19T13:25:46.366Z"
   },
   {
    "duration": 68,
    "start_time": "2022-10-19T13:25:46.374Z"
   },
   {
    "duration": 11,
    "start_time": "2022-10-19T13:25:46.444Z"
   },
   {
    "duration": 19,
    "start_time": "2022-10-19T13:25:46.457Z"
   },
   {
    "duration": 14,
    "start_time": "2022-10-19T13:25:46.478Z"
   },
   {
    "duration": 2309,
    "start_time": "2022-10-19T13:25:46.494Z"
   },
   {
    "duration": 7,
    "start_time": "2022-10-19T13:25:48.804Z"
   },
   {
    "duration": 13,
    "start_time": "2022-10-19T13:25:48.813Z"
   },
   {
    "duration": 285587,
    "start_time": "2022-10-19T13:25:48.829Z"
   },
   {
    "duration": 6,
    "start_time": "2022-10-19T13:30:34.418Z"
   },
   {
    "duration": 1549,
    "start_time": "2022-10-19T13:30:34.425Z"
   },
   {
    "duration": 298,
    "start_time": "2022-10-19T13:30:35.976Z"
   },
   {
    "duration": 678,
    "start_time": "2022-10-19T13:30:36.276Z"
   },
   {
    "duration": 4861,
    "start_time": "2022-10-19T13:39:56.679Z"
   },
   {
    "duration": 2421,
    "start_time": "2022-10-19T13:40:01.543Z"
   },
   {
    "duration": 3,
    "start_time": "2022-10-19T13:40:03.966Z"
   },
   {
    "duration": 68,
    "start_time": "2022-10-19T13:40:03.971Z"
   },
   {
    "duration": 11,
    "start_time": "2022-10-19T13:40:04.040Z"
   },
   {
    "duration": 20,
    "start_time": "2022-10-19T13:40:04.053Z"
   },
   {
    "duration": 11,
    "start_time": "2022-10-19T13:40:04.075Z"
   },
   {
    "duration": 1951,
    "start_time": "2022-10-19T13:40:04.089Z"
   },
   {
    "duration": 8,
    "start_time": "2022-10-19T13:40:06.042Z"
   },
   {
    "duration": 12,
    "start_time": "2022-10-19T13:40:06.052Z"
   },
   {
    "duration": 288292,
    "start_time": "2022-10-19T13:40:06.066Z"
   },
   {
    "duration": 7,
    "start_time": "2022-10-19T13:44:54.359Z"
   },
   {
    "duration": 1749,
    "start_time": "2022-10-19T13:44:54.368Z"
   },
   {
    "duration": 291,
    "start_time": "2022-10-19T13:44:56.118Z"
   },
   {
    "duration": 764,
    "start_time": "2022-10-19T13:44:56.411Z"
   },
   {
    "duration": 5307,
    "start_time": "2022-10-19T13:51:25.454Z"
   },
   {
    "duration": 2615,
    "start_time": "2022-10-19T13:51:30.763Z"
   },
   {
    "duration": 3,
    "start_time": "2022-10-19T13:51:33.380Z"
   },
   {
    "duration": 72,
    "start_time": "2022-10-19T13:51:33.388Z"
   },
   {
    "duration": 9,
    "start_time": "2022-10-19T13:51:33.462Z"
   },
   {
    "duration": 18,
    "start_time": "2022-10-19T13:51:33.473Z"
   },
   {
    "duration": 13,
    "start_time": "2022-10-19T13:51:33.493Z"
   },
   {
    "duration": 2201,
    "start_time": "2022-10-19T13:51:33.508Z"
   },
   {
    "duration": 6,
    "start_time": "2022-10-19T13:51:35.711Z"
   },
   {
    "duration": 9,
    "start_time": "2022-10-19T13:51:35.719Z"
   },
   {
    "duration": 284433,
    "start_time": "2022-10-19T13:51:35.730Z"
   },
   {
    "duration": 7,
    "start_time": "2022-10-19T13:56:20.166Z"
   },
   {
    "duration": 1667,
    "start_time": "2022-10-19T13:56:20.174Z"
   },
   {
    "duration": 349,
    "start_time": "2022-10-19T13:56:21.843Z"
   },
   {
    "duration": 665,
    "start_time": "2022-10-19T13:56:22.194Z"
   },
   {
    "duration": 5076,
    "start_time": "2022-10-19T14:00:13.213Z"
   },
   {
    "duration": 2495,
    "start_time": "2022-10-19T14:00:18.292Z"
   },
   {
    "duration": 3,
    "start_time": "2022-10-19T14:00:20.789Z"
   },
   {
    "duration": 67,
    "start_time": "2022-10-19T14:00:20.795Z"
   },
   {
    "duration": 9,
    "start_time": "2022-10-19T14:00:20.864Z"
   },
   {
    "duration": 24,
    "start_time": "2022-10-19T14:00:20.875Z"
   },
   {
    "duration": 15,
    "start_time": "2022-10-19T14:00:20.901Z"
   },
   {
    "duration": 2083,
    "start_time": "2022-10-19T14:00:20.918Z"
   },
   {
    "duration": 7,
    "start_time": "2022-10-19T14:00:23.003Z"
   },
   {
    "duration": 11,
    "start_time": "2022-10-19T14:00:23.012Z"
   },
   {
    "duration": 4739,
    "start_time": "2022-10-19T14:01:42.244Z"
   },
   {
    "duration": 2391,
    "start_time": "2022-10-19T14:01:46.985Z"
   },
   {
    "duration": 3,
    "start_time": "2022-10-19T14:01:49.379Z"
   },
   {
    "duration": 61,
    "start_time": "2022-10-19T14:01:49.384Z"
   },
   {
    "duration": 12,
    "start_time": "2022-10-19T14:01:49.447Z"
   },
   {
    "duration": 17,
    "start_time": "2022-10-19T14:01:49.461Z"
   },
   {
    "duration": 13,
    "start_time": "2022-10-19T14:01:49.480Z"
   },
   {
    "duration": 2059,
    "start_time": "2022-10-19T14:01:49.495Z"
   },
   {
    "duration": 7,
    "start_time": "2022-10-19T14:01:51.556Z"
   },
   {
    "duration": 5,
    "start_time": "2022-10-19T14:01:51.565Z"
   },
   {
    "duration": 412873,
    "start_time": "2022-10-19T14:01:51.572Z"
   },
   {
    "duration": 7,
    "start_time": "2022-10-19T14:08:44.447Z"
   },
   {
    "duration": 1839,
    "start_time": "2022-10-19T14:08:44.456Z"
   },
   {
    "duration": 352,
    "start_time": "2022-10-19T14:08:46.297Z"
   },
   {
    "duration": 1119,
    "start_time": "2022-10-19T14:08:46.651Z"
   },
   {
    "duration": 4948,
    "start_time": "2022-10-19T14:32:56.757Z"
   },
   {
    "duration": 2514,
    "start_time": "2022-10-19T14:33:01.710Z"
   },
   {
    "duration": 3,
    "start_time": "2022-10-19T14:33:04.226Z"
   },
   {
    "duration": 68,
    "start_time": "2022-10-19T14:33:04.230Z"
   },
   {
    "duration": 13,
    "start_time": "2022-10-19T14:33:04.300Z"
   },
   {
    "duration": 19,
    "start_time": "2022-10-19T14:33:04.315Z"
   },
   {
    "duration": 12,
    "start_time": "2022-10-19T14:33:04.336Z"
   },
   {
    "duration": 2028,
    "start_time": "2022-10-19T14:33:04.349Z"
   },
   {
    "duration": 12,
    "start_time": "2022-10-19T14:33:06.380Z"
   },
   {
    "duration": 5,
    "start_time": "2022-10-19T14:33:06.393Z"
   },
   {
    "duration": 471682,
    "start_time": "2022-10-19T14:33:06.400Z"
   },
   {
    "duration": 15,
    "start_time": "2022-10-19T14:40:58.084Z"
   },
   {
    "duration": 2424,
    "start_time": "2022-10-19T14:40:58.103Z"
   },
   {
    "duration": 397,
    "start_time": "2022-10-19T14:41:00.529Z"
   },
   {
    "duration": 1383,
    "start_time": "2022-10-19T14:41:00.927Z"
   },
   {
    "duration": 4853,
    "start_time": "2022-10-19T14:44:33.882Z"
   },
   {
    "duration": 2390,
    "start_time": "2022-10-19T14:44:38.738Z"
   },
   {
    "duration": 4,
    "start_time": "2022-10-19T14:44:41.129Z"
   },
   {
    "duration": 71,
    "start_time": "2022-10-19T14:44:41.134Z"
   },
   {
    "duration": 15,
    "start_time": "2022-10-19T14:44:41.207Z"
   },
   {
    "duration": 21,
    "start_time": "2022-10-19T14:44:41.224Z"
   },
   {
    "duration": 13,
    "start_time": "2022-10-19T14:44:41.246Z"
   },
   {
    "duration": 2236,
    "start_time": "2022-10-19T14:44:41.260Z"
   },
   {
    "duration": 7,
    "start_time": "2022-10-19T14:44:43.498Z"
   },
   {
    "duration": 24,
    "start_time": "2022-10-19T14:44:43.507Z"
   },
   {
    "duration": 413112,
    "start_time": "2022-10-19T14:44:43.533Z"
   },
   {
    "duration": 8,
    "start_time": "2022-10-19T14:51:36.647Z"
   },
   {
    "duration": 1821,
    "start_time": "2022-10-19T14:51:36.657Z"
   },
   {
    "duration": 362,
    "start_time": "2022-10-19T14:51:38.480Z"
   },
   {
    "duration": 1007,
    "start_time": "2022-10-19T14:51:38.844Z"
   },
   {
    "duration": 5461,
    "start_time": "2022-10-19T15:20:08.683Z"
   },
   {
    "duration": 2616,
    "start_time": "2022-10-19T15:20:14.147Z"
   },
   {
    "duration": 4,
    "start_time": "2022-10-19T15:20:16.764Z"
   },
   {
    "duration": 74,
    "start_time": "2022-10-19T15:20:16.771Z"
   },
   {
    "duration": 16,
    "start_time": "2022-10-19T15:20:16.848Z"
   },
   {
    "duration": 81,
    "start_time": "2022-10-19T15:20:16.866Z"
   },
   {
    "duration": 14,
    "start_time": "2022-10-19T15:20:16.949Z"
   },
   {
    "duration": 2287,
    "start_time": "2022-10-19T15:20:16.965Z"
   },
   {
    "duration": 9,
    "start_time": "2022-10-19T15:20:19.253Z"
   },
   {
    "duration": 24,
    "start_time": "2022-10-19T15:20:19.264Z"
   },
   {
    "duration": 407208,
    "start_time": "2022-10-19T15:20:19.290Z"
   },
   {
    "duration": 6,
    "start_time": "2022-10-19T15:27:06.499Z"
   },
   {
    "duration": 1925,
    "start_time": "2022-10-19T15:27:06.507Z"
   },
   {
    "duration": 377,
    "start_time": "2022-10-19T15:27:08.434Z"
   },
   {
    "duration": 1035,
    "start_time": "2022-10-19T15:27:08.813Z"
   },
   {
    "duration": 4993,
    "start_time": "2022-10-19T15:36:48.855Z"
   },
   {
    "duration": 2418,
    "start_time": "2022-10-19T15:36:53.850Z"
   },
   {
    "duration": 4,
    "start_time": "2022-10-19T15:36:56.270Z"
   },
   {
    "duration": 65,
    "start_time": "2022-10-19T15:36:56.277Z"
   },
   {
    "duration": 20,
    "start_time": "2022-10-19T15:36:56.344Z"
   },
   {
    "duration": 29,
    "start_time": "2022-10-19T15:36:56.367Z"
   },
   {
    "duration": 13,
    "start_time": "2022-10-19T15:36:56.398Z"
   },
   {
    "duration": 2127,
    "start_time": "2022-10-19T15:36:56.413Z"
   },
   {
    "duration": 9,
    "start_time": "2022-10-19T15:36:58.541Z"
   },
   {
    "duration": 11,
    "start_time": "2022-10-19T15:36:58.555Z"
   },
   {
    "duration": 447318,
    "start_time": "2022-10-19T15:36:58.568Z"
   },
   {
    "duration": 7,
    "start_time": "2022-10-19T15:44:25.888Z"
   },
   {
    "duration": 1818,
    "start_time": "2022-10-19T15:44:25.896Z"
   },
   {
    "duration": 337,
    "start_time": "2022-10-19T15:44:27.716Z"
   },
   {
    "duration": 996,
    "start_time": "2022-10-19T15:44:28.055Z"
   },
   {
    "duration": 5424,
    "start_time": "2022-10-19T17:04:27.149Z"
   },
   {
    "duration": 2556,
    "start_time": "2022-10-19T17:04:32.576Z"
   },
   {
    "duration": 3,
    "start_time": "2022-10-19T17:04:35.134Z"
   },
   {
    "duration": 65,
    "start_time": "2022-10-19T17:04:35.139Z"
   },
   {
    "duration": 14,
    "start_time": "2022-10-19T17:04:35.206Z"
   },
   {
    "duration": 21,
    "start_time": "2022-10-19T17:04:35.222Z"
   },
   {
    "duration": 14,
    "start_time": "2022-10-19T17:04:35.245Z"
   },
   {
    "duration": 104,
    "start_time": "2022-10-19T17:04:35.261Z"
   },
   {
    "duration": 0,
    "start_time": "2022-10-19T17:04:35.368Z"
   },
   {
    "duration": 0,
    "start_time": "2022-10-19T17:04:35.372Z"
   },
   {
    "duration": 0,
    "start_time": "2022-10-19T17:04:35.373Z"
   },
   {
    "duration": 0,
    "start_time": "2022-10-19T17:04:35.374Z"
   },
   {
    "duration": 0,
    "start_time": "2022-10-19T17:04:35.376Z"
   },
   {
    "duration": 0,
    "start_time": "2022-10-19T17:04:35.377Z"
   },
   {
    "duration": 0,
    "start_time": "2022-10-19T17:04:35.378Z"
   },
   {
    "duration": 0,
    "start_time": "2022-10-19T17:04:35.381Z"
   },
   {
    "duration": 5186,
    "start_time": "2022-10-19T17:05:21.505Z"
   },
   {
    "duration": 2562,
    "start_time": "2022-10-19T17:05:26.693Z"
   },
   {
    "duration": 3,
    "start_time": "2022-10-19T17:05:29.257Z"
   },
   {
    "duration": 74,
    "start_time": "2022-10-19T17:05:29.263Z"
   },
   {
    "duration": 17,
    "start_time": "2022-10-19T17:05:29.339Z"
   },
   {
    "duration": 21,
    "start_time": "2022-10-19T17:05:29.358Z"
   },
   {
    "duration": 17,
    "start_time": "2022-10-19T17:05:29.381Z"
   },
   {
    "duration": 2141,
    "start_time": "2022-10-19T17:05:29.400Z"
   },
   {
    "duration": 8,
    "start_time": "2022-10-19T17:05:31.543Z"
   },
   {
    "duration": 11,
    "start_time": "2022-10-19T17:05:31.553Z"
   },
   {
    "duration": 425672,
    "start_time": "2022-10-19T17:05:31.566Z"
   },
   {
    "duration": 7,
    "start_time": "2022-10-19T17:12:37.240Z"
   },
   {
    "duration": 1826,
    "start_time": "2022-10-19T17:12:37.248Z"
   },
   {
    "duration": 386,
    "start_time": "2022-10-19T17:12:39.075Z"
   },
   {
    "duration": 985,
    "start_time": "2022-10-19T17:12:39.463Z"
   },
   {
    "duration": 2267,
    "start_time": "2022-10-19T17:14:45.123Z"
   },
   {
    "duration": 1968,
    "start_time": "2022-10-19T17:18:39.310Z"
   },
   {
    "duration": 47,
    "start_time": "2022-10-19T17:19:28.767Z"
   },
   {
    "duration": 11,
    "start_time": "2022-10-19T17:19:54.430Z"
   },
   {
    "duration": 4,
    "start_time": "2022-10-19T17:25:45.437Z"
   },
   {
    "duration": 4,
    "start_time": "2022-10-19T17:27:59.031Z"
   },
   {
    "duration": 5,
    "start_time": "2022-10-19T17:34:06.497Z"
   },
   {
    "duration": 57,
    "start_time": "2022-10-19T17:46:50.991Z"
   },
   {
    "duration": 56,
    "start_time": "2022-10-19T17:49:20.096Z"
   },
   {
    "duration": 16,
    "start_time": "2022-10-19T17:49:20.809Z"
   },
   {
    "duration": 5,
    "start_time": "2022-10-19T17:50:33.597Z"
   },
   {
    "duration": 4,
    "start_time": "2022-10-19T17:51:42.897Z"
   },
   {
    "duration": 20,
    "start_time": "2022-10-19T17:51:52.138Z"
   },
   {
    "duration": 7,
    "start_time": "2022-10-19T17:53:35.761Z"
   },
   {
    "duration": 10,
    "start_time": "2022-10-19T17:54:03.730Z"
   },
   {
    "duration": 14,
    "start_time": "2022-10-19T17:54:26.412Z"
   },
   {
    "duration": 498,
    "start_time": "2022-10-19T17:58:42.565Z"
   },
   {
    "duration": 4938,
    "start_time": "2022-10-19T18:04:12.546Z"
   },
   {
    "duration": 2476,
    "start_time": "2022-10-19T18:04:17.487Z"
   },
   {
    "duration": 3,
    "start_time": "2022-10-19T18:04:19.965Z"
   },
   {
    "duration": 75,
    "start_time": "2022-10-19T18:04:19.970Z"
   },
   {
    "duration": 14,
    "start_time": "2022-10-19T18:04:20.047Z"
   },
   {
    "duration": 21,
    "start_time": "2022-10-19T18:04:20.062Z"
   },
   {
    "duration": 26,
    "start_time": "2022-10-19T18:04:20.084Z"
   },
   {
    "duration": 2228,
    "start_time": "2022-10-19T18:04:20.112Z"
   },
   {
    "duration": 7,
    "start_time": "2022-10-19T18:04:22.342Z"
   },
   {
    "duration": 5,
    "start_time": "2022-10-19T18:04:22.352Z"
   },
   {
    "duration": 400664,
    "start_time": "2022-10-19T18:04:22.358Z"
   },
   {
    "duration": 7,
    "start_time": "2022-10-19T18:11:03.023Z"
   },
   {
    "duration": 7,
    "start_time": "2022-10-19T18:11:03.032Z"
   },
   {
    "duration": 1774,
    "start_time": "2022-10-19T18:11:03.041Z"
   },
   {
    "duration": 340,
    "start_time": "2022-10-19T18:11:04.817Z"
   },
   {
    "duration": 5,
    "start_time": "2022-10-19T18:11:05.159Z"
   },
   {
    "duration": 6450,
    "start_time": "2022-10-19T18:18:12.156Z"
   },
   {
    "duration": 2376,
    "start_time": "2022-10-19T18:18:18.608Z"
   },
   {
    "duration": 3,
    "start_time": "2022-10-19T18:18:20.985Z"
   },
   {
    "duration": 69,
    "start_time": "2022-10-19T18:18:20.990Z"
   },
   {
    "duration": 15,
    "start_time": "2022-10-19T18:18:21.060Z"
   },
   {
    "duration": 19,
    "start_time": "2022-10-19T18:18:21.077Z"
   },
   {
    "duration": 14,
    "start_time": "2022-10-19T18:18:21.098Z"
   },
   {
    "duration": 2053,
    "start_time": "2022-10-19T18:18:21.114Z"
   },
   {
    "duration": 7,
    "start_time": "2022-10-19T18:18:23.169Z"
   },
   {
    "duration": 13,
    "start_time": "2022-10-19T18:18:23.178Z"
   },
   {
    "duration": 4644,
    "start_time": "2022-10-19T18:22:02.569Z"
   },
   {
    "duration": 2278,
    "start_time": "2022-10-19T18:22:07.215Z"
   },
   {
    "duration": 3,
    "start_time": "2022-10-19T18:22:09.495Z"
   },
   {
    "duration": 63,
    "start_time": "2022-10-19T18:22:09.500Z"
   },
   {
    "duration": 14,
    "start_time": "2022-10-19T18:22:09.565Z"
   },
   {
    "duration": 20,
    "start_time": "2022-10-19T18:22:09.580Z"
   },
   {
    "duration": 12,
    "start_time": "2022-10-19T18:22:09.602Z"
   },
   {
    "duration": 1625,
    "start_time": "2022-10-19T18:22:09.616Z"
   },
   {
    "duration": 0,
    "start_time": "2022-10-19T18:22:11.243Z"
   },
   {
    "duration": 0,
    "start_time": "2022-10-19T18:22:11.244Z"
   },
   {
    "duration": 0,
    "start_time": "2022-10-19T18:22:11.245Z"
   },
   {
    "duration": 0,
    "start_time": "2022-10-19T18:22:11.247Z"
   },
   {
    "duration": 0,
    "start_time": "2022-10-19T18:22:11.248Z"
   },
   {
    "duration": 0,
    "start_time": "2022-10-19T18:22:11.248Z"
   },
   {
    "duration": 0,
    "start_time": "2022-10-19T18:22:11.250Z"
   },
   {
    "duration": 0,
    "start_time": "2022-10-19T18:22:11.250Z"
   },
   {
    "duration": 4886,
    "start_time": "2022-10-19T18:22:59.587Z"
   },
   {
    "duration": 2326,
    "start_time": "2022-10-19T18:23:04.475Z"
   },
   {
    "duration": 3,
    "start_time": "2022-10-19T18:23:06.802Z"
   },
   {
    "duration": 69,
    "start_time": "2022-10-19T18:23:06.807Z"
   },
   {
    "duration": 13,
    "start_time": "2022-10-19T18:23:06.878Z"
   },
   {
    "duration": 19,
    "start_time": "2022-10-19T18:23:06.893Z"
   },
   {
    "duration": 12,
    "start_time": "2022-10-19T18:23:06.913Z"
   },
   {
    "duration": 1999,
    "start_time": "2022-10-19T18:23:06.927Z"
   },
   {
    "duration": 8,
    "start_time": "2022-10-19T18:23:08.928Z"
   },
   {
    "duration": 5,
    "start_time": "2022-10-19T18:23:08.939Z"
   },
   {
    "duration": 4701,
    "start_time": "2022-10-19T18:24:37.182Z"
   },
   {
    "duration": 2323,
    "start_time": "2022-10-19T18:24:41.885Z"
   },
   {
    "duration": 4,
    "start_time": "2022-10-19T18:24:44.210Z"
   },
   {
    "duration": 64,
    "start_time": "2022-10-19T18:24:44.216Z"
   },
   {
    "duration": 13,
    "start_time": "2022-10-19T18:24:44.282Z"
   },
   {
    "duration": 20,
    "start_time": "2022-10-19T18:24:44.296Z"
   },
   {
    "duration": 14,
    "start_time": "2022-10-19T18:24:44.318Z"
   },
   {
    "duration": 2109,
    "start_time": "2022-10-19T18:24:44.334Z"
   },
   {
    "duration": 7,
    "start_time": "2022-10-19T18:24:46.445Z"
   },
   {
    "duration": 5,
    "start_time": "2022-10-19T18:24:46.454Z"
   },
   {
    "duration": 418474,
    "start_time": "2022-10-19T18:24:46.460Z"
   },
   {
    "duration": 7,
    "start_time": "2022-10-19T18:31:44.936Z"
   },
   {
    "duration": 11,
    "start_time": "2022-10-19T18:31:44.944Z"
   },
   {
    "duration": 2229,
    "start_time": "2022-10-19T18:31:44.957Z"
   },
   {
    "duration": 373,
    "start_time": "2022-10-19T18:31:47.188Z"
   },
   {
    "duration": 5,
    "start_time": "2022-10-19T18:31:47.562Z"
   },
   {
    "duration": 5154,
    "start_time": "2022-10-19T18:37:33.637Z"
   },
   {
    "duration": 2513,
    "start_time": "2022-10-19T18:37:38.794Z"
   },
   {
    "duration": 3,
    "start_time": "2022-10-19T18:37:41.312Z"
   },
   {
    "duration": 71,
    "start_time": "2022-10-19T18:37:41.317Z"
   },
   {
    "duration": 21,
    "start_time": "2022-10-19T18:37:41.389Z"
   },
   {
    "duration": 32,
    "start_time": "2022-10-19T18:37:41.413Z"
   },
   {
    "duration": 18,
    "start_time": "2022-10-19T18:37:41.448Z"
   },
   {
    "duration": 2295,
    "start_time": "2022-10-19T18:37:41.468Z"
   },
   {
    "duration": 7,
    "start_time": "2022-10-19T18:37:43.766Z"
   },
   {
    "duration": 16,
    "start_time": "2022-10-19T18:37:43.774Z"
   },
   {
    "duration": 1416996,
    "start_time": "2022-10-19T18:37:43.792Z"
   },
   {
    "duration": 9,
    "start_time": "2022-10-19T19:01:20.790Z"
   },
   {
    "duration": 23,
    "start_time": "2022-10-19T19:01:20.801Z"
   },
   {
    "duration": 2283,
    "start_time": "2022-10-19T19:01:20.826Z"
   },
   {
    "duration": 380,
    "start_time": "2022-10-19T19:01:23.111Z"
   },
   {
    "duration": 6,
    "start_time": "2022-10-19T19:01:23.493Z"
   },
   {
    "duration": 189,
    "start_time": "2022-10-19T19:01:23.501Z"
   },
   {
    "duration": 2927,
    "start_time": "2022-10-19T19:01:42.744Z"
   },
   {
    "duration": 367,
    "start_time": "2022-10-19T19:01:49.290Z"
   },
   {
    "duration": 5,
    "start_time": "2022-10-19T19:01:52.931Z"
   },
   {
    "duration": 5053,
    "start_time": "2022-10-19T19:04:27.122Z"
   },
   {
    "duration": 2524,
    "start_time": "2022-10-19T19:04:32.178Z"
   },
   {
    "duration": 2,
    "start_time": "2022-10-19T19:04:34.704Z"
   },
   {
    "duration": 78,
    "start_time": "2022-10-19T19:04:34.708Z"
   },
   {
    "duration": 14,
    "start_time": "2022-10-19T19:04:34.787Z"
   },
   {
    "duration": 31,
    "start_time": "2022-10-19T19:04:34.802Z"
   },
   {
    "duration": 23,
    "start_time": "2022-10-19T19:04:34.834Z"
   },
   {
    "duration": 2045,
    "start_time": "2022-10-19T19:04:34.858Z"
   },
   {
    "duration": 7,
    "start_time": "2022-10-19T19:04:36.905Z"
   },
   {
    "duration": 6,
    "start_time": "2022-10-19T19:04:36.914Z"
   },
   {
    "duration": 1405950,
    "start_time": "2022-10-19T19:04:36.921Z"
   },
   {
    "duration": 16,
    "start_time": "2022-10-19T19:28:02.873Z"
   },
   {
    "duration": 8,
    "start_time": "2022-10-19T19:28:02.891Z"
   },
   {
    "duration": 3533,
    "start_time": "2022-10-19T19:28:02.901Z"
   },
   {
    "duration": 427,
    "start_time": "2022-10-19T19:28:06.436Z"
   },
   {
    "duration": 6,
    "start_time": "2022-10-19T19:28:06.866Z"
   },
   {
    "duration": 4905,
    "start_time": "2022-10-19T19:30:29.467Z"
   },
   {
    "duration": 2392,
    "start_time": "2022-10-19T19:30:34.374Z"
   },
   {
    "duration": 3,
    "start_time": "2022-10-19T19:30:36.768Z"
   },
   {
    "duration": 82,
    "start_time": "2022-10-19T19:30:36.773Z"
   },
   {
    "duration": 15,
    "start_time": "2022-10-19T19:30:36.857Z"
   },
   {
    "duration": 23,
    "start_time": "2022-10-19T19:30:36.875Z"
   },
   {
    "duration": 15,
    "start_time": "2022-10-19T19:30:36.900Z"
   },
   {
    "duration": 2103,
    "start_time": "2022-10-19T19:30:36.917Z"
   },
   {
    "duration": 7,
    "start_time": "2022-10-19T19:30:39.022Z"
   },
   {
    "duration": 18,
    "start_time": "2022-10-19T19:30:39.031Z"
   },
   {
    "duration": 349064,
    "start_time": "2022-10-19T19:30:39.050Z"
   },
   {
    "duration": 8,
    "start_time": "2022-10-19T19:36:28.116Z"
   },
   {
    "duration": 13,
    "start_time": "2022-10-19T19:36:28.126Z"
   },
   {
    "duration": 3064,
    "start_time": "2022-10-19T19:36:28.141Z"
   },
   {
    "duration": 367,
    "start_time": "2022-10-19T19:36:31.207Z"
   },
   {
    "duration": 5,
    "start_time": "2022-10-19T19:36:31.576Z"
   },
   {
    "duration": 2038,
    "start_time": "2022-10-20T12:00:31.327Z"
   },
   {
    "duration": 15314,
    "start_time": "2022-10-20T14:27:55.378Z"
   },
   {
    "duration": 4450,
    "start_time": "2022-10-20T14:28:10.694Z"
   },
   {
    "duration": 3,
    "start_time": "2022-10-20T14:28:15.147Z"
   },
   {
    "duration": 187,
    "start_time": "2022-10-20T14:28:15.152Z"
   },
   {
    "duration": 22,
    "start_time": "2022-10-20T14:28:15.341Z"
   },
   {
    "duration": 33,
    "start_time": "2022-10-20T14:28:15.365Z"
   },
   {
    "duration": 33,
    "start_time": "2022-10-20T14:28:15.400Z"
   },
   {
    "duration": 2491,
    "start_time": "2022-10-20T14:28:15.435Z"
   },
   {
    "duration": 11,
    "start_time": "2022-10-20T14:28:17.927Z"
   },
   {
    "duration": 8,
    "start_time": "2022-10-20T14:28:17.941Z"
   },
   {
    "duration": 343721,
    "start_time": "2022-10-20T14:28:17.952Z"
   },
   {
    "duration": 7,
    "start_time": "2022-10-20T14:34:01.675Z"
   },
   {
    "duration": 14,
    "start_time": "2022-10-20T14:34:01.683Z"
   },
   {
    "duration": 3263,
    "start_time": "2022-10-20T14:34:01.698Z"
   },
   {
    "duration": 356,
    "start_time": "2022-10-20T14:34:04.962Z"
   },
   {
    "duration": 10,
    "start_time": "2022-10-20T14:34:05.325Z"
   },
   {
    "duration": 5,
    "start_time": "2022-10-20T14:58:34.609Z"
   },
   {
    "duration": 2340,
    "start_time": "2022-10-20T15:15:08.052Z"
   },
   {
    "duration": 2393,
    "start_time": "2022-10-20T15:15:12.084Z"
   },
   {
    "duration": 2423,
    "start_time": "2022-10-20T15:15:15.320Z"
   },
   {
    "duration": 2343,
    "start_time": "2022-10-20T15:39:57.765Z"
   },
   {
    "duration": 2482,
    "start_time": "2022-10-20T15:40:00.109Z"
   },
   {
    "duration": 2415,
    "start_time": "2022-10-20T15:40:02.593Z"
   },
   {
    "duration": 11500,
    "start_time": "2022-10-20T17:13:31.479Z"
   },
   {
    "duration": 2817,
    "start_time": "2022-10-20T17:13:42.981Z"
   },
   {
    "duration": 3,
    "start_time": "2022-10-20T17:13:45.801Z"
   },
   {
    "duration": 161,
    "start_time": "2022-10-20T17:13:51.597Z"
   },
   {
    "duration": 167,
    "start_time": "2022-10-20T17:14:02.894Z"
   },
   {
    "duration": 17,
    "start_time": "2022-10-20T17:14:12.407Z"
   },
   {
    "duration": 9,
    "start_time": "2022-10-20T17:14:23.039Z"
   },
   {
    "duration": 6,
    "start_time": "2022-10-20T17:14:23.495Z"
   },
   {
    "duration": 2096,
    "start_time": "2022-10-20T17:14:36.670Z"
   },
   {
    "duration": 2091,
    "start_time": "2022-10-20T17:14:41.880Z"
   },
   {
    "duration": 2196,
    "start_time": "2022-10-20T17:14:44.985Z"
   },
   {
    "duration": 4,
    "start_time": "2022-10-20T17:15:14.482Z"
   },
   {
    "duration": 2092,
    "start_time": "2022-10-20T17:15:18.002Z"
   },
   {
    "duration": 2129,
    "start_time": "2022-10-20T17:15:20.932Z"
   },
   {
    "duration": 2184,
    "start_time": "2022-10-20T17:15:23.778Z"
   },
   {
    "duration": 2163,
    "start_time": "2022-10-20T17:15:51.869Z"
   },
   {
    "duration": 2191,
    "start_time": "2022-10-20T17:15:54.034Z"
   },
   {
    "duration": 2188,
    "start_time": "2022-10-20T17:15:56.227Z"
   },
   {
    "duration": 32,
    "start_time": "2022-10-20T19:40:08.453Z"
   },
   {
    "duration": 14,
    "start_time": "2022-10-20T19:42:42.247Z"
   },
   {
    "duration": 14,
    "start_time": "2022-10-20T19:42:48.808Z"
   },
   {
    "duration": 5,
    "start_time": "2022-10-20T19:42:57.465Z"
   },
   {
    "duration": 16,
    "start_time": "2022-10-20T19:43:01.410Z"
   },
   {
    "duration": 5,
    "start_time": "2022-10-20T19:43:19.443Z"
   },
   {
    "duration": 77,
    "start_time": "2022-10-20T19:43:25.067Z"
   },
   {
    "duration": 14,
    "start_time": "2022-10-20T19:43:29.476Z"
   },
   {
    "duration": 11,
    "start_time": "2022-10-20T19:44:50.137Z"
   },
   {
    "duration": 22,
    "start_time": "2022-10-20T19:44:55.945Z"
   },
   {
    "duration": 14,
    "start_time": "2022-10-20T19:48:43.666Z"
   },
   {
    "duration": 54,
    "start_time": "2022-10-20T19:48:51.824Z"
   },
   {
    "duration": 53,
    "start_time": "2022-10-20T19:49:10.705Z"
   },
   {
    "duration": 55,
    "start_time": "2022-10-20T19:49:33.443Z"
   },
   {
    "duration": 15,
    "start_time": "2022-10-20T19:50:10.613Z"
   },
   {
    "duration": 54,
    "start_time": "2022-10-20T19:51:01.361Z"
   },
   {
    "duration": 10,
    "start_time": "2022-10-20T19:51:08.443Z"
   },
   {
    "duration": 6,
    "start_time": "2022-10-20T19:51:12.634Z"
   },
   {
    "duration": 11,
    "start_time": "2022-10-20T19:51:19.089Z"
   },
   {
    "duration": 10,
    "start_time": "2022-10-20T19:51:42.923Z"
   },
   {
    "duration": 6,
    "start_time": "2022-10-20T19:51:57.517Z"
   },
   {
    "duration": 6,
    "start_time": "2022-10-20T19:52:21.518Z"
   },
   {
    "duration": 6,
    "start_time": "2022-10-20T19:53:55.219Z"
   },
   {
    "duration": 6,
    "start_time": "2022-10-20T19:54:00.228Z"
   },
   {
    "duration": 5,
    "start_time": "2022-10-20T20:01:15.560Z"
   },
   {
    "duration": 9186,
    "start_time": "2022-10-20T20:02:48.167Z"
   },
   {
    "duration": 62,
    "start_time": "2022-10-20T20:03:04.463Z"
   },
   {
    "duration": 1399,
    "start_time": "2022-10-20T20:03:45.441Z"
   },
   {
    "duration": 8,
    "start_time": "2022-10-20T20:16:42.044Z"
   },
   {
    "duration": 7,
    "start_time": "2022-10-20T20:17:05.053Z"
   },
   {
    "duration": 7,
    "start_time": "2022-10-20T20:18:16.722Z"
   },
   {
    "duration": 75,
    "start_time": "2022-10-20T20:41:52.958Z"
   },
   {
    "duration": 690,
    "start_time": "2022-10-20T20:42:07.606Z"
   },
   {
    "duration": 62,
    "start_time": "2022-10-20T20:49:58.309Z"
   },
   {
    "duration": 61,
    "start_time": "2022-10-20T20:50:30.601Z"
   },
   {
    "duration": 61,
    "start_time": "2022-10-20T20:50:47.352Z"
   },
   {
    "duration": 8,
    "start_time": "2022-10-20T20:51:22.562Z"
   },
   {
    "duration": 6,
    "start_time": "2022-10-20T20:51:28.315Z"
   },
   {
    "duration": 7,
    "start_time": "2022-10-20T20:52:01.661Z"
   },
   {
    "duration": 55,
    "start_time": "2022-10-20T20:54:26.159Z"
   },
   {
    "duration": 5,
    "start_time": "2022-10-20T20:54:56.784Z"
   },
   {
    "duration": 2214,
    "start_time": "2022-10-20T20:54:58.881Z"
   },
   {
    "duration": 7,
    "start_time": "2022-10-20T20:55:19.065Z"
   },
   {
    "duration": 54,
    "start_time": "2022-10-20T20:55:28.578Z"
   },
   {
    "duration": 8,
    "start_time": "2022-10-20T20:55:32.224Z"
   },
   {
    "duration": 7,
    "start_time": "2022-10-20T20:55:40.563Z"
   },
   {
    "duration": 10,
    "start_time": "2022-10-20T20:55:42.603Z"
   },
   {
    "duration": 6,
    "start_time": "2022-10-20T20:55:43.515Z"
   },
   {
    "duration": 9,
    "start_time": "2022-10-20T20:55:46.331Z"
   },
   {
    "duration": 5,
    "start_time": "2022-10-20T20:55:52.299Z"
   },
   {
    "duration": 2053,
    "start_time": "2022-10-20T20:55:52.988Z"
   },
   {
    "duration": 2913,
    "start_time": "2022-10-20T21:11:57.899Z"
   },
   {
    "duration": 6,
    "start_time": "2022-10-20T21:35:47.639Z"
   },
   {
    "duration": 1204,
    "start_time": "2022-10-20T21:36:03.560Z"
   },
   {
    "duration": 1167,
    "start_time": "2022-10-20T21:41:42.503Z"
   },
   {
    "duration": 1141,
    "start_time": "2022-10-20T21:42:04.744Z"
   },
   {
    "duration": 1084,
    "start_time": "2022-10-20T21:42:39.267Z"
   },
   {
    "duration": 1189,
    "start_time": "2022-10-20T21:44:14.865Z"
   },
   {
    "duration": 1089,
    "start_time": "2022-10-20T21:44:54.011Z"
   },
   {
    "duration": 1182,
    "start_time": "2022-10-20T21:45:50.758Z"
   },
   {
    "duration": 986,
    "start_time": "2022-10-20T21:46:55.955Z"
   },
   {
    "duration": 1215,
    "start_time": "2022-10-20T21:47:01.612Z"
   },
   {
    "duration": 610,
    "start_time": "2022-10-20T21:48:45.593Z"
   },
   {
    "duration": 6,
    "start_time": "2022-10-20T21:49:42.710Z"
   },
   {
    "duration": 1289,
    "start_time": "2022-10-20T21:49:43.302Z"
   },
   {
    "duration": 6,
    "start_time": "2022-10-20T21:50:03.390Z"
   },
   {
    "duration": 1162,
    "start_time": "2022-10-20T21:50:05.103Z"
   },
   {
    "duration": 6,
    "start_time": "2022-10-20T21:50:28.385Z"
   },
   {
    "duration": 1248,
    "start_time": "2022-10-20T21:50:28.848Z"
   },
   {
    "duration": 100,
    "start_time": "2022-10-20T21:55:42.021Z"
   },
   {
    "duration": 13,
    "start_time": "2022-10-20T21:56:52.562Z"
   },
   {
    "duration": 1447,
    "start_time": "2022-10-20T21:58:12.743Z"
   },
   {
    "duration": 4,
    "start_time": "2022-10-20T22:07:16.754Z"
   },
   {
    "duration": 1293,
    "start_time": "2022-10-20T22:09:42.811Z"
   },
   {
    "duration": 10358,
    "start_time": "2022-10-21T07:26:01.919Z"
   },
   {
    "duration": 2649,
    "start_time": "2022-10-21T07:26:12.280Z"
   },
   {
    "duration": 168,
    "start_time": "2022-10-21T07:26:14.931Z"
   },
   {
    "duration": 1550,
    "start_time": "2022-10-21T07:32:03.948Z"
   },
   {
    "duration": 2255,
    "start_time": "2022-10-21T07:33:37.703Z"
   },
   {
    "duration": 1526,
    "start_time": "2022-10-21T07:33:48.770Z"
   },
   {
    "duration": 1407,
    "start_time": "2022-10-21T07:37:19.696Z"
   },
   {
    "duration": 1430,
    "start_time": "2022-10-21T07:38:47.773Z"
   },
   {
    "duration": 79,
    "start_time": "2022-10-21T07:48:55.661Z"
   },
   {
    "duration": 93,
    "start_time": "2022-10-21T07:50:03.534Z"
   },
   {
    "duration": 74,
    "start_time": "2022-10-21T07:50:36.891Z"
   },
   {
    "duration": 1455,
    "start_time": "2022-10-21T07:50:53.940Z"
   },
   {
    "duration": 611,
    "start_time": "2022-10-21T07:57:30.415Z"
   },
   {
    "duration": 7,
    "start_time": "2022-10-21T07:57:39.423Z"
   },
   {
    "duration": 1291,
    "start_time": "2022-10-21T07:57:41.163Z"
   },
   {
    "duration": 1194,
    "start_time": "2022-10-21T07:57:55.000Z"
   },
   {
    "duration": 625,
    "start_time": "2022-10-21T07:58:02.192Z"
   },
   {
    "duration": 7,
    "start_time": "2022-10-21T07:58:29.123Z"
   },
   {
    "duration": 1192,
    "start_time": "2022-10-21T07:58:29.521Z"
   },
   {
    "duration": 75,
    "start_time": "2022-10-21T08:33:03.549Z"
   },
   {
    "duration": 76,
    "start_time": "2022-10-21T08:48:59.826Z"
   },
   {
    "duration": 74,
    "start_time": "2022-10-21T08:49:08.267Z"
   },
   {
    "duration": 1573,
    "start_time": "2022-10-21T08:49:21.030Z"
   },
   {
    "duration": 35,
    "start_time": "2022-10-21T08:49:27.599Z"
   },
   {
    "duration": 8,
    "start_time": "2022-10-21T08:50:19.338Z"
   },
   {
    "duration": 1274,
    "start_time": "2022-10-21T08:50:20.162Z"
   },
   {
    "duration": 1384,
    "start_time": "2022-10-21T08:50:29.212Z"
   },
   {
    "duration": 8,
    "start_time": "2022-10-21T08:51:00.181Z"
   },
   {
    "duration": 1164,
    "start_time": "2022-10-21T08:51:00.700Z"
   },
   {
    "duration": 1401,
    "start_time": "2022-10-21T08:51:06.302Z"
   },
   {
    "duration": 10,
    "start_time": "2022-10-21T08:51:26.543Z"
   },
   {
    "duration": 1182,
    "start_time": "2022-10-21T08:51:26.991Z"
   },
   {
    "duration": 1452,
    "start_time": "2022-10-21T08:51:32.951Z"
   },
   {
    "duration": 9,
    "start_time": "2022-10-21T08:51:53.432Z"
   },
   {
    "duration": 1174,
    "start_time": "2022-10-21T08:51:54.456Z"
   },
   {
    "duration": 1460,
    "start_time": "2022-10-21T08:52:01.344Z"
   },
   {
    "duration": 8,
    "start_time": "2022-10-21T08:52:14.674Z"
   },
   {
    "duration": 186,
    "start_time": "2022-10-21T08:52:15.082Z"
   },
   {
    "duration": 7,
    "start_time": "2022-10-21T08:52:27.739Z"
   },
   {
    "duration": 188,
    "start_time": "2022-10-21T08:52:28.394Z"
   },
   {
    "duration": 16,
    "start_time": "2022-10-21T08:52:33.739Z"
   },
   {
    "duration": 6,
    "start_time": "2022-10-21T08:52:47.676Z"
   },
   {
    "duration": 9,
    "start_time": "2022-10-21T08:52:55.708Z"
   },
   {
    "duration": 57,
    "start_time": "2022-10-21T08:53:11.548Z"
   },
   {
    "duration": 8,
    "start_time": "2022-10-21T08:53:21.863Z"
   },
   {
    "duration": 14,
    "start_time": "2022-10-21T08:53:22.444Z"
   },
   {
    "duration": 1176,
    "start_time": "2022-10-21T08:53:28.383Z"
   },
   {
    "duration": 1649,
    "start_time": "2022-10-21T08:53:36.551Z"
   },
   {
    "duration": 7,
    "start_time": "2022-10-21T08:54:09.145Z"
   },
   {
    "duration": 1184,
    "start_time": "2022-10-21T08:54:09.897Z"
   },
   {
    "duration": 9,
    "start_time": "2022-10-21T08:54:27.706Z"
   },
   {
    "duration": 1288,
    "start_time": "2022-10-21T08:54:28.138Z"
   },
   {
    "duration": 1396,
    "start_time": "2022-10-21T08:54:38.803Z"
   },
   {
    "duration": 63,
    "start_time": "2022-10-21T08:55:06.404Z"
   },
   {
    "duration": 9,
    "start_time": "2022-10-21T08:55:13.197Z"
   },
   {
    "duration": 1193,
    "start_time": "2022-10-21T08:55:13.829Z"
   },
   {
    "duration": 1333,
    "start_time": "2022-10-21T08:55:24.365Z"
   },
   {
    "duration": 68,
    "start_time": "2022-10-21T08:55:48.872Z"
   },
   {
    "duration": 8,
    "start_time": "2022-10-21T08:56:14.281Z"
   },
   {
    "duration": 1182,
    "start_time": "2022-10-21T08:56:14.665Z"
   },
   {
    "duration": 1237,
    "start_time": "2022-10-21T08:57:59.648Z"
   },
   {
    "duration": 931,
    "start_time": "2022-10-21T08:59:06.812Z"
   },
   {
    "duration": 1245,
    "start_time": "2022-10-21T08:59:54.088Z"
   },
   {
    "duration": 64,
    "start_time": "2022-10-21T09:01:15.196Z"
   },
   {
    "duration": 9,
    "start_time": "2022-10-21T09:01:33.646Z"
   },
   {
    "duration": 185,
    "start_time": "2022-10-21T09:01:34.910Z"
   },
   {
    "duration": 55,
    "start_time": "2022-10-21T09:01:57.999Z"
   },
   {
    "duration": 9,
    "start_time": "2022-10-21T09:02:13.456Z"
   },
   {
    "duration": 7,
    "start_time": "2022-10-21T09:02:18.536Z"
   },
   {
    "duration": 58,
    "start_time": "2022-10-21T09:02:38.218Z"
   },
   {
    "duration": 9,
    "start_time": "2022-10-21T09:02:48.634Z"
   },
   {
    "duration": 1242,
    "start_time": "2022-10-21T09:02:49.371Z"
   },
   {
    "duration": 12,
    "start_time": "2022-10-21T09:03:02.651Z"
   },
   {
    "duration": 4,
    "start_time": "2022-10-21T10:39:47.730Z"
   },
   {
    "duration": 4,
    "start_time": "2022-10-21T10:46:25.252Z"
   },
   {
    "duration": 4,
    "start_time": "2022-10-21T10:46:34.628Z"
   },
   {
    "duration": 1691,
    "start_time": "2022-10-21T10:58:44.803Z"
   },
   {
    "duration": 1481,
    "start_time": "2022-10-21T11:29:23.323Z"
   },
   {
    "duration": 73,
    "start_time": "2022-10-21T11:30:07.158Z"
   },
   {
    "duration": 1747,
    "start_time": "2022-10-21T11:30:55.649Z"
   },
   {
    "duration": 1417,
    "start_time": "2022-10-21T11:31:06.587Z"
   },
   {
    "duration": 2339,
    "start_time": "2022-10-21T11:31:53.165Z"
   },
   {
    "duration": 1470,
    "start_time": "2022-10-21T11:37:29.234Z"
   },
   {
    "duration": 1478,
    "start_time": "2022-10-21T11:38:12.526Z"
   },
   {
    "duration": 1730,
    "start_time": "2022-10-21T11:56:47.366Z"
   },
   {
    "duration": 78,
    "start_time": "2022-10-21T12:11:13.230Z"
   },
   {
    "duration": 26,
    "start_time": "2022-10-21T12:11:43.786Z"
   },
   {
    "duration": 57,
    "start_time": "2022-10-21T12:11:59.257Z"
   },
   {
    "duration": 615,
    "start_time": "2022-10-21T12:12:07.722Z"
   },
   {
    "duration": 1280,
    "start_time": "2022-10-21T12:19:17.230Z"
   },
   {
    "duration": 1424,
    "start_time": "2022-10-21T12:19:34.183Z"
   },
   {
    "duration": 1485,
    "start_time": "2022-10-21T12:22:01.618Z"
   },
   {
    "duration": 1430,
    "start_time": "2022-10-21T12:22:14.922Z"
   },
   {
    "duration": 1435,
    "start_time": "2022-10-21T12:22:42.532Z"
   },
   {
    "duration": 1706,
    "start_time": "2022-10-21T12:24:27.010Z"
   },
   {
    "duration": 1540,
    "start_time": "2022-10-21T12:24:58.804Z"
   },
   {
    "duration": 1551,
    "start_time": "2022-10-21T12:25:35.213Z"
   },
   {
    "duration": 10,
    "start_time": "2022-10-21T13:42:53.574Z"
   },
   {
    "duration": 9,
    "start_time": "2022-10-21T13:43:19.190Z"
   },
   {
    "duration": 11,
    "start_time": "2022-10-21T13:49:16.207Z"
   },
   {
    "duration": 6,
    "start_time": "2022-10-21T13:49:17.318Z"
   },
   {
    "duration": 4,
    "start_time": "2022-10-21T13:49:18.534Z"
   },
   {
    "duration": 15,
    "start_time": "2022-10-21T14:06:46.194Z"
   },
   {
    "duration": 13,
    "start_time": "2022-10-21T14:06:51.506Z"
   },
   {
    "duration": 65,
    "start_time": "2022-10-21T14:07:10.236Z"
   },
   {
    "duration": 10,
    "start_time": "2022-10-21T14:07:17.764Z"
   },
   {
    "duration": 12,
    "start_time": "2022-10-21T14:07:24.205Z"
   },
   {
    "duration": 8,
    "start_time": "2022-10-21T14:07:24.668Z"
   },
   {
    "duration": 5,
    "start_time": "2022-10-21T14:07:25.444Z"
   },
   {
    "duration": 4,
    "start_time": "2022-10-21T14:07:33.907Z"
   },
   {
    "duration": 17,
    "start_time": "2022-10-21T14:08:01.369Z"
   },
   {
    "duration": 54,
    "start_time": "2022-10-21T14:08:56.509Z"
   },
   {
    "duration": 9,
    "start_time": "2022-10-21T14:09:02.491Z"
   },
   {
    "duration": 13,
    "start_time": "2022-10-21T14:09:06.963Z"
   },
   {
    "duration": 7,
    "start_time": "2022-10-21T14:09:07.707Z"
   },
   {
    "duration": 6,
    "start_time": "2022-10-21T14:09:08.160Z"
   },
   {
    "duration": 4,
    "start_time": "2022-10-21T14:09:10.451Z"
   },
   {
    "duration": 4694,
    "start_time": "2022-10-21T14:38:54.698Z"
   },
   {
    "duration": 2553,
    "start_time": "2022-10-21T14:38:59.394Z"
   },
   {
    "duration": 62,
    "start_time": "2022-10-21T14:39:01.949Z"
   },
   {
    "duration": 13,
    "start_time": "2022-10-21T14:39:02.013Z"
   },
   {
    "duration": 18,
    "start_time": "2022-10-21T14:39:02.027Z"
   },
   {
    "duration": 11,
    "start_time": "2022-10-21T14:39:02.047Z"
   },
   {
    "duration": 10,
    "start_time": "2022-10-21T14:39:02.060Z"
   },
   {
    "duration": 1646,
    "start_time": "2022-10-21T14:39:02.071Z"
   },
   {
    "duration": 9,
    "start_time": "2022-10-21T14:39:03.718Z"
   },
   {
    "duration": 1239,
    "start_time": "2022-10-21T14:39:03.729Z"
   },
   {
    "duration": 186,
    "start_time": "2022-10-21T14:39:04.970Z"
   },
   {
    "duration": 0,
    "start_time": "2022-10-21T14:39:05.157Z"
   },
   {
    "duration": 0,
    "start_time": "2022-10-21T14:39:05.159Z"
   },
   {
    "duration": 0,
    "start_time": "2022-10-21T14:39:05.159Z"
   },
   {
    "duration": 0,
    "start_time": "2022-10-21T14:39:05.161Z"
   },
   {
    "duration": 0,
    "start_time": "2022-10-21T14:39:05.162Z"
   },
   {
    "duration": 0,
    "start_time": "2022-10-21T14:39:05.163Z"
   },
   {
    "duration": 0,
    "start_time": "2022-10-21T14:39:05.164Z"
   },
   {
    "duration": 0,
    "start_time": "2022-10-21T14:39:05.164Z"
   },
   {
    "duration": 0,
    "start_time": "2022-10-21T14:39:05.165Z"
   },
   {
    "duration": 0,
    "start_time": "2022-10-21T14:39:05.166Z"
   },
   {
    "duration": 4648,
    "start_time": "2022-10-21T14:44:02.794Z"
   },
   {
    "duration": 2435,
    "start_time": "2022-10-21T14:44:07.445Z"
   },
   {
    "duration": 55,
    "start_time": "2022-10-21T14:44:09.882Z"
   },
   {
    "duration": 12,
    "start_time": "2022-10-21T14:44:09.939Z"
   },
   {
    "duration": 10,
    "start_time": "2022-10-21T14:44:09.953Z"
   },
   {
    "duration": 8,
    "start_time": "2022-10-21T14:44:09.965Z"
   },
   {
    "duration": 9,
    "start_time": "2022-10-21T14:44:09.975Z"
   },
   {
    "duration": 129,
    "start_time": "2022-10-21T14:44:09.994Z"
   },
   {
    "duration": 0,
    "start_time": "2022-10-21T14:44:10.125Z"
   },
   {
    "duration": 0,
    "start_time": "2022-10-21T14:44:10.126Z"
   },
   {
    "duration": 0,
    "start_time": "2022-10-21T14:44:10.128Z"
   },
   {
    "duration": 0,
    "start_time": "2022-10-21T14:44:10.129Z"
   },
   {
    "duration": 0,
    "start_time": "2022-10-21T14:44:10.130Z"
   },
   {
    "duration": 0,
    "start_time": "2022-10-21T14:44:10.131Z"
   },
   {
    "duration": 0,
    "start_time": "2022-10-21T14:44:10.132Z"
   },
   {
    "duration": 0,
    "start_time": "2022-10-21T14:44:10.133Z"
   },
   {
    "duration": 0,
    "start_time": "2022-10-21T14:44:10.134Z"
   },
   {
    "duration": 0,
    "start_time": "2022-10-21T14:44:10.135Z"
   },
   {
    "duration": 0,
    "start_time": "2022-10-21T14:44:10.137Z"
   },
   {
    "duration": 0,
    "start_time": "2022-10-21T14:44:10.138Z"
   },
   {
    "duration": 0,
    "start_time": "2022-10-21T14:44:10.138Z"
   },
   {
    "duration": 0,
    "start_time": "2022-10-21T14:44:10.140Z"
   },
   {
    "duration": 4706,
    "start_time": "2022-10-21T14:44:33.076Z"
   },
   {
    "duration": 2417,
    "start_time": "2022-10-21T14:44:37.784Z"
   },
   {
    "duration": 56,
    "start_time": "2022-10-21T14:44:40.202Z"
   },
   {
    "duration": 12,
    "start_time": "2022-10-21T14:44:40.260Z"
   },
   {
    "duration": 12,
    "start_time": "2022-10-21T14:44:40.274Z"
   },
   {
    "duration": 7,
    "start_time": "2022-10-21T14:44:40.287Z"
   },
   {
    "duration": 8,
    "start_time": "2022-10-21T14:44:40.296Z"
   },
   {
    "duration": 174,
    "start_time": "2022-10-21T14:44:40.306Z"
   },
   {
    "duration": 0,
    "start_time": "2022-10-21T14:44:40.482Z"
   },
   {
    "duration": 0,
    "start_time": "2022-10-21T14:44:40.483Z"
   },
   {
    "duration": 0,
    "start_time": "2022-10-21T14:44:40.484Z"
   },
   {
    "duration": 0,
    "start_time": "2022-10-21T14:44:40.485Z"
   },
   {
    "duration": 0,
    "start_time": "2022-10-21T14:44:40.494Z"
   },
   {
    "duration": 0,
    "start_time": "2022-10-21T14:44:40.495Z"
   },
   {
    "duration": 0,
    "start_time": "2022-10-21T14:44:40.496Z"
   },
   {
    "duration": 0,
    "start_time": "2022-10-21T14:44:40.497Z"
   },
   {
    "duration": 0,
    "start_time": "2022-10-21T14:44:40.498Z"
   },
   {
    "duration": 0,
    "start_time": "2022-10-21T14:44:40.499Z"
   },
   {
    "duration": 0,
    "start_time": "2022-10-21T14:44:40.500Z"
   },
   {
    "duration": 0,
    "start_time": "2022-10-21T14:44:40.501Z"
   },
   {
    "duration": 0,
    "start_time": "2022-10-21T14:44:40.502Z"
   },
   {
    "duration": 14,
    "start_time": "2022-10-21T14:45:37.303Z"
   },
   {
    "duration": 1331,
    "start_time": "2022-10-21T14:45:39.103Z"
   },
   {
    "duration": 508,
    "start_time": "2022-10-21T14:45:46.839Z"
   },
   {
    "duration": 1596,
    "start_time": "2022-10-21T14:45:50.703Z"
   },
   {
    "duration": 1320,
    "start_time": "2022-10-21T14:45:57.928Z"
   },
   {
    "duration": 12,
    "start_time": "2022-10-21T14:46:07.904Z"
   },
   {
    "duration": 7,
    "start_time": "2022-10-21T14:46:08.448Z"
   },
   {
    "duration": 5,
    "start_time": "2022-10-21T14:46:08.888Z"
   },
   {
    "duration": 663773,
    "start_time": "2022-10-21T14:46:11.209Z"
   },
   {
    "duration": 5,
    "start_time": "2022-10-21T14:58:47.626Z"
   },
   {
    "duration": 9265,
    "start_time": "2022-10-21T14:59:14.420Z"
   },
   {
    "duration": 7,
    "start_time": "2022-10-21T14:59:25.268Z"
   },
   {
    "duration": 8,
    "start_time": "2022-10-21T15:01:12.451Z"
   },
   {
    "duration": 336,
    "start_time": "2022-10-21T15:02:52.137Z"
   },
   {
    "duration": 85,
    "start_time": "2022-10-21T15:03:30.963Z"
   },
   {
    "duration": 14,
    "start_time": "2022-10-21T15:06:48.473Z"
   },
   {
    "duration": 1037,
    "start_time": "2022-10-21T15:07:49.660Z"
   },
   {
    "duration": 861,
    "start_time": "2022-10-21T15:07:58.285Z"
   },
   {
    "duration": 72,
    "start_time": "2022-10-21T15:09:30.757Z"
   },
   {
    "duration": 3,
    "start_time": "2022-10-21T15:14:13.733Z"
   },
   {
    "duration": 15,
    "start_time": "2022-10-21T15:14:21.165Z"
   },
   {
    "duration": 15,
    "start_time": "2022-10-21T15:14:57.239Z"
   },
   {
    "duration": 29,
    "start_time": "2022-10-21T15:16:00.267Z"
   },
   {
    "duration": 14,
    "start_time": "2022-10-21T15:16:18.100Z"
   },
   {
    "duration": 7,
    "start_time": "2022-10-21T15:17:00.367Z"
   },
   {
    "duration": 4944,
    "start_time": "2022-10-21T15:17:11.217Z"
   },
   {
    "duration": 31835,
    "start_time": "2022-10-21T15:18:37.974Z"
   },
   {
    "duration": 51,
    "start_time": "2022-10-21T15:22:03.275Z"
   },
   {
    "duration": 13,
    "start_time": "2022-10-21T15:22:12.861Z"
   },
   {
    "duration": 16,
    "start_time": "2022-10-21T15:22:22.740Z"
   },
   {
    "duration": 8,
    "start_time": "2022-10-21T15:22:23.548Z"
   },
   {
    "duration": 6,
    "start_time": "2022-10-21T15:22:23.982Z"
   },
   {
    "duration": 10031,
    "start_time": "2022-10-21T15:22:33.349Z"
   },
   {
    "duration": 33493,
    "start_time": "2022-10-21T15:22:50.183Z"
   },
   {
    "duration": 12,
    "start_time": "2022-10-21T15:24:00.202Z"
   },
   {
    "duration": 13,
    "start_time": "2022-10-21T15:24:29.501Z"
   },
   {
    "duration": 3,
    "start_time": "2022-10-21T15:26:54.719Z"
   },
   {
    "duration": 18,
    "start_time": "2022-10-21T15:26:58.759Z"
   },
   {
    "duration": 11,
    "start_time": "2022-10-21T15:27:09.702Z"
   },
   {
    "duration": 6,
    "start_time": "2022-10-21T15:28:06.027Z"
   },
   {
    "duration": 4,
    "start_time": "2022-10-21T15:28:48.606Z"
   },
   {
    "duration": 1286,
    "start_time": "2022-10-21T15:29:11.102Z"
   },
   {
    "duration": 1365,
    "start_time": "2022-10-21T15:31:42.256Z"
   },
   {
    "duration": 11,
    "start_time": "2022-10-21T15:32:24.763Z"
   },
   {
    "duration": 31101,
    "start_time": "2022-10-21T15:34:22.330Z"
   },
   {
    "duration": 818,
    "start_time": "2022-10-21T15:35:55.688Z"
   },
   {
    "duration": 4,
    "start_time": "2022-10-21T15:36:12.687Z"
   },
   {
    "duration": 2236,
    "start_time": "2022-10-21T15:36:52.309Z"
   },
   {
    "duration": 14836,
    "start_time": "2022-10-21T15:38:01.376Z"
   },
   {
    "duration": 1365,
    "start_time": "2022-10-21T15:39:11.725Z"
   },
   {
    "duration": 1237,
    "start_time": "2022-10-21T15:39:27.599Z"
   },
   {
    "duration": 760,
    "start_time": "2022-10-21T15:42:43.546Z"
   },
   {
    "duration": 360,
    "start_time": "2022-10-21T15:43:01.508Z"
   },
   {
    "duration": 858,
    "start_time": "2022-10-21T15:43:06.737Z"
   },
   {
    "duration": 433,
    "start_time": "2022-10-21T15:43:21.556Z"
   },
   {
    "duration": 580,
    "start_time": "2022-10-21T15:43:56.447Z"
   },
   {
    "duration": 444,
    "start_time": "2022-10-21T15:44:10.544Z"
   },
   {
    "duration": 435,
    "start_time": "2022-10-21T15:44:21.608Z"
   },
   {
    "duration": 615,
    "start_time": "2022-10-21T15:44:33.841Z"
   },
   {
    "duration": 453,
    "start_time": "2022-10-21T15:44:47.746Z"
   },
   {
    "duration": 427,
    "start_time": "2022-10-21T15:48:40.898Z"
   },
   {
    "duration": 426,
    "start_time": "2022-10-21T15:49:21.028Z"
   },
   {
    "duration": 59,
    "start_time": "2022-10-21T15:52:19.807Z"
   },
   {
    "duration": 11,
    "start_time": "2022-10-21T15:52:27.479Z"
   },
   {
    "duration": 958,
    "start_time": "2022-10-21T15:52:28.367Z"
   },
   {
    "duration": 1136,
    "start_time": "2022-10-21T15:52:36.544Z"
   },
   {
    "duration": 18,
    "start_time": "2022-10-21T15:53:46.755Z"
   },
   {
    "duration": 9,
    "start_time": "2022-10-21T15:53:47.157Z"
   },
   {
    "duration": 7,
    "start_time": "2022-10-21T15:53:47.524Z"
   },
   {
    "duration": 340,
    "start_time": "2022-10-21T15:54:05.502Z"
   },
   {
    "duration": 24,
    "start_time": "2022-10-21T15:54:38.561Z"
   },
   {
    "duration": 22,
    "start_time": "2022-10-21T16:00:34.944Z"
   },
   {
    "duration": 9771,
    "start_time": "2022-10-21T16:00:48.063Z"
   },
   {
    "duration": 7,
    "start_time": "2022-10-21T16:01:03.800Z"
   },
   {
    "duration": 381,
    "start_time": "2022-10-21T16:01:19.137Z"
   },
   {
    "duration": 618,
    "start_time": "2022-10-21T16:01:31.481Z"
   },
   {
    "duration": 70,
    "start_time": "2022-10-21T16:02:13.246Z"
   },
   {
    "duration": 4679,
    "start_time": "2022-10-21T16:15:07.907Z"
   },
   {
    "duration": 2476,
    "start_time": "2022-10-21T16:15:12.588Z"
   },
   {
    "duration": 73,
    "start_time": "2022-10-21T16:15:15.066Z"
   },
   {
    "duration": 12,
    "start_time": "2022-10-21T16:15:15.141Z"
   },
   {
    "duration": 10,
    "start_time": "2022-10-21T16:15:15.155Z"
   },
   {
    "duration": 8,
    "start_time": "2022-10-21T16:15:15.167Z"
   },
   {
    "duration": 17,
    "start_time": "2022-10-21T16:15:15.176Z"
   },
   {
    "duration": 15,
    "start_time": "2022-10-21T16:15:15.195Z"
   },
   {
    "duration": 913,
    "start_time": "2022-10-21T16:15:15.211Z"
   },
   {
    "duration": 527,
    "start_time": "2022-10-21T16:15:16.127Z"
   },
   {
    "duration": 2553,
    "start_time": "2022-10-21T16:15:16.656Z"
   },
   {
    "duration": 1468,
    "start_time": "2022-10-21T16:15:19.298Z"
   },
   {
    "duration": 13,
    "start_time": "2022-10-21T16:15:20.768Z"
   },
   {
    "duration": 17,
    "start_time": "2022-10-21T16:15:20.783Z"
   },
   {
    "duration": 6,
    "start_time": "2022-10-21T16:15:20.802Z"
   },
   {
    "duration": 768494,
    "start_time": "2022-10-21T16:15:20.810Z"
   },
   {
    "duration": 4,
    "start_time": "2022-10-21T16:28:09.306Z"
   },
   {
    "duration": 9798,
    "start_time": "2022-10-21T16:28:09.312Z"
   },
   {
    "duration": 7,
    "start_time": "2022-10-21T16:28:19.111Z"
   },
   {
    "duration": 347,
    "start_time": "2022-10-21T16:28:19.120Z"
   },
   {
    "duration": 648,
    "start_time": "2022-10-21T16:28:19.468Z"
   },
   {
    "duration": 453,
    "start_time": "2022-10-21T16:28:20.119Z"
   },
   {
    "duration": 5,
    "start_time": "2022-10-21T16:28:20.574Z"
   },
   {
    "duration": 5085,
    "start_time": "2022-10-21T16:47:24.885Z"
   },
   {
    "duration": 2427,
    "start_time": "2022-10-21T16:47:29.972Z"
   },
   {
    "duration": 62,
    "start_time": "2022-10-21T16:47:32.401Z"
   },
   {
    "duration": 12,
    "start_time": "2022-10-21T16:47:32.465Z"
   },
   {
    "duration": 14,
    "start_time": "2022-10-21T16:47:32.478Z"
   },
   {
    "duration": 37,
    "start_time": "2022-10-21T16:47:32.494Z"
   },
   {
    "duration": 31,
    "start_time": "2022-10-21T16:47:32.533Z"
   },
   {
    "duration": 28,
    "start_time": "2022-10-21T16:47:32.566Z"
   },
   {
    "duration": 909,
    "start_time": "2022-10-21T16:47:32.595Z"
   },
   {
    "duration": 503,
    "start_time": "2022-10-21T16:47:33.506Z"
   },
   {
    "duration": 2984,
    "start_time": "2022-10-21T16:47:34.011Z"
   },
   {
    "duration": 1408,
    "start_time": "2022-10-21T16:47:36.997Z"
   },
   {
    "duration": 14,
    "start_time": "2022-10-21T16:47:38.407Z"
   },
   {
    "duration": 11,
    "start_time": "2022-10-21T16:47:38.423Z"
   },
   {
    "duration": 5,
    "start_time": "2022-10-21T16:47:38.436Z"
   },
   {
    "duration": 690502,
    "start_time": "2022-10-21T16:47:38.443Z"
   },
   {
    "duration": 4,
    "start_time": "2022-10-21T16:59:08.947Z"
   },
   {
    "duration": 8907,
    "start_time": "2022-10-21T16:59:08.952Z"
   },
   {
    "duration": 8,
    "start_time": "2022-10-21T16:59:17.860Z"
   },
   {
    "duration": 364,
    "start_time": "2022-10-21T16:59:17.870Z"
   },
   {
    "duration": 643,
    "start_time": "2022-10-21T16:59:18.235Z"
   },
   {
    "duration": 5,
    "start_time": "2022-10-21T16:59:19.284Z"
   },
   {
    "duration": 406,
    "start_time": "2022-10-21T16:59:19.297Z"
   },
   {
    "duration": 260,
    "start_time": "2022-10-21T16:59:19.704Z"
   },
   {
    "duration": 65,
    "start_time": "2022-10-21T16:59:37.926Z"
   },
   {
    "duration": 4750,
    "start_time": "2022-10-21T17:01:25.370Z"
   },
   {
    "duration": 2644,
    "start_time": "2022-10-21T17:01:30.123Z"
   },
   {
    "duration": 64,
    "start_time": "2022-10-21T17:01:32.769Z"
   },
   {
    "duration": 16,
    "start_time": "2022-10-21T17:01:32.836Z"
   },
   {
    "duration": 15,
    "start_time": "2022-10-21T17:01:32.853Z"
   },
   {
    "duration": 8,
    "start_time": "2022-10-21T17:01:32.869Z"
   },
   {
    "duration": 9,
    "start_time": "2022-10-21T17:01:32.896Z"
   },
   {
    "duration": 14,
    "start_time": "2022-10-21T17:01:32.908Z"
   },
   {
    "duration": 970,
    "start_time": "2022-10-21T17:01:32.925Z"
   },
   {
    "duration": 533,
    "start_time": "2022-10-21T17:01:33.898Z"
   },
   {
    "duration": 1671,
    "start_time": "2022-10-21T17:01:34.432Z"
   },
   {
    "duration": 1627,
    "start_time": "2022-10-21T17:01:36.108Z"
   },
   {
    "duration": 12,
    "start_time": "2022-10-21T17:01:37.737Z"
   },
   {
    "duration": 7,
    "start_time": "2022-10-21T17:01:37.751Z"
   },
   {
    "duration": 5,
    "start_time": "2022-10-21T17:01:37.760Z"
   },
   {
    "duration": 685911,
    "start_time": "2022-10-21T17:01:37.767Z"
   },
   {
    "duration": 3,
    "start_time": "2022-10-21T17:13:03.680Z"
   },
   {
    "duration": 8866,
    "start_time": "2022-10-21T17:13:03.685Z"
   },
   {
    "duration": 6,
    "start_time": "2022-10-21T17:13:12.553Z"
   },
   {
    "duration": 367,
    "start_time": "2022-10-21T17:13:12.560Z"
   },
   {
    "duration": 675,
    "start_time": "2022-10-21T17:13:12.929Z"
   },
   {
    "duration": 408,
    "start_time": "2022-10-21T17:13:13.606Z"
   },
   {
    "duration": 6,
    "start_time": "2022-10-21T17:13:14.016Z"
   },
   {
    "duration": 273,
    "start_time": "2022-10-21T17:13:14.024Z"
   },
   {
    "duration": 11372,
    "start_time": "2022-10-22T00:34:57.637Z"
   },
   {
    "duration": 4489,
    "start_time": "2022-10-22T00:35:09.012Z"
   },
   {
    "duration": 162,
    "start_time": "2022-10-22T00:35:13.502Z"
   },
   {
    "duration": 12,
    "start_time": "2022-10-22T00:35:13.666Z"
   },
   {
    "duration": 10,
    "start_time": "2022-10-22T00:35:13.680Z"
   },
   {
    "duration": 7,
    "start_time": "2022-10-22T00:35:13.691Z"
   },
   {
    "duration": 10,
    "start_time": "2022-10-22T00:35:13.699Z"
   },
   {
    "duration": 12,
    "start_time": "2022-10-22T00:35:13.710Z"
   },
   {
    "duration": 823,
    "start_time": "2022-10-22T00:35:13.723Z"
   },
   {
    "duration": 439,
    "start_time": "2022-10-22T00:35:14.549Z"
   },
   {
    "duration": 1710,
    "start_time": "2022-10-22T00:35:14.990Z"
   },
   {
    "duration": 1244,
    "start_time": "2022-10-22T00:35:16.792Z"
   },
   {
    "duration": 10,
    "start_time": "2022-10-22T00:35:18.037Z"
   },
   {
    "duration": 6,
    "start_time": "2022-10-22T00:35:18.049Z"
   },
   {
    "duration": 5,
    "start_time": "2022-10-22T00:35:18.056Z"
   },
   {
    "duration": 135464,
    "start_time": "2022-10-22T00:35:18.062Z"
   },
   {
    "duration": 0,
    "start_time": "2022-10-22T00:37:33.528Z"
   },
   {
    "duration": 0,
    "start_time": "2022-10-22T00:37:33.529Z"
   },
   {
    "duration": 0,
    "start_time": "2022-10-22T00:37:33.530Z"
   },
   {
    "duration": 0,
    "start_time": "2022-10-22T00:37:33.531Z"
   },
   {
    "duration": 0,
    "start_time": "2022-10-22T00:37:33.532Z"
   },
   {
    "duration": 0,
    "start_time": "2022-10-22T00:37:33.532Z"
   },
   {
    "duration": 0,
    "start_time": "2022-10-22T00:37:33.533Z"
   },
   {
    "duration": 0,
    "start_time": "2022-10-22T00:37:33.534Z"
   },
   {
    "duration": 4134,
    "start_time": "2022-10-22T00:37:38.103Z"
   },
   {
    "duration": 2448,
    "start_time": "2022-10-22T00:37:42.240Z"
   },
   {
    "duration": 53,
    "start_time": "2022-10-22T00:37:44.691Z"
   },
   {
    "duration": 11,
    "start_time": "2022-10-22T00:37:44.747Z"
   },
   {
    "duration": 9,
    "start_time": "2022-10-22T00:37:44.760Z"
   },
   {
    "duration": 6,
    "start_time": "2022-10-22T00:37:44.771Z"
   },
   {
    "duration": 14,
    "start_time": "2022-10-22T00:37:44.779Z"
   },
   {
    "duration": 12,
    "start_time": "2022-10-22T00:37:44.795Z"
   },
   {
    "duration": 837,
    "start_time": "2022-10-22T00:37:44.809Z"
   },
   {
    "duration": 459,
    "start_time": "2022-10-22T00:37:45.650Z"
   },
   {
    "duration": 1388,
    "start_time": "2022-10-22T00:37:46.111Z"
   },
   {
    "duration": 1370,
    "start_time": "2022-10-22T00:37:47.500Z"
   },
   {
    "duration": 20,
    "start_time": "2022-10-22T00:37:48.871Z"
   },
   {
    "duration": 7,
    "start_time": "2022-10-22T00:37:48.892Z"
   },
   {
    "duration": 4,
    "start_time": "2022-10-22T00:37:48.900Z"
   },
   {
    "duration": 365449,
    "start_time": "2022-10-22T00:37:48.906Z"
   },
   {
    "duration": 3,
    "start_time": "2022-10-22T00:43:54.357Z"
   },
   {
    "duration": 8486,
    "start_time": "2022-10-22T00:43:54.362Z"
   },
   {
    "duration": 6,
    "start_time": "2022-10-22T00:44:02.850Z"
   },
   {
    "duration": 342,
    "start_time": "2022-10-22T00:44:02.858Z"
   },
   {
    "duration": 483,
    "start_time": "2022-10-22T00:44:03.202Z"
   },
   {
    "duration": 476,
    "start_time": "2022-10-22T00:44:03.691Z"
   },
   {
    "duration": 5,
    "start_time": "2022-10-22T00:44:04.168Z"
   },
   {
    "duration": 260,
    "start_time": "2022-10-22T00:44:04.174Z"
   },
   {
    "duration": 6,
    "start_time": "2022-10-22T01:25:44.266Z"
   },
   {
    "duration": 6,
    "start_time": "2022-10-22T01:25:52.533Z"
   },
   {
    "duration": 212,
    "start_time": "2022-10-22T01:26:08.604Z"
   },
   {
    "duration": 240,
    "start_time": "2022-10-22T01:27:40.722Z"
   },
   {
    "duration": 272,
    "start_time": "2022-10-22T01:27:58.422Z"
   },
   {
    "duration": 285,
    "start_time": "2022-10-22T01:32:00.084Z"
   }
  ],
  "kernelspec": {
   "display_name": "Python 3 (ipykernel)",
   "language": "python",
   "name": "python3"
  },
  "language_info": {
   "codemirror_mode": {
    "name": "ipython",
    "version": 3
   },
   "file_extension": ".py",
   "mimetype": "text/x-python",
   "name": "python",
   "nbconvert_exporter": "python",
   "pygments_lexer": "ipython3",
   "version": "3.9.12"
  },
  "toc": {
   "base_numbering": 1,
   "nav_menu": {},
   "number_sections": true,
   "sideBar": true,
   "skip_h1_title": true,
   "title_cell": "Содержание",
   "title_sidebar": "Contents",
   "toc_cell": true,
   "toc_position": {},
   "toc_section_display": true,
   "toc_window_display": false
  }
 },
 "nbformat": 4,
 "nbformat_minor": 2
}
