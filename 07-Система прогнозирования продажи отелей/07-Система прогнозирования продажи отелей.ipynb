{
 "cells": [
  {
   "cell_type": "markdown",
   "metadata": {},
   "source": [
    "# Прогнозирование оттока клиентов в сети отелей\n",
    "\n",
    "Заказчик этого исследования — сеть отелей «Как в гостях».\n",
    "Чтобы привлечь клиентов, эта сеть отелей добавила на свой сайт возможность забронировать номер без предоплаты. Однако если клиент отменяет бронирование, то компания терпит убытки. Чтобы решить эту проблему, нужно разработать систему, которая предскажет отказ от брони. \n",
    "\n",
    "<font color='green'>Цель</font>\n",
    "\n",
    "Проанализировать изменение прибыли после внедрения системы депозитов. Система депозитов базируется на модели машинного обучения, предсказывающей отмену заказа.  \n",
    "\n",
    "<font color='green'>Задачи</font>\n",
    "\n",
    "- исследовать данные;\n",
    "- рассчитать прибыль до внедрения новой системы;\n",
    "- построить модель машинного обучения;\n",
    "- рассчитать прибыль после внедрения новой системы;\n",
    "- определить портрет потенциального неплательщика.\n",
    "\n",
    "<font color='green'>Основные условия</font>\n",
    "\n",
    "- бюджет  - 400 тыс. руб.\n",
    "- стоимость номера и разового обслуживания:\n",
    "\n",
    " * A: 1000 + 400\n",
    " * B:  800 + 350 \n",
    " * C:  600 + 350 \n",
    " * D:  550 + 150 \n",
    " * E:  500 + 150 \n",
    " * F:  450 + 150 \n",
    " * G:  350 + 150 \n",
    "\n",
    "- ценовая политика: +20% весной и осенью, +40% летом.\n",
    "\n",
    "<font color='green'>Файлы</font>\n",
    "\n",
    "- `hotel_train.csv`\n",
    "- `hotel_test.csv`\n",
    "\n",
    "<font color='green'>Признаки</font>\n",
    "\n",
    "-    `id` — номер записи;\n",
    "-    `adults` — количество взрослых постояльцев;\n",
    "-    `arrival_date_year` — год заезда;\n",
    "-    `arrival_date_month` — месяц заезда;\n",
    "-    `arrival_date_week_number` — неделя заезда;\n",
    "-    `arrival_date_day_of_month` — день заезда;\n",
    "-    `babies` — количество младенцев;\n",
    "-    `booking_changes` — количество изменений параметров заказа;\n",
    "-    `children` — количество детей от 3 до 14 лет;\n",
    "-    `country` — гражданство постояльца;\n",
    "-    `customer_type` — тип заказчика:\n",
    "    *        `Contract` — договор с юридическим лицом;\n",
    "    *        `Group` — групповой заезд;\n",
    "    *        `Transient` — не связано с договором или групповым заездом;\n",
    "    *        `Transient-party` — не связано с договором или групповым заездом, но связано с бронированием типа Transient.\n",
    "-    `days_in_waiting_list` — сколько дней заказ ожидал подтверждения;\n",
    "-    `distribution_channel` — канал дистрибуции заказа;\n",
    "-    `is_repeated_guest` — признак того, что гость бронирует номер второй раз;\n",
    "-    `lead_time` — количество дней между датой бронирования и датой прибытия;\n",
    "-    `meal` — опции заказа:\n",
    "    *        `SC` — нет дополнительных опций;\n",
    "    *        `BB` — включён завтрак;\n",
    "    *        `HB` — включён завтрак и обед;\n",
    "    *        `FB` — включён завтрак, обед и ужин.\n",
    "-    `previous_bookings_not_canceled` — количество подтверждённых заказов у клиента;\n",
    "-    `previous_cancellations` — количество отменённых заказов у клиента;\n",
    "-    `required_car_parking_spaces` — необходимость места для автомобиля;\n",
    "-    `reserved_room_type` — тип забронированной комнаты;\n",
    "-    `stays_in_weekend_nights` — количество ночей в выходные дни;\n",
    "-    `stays_in_week_nights` — количество ночей в будние дни;\n",
    "-    `total_nights` — общее количество ночей;\n",
    "-    `total_of_special_requests` — количество специальных отметок.\n",
    "\n",
    "<font color='green'>Целевой признак</font>\n",
    "\n",
    "- `is_canceled` — отмена заказа.\n",
    "\n",
    "<font color='green'>Содержание</font>"
   ]
  },
  {
   "cell_type": "markdown",
   "metadata": {
    "toc": true
   },
   "source": [
    "<h1><span class=\"tocSkip\"></span></h1>\n",
    "<div class=\"toc\"><ul class=\"toc-item\"><li><span><a href=\"#Шаг-1.-Загрузка-и-подготовка-данных\" data-toc-modified-id=\"Шаг-1.-Загрузка-и-подготовка-данных-1\"><span class=\"toc-item-num\">1&nbsp;&nbsp;</span>Шаг 1. Загрузка и подготовка данных</a></span></li><li><span><a href=\"#Шаг-2.-Исследовательский-анализ-данных\" data-toc-modified-id=\"Шаг-2.-Исследовательский-анализ-данных-2\"><span class=\"toc-item-num\">2&nbsp;&nbsp;</span>Шаг 2. Исследовательский анализ данных</a></span></li><li><span><a href=\"#Шаг-3.-Вычисление-бизнес-метрики\" data-toc-modified-id=\"Шаг-3.-Вычисление-бизнес-метрики-3\"><span class=\"toc-item-num\">3&nbsp;&nbsp;</span>Шаг 3. Вычисление бизнес-метрики</a></span></li><li><span><a href=\"#Шаг-4.-Подготовка-данных-для-ML\" data-toc-modified-id=\"Шаг-4.-Подготовка-данных-для-ML-4\"><span class=\"toc-item-num\">4&nbsp;&nbsp;</span>Шаг 4. Подготовка данных для ML</a></span><ul class=\"toc-item\"><li><span><a href=\"#Разделение-данных-на-выборки\" data-toc-modified-id=\"Разделение-данных-на-выборки-4.1\"><span class=\"toc-item-num\">4.1&nbsp;&nbsp;</span>Разделение данных на выборки</a></span></li><li><span><a href=\"#Масштабирование-признаков\" data-toc-modified-id=\"Масштабирование-признаков-4.2\"><span class=\"toc-item-num\">4.2&nbsp;&nbsp;</span>Масштабирование признаков</a></span></li></ul></li><li><span><a href=\"#Шаг-5.-Разработка-модели-ML\" data-toc-modified-id=\"Шаг-5.-Разработка-модели-ML-5\"><span class=\"toc-item-num\">5&nbsp;&nbsp;</span>Шаг 5. Разработка модели ML</a></span><ul class=\"toc-item\"><li><span><a href=\"#Логистическая-регрессия\" data-toc-modified-id=\"Логистическая-регрессия-5.1\"><span class=\"toc-item-num\">5.1&nbsp;&nbsp;</span>Логистическая регрессия</a></span><ul class=\"toc-item\"><li><span><a href=\"#Подбор-параметров-без-устранения-дисбаланса\" data-toc-modified-id=\"Подбор-параметров-без-устранения-дисбаланса-5.1.1\"><span class=\"toc-item-num\">5.1.1&nbsp;&nbsp;</span>Подбор параметров без устранения дисбаланса</a></span></li><li><span><a href=\"#Подбор-параметров-с-устранением-дисбаланса\" data-toc-modified-id=\"Подбор-параметров-с-устранением-дисбаланса-5.1.2\"><span class=\"toc-item-num\">5.1.2&nbsp;&nbsp;</span>Подбор параметров с устранением дисбаланса</a></span></li></ul></li><li><span><a href=\"#Решающее-дерево\" data-toc-modified-id=\"Решающее-дерево-5.2\"><span class=\"toc-item-num\">5.2&nbsp;&nbsp;</span>Решающее дерево</a></span><ul class=\"toc-item\"><li><span><a href=\"#Подбор-параметров-без-устранения-дисбаланса\" data-toc-modified-id=\"Подбор-параметров-без-устранения-дисбаланса-5.2.1\"><span class=\"toc-item-num\">5.2.1&nbsp;&nbsp;</span>Подбор параметров без устранения дисбаланса</a></span></li><li><span><a href=\"#Подбор-параметров-с-устранением-дисбаланса\" data-toc-modified-id=\"Подбор-параметров-с-устранением-дисбаланса-5.2.2\"><span class=\"toc-item-num\">5.2.2&nbsp;&nbsp;</span>Подбор параметров с устранением дисбаланса</a></span></li></ul></li><li><span><a href=\"#Случайный-лес\" data-toc-modified-id=\"Случайный-лес-5.3\"><span class=\"toc-item-num\">5.3&nbsp;&nbsp;</span>Случайный лес</a></span><ul class=\"toc-item\"><li><span><a href=\"#Подбор-параметров-без-устранения-дисбаланса\" data-toc-modified-id=\"Подбор-параметров-без-устранения-дисбаланса-5.3.1\"><span class=\"toc-item-num\">5.3.1&nbsp;&nbsp;</span>Подбор параметров без устранения дисбаланса</a></span></li><li><span><a href=\"#Подбор-параметров-с-устранением-дисбаланса\" data-toc-modified-id=\"Подбор-параметров-с-устранением-дисбаланса-5.3.2\"><span class=\"toc-item-num\">5.3.2&nbsp;&nbsp;</span>Подбор параметров с устранением дисбаланса</a></span></li></ul></li></ul></li><li><span><a href=\"#Шаг-6.-Результаты-внедрения-модели\" data-toc-modified-id=\"Шаг-6.-Результаты-внедрения-модели-6\"><span class=\"toc-item-num\">6&nbsp;&nbsp;</span>Шаг 6. Результаты внедрения модели</a></span></li></ul></div>"
   ]
  },
  {
   "cell_type": "markdown",
   "metadata": {},
   "source": [
    "### Шаг 1. Загрузка и подготовка данных"
   ]
  },
  {
   "cell_type": "code",
   "execution_count": 1,
   "metadata": {},
   "outputs": [],
   "source": [
    "import pandas as pd\n",
    "import numpy as np\n",
    "from numpy.random import RandomState\n",
    "\n",
    "from sklearn.preprocessing import StandardScaler\n",
    "from sklearn.dummy import DummyClassifier\n",
    "from sklearn.tree import DecisionTreeClassifier, export_text\n",
    "from sklearn.ensemble import RandomForestClassifier\n",
    "from sklearn.linear_model import LogisticRegression\n",
    "from sklearn.model_selection import train_test_split, GridSearchCV, RandomizedSearchCV, cross_val_score\n",
    "from sklearn.metrics import accuracy_score, precision_score, recall_score, f1_score, make_scorer, confusion_matrix\n",
    "from sklearn.utils import shuffle\n",
    "\n",
    "from imblearn.pipeline import Pipeline, make_pipeline\n",
    "from imblearn.over_sampling import SMOTE\n",
    "\n",
    "import datetime\n",
    "from datetime import timedelta\n",
    "\n",
    "from dateutil.relativedelta import relativedelta, FR, TU\n",
    "from dateutil.easter import easter\n",
    "from dateutil.parser import parse\n",
    "from dateutil import rrule\n",
    "\n",
    "\n",
    "import sweetviz as sv # для EDA\n",
    "\n",
    "\n",
    "import warnings\n",
    "from sklearn.exceptions import UndefinedMetricWarning\n",
    "warnings.filterwarnings(\"ignore\", category=FutureWarning)\n",
    "pd.options.mode.chained_assignment = None\n",
    "warnings.filterwarnings(\"ignore\", category=UndefinedMetricWarning)\n",
    "warnings.filterwarnings(\"ignore\", category=DeprecationWarning)\n",
    "\n",
    "import seaborn as sns\n",
    "import matplotlib.pyplot as plt\n",
    "%matplotlib inline"
   ]
  },
  {
   "cell_type": "code",
   "execution_count": 2,
   "metadata": {},
   "outputs": [],
   "source": [
    "data_train = pd.read_csv('/ML/datasets/hotel_train.csv')\n",
    "data_test = pd.read_csv('/ML/datasets/hotel_test.csv')\n",
    "df = pd.concat([data_train, data_test], ignore_index=False)"
   ]
  },
  {
   "cell_type": "code",
   "execution_count": 3,
   "metadata": {},
   "outputs": [
    {
     "name": "stdout",
     "output_type": "stream",
     "text": [
      "(65229, 25) (32412, 25) (97641, 25)\n"
     ]
    }
   ],
   "source": [
    "print(data_train.shape, data_test.shape, df.shape)"
   ]
  },
  {
   "cell_type": "code",
   "execution_count": 4,
   "metadata": {},
   "outputs": [
    {
     "data": {
      "text/html": [
       "<div>\n",
       "<style scoped>\n",
       "    .dataframe tbody tr th:only-of-type {\n",
       "        vertical-align: middle;\n",
       "    }\n",
       "\n",
       "    .dataframe tbody tr th {\n",
       "        vertical-align: top;\n",
       "    }\n",
       "\n",
       "    .dataframe thead th {\n",
       "        text-align: right;\n",
       "    }\n",
       "</style>\n",
       "<table border=\"1\" class=\"dataframe\">\n",
       "  <thead>\n",
       "    <tr style=\"text-align: right;\">\n",
       "      <th></th>\n",
       "      <th>0</th>\n",
       "      <th>1</th>\n",
       "      <th>2</th>\n",
       "      <th>3</th>\n",
       "      <th>4</th>\n",
       "      <th>5</th>\n",
       "      <th>6</th>\n",
       "      <th>7</th>\n",
       "      <th>8</th>\n",
       "      <th>9</th>\n",
       "    </tr>\n",
       "  </thead>\n",
       "  <tbody>\n",
       "    <tr>\n",
       "      <th>id</th>\n",
       "      <td>0</td>\n",
       "      <td>1</td>\n",
       "      <td>2</td>\n",
       "      <td>3</td>\n",
       "      <td>4</td>\n",
       "      <td>5</td>\n",
       "      <td>6</td>\n",
       "      <td>7</td>\n",
       "      <td>8</td>\n",
       "      <td>9</td>\n",
       "    </tr>\n",
       "    <tr>\n",
       "      <th>is_canceled</th>\n",
       "      <td>0</td>\n",
       "      <td>0</td>\n",
       "      <td>0</td>\n",
       "      <td>0</td>\n",
       "      <td>1</td>\n",
       "      <td>1</td>\n",
       "      <td>1</td>\n",
       "      <td>0</td>\n",
       "      <td>0</td>\n",
       "      <td>0</td>\n",
       "    </tr>\n",
       "    <tr>\n",
       "      <th>lead_time</th>\n",
       "      <td>7.0</td>\n",
       "      <td>14.0</td>\n",
       "      <td>0.0</td>\n",
       "      <td>9.0</td>\n",
       "      <td>85.0</td>\n",
       "      <td>75.0</td>\n",
       "      <td>23.0</td>\n",
       "      <td>18.0</td>\n",
       "      <td>68.0</td>\n",
       "      <td>37.0</td>\n",
       "    </tr>\n",
       "    <tr>\n",
       "      <th>arrival_date_year</th>\n",
       "      <td>2015</td>\n",
       "      <td>2015</td>\n",
       "      <td>2015</td>\n",
       "      <td>2015</td>\n",
       "      <td>2015</td>\n",
       "      <td>2015</td>\n",
       "      <td>2015</td>\n",
       "      <td>2015</td>\n",
       "      <td>2015</td>\n",
       "      <td>2015</td>\n",
       "    </tr>\n",
       "    <tr>\n",
       "      <th>arrival_date_month</th>\n",
       "      <td>July</td>\n",
       "      <td>July</td>\n",
       "      <td>July</td>\n",
       "      <td>July</td>\n",
       "      <td>July</td>\n",
       "      <td>July</td>\n",
       "      <td>July</td>\n",
       "      <td>July</td>\n",
       "      <td>July</td>\n",
       "      <td>July</td>\n",
       "    </tr>\n",
       "    <tr>\n",
       "      <th>arrival_date_week_number</th>\n",
       "      <td>27</td>\n",
       "      <td>27</td>\n",
       "      <td>27</td>\n",
       "      <td>27</td>\n",
       "      <td>27</td>\n",
       "      <td>27</td>\n",
       "      <td>27</td>\n",
       "      <td>27</td>\n",
       "      <td>27</td>\n",
       "      <td>27</td>\n",
       "    </tr>\n",
       "    <tr>\n",
       "      <th>arrival_date_day_of_month</th>\n",
       "      <td>1</td>\n",
       "      <td>1</td>\n",
       "      <td>1</td>\n",
       "      <td>1</td>\n",
       "      <td>1</td>\n",
       "      <td>1</td>\n",
       "      <td>1</td>\n",
       "      <td>1</td>\n",
       "      <td>1</td>\n",
       "      <td>1</td>\n",
       "    </tr>\n",
       "    <tr>\n",
       "      <th>stays_in_weekend_nights</th>\n",
       "      <td>0</td>\n",
       "      <td>0</td>\n",
       "      <td>0</td>\n",
       "      <td>0</td>\n",
       "      <td>0</td>\n",
       "      <td>0</td>\n",
       "      <td>0</td>\n",
       "      <td>0</td>\n",
       "      <td>0</td>\n",
       "      <td>0</td>\n",
       "    </tr>\n",
       "    <tr>\n",
       "      <th>stays_in_week_nights</th>\n",
       "      <td>1</td>\n",
       "      <td>2</td>\n",
       "      <td>2</td>\n",
       "      <td>2</td>\n",
       "      <td>3</td>\n",
       "      <td>3</td>\n",
       "      <td>4</td>\n",
       "      <td>4</td>\n",
       "      <td>4</td>\n",
       "      <td>4</td>\n",
       "    </tr>\n",
       "    <tr>\n",
       "      <th>adults</th>\n",
       "      <td>1.0</td>\n",
       "      <td>2.0</td>\n",
       "      <td>2.0</td>\n",
       "      <td>2.0</td>\n",
       "      <td>2.0</td>\n",
       "      <td>2.0</td>\n",
       "      <td>2.0</td>\n",
       "      <td>2.0</td>\n",
       "      <td>2.0</td>\n",
       "      <td>2.0</td>\n",
       "    </tr>\n",
       "    <tr>\n",
       "      <th>children</th>\n",
       "      <td>0.0</td>\n",
       "      <td>0.0</td>\n",
       "      <td>0.0</td>\n",
       "      <td>0.0</td>\n",
       "      <td>0.0</td>\n",
       "      <td>0.0</td>\n",
       "      <td>0.0</td>\n",
       "      <td>1.0</td>\n",
       "      <td>0.0</td>\n",
       "      <td>0.0</td>\n",
       "    </tr>\n",
       "    <tr>\n",
       "      <th>babies</th>\n",
       "      <td>0.0</td>\n",
       "      <td>0.0</td>\n",
       "      <td>0.0</td>\n",
       "      <td>0.0</td>\n",
       "      <td>0.0</td>\n",
       "      <td>0.0</td>\n",
       "      <td>0.0</td>\n",
       "      <td>0.0</td>\n",
       "      <td>0.0</td>\n",
       "      <td>0.0</td>\n",
       "    </tr>\n",
       "    <tr>\n",
       "      <th>meal</th>\n",
       "      <td>BB</td>\n",
       "      <td>BB</td>\n",
       "      <td>BB</td>\n",
       "      <td>FB</td>\n",
       "      <td>BB</td>\n",
       "      <td>HB</td>\n",
       "      <td>BB</td>\n",
       "      <td>HB</td>\n",
       "      <td>BB</td>\n",
       "      <td>BB</td>\n",
       "    </tr>\n",
       "    <tr>\n",
       "      <th>country</th>\n",
       "      <td>GBR</td>\n",
       "      <td>GBR</td>\n",
       "      <td>PRT</td>\n",
       "      <td>PRT</td>\n",
       "      <td>PRT</td>\n",
       "      <td>PRT</td>\n",
       "      <td>PRT</td>\n",
       "      <td>ESP</td>\n",
       "      <td>IRL</td>\n",
       "      <td>PRT</td>\n",
       "    </tr>\n",
       "    <tr>\n",
       "      <th>distribution_channel</th>\n",
       "      <td>Direct</td>\n",
       "      <td>TA/TO</td>\n",
       "      <td>Direct</td>\n",
       "      <td>Direct</td>\n",
       "      <td>TA/TO</td>\n",
       "      <td>TA/TO</td>\n",
       "      <td>TA/TO</td>\n",
       "      <td>TA/TO</td>\n",
       "      <td>TA/TO</td>\n",
       "      <td>TA/TO</td>\n",
       "    </tr>\n",
       "    <tr>\n",
       "      <th>is_repeated_guest</th>\n",
       "      <td>0</td>\n",
       "      <td>0</td>\n",
       "      <td>0</td>\n",
       "      <td>0</td>\n",
       "      <td>0</td>\n",
       "      <td>0</td>\n",
       "      <td>0</td>\n",
       "      <td>0</td>\n",
       "      <td>0</td>\n",
       "      <td>0</td>\n",
       "    </tr>\n",
       "    <tr>\n",
       "      <th>previous_cancellations</th>\n",
       "      <td>0</td>\n",
       "      <td>0</td>\n",
       "      <td>0</td>\n",
       "      <td>0</td>\n",
       "      <td>0</td>\n",
       "      <td>0</td>\n",
       "      <td>0</td>\n",
       "      <td>0</td>\n",
       "      <td>0</td>\n",
       "      <td>0</td>\n",
       "    </tr>\n",
       "    <tr>\n",
       "      <th>previous_bookings_not_canceled</th>\n",
       "      <td>0</td>\n",
       "      <td>0</td>\n",
       "      <td>0</td>\n",
       "      <td>0</td>\n",
       "      <td>0</td>\n",
       "      <td>0</td>\n",
       "      <td>0</td>\n",
       "      <td>0</td>\n",
       "      <td>0</td>\n",
       "      <td>0</td>\n",
       "    </tr>\n",
       "    <tr>\n",
       "      <th>reserved_room_type</th>\n",
       "      <td>A</td>\n",
       "      <td>A</td>\n",
       "      <td>C</td>\n",
       "      <td>C</td>\n",
       "      <td>A</td>\n",
       "      <td>D</td>\n",
       "      <td>E</td>\n",
       "      <td>G</td>\n",
       "      <td>D</td>\n",
       "      <td>E</td>\n",
       "    </tr>\n",
       "    <tr>\n",
       "      <th>booking_changes</th>\n",
       "      <td>0</td>\n",
       "      <td>0</td>\n",
       "      <td>0</td>\n",
       "      <td>0</td>\n",
       "      <td>0</td>\n",
       "      <td>0</td>\n",
       "      <td>0</td>\n",
       "      <td>1</td>\n",
       "      <td>0</td>\n",
       "      <td>0</td>\n",
       "    </tr>\n",
       "    <tr>\n",
       "      <th>days_in_waiting_list</th>\n",
       "      <td>0</td>\n",
       "      <td>0</td>\n",
       "      <td>0</td>\n",
       "      <td>0</td>\n",
       "      <td>0</td>\n",
       "      <td>0</td>\n",
       "      <td>0</td>\n",
       "      <td>0</td>\n",
       "      <td>0</td>\n",
       "      <td>0</td>\n",
       "    </tr>\n",
       "    <tr>\n",
       "      <th>customer_type</th>\n",
       "      <td>Transient</td>\n",
       "      <td>Transient</td>\n",
       "      <td>Transient</td>\n",
       "      <td>Transient</td>\n",
       "      <td>Transient</td>\n",
       "      <td>Transient</td>\n",
       "      <td>Transient</td>\n",
       "      <td>Transient</td>\n",
       "      <td>Transient</td>\n",
       "      <td>Contract</td>\n",
       "    </tr>\n",
       "    <tr>\n",
       "      <th>required_car_parking_spaces</th>\n",
       "      <td>0</td>\n",
       "      <td>0</td>\n",
       "      <td>0</td>\n",
       "      <td>0</td>\n",
       "      <td>0</td>\n",
       "      <td>0</td>\n",
       "      <td>0</td>\n",
       "      <td>0</td>\n",
       "      <td>0</td>\n",
       "      <td>0</td>\n",
       "    </tr>\n",
       "    <tr>\n",
       "      <th>total_of_special_requests</th>\n",
       "      <td>0</td>\n",
       "      <td>1</td>\n",
       "      <td>0</td>\n",
       "      <td>1</td>\n",
       "      <td>1</td>\n",
       "      <td>0</td>\n",
       "      <td>0</td>\n",
       "      <td>1</td>\n",
       "      <td>3</td>\n",
       "      <td>0</td>\n",
       "    </tr>\n",
       "    <tr>\n",
       "      <th>total_nights</th>\n",
       "      <td>1</td>\n",
       "      <td>2</td>\n",
       "      <td>2</td>\n",
       "      <td>2</td>\n",
       "      <td>3</td>\n",
       "      <td>3</td>\n",
       "      <td>4</td>\n",
       "      <td>4</td>\n",
       "      <td>4</td>\n",
       "      <td>4</td>\n",
       "    </tr>\n",
       "  </tbody>\n",
       "</table>\n",
       "</div>"
      ],
      "text/plain": [
       "                                               0                 1  \\\n",
       "id                                             0                 1   \n",
       "is_canceled                                    0                 0   \n",
       "lead_time                                    7.0              14.0   \n",
       "arrival_date_year                           2015              2015   \n",
       "arrival_date_month                          July              July   \n",
       "arrival_date_week_number                      27                27   \n",
       "arrival_date_day_of_month                      1                 1   \n",
       "stays_in_weekend_nights                        0                 0   \n",
       "stays_in_week_nights                           1                 2   \n",
       "adults                                       1.0               2.0   \n",
       "children                                     0.0               0.0   \n",
       "babies                                       0.0               0.0   \n",
       "meal                                   BB                BB          \n",
       "country                                      GBR               GBR   \n",
       "distribution_channel                      Direct             TA/TO   \n",
       "is_repeated_guest                              0                 0   \n",
       "previous_cancellations                         0                 0   \n",
       "previous_bookings_not_canceled                 0                 0   \n",
       "reserved_room_type              A                 A                  \n",
       "booking_changes                                0                 0   \n",
       "days_in_waiting_list                           0                 0   \n",
       "customer_type                          Transient         Transient   \n",
       "required_car_parking_spaces                    0                 0   \n",
       "total_of_special_requests                      0                 1   \n",
       "total_nights                                   1                 2   \n",
       "\n",
       "                                               2                 3  \\\n",
       "id                                             2                 3   \n",
       "is_canceled                                    0                 0   \n",
       "lead_time                                    0.0               9.0   \n",
       "arrival_date_year                           2015              2015   \n",
       "arrival_date_month                          July              July   \n",
       "arrival_date_week_number                      27                27   \n",
       "arrival_date_day_of_month                      1                 1   \n",
       "stays_in_weekend_nights                        0                 0   \n",
       "stays_in_week_nights                           2                 2   \n",
       "adults                                       2.0               2.0   \n",
       "children                                     0.0               0.0   \n",
       "babies                                       0.0               0.0   \n",
       "meal                                   BB                FB          \n",
       "country                                      PRT               PRT   \n",
       "distribution_channel                      Direct            Direct   \n",
       "is_repeated_guest                              0                 0   \n",
       "previous_cancellations                         0                 0   \n",
       "previous_bookings_not_canceled                 0                 0   \n",
       "reserved_room_type              C                 C                  \n",
       "booking_changes                                0                 0   \n",
       "days_in_waiting_list                           0                 0   \n",
       "customer_type                          Transient         Transient   \n",
       "required_car_parking_spaces                    0                 0   \n",
       "total_of_special_requests                      0                 1   \n",
       "total_nights                                   2                 2   \n",
       "\n",
       "                                               4                 5  \\\n",
       "id                                             4                 5   \n",
       "is_canceled                                    1                 1   \n",
       "lead_time                                   85.0              75.0   \n",
       "arrival_date_year                           2015              2015   \n",
       "arrival_date_month                          July              July   \n",
       "arrival_date_week_number                      27                27   \n",
       "arrival_date_day_of_month                      1                 1   \n",
       "stays_in_weekend_nights                        0                 0   \n",
       "stays_in_week_nights                           3                 3   \n",
       "adults                                       2.0               2.0   \n",
       "children                                     0.0               0.0   \n",
       "babies                                       0.0               0.0   \n",
       "meal                                   BB                HB          \n",
       "country                                      PRT               PRT   \n",
       "distribution_channel                       TA/TO             TA/TO   \n",
       "is_repeated_guest                              0                 0   \n",
       "previous_cancellations                         0                 0   \n",
       "previous_bookings_not_canceled                 0                 0   \n",
       "reserved_room_type              A                 D                  \n",
       "booking_changes                                0                 0   \n",
       "days_in_waiting_list                           0                 0   \n",
       "customer_type                          Transient         Transient   \n",
       "required_car_parking_spaces                    0                 0   \n",
       "total_of_special_requests                      1                 0   \n",
       "total_nights                                   3                 3   \n",
       "\n",
       "                                               6                 7  \\\n",
       "id                                             6                 7   \n",
       "is_canceled                                    1                 0   \n",
       "lead_time                                   23.0              18.0   \n",
       "arrival_date_year                           2015              2015   \n",
       "arrival_date_month                          July              July   \n",
       "arrival_date_week_number                      27                27   \n",
       "arrival_date_day_of_month                      1                 1   \n",
       "stays_in_weekend_nights                        0                 0   \n",
       "stays_in_week_nights                           4                 4   \n",
       "adults                                       2.0               2.0   \n",
       "children                                     0.0               1.0   \n",
       "babies                                       0.0               0.0   \n",
       "meal                                   BB                HB          \n",
       "country                                      PRT               ESP   \n",
       "distribution_channel                       TA/TO             TA/TO   \n",
       "is_repeated_guest                              0                 0   \n",
       "previous_cancellations                         0                 0   \n",
       "previous_bookings_not_canceled                 0                 0   \n",
       "reserved_room_type              E                 G                  \n",
       "booking_changes                                0                 1   \n",
       "days_in_waiting_list                           0                 0   \n",
       "customer_type                          Transient         Transient   \n",
       "required_car_parking_spaces                    0                 0   \n",
       "total_of_special_requests                      0                 1   \n",
       "total_nights                                   4                 4   \n",
       "\n",
       "                                               8                 9  \n",
       "id                                             8                 9  \n",
       "is_canceled                                    0                 0  \n",
       "lead_time                                   68.0              37.0  \n",
       "arrival_date_year                           2015              2015  \n",
       "arrival_date_month                          July              July  \n",
       "arrival_date_week_number                      27                27  \n",
       "arrival_date_day_of_month                      1                 1  \n",
       "stays_in_weekend_nights                        0                 0  \n",
       "stays_in_week_nights                           4                 4  \n",
       "adults                                       2.0               2.0  \n",
       "children                                     0.0               0.0  \n",
       "babies                                       0.0               0.0  \n",
       "meal                                   BB                BB         \n",
       "country                                      IRL               PRT  \n",
       "distribution_channel                       TA/TO             TA/TO  \n",
       "is_repeated_guest                              0                 0  \n",
       "previous_cancellations                         0                 0  \n",
       "previous_bookings_not_canceled                 0                 0  \n",
       "reserved_room_type              D                 E                 \n",
       "booking_changes                                0                 0  \n",
       "days_in_waiting_list                           0                 0  \n",
       "customer_type                          Transient          Contract  \n",
       "required_car_parking_spaces                    0                 0  \n",
       "total_of_special_requests                      3                 0  \n",
       "total_nights                                   4                 4  "
      ]
     },
     "execution_count": 4,
     "metadata": {},
     "output_type": "execute_result"
    }
   ],
   "source": [
    "df.head(10).T"
   ]
  },
  {
   "cell_type": "code",
   "execution_count": 5,
   "metadata": {},
   "outputs": [
    {
     "name": "stdout",
     "output_type": "stream",
     "text": [
      "<class 'pandas.core.frame.DataFrame'>\n",
      "Int64Index: 97641 entries, 0 to 32411\n",
      "Data columns (total 25 columns):\n",
      " #   Column                          Non-Null Count  Dtype  \n",
      "---  ------                          --------------  -----  \n",
      " 0   id                              97641 non-null  int64  \n",
      " 1   is_canceled                     97641 non-null  int64  \n",
      " 2   lead_time                       97641 non-null  float64\n",
      " 3   arrival_date_year               97641 non-null  int64  \n",
      " 4   arrival_date_month              97641 non-null  object \n",
      " 5   arrival_date_week_number        97641 non-null  int64  \n",
      " 6   arrival_date_day_of_month       97641 non-null  int64  \n",
      " 7   stays_in_weekend_nights         97641 non-null  int64  \n",
      " 8   stays_in_week_nights            97641 non-null  int64  \n",
      " 9   adults                          97641 non-null  float64\n",
      " 10  children                        97641 non-null  float64\n",
      " 11  babies                          97641 non-null  float64\n",
      " 12  meal                            97641 non-null  object \n",
      " 13  country                         97641 non-null  object \n",
      " 14  distribution_channel            97641 non-null  object \n",
      " 15  is_repeated_guest               97641 non-null  int64  \n",
      " 16  previous_cancellations          97641 non-null  int64  \n",
      " 17  previous_bookings_not_canceled  97641 non-null  int64  \n",
      " 18  reserved_room_type              97641 non-null  object \n",
      " 19  booking_changes                 97641 non-null  int64  \n",
      " 20  days_in_waiting_list            97641 non-null  int64  \n",
      " 21  customer_type                   97641 non-null  object \n",
      " 22  required_car_parking_spaces     97641 non-null  int64  \n",
      " 23  total_of_special_requests       97641 non-null  int64  \n",
      " 24  total_nights                    97641 non-null  int64  \n",
      "dtypes: float64(4), int64(15), object(6)\n",
      "memory usage: 19.4+ MB\n"
     ]
    }
   ],
   "source": [
    "df.info()"
   ]
  },
  {
   "cell_type": "markdown",
   "metadata": {},
   "source": [
    "Посмотрим за какие периоды есть данные."
   ]
  },
  {
   "cell_type": "code",
   "execution_count": 6,
   "metadata": {},
   "outputs": [
    {
     "data": {
      "text/plain": [
       "array([2015, 2016, 2017], dtype=int64)"
      ]
     },
     "execution_count": 6,
     "metadata": {},
     "output_type": "execute_result"
    }
   ],
   "source": [
    "df['arrival_date_year'].unique()"
   ]
  },
  {
   "cell_type": "code",
   "execution_count": 7,
   "metadata": {},
   "outputs": [
    {
     "name": "stdout",
     "output_type": "stream",
     "text": [
      "['July' 'August' 'September' 'October' 'November' 'December']\n",
      "['January' 'February' 'March' 'April' 'May' 'June' 'July' 'August'\n",
      " 'September' 'October' 'November' 'December']\n",
      "['January' 'February' 'March' 'April' 'May' 'June' 'July' 'August']\n"
     ]
    }
   ],
   "source": [
    "print(df.loc[df['arrival_date_year'] == 2015]['arrival_date_month'].unique())\n",
    "print(df.loc[df['arrival_date_year'] == 2016]['arrival_date_month'].unique())\n",
    "print(df.loc[df['arrival_date_year'] == 2017]['arrival_date_month'].unique())"
   ]
  },
  {
   "cell_type": "markdown",
   "metadata": {},
   "source": [
    "Заменим названия месяцев на числовые."
   ]
  },
  {
   "cell_type": "code",
   "execution_count": 8,
   "metadata": {},
   "outputs": [],
   "source": [
    "months =  {\"January\": 1, \"February\": 2, \"March\": 3, \"April\": 4, \"May\": 5, \"June\": 6, \\\n",
    "               \"July\": 7, \"August\": 8, \"September\": 9, \"October\": 10, \"November\": 11, \"December\": 12}\n",
    "df= df.replace(months)"
   ]
  },
  {
   "cell_type": "markdown",
   "metadata": {},
   "source": [
    "Уберем пробелы из названий категорий."
   ]
  },
  {
   "cell_type": "code",
   "execution_count": 9,
   "metadata": {},
   "outputs": [],
   "source": [
    "df['reserved_room_type'] = df['reserved_room_type'].str.strip()\n",
    "df['meal'] = df['meal'].str.strip()"
   ]
  },
  {
   "cell_type": "markdown",
   "metadata": {},
   "source": [
    "Прибыль будем считать на основе файла `hotel_test.csv`. Сформируем отдельный файл с нужными нам данными."
   ]
  },
  {
   "cell_type": "code",
   "execution_count": 10,
   "metadata": {},
   "outputs": [
    {
     "data": {
      "text/plain": [
       "(32412, 6)"
      ]
     },
     "execution_count": 10,
     "metadata": {},
     "output_type": "execute_result"
    }
   ],
   "source": [
    "data = df[['is_canceled', 'arrival_date_year', 'arrival_date_month', 'arrival_date_day_of_month', \\\n",
    "                 'reserved_room_type', 'total_nights']][65229:]\n",
    "data.shape"
   ]
  },
  {
   "cell_type": "markdown",
   "metadata": {},
   "source": [
    "Сформируем отдельные файлы для обучения и проверки модели, удалив ряд ненужных и коррелирующих друг с другом признаков.  Преобразуем категориальные признаки методом One-Hot Encoding.\n",
    "\n",
    "\n",
    "- `'id'` - корреляция с целевым признаком есть, но это скорее утечка данных. Зависимости от этого параметра быть не должно.\n",
    "- признаки `'arrival_date_year'`, `'arrival_date_month'`, `'arrival_date_day_of_month'`, `'arrival_date_week_number'` скоррелированы между собой, поэтому оставляем только один - `'arrival_date_month'`, он покажет сезонность если таковая имеется.\n",
    "- признаки `'stays_in_week_nights'` и  `'stays_in_weekend_nights'` скоррелированы между собой, поэтому оставляем только один из них.\n",
    "- в столбце `'country'` признаки сильно несбалансированы, 44% клиентов из страны 'PRT' что очень сильно повлияет на построение модели ML.   "
   ]
  },
  {
   "cell_type": "code",
   "execution_count": 11,
   "metadata": {},
   "outputs": [],
   "source": [
    "df = df.drop(['id', 'arrival_date_year', 'arrival_date_day_of_month', 'arrival_date_week_number', 'stays_in_week_nights', 'country'], axis=1)"
   ]
  },
  {
   "cell_type": "code",
   "execution_count": 12,
   "metadata": {},
   "outputs": [],
   "source": [
    "df = pd.get_dummies(df, drop_first=True)"
   ]
  },
  {
   "cell_type": "markdown",
   "metadata": {},
   "source": [
    "**Вывод**"
   ]
  },
  {
   "cell_type": "markdown",
   "metadata": {},
   "source": [
    "Прибыль: принято решение рассчитывать прибыль на основе тренировочного датасета, включающего в себя данные за 8 месяцев 2017 года.\n",
    "\n",
    "Обучение модели: принято решение не использовать даные из столбцов: `'id'`, `'arrival_date_year'`, `'arrival_date_day_of_month'`, `'arrival_date_week_number'`, `'stays_in_week_nights'`, `'country'`."
   ]
  },
  {
   "cell_type": "markdown",
   "metadata": {},
   "source": [
    "### Шаг 2. Исследовательский анализ данных"
   ]
  },
  {
   "cell_type": "markdown",
   "metadata": {},
   "source": [
    "Сформируем отчет для исследовательского анализа данных. Тестовые данные трогать не будем."
   ]
  },
  {
   "cell_type": "code",
   "execution_count": 13,
   "metadata": {
    "scrolled": true
   },
   "outputs": [
    {
     "data": {
      "application/vnd.jupyter.widget-view+json": {
       "model_id": "03973ce4d51c47a180ee95ff63f42c47",
       "version_major": 2,
       "version_minor": 0
      },
      "text/plain": [
       "                                             |          | [  0%]   00:00 -> (? left)"
      ]
     },
     "metadata": {},
     "output_type": "display_data"
    },
    {
     "name": "stdout",
     "output_type": "stream",
     "text": [
      "Report SWEETVIZ_REPORT.html was generated! NOTEBOOK/COLAB USERS: the web browser MAY not pop up, regardless, the report IS saved in your notebook/colab files.\n"
     ]
    }
   ],
   "source": [
    "report = sv.analyze(data_train)\n",
    "#report.show_notebook()\n",
    "report.show_html()"
   ]
  },
  {
   "cell_type": "markdown",
   "metadata": {},
   "source": [
    "Наблюдается дисбаланс классов. Пропуски и полные дубликаты не выявлены. Проверим наличие дубликатов без данных столбца `'id'`."
   ]
  },
  {
   "cell_type": "code",
   "execution_count": 14,
   "metadata": {},
   "outputs": [
    {
     "data": {
      "text/plain": [
       "21377"
      ]
     },
     "execution_count": 14,
     "metadata": {},
     "output_type": "execute_result"
    }
   ],
   "source": [
    "data_train.drop(['id'], axis=1).duplicated().sum() "
   ]
  },
  {
   "cell_type": "markdown",
   "metadata": {},
   "source": [
    "Дубликаты есть, но мы не можем гарантировать что это дубликаты а не совпадения. Оставим данные без изменения."
   ]
  },
  {
   "cell_type": "markdown",
   "metadata": {},
   "source": [
    "Посмотрим на корреляции:"
   ]
  },
  {
   "cell_type": "code",
   "execution_count": 15,
   "metadata": {},
   "outputs": [
    {
     "data": {
      "text/plain": [
       "is_canceled                       1.000000\n",
       "lead_time                         0.328142\n",
       "previous_cancellations            0.153023\n",
       "days_in_waiting_list              0.075848\n",
       "adults                            0.045153\n",
       "arrival_date_week_number          0.012869\n",
       "stays_in_week_nights              0.010650\n",
       "total_nights                      0.001542\n",
       "arrival_date_day_of_month        -0.001903\n",
       "stays_in_weekend_nights          -0.013767\n",
       "children                         -0.017746\n",
       "babies                           -0.029589\n",
       "arrival_date_year                -0.030835\n",
       "is_repeated_guest                -0.040242\n",
       "previous_bookings_not_canceled   -0.045557\n",
       "booking_changes                  -0.142935\n",
       "required_car_parking_spaces      -0.186486\n",
       "id                               -0.241910\n",
       "total_of_special_requests        -0.257061\n",
       "dtype: float64"
      ]
     },
     "execution_count": 15,
     "metadata": {},
     "output_type": "execute_result"
    }
   ],
   "source": [
    "data_train.corrwith(data_train['is_canceled']).sort_values(ascending=False)"
   ]
  },
  {
   "cell_type": "markdown",
   "metadata": {},
   "source": [
    "Интересно, что присутствует отрицательная корреляция с данными `'id'`, возможно это как-то связано с правилами присвоения уникального номера."
   ]
  },
  {
   "cell_type": "markdown",
   "metadata": {},
   "source": [
    "**Вывод**"
   ]
  },
  {
   "cell_type": "markdown",
   "metadata": {},
   "source": [
    "Пропуски и дубликаты не выявлены. Данные представлены за период июль 2015 - август 2017 года. Наблюдается дисбаланс классов: 63% - заказ оплачен, 37% - заказ отменен."
   ]
  },
  {
   "cell_type": "markdown",
   "metadata": {},
   "source": [
    "### Шаг 3. Вычисление бизнес-метрики"
   ]
  },
  {
   "cell_type": "markdown",
   "metadata": {},
   "source": [
    "Создадим столбцы с датой прибытия и отъезда."
   ]
  },
  {
   "cell_type": "code",
   "execution_count": 16,
   "metadata": {},
   "outputs": [],
   "source": [
    "data['arrival_date'] = data['arrival_date_year'].astype(str) + data['arrival_date_month'].astype(str).str.zfill(2) \\\n",
    "                       + data['arrival_date_day_of_month'].astype(str).str.zfill(2)\n",
    "data['arrival_date'] = data['arrival_date'].apply(lambda row: (pd.to_datetime(row, format='%Y%m%d')).date())\n",
    "data['leave_date'] = data.apply(lambda row: row[\"arrival_date\"] + timedelta(row[\"total_nights\"] - 1), axis=1)"
   ]
  },
  {
   "cell_type": "markdown",
   "metadata": {},
   "source": [
    "Добавим данные о сезоне (согласно принятому в России понятию)."
   ]
  },
  {
   "cell_type": "code",
   "execution_count": 17,
   "metadata": {},
   "outputs": [],
   "source": [
    "def season(row):\n",
    "     \n",
    "    \"\"\"\n",
    "    1 - spring\n",
    "    2 - summer\n",
    "    3 - autumn\n",
    "    4 - winter.\n",
    "    \"\"\"\n",
    "    if row in [3, 4, 5]:\n",
    "        return 1\n",
    "    elif row in [6, 7, 8]:\n",
    "        return 2\n",
    "    elif row in [9, 10, 11]:\n",
    "        return 3\n",
    "    elif row in [12, 1, 2]:\n",
    "        return 4\n",
    "    else:\n",
    "        return None\n",
    "func = np.vectorize(season)  \n",
    "\n",
    "data['season'] = func(data[\"arrival_date_month\"]) "
   ]
  },
  {
   "cell_type": "code",
   "execution_count": 18,
   "metadata": {},
   "outputs": [
    {
     "data": {
      "text/html": [
       "<div>\n",
       "<style scoped>\n",
       "    .dataframe tbody tr th:only-of-type {\n",
       "        vertical-align: middle;\n",
       "    }\n",
       "\n",
       "    .dataframe tbody tr th {\n",
       "        vertical-align: top;\n",
       "    }\n",
       "\n",
       "    .dataframe thead th {\n",
       "        text-align: right;\n",
       "    }\n",
       "</style>\n",
       "<table border=\"1\" class=\"dataframe\">\n",
       "  <thead>\n",
       "    <tr style=\"text-align: right;\">\n",
       "      <th></th>\n",
       "      <th>is_canceled</th>\n",
       "      <th>arrival_date_year</th>\n",
       "      <th>arrival_date_month</th>\n",
       "      <th>arrival_date_day_of_month</th>\n",
       "      <th>reserved_room_type</th>\n",
       "      <th>total_nights</th>\n",
       "      <th>arrival_date</th>\n",
       "      <th>leave_date</th>\n",
       "      <th>season</th>\n",
       "    </tr>\n",
       "  </thead>\n",
       "  <tbody>\n",
       "    <tr>\n",
       "      <th>16004</th>\n",
       "      <td>1</td>\n",
       "      <td>2017</td>\n",
       "      <td>6</td>\n",
       "      <td>29</td>\n",
       "      <td>A</td>\n",
       "      <td>3</td>\n",
       "      <td>2017-06-29</td>\n",
       "      <td>2017-07-01</td>\n",
       "      <td>2</td>\n",
       "    </tr>\n",
       "    <tr>\n",
       "      <th>22181</th>\n",
       "      <td>0</td>\n",
       "      <td>2017</td>\n",
       "      <td>3</td>\n",
       "      <td>17</td>\n",
       "      <td>D</td>\n",
       "      <td>2</td>\n",
       "      <td>2017-03-17</td>\n",
       "      <td>2017-03-18</td>\n",
       "      <td>1</td>\n",
       "    </tr>\n",
       "    <tr>\n",
       "      <th>4230</th>\n",
       "      <td>0</td>\n",
       "      <td>2017</td>\n",
       "      <td>3</td>\n",
       "      <td>2</td>\n",
       "      <td>A</td>\n",
       "      <td>4</td>\n",
       "      <td>2017-03-02</td>\n",
       "      <td>2017-03-05</td>\n",
       "      <td>1</td>\n",
       "    </tr>\n",
       "    <tr>\n",
       "      <th>22816</th>\n",
       "      <td>0</td>\n",
       "      <td>2017</td>\n",
       "      <td>3</td>\n",
       "      <td>24</td>\n",
       "      <td>A</td>\n",
       "      <td>4</td>\n",
       "      <td>2017-03-24</td>\n",
       "      <td>2017-03-27</td>\n",
       "      <td>1</td>\n",
       "    </tr>\n",
       "    <tr>\n",
       "      <th>30280</th>\n",
       "      <td>0</td>\n",
       "      <td>2017</td>\n",
       "      <td>7</td>\n",
       "      <td>21</td>\n",
       "      <td>A</td>\n",
       "      <td>4</td>\n",
       "      <td>2017-07-21</td>\n",
       "      <td>2017-07-24</td>\n",
       "      <td>2</td>\n",
       "    </tr>\n",
       "  </tbody>\n",
       "</table>\n",
       "</div>"
      ],
      "text/plain": [
       "       is_canceled  arrival_date_year  arrival_date_month  \\\n",
       "16004            1               2017                   6   \n",
       "22181            0               2017                   3   \n",
       "4230             0               2017                   3   \n",
       "22816            0               2017                   3   \n",
       "30280            0               2017                   7   \n",
       "\n",
       "       arrival_date_day_of_month reserved_room_type  total_nights  \\\n",
       "16004                         29                  A             3   \n",
       "22181                         17                  D             2   \n",
       "4230                           2                  A             4   \n",
       "22816                         24                  A             4   \n",
       "30280                         21                  A             4   \n",
       "\n",
       "      arrival_date  leave_date  season  \n",
       "16004   2017-06-29  2017-07-01       2  \n",
       "22181   2017-03-17  2017-03-18       1  \n",
       "4230    2017-03-02  2017-03-05       1  \n",
       "22816   2017-03-24  2017-03-27       1  \n",
       "30280   2017-07-21  2017-07-24       2  "
      ]
     },
     "execution_count": 18,
     "metadata": {},
     "output_type": "execute_result"
    }
   ],
   "source": [
    "data.sample(n=5, random_state=11)"
   ]
  },
  {
   "cell_type": "markdown",
   "metadata": {},
   "source": [
    "Создадим функцию для разделения дней пребывания по сезонам."
   ]
  },
  {
   "cell_type": "code",
   "execution_count": 19,
   "metadata": {},
   "outputs": [],
   "source": [
    "def last_day_month(day):\n",
    "    next_month = day.replace(day=28) + datetime.timedelta(days=4)  \n",
    "    return next_month - datetime.timedelta(days=next_month.day)\n",
    "\n",
    "def payment_for_room(begin,end):\n",
    "    \n",
    "    result = []\n",
    "    while True:\n",
    "        if begin.month == 12:\n",
    "            next_month = begin.replace(year=begin.year+1,month=1, day=1)\n",
    "        else:\n",
    "            next_month = begin.replace(month=begin.month+1, day=1)\n",
    "        if next_month > end:\n",
    "            break\n",
    "        result.append ([begin,last_day_month(begin)])\n",
    "        begin = next_month\n",
    "    \n",
    "    result.append([begin,end])\n",
    "    result = pd.DataFrame(result)\n",
    "    result[0] = pd.to_datetime(result[0], format='%Y-%m-%d')\n",
    "    result[1] = pd.to_datetime(result[1], format='%Y-%m-%d')\n",
    "    result['arrival_date_month'] = result.apply(lambda row: row[0].month, axis=1)   \n",
    "    result['season'] = func(result['arrival_date_month'])  \n",
    "    result['0'] = (result[1] - result[0]).dt.days +1\n",
    "    result = result.pivot_table(index=['season'],values='0', aggfunc='sum').T.rename_axis(None, axis=1)\\\n",
    "                   .reset_index(drop=True)\n",
    "    result = result.astype('int16') \n",
    "    return result "
   ]
  },
  {
   "cell_type": "code",
   "execution_count": 20,
   "metadata": {},
   "outputs": [
    {
     "name": "stdout",
     "output_type": "stream",
     "text": [
      "CPU times: total: 3min 40s\n",
      "Wall time: 3min 40s\n"
     ]
    }
   ],
   "source": [
    "%%time\n",
    "\n",
    "seasons = pd.DataFrame(columns = [1, 2, 3, 4])\n",
    "for i in range(len(data)):\n",
    "    seasons = pd.concat([seasons, payment_for_room(data['arrival_date'][i], data['leave_date'][i])], axis=0, \\\n",
    "                        ignore_index=True)\n",
    "    \n",
    "seasons = seasons.fillna(0)\n",
    "\n",
    "data = data.join(seasons)"
   ]
  },
  {
   "cell_type": "markdown",
   "metadata": {},
   "source": [
    "Добавим данные по уборке. Логика следующая: уборка номера каждые 2 дня + перед приездом постояльца."
   ]
  },
  {
   "cell_type": "code",
   "execution_count": 21,
   "metadata": {},
   "outputs": [
    {
     "data": {
      "text/html": [
       "<div>\n",
       "<style scoped>\n",
       "    .dataframe tbody tr th:only-of-type {\n",
       "        vertical-align: middle;\n",
       "    }\n",
       "\n",
       "    .dataframe tbody tr th {\n",
       "        vertical-align: top;\n",
       "    }\n",
       "\n",
       "    .dataframe thead th {\n",
       "        text-align: right;\n",
       "    }\n",
       "</style>\n",
       "<table border=\"1\" class=\"dataframe\">\n",
       "  <thead>\n",
       "    <tr style=\"text-align: right;\">\n",
       "      <th></th>\n",
       "      <th>16004</th>\n",
       "      <th>22181</th>\n",
       "      <th>4230</th>\n",
       "      <th>22816</th>\n",
       "      <th>30280</th>\n",
       "      <th>43</th>\n",
       "      <th>5792</th>\n",
       "      <th>3105</th>\n",
       "      <th>15887</th>\n",
       "      <th>7597</th>\n",
       "    </tr>\n",
       "  </thead>\n",
       "  <tbody>\n",
       "    <tr>\n",
       "      <th>is_canceled</th>\n",
       "      <td>1</td>\n",
       "      <td>0</td>\n",
       "      <td>0</td>\n",
       "      <td>0</td>\n",
       "      <td>0</td>\n",
       "      <td>1</td>\n",
       "      <td>0</td>\n",
       "      <td>0</td>\n",
       "      <td>1</td>\n",
       "      <td>0</td>\n",
       "    </tr>\n",
       "    <tr>\n",
       "      <th>arrival_date_year</th>\n",
       "      <td>2017</td>\n",
       "      <td>2017</td>\n",
       "      <td>2017</td>\n",
       "      <td>2017</td>\n",
       "      <td>2017</td>\n",
       "      <td>2017</td>\n",
       "      <td>2017</td>\n",
       "      <td>2017</td>\n",
       "      <td>2017</td>\n",
       "      <td>2017</td>\n",
       "    </tr>\n",
       "    <tr>\n",
       "      <th>arrival_date_month</th>\n",
       "      <td>6</td>\n",
       "      <td>3</td>\n",
       "      <td>3</td>\n",
       "      <td>3</td>\n",
       "      <td>7</td>\n",
       "      <td>1</td>\n",
       "      <td>5</td>\n",
       "      <td>1</td>\n",
       "      <td>6</td>\n",
       "      <td>8</td>\n",
       "    </tr>\n",
       "    <tr>\n",
       "      <th>arrival_date_day_of_month</th>\n",
       "      <td>29</td>\n",
       "      <td>17</td>\n",
       "      <td>2</td>\n",
       "      <td>24</td>\n",
       "      <td>21</td>\n",
       "      <td>11</td>\n",
       "      <td>12</td>\n",
       "      <td>24</td>\n",
       "      <td>27</td>\n",
       "      <td>30</td>\n",
       "    </tr>\n",
       "    <tr>\n",
       "      <th>reserved_room_type</th>\n",
       "      <td>A</td>\n",
       "      <td>D</td>\n",
       "      <td>A</td>\n",
       "      <td>A</td>\n",
       "      <td>A</td>\n",
       "      <td>E</td>\n",
       "      <td>C</td>\n",
       "      <td>A</td>\n",
       "      <td>A</td>\n",
       "      <td>A</td>\n",
       "    </tr>\n",
       "    <tr>\n",
       "      <th>total_nights</th>\n",
       "      <td>3</td>\n",
       "      <td>2</td>\n",
       "      <td>4</td>\n",
       "      <td>4</td>\n",
       "      <td>4</td>\n",
       "      <td>2</td>\n",
       "      <td>1</td>\n",
       "      <td>1</td>\n",
       "      <td>7</td>\n",
       "      <td>3</td>\n",
       "    </tr>\n",
       "    <tr>\n",
       "      <th>arrival_date</th>\n",
       "      <td>2017-06-29</td>\n",
       "      <td>2017-03-17</td>\n",
       "      <td>2017-03-02</td>\n",
       "      <td>2017-03-24</td>\n",
       "      <td>2017-07-21</td>\n",
       "      <td>2017-01-11</td>\n",
       "      <td>2017-05-12</td>\n",
       "      <td>2017-01-24</td>\n",
       "      <td>2017-06-27</td>\n",
       "      <td>2017-08-30</td>\n",
       "    </tr>\n",
       "    <tr>\n",
       "      <th>leave_date</th>\n",
       "      <td>2017-07-01</td>\n",
       "      <td>2017-03-18</td>\n",
       "      <td>2017-03-05</td>\n",
       "      <td>2017-03-27</td>\n",
       "      <td>2017-07-24</td>\n",
       "      <td>2017-01-12</td>\n",
       "      <td>2017-05-12</td>\n",
       "      <td>2017-01-24</td>\n",
       "      <td>2017-07-03</td>\n",
       "      <td>2017-09-01</td>\n",
       "    </tr>\n",
       "    <tr>\n",
       "      <th>season</th>\n",
       "      <td>2</td>\n",
       "      <td>1</td>\n",
       "      <td>1</td>\n",
       "      <td>1</td>\n",
       "      <td>2</td>\n",
       "      <td>4</td>\n",
       "      <td>1</td>\n",
       "      <td>4</td>\n",
       "      <td>2</td>\n",
       "      <td>2</td>\n",
       "    </tr>\n",
       "    <tr>\n",
       "      <th>1</th>\n",
       "      <td>0</td>\n",
       "      <td>2</td>\n",
       "      <td>4</td>\n",
       "      <td>4</td>\n",
       "      <td>0</td>\n",
       "      <td>0</td>\n",
       "      <td>1</td>\n",
       "      <td>0</td>\n",
       "      <td>0</td>\n",
       "      <td>0</td>\n",
       "    </tr>\n",
       "    <tr>\n",
       "      <th>2</th>\n",
       "      <td>3</td>\n",
       "      <td>0</td>\n",
       "      <td>0</td>\n",
       "      <td>0</td>\n",
       "      <td>4</td>\n",
       "      <td>0</td>\n",
       "      <td>0</td>\n",
       "      <td>0</td>\n",
       "      <td>7</td>\n",
       "      <td>2</td>\n",
       "    </tr>\n",
       "    <tr>\n",
       "      <th>3</th>\n",
       "      <td>0</td>\n",
       "      <td>0</td>\n",
       "      <td>0</td>\n",
       "      <td>0</td>\n",
       "      <td>0</td>\n",
       "      <td>0</td>\n",
       "      <td>0</td>\n",
       "      <td>0</td>\n",
       "      <td>0</td>\n",
       "      <td>1</td>\n",
       "    </tr>\n",
       "    <tr>\n",
       "      <th>4</th>\n",
       "      <td>0</td>\n",
       "      <td>0</td>\n",
       "      <td>0</td>\n",
       "      <td>0</td>\n",
       "      <td>0</td>\n",
       "      <td>2</td>\n",
       "      <td>0</td>\n",
       "      <td>1</td>\n",
       "      <td>0</td>\n",
       "      <td>0</td>\n",
       "    </tr>\n",
       "    <tr>\n",
       "      <th>count_cleaning</th>\n",
       "      <td>2.0</td>\n",
       "      <td>1.0</td>\n",
       "      <td>2.0</td>\n",
       "      <td>2.0</td>\n",
       "      <td>2.0</td>\n",
       "      <td>1.0</td>\n",
       "      <td>1.0</td>\n",
       "      <td>1.0</td>\n",
       "      <td>4.0</td>\n",
       "      <td>2.0</td>\n",
       "    </tr>\n",
       "  </tbody>\n",
       "</table>\n",
       "</div>"
      ],
      "text/plain": [
       "                                16004       22181       4230        22816  \\\n",
       "is_canceled                         1           0           0           0   \n",
       "arrival_date_year                2017        2017        2017        2017   \n",
       "arrival_date_month                  6           3           3           3   \n",
       "arrival_date_day_of_month          29          17           2          24   \n",
       "reserved_room_type                  A           D           A           A   \n",
       "total_nights                        3           2           4           4   \n",
       "arrival_date               2017-06-29  2017-03-17  2017-03-02  2017-03-24   \n",
       "leave_date                 2017-07-01  2017-03-18  2017-03-05  2017-03-27   \n",
       "season                              2           1           1           1   \n",
       "1                                   0           2           4           4   \n",
       "2                                   3           0           0           0   \n",
       "3                                   0           0           0           0   \n",
       "4                                   0           0           0           0   \n",
       "count_cleaning                    2.0         1.0         2.0         2.0   \n",
       "\n",
       "                                30280       43          5792        3105   \\\n",
       "is_canceled                         0           1           0           0   \n",
       "arrival_date_year                2017        2017        2017        2017   \n",
       "arrival_date_month                  7           1           5           1   \n",
       "arrival_date_day_of_month          21          11          12          24   \n",
       "reserved_room_type                  A           E           C           A   \n",
       "total_nights                        4           2           1           1   \n",
       "arrival_date               2017-07-21  2017-01-11  2017-05-12  2017-01-24   \n",
       "leave_date                 2017-07-24  2017-01-12  2017-05-12  2017-01-24   \n",
       "season                              2           4           1           4   \n",
       "1                                   0           0           1           0   \n",
       "2                                   4           0           0           0   \n",
       "3                                   0           0           0           0   \n",
       "4                                   0           2           0           1   \n",
       "count_cleaning                    2.0         1.0         1.0         1.0   \n",
       "\n",
       "                                15887       7597   \n",
       "is_canceled                         1           0  \n",
       "arrival_date_year                2017        2017  \n",
       "arrival_date_month                  6           8  \n",
       "arrival_date_day_of_month          27          30  \n",
       "reserved_room_type                  A           A  \n",
       "total_nights                        7           3  \n",
       "arrival_date               2017-06-27  2017-08-30  \n",
       "leave_date                 2017-07-03  2017-09-01  \n",
       "season                              2           2  \n",
       "1                                   0           0  \n",
       "2                                   7           2  \n",
       "3                                   0           1  \n",
       "4                                   0           0  \n",
       "count_cleaning                    4.0         2.0  "
      ]
     },
     "execution_count": 21,
     "metadata": {},
     "output_type": "execute_result"
    }
   ],
   "source": [
    "data['count_cleaning'] = np.where(data['total_nights']<3, 1, np.floor((data['total_nights'] -1)/2 +1))\n",
    "data.sample(n=10, random_state=11).T"
   ]
  },
  {
   "cell_type": "markdown",
   "metadata": {},
   "source": [
    "Создадим константы для расчета прибыли."
   ]
  },
  {
   "cell_type": "code",
   "execution_count": 22,
   "metadata": {},
   "outputs": [],
   "source": [
    "ROOM_COST_A = 1000\n",
    "CLEANING_COST_A = 400\n",
    "\n",
    "ROOM_COST_B = 800\n",
    "CLEANING_COST_B = 350\n",
    "\n",
    "ROOM_COST_C = 600\n",
    "CLEANING_COST_C = 350\n",
    "\n",
    "ROOM_COST_D = 550\n",
    "CLEANING_COST_D = 150\n",
    "\n",
    "ROOM_COST_E = 500\n",
    "CLEANING_COST_E = 150\n",
    "\n",
    "ROOM_COST_F = 450\n",
    "CLEANING_COST_F = 150\n",
    "\n",
    "ROOM_COST_G = 350\n",
    "CLEANING_COST_G = 150\n",
    "\n",
    "SPRING_RATIO = 1.2\n",
    "SUMMER_RATIO = 1.4\n",
    "AUTUMN_RATIO = 1.2\n",
    "WINTER_RATIO = 1.0"
   ]
  },
  {
   "cell_type": "markdown",
   "metadata": {},
   "source": [
    "Рассчитаем прибыль. Издержки на обслуживание считаем независимыми от сезона."
   ]
  },
  {
   "cell_type": "code",
   "execution_count": 23,
   "metadata": {},
   "outputs": [],
   "source": [
    "data['profit'] = data['is_canceled']\n",
    "\n",
    "for i in range(len(data)):\n",
    "\n",
    "    if data['reserved_room_type'][i] == 'A':\n",
    "        room_cost = ROOM_COST_A\n",
    "        cleaning_cost = CLEANING_COST_A\n",
    "    elif data['reserved_room_type'][i] == 'B':\n",
    "        room_cost = ROOM_COST_B\n",
    "        cleaning_cost = CLEANING_COST_B\n",
    "    elif data['reserved_room_type'][i] == 'C':\n",
    "        room_cost = ROOM_COST_C\n",
    "        cleaning_cost = CLEANING_COST_C\n",
    "    elif data['reserved_room_type'][i] == 'D':\n",
    "        room_cost = ROOM_COST_D\n",
    "        cleaning_cost = CLEANING_COST_D    \n",
    "    elif data['reserved_room_type'][i] == 'E':\n",
    "        room_cost = ROOM_COST_E\n",
    "        cleaning_cost = CLEANING_COST_E\n",
    "    elif data['reserved_room_type'][i] == 'F':\n",
    "        room_cost = ROOM_COST_F\n",
    "        cleaning_cost = CLEANING_COST_F\n",
    "    elif data['reserved_room_type'][i] == 'G':\n",
    "        room_cost = ROOM_COST_G\n",
    "        cleaning_cost = CLEANING_COST_G    \n",
    "    else:\n",
    "        room_cost = None\n",
    "        cleaning_cost = None    \n",
    "        \n",
    "    # подсчет прибыли\n",
    "    \n",
    "    if data['is_canceled'][i] == 1:\n",
    "        data['profit'][i] = -cleaning_cost\n",
    "    elif data['is_canceled'][i] == 0:\n",
    "        data['profit'][i] = room_cost * ((data[1][i]*SPRING_RATIO + data[2][i]*SUMMER_RATIO + data[3][i]*AUTUMN_RATIO \\\n",
    "                            + data[4][i]*WINTER_RATIO)) - cleaning_cost * data['count_cleaning'][i] "
   ]
  },
  {
   "cell_type": "code",
   "execution_count": 24,
   "metadata": {},
   "outputs": [
    {
     "data": {
      "text/html": [
       "<div>\n",
       "<style scoped>\n",
       "    .dataframe tbody tr th:only-of-type {\n",
       "        vertical-align: middle;\n",
       "    }\n",
       "\n",
       "    .dataframe tbody tr th {\n",
       "        vertical-align: top;\n",
       "    }\n",
       "\n",
       "    .dataframe thead th {\n",
       "        text-align: right;\n",
       "    }\n",
       "</style>\n",
       "<table border=\"1\" class=\"dataframe\">\n",
       "  <thead>\n",
       "    <tr style=\"text-align: right;\">\n",
       "      <th></th>\n",
       "      <th>16004</th>\n",
       "      <th>22181</th>\n",
       "      <th>4230</th>\n",
       "      <th>22816</th>\n",
       "      <th>30280</th>\n",
       "      <th>43</th>\n",
       "      <th>5792</th>\n",
       "      <th>3105</th>\n",
       "      <th>15887</th>\n",
       "      <th>7597</th>\n",
       "    </tr>\n",
       "  </thead>\n",
       "  <tbody>\n",
       "    <tr>\n",
       "      <th>is_canceled</th>\n",
       "      <td>1</td>\n",
       "      <td>0</td>\n",
       "      <td>0</td>\n",
       "      <td>0</td>\n",
       "      <td>0</td>\n",
       "      <td>1</td>\n",
       "      <td>0</td>\n",
       "      <td>0</td>\n",
       "      <td>1</td>\n",
       "      <td>0</td>\n",
       "    </tr>\n",
       "    <tr>\n",
       "      <th>arrival_date_year</th>\n",
       "      <td>2017</td>\n",
       "      <td>2017</td>\n",
       "      <td>2017</td>\n",
       "      <td>2017</td>\n",
       "      <td>2017</td>\n",
       "      <td>2017</td>\n",
       "      <td>2017</td>\n",
       "      <td>2017</td>\n",
       "      <td>2017</td>\n",
       "      <td>2017</td>\n",
       "    </tr>\n",
       "    <tr>\n",
       "      <th>arrival_date_month</th>\n",
       "      <td>6</td>\n",
       "      <td>3</td>\n",
       "      <td>3</td>\n",
       "      <td>3</td>\n",
       "      <td>7</td>\n",
       "      <td>1</td>\n",
       "      <td>5</td>\n",
       "      <td>1</td>\n",
       "      <td>6</td>\n",
       "      <td>8</td>\n",
       "    </tr>\n",
       "    <tr>\n",
       "      <th>arrival_date_day_of_month</th>\n",
       "      <td>29</td>\n",
       "      <td>17</td>\n",
       "      <td>2</td>\n",
       "      <td>24</td>\n",
       "      <td>21</td>\n",
       "      <td>11</td>\n",
       "      <td>12</td>\n",
       "      <td>24</td>\n",
       "      <td>27</td>\n",
       "      <td>30</td>\n",
       "    </tr>\n",
       "    <tr>\n",
       "      <th>reserved_room_type</th>\n",
       "      <td>A</td>\n",
       "      <td>D</td>\n",
       "      <td>A</td>\n",
       "      <td>A</td>\n",
       "      <td>A</td>\n",
       "      <td>E</td>\n",
       "      <td>C</td>\n",
       "      <td>A</td>\n",
       "      <td>A</td>\n",
       "      <td>A</td>\n",
       "    </tr>\n",
       "    <tr>\n",
       "      <th>total_nights</th>\n",
       "      <td>3</td>\n",
       "      <td>2</td>\n",
       "      <td>4</td>\n",
       "      <td>4</td>\n",
       "      <td>4</td>\n",
       "      <td>2</td>\n",
       "      <td>1</td>\n",
       "      <td>1</td>\n",
       "      <td>7</td>\n",
       "      <td>3</td>\n",
       "    </tr>\n",
       "    <tr>\n",
       "      <th>arrival_date</th>\n",
       "      <td>2017-06-29</td>\n",
       "      <td>2017-03-17</td>\n",
       "      <td>2017-03-02</td>\n",
       "      <td>2017-03-24</td>\n",
       "      <td>2017-07-21</td>\n",
       "      <td>2017-01-11</td>\n",
       "      <td>2017-05-12</td>\n",
       "      <td>2017-01-24</td>\n",
       "      <td>2017-06-27</td>\n",
       "      <td>2017-08-30</td>\n",
       "    </tr>\n",
       "    <tr>\n",
       "      <th>leave_date</th>\n",
       "      <td>2017-07-01</td>\n",
       "      <td>2017-03-18</td>\n",
       "      <td>2017-03-05</td>\n",
       "      <td>2017-03-27</td>\n",
       "      <td>2017-07-24</td>\n",
       "      <td>2017-01-12</td>\n",
       "      <td>2017-05-12</td>\n",
       "      <td>2017-01-24</td>\n",
       "      <td>2017-07-03</td>\n",
       "      <td>2017-09-01</td>\n",
       "    </tr>\n",
       "    <tr>\n",
       "      <th>season</th>\n",
       "      <td>2</td>\n",
       "      <td>1</td>\n",
       "      <td>1</td>\n",
       "      <td>1</td>\n",
       "      <td>2</td>\n",
       "      <td>4</td>\n",
       "      <td>1</td>\n",
       "      <td>4</td>\n",
       "      <td>2</td>\n",
       "      <td>2</td>\n",
       "    </tr>\n",
       "    <tr>\n",
       "      <th>1</th>\n",
       "      <td>0</td>\n",
       "      <td>2</td>\n",
       "      <td>4</td>\n",
       "      <td>4</td>\n",
       "      <td>0</td>\n",
       "      <td>0</td>\n",
       "      <td>1</td>\n",
       "      <td>0</td>\n",
       "      <td>0</td>\n",
       "      <td>0</td>\n",
       "    </tr>\n",
       "    <tr>\n",
       "      <th>2</th>\n",
       "      <td>3</td>\n",
       "      <td>0</td>\n",
       "      <td>0</td>\n",
       "      <td>0</td>\n",
       "      <td>4</td>\n",
       "      <td>0</td>\n",
       "      <td>0</td>\n",
       "      <td>0</td>\n",
       "      <td>7</td>\n",
       "      <td>2</td>\n",
       "    </tr>\n",
       "    <tr>\n",
       "      <th>3</th>\n",
       "      <td>0</td>\n",
       "      <td>0</td>\n",
       "      <td>0</td>\n",
       "      <td>0</td>\n",
       "      <td>0</td>\n",
       "      <td>0</td>\n",
       "      <td>0</td>\n",
       "      <td>0</td>\n",
       "      <td>0</td>\n",
       "      <td>1</td>\n",
       "    </tr>\n",
       "    <tr>\n",
       "      <th>4</th>\n",
       "      <td>0</td>\n",
       "      <td>0</td>\n",
       "      <td>0</td>\n",
       "      <td>0</td>\n",
       "      <td>0</td>\n",
       "      <td>2</td>\n",
       "      <td>0</td>\n",
       "      <td>1</td>\n",
       "      <td>0</td>\n",
       "      <td>0</td>\n",
       "    </tr>\n",
       "    <tr>\n",
       "      <th>count_cleaning</th>\n",
       "      <td>2.0</td>\n",
       "      <td>1.0</td>\n",
       "      <td>2.0</td>\n",
       "      <td>2.0</td>\n",
       "      <td>2.0</td>\n",
       "      <td>1.0</td>\n",
       "      <td>1.0</td>\n",
       "      <td>1.0</td>\n",
       "      <td>4.0</td>\n",
       "      <td>2.0</td>\n",
       "    </tr>\n",
       "    <tr>\n",
       "      <th>profit</th>\n",
       "      <td>-400.0</td>\n",
       "      <td>1170.0</td>\n",
       "      <td>4000.0</td>\n",
       "      <td>4000.0</td>\n",
       "      <td>4800.0</td>\n",
       "      <td>-150.0</td>\n",
       "      <td>370.0</td>\n",
       "      <td>600.0</td>\n",
       "      <td>-400.0</td>\n",
       "      <td>3200.0</td>\n",
       "    </tr>\n",
       "  </tbody>\n",
       "</table>\n",
       "</div>"
      ],
      "text/plain": [
       "                                16004       22181       4230        22816  \\\n",
       "is_canceled                         1           0           0           0   \n",
       "arrival_date_year                2017        2017        2017        2017   \n",
       "arrival_date_month                  6           3           3           3   \n",
       "arrival_date_day_of_month          29          17           2          24   \n",
       "reserved_room_type                  A           D           A           A   \n",
       "total_nights                        3           2           4           4   \n",
       "arrival_date               2017-06-29  2017-03-17  2017-03-02  2017-03-24   \n",
       "leave_date                 2017-07-01  2017-03-18  2017-03-05  2017-03-27   \n",
       "season                              2           1           1           1   \n",
       "1                                   0           2           4           4   \n",
       "2                                   3           0           0           0   \n",
       "3                                   0           0           0           0   \n",
       "4                                   0           0           0           0   \n",
       "count_cleaning                    2.0         1.0         2.0         2.0   \n",
       "profit                         -400.0      1170.0      4000.0      4000.0   \n",
       "\n",
       "                                30280       43          5792        3105   \\\n",
       "is_canceled                         0           1           0           0   \n",
       "arrival_date_year                2017        2017        2017        2017   \n",
       "arrival_date_month                  7           1           5           1   \n",
       "arrival_date_day_of_month          21          11          12          24   \n",
       "reserved_room_type                  A           E           C           A   \n",
       "total_nights                        4           2           1           1   \n",
       "arrival_date               2017-07-21  2017-01-11  2017-05-12  2017-01-24   \n",
       "leave_date                 2017-07-24  2017-01-12  2017-05-12  2017-01-24   \n",
       "season                              2           4           1           4   \n",
       "1                                   0           0           1           0   \n",
       "2                                   4           0           0           0   \n",
       "3                                   0           0           0           0   \n",
       "4                                   0           2           0           1   \n",
       "count_cleaning                    2.0         1.0         1.0         1.0   \n",
       "profit                         4800.0      -150.0       370.0       600.0   \n",
       "\n",
       "                                15887       7597   \n",
       "is_canceled                         1           0  \n",
       "arrival_date_year                2017        2017  \n",
       "arrival_date_month                  6           8  \n",
       "arrival_date_day_of_month          27          30  \n",
       "reserved_room_type                  A           A  \n",
       "total_nights                        7           3  \n",
       "arrival_date               2017-06-27  2017-08-30  \n",
       "leave_date                 2017-07-03  2017-09-01  \n",
       "season                              2           2  \n",
       "1                                   0           0  \n",
       "2                                   7           2  \n",
       "3                                   0           1  \n",
       "4                                   0           0  \n",
       "count_cleaning                    4.0         2.0  \n",
       "profit                         -400.0      3200.0  "
      ]
     },
     "execution_count": 24,
     "metadata": {},
     "output_type": "execute_result"
    }
   ],
   "source": [
    "data.sample(n=10, random_state=11).T"
   ]
  },
  {
   "cell_type": "markdown",
   "metadata": {},
   "source": [
    "Прибыль за 8 месяцев 2017 года без внедрения системы прогнозирования (млн. руб):"
   ]
  },
  {
   "cell_type": "code",
   "execution_count": 25,
   "metadata": {},
   "outputs": [
    {
     "data": {
      "text/plain": [
       "49.1"
      ]
     },
     "execution_count": 25,
     "metadata": {},
     "output_type": "execute_result"
    }
   ],
   "source": [
    "(data['profit'].sum()/1000000).round(2)"
   ]
  },
  {
   "cell_type": "markdown",
   "metadata": {},
   "source": [
    "**Вывод**"
   ]
  },
  {
   "cell_type": "markdown",
   "metadata": {},
   "source": [
    "Применено деление на сезоны согласно принятой в России практике. Стоимость обслуживания номера считается независимой от сезона.\n",
    "\n",
    "Прибыль за 8 месяцев 2017 г. до внедрения модели составила: 49.1 млн.руб."
   ]
  },
  {
   "cell_type": "markdown",
   "metadata": {},
   "source": [
    "### Шаг 4. Подготовка данных для ML"
   ]
  },
  {
   "cell_type": "markdown",
   "metadata": {},
   "source": [
    "Основной метрикой будем считать `'f1'`меру, в качестве дополнительной - `'recall'`."
   ]
  },
  {
   "cell_type": "markdown",
   "metadata": {},
   "source": [
    "#### Разделение данных на выборки"
   ]
  },
  {
   "cell_type": "markdown",
   "metadata": {},
   "source": [
    "Выделим признаки и целевой признак. "
   ]
  },
  {
   "cell_type": "code",
   "execution_count": 26,
   "metadata": {},
   "outputs": [],
   "source": [
    "features = df.drop(['is_canceled'], axis=1)\n",
    "target = df['is_canceled']"
   ]
  },
  {
   "cell_type": "markdown",
   "metadata": {},
   "source": [
    "Разделим данные на выборки."
   ]
  },
  {
   "cell_type": "code",
   "execution_count": 27,
   "metadata": {},
   "outputs": [],
   "source": [
    "features_test, target_test = features[len(data_train):], target[len(data_train):]\n",
    "\n",
    "features_train = features[:len(data_train)]\n",
    "target_train = target[:len(data_train)]"
   ]
  },
  {
   "cell_type": "markdown",
   "metadata": {},
   "source": [
    "Проверим размеры полученных файлов."
   ]
  },
  {
   "cell_type": "code",
   "execution_count": 28,
   "metadata": {},
   "outputs": [
    {
     "name": "stdout",
     "output_type": "stream",
     "text": [
      "(65229, 29) (65229,) (32412, 29) (32412,)\n"
     ]
    }
   ],
   "source": [
    "print(features_train.shape, target_train.shape, features_test.shape, target_test.shape)"
   ]
  },
  {
   "cell_type": "markdown",
   "metadata": {},
   "source": [
    "#### Масштабирование признаков"
   ]
  },
  {
   "cell_type": "markdown",
   "metadata": {},
   "source": [
    "Приведем признаки в столбцах к единому масштабу."
   ]
  },
  {
   "cell_type": "code",
   "execution_count": 29,
   "metadata": {},
   "outputs": [],
   "source": [
    "scaler = StandardScaler()\n",
    "scaler.fit(features_train)\n",
    "features_train = scaler.transform(features_train)\n",
    "features_test = scaler.transform(features_test) "
   ]
  },
  {
   "cell_type": "markdown",
   "metadata": {},
   "source": [
    "### Шаг 5. Разработка модели ML"
   ]
  },
  {
   "cell_type": "markdown",
   "metadata": {},
   "source": [
    "Cоздадим функции для отображения Матрицы ошибок, вывода основных метрик и сохранения результатов работы моделей:"
   ]
  },
  {
   "cell_type": "code",
   "execution_count": 30,
   "metadata": {},
   "outputs": [],
   "source": [
    "def matrix_conf(target, predictions):\n",
    "    matrix = confusion_matrix(target, predictions)\n",
    "    plt.figure(figsize=(4, 3))\n",
    "    ax= plt.subplot()\n",
    "    sns.heatmap(matrix, annot=True, fmt='g', ax=ax); \n",
    "    ax.set_xlabel('Predicted labels');ax.set_ylabel('True labels'); \n",
    "    ax.set_title('Confusion Matrix'); \n",
    "    ax.xaxis.set_ticklabels(['0', '1']); ax.yaxis.set_ticklabels(['0', '1'])\n",
    "\n",
    "def mean_test_scorer(grid_search):\n",
    "    results = pd.DataFrame(grid_search.cv_results_)\n",
    "    results = results[['mean_test_f1', 'mean_test_precision', 'mean_test_recall', 'mean_test_accuracy']]\\\n",
    "                        .round(3).sort_values(by='mean_test_f1', ascending=False)\n",
    "    results.columns = ['f1', 'precision', 'recall', 'accuracy']\n",
    "    return results\n",
    "\n",
    "def model_result(model, results):    \n",
    "    scorers = pd.DataFrame(results.iloc[0])\n",
    "    scorers.columns = [model]\n",
    "    return scorers\n",
    "\n",
    "\n",
    "scorers_result = pd.DataFrame() #датафрейм для хранения результатов работы моделей"
   ]
  },
  {
   "cell_type": "markdown",
   "metadata": {},
   "source": [
    "#### Логистическая регрессия"
   ]
  },
  {
   "cell_type": "markdown",
   "metadata": {},
   "source": [
    "##### Подбор параметров без устранения дисбаланса"
   ]
  },
  {
   "cell_type": "code",
   "execution_count": 31,
   "metadata": {},
   "outputs": [
    {
     "name": "stdout",
     "output_type": "stream",
     "text": [
      "f1: 0.563\n",
      "Параметры лучшей модели: {'class_weight': 'balanced'}\n",
      "CPU times: total: 2.59 s\n",
      "Wall time: 2.58 s\n"
     ]
    }
   ],
   "source": [
    "%%time\n",
    "\n",
    "param_grid = {'class_weight': [None, 'balanced']}\n",
    "\n",
    "scorers = {'precision': make_scorer(precision_score),\n",
    "           'recall': make_scorer(recall_score),\n",
    "           'accuracy': make_scorer(accuracy_score),\n",
    "           'f1': make_scorer(f1_score),\n",
    "} \n",
    "\n",
    "model_logistic_regression = LogisticRegression(random_state=12345)\n",
    "grid_search_logistic_regression_disbalance = GridSearchCV(model_logistic_regression, param_grid, cv=5, scoring=scorers, refit='f1')\n",
    "grid_search_logistic_regression_disbalance.fit(features_train, target_train)\n",
    "predictions_train = grid_search_logistic_regression_disbalance.best_estimator_.predict(features_train)\n",
    "\n",
    "\n",
    "print(\"f1: {:.3f}\".format(grid_search_logistic_regression_disbalance.best_score_))\n",
    "print(\"Параметры лучшей модели:\", grid_search_logistic_regression_disbalance.best_params_)"
   ]
  },
  {
   "cell_type": "code",
   "execution_count": 32,
   "metadata": {},
   "outputs": [
    {
     "data": {
      "image/png": "[encoded data removed]",
      "text/plain": [
       "<Figure size 400x300 with 2 Axes>"
      ]
     },
     "metadata": {},
     "output_type": "display_data"
    }
   ],
   "source": [
    "matrix_conf(target_train, predictions_train)"
   ]
  },
  {
   "cell_type": "markdown",
   "metadata": {},
   "source": [
    "Модель сделала 16 453 ошибки. Класс \"0\" прогнозируется хуже класса \"1\"."
   ]
  },
  {
   "cell_type": "code",
   "execution_count": 33,
   "metadata": {},
   "outputs": [],
   "source": [
    "#сохранение результатов\n",
    "results = mean_test_scorer(grid_search_logistic_regression_disbalance)\n",
    "scorers_result = model_result('log_reg_disbalance', results).join(scorers_result)"
   ]
  },
  {
   "cell_type": "markdown",
   "metadata": {},
   "source": [
    "##### Подбор параметров с устранением дисбаланса"
   ]
  },
  {
   "cell_type": "markdown",
   "metadata": {},
   "source": [
    "Для устранения дисбаланса воспользуемся методами библиотеки `imblearn`."
   ]
  },
  {
   "cell_type": "code",
   "execution_count": 34,
   "metadata": {},
   "outputs": [
    {
     "name": "stdout",
     "output_type": "stream",
     "text": [
      "f1: 0.562\n",
      "Параметры лучшей модели: {'logisticregression__class_weight': None}\n",
      "CPU times: total: 52.4 s\n",
      "Wall time: 7.52 s\n"
     ]
    }
   ],
   "source": [
    "%%time\n",
    "\n",
    "param_grid = {'logisticregression__class_weight': [None, 'balanced']}\n",
    "\n",
    "scorers = {'precision': make_scorer(precision_score),\n",
    "           'recall': make_scorer(recall_score),\n",
    "           'accuracy': make_scorer(accuracy_score),\n",
    "           'f1': make_scorer(f1_score)\n",
    "           \n",
    "} \n",
    "\n",
    "imb_pipeline = make_pipeline(SMOTE(random_state=42), LogisticRegression(random_state=12345))\n",
    "grid_search_logistic_regression_balance = GridSearchCV(imb_pipeline, param_grid, cv=5, scoring=scorers, refit='f1')\n",
    "grid_search_logistic_regression_balance.fit(features_train, target_train)\n",
    "predictions_train = grid_search_logistic_regression_balance.best_estimator_.predict(features_train)\n",
    "\n",
    "\n",
    "print(\"f1: {:.3f}\".format(grid_search_logistic_regression_balance.best_score_)) \n",
    "print(\"Параметры лучшей модели:\", grid_search_logistic_regression_balance.best_params_)            "
   ]
  },
  {
   "cell_type": "code",
   "execution_count": 35,
   "metadata": {},
   "outputs": [
    {
     "data": {
      "image/png": "[encoded data removed]",
      "text/plain": [
       "<Figure size 400x300 with 2 Axes>"
      ]
     },
     "metadata": {},
     "output_type": "display_data"
    }
   ],
   "source": [
    "matrix_conf(target_train, predictions_train)"
   ]
  },
  {
   "cell_type": "markdown",
   "metadata": {},
   "source": [
    "Модель сделала 16 376 ошибок. Класс \"0\" прогнозируется хуже класса \"1\". "
   ]
  },
  {
   "cell_type": "code",
   "execution_count": 36,
   "metadata": {},
   "outputs": [],
   "source": [
    "#сохранение результатов\n",
    "results = mean_test_scorer(grid_search_logistic_regression_balance)\n",
    "scorers_result = model_result('log_reg_balance', results).join(scorers_result) #сохранение результатов"
   ]
  },
  {
   "cell_type": "markdown",
   "metadata": {},
   "source": [
    "#### Решающее дерево"
   ]
  },
  {
   "cell_type": "markdown",
   "metadata": {},
   "source": [
    "##### Подбор параметров без устранения дисбаланса"
   ]
  },
  {
   "cell_type": "code",
   "execution_count": 37,
   "metadata": {},
   "outputs": [
    {
     "name": "stdout",
     "output_type": "stream",
     "text": [
      "f1: 0.633\n",
      "Параметры лучшей модели: {'class_weight': None, 'max_depth': 4, 'min_samples_leaf': 8}\n",
      "CPU times: total: 11.4 s\n",
      "Wall time: 11.4 s\n"
     ]
    }
   ],
   "source": [
    "%%time\n",
    "\n",
    "param_grid = {'max_depth': range (4,10,2),\n",
    "              'min_samples_leaf': range (3,10),\n",
    "              'class_weight': [None, 'balanced']\n",
    "}\n",
    "\n",
    "scorers = {'precision': make_scorer(precision_score),\n",
    "           'recall': make_scorer(recall_score),\n",
    "           'accuracy': make_scorer(accuracy_score),\n",
    "           'f1': make_scorer(f1_score)           \n",
    "} \n",
    "\n",
    "model_decision_tree = DecisionTreeClassifier(random_state=12345)\n",
    "grid_search_decision_tree_disbalance = GridSearchCV(model_decision_tree, param_grid, cv=3, scoring=scorers, refit='f1')\n",
    "grid_search_decision_tree_disbalance.fit(features_train, target_train)\n",
    "predictions_train = grid_search_decision_tree_disbalance.best_estimator_.predict(features_train)\n",
    "\n",
    "\n",
    "print(\"f1: {:.3f}\".format(grid_search_decision_tree_disbalance.best_score_)) \n",
    "print(\"Параметры лучшей модели:\", grid_search_decision_tree_disbalance.best_params_)"
   ]
  },
  {
   "cell_type": "code",
   "execution_count": 38,
   "metadata": {},
   "outputs": [
    {
     "data": {
      "image/png": "[encoded data removed]",
      "text/plain": [
       "<Figure size 400x300 with 2 Axes>"
      ]
     },
     "metadata": {},
     "output_type": "display_data"
    }
   ],
   "source": [
    "matrix_conf(target_train, predictions_train)"
   ]
  },
  {
   "cell_type": "markdown",
   "metadata": {},
   "source": [
    "Модель сделала 14 152 ошибки. Класс \"1\" прогнозируется хуже класса \"0\"."
   ]
  },
  {
   "cell_type": "code",
   "execution_count": 39,
   "metadata": {},
   "outputs": [],
   "source": [
    "#сохранение результатов\n",
    "results = mean_test_scorer(grid_search_decision_tree_disbalance)\n",
    "scorers_result = model_result('dec_tree_disbalance', results).join(scorers_result)"
   ]
  },
  {
   "cell_type": "markdown",
   "metadata": {},
   "source": [
    "##### Подбор параметров с устранением дисбаланса"
   ]
  },
  {
   "cell_type": "code",
   "execution_count": 40,
   "metadata": {},
   "outputs": [
    {
     "name": "stdout",
     "output_type": "stream",
     "text": [
      "f1: 0.563\n",
      "Параметры лучшей модели: {'decisiontreeclassifier__class_weight': None, 'decisiontreeclassifier__max_depth': 6, 'decisiontreeclassifier__min_samples_leaf': 8}\n",
      "CPU times: total: 8min 53s\n",
      "Wall time: 52.4 s\n"
     ]
    }
   ],
   "source": [
    "%%time\n",
    "\n",
    "param_grid = {'decisiontreeclassifier__max_depth': range (4,10,2),\n",
    "              'decisiontreeclassifier__min_samples_leaf': range (3,10),\n",
    "              'decisiontreeclassifier__class_weight': [None, 'balanced']\n",
    "}\n",
    "\n",
    "scorers = {'precision': make_scorer(precision_score),\n",
    "           'recall': make_scorer(recall_score),\n",
    "           'accuracy': make_scorer(accuracy_score),\n",
    "           'f1': make_scorer(f1_score)\n",
    "} \n",
    "\n",
    "imb_pipeline = make_pipeline(SMOTE(random_state=42), DecisionTreeClassifier(random_state=12345))\n",
    "grid_search_decision_tree_balance = GridSearchCV(imb_pipeline, param_grid, cv=3, scoring=scorers, refit='f1')\n",
    "grid_search_decision_tree_balance.fit(features_train, target_train)\n",
    "predictions_train = grid_search_decision_tree_balance.best_estimator_.predict(features_train)\n",
    "\n",
    "\n",
    "print(\"f1: {:.3f}\".format(grid_search_decision_tree_balance.best_score_)) \n",
    "print(\"Параметры лучшей модели:\", grid_search_decision_tree_balance.best_params_)            "
   ]
  },
  {
   "cell_type": "code",
   "execution_count": 41,
   "metadata": {},
   "outputs": [
    {
     "data": {
      "image/png": "[encoded data removed]",
      "text/plain": [
       "<Figure size 400x300 with 2 Axes>"
      ]
     },
     "metadata": {},
     "output_type": "display_data"
    }
   ],
   "source": [
    "matrix_conf(target_train, predictions_train)"
   ]
  },
  {
   "cell_type": "markdown",
   "metadata": {},
   "source": [
    "Модель сделала 14 237 ошибок. Класс \"1\" прогнозируется хуже класса \"0\". "
   ]
  },
  {
   "cell_type": "code",
   "execution_count": 42,
   "metadata": {},
   "outputs": [],
   "source": [
    "#сохранение результатов\n",
    "results = mean_test_scorer(grid_search_decision_tree_balance)\n",
    "scorers_result = model_result('dec_tree_balance', results).join(scorers_result) "
   ]
  },
  {
   "cell_type": "markdown",
   "metadata": {},
   "source": [
    "#### Случайный лес"
   ]
  },
  {
   "cell_type": "markdown",
   "metadata": {},
   "source": [
    "##### Подбор параметров без устранения дисбаланса"
   ]
  },
  {
   "cell_type": "code",
   "execution_count": 43,
   "metadata": {},
   "outputs": [
    {
     "name": "stdout",
     "output_type": "stream",
     "text": [
      "f1: 0.581\n",
      "Параметры лучшей модели: {'n_estimators': 51, 'max_depth': 4, 'class_weight': 'balanced'}\n",
      "CPU times: total: 15.1 s\n",
      "Wall time: 15.1 s\n"
     ]
    }
   ],
   "source": [
    "%%time\n",
    "\n",
    "param_grid = {'n_estimators': range (1,100,10),\n",
    "              'max_depth': range (4,10,2),\n",
    "              'class_weight': [None, 'balanced']\n",
    "}\n",
    "scorers = {'precision': make_scorer(precision_score),\n",
    "           'recall': make_scorer(recall_score),\n",
    "           'accuracy': make_scorer(accuracy_score),\n",
    "           'f1': make_scorer(f1_score)\n",
    "} \n",
    "\n",
    "model_random_forest = RandomForestClassifier(random_state=12345)\n",
    "grid_search_random_forest_disbalance = RandomizedSearchCV(model_random_forest, param_grid, cv=3, scoring=scorers, \\\n",
    "                                               refit='f1', random_state=12345)\n",
    "grid_search_random_forest_disbalance.fit(features_train, target_train)\n",
    "predictions_train = grid_search_random_forest_disbalance.best_estimator_.predict(features_train)\n",
    "\n",
    "\n",
    "print(\"f1: {:.3f}\".format(grid_search_random_forest_disbalance.best_score_)) \n",
    "print(\"Параметры лучшей модели:\", grid_search_random_forest_disbalance.best_params_)"
   ]
  },
  {
   "cell_type": "code",
   "execution_count": 44,
   "metadata": {},
   "outputs": [
    {
     "data": {
      "image/png": "[encoded data removed]",
      "text/plain": [
       "<Figure size 400x300 with 2 Axes>"
      ]
     },
     "metadata": {},
     "output_type": "display_data"
    }
   ],
   "source": [
    "matrix_conf(target_train, predictions_train)"
   ]
  },
  {
   "cell_type": "markdown",
   "metadata": {},
   "source": [
    "Модель сделала 15 325 ошибок. Класс \"0\" прогнозируется хуже класса \"0\". "
   ]
  },
  {
   "cell_type": "code",
   "execution_count": 45,
   "metadata": {},
   "outputs": [],
   "source": [
    "#сохранение результатов\n",
    "results = mean_test_scorer(grid_search_random_forest_disbalance)\n",
    "scorers_result = model_result('rand_forest_disbalance', results).join(scorers_result)"
   ]
  },
  {
   "cell_type": "markdown",
   "metadata": {},
   "source": [
    "##### Подбор параметров с устранением дисбаланса"
   ]
  },
  {
   "cell_type": "code",
   "execution_count": 46,
   "metadata": {},
   "outputs": [
    {
     "name": "stdout",
     "output_type": "stream",
     "text": [
      "f1: 0.595\n",
      "Параметры лучшей модели: {'randomforestclassifier__class_weight': None, 'randomforestclassifier__max_depth': 4, 'randomforestclassifier__n_estimators': 91}\n",
      "CPU times: total: 14min 41s\n",
      "Wall time: 3min 22s\n"
     ]
    }
   ],
   "source": [
    "%%time\n",
    "\n",
    "param_grid = {'randomforestclassifier__n_estimators': range (1,100,10),\n",
    "              'randomforestclassifier__max_depth': range (4,10,2),\n",
    "              'randomforestclassifier__class_weight': [None, 'balanced']\n",
    "}\n",
    "\n",
    "scorers = {'precision': make_scorer(precision_score),\n",
    "           'recall': make_scorer(recall_score),\n",
    "           'accuracy': make_scorer(accuracy_score),\n",
    "           'f1': make_scorer(f1_score)\n",
    "} \n",
    "\n",
    "imb_pipeline = make_pipeline(SMOTE(random_state=42), RandomForestClassifier(random_state=12345))\n",
    "grid_search_random_forest_balance = GridSearchCV(imb_pipeline, param_grid, cv=3, scoring=scorers, refit='f1')\n",
    "grid_search_random_forest_balance.fit(features_train, target_train)\n",
    "predictions_train = grid_search_random_forest_balance.best_estimator_.predict(features_train)\n",
    "\n",
    "\n",
    "print(\"f1: {:.3f}\".format(grid_search_random_forest_balance.best_score_)) \n",
    "print(\"Параметры лучшей модели:\", grid_search_random_forest_balance.best_params_)            "
   ]
  },
  {
   "cell_type": "code",
   "execution_count": 47,
   "metadata": {},
   "outputs": [
    {
     "data": {
      "image/png": "[encoded data removed]",
      "text/plain": [
       "<Figure size 400x300 with 2 Axes>"
      ]
     },
     "metadata": {},
     "output_type": "display_data"
    }
   ],
   "source": [
    "matrix_conf(target_train, predictions_train)"
   ]
  },
  {
   "cell_type": "markdown",
   "metadata": {},
   "source": [
    "Модель сделала 11 406 ошибок. Класс \"1\" прогнозируется намного хуже чем класс \"0\"."
   ]
  },
  {
   "cell_type": "code",
   "execution_count": 48,
   "metadata": {},
   "outputs": [],
   "source": [
    "#сохранение результатов\n",
    "results = mean_test_scorer(grid_search_random_forest_balance)\n",
    "scorers_result = model_result('rand_forest_balance', results).join(scorers_result) "
   ]
  },
  {
   "cell_type": "markdown",
   "metadata": {},
   "source": [
    "**Вывод**"
   ]
  },
  {
   "cell_type": "markdown",
   "metadata": {},
   "source": [
    "При условии максимизации метрики `f1`, результаты работы лучших моделей на тренировочной выборке выглядят следующим образом:"
   ]
  },
  {
   "cell_type": "code",
   "execution_count": 49,
   "metadata": {},
   "outputs": [
    {
     "data": {
      "text/html": [
       "<div>\n",
       "<style scoped>\n",
       "    .dataframe tbody tr th:only-of-type {\n",
       "        vertical-align: middle;\n",
       "    }\n",
       "\n",
       "    .dataframe tbody tr th {\n",
       "        vertical-align: top;\n",
       "    }\n",
       "\n",
       "    .dataframe thead th {\n",
       "        text-align: right;\n",
       "    }\n",
       "</style>\n",
       "<table border=\"1\" class=\"dataframe\">\n",
       "  <thead>\n",
       "    <tr style=\"text-align: right;\">\n",
       "      <th></th>\n",
       "      <th>rand_forest_balance</th>\n",
       "      <th>rand_forest_disbalance</th>\n",
       "      <th>dec_tree_balance</th>\n",
       "      <th>dec_tree_disbalance</th>\n",
       "      <th>log_reg_balance</th>\n",
       "      <th>log_reg_disbalance</th>\n",
       "    </tr>\n",
       "  </thead>\n",
       "  <tbody>\n",
       "    <tr>\n",
       "      <th>f1</th>\n",
       "      <td>0.595</td>\n",
       "      <td>0.581</td>\n",
       "      <td>0.563</td>\n",
       "      <td>0.633</td>\n",
       "      <td>0.562</td>\n",
       "      <td>0.563</td>\n",
       "    </tr>\n",
       "    <tr>\n",
       "      <th>precision</th>\n",
       "      <td>0.608</td>\n",
       "      <td>0.565</td>\n",
       "      <td>0.540</td>\n",
       "      <td>0.694</td>\n",
       "      <td>0.547</td>\n",
       "      <td>0.547</td>\n",
       "    </tr>\n",
       "    <tr>\n",
       "      <th>recall</th>\n",
       "      <td>0.629</td>\n",
       "      <td>0.649</td>\n",
       "      <td>0.618</td>\n",
       "      <td>0.625</td>\n",
       "      <td>0.615</td>\n",
       "      <td>0.617</td>\n",
       "    </tr>\n",
       "    <tr>\n",
       "      <th>accuracy</th>\n",
       "      <td>0.703</td>\n",
       "      <td>0.675</td>\n",
       "      <td>0.654</td>\n",
       "      <td>0.751</td>\n",
       "      <td>0.664</td>\n",
       "      <td>0.664</td>\n",
       "    </tr>\n",
       "  </tbody>\n",
       "</table>\n",
       "</div>"
      ],
      "text/plain": [
       "           rand_forest_balance  rand_forest_disbalance  dec_tree_balance  \\\n",
       "f1                       0.595                   0.581             0.563   \n",
       "precision                0.608                   0.565             0.540   \n",
       "recall                   0.629                   0.649             0.618   \n",
       "accuracy                 0.703                   0.675             0.654   \n",
       "\n",
       "           dec_tree_disbalance  log_reg_balance  log_reg_disbalance  \n",
       "f1                       0.633            0.562               0.563  \n",
       "precision                0.694            0.547               0.547  \n",
       "recall                   0.625            0.615               0.617  \n",
       "accuracy                 0.751            0.664               0.664  "
      ]
     },
     "execution_count": 49,
     "metadata": {},
     "output_type": "execute_result"
    }
   ],
   "source": [
    "scorers_result"
   ]
  },
  {
   "cell_type": "markdown",
   "metadata": {},
   "source": [
    "### Шаг 6. Результаты внедрения модели"
   ]
  },
  {
   "cell_type": "markdown",
   "metadata": {},
   "source": [
    "Принято решение использовать модель `'dec_tree_disbalance'`. Посмотрим на ее результаты на валидационной и тестовой выборке."
   ]
  },
  {
   "cell_type": "code",
   "execution_count": 50,
   "metadata": {},
   "outputs": [
    {
     "name": "stdout",
     "output_type": "stream",
     "text": [
      "f1 на тестовой выборке: 0.617\n"
     ]
    }
   ],
   "source": [
    "predictions_test = grid_search_decision_tree_disbalance.predict(features_test)\n",
    "\n",
    "print(\"f1 на тестовой выборке: {:.3f}\".format(f1_score(target_test, predictions_test)))"
   ]
  },
  {
   "cell_type": "markdown",
   "metadata": {},
   "source": [
    "Проверим нашу модель на адекватность, сравнив с исскуственной моделью:"
   ]
  },
  {
   "cell_type": "code",
   "execution_count": 51,
   "metadata": {},
   "outputs": [
    {
     "name": "stdout",
     "output_type": "stream",
     "text": [
      "Стратегия модели: most_frequent\n",
      "f1 на тестовой выборке: 0.000\n",
      "Стратегия модели: uniform\n",
      "f1 на тестовой выборке: 0.441\n"
     ]
    }
   ],
   "source": [
    "strategies = ['most_frequent', 'uniform']\n",
    "\n",
    "for strategy in strategies:\n",
    "\n",
    "    baseline_model = DummyClassifier(strategy = strategy, random_state = 12345)\n",
    "    baseline_model.fit(features_train, target_train)\n",
    "\n",
    "    predicted_train = baseline_model.predict(features_train)\n",
    "    predicted_test = baseline_model.predict(features_test)\n",
    "    \n",
    "    print('Стратегия модели:', strategy)\n",
    "    print(\"f1 на тестовой выборке: {:.3f}\".format(f1_score(target_test, predicted_test)))"
   ]
  },
  {
   "cell_type": "markdown",
   "metadata": {},
   "source": [
    "Проверку на адекватность наша модель прошла. "
   ]
  },
  {
   "cell_type": "markdown",
   "metadata": {},
   "source": [
    "Посчитаем прибыль за 8 месяцев 2017 года после внедрения модели. \n",
    "\n",
    "Входные условия: депозит 80% от стоимости номера и единоразового обслуживания."
   ]
  },
  {
   "cell_type": "code",
   "execution_count": 52,
   "metadata": {},
   "outputs": [],
   "source": [
    "predictions_test = pd.DataFrame(predictions_test, columns=['is_canceled_ml'])\n",
    "data['is_canceled_ml'] = predictions_test['is_canceled_ml']"
   ]
  },
  {
   "cell_type": "code",
   "execution_count": 53,
   "metadata": {},
   "outputs": [],
   "source": [
    "data['deposit'] = data['is_canceled']\n",
    "\n",
    "for i in range(len(data)):\n",
    "\n",
    "    if data['reserved_room_type'][i] == 'A':\n",
    "        room_cost = ROOM_COST_A\n",
    "        cleaning_cost = CLEANING_COST_A\n",
    "    elif data['reserved_room_type'][i] == 'B':\n",
    "        room_cost = ROOM_COST_B\n",
    "        cleaning_cost = CLEANING_COST_B\n",
    "    elif data['reserved_room_type'][i] == 'C':\n",
    "        room_cost = ROOM_COST_C\n",
    "        cleaning_cost = CLEANING_COST_C\n",
    "    elif data['reserved_room_type'][i] == 'D':\n",
    "        room_cost = ROOM_COST_D\n",
    "        cleaning_cost = CLEANING_COST_D    \n",
    "    elif data['reserved_room_type'][i] == 'E':\n",
    "        room_cost = ROOM_COST_E\n",
    "        cleaning_cost = CLEANING_COST_E\n",
    "    elif data['reserved_room_type'][i] == 'F':\n",
    "        room_cost = ROOM_COST_F\n",
    "        cleaning_cost = CLEANING_COST_F\n",
    "    elif data['reserved_room_type'][i] == 'G':\n",
    "        room_cost = ROOM_COST_G\n",
    "        cleaning_cost = CLEANING_COST_G    \n",
    "    else:\n",
    "        room_cost = None\n",
    "        cleaning_cost = None    \n",
    "        \n",
    "    if data['season'][i] == 1:\n",
    "        ratio = SPRING_RATIO\n",
    "    elif data['season'][i] == 2: \n",
    "        ratio = SUMMER_RATIO\n",
    "    elif data['season'][i] == 3: \n",
    "        ratio = AUTUMN_RATIO\n",
    "    elif data['season'][i] == 4: \n",
    "        ratio = WINTER_RATIO\n",
    "    else:\n",
    "        ratio = None\n",
    "\n",
    "    # подсчет депозита\n",
    "     \n",
    "    if data['is_canceled_ml'][i] == 1 and data['is_canceled'][i] == 1:\n",
    "        data['deposit'][i] = 0.8 *(room_cost * ratio + cleaning_cost)\n",
    "    else: \n",
    "        data['deposit'][i] = 0"
   ]
  },
  {
   "cell_type": "code",
   "execution_count": 54,
   "metadata": {},
   "outputs": [
    {
     "name": "stdout",
     "output_type": "stream",
     "text": [
      "Прибыль за 8 месяцев 2017 года без внедрения системы прогнозирования (млн. руб): 49.10\n",
      "Прибыль за 8 месяцев 2017 года после внедрения системы прогнозирования (млн. руб): 57.54\n"
     ]
    }
   ],
   "source": [
    "print('Прибыль за 8 месяцев 2017 года без внедрения системы прогнозирования (млн. руб): {:.2f}'\\\n",
    "      .format(data['profit'].sum()/1000000))\n",
    "print('Прибыль за 8 месяцев 2017 года после внедрения системы прогнозирования (млн. руб): {:.2f}'\\\n",
    "      .format(data['profit'].sum()/1000000 + (data['deposit'].sum())/1000000))"
   ]
  },
  {
   "cell_type": "markdown",
   "metadata": {},
   "source": [
    "Внедрение модели окупилось.\n",
    "\n",
    "Визуализируем значимость признаков нашей модели и посмотрим на данные в разрезе отмены/подтверждения заказа."
   ]
  },
  {
   "cell_type": "code",
   "execution_count": 55,
   "metadata": {},
   "outputs": [
    {
     "data": {
      "image/png": "[encoded data removed]",
      "text/plain": [
       "<Figure size 3000x1500 with 1 Axes>"
      ]
     },
     "metadata": {},
     "output_type": "display_data"
    }
   ],
   "source": [
    "model_decision_tree = DecisionTreeClassifier(random_state=12345, class_weight=None, max_depth=4, min_samples_leaf=8)\n",
    "model_decision_tree.fit(features_train, target_train)\n",
    "\n",
    "feats = {}\n",
    "for feature, importance in zip((df.drop(['is_canceled'], axis=1)).columns, model_decision_tree.feature_importances_):\n",
    "    feats[feature] = importance\n",
    "importances = pd.DataFrame.from_dict(feats, orient='index').rename(columns={0: 'Gini-Importance'})\n",
    "importances = importances.sort_values(by='Gini-Importance', ascending=False)\n",
    "importances = importances.reset_index()\n",
    "importances = importances.rename(columns={'index': 'Features'})\n",
    "sns.set(font_scale = 5)\n",
    "sns.set(style=\"whitegrid\", color_codes=True, font_scale = 1.7)\n",
    "fig, ax = plt.subplots()\n",
    "fig.set_size_inches(30,15)\n",
    "sns.barplot(x=importances['Gini-Importance'], y=importances['Features'], data=importances, color='skyblue')\n",
    "plt.xlabel('Importance', fontsize=25, weight = 'bold')\n",
    "plt.ylabel('Features', fontsize=25, weight = 'bold')\n",
    "plt.title('Feature Importance', fontsize=25, weight = 'bold')\n",
    "plt.show()"
   ]
  },
  {
   "cell_type": "code",
   "execution_count": 56,
   "metadata": {},
   "outputs": [
    {
     "data": {
      "application/vnd.jupyter.widget-view+json": {
       "model_id": "171c9a146cb04eb18cfc3bf343386a56",
       "version_major": 2,
       "version_minor": 0
      },
      "text/plain": [
       "                                             |          | [  0%]   00:00 -> (? left)"
      ]
     },
     "metadata": {},
     "output_type": "display_data"
    },
    {
     "name": "stdout",
     "output_type": "stream",
     "text": [
      "Report SWEETVIZ_REPORT_2.html was generated! NOTEBOOK/COLAB USERS: the web browser MAY not pop up, regardless, the report IS saved in your notebook/colab files.\n"
     ]
    }
   ],
   "source": [
    "df = pd.concat([data_train, data_test], ignore_index=False)\n",
    "\n",
    "feature_config = sv.FeatureConfig(force_cat = ['babies', 'required_car_parking_spaces'])\n",
    "report_2 = sv.compare_intra(df, df['is_canceled'] == 0, names = ['заказ оплачен', 'заказ отменён'], feat_cfg=feature_config)\n",
    "#report.show_notebook()\n",
    "report_2.show_html(filepath='SWEETVIZ_REPORT_2.html')"
   ]
  },
  {
   "cell_type": "markdown",
   "metadata": {},
   "source": [
    "**Общий вывод**"
   ]
  },
  {
   "cell_type": "markdown",
   "metadata": {},
   "source": [
    "Рабочей моделью для предсказания отмены заказа признана модель `\"Дерево решений\"` без применения балансировки классов и следующими параметрами:"
   ]
  },
  {
   "cell_type": "code",
   "execution_count": 57,
   "metadata": {},
   "outputs": [
    {
     "data": {
      "text/html": [
       "<style>#sk-container-id-1 {color: black;background-color: white;}#sk-container-id-1 pre{padding: 0;}#sk-container-id-1 div.sk-toggleable {background-color: white;}#sk-container-id-1 label.sk-toggleable__label {cursor: pointer;display: block;width: 100%;margin-bottom: 0;padding: 0.3em;box-sizing: border-box;text-align: center;}#sk-container-id-1 label.sk-toggleable__label-arrow:before {content: \"▸\";float: left;margin-right: 0.25em;color: #696969;}#sk-container-id-1 label.sk-toggleable__label-arrow:hover:before {color: black;}#sk-container-id-1 div.sk-estimator:hover label.sk-toggleable__label-arrow:before {color: black;}#sk-container-id-1 div.sk-toggleable__content {max-height: 0;max-width: 0;overflow: hidden;text-align: left;background-color: #f0f8ff;}#sk-container-id-1 div.sk-toggleable__content pre {margin: 0.2em;color: black;border-radius: 0.25em;background-color: #f0f8ff;}#sk-container-id-1 input.sk-toggleable__control:checked~div.sk-toggleable__content {max-height: 200px;max-width: 100%;overflow: auto;}#sk-container-id-1 input.sk-toggleable__control:checked~label.sk-toggleable__label-arrow:before {content: \"▾\";}#sk-container-id-1 div.sk-estimator input.sk-toggleable__control:checked~label.sk-toggleable__label {background-color: #d4ebff;}#sk-container-id-1 div.sk-label input.sk-toggleable__control:checked~label.sk-toggleable__label {background-color: #d4ebff;}#sk-container-id-1 input.sk-hidden--visually {border: 0;clip: rect(1px 1px 1px 1px);clip: rect(1px, 1px, 1px, 1px);height: 1px;margin: -1px;overflow: hidden;padding: 0;position: absolute;width: 1px;}#sk-container-id-1 div.sk-estimator {font-family: monospace;background-color: #f0f8ff;border: 1px dotted black;border-radius: 0.25em;box-sizing: border-box;margin-bottom: 0.5em;}#sk-container-id-1 div.sk-estimator:hover {background-color: #d4ebff;}#sk-container-id-1 div.sk-parallel-item::after {content: \"\";width: 100%;border-bottom: 1px solid gray;flex-grow: 1;}#sk-container-id-1 div.sk-label:hover label.sk-toggleable__label {background-color: #d4ebff;}#sk-container-id-1 div.sk-serial::before {content: \"\";position: absolute;border-left: 1px solid gray;box-sizing: border-box;top: 0;bottom: 0;left: 50%;z-index: 0;}#sk-container-id-1 div.sk-serial {display: flex;flex-direction: column;align-items: center;background-color: white;padding-right: 0.2em;padding-left: 0.2em;position: relative;}#sk-container-id-1 div.sk-item {position: relative;z-index: 1;}#sk-container-id-1 div.sk-parallel {display: flex;align-items: stretch;justify-content: center;background-color: white;position: relative;}#sk-container-id-1 div.sk-item::before, #sk-container-id-1 div.sk-parallel-item::before {content: \"\";position: absolute;border-left: 1px solid gray;box-sizing: border-box;top: 0;bottom: 0;left: 50%;z-index: -1;}#sk-container-id-1 div.sk-parallel-item {display: flex;flex-direction: column;z-index: 1;position: relative;background-color: white;}#sk-container-id-1 div.sk-parallel-item:first-child::after {align-self: flex-end;width: 50%;}#sk-container-id-1 div.sk-parallel-item:last-child::after {align-self: flex-start;width: 50%;}#sk-container-id-1 div.sk-parallel-item:only-child::after {width: 0;}#sk-container-id-1 div.sk-dashed-wrapped {border: 1px dashed gray;margin: 0 0.4em 0.5em 0.4em;box-sizing: border-box;padding-bottom: 0.4em;background-color: white;}#sk-container-id-1 div.sk-label label {font-family: monospace;font-weight: bold;display: inline-block;line-height: 1.2em;}#sk-container-id-1 div.sk-label-container {text-align: center;}#sk-container-id-1 div.sk-container {/* jupyter's `normalize.less` sets `[hidden] { display: none; }` but bootstrap.min.css set `[hidden] { display: none !important; }` so we also need the `!important` here to be able to override the default hidden behavior on the sphinx rendered scikit-learn.org. See: https://github.com/scikit-learn/scikit-learn/issues/21755 */display: inline-block !important;position: relative;}#sk-container-id-1 div.sk-text-repr-fallback {display: none;}</style><div id=\"sk-container-id-1\" class=\"sk-top-container\"><div class=\"sk-text-repr-fallback\"><pre>DecisionTreeClassifier(max_depth=4, min_samples_leaf=8, random_state=12345)</pre><b>In a Jupyter environment, please rerun this cell to show the HTML representation or trust the notebook. <br />On GitHub, the HTML representation is unable to render, please try loading this page with nbviewer.org.</b></div><div class=\"sk-container\" hidden><div class=\"sk-item\"><div class=\"sk-estimator sk-toggleable\"><input class=\"sk-toggleable__control sk-hidden--visually\" id=\"sk-estimator-id-1\" type=\"checkbox\" checked><label for=\"sk-estimator-id-1\" class=\"sk-toggleable__label sk-toggleable__label-arrow\">DecisionTreeClassifier</label><div class=\"sk-toggleable__content\"><pre>DecisionTreeClassifier(max_depth=4, min_samples_leaf=8, random_state=12345)</pre></div></div></div></div></div>"
      ],
      "text/plain": [
       "DecisionTreeClassifier(max_depth=4, min_samples_leaf=8, random_state=12345)"
      ]
     },
     "execution_count": 57,
     "metadata": {},
     "output_type": "execute_result"
    }
   ],
   "source": [
    "grid_search_decision_tree_disbalance.best_estimator_"
   ]
  },
  {
   "cell_type": "markdown",
   "metadata": {},
   "source": [
    "`'f1'` модели на кросс-валидации - 0.633, на тесте - 0.617.\n",
    "\n",
    "\n",
    "Значение прибыли до внедрения модели: `49,10` млн. руб.\n",
    "\n",
    "Значение прибыли после внедрения модели: `57,54` млн. руб (* без учета возможного падения спроса и налогов)\n",
    "\n",
    "Портрет потенциально ненадежного клиента:\n",
    "   \n",
    "   - наличие ранее отмененных заказов (`'previous_cancellations'`)\n",
    "   - большое кол-во дней между датой бронирования и датой прибытия (`'lead_time'`)\n",
    "   - тип заказчика `Transient`(`'customer_type'`)\n",
    "   - отсутствие специальных отметок в заказе (`'total_of_special_requests'`)\n",
    "   \n",
    "   \n",
    "   - общее кол-во ночей: 2-3 среди недели (`'total_nights'`, `'stays_in_weekend_nights'`)\n",
    "   - дата прибытия: апрель-июнь (`'arrival_date_month'`)    \n"
   ]
  }
 ],
 "metadata": {
  "ExecuteTimeLog": [
   {
    "duration": 103,
    "start_time": "2022-01-17T19:43:02.822Z"
   },
   {
    "duration": 6387,
    "start_time": "2022-01-17T19:44:43.758Z"
   },
   {
    "duration": 1244,
    "start_time": "2022-01-17T19:50:40.051Z"
   },
   {
    "duration": 414,
    "start_time": "2022-01-17T19:53:54.705Z"
   },
   {
    "duration": 17216,
    "start_time": "2022-01-17T19:55:02.096Z"
   },
   {
    "duration": 455,
    "start_time": "2022-01-17T19:55:32.007Z"
   },
   {
    "duration": 176,
    "start_time": "2022-01-17T19:56:41.624Z"
   },
   {
    "duration": 130,
    "start_time": "2022-01-17T19:58:09.160Z"
   },
   {
    "duration": 24,
    "start_time": "2022-01-17T19:58:18.872Z"
   },
   {
    "duration": 18,
    "start_time": "2022-01-17T19:58:27.441Z"
   },
   {
    "duration": 21,
    "start_time": "2022-01-17T19:58:58.401Z"
   },
   {
    "duration": 120,
    "start_time": "2022-01-17T20:06:14.101Z"
   },
   {
    "duration": 11,
    "start_time": "2022-01-17T20:06:14.761Z"
   },
   {
    "duration": 30,
    "start_time": "2022-01-17T20:06:18.557Z"
   },
   {
    "duration": 28990,
    "start_time": "2022-01-17T20:06:22.710Z"
   },
   {
    "duration": 357,
    "start_time": "2022-01-17T21:55:02.950Z"
   },
   {
    "duration": 278,
    "start_time": "2022-01-17T21:55:12.949Z"
   },
   {
    "duration": 2171,
    "start_time": "2022-01-17T21:55:16.294Z"
   },
   {
    "duration": 21455,
    "start_time": "2022-01-17T21:55:22.038Z"
   },
   {
    "duration": 794,
    "start_time": "2022-01-17T21:55:48.198Z"
   },
   {
    "duration": 183,
    "start_time": "2022-01-17T21:55:52.102Z"
   },
   {
    "duration": 7847,
    "start_time": "2022-01-17T21:55:54.245Z"
   },
   {
    "duration": 94,
    "start_time": "2022-01-17T21:56:16.822Z"
   },
   {
    "duration": 7030,
    "start_time": "2022-01-17T21:57:04.807Z"
   },
   {
    "duration": 23,
    "start_time": "2022-01-17T21:57:13.775Z"
   },
   {
    "duration": 44,
    "start_time": "2022-01-17T21:57:20.423Z"
   },
   {
    "duration": 4,
    "start_time": "2022-01-17T21:58:43.488Z"
   },
   {
    "duration": 32,
    "start_time": "2022-01-17T22:02:13.258Z"
   },
   {
    "duration": 4,
    "start_time": "2022-01-17T22:02:32.585Z"
   },
   {
    "duration": 26,
    "start_time": "2022-01-17T22:02:36.406Z"
   },
   {
    "duration": 5,
    "start_time": "2022-01-17T22:04:09.251Z"
   },
   {
    "duration": 29,
    "start_time": "2022-01-17T22:04:10.147Z"
   },
   {
    "duration": 5,
    "start_time": "2022-01-17T22:04:31.899Z"
   },
   {
    "duration": 6,
    "start_time": "2022-01-17T22:04:33.280Z"
   },
   {
    "duration": 6,
    "start_time": "2022-01-17T22:04:38.131Z"
   },
   {
    "duration": 30,
    "start_time": "2022-01-17T22:04:45.355Z"
   },
   {
    "duration": 13,
    "start_time": "2022-01-17T22:05:33.860Z"
   },
   {
    "duration": 7158,
    "start_time": "2022-01-17T22:06:10.684Z"
   },
   {
    "duration": 305,
    "start_time": "2022-01-17T22:08:28.517Z"
   },
   {
    "duration": 4,
    "start_time": "2022-01-17T22:08:36.604Z"
   },
   {
    "duration": 7,
    "start_time": "2022-01-17T22:08:44.110Z"
   },
   {
    "duration": 9,
    "start_time": "2022-01-17T22:08:51.782Z"
   },
   {
    "duration": 300,
    "start_time": "2022-01-17T22:09:05.390Z"
   },
   {
    "duration": 11,
    "start_time": "2022-01-17T22:09:29.273Z"
   },
   {
    "duration": 14,
    "start_time": "2022-01-17T22:09:58.382Z"
   },
   {
    "duration": 278,
    "start_time": "2022-01-17T22:10:25.495Z"
   },
   {
    "duration": 14,
    "start_time": "2022-01-17T22:11:27.328Z"
   },
   {
    "duration": 11,
    "start_time": "2022-01-17T22:12:19.536Z"
   },
   {
    "duration": 11,
    "start_time": "2022-01-17T22:12:37.817Z"
   },
   {
    "duration": 11,
    "start_time": "2022-01-17T22:16:06.783Z"
   },
   {
    "duration": 496,
    "start_time": "2022-01-17T22:16:47.020Z"
   },
   {
    "duration": 14,
    "start_time": "2022-01-17T22:17:05.036Z"
   },
   {
    "duration": 11,
    "start_time": "2022-01-17T22:17:06.316Z"
   },
   {
    "duration": 310,
    "start_time": "2022-01-17T22:17:50.973Z"
   },
   {
    "duration": 6,
    "start_time": "2022-01-17T22:18:11.645Z"
   },
   {
    "duration": 4,
    "start_time": "2022-01-17T22:18:42.005Z"
   },
   {
    "duration": 6,
    "start_time": "2022-01-17T22:18:45.382Z"
   },
   {
    "duration": 6,
    "start_time": "2022-01-17T22:19:08.682Z"
   },
   {
    "duration": 10,
    "start_time": "2022-01-17T22:20:38.534Z"
   },
   {
    "duration": 4,
    "start_time": "2022-01-17T22:31:27.343Z"
   },
   {
    "duration": 10,
    "start_time": "2022-01-17T22:32:13.414Z"
   },
   {
    "duration": 287,
    "start_time": "2022-01-17T22:33:46.423Z"
   },
   {
    "duration": 292,
    "start_time": "2022-01-17T22:34:06.543Z"
   },
   {
    "duration": 288,
    "start_time": "2022-01-17T22:35:17.120Z"
   },
   {
    "duration": 452,
    "start_time": "2022-01-17T22:36:02.746Z"
   },
   {
    "duration": 19,
    "start_time": "2022-01-17T22:40:32.324Z"
   },
   {
    "duration": 13,
    "start_time": "2022-01-17T22:41:37.757Z"
   },
   {
    "duration": 9,
    "start_time": "2022-01-17T22:44:06.150Z"
   },
   {
    "duration": 17,
    "start_time": "2022-01-17T22:44:13.406Z"
   },
   {
    "duration": 14,
    "start_time": "2022-01-17T22:44:23.239Z"
   },
   {
    "duration": 16,
    "start_time": "2022-01-17T22:45:53.592Z"
   },
   {
    "duration": 11,
    "start_time": "2022-01-17T22:46:10.129Z"
   },
   {
    "duration": 16,
    "start_time": "2022-01-17T22:46:11.329Z"
   },
   {
    "duration": 11,
    "start_time": "2022-01-17T22:46:24.104Z"
   },
   {
    "duration": 7490,
    "start_time": "2022-01-17T22:46:42.008Z"
   },
   {
    "duration": 8203,
    "start_time": "2022-01-17T22:46:55.185Z"
   },
   {
    "duration": 6490,
    "start_time": "2022-01-17T22:47:14.426Z"
   },
   {
    "duration": 6719,
    "start_time": "2022-01-17T22:47:34.657Z"
   },
   {
    "duration": 378,
    "start_time": "2022-01-17T22:57:57.984Z"
   },
   {
    "duration": 13,
    "start_time": "2022-01-17T22:58:33.866Z"
   },
   {
    "duration": 279,
    "start_time": "2022-01-17T22:58:39.376Z"
   },
   {
    "duration": 11,
    "start_time": "2022-01-17T23:03:10.844Z"
   },
   {
    "duration": 308,
    "start_time": "2022-01-17T23:04:51.037Z"
   },
   {
    "duration": 411,
    "start_time": "2022-01-17T23:05:10.517Z"
   },
   {
    "duration": 300,
    "start_time": "2022-01-17T23:06:10.206Z"
   },
   {
    "duration": 1092,
    "start_time": "2022-01-17T23:06:22.142Z"
   },
   {
    "duration": 10,
    "start_time": "2022-01-17T23:09:14.808Z"
   },
   {
    "duration": 19,
    "start_time": "2022-01-17T23:09:21.119Z"
   },
   {
    "duration": 1203,
    "start_time": "2022-01-17T23:10:38.609Z"
   },
   {
    "duration": 6599,
    "start_time": "2022-01-17T23:14:27.404Z"
   },
   {
    "duration": 6968,
    "start_time": "2022-01-17T23:14:58.524Z"
   },
   {
    "duration": 3636,
    "start_time": "2022-01-17T23:15:14.180Z"
   },
   {
    "duration": 10,
    "start_time": "2022-01-17T23:17:04.317Z"
   },
   {
    "duration": 324,
    "start_time": "2022-01-17T23:17:13.654Z"
   },
   {
    "duration": 281,
    "start_time": "2022-01-17T23:25:57.604Z"
   },
   {
    "duration": 14,
    "start_time": "2022-01-17T23:31:14.008Z"
   },
   {
    "duration": 18,
    "start_time": "2022-01-17T23:31:26.543Z"
   },
   {
    "duration": 22,
    "start_time": "2022-01-17T23:32:01.096Z"
   },
   {
    "duration": 21,
    "start_time": "2022-01-17T23:32:17.680Z"
   },
   {
    "duration": 397,
    "start_time": "2022-01-18T08:10:04.509Z"
   },
   {
    "duration": 23574,
    "start_time": "2022-01-18T08:10:09.500Z"
   },
   {
    "duration": 2217,
    "start_time": "2022-01-18T08:10:41.960Z"
   },
   {
    "duration": 1306,
    "start_time": "2022-01-18T08:12:39.853Z"
   },
   {
    "duration": 31,
    "start_time": "2022-01-18T08:15:24.672Z"
   },
   {
    "duration": 7,
    "start_time": "2022-01-18T08:16:51.376Z"
   },
   {
    "duration": 4,
    "start_time": "2022-01-18T09:02:22.291Z"
   },
   {
    "duration": 96,
    "start_time": "2022-01-18T09:03:16.284Z"
   },
   {
    "duration": 3,
    "start_time": "2022-01-18T09:03:23.364Z"
   },
   {
    "duration": 3,
    "start_time": "2022-01-18T09:03:59.316Z"
   },
   {
    "duration": 390,
    "start_time": "2022-01-18T09:03:59.836Z"
   },
   {
    "duration": 4201,
    "start_time": "2022-01-18T09:04:24.445Z"
   },
   {
    "duration": 4,
    "start_time": "2022-01-18T09:05:16.733Z"
   },
   {
    "duration": 2732,
    "start_time": "2022-01-18T09:05:18.845Z"
   },
   {
    "duration": 9,
    "start_time": "2022-01-18T09:12:25.873Z"
   },
   {
    "duration": 1477,
    "start_time": "2022-01-18T09:30:50.064Z"
   },
   {
    "duration": 100,
    "start_time": "2022-01-18T09:30:56.998Z"
   },
   {
    "duration": 68,
    "start_time": "2022-01-18T09:31:03.222Z"
   },
   {
    "duration": 96,
    "start_time": "2022-01-18T09:31:09.317Z"
   },
   {
    "duration": 37,
    "start_time": "2022-01-18T09:31:52.736Z"
   },
   {
    "duration": 63,
    "start_time": "2022-01-18T09:32:24.272Z"
   },
   {
    "duration": 1453,
    "start_time": "2022-01-18T09:33:29.642Z"
   },
   {
    "duration": 3,
    "start_time": "2022-01-18T09:33:57.824Z"
   },
   {
    "duration": 193,
    "start_time": "2022-01-18T09:34:10.633Z"
   },
   {
    "duration": 3,
    "start_time": "2022-01-18T09:34:39.553Z"
   },
   {
    "duration": 60,
    "start_time": "2022-01-18T09:34:40.345Z"
   },
   {
    "duration": 4,
    "start_time": "2022-01-18T09:35:41.465Z"
   },
   {
    "duration": 16005,
    "start_time": "2022-01-18T09:35:44.578Z"
   },
   {
    "duration": 4,
    "start_time": "2022-01-18T09:37:18.788Z"
   },
   {
    "duration": 780,
    "start_time": "2022-01-18T09:37:19.459Z"
   },
   {
    "duration": 9,
    "start_time": "2022-01-18T09:39:06.443Z"
   },
   {
    "duration": 207,
    "start_time": "2022-01-18T09:39:07.389Z"
   },
   {
    "duration": 3,
    "start_time": "2022-01-18T09:42:01.414Z"
   },
   {
    "duration": 205,
    "start_time": "2022-01-18T09:42:11.382Z"
   },
   {
    "duration": 3,
    "start_time": "2022-01-18T09:42:14.358Z"
   },
   {
    "duration": 631,
    "start_time": "2022-01-18T09:42:19.150Z"
   },
   {
    "duration": 4,
    "start_time": "2022-01-18T09:43:38.807Z"
   },
   {
    "duration": 1425,
    "start_time": "2022-01-18T09:43:39.424Z"
   },
   {
    "duration": 1344,
    "start_time": "2022-01-18T09:50:08.276Z"
   },
   {
    "duration": 4,
    "start_time": "2022-01-18T09:50:13.715Z"
   },
   {
    "duration": 235,
    "start_time": "2022-01-18T09:50:19.684Z"
   },
   {
    "duration": 172,
    "start_time": "2022-01-18T09:50:53.660Z"
   },
   {
    "duration": 3,
    "start_time": "2022-01-18T09:52:40.253Z"
   },
   {
    "duration": 36,
    "start_time": "2022-01-18T09:53:01.733Z"
   },
   {
    "duration": 4,
    "start_time": "2022-01-18T09:54:32.904Z"
   },
   {
    "duration": 782,
    "start_time": "2022-01-18T09:54:47.422Z"
   },
   {
    "duration": 4,
    "start_time": "2022-01-18T09:59:45.162Z"
   },
   {
    "duration": 1303,
    "start_time": "2022-01-18T09:59:45.930Z"
   },
   {
    "duration": 5,
    "start_time": "2022-01-18T10:00:10.818Z"
   },
   {
    "duration": 781,
    "start_time": "2022-01-18T10:00:12.185Z"
   },
   {
    "duration": 1363,
    "start_time": "2022-01-18T10:00:31.700Z"
   },
   {
    "duration": 5,
    "start_time": "2022-01-18T10:00:37.309Z"
   },
   {
    "duration": 790,
    "start_time": "2022-01-18T10:00:39.082Z"
   },
   {
    "duration": 5,
    "start_time": "2022-01-18T10:01:13.826Z"
   },
   {
    "duration": 1385,
    "start_time": "2022-01-18T10:01:15.507Z"
   },
   {
    "duration": 5,
    "start_time": "2022-01-18T10:52:20.334Z"
   },
   {
    "duration": 5793,
    "start_time": "2022-01-18T10:52:49.725Z"
   },
   {
    "duration": 6,
    "start_time": "2022-01-18T10:54:21.630Z"
   },
   {
    "duration": 2213,
    "start_time": "2022-01-18T10:54:24.799Z"
   },
   {
    "duration": 6,
    "start_time": "2022-01-18T10:55:17.599Z"
   },
   {
    "duration": 2259,
    "start_time": "2022-01-18T10:55:18.303Z"
   },
   {
    "duration": 4,
    "start_time": "2022-01-18T10:58:49.561Z"
   },
   {
    "duration": 5,
    "start_time": "2022-01-18T11:02:23.804Z"
   },
   {
    "duration": 1366,
    "start_time": "2022-01-18T11:02:31.238Z"
   },
   {
    "duration": 5,
    "start_time": "2022-01-18T11:02:40.588Z"
   },
   {
    "duration": 2025,
    "start_time": "2022-01-18T11:02:42.779Z"
   },
   {
    "duration": 1328,
    "start_time": "2022-01-18T11:04:00.030Z"
   },
   {
    "duration": 338,
    "start_time": "2022-01-18T11:04:04.837Z"
   },
   {
    "duration": 32,
    "start_time": "2022-01-18T11:04:15.877Z"
   },
   {
    "duration": 5,
    "start_time": "2022-01-18T11:04:18.532Z"
   },
   {
    "duration": 2039,
    "start_time": "2022-01-18T11:04:22.797Z"
   },
   {
    "duration": 524,
    "start_time": "2022-01-18T11:30:05.622Z"
   },
   {
    "duration": 3,
    "start_time": "2022-01-18T11:30:25.871Z"
   },
   {
    "duration": 645,
    "start_time": "2022-01-18T11:31:33.544Z"
   },
   {
    "duration": 310,
    "start_time": "2022-01-18T11:32:36.880Z"
   },
   {
    "duration": 4,
    "start_time": "2022-01-18T11:33:08.376Z"
   },
   {
    "duration": 1349,
    "start_time": "2022-01-18T11:39:20.815Z"
   },
   {
    "duration": 33,
    "start_time": "2022-01-18T11:39:25.556Z"
   },
   {
    "duration": 42,
    "start_time": "2022-01-18T11:39:26.468Z"
   },
   {
    "duration": 36,
    "start_time": "2022-01-18T11:40:03.684Z"
   },
   {
    "duration": 16,
    "start_time": "2022-01-18T11:40:48.013Z"
   },
   {
    "duration": 45,
    "start_time": "2022-01-18T11:40:58.501Z"
   },
   {
    "duration": 45,
    "start_time": "2022-01-18T11:43:46.977Z"
   },
   {
    "duration": 490,
    "start_time": "2022-01-18T11:51:59.924Z"
   },
   {
    "duration": 2412,
    "start_time": "2022-01-18T11:52:22.108Z"
   },
   {
    "duration": 2567,
    "start_time": "2022-01-18T11:52:29.516Z"
   },
   {
    "duration": 1311,
    "start_time": "2022-01-18T11:56:35.496Z"
   },
   {
    "duration": 1332,
    "start_time": "2022-01-18T11:56:46.103Z"
   },
   {
    "duration": 109,
    "start_time": "2022-01-18T12:00:29.243Z"
   },
   {
    "duration": 2337,
    "start_time": "2022-01-18T12:00:44.961Z"
   },
   {
    "duration": 313,
    "start_time": "2022-01-18T12:01:36.026Z"
   },
   {
    "duration": 8,
    "start_time": "2022-01-18T12:03:01.587Z"
   },
   {
    "duration": 104,
    "start_time": "2022-01-18T12:03:29.538Z"
   },
   {
    "duration": 33,
    "start_time": "2022-01-18T12:03:30.372Z"
   },
   {
    "duration": 4,
    "start_time": "2022-01-18T12:04:29.452Z"
   },
   {
    "duration": 8,
    "start_time": "2022-01-18T12:04:42.580Z"
   },
   {
    "duration": 6,
    "start_time": "2022-01-18T12:06:21.348Z"
   },
   {
    "duration": 104,
    "start_time": "2022-01-18T12:06:32.900Z"
   },
   {
    "duration": 6,
    "start_time": "2022-01-18T12:06:34.565Z"
   },
   {
    "duration": 49,
    "start_time": "2022-01-18T12:09:05.054Z"
   },
   {
    "duration": 27,
    "start_time": "2022-01-18T12:09:10.750Z"
   },
   {
    "duration": 19,
    "start_time": "2022-01-18T12:09:23.759Z"
   },
   {
    "duration": 2252,
    "start_time": "2022-01-18T12:09:39.511Z"
   },
   {
    "duration": 2519,
    "start_time": "2022-01-18T12:10:09.696Z"
   },
   {
    "duration": 4,
    "start_time": "2022-01-18T12:12:57.785Z"
   },
   {
    "duration": 2519,
    "start_time": "2022-01-18T12:21:47.264Z"
   },
   {
    "duration": 2535,
    "start_time": "2022-01-18T12:21:55.479Z"
   },
   {
    "duration": 1979,
    "start_time": "2022-01-18T12:21:58.016Z"
   },
   {
    "duration": 136,
    "start_time": "2022-01-18T12:21:59.999Z"
   },
   {
    "duration": 2309,
    "start_time": "2022-01-18T12:22:00.136Z"
   },
   {
    "duration": 3,
    "start_time": "2022-01-18T12:22:02.447Z"
   },
   {
    "duration": 53,
    "start_time": "2022-01-18T12:22:02.451Z"
   },
   {
    "duration": 14,
    "start_time": "2022-01-18T12:22:02.506Z"
   },
   {
    "duration": 8187,
    "start_time": "2022-01-18T12:22:02.522Z"
   },
   {
    "duration": 414,
    "start_time": "2022-01-18T12:22:10.711Z"
   },
   {
    "duration": 43,
    "start_time": "2022-01-18T12:25:34.002Z"
   },
   {
    "duration": 345,
    "start_time": "2022-01-18T12:25:55.040Z"
   },
   {
    "duration": 339,
    "start_time": "2022-01-18T12:26:01.113Z"
   },
   {
    "duration": 32,
    "start_time": "2022-01-18T12:26:05.785Z"
   },
   {
    "duration": 31,
    "start_time": "2022-01-18T12:26:34.416Z"
   },
   {
    "duration": 5,
    "start_time": "2022-01-18T12:39:04.778Z"
   },
   {
    "duration": 129,
    "start_time": "2022-01-18T12:39:58.227Z"
   },
   {
    "duration": 5,
    "start_time": "2022-01-18T12:39:58.699Z"
   },
   {
    "duration": 4329,
    "start_time": "2022-01-18T12:39:59.891Z"
   },
   {
    "duration": 2530,
    "start_time": "2022-01-18T12:40:44.291Z"
   },
   {
    "duration": 3,
    "start_time": "2022-01-18T12:40:46.823Z"
   },
   {
    "duration": 4,
    "start_time": "2022-01-18T12:42:34.876Z"
   },
   {
    "duration": 2871,
    "start_time": "2022-01-18T12:42:38.996Z"
   },
   {
    "duration": 28,
    "start_time": "2022-01-18T12:45:50.006Z"
   },
   {
    "duration": 15,
    "start_time": "2022-01-18T12:45:51.288Z"
   },
   {
    "duration": 1794,
    "start_time": "2022-01-18T12:45:58.367Z"
   },
   {
    "duration": 35,
    "start_time": "2022-01-18T12:55:51.365Z"
   },
   {
    "duration": 1715,
    "start_time": "2022-01-18T12:55:56.006Z"
   },
   {
    "duration": 98,
    "start_time": "2022-01-18T13:00:21.184Z"
   },
   {
    "duration": 30,
    "start_time": "2022-01-18T13:00:30.424Z"
   },
   {
    "duration": 28,
    "start_time": "2022-01-18T13:04:20.931Z"
   },
   {
    "duration": 1511,
    "start_time": "2022-01-18T13:04:23.843Z"
   },
   {
    "duration": 4,
    "start_time": "2022-01-18T13:05:04.812Z"
   },
   {
    "duration": 7,
    "start_time": "2022-01-18T13:05:20.546Z"
   },
   {
    "duration": 14,
    "start_time": "2022-01-18T13:06:32.323Z"
   },
   {
    "duration": 14,
    "start_time": "2022-01-18T13:06:39.940Z"
   },
   {
    "duration": 13,
    "start_time": "2022-01-18T13:06:45.500Z"
   },
   {
    "duration": 12,
    "start_time": "2022-01-18T13:06:50.884Z"
   },
   {
    "duration": 12,
    "start_time": "2022-01-18T13:07:00.060Z"
   },
   {
    "duration": 13,
    "start_time": "2022-01-18T13:07:08.700Z"
   },
   {
    "duration": 13,
    "start_time": "2022-01-18T13:07:14.132Z"
   },
   {
    "duration": 12,
    "start_time": "2022-01-18T13:07:21.492Z"
   },
   {
    "duration": 13,
    "start_time": "2022-01-18T13:07:27.516Z"
   },
   {
    "duration": 13,
    "start_time": "2022-01-18T13:07:34.076Z"
   },
   {
    "duration": 12,
    "start_time": "2022-01-18T13:07:38.765Z"
   },
   {
    "duration": 14,
    "start_time": "2022-01-18T13:07:42.981Z"
   },
   {
    "duration": 13,
    "start_time": "2022-01-18T13:07:46.724Z"
   },
   {
    "duration": 13,
    "start_time": "2022-01-18T13:07:51.268Z"
   },
   {
    "duration": 16,
    "start_time": "2022-01-18T13:07:55.764Z"
   },
   {
    "duration": 19,
    "start_time": "2022-01-18T13:09:48.918Z"
   },
   {
    "duration": 18,
    "start_time": "2022-01-18T13:09:53.118Z"
   },
   {
    "duration": 30,
    "start_time": "2022-01-18T13:10:28.046Z"
   },
   {
    "duration": 34,
    "start_time": "2022-01-18T13:10:48.855Z"
   },
   {
    "duration": 32,
    "start_time": "2022-01-18T13:12:00.976Z"
   },
   {
    "duration": 16,
    "start_time": "2022-01-18T13:12:21.400Z"
   },
   {
    "duration": 30,
    "start_time": "2022-01-18T13:12:26.447Z"
   },
   {
    "duration": 14,
    "start_time": "2022-01-18T13:12:26.873Z"
   },
   {
    "duration": 13,
    "start_time": "2022-01-18T13:16:30.683Z"
   },
   {
    "duration": 6,
    "start_time": "2022-01-18T13:16:37.042Z"
   },
   {
    "duration": 2183,
    "start_time": "2022-01-18T13:16:37.643Z"
   },
   {
    "duration": 29,
    "start_time": "2022-01-18T13:16:39.828Z"
   },
   {
    "duration": 17,
    "start_time": "2022-01-18T13:16:40.363Z"
   },
   {
    "duration": 33,
    "start_time": "2022-01-18T13:21:25.883Z"
   },
   {
    "duration": 2347,
    "start_time": "2022-01-18T13:40:20.819Z"
   },
   {
    "duration": 328,
    "start_time": "2022-01-18T14:46:27.196Z"
   },
   {
    "duration": 339,
    "start_time": "2022-01-18T14:46:42.696Z"
   },
   {
    "duration": 298,
    "start_time": "2022-01-18T14:46:43.184Z"
   },
   {
    "duration": 2045,
    "start_time": "2022-01-18T14:46:47.809Z"
   },
   {
    "duration": 122,
    "start_time": "2022-01-18T14:47:05.577Z"
   },
   {
    "duration": 5,
    "start_time": "2022-01-18T14:47:07.057Z"
   },
   {
    "duration": 2321,
    "start_time": "2022-01-18T14:47:07.916Z"
   },
   {
    "duration": 22,
    "start_time": "2022-01-18T14:47:17.417Z"
   },
   {
    "duration": 2520,
    "start_time": "2022-01-18T14:47:44.658Z"
   },
   {
    "duration": 14,
    "start_time": "2022-01-18T14:47:53.410Z"
   },
   {
    "duration": 3317,
    "start_time": "2022-01-18T14:57:48.984Z"
   },
   {
    "duration": 4147,
    "start_time": "2022-01-18T14:58:51.953Z"
   },
   {
    "duration": 101,
    "start_time": "2022-01-18T14:59:35.539Z"
   },
   {
    "duration": 3448,
    "start_time": "2022-01-18T14:59:46.398Z"
   },
   {
    "duration": 2980,
    "start_time": "2022-01-18T15:00:24.091Z"
   },
   {
    "duration": 2930,
    "start_time": "2022-01-18T15:03:51.517Z"
   },
   {
    "duration": 519,
    "start_time": "2022-01-18T15:03:56.148Z"
   },
   {
    "duration": 12,
    "start_time": "2022-01-18T15:04:17.652Z"
   },
   {
    "duration": 827,
    "start_time": "2022-01-18T15:10:47.321Z"
   },
   {
    "duration": 3018,
    "start_time": "2022-01-18T15:11:20.117Z"
   },
   {
    "duration": 337,
    "start_time": "2022-01-18T15:12:09.210Z"
   },
   {
    "duration": 1200,
    "start_time": "2022-01-18T15:13:33.603Z"
   },
   {
    "duration": 15,
    "start_time": "2022-01-18T15:13:40.036Z"
   },
   {
    "duration": 1168,
    "start_time": "2022-01-18T15:17:01.006Z"
   },
   {
    "duration": 18,
    "start_time": "2022-01-18T15:17:03.766Z"
   },
   {
    "duration": 1095,
    "start_time": "2022-01-18T15:17:44.014Z"
   },
   {
    "duration": 17,
    "start_time": "2022-01-18T15:17:46.175Z"
   },
   {
    "duration": 2434,
    "start_time": "2022-01-18T15:23:19.160Z"
   },
   {
    "duration": 2084,
    "start_time": "2022-01-18T15:23:21.596Z"
   },
   {
    "duration": 2024,
    "start_time": "2022-01-18T15:23:23.682Z"
   },
   {
    "duration": 120,
    "start_time": "2022-01-18T15:23:25.708Z"
   },
   {
    "duration": 5,
    "start_time": "2022-01-18T15:23:25.829Z"
   },
   {
    "duration": 2260,
    "start_time": "2022-01-18T15:23:25.836Z"
   },
   {
    "duration": 1200,
    "start_time": "2022-01-18T15:23:28.098Z"
   },
   {
    "duration": 18,
    "start_time": "2022-01-18T15:23:29.301Z"
   },
   {
    "duration": 16,
    "start_time": "2022-01-18T15:23:29.321Z"
   },
   {
    "duration": 33,
    "start_time": "2022-01-18T15:23:29.339Z"
   },
   {
    "duration": 13098,
    "start_time": "2022-01-18T15:23:29.374Z"
   },
   {
    "duration": 133,
    "start_time": "2022-01-18T15:30:49.873Z"
   },
   {
    "duration": 5,
    "start_time": "2022-01-18T15:30:50.681Z"
   },
   {
    "duration": 2383,
    "start_time": "2022-01-18T15:30:51.398Z"
   },
   {
    "duration": 1150,
    "start_time": "2022-01-18T15:30:55.361Z"
   },
   {
    "duration": 29,
    "start_time": "2022-01-18T15:30:56.513Z"
   },
   {
    "duration": 16,
    "start_time": "2022-01-18T15:30:57.785Z"
   },
   {
    "duration": 7,
    "start_time": "2022-01-18T17:29:04.457Z"
   },
   {
    "duration": 640,
    "start_time": "2022-01-18T17:43:23.814Z"
   },
   {
    "duration": 6,
    "start_time": "2022-01-18T17:43:38.628Z"
   },
   {
    "duration": 6,
    "start_time": "2022-01-18T17:46:48.521Z"
   },
   {
    "duration": 299,
    "start_time": "2022-01-18T17:57:45.797Z"
   },
   {
    "duration": 16,
    "start_time": "2022-01-18T18:29:58.574Z"
   },
   {
    "duration": 10,
    "start_time": "2022-01-18T18:32:25.966Z"
   },
   {
    "duration": 11,
    "start_time": "2022-01-18T18:33:46.910Z"
   },
   {
    "duration": 10,
    "start_time": "2022-01-18T18:36:23.857Z"
   },
   {
    "duration": 325,
    "start_time": "2022-01-18T18:39:08.075Z"
   },
   {
    "duration": 13,
    "start_time": "2022-01-18T18:39:15.381Z"
   },
   {
    "duration": 121,
    "start_time": "2022-01-18T18:45:13.310Z"
   },
   {
    "duration": 5,
    "start_time": "2022-01-18T18:45:14.375Z"
   },
   {
    "duration": 2318,
    "start_time": "2022-01-18T18:45:15.132Z"
   },
   {
    "duration": 13,
    "start_time": "2022-01-18T18:45:32.483Z"
   },
   {
    "duration": 321,
    "start_time": "2022-01-18T18:48:12.064Z"
   },
   {
    "duration": 508,
    "start_time": "2022-01-18T18:54:38.789Z"
   },
   {
    "duration": 1143,
    "start_time": "2022-01-18T18:55:03.565Z"
   },
   {
    "duration": 12,
    "start_time": "2022-01-18T18:57:48.287Z"
   },
   {
    "duration": 11,
    "start_time": "2022-01-18T18:59:04.383Z"
   },
   {
    "duration": 94,
    "start_time": "2022-01-18T19:00:35.673Z"
   },
   {
    "duration": 338,
    "start_time": "2022-01-18T19:00:48.593Z"
   },
   {
    "duration": 303,
    "start_time": "2022-01-18T19:01:08.305Z"
   },
   {
    "duration": 13,
    "start_time": "2022-01-18T19:01:15.689Z"
   },
   {
    "duration": 1107,
    "start_time": "2022-01-18T19:04:34.163Z"
   },
   {
    "duration": 14,
    "start_time": "2022-01-18T19:07:07.596Z"
   },
   {
    "duration": 517,
    "start_time": "2022-01-18T19:11:21.184Z"
   },
   {
    "duration": 15,
    "start_time": "2022-01-18T19:11:47.760Z"
   },
   {
    "duration": 16,
    "start_time": "2022-01-18T19:13:59.682Z"
   },
   {
    "duration": 585,
    "start_time": "2022-01-18T19:20:35.189Z"
   },
   {
    "duration": 17,
    "start_time": "2022-01-18T19:23:09.672Z"
   },
   {
    "duration": 17,
    "start_time": "2022-01-18T19:24:15.137Z"
   },
   {
    "duration": 3880,
    "start_time": "2022-01-18T19:25:03.249Z"
   },
   {
    "duration": 18,
    "start_time": "2022-01-18T19:25:18.986Z"
   },
   {
    "duration": 613,
    "start_time": "2022-01-18T19:50:46.507Z"
   },
   {
    "duration": 618,
    "start_time": "2022-01-18T19:51:18.515Z"
   },
   {
    "duration": 14,
    "start_time": "2022-01-18T20:37:27.851Z"
   },
   {
    "duration": 3797,
    "start_time": "2022-01-18T20:37:48.163Z"
   },
   {
    "duration": 601,
    "start_time": "2022-01-18T20:38:20.140Z"
   },
   {
    "duration": 4579,
    "start_time": "2022-01-18T20:40:43.151Z"
   },
   {
    "duration": 6,
    "start_time": "2022-01-18T20:40:58.957Z"
   },
   {
    "duration": 16,
    "start_time": "2022-01-18T20:41:07.517Z"
   },
   {
    "duration": 15,
    "start_time": "2022-01-18T20:45:51.418Z"
   },
   {
    "duration": 15,
    "start_time": "2022-01-18T20:46:04.954Z"
   },
   {
    "duration": 16,
    "start_time": "2022-01-18T20:46:19.497Z"
   },
   {
    "duration": 19,
    "start_time": "2022-01-18T21:06:36.353Z"
   },
   {
    "duration": 303,
    "start_time": "2022-01-18T21:08:56.419Z"
   },
   {
    "duration": 357,
    "start_time": "2022-01-18T21:09:26.010Z"
   },
   {
    "duration": 572,
    "start_time": "2022-01-18T21:09:51.835Z"
   },
   {
    "duration": 13187,
    "start_time": "2022-01-18T21:10:31.419Z"
   },
   {
    "duration": 2790,
    "start_time": "2022-01-18T21:16:37.113Z"
   },
   {
    "duration": 12,
    "start_time": "2022-01-18T21:18:44.474Z"
   },
   {
    "duration": 17,
    "start_time": "2022-01-18T21:19:11.674Z"
   },
   {
    "duration": 16,
    "start_time": "2022-01-18T21:19:29.873Z"
   },
   {
    "duration": 760,
    "start_time": "2022-01-18T21:19:50.578Z"
   },
   {
    "duration": 17,
    "start_time": "2022-01-18T21:20:00.762Z"
   },
   {
    "duration": 359,
    "start_time": "2022-01-18T21:21:44.412Z"
   },
   {
    "duration": 307,
    "start_time": "2022-01-18T21:21:56.476Z"
   },
   {
    "duration": 315,
    "start_time": "2022-01-18T21:23:50.229Z"
   },
   {
    "duration": 11,
    "start_time": "2022-01-18T21:24:18.493Z"
   },
   {
    "duration": 11,
    "start_time": "2022-01-18T21:35:26.822Z"
   },
   {
    "duration": 15336,
    "start_time": "2022-01-19T07:38:33.435Z"
   },
   {
    "duration": 2251,
    "start_time": "2022-01-19T07:38:48.775Z"
   },
   {
    "duration": 2516,
    "start_time": "2022-01-19T07:38:51.031Z"
   },
   {
    "duration": 217,
    "start_time": "2022-01-19T07:38:53.548Z"
   },
   {
    "duration": 5,
    "start_time": "2022-01-19T07:38:53.767Z"
   },
   {
    "duration": 2425,
    "start_time": "2022-01-19T07:38:53.774Z"
   },
   {
    "duration": 32,
    "start_time": "2022-01-19T07:38:56.202Z"
   },
   {
    "duration": 109,
    "start_time": "2022-01-19T07:38:56.236Z"
   },
   {
    "duration": 28,
    "start_time": "2022-01-19T07:38:56.347Z"
   },
   {
    "duration": 13,
    "start_time": "2022-01-19T07:38:56.377Z"
   },
   {
    "duration": 38,
    "start_time": "2022-01-19T07:38:56.392Z"
   },
   {
    "duration": 10975,
    "start_time": "2022-01-19T07:38:56.432Z"
   },
   {
    "duration": 12,
    "start_time": "2022-01-19T07:39:46.940Z"
   },
   {
    "duration": 385,
    "start_time": "2022-01-19T07:39:53.868Z"
   },
   {
    "duration": 2335,
    "start_time": "2022-01-19T07:40:03.028Z"
   },
   {
    "duration": 2494,
    "start_time": "2022-01-19T07:40:13.364Z"
   },
   {
    "duration": 15,
    "start_time": "2022-01-19T07:40:25.444Z"
   },
   {
    "duration": 17,
    "start_time": "2022-01-19T07:40:32.444Z"
   },
   {
    "duration": 17,
    "start_time": "2022-01-19T07:40:41.204Z"
   },
   {
    "duration": 20,
    "start_time": "2022-01-19T07:40:49.484Z"
   },
   {
    "duration": 20,
    "start_time": "2022-01-19T07:46:08.008Z"
   },
   {
    "duration": 23,
    "start_time": "2022-01-19T07:46:15.329Z"
   },
   {
    "duration": 20,
    "start_time": "2022-01-19T07:46:25.912Z"
   },
   {
    "duration": 255,
    "start_time": "2022-01-19T07:51:16.971Z"
   },
   {
    "duration": 292,
    "start_time": "2022-01-19T07:51:31.460Z"
   },
   {
    "duration": 20,
    "start_time": "2022-01-19T07:51:42.179Z"
   },
   {
    "duration": 22,
    "start_time": "2022-01-19T07:52:00.507Z"
   },
   {
    "duration": 20,
    "start_time": "2022-01-19T07:52:43.892Z"
   },
   {
    "duration": 20,
    "start_time": "2022-01-19T07:53:23.156Z"
   },
   {
    "duration": 22,
    "start_time": "2022-01-19T07:53:29.371Z"
   },
   {
    "duration": 1057,
    "start_time": "2022-01-19T07:53:41.836Z"
   },
   {
    "duration": 940,
    "start_time": "2022-01-19T07:53:47.500Z"
   },
   {
    "duration": 20,
    "start_time": "2022-01-19T07:54:06.029Z"
   },
   {
    "duration": 18,
    "start_time": "2022-01-19T07:54:17.301Z"
   },
   {
    "duration": 20,
    "start_time": "2022-01-19T07:54:22.181Z"
   },
   {
    "duration": 19,
    "start_time": "2022-01-19T07:54:29.457Z"
   },
   {
    "duration": 20,
    "start_time": "2022-01-19T07:55:03.685Z"
   },
   {
    "duration": 154,
    "start_time": "2022-01-19T07:55:11.005Z"
   },
   {
    "duration": 19,
    "start_time": "2022-01-19T07:55:29.069Z"
   },
   {
    "duration": 25,
    "start_time": "2022-01-19T08:00:06.401Z"
   },
   {
    "duration": 7,
    "start_time": "2022-01-19T08:00:08.592Z"
   },
   {
    "duration": 25,
    "start_time": "2022-01-19T08:01:20.882Z"
   },
   {
    "duration": 6,
    "start_time": "2022-01-19T08:01:23.857Z"
   },
   {
    "duration": 26,
    "start_time": "2022-01-19T08:02:30.330Z"
   },
   {
    "duration": 11,
    "start_time": "2022-01-19T08:03:25.042Z"
   },
   {
    "duration": 10,
    "start_time": "2022-01-19T08:04:02.387Z"
   },
   {
    "duration": 16,
    "start_time": "2022-01-19T08:15:29.349Z"
   },
   {
    "duration": 263,
    "start_time": "2022-01-19T08:17:16.478Z"
   },
   {
    "duration": 417,
    "start_time": "2022-01-19T08:18:05.717Z"
   },
   {
    "duration": 248,
    "start_time": "2022-01-19T08:19:47.262Z"
   },
   {
    "duration": 311,
    "start_time": "2022-01-19T08:22:36.137Z"
   },
   {
    "duration": 303,
    "start_time": "2022-01-19T08:22:59.921Z"
   },
   {
    "duration": 257,
    "start_time": "2022-01-19T08:23:04.617Z"
   },
   {
    "duration": 14,
    "start_time": "2022-01-19T08:24:24.513Z"
   },
   {
    "duration": 306,
    "start_time": "2022-01-19T08:29:05.381Z"
   },
   {
    "duration": 17,
    "start_time": "2022-01-19T08:29:12.422Z"
   },
   {
    "duration": 13,
    "start_time": "2022-01-19T08:30:56.815Z"
   },
   {
    "duration": 16,
    "start_time": "2022-01-19T08:31:07.055Z"
   },
   {
    "duration": 10,
    "start_time": "2022-01-19T08:31:33.920Z"
   },
   {
    "duration": 19,
    "start_time": "2022-01-19T08:31:42.871Z"
   },
   {
    "duration": 3,
    "start_time": "2022-01-19T08:35:36.674Z"
   },
   {
    "duration": 20,
    "start_time": "2022-01-19T08:36:10.195Z"
   },
   {
    "duration": 19,
    "start_time": "2022-01-19T08:36:27.547Z"
   },
   {
    "duration": 3,
    "start_time": "2022-01-19T08:37:43.939Z"
   },
   {
    "duration": 532,
    "start_time": "2022-01-19T08:39:27.476Z"
   },
   {
    "duration": 18,
    "start_time": "2022-01-19T08:39:33.901Z"
   },
   {
    "duration": 18,
    "start_time": "2022-01-19T08:39:41.469Z"
   },
   {
    "duration": 19,
    "start_time": "2022-01-19T08:39:59.037Z"
   },
   {
    "duration": 18,
    "start_time": "2022-01-19T08:40:09.326Z"
   },
   {
    "duration": 17,
    "start_time": "2022-01-19T08:40:59.798Z"
   },
   {
    "duration": 10,
    "start_time": "2022-01-19T08:41:09.494Z"
   },
   {
    "duration": 17,
    "start_time": "2022-01-19T08:41:50.447Z"
   },
   {
    "duration": 17,
    "start_time": "2022-01-19T08:41:57.935Z"
   },
   {
    "duration": 17,
    "start_time": "2022-01-19T08:42:05.663Z"
   },
   {
    "duration": 24,
    "start_time": "2022-01-19T08:43:53.816Z"
   },
   {
    "duration": 3,
    "start_time": "2022-01-19T08:45:10.138Z"
   },
   {
    "duration": 10,
    "start_time": "2022-01-19T08:45:12.801Z"
   },
   {
    "duration": 621,
    "start_time": "2022-01-19T08:47:43.563Z"
   },
   {
    "duration": 247,
    "start_time": "2022-01-19T08:47:54.676Z"
   },
   {
    "duration": 271,
    "start_time": "2022-01-19T08:48:07.757Z"
   },
   {
    "duration": 5,
    "start_time": "2022-01-19T08:48:22.060Z"
   },
   {
    "duration": 10,
    "start_time": "2022-01-19T08:48:25.948Z"
   },
   {
    "duration": 287,
    "start_time": "2022-01-19T08:48:57.964Z"
   },
   {
    "duration": 253,
    "start_time": "2022-01-19T08:49:10.460Z"
   },
   {
    "duration": 12,
    "start_time": "2022-01-19T08:49:20.244Z"
   },
   {
    "duration": 15,
    "start_time": "2022-01-19T08:49:36.845Z"
   },
   {
    "duration": 15,
    "start_time": "2022-01-19T08:53:10.528Z"
   },
   {
    "duration": 295,
    "start_time": "2022-01-19T08:53:52.476Z"
   },
   {
    "duration": 268,
    "start_time": "2022-01-19T08:54:14.441Z"
   },
   {
    "duration": 286,
    "start_time": "2022-01-19T08:54:33.915Z"
   },
   {
    "duration": 13,
    "start_time": "2022-01-19T08:55:17.257Z"
   },
   {
    "duration": 17,
    "start_time": "2022-01-19T08:55:41.666Z"
   },
   {
    "duration": 15,
    "start_time": "2022-01-19T08:56:11.361Z"
   },
   {
    "duration": 14,
    "start_time": "2022-01-19T08:57:34.874Z"
   },
   {
    "duration": 35,
    "start_time": "2022-01-19T08:57:44.242Z"
   },
   {
    "duration": 17,
    "start_time": "2022-01-19T08:57:59.835Z"
   },
   {
    "duration": 28,
    "start_time": "2022-01-19T08:58:06.203Z"
   },
   {
    "duration": 548,
    "start_time": "2022-01-19T08:58:25.507Z"
   },
   {
    "duration": 266,
    "start_time": "2022-01-19T08:58:33.772Z"
   },
   {
    "duration": 328,
    "start_time": "2022-01-19T09:02:17.079Z"
   },
   {
    "duration": 10,
    "start_time": "2022-01-19T09:02:41.022Z"
   },
   {
    "duration": 368,
    "start_time": "2022-01-19T09:03:09.927Z"
   },
   {
    "duration": 265,
    "start_time": "2022-01-19T09:03:24.439Z"
   },
   {
    "duration": 307,
    "start_time": "2022-01-19T09:16:37.752Z"
   },
   {
    "duration": 10,
    "start_time": "2022-01-19T09:18:26.993Z"
   },
   {
    "duration": 10,
    "start_time": "2022-01-19T09:19:38.042Z"
   },
   {
    "duration": 15,
    "start_time": "2022-01-19T09:20:01.876Z"
   },
   {
    "duration": 7,
    "start_time": "2022-01-19T09:20:10.754Z"
   },
   {
    "duration": 25,
    "start_time": "2022-01-19T09:20:43.236Z"
   },
   {
    "duration": 270,
    "start_time": "2022-01-19T09:21:14.885Z"
   },
   {
    "duration": 359,
    "start_time": "2022-01-19T09:23:14.406Z"
   },
   {
    "duration": 281,
    "start_time": "2022-01-19T09:23:29.967Z"
   },
   {
    "duration": 264,
    "start_time": "2022-01-19T09:23:35.127Z"
   },
   {
    "duration": 297,
    "start_time": "2022-01-19T09:23:44.022Z"
   },
   {
    "duration": 26,
    "start_time": "2022-01-19T09:25:51.568Z"
   },
   {
    "duration": 21,
    "start_time": "2022-01-19T09:26:15.857Z"
   },
   {
    "duration": 6,
    "start_time": "2022-01-19T09:26:24.729Z"
   },
   {
    "duration": 21,
    "start_time": "2022-01-19T09:30:57.500Z"
   },
   {
    "duration": 6,
    "start_time": "2022-01-19T09:30:58.165Z"
   },
   {
    "duration": 21,
    "start_time": "2022-01-19T09:31:09.033Z"
   },
   {
    "duration": 15,
    "start_time": "2022-01-19T09:31:09.056Z"
   },
   {
    "duration": 19,
    "start_time": "2022-01-19T09:31:18.708Z"
   },
   {
    "duration": 6,
    "start_time": "2022-01-19T09:31:19.229Z"
   },
   {
    "duration": 19,
    "start_time": "2022-01-19T09:31:41.237Z"
   },
   {
    "duration": 6,
    "start_time": "2022-01-19T09:31:42.117Z"
   },
   {
    "duration": 27,
    "start_time": "2022-01-19T09:32:32.037Z"
   },
   {
    "duration": 20,
    "start_time": "2022-01-19T09:32:50.438Z"
   },
   {
    "duration": 6,
    "start_time": "2022-01-19T09:32:51.446Z"
   },
   {
    "duration": 270,
    "start_time": "2022-01-19T09:33:35.454Z"
   },
   {
    "duration": 6,
    "start_time": "2022-01-19T09:33:51.983Z"
   },
   {
    "duration": 242,
    "start_time": "2022-01-19T09:35:12.751Z"
   },
   {
    "duration": 7,
    "start_time": "2022-01-19T09:35:19.887Z"
   },
   {
    "duration": 22,
    "start_time": "2022-01-19T09:35:37.327Z"
   },
   {
    "duration": 6,
    "start_time": "2022-01-19T09:35:38.927Z"
   },
   {
    "duration": 17,
    "start_time": "2022-01-19T09:37:07.162Z"
   },
   {
    "duration": 6,
    "start_time": "2022-01-19T09:37:26.102Z"
   },
   {
    "duration": 6,
    "start_time": "2022-01-19T09:37:32.577Z"
   },
   {
    "duration": 14,
    "start_time": "2022-01-19T09:38:41.393Z"
   },
   {
    "duration": 8,
    "start_time": "2022-01-19T09:38:41.826Z"
   },
   {
    "duration": 26,
    "start_time": "2022-01-19T09:39:46.739Z"
   },
   {
    "duration": 6,
    "start_time": "2022-01-19T09:39:47.267Z"
   },
   {
    "duration": 19,
    "start_time": "2022-01-19T09:40:12.027Z"
   },
   {
    "duration": 7,
    "start_time": "2022-01-19T09:40:12.547Z"
   },
   {
    "duration": 19,
    "start_time": "2022-01-19T09:41:13.283Z"
   },
   {
    "duration": 6,
    "start_time": "2022-01-19T09:41:14.971Z"
   },
   {
    "duration": 19,
    "start_time": "2022-01-19T09:41:25.564Z"
   },
   {
    "duration": 6,
    "start_time": "2022-01-19T09:41:26.093Z"
   },
   {
    "duration": 1061,
    "start_time": "2022-01-19T09:41:56.228Z"
   },
   {
    "duration": 786,
    "start_time": "2022-01-19T09:41:56.505Z"
   },
   {
    "duration": 274,
    "start_time": "2022-01-19T09:42:03.212Z"
   },
   {
    "duration": 22,
    "start_time": "2022-01-19T09:42:08.844Z"
   },
   {
    "duration": 8,
    "start_time": "2022-01-19T09:42:10.460Z"
   },
   {
    "duration": 20,
    "start_time": "2022-01-19T09:42:20.748Z"
   },
   {
    "duration": 6,
    "start_time": "2022-01-19T09:42:21.460Z"
   },
   {
    "duration": 290,
    "start_time": "2022-01-19T09:43:00.988Z"
   },
   {
    "duration": 7,
    "start_time": "2022-01-19T09:43:01.535Z"
   },
   {
    "duration": 383,
    "start_time": "2022-01-19T09:43:10.677Z"
   },
   {
    "duration": 28,
    "start_time": "2022-01-19T09:43:30.621Z"
   },
   {
    "duration": 397,
    "start_time": "2022-01-19T09:43:38.517Z"
   },
   {
    "duration": 18,
    "start_time": "2022-01-19T09:43:44.670Z"
   },
   {
    "duration": 6,
    "start_time": "2022-01-19T09:43:46.438Z"
   },
   {
    "duration": 21,
    "start_time": "2022-01-19T09:43:57.453Z"
   },
   {
    "duration": 6,
    "start_time": "2022-01-19T09:43:59.805Z"
   },
   {
    "duration": 20,
    "start_time": "2022-01-19T09:44:15.478Z"
   },
   {
    "duration": 6,
    "start_time": "2022-01-19T09:44:15.958Z"
   },
   {
    "duration": 15,
    "start_time": "2022-01-19T09:44:57.351Z"
   },
   {
    "duration": 259,
    "start_time": "2022-01-19T09:45:02.706Z"
   },
   {
    "duration": 316,
    "start_time": "2022-01-19T09:45:16.151Z"
   },
   {
    "duration": 14,
    "start_time": "2022-01-19T09:45:38.182Z"
   },
   {
    "duration": 6,
    "start_time": "2022-01-19T09:45:47.207Z"
   },
   {
    "duration": 15,
    "start_time": "2022-01-19T09:46:26.640Z"
   },
   {
    "duration": 13,
    "start_time": "2022-01-19T09:46:32.088Z"
   },
   {
    "duration": 6,
    "start_time": "2022-01-19T09:46:49.504Z"
   },
   {
    "duration": 15,
    "start_time": "2022-01-19T09:46:50.672Z"
   },
   {
    "duration": 12,
    "start_time": "2022-01-19T09:46:51.576Z"
   },
   {
    "duration": 284,
    "start_time": "2022-01-19T09:47:13.481Z"
   },
   {
    "duration": 9,
    "start_time": "2022-01-19T09:48:17.137Z"
   },
   {
    "duration": 332,
    "start_time": "2022-01-19T09:48:21.026Z"
   },
   {
    "duration": 12,
    "start_time": "2022-01-19T09:48:29.963Z"
   },
   {
    "duration": 14,
    "start_time": "2022-01-19T09:48:52.930Z"
   },
   {
    "duration": 11,
    "start_time": "2022-01-19T09:49:02.738Z"
   },
   {
    "duration": 19,
    "start_time": "2022-01-19T09:49:29.778Z"
   },
   {
    "duration": 6,
    "start_time": "2022-01-19T09:49:30.522Z"
   },
   {
    "duration": 20,
    "start_time": "2022-01-19T09:49:36.393Z"
   },
   {
    "duration": 7,
    "start_time": "2022-01-19T09:49:41.842Z"
   },
   {
    "duration": 11,
    "start_time": "2022-01-19T09:49:43.034Z"
   },
   {
    "duration": 12,
    "start_time": "2022-01-19T09:49:48.674Z"
   },
   {
    "duration": 13,
    "start_time": "2022-01-19T09:50:02.147Z"
   },
   {
    "duration": 19,
    "start_time": "2022-01-19T09:50:26.602Z"
   },
   {
    "duration": 14,
    "start_time": "2022-01-19T09:50:32.235Z"
   },
   {
    "duration": 10,
    "start_time": "2022-01-19T09:50:43.883Z"
   },
   {
    "duration": 14,
    "start_time": "2022-01-19T09:50:51.931Z"
   },
   {
    "duration": 14,
    "start_time": "2022-01-19T09:52:10.388Z"
   },
   {
    "duration": 15,
    "start_time": "2022-01-19T09:52:21.733Z"
   },
   {
    "duration": 17,
    "start_time": "2022-01-19T09:52:52.541Z"
   },
   {
    "duration": 20,
    "start_time": "2022-01-19T09:56:08.894Z"
   },
   {
    "duration": 7,
    "start_time": "2022-01-19T09:56:10.055Z"
   },
   {
    "duration": 933,
    "start_time": "2022-01-19T09:56:21.327Z"
   },
   {
    "duration": 1119,
    "start_time": "2022-01-19T09:56:29.928Z"
   },
   {
    "duration": 7,
    "start_time": "2022-01-19T09:56:40.407Z"
   },
   {
    "duration": 20,
    "start_time": "2022-01-19T09:58:40.081Z"
   },
   {
    "duration": 6,
    "start_time": "2022-01-19T09:58:40.658Z"
   },
   {
    "duration": 23,
    "start_time": "2022-01-19T09:58:55.696Z"
   },
   {
    "duration": 3203,
    "start_time": "2022-01-19T09:59:01.305Z"
   },
   {
    "duration": 19,
    "start_time": "2022-01-19T09:59:32.289Z"
   },
   {
    "duration": 3060,
    "start_time": "2022-01-19T09:59:34.345Z"
   },
   {
    "duration": 6,
    "start_time": "2022-01-19T09:59:39.033Z"
   },
   {
    "duration": 11,
    "start_time": "2022-01-19T10:00:52.282Z"
   },
   {
    "duration": 17,
    "start_time": "2022-01-19T10:00:55.657Z"
   },
   {
    "duration": 12,
    "start_time": "2022-01-19T10:01:17.219Z"
   },
   {
    "duration": 21,
    "start_time": "2022-01-19T10:01:41.623Z"
   },
   {
    "duration": 12,
    "start_time": "2022-01-19T10:01:42.578Z"
   },
   {
    "duration": 12,
    "start_time": "2022-01-19T10:01:49.691Z"
   },
   {
    "duration": 12,
    "start_time": "2022-01-19T10:02:28.283Z"
   },
   {
    "duration": 3,
    "start_time": "2022-01-19T10:02:56.083Z"
   },
   {
    "duration": 3,
    "start_time": "2022-01-19T10:04:13.436Z"
   },
   {
    "duration": 8,
    "start_time": "2022-01-19T10:07:59.955Z"
   },
   {
    "duration": 3943,
    "start_time": "2022-01-19T10:09:03.008Z"
   },
   {
    "duration": 3,
    "start_time": "2022-01-19T10:09:38.977Z"
   },
   {
    "duration": 3,
    "start_time": "2022-01-19T10:09:49.481Z"
   },
   {
    "duration": 4291,
    "start_time": "2022-01-19T10:10:28.617Z"
   },
   {
    "duration": 4,
    "start_time": "2022-01-19T10:10:55.290Z"
   },
   {
    "duration": 2,
    "start_time": "2022-01-19T10:11:22.289Z"
   },
   {
    "duration": 8,
    "start_time": "2022-01-19T10:11:49.204Z"
   },
   {
    "duration": 5,
    "start_time": "2022-01-19T10:11:57.490Z"
   },
   {
    "duration": 18,
    "start_time": "2022-01-19T10:12:26.850Z"
   },
   {
    "duration": 7,
    "start_time": "2022-01-19T10:13:36.995Z"
   },
   {
    "duration": 18,
    "start_time": "2022-01-19T10:13:52.562Z"
   },
   {
    "duration": 8,
    "start_time": "2022-01-19T10:15:21.875Z"
   },
   {
    "duration": 16,
    "start_time": "2022-01-19T10:15:22.612Z"
   },
   {
    "duration": 17,
    "start_time": "2022-01-19T10:17:53.606Z"
   },
   {
    "duration": 20,
    "start_time": "2022-01-19T10:18:08.838Z"
   },
   {
    "duration": 22,
    "start_time": "2022-01-19T10:18:24.950Z"
   },
   {
    "duration": 22,
    "start_time": "2022-01-19T11:09:23.528Z"
   },
   {
    "duration": 466,
    "start_time": "2022-01-19T11:21:18.585Z"
   },
   {
    "duration": 549,
    "start_time": "2022-01-19T11:22:03.058Z"
   },
   {
    "duration": 90,
    "start_time": "2022-01-19T11:22:42.906Z"
   },
   {
    "duration": 523,
    "start_time": "2022-01-19T11:23:43.267Z"
   },
   {
    "duration": 541,
    "start_time": "2022-01-19T11:24:26.979Z"
   },
   {
    "duration": 3978,
    "start_time": "2022-01-19T11:26:37.261Z"
   },
   {
    "duration": 24,
    "start_time": "2022-01-19T11:29:47.190Z"
   },
   {
    "duration": 3,
    "start_time": "2022-01-19T11:30:08.775Z"
   },
   {
    "duration": 3,
    "start_time": "2022-01-19T11:32:50.320Z"
   },
   {
    "duration": 15,
    "start_time": "2022-01-19T11:32:53.784Z"
   },
   {
    "duration": 6,
    "start_time": "2022-01-19T11:33:22.112Z"
   },
   {
    "duration": 6,
    "start_time": "2022-01-19T11:33:29.024Z"
   },
   {
    "duration": 5,
    "start_time": "2022-01-19T11:33:47.376Z"
   },
   {
    "duration": 4,
    "start_time": "2022-01-19T11:33:53.585Z"
   },
   {
    "duration": 4,
    "start_time": "2022-01-19T11:33:53.952Z"
   },
   {
    "duration": 522,
    "start_time": "2022-01-19T11:34:33.641Z"
   },
   {
    "duration": 4,
    "start_time": "2022-01-19T11:35:27.738Z"
   },
   {
    "duration": 108,
    "start_time": "2022-01-19T11:35:50.963Z"
   },
   {
    "duration": 531,
    "start_time": "2022-01-19T11:36:00.747Z"
   },
   {
    "duration": 549,
    "start_time": "2022-01-19T11:42:49.091Z"
   },
   {
    "duration": 507,
    "start_time": "2022-01-19T11:43:37.012Z"
   },
   {
    "duration": 596,
    "start_time": "2022-01-19T11:43:57.169Z"
   },
   {
    "duration": 6,
    "start_time": "2022-01-19T11:44:24.640Z"
   },
   {
    "duration": 504,
    "start_time": "2022-01-19T11:45:33.754Z"
   },
   {
    "duration": 22,
    "start_time": "2022-01-19T11:46:06.670Z"
   },
   {
    "duration": 14,
    "start_time": "2022-01-19T11:46:28.674Z"
   },
   {
    "duration": 3087,
    "start_time": "2022-01-19T11:46:57.566Z"
   },
   {
    "duration": 290,
    "start_time": "2022-01-19T12:02:18.980Z"
   },
   {
    "duration": 10,
    "start_time": "2022-01-19T12:02:33.414Z"
   },
   {
    "duration": 18,
    "start_time": "2022-01-19T12:02:36.165Z"
   },
   {
    "duration": 11,
    "start_time": "2022-01-19T12:03:21.214Z"
   },
   {
    "duration": 11,
    "start_time": "2022-01-19T12:03:30.934Z"
   },
   {
    "duration": 17,
    "start_time": "2022-01-19T12:03:43.750Z"
   },
   {
    "duration": 8,
    "start_time": "2022-01-19T12:05:14.838Z"
   },
   {
    "duration": 2630,
    "start_time": "2022-01-19T12:05:42.494Z"
   },
   {
    "duration": 2281,
    "start_time": "2022-01-19T12:05:45.126Z"
   },
   {
    "duration": 2120,
    "start_time": "2022-01-19T12:05:47.410Z"
   },
   {
    "duration": 209,
    "start_time": "2022-01-19T12:05:49.532Z"
   },
   {
    "duration": 6,
    "start_time": "2022-01-19T12:05:49.743Z"
   },
   {
    "duration": 2498,
    "start_time": "2022-01-19T12:05:49.750Z"
   },
   {
    "duration": 34,
    "start_time": "2022-01-19T12:05:52.249Z"
   },
   {
    "duration": 20,
    "start_time": "2022-01-19T12:05:52.286Z"
   },
   {
    "duration": 16,
    "start_time": "2022-01-19T12:05:52.308Z"
   },
   {
    "duration": 6,
    "start_time": "2022-01-19T12:05:52.326Z"
   },
   {
    "duration": 36,
    "start_time": "2022-01-19T12:05:52.334Z"
   },
   {
    "duration": 687,
    "start_time": "2022-01-19T12:05:52.372Z"
   },
   {
    "duration": 890,
    "start_time": "2022-01-19T12:05:52.171Z"
   },
   {
    "duration": 887,
    "start_time": "2022-01-19T12:05:52.175Z"
   },
   {
    "duration": 885,
    "start_time": "2022-01-19T12:05:52.177Z"
   },
   {
    "duration": 2682,
    "start_time": "2022-01-19T12:07:14.740Z"
   },
   {
    "duration": 33,
    "start_time": "2022-01-19T12:07:25.009Z"
   },
   {
    "duration": 14,
    "start_time": "2022-01-19T12:07:28.289Z"
   },
   {
    "duration": 6,
    "start_time": "2022-01-19T12:08:45.866Z"
   },
   {
    "duration": 7,
    "start_time": "2022-01-19T12:09:39.994Z"
   },
   {
    "duration": 11,
    "start_time": "2022-01-19T12:09:43.378Z"
   },
   {
    "duration": 840,
    "start_time": "2022-01-19T12:09:44.026Z"
   },
   {
    "duration": 536,
    "start_time": "2022-01-19T12:10:08.858Z"
   },
   {
    "duration": 8,
    "start_time": "2022-01-19T12:10:28.802Z"
   },
   {
    "duration": 12,
    "start_time": "2022-01-19T12:10:32.490Z"
   },
   {
    "duration": 20,
    "start_time": "2022-01-19T12:10:33.043Z"
   },
   {
    "duration": 27,
    "start_time": "2022-01-19T12:10:39.331Z"
   },
   {
    "duration": 2707,
    "start_time": "2022-01-19T13:41:51.258Z"
   },
   {
    "duration": 2363,
    "start_time": "2022-01-19T13:41:53.967Z"
   },
   {
    "duration": 2332,
    "start_time": "2022-01-19T13:41:56.334Z"
   },
   {
    "duration": 150,
    "start_time": "2022-01-19T13:41:58.669Z"
   },
   {
    "duration": 5,
    "start_time": "2022-01-19T13:41:58.821Z"
   },
   {
    "duration": 8133,
    "start_time": "2022-01-19T13:41:58.827Z"
   },
   {
    "duration": 22,
    "start_time": "2022-01-19T13:42:06.963Z"
   },
   {
    "duration": 8,
    "start_time": "2022-01-19T13:42:06.987Z"
   },
   {
    "duration": 1333,
    "start_time": "2022-01-19T13:42:06.997Z"
   },
   {
    "duration": 947,
    "start_time": "2022-01-19T13:42:07.385Z"
   },
   {
    "duration": 948,
    "start_time": "2022-01-19T13:42:07.385Z"
   },
   {
    "duration": 2761,
    "start_time": "2022-01-19T13:42:50.924Z"
   },
   {
    "duration": 2255,
    "start_time": "2022-01-19T13:42:53.688Z"
   },
   {
    "duration": 2556,
    "start_time": "2022-01-19T13:42:55.946Z"
   },
   {
    "duration": 149,
    "start_time": "2022-01-19T13:42:58.504Z"
   },
   {
    "duration": 13,
    "start_time": "2022-01-19T13:42:58.655Z"
   },
   {
    "duration": 8434,
    "start_time": "2022-01-19T13:42:58.670Z"
   },
   {
    "duration": 3433,
    "start_time": "2022-01-19T13:43:07.106Z"
   },
   {
    "duration": 947,
    "start_time": "2022-01-19T13:43:09.594Z"
   },
   {
    "duration": 947,
    "start_time": "2022-01-19T13:43:09.595Z"
   },
   {
    "duration": 947,
    "start_time": "2022-01-19T13:43:09.596Z"
   },
   {
    "duration": 946,
    "start_time": "2022-01-19T13:43:09.598Z"
   },
   {
    "duration": 946,
    "start_time": "2022-01-19T13:43:09.599Z"
   },
   {
    "duration": 7914,
    "start_time": "2022-01-19T14:02:42.689Z"
   },
   {
    "duration": 22,
    "start_time": "2022-01-19T14:02:55.249Z"
   },
   {
    "duration": 9,
    "start_time": "2022-01-19T14:02:58.657Z"
   },
   {
    "duration": 331,
    "start_time": "2022-01-19T14:03:08.560Z"
   },
   {
    "duration": 2756,
    "start_time": "2022-01-19T14:13:03.548Z"
   },
   {
    "duration": 2464,
    "start_time": "2022-01-19T14:13:06.306Z"
   },
   {
    "duration": 2325,
    "start_time": "2022-01-19T14:13:08.772Z"
   },
   {
    "duration": 146,
    "start_time": "2022-01-19T14:13:11.099Z"
   },
   {
    "duration": 6,
    "start_time": "2022-01-19T14:13:11.247Z"
   },
   {
    "duration": 8452,
    "start_time": "2022-01-19T14:13:11.255Z"
   },
   {
    "duration": 18,
    "start_time": "2022-01-19T14:13:19.709Z"
   },
   {
    "duration": 68,
    "start_time": "2022-01-19T14:13:19.729Z"
   },
   {
    "duration": 7,
    "start_time": "2022-01-19T14:13:19.799Z"
   },
   {
    "duration": 710341,
    "start_time": "2022-01-19T14:13:19.808Z"
   },
   {
    "duration": 11,
    "start_time": "2022-01-19T14:25:10.151Z"
   },
   {
    "duration": 33,
    "start_time": "2022-01-19T14:25:10.164Z"
   },
   {
    "duration": 6637,
    "start_time": "2022-01-19T14:25:10.199Z"
   },
   {
    "duration": 4,
    "start_time": "2022-01-19T14:29:40.333Z"
   },
   {
    "duration": 19,
    "start_time": "2022-01-19T14:30:05.853Z"
   },
   {
    "duration": 163,
    "start_time": "2022-01-19T14:32:46.639Z"
   },
   {
    "duration": 7,
    "start_time": "2022-01-19T14:32:47.075Z"
   },
   {
    "duration": 7811,
    "start_time": "2022-01-19T14:32:47.639Z"
   },
   {
    "duration": 4,
    "start_time": "2022-01-19T14:32:56.240Z"
   },
   {
    "duration": 21,
    "start_time": "2022-01-19T14:32:58.754Z"
   },
   {
    "duration": 18,
    "start_time": "2022-01-19T14:33:10.574Z"
   },
   {
    "duration": 15,
    "start_time": "2022-01-19T14:33:12.175Z"
   },
   {
    "duration": 14,
    "start_time": "2022-01-19T14:33:19.959Z"
   },
   {
    "duration": 2976,
    "start_time": "2022-01-19T14:37:40.533Z"
   },
   {
    "duration": 2367,
    "start_time": "2022-01-19T14:37:43.511Z"
   },
   {
    "duration": 2293,
    "start_time": "2022-01-19T14:37:45.880Z"
   },
   {
    "duration": 146,
    "start_time": "2022-01-19T14:37:48.176Z"
   },
   {
    "duration": 5,
    "start_time": "2022-01-19T14:37:48.324Z"
   },
   {
    "duration": 8062,
    "start_time": "2022-01-19T14:37:48.330Z"
   },
   {
    "duration": 28,
    "start_time": "2022-01-19T14:37:56.395Z"
   },
   {
    "duration": 67,
    "start_time": "2022-01-19T14:37:56.426Z"
   },
   {
    "duration": 22,
    "start_time": "2022-01-19T14:37:56.495Z"
   },
   {
    "duration": 712089,
    "start_time": "2022-01-19T14:37:56.518Z"
   },
   {
    "duration": 9,
    "start_time": "2022-01-19T14:49:48.609Z"
   },
   {
    "duration": 44,
    "start_time": "2022-01-19T14:49:48.620Z"
   },
   {
    "duration": 81,
    "start_time": "2022-01-19T14:49:48.666Z"
   },
   {
    "duration": 6533,
    "start_time": "2022-01-19T14:49:48.749Z"
   },
   {
    "duration": 68,
    "start_time": "2022-01-19T14:59:35.573Z"
   },
   {
    "duration": 30,
    "start_time": "2022-01-19T15:20:50.873Z"
   },
   {
    "duration": 20,
    "start_time": "2022-01-19T15:24:40.132Z"
   },
   {
    "duration": 3,
    "start_time": "2022-01-19T15:38:28.534Z"
   },
   {
    "duration": 571330,
    "start_time": "2022-01-19T15:41:30.258Z"
   },
   {
    "duration": 446,
    "start_time": "2022-01-19T16:05:26.469Z"
   },
   {
    "duration": 550,
    "start_time": "2022-01-19T16:05:52.391Z"
   },
   {
    "duration": 13,
    "start_time": "2022-01-19T16:06:24.837Z"
   },
   {
    "duration": 743,
    "start_time": "2022-01-19T16:06:45.076Z"
   },
   {
    "duration": 405,
    "start_time": "2022-01-19T16:07:08.645Z"
   },
   {
    "duration": 2658,
    "start_time": "2022-01-19T16:08:11.211Z"
   },
   {
    "duration": 2280,
    "start_time": "2022-01-19T16:08:13.872Z"
   },
   {
    "duration": 2380,
    "start_time": "2022-01-19T16:08:16.155Z"
   },
   {
    "duration": 156,
    "start_time": "2022-01-19T16:08:18.537Z"
   },
   {
    "duration": 6,
    "start_time": "2022-01-19T16:08:18.695Z"
   },
   {
    "duration": 7639,
    "start_time": "2022-01-19T16:08:18.702Z"
   },
   {
    "duration": 3,
    "start_time": "2022-01-19T16:08:26.344Z"
   },
   {
    "duration": 27,
    "start_time": "2022-01-19T16:08:26.350Z"
   },
   {
    "duration": 7,
    "start_time": "2022-01-19T16:08:26.379Z"
   },
   {
    "duration": 704410,
    "start_time": "2022-01-19T16:08:26.388Z"
   },
   {
    "duration": 18,
    "start_time": "2022-01-19T16:20:10.801Z"
   },
   {
    "duration": 46,
    "start_time": "2022-01-19T16:20:10.822Z"
   },
   {
    "duration": 10270,
    "start_time": "2022-01-19T16:20:10.870Z"
   },
   {
    "duration": 451,
    "start_time": "2022-01-19T16:29:33.694Z"
   },
   {
    "duration": 301,
    "start_time": "2022-01-19T16:30:10.045Z"
   },
   {
    "duration": 10,
    "start_time": "2022-01-19T16:31:08.510Z"
   },
   {
    "duration": 15,
    "start_time": "2022-01-19T16:31:30.863Z"
   },
   {
    "duration": 2600,
    "start_time": "2022-01-19T16:32:01.501Z"
   },
   {
    "duration": 2448,
    "start_time": "2022-01-19T16:32:04.103Z"
   },
   {
    "duration": 3087,
    "start_time": "2022-01-19T16:32:06.554Z"
   },
   {
    "duration": 156,
    "start_time": "2022-01-19T16:32:09.643Z"
   },
   {
    "duration": 4,
    "start_time": "2022-01-19T16:32:09.801Z"
   },
   {
    "duration": 7585,
    "start_time": "2022-01-19T16:32:09.807Z"
   },
   {
    "duration": 4,
    "start_time": "2022-01-19T16:32:17.394Z"
   },
   {
    "duration": 23,
    "start_time": "2022-01-19T16:32:17.401Z"
   },
   {
    "duration": 6,
    "start_time": "2022-01-19T16:32:17.426Z"
   },
   {
    "duration": 935,
    "start_time": "2022-01-19T16:32:17.434Z"
   },
   {
    "duration": 10,
    "start_time": "2022-01-19T16:32:18.371Z"
   },
   {
    "duration": 372,
    "start_time": "2022-01-19T16:32:18.382Z"
   },
   {
    "duration": 1077,
    "start_time": "2022-01-19T16:32:17.679Z"
   },
   {
    "duration": 1078,
    "start_time": "2022-01-19T16:32:17.680Z"
   },
   {
    "duration": 1077,
    "start_time": "2022-01-19T16:32:17.682Z"
   },
   {
    "duration": 2798,
    "start_time": "2022-01-19T16:32:44.607Z"
   },
   {
    "duration": 2142,
    "start_time": "2022-01-19T16:32:47.408Z"
   },
   {
    "duration": 2345,
    "start_time": "2022-01-19T16:32:49.553Z"
   },
   {
    "duration": 149,
    "start_time": "2022-01-19T16:32:51.900Z"
   },
   {
    "duration": 6,
    "start_time": "2022-01-19T16:32:52.051Z"
   },
   {
    "duration": 7514,
    "start_time": "2022-01-19T16:32:52.059Z"
   },
   {
    "duration": 3,
    "start_time": "2022-01-19T16:32:59.575Z"
   },
   {
    "duration": 24,
    "start_time": "2022-01-19T16:32:59.581Z"
   },
   {
    "duration": 7,
    "start_time": "2022-01-19T16:32:59.607Z"
   },
   {
    "duration": 963,
    "start_time": "2022-01-19T16:32:59.616Z"
   },
   {
    "duration": 28,
    "start_time": "2022-01-19T16:33:00.581Z"
   },
   {
    "duration": 19,
    "start_time": "2022-01-19T16:33:00.611Z"
   },
   {
    "duration": 9133,
    "start_time": "2022-01-19T16:33:00.632Z"
   },
   {
    "duration": 363,
    "start_time": "2022-01-19T16:35:25.003Z"
   },
   {
    "duration": 256,
    "start_time": "2022-01-19T16:36:20.019Z"
   },
   {
    "duration": 2739,
    "start_time": "2022-01-19T16:37:01.208Z"
   },
   {
    "duration": 2205,
    "start_time": "2022-01-19T16:37:03.949Z"
   },
   {
    "duration": 2291,
    "start_time": "2022-01-19T16:37:06.156Z"
   },
   {
    "duration": 144,
    "start_time": "2022-01-19T16:37:08.449Z"
   },
   {
    "duration": 5,
    "start_time": "2022-01-19T16:37:08.595Z"
   },
   {
    "duration": 7599,
    "start_time": "2022-01-19T16:37:08.602Z"
   },
   {
    "duration": 4,
    "start_time": "2022-01-19T16:37:16.203Z"
   },
   {
    "duration": 24,
    "start_time": "2022-01-19T16:37:16.209Z"
   },
   {
    "duration": 7,
    "start_time": "2022-01-19T16:37:16.235Z"
   },
   {
    "duration": 903,
    "start_time": "2022-01-19T16:37:16.244Z"
   },
   {
    "duration": 17,
    "start_time": "2022-01-19T16:37:17.148Z"
   },
   {
    "duration": 15,
    "start_time": "2022-01-19T16:37:17.166Z"
   },
   {
    "duration": 24,
    "start_time": "2022-01-19T16:37:17.183Z"
   },
   {
    "duration": 5486,
    "start_time": "2022-01-19T16:37:17.208Z"
   },
   {
    "duration": 12,
    "start_time": "2022-01-19T16:38:05.236Z"
   },
   {
    "duration": 14,
    "start_time": "2022-01-19T16:38:05.940Z"
   },
   {
    "duration": 14,
    "start_time": "2022-01-19T16:38:30.662Z"
   },
   {
    "duration": 5,
    "start_time": "2022-01-19T16:50:01.972Z"
   },
   {
    "duration": 15,
    "start_time": "2022-01-19T16:50:09.172Z"
   },
   {
    "duration": 15,
    "start_time": "2022-01-19T16:52:55.710Z"
   },
   {
    "duration": 15,
    "start_time": "2022-01-19T16:53:06.310Z"
   },
   {
    "duration": 78,
    "start_time": "2022-01-19T16:57:54.625Z"
   },
   {
    "duration": 379,
    "start_time": "2022-01-19T16:58:57.730Z"
   },
   {
    "duration": 279,
    "start_time": "2022-01-19T16:59:41.370Z"
   },
   {
    "duration": 320,
    "start_time": "2022-01-19T17:00:38.291Z"
   },
   {
    "duration": 274,
    "start_time": "2022-01-19T17:01:20.291Z"
   },
   {
    "duration": 16,
    "start_time": "2022-01-19T17:52:53.551Z"
   },
   {
    "duration": 2897,
    "start_time": "2022-01-19T18:19:08.405Z"
   },
   {
    "duration": 2538,
    "start_time": "2022-01-19T18:19:11.304Z"
   },
   {
    "duration": 2419,
    "start_time": "2022-01-19T18:19:13.847Z"
   },
   {
    "duration": 229,
    "start_time": "2022-01-19T18:19:16.268Z"
   },
   {
    "duration": 5,
    "start_time": "2022-01-19T18:19:16.499Z"
   },
   {
    "duration": 8024,
    "start_time": "2022-01-19T18:19:16.506Z"
   },
   {
    "duration": 5,
    "start_time": "2022-01-19T18:19:24.533Z"
   },
   {
    "duration": 39,
    "start_time": "2022-01-19T18:19:24.540Z"
   },
   {
    "duration": 7,
    "start_time": "2022-01-19T18:19:24.581Z"
   },
   {
    "duration": 1018,
    "start_time": "2022-01-19T18:19:24.589Z"
   },
   {
    "duration": 9,
    "start_time": "2022-01-19T18:19:25.608Z"
   },
   {
    "duration": 35,
    "start_time": "2022-01-19T18:19:25.619Z"
   },
   {
    "duration": 3537,
    "start_time": "2022-01-19T18:19:25.656Z"
   },
   {
    "duration": 1151,
    "start_time": "2022-01-19T18:19:28.044Z"
   },
   {
    "duration": 1152,
    "start_time": "2022-01-19T18:19:28.045Z"
   },
   {
    "duration": 3356,
    "start_time": "2022-01-19T19:03:11.196Z"
   },
   {
    "duration": 14,
    "start_time": "2022-01-19T19:20:57.874Z"
   },
   {
    "duration": 14,
    "start_time": "2022-01-19T19:21:57.014Z"
   },
   {
    "duration": 15,
    "start_time": "2022-01-19T19:25:37.267Z"
   },
   {
    "duration": 16,
    "start_time": "2022-01-19T19:25:53.787Z"
   },
   {
    "duration": 18,
    "start_time": "2022-01-19T19:26:05.564Z"
   },
   {
    "duration": 16,
    "start_time": "2022-01-19T19:26:46.093Z"
   },
   {
    "duration": 12,
    "start_time": "2022-01-19T19:44:43.691Z"
   },
   {
    "duration": 23,
    "start_time": "2022-01-19T19:44:56.900Z"
   },
   {
    "duration": 7,
    "start_time": "2022-01-19T19:46:31.892Z"
   },
   {
    "duration": 4,
    "start_time": "2022-01-19T19:46:51.436Z"
   },
   {
    "duration": 12,
    "start_time": "2022-01-19T19:47:29.332Z"
   },
   {
    "duration": 8,
    "start_time": "2022-01-19T19:47:36.988Z"
   },
   {
    "duration": 9,
    "start_time": "2022-01-19T19:47:46.941Z"
   },
   {
    "duration": 15,
    "start_time": "2022-01-19T19:47:48.568Z"
   },
   {
    "duration": 14,
    "start_time": "2022-01-19T19:47:53.237Z"
   },
   {
    "duration": 10,
    "start_time": "2022-01-19T19:47:55.852Z"
   },
   {
    "duration": 594,
    "start_time": "2022-01-19T19:49:35.886Z"
   },
   {
    "duration": 8,
    "start_time": "2022-01-19T19:52:00.504Z"
   },
   {
    "duration": 550,
    "start_time": "2022-01-19T19:52:01.337Z"
   },
   {
    "duration": 4,
    "start_time": "2022-01-19T19:53:31.625Z"
   },
   {
    "duration": 530,
    "start_time": "2022-01-19T19:53:32.442Z"
   },
   {
    "duration": 4,
    "start_time": "2022-01-19T19:53:57.312Z"
   },
   {
    "duration": 731,
    "start_time": "2022-01-19T19:53:59.682Z"
   },
   {
    "duration": 5,
    "start_time": "2022-01-19T19:55:15.674Z"
   },
   {
    "duration": 21,
    "start_time": "2022-01-19T19:55:22.138Z"
   },
   {
    "duration": 477,
    "start_time": "2022-01-19T19:56:53.508Z"
   },
   {
    "duration": 1243,
    "start_time": "2022-01-19T19:57:24.071Z"
   },
   {
    "duration": 561,
    "start_time": "2022-01-19T19:59:26.774Z"
   },
   {
    "duration": 471,
    "start_time": "2022-01-19T19:59:51.375Z"
   },
   {
    "duration": 349,
    "start_time": "2022-01-19T20:00:16.381Z"
   },
   {
    "duration": 5,
    "start_time": "2022-01-19T20:00:23.878Z"
   },
   {
    "duration": 86,
    "start_time": "2022-01-19T20:01:14.399Z"
   },
   {
    "duration": 822,
    "start_time": "2022-01-19T20:01:33.371Z"
   },
   {
    "duration": 2847,
    "start_time": "2022-01-19T20:02:09.631Z"
   },
   {
    "duration": 3191,
    "start_time": "2022-01-19T20:02:12.481Z"
   },
   {
    "duration": 2967,
    "start_time": "2022-01-19T20:02:15.679Z"
   },
   {
    "duration": 155,
    "start_time": "2022-01-19T20:02:18.648Z"
   },
   {
    "duration": 6,
    "start_time": "2022-01-19T20:02:18.804Z"
   },
   {
    "duration": 8149,
    "start_time": "2022-01-19T20:02:18.812Z"
   },
   {
    "duration": 6,
    "start_time": "2022-01-19T20:02:26.965Z"
   },
   {
    "duration": 27,
    "start_time": "2022-01-19T20:02:26.975Z"
   },
   {
    "duration": 7,
    "start_time": "2022-01-19T20:02:27.004Z"
   },
   {
    "duration": 983,
    "start_time": "2022-01-19T20:02:27.012Z"
   },
   {
    "duration": 9,
    "start_time": "2022-01-19T20:02:27.996Z"
   },
   {
    "duration": 11,
    "start_time": "2022-01-19T20:02:28.007Z"
   },
   {
    "duration": 16,
    "start_time": "2022-01-19T20:02:28.020Z"
   },
   {
    "duration": 25,
    "start_time": "2022-01-19T20:02:28.037Z"
   },
   {
    "duration": 578,
    "start_time": "2022-01-19T20:02:28.065Z"
   },
   {
    "duration": 1221,
    "start_time": "2022-01-19T20:02:27.424Z"
   },
   {
    "duration": 1221,
    "start_time": "2022-01-19T20:02:27.426Z"
   },
   {
    "duration": 1220,
    "start_time": "2022-01-19T20:02:27.428Z"
   },
   {
    "duration": 1219,
    "start_time": "2022-01-19T20:02:27.431Z"
   },
   {
    "duration": 18638,
    "start_time": "2022-01-20T07:52:48.571Z"
   },
   {
    "duration": 3615,
    "start_time": "2022-01-20T07:53:07.212Z"
   },
   {
    "duration": 3525,
    "start_time": "2022-01-20T07:53:10.830Z"
   },
   {
    "duration": 191,
    "start_time": "2022-01-20T07:53:14.358Z"
   },
   {
    "duration": 8,
    "start_time": "2022-01-20T07:53:14.552Z"
   },
   {
    "duration": 15541,
    "start_time": "2022-01-20T07:53:14.562Z"
   },
   {
    "duration": 8,
    "start_time": "2022-01-20T07:53:30.105Z"
   },
   {
    "duration": 50,
    "start_time": "2022-01-20T07:53:30.118Z"
   },
   {
    "duration": 15,
    "start_time": "2022-01-20T07:53:30.174Z"
   },
   {
    "duration": 1671,
    "start_time": "2022-01-20T07:53:30.192Z"
   },
   {
    "duration": 16,
    "start_time": "2022-01-20T07:53:31.866Z"
   },
   {
    "duration": 25,
    "start_time": "2022-01-20T07:53:31.884Z"
   },
   {
    "duration": 23,
    "start_time": "2022-01-20T07:53:31.912Z"
   },
   {
    "duration": 6,
    "start_time": "2022-01-20T07:53:31.966Z"
   },
   {
    "duration": 722,
    "start_time": "2022-01-20T07:53:31.975Z"
   },
   {
    "duration": 1745,
    "start_time": "2022-01-20T07:53:30.955Z"
   },
   {
    "duration": 1746,
    "start_time": "2022-01-20T07:53:30.956Z"
   },
   {
    "duration": 1746,
    "start_time": "2022-01-20T07:53:30.957Z"
   },
   {
    "duration": 1746,
    "start_time": "2022-01-20T07:53:30.958Z"
   },
   {
    "duration": 104307,
    "start_time": "2022-01-21T10:15:17.354Z"
   },
   {
    "duration": 7213,
    "start_time": "2022-01-21T10:17:01.663Z"
   },
   {
    "duration": 1339,
    "start_time": "2022-01-21T10:17:08.880Z"
   },
   {
    "duration": 63,
    "start_time": "2022-01-21T10:17:10.158Z"
   },
   {
    "duration": 62,
    "start_time": "2022-01-21T10:17:10.160Z"
   },
   {
    "duration": 61,
    "start_time": "2022-01-21T10:17:10.162Z"
   },
   {
    "duration": 58,
    "start_time": "2022-01-21T10:17:10.166Z"
   },
   {
    "duration": 104246,
    "start_time": "2022-01-21T10:18:58.186Z"
   },
   {
    "duration": 15970,
    "start_time": "2022-01-21T10:25:55.763Z"
   },
   {
    "duration": 2250,
    "start_time": "2022-01-21T10:27:35.972Z"
   },
   {
    "duration": 148,
    "start_time": "2022-01-21T10:27:38.224Z"
   },
   {
    "duration": 26,
    "start_time": "2022-01-21T10:27:38.374Z"
   },
   {
    "duration": 27,
    "start_time": "2022-01-21T10:27:38.402Z"
   },
   {
    "duration": 285,
    "start_time": "2022-01-21T10:27:38.431Z"
   },
   {
    "duration": 74,
    "start_time": "2022-01-21T10:27:38.645Z"
   },
   {
    "duration": 2038,
    "start_time": "2022-01-21T10:28:18.175Z"
   },
   {
    "duration": 15,
    "start_time": "2022-01-21T10:28:46.359Z"
   },
   {
    "duration": 40,
    "start_time": "2022-01-21T10:28:52.350Z"
   },
   {
    "duration": 30130,
    "start_time": "2022-01-21T10:29:14.215Z"
   },
   {
    "duration": 127,
    "start_time": "2022-01-21T10:34:16.130Z"
   },
   {
    "duration": 117,
    "start_time": "2022-01-21T10:34:21.171Z"
   },
   {
    "duration": 227,
    "start_time": "2022-01-21T10:40:15.122Z"
   },
   {
    "duration": 26,
    "start_time": "2022-01-21T10:40:23.302Z"
   },
   {
    "duration": 18,
    "start_time": "2022-01-21T10:40:34.071Z"
   },
   {
    "duration": 84,
    "start_time": "2022-01-21T10:42:33.337Z"
   },
   {
    "duration": 28,
    "start_time": "2022-01-21T11:02:45.879Z"
   },
   {
    "duration": 9,
    "start_time": "2022-01-21T11:03:08.962Z"
   },
   {
    "duration": 9,
    "start_time": "2022-01-21T11:03:22.284Z"
   },
   {
    "duration": 7928,
    "start_time": "2022-01-21T11:06:27.483Z"
   },
   {
    "duration": 13,
    "start_time": "2022-01-21T11:09:59.109Z"
   },
   {
    "duration": 14337,
    "start_time": "2022-01-21T11:10:09.466Z"
   },
   {
    "duration": 14,
    "start_time": "2022-01-21T11:11:49.282Z"
   },
   {
    "duration": 28444,
    "start_time": "2022-01-21T11:11:50.688Z"
   },
   {
    "duration": 68,
    "start_time": "2022-01-21T11:12:39.976Z"
   },
   {
    "duration": 7,
    "start_time": "2022-01-21T11:14:30.673Z"
   },
   {
    "duration": 7,
    "start_time": "2022-01-21T11:15:20.873Z"
   },
   {
    "duration": 7908,
    "start_time": "2022-01-21T11:24:08.714Z"
   },
   {
    "duration": 306,
    "start_time": "2022-01-21T11:36:09.434Z"
   },
   {
    "duration": 372,
    "start_time": "2022-01-21T11:36:39.567Z"
   },
   {
    "duration": 843,
    "start_time": "2022-01-21T11:37:03.441Z"
   },
   {
    "duration": 60,
    "start_time": "2022-01-21T11:46:56.560Z"
   },
   {
    "duration": 186,
    "start_time": "2022-01-21T11:47:11.383Z"
   },
   {
    "duration": 33466,
    "start_time": "2022-01-21T11:47:25.559Z"
   },
   {
    "duration": 3,
    "start_time": "2022-01-21T11:52:04.698Z"
   },
   {
    "duration": 346,
    "start_time": "2022-01-21T11:52:23.467Z"
   },
   {
    "duration": 189,
    "start_time": "2022-01-21T11:53:20.101Z"
   },
   {
    "duration": 29538,
    "start_time": "2022-01-21T11:53:38.100Z"
   },
   {
    "duration": 131,
    "start_time": "2022-01-21T11:56:33.511Z"
   },
   {
    "duration": 35175,
    "start_time": "2022-01-21T11:57:01.787Z"
   },
   {
    "duration": 35422,
    "start_time": "2022-01-21T11:58:56.525Z"
   },
   {
    "duration": 35317,
    "start_time": "2022-01-21T12:01:22.503Z"
   },
   {
    "duration": 35303,
    "start_time": "2022-01-21T12:05:43.403Z"
   },
   {
    "duration": 1900,
    "start_time": "2022-01-21T12:06:20.967Z"
   },
   {
    "duration": 123718,
    "start_time": "2022-01-21T12:07:58.924Z"
   },
   {
    "duration": 3103,
    "start_time": "2022-01-21T12:10:02.645Z"
   },
   {
    "duration": 635,
    "start_time": "2022-01-21T12:10:05.750Z"
   },
   {
    "duration": 20521,
    "start_time": "2022-01-21T12:15:01.351Z"
   },
   {
    "duration": 69,
    "start_time": "2022-01-21T12:15:21.874Z"
   },
   {
    "duration": 40867,
    "start_time": "2022-01-21T12:17:22.768Z"
   },
   {
    "duration": 703,
    "start_time": "2022-01-21T12:18:41.521Z"
   },
   {
    "duration": 77,
    "start_time": "2022-01-21T12:20:17.035Z"
   },
   {
    "duration": 87,
    "start_time": "2022-01-21T12:20:31.067Z"
   },
   {
    "duration": 96,
    "start_time": "2022-01-21T12:22:53.649Z"
   },
   {
    "duration": 25,
    "start_time": "2022-01-21T12:28:32.537Z"
   },
   {
    "duration": 209,
    "start_time": "2022-01-21T12:29:06.880Z"
   },
   {
    "duration": 25,
    "start_time": "2022-01-21T12:29:14.945Z"
   },
   {
    "duration": 3231,
    "start_time": "2022-01-21T13:54:24.137Z"
   },
   {
    "duration": 77365,
    "start_time": "2022-01-22T18:15:55.774Z"
   },
   {
    "duration": 1978,
    "start_time": "2022-01-22T18:17:13.141Z"
   },
   {
    "duration": 2352,
    "start_time": "2022-01-22T18:17:15.125Z"
   },
   {
    "duration": 138,
    "start_time": "2022-01-22T18:17:17.479Z"
   },
   {
    "duration": 23,
    "start_time": "2022-01-22T18:17:17.619Z"
   },
   {
    "duration": 11,
    "start_time": "2022-01-22T18:17:17.644Z"
   },
   {
    "duration": 124,
    "start_time": "2022-01-22T18:17:17.658Z"
   },
   {
    "duration": 39,
    "start_time": "2022-01-22T18:17:17.785Z"
   },
   {
    "duration": 39590,
    "start_time": "2022-01-22T18:17:17.827Z"
   },
   {
    "duration": 25,
    "start_time": "2022-01-22T18:17:57.418Z"
   },
   {
    "duration": 30389,
    "start_time": "2022-01-22T18:17:57.444Z"
   },
   {
    "duration": 32227,
    "start_time": "2022-01-22T18:18:27.835Z"
   },
   {
    "duration": 98,
    "start_time": "2022-01-22T18:19:00.064Z"
   },
   {
    "duration": 21,
    "start_time": "2022-01-22T18:19:24.637Z"
   },
   {
    "duration": 21,
    "start_time": "2022-01-22T18:19:48.254Z"
   },
   {
    "duration": 5,
    "start_time": "2022-01-22T18:22:59.281Z"
   },
   {
    "duration": 23,
    "start_time": "2022-01-22T18:27:23.987Z"
   },
   {
    "duration": 20,
    "start_time": "2022-01-22T18:28:44.309Z"
   },
   {
    "duration": 35,
    "start_time": "2022-01-22T18:28:54.982Z"
   },
   {
    "duration": 21,
    "start_time": "2022-01-22T18:29:53.563Z"
   },
   {
    "duration": 23302,
    "start_time": "2022-01-22T18:30:35.526Z"
   },
   {
    "duration": 293,
    "start_time": "2022-01-22T18:41:43.399Z"
   },
   {
    "duration": 197,
    "start_time": "2022-01-22T18:41:49.956Z"
   },
   {
    "duration": 20,
    "start_time": "2022-01-22T18:41:53.638Z"
   },
   {
    "duration": 15,
    "start_time": "2022-01-22T18:42:26.688Z"
   },
   {
    "duration": 21,
    "start_time": "2022-01-22T18:42:54.294Z"
   },
   {
    "duration": 16,
    "start_time": "2022-01-22T18:43:27.928Z"
   },
   {
    "duration": 24,
    "start_time": "2022-01-22T18:43:58.823Z"
   },
   {
    "duration": 20,
    "start_time": "2022-01-22T18:44:09.025Z"
   },
   {
    "duration": 21,
    "start_time": "2022-01-22T21:33:50.798Z"
   },
   {
    "duration": 45,
    "start_time": "2022-01-22T21:37:38.868Z"
   },
   {
    "duration": 199,
    "start_time": "2022-01-22T21:38:37.677Z"
   },
   {
    "duration": 15,
    "start_time": "2022-01-22T21:38:46.508Z"
   },
   {
    "duration": 46,
    "start_time": "2022-01-22T21:39:28.205Z"
   },
   {
    "duration": 18,
    "start_time": "2022-01-22T21:39:54.662Z"
   },
   {
    "duration": 4,
    "start_time": "2022-01-22T21:42:07.430Z"
   },
   {
    "duration": 4,
    "start_time": "2022-01-22T21:42:19.190Z"
   },
   {
    "duration": 18,
    "start_time": "2022-01-22T21:57:06.320Z"
   },
   {
    "duration": 17,
    "start_time": "2022-01-22T21:57:39.288Z"
   },
   {
    "duration": 4,
    "start_time": "2022-01-22T21:58:22.402Z"
   },
   {
    "duration": 5,
    "start_time": "2022-01-22T21:58:28.889Z"
   },
   {
    "duration": 27,
    "start_time": "2022-01-22T22:05:38.687Z"
   },
   {
    "duration": 11,
    "start_time": "2022-01-22T22:09:38.049Z"
   },
   {
    "duration": 12,
    "start_time": "2022-01-22T22:09:42.592Z"
   },
   {
    "duration": 245,
    "start_time": "2022-01-22T22:27:43.918Z"
   },
   {
    "duration": 188,
    "start_time": "2022-01-22T22:27:59.391Z"
   },
   {
    "duration": 5,
    "start_time": "2022-01-22T22:28:16.535Z"
   },
   {
    "duration": 28,
    "start_time": "2022-01-22T22:28:38.350Z"
   },
   {
    "duration": 6,
    "start_time": "2022-01-22T22:30:20.048Z"
   },
   {
    "duration": 1981,
    "start_time": "2022-01-22T22:31:45.130Z"
   },
   {
    "duration": 41,
    "start_time": "2022-01-22T22:32:17.705Z"
   },
   {
    "duration": 3684,
    "start_time": "2022-01-22T22:32:22.635Z"
   },
   {
    "duration": 9,
    "start_time": "2022-01-22T22:32:37.625Z"
   },
   {
    "duration": 5,
    "start_time": "2022-01-22T22:38:11.614Z"
   },
   {
    "duration": 12,
    "start_time": "2022-01-22T22:39:35.126Z"
   },
   {
    "duration": 3544,
    "start_time": "2022-01-22T22:40:42.614Z"
   },
   {
    "duration": 194,
    "start_time": "2022-01-22T22:40:49.176Z"
   },
   {
    "duration": 13,
    "start_time": "2022-01-22T22:42:17.545Z"
   },
   {
    "duration": 9,
    "start_time": "2022-01-22T22:42:25.058Z"
   },
   {
    "duration": 12,
    "start_time": "2022-01-22T22:42:53.531Z"
   },
   {
    "duration": 6,
    "start_time": "2022-01-22T22:46:06.084Z"
   },
   {
    "duration": 4,
    "start_time": "2022-01-22T22:48:45.943Z"
   },
   {
    "duration": 339,
    "start_time": "2022-01-22T22:49:48.151Z"
   },
   {
    "duration": 4,
    "start_time": "2022-01-22T22:50:06.367Z"
   },
   {
    "duration": 322,
    "start_time": "2022-01-22T22:50:06.839Z"
   },
   {
    "duration": 5,
    "start_time": "2022-01-22T22:50:40.839Z"
   },
   {
    "duration": 130,
    "start_time": "2022-01-22T22:50:41.744Z"
   },
   {
    "duration": 5,
    "start_time": "2022-01-22T22:51:29.079Z"
   },
   {
    "duration": 21,
    "start_time": "2022-01-22T22:51:30.928Z"
   },
   {
    "duration": 8,
    "start_time": "2022-01-22T22:51:51.911Z"
   },
   {
    "duration": 10,
    "start_time": "2022-01-22T22:52:59.073Z"
   },
   {
    "duration": 109,
    "start_time": "2022-01-22T22:53:02.850Z"
   },
   {
    "duration": 106,
    "start_time": "2022-01-22T22:53:16.140Z"
   },
   {
    "duration": 89,
    "start_time": "2022-01-22T22:53:34.218Z"
   },
   {
    "duration": 101,
    "start_time": "2022-01-22T22:53:41.729Z"
   },
   {
    "duration": 6,
    "start_time": "2022-01-22T22:53:51.467Z"
   },
   {
    "duration": 453,
    "start_time": "2022-01-22T22:53:54.119Z"
   },
   {
    "duration": 6,
    "start_time": "2022-01-22T22:54:49.684Z"
   },
   {
    "duration": 118,
    "start_time": "2022-01-22T22:54:50.099Z"
   },
   {
    "duration": 2666,
    "start_time": "2022-01-22T22:55:17.146Z"
   },
   {
    "duration": 8,
    "start_time": "2022-01-22T22:56:39.157Z"
   },
   {
    "duration": 853,
    "start_time": "2022-01-22T22:56:40.725Z"
   },
   {
    "duration": 17356,
    "start_time": "2022-01-22T22:59:53.136Z"
   },
   {
    "duration": 1892,
    "start_time": "2022-01-22T23:00:10.494Z"
   },
   {
    "duration": 1939,
    "start_time": "2022-01-22T23:00:12.389Z"
   },
   {
    "duration": 212,
    "start_time": "2022-01-22T23:00:14.329Z"
   },
   {
    "duration": 19,
    "start_time": "2022-01-22T23:00:14.542Z"
   },
   {
    "duration": 25,
    "start_time": "2022-01-22T23:00:14.562Z"
   },
   {
    "duration": 28912,
    "start_time": "2022-01-22T23:00:14.589Z"
   },
   {
    "duration": 290,
    "start_time": "2022-01-22T23:00:43.511Z"
   },
   {
    "duration": 278,
    "start_time": "2022-01-22T23:00:43.526Z"
   },
   {
    "duration": 278,
    "start_time": "2022-01-22T23:00:43.528Z"
   },
   {
    "duration": 277,
    "start_time": "2022-01-22T23:00:43.530Z"
   },
   {
    "duration": 276,
    "start_time": "2022-01-22T23:00:43.533Z"
   },
   {
    "duration": 274,
    "start_time": "2022-01-22T23:00:43.536Z"
   },
   {
    "duration": 274,
    "start_time": "2022-01-22T23:00:43.538Z"
   },
   {
    "duration": 273,
    "start_time": "2022-01-22T23:00:43.540Z"
   },
   {
    "duration": 270,
    "start_time": "2022-01-22T23:00:43.545Z"
   },
   {
    "duration": 269,
    "start_time": "2022-01-22T23:00:43.547Z"
   },
   {
    "duration": 99895,
    "start_time": "2022-01-22T23:03:24.436Z"
   },
   {
    "duration": 2853,
    "start_time": "2022-01-22T23:05:04.333Z"
   },
   {
    "duration": 2092,
    "start_time": "2022-01-22T23:05:07.188Z"
   },
   {
    "duration": 209,
    "start_time": "2022-01-22T23:05:09.282Z"
   },
   {
    "duration": 19,
    "start_time": "2022-01-22T23:05:09.493Z"
   },
   {
    "duration": 25,
    "start_time": "2022-01-22T23:05:09.513Z"
   },
   {
    "duration": 28816,
    "start_time": "2022-01-22T23:05:09.539Z"
   },
   {
    "duration": 295,
    "start_time": "2022-01-22T23:05:38.358Z"
   },
   {
    "duration": 301,
    "start_time": "2022-01-22T23:05:38.354Z"
   },
   {
    "duration": 300,
    "start_time": "2022-01-22T23:05:38.356Z"
   },
   {
    "duration": 299,
    "start_time": "2022-01-22T23:05:38.358Z"
   },
   {
    "duration": 298,
    "start_time": "2022-01-22T23:05:38.360Z"
   },
   {
    "duration": 297,
    "start_time": "2022-01-22T23:05:38.362Z"
   },
   {
    "duration": 296,
    "start_time": "2022-01-22T23:05:38.364Z"
   },
   {
    "duration": 295,
    "start_time": "2022-01-22T23:05:38.366Z"
   },
   {
    "duration": 295,
    "start_time": "2022-01-22T23:05:38.367Z"
   },
   {
    "duration": 295,
    "start_time": "2022-01-22T23:05:38.368Z"
   },
   {
    "duration": 24,
    "start_time": "2022-01-22T23:06:30.860Z"
   },
   {
    "duration": 21,
    "start_time": "2022-01-22T23:06:31.740Z"
   },
   {
    "duration": 196,
    "start_time": "2022-01-22T23:06:32.172Z"
   },
   {
    "duration": 4,
    "start_time": "2022-01-22T23:06:32.587Z"
   },
   {
    "duration": 10,
    "start_time": "2022-01-22T23:06:32.995Z"
   },
   {
    "duration": 3395,
    "start_time": "2022-01-22T23:06:34.091Z"
   },
   {
    "duration": 9,
    "start_time": "2022-01-22T23:06:37.488Z"
   },
   {
    "duration": 14,
    "start_time": "2022-01-22T23:06:37.511Z"
   },
   {
    "duration": 9,
    "start_time": "2022-01-22T23:06:37.528Z"
   },
   {
    "duration": 916,
    "start_time": "2022-01-22T23:06:37.539Z"
   },
   {
    "duration": 991,
    "start_time": "2022-01-22T23:08:24.566Z"
   },
   {
    "duration": 5,
    "start_time": "2022-01-22T23:08:45.973Z"
   },
   {
    "duration": 3483,
    "start_time": "2022-01-22T23:08:49.917Z"
   },
   {
    "duration": 11,
    "start_time": "2022-01-22T23:08:57.493Z"
   },
   {
    "duration": 852,
    "start_time": "2022-01-22T23:09:01.486Z"
   },
   {
    "duration": 14,
    "start_time": "2022-01-22T23:11:57.584Z"
   },
   {
    "duration": 3,
    "start_time": "2022-01-22T23:17:59.451Z"
   },
   {
    "duration": 197,
    "start_time": "2022-01-22T23:19:33.885Z"
   },
   {
    "duration": 321,
    "start_time": "2022-01-22T23:19:50.382Z"
   },
   {
    "duration": 280,
    "start_time": "2022-01-22T23:20:05.621Z"
   },
   {
    "duration": 338,
    "start_time": "2022-01-22T23:20:34.950Z"
   },
   {
    "duration": 823,
    "start_time": "2022-01-22T23:20:55.006Z"
   },
   {
    "duration": 319,
    "start_time": "2022-01-22T23:21:43.951Z"
   },
   {
    "duration": 324,
    "start_time": "2022-01-22T23:22:24.385Z"
   },
   {
    "duration": 351,
    "start_time": "2022-01-22T23:23:06.220Z"
   },
   {
    "duration": 197,
    "start_time": "2022-01-22T23:24:53.360Z"
   },
   {
    "duration": 17,
    "start_time": "2022-01-22T23:25:00.209Z"
   },
   {
    "duration": 202,
    "start_time": "2022-01-22T23:26:37.378Z"
   },
   {
    "duration": 1004,
    "start_time": "2022-01-22T23:26:55.843Z"
   },
   {
    "duration": 6,
    "start_time": "2022-01-22T23:28:50.372Z"
   },
   {
    "duration": 1166,
    "start_time": "2022-01-22T23:28:56.931Z"
   },
   {
    "duration": 85003,
    "start_time": "2022-01-22T23:33:35.242Z"
   },
   {
    "duration": 2764,
    "start_time": "2022-01-22T23:35:00.247Z"
   },
   {
    "duration": 1876,
    "start_time": "2022-01-22T23:35:03.013Z"
   },
   {
    "duration": 213,
    "start_time": "2022-01-22T23:35:04.890Z"
   },
   {
    "duration": 18,
    "start_time": "2022-01-22T23:35:05.105Z"
   },
   {
    "duration": 25,
    "start_time": "2022-01-22T23:35:05.125Z"
   },
   {
    "duration": 29200,
    "start_time": "2022-01-22T23:35:05.152Z"
   },
   {
    "duration": 64,
    "start_time": "2022-01-22T23:35:34.356Z"
   },
   {
    "duration": 28,
    "start_time": "2022-01-22T23:35:34.422Z"
   },
   {
    "duration": 275,
    "start_time": "2022-01-22T23:35:34.452Z"
   },
   {
    "duration": 4,
    "start_time": "2022-01-22T23:35:34.728Z"
   },
   {
    "duration": 12,
    "start_time": "2022-01-22T23:35:34.734Z"
   },
   {
    "duration": 3437,
    "start_time": "2022-01-22T23:35:34.748Z"
   },
   {
    "duration": 10,
    "start_time": "2022-01-22T23:35:38.187Z"
   },
   {
    "duration": 22,
    "start_time": "2022-01-22T23:35:38.199Z"
   },
   {
    "duration": 74,
    "start_time": "2022-01-22T23:35:38.223Z"
   },
   {
    "duration": 403,
    "start_time": "2022-01-22T23:35:37.896Z"
   },
   {
    "duration": 402,
    "start_time": "2022-01-22T23:35:37.898Z"
   },
   {
    "duration": 402,
    "start_time": "2022-01-22T23:35:37.899Z"
   },
   {
    "duration": 7,
    "start_time": "2022-01-22T23:35:59.400Z"
   },
   {
    "duration": 917,
    "start_time": "2022-01-22T23:36:03.320Z"
   },
   {
    "duration": 13,
    "start_time": "2022-01-22T23:36:04.239Z"
   },
   {
    "duration": 12,
    "start_time": "2022-01-22T23:36:04.320Z"
   },
   {
    "duration": 19,
    "start_time": "2022-01-22T23:36:52.848Z"
   },
   {
    "duration": 7,
    "start_time": "2022-01-22T23:37:57.241Z"
   },
   {
    "duration": 6,
    "start_time": "2022-01-22T23:40:29.498Z"
   },
   {
    "duration": 2013,
    "start_time": "2022-01-22T23:40:32.378Z"
   },
   {
    "duration": 1876,
    "start_time": "2022-01-22T23:41:06.995Z"
   },
   {
    "duration": 227,
    "start_time": "2022-01-22T23:41:08.873Z"
   },
   {
    "duration": 18,
    "start_time": "2022-01-22T23:41:09.102Z"
   },
   {
    "duration": 26,
    "start_time": "2022-01-22T23:41:09.122Z"
   },
   {
    "duration": 28789,
    "start_time": "2022-01-22T23:41:09.150Z"
   },
   {
    "duration": 24,
    "start_time": "2022-01-22T23:41:37.941Z"
   },
   {
    "duration": 66,
    "start_time": "2022-01-22T23:41:37.966Z"
   },
   {
    "duration": 228,
    "start_time": "2022-01-22T23:41:38.034Z"
   },
   {
    "duration": 4,
    "start_time": "2022-01-22T23:41:38.263Z"
   },
   {
    "duration": 12,
    "start_time": "2022-01-22T23:41:38.269Z"
   },
   {
    "duration": 3418,
    "start_time": "2022-01-22T23:41:38.283Z"
   },
   {
    "duration": 18,
    "start_time": "2022-01-22T23:41:41.702Z"
   },
   {
    "duration": 14,
    "start_time": "2022-01-22T23:41:41.722Z"
   },
   {
    "duration": 9,
    "start_time": "2022-01-22T23:41:41.738Z"
   },
   {
    "duration": 434,
    "start_time": "2022-01-22T23:41:41.749Z"
   },
   {
    "duration": 13,
    "start_time": "2022-01-22T23:41:42.185Z"
   },
   {
    "duration": 14,
    "start_time": "2022-01-22T23:41:42.199Z"
   },
   {
    "duration": 15,
    "start_time": "2022-01-22T23:41:42.215Z"
   },
   {
    "duration": 7,
    "start_time": "2022-01-22T23:42:07.295Z"
   },
   {
    "duration": 320,
    "start_time": "2022-01-22T23:42:07.728Z"
   },
   {
    "duration": 6,
    "start_time": "2022-01-22T23:42:56.575Z"
   },
   {
    "duration": 891,
    "start_time": "2022-01-22T23:42:58.167Z"
   },
   {
    "duration": 7,
    "start_time": "2022-01-22T23:44:30.480Z"
   },
   {
    "duration": 338,
    "start_time": "2022-01-22T23:44:33.689Z"
   },
   {
    "duration": 6,
    "start_time": "2022-01-22T23:44:43.040Z"
   },
   {
    "duration": 994,
    "start_time": "2022-01-22T23:44:43.488Z"
   },
   {
    "duration": 1876,
    "start_time": "2022-01-22T23:45:02.919Z"
   },
   {
    "duration": 226,
    "start_time": "2022-01-22T23:45:04.797Z"
   },
   {
    "duration": 19,
    "start_time": "2022-01-22T23:45:05.025Z"
   },
   {
    "duration": 28,
    "start_time": "2022-01-22T23:45:05.046Z"
   },
   {
    "duration": 29169,
    "start_time": "2022-01-22T23:45:05.076Z"
   },
   {
    "duration": 24,
    "start_time": "2022-01-22T23:45:34.247Z"
   },
   {
    "duration": 21,
    "start_time": "2022-01-22T23:45:34.312Z"
   },
   {
    "duration": 239,
    "start_time": "2022-01-22T23:45:34.336Z"
   },
   {
    "duration": 3,
    "start_time": "2022-01-22T23:45:34.577Z"
   },
   {
    "duration": 16,
    "start_time": "2022-01-22T23:45:34.582Z"
   },
   {
    "duration": 3500,
    "start_time": "2022-01-22T23:45:34.599Z"
   },
   {
    "duration": 18,
    "start_time": "2022-01-22T23:45:38.101Z"
   },
   {
    "duration": 13,
    "start_time": "2022-01-22T23:45:38.121Z"
   },
   {
    "duration": 8,
    "start_time": "2022-01-22T23:45:38.136Z"
   },
   {
    "duration": 904,
    "start_time": "2022-01-22T23:45:38.146Z"
   },
   {
    "duration": 19,
    "start_time": "2022-01-22T23:45:39.051Z"
   },
   {
    "duration": 12,
    "start_time": "2022-01-22T23:45:39.072Z"
   },
   {
    "duration": 42,
    "start_time": "2022-01-22T23:45:39.085Z"
   },
   {
    "duration": 1104,
    "start_time": "2022-01-22T23:47:31.389Z"
   },
   {
    "duration": 1855,
    "start_time": "2022-01-22T23:48:01.817Z"
   },
   {
    "duration": 214,
    "start_time": "2022-01-22T23:48:03.675Z"
   },
   {
    "duration": 26,
    "start_time": "2022-01-22T23:48:03.894Z"
   },
   {
    "duration": 28,
    "start_time": "2022-01-22T23:48:03.922Z"
   },
   {
    "duration": 28797,
    "start_time": "2022-01-22T23:48:03.952Z"
   },
   {
    "duration": 28,
    "start_time": "2022-01-22T23:48:32.751Z"
   },
   {
    "duration": 51,
    "start_time": "2022-01-22T23:48:32.781Z"
   },
   {
    "duration": 264,
    "start_time": "2022-01-22T23:48:32.833Z"
   },
   {
    "duration": 4,
    "start_time": "2022-01-22T23:48:33.098Z"
   },
   {
    "duration": 18,
    "start_time": "2022-01-22T23:48:33.103Z"
   },
   {
    "duration": 3423,
    "start_time": "2022-01-22T23:48:33.122Z"
   },
   {
    "duration": 12,
    "start_time": "2022-01-22T23:48:36.547Z"
   },
   {
    "duration": 14,
    "start_time": "2022-01-22T23:48:36.561Z"
   },
   {
    "duration": 8,
    "start_time": "2022-01-22T23:48:36.576Z"
   },
   {
    "duration": 900,
    "start_time": "2022-01-22T23:48:36.585Z"
   },
   {
    "duration": 26,
    "start_time": "2022-01-22T23:48:37.487Z"
   },
   {
    "duration": 12,
    "start_time": "2022-01-22T23:48:37.515Z"
   },
   {
    "duration": 20,
    "start_time": "2022-01-22T23:48:37.528Z"
   },
   {
    "duration": 1128,
    "start_time": "2022-01-22T23:50:08.726Z"
   },
   {
    "duration": 1897,
    "start_time": "2022-01-22T23:50:16.310Z"
   },
   {
    "duration": 214,
    "start_time": "2022-01-22T23:50:18.212Z"
   },
   {
    "duration": 19,
    "start_time": "2022-01-22T23:50:18.430Z"
   },
   {
    "duration": 25,
    "start_time": "2022-01-22T23:50:18.450Z"
   },
   {
    "duration": 28670,
    "start_time": "2022-01-22T23:50:18.477Z"
   },
   {
    "duration": 23,
    "start_time": "2022-01-22T23:50:47.149Z"
   },
   {
    "duration": 58,
    "start_time": "2022-01-22T23:50:47.174Z"
   },
   {
    "duration": 238,
    "start_time": "2022-01-22T23:50:47.234Z"
   },
   {
    "duration": 4,
    "start_time": "2022-01-22T23:50:47.474Z"
   },
   {
    "duration": 12,
    "start_time": "2022-01-22T23:50:47.479Z"
   },
   {
    "duration": 3429,
    "start_time": "2022-01-22T23:50:47.493Z"
   },
   {
    "duration": 11,
    "start_time": "2022-01-22T23:50:50.924Z"
   },
   {
    "duration": 14,
    "start_time": "2022-01-22T23:50:50.936Z"
   },
   {
    "duration": 7,
    "start_time": "2022-01-22T23:50:50.952Z"
   },
   {
    "duration": 886,
    "start_time": "2022-01-22T23:50:50.961Z"
   },
   {
    "duration": 13,
    "start_time": "2022-01-22T23:50:51.849Z"
   },
   {
    "duration": 11,
    "start_time": "2022-01-22T23:50:51.864Z"
   },
   {
    "duration": 45,
    "start_time": "2022-01-22T23:50:51.876Z"
   },
   {
    "duration": 459,
    "start_time": "2022-01-22T23:53:12.231Z"
   },
   {
    "duration": 366,
    "start_time": "2022-01-22T23:53:40.727Z"
   },
   {
    "duration": 344,
    "start_time": "2022-01-23T00:01:11.865Z"
   },
   {
    "duration": 334,
    "start_time": "2022-01-23T00:02:08.561Z"
   },
   {
    "duration": 9,
    "start_time": "2022-01-23T00:02:43.315Z"
   },
   {
    "duration": 12,
    "start_time": "2022-01-23T00:03:32.347Z"
   },
   {
    "duration": 23,
    "start_time": "2022-01-23T00:04:07.454Z"
   },
   {
    "duration": 23,
    "start_time": "2022-01-23T00:04:15.031Z"
   },
   {
    "duration": 1816,
    "start_time": "2022-01-23T00:06:45.262Z"
   },
   {
    "duration": 208,
    "start_time": "2022-01-23T00:06:47.080Z"
   },
   {
    "duration": 22,
    "start_time": "2022-01-23T00:06:47.293Z"
   },
   {
    "duration": 25,
    "start_time": "2022-01-23T00:06:47.316Z"
   },
   {
    "duration": 28715,
    "start_time": "2022-01-23T00:06:47.342Z"
   },
   {
    "duration": 56,
    "start_time": "2022-01-23T00:07:16.060Z"
   },
   {
    "duration": 21,
    "start_time": "2022-01-23T00:07:16.118Z"
   },
   {
    "duration": 248,
    "start_time": "2022-01-23T00:07:16.141Z"
   },
   {
    "duration": 4,
    "start_time": "2022-01-23T00:07:16.391Z"
   },
   {
    "duration": 26,
    "start_time": "2022-01-23T00:07:16.396Z"
   },
   {
    "duration": 3437,
    "start_time": "2022-01-23T00:07:16.423Z"
   },
   {
    "duration": 11,
    "start_time": "2022-01-23T00:07:19.862Z"
   },
   {
    "duration": 16,
    "start_time": "2022-01-23T00:07:19.874Z"
   },
   {
    "duration": 23,
    "start_time": "2022-01-23T00:07:19.892Z"
   },
   {
    "duration": 899,
    "start_time": "2022-01-23T00:07:19.917Z"
   },
   {
    "duration": 17,
    "start_time": "2022-01-23T00:07:20.818Z"
   },
   {
    "duration": 511,
    "start_time": "2022-01-23T00:07:20.837Z"
   },
   {
    "duration": 414,
    "start_time": "2022-01-23T00:07:20.936Z"
   },
   {
    "duration": 8,
    "start_time": "2022-01-23T00:10:09.927Z"
   },
   {
    "duration": 962,
    "start_time": "2022-01-23T00:10:19.958Z"
   },
   {
    "duration": 3023,
    "start_time": "2022-01-23T00:14:24.849Z"
   },
   {
    "duration": 224,
    "start_time": "2022-01-23T00:15:16.810Z"
   },
   {
    "duration": 202,
    "start_time": "2022-01-23T00:15:39.850Z"
   },
   {
    "duration": 3534,
    "start_time": "2022-01-23T00:15:59.010Z"
   },
   {
    "duration": 20,
    "start_time": "2022-01-23T00:16:14.638Z"
   },
   {
    "duration": 18,
    "start_time": "2022-01-23T00:16:43.595Z"
   },
   {
    "duration": 3512,
    "start_time": "2022-01-23T00:17:57.475Z"
   },
   {
    "duration": 25,
    "start_time": "2022-01-23T00:18:00.988Z"
   },
   {
    "duration": 3664,
    "start_time": "2022-01-23T00:19:37.093Z"
   },
   {
    "duration": 19,
    "start_time": "2022-01-23T00:19:42.853Z"
   },
   {
    "duration": 7508,
    "start_time": "2022-01-23T00:20:55.318Z"
   },
   {
    "duration": 18,
    "start_time": "2022-01-23T00:21:02.828Z"
   },
   {
    "duration": 1644,
    "start_time": "2022-01-23T08:09:17.074Z"
   },
   {
    "duration": 921,
    "start_time": "2022-01-23T08:09:17.804Z"
   },
   {
    "duration": 920,
    "start_time": "2022-01-23T08:09:17.806Z"
   },
   {
    "duration": 919,
    "start_time": "2022-01-23T08:09:17.809Z"
   },
   {
    "duration": 917,
    "start_time": "2022-01-23T08:09:17.812Z"
   },
   {
    "duration": 916,
    "start_time": "2022-01-23T08:09:17.814Z"
   },
   {
    "duration": 911,
    "start_time": "2022-01-23T08:09:17.820Z"
   },
   {
    "duration": 911,
    "start_time": "2022-01-23T08:09:17.822Z"
   },
   {
    "duration": 909,
    "start_time": "2022-01-23T08:09:17.825Z"
   },
   {
    "duration": 909,
    "start_time": "2022-01-23T08:09:17.826Z"
   },
   {
    "duration": 907,
    "start_time": "2022-01-23T08:09:17.830Z"
   },
   {
    "duration": 904,
    "start_time": "2022-01-23T08:09:17.834Z"
   },
   {
    "duration": 902,
    "start_time": "2022-01-23T08:09:17.837Z"
   },
   {
    "duration": 901,
    "start_time": "2022-01-23T08:09:17.839Z"
   },
   {
    "duration": 901,
    "start_time": "2022-01-23T08:09:17.841Z"
   },
   {
    "duration": 901,
    "start_time": "2022-01-23T08:09:17.842Z"
   },
   {
    "duration": 899,
    "start_time": "2022-01-23T08:09:17.845Z"
   },
   {
    "duration": 896,
    "start_time": "2022-01-23T08:09:17.850Z"
   },
   {
    "duration": 894,
    "start_time": "2022-01-23T08:09:17.853Z"
   },
   {
    "duration": 25206,
    "start_time": "2022-01-23T08:09:42.440Z"
   },
   {
    "duration": 2822,
    "start_time": "2022-01-23T08:10:07.648Z"
   },
   {
    "duration": 3398,
    "start_time": "2022-01-23T08:10:10.476Z"
   },
   {
    "duration": 927,
    "start_time": "2022-01-23T08:10:12.951Z"
   },
   {
    "duration": 926,
    "start_time": "2022-01-23T08:10:12.953Z"
   },
   {
    "duration": 925,
    "start_time": "2022-01-23T08:10:12.955Z"
   },
   {
    "duration": 921,
    "start_time": "2022-01-23T08:10:12.960Z"
   },
   {
    "duration": 921,
    "start_time": "2022-01-23T08:10:12.962Z"
   },
   {
    "duration": 918,
    "start_time": "2022-01-23T08:10:12.966Z"
   },
   {
    "duration": 915,
    "start_time": "2022-01-23T08:10:12.970Z"
   },
   {
    "duration": 911,
    "start_time": "2022-01-23T08:10:12.976Z"
   },
   {
    "duration": 911,
    "start_time": "2022-01-23T08:10:12.978Z"
   },
   {
    "duration": 908,
    "start_time": "2022-01-23T08:10:12.983Z"
   },
   {
    "duration": 909,
    "start_time": "2022-01-23T08:10:12.985Z"
   },
   {
    "duration": 909,
    "start_time": "2022-01-23T08:10:12.987Z"
   },
   {
    "duration": 903,
    "start_time": "2022-01-23T08:10:12.995Z"
   },
   {
    "duration": 900,
    "start_time": "2022-01-23T08:10:13.000Z"
   },
   {
    "duration": 902,
    "start_time": "2022-01-23T08:10:13.001Z"
   },
   {
    "duration": 902,
    "start_time": "2022-01-23T08:10:13.003Z"
   },
   {
    "duration": 902,
    "start_time": "2022-01-23T08:10:13.005Z"
   },
   {
    "duration": 902,
    "start_time": "2022-01-23T08:10:13.007Z"
   },
   {
    "duration": 2754,
    "start_time": "2022-01-23T08:14:10.848Z"
   },
   {
    "duration": 770,
    "start_time": "2022-01-23T08:14:13.604Z"
   },
   {
    "duration": 28,
    "start_time": "2022-01-23T08:14:14.377Z"
   },
   {
    "duration": 44,
    "start_time": "2022-01-23T08:14:14.408Z"
   },
   {
    "duration": 41897,
    "start_time": "2022-01-23T08:14:14.455Z"
   },
   {
    "duration": 70,
    "start_time": "2022-01-23T08:14:56.354Z"
   },
   {
    "duration": 31,
    "start_time": "2022-01-23T08:14:56.426Z"
   },
   {
    "duration": 323,
    "start_time": "2022-01-23T08:14:56.461Z"
   },
   {
    "duration": 5,
    "start_time": "2022-01-23T08:14:56.787Z"
   },
   {
    "duration": 31,
    "start_time": "2022-01-23T08:14:56.794Z"
   },
   {
    "duration": 7110,
    "start_time": "2022-01-23T08:14:56.827Z"
   },
   {
    "duration": 17,
    "start_time": "2022-01-23T08:15:03.940Z"
   },
   {
    "duration": 21,
    "start_time": "2022-01-23T08:15:03.959Z"
   },
   {
    "duration": 11,
    "start_time": "2022-01-23T08:15:03.982Z"
   },
   {
    "duration": 1413,
    "start_time": "2022-01-23T08:15:04.024Z"
   },
   {
    "duration": 21,
    "start_time": "2022-01-23T08:15:05.439Z"
   },
   {
    "duration": 13011,
    "start_time": "2022-01-23T08:15:05.463Z"
   },
   {
    "duration": 29,
    "start_time": "2022-01-23T08:15:18.477Z"
   },
   {
    "duration": 449,
    "start_time": "2022-01-23T08:15:18.524Z"
   },
   {
    "duration": 999,
    "start_time": "2022-01-23T08:18:11.002Z"
   },
   {
    "duration": 29,
    "start_time": "2022-01-23T08:18:13.483Z"
   },
   {
    "duration": 433,
    "start_time": "2022-01-23T08:24:19.327Z"
   },
   {
    "duration": 1959,
    "start_time": "2022-01-23T08:25:06.119Z"
   },
   {
    "duration": 26,
    "start_time": "2022-01-23T08:25:18.536Z"
   },
   {
    "duration": 1733,
    "start_time": "2022-01-23T08:30:17.119Z"
   },
   {
    "duration": 57,
    "start_time": "2022-01-23T08:30:41.468Z"
   },
   {
    "duration": 60,
    "start_time": "2022-01-23T08:30:53.181Z"
   },
   {
    "duration": 30,
    "start_time": "2022-01-23T08:31:01.117Z"
   },
   {
    "duration": 7,
    "start_time": "2022-01-23T08:32:51.141Z"
   },
   {
    "duration": 31,
    "start_time": "2022-01-23T08:33:02.173Z"
   },
   {
    "duration": 6358,
    "start_time": "2022-01-23T08:33:39.061Z"
   },
   {
    "duration": 27,
    "start_time": "2022-01-23T08:33:47.822Z"
   },
   {
    "duration": 35,
    "start_time": "2022-01-23T08:35:22.273Z"
   },
   {
    "duration": 2816,
    "start_time": "2022-01-23T08:36:01.507Z"
   },
   {
    "duration": 344,
    "start_time": "2022-01-23T08:36:04.325Z"
   },
   {
    "duration": 29,
    "start_time": "2022-01-23T08:36:04.672Z"
   },
   {
    "duration": 52,
    "start_time": "2022-01-23T08:36:04.703Z"
   },
   {
    "duration": 48092,
    "start_time": "2022-01-23T08:36:04.757Z"
   },
   {
    "duration": 82,
    "start_time": "2022-01-23T08:36:52.852Z"
   },
   {
    "duration": 94,
    "start_time": "2022-01-23T08:36:52.937Z"
   },
   {
    "duration": 444,
    "start_time": "2022-01-23T08:36:53.036Z"
   },
   {
    "duration": 7,
    "start_time": "2022-01-23T08:36:53.484Z"
   },
   {
    "duration": 39,
    "start_time": "2022-01-23T08:36:53.495Z"
   },
   {
    "duration": 7567,
    "start_time": "2022-01-23T08:36:53.537Z"
   },
   {
    "duration": 24,
    "start_time": "2022-01-23T08:37:01.106Z"
   },
   {
    "duration": 27,
    "start_time": "2022-01-23T08:37:01.133Z"
   },
   {
    "duration": 17,
    "start_time": "2022-01-23T08:37:01.164Z"
   },
   {
    "duration": 5647,
    "start_time": "2022-01-23T08:37:01.185Z"
   },
   {
    "duration": 30,
    "start_time": "2022-01-23T08:37:06.835Z"
   },
   {
    "duration": 7155,
    "start_time": "2022-01-23T08:37:06.868Z"
   },
   {
    "duration": 38,
    "start_time": "2022-01-23T08:37:14.026Z"
   },
   {
    "duration": 6,
    "start_time": "2022-01-23T08:37:14.066Z"
   },
   {
    "duration": 9,
    "start_time": "2022-01-23T08:37:57.889Z"
   },
   {
    "duration": 16,
    "start_time": "2022-01-23T08:42:01.125Z"
   },
   {
    "duration": 38,
    "start_time": "2022-01-23T08:42:42.581Z"
   },
   {
    "duration": 8,
    "start_time": "2022-01-23T08:42:55.989Z"
   },
   {
    "duration": 2631,
    "start_time": "2022-01-23T08:43:33.916Z"
   },
   {
    "duration": 253,
    "start_time": "2022-01-23T08:43:36.549Z"
   },
   {
    "duration": 36,
    "start_time": "2022-01-23T08:43:36.805Z"
   },
   {
    "duration": 35,
    "start_time": "2022-01-23T08:43:36.843Z"
   },
   {
    "duration": 44381,
    "start_time": "2022-01-23T08:43:36.880Z"
   },
   {
    "duration": 66,
    "start_time": "2022-01-23T08:44:21.264Z"
   },
   {
    "duration": 91,
    "start_time": "2022-01-23T08:44:21.332Z"
   },
   {
    "duration": 280,
    "start_time": "2022-01-23T08:44:21.426Z"
   },
   {
    "duration": 46,
    "start_time": "2022-01-23T08:44:21.709Z"
   },
   {
    "duration": 5,
    "start_time": "2022-01-23T08:44:21.763Z"
   },
   {
    "duration": 17,
    "start_time": "2022-01-23T08:44:21.771Z"
   },
   {
    "duration": 6865,
    "start_time": "2022-01-23T08:44:21.790Z"
   },
   {
    "duration": 14,
    "start_time": "2022-01-23T08:44:28.657Z"
   },
   {
    "duration": 22,
    "start_time": "2022-01-23T08:44:28.674Z"
   },
   {
    "duration": 32,
    "start_time": "2022-01-23T08:44:28.698Z"
   },
   {
    "duration": 5856,
    "start_time": "2022-01-23T08:44:28.732Z"
   },
   {
    "duration": 22,
    "start_time": "2022-01-23T08:44:34.591Z"
   },
   {
    "duration": 2608,
    "start_time": "2022-01-23T08:44:34.615Z"
   },
   {
    "duration": 34,
    "start_time": "2022-01-23T08:44:37.225Z"
   },
   {
    "duration": 7,
    "start_time": "2022-01-23T08:44:37.261Z"
   },
   {
    "duration": 8,
    "start_time": "2022-01-23T08:44:37.271Z"
   },
   {
    "duration": 3644,
    "start_time": "2022-01-23T08:48:37.919Z"
   },
   {
    "duration": 345,
    "start_time": "2022-01-23T08:48:41.566Z"
   },
   {
    "duration": 48,
    "start_time": "2022-01-23T08:48:41.915Z"
   },
   {
    "duration": 75,
    "start_time": "2022-01-23T08:48:41.967Z"
   },
   {
    "duration": 43200,
    "start_time": "2022-01-23T08:48:42.045Z"
   },
   {
    "duration": 88,
    "start_time": "2022-01-23T08:49:25.248Z"
   },
   {
    "duration": 96,
    "start_time": "2022-01-23T08:49:25.339Z"
   },
   {
    "duration": 274,
    "start_time": "2022-01-23T08:49:25.438Z"
   },
   {
    "duration": 44,
    "start_time": "2022-01-23T08:49:25.714Z"
   },
   {
    "duration": 5,
    "start_time": "2022-01-23T08:49:25.760Z"
   },
   {
    "duration": 17,
    "start_time": "2022-01-23T08:49:25.767Z"
   },
   {
    "duration": 6615,
    "start_time": "2022-01-23T08:49:25.824Z"
   },
   {
    "duration": 16,
    "start_time": "2022-01-23T08:49:32.441Z"
   },
   {
    "duration": 28,
    "start_time": "2022-01-23T08:49:32.460Z"
   },
   {
    "duration": 36,
    "start_time": "2022-01-23T08:49:32.492Z"
   },
   {
    "duration": 151500,
    "start_time": "2022-01-23T08:49:32.531Z"
   },
   {
    "duration": 24,
    "start_time": "2022-01-23T08:52:04.033Z"
   },
   {
    "duration": 3881,
    "start_time": "2022-01-23T08:52:04.060Z"
   },
   {
    "duration": 950,
    "start_time": "2022-01-23T08:52:06.993Z"
   },
   {
    "duration": 945,
    "start_time": "2022-01-23T08:52:07.000Z"
   },
   {
    "duration": 8525,
    "start_time": "2022-01-23T08:53:02.925Z"
   },
   {
    "duration": 27,
    "start_time": "2022-01-23T08:53:14.813Z"
   },
   {
    "duration": 29,
    "start_time": "2022-01-23T08:53:28.357Z"
   },
   {
    "duration": 6,
    "start_time": "2022-01-23T08:55:09.239Z"
   },
   {
    "duration": 6,
    "start_time": "2022-01-23T08:55:39.375Z"
   },
   {
    "duration": 7,
    "start_time": "2022-01-23T08:56:00.278Z"
   },
   {
    "duration": 8,
    "start_time": "2022-01-23T08:59:37.426Z"
   },
   {
    "duration": 13,
    "start_time": "2022-01-23T09:05:15.213Z"
   },
   {
    "duration": 5,
    "start_time": "2022-01-23T09:05:47.509Z"
   },
   {
    "duration": 408760,
    "start_time": "2022-01-23T09:05:55.430Z"
   },
   {
    "duration": 192,
    "start_time": "2022-01-23T09:16:18.620Z"
   },
   {
    "duration": 45,
    "start_time": "2022-01-23T09:18:21.446Z"
   },
   {
    "duration": 24,
    "start_time": "2022-01-23T09:19:29.456Z"
   },
   {
    "duration": 117,
    "start_time": "2022-01-23T09:19:58.128Z"
   },
   {
    "duration": 5,
    "start_time": "2022-01-23T09:20:35.626Z"
   },
   {
    "duration": 14,
    "start_time": "2022-01-23T09:21:41.153Z"
   },
   {
    "duration": 165,
    "start_time": "2022-01-23T09:21:49.161Z"
   },
   {
    "duration": 6,
    "start_time": "2022-01-23T09:22:13.857Z"
   },
   {
    "duration": 5,
    "start_time": "2022-01-23T09:22:15.586Z"
   },
   {
    "duration": 14,
    "start_time": "2022-01-23T09:23:20.026Z"
   },
   {
    "duration": 5,
    "start_time": "2022-01-23T09:23:38.210Z"
   },
   {
    "duration": 5,
    "start_time": "2022-01-23T09:23:38.693Z"
   },
   {
    "duration": 15,
    "start_time": "2022-01-23T09:24:10.843Z"
   },
   {
    "duration": 5,
    "start_time": "2022-01-23T09:25:03.060Z"
   },
   {
    "duration": 5,
    "start_time": "2022-01-23T09:25:03.812Z"
   },
   {
    "duration": 32,
    "start_time": "2022-01-23T09:25:10.819Z"
   },
   {
    "duration": 25,
    "start_time": "2022-01-23T09:25:19.507Z"
   },
   {
    "duration": 158,
    "start_time": "2022-01-23T09:25:52.379Z"
   },
   {
    "duration": 6,
    "start_time": "2022-01-23T09:26:04.267Z"
   },
   {
    "duration": 6,
    "start_time": "2022-01-23T09:26:17.916Z"
   },
   {
    "duration": 23,
    "start_time": "2022-01-23T09:26:47.804Z"
   },
   {
    "duration": 20,
    "start_time": "2022-01-23T09:26:56.253Z"
   },
   {
    "duration": 45,
    "start_time": "2022-01-23T09:27:07.373Z"
   },
   {
    "duration": 20,
    "start_time": "2022-01-23T09:27:16.662Z"
   },
   {
    "duration": 23,
    "start_time": "2022-01-23T09:27:40.717Z"
   },
   {
    "duration": 25,
    "start_time": "2022-01-23T09:27:43.277Z"
   },
   {
    "duration": 277,
    "start_time": "2022-01-23T09:31:17.112Z"
   },
   {
    "duration": 7,
    "start_time": "2022-01-23T09:31:22.136Z"
   },
   {
    "duration": 6,
    "start_time": "2022-01-23T09:31:29.255Z"
   },
   {
    "duration": 82,
    "start_time": "2022-01-23T09:33:12.913Z"
   },
   {
    "duration": 5,
    "start_time": "2022-01-23T09:33:21.217Z"
   },
   {
    "duration": 284,
    "start_time": "2022-01-23T09:33:47.505Z"
   },
   {
    "duration": 31,
    "start_time": "2022-01-23T09:34:58.339Z"
   },
   {
    "duration": 5,
    "start_time": "2022-01-23T09:35:01.243Z"
   },
   {
    "duration": 22,
    "start_time": "2022-01-23T09:35:24.675Z"
   },
   {
    "duration": 22,
    "start_time": "2022-01-23T09:35:44.995Z"
   },
   {
    "duration": 5,
    "start_time": "2022-01-23T09:35:46.171Z"
   },
   {
    "duration": 24,
    "start_time": "2022-01-23T09:35:47.404Z"
   },
   {
    "duration": 29,
    "start_time": "2022-01-23T09:36:01.828Z"
   },
   {
    "duration": 23,
    "start_time": "2022-01-23T09:37:03.013Z"
   },
   {
    "duration": 4,
    "start_time": "2022-01-23T09:37:57.685Z"
   },
   {
    "duration": 39,
    "start_time": "2022-01-23T09:38:31.605Z"
   },
   {
    "duration": 93,
    "start_time": "2022-01-23T09:40:22.159Z"
   },
   {
    "duration": 6,
    "start_time": "2022-01-23T09:40:33.595Z"
   },
   {
    "duration": 7,
    "start_time": "2022-01-23T09:41:48.439Z"
   },
   {
    "duration": 56,
    "start_time": "2022-01-23T09:41:49.432Z"
   },
   {
    "duration": 177,
    "start_time": "2022-01-23T09:42:29.104Z"
   },
   {
    "duration": 65,
    "start_time": "2022-01-23T09:42:31.948Z"
   },
   {
    "duration": 6,
    "start_time": "2022-01-23T09:43:55.193Z"
   },
   {
    "duration": 8,
    "start_time": "2022-01-23T09:45:45.203Z"
   },
   {
    "duration": 7,
    "start_time": "2022-01-23T09:45:57.435Z"
   },
   {
    "duration": 4,
    "start_time": "2022-01-23T09:45:59.235Z"
   },
   {
    "duration": 9,
    "start_time": "2022-01-23T09:46:21.899Z"
   },
   {
    "duration": 178,
    "start_time": "2022-01-23T09:50:10.479Z"
   },
   {
    "duration": 5,
    "start_time": "2022-01-23T09:52:15.360Z"
   },
   {
    "duration": 3,
    "start_time": "2022-01-23T09:53:18.921Z"
   },
   {
    "duration": 3,
    "start_time": "2022-01-23T09:53:54.351Z"
   },
   {
    "duration": 40,
    "start_time": "2022-01-23T09:57:48.268Z"
   },
   {
    "duration": 122,
    "start_time": "2022-01-23T09:57:55.780Z"
   },
   {
    "duration": 5,
    "start_time": "2022-01-23T09:57:57.276Z"
   },
   {
    "duration": 14,
    "start_time": "2022-01-23T09:59:28.461Z"
   },
   {
    "duration": 9,
    "start_time": "2022-01-23T09:59:38.049Z"
   },
   {
    "duration": 3,
    "start_time": "2022-01-23T10:00:39.799Z"
   },
   {
    "duration": 445,
    "start_time": "2022-01-23T10:02:29.256Z"
   },
   {
    "duration": 7,
    "start_time": "2022-01-23T10:02:42.144Z"
   },
   {
    "duration": 3,
    "start_time": "2022-01-23T10:03:29.055Z"
   },
   {
    "duration": 600,
    "start_time": "2022-01-23T10:04:28.154Z"
   },
   {
    "duration": 293,
    "start_time": "2022-01-23T10:04:29.105Z"
   },
   {
    "duration": 8,
    "start_time": "2022-01-23T10:05:11.490Z"
   },
   {
    "duration": 5,
    "start_time": "2022-01-23T10:05:55.162Z"
   },
   {
    "duration": 7,
    "start_time": "2022-01-23T10:06:15.772Z"
   },
   {
    "duration": 620,
    "start_time": "2022-01-23T10:06:27.146Z"
   },
   {
    "duration": 5,
    "start_time": "2022-01-23T10:09:22.300Z"
   },
   {
    "duration": 34,
    "start_time": "2022-01-23T10:09:34.908Z"
   },
   {
    "duration": 134,
    "start_time": "2022-01-23T10:09:36.724Z"
   },
   {
    "duration": 5,
    "start_time": "2022-01-23T10:09:37.861Z"
   },
   {
    "duration": 9,
    "start_time": "2022-01-23T10:09:40.428Z"
   },
   {
    "duration": 417,
    "start_time": "2022-01-23T10:09:43.803Z"
   },
   {
    "duration": 6,
    "start_time": "2022-01-23T10:09:46.188Z"
   },
   {
    "duration": 611,
    "start_time": "2022-01-23T10:09:48.492Z"
   },
   {
    "duration": 290,
    "start_time": "2022-01-23T10:14:53.991Z"
   },
   {
    "duration": 231,
    "start_time": "2022-01-23T10:15:05.583Z"
   },
   {
    "duration": 308,
    "start_time": "2022-01-23T10:15:12.384Z"
   },
   {
    "duration": 25,
    "start_time": "2022-01-23T10:15:19.999Z"
   },
   {
    "duration": 276,
    "start_time": "2022-01-23T10:15:28.584Z"
   },
   {
    "duration": 8,
    "start_time": "2022-01-23T10:15:49.544Z"
   },
   {
    "duration": 27,
    "start_time": "2022-01-23T10:16:01.888Z"
   },
   {
    "duration": 5,
    "start_time": "2022-01-23T10:16:07.849Z"
   },
   {
    "duration": 54,
    "start_time": "2022-01-23T10:17:32.078Z"
   },
   {
    "duration": 5,
    "start_time": "2022-01-23T10:19:45.027Z"
   },
   {
    "duration": 292,
    "start_time": "2022-01-23T10:20:19.699Z"
   },
   {
    "duration": 129,
    "start_time": "2022-01-23T10:22:55.135Z"
   },
   {
    "duration": 5,
    "start_time": "2022-01-23T10:23:13.295Z"
   },
   {
    "duration": 18,
    "start_time": "2022-01-23T10:25:08.671Z"
   },
   {
    "duration": 445,
    "start_time": "2022-01-23T10:25:10.568Z"
   },
   {
    "duration": 140,
    "start_time": "2022-01-23T10:25:24.920Z"
   },
   {
    "duration": 5,
    "start_time": "2022-01-23T10:25:29.176Z"
   },
   {
    "duration": 9,
    "start_time": "2022-01-23T10:25:43.576Z"
   },
   {
    "duration": 568,
    "start_time": "2022-01-23T10:25:51.343Z"
   },
   {
    "duration": 4,
    "start_time": "2022-01-23T10:25:58.528Z"
   },
   {
    "duration": 631,
    "start_time": "2022-01-23T10:25:59.664Z"
   },
   {
    "duration": 3042,
    "start_time": "2022-01-23T10:26:46.851Z"
   },
   {
    "duration": 269,
    "start_time": "2022-01-23T10:26:49.896Z"
   },
   {
    "duration": 6,
    "start_time": "2022-01-23T10:26:50.168Z"
   },
   {
    "duration": 49,
    "start_time": "2022-01-23T10:26:50.177Z"
   },
   {
    "duration": 46,
    "start_time": "2022-01-23T10:26:50.228Z"
   },
   {
    "duration": 7,
    "start_time": "2022-01-23T10:26:50.276Z"
   },
   {
    "duration": 96,
    "start_time": "2022-01-23T10:26:50.285Z"
   },
   {
    "duration": 276,
    "start_time": "2022-01-23T10:26:50.385Z"
   },
   {
    "duration": 39,
    "start_time": "2022-01-23T10:26:50.664Z"
   },
   {
    "duration": 20,
    "start_time": "2022-01-23T10:26:50.705Z"
   },
   {
    "duration": 209,
    "start_time": "2022-01-23T10:26:50.728Z"
   },
   {
    "duration": 7,
    "start_time": "2022-01-23T10:26:50.940Z"
   },
   {
    "duration": 839,
    "start_time": "2022-01-23T10:26:50.949Z"
   },
   {
    "duration": 1000,
    "start_time": "2022-01-23T10:26:50.791Z"
   },
   {
    "duration": 999,
    "start_time": "2022-01-23T10:26:50.794Z"
   },
   {
    "duration": 996,
    "start_time": "2022-01-23T10:26:50.798Z"
   },
   {
    "duration": 990,
    "start_time": "2022-01-23T10:26:50.806Z"
   },
   {
    "duration": 989,
    "start_time": "2022-01-23T10:26:50.808Z"
   },
   {
    "duration": 988,
    "start_time": "2022-01-23T10:26:50.811Z"
   },
   {
    "duration": 987,
    "start_time": "2022-01-23T10:26:50.814Z"
   },
   {
    "duration": 980,
    "start_time": "2022-01-23T10:26:50.822Z"
   },
   {
    "duration": 980,
    "start_time": "2022-01-23T10:26:50.824Z"
   },
   {
    "duration": 978,
    "start_time": "2022-01-23T10:26:50.827Z"
   },
   {
    "duration": 975,
    "start_time": "2022-01-23T10:26:50.831Z"
   },
   {
    "duration": 970,
    "start_time": "2022-01-23T10:26:50.838Z"
   },
   {
    "duration": 969,
    "start_time": "2022-01-23T10:26:50.840Z"
   },
   {
    "duration": 966,
    "start_time": "2022-01-23T10:26:50.844Z"
   },
   {
    "duration": 965,
    "start_time": "2022-01-23T10:26:50.847Z"
   },
   {
    "duration": 960,
    "start_time": "2022-01-23T10:26:50.853Z"
   },
   {
    "duration": 958,
    "start_time": "2022-01-23T10:26:50.856Z"
   },
   {
    "duration": 956,
    "start_time": "2022-01-23T10:26:50.859Z"
   },
   {
    "duration": 2987,
    "start_time": "2022-01-23T10:28:34.426Z"
   },
   {
    "duration": 276,
    "start_time": "2022-01-23T10:28:37.416Z"
   },
   {
    "duration": 5,
    "start_time": "2022-01-23T10:28:37.698Z"
   },
   {
    "duration": 44,
    "start_time": "2022-01-23T10:28:37.705Z"
   },
   {
    "duration": 77,
    "start_time": "2022-01-23T10:28:37.752Z"
   },
   {
    "duration": 5,
    "start_time": "2022-01-23T10:28:37.832Z"
   },
   {
    "duration": 92,
    "start_time": "2022-01-23T10:28:37.841Z"
   },
   {
    "duration": 265,
    "start_time": "2022-01-23T10:28:37.936Z"
   },
   {
    "duration": 46,
    "start_time": "2022-01-23T10:28:38.204Z"
   },
   {
    "duration": 9,
    "start_time": "2022-01-23T10:28:38.252Z"
   },
   {
    "duration": 216,
    "start_time": "2022-01-23T10:28:38.264Z"
   },
   {
    "duration": 41408,
    "start_time": "2022-01-23T10:28:38.483Z"
   },
   {
    "duration": 51,
    "start_time": "2022-01-23T10:29:19.894Z"
   },
   {
    "duration": 7416,
    "start_time": "2022-01-23T10:29:19.947Z"
   },
   {
    "duration": 14,
    "start_time": "2022-01-23T10:29:27.365Z"
   },
   {
    "duration": 19,
    "start_time": "2022-01-23T10:29:27.381Z"
   },
   {
    "duration": 10,
    "start_time": "2022-01-23T10:29:27.424Z"
   },
   {
    "duration": 374,
    "start_time": "2022-01-23T10:29:27.438Z"
   },
   {
    "duration": 21,
    "start_time": "2022-01-23T10:29:27.815Z"
   },
   {
    "duration": 335,
    "start_time": "2022-01-23T10:29:27.840Z"
   },
   {
    "duration": 992,
    "start_time": "2022-01-23T10:29:27.186Z"
   },
   {
    "duration": 991,
    "start_time": "2022-01-23T10:29:27.189Z"
   },
   {
    "duration": 990,
    "start_time": "2022-01-23T10:29:27.191Z"
   },
   {
    "duration": 990,
    "start_time": "2022-01-23T10:29:27.193Z"
   },
   {
    "duration": 989,
    "start_time": "2022-01-23T10:29:27.196Z"
   },
   {
    "duration": 985,
    "start_time": "2022-01-23T10:29:27.201Z"
   },
   {
    "duration": 985,
    "start_time": "2022-01-23T10:29:27.202Z"
   },
   {
    "duration": 983,
    "start_time": "2022-01-23T10:29:27.205Z"
   },
   {
    "duration": 983,
    "start_time": "2022-01-23T10:29:27.207Z"
   },
   {
    "duration": 982,
    "start_time": "2022-01-23T10:29:27.210Z"
   },
   {
    "duration": 317,
    "start_time": "2022-01-23T10:41:47.602Z"
   },
   {
    "duration": 248,
    "start_time": "2022-01-23T10:42:10.834Z"
   },
   {
    "duration": 4,
    "start_time": "2022-01-23T10:42:13.090Z"
   },
   {
    "duration": 25,
    "start_time": "2022-01-23T10:42:13.779Z"
   },
   {
    "duration": 273,
    "start_time": "2022-01-23T10:42:58.258Z"
   },
   {
    "duration": 281,
    "start_time": "2022-01-23T10:43:05.282Z"
   },
   {
    "duration": 5,
    "start_time": "2022-01-23T10:43:05.794Z"
   },
   {
    "duration": 25,
    "start_time": "2022-01-23T10:43:06.355Z"
   },
   {
    "duration": 45,
    "start_time": "2022-01-23T10:43:12.195Z"
   },
   {
    "duration": 6,
    "start_time": "2022-01-23T10:43:15.770Z"
   },
   {
    "duration": 37,
    "start_time": "2022-01-23T10:43:16.596Z"
   },
   {
    "duration": 238,
    "start_time": "2022-01-23T10:43:20.163Z"
   },
   {
    "duration": 38,
    "start_time": "2022-01-23T10:43:21.866Z"
   },
   {
    "duration": 10,
    "start_time": "2022-01-23T10:43:46.435Z"
   },
   {
    "duration": 12,
    "start_time": "2022-01-23T10:44:04.803Z"
   },
   {
    "duration": 52,
    "start_time": "2022-01-23T10:44:24.403Z"
   },
   {
    "duration": 213,
    "start_time": "2022-01-23T10:44:53.796Z"
   },
   {
    "duration": 4,
    "start_time": "2022-01-23T10:44:54.717Z"
   },
   {
    "duration": 267,
    "start_time": "2022-01-23T10:45:15.277Z"
   },
   {
    "duration": 38,
    "start_time": "2022-01-23T10:45:16.555Z"
   },
   {
    "duration": 56,
    "start_time": "2022-01-23T10:45:17.213Z"
   },
   {
    "duration": 10,
    "start_time": "2022-01-23T10:45:30.228Z"
   },
   {
    "duration": 16,
    "start_time": "2022-01-23T10:45:38.884Z"
   },
   {
    "duration": 175,
    "start_time": "2022-01-23T10:45:50.292Z"
   },
   {
    "duration": 6725,
    "start_time": "2022-01-23T10:45:58.941Z"
   },
   {
    "duration": 15,
    "start_time": "2022-01-23T10:46:07.477Z"
   },
   {
    "duration": 18,
    "start_time": "2022-01-23T10:46:09.341Z"
   },
   {
    "duration": 11,
    "start_time": "2022-01-23T10:46:20.613Z"
   },
   {
    "duration": 1354,
    "start_time": "2022-01-23T10:46:32.249Z"
   },
   {
    "duration": 3259,
    "start_time": "2022-01-23T10:46:44.031Z"
   },
   {
    "duration": 274,
    "start_time": "2022-01-23T10:46:47.293Z"
   },
   {
    "duration": 5,
    "start_time": "2022-01-23T10:46:47.570Z"
   },
   {
    "duration": 61,
    "start_time": "2022-01-23T10:46:47.578Z"
   },
   {
    "duration": 81,
    "start_time": "2022-01-23T10:46:47.643Z"
   },
   {
    "duration": 8,
    "start_time": "2022-01-23T10:46:47.727Z"
   },
   {
    "duration": 97,
    "start_time": "2022-01-23T10:46:47.737Z"
   },
   {
    "duration": 271,
    "start_time": "2022-01-23T10:46:47.837Z"
   },
   {
    "duration": 43,
    "start_time": "2022-01-23T10:46:48.113Z"
   },
   {
    "duration": 9,
    "start_time": "2022-01-23T10:46:48.159Z"
   },
   {
    "duration": 219,
    "start_time": "2022-01-23T10:46:48.170Z"
   },
   {
    "duration": 41673,
    "start_time": "2022-01-23T10:46:48.391Z"
   },
   {
    "duration": 73,
    "start_time": "2022-01-23T10:47:30.068Z"
   },
   {
    "duration": 6866,
    "start_time": "2022-01-23T10:47:30.144Z"
   },
   {
    "duration": 24,
    "start_time": "2022-01-23T10:47:37.013Z"
   },
   {
    "duration": 23,
    "start_time": "2022-01-23T10:47:37.040Z"
   },
   {
    "duration": 11,
    "start_time": "2022-01-23T10:47:37.066Z"
   },
   {
    "duration": 1467,
    "start_time": "2022-01-23T10:47:37.080Z"
   },
   {
    "duration": 27,
    "start_time": "2022-01-23T10:47:38.550Z"
   },
   {
    "duration": 2121,
    "start_time": "2022-01-23T10:47:38.580Z"
   },
   {
    "duration": 39,
    "start_time": "2022-01-23T10:47:40.703Z"
   },
   {
    "duration": 7,
    "start_time": "2022-01-23T10:47:40.746Z"
   },
   {
    "duration": 89,
    "start_time": "2022-01-23T10:47:40.756Z"
   },
   {
    "duration": 134,
    "start_time": "2022-01-23T10:47:40.848Z"
   },
   {
    "duration": 6,
    "start_time": "2022-01-23T10:47:40.984Z"
   },
   {
    "duration": 33,
    "start_time": "2022-01-23T10:47:40.993Z"
   },
   {
    "duration": 447,
    "start_time": "2022-01-23T10:47:41.031Z"
   },
   {
    "duration": 5,
    "start_time": "2022-01-23T10:47:41.481Z"
   },
   {
    "duration": 790,
    "start_time": "2022-01-23T10:47:41.489Z"
   },
   {
    "duration": -31,
    "start_time": "2022-01-23T10:47:42.313Z"
   },
   {
    "duration": 6,
    "start_time": "2022-01-23T10:51:20.594Z"
   },
   {
    "duration": 182,
    "start_time": "2022-01-23T10:51:21.267Z"
   },
   {
    "duration": 9,
    "start_time": "2022-01-23T10:51:49.347Z"
   },
   {
    "duration": 205,
    "start_time": "2022-01-23T10:51:56.586Z"
   },
   {
    "duration": 10,
    "start_time": "2022-01-23T10:51:57.859Z"
   },
   {
    "duration": 278,
    "start_time": "2022-01-23T10:52:04.074Z"
   },
   {
    "duration": 10,
    "start_time": "2022-01-23T10:52:05.523Z"
   },
   {
    "duration": 155,
    "start_time": "2022-01-23T10:52:20.722Z"
   },
   {
    "duration": 11,
    "start_time": "2022-01-23T10:52:21.674Z"
   },
   {
    "duration": 186,
    "start_time": "2022-01-23T10:52:28.059Z"
   },
   {
    "duration": 10,
    "start_time": "2022-01-23T10:52:29.098Z"
   },
   {
    "duration": 202,
    "start_time": "2022-01-23T10:53:17.355Z"
   },
   {
    "duration": 10,
    "start_time": "2022-01-23T10:53:18.635Z"
   },
   {
    "duration": 174,
    "start_time": "2022-01-23T10:53:28.739Z"
   },
   {
    "duration": 10,
    "start_time": "2022-01-23T10:53:30.171Z"
   },
   {
    "duration": 157,
    "start_time": "2022-01-23T10:53:38.069Z"
   },
   {
    "duration": 10,
    "start_time": "2022-01-23T10:53:39.356Z"
   },
   {
    "duration": 1384,
    "start_time": "2022-01-23T10:54:33.796Z"
   },
   {
    "duration": 178,
    "start_time": "2022-01-23T10:54:43.652Z"
   },
   {
    "duration": 10,
    "start_time": "2022-01-23T10:54:46.117Z"
   },
   {
    "duration": 9,
    "start_time": "2022-01-23T10:58:10.400Z"
   },
   {
    "duration": 211,
    "start_time": "2022-01-23T10:58:10.887Z"
   },
   {
    "duration": 9,
    "start_time": "2022-01-23T10:58:11.919Z"
   },
   {
    "duration": 11,
    "start_time": "2022-01-23T10:59:34.729Z"
   },
   {
    "duration": 10,
    "start_time": "2022-01-23T10:59:38.569Z"
   },
   {
    "duration": 3,
    "start_time": "2022-01-23T11:02:04.811Z"
   },
   {
    "duration": 11,
    "start_time": "2022-01-23T11:03:11.572Z"
   },
   {
    "duration": 3,
    "start_time": "2022-01-23T11:03:43.924Z"
   },
   {
    "duration": 3382,
    "start_time": "2022-01-23T11:09:45.492Z"
   },
   {
    "duration": 5,
    "start_time": "2022-01-23T11:09:48.873Z"
   },
   {
    "duration": 4,
    "start_time": "2022-01-23T11:09:48.876Z"
   },
   {
    "duration": -4,
    "start_time": "2022-01-23T11:09:48.885Z"
   },
   {
    "duration": -6,
    "start_time": "2022-01-23T11:09:48.889Z"
   },
   {
    "duration": -8,
    "start_time": "2022-01-23T11:09:48.892Z"
   },
   {
    "duration": -16,
    "start_time": "2022-01-23T11:09:48.901Z"
   },
   {
    "duration": -17,
    "start_time": "2022-01-23T11:09:48.904Z"
   },
   {
    "duration": -30,
    "start_time": "2022-01-23T11:09:48.918Z"
   },
   {
    "duration": -37,
    "start_time": "2022-01-23T11:09:48.926Z"
   },
   {
    "duration": -43,
    "start_time": "2022-01-23T11:09:48.933Z"
   },
   {
    "duration": -44,
    "start_time": "2022-01-23T11:09:48.936Z"
   },
   {
    "duration": -47,
    "start_time": "2022-01-23T11:09:48.940Z"
   },
   {
    "duration": -49,
    "start_time": "2022-01-23T11:09:48.944Z"
   },
   {
    "duration": -54,
    "start_time": "2022-01-23T11:09:48.950Z"
   },
   {
    "duration": -57,
    "start_time": "2022-01-23T11:09:48.955Z"
   },
   {
    "duration": -59,
    "start_time": "2022-01-23T11:09:48.958Z"
   },
   {
    "duration": -62,
    "start_time": "2022-01-23T11:09:48.962Z"
   },
   {
    "duration": -68,
    "start_time": "2022-01-23T11:09:48.970Z"
   },
   {
    "duration": -70,
    "start_time": "2022-01-23T11:09:48.974Z"
   },
   {
    "duration": -123,
    "start_time": "2022-01-23T11:09:49.028Z"
   },
   {
    "duration": -134,
    "start_time": "2022-01-23T11:09:49.041Z"
   },
   {
    "duration": -137,
    "start_time": "2022-01-23T11:09:49.045Z"
   },
   {
    "duration": -146,
    "start_time": "2022-01-23T11:09:49.056Z"
   },
   {
    "duration": -147,
    "start_time": "2022-01-23T11:09:49.058Z"
   },
   {
    "duration": -149,
    "start_time": "2022-01-23T11:09:49.062Z"
   },
   {
    "duration": -154,
    "start_time": "2022-01-23T11:09:49.068Z"
   },
   {
    "duration": -148,
    "start_time": "2022-01-23T11:09:49.071Z"
   },
   {
    "duration": -150,
    "start_time": "2022-01-23T11:09:49.074Z"
   },
   {
    "duration": -151,
    "start_time": "2022-01-23T11:09:49.077Z"
   },
   {
    "duration": -163,
    "start_time": "2022-01-23T11:09:49.090Z"
   },
   {
    "duration": -163,
    "start_time": "2022-01-23T11:09:49.092Z"
   },
   {
    "duration": -168,
    "start_time": "2022-01-23T11:09:49.098Z"
   },
   {
    "duration": -175,
    "start_time": "2022-01-23T11:09:49.107Z"
   },
   {
    "duration": -177,
    "start_time": "2022-01-23T11:09:49.110Z"
   },
   {
    "duration": -182,
    "start_time": "2022-01-23T11:09:49.116Z"
   },
   {
    "duration": -183,
    "start_time": "2022-01-23T11:09:49.119Z"
   },
   {
    "duration": -186,
    "start_time": "2022-01-23T11:09:49.123Z"
   },
   {
    "duration": -193,
    "start_time": "2022-01-23T11:09:49.132Z"
   },
   {
    "duration": 3385,
    "start_time": "2022-01-23T11:10:41.022Z"
   },
   {
    "duration": 379,
    "start_time": "2022-01-23T11:10:44.411Z"
   },
   {
    "duration": 6,
    "start_time": "2022-01-23T11:10:44.795Z"
   },
   {
    "duration": 58,
    "start_time": "2022-01-23T11:10:44.805Z"
   },
   {
    "duration": 76,
    "start_time": "2022-01-23T11:10:44.866Z"
   },
   {
    "duration": 8,
    "start_time": "2022-01-23T11:10:44.945Z"
   },
   {
    "duration": 93,
    "start_time": "2022-01-23T11:10:44.956Z"
   },
   {
    "duration": 272,
    "start_time": "2022-01-23T11:10:45.053Z"
   },
   {
    "duration": 40,
    "start_time": "2022-01-23T11:10:45.328Z"
   },
   {
    "duration": 8,
    "start_time": "2022-01-23T11:10:45.370Z"
   },
   {
    "duration": 219,
    "start_time": "2022-01-23T11:10:45.381Z"
   },
   {
    "duration": 42168,
    "start_time": "2022-01-23T11:10:45.602Z"
   },
   {
    "duration": 77,
    "start_time": "2022-01-23T11:11:27.772Z"
   },
   {
    "duration": 6811,
    "start_time": "2022-01-23T11:11:27.852Z"
   },
   {
    "duration": 14,
    "start_time": "2022-01-23T11:11:34.665Z"
   },
   {
    "duration": 41,
    "start_time": "2022-01-23T11:11:34.683Z"
   },
   {
    "duration": 11,
    "start_time": "2022-01-23T11:11:34.727Z"
   },
   {
    "duration": 1431,
    "start_time": "2022-01-23T11:11:34.741Z"
   },
   {
    "duration": 23,
    "start_time": "2022-01-23T11:11:36.174Z"
   },
   {
    "duration": 2285,
    "start_time": "2022-01-23T11:11:36.200Z"
   },
   {
    "duration": 40,
    "start_time": "2022-01-23T11:11:38.487Z"
   },
   {
    "duration": 7,
    "start_time": "2022-01-23T11:11:38.529Z"
   },
   {
    "duration": 89,
    "start_time": "2022-01-23T11:11:38.540Z"
   },
   {
    "duration": 148,
    "start_time": "2022-01-23T11:11:38.632Z"
   },
   {
    "duration": 5,
    "start_time": "2022-01-23T11:11:38.782Z"
   },
   {
    "duration": 34,
    "start_time": "2022-01-23T11:11:38.789Z"
   },
   {
    "duration": 453,
    "start_time": "2022-01-23T11:11:38.825Z"
   },
   {
    "duration": 6,
    "start_time": "2022-01-23T11:11:39.280Z"
   },
   {
    "duration": 196,
    "start_time": "2022-01-23T11:11:39.289Z"
   },
   {
    "duration": 9,
    "start_time": "2022-01-23T11:11:39.488Z"
   },
   {
    "duration": 29,
    "start_time": "2022-01-23T11:11:39.499Z"
   },
   {
    "duration": 235,
    "start_time": "2022-01-23T11:52:12.404Z"
   },
   {
    "duration": 3161,
    "start_time": "2022-01-23T11:52:38.437Z"
   },
   {
    "duration": 258,
    "start_time": "2022-01-23T11:52:41.601Z"
   },
   {
    "duration": 5,
    "start_time": "2022-01-23T11:52:41.862Z"
   },
   {
    "duration": 30,
    "start_time": "2022-01-23T11:52:41.870Z"
   },
   {
    "duration": 44,
    "start_time": "2022-01-23T11:52:41.923Z"
   },
   {
    "duration": 6,
    "start_time": "2022-01-23T11:52:41.970Z"
   },
   {
    "duration": 86,
    "start_time": "2022-01-23T11:52:41.978Z"
   },
   {
    "duration": 262,
    "start_time": "2022-01-23T11:52:42.068Z"
   },
   {
    "duration": 39,
    "start_time": "2022-01-23T11:52:42.334Z"
   },
   {
    "duration": 8,
    "start_time": "2022-01-23T11:52:42.375Z"
   },
   {
    "duration": 210,
    "start_time": "2022-01-23T11:52:42.385Z"
   },
   {
    "duration": 41659,
    "start_time": "2022-01-23T11:52:42.598Z"
   },
   {
    "duration": 65,
    "start_time": "2022-01-23T11:53:24.259Z"
   },
   {
    "duration": 6692,
    "start_time": "2022-01-23T11:53:24.327Z"
   },
   {
    "duration": 15,
    "start_time": "2022-01-23T11:53:31.023Z"
   },
   {
    "duration": 25,
    "start_time": "2022-01-23T11:53:31.041Z"
   },
   {
    "duration": 14,
    "start_time": "2022-01-23T11:53:31.069Z"
   },
   {
    "duration": 2237,
    "start_time": "2022-01-23T11:53:31.086Z"
   },
   {
    "duration": 21,
    "start_time": "2022-01-23T11:53:33.326Z"
   },
   {
    "duration": 2076,
    "start_time": "2022-01-23T11:53:33.349Z"
   },
   {
    "duration": 27,
    "start_time": "2022-01-23T11:53:35.427Z"
   },
   {
    "duration": 6,
    "start_time": "2022-01-23T11:53:35.457Z"
   },
   {
    "duration": 93,
    "start_time": "2022-01-23T11:53:35.467Z"
   },
   {
    "duration": 147,
    "start_time": "2022-01-23T11:53:35.563Z"
   },
   {
    "duration": 11,
    "start_time": "2022-01-23T11:53:35.712Z"
   },
   {
    "duration": 8,
    "start_time": "2022-01-23T11:53:35.726Z"
   },
   {
    "duration": 452,
    "start_time": "2022-01-23T11:53:35.736Z"
   },
   {
    "duration": 6,
    "start_time": "2022-01-23T11:53:36.190Z"
   },
   {
    "duration": 194,
    "start_time": "2022-01-23T11:53:36.198Z"
   },
   {
    "duration": 9,
    "start_time": "2022-01-23T11:53:36.394Z"
   },
   {
    "duration": 23,
    "start_time": "2022-01-23T11:53:36.405Z"
   },
   {
    "duration": 72633,
    "start_time": "2022-01-23T11:53:36.431Z"
   },
   {
    "duration": 558,
    "start_time": "2022-01-23T11:54:49.066Z"
   },
   {
    "duration": 27,
    "start_time": "2022-01-23T11:54:49.628Z"
   },
   {
    "duration": 14,
    "start_time": "2022-01-23T11:54:49.658Z"
   },
   {
    "duration": 2875,
    "start_time": "2022-01-23T12:03:02.115Z"
   },
   {
    "duration": 280,
    "start_time": "2022-01-23T12:03:04.997Z"
   },
   {
    "duration": 5,
    "start_time": "2022-01-23T12:03:05.280Z"
   },
   {
    "duration": 41,
    "start_time": "2022-01-23T12:03:05.288Z"
   },
   {
    "duration": 44,
    "start_time": "2022-01-23T12:03:05.332Z"
   },
   {
    "duration": 6,
    "start_time": "2022-01-23T12:03:05.378Z"
   },
   {
    "duration": 96,
    "start_time": "2022-01-23T12:03:05.390Z"
   },
   {
    "duration": 270,
    "start_time": "2022-01-23T12:03:05.490Z"
   },
   {
    "duration": 42,
    "start_time": "2022-01-23T12:03:05.763Z"
   },
   {
    "duration": 21,
    "start_time": "2022-01-23T12:03:05.808Z"
   },
   {
    "duration": 207,
    "start_time": "2022-01-23T12:03:05.831Z"
   },
   {
    "duration": 40942,
    "start_time": "2022-01-23T12:03:06.040Z"
   },
   {
    "duration": 56,
    "start_time": "2022-01-23T12:03:46.985Z"
   },
   {
    "duration": 6790,
    "start_time": "2022-01-23T12:03:47.043Z"
   },
   {
    "duration": 15,
    "start_time": "2022-01-23T12:03:53.835Z"
   },
   {
    "duration": 21,
    "start_time": "2022-01-23T12:03:53.852Z"
   },
   {
    "duration": 10,
    "start_time": "2022-01-23T12:03:53.876Z"
   },
   {
    "duration": 1392,
    "start_time": "2022-01-23T12:03:53.888Z"
   },
   {
    "duration": 21,
    "start_time": "2022-01-23T12:03:55.282Z"
   },
   {
    "duration": 2090,
    "start_time": "2022-01-23T12:03:55.305Z"
   },
   {
    "duration": 35,
    "start_time": "2022-01-23T12:03:57.398Z"
   },
   {
    "duration": 7,
    "start_time": "2022-01-23T12:03:57.437Z"
   },
   {
    "duration": 79,
    "start_time": "2022-01-23T12:03:57.447Z"
   },
   {
    "duration": 132,
    "start_time": "2022-01-23T12:03:57.529Z"
   },
   {
    "duration": 4,
    "start_time": "2022-01-23T12:03:57.664Z"
   },
   {
    "duration": 28,
    "start_time": "2022-01-23T12:03:57.671Z"
   },
   {
    "duration": 430,
    "start_time": "2022-01-23T12:03:57.701Z"
   },
   {
    "duration": 6,
    "start_time": "2022-01-23T12:03:58.133Z"
   },
   {
    "duration": 232,
    "start_time": "2022-01-23T12:03:58.141Z"
   },
   {
    "duration": 13,
    "start_time": "2022-01-23T12:03:58.376Z"
   },
   {
    "duration": 31,
    "start_time": "2022-01-23T12:03:58.392Z"
   },
   {
    "duration": 74306,
    "start_time": "2022-01-23T12:03:58.425Z"
   },
   {
    "duration": 554,
    "start_time": "2022-01-23T12:05:12.734Z"
   },
   {
    "duration": 18,
    "start_time": "2022-01-23T12:05:13.290Z"
   },
   {
    "duration": 15,
    "start_time": "2022-01-23T12:05:13.310Z"
   },
   {
    "duration": 52810,
    "start_time": "2022-01-23T12:05:13.328Z"
   },
   {
    "duration": 945,
    "start_time": "2022-01-23T12:06:06.140Z"
   },
   {
    "duration": 15,
    "start_time": "2022-01-23T12:06:07.088Z"
   },
   {
    "duration": 21,
    "start_time": "2022-01-23T12:06:07.106Z"
   },
   {
    "duration": 5,
    "start_time": "2022-01-23T12:09:52.161Z"
   },
   {
    "duration": 5,
    "start_time": "2022-01-23T12:10:06.577Z"
   },
   {
    "duration": 5,
    "start_time": "2022-01-23T12:10:42.729Z"
   },
   {
    "duration": 5,
    "start_time": "2022-01-23T12:10:52.378Z"
   },
   {
    "duration": 11,
    "start_time": "2022-01-23T12:10:56.929Z"
   },
   {
    "duration": 6,
    "start_time": "2022-01-23T12:11:26.809Z"
   },
   {
    "duration": 8,
    "start_time": "2022-01-23T12:11:30.793Z"
   },
   {
    "duration": 53869,
    "start_time": "2022-01-23T12:11:45.865Z"
   },
   {
    "duration": 6,
    "start_time": "2022-01-23T12:14:10.069Z"
   },
   {
    "duration": 175,
    "start_time": "2022-01-23T12:14:13.460Z"
   },
   {
    "duration": 2907,
    "start_time": "2022-01-23T12:14:24.131Z"
   },
   {
    "duration": 304,
    "start_time": "2022-01-23T12:14:27.041Z"
   },
   {
    "duration": 5,
    "start_time": "2022-01-23T12:14:27.349Z"
   },
   {
    "duration": 29,
    "start_time": "2022-01-23T12:14:27.357Z"
   },
   {
    "duration": 71,
    "start_time": "2022-01-23T12:14:27.389Z"
   },
   {
    "duration": 6,
    "start_time": "2022-01-23T12:14:27.463Z"
   },
   {
    "duration": 89,
    "start_time": "2022-01-23T12:14:27.471Z"
   },
   {
    "duration": 281,
    "start_time": "2022-01-23T12:14:27.563Z"
   },
   {
    "duration": 42,
    "start_time": "2022-01-23T12:14:27.847Z"
   },
   {
    "duration": 9,
    "start_time": "2022-01-23T12:14:27.892Z"
   },
   {
    "duration": 230,
    "start_time": "2022-01-23T12:14:27.904Z"
   },
   {
    "duration": 44951,
    "start_time": "2022-01-23T12:14:28.137Z"
   },
   {
    "duration": 51,
    "start_time": "2022-01-23T12:15:13.091Z"
   },
   {
    "duration": 7368,
    "start_time": "2022-01-23T12:15:13.144Z"
   },
   {
    "duration": 16,
    "start_time": "2022-01-23T12:15:20.514Z"
   },
   {
    "duration": 22,
    "start_time": "2022-01-23T12:15:20.533Z"
   },
   {
    "duration": 15,
    "start_time": "2022-01-23T12:15:20.558Z"
   },
   {
    "duration": 1591,
    "start_time": "2022-01-23T12:15:20.576Z"
   },
   {
    "duration": 25,
    "start_time": "2022-01-23T12:15:22.169Z"
   },
   {
    "duration": 2310,
    "start_time": "2022-01-23T12:15:22.196Z"
   },
   {
    "duration": 35,
    "start_time": "2022-01-23T12:15:24.508Z"
   },
   {
    "duration": 6,
    "start_time": "2022-01-23T12:15:24.545Z"
   },
   {
    "duration": 81,
    "start_time": "2022-01-23T12:15:24.556Z"
   },
   {
    "duration": 146,
    "start_time": "2022-01-23T12:15:24.640Z"
   },
   {
    "duration": 5,
    "start_time": "2022-01-23T12:15:24.789Z"
   },
   {
    "duration": 8,
    "start_time": "2022-01-23T12:15:24.797Z"
   },
   {
    "duration": 447,
    "start_time": "2022-01-23T12:15:24.824Z"
   },
   {
    "duration": 5,
    "start_time": "2022-01-23T12:15:25.274Z"
   },
   {
    "duration": 194,
    "start_time": "2022-01-23T12:15:25.281Z"
   },
   {
    "duration": 8,
    "start_time": "2022-01-23T12:15:25.478Z"
   },
   {
    "duration": 11,
    "start_time": "2022-01-23T12:15:25.492Z"
   },
   {
    "duration": 73003,
    "start_time": "2022-01-23T12:15:25.524Z"
   },
   {
    "duration": 571,
    "start_time": "2022-01-23T12:16:38.530Z"
   },
   {
    "duration": 23,
    "start_time": "2022-01-23T12:16:39.104Z"
   },
   {
    "duration": 5,
    "start_time": "2022-01-23T12:16:39.130Z"
   },
   {
    "duration": 51592,
    "start_time": "2022-01-23T12:16:39.137Z"
   },
   {
    "duration": 904,
    "start_time": "2022-01-23T12:17:30.732Z"
   },
   {
    "duration": 15,
    "start_time": "2022-01-23T12:17:31.640Z"
   },
   {
    "duration": 6,
    "start_time": "2022-01-23T12:17:31.657Z"
   },
   {
    "duration": 3,
    "start_time": "2022-01-23T12:22:16.816Z"
   },
   {
    "duration": 3,
    "start_time": "2022-01-23T12:23:17.273Z"
   },
   {
    "duration": 194725,
    "start_time": "2022-01-23T12:24:07.715Z"
   },
   {
    "duration": 366,
    "start_time": "2022-01-23T12:27:22.869Z"
   },
   {
    "duration": 22,
    "start_time": "2022-01-23T12:27:23.238Z"
   },
   {
    "duration": 438,
    "start_time": "2022-01-23T12:27:23.263Z"
   },
   {
    "duration": 2752,
    "start_time": "2022-01-23T12:29:56.768Z"
   },
   {
    "duration": 288,
    "start_time": "2022-01-23T12:29:59.523Z"
   },
   {
    "duration": 5,
    "start_time": "2022-01-23T12:29:59.822Z"
   },
   {
    "duration": 34,
    "start_time": "2022-01-23T12:29:59.830Z"
   },
   {
    "duration": 69,
    "start_time": "2022-01-23T12:29:59.867Z"
   },
   {
    "duration": 7,
    "start_time": "2022-01-23T12:29:59.938Z"
   },
   {
    "duration": 85,
    "start_time": "2022-01-23T12:29:59.947Z"
   },
   {
    "duration": 274,
    "start_time": "2022-01-23T12:30:00.037Z"
   },
   {
    "duration": 43,
    "start_time": "2022-01-23T12:30:00.314Z"
   },
   {
    "duration": 8,
    "start_time": "2022-01-23T12:30:00.360Z"
   },
   {
    "duration": 208,
    "start_time": "2022-01-23T12:30:00.371Z"
   },
   {
    "duration": 41286,
    "start_time": "2022-01-23T12:30:00.582Z"
   },
   {
    "duration": 55,
    "start_time": "2022-01-23T12:30:41.871Z"
   },
   {
    "duration": 6619,
    "start_time": "2022-01-23T12:30:41.928Z"
   },
   {
    "duration": 15,
    "start_time": "2022-01-23T12:30:48.549Z"
   },
   {
    "duration": 20,
    "start_time": "2022-01-23T12:30:48.567Z"
   },
   {
    "duration": 36,
    "start_time": "2022-01-23T12:30:48.589Z"
   },
   {
    "duration": 1405,
    "start_time": "2022-01-23T12:30:48.628Z"
   },
   {
    "duration": 22,
    "start_time": "2022-01-23T12:30:50.036Z"
   },
   {
    "duration": 2763,
    "start_time": "2022-01-23T12:30:50.060Z"
   },
   {
    "duration": 25,
    "start_time": "2022-01-23T12:30:52.825Z"
   },
   {
    "duration": 6,
    "start_time": "2022-01-23T12:30:52.853Z"
   },
   {
    "duration": 87,
    "start_time": "2022-01-23T12:30:52.865Z"
   },
   {
    "duration": 161,
    "start_time": "2022-01-23T12:30:52.956Z"
   },
   {
    "duration": 7,
    "start_time": "2022-01-23T12:30:53.119Z"
   },
   {
    "duration": 11,
    "start_time": "2022-01-23T12:30:53.128Z"
   },
   {
    "duration": 447,
    "start_time": "2022-01-23T12:30:53.141Z"
   },
   {
    "duration": 10,
    "start_time": "2022-01-23T12:30:53.591Z"
   },
   {
    "duration": 196,
    "start_time": "2022-01-23T12:30:53.604Z"
   },
   {
    "duration": 8,
    "start_time": "2022-01-23T12:30:53.802Z"
   },
   {
    "duration": 19,
    "start_time": "2022-01-23T12:30:53.812Z"
   },
   {
    "duration": 72794,
    "start_time": "2022-01-23T12:30:53.833Z"
   },
   {
    "duration": 559,
    "start_time": "2022-01-23T12:32:06.631Z"
   },
   {
    "duration": 31,
    "start_time": "2022-01-23T12:32:07.193Z"
   },
   {
    "duration": 5,
    "start_time": "2022-01-23T12:32:07.227Z"
   },
   {
    "duration": 57401,
    "start_time": "2022-01-23T12:32:07.235Z"
   },
   {
    "duration": 796,
    "start_time": "2022-01-23T12:33:04.638Z"
   },
   {
    "duration": 15,
    "start_time": "2022-01-23T12:33:05.436Z"
   },
   {
    "duration": 8,
    "start_time": "2022-01-23T12:33:05.454Z"
   },
   {
    "duration": 191744,
    "start_time": "2022-01-23T12:33:05.464Z"
   },
   {
    "duration": 465,
    "start_time": "2022-01-23T12:36:17.211Z"
   },
   {
    "duration": 31,
    "start_time": "2022-01-23T12:36:17.679Z"
   },
   {
    "duration": 6,
    "start_time": "2022-01-23T12:36:17.725Z"
   },
   {
    "duration": 4082,
    "start_time": "2022-01-23T12:49:36.628Z"
   },
   {
    "duration": 339,
    "start_time": "2022-01-23T12:49:40.713Z"
   },
   {
    "duration": 6,
    "start_time": "2022-01-23T12:49:41.055Z"
   },
   {
    "duration": 33,
    "start_time": "2022-01-23T12:49:41.064Z"
   },
   {
    "duration": 71,
    "start_time": "2022-01-23T12:49:41.099Z"
   },
   {
    "duration": 8,
    "start_time": "2022-01-23T12:49:41.173Z"
   },
   {
    "duration": 94,
    "start_time": "2022-01-23T12:49:41.184Z"
   },
   {
    "duration": 296,
    "start_time": "2022-01-23T12:49:41.281Z"
   },
   {
    "duration": 45,
    "start_time": "2022-01-23T12:49:41.580Z"
   },
   {
    "duration": 11,
    "start_time": "2022-01-23T12:49:41.627Z"
   },
   {
    "duration": 214,
    "start_time": "2022-01-23T12:49:41.640Z"
   },
   {
    "duration": 43617,
    "start_time": "2022-01-23T12:49:41.856Z"
   },
   {
    "duration": 68,
    "start_time": "2022-01-23T12:50:25.476Z"
   },
   {
    "duration": 8219,
    "start_time": "2022-01-23T12:50:25.547Z"
   },
   {
    "duration": 15,
    "start_time": "2022-01-23T12:50:33.824Z"
   },
   {
    "duration": 25,
    "start_time": "2022-01-23T12:50:33.842Z"
   },
   {
    "duration": 11,
    "start_time": "2022-01-23T12:50:33.869Z"
   },
   {
    "duration": 1521,
    "start_time": "2022-01-23T12:50:33.883Z"
   },
   {
    "duration": 37,
    "start_time": "2022-01-23T12:50:35.407Z"
   },
   {
    "duration": 2295,
    "start_time": "2022-01-23T12:50:35.446Z"
   },
   {
    "duration": 26,
    "start_time": "2022-01-23T12:50:37.744Z"
   },
   {
    "duration": 8,
    "start_time": "2022-01-23T12:50:37.773Z"
   },
   {
    "duration": 94,
    "start_time": "2022-01-23T12:50:37.788Z"
   },
   {
    "duration": 153,
    "start_time": "2022-01-23T12:50:37.886Z"
   },
   {
    "duration": 6,
    "start_time": "2022-01-23T12:50:38.042Z"
   },
   {
    "duration": 11,
    "start_time": "2022-01-23T12:50:38.050Z"
   },
   {
    "duration": 488,
    "start_time": "2022-01-23T12:50:38.063Z"
   },
   {
    "duration": 7,
    "start_time": "2022-01-23T12:50:38.554Z"
   },
   {
    "duration": 209,
    "start_time": "2022-01-23T12:50:38.564Z"
   },
   {
    "duration": 10,
    "start_time": "2022-01-23T12:50:38.776Z"
   },
   {
    "duration": 34,
    "start_time": "2022-01-23T12:50:38.789Z"
   },
   {
    "duration": 77400,
    "start_time": "2022-01-23T12:50:38.827Z"
   },
   {
    "duration": 558,
    "start_time": "2022-01-23T12:51:56.232Z"
   },
   {
    "duration": 35,
    "start_time": "2022-01-23T12:51:56.793Z"
   },
   {
    "duration": 7,
    "start_time": "2022-01-23T12:51:56.831Z"
   },
   {
    "duration": 55294,
    "start_time": "2022-01-23T12:51:56.840Z"
   },
   {
    "duration": 934,
    "start_time": "2022-01-23T12:52:52.137Z"
   },
   {
    "duration": 17,
    "start_time": "2022-01-23T12:52:53.073Z"
   },
   {
    "duration": 17,
    "start_time": "2022-01-23T12:52:53.092Z"
   },
   {
    "duration": 204485,
    "start_time": "2022-01-23T12:52:53.111Z"
   },
   {
    "duration": 374,
    "start_time": "2022-01-23T12:56:17.598Z"
   },
   {
    "duration": 22,
    "start_time": "2022-01-23T12:56:17.975Z"
   },
   {
    "duration": 23,
    "start_time": "2022-01-23T12:56:18.000Z"
   },
   {
    "duration": 124320,
    "start_time": "2022-01-23T12:56:18.026Z"
   },
   {
    "duration": 402,
    "start_time": "2022-01-23T12:58:22.349Z"
   },
   {
    "duration": 18,
    "start_time": "2022-01-23T12:58:22.754Z"
   },
   {
    "duration": 10,
    "start_time": "2022-01-23T12:58:22.775Z"
   },
   {
    "duration": 52438,
    "start_time": "2022-01-23T12:58:22.788Z"
   },
   {
    "duration": 413,
    "start_time": "2022-01-23T12:59:15.228Z"
   },
   {
    "duration": 21,
    "start_time": "2022-01-23T12:59:15.643Z"
   },
   {
    "duration": 6,
    "start_time": "2022-01-23T12:59:15.666Z"
   },
   {
    "duration": 1344503,
    "start_time": "2022-01-23T12:59:15.675Z"
   },
   {
    "duration": 872,
    "start_time": "2022-01-23T13:21:40.181Z"
   },
   {
    "duration": 16,
    "start_time": "2022-01-23T13:21:41.055Z"
   },
   {
    "duration": 9,
    "start_time": "2022-01-23T13:21:41.073Z"
   },
   {
    "duration": 16,
    "start_time": "2022-01-23T13:21:41.084Z"
   },
   {
    "duration": 500,
    "start_time": "2022-01-23T13:30:45.205Z"
   },
   {
    "duration": 2912,
    "start_time": "2022-01-23T13:30:58.870Z"
   },
   {
    "duration": 293,
    "start_time": "2022-01-23T13:31:01.784Z"
   },
   {
    "duration": 5,
    "start_time": "2022-01-23T13:31:02.080Z"
   },
   {
    "duration": 51,
    "start_time": "2022-01-23T13:31:02.088Z"
   },
   {
    "duration": 50,
    "start_time": "2022-01-23T13:31:02.141Z"
   },
   {
    "duration": 6,
    "start_time": "2022-01-23T13:31:02.194Z"
   },
   {
    "duration": 65,
    "start_time": "2022-01-23T13:31:02.222Z"
   },
   {
    "duration": 283,
    "start_time": "2022-01-23T13:31:02.292Z"
   },
   {
    "duration": 52,
    "start_time": "2022-01-23T13:31:02.579Z"
   },
   {
    "duration": 10,
    "start_time": "2022-01-23T13:31:02.634Z"
   },
   {
    "duration": 207,
    "start_time": "2022-01-23T13:31:02.647Z"
   },
   {
    "duration": 46255,
    "start_time": "2022-01-23T13:31:02.856Z"
   },
   {
    "duration": 32,
    "start_time": "2022-01-23T13:31:49.123Z"
   },
   {
    "duration": 8195,
    "start_time": "2022-01-23T13:31:49.157Z"
   },
   {
    "duration": 17,
    "start_time": "2022-01-23T13:31:57.354Z"
   },
   {
    "duration": 22,
    "start_time": "2022-01-23T13:31:57.376Z"
   },
   {
    "duration": 11,
    "start_time": "2022-01-23T13:31:57.424Z"
   },
   {
    "duration": 1586,
    "start_time": "2022-01-23T13:31:57.439Z"
   },
   {
    "duration": 26,
    "start_time": "2022-01-23T13:31:59.027Z"
   },
   {
    "duration": 2487,
    "start_time": "2022-01-23T13:31:59.056Z"
   },
   {
    "duration": 41,
    "start_time": "2022-01-23T13:32:01.545Z"
   },
   {
    "duration": 9,
    "start_time": "2022-01-23T13:32:01.589Z"
   },
   {
    "duration": 61,
    "start_time": "2022-01-23T13:32:01.626Z"
   },
   {
    "duration": 159,
    "start_time": "2022-01-23T13:32:01.690Z"
   },
   {
    "duration": 5,
    "start_time": "2022-01-23T13:32:01.851Z"
   },
   {
    "duration": 28,
    "start_time": "2022-01-23T13:32:01.859Z"
   },
   {
    "duration": 442,
    "start_time": "2022-01-23T13:32:01.890Z"
   },
   {
    "duration": 5,
    "start_time": "2022-01-23T13:32:02.335Z"
   },
   {
    "duration": 197,
    "start_time": "2022-01-23T13:32:02.343Z"
   },
   {
    "duration": 8,
    "start_time": "2022-01-23T13:32:02.543Z"
   },
   {
    "duration": 12,
    "start_time": "2022-01-23T13:32:02.554Z"
   },
   {
    "duration": 77876,
    "start_time": "2022-01-23T13:32:02.569Z"
   },
   {
    "duration": 536,
    "start_time": "2022-01-23T13:33:20.448Z"
   },
   {
    "duration": 39,
    "start_time": "2022-01-23T13:33:20.987Z"
   },
   {
    "duration": 7,
    "start_time": "2022-01-23T13:33:21.029Z"
   },
   {
    "duration": 59105,
    "start_time": "2022-01-23T13:33:21.038Z"
   },
   {
    "duration": 896,
    "start_time": "2022-01-23T13:34:20.223Z"
   },
   {
    "duration": 12,
    "start_time": "2022-01-23T13:34:21.123Z"
   },
   {
    "duration": 8,
    "start_time": "2022-01-23T13:34:21.137Z"
   },
   {
    "duration": 210331,
    "start_time": "2022-01-23T13:34:21.147Z"
   },
   {
    "duration": 346,
    "start_time": "2022-01-23T13:37:51.480Z"
   },
   {
    "duration": 20,
    "start_time": "2022-01-23T13:37:51.829Z"
   },
   {
    "duration": 6,
    "start_time": "2022-01-23T13:37:51.851Z"
   },
   {
    "duration": 120623,
    "start_time": "2022-01-23T13:37:51.860Z"
   },
   {
    "duration": 437,
    "start_time": "2022-01-23T13:39:52.486Z"
   },
   {
    "duration": 17,
    "start_time": "2022-01-23T13:39:52.925Z"
   },
   {
    "duration": 9,
    "start_time": "2022-01-23T13:39:52.945Z"
   },
   {
    "duration": 46202,
    "start_time": "2022-01-23T13:39:52.956Z"
   },
   {
    "duration": 372,
    "start_time": "2022-01-23T13:40:39.160Z"
   },
   {
    "duration": 22,
    "start_time": "2022-01-23T13:40:39.535Z"
   },
   {
    "duration": 6,
    "start_time": "2022-01-23T13:40:39.560Z"
   },
   {
    "duration": 1276175,
    "start_time": "2022-01-23T13:40:39.568Z"
   },
   {
    "duration": 800,
    "start_time": "2022-01-23T14:01:55.746Z"
   },
   {
    "duration": 17,
    "start_time": "2022-01-23T14:01:56.550Z"
   },
   {
    "duration": 8,
    "start_time": "2022-01-23T14:01:56.569Z"
   },
   {
    "duration": 19,
    "start_time": "2022-01-23T14:01:56.580Z"
   },
   {
    "duration": 124,
    "start_time": "2022-01-23T14:01:57.218Z"
   },
   {
    "duration": 424,
    "start_time": "2022-01-23T14:02:40.791Z"
   },
   {
    "duration": 89,
    "start_time": "2022-01-23T14:04:19.113Z"
   },
   {
    "duration": 1237,
    "start_time": "2022-01-23T14:07:49.124Z"
   },
   {
    "duration": 20,
    "start_time": "2022-01-23T14:09:34.428Z"
   },
   {
    "duration": 6,
    "start_time": "2022-01-23T14:10:02.197Z"
   },
   {
    "duration": 5,
    "start_time": "2022-01-23T14:10:15.957Z"
   },
   {
    "duration": 20,
    "start_time": "2022-01-23T14:10:52.389Z"
   },
   {
    "duration": 280,
    "start_time": "2022-01-23T14:11:22.735Z"
   },
   {
    "duration": 14,
    "start_time": "2022-01-23T14:12:02.151Z"
   },
   {
    "duration": 17,
    "start_time": "2022-01-23T14:12:10.343Z"
   },
   {
    "duration": 49,
    "start_time": "2022-01-23T14:12:19.815Z"
   },
   {
    "duration": 95,
    "start_time": "2022-01-23T14:13:33.448Z"
   },
   {
    "duration": 318,
    "start_time": "2022-01-23T14:13:47.888Z"
   },
   {
    "duration": 275,
    "start_time": "2022-01-23T14:15:14.849Z"
   },
   {
    "duration": 5,
    "start_time": "2022-01-23T14:15:22.233Z"
   },
   {
    "duration": 4,
    "start_time": "2022-01-23T14:15:53.177Z"
   },
   {
    "duration": 41,
    "start_time": "2022-01-23T14:15:53.731Z"
   },
   {
    "duration": 4,
    "start_time": "2022-01-23T14:27:46.691Z"
   },
   {
    "duration": 3037,
    "start_time": "2022-01-23T14:28:02.019Z"
   },
   {
    "duration": 294,
    "start_time": "2022-01-23T14:28:05.059Z"
   },
   {
    "duration": 5,
    "start_time": "2022-01-23T14:28:05.357Z"
   },
   {
    "duration": 31,
    "start_time": "2022-01-23T14:28:05.365Z"
   },
   {
    "duration": 74,
    "start_time": "2022-01-23T14:28:05.398Z"
   },
   {
    "duration": 7,
    "start_time": "2022-01-23T14:28:05.475Z"
   },
   {
    "duration": 90,
    "start_time": "2022-01-23T14:28:05.484Z"
   },
   {
    "duration": 288,
    "start_time": "2022-01-23T14:28:05.578Z"
   },
   {
    "duration": 37,
    "start_time": "2022-01-23T14:28:05.869Z"
   },
   {
    "duration": 21,
    "start_time": "2022-01-23T14:28:05.909Z"
   },
   {
    "duration": 214,
    "start_time": "2022-01-23T14:28:05.932Z"
   },
   {
    "duration": 41845,
    "start_time": "2022-01-23T14:28:06.149Z"
   },
   {
    "duration": 52,
    "start_time": "2022-01-23T14:28:47.997Z"
   },
   {
    "duration": 6555,
    "start_time": "2022-01-23T14:28:48.051Z"
   },
   {
    "duration": 20,
    "start_time": "2022-01-23T14:28:54.608Z"
   },
   {
    "duration": 21,
    "start_time": "2022-01-23T14:28:54.632Z"
   },
   {
    "duration": 11,
    "start_time": "2022-01-23T14:28:54.655Z"
   },
   {
    "duration": 1706,
    "start_time": "2022-01-23T14:28:54.668Z"
   },
   {
    "duration": 67,
    "start_time": "2022-01-23T14:28:56.377Z"
   },
   {
    "duration": 2297,
    "start_time": "2022-01-23T14:28:56.447Z"
   },
   {
    "duration": 25,
    "start_time": "2022-01-23T14:28:58.746Z"
   },
   {
    "duration": 6,
    "start_time": "2022-01-23T14:28:58.773Z"
   },
   {
    "duration": 65,
    "start_time": "2022-01-23T14:28:58.785Z"
   },
   {
    "duration": 125,
    "start_time": "2022-01-23T14:28:58.853Z"
   },
   {
    "duration": 5,
    "start_time": "2022-01-23T14:28:58.981Z"
   },
   {
    "duration": 12,
    "start_time": "2022-01-23T14:28:58.988Z"
   },
   {
    "duration": 458,
    "start_time": "2022-01-23T14:28:59.002Z"
   },
   {
    "duration": 10,
    "start_time": "2022-01-23T14:28:59.463Z"
   },
   {
    "duration": 189,
    "start_time": "2022-01-23T14:28:59.476Z"
   },
   {
    "duration": 7,
    "start_time": "2022-01-23T14:28:59.668Z"
   },
   {
    "duration": 11,
    "start_time": "2022-01-23T14:28:59.678Z"
   },
   {
    "duration": 70537,
    "start_time": "2022-01-23T14:28:59.692Z"
   },
   {
    "duration": 581,
    "start_time": "2022-01-23T14:30:10.232Z"
   },
   {
    "duration": 23,
    "start_time": "2022-01-23T14:30:10.815Z"
   },
   {
    "duration": 10,
    "start_time": "2022-01-23T14:30:10.840Z"
   },
   {
    "duration": 48886,
    "start_time": "2022-01-23T14:30:10.852Z"
   },
   {
    "duration": 957,
    "start_time": "2022-01-23T14:30:59.741Z"
   },
   {
    "duration": 24,
    "start_time": "2022-01-23T14:31:00.701Z"
   },
   {
    "duration": 30,
    "start_time": "2022-01-23T14:31:00.728Z"
   },
   {
    "duration": 190274,
    "start_time": "2022-01-23T14:31:00.760Z"
   },
   {
    "duration": 372,
    "start_time": "2022-01-23T14:34:11.037Z"
   },
   {
    "duration": 29,
    "start_time": "2022-01-23T14:34:11.412Z"
   },
   {
    "duration": 6,
    "start_time": "2022-01-23T14:34:11.443Z"
   },
   {
    "duration": 118091,
    "start_time": "2022-01-23T14:34:11.451Z"
   },
   {
    "duration": 398,
    "start_time": "2022-01-23T14:36:09.544Z"
   },
   {
    "duration": 16,
    "start_time": "2022-01-23T14:36:09.944Z"
   },
   {
    "duration": 10,
    "start_time": "2022-01-23T14:36:09.962Z"
   },
   {
    "duration": 46954,
    "start_time": "2022-01-23T14:36:09.975Z"
   },
   {
    "duration": 391,
    "start_time": "2022-01-23T14:36:56.932Z"
   },
   {
    "duration": 21,
    "start_time": "2022-01-23T14:36:57.326Z"
   },
   {
    "duration": 7,
    "start_time": "2022-01-23T14:36:57.349Z"
   },
   {
    "duration": 1279097,
    "start_time": "2022-01-23T14:36:57.358Z"
   },
   {
    "duration": 678,
    "start_time": "2022-01-23T14:58:16.458Z"
   },
   {
    "duration": 15,
    "start_time": "2022-01-23T14:58:17.139Z"
   },
   {
    "duration": 7,
    "start_time": "2022-01-23T14:58:17.157Z"
   },
   {
    "duration": 19,
    "start_time": "2022-01-23T14:58:17.166Z"
   },
   {
    "duration": 1161,
    "start_time": "2022-01-23T14:58:17.187Z"
   },
   {
    "duration": 23,
    "start_time": "2022-01-23T14:58:18.350Z"
   },
   {
    "duration": 5,
    "start_time": "2022-01-23T14:58:18.375Z"
   },
   {
    "duration": 7,
    "start_time": "2022-01-23T14:58:18.382Z"
   },
   {
    "duration": 75,
    "start_time": "2022-01-23T14:58:18.391Z"
   },
   {
    "duration": 439,
    "start_time": "2022-01-23T14:59:06.674Z"
   },
   {
    "duration": 5,
    "start_time": "2022-01-23T14:59:13.899Z"
   },
   {
    "duration": 6,
    "start_time": "2022-01-23T15:00:05.115Z"
   },
   {
    "duration": 44,
    "start_time": "2022-01-23T15:00:49.164Z"
   },
   {
    "duration": 7,
    "start_time": "2022-01-23T15:01:10.965Z"
   },
   {
    "duration": 6,
    "start_time": "2022-01-23T15:01:17.356Z"
   },
   {
    "duration": 42,
    "start_time": "2022-01-23T15:01:19.213Z"
   },
   {
    "duration": 6,
    "start_time": "2022-01-23T15:04:41.262Z"
   },
   {
    "duration": 14,
    "start_time": "2022-01-23T15:08:43.467Z"
   },
   {
    "duration": 43,
    "start_time": "2022-01-23T15:08:52.425Z"
   },
   {
    "duration": 36,
    "start_time": "2022-01-23T15:09:38.891Z"
   },
   {
    "duration": 87,
    "start_time": "2022-01-23T15:11:09.572Z"
   },
   {
    "duration": 11,
    "start_time": "2022-01-23T15:11:17.404Z"
   },
   {
    "duration": 132,
    "start_time": "2022-01-23T15:11:50.084Z"
   },
   {
    "duration": 10,
    "start_time": "2022-01-23T15:12:07.580Z"
   },
   {
    "duration": 8,
    "start_time": "2022-01-23T15:12:51.630Z"
   },
   {
    "duration": 28,
    "start_time": "2022-01-23T15:13:00.125Z"
   },
   {
    "duration": 10,
    "start_time": "2022-01-23T15:13:21.062Z"
   },
   {
    "duration": 3830,
    "start_time": "2022-01-23T15:16:19.687Z"
   },
   {
    "duration": 285,
    "start_time": "2022-01-23T15:16:23.520Z"
   },
   {
    "duration": 6,
    "start_time": "2022-01-23T15:16:23.807Z"
   },
   {
    "duration": 38,
    "start_time": "2022-01-23T15:16:23.815Z"
   },
   {
    "duration": 48,
    "start_time": "2022-01-23T15:16:23.856Z"
   },
   {
    "duration": 22,
    "start_time": "2022-01-23T15:16:23.906Z"
   },
   {
    "duration": 66,
    "start_time": "2022-01-23T15:16:23.931Z"
   },
   {
    "duration": 301,
    "start_time": "2022-01-23T15:16:24.000Z"
   },
   {
    "duration": 45,
    "start_time": "2022-01-23T15:16:24.305Z"
   },
   {
    "duration": 10,
    "start_time": "2022-01-23T15:16:24.352Z"
   },
   {
    "duration": 251,
    "start_time": "2022-01-23T15:16:24.365Z"
   },
   {
    "duration": 44787,
    "start_time": "2022-01-23T15:16:24.618Z"
   },
   {
    "duration": 42,
    "start_time": "2022-01-23T15:17:09.408Z"
   },
   {
    "duration": 7663,
    "start_time": "2022-01-23T15:17:09.453Z"
   },
   {
    "duration": 19,
    "start_time": "2022-01-23T15:17:17.119Z"
   },
   {
    "duration": 23,
    "start_time": "2022-01-23T15:17:17.141Z"
   },
   {
    "duration": 11,
    "start_time": "2022-01-23T15:17:17.167Z"
   },
   {
    "duration": 522863,
    "start_time": "2022-01-23T15:17:17.180Z"
   },
   {
    "duration": 23,
    "start_time": "2022-01-23T15:26:00.046Z"
   },
   {
    "duration": 17002,
    "start_time": "2022-01-23T15:26:00.072Z"
   },
   {
    "duration": 21,
    "start_time": "2022-01-23T15:26:17.076Z"
   },
   {
    "duration": 7,
    "start_time": "2022-01-23T15:26:17.099Z"
   },
   {
    "duration": 64,
    "start_time": "2022-01-23T15:26:17.111Z"
   },
   {
    "duration": 140,
    "start_time": "2022-01-23T15:26:17.178Z"
   },
   {
    "duration": 5,
    "start_time": "2022-01-23T15:26:17.320Z"
   },
   {
    "duration": 25,
    "start_time": "2022-01-23T15:26:17.327Z"
   },
   {
    "duration": 500,
    "start_time": "2022-01-23T15:26:17.354Z"
   },
   {
    "duration": 5,
    "start_time": "2022-01-23T15:26:17.857Z"
   },
   {
    "duration": 304,
    "start_time": "2022-01-23T15:26:17.864Z"
   },
   {
    "duration": 7,
    "start_time": "2022-01-23T15:26:18.171Z"
   },
   {
    "duration": 12,
    "start_time": "2022-01-23T15:26:18.181Z"
   },
   {
    "duration": 74730,
    "start_time": "2022-01-23T15:26:18.195Z"
   },
   {
    "duration": 512,
    "start_time": "2022-01-23T15:27:32.928Z"
   },
   {
    "duration": 20,
    "start_time": "2022-01-23T15:27:33.443Z"
   },
   {
    "duration": 6,
    "start_time": "2022-01-23T15:27:33.466Z"
   },
   {
    "duration": 53771,
    "start_time": "2022-01-23T15:27:33.475Z"
   },
   {
    "duration": 615,
    "start_time": "2022-01-23T15:28:27.248Z"
   },
   {
    "duration": 15,
    "start_time": "2022-01-23T15:28:27.866Z"
   },
   {
    "duration": 15,
    "start_time": "2022-01-23T15:28:27.883Z"
   },
   {
    "duration": 192301,
    "start_time": "2022-01-23T15:28:27.901Z"
   },
   {
    "duration": 390,
    "start_time": "2022-01-23T15:31:40.205Z"
   },
   {
    "duration": 33,
    "start_time": "2022-01-23T15:31:40.597Z"
   },
   {
    "duration": 5,
    "start_time": "2022-01-23T15:31:40.632Z"
   },
   {
    "duration": 118353,
    "start_time": "2022-01-23T15:31:40.640Z"
   },
   {
    "duration": 438,
    "start_time": "2022-01-23T15:33:38.996Z"
   },
   {
    "duration": 16,
    "start_time": "2022-01-23T15:33:39.436Z"
   },
   {
    "duration": 12,
    "start_time": "2022-01-23T15:33:39.454Z"
   },
   {
    "duration": 66991,
    "start_time": "2022-01-23T15:33:39.468Z"
   },
   {
    "duration": 388,
    "start_time": "2022-01-23T15:34:46.461Z"
   },
   {
    "duration": 21,
    "start_time": "2022-01-23T15:34:46.852Z"
   },
   {
    "duration": 5,
    "start_time": "2022-01-23T15:34:46.876Z"
   },
   {
    "duration": 427791,
    "start_time": "2022-01-23T15:34:46.884Z"
   },
   {
    "duration": 883,
    "start_time": "2022-01-23T15:41:54.677Z"
   },
   {
    "duration": 17,
    "start_time": "2022-01-23T15:41:55.562Z"
   },
   {
    "duration": 7,
    "start_time": "2022-01-23T15:41:55.581Z"
   },
   {
    "duration": 34,
    "start_time": "2022-01-23T15:41:55.590Z"
   },
   {
    "duration": 1148,
    "start_time": "2022-01-23T15:41:55.626Z"
   },
   {
    "duration": 18,
    "start_time": "2022-01-23T15:41:56.777Z"
   },
   {
    "duration": 28,
    "start_time": "2022-01-23T15:41:56.797Z"
   },
   {
    "duration": 8,
    "start_time": "2022-01-23T15:41:56.827Z"
   },
   {
    "duration": 7,
    "start_time": "2022-01-23T15:41:56.838Z"
   },
   {
    "duration": 32,
    "start_time": "2022-01-23T15:41:56.847Z"
   },
   {
    "duration": 10,
    "start_time": "2022-01-23T15:41:56.881Z"
   },
   {
    "duration": 1307,
    "start_time": "2022-01-23T15:42:30.337Z"
   },
   {
    "duration": 45043,
    "start_time": "2022-01-23T15:43:51.515Z"
   },
   {
    "duration": 65,
    "start_time": "2022-01-23T15:44:36.561Z"
   },
   {
    "duration": 57936,
    "start_time": "2022-01-23T15:45:44.009Z"
   },
   {
    "duration": 3083,
    "start_time": "2022-01-23T16:03:51.696Z"
   },
   {
    "duration": 289,
    "start_time": "2022-01-23T16:03:54.781Z"
   },
   {
    "duration": 6,
    "start_time": "2022-01-23T16:03:55.073Z"
   },
   {
    "duration": 44,
    "start_time": "2022-01-23T16:03:55.081Z"
   },
   {
    "duration": 46,
    "start_time": "2022-01-23T16:03:55.128Z"
   },
   {
    "duration": 6,
    "start_time": "2022-01-23T16:03:55.176Z"
   },
   {
    "duration": 94,
    "start_time": "2022-01-23T16:03:55.184Z"
   },
   {
    "duration": 273,
    "start_time": "2022-01-23T16:03:55.282Z"
   },
   {
    "duration": 38,
    "start_time": "2022-01-23T16:03:55.558Z"
   },
   {
    "duration": 24,
    "start_time": "2022-01-23T16:03:55.599Z"
   },
   {
    "duration": 197,
    "start_time": "2022-01-23T16:03:55.626Z"
   },
   {
    "duration": 41803,
    "start_time": "2022-01-23T16:03:55.825Z"
   },
   {
    "duration": 32,
    "start_time": "2022-01-23T16:04:37.630Z"
   },
   {
    "duration": 6807,
    "start_time": "2022-01-23T16:04:37.664Z"
   },
   {
    "duration": 15,
    "start_time": "2022-01-23T16:04:44.474Z"
   },
   {
    "duration": 36,
    "start_time": "2022-01-23T16:04:44.491Z"
   },
   {
    "duration": 10,
    "start_time": "2022-01-23T16:04:44.529Z"
   },
   {
    "duration": 503888,
    "start_time": "2022-01-23T16:04:44.542Z"
   },
   {
    "duration": 23,
    "start_time": "2022-01-23T16:13:08.433Z"
   },
   {
    "duration": 15616,
    "start_time": "2022-01-23T16:13:08.458Z"
   },
   {
    "duration": 47,
    "start_time": "2022-01-23T16:13:24.077Z"
   },
   {
    "duration": 6,
    "start_time": "2022-01-23T16:13:24.127Z"
   },
   {
    "duration": 63,
    "start_time": "2022-01-23T16:13:24.139Z"
   },
   {
    "duration": 171,
    "start_time": "2022-01-23T16:13:24.205Z"
   },
   {
    "duration": 5,
    "start_time": "2022-01-23T16:13:24.379Z"
   },
   {
    "duration": 9,
    "start_time": "2022-01-23T16:13:24.387Z"
   },
   {
    "duration": 557,
    "start_time": "2022-01-23T16:13:24.398Z"
   },
   {
    "duration": 6,
    "start_time": "2022-01-23T16:13:24.957Z"
   },
   {
    "duration": 200,
    "start_time": "2022-01-23T16:13:24.965Z"
   },
   {
    "duration": 8,
    "start_time": "2022-01-23T16:13:25.168Z"
   },
   {
    "duration": 11,
    "start_time": "2022-01-23T16:13:25.179Z"
   },
   {
    "duration": 75829,
    "start_time": "2022-01-23T16:13:25.193Z"
   },
   {
    "duration": 458,
    "start_time": "2022-01-23T16:14:41.026Z"
   },
   {
    "duration": 18,
    "start_time": "2022-01-23T16:14:41.487Z"
   },
   {
    "duration": 5,
    "start_time": "2022-01-23T16:14:41.523Z"
   },
   {
    "duration": 52411,
    "start_time": "2022-01-23T16:14:41.530Z"
   },
   {
    "duration": 630,
    "start_time": "2022-01-23T16:15:33.944Z"
   },
   {
    "duration": 18,
    "start_time": "2022-01-23T16:15:34.576Z"
   },
   {
    "duration": 27,
    "start_time": "2022-01-23T16:15:34.596Z"
   },
   {
    "duration": 94824,
    "start_time": "2022-01-23T16:15:34.626Z"
   },
   {
    "duration": 404,
    "start_time": "2022-01-23T16:17:09.453Z"
   },
   {
    "duration": 24,
    "start_time": "2022-01-23T16:17:09.860Z"
   },
   {
    "duration": 9,
    "start_time": "2022-01-23T16:17:09.887Z"
   },
   {
    "duration": 54774,
    "start_time": "2022-01-23T16:17:09.899Z"
   },
   {
    "duration": 442,
    "start_time": "2022-01-23T16:18:04.675Z"
   },
   {
    "duration": 17,
    "start_time": "2022-01-23T16:18:05.123Z"
   },
   {
    "duration": 13,
    "start_time": "2022-01-23T16:18:05.143Z"
   },
   {
    "duration": 43851,
    "start_time": "2022-01-23T16:18:05.159Z"
   },
   {
    "duration": 380,
    "start_time": "2022-01-23T16:18:49.012Z"
   },
   {
    "duration": 29,
    "start_time": "2022-01-23T16:18:49.395Z"
   },
   {
    "duration": 5,
    "start_time": "2022-01-23T16:18:49.426Z"
   },
   {
    "duration": 244439,
    "start_time": "2022-01-23T16:18:49.434Z"
   },
   {
    "duration": 475,
    "start_time": "2022-01-23T16:22:53.876Z"
   },
   {
    "duration": 17,
    "start_time": "2022-01-23T16:22:54.353Z"
   },
   {
    "duration": 9,
    "start_time": "2022-01-23T16:22:54.372Z"
   },
   {
    "duration": 41,
    "start_time": "2022-01-23T16:22:54.384Z"
   },
   {
    "duration": 1359,
    "start_time": "2022-01-23T16:22:54.427Z"
   },
   {
    "duration": 6,
    "start_time": "2022-01-23T16:22:55.788Z"
   },
   {
    "duration": 7,
    "start_time": "2022-01-23T16:22:55.796Z"
   },
   {
    "duration": 27,
    "start_time": "2022-01-23T16:22:55.824Z"
   },
   {
    "duration": 11,
    "start_time": "2022-01-23T16:22:55.854Z"
   },
   {
    "duration": 70,
    "start_time": "2022-01-23T16:22:55.867Z"
   },
   {
    "duration": 61681,
    "start_time": "2022-01-23T16:22:55.945Z"
   },
   {
    "duration": 459,
    "start_time": "2022-01-23T16:23:57.629Z"
   },
   {
    "duration": 15,
    "start_time": "2022-01-23T16:28:48.827Z"
   },
   {
    "duration": 31594,
    "start_time": "2022-01-23T16:28:55.473Z"
   },
   {
    "duration": 26174,
    "start_time": "2022-01-23T16:30:00.907Z"
   },
   {
    "duration": 99,
    "start_time": "2022-01-23T16:31:53.461Z"
   },
   {
    "duration": 288,
    "start_time": "2022-01-23T16:32:01.677Z"
   },
   {
    "duration": 25299,
    "start_time": "2022-01-23T16:32:11.436Z"
   },
   {
    "duration": 26208,
    "start_time": "2022-01-23T16:32:52.062Z"
   },
   {
    "duration": 99,
    "start_time": "2022-01-23T16:34:40.510Z"
   },
   {
    "duration": 31119,
    "start_time": "2022-01-23T16:34:49.350Z"
   },
   {
    "duration": 283,
    "start_time": "2022-01-23T16:38:43.795Z"
   },
   {
    "duration": 1396,
    "start_time": "2022-01-23T16:39:05.027Z"
   },
   {
    "duration": 3126,
    "start_time": "2022-01-23T16:40:13.338Z"
   },
   {
    "duration": 33,
    "start_time": "2022-01-23T16:41:01.420Z"
   },
   {
    "duration": 312,
    "start_time": "2022-01-23T16:43:35.989Z"
   },
   {
    "duration": 565,
    "start_time": "2022-01-23T16:44:32.030Z"
   },
   {
    "duration": 309,
    "start_time": "2022-01-23T16:45:02.750Z"
   },
   {
    "duration": 282,
    "start_time": "2022-01-23T16:45:12.551Z"
   },
   {
    "duration": 6,
    "start_time": "2022-01-23T16:45:24.374Z"
   },
   {
    "duration": 281,
    "start_time": "2022-01-23T16:45:41.103Z"
   },
   {
    "duration": 319,
    "start_time": "2022-01-23T16:45:55.854Z"
   },
   {
    "duration": 365,
    "start_time": "2022-01-23T16:46:10.431Z"
   },
   {
    "duration": 62,
    "start_time": "2022-01-23T16:46:37.207Z"
   },
   {
    "duration": 597,
    "start_time": "2022-01-23T16:48:27.416Z"
   },
   {
    "duration": 16,
    "start_time": "2022-01-23T17:12:04.273Z"
   },
   {
    "duration": 252,
    "start_time": "2022-01-23T17:13:13.233Z"
   },
   {
    "duration": 285,
    "start_time": "2022-01-23T17:13:24.994Z"
   },
   {
    "duration": 358,
    "start_time": "2022-01-23T17:14:15.594Z"
   },
   {
    "duration": 279,
    "start_time": "2022-01-23T17:16:22.724Z"
   },
   {
    "duration": 66,
    "start_time": "2022-01-23T17:17:09.173Z"
   },
   {
    "duration": 595,
    "start_time": "2022-01-23T17:20:14.367Z"
   },
   {
    "duration": 3385,
    "start_time": "2022-01-23T17:21:37.096Z"
   },
   {
    "duration": 2993,
    "start_time": "2022-01-23T17:21:40.484Z"
   },
   {
    "duration": 310,
    "start_time": "2022-01-23T17:21:43.481Z"
   },
   {
    "duration": 6,
    "start_time": "2022-01-23T17:21:43.795Z"
   },
   {
    "duration": 58,
    "start_time": "2022-01-23T17:21:43.804Z"
   },
   {
    "duration": 100,
    "start_time": "2022-01-23T17:21:43.865Z"
   },
   {
    "duration": 8,
    "start_time": "2022-01-23T17:21:43.968Z"
   },
   {
    "duration": 91,
    "start_time": "2022-01-23T17:21:43.982Z"
   },
   {
    "duration": 283,
    "start_time": "2022-01-23T17:21:44.077Z"
   },
   {
    "duration": 48,
    "start_time": "2022-01-23T17:21:44.363Z"
   },
   {
    "duration": 18,
    "start_time": "2022-01-23T17:21:44.413Z"
   },
   {
    "duration": 226,
    "start_time": "2022-01-23T17:21:44.434Z"
   },
   {
    "duration": 41700,
    "start_time": "2022-01-23T17:21:44.663Z"
   },
   {
    "duration": 63,
    "start_time": "2022-01-23T17:22:26.366Z"
   },
   {
    "duration": 6999,
    "start_time": "2022-01-23T17:22:26.431Z"
   },
   {
    "duration": 14,
    "start_time": "2022-01-23T17:22:33.433Z"
   },
   {
    "duration": 19,
    "start_time": "2022-01-23T17:22:33.449Z"
   },
   {
    "duration": 10,
    "start_time": "2022-01-23T17:22:33.470Z"
   },
   {
    "duration": 492514,
    "start_time": "2022-01-23T17:22:33.482Z"
   },
   {
    "duration": 34,
    "start_time": "2022-01-23T17:30:45.999Z"
   },
   {
    "duration": 14842,
    "start_time": "2022-01-23T17:30:46.036Z"
   },
   {
    "duration": 26,
    "start_time": "2022-01-23T17:31:00.880Z"
   },
   {
    "duration": 6,
    "start_time": "2022-01-23T17:31:00.929Z"
   },
   {
    "duration": 57,
    "start_time": "2022-01-23T17:31:00.939Z"
   },
   {
    "duration": 168,
    "start_time": "2022-01-23T17:31:00.999Z"
   },
   {
    "duration": 5,
    "start_time": "2022-01-23T17:31:01.169Z"
   },
   {
    "duration": 10,
    "start_time": "2022-01-23T17:31:01.176Z"
   },
   {
    "duration": 452,
    "start_time": "2022-01-23T17:31:01.189Z"
   },
   {
    "duration": 5,
    "start_time": "2022-01-23T17:31:01.643Z"
   },
   {
    "duration": 188,
    "start_time": "2022-01-23T17:31:01.651Z"
   },
   {
    "duration": 8,
    "start_time": "2022-01-23T17:31:01.841Z"
   },
   {
    "duration": 14,
    "start_time": "2022-01-23T17:31:01.851Z"
   },
   {
    "duration": 75968,
    "start_time": "2022-01-23T17:31:01.868Z"
   },
   {
    "duration": 648,
    "start_time": "2022-01-23T17:32:17.839Z"
   },
   {
    "duration": 18,
    "start_time": "2022-01-23T17:32:18.489Z"
   },
   {
    "duration": 6,
    "start_time": "2022-01-23T17:32:18.509Z"
   },
   {
    "duration": 57809,
    "start_time": "2022-01-23T17:32:18.516Z"
   },
   {
    "duration": 664,
    "start_time": "2022-01-23T17:33:16.327Z"
   },
   {
    "duration": 30,
    "start_time": "2022-01-23T17:33:16.994Z"
   },
   {
    "duration": 6,
    "start_time": "2022-01-23T17:33:17.026Z"
   },
   {
    "duration": 95339,
    "start_time": "2022-01-23T17:33:17.034Z"
   },
   {
    "duration": 366,
    "start_time": "2022-01-23T17:34:52.375Z"
   },
   {
    "duration": 21,
    "start_time": "2022-01-23T17:34:52.744Z"
   },
   {
    "duration": 6,
    "start_time": "2022-01-23T17:34:52.768Z"
   },
   {
    "duration": 54315,
    "start_time": "2022-01-23T17:34:52.777Z"
   },
   {
    "duration": 429,
    "start_time": "2022-01-23T17:35:47.094Z"
   },
   {
    "duration": 16,
    "start_time": "2022-01-23T17:35:47.525Z"
   },
   {
    "duration": 8,
    "start_time": "2022-01-23T17:35:47.544Z"
   },
   {
    "duration": 47815,
    "start_time": "2022-01-23T17:35:47.554Z"
   },
   {
    "duration": 360,
    "start_time": "2022-01-23T17:36:35.372Z"
   },
   {
    "duration": 21,
    "start_time": "2022-01-23T17:36:35.734Z"
   },
   {
    "duration": 7,
    "start_time": "2022-01-23T17:36:35.757Z"
   },
   {
    "duration": 243220,
    "start_time": "2022-01-23T17:36:35.767Z"
   },
   {
    "duration": 447,
    "start_time": "2022-01-23T17:40:38.989Z"
   },
   {
    "duration": 94,
    "start_time": "2022-01-23T17:40:39.439Z"
   },
   {
    "duration": 271,
    "start_time": "2022-01-23T17:40:39.264Z"
   },
   {
    "duration": 270,
    "start_time": "2022-01-23T17:40:39.268Z"
   },
   {
    "duration": 267,
    "start_time": "2022-01-23T17:40:39.272Z"
   },
   {
    "duration": 255,
    "start_time": "2022-01-23T17:40:39.286Z"
   },
   {
    "duration": 247,
    "start_time": "2022-01-23T17:40:39.295Z"
   },
   {
    "duration": 245,
    "start_time": "2022-01-23T17:40:39.298Z"
   },
   {
    "duration": 243,
    "start_time": "2022-01-23T17:40:39.302Z"
   },
   {
    "duration": 236,
    "start_time": "2022-01-23T17:40:39.310Z"
   },
   {
    "duration": 233,
    "start_time": "2022-01-23T17:40:39.314Z"
   },
   {
    "duration": 231,
    "start_time": "2022-01-23T17:40:39.318Z"
   },
   {
    "duration": 228,
    "start_time": "2022-01-23T17:40:39.322Z"
   },
   {
    "duration": 222,
    "start_time": "2022-01-23T17:40:39.329Z"
   },
   {
    "duration": 16,
    "start_time": "2022-01-23T17:48:50.181Z"
   },
   {
    "duration": 8,
    "start_time": "2022-01-23T17:48:50.741Z"
   },
   {
    "duration": 15,
    "start_time": "2022-01-23T17:48:51.989Z"
   },
   {
    "duration": 265,
    "start_time": "2022-01-23T17:48:53.061Z"
   },
   {
    "duration": 6,
    "start_time": "2022-01-23T17:48:54.412Z"
   },
   {
    "duration": 6,
    "start_time": "2022-01-23T17:48:54.716Z"
   },
   {
    "duration": 30,
    "start_time": "2022-01-23T17:48:55.044Z"
   },
   {
    "duration": 12,
    "start_time": "2022-01-23T17:48:55.333Z"
   },
   {
    "duration": 25,
    "start_time": "2022-01-23T17:48:55.628Z"
   },
   {
    "duration": 1214,
    "start_time": "2022-01-23T17:48:56.596Z"
   },
   {
    "duration": 272,
    "start_time": "2022-01-23T17:48:57.541Z"
   },
   {
    "duration": 269,
    "start_time": "2022-01-23T17:48:57.546Z"
   },
   {
    "duration": 1193,
    "start_time": "2022-01-23T17:49:04.316Z"
   },
   {
    "duration": 275,
    "start_time": "2022-01-23T17:49:05.237Z"
   },
   {
    "duration": 261,
    "start_time": "2022-01-23T17:49:50.965Z"
   },
   {
    "duration": 1824,
    "start_time": "2022-01-23T17:50:52.063Z"
   },
   {
    "duration": 62583,
    "start_time": "2022-01-23T17:51:07.582Z"
   },
   {
    "duration": 5,
    "start_time": "2022-01-23T17:52:23.059Z"
   },
   {
    "duration": 6,
    "start_time": "2022-01-23T17:53:48.056Z"
   },
   {
    "duration": 7,
    "start_time": "2022-01-23T17:53:53.792Z"
   },
   {
    "duration": 56,
    "start_time": "2022-01-23T17:54:07.568Z"
   },
   {
    "duration": 19,
    "start_time": "2022-01-23T17:54:54.929Z"
   },
   {
    "duration": 6,
    "start_time": "2022-01-23T17:56:58.556Z"
   },
   {
    "duration": 93,
    "start_time": "2022-01-23T17:58:58.867Z"
   },
   {
    "duration": 51,
    "start_time": "2022-01-23T17:59:08.229Z"
   },
   {
    "duration": 6,
    "start_time": "2022-01-23T17:59:26.613Z"
   },
   {
    "duration": 34,
    "start_time": "2022-01-23T18:01:28.054Z"
   },
   {
    "duration": 24,
    "start_time": "2022-01-23T18:02:51.520Z"
   },
   {
    "duration": 21,
    "start_time": "2022-01-23T18:03:27.207Z"
   },
   {
    "duration": 31,
    "start_time": "2022-01-23T18:03:31.288Z"
   },
   {
    "duration": 22,
    "start_time": "2022-01-23T18:03:53.264Z"
   },
   {
    "duration": 78,
    "start_time": "2022-01-23T18:04:31.121Z"
   },
   {
    "duration": 33,
    "start_time": "2022-01-23T18:04:56.626Z"
   },
   {
    "duration": 329,
    "start_time": "2022-01-23T18:06:12.913Z"
   },
   {
    "duration": 50,
    "start_time": "2022-01-23T18:06:19.525Z"
   },
   {
    "duration": 11,
    "start_time": "2022-01-23T18:06:50.691Z"
   },
   {
    "duration": 47,
    "start_time": "2022-01-23T18:09:29.724Z"
   },
   {
    "duration": 3733,
    "start_time": "2022-01-23T18:13:01.218Z"
   },
   {
    "duration": 2929,
    "start_time": "2022-01-23T18:13:04.954Z"
   },
   {
    "duration": 277,
    "start_time": "2022-01-23T18:13:07.886Z"
   },
   {
    "duration": 4,
    "start_time": "2022-01-23T18:13:08.166Z"
   },
   {
    "duration": 33,
    "start_time": "2022-01-23T18:13:08.173Z"
   },
   {
    "duration": 57,
    "start_time": "2022-01-23T18:13:08.208Z"
   },
   {
    "duration": 6,
    "start_time": "2022-01-23T18:13:08.267Z"
   },
   {
    "duration": 91,
    "start_time": "2022-01-23T18:13:08.276Z"
   },
   {
    "duration": 362,
    "start_time": "2022-01-23T18:13:08.370Z"
   },
   {
    "duration": 41,
    "start_time": "2022-01-23T18:13:08.734Z"
   },
   {
    "duration": 8,
    "start_time": "2022-01-23T18:13:08.778Z"
   },
   {
    "duration": 92,
    "start_time": "2022-01-23T18:13:08.788Z"
   },
   {
    "duration": 42215,
    "start_time": "2022-01-23T18:13:08.882Z"
   },
   {
    "duration": 43,
    "start_time": "2022-01-23T18:13:51.100Z"
   },
   {
    "duration": 6872,
    "start_time": "2022-01-23T18:13:51.146Z"
   },
   {
    "duration": 16,
    "start_time": "2022-01-23T18:13:58.023Z"
   },
   {
    "duration": 21,
    "start_time": "2022-01-23T18:13:58.042Z"
   },
   {
    "duration": 12,
    "start_time": "2022-01-23T18:13:58.066Z"
   },
   {
    "duration": 487622,
    "start_time": "2022-01-23T18:13:58.081Z"
   },
   {
    "duration": 41,
    "start_time": "2022-01-23T18:22:05.707Z"
   },
   {
    "duration": 15412,
    "start_time": "2022-01-23T18:22:05.752Z"
   },
   {
    "duration": 27,
    "start_time": "2022-01-23T18:22:21.167Z"
   },
   {
    "duration": 24,
    "start_time": "2022-01-23T18:22:21.202Z"
   },
   {
    "duration": 21,
    "start_time": "2022-01-23T18:22:21.231Z"
   },
   {
    "duration": 82,
    "start_time": "2022-01-23T18:22:21.255Z"
   },
   {
    "duration": 6,
    "start_time": "2022-01-23T18:22:21.339Z"
   },
   {
    "duration": 13,
    "start_time": "2022-01-23T18:22:21.348Z"
   },
   {
    "duration": 79,
    "start_time": "2022-01-23T18:22:21.364Z"
   },
   {
    "duration": 7,
    "start_time": "2022-01-23T18:22:21.445Z"
   },
   {
    "duration": 58,
    "start_time": "2022-01-23T18:22:21.454Z"
   },
   {
    "duration": 10,
    "start_time": "2022-01-23T18:22:21.514Z"
   },
   {
    "duration": 11,
    "start_time": "2022-01-23T18:22:21.526Z"
   },
   {
    "duration": 10485,
    "start_time": "2022-01-23T18:22:21.540Z"
   },
   {
    "duration": 553,
    "start_time": "2022-01-23T18:22:32.028Z"
   },
   {
    "duration": 20,
    "start_time": "2022-01-23T18:22:32.583Z"
   },
   {
    "duration": 18,
    "start_time": "2022-01-23T18:22:32.605Z"
   },
   {
    "duration": 7208,
    "start_time": "2022-01-23T18:22:32.626Z"
   },
   {
    "duration": 535,
    "start_time": "2022-01-23T18:22:39.837Z"
   },
   {
    "duration": 14,
    "start_time": "2022-01-23T18:22:40.375Z"
   },
   {
    "duration": 7,
    "start_time": "2022-01-23T18:22:40.392Z"
   },
   {
    "duration": 20462,
    "start_time": "2022-01-23T18:22:40.401Z"
   },
   {
    "duration": 366,
    "start_time": "2022-01-23T18:23:00.866Z"
   },
   {
    "duration": 22,
    "start_time": "2022-01-23T18:23:01.234Z"
   },
   {
    "duration": 9,
    "start_time": "2022-01-23T18:23:01.258Z"
   },
   {
    "duration": 15745,
    "start_time": "2022-01-23T18:23:01.269Z"
   },
   {
    "duration": 428,
    "start_time": "2022-01-23T18:23:17.017Z"
   },
   {
    "duration": 17,
    "start_time": "2022-01-23T18:23:17.447Z"
   },
   {
    "duration": 11,
    "start_time": "2022-01-23T18:23:17.467Z"
   },
   {
    "duration": 27136,
    "start_time": "2022-01-23T18:23:17.480Z"
   },
   {
    "duration": 384,
    "start_time": "2022-01-23T18:23:44.622Z"
   },
   {
    "duration": 31,
    "start_time": "2022-01-23T18:23:45.010Z"
   },
   {
    "duration": 6,
    "start_time": "2022-01-23T18:23:45.044Z"
   },
   {
    "duration": 166481,
    "start_time": "2022-01-23T18:23:45.053Z"
   },
   {
    "duration": 472,
    "start_time": "2022-01-23T18:26:31.537Z"
   },
   {
    "duration": 24,
    "start_time": "2022-01-23T18:26:32.012Z"
   },
   {
    "duration": 14,
    "start_time": "2022-01-23T18:26:32.040Z"
   },
   {
    "duration": 27,
    "start_time": "2022-01-23T18:26:32.057Z"
   },
   {
    "duration": 136,
    "start_time": "2022-01-23T18:26:32.087Z"
   },
   {
    "duration": 6,
    "start_time": "2022-01-23T18:26:32.225Z"
   },
   {
    "duration": 17,
    "start_time": "2022-01-23T18:26:32.233Z"
   },
   {
    "duration": 48,
    "start_time": "2022-01-23T18:26:32.253Z"
   },
   {
    "duration": 29,
    "start_time": "2022-01-23T18:26:32.304Z"
   },
   {
    "duration": 25,
    "start_time": "2022-01-23T18:26:32.336Z"
   },
   {
    "duration": 5,
    "start_time": "2022-01-23T18:26:32.363Z"
   },
   {
    "duration": 59101,
    "start_time": "2022-01-23T18:26:32.370Z"
   },
   {
    "duration": 90,
    "start_time": "2022-01-23T18:41:30.588Z"
   },
   {
    "duration": 5,
    "start_time": "2022-01-23T18:41:58.524Z"
   },
   {
    "duration": 3319,
    "start_time": "2022-01-23T18:43:29.306Z"
   },
   {
    "duration": 2972,
    "start_time": "2022-01-23T18:43:32.628Z"
   },
   {
    "duration": 278,
    "start_time": "2022-01-23T18:43:35.603Z"
   },
   {
    "duration": 5,
    "start_time": "2022-01-23T18:43:35.884Z"
   },
   {
    "duration": 47,
    "start_time": "2022-01-23T18:43:35.892Z"
   },
   {
    "duration": 46,
    "start_time": "2022-01-23T18:43:35.941Z"
   },
   {
    "duration": 6,
    "start_time": "2022-01-23T18:43:35.990Z"
   },
   {
    "duration": 65,
    "start_time": "2022-01-23T18:43:36.024Z"
   },
   {
    "duration": 276,
    "start_time": "2022-01-23T18:43:36.092Z"
   },
   {
    "duration": 52,
    "start_time": "2022-01-23T18:43:36.371Z"
   },
   {
    "duration": 8,
    "start_time": "2022-01-23T18:43:36.425Z"
   },
   {
    "duration": 96,
    "start_time": "2022-01-23T18:43:36.436Z"
   },
   {
    "duration": 46389,
    "start_time": "2022-01-23T18:43:36.535Z"
   },
   {
    "duration": 37,
    "start_time": "2022-01-23T18:44:22.927Z"
   },
   {
    "duration": 6788,
    "start_time": "2022-01-23T18:44:22.967Z"
   },
   {
    "duration": 18,
    "start_time": "2022-01-23T18:44:29.758Z"
   },
   {
    "duration": 22,
    "start_time": "2022-01-23T18:44:29.779Z"
   },
   {
    "duration": 30,
    "start_time": "2022-01-23T18:44:29.803Z"
   },
   {
    "duration": 483739,
    "start_time": "2022-01-23T18:44:29.835Z"
   },
   {
    "duration": 21,
    "start_time": "2022-01-23T18:52:33.576Z"
   },
   {
    "duration": 14809,
    "start_time": "2022-01-23T18:52:33.600Z"
   },
   {
    "duration": 28,
    "start_time": "2022-01-23T18:52:48.411Z"
   },
   {
    "duration": 6,
    "start_time": "2022-01-23T18:52:48.444Z"
   },
   {
    "duration": 24,
    "start_time": "2022-01-23T18:52:48.453Z"
   },
   {
    "duration": 79,
    "start_time": "2022-01-23T18:52:48.479Z"
   },
   {
    "duration": 5,
    "start_time": "2022-01-23T18:52:48.560Z"
   },
   {
    "duration": 10,
    "start_time": "2022-01-23T18:52:48.568Z"
   },
   {
    "duration": 83,
    "start_time": "2022-01-23T18:52:48.581Z"
   },
   {
    "duration": 6,
    "start_time": "2022-01-23T18:52:48.667Z"
   },
   {
    "duration": 58,
    "start_time": "2022-01-23T18:52:48.676Z"
   },
   {
    "duration": 9,
    "start_time": "2022-01-23T18:52:48.737Z"
   },
   {
    "duration": 13,
    "start_time": "2022-01-23T18:52:48.749Z"
   },
   {
    "duration": 10407,
    "start_time": "2022-01-23T18:52:48.764Z"
   },
   {
    "duration": 558,
    "start_time": "2022-01-23T18:52:59.229Z"
   },
   {
    "duration": 19,
    "start_time": "2022-01-23T18:52:59.789Z"
   },
   {
    "duration": 5,
    "start_time": "2022-01-23T18:52:59.824Z"
   },
   {
    "duration": 7204,
    "start_time": "2022-01-23T18:52:59.831Z"
   },
   {
    "duration": 528,
    "start_time": "2022-01-23T18:53:07.037Z"
   },
   {
    "duration": 13,
    "start_time": "2022-01-23T18:53:07.567Z"
   },
   {
    "duration": 8,
    "start_time": "2022-01-23T18:53:07.582Z"
   },
   {
    "duration": 46153,
    "start_time": "2022-01-23T18:53:07.593Z"
   },
   {
    "duration": 378,
    "start_time": "2022-01-23T18:53:53.748Z"
   },
   {
    "duration": 21,
    "start_time": "2022-01-23T18:53:54.128Z"
   },
   {
    "duration": 5,
    "start_time": "2022-01-23T18:53:54.152Z"
   },
   {
    "duration": 35638,
    "start_time": "2022-01-23T18:53:54.159Z"
   },
   {
    "duration": 383,
    "start_time": "2022-01-23T18:54:29.800Z"
   },
   {
    "duration": 17,
    "start_time": "2022-01-23T18:54:30.185Z"
   },
   {
    "duration": 25,
    "start_time": "2022-01-23T18:54:30.204Z"
   },
   {
    "duration": 23752,
    "start_time": "2022-01-23T18:54:30.232Z"
   },
   {
    "duration": 351,
    "start_time": "2022-01-23T18:54:53.987Z"
   },
   {
    "duration": 20,
    "start_time": "2022-01-23T18:54:54.340Z"
   },
   {
    "duration": 8,
    "start_time": "2022-01-23T18:54:54.362Z"
   },
   {
    "duration": 372942,
    "start_time": "2022-01-23T18:54:54.372Z"
   },
   {
    "duration": 415,
    "start_time": "2022-01-23T19:01:07.317Z"
   },
   {
    "duration": 18,
    "start_time": "2022-01-23T19:01:07.734Z"
   },
   {
    "duration": 8,
    "start_time": "2022-01-23T19:01:07.755Z"
   },
   {
    "duration": 17,
    "start_time": "2022-01-23T19:01:07.766Z"
   },
   {
    "duration": 137,
    "start_time": "2022-01-23T19:01:07.786Z"
   },
   {
    "duration": 7,
    "start_time": "2022-01-23T19:01:07.926Z"
   },
   {
    "duration": 9,
    "start_time": "2022-01-23T19:01:07.936Z"
   },
   {
    "duration": 28,
    "start_time": "2022-01-23T19:01:07.947Z"
   },
   {
    "duration": 51,
    "start_time": "2022-01-23T19:01:07.978Z"
   },
   {
    "duration": 35,
    "start_time": "2022-01-23T19:01:08.032Z"
   },
   {
    "duration": 11,
    "start_time": "2022-01-23T19:01:08.070Z"
   },
   {
    "duration": 61067,
    "start_time": "2022-01-23T19:01:08.084Z"
   },
   {
    "duration": 472,
    "start_time": "2022-01-23T19:02:24.077Z"
   },
   {
    "duration": 419,
    "start_time": "2022-01-23T19:04:17.567Z"
   },
   {
    "duration": 561,
    "start_time": "2022-01-23T19:04:32.367Z"
   },
   {
    "duration": 699,
    "start_time": "2022-01-23T19:05:19.888Z"
   },
   {
    "duration": 48,
    "start_time": "2022-01-23T19:05:58.773Z"
   },
   {
    "duration": 46,
    "start_time": "2022-01-23T19:06:24.269Z"
   },
   {
    "duration": 46,
    "start_time": "2022-01-23T19:07:49.542Z"
   },
   {
    "duration": 14,
    "start_time": "2022-01-23T19:32:09.626Z"
   },
   {
    "duration": 3457,
    "start_time": "2022-01-23T19:32:14.855Z"
   },
   {
    "duration": 2942,
    "start_time": "2022-01-23T19:32:18.315Z"
   },
   {
    "duration": 413,
    "start_time": "2022-01-23T19:32:21.260Z"
   },
   {
    "duration": 7,
    "start_time": "2022-01-23T19:32:21.676Z"
   },
   {
    "duration": 67,
    "start_time": "2022-01-23T19:32:21.686Z"
   },
   {
    "duration": 91,
    "start_time": "2022-01-23T19:32:21.756Z"
   },
   {
    "duration": 7,
    "start_time": "2022-01-23T19:32:21.850Z"
   },
   {
    "duration": 114,
    "start_time": "2022-01-23T19:32:21.863Z"
   },
   {
    "duration": 452,
    "start_time": "2022-01-23T19:32:21.982Z"
   },
   {
    "duration": 68,
    "start_time": "2022-01-23T19:32:22.437Z"
   },
   {
    "duration": 24,
    "start_time": "2022-01-23T19:32:22.508Z"
   },
   {
    "duration": 131,
    "start_time": "2022-01-23T19:32:22.536Z"
   },
   {
    "duration": 44733,
    "start_time": "2022-01-23T19:32:22.670Z"
   },
   {
    "duration": 41,
    "start_time": "2022-01-23T19:33:07.405Z"
   },
   {
    "duration": 7777,
    "start_time": "2022-01-23T19:33:07.448Z"
   },
   {
    "duration": 17,
    "start_time": "2022-01-23T19:33:15.228Z"
   },
   {
    "duration": 23,
    "start_time": "2022-01-23T19:33:15.248Z"
   },
   {
    "duration": 13,
    "start_time": "2022-01-23T19:33:15.274Z"
   },
   {
    "duration": 518248,
    "start_time": "2022-01-23T19:33:15.290Z"
   },
   {
    "duration": 23,
    "start_time": "2022-01-23T19:41:53.540Z"
   },
   {
    "duration": 18139,
    "start_time": "2022-01-23T19:41:53.565Z"
   },
   {
    "duration": 49,
    "start_time": "2022-01-23T19:42:11.707Z"
   },
   {
    "duration": 7,
    "start_time": "2022-01-23T19:42:11.768Z"
   },
   {
    "duration": 50,
    "start_time": "2022-01-23T19:42:11.779Z"
   },
   {
    "duration": 51,
    "start_time": "2022-01-23T19:42:11.832Z"
   },
   {
    "duration": 5,
    "start_time": "2022-01-23T19:42:11.886Z"
   },
   {
    "duration": 32,
    "start_time": "2022-01-23T19:42:11.894Z"
   },
   {
    "duration": 55,
    "start_time": "2022-01-23T19:42:11.928Z"
   },
   {
    "duration": 39,
    "start_time": "2022-01-23T19:42:11.985Z"
   },
   {
    "duration": 45,
    "start_time": "2022-01-23T19:42:12.026Z"
   },
   {
    "duration": 8,
    "start_time": "2022-01-23T19:42:12.074Z"
   },
   {
    "duration": 41,
    "start_time": "2022-01-23T19:42:12.084Z"
   },
   {
    "duration": 566,
    "start_time": "2022-01-23T19:42:12.128Z"
   },
   {
    "duration": 291,
    "start_time": "2022-01-23T19:42:12.698Z"
   },
   {
    "duration": 365,
    "start_time": "2022-01-23T19:42:12.628Z"
   },
   {
    "duration": 360,
    "start_time": "2022-01-23T19:42:12.635Z"
   },
   {
    "duration": 358,
    "start_time": "2022-01-23T19:42:12.640Z"
   },
   {
    "duration": 358,
    "start_time": "2022-01-23T19:42:12.643Z"
   },
   {
    "duration": 355,
    "start_time": "2022-01-23T19:42:12.649Z"
   },
   {
    "duration": 353,
    "start_time": "2022-01-23T19:42:12.653Z"
   },
   {
    "duration": 352,
    "start_time": "2022-01-23T19:42:12.657Z"
   },
   {
    "duration": 351,
    "start_time": "2022-01-23T19:42:12.660Z"
   },
   {
    "duration": 346,
    "start_time": "2022-01-23T19:42:12.667Z"
   },
   {
    "duration": 346,
    "start_time": "2022-01-23T19:42:12.670Z"
   },
   {
    "duration": 345,
    "start_time": "2022-01-23T19:42:12.674Z"
   },
   {
    "duration": 343,
    "start_time": "2022-01-23T19:42:12.678Z"
   },
   {
    "duration": 341,
    "start_time": "2022-01-23T19:42:12.683Z"
   },
   {
    "duration": 340,
    "start_time": "2022-01-23T19:42:12.686Z"
   },
   {
    "duration": 339,
    "start_time": "2022-01-23T19:42:12.690Z"
   },
   {
    "duration": 338,
    "start_time": "2022-01-23T19:42:12.693Z"
   },
   {
    "duration": 333,
    "start_time": "2022-01-23T19:42:12.700Z"
   },
   {
    "duration": 332,
    "start_time": "2022-01-23T19:42:12.704Z"
   },
   {
    "duration": 331,
    "start_time": "2022-01-23T19:42:12.707Z"
   },
   {
    "duration": 331,
    "start_time": "2022-01-23T19:42:12.710Z"
   },
   {
    "duration": 327,
    "start_time": "2022-01-23T19:42:12.717Z"
   },
   {
    "duration": 326,
    "start_time": "2022-01-23T19:42:12.720Z"
   },
   {
    "duration": 325,
    "start_time": "2022-01-23T19:42:12.723Z"
   },
   {
    "duration": 324,
    "start_time": "2022-01-23T19:42:12.727Z"
   },
   {
    "duration": 319,
    "start_time": "2022-01-23T19:42:12.734Z"
   },
   {
    "duration": 318,
    "start_time": "2022-01-23T19:42:12.738Z"
   },
   {
    "duration": 317,
    "start_time": "2022-01-23T19:42:12.741Z"
   },
   {
    "duration": 315,
    "start_time": "2022-01-23T19:42:12.745Z"
   },
   {
    "duration": 310,
    "start_time": "2022-01-23T19:42:12.751Z"
   },
   {
    "duration": 309,
    "start_time": "2022-01-23T19:42:12.754Z"
   },
   {
    "duration": 298,
    "start_time": "2022-01-23T19:42:12.766Z"
   },
   {
    "duration": 287,
    "start_time": "2022-01-23T19:42:12.779Z"
   },
   {
    "duration": 3140,
    "start_time": "2022-01-23T19:50:46.424Z"
   },
   {
    "duration": 2732,
    "start_time": "2022-01-23T19:50:49.566Z"
   },
   {
    "duration": 274,
    "start_time": "2022-01-23T19:50:52.301Z"
   },
   {
    "duration": 4,
    "start_time": "2022-01-23T19:50:52.578Z"
   },
   {
    "duration": 45,
    "start_time": "2022-01-23T19:50:52.584Z"
   },
   {
    "duration": 45,
    "start_time": "2022-01-23T19:50:52.631Z"
   },
   {
    "duration": 6,
    "start_time": "2022-01-23T19:50:52.679Z"
   },
   {
    "duration": 92,
    "start_time": "2022-01-23T19:50:52.689Z"
   },
   {
    "duration": 259,
    "start_time": "2022-01-23T19:50:52.784Z"
   },
   {
    "duration": 39,
    "start_time": "2022-01-23T19:50:53.046Z"
   },
   {
    "duration": 9,
    "start_time": "2022-01-23T19:50:53.087Z"
   },
   {
    "duration": 93,
    "start_time": "2022-01-23T19:50:53.098Z"
   },
   {
    "duration": 43169,
    "start_time": "2022-01-23T19:50:53.194Z"
   },
   {
    "duration": 64,
    "start_time": "2022-01-23T19:51:36.366Z"
   },
   {
    "duration": 7013,
    "start_time": "2022-01-23T19:51:36.433Z"
   },
   {
    "duration": 15,
    "start_time": "2022-01-23T19:51:43.448Z"
   },
   {
    "duration": 22,
    "start_time": "2022-01-23T19:51:43.465Z"
   },
   {
    "duration": 34,
    "start_time": "2022-01-23T19:51:43.489Z"
   },
   {
    "duration": 481661,
    "start_time": "2022-01-23T19:51:43.525Z"
   },
   {
    "duration": 36,
    "start_time": "2022-01-23T19:59:45.189Z"
   },
   {
    "duration": 15502,
    "start_time": "2022-01-23T19:59:45.227Z"
   },
   {
    "duration": 26,
    "start_time": "2022-01-23T20:00:00.732Z"
   },
   {
    "duration": 6,
    "start_time": "2022-01-23T20:00:00.765Z"
   },
   {
    "duration": 58,
    "start_time": "2022-01-23T20:00:00.776Z"
   },
   {
    "duration": 52,
    "start_time": "2022-01-23T20:00:00.837Z"
   },
   {
    "duration": 6,
    "start_time": "2022-01-23T20:00:00.892Z"
   },
   {
    "duration": 8,
    "start_time": "2022-01-23T20:00:00.924Z"
   },
   {
    "duration": 67,
    "start_time": "2022-01-23T20:00:00.934Z"
   },
   {
    "duration": 5,
    "start_time": "2022-01-23T20:00:01.004Z"
   },
   {
    "duration": 44,
    "start_time": "2022-01-23T20:00:01.023Z"
   },
   {
    "duration": 8,
    "start_time": "2022-01-23T20:00:01.069Z"
   },
   {
    "duration": 15,
    "start_time": "2022-01-23T20:00:01.080Z"
   },
   {
    "duration": 10527,
    "start_time": "2022-01-23T20:00:01.098Z"
   },
   {
    "duration": 501,
    "start_time": "2022-01-23T20:00:11.628Z"
   },
   {
    "duration": 18,
    "start_time": "2022-01-23T20:00:12.131Z"
   },
   {
    "duration": 7,
    "start_time": "2022-01-23T20:00:12.151Z"
   },
   {
    "duration": 7366,
    "start_time": "2022-01-23T20:00:12.160Z"
   },
   {
    "duration": 655,
    "start_time": "2022-01-23T20:00:19.530Z"
   },
   {
    "duration": 12,
    "start_time": "2022-01-23T20:00:20.187Z"
   },
   {
    "duration": 23,
    "start_time": "2022-01-23T20:00:20.201Z"
   },
   {
    "duration": 43571,
    "start_time": "2022-01-23T20:00:20.227Z"
   },
   {
    "duration": 394,
    "start_time": "2022-01-23T20:01:03.801Z"
   },
   {
    "duration": 27,
    "start_time": "2022-01-23T20:01:04.198Z"
   },
   {
    "duration": 9,
    "start_time": "2022-01-23T20:01:04.228Z"
   },
   {
    "duration": 34572,
    "start_time": "2022-01-23T20:01:04.239Z"
   },
   {
    "duration": 430,
    "start_time": "2022-01-23T20:01:38.814Z"
   },
   {
    "duration": 22,
    "start_time": "2022-01-23T20:01:39.247Z"
   },
   {
    "duration": 12,
    "start_time": "2022-01-23T20:01:39.272Z"
   },
   {
    "duration": 541,
    "start_time": "2022-01-23T20:01:39.286Z"
   },
   {
    "duration": 425,
    "start_time": "2022-01-23T20:01:39.830Z"
   },
   {
    "duration": 449,
    "start_time": "2022-01-23T20:01:40.258Z"
   },
   {
    "duration": 375,
    "start_time": "2022-01-23T20:01:40.334Z"
   },
   {
    "duration": 372,
    "start_time": "2022-01-23T20:01:40.339Z"
   },
   {
    "duration": 370,
    "start_time": "2022-01-23T20:01:40.342Z"
   },
   {
    "duration": 367,
    "start_time": "2022-01-23T20:01:40.347Z"
   },
   {
    "duration": 364,
    "start_time": "2022-01-23T20:01:40.351Z"
   },
   {
    "duration": 362,
    "start_time": "2022-01-23T20:01:40.355Z"
   },
   {
    "duration": 360,
    "start_time": "2022-01-23T20:01:40.358Z"
   },
   {
    "duration": 354,
    "start_time": "2022-01-23T20:01:40.365Z"
   },
   {
    "duration": 353,
    "start_time": "2022-01-23T20:01:40.368Z"
   },
   {
    "duration": 351,
    "start_time": "2022-01-23T20:01:40.371Z"
   },
   {
    "duration": 349,
    "start_time": "2022-01-23T20:01:40.375Z"
   },
   {
    "duration": 347,
    "start_time": "2022-01-23T20:01:40.378Z"
   },
   {
    "duration": 342,
    "start_time": "2022-01-23T20:01:40.384Z"
   },
   {
    "duration": 339,
    "start_time": "2022-01-23T20:01:40.388Z"
   },
   {
    "duration": 338,
    "start_time": "2022-01-23T20:01:40.391Z"
   },
   {
    "duration": 14,
    "start_time": "2022-01-23T20:07:23.546Z"
   },
   {
    "duration": 266,
    "start_time": "2022-01-23T20:07:41.403Z"
   },
   {
    "duration": 23666,
    "start_time": "2022-01-23T20:07:58.140Z"
   },
   {
    "duration": 412,
    "start_time": "2022-01-23T20:08:21.808Z"
   },
   {
    "duration": 22,
    "start_time": "2022-01-23T20:08:22.223Z"
   },
   {
    "duration": 11,
    "start_time": "2022-01-23T20:08:22.248Z"
   },
   {
    "duration": 354948,
    "start_time": "2022-01-23T20:08:22.262Z"
   },
   {
    "duration": 405,
    "start_time": "2022-01-23T20:14:17.212Z"
   },
   {
    "duration": 15,
    "start_time": "2022-01-23T20:14:17.624Z"
   },
   {
    "duration": 6,
    "start_time": "2022-01-23T20:14:17.643Z"
   },
   {
    "duration": 19,
    "start_time": "2022-01-23T20:14:17.652Z"
   },
   {
    "duration": 126,
    "start_time": "2022-01-23T20:14:17.674Z"
   },
   {
    "duration": 57,
    "start_time": "2022-01-23T20:14:17.802Z"
   },
   {
    "duration": 6,
    "start_time": "2022-01-23T20:14:17.862Z"
   },
   {
    "duration": 7,
    "start_time": "2022-01-23T20:14:17.870Z"
   },
   {
    "duration": 50,
    "start_time": "2022-01-23T20:14:17.879Z"
   },
   {
    "duration": 11,
    "start_time": "2022-01-23T20:14:17.932Z"
   },
   {
    "duration": 26,
    "start_time": "2022-01-23T20:14:17.946Z"
   },
   {
    "duration": 6,
    "start_time": "2022-01-23T20:14:17.975Z"
   },
   {
    "duration": 57947,
    "start_time": "2022-01-23T20:14:17.983Z"
   },
   {
    "duration": 3809,
    "start_time": "2022-01-23T20:28:31.259Z"
   },
   {
    "duration": 2802,
    "start_time": "2022-01-23T20:28:35.071Z"
   },
   {
    "duration": 286,
    "start_time": "2022-01-23T20:28:37.876Z"
   },
   {
    "duration": 6,
    "start_time": "2022-01-23T20:28:38.164Z"
   },
   {
    "duration": 52,
    "start_time": "2022-01-23T20:28:38.173Z"
   },
   {
    "duration": 48,
    "start_time": "2022-01-23T20:28:38.228Z"
   },
   {
    "duration": 7,
    "start_time": "2022-01-23T20:28:38.279Z"
   },
   {
    "duration": 92,
    "start_time": "2022-01-23T20:28:38.291Z"
   },
   {
    "duration": 281,
    "start_time": "2022-01-23T20:28:38.387Z"
   },
   {
    "duration": 38,
    "start_time": "2022-01-23T20:28:38.671Z"
   },
   {
    "duration": 16,
    "start_time": "2022-01-23T20:28:38.711Z"
   },
   {
    "duration": 69,
    "start_time": "2022-01-23T20:28:38.730Z"
   },
   {
    "duration": 41543,
    "start_time": "2022-01-23T20:28:38.801Z"
   },
   {
    "duration": 30,
    "start_time": "2022-01-23T20:29:20.346Z"
   },
   {
    "duration": 6897,
    "start_time": "2022-01-23T20:29:20.379Z"
   },
   {
    "duration": 15,
    "start_time": "2022-01-23T20:29:27.279Z"
   },
   {
    "duration": 35,
    "start_time": "2022-01-23T20:29:27.296Z"
   },
   {
    "duration": 12,
    "start_time": "2022-01-23T20:29:27.333Z"
   },
   {
    "duration": 479342,
    "start_time": "2022-01-23T20:29:27.347Z"
   },
   {
    "duration": 34,
    "start_time": "2022-01-23T20:37:26.691Z"
   },
   {
    "duration": 15004,
    "start_time": "2022-01-23T20:37:26.727Z"
   },
   {
    "duration": 24,
    "start_time": "2022-01-23T20:37:41.734Z"
   },
   {
    "duration": 6,
    "start_time": "2022-01-23T20:37:41.763Z"
   },
   {
    "duration": 51,
    "start_time": "2022-01-23T20:37:41.772Z"
   },
   {
    "duration": 47,
    "start_time": "2022-01-23T20:37:41.825Z"
   },
   {
    "duration": 6,
    "start_time": "2022-01-23T20:37:41.874Z"
   },
   {
    "duration": 9,
    "start_time": "2022-01-23T20:37:41.882Z"
   },
   {
    "duration": 81,
    "start_time": "2022-01-23T20:37:41.893Z"
   },
   {
    "duration": 6,
    "start_time": "2022-01-23T20:37:41.977Z"
   },
   {
    "duration": 61,
    "start_time": "2022-01-23T20:37:41.985Z"
   },
   {
    "duration": 7,
    "start_time": "2022-01-23T20:37:42.048Z"
   },
   {
    "duration": 11,
    "start_time": "2022-01-23T20:37:42.057Z"
   },
   {
    "duration": 10356,
    "start_time": "2022-01-23T20:37:42.070Z"
   },
   {
    "duration": 545,
    "start_time": "2022-01-23T20:37:52.430Z"
   },
   {
    "duration": 17,
    "start_time": "2022-01-23T20:37:52.977Z"
   },
   {
    "duration": 6,
    "start_time": "2022-01-23T20:37:52.997Z"
   },
   {
    "duration": 6923,
    "start_time": "2022-01-23T20:37:53.005Z"
   },
   {
    "duration": 671,
    "start_time": "2022-01-23T20:37:59.931Z"
   },
   {
    "duration": 20,
    "start_time": "2022-01-23T20:38:00.605Z"
   },
   {
    "duration": 10,
    "start_time": "2022-01-23T20:38:00.630Z"
   },
   {
    "duration": 44344,
    "start_time": "2022-01-23T20:38:00.643Z"
   },
   {
    "duration": 378,
    "start_time": "2022-01-23T20:38:44.990Z"
   },
   {
    "duration": 19,
    "start_time": "2022-01-23T20:38:45.370Z"
   },
   {
    "duration": 5,
    "start_time": "2022-01-23T20:38:45.392Z"
   },
   {
    "duration": 34216,
    "start_time": "2022-01-23T20:38:45.423Z"
   },
   {
    "duration": 393,
    "start_time": "2022-01-23T20:39:19.642Z"
   },
   {
    "duration": 15,
    "start_time": "2022-01-23T20:39:20.037Z"
   },
   {
    "duration": 8,
    "start_time": "2022-01-23T20:39:20.055Z"
   },
   {
    "duration": 22428,
    "start_time": "2022-01-23T20:39:20.065Z"
   },
   {
    "duration": 375,
    "start_time": "2022-01-23T20:39:42.496Z"
   },
   {
    "duration": 25,
    "start_time": "2022-01-23T20:39:42.873Z"
   },
   {
    "duration": 22,
    "start_time": "2022-01-23T20:39:42.901Z"
   },
   {
    "duration": 359484,
    "start_time": "2022-01-23T20:39:42.925Z"
   },
   {
    "duration": 381,
    "start_time": "2022-01-23T20:45:42.412Z"
   },
   {
    "duration": 14,
    "start_time": "2022-01-23T20:45:42.795Z"
   },
   {
    "duration": 6,
    "start_time": "2022-01-23T20:45:42.823Z"
   },
   {
    "duration": 23,
    "start_time": "2022-01-23T20:45:42.831Z"
   },
   {
    "duration": 103,
    "start_time": "2022-01-23T20:45:42.856Z"
   },
   {
    "duration": 45,
    "start_time": "2022-01-23T20:45:42.961Z"
   },
   {
    "duration": 18,
    "start_time": "2022-01-23T20:45:43.008Z"
   },
   {
    "duration": 19,
    "start_time": "2022-01-23T20:45:43.028Z"
   },
   {
    "duration": 46,
    "start_time": "2022-01-23T20:45:43.049Z"
   },
   {
    "duration": 11,
    "start_time": "2022-01-23T20:45:43.097Z"
   },
   {
    "duration": 35,
    "start_time": "2022-01-23T20:45:43.110Z"
   },
   {
    "duration": 26,
    "start_time": "2022-01-23T20:45:43.148Z"
   },
   {
    "duration": 58778,
    "start_time": "2022-01-23T20:45:43.177Z"
   },
   {
    "duration": 523,
    "start_time": "2022-01-23T20:59:08.407Z"
   },
   {
    "duration": 52,
    "start_time": "2022-01-23T20:59:27.567Z"
   },
   {
    "duration": 428,
    "start_time": "2022-01-23T21:04:53.172Z"
   },
   {
    "duration": 969,
    "start_time": "2022-01-23T21:05:53.697Z"
   },
   {
    "duration": 912,
    "start_time": "2022-01-23T21:06:38.939Z"
   },
   {
    "duration": 61,
    "start_time": "2022-01-23T21:06:55.603Z"
   },
   {
    "duration": 84,
    "start_time": "2022-01-23T21:07:10.580Z"
   },
   {
    "duration": 1051,
    "start_time": "2022-01-23T21:07:17.582Z"
   },
   {
    "duration": 1001,
    "start_time": "2022-01-23T21:10:32.365Z"
   },
   {
    "duration": 969,
    "start_time": "2022-01-23T21:10:53.535Z"
   },
   {
    "duration": 983,
    "start_time": "2022-01-23T21:12:14.752Z"
   },
   {
    "duration": 8,
    "start_time": "2022-01-23T21:15:44.873Z"
   },
   {
    "duration": 955,
    "start_time": "2022-01-23T21:22:59.247Z"
   },
   {
    "duration": 1009,
    "start_time": "2022-01-23T21:25:25.502Z"
   },
   {
    "duration": 39,
    "start_time": "2022-01-23T21:25:37.978Z"
   },
   {
    "duration": 6,
    "start_time": "2022-01-23T21:27:32.892Z"
   },
   {
    "duration": 338,
    "start_time": "2022-01-23T21:31:10.125Z"
   },
   {
    "duration": 1348,
    "start_time": "2022-01-23T21:32:13.355Z"
   },
   {
    "duration": 953,
    "start_time": "2022-01-23T21:33:38.531Z"
   },
   {
    "duration": 98,
    "start_time": "2022-01-23T21:33:56.718Z"
   },
   {
    "duration": 11,
    "start_time": "2022-01-23T21:34:11.294Z"
   },
   {
    "duration": 225,
    "start_time": "2022-01-23T21:36:25.400Z"
   },
   {
    "duration": 268,
    "start_time": "2022-01-23T21:36:33.128Z"
   },
   {
    "duration": 266,
    "start_time": "2022-01-23T21:36:48.072Z"
   },
   {
    "duration": 141,
    "start_time": "2022-01-23T21:39:10.011Z"
   },
   {
    "duration": 6,
    "start_time": "2022-01-23T21:39:38.018Z"
   },
   {
    "duration": 11,
    "start_time": "2022-01-23T21:40:08.283Z"
   },
   {
    "duration": 54,
    "start_time": "2022-01-23T21:46:21.960Z"
   },
   {
    "duration": 3378,
    "start_time": "2022-01-23T21:58:08.198Z"
   },
   {
    "duration": 3047,
    "start_time": "2022-01-23T21:58:11.578Z"
   },
   {
    "duration": 2762,
    "start_time": "2022-01-23T21:58:14.628Z"
   },
   {
    "duration": 280,
    "start_time": "2022-01-23T21:58:17.393Z"
   },
   {
    "duration": 5,
    "start_time": "2022-01-23T21:58:17.675Z"
   },
   {
    "duration": 48,
    "start_time": "2022-01-23T21:58:17.682Z"
   },
   {
    "duration": 46,
    "start_time": "2022-01-23T21:58:17.732Z"
   },
   {
    "duration": 6,
    "start_time": "2022-01-23T21:58:17.781Z"
   },
   {
    "duration": 93,
    "start_time": "2022-01-23T21:58:17.789Z"
   },
   {
    "duration": 271,
    "start_time": "2022-01-23T21:58:17.885Z"
   },
   {
    "duration": 92,
    "start_time": "2022-01-23T21:58:18.158Z"
   },
   {
    "duration": 9,
    "start_time": "2022-01-23T21:58:18.252Z"
   },
   {
    "duration": 204,
    "start_time": "2022-01-23T21:58:18.264Z"
   },
   {
    "duration": 41778,
    "start_time": "2022-01-23T21:58:18.470Z"
   },
   {
    "duration": 73,
    "start_time": "2022-01-23T21:59:00.250Z"
   },
   {
    "duration": 6724,
    "start_time": "2022-01-23T21:59:00.325Z"
   },
   {
    "duration": 18,
    "start_time": "2022-01-23T21:59:07.051Z"
   },
   {
    "duration": 26,
    "start_time": "2022-01-23T21:59:07.072Z"
   },
   {
    "duration": 16,
    "start_time": "2022-01-23T21:59:07.124Z"
   },
   {
    "duration": 495909,
    "start_time": "2022-01-23T21:59:07.143Z"
   },
   {
    "duration": 24,
    "start_time": "2022-01-23T22:07:23.055Z"
   },
   {
    "duration": 14979,
    "start_time": "2022-01-23T22:07:23.082Z"
   },
   {
    "duration": 25,
    "start_time": "2022-01-23T22:07:38.067Z"
   },
   {
    "duration": 6,
    "start_time": "2022-01-23T22:07:38.096Z"
   },
   {
    "duration": 59,
    "start_time": "2022-01-23T22:07:38.124Z"
   },
   {
    "duration": 169,
    "start_time": "2022-01-23T22:07:38.186Z"
   },
   {
    "duration": 7,
    "start_time": "2022-01-23T22:07:38.357Z"
   },
   {
    "duration": 9,
    "start_time": "2022-01-23T22:07:38.367Z"
   },
   {
    "duration": 445,
    "start_time": "2022-01-23T22:07:38.379Z"
   },
   {
    "duration": 6,
    "start_time": "2022-01-23T22:07:38.826Z"
   },
   {
    "duration": 188,
    "start_time": "2022-01-23T22:07:38.835Z"
   },
   {
    "duration": 7,
    "start_time": "2022-01-23T22:07:39.026Z"
   },
   {
    "duration": 11,
    "start_time": "2022-01-23T22:07:39.035Z"
   },
   {
    "duration": 88385,
    "start_time": "2022-01-23T22:07:39.048Z"
   },
   {
    "duration": 556,
    "start_time": "2022-01-23T22:09:07.437Z"
   },
   {
    "duration": 32,
    "start_time": "2022-01-23T22:09:07.996Z"
   },
   {
    "duration": 4,
    "start_time": "2022-01-23T22:09:08.031Z"
   },
   {
    "duration": 49701,
    "start_time": "2022-01-23T22:09:08.038Z"
   },
   {
    "duration": 673,
    "start_time": "2022-01-23T22:09:57.825Z"
   },
   {
    "duration": 12,
    "start_time": "2022-01-23T22:09:58.500Z"
   },
   {
    "duration": 5,
    "start_time": "2022-01-23T22:09:58.523Z"
   },
   {
    "duration": 184300,
    "start_time": "2022-01-23T22:09:58.530Z"
   },
   {
    "duration": 395,
    "start_time": "2022-01-23T22:13:02.832Z"
   },
   {
    "duration": 23,
    "start_time": "2022-01-23T22:13:03.229Z"
   },
   {
    "duration": 6,
    "start_time": "2022-01-23T22:13:03.254Z"
   },
   {
    "duration": 113851,
    "start_time": "2022-01-23T22:13:03.263Z"
   },
   {
    "duration": 417,
    "start_time": "2022-01-23T22:14:57.116Z"
   },
   {
    "duration": 16,
    "start_time": "2022-01-23T22:14:57.536Z"
   },
   {
    "duration": 15,
    "start_time": "2022-01-23T22:14:57.554Z"
   },
   {
    "duration": 38772,
    "start_time": "2022-01-23T22:14:57.572Z"
   },
   {
    "duration": 403,
    "start_time": "2022-01-23T22:15:36.346Z"
   },
   {
    "duration": 20,
    "start_time": "2022-01-23T22:15:36.751Z"
   },
   {
    "duration": 6,
    "start_time": "2022-01-23T22:15:36.773Z"
   },
   {
    "duration": 577833,
    "start_time": "2022-01-23T22:15:36.781Z"
   },
   {
    "duration": 416,
    "start_time": "2022-01-23T22:25:14.616Z"
   },
   {
    "duration": 17,
    "start_time": "2022-01-23T22:25:15.035Z"
   },
   {
    "duration": 9,
    "start_time": "2022-01-23T22:25:15.055Z"
   },
   {
    "duration": 20,
    "start_time": "2022-01-23T22:25:15.066Z"
   },
   {
    "duration": 624,
    "start_time": "2022-01-23T22:25:15.089Z"
   },
   {
    "duration": 51,
    "start_time": "2022-01-23T22:25:15.715Z"
   },
   {
    "duration": 6,
    "start_time": "2022-01-23T22:25:15.769Z"
   },
   {
    "duration": 7,
    "start_time": "2022-01-23T22:25:15.777Z"
   },
   {
    "duration": 54,
    "start_time": "2022-01-23T22:25:15.787Z"
   },
   {
    "duration": 11,
    "start_time": "2022-01-23T22:25:15.844Z"
   },
   {
    "duration": 24,
    "start_time": "2022-01-23T22:25:15.857Z"
   },
   {
    "duration": 1352,
    "start_time": "2022-01-23T22:25:15.883Z"
   },
   {
    "duration": 458,
    "start_time": "2022-01-23T22:25:16.780Z"
   },
   {
    "duration": 454,
    "start_time": "2022-01-23T22:25:16.785Z"
   },
   {
    "duration": 57132,
    "start_time": "2022-01-23T22:28:53.736Z"
   },
   {
    "duration": 7,
    "start_time": "2022-01-23T22:29:50.870Z"
   },
   {
    "duration": 5451,
    "start_time": "2022-01-23T22:33:08.219Z"
   },
   {
    "duration": 1033,
    "start_time": "2022-01-23T22:33:32.172Z"
   },
   {
    "duration": 87,
    "start_time": "2022-01-23T22:34:34.091Z"
   },
   {
    "duration": 3393,
    "start_time": "2022-01-23T22:35:11.016Z"
   },
   {
    "duration": 2935,
    "start_time": "2022-01-23T22:35:14.411Z"
   },
   {
    "duration": 2743,
    "start_time": "2022-01-23T22:35:17.349Z"
   },
   {
    "duration": 272,
    "start_time": "2022-01-23T22:35:20.095Z"
   },
   {
    "duration": 5,
    "start_time": "2022-01-23T22:35:20.370Z"
   },
   {
    "duration": 47,
    "start_time": "2022-01-23T22:35:20.377Z"
   },
   {
    "duration": 43,
    "start_time": "2022-01-23T22:35:20.427Z"
   },
   {
    "duration": 6,
    "start_time": "2022-01-23T22:35:20.474Z"
   },
   {
    "duration": 90,
    "start_time": "2022-01-23T22:35:20.482Z"
   },
   {
    "duration": 267,
    "start_time": "2022-01-23T22:35:20.574Z"
   },
   {
    "duration": 83,
    "start_time": "2022-01-23T22:35:20.844Z"
   },
   {
    "duration": 8,
    "start_time": "2022-01-23T22:35:20.930Z"
   },
   {
    "duration": 95,
    "start_time": "2022-01-23T22:35:20.941Z"
   },
   {
    "duration": 39541,
    "start_time": "2022-01-23T22:35:21.038Z"
   },
   {
    "duration": 53,
    "start_time": "2022-01-23T22:36:00.581Z"
   },
   {
    "duration": 6703,
    "start_time": "2022-01-23T22:36:00.636Z"
   },
   {
    "duration": 15,
    "start_time": "2022-01-23T22:36:07.341Z"
   },
   {
    "duration": 20,
    "start_time": "2022-01-23T22:36:07.358Z"
   },
   {
    "duration": 11,
    "start_time": "2022-01-23T22:36:07.380Z"
   },
   {
    "duration": 478297,
    "start_time": "2022-01-23T22:36:07.393Z"
   },
   {
    "duration": 35,
    "start_time": "2022-01-23T22:44:05.693Z"
   },
   {
    "duration": 14664,
    "start_time": "2022-01-23T22:44:05.730Z"
   },
   {
    "duration": 31,
    "start_time": "2022-01-23T22:44:20.399Z"
   },
   {
    "duration": 6,
    "start_time": "2022-01-23T22:44:20.433Z"
   },
   {
    "duration": 20,
    "start_time": "2022-01-23T22:44:20.441Z"
   },
   {
    "duration": 72,
    "start_time": "2022-01-23T22:44:20.463Z"
   },
   {
    "duration": 5,
    "start_time": "2022-01-23T22:44:20.537Z"
   },
   {
    "duration": 10,
    "start_time": "2022-01-23T22:44:20.544Z"
   },
   {
    "duration": 70,
    "start_time": "2022-01-23T22:44:20.556Z"
   },
   {
    "duration": 6,
    "start_time": "2022-01-23T22:44:20.628Z"
   },
   {
    "duration": 41,
    "start_time": "2022-01-23T22:44:20.636Z"
   },
   {
    "duration": 7,
    "start_time": "2022-01-23T22:44:20.680Z"
   },
   {
    "duration": 35,
    "start_time": "2022-01-23T22:44:20.689Z"
   },
   {
    "duration": 9322,
    "start_time": "2022-01-23T22:44:20.726Z"
   },
   {
    "duration": 540,
    "start_time": "2022-01-23T22:44:30.054Z"
   },
   {
    "duration": 29,
    "start_time": "2022-01-23T22:44:30.596Z"
   },
   {
    "duration": 14,
    "start_time": "2022-01-23T22:44:30.628Z"
   },
   {
    "duration": 6782,
    "start_time": "2022-01-23T22:44:30.644Z"
   },
   {
    "duration": 587,
    "start_time": "2022-01-23T22:44:37.429Z"
   },
   {
    "duration": 14,
    "start_time": "2022-01-23T22:44:38.023Z"
   },
   {
    "duration": 7,
    "start_time": "2022-01-23T22:44:38.040Z"
   },
   {
    "duration": 42149,
    "start_time": "2022-01-23T22:44:38.050Z"
   },
   {
    "duration": 399,
    "start_time": "2022-01-23T22:45:20.202Z"
   },
   {
    "duration": 32,
    "start_time": "2022-01-23T22:45:20.604Z"
   },
   {
    "duration": 7,
    "start_time": "2022-01-23T22:45:20.639Z"
   },
   {
    "duration": 32116,
    "start_time": "2022-01-23T22:45:20.649Z"
   },
   {
    "duration": 368,
    "start_time": "2022-01-23T22:45:52.767Z"
   },
   {
    "duration": 16,
    "start_time": "2022-01-23T22:45:53.137Z"
   },
   {
    "duration": 9,
    "start_time": "2022-01-23T22:45:53.156Z"
   },
   {
    "duration": 22631,
    "start_time": "2022-01-23T22:45:53.168Z"
   },
   {
    "duration": 391,
    "start_time": "2022-01-23T22:46:15.801Z"
   },
   {
    "duration": 36,
    "start_time": "2022-01-23T22:46:16.194Z"
   },
   {
    "duration": 8,
    "start_time": "2022-01-23T22:46:16.232Z"
   },
   {
    "duration": 351302,
    "start_time": "2022-01-23T22:46:16.242Z"
   },
   {
    "duration": 388,
    "start_time": "2022-01-23T22:52:07.546Z"
   },
   {
    "duration": 15,
    "start_time": "2022-01-23T22:52:07.937Z"
   },
   {
    "duration": 6,
    "start_time": "2022-01-23T22:52:07.955Z"
   },
   {
    "duration": 16,
    "start_time": "2022-01-23T22:52:07.963Z"
   },
   {
    "duration": 520,
    "start_time": "2022-01-23T22:52:07.982Z"
   },
   {
    "duration": 55,
    "start_time": "2022-01-23T22:52:08.504Z"
   },
   {
    "duration": 5,
    "start_time": "2022-01-23T22:52:08.562Z"
   },
   {
    "duration": 7,
    "start_time": "2022-01-23T22:52:08.569Z"
   },
   {
    "duration": 48,
    "start_time": "2022-01-23T22:52:08.579Z"
   },
   {
    "duration": 12,
    "start_time": "2022-01-23T22:52:08.629Z"
   },
   {
    "duration": 25,
    "start_time": "2022-01-23T22:52:08.644Z"
   },
   {
    "duration": 1040,
    "start_time": "2022-01-23T22:52:08.671Z"
   },
   {
    "duration": 55740,
    "start_time": "2022-01-23T22:52:09.713Z"
   },
   {
    "duration": 8,
    "start_time": "2022-01-23T22:53:05.460Z"
   },
   {
    "duration": 1079,
    "start_time": "2022-01-25T06:30:52.969Z"
   },
   {
    "duration": 268,
    "start_time": "2022-01-25T06:31:04.404Z"
   },
   {
    "duration": 656,
    "start_time": "2022-01-25T06:31:11.170Z"
   },
   {
    "duration": 53,
    "start_time": "2022-01-25T06:31:13.410Z"
   },
   {
    "duration": 8,
    "start_time": "2022-01-25T06:31:15.550Z"
   },
   {
    "duration": 50,
    "start_time": "2022-01-25T06:31:17.860Z"
   },
   {
    "duration": 4038,
    "start_time": "2022-01-25T06:31:26.741Z"
   },
   {
    "duration": 11,
    "start_time": "2022-01-25T06:31:37.462Z"
   },
   {
    "duration": 6,
    "start_time": "2022-01-25T06:32:11.154Z"
   },
   {
    "duration": 4,
    "start_time": "2022-01-25T06:33:04.669Z"
   },
   {
    "duration": 5,
    "start_time": "2022-01-25T06:33:21.184Z"
   },
   {
    "duration": 3,
    "start_time": "2022-01-25T06:34:03.470Z"
   },
   {
    "duration": 4,
    "start_time": "2022-01-25T06:34:05.872Z"
   },
   {
    "duration": 4,
    "start_time": "2022-01-25T06:34:16.571Z"
   },
   {
    "duration": 4,
    "start_time": "2022-01-25T06:34:39.460Z"
   },
   {
    "duration": 20,
    "start_time": "2022-01-25T06:37:11.136Z"
   },
   {
    "duration": 12,
    "start_time": "2022-01-25T06:37:35.233Z"
   },
   {
    "duration": 16,
    "start_time": "2022-01-25T06:37:43.217Z"
   },
   {
    "duration": 9,
    "start_time": "2022-01-25T06:38:49.140Z"
   },
   {
    "duration": 18,
    "start_time": "2022-01-25T06:39:00.868Z"
   },
   {
    "duration": 17,
    "start_time": "2022-01-25T06:39:50.521Z"
   },
   {
    "duration": 20,
    "start_time": "2022-01-25T06:40:19.369Z"
   },
   {
    "duration": 18,
    "start_time": "2022-01-25T06:40:28.285Z"
   },
   {
    "duration": 7,
    "start_time": "2022-01-25T06:46:06.043Z"
   },
   {
    "duration": 21,
    "start_time": "2022-01-25T06:46:43.840Z"
   },
   {
    "duration": 18,
    "start_time": "2022-01-25T06:46:50.792Z"
   },
   {
    "duration": 23,
    "start_time": "2022-01-25T06:46:57.681Z"
   },
   {
    "duration": 5,
    "start_time": "2022-01-25T06:47:22.084Z"
   },
   {
    "duration": 4,
    "start_time": "2022-01-25T06:47:33.644Z"
   },
   {
    "duration": 364894,
    "start_time": "2022-01-25T06:49:54.013Z"
   },
   {
    "duration": 4,
    "start_time": "2022-01-25T06:56:30.793Z"
   },
   {
    "duration": 3,
    "start_time": "2022-01-25T06:56:37.816Z"
   },
   {
    "duration": 3,
    "start_time": "2022-01-25T07:19:20.955Z"
   },
   {
    "duration": 83,
    "start_time": "2022-01-25T09:19:38.206Z"
   },
   {
    "duration": 2292,
    "start_time": "2022-01-25T09:32:54.005Z"
   },
   {
    "duration": 18921,
    "start_time": "2022-01-25T09:33:03.870Z"
   },
   {
    "duration": 768,
    "start_time": "2022-01-25T09:33:35.198Z"
   },
   {
    "duration": 795,
    "start_time": "2022-01-25T09:33:39.758Z"
   },
   {
    "duration": 87,
    "start_time": "2022-01-25T09:33:45.110Z"
   },
   {
    "duration": 46510,
    "start_time": "2022-01-25T09:33:56.511Z"
   },
   {
    "duration": 84,
    "start_time": "2022-01-25T09:50:34.363Z"
   },
   {
    "duration": 88,
    "start_time": "2022-01-25T09:51:20.343Z"
   },
   {
    "duration": 12,
    "start_time": "2022-01-25T09:52:10.779Z"
   },
   {
    "duration": 10,
    "start_time": "2022-01-25T10:05:53.864Z"
   },
   {
    "duration": 11,
    "start_time": "2022-01-25T10:06:28.729Z"
   },
   {
    "duration": 182,
    "start_time": "2022-01-25T10:07:03.656Z"
   },
   {
    "duration": 968,
    "start_time": "2022-01-25T10:07:18.617Z"
   },
   {
    "duration": 90,
    "start_time": "2022-01-25T10:07:22.266Z"
   },
   {
    "duration": 13,
    "start_time": "2022-01-25T10:07:23.545Z"
   },
   {
    "duration": 3169,
    "start_time": "2022-01-25T10:07:27.609Z"
   },
   {
    "duration": 272,
    "start_time": "2022-01-25T10:08:04.281Z"
   },
   {
    "duration": 5,
    "start_time": "2022-01-25T10:08:07.762Z"
   },
   {
    "duration": 32,
    "start_time": "2022-01-25T10:08:10.827Z"
   },
   {
    "duration": 60,
    "start_time": "2022-01-25T10:08:14.970Z"
   },
   {
    "duration": 9,
    "start_time": "2022-01-25T10:08:17.874Z"
   },
   {
    "duration": 30,
    "start_time": "2022-01-25T10:08:18.915Z"
   },
   {
    "duration": 840,
    "start_time": "2022-01-25T10:08:20.393Z"
   },
   {
    "duration": 85,
    "start_time": "2022-01-25T10:08:22.354Z"
   },
   {
    "duration": 10,
    "start_time": "2022-01-25T10:08:25.618Z"
   },
   {
    "duration": 3192,
    "start_time": "2022-01-25T10:08:28.625Z"
   },
   {
    "duration": 277,
    "start_time": "2022-01-25T10:08:46.187Z"
   },
   {
    "duration": 283,
    "start_time": "2022-01-25T10:09:19.995Z"
   },
   {
    "duration": 62,
    "start_time": "2022-01-25T10:09:37.002Z"
   },
   {
    "duration": 881,
    "start_time": "2022-01-25T10:09:54.827Z"
   },
   {
    "duration": 92,
    "start_time": "2022-01-25T10:10:03.627Z"
   },
   {
    "duration": 38,
    "start_time": "2022-01-25T10:10:18.971Z"
   },
   {
    "duration": 14,
    "start_time": "2022-01-25T10:10:58.747Z"
   },
   {
    "duration": 260,
    "start_time": "2022-01-25T10:11:28.555Z"
   },
   {
    "duration": 279,
    "start_time": "2022-01-25T10:11:39.948Z"
   },
   {
    "duration": 916,
    "start_time": "2022-01-25T10:11:55.204Z"
   },
   {
    "duration": 90,
    "start_time": "2022-01-25T10:11:57.076Z"
   },
   {
    "duration": 10,
    "start_time": "2022-01-25T10:12:01.958Z"
   },
   {
    "duration": 12,
    "start_time": "2022-01-25T10:12:05.453Z"
   },
   {
    "duration": 229,
    "start_time": "2022-01-25T10:12:16.742Z"
   },
   {
    "duration": 250,
    "start_time": "2022-01-25T10:12:40.101Z"
   },
   {
    "duration": 272,
    "start_time": "2022-01-25T10:12:59.037Z"
   },
   {
    "duration": 1018,
    "start_time": "2022-01-25T10:13:03.685Z"
   },
   {
    "duration": 88,
    "start_time": "2022-01-25T10:13:04.860Z"
   },
   {
    "duration": 10,
    "start_time": "2022-01-25T10:13:05.892Z"
   },
   {
    "duration": 12,
    "start_time": "2022-01-25T10:13:08.745Z"
   },
   {
    "duration": 65,
    "start_time": "2022-01-25T10:13:09.717Z"
   },
   {
    "duration": 8619,
    "start_time": "2022-01-25T10:13:31.842Z"
   },
   {
    "duration": 16,
    "start_time": "2022-01-25T10:13:42.693Z"
   },
   {
    "duration": 11,
    "start_time": "2022-01-25T10:13:49.726Z"
   },
   {
    "duration": 277,
    "start_time": "2022-01-25T10:16:56.319Z"
   },
   {
    "duration": 271,
    "start_time": "2022-01-25T10:17:20.393Z"
   },
   {
    "duration": 916,
    "start_time": "2022-01-25T10:17:26.872Z"
   },
   {
    "duration": 89,
    "start_time": "2022-01-25T10:17:29.064Z"
   },
   {
    "duration": 13,
    "start_time": "2022-01-25T10:17:30.432Z"
   },
   {
    "duration": 8595,
    "start_time": "2022-01-25T10:17:39.175Z"
   },
   {
    "duration": 16,
    "start_time": "2022-01-25T10:17:50.464Z"
   },
   {
    "duration": 16,
    "start_time": "2022-01-25T10:17:56.424Z"
   },
   {
    "duration": 17,
    "start_time": "2022-01-25T10:29:19.130Z"
   },
   {
    "duration": 226,
    "start_time": "2022-01-25T10:29:19.150Z"
   },
   {
    "duration": 3646,
    "start_time": "2022-01-25T10:29:26.656Z"
   },
   {
    "duration": 3213,
    "start_time": "2022-01-25T10:29:30.305Z"
   },
   {
    "duration": 3245,
    "start_time": "2022-01-25T10:29:38.472Z"
   },
   {
    "duration": 300,
    "start_time": "2022-01-25T10:29:41.720Z"
   },
   {
    "duration": 6,
    "start_time": "2022-01-25T10:29:42.241Z"
   },
   {
    "duration": 36,
    "start_time": "2022-01-25T10:29:42.433Z"
   },
   {
    "duration": 54,
    "start_time": "2022-01-25T10:29:42.632Z"
   },
   {
    "duration": 6,
    "start_time": "2022-01-25T10:29:42.992Z"
   },
   {
    "duration": 72,
    "start_time": "2022-01-25T10:29:43.584Z"
   },
   {
    "duration": 290,
    "start_time": "2022-01-25T10:29:43.991Z"
   },
   {
    "duration": 90,
    "start_time": "2022-01-25T10:29:44.408Z"
   },
   {
    "duration": 10,
    "start_time": "2022-01-25T10:29:44.815Z"
   },
   {
    "duration": 11,
    "start_time": "2022-01-25T10:29:46.016Z"
   },
   {
    "duration": 74,
    "start_time": "2022-01-25T10:29:47.403Z"
   },
   {
    "duration": 8296,
    "start_time": "2022-01-25T10:29:56.703Z"
   },
   {
    "duration": 16,
    "start_time": "2022-01-25T10:30:11.071Z"
   },
   {
    "duration": 18,
    "start_time": "2022-01-25T10:30:14.479Z"
   },
   {
    "duration": 16,
    "start_time": "2022-01-25T10:30:16.800Z"
   },
   {
    "duration": 1460,
    "start_time": "2022-01-25T10:30:19.304Z"
   },
   {
    "duration": 10,
    "start_time": "2022-01-25T10:30:25.504Z"
   },
   {
    "duration": 15,
    "start_time": "2022-01-25T10:32:31.722Z"
   },
   {
    "duration": 18,
    "start_time": "2022-01-25T10:32:52.242Z"
   },
   {
    "duration": 19,
    "start_time": "2022-01-25T10:33:00.811Z"
   },
   {
    "duration": 21,
    "start_time": "2022-01-25T10:33:08.195Z"
   },
   {
    "duration": 22,
    "start_time": "2022-01-25T10:35:08.844Z"
   },
   {
    "duration": 7947,
    "start_time": "2022-01-25T10:40:25.834Z"
   },
   {
    "duration": 10,
    "start_time": "2022-01-25T10:40:43.601Z"
   },
   {
    "duration": 36,
    "start_time": "2022-01-25T10:42:15.011Z"
   },
   {
    "duration": 41,
    "start_time": "2022-01-25T10:42:21.892Z"
   },
   {
    "duration": 13,
    "start_time": "2022-01-25T10:42:43.452Z"
   },
   {
    "duration": 523805,
    "start_time": "2022-01-25T10:42:50.844Z"
   },
   {
    "duration": 85,
    "start_time": "2022-01-25T10:51:34.652Z"
   },
   {
    "duration": 19,
    "start_time": "2022-01-25T10:52:17.049Z"
   },
   {
    "duration": 3730,
    "start_time": "2022-01-25T10:52:38.813Z"
   },
   {
    "duration": 4466,
    "start_time": "2022-01-25T10:52:42.547Z"
   },
   {
    "duration": 3220,
    "start_time": "2022-01-25T10:52:47.017Z"
   },
   {
    "duration": 509,
    "start_time": "2022-01-25T10:52:50.240Z"
   },
   {
    "duration": 6,
    "start_time": "2022-01-25T10:52:50.752Z"
   },
   {
    "duration": 55,
    "start_time": "2022-01-25T10:52:50.761Z"
   },
   {
    "duration": 77,
    "start_time": "2022-01-25T10:52:50.834Z"
   },
   {
    "duration": 9,
    "start_time": "2022-01-25T10:52:50.933Z"
   },
   {
    "duration": 113,
    "start_time": "2022-01-25T10:52:50.946Z"
   },
   {
    "duration": 478,
    "start_time": "2022-01-25T10:52:51.062Z"
   },
   {
    "duration": 152,
    "start_time": "2022-01-25T10:52:51.543Z"
   },
   {
    "duration": 12,
    "start_time": "2022-01-25T10:52:51.699Z"
   },
   {
    "duration": 30,
    "start_time": "2022-01-25T10:52:51.714Z"
   },
   {
    "duration": 87,
    "start_time": "2022-01-25T10:52:51.747Z"
   },
   {
    "duration": 58262,
    "start_time": "2022-01-25T10:52:51.837Z"
   },
   {
    "duration": 188,
    "start_time": "2022-01-25T10:53:50.103Z"
   },
   {
    "duration": 62,
    "start_time": "2022-01-25T10:53:50.294Z"
   },
   {
    "duration": 14144,
    "start_time": "2022-01-25T10:53:50.360Z"
   },
   {
    "duration": 31,
    "start_time": "2022-01-25T10:54:04.508Z"
   },
   {
    "duration": 24,
    "start_time": "2022-01-25T10:54:04.542Z"
   },
   {
    "duration": 13,
    "start_time": "2022-01-25T10:54:04.570Z"
   },
   {
    "duration": 1601,
    "start_time": "2022-01-25T10:54:04.586Z"
   },
   {
    "duration": 54,
    "start_time": "2022-01-25T10:54:06.193Z"
   },
   {
    "duration": 26,
    "start_time": "2022-01-25T10:54:06.251Z"
   },
   {
    "duration": 7,
    "start_time": "2022-01-25T10:54:06.280Z"
   },
   {
    "duration": 2610,
    "start_time": "2022-01-25T10:54:06.290Z"
   },
   {
    "duration": 49,
    "start_time": "2022-01-25T10:54:08.902Z"
   },
   {
    "duration": 8,
    "start_time": "2022-01-25T10:54:08.955Z"
   },
   {
    "duration": 23,
    "start_time": "2022-01-25T10:54:08.966Z"
   },
   {
    "duration": 87,
    "start_time": "2022-01-25T10:54:08.992Z"
   },
   {
    "duration": 19,
    "start_time": "2022-01-25T10:54:09.081Z"
   },
   {
    "duration": 20,
    "start_time": "2022-01-25T10:54:09.103Z"
   },
   {
    "duration": 84,
    "start_time": "2022-01-25T10:54:09.126Z"
   },
   {
    "duration": 24,
    "start_time": "2022-01-25T10:54:09.213Z"
   },
   {
    "duration": 62,
    "start_time": "2022-01-25T10:54:09.242Z"
   },
   {
    "duration": 27,
    "start_time": "2022-01-25T10:54:09.308Z"
   },
   {
    "duration": 10,
    "start_time": "2022-01-25T10:54:09.338Z"
   },
   {
    "duration": 10731,
    "start_time": "2022-01-25T10:54:09.350Z"
   },
   {
    "duration": 565,
    "start_time": "2022-01-25T10:54:20.084Z"
   },
   {
    "duration": 19,
    "start_time": "2022-01-25T10:54:20.652Z"
   },
   {
    "duration": 6,
    "start_time": "2022-01-25T10:54:20.673Z"
   },
   {
    "duration": 8159,
    "start_time": "2022-01-25T10:54:20.682Z"
   },
   {
    "duration": 1026,
    "start_time": "2022-01-25T10:54:28.845Z"
   },
   {
    "duration": 19,
    "start_time": "2022-01-25T10:54:29.875Z"
   },
   {
    "duration": 12,
    "start_time": "2022-01-25T10:54:29.897Z"
   },
   {
    "duration": 54857,
    "start_time": "2022-01-25T10:54:29.913Z"
   },
   {
    "duration": 508,
    "start_time": "2022-01-25T10:55:24.773Z"
   },
   {
    "duration": 22,
    "start_time": "2022-01-25T10:55:25.284Z"
   },
   {
    "duration": 27,
    "start_time": "2022-01-25T10:55:25.308Z"
   },
   {
    "duration": 38245,
    "start_time": "2022-01-25T10:55:25.337Z"
   },
   {
    "duration": 425,
    "start_time": "2022-01-25T10:56:03.585Z"
   },
   {
    "duration": 22,
    "start_time": "2022-01-25T10:56:04.013Z"
   },
   {
    "duration": 12,
    "start_time": "2022-01-25T10:56:04.038Z"
   },
   {
    "duration": 25613,
    "start_time": "2022-01-25T10:56:04.052Z"
   },
   {
    "duration": 420,
    "start_time": "2022-01-25T10:56:29.668Z"
   },
   {
    "duration": 22,
    "start_time": "2022-01-25T10:56:30.090Z"
   },
   {
    "duration": 7,
    "start_time": "2022-01-25T10:56:30.132Z"
   },
   {
    "duration": 307,
    "start_time": "2022-01-25T10:59:01.032Z"
   },
   {
    "duration": 440,
    "start_time": "2022-01-25T10:59:13.666Z"
   },
   {
    "duration": 9,
    "start_time": "2022-01-25T11:00:23.707Z"
   },
   {
    "duration": 172,
    "start_time": "2022-01-25T11:00:27.588Z"
   },
   {
    "duration": 3683,
    "start_time": "2022-01-25T11:02:16.738Z"
   },
   {
    "duration": 3146,
    "start_time": "2022-01-25T11:02:20.424Z"
   },
   {
    "duration": 3177,
    "start_time": "2022-01-25T11:02:23.574Z"
   },
   {
    "duration": 294,
    "start_time": "2022-01-25T11:02:26.754Z"
   },
   {
    "duration": 5,
    "start_time": "2022-01-25T11:02:27.051Z"
   },
   {
    "duration": 31,
    "start_time": "2022-01-25T11:02:27.058Z"
   },
   {
    "duration": 93,
    "start_time": "2022-01-25T11:02:27.092Z"
   },
   {
    "duration": 8,
    "start_time": "2022-01-25T11:02:27.189Z"
   },
   {
    "duration": 85,
    "start_time": "2022-01-25T11:02:27.200Z"
   },
   {
    "duration": 286,
    "start_time": "2022-01-25T11:02:27.287Z"
   },
   {
    "duration": 100,
    "start_time": "2022-01-25T11:02:27.576Z"
   },
   {
    "duration": 9,
    "start_time": "2022-01-25T11:02:27.678Z"
   },
   {
    "duration": 16,
    "start_time": "2022-01-25T11:02:27.689Z"
   },
   {
    "duration": 89,
    "start_time": "2022-01-25T11:02:27.708Z"
   },
   {
    "duration": 44142,
    "start_time": "2022-01-25T11:02:27.799Z"
   },
   {
    "duration": 136,
    "start_time": "2022-01-25T11:03:11.944Z"
   },
   {
    "duration": 62,
    "start_time": "2022-01-25T11:03:12.082Z"
   },
   {
    "duration": 7329,
    "start_time": "2022-01-25T11:03:12.146Z"
   },
   {
    "duration": 17,
    "start_time": "2022-01-25T11:03:19.477Z"
   },
   {
    "duration": 38,
    "start_time": "2022-01-25T11:03:19.496Z"
   },
   {
    "duration": 11,
    "start_time": "2022-01-25T11:03:19.536Z"
   },
   {
    "duration": 1599,
    "start_time": "2022-01-25T11:03:19.549Z"
   },
   {
    "duration": 9,
    "start_time": "2022-01-25T11:03:21.154Z"
   },
   {
    "duration": 69,
    "start_time": "2022-01-25T11:03:21.166Z"
   },
   {
    "duration": 24,
    "start_time": "2022-01-25T11:03:21.238Z"
   },
   {
    "duration": 4,
    "start_time": "2022-01-25T11:03:21.265Z"
   },
   {
    "duration": 2300,
    "start_time": "2022-01-25T11:03:21.271Z"
   },
   {
    "duration": 25,
    "start_time": "2022-01-25T11:03:23.573Z"
   },
   {
    "duration": 6,
    "start_time": "2022-01-25T11:03:23.601Z"
   },
   {
    "duration": 28,
    "start_time": "2022-01-25T11:03:23.633Z"
   },
   {
    "duration": 49,
    "start_time": "2022-01-25T11:03:23.664Z"
   },
   {
    "duration": 19,
    "start_time": "2022-01-25T11:03:23.716Z"
   },
   {
    "duration": 11,
    "start_time": "2022-01-25T11:03:23.737Z"
   },
   {
    "duration": 56,
    "start_time": "2022-01-25T11:03:23.751Z"
   },
   {
    "duration": 25,
    "start_time": "2022-01-25T11:03:23.810Z"
   },
   {
    "duration": 47,
    "start_time": "2022-01-25T11:03:23.837Z"
   },
   {
    "duration": 8,
    "start_time": "2022-01-25T11:03:23.887Z"
   },
   {
    "duration": 10,
    "start_time": "2022-01-25T11:03:23.897Z"
   },
   {
    "duration": 9803,
    "start_time": "2022-01-25T11:03:23.933Z"
   },
   {
    "duration": 513,
    "start_time": "2022-01-25T11:03:33.740Z"
   },
   {
    "duration": 19,
    "start_time": "2022-01-25T11:03:34.255Z"
   },
   {
    "duration": 5,
    "start_time": "2022-01-25T11:03:34.277Z"
   },
   {
    "duration": 6850,
    "start_time": "2022-01-25T11:03:34.285Z"
   },
   {
    "duration": 907,
    "start_time": "2022-01-25T11:03:41.142Z"
   },
   {
    "duration": 14,
    "start_time": "2022-01-25T11:03:42.053Z"
   },
   {
    "duration": 10,
    "start_time": "2022-01-25T11:03:42.070Z"
   },
   {
    "duration": 47616,
    "start_time": "2022-01-25T11:03:42.083Z"
   },
   {
    "duration": 415,
    "start_time": "2022-01-25T11:04:29.702Z"
   },
   {
    "duration": 27,
    "start_time": "2022-01-25T11:04:30.120Z"
   },
   {
    "duration": 5,
    "start_time": "2022-01-25T11:04:30.150Z"
   },
   {
    "duration": 35640,
    "start_time": "2022-01-25T11:04:30.158Z"
   },
   {
    "duration": 395,
    "start_time": "2022-01-25T11:05:05.801Z"
   },
   {
    "duration": 15,
    "start_time": "2022-01-25T11:05:06.199Z"
   },
   {
    "duration": 7,
    "start_time": "2022-01-25T11:05:06.232Z"
   },
   {
    "duration": 24129,
    "start_time": "2022-01-25T11:05:06.241Z"
   },
   {
    "duration": 409,
    "start_time": "2022-01-25T11:05:30.373Z"
   },
   {
    "duration": 19,
    "start_time": "2022-01-25T11:05:30.785Z"
   },
   {
    "duration": 27,
    "start_time": "2022-01-25T11:05:30.807Z"
   },
   {
    "duration": 3503,
    "start_time": "2022-01-25T11:06:31.985Z"
   },
   {
    "duration": 3025,
    "start_time": "2022-01-25T11:06:35.491Z"
   },
   {
    "duration": 2797,
    "start_time": "2022-01-25T11:06:38.519Z"
   },
   {
    "duration": 295,
    "start_time": "2022-01-25T11:06:41.319Z"
   },
   {
    "duration": 5,
    "start_time": "2022-01-25T11:06:41.617Z"
   },
   {
    "duration": 31,
    "start_time": "2022-01-25T11:06:41.632Z"
   },
   {
    "duration": 74,
    "start_time": "2022-01-25T11:06:41.667Z"
   },
   {
    "duration": 6,
    "start_time": "2022-01-25T11:06:41.744Z"
   },
   {
    "duration": 89,
    "start_time": "2022-01-25T11:06:41.753Z"
   },
   {
    "duration": 289,
    "start_time": "2022-01-25T11:06:41.844Z"
   },
   {
    "duration": 85,
    "start_time": "2022-01-25T11:06:42.135Z"
   },
   {
    "duration": 9,
    "start_time": "2022-01-25T11:06:42.233Z"
   },
   {
    "duration": 13,
    "start_time": "2022-01-25T11:06:42.245Z"
   },
   {
    "duration": 95,
    "start_time": "2022-01-25T11:06:42.261Z"
   },
   {
    "duration": 15,
    "start_time": "2022-01-25T11:06:47.529Z"
   },
   {
    "duration": 3075,
    "start_time": "2022-01-25T11:06:49.097Z"
   },
   {
    "duration": 151,
    "start_time": "2022-01-25T11:06:52.023Z"
   },
   {
    "duration": 2885,
    "start_time": "2022-01-25T11:07:06.305Z"
   },
   {
    "duration": 270,
    "start_time": "2022-01-25T11:07:39.641Z"
   },
   {
    "duration": 5,
    "start_time": "2022-01-25T11:07:41.497Z"
   },
   {
    "duration": 28,
    "start_time": "2022-01-25T11:07:41.890Z"
   },
   {
    "duration": 55,
    "start_time": "2022-01-25T11:07:42.098Z"
   },
   {
    "duration": 6,
    "start_time": "2022-01-25T11:07:42.481Z"
   },
   {
    "duration": 51,
    "start_time": "2022-01-25T11:07:42.665Z"
   },
   {
    "duration": 282,
    "start_time": "2022-01-25T11:07:43.072Z"
   },
   {
    "duration": 84,
    "start_time": "2022-01-25T11:07:43.473Z"
   },
   {
    "duration": 9,
    "start_time": "2022-01-25T11:07:43.954Z"
   },
   {
    "duration": 12,
    "start_time": "2022-01-25T11:07:44.905Z"
   },
   {
    "duration": 71,
    "start_time": "2022-01-25T11:07:45.201Z"
   },
   {
    "duration": 45513,
    "start_time": "2022-01-25T11:07:47.333Z"
   },
   {
    "duration": 135,
    "start_time": "2022-01-25T11:08:32.849Z"
   },
   {
    "duration": 58,
    "start_time": "2022-01-25T11:08:32.987Z"
   },
   {
    "duration": 7065,
    "start_time": "2022-01-25T11:08:33.048Z"
   },
   {
    "duration": 24,
    "start_time": "2022-01-25T11:08:40.115Z"
   },
   {
    "duration": 29,
    "start_time": "2022-01-25T11:08:40.141Z"
   },
   {
    "duration": 13,
    "start_time": "2022-01-25T11:08:40.172Z"
   },
   {
    "duration": 1544,
    "start_time": "2022-01-25T11:08:40.188Z"
   },
   {
    "duration": 8,
    "start_time": "2022-01-25T11:08:41.735Z"
   },
   {
    "duration": 42,
    "start_time": "2022-01-25T11:08:41.746Z"
   },
   {
    "duration": 52,
    "start_time": "2022-01-25T11:08:41.790Z"
   },
   {
    "duration": 17285,
    "start_time": "2022-01-25T11:09:16.314Z"
   },
   {
    "duration": 22,
    "start_time": "2022-01-25T11:10:28.732Z"
   },
   {
    "duration": 20,
    "start_time": "2022-01-25T11:10:35.068Z"
   },
   {
    "duration": 21,
    "start_time": "2022-01-25T11:10:46.460Z"
   },
   {
    "duration": 41,
    "start_time": "2022-01-25T11:10:59.332Z"
   },
   {
    "duration": 27,
    "start_time": "2022-01-25T11:12:01.938Z"
   },
   {
    "duration": 16,
    "start_time": "2022-01-25T11:44:40.242Z"
   },
   {
    "duration": 152,
    "start_time": "2022-01-25T11:52:07.397Z"
   },
   {
    "duration": 75,
    "start_time": "2022-01-25T12:01:56.476Z"
   },
   {
    "duration": 4,
    "start_time": "2022-01-25T12:06:21.255Z"
   },
   {
    "duration": 10434,
    "start_time": "2022-01-25T12:18:03.766Z"
   },
   {
    "duration": 3711,
    "start_time": "2022-01-25T12:39:37.624Z"
   },
   {
    "duration": 3129,
    "start_time": "2022-01-25T12:39:41.338Z"
   },
   {
    "duration": 3254,
    "start_time": "2022-01-25T12:39:44.470Z"
   },
   {
    "duration": 3056,
    "start_time": "2022-01-25T12:39:47.728Z"
   },
   {
    "duration": 284,
    "start_time": "2022-01-25T12:39:50.786Z"
   },
   {
    "duration": 5,
    "start_time": "2022-01-25T12:39:51.072Z"
   },
   {
    "duration": 37,
    "start_time": "2022-01-25T12:39:51.080Z"
   },
   {
    "duration": 50,
    "start_time": "2022-01-25T12:39:51.133Z"
   },
   {
    "duration": 8,
    "start_time": "2022-01-25T12:39:51.187Z"
   },
   {
    "duration": 98,
    "start_time": "2022-01-25T12:39:51.198Z"
   },
   {
    "duration": 305,
    "start_time": "2022-01-25T12:39:51.299Z"
   },
   {
    "duration": 98,
    "start_time": "2022-01-25T12:39:51.606Z"
   },
   {
    "duration": 10,
    "start_time": "2022-01-25T12:39:51.706Z"
   },
   {
    "duration": 13,
    "start_time": "2022-01-25T12:39:51.731Z"
   },
   {
    "duration": 87,
    "start_time": "2022-01-25T12:39:51.746Z"
   },
   {
    "duration": 44254,
    "start_time": "2022-01-25T12:39:51.835Z"
   },
   {
    "duration": 178,
    "start_time": "2022-01-25T12:40:36.092Z"
   },
   {
    "duration": 33,
    "start_time": "2022-01-25T12:40:36.273Z"
   },
   {
    "duration": 7252,
    "start_time": "2022-01-25T12:40:36.309Z"
   },
   {
    "duration": 16,
    "start_time": "2022-01-25T12:40:43.563Z"
   },
   {
    "duration": 24,
    "start_time": "2022-01-25T12:40:43.581Z"
   },
   {
    "duration": 29,
    "start_time": "2022-01-25T12:40:43.608Z"
   },
   {
    "duration": 17352,
    "start_time": "2022-01-25T12:40:43.641Z"
   },
   {
    "duration": 10,
    "start_time": "2022-01-25T12:41:00.995Z"
   },
   {
    "duration": 62,
    "start_time": "2022-01-25T12:41:01.008Z"
   },
   {
    "duration": 34,
    "start_time": "2022-01-25T12:41:01.073Z"
   },
   {
    "duration": 7,
    "start_time": "2022-01-25T12:41:01.134Z"
   },
   {
    "duration": 3145,
    "start_time": "2022-01-25T12:41:01.144Z"
   },
   {
    "duration": 25,
    "start_time": "2022-01-25T12:41:04.291Z"
   },
   {
    "duration": 6,
    "start_time": "2022-01-25T12:41:04.332Z"
   },
   {
    "duration": 25,
    "start_time": "2022-01-25T12:41:04.341Z"
   },
   {
    "duration": 444,
    "start_time": "2022-01-25T12:41:04.369Z"
   },
   {
    "duration": 237,
    "start_time": "2022-01-25T12:41:04.579Z"
   },
   {
    "duration": 234,
    "start_time": "2022-01-25T12:41:04.583Z"
   },
   {
    "duration": 229,
    "start_time": "2022-01-25T12:41:04.590Z"
   },
   {
    "duration": 226,
    "start_time": "2022-01-25T12:41:04.594Z"
   },
   {
    "duration": 224,
    "start_time": "2022-01-25T12:41:04.598Z"
   },
   {
    "duration": 219,
    "start_time": "2022-01-25T12:41:04.605Z"
   },
   {
    "duration": 216,
    "start_time": "2022-01-25T12:41:04.609Z"
   },
   {
    "duration": 212,
    "start_time": "2022-01-25T12:41:04.614Z"
   },
   {
    "duration": 211,
    "start_time": "2022-01-25T12:41:04.617Z"
   },
   {
    "duration": 205,
    "start_time": "2022-01-25T12:41:04.624Z"
   },
   {
    "duration": 3953,
    "start_time": "2022-01-25T12:42:48.385Z"
   },
   {
    "duration": 3193,
    "start_time": "2022-01-25T12:42:52.341Z"
   },
   {
    "duration": 3154,
    "start_time": "2022-01-25T12:42:55.537Z"
   },
   {
    "duration": 2905,
    "start_time": "2022-01-25T12:42:58.694Z"
   },
   {
    "duration": 293,
    "start_time": "2022-01-25T12:43:01.601Z"
   },
   {
    "duration": 5,
    "start_time": "2022-01-25T12:43:01.897Z"
   },
   {
    "duration": 40,
    "start_time": "2022-01-25T12:43:01.905Z"
   },
   {
    "duration": 58,
    "start_time": "2022-01-25T12:43:01.948Z"
   },
   {
    "duration": 6,
    "start_time": "2022-01-25T12:43:02.009Z"
   },
   {
    "duration": 68,
    "start_time": "2022-01-25T12:43:02.033Z"
   },
   {
    "duration": 299,
    "start_time": "2022-01-25T12:43:02.103Z"
   },
   {
    "duration": 93,
    "start_time": "2022-01-25T12:43:02.404Z"
   },
   {
    "duration": 11,
    "start_time": "2022-01-25T12:43:02.499Z"
   },
   {
    "duration": 29,
    "start_time": "2022-01-25T12:43:02.512Z"
   },
   {
    "duration": 75,
    "start_time": "2022-01-25T12:43:02.544Z"
   },
   {
    "duration": 44776,
    "start_time": "2022-01-25T12:43:02.622Z"
   },
   {
    "duration": 147,
    "start_time": "2022-01-25T12:43:47.401Z"
   },
   {
    "duration": 32,
    "start_time": "2022-01-25T12:43:47.550Z"
   },
   {
    "duration": 7123,
    "start_time": "2022-01-25T12:43:47.584Z"
   },
   {
    "duration": 23,
    "start_time": "2022-01-25T12:43:54.710Z"
   },
   {
    "duration": 24,
    "start_time": "2022-01-25T12:43:54.735Z"
   },
   {
    "duration": 12,
    "start_time": "2022-01-25T12:43:54.761Z"
   },
   {
    "duration": 17577,
    "start_time": "2022-01-25T12:43:54.778Z"
   },
   {
    "duration": 9,
    "start_time": "2022-01-25T12:44:12.358Z"
   },
   {
    "duration": 72,
    "start_time": "2022-01-25T12:44:12.370Z"
   },
   {
    "duration": 31,
    "start_time": "2022-01-25T12:44:12.445Z"
   },
   {
    "duration": 6,
    "start_time": "2022-01-25T12:44:12.478Z"
   },
   {
    "duration": 3033,
    "start_time": "2022-01-25T12:44:12.486Z"
   },
   {
    "duration": 35,
    "start_time": "2022-01-25T12:44:15.522Z"
   },
   {
    "duration": 7,
    "start_time": "2022-01-25T12:44:15.560Z"
   },
   {
    "duration": 27,
    "start_time": "2022-01-25T12:44:15.570Z"
   },
   {
    "duration": 33,
    "start_time": "2022-01-25T12:44:15.600Z"
   },
   {
    "duration": 475,
    "start_time": "2022-01-25T12:44:15.636Z"
   },
   {
    "duration": 237,
    "start_time": "2022-01-25T12:44:15.877Z"
   },
   {
    "duration": 229,
    "start_time": "2022-01-25T12:44:15.886Z"
   },
   {
    "duration": 227,
    "start_time": "2022-01-25T12:44:15.890Z"
   },
   {
    "duration": 225,
    "start_time": "2022-01-25T12:44:15.894Z"
   },
   {
    "duration": 222,
    "start_time": "2022-01-25T12:44:15.898Z"
   },
   {
    "duration": 218,
    "start_time": "2022-01-25T12:44:15.904Z"
   },
   {
    "duration": 216,
    "start_time": "2022-01-25T12:44:15.908Z"
   },
   {
    "duration": 214,
    "start_time": "2022-01-25T12:44:15.911Z"
   },
   {
    "duration": 211,
    "start_time": "2022-01-25T12:44:15.916Z"
   },
   {
    "duration": 3827,
    "start_time": "2022-01-25T12:44:52.869Z"
   },
   {
    "duration": 3416,
    "start_time": "2022-01-25T12:44:56.703Z"
   },
   {
    "duration": 3527,
    "start_time": "2022-01-25T12:45:00.122Z"
   },
   {
    "duration": 3060,
    "start_time": "2022-01-25T12:45:03.652Z"
   },
   {
    "duration": 277,
    "start_time": "2022-01-25T12:45:06.714Z"
   },
   {
    "duration": 5,
    "start_time": "2022-01-25T12:45:06.993Z"
   },
   {
    "duration": 43,
    "start_time": "2022-01-25T12:45:07.001Z"
   },
   {
    "duration": 51,
    "start_time": "2022-01-25T12:45:07.048Z"
   },
   {
    "duration": 6,
    "start_time": "2022-01-25T12:45:07.101Z"
   },
   {
    "duration": 65,
    "start_time": "2022-01-25T12:45:07.133Z"
   },
   {
    "duration": 294,
    "start_time": "2022-01-25T12:45:07.200Z"
   },
   {
    "duration": 87,
    "start_time": "2022-01-25T12:45:07.497Z"
   },
   {
    "duration": 9,
    "start_time": "2022-01-25T12:45:07.587Z"
   },
   {
    "duration": 14,
    "start_time": "2022-01-25T12:45:07.598Z"
   },
   {
    "duration": 81,
    "start_time": "2022-01-25T12:45:07.615Z"
   },
   {
    "duration": 43626,
    "start_time": "2022-01-25T12:45:07.698Z"
   },
   {
    "duration": 141,
    "start_time": "2022-01-25T12:45:51.327Z"
   },
   {
    "duration": 31,
    "start_time": "2022-01-25T12:45:51.470Z"
   },
   {
    "duration": 6986,
    "start_time": "2022-01-25T12:45:51.504Z"
   },
   {
    "duration": 16,
    "start_time": "2022-01-25T12:45:58.493Z"
   },
   {
    "duration": 34,
    "start_time": "2022-01-25T12:45:58.511Z"
   },
   {
    "duration": 12,
    "start_time": "2022-01-25T12:45:58.551Z"
   },
   {
    "duration": 17244,
    "start_time": "2022-01-25T12:45:58.566Z"
   },
   {
    "duration": 21,
    "start_time": "2022-01-25T12:46:15.813Z"
   },
   {
    "duration": 49,
    "start_time": "2022-01-25T12:46:15.836Z"
   },
   {
    "duration": 51,
    "start_time": "2022-01-25T12:46:15.887Z"
   },
   {
    "duration": 5,
    "start_time": "2022-01-25T12:46:15.941Z"
   },
   {
    "duration": 3027,
    "start_time": "2022-01-25T12:46:15.949Z"
   },
   {
    "duration": 29,
    "start_time": "2022-01-25T12:46:18.978Z"
   },
   {
    "duration": 26,
    "start_time": "2022-01-25T12:46:19.009Z"
   },
   {
    "duration": 34,
    "start_time": "2022-01-25T12:46:19.038Z"
   },
   {
    "duration": 4,
    "start_time": "2022-01-25T12:46:19.075Z"
   },
   {
    "duration": 8,
    "start_time": "2022-01-25T12:46:19.082Z"
   },
   {
    "duration": 426,
    "start_time": "2022-01-25T12:46:19.092Z"
   },
   {
    "duration": 239,
    "start_time": "2022-01-25T12:46:19.281Z"
   },
   {
    "duration": 236,
    "start_time": "2022-01-25T12:46:19.287Z"
   },
   {
    "duration": 232,
    "start_time": "2022-01-25T12:46:19.292Z"
   },
   {
    "duration": 230,
    "start_time": "2022-01-25T12:46:19.296Z"
   },
   {
    "duration": 224,
    "start_time": "2022-01-25T12:46:19.303Z"
   },
   {
    "duration": 223,
    "start_time": "2022-01-25T12:46:19.306Z"
   },
   {
    "duration": 220,
    "start_time": "2022-01-25T12:46:19.310Z"
   },
   {
    "duration": 218,
    "start_time": "2022-01-25T12:46:19.314Z"
   },
   {
    "duration": 3574,
    "start_time": "2022-01-25T12:48:15.133Z"
   },
   {
    "duration": 3197,
    "start_time": "2022-01-25T12:48:18.711Z"
   },
   {
    "duration": 3275,
    "start_time": "2022-01-25T12:48:21.912Z"
   },
   {
    "duration": 2879,
    "start_time": "2022-01-25T12:48:25.190Z"
   },
   {
    "duration": 291,
    "start_time": "2022-01-25T12:48:28.072Z"
   },
   {
    "duration": 5,
    "start_time": "2022-01-25T12:48:28.366Z"
   },
   {
    "duration": 46,
    "start_time": "2022-01-25T12:48:28.373Z"
   },
   {
    "duration": 52,
    "start_time": "2022-01-25T12:48:28.422Z"
   },
   {
    "duration": 6,
    "start_time": "2022-01-25T12:48:28.477Z"
   },
   {
    "duration": 91,
    "start_time": "2022-01-25T12:48:28.485Z"
   },
   {
    "duration": 302,
    "start_time": "2022-01-25T12:48:28.579Z"
   },
   {
    "duration": 104,
    "start_time": "2022-01-25T12:48:28.884Z"
   },
   {
    "duration": 11,
    "start_time": "2022-01-25T12:48:28.991Z"
   },
   {
    "duration": 36,
    "start_time": "2022-01-25T12:48:29.005Z"
   },
   {
    "duration": 106,
    "start_time": "2022-01-25T12:48:29.044Z"
   },
   {
    "duration": 44352,
    "start_time": "2022-01-25T12:48:29.153Z"
   },
   {
    "duration": 175,
    "start_time": "2022-01-25T12:49:13.509Z"
   },
   {
    "duration": 58,
    "start_time": "2022-01-25T12:49:13.687Z"
   },
   {
    "duration": 7220,
    "start_time": "2022-01-25T12:49:13.748Z"
   },
   {
    "duration": 15,
    "start_time": "2022-01-25T12:49:20.971Z"
   },
   {
    "duration": 30,
    "start_time": "2022-01-25T12:49:20.989Z"
   },
   {
    "duration": 12,
    "start_time": "2022-01-25T12:49:21.033Z"
   },
   {
    "duration": 17397,
    "start_time": "2022-01-25T12:49:21.050Z"
   },
   {
    "duration": 10,
    "start_time": "2022-01-25T12:49:38.450Z"
   },
   {
    "duration": 71,
    "start_time": "2022-01-25T12:49:38.462Z"
   },
   {
    "duration": 32,
    "start_time": "2022-01-25T12:49:38.535Z"
   },
   {
    "duration": 5,
    "start_time": "2022-01-25T12:49:38.570Z"
   },
   {
    "duration": 3234,
    "start_time": "2022-01-25T12:49:38.577Z"
   },
   {
    "duration": 30,
    "start_time": "2022-01-25T12:49:41.813Z"
   },
   {
    "duration": 6,
    "start_time": "2022-01-25T12:49:41.846Z"
   },
   {
    "duration": 25,
    "start_time": "2022-01-25T12:49:41.854Z"
   },
   {
    "duration": 4,
    "start_time": "2022-01-25T12:49:41.882Z"
   },
   {
    "duration": 44,
    "start_time": "2022-01-25T12:49:41.890Z"
   },
   {
    "duration": 650,
    "start_time": "2022-01-25T12:49:41.938Z"
   },
   {
    "duration": 238,
    "start_time": "2022-01-25T12:49:42.354Z"
   },
   {
    "duration": 235,
    "start_time": "2022-01-25T12:49:42.359Z"
   },
   {
    "duration": 230,
    "start_time": "2022-01-25T12:49:42.366Z"
   },
   {
    "duration": 229,
    "start_time": "2022-01-25T12:49:42.369Z"
   },
   {
    "duration": 228,
    "start_time": "2022-01-25T12:49:42.373Z"
   },
   {
    "duration": 226,
    "start_time": "2022-01-25T12:49:42.377Z"
   },
   {
    "duration": 222,
    "start_time": "2022-01-25T12:49:42.383Z"
   },
   {
    "duration": 39,
    "start_time": "2022-01-25T12:51:07.223Z"
   },
   {
    "duration": 11,
    "start_time": "2022-01-25T12:52:33.277Z"
   },
   {
    "duration": 34,
    "start_time": "2022-01-25T12:52:36.893Z"
   },
   {
    "duration": 11,
    "start_time": "2022-01-25T12:52:41.522Z"
   },
   {
    "duration": 180,
    "start_time": "2022-01-25T12:52:50.830Z"
   },
   {
    "duration": 26804,
    "start_time": "2022-01-25T13:04:38.732Z"
   },
   {
    "duration": 3812,
    "start_time": "2022-01-25T13:07:45.655Z"
   },
   {
    "duration": 3150,
    "start_time": "2022-01-25T13:07:49.470Z"
   },
   {
    "duration": 3149,
    "start_time": "2022-01-25T13:07:52.624Z"
   },
   {
    "duration": 2897,
    "start_time": "2022-01-25T13:07:55.777Z"
   },
   {
    "duration": 284,
    "start_time": "2022-01-25T13:07:58.677Z"
   },
   {
    "duration": 5,
    "start_time": "2022-01-25T13:07:58.963Z"
   },
   {
    "duration": 40,
    "start_time": "2022-01-25T13:07:58.970Z"
   },
   {
    "duration": 51,
    "start_time": "2022-01-25T13:07:59.031Z"
   },
   {
    "duration": 6,
    "start_time": "2022-01-25T13:07:59.085Z"
   },
   {
    "duration": 95,
    "start_time": "2022-01-25T13:07:59.094Z"
   },
   {
    "duration": 303,
    "start_time": "2022-01-25T13:07:59.191Z"
   },
   {
    "duration": 93,
    "start_time": "2022-01-25T13:07:59.496Z"
   },
   {
    "duration": 9,
    "start_time": "2022-01-25T13:07:59.591Z"
   },
   {
    "duration": 31,
    "start_time": "2022-01-25T13:07:59.602Z"
   },
   {
    "duration": 71,
    "start_time": "2022-01-25T13:07:59.636Z"
   },
   {
    "duration": 46607,
    "start_time": "2022-01-25T13:07:59.709Z"
   },
   {
    "duration": 139,
    "start_time": "2022-01-25T13:08:46.319Z"
   },
   {
    "duration": 34,
    "start_time": "2022-01-25T13:08:46.461Z"
   },
   {
    "duration": 7618,
    "start_time": "2022-01-25T13:08:46.498Z"
   },
   {
    "duration": 20,
    "start_time": "2022-01-25T13:08:54.118Z"
   },
   {
    "duration": 22,
    "start_time": "2022-01-25T13:08:54.140Z"
   },
   {
    "duration": 13,
    "start_time": "2022-01-25T13:08:54.165Z"
   },
   {
    "duration": 17096,
    "start_time": "2022-01-25T13:08:54.183Z"
   },
   {
    "duration": 9,
    "start_time": "2022-01-25T13:09:11.282Z"
   },
   {
    "duration": 63,
    "start_time": "2022-01-25T13:09:11.293Z"
   },
   {
    "duration": 30,
    "start_time": "2022-01-25T13:09:11.359Z"
   },
   {
    "duration": 5,
    "start_time": "2022-01-25T13:09:11.391Z"
   },
   {
    "duration": 3037,
    "start_time": "2022-01-25T13:09:11.431Z"
   },
   {
    "duration": 25,
    "start_time": "2022-01-25T13:09:14.471Z"
   },
   {
    "duration": 7,
    "start_time": "2022-01-25T13:09:14.498Z"
   },
   {
    "duration": 24,
    "start_time": "2022-01-25T13:09:14.533Z"
   },
   {
    "duration": 4,
    "start_time": "2022-01-25T13:09:14.560Z"
   },
   {
    "duration": 9,
    "start_time": "2022-01-25T13:09:14.567Z"
   },
   {
    "duration": 93,
    "start_time": "2022-01-25T13:09:14.578Z"
   },
   {
    "duration": 12,
    "start_time": "2022-01-25T13:09:14.673Z"
   },
   {
    "duration": 28348,
    "start_time": "2022-01-25T13:09:14.688Z"
   },
   {
    "duration": 751,
    "start_time": "2022-01-25T13:09:43.040Z"
   },
   {
    "duration": 13,
    "start_time": "2022-01-25T13:09:43.795Z"
   },
   {
    "duration": 502,
    "start_time": "2022-01-25T13:09:43.810Z"
   },
   {
    "duration": 284,
    "start_time": "2022-01-25T13:09:44.315Z"
   },
   {
    "duration": 253,
    "start_time": "2022-01-25T13:09:44.348Z"
   },
   {
    "duration": 3833,
    "start_time": "2022-01-25T13:11:18.935Z"
   },
   {
    "duration": 3304,
    "start_time": "2022-01-25T13:11:22.771Z"
   },
   {
    "duration": 3364,
    "start_time": "2022-01-25T13:11:26.078Z"
   },
   {
    "duration": 2926,
    "start_time": "2022-01-25T13:11:29.445Z"
   },
   {
    "duration": 296,
    "start_time": "2022-01-25T13:11:32.374Z"
   },
   {
    "duration": 6,
    "start_time": "2022-01-25T13:11:32.672Z"
   },
   {
    "duration": 57,
    "start_time": "2022-01-25T13:11:32.681Z"
   },
   {
    "duration": 50,
    "start_time": "2022-01-25T13:11:32.741Z"
   },
   {
    "duration": 7,
    "start_time": "2022-01-25T13:11:32.797Z"
   },
   {
    "duration": 67,
    "start_time": "2022-01-25T13:11:32.834Z"
   },
   {
    "duration": 338,
    "start_time": "2022-01-25T13:11:32.904Z"
   },
   {
    "duration": 97,
    "start_time": "2022-01-25T13:11:33.244Z"
   },
   {
    "duration": 8,
    "start_time": "2022-01-25T13:11:33.343Z"
   },
   {
    "duration": 13,
    "start_time": "2022-01-25T13:11:33.354Z"
   },
   {
    "duration": 94,
    "start_time": "2022-01-25T13:11:33.370Z"
   },
   {
    "duration": 46561,
    "start_time": "2022-01-25T13:11:33.466Z"
   },
   {
    "duration": 148,
    "start_time": "2022-01-25T13:12:20.033Z"
   },
   {
    "duration": 49,
    "start_time": "2022-01-25T13:12:20.183Z"
   },
   {
    "duration": 7330,
    "start_time": "2022-01-25T13:12:20.234Z"
   },
   {
    "duration": 18,
    "start_time": "2022-01-25T13:12:27.567Z"
   },
   {
    "duration": 24,
    "start_time": "2022-01-25T13:12:27.587Z"
   },
   {
    "duration": 30,
    "start_time": "2022-01-25T13:12:27.614Z"
   },
   {
    "duration": 18471,
    "start_time": "2022-01-25T13:12:27.646Z"
   },
   {
    "duration": 25,
    "start_time": "2022-01-25T13:12:46.120Z"
   },
   {
    "duration": 57,
    "start_time": "2022-01-25T13:12:46.149Z"
   },
   {
    "duration": 65,
    "start_time": "2022-01-25T13:12:46.209Z"
   },
   {
    "duration": 6,
    "start_time": "2022-01-25T13:12:46.280Z"
   },
   {
    "duration": 3681,
    "start_time": "2022-01-25T13:12:46.289Z"
   },
   {
    "duration": 30,
    "start_time": "2022-01-25T13:12:49.974Z"
   },
   {
    "duration": 29,
    "start_time": "2022-01-25T13:12:50.007Z"
   },
   {
    "duration": 37,
    "start_time": "2022-01-25T13:12:50.039Z"
   },
   {
    "duration": 6,
    "start_time": "2022-01-25T13:12:50.079Z"
   },
   {
    "duration": 9,
    "start_time": "2022-01-25T13:12:50.088Z"
   },
   {
    "duration": 92,
    "start_time": "2022-01-25T13:12:50.100Z"
   },
   {
    "duration": 11,
    "start_time": "2022-01-25T13:12:50.195Z"
   },
   {
    "duration": 27625,
    "start_time": "2022-01-25T13:12:50.209Z"
   },
   {
    "duration": 737,
    "start_time": "2022-01-25T13:13:17.845Z"
   },
   {
    "duration": 12,
    "start_time": "2022-01-25T13:13:18.584Z"
   },
   {
    "duration": 409,
    "start_time": "2022-01-25T13:13:18.598Z"
   },
   {
    "duration": 348,
    "start_time": "2022-01-25T13:13:19.009Z"
   },
   {
    "duration": 7,
    "start_time": "2022-01-25T13:13:19.360Z"
   },
   {
    "duration": 41292,
    "start_time": "2022-01-25T13:15:33.544Z"
   },
   {
    "duration": 239,
    "start_time": "2022-01-25T13:16:55.427Z"
   },
   {
    "duration": 3789,
    "start_time": "2022-01-25T13:26:19.334Z"
   },
   {
    "duration": 3288,
    "start_time": "2022-01-25T13:26:23.126Z"
   },
   {
    "duration": 3236,
    "start_time": "2022-01-25T13:26:26.418Z"
   },
   {
    "duration": 2927,
    "start_time": "2022-01-25T13:26:29.658Z"
   },
   {
    "duration": 309,
    "start_time": "2022-01-25T13:26:32.588Z"
   },
   {
    "duration": 4,
    "start_time": "2022-01-25T13:26:32.899Z"
   },
   {
    "duration": 41,
    "start_time": "2022-01-25T13:26:32.905Z"
   },
   {
    "duration": 48,
    "start_time": "2022-01-25T13:26:32.951Z"
   },
   {
    "duration": 30,
    "start_time": "2022-01-25T13:26:33.002Z"
   },
   {
    "duration": 71,
    "start_time": "2022-01-25T13:26:33.034Z"
   },
   {
    "duration": 303,
    "start_time": "2022-01-25T13:26:33.107Z"
   },
   {
    "duration": 93,
    "start_time": "2022-01-25T13:26:33.413Z"
   },
   {
    "duration": 9,
    "start_time": "2022-01-25T13:26:33.508Z"
   },
   {
    "duration": 23,
    "start_time": "2022-01-25T13:26:33.520Z"
   },
   {
    "duration": 86,
    "start_time": "2022-01-25T13:26:33.546Z"
   },
   {
    "duration": 45403,
    "start_time": "2022-01-25T13:26:33.634Z"
   },
   {
    "duration": 148,
    "start_time": "2022-01-25T13:27:19.040Z"
   },
   {
    "duration": 70,
    "start_time": "2022-01-25T13:27:19.191Z"
   },
   {
    "duration": 8642,
    "start_time": "2022-01-25T13:27:19.264Z"
   },
   {
    "duration": 23,
    "start_time": "2022-01-25T13:27:27.909Z"
   },
   {
    "duration": 20,
    "start_time": "2022-01-25T13:27:27.935Z"
   },
   {
    "duration": 14,
    "start_time": "2022-01-25T13:27:27.958Z"
   },
   {
    "duration": 18417,
    "start_time": "2022-01-25T13:27:27.979Z"
   },
   {
    "duration": 9,
    "start_time": "2022-01-25T13:27:46.399Z"
   },
   {
    "duration": 59,
    "start_time": "2022-01-25T13:27:46.410Z"
   },
   {
    "duration": 61,
    "start_time": "2022-01-25T13:27:46.472Z"
   },
   {
    "duration": 7,
    "start_time": "2022-01-25T13:27:46.536Z"
   },
   {
    "duration": 4029,
    "start_time": "2022-01-25T13:27:46.546Z"
   },
   {
    "duration": 32,
    "start_time": "2022-01-25T13:27:50.579Z"
   },
   {
    "duration": 8,
    "start_time": "2022-01-25T13:27:50.634Z"
   },
   {
    "duration": 31,
    "start_time": "2022-01-25T13:27:50.645Z"
   },
   {
    "duration": 4,
    "start_time": "2022-01-25T13:27:50.679Z"
   },
   {
    "duration": 22,
    "start_time": "2022-01-25T13:27:50.686Z"
   },
   {
    "duration": 83,
    "start_time": "2022-01-25T13:27:50.734Z"
   },
   {
    "duration": 21,
    "start_time": "2022-01-25T13:27:50.820Z"
   },
   {
    "duration": 41696,
    "start_time": "2022-01-25T13:27:50.844Z"
   },
   {
    "duration": 521,
    "start_time": "2022-01-25T13:28:32.543Z"
   },
   {
    "duration": 251,
    "start_time": "2022-01-25T13:28:32.816Z"
   },
   {
    "duration": 249,
    "start_time": "2022-01-25T13:28:32.820Z"
   },
   {
    "duration": 247,
    "start_time": "2022-01-25T13:28:32.823Z"
   },
   {
    "duration": 244,
    "start_time": "2022-01-25T13:28:32.828Z"
   },
   {
    "duration": 39738,
    "start_time": "2022-01-25T13:31:35.099Z"
   },
   {
    "duration": 40228,
    "start_time": "2022-01-25T13:36:05.410Z"
   },
   {
    "duration": 342,
    "start_time": "2022-01-25T13:37:00.625Z"
   },
   {
    "duration": 7,
    "start_time": "2022-01-25T13:37:42.462Z"
   },
   {
    "duration": 9,
    "start_time": "2022-01-25T13:38:26.000Z"
   },
   {
    "duration": 222,
    "start_time": "2022-01-25T13:38:36.030Z"
   },
   {
    "duration": 205,
    "start_time": "2022-01-25T13:38:42.601Z"
   },
   {
    "duration": 195,
    "start_time": "2022-01-25T13:39:45.953Z"
   },
   {
    "duration": 18210,
    "start_time": "2022-01-25T13:41:16.267Z"
   },
   {
    "duration": 15,
    "start_time": "2022-01-25T13:45:02.981Z"
   },
   {
    "duration": 46760,
    "start_time": "2022-01-25T13:46:35.438Z"
   },
   {
    "duration": 46727,
    "start_time": "2022-01-25T13:47:39.791Z"
   },
   {
    "duration": 77,
    "start_time": "2022-01-25T13:48:48.327Z"
   },
   {
    "duration": 81414,
    "start_time": "2022-01-25T13:48:58.320Z"
   },
   {
    "duration": 3593,
    "start_time": "2022-01-25T13:53:48.659Z"
   },
   {
    "duration": 4653,
    "start_time": "2022-01-25T13:53:52.255Z"
   },
   {
    "duration": 4451,
    "start_time": "2022-01-25T13:53:56.912Z"
   },
   {
    "duration": 3582,
    "start_time": "2022-01-25T13:54:01.366Z"
   },
   {
    "duration": 334,
    "start_time": "2022-01-25T13:54:04.950Z"
   },
   {
    "duration": 4,
    "start_time": "2022-01-25T13:54:05.287Z"
   },
   {
    "duration": 45,
    "start_time": "2022-01-25T13:54:05.294Z"
   },
   {
    "duration": 51,
    "start_time": "2022-01-25T13:54:05.343Z"
   },
   {
    "duration": 5,
    "start_time": "2022-01-25T13:54:05.397Z"
   },
   {
    "duration": 98,
    "start_time": "2022-01-25T13:54:05.405Z"
   },
   {
    "duration": 317,
    "start_time": "2022-01-25T13:54:05.506Z"
   },
   {
    "duration": 93,
    "start_time": "2022-01-25T13:54:05.825Z"
   },
   {
    "duration": 11,
    "start_time": "2022-01-25T13:54:05.932Z"
   },
   {
    "duration": 19,
    "start_time": "2022-01-25T13:54:05.946Z"
   },
   {
    "duration": 99,
    "start_time": "2022-01-25T13:54:05.968Z"
   },
   {
    "duration": 44528,
    "start_time": "2022-01-25T13:54:06.070Z"
   },
   {
    "duration": 148,
    "start_time": "2022-01-25T13:54:50.600Z"
   },
   {
    "duration": 30,
    "start_time": "2022-01-25T13:54:50.751Z"
   },
   {
    "duration": 7152,
    "start_time": "2022-01-25T13:54:50.784Z"
   },
   {
    "duration": 19,
    "start_time": "2022-01-25T13:54:57.939Z"
   },
   {
    "duration": 21,
    "start_time": "2022-01-25T13:54:57.961Z"
   },
   {
    "duration": 12,
    "start_time": "2022-01-25T13:54:57.985Z"
   },
   {
    "duration": 17710,
    "start_time": "2022-01-25T13:54:58.035Z"
   },
   {
    "duration": 9,
    "start_time": "2022-01-25T13:55:15.748Z"
   },
   {
    "duration": 44,
    "start_time": "2022-01-25T13:55:15.759Z"
   },
   {
    "duration": 31,
    "start_time": "2022-01-25T13:55:15.832Z"
   },
   {
    "duration": 6,
    "start_time": "2022-01-25T13:55:15.865Z"
   },
   {
    "duration": 3689,
    "start_time": "2022-01-25T13:55:15.874Z"
   },
   {
    "duration": 27,
    "start_time": "2022-01-25T13:55:19.567Z"
   },
   {
    "duration": 6,
    "start_time": "2022-01-25T13:55:19.596Z"
   },
   {
    "duration": 52,
    "start_time": "2022-01-25T13:55:19.605Z"
   },
   {
    "duration": 5,
    "start_time": "2022-01-25T13:55:19.660Z"
   },
   {
    "duration": 8,
    "start_time": "2022-01-25T13:55:19.667Z"
   },
   {
    "duration": 100,
    "start_time": "2022-01-25T13:55:19.678Z"
   },
   {
    "duration": 11,
    "start_time": "2022-01-25T13:55:19.780Z"
   },
   {
    "duration": 49145,
    "start_time": "2022-01-25T13:55:19.794Z"
   },
   {
    "duration": 835,
    "start_time": "2022-01-25T13:56:08.942Z"
   },
   {
    "duration": 12,
    "start_time": "2022-01-25T13:56:09.779Z"
   },
   {
    "duration": 48534,
    "start_time": "2022-01-25T13:56:09.794Z"
   },
   {
    "duration": 84001,
    "start_time": "2022-01-25T13:56:58.333Z"
   },
   {
    "duration": 460,
    "start_time": "2022-01-25T13:58:22.336Z"
   },
   {
    "duration": 370,
    "start_time": "2022-01-25T13:58:22.798Z"
   },
   {
    "duration": 7,
    "start_time": "2022-01-25T13:58:23.170Z"
   },
   {
    "duration": 192115,
    "start_time": "2022-01-25T14:04:22.326Z"
   },
   {
    "duration": 362,
    "start_time": "2022-01-25T14:07:57.421Z"
   },
   {
    "duration": 266,
    "start_time": "2022-01-25T14:08:07.198Z"
   },
   {
    "duration": 3648,
    "start_time": "2022-01-25T14:13:17.081Z"
   },
   {
    "duration": 3201,
    "start_time": "2022-01-25T14:13:20.732Z"
   },
   {
    "duration": 3220,
    "start_time": "2022-01-25T14:13:23.936Z"
   },
   {
    "duration": 2800,
    "start_time": "2022-01-25T14:13:27.160Z"
   },
   {
    "duration": 317,
    "start_time": "2022-01-25T14:13:29.963Z"
   },
   {
    "duration": 6,
    "start_time": "2022-01-25T14:13:30.282Z"
   },
   {
    "duration": 45,
    "start_time": "2022-01-25T14:13:30.291Z"
   },
   {
    "duration": 53,
    "start_time": "2022-01-25T14:13:30.342Z"
   },
   {
    "duration": 34,
    "start_time": "2022-01-25T14:13:30.399Z"
   },
   {
    "duration": 73,
    "start_time": "2022-01-25T14:13:30.436Z"
   },
   {
    "duration": 310,
    "start_time": "2022-01-25T14:13:30.511Z"
   },
   {
    "duration": 91,
    "start_time": "2022-01-25T14:13:30.823Z"
   },
   {
    "duration": 22,
    "start_time": "2022-01-25T14:13:30.916Z"
   },
   {
    "duration": 24,
    "start_time": "2022-01-25T14:13:30.941Z"
   },
   {
    "duration": 87,
    "start_time": "2022-01-25T14:13:30.968Z"
   },
   {
    "duration": 45946,
    "start_time": "2022-01-25T14:13:31.057Z"
   },
   {
    "duration": 147,
    "start_time": "2022-01-25T14:14:17.006Z"
   },
   {
    "duration": 31,
    "start_time": "2022-01-25T14:14:17.156Z"
   },
   {
    "duration": 7275,
    "start_time": "2022-01-25T14:14:17.190Z"
   },
   {
    "duration": 15,
    "start_time": "2022-01-25T14:14:24.468Z"
   },
   {
    "duration": 22,
    "start_time": "2022-01-25T14:14:24.486Z"
   },
   {
    "duration": 28,
    "start_time": "2022-01-25T14:14:24.510Z"
   },
   {
    "duration": 17319,
    "start_time": "2022-01-25T14:14:24.544Z"
   },
   {
    "duration": 9,
    "start_time": "2022-01-25T14:14:41.866Z"
   },
   {
    "duration": 67,
    "start_time": "2022-01-25T14:14:41.878Z"
   },
   {
    "duration": 31,
    "start_time": "2022-01-25T14:14:41.947Z"
   },
   {
    "duration": 5,
    "start_time": "2022-01-25T14:14:41.980Z"
   },
   {
    "duration": 3020,
    "start_time": "2022-01-25T14:14:41.987Z"
   },
   {
    "duration": 37,
    "start_time": "2022-01-25T14:14:45.010Z"
   },
   {
    "duration": 7,
    "start_time": "2022-01-25T14:14:45.050Z"
   },
   {
    "duration": 27,
    "start_time": "2022-01-25T14:14:45.059Z"
   },
   {
    "duration": 4,
    "start_time": "2022-01-25T14:14:45.088Z"
   },
   {
    "duration": 38,
    "start_time": "2022-01-25T14:14:45.094Z"
   },
   {
    "duration": 69,
    "start_time": "2022-01-25T14:14:45.135Z"
   },
   {
    "duration": 26,
    "start_time": "2022-01-25T14:14:45.207Z"
   },
   {
    "duration": 39502,
    "start_time": "2022-01-25T14:14:45.235Z"
   },
   {
    "duration": 340,
    "start_time": "2022-01-25T14:15:24.832Z"
   },
   {
    "duration": 13,
    "start_time": "2022-01-25T14:15:25.175Z"
   },
   {
    "duration": 185143,
    "start_time": "2022-01-25T14:15:25.191Z"
   },
   {
    "duration": 428,
    "start_time": "2022-01-25T14:18:30.338Z"
   },
   {
    "duration": 7,
    "start_time": "2022-01-25T14:18:30.768Z"
   },
   {
    "duration": 49390,
    "start_time": "2022-01-25T14:18:30.777Z"
   },
   {
    "duration": 419,
    "start_time": "2022-01-25T14:19:20.169Z"
   },
   {
    "duration": 14,
    "start_time": "2022-01-25T14:19:20.591Z"
   },
   {
    "duration": 102,
    "start_time": "2022-01-25T14:19:20.608Z"
   },
   {
    "duration": 261,
    "start_time": "2022-01-25T14:19:20.451Z"
   },
   {
    "duration": 256,
    "start_time": "2022-01-25T14:19:20.458Z"
   },
   {
    "duration": 254,
    "start_time": "2022-01-25T14:19:20.462Z"
   },
   {
    "duration": 250,
    "start_time": "2022-01-25T14:19:20.467Z"
   },
   {
    "duration": 244,
    "start_time": "2022-01-25T14:19:20.474Z"
   },
   {
    "duration": 242,
    "start_time": "2022-01-25T14:19:20.478Z"
   },
   {
    "duration": 240,
    "start_time": "2022-01-25T14:19:20.482Z"
   },
   {
    "duration": 231,
    "start_time": "2022-01-25T14:19:20.492Z"
   },
   {
    "duration": 229,
    "start_time": "2022-01-25T14:19:20.496Z"
   },
   {
    "duration": 3218543,
    "start_time": "2022-01-25T14:35:49.183Z"
   },
   {
    "duration": 464,
    "start_time": "2022-01-25T15:29:27.733Z"
   },
   {
    "duration": 319,
    "start_time": "2022-01-25T15:29:27.883Z"
   },
   {
    "duration": 314,
    "start_time": "2022-01-25T15:29:27.889Z"
   },
   {
    "duration": 310,
    "start_time": "2022-01-25T15:29:27.896Z"
   },
   {
    "duration": 308,
    "start_time": "2022-01-25T15:29:27.900Z"
   },
   {
    "duration": 305,
    "start_time": "2022-01-25T15:29:27.905Z"
   },
   {
    "duration": 301,
    "start_time": "2022-01-25T15:29:27.912Z"
   },
   {
    "duration": 300,
    "start_time": "2022-01-25T15:29:27.917Z"
   },
   {
    "duration": 298,
    "start_time": "2022-01-25T15:29:27.921Z"
   },
   {
    "duration": 296,
    "start_time": "2022-01-25T15:29:27.926Z"
   },
   {
    "duration": 421,
    "start_time": "2022-01-25T15:30:01.215Z"
   },
   {
    "duration": 7,
    "start_time": "2022-01-25T15:30:05.422Z"
   },
   {
    "duration": 28269,
    "start_time": "2022-01-25T15:30:07.415Z"
   },
   {
    "duration": 397,
    "start_time": "2022-01-25T15:30:35.689Z"
   },
   {
    "duration": 19,
    "start_time": "2022-01-25T15:30:36.089Z"
   },
   {
    "duration": 102,
    "start_time": "2022-01-25T15:30:36.112Z"
   },
   {
    "duration": 317,
    "start_time": "2022-01-25T15:30:35.901Z"
   },
   {
    "duration": 313,
    "start_time": "2022-01-25T15:30:35.907Z"
   },
   {
    "duration": 309,
    "start_time": "2022-01-25T15:30:35.914Z"
   },
   {
    "duration": 306,
    "start_time": "2022-01-25T15:30:35.919Z"
   },
   {
    "duration": 305,
    "start_time": "2022-01-25T15:30:35.923Z"
   },
   {
    "duration": 299,
    "start_time": "2022-01-25T15:30:35.930Z"
   },
   {
    "duration": 4592,
    "start_time": "2022-01-25T16:17:32.702Z"
   },
   {
    "duration": 3112,
    "start_time": "2022-01-25T16:17:37.298Z"
   },
   {
    "duration": 3372,
    "start_time": "2022-01-25T16:17:40.414Z"
   },
   {
    "duration": 4265,
    "start_time": "2022-01-25T16:17:43.789Z"
   },
   {
    "duration": 899,
    "start_time": "2022-01-25T16:17:48.056Z"
   },
   {
    "duration": 6,
    "start_time": "2022-01-25T16:17:48.958Z"
   },
   {
    "duration": 41,
    "start_time": "2022-01-25T16:17:48.967Z"
   },
   {
    "duration": 71,
    "start_time": "2022-01-25T16:17:49.012Z"
   },
   {
    "duration": 7,
    "start_time": "2022-01-25T16:17:49.086Z"
   },
   {
    "duration": 101,
    "start_time": "2022-01-25T16:17:49.095Z"
   },
   {
    "duration": 307,
    "start_time": "2022-01-25T16:17:49.199Z"
   },
   {
    "duration": 90,
    "start_time": "2022-01-25T16:17:49.509Z"
   },
   {
    "duration": 10,
    "start_time": "2022-01-25T16:17:49.602Z"
   },
   {
    "duration": 13,
    "start_time": "2022-01-25T16:17:49.633Z"
   },
   {
    "duration": 92,
    "start_time": "2022-01-25T16:17:49.648Z"
   },
   {
    "duration": 47682,
    "start_time": "2022-01-25T16:17:49.743Z"
   },
   {
    "duration": 138,
    "start_time": "2022-01-25T16:18:37.433Z"
   },
   {
    "duration": 32,
    "start_time": "2022-01-25T16:18:37.574Z"
   },
   {
    "duration": 7205,
    "start_time": "2022-01-25T16:18:37.609Z"
   },
   {
    "duration": 23,
    "start_time": "2022-01-25T16:18:44.816Z"
   },
   {
    "duration": 23,
    "start_time": "2022-01-25T16:18:44.841Z"
   },
   {
    "duration": 12,
    "start_time": "2022-01-25T16:18:44.866Z"
   },
   {
    "duration": 17395,
    "start_time": "2022-01-25T16:18:44.883Z"
   },
   {
    "duration": 9,
    "start_time": "2022-01-25T16:19:02.281Z"
   },
   {
    "duration": 65,
    "start_time": "2022-01-25T16:19:02.292Z"
   },
   {
    "duration": 31,
    "start_time": "2022-01-25T16:19:02.359Z"
   },
   {
    "duration": 5,
    "start_time": "2022-01-25T16:19:02.393Z"
   },
   {
    "duration": 3048,
    "start_time": "2022-01-25T16:19:02.400Z"
   },
   {
    "duration": 26,
    "start_time": "2022-01-25T16:19:05.450Z"
   },
   {
    "duration": 7,
    "start_time": "2022-01-25T16:19:05.479Z"
   },
   {
    "duration": 56,
    "start_time": "2022-01-25T16:19:05.488Z"
   },
   {
    "duration": 5,
    "start_time": "2022-01-25T16:19:05.546Z"
   },
   {
    "duration": 11,
    "start_time": "2022-01-25T16:19:05.553Z"
   },
   {
    "duration": 86,
    "start_time": "2022-01-25T16:19:05.567Z"
   },
   {
    "duration": 12,
    "start_time": "2022-01-25T16:19:05.656Z"
   },
   {
    "duration": 43470,
    "start_time": "2022-01-25T16:19:05.672Z"
   },
   {
    "duration": 448,
    "start_time": "2022-01-25T16:19:49.235Z"
   },
   {
    "duration": 12,
    "start_time": "2022-01-25T16:19:49.685Z"
   },
   {
    "duration": 308234,
    "start_time": "2022-01-25T16:19:49.700Z"
   },
   {
    "duration": 453,
    "start_time": "2022-01-25T16:24:57.942Z"
   },
   {
    "duration": 7,
    "start_time": "2022-01-25T16:24:58.397Z"
   },
   {
    "duration": 37154,
    "start_time": "2022-01-25T16:24:58.406Z"
   },
   {
    "duration": 391,
    "start_time": "2022-01-25T16:25:35.562Z"
   },
   {
    "duration": 14,
    "start_time": "2022-01-25T16:25:35.955Z"
   },
   {
    "duration": 3465,
    "start_time": "2022-01-25T16:48:46.600Z"
   },
   {
    "duration": 3099,
    "start_time": "2022-01-25T16:48:50.068Z"
   },
   {
    "duration": 3883,
    "start_time": "2022-01-25T16:48:53.174Z"
   },
   {
    "duration": 2853,
    "start_time": "2022-01-25T16:48:57.060Z"
   },
   {
    "duration": 940,
    "start_time": "2022-01-25T16:48:59.916Z"
   },
   {
    "duration": 5,
    "start_time": "2022-01-25T16:49:00.859Z"
   },
   {
    "duration": 40,
    "start_time": "2022-01-25T16:49:00.868Z"
   },
   {
    "duration": 66,
    "start_time": "2022-01-25T16:49:00.911Z"
   },
   {
    "duration": 5,
    "start_time": "2022-01-25T16:49:00.979Z"
   },
   {
    "duration": 94,
    "start_time": "2022-01-25T16:49:00.986Z"
   },
   {
    "duration": 294,
    "start_time": "2022-01-25T16:49:01.083Z"
   },
   {
    "duration": 92,
    "start_time": "2022-01-25T16:49:01.380Z"
   },
   {
    "duration": 9,
    "start_time": "2022-01-25T16:49:01.475Z"
   },
   {
    "duration": 19,
    "start_time": "2022-01-25T16:49:01.486Z"
   },
   {
    "duration": 91,
    "start_time": "2022-01-25T16:49:01.507Z"
   },
   {
    "duration": 46623,
    "start_time": "2022-01-25T16:49:01.600Z"
   },
   {
    "duration": 137,
    "start_time": "2022-01-25T16:49:48.233Z"
   },
   {
    "duration": 33,
    "start_time": "2022-01-25T16:49:48.373Z"
   },
   {
    "duration": 7407,
    "start_time": "2022-01-25T16:49:48.408Z"
   },
   {
    "duration": 20,
    "start_time": "2022-01-25T16:49:55.818Z"
   },
   {
    "duration": 24,
    "start_time": "2022-01-25T16:49:55.840Z"
   },
   {
    "duration": 10,
    "start_time": "2022-01-25T16:49:55.872Z"
   },
   {
    "duration": 17041,
    "start_time": "2022-01-25T16:49:55.885Z"
   },
   {
    "duration": 8,
    "start_time": "2022-01-25T16:50:12.932Z"
   },
   {
    "duration": 43,
    "start_time": "2022-01-25T16:50:12.943Z"
   },
   {
    "duration": 63,
    "start_time": "2022-01-25T16:50:12.990Z"
   },
   {
    "duration": 5,
    "start_time": "2022-01-25T16:50:13.056Z"
   },
   {
    "duration": 3013,
    "start_time": "2022-01-25T16:50:13.063Z"
   },
   {
    "duration": 27,
    "start_time": "2022-01-25T16:50:16.078Z"
   },
   {
    "duration": 29,
    "start_time": "2022-01-25T16:50:16.108Z"
   },
   {
    "duration": 31,
    "start_time": "2022-01-25T16:50:16.140Z"
   },
   {
    "duration": 6,
    "start_time": "2022-01-25T16:50:16.174Z"
   },
   {
    "duration": 16,
    "start_time": "2022-01-25T16:50:16.183Z"
   },
   {
    "duration": 92,
    "start_time": "2022-01-25T16:50:16.202Z"
   },
   {
    "duration": 12,
    "start_time": "2022-01-25T16:50:16.296Z"
   },
   {
    "duration": 39426,
    "start_time": "2022-01-25T16:50:16.311Z"
   },
   {
    "duration": 540,
    "start_time": "2022-01-25T16:50:55.741Z"
   },
   {
    "duration": 13,
    "start_time": "2022-01-25T16:50:56.284Z"
   },
   {
    "duration": 189436,
    "start_time": "2022-01-25T16:50:56.300Z"
   },
   {
    "duration": 509,
    "start_time": "2022-01-25T16:54:05.740Z"
   },
   {
    "duration": 8,
    "start_time": "2022-01-25T16:54:06.251Z"
   },
   {
    "duration": 18672,
    "start_time": "2022-01-25T16:54:06.263Z"
   },
   {
    "duration": 471,
    "start_time": "2022-01-25T16:54:24.937Z"
   },
   {
    "duration": 26,
    "start_time": "2022-01-25T16:54:25.411Z"
   },
   {
    "duration": 1065966,
    "start_time": "2022-01-25T16:54:25.440Z"
   },
   {
    "duration": 369,
    "start_time": "2022-01-25T17:12:11.409Z"
   },
   {
    "duration": 7,
    "start_time": "2022-01-25T17:12:11.781Z"
   },
   {
    "duration": 26682,
    "start_time": "2022-01-25T17:12:11.791Z"
   },
   {
    "duration": 409,
    "start_time": "2022-01-25T17:12:38.475Z"
   },
   {
    "duration": 12,
    "start_time": "2022-01-25T17:12:38.886Z"
   },
   {
    "duration": 1772923,
    "start_time": "2022-01-25T17:12:38.900Z"
   },
   {
    "duration": 369,
    "start_time": "2022-01-25T17:42:11.834Z"
   },
   {
    "duration": 8,
    "start_time": "2022-01-25T17:42:12.206Z"
   },
   {
    "duration": 24,
    "start_time": "2022-01-25T17:42:12.232Z"
   },
   {
    "duration": 655,
    "start_time": "2022-01-25T17:42:12.259Z"
   },
   {
    "duration": 457,
    "start_time": "2022-01-25T17:42:12.916Z"
   },
   {
    "duration": 415,
    "start_time": "2022-01-25T17:42:12.961Z"
   },
   {
    "duration": 412,
    "start_time": "2022-01-25T17:42:12.965Z"
   },
   {
    "duration": 408,
    "start_time": "2022-01-25T17:42:12.970Z"
   },
   {
    "duration": 404,
    "start_time": "2022-01-25T17:42:12.976Z"
   },
   {
    "duration": 400,
    "start_time": "2022-01-25T17:42:12.981Z"
   },
   {
    "duration": 397,
    "start_time": "2022-01-25T17:42:12.986Z"
   },
   {
    "duration": 56,
    "start_time": "2022-01-25T17:45:56.026Z"
   },
   {
    "duration": 7,
    "start_time": "2022-01-25T17:46:06.624Z"
   },
   {
    "duration": 19123,
    "start_time": "2022-01-25T17:46:07.890Z"
   },
   {
    "duration": 7,
    "start_time": "2022-01-25T17:46:41.920Z"
   },
   {
    "duration": 1239,
    "start_time": "2022-01-25T17:47:06.475Z"
   },
   {
    "duration": 65564,
    "start_time": "2022-01-25T17:47:10.633Z"
   },
   {
    "duration": 10,
    "start_time": "2022-01-25T17:56:23.663Z"
   },
   {
    "duration": 41656,
    "start_time": "2022-01-25T17:56:29.280Z"
   },
   {
    "duration": 13,
    "start_time": "2022-01-25T17:57:34.017Z"
   },
   {
    "duration": 192557,
    "start_time": "2022-01-25T17:57:41.480Z"
   },
   {
    "duration": 98,
    "start_time": "2022-01-25T18:00:54.041Z"
   },
   {
    "duration": 14,
    "start_time": "2022-01-25T18:02:05.404Z"
   },
   {
    "duration": 11,
    "start_time": "2022-01-25T18:02:15.100Z"
   },
   {
    "duration": 3703,
    "start_time": "2022-01-25T18:03:53.515Z"
   },
   {
    "duration": 3238,
    "start_time": "2022-01-25T18:03:57.221Z"
   },
   {
    "duration": 3315,
    "start_time": "2022-01-25T18:04:00.462Z"
   },
   {
    "duration": 2879,
    "start_time": "2022-01-25T18:04:03.780Z"
   },
   {
    "duration": 831,
    "start_time": "2022-01-25T18:04:06.661Z"
   },
   {
    "duration": 6,
    "start_time": "2022-01-25T18:04:07.494Z"
   },
   {
    "duration": 45,
    "start_time": "2022-01-25T18:04:07.503Z"
   },
   {
    "duration": 49,
    "start_time": "2022-01-25T18:04:07.554Z"
   },
   {
    "duration": 26,
    "start_time": "2022-01-25T18:04:07.606Z"
   },
   {
    "duration": 69,
    "start_time": "2022-01-25T18:04:07.634Z"
   },
   {
    "duration": 300,
    "start_time": "2022-01-25T18:04:07.705Z"
   },
   {
    "duration": 96,
    "start_time": "2022-01-25T18:04:08.007Z"
   },
   {
    "duration": 9,
    "start_time": "2022-01-25T18:04:08.106Z"
   },
   {
    "duration": 20,
    "start_time": "2022-01-25T18:04:08.117Z"
   },
   {
    "duration": 73,
    "start_time": "2022-01-25T18:04:08.139Z"
   },
   {
    "duration": 46513,
    "start_time": "2022-01-25T18:04:08.231Z"
   },
   {
    "duration": 134,
    "start_time": "2022-01-25T18:04:54.748Z"
   },
   {
    "duration": 52,
    "start_time": "2022-01-25T18:04:54.885Z"
   },
   {
    "duration": 7102,
    "start_time": "2022-01-25T18:04:54.940Z"
   },
   {
    "duration": 16,
    "start_time": "2022-01-25T18:05:02.045Z"
   },
   {
    "duration": 23,
    "start_time": "2022-01-25T18:05:02.063Z"
   },
   {
    "duration": 12,
    "start_time": "2022-01-25T18:05:02.089Z"
   },
   {
    "duration": 554408,
    "start_time": "2022-01-25T18:05:02.107Z"
   },
   {
    "duration": 17,
    "start_time": "2022-01-25T18:14:16.518Z"
   },
   {
    "duration": 40,
    "start_time": "2022-01-25T18:14:16.537Z"
   },
   {
    "duration": 64,
    "start_time": "2022-01-25T18:14:16.580Z"
   },
   {
    "duration": 5,
    "start_time": "2022-01-25T18:14:16.647Z"
   },
   {
    "duration": 16226,
    "start_time": "2022-01-25T18:14:16.655Z"
   },
   {
    "duration": 27,
    "start_time": "2022-01-25T18:14:32.884Z"
   },
   {
    "duration": 24,
    "start_time": "2022-01-25T18:14:32.914Z"
   },
   {
    "duration": 25,
    "start_time": "2022-01-25T18:14:32.941Z"
   },
   {
    "duration": 5,
    "start_time": "2022-01-25T18:14:32.968Z"
   },
   {
    "duration": 14,
    "start_time": "2022-01-25T18:14:32.975Z"
   },
   {
    "duration": 99,
    "start_time": "2022-01-25T18:14:32.991Z"
   },
   {
    "duration": 8,
    "start_time": "2022-01-25T18:14:33.093Z"
   },
   {
    "duration": 44424,
    "start_time": "2022-01-25T18:14:33.104Z"
   },
   {
    "duration": 345,
    "start_time": "2022-01-25T18:15:17.531Z"
   },
   {
    "duration": 12,
    "start_time": "2022-01-25T18:15:17.879Z"
   },
   {
    "duration": 188146,
    "start_time": "2022-01-25T18:15:17.894Z"
   },
   {
    "duration": 367,
    "start_time": "2022-01-25T18:18:26.042Z"
   },
   {
    "duration": 27,
    "start_time": "2022-01-25T18:18:26.413Z"
   },
   {
    "duration": 19097,
    "start_time": "2022-01-25T18:18:26.442Z"
   },
   {
    "duration": 349,
    "start_time": "2022-01-25T18:18:45.542Z"
   },
   {
    "duration": 13,
    "start_time": "2022-01-25T18:18:45.894Z"
   },
   {
    "duration": 3734,
    "start_time": "2022-01-25T18:19:30.648Z"
   },
   {
    "duration": 3058,
    "start_time": "2022-01-25T18:19:34.385Z"
   },
   {
    "duration": 3680,
    "start_time": "2022-01-25T18:19:37.446Z"
   },
   {
    "duration": 2902,
    "start_time": "2022-01-25T18:19:41.130Z"
   },
   {
    "duration": 297,
    "start_time": "2022-01-25T18:19:44.035Z"
   },
   {
    "duration": 5,
    "start_time": "2022-01-25T18:19:44.335Z"
   },
   {
    "duration": 33,
    "start_time": "2022-01-25T18:19:44.342Z"
   },
   {
    "duration": 73,
    "start_time": "2022-01-25T18:19:44.379Z"
   },
   {
    "duration": 6,
    "start_time": "2022-01-25T18:19:44.455Z"
   },
   {
    "duration": 89,
    "start_time": "2022-01-25T18:19:44.464Z"
   },
   {
    "duration": 287,
    "start_time": "2022-01-25T18:19:44.555Z"
   },
   {
    "duration": 95,
    "start_time": "2022-01-25T18:19:44.845Z"
   },
   {
    "duration": 9,
    "start_time": "2022-01-25T18:19:44.943Z"
   },
   {
    "duration": 15,
    "start_time": "2022-01-25T18:19:44.954Z"
   },
   {
    "duration": 93,
    "start_time": "2022-01-25T18:19:44.972Z"
   },
   {
    "duration": 46155,
    "start_time": "2022-01-25T18:19:45.068Z"
   },
   {
    "duration": 143,
    "start_time": "2022-01-25T18:20:31.233Z"
   },
   {
    "duration": 53,
    "start_time": "2022-01-25T18:20:31.379Z"
   },
   {
    "duration": 7573,
    "start_time": "2022-01-25T18:20:31.435Z"
   },
   {
    "duration": 25,
    "start_time": "2022-01-25T18:20:39.011Z"
   },
   {
    "duration": 33,
    "start_time": "2022-01-25T18:20:39.038Z"
   },
   {
    "duration": 11,
    "start_time": "2022-01-25T18:20:39.074Z"
   },
   {
    "duration": 545166,
    "start_time": "2022-01-25T18:20:39.092Z"
   },
   {
    "duration": 10,
    "start_time": "2022-01-25T18:29:44.261Z"
   },
   {
    "duration": 69,
    "start_time": "2022-01-25T18:29:44.274Z"
   },
   {
    "duration": 32,
    "start_time": "2022-01-25T18:29:44.346Z"
   },
   {
    "duration": 5,
    "start_time": "2022-01-25T18:29:44.381Z"
   },
   {
    "duration": 16700,
    "start_time": "2022-01-25T18:29:44.389Z"
   },
   {
    "duration": 45,
    "start_time": "2022-01-25T18:30:01.092Z"
   },
   {
    "duration": 8,
    "start_time": "2022-01-25T18:30:01.140Z"
   },
   {
    "duration": 25,
    "start_time": "2022-01-25T18:30:01.150Z"
   },
   {
    "duration": 4,
    "start_time": "2022-01-25T18:30:01.177Z"
   },
   {
    "duration": 20,
    "start_time": "2022-01-25T18:30:01.183Z"
   },
   {
    "duration": 82,
    "start_time": "2022-01-25T18:30:01.206Z"
   },
   {
    "duration": 8,
    "start_time": "2022-01-25T18:30:01.290Z"
   },
   {
    "duration": 39041,
    "start_time": "2022-01-25T18:30:01.300Z"
   },
   {
    "duration": 429,
    "start_time": "2022-01-25T18:30:40.434Z"
   },
   {
    "duration": 12,
    "start_time": "2022-01-25T18:30:40.866Z"
   },
   {
    "duration": 200957,
    "start_time": "2022-01-25T18:30:40.880Z"
   },
   {
    "duration": 518,
    "start_time": "2022-01-25T18:34:01.840Z"
   },
   {
    "duration": 13,
    "start_time": "2022-01-25T18:34:02.362Z"
   },
   {
    "duration": 18656,
    "start_time": "2022-01-25T18:34:02.378Z"
   },
   {
    "duration": 347,
    "start_time": "2022-01-25T18:34:21.037Z"
   },
   {
    "duration": 14,
    "start_time": "2022-01-25T18:34:21.386Z"
   },
   {
    "duration": 1124548,
    "start_time": "2022-01-25T18:34:21.403Z"
   },
   {
    "duration": 434,
    "start_time": "2022-01-25T18:53:05.954Z"
   },
   {
    "duration": 14,
    "start_time": "2022-01-25T18:53:06.390Z"
   },
   {
    "duration": 30430,
    "start_time": "2022-01-25T18:53:06.407Z"
   },
   {
    "duration": 540,
    "start_time": "2022-01-25T18:53:36.840Z"
   },
   {
    "duration": 21,
    "start_time": "2022-01-25T18:53:37.383Z"
   },
   {
    "duration": 1859881,
    "start_time": "2022-01-25T18:53:37.408Z"
   },
   {
    "duration": 382,
    "start_time": "2022-01-25T19:24:37.292Z"
   },
   {
    "duration": 449,
    "start_time": "2022-01-25T19:24:37.676Z"
   },
   {
    "duration": 491,
    "start_time": "2022-01-25T19:24:37.637Z"
   },
   {
    "duration": 487,
    "start_time": "2022-01-25T19:24:37.642Z"
   },
   {
    "duration": 484,
    "start_time": "2022-01-25T19:24:37.647Z"
   },
   {
    "duration": 478,
    "start_time": "2022-01-25T19:24:37.654Z"
   },
   {
    "duration": 475,
    "start_time": "2022-01-25T19:24:37.659Z"
   },
   {
    "duration": 472,
    "start_time": "2022-01-25T19:24:37.664Z"
   },
   {
    "duration": 467,
    "start_time": "2022-01-25T19:24:37.671Z"
   },
   {
    "duration": 464,
    "start_time": "2022-01-25T19:24:37.675Z"
   },
   {
    "duration": 462,
    "start_time": "2022-01-25T19:24:37.679Z"
   },
   {
    "duration": 1774452,
    "start_time": "2022-01-25T19:28:30.344Z"
   },
   {
    "duration": 354,
    "start_time": "2022-01-25T19:58:04.799Z"
   },
   {
    "duration": 13,
    "start_time": "2022-01-25T19:58:05.156Z"
   },
   {
    "duration": 14,
    "start_time": "2022-01-25T19:58:05.172Z"
   },
   {
    "duration": 158,
    "start_time": "2022-01-25T19:58:05.188Z"
   },
   {
    "duration": 35,
    "start_time": "2022-01-25T19:58:05.349Z"
   },
   {
    "duration": 5,
    "start_time": "2022-01-25T19:58:05.386Z"
   },
   {
    "duration": 21570,
    "start_time": "2022-01-25T19:58:05.395Z"
   },
   {
    "duration": 8,
    "start_time": "2022-01-25T19:58:26.968Z"
   },
   {
    "duration": 259,
    "start_time": "2022-01-25T19:58:26.979Z"
   },
   {
    "duration": 515,
    "start_time": "2022-01-25T19:58:26.726Z"
   },
   {
    "duration": 510,
    "start_time": "2022-01-25T19:58:26.732Z"
   },
   {
    "duration": 20,
    "start_time": "2022-01-25T20:00:51.618Z"
   },
   {
    "duration": 38,
    "start_time": "2022-01-25T20:01:01.698Z"
   },
   {
    "duration": 5,
    "start_time": "2022-01-25T20:01:08.586Z"
   },
   {
    "duration": 15228,
    "start_time": "2022-01-25T20:01:11.930Z"
   },
   {
    "duration": 6,
    "start_time": "2022-01-25T20:01:31.850Z"
   },
   {
    "duration": 238,
    "start_time": "2022-01-25T20:01:49.087Z"
   },
   {
    "duration": 8,
    "start_time": "2022-01-25T20:02:30.147Z"
   },
   {
    "duration": 587,
    "start_time": "2022-01-25T20:05:41.277Z"
   },
   {
    "duration": 582,
    "start_time": "2022-01-25T20:06:03.638Z"
   },
   {
    "duration": 1196,
    "start_time": "2022-01-25T20:06:16.446Z"
   },
   {
    "duration": 1286,
    "start_time": "2022-01-25T20:06:42.357Z"
   },
   {
    "duration": 63340,
    "start_time": "2022-01-25T20:11:10.400Z"
   },
   {
    "duration": 23,
    "start_time": "2022-01-25T20:12:54.849Z"
   },
   {
    "duration": 34,
    "start_time": "2022-01-25T20:13:12.306Z"
   },
   {
    "duration": 31,
    "start_time": "2022-01-25T20:16:43.292Z"
   },
   {
    "duration": 30,
    "start_time": "2022-01-25T20:16:51.118Z"
   },
   {
    "duration": 31,
    "start_time": "2022-01-25T20:31:55.020Z"
   },
   {
    "duration": 26,
    "start_time": "2022-01-25T20:32:05.456Z"
   },
   {
    "duration": 27,
    "start_time": "2022-01-25T20:32:42.792Z"
   },
   {
    "duration": 28,
    "start_time": "2022-01-25T20:33:01.601Z"
   },
   {
    "duration": 37,
    "start_time": "2022-01-25T20:37:28.820Z"
   },
   {
    "duration": 21,
    "start_time": "2022-01-25T20:39:33.572Z"
   },
   {
    "duration": 26,
    "start_time": "2022-01-25T20:40:09.205Z"
   },
   {
    "duration": 17564,
    "start_time": "2022-01-25T20:47:49.882Z"
   },
   {
    "duration": 7,
    "start_time": "2022-01-25T20:48:17.097Z"
   },
   {
    "duration": 15991,
    "start_time": "2022-01-25T20:49:27.219Z"
   },
   {
    "duration": 7,
    "start_time": "2022-01-25T20:49:50.764Z"
   },
   {
    "duration": 27,
    "start_time": "2022-01-25T20:50:44.381Z"
   },
   {
    "duration": 5,
    "start_time": "2022-01-25T20:51:09.365Z"
   },
   {
    "duration": 26,
    "start_time": "2022-01-25T20:51:30.190Z"
   },
   {
    "duration": 229,
    "start_time": "2022-01-25T20:56:12.761Z"
   },
   {
    "duration": 234,
    "start_time": "2022-01-25T20:56:54.651Z"
   },
   {
    "duration": 554,
    "start_time": "2022-01-25T20:57:30.123Z"
   },
   {
    "duration": 6,
    "start_time": "2022-01-25T20:57:42.425Z"
   },
   {
    "duration": 3963,
    "start_time": "2022-01-25T20:59:08.209Z"
   },
   {
    "duration": 3482,
    "start_time": "2022-01-25T20:59:12.176Z"
   },
   {
    "duration": 4119,
    "start_time": "2022-01-25T20:59:15.663Z"
   },
   {
    "duration": 3038,
    "start_time": "2022-01-25T20:59:19.785Z"
   },
   {
    "duration": 939,
    "start_time": "2022-01-25T20:59:22.826Z"
   },
   {
    "duration": 5,
    "start_time": "2022-01-25T20:59:23.768Z"
   },
   {
    "duration": 35,
    "start_time": "2022-01-25T20:59:23.775Z"
   },
   {
    "duration": 75,
    "start_time": "2022-01-25T20:59:23.813Z"
   },
   {
    "duration": 6,
    "start_time": "2022-01-25T20:59:23.891Z"
   },
   {
    "duration": 96,
    "start_time": "2022-01-25T20:59:23.899Z"
   },
   {
    "duration": 338,
    "start_time": "2022-01-25T20:59:23.998Z"
   },
   {
    "duration": 110,
    "start_time": "2022-01-25T20:59:24.338Z"
   },
   {
    "duration": 12,
    "start_time": "2022-01-25T20:59:24.451Z"
   },
   {
    "duration": 22,
    "start_time": "2022-01-25T20:59:24.466Z"
   },
   {
    "duration": 117,
    "start_time": "2022-01-25T20:59:24.491Z"
   },
   {
    "duration": 49883,
    "start_time": "2022-01-25T20:59:24.610Z"
   },
   {
    "duration": 171,
    "start_time": "2022-01-25T21:00:14.496Z"
   },
   {
    "duration": 33,
    "start_time": "2022-01-25T21:00:14.670Z"
   },
   {
    "duration": 8517,
    "start_time": "2022-01-25T21:00:14.705Z"
   },
   {
    "duration": 29,
    "start_time": "2022-01-25T21:00:23.224Z"
   },
   {
    "duration": 25,
    "start_time": "2022-01-25T21:00:23.259Z"
   },
   {
    "duration": 14,
    "start_time": "2022-01-25T21:00:23.287Z"
   },
   {
    "duration": 566936,
    "start_time": "2022-01-25T21:00:23.308Z"
   },
   {
    "duration": 39,
    "start_time": "2022-01-25T21:09:50.249Z"
   },
   {
    "duration": 65,
    "start_time": "2022-01-25T21:09:50.290Z"
   },
   {
    "duration": 5,
    "start_time": "2022-01-25T21:09:50.357Z"
   },
   {
    "duration": 17194,
    "start_time": "2022-01-25T21:09:50.365Z"
   },
   {
    "duration": 24,
    "start_time": "2022-01-25T21:10:07.562Z"
   },
   {
    "duration": 6,
    "start_time": "2022-01-25T21:10:07.589Z"
   },
   {
    "duration": 53,
    "start_time": "2022-01-25T21:10:07.598Z"
   },
   {
    "duration": 7,
    "start_time": "2022-01-25T21:10:07.654Z"
   },
   {
    "duration": 19,
    "start_time": "2022-01-25T21:10:07.663Z"
   },
   {
    "duration": 70,
    "start_time": "2022-01-25T21:10:07.684Z"
   },
   {
    "duration": 8,
    "start_time": "2022-01-25T21:10:07.757Z"
   },
   {
    "duration": 34071,
    "start_time": "2022-01-25T21:10:07.768Z"
   },
   {
    "duration": 555,
    "start_time": "2022-01-25T21:10:41.843Z"
   },
   {
    "duration": 11,
    "start_time": "2022-01-25T21:10:42.400Z"
   },
   {
    "duration": 180922,
    "start_time": "2022-01-25T21:10:42.414Z"
   },
   {
    "duration": 505,
    "start_time": "2022-01-25T21:13:43.340Z"
   },
   {
    "duration": 12,
    "start_time": "2022-01-25T21:13:43.847Z"
   },
   {
    "duration": 19532,
    "start_time": "2022-01-25T21:13:43.862Z"
   },
   {
    "duration": 391,
    "start_time": "2022-01-25T21:14:03.397Z"
   },
   {
    "duration": 13,
    "start_time": "2022-01-25T21:14:03.791Z"
   },
   {
    "duration": 1070674,
    "start_time": "2022-01-25T21:14:03.807Z"
   },
   {
    "duration": 367,
    "start_time": "2022-01-25T21:31:54.483Z"
   },
   {
    "duration": 13,
    "start_time": "2022-01-25T21:31:54.852Z"
   },
   {
    "duration": 25711,
    "start_time": "2022-01-25T21:31:54.867Z"
   },
   {
    "duration": 366,
    "start_time": "2022-01-25T21:32:20.580Z"
   },
   {
    "duration": 13,
    "start_time": "2022-01-25T21:32:20.948Z"
   },
   {
    "duration": 1715404,
    "start_time": "2022-01-25T21:32:20.963Z"
   },
   {
    "duration": 391,
    "start_time": "2022-01-25T22:00:56.370Z"
   },
   {
    "duration": 13,
    "start_time": "2022-01-25T22:00:56.764Z"
   },
   {
    "duration": 17,
    "start_time": "2022-01-25T22:00:56.779Z"
   },
   {
    "duration": 44,
    "start_time": "2022-01-25T22:00:56.798Z"
   },
   {
    "duration": 35,
    "start_time": "2022-01-25T22:00:56.844Z"
   },
   {
    "duration": 5,
    "start_time": "2022-01-25T22:00:56.881Z"
   },
   {
    "duration": 14748,
    "start_time": "2022-01-25T22:00:56.889Z"
   },
   {
    "duration": 6,
    "start_time": "2022-01-25T22:01:11.639Z"
   },
   {
    "duration": 1124,
    "start_time": "2022-01-25T22:01:11.647Z"
   },
   {
    "duration": 61480,
    "start_time": "2022-01-25T22:01:12.773Z"
   },
   {
    "duration": 6,
    "start_time": "2022-01-25T22:02:14.255Z"
   },
   {
    "duration": 23,
    "start_time": "2022-01-25T22:02:14.263Z"
   }
  ],
  "kernelspec": {
   "display_name": "Python 3 (ipykernel)",
   "language": "python",
   "name": "python3"
  },
  "language_info": {
   "codemirror_mode": {
    "name": "ipython",
    "version": 3
   },
   "file_extension": ".py",
   "mimetype": "text/x-python",
   "name": "python",
   "nbconvert_exporter": "python",
   "pygments_lexer": "ipython3",
   "version": "3.9.12"
  },
  "toc": {
   "base_numbering": 1,
   "nav_menu": {},
   "number_sections": true,
   "sideBar": true,
   "skip_h1_title": true,
   "title_cell": "",
   "title_sidebar": "Contents",
   "toc_cell": true,
   "toc_position": {},
   "toc_section_display": true,
   "toc_window_display": false
  }
 },
 "nbformat": 4,
 "nbformat_minor": 2
}
