{
 "cells": [
  {
   "cell_type": "markdown",
   "metadata": {},
   "source": [
    "# Исследование данных российского кинопроката"
   ]
  },
  {
   "cell_type": "markdown",
   "metadata": {},
   "source": [
    "Какие тренды характерны для современного российского кинопроката? Что выбирает массовый зритель?\n",
    "Насколько эффективна государственная политика в сфере поддержки отечественного кино?\n",
    "\n",
    "Заказчик этого исследования — Министерство культуры Российской Федерации. Полученные в результате исследования данные позволят оценить эффективность проводимой государством политики, а также выбрать приоритетное направления дальнейшего развития."
   ]
  },
  {
   "cell_type": "markdown",
   "metadata": {},
   "source": [
    "<font color='green'>Цель</font>"
   ]
  },
  {
   "cell_type": "markdown",
   "metadata": {},
   "source": [
    "Основная цель исследования - получить актуальное представление о россиском кинопрокате. "
   ]
  },
  {
   "cell_type": "markdown",
   "metadata": {},
   "source": [
    "<font color='green'>Задачи</font>"
   ]
  },
  {
   "cell_type": "markdown",
   "metadata": {},
   "source": [
    "- выявить текущие тренды россиского кинопроката \n",
    "- более глубоко проанализировать данные по фильмам с господдержкой"
   ]
  },
  {
   "cell_type": "markdown",
   "metadata": {},
   "source": [
    "<font color='green'>Файлы</font>\n"
   ]
  },
  {
   "cell_type": "markdown",
   "metadata": {},
   "source": [
    "\n",
    "- `mkrf_movies.csv` - файл с данными для исследования.\n",
    "\n",
    "- `mkrf_shows.csv` - файл с данными для исследования.\n"
   ]
  },
  {
   "cell_type": "markdown",
   "metadata": {},
   "source": [
    "<font color='green'>Столбцы</font>\n"
   ]
  },
  {
   "cell_type": "markdown",
   "metadata": {},
   "source": [
    "* `title` — название фильма;\n",
    "* `puNumber` — номер прокатного удостоверения;\n",
    "* `show_start_date` — дата премьеры фильма;\n",
    "* `type` — тип фильма;\n",
    "* `film_studio` — студия-производитель;\n",
    "* `production_country` — страна-производитель;\n",
    "* `director` — режиссёр;\n",
    "* `producer` — продюсер;\n",
    "* `age_restriction` — возрастная категория;\n",
    "* `refundable_support` — объём возвратных средств государственной поддержки;\n",
    "* `nonrefundable_support` — объём невозвратных средств государственной поддержки;\n",
    "* `financing_source` — источник государственного финансирования;\n",
    "* `budget` — общий бюджет фильма;\n",
    "* `ratings` — рейтинг фильма на КиноПоиске;\n",
    "* `genres` — жанр фильма.\n",
    "* `box_office` — сборы в рублях."
   ]
  },
  {
   "cell_type": "markdown",
   "metadata": {},
   "source": [
    "<font color='green'>Содержание</font>"
   ]
  },
  {
   "cell_type": "markdown",
   "metadata": {
    "toc": true
   },
   "source": [
    "<h1><span class=\"tocSkip\"></span></h1>\n",
    "<div class=\"toc\"><ul class=\"toc-item\"><li><span><a href=\"#Шаг-1.-Изучение-данных-из-файла\" data-toc-modified-id=\"Шаг-1.-Изучение-данных-из-файла-1\"><span class=\"toc-item-num\">1&nbsp;&nbsp;</span>Шаг 1. Изучение данных из файла</a></span></li><li><span><a href=\"#Шаг-2.-Предобработка-данных\" data-toc-modified-id=\"Шаг-2.-Предобработка-данных-2\"><span class=\"toc-item-num\">2&nbsp;&nbsp;</span>Шаг 2. Предобработка данных</a></span><ul class=\"toc-item\"><li><span><a href=\"#Стиль-заголовков\" data-toc-modified-id=\"Стиль-заголовков-2.1\"><span class=\"toc-item-num\">2.1&nbsp;&nbsp;</span>Стиль заголовков</a></span></li><li><span><a href=\"#Обработка-пропусков\" data-toc-modified-id=\"Обработка-пропусков-2.2\"><span class=\"toc-item-num\">2.2&nbsp;&nbsp;</span>Обработка пропусков</a></span></li><li><span><a href=\"#Обработка-ошибок-в-данных\" data-toc-modified-id=\"Обработка-ошибок-в-данных-2.3\"><span class=\"toc-item-num\">2.3&nbsp;&nbsp;</span>Обработка ошибок в данных</a></span></li><li><span><a href=\"#Обработка-дубликатов\" data-toc-modified-id=\"Обработка-дубликатов-2.4\"><span class=\"toc-item-num\">2.4&nbsp;&nbsp;</span>Обработка дубликатов</a></span></li><li><span><a href=\"#Замена-типов-данных\" data-toc-modified-id=\"Замена-типов-данных-2.5\"><span class=\"toc-item-num\">2.5&nbsp;&nbsp;</span>Замена типов данных</a></span></li><li><span><a href=\"#Добавление-новых-данных-в-таблицу\" data-toc-modified-id=\"Добавление-новых-данных-в-таблицу-2.6\"><span class=\"toc-item-num\">2.6&nbsp;&nbsp;</span>Добавление новых данных в таблицу</a></span></li></ul></li><li><span><a href=\"#Шаг-3.-Исследовательский-анализ-данных\" data-toc-modified-id=\"Шаг-3.-Исследовательский-анализ-данных-3\"><span class=\"toc-item-num\">3&nbsp;&nbsp;</span>Шаг 3. Исследовательский анализ данных</a></span><ul class=\"toc-item\"><li><span><a href=\"#Распределение-фильмов-по-годам\" data-toc-modified-id=\"Распределение-фильмов-по-годам-3.1\"><span class=\"toc-item-num\">3.1&nbsp;&nbsp;</span>Распределение фильмов по годам</a></span></li><li><span><a href=\"#Динамика-проката-по-годам\" data-toc-modified-id=\"Динамика-проката-по-годам-3.2\"><span class=\"toc-item-num\">3.2&nbsp;&nbsp;</span>Динамика проката по годам</a></span></li><li><span><a href=\"#Влияние-возрастного-ограничения-аудитории-на-сборы-фильмов-(2015-2019-гг.)\" data-toc-modified-id=\"Влияние-возрастного-ограничения-аудитории-на-сборы-фильмов-(2015-2019-гг.)-3.3\"><span class=\"toc-item-num\">3.3&nbsp;&nbsp;</span>Влияние возрастного ограничения аудитории на сборы фильмов (2015-2019 гг.)</a></span></li></ul></li><li><span><a href=\"#Шаг-4.-Исследование-фильмов,-получивших-государственную-поддержку\" data-toc-modified-id=\"Шаг-4.-Исследование-фильмов,-получивших-государственную-поддержку-4\"><span class=\"toc-item-num\">4&nbsp;&nbsp;</span>Шаг 4. Исследование фильмов, получивших государственную поддержку</a></span><ul class=\"toc-item\"><li><span><a href=\"#Распределение-фильмов-по-годам\" data-toc-modified-id=\"Распределение-фильмов-по-годам-4.1\"><span class=\"toc-item-num\">4.1&nbsp;&nbsp;</span>Распределение фильмов по годам</a></span></li><li><span><a href=\"#Рейтинги-фильмов--с-гос.-поддержкой\" data-toc-modified-id=\"Рейтинги-фильмов--с-гос.-поддержкой-4.2\"><span class=\"toc-item-num\">4.2&nbsp;&nbsp;</span>Рейтинги фильмов  с гос. поддержкой</a></span></li></ul></li><li><span><a href=\"#Шаг-5.-Общий-вывод\" data-toc-modified-id=\"Шаг-5.-Общий-вывод-5\"><span class=\"toc-item-num\">5&nbsp;&nbsp;</span>Шаг 5. Общий вывод</a></span></li></ul></div>"
   ]
  },
  {
   "cell_type": "markdown",
   "metadata": {},
   "source": [
    "### Шаг 1. Изучение данных из файла"
   ]
  },
  {
   "cell_type": "code",
   "execution_count": 1,
   "metadata": {
    "id": "dw87FlzMgFyM"
   },
   "outputs": [],
   "source": [
    "import pandas as pd\n",
    "import matplotlib.pyplot as plt"
   ]
  },
  {
   "cell_type": "code",
   "execution_count": 2,
   "metadata": {},
   "outputs": [],
   "source": [
    "data_1 = pd.read_csv('/ML/datasets/mkrf_movies.csv')"
   ]
  },
  {
   "cell_type": "code",
   "execution_count": 3,
   "metadata": {},
   "outputs": [
    {
     "data": {
      "text/html": [
       "<div>\n",
       "<style scoped>\n",
       "    .dataframe tbody tr th:only-of-type {\n",
       "        vertical-align: middle;\n",
       "    }\n",
       "\n",
       "    .dataframe tbody tr th {\n",
       "        vertical-align: top;\n",
       "    }\n",
       "\n",
       "    .dataframe thead th {\n",
       "        text-align: right;\n",
       "    }\n",
       "</style>\n",
       "<table border=\"1\" class=\"dataframe\">\n",
       "  <thead>\n",
       "    <tr style=\"text-align: right;\">\n",
       "      <th></th>\n",
       "      <th>0</th>\n",
       "      <th>1</th>\n",
       "      <th>2</th>\n",
       "    </tr>\n",
       "  </thead>\n",
       "  <tbody>\n",
       "    <tr>\n",
       "      <th>title</th>\n",
       "      <td>Открытый простор</td>\n",
       "      <td>Особо важное задание</td>\n",
       "      <td>Особо опасен</td>\n",
       "    </tr>\n",
       "    <tr>\n",
       "      <th>puNumber</th>\n",
       "      <td>221048915</td>\n",
       "      <td>111013716</td>\n",
       "      <td>221038416</td>\n",
       "    </tr>\n",
       "    <tr>\n",
       "      <th>show_start_date</th>\n",
       "      <td>2015-11-27T12:00:00.000Z</td>\n",
       "      <td>2016-09-13T12:00:00.000Z</td>\n",
       "      <td>2016-10-10T12:00:00.000Z</td>\n",
       "    </tr>\n",
       "    <tr>\n",
       "      <th>type</th>\n",
       "      <td>Художественный</td>\n",
       "      <td>Художественный</td>\n",
       "      <td>Художественный</td>\n",
       "    </tr>\n",
       "    <tr>\n",
       "      <th>film_studio</th>\n",
       "      <td>Тачстоун Пикчерз, Кобальт Пикчерз, Бикон Пикче...</td>\n",
       "      <td>Киностудия \"Мосфильм\"</td>\n",
       "      <td>Юниверсал Пикчерз, Кикстарт Продакшнз, Марк Пл...</td>\n",
       "    </tr>\n",
       "    <tr>\n",
       "      <th>production_country</th>\n",
       "      <td>США</td>\n",
       "      <td>СССР</td>\n",
       "      <td>США</td>\n",
       "    </tr>\n",
       "    <tr>\n",
       "      <th>director</th>\n",
       "      <td>Кевин Костнер</td>\n",
       "      <td>Е.Матвеев</td>\n",
       "      <td>Тимур Бекмамбетов</td>\n",
       "    </tr>\n",
       "    <tr>\n",
       "      <th>producer</th>\n",
       "      <td>Дэвид Валдес, Кевин Костнер, Джейк Эбертс</td>\n",
       "      <td>NaN</td>\n",
       "      <td>Джим Лемли, Джейсон Нетер, Марк Е.Платт, Яйн Смит</td>\n",
       "    </tr>\n",
       "    <tr>\n",
       "      <th>age_restriction</th>\n",
       "      <td>«18+» - запрещено для детей</td>\n",
       "      <td>«6+» - для детей старше 6 лет</td>\n",
       "      <td>«18+» - запрещено для детей</td>\n",
       "    </tr>\n",
       "    <tr>\n",
       "      <th>refundable_support</th>\n",
       "      <td>NaN</td>\n",
       "      <td>NaN</td>\n",
       "      <td>NaN</td>\n",
       "    </tr>\n",
       "    <tr>\n",
       "      <th>nonrefundable_support</th>\n",
       "      <td>NaN</td>\n",
       "      <td>NaN</td>\n",
       "      <td>NaN</td>\n",
       "    </tr>\n",
       "    <tr>\n",
       "      <th>budget</th>\n",
       "      <td>NaN</td>\n",
       "      <td>NaN</td>\n",
       "      <td>NaN</td>\n",
       "    </tr>\n",
       "    <tr>\n",
       "      <th>financing_source</th>\n",
       "      <td>NaN</td>\n",
       "      <td>NaN</td>\n",
       "      <td>NaN</td>\n",
       "    </tr>\n",
       "    <tr>\n",
       "      <th>ratings</th>\n",
       "      <td>7.2</td>\n",
       "      <td>6.6</td>\n",
       "      <td>6.8</td>\n",
       "    </tr>\n",
       "    <tr>\n",
       "      <th>genres</th>\n",
       "      <td>боевик,драма,мелодрама</td>\n",
       "      <td>драма,военный</td>\n",
       "      <td>фантастика,боевик,триллер</td>\n",
       "    </tr>\n",
       "  </tbody>\n",
       "</table>\n",
       "</div>"
      ],
      "text/plain": [
       "                                                                       0  \\\n",
       "title                                                   Открытый простор   \n",
       "puNumber                                                       221048915   \n",
       "show_start_date                                 2015-11-27T12:00:00.000Z   \n",
       "type                                                      Художественный   \n",
       "film_studio            Тачстоун Пикчерз, Кобальт Пикчерз, Бикон Пикче...   \n",
       "production_country                                                   США   \n",
       "director                                                   Кевин Костнер   \n",
       "producer                       Дэвид Валдес, Кевин Костнер, Джейк Эбертс   \n",
       "age_restriction                              «18+» - запрещено для детей   \n",
       "refundable_support                                                   NaN   \n",
       "nonrefundable_support                                                NaN   \n",
       "budget                                                               NaN   \n",
       "financing_source                                                     NaN   \n",
       "ratings                                                              7.2   \n",
       "genres                                            боевик,драма,мелодрама   \n",
       "\n",
       "                                                   1  \\\n",
       "title                           Особо важное задание   \n",
       "puNumber                                   111013716   \n",
       "show_start_date             2016-09-13T12:00:00.000Z   \n",
       "type                                  Художественный   \n",
       "film_studio                    Киностудия \"Мосфильм\"   \n",
       "production_country                              СССР   \n",
       "director                                   Е.Матвеев   \n",
       "producer                                         NaN   \n",
       "age_restriction        «6+» - для детей старше 6 лет   \n",
       "refundable_support                               NaN   \n",
       "nonrefundable_support                            NaN   \n",
       "budget                                           NaN   \n",
       "financing_source                                 NaN   \n",
       "ratings                                          6.6   \n",
       "genres                                 драма,военный   \n",
       "\n",
       "                                                                       2  \n",
       "title                                                       Особо опасен  \n",
       "puNumber                                                       221038416  \n",
       "show_start_date                                 2016-10-10T12:00:00.000Z  \n",
       "type                                                      Художественный  \n",
       "film_studio            Юниверсал Пикчерз, Кикстарт Продакшнз, Марк Пл...  \n",
       "production_country                                                   США  \n",
       "director                                               Тимур Бекмамбетов  \n",
       "producer               Джим Лемли, Джейсон Нетер, Марк Е.Платт, Яйн Смит  \n",
       "age_restriction                              «18+» - запрещено для детей  \n",
       "refundable_support                                                   NaN  \n",
       "nonrefundable_support                                                NaN  \n",
       "budget                                                               NaN  \n",
       "financing_source                                                     NaN  \n",
       "ratings                                                              6.8  \n",
       "genres                                         фантастика,боевик,триллер  "
      ]
     },
     "execution_count": 3,
     "metadata": {},
     "output_type": "execute_result"
    }
   ],
   "source": [
    "data_1.head(3).T"
   ]
  },
  {
   "cell_type": "code",
   "execution_count": 4,
   "metadata": {},
   "outputs": [
    {
     "name": "stdout",
     "output_type": "stream",
     "text": [
      "<class 'pandas.core.frame.DataFrame'>\n",
      "RangeIndex: 7486 entries, 0 to 7485\n",
      "Data columns (total 15 columns):\n",
      " #   Column                 Non-Null Count  Dtype  \n",
      "---  ------                 --------------  -----  \n",
      " 0   title                  7486 non-null   object \n",
      " 1   puNumber               7486 non-null   object \n",
      " 2   show_start_date        7486 non-null   object \n",
      " 3   type                   7486 non-null   object \n",
      " 4   film_studio            7468 non-null   object \n",
      " 5   production_country     7484 non-null   object \n",
      " 6   director               7477 non-null   object \n",
      " 7   producer               6918 non-null   object \n",
      " 8   age_restriction        7486 non-null   object \n",
      " 9   refundable_support     332 non-null    float64\n",
      " 10  nonrefundable_support  332 non-null    float64\n",
      " 11  budget                 332 non-null    float64\n",
      " 12  financing_source       332 non-null    object \n",
      " 13  ratings                6519 non-null   object \n",
      " 14  genres                 6510 non-null   object \n",
      "dtypes: float64(3), object(12)\n",
      "memory usage: 877.4+ KB\n"
     ]
    }
   ],
   "source": [
    "data_1.info()"
   ]
  },
  {
   "cell_type": "code",
   "execution_count": 5,
   "metadata": {},
   "outputs": [],
   "source": [
    "data_2 = pd.read_csv('/ML/datasets/mkrf_shows.csv')"
   ]
  },
  {
   "cell_type": "code",
   "execution_count": 6,
   "metadata": {},
   "outputs": [
    {
     "data": {
      "text/html": [
       "<div>\n",
       "<style scoped>\n",
       "    .dataframe tbody tr th:only-of-type {\n",
       "        vertical-align: middle;\n",
       "    }\n",
       "\n",
       "    .dataframe tbody tr th {\n",
       "        vertical-align: top;\n",
       "    }\n",
       "\n",
       "    .dataframe thead th {\n",
       "        text-align: right;\n",
       "    }\n",
       "</style>\n",
       "<table border=\"1\" class=\"dataframe\">\n",
       "  <thead>\n",
       "    <tr style=\"text-align: right;\">\n",
       "      <th></th>\n",
       "      <th>puNumber</th>\n",
       "      <th>box_office</th>\n",
       "    </tr>\n",
       "  </thead>\n",
       "  <tbody>\n",
       "    <tr>\n",
       "      <th>0</th>\n",
       "      <td>111000113</td>\n",
       "      <td>2450.0</td>\n",
       "    </tr>\n",
       "    <tr>\n",
       "      <th>1</th>\n",
       "      <td>111000115</td>\n",
       "      <td>61040.0</td>\n",
       "    </tr>\n",
       "    <tr>\n",
       "      <th>2</th>\n",
       "      <td>111000116</td>\n",
       "      <td>153030013.4</td>\n",
       "    </tr>\n",
       "  </tbody>\n",
       "</table>\n",
       "</div>"
      ],
      "text/plain": [
       "    puNumber   box_office\n",
       "0  111000113       2450.0\n",
       "1  111000115      61040.0\n",
       "2  111000116  153030013.4"
      ]
     },
     "execution_count": 6,
     "metadata": {},
     "output_type": "execute_result"
    }
   ],
   "source": [
    "data_2.head(3)"
   ]
  },
  {
   "cell_type": "code",
   "execution_count": 7,
   "metadata": {},
   "outputs": [
    {
     "name": "stdout",
     "output_type": "stream",
     "text": [
      "<class 'pandas.core.frame.DataFrame'>\n",
      "RangeIndex: 3158 entries, 0 to 3157\n",
      "Data columns (total 2 columns):\n",
      " #   Column      Non-Null Count  Dtype  \n",
      "---  ------      --------------  -----  \n",
      " 0   puNumber    3158 non-null   int64  \n",
      " 1   box_office  3158 non-null   float64\n",
      "dtypes: float64(1), int64(1)\n",
      "memory usage: 49.5 KB\n"
     ]
    }
   ],
   "source": [
    "data_2.info()"
   ]
  },
  {
   "cell_type": "markdown",
   "metadata": {},
   "source": [
    "Наша задача объединить данные двух таблиц. Обратим внимание, что данные столбца `'puNumber'` имеют разный тип данных в таблице `data_1` и `data_2`. Приведем их к типу `int64`, изменив тип данных `data_1['puNumber']`. \n",
    "\n",
    "Проверим, что в данных нет значений, которые могут привести к ошибке."
   ]
  },
  {
   "cell_type": "markdown",
   "metadata": {},
   "source": [
    "Проблемное значение имеется: `'нет'`. Заменим его на '0' и изменим формат данных в столбце на `int64`."
   ]
  },
  {
   "cell_type": "code",
   "execution_count": 8,
   "metadata": {},
   "outputs": [
    {
     "data": {
      "text/plain": [
       "array([' 111004112', '111000110', '111000111', ..., '231001012',\n",
       "       '231001111', 'нет'], dtype=object)"
      ]
     },
     "execution_count": 8,
     "metadata": {},
     "output_type": "execute_result"
    }
   ],
   "source": [
    "data_1['puNumber'].sort_values().unique()"
   ]
  },
  {
   "cell_type": "code",
   "execution_count": 9,
   "metadata": {},
   "outputs": [
    {
     "name": "stdout",
     "output_type": "stream",
     "text": [
      "<class 'pandas.core.frame.DataFrame'>\n",
      "RangeIndex: 7486 entries, 0 to 7485\n",
      "Data columns (total 15 columns):\n",
      " #   Column                 Non-Null Count  Dtype  \n",
      "---  ------                 --------------  -----  \n",
      " 0   title                  7486 non-null   object \n",
      " 1   puNumber               7486 non-null   int64  \n",
      " 2   show_start_date        7486 non-null   object \n",
      " 3   type                   7486 non-null   object \n",
      " 4   film_studio            7468 non-null   object \n",
      " 5   production_country     7484 non-null   object \n",
      " 6   director               7477 non-null   object \n",
      " 7   producer               6918 non-null   object \n",
      " 8   age_restriction        7486 non-null   object \n",
      " 9   refundable_support     332 non-null    float64\n",
      " 10  nonrefundable_support  332 non-null    float64\n",
      " 11  budget                 332 non-null    float64\n",
      " 12  financing_source       332 non-null    object \n",
      " 13  ratings                6519 non-null   object \n",
      " 14  genres                 6510 non-null   object \n",
      "dtypes: float64(3), int64(1), object(11)\n",
      "memory usage: 877.4+ KB\n"
     ]
    }
   ],
   "source": [
    "data_1['puNumber'] = data_1['puNumber'].replace('нет', '0') \n",
    "data_1['puNumber'] = data_1['puNumber'].astype('int64', errors='ignore')\n",
    "data_1.info()"
   ]
  },
  {
   "cell_type": "markdown",
   "metadata": {},
   "source": [
    "Теперь можно объединить таблицы."
   ]
  },
  {
   "cell_type": "code",
   "execution_count": 10,
   "metadata": {},
   "outputs": [],
   "source": [
    "data = data_1.merge(data_2, on='puNumber', how='left')"
   ]
  },
  {
   "cell_type": "code",
   "execution_count": 11,
   "metadata": {},
   "outputs": [
    {
     "data": {
      "text/html": [
       "<div>\n",
       "<style scoped>\n",
       "    .dataframe tbody tr th:only-of-type {\n",
       "        vertical-align: middle;\n",
       "    }\n",
       "\n",
       "    .dataframe tbody tr th {\n",
       "        vertical-align: top;\n",
       "    }\n",
       "\n",
       "    .dataframe thead th {\n",
       "        text-align: right;\n",
       "    }\n",
       "</style>\n",
       "<table border=\"1\" class=\"dataframe\">\n",
       "  <thead>\n",
       "    <tr style=\"text-align: right;\">\n",
       "      <th></th>\n",
       "      <th>2552</th>\n",
       "      <th>6831</th>\n",
       "      <th>3304</th>\n",
       "    </tr>\n",
       "  </thead>\n",
       "  <tbody>\n",
       "    <tr>\n",
       "      <th>title</th>\n",
       "      <td>Везучая.</td>\n",
       "      <td>Сверхъестественное</td>\n",
       "      <td>Мухаммад</td>\n",
       "    </tr>\n",
       "    <tr>\n",
       "      <th>puNumber</th>\n",
       "      <td>111006815</td>\n",
       "      <td>121006219</td>\n",
       "      <td>121031416</td>\n",
       "    </tr>\n",
       "    <tr>\n",
       "      <th>show_start_date</th>\n",
       "      <td>2015-04-23T12:00:00.000Z</td>\n",
       "      <td>2019-04-11T12:00:00.000Z</td>\n",
       "      <td>2016-11-25T12:00:00.000Z</td>\n",
       "    </tr>\n",
       "    <tr>\n",
       "      <th>type</th>\n",
       "      <td>Художественный</td>\n",
       "      <td>Художественный</td>\n",
       "      <td>Художественный</td>\n",
       "    </tr>\n",
       "    <tr>\n",
       "      <th>film_studio</th>\n",
       "      <td>Киностудия \"Мосфильм\"</td>\n",
       "      <td>Оддфеллоуз Дистрибьюшен Инк., Муви Трейлер Хаус</td>\n",
       "      <td>Нур и Табан</td>\n",
       "    </tr>\n",
       "    <tr>\n",
       "      <th>production_country</th>\n",
       "      <td>СССР</td>\n",
       "      <td>Канада</td>\n",
       "      <td>Иран</td>\n",
       "    </tr>\n",
       "    <tr>\n",
       "      <th>director</th>\n",
       "      <td>О.Ремизов</td>\n",
       "      <td>Джейсон Стоун</td>\n",
       "      <td>Маджид Маджиди</td>\n",
       "    </tr>\n",
       "    <tr>\n",
       "      <th>producer</th>\n",
       "      <td>NaN</td>\n",
       "      <td>Майкл Бейкер, Крис Фергюсон, Арон Барнетт</td>\n",
       "      <td>Мохаммед Махди Хейдариан, Мохаммед Реза Сабери</td>\n",
       "    </tr>\n",
       "    <tr>\n",
       "      <th>age_restriction</th>\n",
       "      <td>«12+» - для детей старше 12 лет</td>\n",
       "      <td>«16+» - для детей старше 16 лет</td>\n",
       "      <td>«16+» - для детей старше 16 лет</td>\n",
       "    </tr>\n",
       "    <tr>\n",
       "      <th>refundable_support</th>\n",
       "      <td>NaN</td>\n",
       "      <td>NaN</td>\n",
       "      <td>NaN</td>\n",
       "    </tr>\n",
       "    <tr>\n",
       "      <th>nonrefundable_support</th>\n",
       "      <td>NaN</td>\n",
       "      <td>NaN</td>\n",
       "      <td>NaN</td>\n",
       "    </tr>\n",
       "    <tr>\n",
       "      <th>budget</th>\n",
       "      <td>NaN</td>\n",
       "      <td>NaN</td>\n",
       "      <td>NaN</td>\n",
       "    </tr>\n",
       "    <tr>\n",
       "      <th>financing_source</th>\n",
       "      <td>NaN</td>\n",
       "      <td>NaN</td>\n",
       "      <td>NaN</td>\n",
       "    </tr>\n",
       "    <tr>\n",
       "      <th>ratings</th>\n",
       "      <td>NaN</td>\n",
       "      <td>8.2</td>\n",
       "      <td>7.8</td>\n",
       "    </tr>\n",
       "    <tr>\n",
       "      <th>genres</th>\n",
       "      <td>NaN</td>\n",
       "      <td>фэнтези,ужасы,триллер</td>\n",
       "      <td>драма,биография,история</td>\n",
       "    </tr>\n",
       "    <tr>\n",
       "      <th>box_office</th>\n",
       "      <td>1660.0</td>\n",
       "      <td>1492792.0</td>\n",
       "      <td>NaN</td>\n",
       "    </tr>\n",
       "  </tbody>\n",
       "</table>\n",
       "</div>"
      ],
      "text/plain": [
       "                                                  2552  \\\n",
       "title                                         Везучая.   \n",
       "puNumber                                     111006815   \n",
       "show_start_date               2015-04-23T12:00:00.000Z   \n",
       "type                                    Художественный   \n",
       "film_studio                      Киностудия \"Мосфильм\"   \n",
       "production_country                                СССР   \n",
       "director                                     О.Ремизов   \n",
       "producer                                           NaN   \n",
       "age_restriction        «12+» - для детей старше 12 лет   \n",
       "refundable_support                                 NaN   \n",
       "nonrefundable_support                              NaN   \n",
       "budget                                             NaN   \n",
       "financing_source                                   NaN   \n",
       "ratings                                            NaN   \n",
       "genres                                             NaN   \n",
       "box_office                                      1660.0   \n",
       "\n",
       "                                                                  6831  \\\n",
       "title                                               Сверхъестественное   \n",
       "puNumber                                                     121006219   \n",
       "show_start_date                               2019-04-11T12:00:00.000Z   \n",
       "type                                                    Художественный   \n",
       "film_studio            Оддфеллоуз Дистрибьюшен Инк., Муви Трейлер Хаус   \n",
       "production_country                                              Канада   \n",
       "director                                                 Джейсон Стоун   \n",
       "producer                     Майкл Бейкер, Крис Фергюсон, Арон Барнетт   \n",
       "age_restriction                        «16+» - для детей старше 16 лет   \n",
       "refundable_support                                                 NaN   \n",
       "nonrefundable_support                                              NaN   \n",
       "budget                                                             NaN   \n",
       "financing_source                                                   NaN   \n",
       "ratings                                                            8.2   \n",
       "genres                                           фэнтези,ужасы,триллер   \n",
       "box_office                                                   1492792.0   \n",
       "\n",
       "                                                                 3304  \n",
       "title                                                        Мухаммад  \n",
       "puNumber                                                    121031416  \n",
       "show_start_date                              2016-11-25T12:00:00.000Z  \n",
       "type                                                   Художественный  \n",
       "film_studio                                               Нур и Табан  \n",
       "production_country                                               Иран  \n",
       "director                                               Маджид Маджиди  \n",
       "producer               Мохаммед Махди Хейдариан, Мохаммед Реза Сабери  \n",
       "age_restriction                       «16+» - для детей старше 16 лет  \n",
       "refundable_support                                                NaN  \n",
       "nonrefundable_support                                             NaN  \n",
       "budget                                                            NaN  \n",
       "financing_source                                                  NaN  \n",
       "ratings                                                           7.8  \n",
       "genres                                        драма,биография,история  \n",
       "box_office                                                        NaN  "
      ]
     },
     "execution_count": 11,
     "metadata": {},
     "output_type": "execute_result"
    }
   ],
   "source": [
    "data.sample(n=3, random_state=2).T"
   ]
  },
  {
   "cell_type": "code",
   "execution_count": 12,
   "metadata": {},
   "outputs": [
    {
     "name": "stdout",
     "output_type": "stream",
     "text": [
      "<class 'pandas.core.frame.DataFrame'>\n",
      "Int64Index: 7486 entries, 0 to 7485\n",
      "Data columns (total 16 columns):\n",
      " #   Column                 Non-Null Count  Dtype  \n",
      "---  ------                 --------------  -----  \n",
      " 0   title                  7486 non-null   object \n",
      " 1   puNumber               7486 non-null   int64  \n",
      " 2   show_start_date        7486 non-null   object \n",
      " 3   type                   7486 non-null   object \n",
      " 4   film_studio            7468 non-null   object \n",
      " 5   production_country     7484 non-null   object \n",
      " 6   director               7477 non-null   object \n",
      " 7   producer               6918 non-null   object \n",
      " 8   age_restriction        7486 non-null   object \n",
      " 9   refundable_support     332 non-null    float64\n",
      " 10  nonrefundable_support  332 non-null    float64\n",
      " 11  budget                 332 non-null    float64\n",
      " 12  financing_source       332 non-null    object \n",
      " 13  ratings                6519 non-null   object \n",
      " 14  genres                 6510 non-null   object \n",
      " 15  box_office             3158 non-null   float64\n",
      "dtypes: float64(4), int64(1), object(11)\n",
      "memory usage: 994.2+ KB\n"
     ]
    }
   ],
   "source": [
    "data.info()"
   ]
  },
  {
   "cell_type": "markdown",
   "metadata": {},
   "source": [
    "В итоговой таблице 16 столбцов. Типы данных: `float64`, `object`, `int64`.\n",
    "Присутствует нарушение стиля в названии столбцов. \n",
    "Количество значений в столбцах различается, следовательно в данных есть пропущенные значения."
   ]
  },
  {
   "cell_type": "markdown",
   "metadata": {},
   "source": [
    "**Вывод**"
   ]
  },
  {
   "cell_type": "markdown",
   "metadata": {},
   "source": [
    "Набор данных содержит информацию о прокатных удостоверениях, сборах и государственной поддержке фильмов, а также информацию с сайта КиноПоиск. Предварительно можно говорить о достаточности данных для исследования.\n",
    "\n",
    "В самих данных присутствуют пропущенные значения и нарушения стиля в названии столбцов. Для дальнейшей работы требуется дополнительная обработка. "
   ]
  },
  {
   "cell_type": "markdown",
   "metadata": {
    "id": "KLDGpPG0gFyM"
   },
   "source": [
    "### Шаг 2. Предобработка данных"
   ]
  },
  {
   "cell_type": "markdown",
   "metadata": {
    "id": "ssWwKXsxgFyO"
   },
   "source": [
    "#### Стиль заголовков"
   ]
  },
  {
   "cell_type": "markdown",
   "metadata": {
    "id": "kVGSplJOgFyO"
   },
   "source": [
    "Выведем на экран названия столбцов:"
   ]
  },
  {
   "cell_type": "code",
   "execution_count": 13,
   "metadata": {},
   "outputs": [
    {
     "data": {
      "text/plain": [
       "Index(['title', 'puNumber', 'show_start_date', 'type', 'film_studio',\n",
       "       'production_country', 'director', 'producer', 'age_restriction',\n",
       "       'refundable_support', 'nonrefundable_support', 'budget',\n",
       "       'financing_source', 'ratings', 'genres', 'box_office'],\n",
       "      dtype='object')"
      ]
     },
     "execution_count": 13,
     "metadata": {},
     "output_type": "execute_result"
    }
   ],
   "source": [
    "data.columns"
   ]
  },
  {
   "cell_type": "markdown",
   "metadata": {},
   "source": [
    "Приведем названия в соответствие с хорошим стилем: \n",
    "* несколько слов в названии запишите в «змеином_регистре»,\n",
    "* все символы сделайте строчными.\n",
    "\n",
    "Для этого переименуем колонки так:\n",
    "* `'puNumber'` → `'pu_number'`"
   ]
  },
  {
   "cell_type": "code",
   "execution_count": 14,
   "metadata": {},
   "outputs": [],
   "source": [
    "data = data.rename(columns={'puNumber':'pu_number'})"
   ]
  },
  {
   "cell_type": "markdown",
   "metadata": {},
   "source": [
    "Проверим результат."
   ]
  },
  {
   "cell_type": "code",
   "execution_count": 15,
   "metadata": {},
   "outputs": [
    {
     "data": {
      "text/plain": [
       "Index(['title', 'pu_number', 'show_start_date', 'type', 'film_studio',\n",
       "       'production_country', 'director', 'producer', 'age_restriction',\n",
       "       'refundable_support', 'nonrefundable_support', 'budget',\n",
       "       'financing_source', 'ratings', 'genres', 'box_office'],\n",
       "      dtype='object')"
      ]
     },
     "execution_count": 15,
     "metadata": {},
     "output_type": "execute_result"
    }
   ],
   "source": [
    "data.columns"
   ]
  },
  {
   "cell_type": "markdown",
   "metadata": {},
   "source": [
    "#### Обработка пропусков"
   ]
  },
  {
   "cell_type": "code",
   "execution_count": 16,
   "metadata": {
    "scrolled": true
   },
   "outputs": [
    {
     "data": {
      "text/html": [
       "<div>\n",
       "<style scoped>\n",
       "    .dataframe tbody tr th:only-of-type {\n",
       "        vertical-align: middle;\n",
       "    }\n",
       "\n",
       "    .dataframe tbody tr th {\n",
       "        vertical-align: top;\n",
       "    }\n",
       "\n",
       "    .dataframe thead th {\n",
       "        text-align: right;\n",
       "    }\n",
       "</style>\n",
       "<table border=\"1\" class=\"dataframe\">\n",
       "  <thead>\n",
       "    <tr style=\"text-align: right;\">\n",
       "      <th></th>\n",
       "      <th>index</th>\n",
       "      <th>percent_NaN</th>\n",
       "      <th>count_NaN</th>\n",
       "    </tr>\n",
       "  </thead>\n",
       "  <tbody>\n",
       "    <tr>\n",
       "      <th>0</th>\n",
       "      <td>title</td>\n",
       "      <td>0.000000</td>\n",
       "      <td>0</td>\n",
       "    </tr>\n",
       "    <tr>\n",
       "      <th>1</th>\n",
       "      <td>pu_number</td>\n",
       "      <td>0.000000</td>\n",
       "      <td>0</td>\n",
       "    </tr>\n",
       "    <tr>\n",
       "      <th>2</th>\n",
       "      <td>show_start_date</td>\n",
       "      <td>0.000000</td>\n",
       "      <td>0</td>\n",
       "    </tr>\n",
       "    <tr>\n",
       "      <th>3</th>\n",
       "      <td>type</td>\n",
       "      <td>0.000000</td>\n",
       "      <td>0</td>\n",
       "    </tr>\n",
       "    <tr>\n",
       "      <th>4</th>\n",
       "      <td>film_studio</td>\n",
       "      <td>0.002404</td>\n",
       "      <td>18</td>\n",
       "    </tr>\n",
       "    <tr>\n",
       "      <th>5</th>\n",
       "      <td>production_country</td>\n",
       "      <td>0.000267</td>\n",
       "      <td>2</td>\n",
       "    </tr>\n",
       "    <tr>\n",
       "      <th>6</th>\n",
       "      <td>director</td>\n",
       "      <td>0.001202</td>\n",
       "      <td>9</td>\n",
       "    </tr>\n",
       "    <tr>\n",
       "      <th>7</th>\n",
       "      <td>producer</td>\n",
       "      <td>0.075875</td>\n",
       "      <td>568</td>\n",
       "    </tr>\n",
       "    <tr>\n",
       "      <th>8</th>\n",
       "      <td>age_restriction</td>\n",
       "      <td>0.000000</td>\n",
       "      <td>0</td>\n",
       "    </tr>\n",
       "    <tr>\n",
       "      <th>9</th>\n",
       "      <td>refundable_support</td>\n",
       "      <td>0.955651</td>\n",
       "      <td>7154</td>\n",
       "    </tr>\n",
       "    <tr>\n",
       "      <th>10</th>\n",
       "      <td>nonrefundable_support</td>\n",
       "      <td>0.955651</td>\n",
       "      <td>7154</td>\n",
       "    </tr>\n",
       "    <tr>\n",
       "      <th>11</th>\n",
       "      <td>budget</td>\n",
       "      <td>0.955651</td>\n",
       "      <td>7154</td>\n",
       "    </tr>\n",
       "    <tr>\n",
       "      <th>12</th>\n",
       "      <td>financing_source</td>\n",
       "      <td>0.955651</td>\n",
       "      <td>7154</td>\n",
       "    </tr>\n",
       "    <tr>\n",
       "      <th>13</th>\n",
       "      <td>ratings</td>\n",
       "      <td>0.129174</td>\n",
       "      <td>967</td>\n",
       "    </tr>\n",
       "    <tr>\n",
       "      <th>14</th>\n",
       "      <td>genres</td>\n",
       "      <td>0.130377</td>\n",
       "      <td>976</td>\n",
       "    </tr>\n",
       "    <tr>\n",
       "      <th>15</th>\n",
       "      <td>box_office</td>\n",
       "      <td>0.578146</td>\n",
       "      <td>4328</td>\n",
       "    </tr>\n",
       "  </tbody>\n",
       "</table>\n",
       "</div>"
      ],
      "text/plain": [
       "                    index  percent_NaN  count_NaN\n",
       "0                   title     0.000000          0\n",
       "1               pu_number     0.000000          0\n",
       "2         show_start_date     0.000000          0\n",
       "3                    type     0.000000          0\n",
       "4             film_studio     0.002404         18\n",
       "5      production_country     0.000267          2\n",
       "6                director     0.001202          9\n",
       "7                producer     0.075875        568\n",
       "8         age_restriction     0.000000          0\n",
       "9      refundable_support     0.955651       7154\n",
       "10  nonrefundable_support     0.955651       7154\n",
       "11                 budget     0.955651       7154\n",
       "12       financing_source     0.955651       7154\n",
       "13                ratings     0.129174        967\n",
       "14                 genres     0.130377        976\n",
       "15             box_office     0.578146       4328"
      ]
     },
     "execution_count": 16,
     "metadata": {},
     "output_type": "execute_result"
    }
   ],
   "source": [
    "pd.concat(\n",
    "    [\n",
    "        data.isna().mean().reset_index().rename(columns={0:'percent_NaN'}),\n",
    "        data.isna().sum().reset_index().rename(columns={0:'count_NaN'})['count_NaN']\n",
    "    ],\n",
    "    axis=1\n",
    ")"
   ]
  },
  {
   "cell_type": "markdown",
   "metadata": {},
   "source": [
    "`film_studio`"
   ]
  },
  {
   "cell_type": "code",
   "execution_count": 17,
   "metadata": {},
   "outputs": [
    {
     "data": {
      "text/plain": [
       "18"
      ]
     },
     "execution_count": 17,
     "metadata": {},
     "output_type": "execute_result"
    }
   ],
   "source": [
    "data['film_studio'].isnull().sum()"
   ]
  },
  {
   "cell_type": "markdown",
   "metadata": {},
   "source": [
    "Доля пропусков составляет 0,24% от выборки."
   ]
  },
  {
   "cell_type": "code",
   "execution_count": 18,
   "metadata": {},
   "outputs": [
    {
     "data": {
      "text/html": [
       "<div>\n",
       "<style scoped>\n",
       "    .dataframe tbody tr th:only-of-type {\n",
       "        vertical-align: middle;\n",
       "    }\n",
       "\n",
       "    .dataframe tbody tr th {\n",
       "        vertical-align: top;\n",
       "    }\n",
       "\n",
       "    .dataframe thead th {\n",
       "        text-align: right;\n",
       "    }\n",
       "</style>\n",
       "<table border=\"1\" class=\"dataframe\">\n",
       "  <thead>\n",
       "    <tr style=\"text-align: right;\">\n",
       "      <th></th>\n",
       "      <th>title</th>\n",
       "      <th>pu_number</th>\n",
       "      <th>show_start_date</th>\n",
       "      <th>type</th>\n",
       "      <th>film_studio</th>\n",
       "      <th>production_country</th>\n",
       "      <th>director</th>\n",
       "      <th>producer</th>\n",
       "      <th>age_restriction</th>\n",
       "      <th>refundable_support</th>\n",
       "      <th>nonrefundable_support</th>\n",
       "      <th>budget</th>\n",
       "      <th>financing_source</th>\n",
       "      <th>ratings</th>\n",
       "      <th>genres</th>\n",
       "      <th>box_office</th>\n",
       "    </tr>\n",
       "  </thead>\n",
       "  <tbody>\n",
       "    <tr>\n",
       "      <th>1293</th>\n",
       "      <td>Stars in Shorts</td>\n",
       "      <td>121011114</td>\n",
       "      <td>2014-06-03T12:00:00.000Z</td>\n",
       "      <td>Художественный</td>\n",
       "      <td>NaN</td>\n",
       "      <td>США, Великобритания</td>\n",
       "      <td>Роберт Фестингер, Руперт Френд, Джей Камен, Ни...</td>\n",
       "      <td>Татьяна Келли, Роберта Мунро, Руперт Френд, До...</td>\n",
       "      <td>«16+» - для детей старше 16 лет</td>\n",
       "      <td>NaN</td>\n",
       "      <td>NaN</td>\n",
       "      <td>NaN</td>\n",
       "      <td>NaN</td>\n",
       "      <td>7.3</td>\n",
       "      <td>комедия</td>\n",
       "      <td>NaN</td>\n",
       "    </tr>\n",
       "    <tr>\n",
       "      <th>4441</th>\n",
       "      <td>Мульт личности. Выпуск 5</td>\n",
       "      <td>214000410</td>\n",
       "      <td>2010-01-25T12:00:00.000Z</td>\n",
       "      <td>Художественный</td>\n",
       "      <td>NaN</td>\n",
       "      <td>NaN</td>\n",
       "      <td>NaN</td>\n",
       "      <td>NaN</td>\n",
       "      <td>«0+» - для любой зрительской аудитории</td>\n",
       "      <td>NaN</td>\n",
       "      <td>NaN</td>\n",
       "      <td>NaN</td>\n",
       "      <td>NaN</td>\n",
       "      <td>4.0</td>\n",
       "      <td>мультфильм,комедия</td>\n",
       "      <td>NaN</td>\n",
       "    </tr>\n",
       "    <tr>\n",
       "      <th>6105</th>\n",
       "      <td>Значит любит</td>\n",
       "      <td>111013818</td>\n",
       "      <td>2018-08-10T12:00:00.000Z</td>\n",
       "      <td>Художественный</td>\n",
       "      <td>NaN</td>\n",
       "      <td>Россия</td>\n",
       "      <td>А.Краевский</td>\n",
       "      <td>Е.Щербакова</td>\n",
       "      <td>«18+» - запрещено для детей</td>\n",
       "      <td>NaN</td>\n",
       "      <td>NaN</td>\n",
       "      <td>NaN</td>\n",
       "      <td>NaN</td>\n",
       "      <td>NaN</td>\n",
       "      <td>NaN</td>\n",
       "      <td>NaN</td>\n",
       "    </tr>\n",
       "  </tbody>\n",
       "</table>\n",
       "</div>"
      ],
      "text/plain": [
       "                         title  pu_number           show_start_date  \\\n",
       "1293           Stars in Shorts  121011114  2014-06-03T12:00:00.000Z   \n",
       "4441  Мульт личности. Выпуск 5  214000410  2010-01-25T12:00:00.000Z   \n",
       "6105              Значит любит  111013818  2018-08-10T12:00:00.000Z   \n",
       "\n",
       "                 type film_studio   production_country  \\\n",
       "1293   Художественный         NaN  США, Великобритания   \n",
       "4441   Художественный         NaN                  NaN   \n",
       "6105   Художественный         NaN               Россия   \n",
       "\n",
       "                                               director  \\\n",
       "1293  Роберт Фестингер, Руперт Френд, Джей Камен, Ни...   \n",
       "4441                                                NaN   \n",
       "6105                                        А.Краевский   \n",
       "\n",
       "                                               producer  \\\n",
       "1293  Татьяна Келли, Роберта Мунро, Руперт Френд, До...   \n",
       "4441                                                NaN   \n",
       "6105                                        Е.Щербакова   \n",
       "\n",
       "                             age_restriction  refundable_support  \\\n",
       "1293         «16+» - для детей старше 16 лет                 NaN   \n",
       "4441  «0+» - для любой зрительской аудитории                 NaN   \n",
       "6105             «18+» - запрещено для детей                 NaN   \n",
       "\n",
       "      nonrefundable_support  budget financing_source ratings  \\\n",
       "1293                    NaN     NaN              NaN     7.3   \n",
       "4441                    NaN     NaN              NaN     4.0   \n",
       "6105                    NaN     NaN              NaN     NaN   \n",
       "\n",
       "                  genres  box_office  \n",
       "1293             комедия         NaN  \n",
       "4441  мультфильм,комедия         NaN  \n",
       "6105                 NaN         NaN  "
      ]
     },
     "execution_count": 18,
     "metadata": {},
     "output_type": "execute_result"
    }
   ],
   "source": [
    "data[data['film_studio'].isna()].head(3)"
   ]
  },
  {
   "cell_type": "markdown",
   "metadata": {},
   "source": [
    "Проверим уникальность записи по фильму 'Stars in Shorts'. Возможно, информация есть в дубликатах. \n",
    "Обратим также внимание, что информация о рейтинге Кинопоиска по фильму присутствует."
   ]
  },
  {
   "cell_type": "code",
   "execution_count": 19,
   "metadata": {},
   "outputs": [
    {
     "data": {
      "text/html": [
       "<div>\n",
       "<style scoped>\n",
       "    .dataframe tbody tr th:only-of-type {\n",
       "        vertical-align: middle;\n",
       "    }\n",
       "\n",
       "    .dataframe tbody tr th {\n",
       "        vertical-align: top;\n",
       "    }\n",
       "\n",
       "    .dataframe thead th {\n",
       "        text-align: right;\n",
       "    }\n",
       "</style>\n",
       "<table border=\"1\" class=\"dataframe\">\n",
       "  <thead>\n",
       "    <tr style=\"text-align: right;\">\n",
       "      <th></th>\n",
       "      <th>title</th>\n",
       "      <th>pu_number</th>\n",
       "      <th>show_start_date</th>\n",
       "      <th>type</th>\n",
       "      <th>film_studio</th>\n",
       "      <th>production_country</th>\n",
       "      <th>director</th>\n",
       "      <th>producer</th>\n",
       "      <th>age_restriction</th>\n",
       "      <th>refundable_support</th>\n",
       "      <th>nonrefundable_support</th>\n",
       "      <th>budget</th>\n",
       "      <th>financing_source</th>\n",
       "      <th>ratings</th>\n",
       "      <th>genres</th>\n",
       "      <th>box_office</th>\n",
       "    </tr>\n",
       "  </thead>\n",
       "  <tbody>\n",
       "    <tr>\n",
       "      <th>1293</th>\n",
       "      <td>Stars in Shorts</td>\n",
       "      <td>121011114</td>\n",
       "      <td>2014-06-03T12:00:00.000Z</td>\n",
       "      <td>Художественный</td>\n",
       "      <td>NaN</td>\n",
       "      <td>США, Великобритания</td>\n",
       "      <td>Роберт Фестингер, Руперт Френд, Джей Камен, Ни...</td>\n",
       "      <td>Татьяна Келли, Роберта Мунро, Руперт Френд, До...</td>\n",
       "      <td>«16+» - для детей старше 16 лет</td>\n",
       "      <td>NaN</td>\n",
       "      <td>NaN</td>\n",
       "      <td>NaN</td>\n",
       "      <td>NaN</td>\n",
       "      <td>7.3</td>\n",
       "      <td>комедия</td>\n",
       "      <td>NaN</td>\n",
       "    </tr>\n",
       "  </tbody>\n",
       "</table>\n",
       "</div>"
      ],
      "text/plain": [
       "                title  pu_number           show_start_date            type  \\\n",
       "1293  Stars in Shorts  121011114  2014-06-03T12:00:00.000Z  Художественный   \n",
       "\n",
       "     film_studio   production_country  \\\n",
       "1293         NaN  США, Великобритания   \n",
       "\n",
       "                                               director  \\\n",
       "1293  Роберт Фестингер, Руперт Френд, Джей Камен, Ни...   \n",
       "\n",
       "                                               producer  \\\n",
       "1293  Татьяна Келли, Роберта Мунро, Руперт Френд, До...   \n",
       "\n",
       "                      age_restriction  refundable_support  \\\n",
       "1293  «16+» - для детей старше 16 лет                 NaN   \n",
       "\n",
       "      nonrefundable_support  budget financing_source ratings   genres  \\\n",
       "1293                    NaN     NaN              NaN     7.3  комедия   \n",
       "\n",
       "      box_office  \n",
       "1293         NaN  "
      ]
     },
     "execution_count": 19,
     "metadata": {},
     "output_type": "execute_result"
    }
   ],
   "source": [
    "data.query('title == \"Stars in Shorts\"')"
   ]
  },
  {
   "cell_type": "markdown",
   "metadata": {},
   "source": [
    "Гипотеза не подтвердилось.\n",
    "Проверим по прокатному удостоверению есть ли информация о студии по этому фильму на сайте Минкультуры. Такой информации нет, что при выгрузке дало NaN. Интересно было бы узнать откуда данные о фильмах подгружает сайт Минкультуры.\n",
    "\n",
    "Заменим пропуски значением `'unknown'`."
   ]
  },
  {
   "cell_type": "code",
   "execution_count": 20,
   "metadata": {},
   "outputs": [],
   "source": [
    "data['film_studio'] = data['film_studio'].fillna('unknown') "
   ]
  },
  {
   "cell_type": "markdown",
   "metadata": {},
   "source": [
    "Проверим изменения."
   ]
  },
  {
   "cell_type": "code",
   "execution_count": 21,
   "metadata": {},
   "outputs": [
    {
     "data": {
      "text/plain": [
       "0"
      ]
     },
     "execution_count": 21,
     "metadata": {},
     "output_type": "execute_result"
    }
   ],
   "source": [
    "data['film_studio'].isnull().sum()"
   ]
  },
  {
   "cell_type": "markdown",
   "metadata": {},
   "source": [
    "`production_country`"
   ]
  },
  {
   "cell_type": "code",
   "execution_count": 22,
   "metadata": {},
   "outputs": [
    {
     "data": {
      "text/plain": [
       "2"
      ]
     },
     "execution_count": 22,
     "metadata": {},
     "output_type": "execute_result"
    }
   ],
   "source": [
    "data['production_country'].isnull().sum()"
   ]
  },
  {
   "cell_type": "markdown",
   "metadata": {},
   "source": [
    "Доля пропусков составляет 0,03% от выборки."
   ]
  },
  {
   "cell_type": "code",
   "execution_count": 23,
   "metadata": {},
   "outputs": [
    {
     "data": {
      "text/html": [
       "<div>\n",
       "<style scoped>\n",
       "    .dataframe tbody tr th:only-of-type {\n",
       "        vertical-align: middle;\n",
       "    }\n",
       "\n",
       "    .dataframe tbody tr th {\n",
       "        vertical-align: top;\n",
       "    }\n",
       "\n",
       "    .dataframe thead th {\n",
       "        text-align: right;\n",
       "    }\n",
       "</style>\n",
       "<table border=\"1\" class=\"dataframe\">\n",
       "  <thead>\n",
       "    <tr style=\"text-align: right;\">\n",
       "      <th></th>\n",
       "      <th>3186</th>\n",
       "      <th>4441</th>\n",
       "    </tr>\n",
       "  </thead>\n",
       "  <tbody>\n",
       "    <tr>\n",
       "      <th>title</th>\n",
       "      <td>Детский юмористический киножурнал \"Ералаш. Ну ...</td>\n",
       "      <td>Мульт личности. Выпуск 5</td>\n",
       "    </tr>\n",
       "    <tr>\n",
       "      <th>pu_number</th>\n",
       "      <td>111001216</td>\n",
       "      <td>214000410</td>\n",
       "    </tr>\n",
       "    <tr>\n",
       "      <th>show_start_date</th>\n",
       "      <td>2016-02-09T12:00:00.000Z</td>\n",
       "      <td>2010-01-25T12:00:00.000Z</td>\n",
       "    </tr>\n",
       "    <tr>\n",
       "      <th>type</th>\n",
       "      <td>Художественный</td>\n",
       "      <td>Художественный</td>\n",
       "    </tr>\n",
       "    <tr>\n",
       "      <th>film_studio</th>\n",
       "      <td>ООО \"Продюсерский центр ЕРАЛАШ\"</td>\n",
       "      <td>unknown</td>\n",
       "    </tr>\n",
       "    <tr>\n",
       "      <th>production_country</th>\n",
       "      <td>NaN</td>\n",
       "      <td>NaN</td>\n",
       "    </tr>\n",
       "    <tr>\n",
       "      <th>director</th>\n",
       "      <td>Р.Светлов, И.Магитон, А.Арутюнян, Л.Мирский, А...</td>\n",
       "      <td>NaN</td>\n",
       "    </tr>\n",
       "    <tr>\n",
       "      <th>producer</th>\n",
       "      <td>ООО \"Продюсерский центр ЕРАЛАШ\"</td>\n",
       "      <td>NaN</td>\n",
       "    </tr>\n",
       "    <tr>\n",
       "      <th>age_restriction</th>\n",
       "      <td>«0+» - для любой зрительской аудитории</td>\n",
       "      <td>«0+» - для любой зрительской аудитории</td>\n",
       "    </tr>\n",
       "    <tr>\n",
       "      <th>refundable_support</th>\n",
       "      <td>NaN</td>\n",
       "      <td>NaN</td>\n",
       "    </tr>\n",
       "    <tr>\n",
       "      <th>nonrefundable_support</th>\n",
       "      <td>NaN</td>\n",
       "      <td>NaN</td>\n",
       "    </tr>\n",
       "    <tr>\n",
       "      <th>budget</th>\n",
       "      <td>NaN</td>\n",
       "      <td>NaN</td>\n",
       "    </tr>\n",
       "    <tr>\n",
       "      <th>financing_source</th>\n",
       "      <td>NaN</td>\n",
       "      <td>NaN</td>\n",
       "    </tr>\n",
       "    <tr>\n",
       "      <th>ratings</th>\n",
       "      <td>7.2</td>\n",
       "      <td>4.0</td>\n",
       "    </tr>\n",
       "    <tr>\n",
       "      <th>genres</th>\n",
       "      <td>детский,комедия</td>\n",
       "      <td>мультфильм,комедия</td>\n",
       "    </tr>\n",
       "    <tr>\n",
       "      <th>box_office</th>\n",
       "      <td>194527.0</td>\n",
       "      <td>NaN</td>\n",
       "    </tr>\n",
       "  </tbody>\n",
       "</table>\n",
       "</div>"
      ],
      "text/plain": [
       "                                                                    3186  \\\n",
       "title                  Детский юмористический киножурнал \"Ералаш. Ну ...   \n",
       "pu_number                                                      111001216   \n",
       "show_start_date                                 2016-02-09T12:00:00.000Z   \n",
       "type                                                      Художественный   \n",
       "film_studio                              ООО \"Продюсерский центр ЕРАЛАШ\"   \n",
       "production_country                                                   NaN   \n",
       "director               Р.Светлов, И.Магитон, А.Арутюнян, Л.Мирский, А...   \n",
       "producer                                 ООО \"Продюсерский центр ЕРАЛАШ\"   \n",
       "age_restriction                   «0+» - для любой зрительской аудитории   \n",
       "refundable_support                                                   NaN   \n",
       "nonrefundable_support                                                NaN   \n",
       "budget                                                               NaN   \n",
       "financing_source                                                     NaN   \n",
       "ratings                                                              7.2   \n",
       "genres                                                   детский,комедия   \n",
       "box_office                                                      194527.0   \n",
       "\n",
       "                                                         4441  \n",
       "title                                Мульт личности. Выпуск 5  \n",
       "pu_number                                           214000410  \n",
       "show_start_date                      2010-01-25T12:00:00.000Z  \n",
       "type                                           Художественный  \n",
       "film_studio                                           unknown  \n",
       "production_country                                        NaN  \n",
       "director                                                  NaN  \n",
       "producer                                                  NaN  \n",
       "age_restriction        «0+» - для любой зрительской аудитории  \n",
       "refundable_support                                        NaN  \n",
       "nonrefundable_support                                     NaN  \n",
       "budget                                                    NaN  \n",
       "financing_source                                          NaN  \n",
       "ratings                                                   4.0  \n",
       "genres                                     мультфильм,комедия  \n",
       "box_office                                                NaN  "
      ]
     },
     "execution_count": 23,
     "metadata": {},
     "output_type": "execute_result"
    }
   ],
   "source": [
    "data[data['production_country'].isna()].head().T"
   ]
  },
  {
   "cell_type": "markdown",
   "metadata": {},
   "source": [
    "Заменим пропуски в ручном режиме, узнав информацию на Кинопоиске. "
   ]
  },
  {
   "cell_type": "code",
   "execution_count": 24,
   "metadata": {},
   "outputs": [],
   "source": [
    "data['production_country'] = data['production_country'].fillna('Россия') "
   ]
  },
  {
   "cell_type": "markdown",
   "metadata": {},
   "source": [
    "Проверим изменения."
   ]
  },
  {
   "cell_type": "code",
   "execution_count": 25,
   "metadata": {},
   "outputs": [
    {
     "data": {
      "text/plain": [
       "0"
      ]
     },
     "execution_count": 25,
     "metadata": {},
     "output_type": "execute_result"
    }
   ],
   "source": [
    "data['production_country'].isnull().sum()"
   ]
  },
  {
   "cell_type": "markdown",
   "metadata": {},
   "source": [
    "`director`"
   ]
  },
  {
   "cell_type": "code",
   "execution_count": 26,
   "metadata": {},
   "outputs": [
    {
     "data": {
      "text/plain": [
       "9"
      ]
     },
     "execution_count": 26,
     "metadata": {},
     "output_type": "execute_result"
    }
   ],
   "source": [
    "data['director'].isnull().sum()"
   ]
  },
  {
   "cell_type": "markdown",
   "metadata": {},
   "source": [
    "Доля пропусков составляет 0,12% от выборки."
   ]
  },
  {
   "cell_type": "code",
   "execution_count": 27,
   "metadata": {},
   "outputs": [
    {
     "data": {
      "text/html": [
       "<div>\n",
       "<style scoped>\n",
       "    .dataframe tbody tr th:only-of-type {\n",
       "        vertical-align: middle;\n",
       "    }\n",
       "\n",
       "    .dataframe tbody tr th {\n",
       "        vertical-align: top;\n",
       "    }\n",
       "\n",
       "    .dataframe thead th {\n",
       "        text-align: right;\n",
       "    }\n",
       "</style>\n",
       "<table border=\"1\" class=\"dataframe\">\n",
       "  <thead>\n",
       "    <tr style=\"text-align: right;\">\n",
       "      <th></th>\n",
       "      <th>764</th>\n",
       "      <th>1735</th>\n",
       "      <th>3840</th>\n",
       "      <th>4052</th>\n",
       "      <th>4298</th>\n",
       "      <th>4415</th>\n",
       "      <th>4441</th>\n",
       "      <th>4923</th>\n",
       "      <th>4942</th>\n",
       "    </tr>\n",
       "  </thead>\n",
       "  <tbody>\n",
       "    <tr>\n",
       "      <th>title</th>\n",
       "      <td>Три звезды. Концерт в Waldbuhne Theater, Берли...</td>\n",
       "      <td>Помпеи. Британский музей</td>\n",
       "      <td>Зур концерт (Большой концерт).</td>\n",
       "      <td>Ганс Сэйфуллин \"Авылым чишмэлэре. Ганс Сэйфулл...</td>\n",
       "      <td>Изге Вэли (Святой Валентин)</td>\n",
       "      <td>Bon Jovi. The Circle Tour</td>\n",
       "      <td>Мульт личности. Выпуск 5</td>\n",
       "      <td>Георг Фридрих Гендель. Мессия. Оратория. Корол...</td>\n",
       "      <td>Питер Гэбриэл и New Blood Orchestra 3D</td>\n",
       "    </tr>\n",
       "    <tr>\n",
       "      <th>pu_number</th>\n",
       "      <td>126003512</td>\n",
       "      <td>126003413</td>\n",
       "      <td>217027010</td>\n",
       "      <td>217017310</td>\n",
       "      <td>217020610</td>\n",
       "      <td>126001710</td>\n",
       "      <td>214000410</td>\n",
       "      <td>126001111</td>\n",
       "      <td>126002711</td>\n",
       "    </tr>\n",
       "    <tr>\n",
       "      <th>show_start_date</th>\n",
       "      <td>2012-12-04T12:00:00.000Z</td>\n",
       "      <td>2013-09-11T12:00:00.000Z</td>\n",
       "      <td>2010-06-24T12:00:00.000Z</td>\n",
       "      <td>2010-04-22T12:00:00.000Z</td>\n",
       "      <td>2010-05-20T12:00:00.000Z</td>\n",
       "      <td>2010-11-11T12:00:00.000Z</td>\n",
       "      <td>2010-01-25T12:00:00.000Z</td>\n",
       "      <td>2011-04-25T12:00:00.000Z</td>\n",
       "      <td>2011-11-11T12:00:00.000Z</td>\n",
       "    </tr>\n",
       "    <tr>\n",
       "      <th>type</th>\n",
       "      <td>Прочие</td>\n",
       "      <td>Прочие</td>\n",
       "      <td>Художественный</td>\n",
       "      <td>Художественный</td>\n",
       "      <td>Художественный</td>\n",
       "      <td>Прочие</td>\n",
       "      <td>Художественный</td>\n",
       "      <td>Прочие</td>\n",
       "      <td>Прочие</td>\n",
       "    </tr>\n",
       "    <tr>\n",
       "      <th>film_studio</th>\n",
       "      <td>Райзинг Алтернатив</td>\n",
       "      <td>МортуСкрин, Британский музей</td>\n",
       "      <td>ООО \"Барс Рекордс\"</td>\n",
       "      <td>ООО \"Барс-Рекордс\"</td>\n",
       "      <td>ООО \"Барс Рекордс\"</td>\n",
       "      <td>Эншутц Интертейнмент Груп</td>\n",
       "      <td>unknown</td>\n",
       "      <td>Опус Арт</td>\n",
       "      <td>Омниверс Визион</td>\n",
       "    </tr>\n",
       "    <tr>\n",
       "      <th>production_country</th>\n",
       "      <td>Великобритания</td>\n",
       "      <td>Великобритания</td>\n",
       "      <td>Россия</td>\n",
       "      <td>Россия</td>\n",
       "      <td>Россия</td>\n",
       "      <td>США</td>\n",
       "      <td>Россия</td>\n",
       "      <td>Великобритания</td>\n",
       "      <td>Великобритания</td>\n",
       "    </tr>\n",
       "    <tr>\n",
       "      <th>director</th>\n",
       "      <td>NaN</td>\n",
       "      <td>NaN</td>\n",
       "      <td>NaN</td>\n",
       "      <td>NaN</td>\n",
       "      <td>NaN</td>\n",
       "      <td>NaN</td>\n",
       "      <td>NaN</td>\n",
       "      <td>NaN</td>\n",
       "      <td>NaN</td>\n",
       "    </tr>\n",
       "    <tr>\n",
       "      <th>producer</th>\n",
       "      <td>Вальдбюне Театр</td>\n",
       "      <td>Британский музей</td>\n",
       "      <td>NaN</td>\n",
       "      <td>NaN</td>\n",
       "      <td>NaN</td>\n",
       "      <td>Эншутц Интертейнмент Груп</td>\n",
       "      <td>NaN</td>\n",
       "      <td>Короевский колледж Кембриджа</td>\n",
       "      <td>Омниверс Визион</td>\n",
       "    </tr>\n",
       "    <tr>\n",
       "      <th>age_restriction</th>\n",
       "      <td>«0+» - для любой зрительской аудитории</td>\n",
       "      <td>«0+» - для любой зрительской аудитории</td>\n",
       "      <td>«12+» - для детей старше 12 лет</td>\n",
       "      <td>«0+» - для любой зрительской аудитории</td>\n",
       "      <td>«12+» - для детей старше 12 лет</td>\n",
       "      <td>«0+» - для любой зрительской аудитории</td>\n",
       "      <td>«0+» - для любой зрительской аудитории</td>\n",
       "      <td>«0+» - для любой зрительской аудитории</td>\n",
       "      <td>«0+» - для любой зрительской аудитории</td>\n",
       "    </tr>\n",
       "    <tr>\n",
       "      <th>refundable_support</th>\n",
       "      <td>NaN</td>\n",
       "      <td>NaN</td>\n",
       "      <td>NaN</td>\n",
       "      <td>NaN</td>\n",
       "      <td>NaN</td>\n",
       "      <td>NaN</td>\n",
       "      <td>NaN</td>\n",
       "      <td>NaN</td>\n",
       "      <td>NaN</td>\n",
       "    </tr>\n",
       "    <tr>\n",
       "      <th>nonrefundable_support</th>\n",
       "      <td>NaN</td>\n",
       "      <td>NaN</td>\n",
       "      <td>NaN</td>\n",
       "      <td>NaN</td>\n",
       "      <td>NaN</td>\n",
       "      <td>NaN</td>\n",
       "      <td>NaN</td>\n",
       "      <td>NaN</td>\n",
       "      <td>NaN</td>\n",
       "    </tr>\n",
       "    <tr>\n",
       "      <th>budget</th>\n",
       "      <td>NaN</td>\n",
       "      <td>NaN</td>\n",
       "      <td>NaN</td>\n",
       "      <td>NaN</td>\n",
       "      <td>NaN</td>\n",
       "      <td>NaN</td>\n",
       "      <td>NaN</td>\n",
       "      <td>NaN</td>\n",
       "      <td>NaN</td>\n",
       "    </tr>\n",
       "    <tr>\n",
       "      <th>financing_source</th>\n",
       "      <td>NaN</td>\n",
       "      <td>NaN</td>\n",
       "      <td>NaN</td>\n",
       "      <td>NaN</td>\n",
       "      <td>NaN</td>\n",
       "      <td>NaN</td>\n",
       "      <td>NaN</td>\n",
       "      <td>NaN</td>\n",
       "      <td>NaN</td>\n",
       "    </tr>\n",
       "    <tr>\n",
       "      <th>ratings</th>\n",
       "      <td>NaN</td>\n",
       "      <td>NaN</td>\n",
       "      <td>NaN</td>\n",
       "      <td>NaN</td>\n",
       "      <td>NaN</td>\n",
       "      <td>7.9</td>\n",
       "      <td>4.0</td>\n",
       "      <td>NaN</td>\n",
       "      <td>6.7</td>\n",
       "    </tr>\n",
       "    <tr>\n",
       "      <th>genres</th>\n",
       "      <td>NaN</td>\n",
       "      <td>NaN</td>\n",
       "      <td>NaN</td>\n",
       "      <td>NaN</td>\n",
       "      <td>NaN</td>\n",
       "      <td>концерт,музыка</td>\n",
       "      <td>мультфильм,комедия</td>\n",
       "      <td>NaN</td>\n",
       "      <td>концерт,музыка</td>\n",
       "    </tr>\n",
       "    <tr>\n",
       "      <th>box_office</th>\n",
       "      <td>44350.0</td>\n",
       "      <td>NaN</td>\n",
       "      <td>NaN</td>\n",
       "      <td>NaN</td>\n",
       "      <td>NaN</td>\n",
       "      <td>NaN</td>\n",
       "      <td>NaN</td>\n",
       "      <td>NaN</td>\n",
       "      <td>NaN</td>\n",
       "    </tr>\n",
       "  </tbody>\n",
       "</table>\n",
       "</div>"
      ],
      "text/plain": [
       "                                                                    764   \\\n",
       "title                  Три звезды. Концерт в Waldbuhne Theater, Берли...   \n",
       "pu_number                                                      126003512   \n",
       "show_start_date                                 2012-12-04T12:00:00.000Z   \n",
       "type                                                              Прочие   \n",
       "film_studio                                           Райзинг Алтернатив   \n",
       "production_country                                        Великобритания   \n",
       "director                                                             NaN   \n",
       "producer                                                 Вальдбюне Театр   \n",
       "age_restriction                   «0+» - для любой зрительской аудитории   \n",
       "refundable_support                                                   NaN   \n",
       "nonrefundable_support                                                NaN   \n",
       "budget                                                               NaN   \n",
       "financing_source                                                     NaN   \n",
       "ratings                                                              NaN   \n",
       "genres                                                               NaN   \n",
       "box_office                                                       44350.0   \n",
       "\n",
       "                                                         1735  \\\n",
       "title                                Помпеи. Британский музей   \n",
       "pu_number                                           126003413   \n",
       "show_start_date                      2013-09-11T12:00:00.000Z   \n",
       "type                                                   Прочие   \n",
       "film_studio                      МортуСкрин, Британский музей   \n",
       "production_country                             Великобритания   \n",
       "director                                                  NaN   \n",
       "producer                                     Британский музей   \n",
       "age_restriction        «0+» - для любой зрительской аудитории   \n",
       "refundable_support                                        NaN   \n",
       "nonrefundable_support                                     NaN   \n",
       "budget                                                    NaN   \n",
       "financing_source                                          NaN   \n",
       "ratings                                                   NaN   \n",
       "genres                                                    NaN   \n",
       "box_office                                                NaN   \n",
       "\n",
       "                                                  3840  \\\n",
       "title                   Зур концерт (Большой концерт).   \n",
       "pu_number                                    217027010   \n",
       "show_start_date               2010-06-24T12:00:00.000Z   \n",
       "type                                    Художественный   \n",
       "film_studio                         ООО \"Барс Рекордс\"   \n",
       "production_country                              Россия   \n",
       "director                                           NaN   \n",
       "producer                                           NaN   \n",
       "age_restriction        «12+» - для детей старше 12 лет   \n",
       "refundable_support                                 NaN   \n",
       "nonrefundable_support                              NaN   \n",
       "budget                                             NaN   \n",
       "financing_source                                   NaN   \n",
       "ratings                                            NaN   \n",
       "genres                                             NaN   \n",
       "box_office                                         NaN   \n",
       "\n",
       "                                                                    4052  \\\n",
       "title                  Ганс Сэйфуллин \"Авылым чишмэлэре. Ганс Сэйфулл...   \n",
       "pu_number                                                      217017310   \n",
       "show_start_date                                 2010-04-22T12:00:00.000Z   \n",
       "type                                                      Художественный   \n",
       "film_studio                                           ООО \"Барс-Рекордс\"   \n",
       "production_country                                                Россия   \n",
       "director                                                             NaN   \n",
       "producer                                                             NaN   \n",
       "age_restriction                   «0+» - для любой зрительской аудитории   \n",
       "refundable_support                                                   NaN   \n",
       "nonrefundable_support                                                NaN   \n",
       "budget                                                               NaN   \n",
       "financing_source                                                     NaN   \n",
       "ratings                                                              NaN   \n",
       "genres                                                               NaN   \n",
       "box_office                                                           NaN   \n",
       "\n",
       "                                                  4298  \\\n",
       "title                      Изге Вэли (Святой Валентин)   \n",
       "pu_number                                    217020610   \n",
       "show_start_date               2010-05-20T12:00:00.000Z   \n",
       "type                                    Художественный   \n",
       "film_studio                         ООО \"Барс Рекордс\"   \n",
       "production_country                              Россия   \n",
       "director                                           NaN   \n",
       "producer                                           NaN   \n",
       "age_restriction        «12+» - для детей старше 12 лет   \n",
       "refundable_support                                 NaN   \n",
       "nonrefundable_support                              NaN   \n",
       "budget                                             NaN   \n",
       "financing_source                                   NaN   \n",
       "ratings                                            NaN   \n",
       "genres                                             NaN   \n",
       "box_office                                         NaN   \n",
       "\n",
       "                                                         4415  \\\n",
       "title                               Bon Jovi. The Circle Tour   \n",
       "pu_number                                           126001710   \n",
       "show_start_date                      2010-11-11T12:00:00.000Z   \n",
       "type                                                   Прочие   \n",
       "film_studio                         Эншутц Интертейнмент Груп   \n",
       "production_country                                        США   \n",
       "director                                                  NaN   \n",
       "producer                            Эншутц Интертейнмент Груп   \n",
       "age_restriction        «0+» - для любой зрительской аудитории   \n",
       "refundable_support                                        NaN   \n",
       "nonrefundable_support                                     NaN   \n",
       "budget                                                    NaN   \n",
       "financing_source                                          NaN   \n",
       "ratings                                                   7.9   \n",
       "genres                                         концерт,музыка   \n",
       "box_office                                                NaN   \n",
       "\n",
       "                                                         4441  \\\n",
       "title                                Мульт личности. Выпуск 5   \n",
       "pu_number                                           214000410   \n",
       "show_start_date                      2010-01-25T12:00:00.000Z   \n",
       "type                                           Художественный   \n",
       "film_studio                                           unknown   \n",
       "production_country                                     Россия   \n",
       "director                                                  NaN   \n",
       "producer                                                  NaN   \n",
       "age_restriction        «0+» - для любой зрительской аудитории   \n",
       "refundable_support                                        NaN   \n",
       "nonrefundable_support                                     NaN   \n",
       "budget                                                    NaN   \n",
       "financing_source                                          NaN   \n",
       "ratings                                                   4.0   \n",
       "genres                                     мультфильм,комедия   \n",
       "box_office                                                NaN   \n",
       "\n",
       "                                                                    4923  \\\n",
       "title                  Георг Фридрих Гендель. Мессия. Оратория. Корол...   \n",
       "pu_number                                                      126001111   \n",
       "show_start_date                                 2011-04-25T12:00:00.000Z   \n",
       "type                                                              Прочие   \n",
       "film_studio                                                     Опус Арт   \n",
       "production_country                                        Великобритания   \n",
       "director                                                             NaN   \n",
       "producer                                    Короевский колледж Кембриджа   \n",
       "age_restriction                   «0+» - для любой зрительской аудитории   \n",
       "refundable_support                                                   NaN   \n",
       "nonrefundable_support                                                NaN   \n",
       "budget                                                               NaN   \n",
       "financing_source                                                     NaN   \n",
       "ratings                                                              NaN   \n",
       "genres                                                               NaN   \n",
       "box_office                                                           NaN   \n",
       "\n",
       "                                                         4942  \n",
       "title                  Питер Гэбриэл и New Blood Orchestra 3D  \n",
       "pu_number                                           126002711  \n",
       "show_start_date                      2011-11-11T12:00:00.000Z  \n",
       "type                                                   Прочие  \n",
       "film_studio                                   Омниверс Визион  \n",
       "production_country                             Великобритания  \n",
       "director                                                  NaN  \n",
       "producer                                      Омниверс Визион  \n",
       "age_restriction        «0+» - для любой зрительской аудитории  \n",
       "refundable_support                                        NaN  \n",
       "nonrefundable_support                                     NaN  \n",
       "budget                                                    NaN  \n",
       "financing_source                                          NaN  \n",
       "ratings                                                   6.7  \n",
       "genres                                         концерт,музыка  \n",
       "box_office                                                NaN  "
      ]
     },
     "execution_count": 27,
     "metadata": {},
     "output_type": "execute_result"
    }
   ],
   "source": [
    "data[data['director'].isna()].head(9).T"
   ]
  },
  {
   "cell_type": "markdown",
   "metadata": {},
   "source": [
    "Данные подтягиваются с сайта Минкультуры. Вероятно, что все пропуски связаны с отсутствием этих данных на сайте. Выборочная проверка подтверждает эту гипотезу. Заменим пропуски значением `'unknown'`."
   ]
  },
  {
   "cell_type": "code",
   "execution_count": 28,
   "metadata": {},
   "outputs": [],
   "source": [
    "data['director'] = data['director'].fillna('unknown') "
   ]
  },
  {
   "cell_type": "markdown",
   "metadata": {},
   "source": [
    "Проверим изменения."
   ]
  },
  {
   "cell_type": "code",
   "execution_count": 29,
   "metadata": {},
   "outputs": [
    {
     "data": {
      "text/plain": [
       "0"
      ]
     },
     "execution_count": 29,
     "metadata": {},
     "output_type": "execute_result"
    }
   ],
   "source": [
    "data['director'].isnull().sum()"
   ]
  },
  {
   "cell_type": "markdown",
   "metadata": {},
   "source": [
    "`producer`"
   ]
  },
  {
   "cell_type": "code",
   "execution_count": 30,
   "metadata": {},
   "outputs": [
    {
     "data": {
      "text/plain": [
       "568"
      ]
     },
     "execution_count": 30,
     "metadata": {},
     "output_type": "execute_result"
    }
   ],
   "source": [
    "data['producer'].isnull().sum()"
   ]
  },
  {
   "cell_type": "markdown",
   "metadata": {},
   "source": [
    "Доля пропусков составляет 7,59% от выборки."
   ]
  },
  {
   "cell_type": "code",
   "execution_count": 31,
   "metadata": {},
   "outputs": [
    {
     "data": {
      "text/html": [
       "<div>\n",
       "<style scoped>\n",
       "    .dataframe tbody tr th:only-of-type {\n",
       "        vertical-align: middle;\n",
       "    }\n",
       "\n",
       "    .dataframe tbody tr th {\n",
       "        vertical-align: top;\n",
       "    }\n",
       "\n",
       "    .dataframe thead th {\n",
       "        text-align: right;\n",
       "    }\n",
       "</style>\n",
       "<table border=\"1\" class=\"dataframe\">\n",
       "  <thead>\n",
       "    <tr style=\"text-align: right;\">\n",
       "      <th></th>\n",
       "      <th>title</th>\n",
       "      <th>pu_number</th>\n",
       "      <th>show_start_date</th>\n",
       "      <th>type</th>\n",
       "      <th>film_studio</th>\n",
       "      <th>production_country</th>\n",
       "      <th>director</th>\n",
       "      <th>producer</th>\n",
       "      <th>age_restriction</th>\n",
       "      <th>refundable_support</th>\n",
       "      <th>nonrefundable_support</th>\n",
       "      <th>budget</th>\n",
       "      <th>financing_source</th>\n",
       "      <th>ratings</th>\n",
       "      <th>genres</th>\n",
       "      <th>box_office</th>\n",
       "    </tr>\n",
       "  </thead>\n",
       "  <tbody>\n",
       "    <tr>\n",
       "      <th>6028</th>\n",
       "      <td>Полифем, Акид и Галатея</td>\n",
       "      <td>114003118</td>\n",
       "      <td>2018-08-01T12:00:00.000Z</td>\n",
       "      <td>Анимационный</td>\n",
       "      <td>ФГУП \"ТПО \"Киностудия \"Союзмультфильм\"</td>\n",
       "      <td>Россия</td>\n",
       "      <td>А.Петров</td>\n",
       "      <td>NaN</td>\n",
       "      <td>«18+» - запрещено для детей</td>\n",
       "      <td>NaN</td>\n",
       "      <td>NaN</td>\n",
       "      <td>NaN</td>\n",
       "      <td>NaN</td>\n",
       "      <td>6.7</td>\n",
       "      <td>мультфильм,короткометражка</td>\n",
       "      <td>NaN</td>\n",
       "    </tr>\n",
       "    <tr>\n",
       "      <th>2027</th>\n",
       "      <td>До свидания, мальчики!</td>\n",
       "      <td>111028514</td>\n",
       "      <td>2014-12-24T12:00:00.000Z</td>\n",
       "      <td>Художественный</td>\n",
       "      <td>Киностудия \"Мосфильм\"</td>\n",
       "      <td>СССР</td>\n",
       "      <td>М.Калик</td>\n",
       "      <td>NaN</td>\n",
       "      <td>«12+» - для детей старше 12 лет</td>\n",
       "      <td>NaN</td>\n",
       "      <td>NaN</td>\n",
       "      <td>NaN</td>\n",
       "      <td>NaN</td>\n",
       "      <td>7.8</td>\n",
       "      <td>драма</td>\n",
       "      <td>NaN</td>\n",
       "    </tr>\n",
       "    <tr>\n",
       "      <th>4417</th>\n",
       "      <td>Гаэтано Доницетти. Дочь полка. Постановка теат...</td>\n",
       "      <td>126001510</td>\n",
       "      <td>2010-11-11T12:00:00.000Z</td>\n",
       "      <td>Прочие</td>\n",
       "      <td>Опус Арте</td>\n",
       "      <td>Великобритания</td>\n",
       "      <td>Лоран Пелли</td>\n",
       "      <td>NaN</td>\n",
       "      <td>«0+» - для любой зрительской аудитории</td>\n",
       "      <td>NaN</td>\n",
       "      <td>NaN</td>\n",
       "      <td>NaN</td>\n",
       "      <td>NaN</td>\n",
       "      <td>NaN</td>\n",
       "      <td>NaN</td>\n",
       "      <td>NaN</td>\n",
       "    </tr>\n",
       "    <tr>\n",
       "      <th>188</th>\n",
       "      <td>Золотой ключик</td>\n",
       "      <td>111014115</td>\n",
       "      <td>2015-08-25T12:00:00.000Z</td>\n",
       "      <td>Художественный</td>\n",
       "      <td>Киностудия \"Мосфильм\"</td>\n",
       "      <td>СССР</td>\n",
       "      <td>А.Птушко</td>\n",
       "      <td>NaN</td>\n",
       "      <td>«0+» - для любой зрительской аудитории</td>\n",
       "      <td>NaN</td>\n",
       "      <td>NaN</td>\n",
       "      <td>NaN</td>\n",
       "      <td>NaN</td>\n",
       "      <td>7.2</td>\n",
       "      <td>фэнтези,семейный</td>\n",
       "      <td>NaN</td>\n",
       "    </tr>\n",
       "    <tr>\n",
       "      <th>2344</th>\n",
       "      <td>По собственному желанию.</td>\n",
       "      <td>111019714</td>\n",
       "      <td>2014-12-01T12:00:00.000Z</td>\n",
       "      <td>Художественный</td>\n",
       "      <td>Киностудия \"Мосфильм\"</td>\n",
       "      <td>СССР</td>\n",
       "      <td>Э.Гаврилов</td>\n",
       "      <td>NaN</td>\n",
       "      <td>«12+» - для детей старше 12 лет</td>\n",
       "      <td>NaN</td>\n",
       "      <td>NaN</td>\n",
       "      <td>NaN</td>\n",
       "      <td>NaN</td>\n",
       "      <td>7.9</td>\n",
       "      <td>драма,мелодрама,комедия</td>\n",
       "      <td>NaN</td>\n",
       "    </tr>\n",
       "    <tr>\n",
       "      <th>1701</th>\n",
       "      <td>Самогонщики</td>\n",
       "      <td>111008113</td>\n",
       "      <td>2013-10-18T12:00:00.000Z</td>\n",
       "      <td>Художественный</td>\n",
       "      <td>Киностудия \"Мосфильм\"</td>\n",
       "      <td>СССР</td>\n",
       "      <td>Л.Гайдай</td>\n",
       "      <td>NaN</td>\n",
       "      <td>«12+» - для детей старше 12 лет</td>\n",
       "      <td>NaN</td>\n",
       "      <td>NaN</td>\n",
       "      <td>NaN</td>\n",
       "      <td>NaN</td>\n",
       "      <td>8.3</td>\n",
       "      <td>короткометражка,комедия,криминал</td>\n",
       "      <td>NaN</td>\n",
       "    </tr>\n",
       "    <tr>\n",
       "      <th>282</th>\n",
       "      <td>Сережа</td>\n",
       "      <td>111026914</td>\n",
       "      <td>2014-12-24T12:00:00.000Z</td>\n",
       "      <td>Художественный</td>\n",
       "      <td>Киностудия \"Мосфильм\"</td>\n",
       "      <td>СССР</td>\n",
       "      <td>Г.Данелия, И.Таланкин</td>\n",
       "      <td>NaN</td>\n",
       "      <td>«0+» - для любой зрительской аудитории</td>\n",
       "      <td>NaN</td>\n",
       "      <td>NaN</td>\n",
       "      <td>NaN</td>\n",
       "      <td>NaN</td>\n",
       "      <td>8.1</td>\n",
       "      <td>драма</td>\n",
       "      <td>NaN</td>\n",
       "    </tr>\n",
       "    <tr>\n",
       "      <th>2072</th>\n",
       "      <td>Сказка о потерянном времени_</td>\n",
       "      <td>111013114</td>\n",
       "      <td>2014-10-01T12:00:00.000Z</td>\n",
       "      <td>Художественный</td>\n",
       "      <td>Киностудия \"Мосфильм\"</td>\n",
       "      <td>СССР</td>\n",
       "      <td>А.Птушко</td>\n",
       "      <td>NaN</td>\n",
       "      <td>«0+» - для любой зрительской аудитории</td>\n",
       "      <td>NaN</td>\n",
       "      <td>NaN</td>\n",
       "      <td>NaN</td>\n",
       "      <td>NaN</td>\n",
       "      <td>7.8</td>\n",
       "      <td>фэнтези,комедия,семейный</td>\n",
       "      <td>13190.0</td>\n",
       "    </tr>\n",
       "    <tr>\n",
       "      <th>272</th>\n",
       "      <td>Романс о влюбленных</td>\n",
       "      <td>111007913</td>\n",
       "      <td>2013-10-18T12:00:00.000Z</td>\n",
       "      <td>Художественный</td>\n",
       "      <td>Киностудия \"Мосфильм\"</td>\n",
       "      <td>СССР</td>\n",
       "      <td>А.Михалков-Кончаловский</td>\n",
       "      <td>NaN</td>\n",
       "      <td>«12+» - для детей старше 12 лет</td>\n",
       "      <td>NaN</td>\n",
       "      <td>NaN</td>\n",
       "      <td>NaN</td>\n",
       "      <td>NaN</td>\n",
       "      <td>7.3</td>\n",
       "      <td>мюзикл,драма,мелодрама</td>\n",
       "      <td>NaN</td>\n",
       "    </tr>\n",
       "    <tr>\n",
       "      <th>5606</th>\n",
       "      <td>Сны</td>\n",
       "      <td>111009617</td>\n",
       "      <td>2017-11-22T12:00:00.000Z</td>\n",
       "      <td>Художественный</td>\n",
       "      <td>Киностудия \"Курьер\" киноконцерна \"Мосфильм\", Р...</td>\n",
       "      <td>Россия</td>\n",
       "      <td>К.Шахназаров, А.Бородянский</td>\n",
       "      <td>NaN</td>\n",
       "      <td>«12+» - для детей старше 12 лет</td>\n",
       "      <td>NaN</td>\n",
       "      <td>NaN</td>\n",
       "      <td>NaN</td>\n",
       "      <td>NaN</td>\n",
       "      <td>6.8</td>\n",
       "      <td>комедия,история</td>\n",
       "      <td>NaN</td>\n",
       "    </tr>\n",
       "  </tbody>\n",
       "</table>\n",
       "</div>"
      ],
      "text/plain": [
       "                                                  title  pu_number  \\\n",
       "6028                            Полифем, Акид и Галатея  114003118   \n",
       "2027                             До свидания, мальчики!  111028514   \n",
       "4417  Гаэтано Доницетти. Дочь полка. Постановка теат...  126001510   \n",
       "188                                      Золотой ключик  111014115   \n",
       "2344                           По собственному желанию.  111019714   \n",
       "1701                                        Самогонщики  111008113   \n",
       "282                                              Сережа  111026914   \n",
       "2072                       Сказка о потерянном времени_  111013114   \n",
       "272                                 Романс о влюбленных  111007913   \n",
       "5606                                                Сны  111009617   \n",
       "\n",
       "               show_start_date             type  \\\n",
       "6028  2018-08-01T12:00:00.000Z     Анимационный   \n",
       "2027  2014-12-24T12:00:00.000Z   Художественный   \n",
       "4417  2010-11-11T12:00:00.000Z           Прочие   \n",
       "188   2015-08-25T12:00:00.000Z   Художественный   \n",
       "2344  2014-12-01T12:00:00.000Z   Художественный   \n",
       "1701  2013-10-18T12:00:00.000Z   Художественный   \n",
       "282   2014-12-24T12:00:00.000Z   Художественный   \n",
       "2072  2014-10-01T12:00:00.000Z   Художественный   \n",
       "272   2013-10-18T12:00:00.000Z   Художественный   \n",
       "5606  2017-11-22T12:00:00.000Z   Художественный   \n",
       "\n",
       "                                            film_studio production_country  \\\n",
       "6028             ФГУП \"ТПО \"Киностудия \"Союзмультфильм\"             Россия   \n",
       "2027                              Киностудия \"Мосфильм\"               СССР   \n",
       "4417                                          Опус Арте     Великобритания   \n",
       "188                               Киностудия \"Мосфильм\"               СССР   \n",
       "2344                              Киностудия \"Мосфильм\"               СССР   \n",
       "1701                              Киностудия \"Мосфильм\"               СССР   \n",
       "282                               Киностудия \"Мосфильм\"               СССР   \n",
       "2072                              Киностудия \"Мосфильм\"               СССР   \n",
       "272                               Киностудия \"Мосфильм\"               СССР   \n",
       "5606  Киностудия \"Курьер\" киноконцерна \"Мосфильм\", Р...             Россия   \n",
       "\n",
       "                         director producer  \\\n",
       "6028                     А.Петров      NaN   \n",
       "2027                      М.Калик      NaN   \n",
       "4417                  Лоран Пелли      NaN   \n",
       "188                      А.Птушко      NaN   \n",
       "2344                   Э.Гаврилов      NaN   \n",
       "1701                     Л.Гайдай      NaN   \n",
       "282         Г.Данелия, И.Таланкин      NaN   \n",
       "2072                     А.Птушко      NaN   \n",
       "272       А.Михалков-Кончаловский      NaN   \n",
       "5606  К.Шахназаров, А.Бородянский      NaN   \n",
       "\n",
       "                             age_restriction  refundable_support  \\\n",
       "6028             «18+» - запрещено для детей                 NaN   \n",
       "2027         «12+» - для детей старше 12 лет                 NaN   \n",
       "4417  «0+» - для любой зрительской аудитории                 NaN   \n",
       "188   «0+» - для любой зрительской аудитории                 NaN   \n",
       "2344         «12+» - для детей старше 12 лет                 NaN   \n",
       "1701         «12+» - для детей старше 12 лет                 NaN   \n",
       "282   «0+» - для любой зрительской аудитории                 NaN   \n",
       "2072  «0+» - для любой зрительской аудитории                 NaN   \n",
       "272          «12+» - для детей старше 12 лет                 NaN   \n",
       "5606         «12+» - для детей старше 12 лет                 NaN   \n",
       "\n",
       "      nonrefundable_support  budget financing_source ratings  \\\n",
       "6028                    NaN     NaN              NaN     6.7   \n",
       "2027                    NaN     NaN              NaN     7.8   \n",
       "4417                    NaN     NaN              NaN     NaN   \n",
       "188                     NaN     NaN              NaN     7.2   \n",
       "2344                    NaN     NaN              NaN     7.9   \n",
       "1701                    NaN     NaN              NaN     8.3   \n",
       "282                     NaN     NaN              NaN     8.1   \n",
       "2072                    NaN     NaN              NaN     7.8   \n",
       "272                     NaN     NaN              NaN     7.3   \n",
       "5606                    NaN     NaN              NaN     6.8   \n",
       "\n",
       "                                genres  box_office  \n",
       "6028        мультфильм,короткометражка         NaN  \n",
       "2027                             драма         NaN  \n",
       "4417                               NaN         NaN  \n",
       "188                   фэнтези,семейный         NaN  \n",
       "2344           драма,мелодрама,комедия         NaN  \n",
       "1701  короткометражка,комедия,криминал         NaN  \n",
       "282                              драма         NaN  \n",
       "2072          фэнтези,комедия,семейный     13190.0  \n",
       "272             мюзикл,драма,мелодрама         NaN  \n",
       "5606                   комедия,история         NaN  "
      ]
     },
     "execution_count": 31,
     "metadata": {},
     "output_type": "execute_result"
    }
   ],
   "source": [
    "data[data['producer'].isna()].sample(n=10, random_state=2)"
   ]
  },
  {
   "cell_type": "markdown",
   "metadata": {},
   "source": [
    "На сайте Минкультуры у фильмов нет данных по продюсеру, скорее всего информация подтягивается из другого источника. \n",
    "Как мы видим из выборки, значительная часть значений столбца 'production_country' равны 'CCCР'. Скорее всего большинство пропусков связаны именно с датой создания картины - в то время могло не быть категории \"producer\". Оставим пропуски без изменения."
   ]
  },
  {
   "cell_type": "markdown",
   "metadata": {},
   "source": [
    "`refundable_support`, `nonrefundable_support`, `budget`, `financing_source`"
   ]
  },
  {
   "cell_type": "code",
   "execution_count": 32,
   "metadata": {},
   "outputs": [
    {
     "data": {
      "text/plain": [
       "7154"
      ]
     },
     "execution_count": 32,
     "metadata": {},
     "output_type": "execute_result"
    }
   ],
   "source": [
    "data['refundable_support'].isnull().sum()"
   ]
  },
  {
   "cell_type": "code",
   "execution_count": 33,
   "metadata": {},
   "outputs": [
    {
     "data": {
      "text/plain": [
       "7154"
      ]
     },
     "execution_count": 33,
     "metadata": {},
     "output_type": "execute_result"
    }
   ],
   "source": [
    "data['nonrefundable_support'].isnull().sum()"
   ]
  },
  {
   "cell_type": "code",
   "execution_count": 34,
   "metadata": {},
   "outputs": [
    {
     "data": {
      "text/plain": [
       "7154"
      ]
     },
     "execution_count": 34,
     "metadata": {},
     "output_type": "execute_result"
    }
   ],
   "source": [
    "data['budget'].isnull().sum()"
   ]
  },
  {
   "cell_type": "code",
   "execution_count": 35,
   "metadata": {},
   "outputs": [
    {
     "data": {
      "text/plain": [
       "7154"
      ]
     },
     "execution_count": 35,
     "metadata": {},
     "output_type": "execute_result"
    }
   ],
   "source": [
    "data['financing_source'].isnull().sum()"
   ]
  },
  {
   "cell_type": "markdown",
   "metadata": {},
   "source": [
    "Доля пропусков по всем четырем столбцам составляет 95,57% от выборки."
   ]
  },
  {
   "cell_type": "code",
   "execution_count": 36,
   "metadata": {},
   "outputs": [
    {
     "data": {
      "text/html": [
       "<div>\n",
       "<style scoped>\n",
       "    .dataframe tbody tr th:only-of-type {\n",
       "        vertical-align: middle;\n",
       "    }\n",
       "\n",
       "    .dataframe tbody tr th {\n",
       "        vertical-align: top;\n",
       "    }\n",
       "\n",
       "    .dataframe thead th {\n",
       "        text-align: right;\n",
       "    }\n",
       "</style>\n",
       "<table border=\"1\" class=\"dataframe\">\n",
       "  <thead>\n",
       "    <tr style=\"text-align: right;\">\n",
       "      <th></th>\n",
       "      <th>title</th>\n",
       "      <th>pu_number</th>\n",
       "      <th>show_start_date</th>\n",
       "      <th>type</th>\n",
       "      <th>film_studio</th>\n",
       "      <th>production_country</th>\n",
       "      <th>director</th>\n",
       "      <th>producer</th>\n",
       "      <th>age_restriction</th>\n",
       "      <th>refundable_support</th>\n",
       "      <th>nonrefundable_support</th>\n",
       "      <th>budget</th>\n",
       "      <th>financing_source</th>\n",
       "      <th>ratings</th>\n",
       "      <th>genres</th>\n",
       "      <th>box_office</th>\n",
       "    </tr>\n",
       "  </thead>\n",
       "  <tbody>\n",
       "    <tr>\n",
       "      <th>0</th>\n",
       "      <td>Открытый простор</td>\n",
       "      <td>221048915</td>\n",
       "      <td>2015-11-27T12:00:00.000Z</td>\n",
       "      <td>Художественный</td>\n",
       "      <td>Тачстоун Пикчерз, Кобальт Пикчерз, Бикон Пикче...</td>\n",
       "      <td>США</td>\n",
       "      <td>Кевин Костнер</td>\n",
       "      <td>Дэвид Валдес, Кевин Костнер, Джейк Эбертс</td>\n",
       "      <td>«18+» - запрещено для детей</td>\n",
       "      <td>NaN</td>\n",
       "      <td>NaN</td>\n",
       "      <td>NaN</td>\n",
       "      <td>NaN</td>\n",
       "      <td>7.2</td>\n",
       "      <td>боевик,драма,мелодрама</td>\n",
       "      <td>NaN</td>\n",
       "    </tr>\n",
       "    <tr>\n",
       "      <th>1</th>\n",
       "      <td>Особо важное задание</td>\n",
       "      <td>111013716</td>\n",
       "      <td>2016-09-13T12:00:00.000Z</td>\n",
       "      <td>Художественный</td>\n",
       "      <td>Киностудия \"Мосфильм\"</td>\n",
       "      <td>СССР</td>\n",
       "      <td>Е.Матвеев</td>\n",
       "      <td>NaN</td>\n",
       "      <td>«6+» - для детей старше 6 лет</td>\n",
       "      <td>NaN</td>\n",
       "      <td>NaN</td>\n",
       "      <td>NaN</td>\n",
       "      <td>NaN</td>\n",
       "      <td>6.6</td>\n",
       "      <td>драма,военный</td>\n",
       "      <td>NaN</td>\n",
       "    </tr>\n",
       "    <tr>\n",
       "      <th>2</th>\n",
       "      <td>Особо опасен</td>\n",
       "      <td>221038416</td>\n",
       "      <td>2016-10-10T12:00:00.000Z</td>\n",
       "      <td>Художественный</td>\n",
       "      <td>Юниверсал Пикчерз, Кикстарт Продакшнз, Марк Пл...</td>\n",
       "      <td>США</td>\n",
       "      <td>Тимур Бекмамбетов</td>\n",
       "      <td>Джим Лемли, Джейсон Нетер, Марк Е.Платт, Яйн Смит</td>\n",
       "      <td>«18+» - запрещено для детей</td>\n",
       "      <td>NaN</td>\n",
       "      <td>NaN</td>\n",
       "      <td>NaN</td>\n",
       "      <td>NaN</td>\n",
       "      <td>6.8</td>\n",
       "      <td>фантастика,боевик,триллер</td>\n",
       "      <td>NaN</td>\n",
       "    </tr>\n",
       "  </tbody>\n",
       "</table>\n",
       "</div>"
      ],
      "text/plain": [
       "                  title  pu_number           show_start_date            type  \\\n",
       "0      Открытый простор  221048915  2015-11-27T12:00:00.000Z  Художественный   \n",
       "1  Особо важное задание  111013716  2016-09-13T12:00:00.000Z  Художественный   \n",
       "2          Особо опасен  221038416  2016-10-10T12:00:00.000Z  Художественный   \n",
       "\n",
       "                                         film_studio production_country  \\\n",
       "0  Тачстоун Пикчерз, Кобальт Пикчерз, Бикон Пикче...                США   \n",
       "1                              Киностудия \"Мосфильм\"               СССР   \n",
       "2  Юниверсал Пикчерз, Кикстарт Продакшнз, Марк Пл...                США   \n",
       "\n",
       "            director                                           producer  \\\n",
       "0      Кевин Костнер          Дэвид Валдес, Кевин Костнер, Джейк Эбертс   \n",
       "1          Е.Матвеев                                                NaN   \n",
       "2  Тимур Бекмамбетов  Джим Лемли, Джейсон Нетер, Марк Е.Платт, Яйн Смит   \n",
       "\n",
       "                 age_restriction  refundable_support  nonrefundable_support  \\\n",
       "0    «18+» - запрещено для детей                 NaN                    NaN   \n",
       "1  «6+» - для детей старше 6 лет                 NaN                    NaN   \n",
       "2    «18+» - запрещено для детей                 NaN                    NaN   \n",
       "\n",
       "   budget financing_source ratings                     genres  box_office  \n",
       "0     NaN              NaN     7.2     боевик,драма,мелодрама         NaN  \n",
       "1     NaN              NaN     6.6              драма,военный         NaN  \n",
       "2     NaN              NaN     6.8  фантастика,боевик,триллер         NaN  "
      ]
     },
     "execution_count": 36,
     "metadata": {},
     "output_type": "execute_result"
    }
   ],
   "source": [
    "data[data['refundable_support'].isna()].head(3)"
   ]
  },
  {
   "cell_type": "markdown",
   "metadata": {},
   "source": [
    "Согласно описательным данным к столбцу `'budget'`, пропуски в нем соответствуют фильмам, вышедшим без гос. поддержки. Аналогичная ситуация с пропусками в столбцах `'refundable_support'`, `'nonrefundable_support'`, `'financing_source'`. Заменим пропуски в столбцах `'refundable_support'`, `'nonrefundable_support'` и `'budget'` на целочисленное значение '0', а пропуски в столбце `'financing_source'` оставим без изменений. Несмотря на присутствие в данных нулевых значений до замены, информация не потеряется, т.к. может быть восстановлена по столбцу `'financing_source'`.  "
   ]
  },
  {
   "cell_type": "code",
   "execution_count": 37,
   "metadata": {},
   "outputs": [],
   "source": [
    "columns = ['budget', 'refundable_support', 'nonrefundable_support']\n",
    "\n",
    "for i in columns:\n",
    "    data[i] = data[i].fillna(0)"
   ]
  },
  {
   "cell_type": "markdown",
   "metadata": {},
   "source": [
    "`ratings`"
   ]
  },
  {
   "cell_type": "code",
   "execution_count": 38,
   "metadata": {},
   "outputs": [
    {
     "data": {
      "text/plain": [
       "967"
      ]
     },
     "execution_count": 38,
     "metadata": {},
     "output_type": "execute_result"
    }
   ],
   "source": [
    "data['ratings'].isnull().sum()"
   ]
  },
  {
   "cell_type": "markdown",
   "metadata": {},
   "source": [
    "Доля пропусков по столбцу составляет 12,92% от выборки."
   ]
  },
  {
   "cell_type": "code",
   "execution_count": 39,
   "metadata": {},
   "outputs": [
    {
     "data": {
      "text/html": [
       "<div>\n",
       "<style scoped>\n",
       "    .dataframe tbody tr th:only-of-type {\n",
       "        vertical-align: middle;\n",
       "    }\n",
       "\n",
       "    .dataframe tbody tr th {\n",
       "        vertical-align: top;\n",
       "    }\n",
       "\n",
       "    .dataframe thead th {\n",
       "        text-align: right;\n",
       "    }\n",
       "</style>\n",
       "<table border=\"1\" class=\"dataframe\">\n",
       "  <thead>\n",
       "    <tr style=\"text-align: right;\">\n",
       "      <th></th>\n",
       "      <th>title</th>\n",
       "      <th>pu_number</th>\n",
       "      <th>show_start_date</th>\n",
       "      <th>type</th>\n",
       "      <th>film_studio</th>\n",
       "      <th>production_country</th>\n",
       "      <th>director</th>\n",
       "      <th>producer</th>\n",
       "      <th>age_restriction</th>\n",
       "      <th>refundable_support</th>\n",
       "      <th>nonrefundable_support</th>\n",
       "      <th>budget</th>\n",
       "      <th>financing_source</th>\n",
       "      <th>ratings</th>\n",
       "      <th>genres</th>\n",
       "      <th>box_office</th>\n",
       "    </tr>\n",
       "  </thead>\n",
       "  <tbody>\n",
       "    <tr>\n",
       "      <th>43</th>\n",
       "      <td>Мемуары гейши (по роману Артура Голдена)</td>\n",
       "      <td>121000606</td>\n",
       "      <td>2012-12-14T12:00:00.000Z</td>\n",
       "      <td>Художественный</td>\n",
       "      <td>Коламбия Пикчерз Корпорейшн, ДримУоркс ЭсКейДж...</td>\n",
       "      <td>США</td>\n",
       "      <td>Роб Маршалл</td>\n",
       "      <td>Стивен Спилберг, Люси Фишер, Дуглас Уик, Джон ...</td>\n",
       "      <td>«12+» - для детей старше 12 лет</td>\n",
       "      <td>0.0</td>\n",
       "      <td>0.0</td>\n",
       "      <td>0.0</td>\n",
       "      <td>NaN</td>\n",
       "      <td>NaN</td>\n",
       "      <td>NaN</td>\n",
       "      <td>NaN</td>\n",
       "    </tr>\n",
       "    <tr>\n",
       "      <th>150</th>\n",
       "      <td>Жди меня</td>\n",
       "      <td>111013615</td>\n",
       "      <td>2015-08-25T12:00:00.000Z</td>\n",
       "      <td>Художественный</td>\n",
       "      <td>Киностудия \"Мосфильм\"</td>\n",
       "      <td>СССР</td>\n",
       "      <td>А.Столпер, Б.Иванов</td>\n",
       "      <td>NaN</td>\n",
       "      <td>«6+» - для детей старше 6 лет</td>\n",
       "      <td>0.0</td>\n",
       "      <td>0.0</td>\n",
       "      <td>0.0</td>\n",
       "      <td>NaN</td>\n",
       "      <td>NaN</td>\n",
       "      <td>NaN</td>\n",
       "      <td>NaN</td>\n",
       "    </tr>\n",
       "    <tr>\n",
       "      <th>154</th>\n",
       "      <td>Дом из песка и тумана (по книге Андре Дюбуи III)</td>\n",
       "      <td>221037813</td>\n",
       "      <td>2013-10-25T12:00:00.000Z</td>\n",
       "      <td>Художественный</td>\n",
       "      <td>Кобальт Пикчерз</td>\n",
       "      <td>США</td>\n",
       "      <td>Вадим Перельман</td>\n",
       "      <td>Майкл Лондон</td>\n",
       "      <td>«16+» - для детей старше 16 лет</td>\n",
       "      <td>0.0</td>\n",
       "      <td>0.0</td>\n",
       "      <td>0.0</td>\n",
       "      <td>NaN</td>\n",
       "      <td>NaN</td>\n",
       "      <td>NaN</td>\n",
       "      <td>NaN</td>\n",
       "    </tr>\n",
       "  </tbody>\n",
       "</table>\n",
       "</div>"
      ],
      "text/plain": [
       "                                                title  pu_number  \\\n",
       "43           Мемуары гейши (по роману Артура Голдена)  121000606   \n",
       "150                                          Жди меня  111013615   \n",
       "154  Дом из песка и тумана (по книге Андре Дюбуи III)  221037813   \n",
       "\n",
       "              show_start_date            type  \\\n",
       "43   2012-12-14T12:00:00.000Z  Художественный   \n",
       "150  2015-08-25T12:00:00.000Z  Художественный   \n",
       "154  2013-10-25T12:00:00.000Z  Художественный   \n",
       "\n",
       "                                           film_studio production_country  \\\n",
       "43   Коламбия Пикчерз Корпорейшн, ДримУоркс ЭсКейДж...                США   \n",
       "150                              Киностудия \"Мосфильм\"               СССР   \n",
       "154                                    Кобальт Пикчерз                США   \n",
       "\n",
       "                director                                           producer  \\\n",
       "43           Роб Маршалл  Стивен Спилберг, Люси Фишер, Дуглас Уик, Джон ...   \n",
       "150  А.Столпер, Б.Иванов                                                NaN   \n",
       "154      Вадим Перельман                                       Майкл Лондон   \n",
       "\n",
       "                     age_restriction  refundable_support  \\\n",
       "43   «12+» - для детей старше 12 лет                 0.0   \n",
       "150    «6+» - для детей старше 6 лет                 0.0   \n",
       "154  «16+» - для детей старше 16 лет                 0.0   \n",
       "\n",
       "     nonrefundable_support  budget financing_source ratings genres  box_office  \n",
       "43                     0.0     0.0              NaN     NaN    NaN         NaN  \n",
       "150                    0.0     0.0              NaN     NaN    NaN         NaN  \n",
       "154                    0.0     0.0              NaN     NaN    NaN         NaN  "
      ]
     },
     "execution_count": 39,
     "metadata": {},
     "output_type": "execute_result"
    }
   ],
   "source": [
    "data[data['ratings'].isna()].head(3)"
   ]
  },
  {
   "cell_type": "markdown",
   "metadata": {},
   "source": [
    "Попробуем разобраться в причине пропусков на примере фильма 'Дом из песка и тумана (по книге Андре Дюбуи III'. На Кинопоиске этот фильм присутствует, рейтинг у него есть. Возможная причина пропусков: рейтинг Кинопоиска не подтянулся из-за различий в наименовании фильма. Заменим пропуски на значение '0', в первоначальных данных оно не присутствует.\n",
    "\n"
   ]
  },
  {
   "cell_type": "code",
   "execution_count": 40,
   "metadata": {},
   "outputs": [],
   "source": [
    "data['ratings'] = data['ratings'].fillna('0')"
   ]
  },
  {
   "cell_type": "code",
   "execution_count": 41,
   "metadata": {},
   "outputs": [
    {
     "data": {
      "text/plain": [
       "0"
      ]
     },
     "execution_count": 41,
     "metadata": {},
     "output_type": "execute_result"
    }
   ],
   "source": [
    "data['ratings'].isnull().sum() #проверка"
   ]
  },
  {
   "cell_type": "markdown",
   "metadata": {},
   "source": [
    "`genres`"
   ]
  },
  {
   "cell_type": "markdown",
   "metadata": {},
   "source": [
    "Посчитаем кол-во пропусков."
   ]
  },
  {
   "cell_type": "code",
   "execution_count": 42,
   "metadata": {},
   "outputs": [
    {
     "data": {
      "text/plain": [
       "976"
      ]
     },
     "execution_count": 42,
     "metadata": {},
     "output_type": "execute_result"
    }
   ],
   "source": [
    "data['genres'].isnull().sum()"
   ]
  },
  {
   "cell_type": "markdown",
   "metadata": {},
   "source": [
    "Доля пропусков по столбцу составляет 13,04% от выборки."
   ]
  },
  {
   "cell_type": "code",
   "execution_count": 43,
   "metadata": {},
   "outputs": [
    {
     "data": {
      "text/html": [
       "<div>\n",
       "<style scoped>\n",
       "    .dataframe tbody tr th:only-of-type {\n",
       "        vertical-align: middle;\n",
       "    }\n",
       "\n",
       "    .dataframe tbody tr th {\n",
       "        vertical-align: top;\n",
       "    }\n",
       "\n",
       "    .dataframe thead th {\n",
       "        text-align: right;\n",
       "    }\n",
       "</style>\n",
       "<table border=\"1\" class=\"dataframe\">\n",
       "  <thead>\n",
       "    <tr style=\"text-align: right;\">\n",
       "      <th></th>\n",
       "      <th>title</th>\n",
       "      <th>pu_number</th>\n",
       "      <th>show_start_date</th>\n",
       "      <th>type</th>\n",
       "      <th>film_studio</th>\n",
       "      <th>production_country</th>\n",
       "      <th>director</th>\n",
       "      <th>producer</th>\n",
       "      <th>age_restriction</th>\n",
       "      <th>refundable_support</th>\n",
       "      <th>nonrefundable_support</th>\n",
       "      <th>budget</th>\n",
       "      <th>financing_source</th>\n",
       "      <th>ratings</th>\n",
       "      <th>genres</th>\n",
       "      <th>box_office</th>\n",
       "    </tr>\n",
       "  </thead>\n",
       "  <tbody>\n",
       "    <tr>\n",
       "      <th>43</th>\n",
       "      <td>Мемуары гейши (по роману Артура Голдена)</td>\n",
       "      <td>121000606</td>\n",
       "      <td>2012-12-14T12:00:00.000Z</td>\n",
       "      <td>Художественный</td>\n",
       "      <td>Коламбия Пикчерз Корпорейшн, ДримУоркс ЭсКейДж...</td>\n",
       "      <td>США</td>\n",
       "      <td>Роб Маршалл</td>\n",
       "      <td>Стивен Спилберг, Люси Фишер, Дуглас Уик, Джон ...</td>\n",
       "      <td>«12+» - для детей старше 12 лет</td>\n",
       "      <td>0.0</td>\n",
       "      <td>0.0</td>\n",
       "      <td>0.0</td>\n",
       "      <td>NaN</td>\n",
       "      <td>0</td>\n",
       "      <td>NaN</td>\n",
       "      <td>NaN</td>\n",
       "    </tr>\n",
       "    <tr>\n",
       "      <th>150</th>\n",
       "      <td>Жди меня</td>\n",
       "      <td>111013615</td>\n",
       "      <td>2015-08-25T12:00:00.000Z</td>\n",
       "      <td>Художественный</td>\n",
       "      <td>Киностудия \"Мосфильм\"</td>\n",
       "      <td>СССР</td>\n",
       "      <td>А.Столпер, Б.Иванов</td>\n",
       "      <td>NaN</td>\n",
       "      <td>«6+» - для детей старше 6 лет</td>\n",
       "      <td>0.0</td>\n",
       "      <td>0.0</td>\n",
       "      <td>0.0</td>\n",
       "      <td>NaN</td>\n",
       "      <td>0</td>\n",
       "      <td>NaN</td>\n",
       "      <td>NaN</td>\n",
       "    </tr>\n",
       "    <tr>\n",
       "      <th>154</th>\n",
       "      <td>Дом из песка и тумана (по книге Андре Дюбуи III)</td>\n",
       "      <td>221037813</td>\n",
       "      <td>2013-10-25T12:00:00.000Z</td>\n",
       "      <td>Художественный</td>\n",
       "      <td>Кобальт Пикчерз</td>\n",
       "      <td>США</td>\n",
       "      <td>Вадим Перельман</td>\n",
       "      <td>Майкл Лондон</td>\n",
       "      <td>«16+» - для детей старше 16 лет</td>\n",
       "      <td>0.0</td>\n",
       "      <td>0.0</td>\n",
       "      <td>0.0</td>\n",
       "      <td>NaN</td>\n",
       "      <td>0</td>\n",
       "      <td>NaN</td>\n",
       "      <td>NaN</td>\n",
       "    </tr>\n",
       "  </tbody>\n",
       "</table>\n",
       "</div>"
      ],
      "text/plain": [
       "                                                title  pu_number  \\\n",
       "43           Мемуары гейши (по роману Артура Голдена)  121000606   \n",
       "150                                          Жди меня  111013615   \n",
       "154  Дом из песка и тумана (по книге Андре Дюбуи III)  221037813   \n",
       "\n",
       "              show_start_date            type  \\\n",
       "43   2012-12-14T12:00:00.000Z  Художественный   \n",
       "150  2015-08-25T12:00:00.000Z  Художественный   \n",
       "154  2013-10-25T12:00:00.000Z  Художественный   \n",
       "\n",
       "                                           film_studio production_country  \\\n",
       "43   Коламбия Пикчерз Корпорейшн, ДримУоркс ЭсКейДж...                США   \n",
       "150                              Киностудия \"Мосфильм\"               СССР   \n",
       "154                                    Кобальт Пикчерз                США   \n",
       "\n",
       "                director                                           producer  \\\n",
       "43           Роб Маршалл  Стивен Спилберг, Люси Фишер, Дуглас Уик, Джон ...   \n",
       "150  А.Столпер, Б.Иванов                                                NaN   \n",
       "154      Вадим Перельман                                       Майкл Лондон   \n",
       "\n",
       "                     age_restriction  refundable_support  \\\n",
       "43   «12+» - для детей старше 12 лет                 0.0   \n",
       "150    «6+» - для детей старше 6 лет                 0.0   \n",
       "154  «16+» - для детей старше 16 лет                 0.0   \n",
       "\n",
       "     nonrefundable_support  budget financing_source ratings genres  box_office  \n",
       "43                     0.0     0.0              NaN       0    NaN         NaN  \n",
       "150                    0.0     0.0              NaN       0    NaN         NaN  \n",
       "154                    0.0     0.0              NaN       0    NaN         NaN  "
      ]
     },
     "execution_count": 43,
     "metadata": {},
     "output_type": "execute_result"
    }
   ],
   "source": [
    "data[data['genres'].isna()].head(3)"
   ]
  },
  {
   "cell_type": "markdown",
   "metadata": {},
   "source": [
    "Жанр, как и рейтинг, берутся из данных Кинопоиска. В этом случае большая часть пропусков объясняется той же причиной что и пропуски по столбцу `'ratings'`. Заменим пропуски на `'unknown'`. "
   ]
  },
  {
   "cell_type": "code",
   "execution_count": 44,
   "metadata": {},
   "outputs": [],
   "source": [
    "data['genres'] = data['genres'].fillna('unknown') "
   ]
  },
  {
   "cell_type": "markdown",
   "metadata": {},
   "source": [
    "Проверим изменения."
   ]
  },
  {
   "cell_type": "code",
   "execution_count": 45,
   "metadata": {},
   "outputs": [
    {
     "data": {
      "text/plain": [
       "0"
      ]
     },
     "execution_count": 45,
     "metadata": {},
     "output_type": "execute_result"
    }
   ],
   "source": [
    "data['genres'].isnull().sum()"
   ]
  },
  {
   "cell_type": "markdown",
   "metadata": {},
   "source": [
    "`box_office`"
   ]
  },
  {
   "cell_type": "code",
   "execution_count": 46,
   "metadata": {},
   "outputs": [
    {
     "data": {
      "text/plain": [
       "4328"
      ]
     },
     "execution_count": 46,
     "metadata": {},
     "output_type": "execute_result"
    }
   ],
   "source": [
    "data['box_office'].isnull().sum()"
   ]
  },
  {
   "cell_type": "markdown",
   "metadata": {},
   "source": [
    "Доля пропусков по столбцу составляет 13,04% от выборки. После выборочных проверок прокатных удостоверений, можно предположить следующую зависимость:\n",
    "\n",
    "- числовые значения соответствуют фильмам, имеющим прокатное удостоверение на показ в кинотеатрах.\n",
    "- значение NaN соответствует фильмам не выходившим на большой экран.\n",
    "\n",
    "Оставим пропуски без изменения."
   ]
  },
  {
   "cell_type": "markdown",
   "metadata": {},
   "source": [
    "**Вывод**"
   ]
  },
  {
   "cell_type": "markdown",
   "metadata": {},
   "source": [
    "Итоговый результат замены пропусков выглядит следующим образом:"
   ]
  },
  {
   "cell_type": "code",
   "execution_count": 47,
   "metadata": {},
   "outputs": [
    {
     "data": {
      "text/html": [
       "<div>\n",
       "<style scoped>\n",
       "    .dataframe tbody tr th:only-of-type {\n",
       "        vertical-align: middle;\n",
       "    }\n",
       "\n",
       "    .dataframe tbody tr th {\n",
       "        vertical-align: top;\n",
       "    }\n",
       "\n",
       "    .dataframe thead th {\n",
       "        text-align: right;\n",
       "    }\n",
       "</style>\n",
       "<table border=\"1\" class=\"dataframe\">\n",
       "  <thead>\n",
       "    <tr style=\"text-align: right;\">\n",
       "      <th></th>\n",
       "      <th>index</th>\n",
       "      <th>percent_NaN</th>\n",
       "      <th>count_NaN</th>\n",
       "    </tr>\n",
       "  </thead>\n",
       "  <tbody>\n",
       "    <tr>\n",
       "      <th>0</th>\n",
       "      <td>title</td>\n",
       "      <td>0.000000</td>\n",
       "      <td>0</td>\n",
       "    </tr>\n",
       "    <tr>\n",
       "      <th>1</th>\n",
       "      <td>pu_number</td>\n",
       "      <td>0.000000</td>\n",
       "      <td>0</td>\n",
       "    </tr>\n",
       "    <tr>\n",
       "      <th>2</th>\n",
       "      <td>show_start_date</td>\n",
       "      <td>0.000000</td>\n",
       "      <td>0</td>\n",
       "    </tr>\n",
       "    <tr>\n",
       "      <th>3</th>\n",
       "      <td>type</td>\n",
       "      <td>0.000000</td>\n",
       "      <td>0</td>\n",
       "    </tr>\n",
       "    <tr>\n",
       "      <th>4</th>\n",
       "      <td>film_studio</td>\n",
       "      <td>0.000000</td>\n",
       "      <td>0</td>\n",
       "    </tr>\n",
       "    <tr>\n",
       "      <th>5</th>\n",
       "      <td>production_country</td>\n",
       "      <td>0.000000</td>\n",
       "      <td>0</td>\n",
       "    </tr>\n",
       "    <tr>\n",
       "      <th>6</th>\n",
       "      <td>director</td>\n",
       "      <td>0.000000</td>\n",
       "      <td>0</td>\n",
       "    </tr>\n",
       "    <tr>\n",
       "      <th>7</th>\n",
       "      <td>producer</td>\n",
       "      <td>0.075875</td>\n",
       "      <td>568</td>\n",
       "    </tr>\n",
       "    <tr>\n",
       "      <th>8</th>\n",
       "      <td>age_restriction</td>\n",
       "      <td>0.000000</td>\n",
       "      <td>0</td>\n",
       "    </tr>\n",
       "    <tr>\n",
       "      <th>9</th>\n",
       "      <td>refundable_support</td>\n",
       "      <td>0.000000</td>\n",
       "      <td>0</td>\n",
       "    </tr>\n",
       "    <tr>\n",
       "      <th>10</th>\n",
       "      <td>nonrefundable_support</td>\n",
       "      <td>0.000000</td>\n",
       "      <td>0</td>\n",
       "    </tr>\n",
       "    <tr>\n",
       "      <th>11</th>\n",
       "      <td>budget</td>\n",
       "      <td>0.000000</td>\n",
       "      <td>0</td>\n",
       "    </tr>\n",
       "    <tr>\n",
       "      <th>12</th>\n",
       "      <td>financing_source</td>\n",
       "      <td>0.955651</td>\n",
       "      <td>7154</td>\n",
       "    </tr>\n",
       "    <tr>\n",
       "      <th>13</th>\n",
       "      <td>ratings</td>\n",
       "      <td>0.000000</td>\n",
       "      <td>0</td>\n",
       "    </tr>\n",
       "    <tr>\n",
       "      <th>14</th>\n",
       "      <td>genres</td>\n",
       "      <td>0.000000</td>\n",
       "      <td>0</td>\n",
       "    </tr>\n",
       "    <tr>\n",
       "      <th>15</th>\n",
       "      <td>box_office</td>\n",
       "      <td>0.578146</td>\n",
       "      <td>4328</td>\n",
       "    </tr>\n",
       "  </tbody>\n",
       "</table>\n",
       "</div>"
      ],
      "text/plain": [
       "                    index  percent_NaN  count_NaN\n",
       "0                   title     0.000000          0\n",
       "1               pu_number     0.000000          0\n",
       "2         show_start_date     0.000000          0\n",
       "3                    type     0.000000          0\n",
       "4             film_studio     0.000000          0\n",
       "5      production_country     0.000000          0\n",
       "6                director     0.000000          0\n",
       "7                producer     0.075875        568\n",
       "8         age_restriction     0.000000          0\n",
       "9      refundable_support     0.000000          0\n",
       "10  nonrefundable_support     0.000000          0\n",
       "11                 budget     0.000000          0\n",
       "12       financing_source     0.955651       7154\n",
       "13                ratings     0.000000          0\n",
       "14                 genres     0.000000          0\n",
       "15             box_office     0.578146       4328"
      ]
     },
     "execution_count": 47,
     "metadata": {},
     "output_type": "execute_result"
    }
   ],
   "source": [
    "pd.concat(\n",
    "    [\n",
    "        data.isna().mean().reset_index().rename(columns={0:'percent_NaN'}),\n",
    "        data.isna().sum().reset_index().rename(columns={0:'count_NaN'})['count_NaN']\n",
    "    ],\n",
    "    axis=1\n",
    ")"
   ]
  },
  {
   "cell_type": "markdown",
   "metadata": {
    "id": "i0MOLbF-gFyP"
   },
   "source": [
    "#### Обработка ошибок в данных"
   ]
  },
  {
   "cell_type": "markdown",
   "metadata": {
    "id": "8MJD_lkngFyP"
   },
   "source": [
    "`title`"
   ]
  },
  {
   "cell_type": "markdown",
   "metadata": {},
   "source": [
    "Просмотрим уникальные значения по столбцу `'title'`."
   ]
  },
  {
   "cell_type": "code",
   "execution_count": 48,
   "metadata": {},
   "outputs": [
    {
     "name": "stdout",
     "output_type": "stream",
     "text": [
      "[' Я ПРЕПОД' '\"SOS\" над тайгой' '\"V\" значит вендетта' ... 'Ярость / Fury'\n",
      " 'альманах документальных фильмов \"Вокзалы России: История, Любовь и Великие тайны…\" Фильм первый \"ВОКЗАЛЫ РОССИИ СВЯЗЬ ВРЕМЕН\"'\n",
      " 'сНежное шоу']\n"
     ]
    }
   ],
   "source": [
    "print(data['title'].sort_values().unique())"
   ]
  },
  {
   "cell_type": "markdown",
   "metadata": {},
   "source": [
    "Приведем значения к нижнему регистру."
   ]
  },
  {
   "cell_type": "code",
   "execution_count": 49,
   "metadata": {},
   "outputs": [],
   "source": [
    "data['title'] = data['title'].str.lower()"
   ]
  },
  {
   "cell_type": "markdown",
   "metadata": {},
   "source": [
    "`pu_number`"
   ]
  },
  {
   "cell_type": "code",
   "execution_count": 50,
   "metadata": {},
   "outputs": [
    {
     "data": {
      "text/plain": [
       "array([        0,   1811096, 111000110, ..., 226019110, 231001012,\n",
       "       231001111], dtype=int64)"
      ]
     },
     "execution_count": 50,
     "metadata": {},
     "output_type": "execute_result"
    }
   ],
   "source": [
    "data['pu_number'].sort_values().unique()"
   ]
  },
  {
   "cell_type": "markdown",
   "metadata": {},
   "source": [
    "Есть нулевое значение. Просмотрим его."
   ]
  },
  {
   "cell_type": "code",
   "execution_count": 51,
   "metadata": {},
   "outputs": [
    {
     "data": {
      "text/html": [
       "<div>\n",
       "<style scoped>\n",
       "    .dataframe tbody tr th:only-of-type {\n",
       "        vertical-align: middle;\n",
       "    }\n",
       "\n",
       "    .dataframe tbody tr th {\n",
       "        vertical-align: top;\n",
       "    }\n",
       "\n",
       "    .dataframe thead th {\n",
       "        text-align: right;\n",
       "    }\n",
       "</style>\n",
       "<table border=\"1\" class=\"dataframe\">\n",
       "  <thead>\n",
       "    <tr style=\"text-align: right;\">\n",
       "      <th></th>\n",
       "      <th>title</th>\n",
       "      <th>pu_number</th>\n",
       "      <th>show_start_date</th>\n",
       "      <th>type</th>\n",
       "      <th>film_studio</th>\n",
       "      <th>production_country</th>\n",
       "      <th>director</th>\n",
       "      <th>producer</th>\n",
       "      <th>age_restriction</th>\n",
       "      <th>refundable_support</th>\n",
       "      <th>nonrefundable_support</th>\n",
       "      <th>budget</th>\n",
       "      <th>financing_source</th>\n",
       "      <th>ratings</th>\n",
       "      <th>genres</th>\n",
       "      <th>box_office</th>\n",
       "    </tr>\n",
       "  </thead>\n",
       "  <tbody>\n",
       "    <tr>\n",
       "      <th>1797</th>\n",
       "      <td>курбан-роман. (история с жертвой)</td>\n",
       "      <td>0</td>\n",
       "      <td>2014-05-15T12:00:00.000Z</td>\n",
       "      <td>Художественный</td>\n",
       "      <td>ФОНД \"ИННОВАЦИЯ\"</td>\n",
       "      <td>Россия</td>\n",
       "      <td>С.Юзеев</td>\n",
       "      <td>М.Галицкая</td>\n",
       "      <td>«12+» - для детей старше 12 лет</td>\n",
       "      <td>0.0</td>\n",
       "      <td>0.0</td>\n",
       "      <td>0.0</td>\n",
       "      <td>NaN</td>\n",
       "      <td>0</td>\n",
       "      <td>unknown</td>\n",
       "      <td>NaN</td>\n",
       "    </tr>\n",
       "  </tbody>\n",
       "</table>\n",
       "</div>"
      ],
      "text/plain": [
       "                                  title  pu_number           show_start_date  \\\n",
       "1797  курбан-роман. (история с жертвой)          0  2014-05-15T12:00:00.000Z   \n",
       "\n",
       "                type       film_studio production_country director  \\\n",
       "1797  Художественный  ФОНД \"ИННОВАЦИЯ\"             Россия  С.Юзеев   \n",
       "\n",
       "        producer                  age_restriction  refundable_support  \\\n",
       "1797  М.Галицкая  «12+» - для детей старше 12 лет                 0.0   \n",
       "\n",
       "      nonrefundable_support  budget financing_source ratings   genres  \\\n",
       "1797                    0.0     0.0              NaN       0  unknown   \n",
       "\n",
       "      box_office  \n",
       "1797         NaN  "
      ]
     },
     "execution_count": 51,
     "metadata": {},
     "output_type": "execute_result"
    }
   ],
   "source": [
    "data.query('pu_number == 0')"
   ]
  },
  {
   "cell_type": "markdown",
   "metadata": {},
   "source": [
    "Найдем на сайте Минкультуры прокатное удостоверение в ручном режиме. Проверим нет ли этих данных в таблице."
   ]
  },
  {
   "cell_type": "code",
   "execution_count": 52,
   "metadata": {},
   "outputs": [
    {
     "data": {
      "text/html": [
       "<div>\n",
       "<style scoped>\n",
       "    .dataframe tbody tr th:only-of-type {\n",
       "        vertical-align: middle;\n",
       "    }\n",
       "\n",
       "    .dataframe tbody tr th {\n",
       "        vertical-align: top;\n",
       "    }\n",
       "\n",
       "    .dataframe thead th {\n",
       "        text-align: right;\n",
       "    }\n",
       "</style>\n",
       "<table border=\"1\" class=\"dataframe\">\n",
       "  <thead>\n",
       "    <tr style=\"text-align: right;\">\n",
       "      <th></th>\n",
       "      <th>title</th>\n",
       "      <th>pu_number</th>\n",
       "      <th>show_start_date</th>\n",
       "      <th>type</th>\n",
       "      <th>film_studio</th>\n",
       "      <th>production_country</th>\n",
       "      <th>director</th>\n",
       "      <th>producer</th>\n",
       "      <th>age_restriction</th>\n",
       "      <th>refundable_support</th>\n",
       "      <th>nonrefundable_support</th>\n",
       "      <th>budget</th>\n",
       "      <th>financing_source</th>\n",
       "      <th>ratings</th>\n",
       "      <th>genres</th>\n",
       "      <th>box_office</th>\n",
       "    </tr>\n",
       "  </thead>\n",
       "  <tbody>\n",
       "    <tr>\n",
       "      <th>2078</th>\n",
       "      <td>курбан-роман. (история с жертвой).</td>\n",
       "      <td>111009614</td>\n",
       "      <td>2014-09-02T12:00:00.000Z</td>\n",
       "      <td>Художественный</td>\n",
       "      <td>ФОНД \"ИННОВАЦИЯ\"</td>\n",
       "      <td>Россия</td>\n",
       "      <td>С.Юзеев</td>\n",
       "      <td>М.Галицкая</td>\n",
       "      <td>«12+» - для детей старше 12 лет</td>\n",
       "      <td>0.0</td>\n",
       "      <td>0.0</td>\n",
       "      <td>0.0</td>\n",
       "      <td>NaN</td>\n",
       "      <td>0</td>\n",
       "      <td>unknown</td>\n",
       "      <td>0.0</td>\n",
       "    </tr>\n",
       "  </tbody>\n",
       "</table>\n",
       "</div>"
      ],
      "text/plain": [
       "                                   title  pu_number           show_start_date  \\\n",
       "2078  курбан-роман. (история с жертвой).  111009614  2014-09-02T12:00:00.000Z   \n",
       "\n",
       "                type       film_studio production_country director  \\\n",
       "2078  Художественный  ФОНД \"ИННОВАЦИЯ\"             Россия  С.Юзеев   \n",
       "\n",
       "        producer                  age_restriction  refundable_support  \\\n",
       "2078  М.Галицкая  «12+» - для детей старше 12 лет                 0.0   \n",
       "\n",
       "      nonrefundable_support  budget financing_source ratings   genres  \\\n",
       "2078                    0.0     0.0              NaN       0  unknown   \n",
       "\n",
       "      box_office  \n",
       "2078         0.0  "
      ]
     },
     "execution_count": 52,
     "metadata": {},
     "output_type": "execute_result"
    }
   ],
   "source": [
    "data.query('pu_number == 111009614')"
   ]
  },
  {
   "cell_type": "markdown",
   "metadata": {},
   "source": [
    "Удалим строку с нулевым значением pu_number."
   ]
  },
  {
   "cell_type": "code",
   "execution_count": 53,
   "metadata": {},
   "outputs": [],
   "source": [
    "data.drop(labels = [1797],axis = 0, inplace = True)"
   ]
  },
  {
   "cell_type": "markdown",
   "metadata": {},
   "source": [
    "`show_start_date`"
   ]
  },
  {
   "cell_type": "code",
   "execution_count": 54,
   "metadata": {},
   "outputs": [
    {
     "data": {
      "text/plain": [
       "array(['2010-01-11T12:00:00.000Z', '2010-01-13T12:00:00.000Z',\n",
       "       '2010-01-14T12:00:00.000Z', ..., '2019-12-27T12:00:00.000Z',\n",
       "       '2019-12-28T12:00:00.000Z', '2019-12-30T12:00:00.000Z'],\n",
       "      dtype=object)"
      ]
     },
     "execution_count": 54,
     "metadata": {},
     "output_type": "execute_result"
    }
   ],
   "source": [
    "data['show_start_date'].sort_values().unique()"
   ]
  },
  {
   "cell_type": "markdown",
   "metadata": {},
   "source": [
    "Вопросов по данным нет."
   ]
  },
  {
   "cell_type": "markdown",
   "metadata": {},
   "source": [
    "`type`"
   ]
  },
  {
   "cell_type": "code",
   "execution_count": 55,
   "metadata": {},
   "outputs": [
    {
     "data": {
      "text/plain": [
       "array([' Анимационный', ' Художественный', 'Анимационный',\n",
       "       'Документальный', 'Музыкально-развлекательный',\n",
       "       'Научно-популярный', 'Прочие', 'Художественный'], dtype=object)"
      ]
     },
     "execution_count": 55,
     "metadata": {},
     "output_type": "execute_result"
    }
   ],
   "source": [
    "data['type'].sort_values().unique()"
   ]
  },
  {
   "cell_type": "markdown",
   "metadata": {},
   "source": [
    "Видны дубли. Сделаем замены."
   ]
  },
  {
   "cell_type": "code",
   "execution_count": 56,
   "metadata": {},
   "outputs": [],
   "source": [
    "data['type'] = data['type'].replace({' Анимационный':'Анимационный', ' Художественный':'Художественный'})"
   ]
  },
  {
   "cell_type": "code",
   "execution_count": 57,
   "metadata": {},
   "outputs": [
    {
     "data": {
      "text/plain": [
       "array(['Анимационный', 'Документальный', 'Музыкально-развлекательный',\n",
       "       'Научно-популярный', 'Прочие', 'Художественный'], dtype=object)"
      ]
     },
     "execution_count": 57,
     "metadata": {},
     "output_type": "execute_result"
    }
   ],
   "source": [
    "data['type'].sort_values().unique()"
   ]
  },
  {
   "cell_type": "markdown",
   "metadata": {},
   "source": [
    "`film_studio`"
   ]
  },
  {
   "cell_type": "code",
   "execution_count": 58,
   "metadata": {},
   "outputs": [
    {
     "data": {
      "text/plain": [
       "array([' АНО \"Кинофорум\"',\n",
       "       ' Ауматик Интертейнмент, Блюмхаус Продакшнз и др.',\n",
       "       ' ЗАО \"Кинокомпания ФаворитФильм\" по заказу ООО \"ФАВОРИТ МЕДИА\"',\n",
       "       ...,\n",
       "       'ристалл Сити Интертейнмент, Эксклюзив Медиа Групп, Хоуп Таун Интертейнмент, Каппа Андерковар Пикчерз, Скарлет Файр Интертейнмент',\n",
       "       'совместное производство Киностудия \"Мосфильм\", \"Космос-филм\" (Франция), \"Посейдон Продакшинз Лимитед\" (Англия), \"ИКАИК\" (Куба), ДЕФА (ГДР)',\n",
       "       'юФилм, Твинпикс'], dtype=object)"
      ]
     },
     "execution_count": 58,
     "metadata": {},
     "output_type": "execute_result"
    }
   ],
   "source": [
    "data['film_studio'].sort_values().unique()"
   ]
  },
  {
   "cell_type": "markdown",
   "metadata": {},
   "source": [
    "Приведем значения к нижнему регистру."
   ]
  },
  {
   "cell_type": "code",
   "execution_count": 59,
   "metadata": {},
   "outputs": [],
   "source": [
    "data['film_studio'] = data['film_studio'].str.lower()"
   ]
  },
  {
   "cell_type": "markdown",
   "metadata": {},
   "source": [
    "`production_country`"
   ]
  },
  {
   "cell_type": "code",
   "execution_count": 60,
   "metadata": {},
   "outputs": [
    {
     "data": {
      "text/plain": [
       "array([' СССР', ' СССР ', ' СССР   ', '2019', 'CША', 'Австралия',\n",
       "       'Австралия - Великобритания - Бельгия - Индия',\n",
       "       'Австралия - Германия', 'Австралия - Ирландия',\n",
       "       'Австралия - Колумбия', 'Австралия - США', 'Австралия, Канада',\n",
       "       'Австралия, США', 'Австралия-Великобритания', 'Австралия-Ирландия',\n",
       "       'Австралия-США', 'Австралия-Турция-США', 'Австрия',\n",
       "       'Австрия - Германия', 'Австрия - Германия - Франция',\n",
       "       'Австрия - Люксембург', 'Австрия, Великобритания, Германия',\n",
       "       'Австрия-Германия-Франция', 'Австрия-Франция-Германия',\n",
       "       'Азербайджан-Россия', 'Аргентина', 'Аргентина - Бразилия',\n",
       "       'Аргентина - Испания', 'Аргентина - Испания - Уругвай',\n",
       "       'Аргентина - Мексика - Бразилия - Франция - США',\n",
       "       'Аргентина - Уругвай - Россия - Германия - Франция - Нидерланды',\n",
       "       'Аргентина - Франция - Испания', 'Аргентина, Испания',\n",
       "       'Аргентина-Испания', 'Армения', 'Армения - Германия',\n",
       "       'Армения - Казахстан', 'Армения-Россия', 'Бельгия',\n",
       "       'Бельгия - Германия - Люксембург',\n",
       "       'Бельгия - Германия - Люксембург - Франция',\n",
       "       'Бельгия - Испания - Канада - Нидерланды',\n",
       "       'Бельгия - Италия - Франция ', 'Бельгия - Люксембург',\n",
       "       'Бельгия - Люксембург - Франция - Швейцария',\n",
       "       'Бельгия - Нидерланды - Франция', 'Бельгия - США',\n",
       "       'Бельгия - Франция', 'Бельгия - Франция - Люксембург',\n",
       "       'Бельгия, Великобритания, США', 'Бельгия, Канада',\n",
       "       'Бельгия-Германия-Канада-Франция-США-Великобритания',\n",
       "       'Бельгия-Нидерланды', 'Бельгия-Франция', 'Бельгия-Франция-Италия',\n",
       "       'Болгария', 'Болгария - США', 'Болгария - Франция - Изриль',\n",
       "       'Босния и Герцеговина - Франция - Великобритания - Германия - Словения - Бельгия - Сербия',\n",
       "       'Бразилия', 'Бразилия - Германия - Порртугалия - Франция ',\n",
       "       'Бразилия - Испания', 'Бразилия - К;анада',\n",
       "       'Бразилия - Канада - США', 'Бразилия - Португалия - Франция',\n",
       "       'Бразилия - США', 'Бразилия - США - КНР ',\n",
       "       'Бразилия, Уругвай, Дания, Норвегия, Чили, Швеция',\n",
       "       'Великобритания', 'Великобритания ',\n",
       "       'Великобритания - Австралия - США',\n",
       "       'Великобритания - Австрия - Германия',\n",
       "       'Великобритания - Австрия - Франция - США',\n",
       "       'Великобритания - Аргентина - США - Франция - Россия - Испания',\n",
       "       'Великобритания - Германия',\n",
       "       'Великобритания - Германия - Нидерланды - Дания',\n",
       "       'Великобритания - Германия - США',\n",
       "       'Великобритания - Германия - Франция - Кипр - США',\n",
       "       'Великобритания - Гонконг - Венгрия - США - Ирландия',\n",
       "       'Великобритания - Дания', 'Великобритания - Израиль',\n",
       "       'Великобритания - Израиль - Франция - Япония - США',\n",
       "       'Великобритания - Ирландия', 'Великобритания - Ирландия - США',\n",
       "       'Великобритания - Ирландия - США ',\n",
       "       'Великобритания - Исландия - Испания - Швейцария - США',\n",
       "       'Великобритания - Испания', 'Великобритания - Испания - Германия',\n",
       "       'Великобритания - Испания - Италия - Латвия - Франция - Эстония',\n",
       "       'Великобритания - Испания - Непал - Индия - Венгрия - Гонконг - Германия - Дания - Бахрейн',\n",
       "       'Великобритания - Италия', 'Великобритания - Италия - Испания',\n",
       "       'Великобритания - Италия - Швейцария', 'Великобритания - КНР',\n",
       "       'Великобритания - Канада', 'Великобритания - Канада - США',\n",
       "       'Великобритания - Люксембург', 'Великобритания - Мексика - США',\n",
       "       'Великобритания - Нидерланды - Германия - Франция - Бельгия - Австрия ',\n",
       "       'Великобритания - Нидерланды - Франция - США',\n",
       "       'Великобритания - Нидерланды - Франция - Хорватия',\n",
       "       'Великобритания - Новая Зеландия',\n",
       "       'Великобритания - Норвегия - Дания - Германия',\n",
       "       'Великобритания - Норвегия - Кения - Хорватия',\n",
       "       'Великобритания - Польша',\n",
       "       'Великобритания - Польша - КНР - Индия - Норвегия',\n",
       "       'Великобритания - Пуэрто-Рико', 'Великобритания - Россия - КНР',\n",
       "       'Великобритания - Россия - Украина - США',\n",
       "       'Великобритания - Румыния', 'Великобритания - США',\n",
       "       'Великобритания - США - Австралия - Ирландия - Германия - Куба - Канада',\n",
       "       'Великобритания - США - Германия',\n",
       "       'Великобритания - США - Германия - Бельгия',\n",
       "       'Великобритания - США - Германия - Канада - Австралия',\n",
       "       'Великобритания - США - Индия', 'Великобритания - США - Канада',\n",
       "       'Великобритания - США - Канада - Бельгия - Нидерланды - Австрия - Германия',\n",
       "       'Великобритания - США - Канада - Нидерланды - Франция',\n",
       "       'Великобритания - США - Россия', 'Великобритания - США - Франция',\n",
       "       'Великобритания - США - Швейцария', 'Великобритания - Франция',\n",
       "       'Великобритания - Франция - Австрия - Швеция',\n",
       "       'Великобритания - Франция - Бельгия',\n",
       "       'Великобритания - Франция - Бельгия - Италия',\n",
       "       'Великобритания - Франция - Бельгия - США',\n",
       "       'Великобритания - Франция - Венгрия',\n",
       "       'Великобритания - Франция - Германия',\n",
       "       'Великобритания - Франция - Германия - США',\n",
       "       'Великобритания - Франция - Италия',\n",
       "       'Великобритания - Франция - Италия - Индия - Дания - КНР - Бангладеш - Камбоджа - Гаити - Уганда',\n",
       "       'Великобритания - Франция - Италия - США',\n",
       "       'Великобритания - Франция - Республика Кипр - Швейцария - США - Сербия',\n",
       "       'Великобритания - Франция - США',\n",
       "       'Великобритания - Франция - Швеция - Бельгия',\n",
       "       'Великобритания - Чехия - Франция',\n",
       "       'Великобритания - Чехия - Франция - Италия',\n",
       "       'Великобритания - ЮАР', 'Великобритания - Япония - США',\n",
       "       'Великобритания, Австралия',\n",
       "       'Великобритания, Германия, Дания, США', 'Великобритания, Канада',\n",
       "       'Великобритания, Канада, США',\n",
       "       'Великобритания, Нидерланды, Польша, Швейцария, Франция',\n",
       "       'Великобритания, Новая Зеландия', 'Великобритания, США',\n",
       "       'Великобритания, США, Испания', 'Великобритания, Франция',\n",
       "       'Великобритания, Франция, Бельгия', 'Великобритания, Швеция, США',\n",
       "       'Великобритания, Южная Корея, Канада, США, Индия, Китай, Япония',\n",
       "       'Великобритания, Япония, США', 'Великобритания-Австралия - США',\n",
       "       'Великобритания-Венгрия', 'Великобритания-Германия-Канада-ЮАР',\n",
       "       'Великобритания-США', 'Великобритания-США-Германия-КНР',\n",
       "       'Великобритания-США-Франция', 'Великобритания-Франция',\n",
       "       'Великобритания-Франция-Германия', 'Великобритания-Франция-Италия',\n",
       "       'Венгрия', 'Венгрия - Германия - Швеция', 'Венесуэла', 'Германия',\n",
       "       'Германия - Австралия', 'Германия - Австрия',\n",
       "       'Германия - Австрия - Ирландия', 'Германия - Австрия - Франция',\n",
       "       'Германия - Аргентина - Нидерланды - Чили', 'Германия - Бельгия',\n",
       "       'Германия - Бельгия - Великобритания',\n",
       "       'Германия - Бельгия - Люксембург - Ирландия',\n",
       "       'Германия - Бельгия - Люксембург - Норвегия',\n",
       "       'Германия - Бельгия - США -Франция', 'Германия - Великобритания',\n",
       "       'Германия - Великобритания - Австрия',\n",
       "       'Германия - Великобритания - Италия - Испания',\n",
       "       'Германия - Великобритания - США',\n",
       "       'Германия - Дания - Испания - Швеция - Канада - Эстония - Франция',\n",
       "       'Германия - Дания - Норвегия', 'Германия - Исландия',\n",
       "       'Германия - Италия', 'Германия - Италия - США',\n",
       "       'Германия - Италия - Франция', 'Германия - Канада',\n",
       "       'Германия - Китай', 'Германия - Люксембург - Бельгия',\n",
       "       'Германия - Люксембург - Дания', 'Германия - Люксембург - Франция',\n",
       "       'Германия - Нидерланды - Беларусь - Россия - Латвия',\n",
       "       'Германия - Нидерланды - ЮАР', 'Германия - Россия',\n",
       "       'Германия - США', 'Германия - США - Великобритания - Израиль',\n",
       "       'Германия - США - Великобритания - Ирландия',\n",
       "       'Германия - США - Франция - Испания',\n",
       "       'Германия - США - Швеция - Франция',\n",
       "       'Германия - Финляндия - Австралия', 'Германия - Франция',\n",
       "       'Германия - Франция -  Польша - Турция - Канада - Италия - Россия ',\n",
       "       'Германия - Франция - Австрия', 'Германия - Франция - Бельгия',\n",
       "       'Германия - Франция - Великобритания - Польша - США',\n",
       "       'Германия - Франция - Канада', 'Германия - Франция - Люксембург',\n",
       "       'Германия - Франция - Польша', 'Германия - Швейцария',\n",
       "       'Германия - Швейцария - Франция - Южная Корея - США',\n",
       "       'Германия, Австралия', 'Германия, Бельгия', 'Германия, Россия',\n",
       "       'Германия, США', 'Германия, Франция',\n",
       "       'Германия, Франция, Великобритания', 'Германия, Франция, США',\n",
       "       'Германия-Австрия', 'Германия-Австрия-Франция-Италия',\n",
       "       'Германия-Великобритания', 'Германия-Израиль',\n",
       "       'Германия-Италия- Шри-Ланка', 'Германия-Италия-Швейцария',\n",
       "       'Германия-Канада-Великобритания-Швейцария-Франция',\n",
       "       'Германия-Канада-Франция-Бельгия', 'Германия-Кения',\n",
       "       'Германия-США', 'Германия-Украина-Нидерланды',\n",
       "       'Германия-Франция-Великобритания',\n",
       "       'Германия-Франция-Великобритания-США', 'Германия-Франция-Польша',\n",
       "       'Германия-Швеция', 'Голландия', 'Гонконг', 'Гонконг - КНР',\n",
       "       'Гонконг - Сингапур - Таиланд - Великобритания', 'Гонконг, КНР',\n",
       "       'Греция', 'Греция - Германия - Франция', 'Греция - Россия',\n",
       "       'Грузия', 'Грузия - Россия - Украина - Хорватия - Германия',\n",
       "       'Грузия - Украина', 'Грузия - Франция - Люксембург',\n",
       "       'Грузия-Россия', 'Грузия-Франция', 'Дания',\n",
       "       'Дания - Австрия - Ирландия - Финляндия - Норвегия - Швеция - Нидерланды',\n",
       "       'Дания - Великобритания - ЮАР', 'Дания - Германия',\n",
       "       'Дания - Германия - Швеция', 'Дания - Исландия',\n",
       "       'Дания - Канада - Швеция - Франция - Германия - Великобритания - США',\n",
       "       'Дания - Латвия - Россия - США',\n",
       "       'Дания - Норвегия - Великобритания', 'Дания - США',\n",
       "       'Дания - Франция - Германия - Швеция',\n",
       "       'Дания - Франция - Италия - Бельгия - Нидерланды',\n",
       "       'Дания - Швейцария - Бельгия - Франция', 'Дания - Швеция',\n",
       "       'Дания - Швеция - Великобритания - Франция - Германия - Нидерланды - Норвегия - Финляндия',\n",
       "       'Дания - Швеция - Италия - Франция - Германия',\n",
       "       'Дания, Канада, Норвегия, Австралия, США',\n",
       "       'Дания, Норвегия, Венгрия, Чехия',\n",
       "       'Дания, Норвегия, Швеция, Исландия',\n",
       "       'Дания, Швеция, Великобритания, Франция, Германия, Норвегия, Финляндия, Нидерланды, Италия',\n",
       "       'Дания-Франция-Бельгия-Германия-Великобритания',\n",
       "       'Дания-Швеция-Франция-Германия', 'Израиль',\n",
       "       'Израиль - Германия - Польша - Бельгия - Франция - Люксембург',\n",
       "       'Израиль - Германия - Франция - Швейцария', 'Израиль - Франция',\n",
       "       'Израиль - Франция - Великобритания - Германия',\n",
       "       'Израиль - Франция - Германия - Палестина - США - Австрия - Великобритания',\n",
       "       'Израиль, Украина', 'Израиль-США-Франция', 'Индия',\n",
       "       'Индия - Великобритания', 'Индия - КНР', 'Индия - Мексика',\n",
       "       'Индия - США', 'Индонезия', 'Иран', 'Иран ', 'Иран, Франция',\n",
       "       'Ирландия', 'Ирландия - Великобритания - Канада',\n",
       "       'Ирландия - Великобритания - США',\n",
       "       'Ирландия - Великобритания - Франция - США',\n",
       "       'Ирландия - Великобритания - Франция - США - Германия - Нидерланды',\n",
       "       'Ирландия - Дания - Бельгия - Люксембург - Франция',\n",
       "       'Ирландия - США',\n",
       "       'Ирландия - Финляндия - Бельгия - Великобритания - США - Швейцария',\n",
       "       'Ирландия, Великобритания', 'Ирландия, Канада',\n",
       "       'Ирландия-Великобритания', 'Ирландия-Великобритания-Германия',\n",
       "       'Ирландия-Нидерланды-Франция-США-Великобритания', 'Исландия',\n",
       "       'Исландия - Финляндия', 'Исландия, Бельгия',\n",
       "       'Исландия-Ирландия-Германия', 'Испания', 'Испания - Аргентина',\n",
       "       'Испания - Аргентина - Индия - США',\n",
       "       'Испания - Бельгия - Франция - Португалия - Великобритания',\n",
       "       'Испания - Болгария - США', 'Испания - Великобритания - Франция',\n",
       "       'Испания - Германия - Нидерланды', 'Испания - Италия - Франция',\n",
       "       'Испания - Канада', 'Испания - Канада - Япония', 'Испания - Куба',\n",
       "       'Испания - Мальта', 'Испания - Мексика', 'Испания - США',\n",
       "       'Испания - США - Великобритания - Канада',\n",
       "       'Испания - США - Колумбия', 'Испания - Уругвай - Аргентина',\n",
       "       'Испания - Франция',\n",
       "       'Испания - Франция - Нидерланды - Германия - Бельгия - Великобритания - Канада',\n",
       "       'Испания - Франция - США - Великобритания - Бельгия',\n",
       "       'Испания - Швейцария - Великобритания - Германия - Новая Зеландия - Нидерланды - Канада',\n",
       "       'Испания, Ирландия, Бельгия, Франция',\n",
       "       'Испания, Франция, Великобритания, Дания, Бельгия, Германия',\n",
       "       'Испания, Франция, Италия', 'Испания-Аргентина', 'Испания-Канада',\n",
       "       'Испания-Колумбия', 'Испания-Мексика',\n",
       "       'Испания-Франция-Греция-Индия-США-Россия-Великобритания', 'Италия',\n",
       "       'Италия ', 'Италия - Аргентина - Словения ',\n",
       "       'Италия - Бельгия - Франция', 'Италия - Канада', 'Италия - Россия',\n",
       "       'Италия - США', 'Италия - Франция', 'Италия - Франция - Германия',\n",
       "       'Италия - Франция - Швейцария',\n",
       "       'Италия - Франция - Швейцария - Великобритания',\n",
       "       'Италия - Фрация - Бразилия - Германия',\n",
       "       'Италия - Швейцария - Германия', 'Италия, Германия',\n",
       "       'Италия, Испания', 'Италия, Франция', 'Италия, Франция, Германия',\n",
       "       'Италия-Великобритания', 'Италия-США', 'Италия-Франция',\n",
       "       'Италия-Франция-Великобритания', 'Италия-Швейцария',\n",
       "       'Италия-Швейцария-Франция-Германия ', 'КНР', 'КНР - Гонконг',\n",
       "       'КНР - Гонконг - США', 'КНР - Канада - США', 'КНР - США',\n",
       "       'КНР - США ', 'КНР - Сингапур', 'КНР - Франция',\n",
       "       'КНР, Индия, Гонконг, США', 'КНР, США', 'КНР-США', 'Казахстан',\n",
       "       'Канада', 'Канада - Германия', 'Канада - Испания',\n",
       "       'Канада - Италия', 'Канада - КНР', 'Канада - Мексика',\n",
       "       'Канада - Норвегия', 'Канада - США',\n",
       "       'Канада - США - Германия - Франция',\n",
       "       'Канада - США - Нидерланды - Великобритания - Аргентина',\n",
       "       'Канада - Франция', 'Канада - Франция - Великобритания',\n",
       "       'Канада - Франция - Испания',\n",
       "       'Канада - Франция - США - ОАЭ - Великобритания',\n",
       "       'Канада - Южная Корея', 'Канада, Великобритания', 'Канада, США',\n",
       "       'Канада, США, Каймановы острова', 'Канада, США, Норвегия',\n",
       "       'Канада, Франция, Италия, Швейцария, США', 'Канада- Испания',\n",
       "       'Канада-Бразилия-Япония', 'Канада-Великобритания',\n",
       "       'Канада-Германия', 'Канада-США', 'Канада-Франция', 'Канада-ЮАР',\n",
       "       'Канада-Южная Корея-США', 'Кения, Германия', 'Киргизия',\n",
       "       'Киргизия-Россия', 'Китай', 'Китай - Гонконг',\n",
       "       'Китай, Канада, США', 'Китай, США', 'Китай-Гонконг',\n",
       "       'Китай-Гонконг-США', 'Княжество Андорра - Украина', 'Колумбия',\n",
       "       'Колумбия - США', 'Корея', 'Латвия - Россия', 'Латвия - Франция',\n",
       "       'Ливан-США', 'Литва - Венгрия', 'Литва-Россия-Украина',\n",
       "       'Люксембург - Бельгия - Франция',\n",
       "       'Люксембург - Нидерланды - Испания - Великобритания - США - Италия',\n",
       "       'Македония - Франция - Великобритания', 'Малайзия',\n",
       "       'Малайзия - США', 'Мексика',\n",
       "       'Мексика - Аргентина - Великобритания', 'Мексика - Испания',\n",
       "       'Мексика - Испания - Дания - США',\n",
       "       'Мексика - Нидерланды - Германия - Франция', 'Мексика - США',\n",
       "       'Мексика - Тайвань - США', 'Мексика - Франция',\n",
       "       'Мексика - Франция - Нидерланды - Германия', 'Мексика - Чили',\n",
       "       'Мексика - Эквадор - Канада - США - Франция - Малайзия - Италия - Аргентина - Германия - Индия  ',\n",
       "       'Мексика, Франция, Германия, Дания, Швеция', 'Мексика-Аргентина',\n",
       "       'Монголия', 'Нидерланды', 'Нидерланды - Бельгия - Болгария',\n",
       "       'Нидерланды - Бельгия - Германия - Ирландия',\n",
       "       'Нидерланды - Бельгия - Люксембург',\n",
       "       'Нидерланды - Великобритания - Бельгия', 'Нидерланды - Россия',\n",
       "       'Нидерланды - Россия - Германия',\n",
       "       'Нидерланды - США - Германия - Канада - Франция - Ирландия - Великобритания',\n",
       "       'Нидерланды - Франция - Германия - Бельгия - Швеция - Великобритания',\n",
       "       'Нидерланды, Бельгия', 'Нидерланды, Бельгия, Люксембург',\n",
       "       'Нидерланды-Великобритания-Франция-Италия-Япония',\n",
       "       'Новая Зеландия', 'Новая Зеландия - КНР', 'Новая Зеландия - США',\n",
       "       'Норвегия',\n",
       "       'Норвегия - Азербайджан - Россия - Колумбия - Великобритания - Венгрия - Румыния - Франция - Грузия',\n",
       "       'Норвегия - Дания - Швеция',\n",
       "       'Норвегия - Исландия - США - Великобритания ',\n",
       "       'Норвегия - Нидерланды', 'Норвегия - США', 'Норвегия - Швеция',\n",
       "       'Норвегия - Швеция - Дания - Германия',\n",
       "       'Норвегия - Швеция - Россия', 'Норвегия, Швеция, Дания',\n",
       "       'Норвения', 'ОАЭ - США', 'Пакистан', 'Парагвай', 'Перу', 'Польша',\n",
       "       'Польша - Ирландия', 'Польша - Италия - Россия',\n",
       "       'Польша - Португалия - Франция - Великобритания',\n",
       "       'Польша - Франция', 'Польша - Франция - Великобритания',\n",
       "       'Польша - Франция - Испания - Бразилия - Швеция', 'Португалия',\n",
       "       'Португалия - Франция', 'Португалия, Франция, Польша, США',\n",
       "       'Пуэрто-Рико, Великобритания, США', 'Республика Армения',\n",
       "       'Республика Беларусь',\n",
       "       'Республика Беларусь, Германия, США, Россия',\n",
       "       'Республика Казахстан', 'Республика Кипр',\n",
       "       'Республика Кипр - Россия', 'Республика Кипр, Россия',\n",
       "       'Республика Кипр, США, Россия', 'Республика Кипр-Россия',\n",
       "       'Республика Корея', 'Республика Узбекистан', 'Россия',\n",
       "       'Россия - Азербайджан', 'Россия - Болгария', 'Россия - Германия',\n",
       "       'Россия - Германия - Украина', 'Россия - Германия - Швейцария',\n",
       "       'Россия - Грузия', 'Россия - Италия', 'Россия - Казахстан',\n",
       "       'Россия - Польша', 'Россия - Республика Кипр', 'Россия - США',\n",
       "       'Россия - Франция - Великобритания - Латвия',\n",
       "       'Россия - Эстония - Финляндия - Беларусь', 'Россия,  Испания',\n",
       "       'Россия, Австрия', 'Россия, Армения', 'Россия, Бельгия, Финляндия',\n",
       "       'Россия, Германия', 'Россия, Германия, Великобритания',\n",
       "       'Россия, Германия, Казахстан, Польша, Китай',\n",
       "       'Россия, Германия, Франция, Бельгия', 'Россия, Грузия, Испания',\n",
       "       'Россия, Грузия, Хорватия, Испания', 'Россия, Испания',\n",
       "       'Россия, Италия', 'Россия, Казахстан, США',\n",
       "       'Россия, Латвия, Чешская Республика',\n",
       "       'Россия, Нидерланды, Финляндия', 'Россия, Польша, Финляндия',\n",
       "       'Россия, Республика Беларусь', 'Россия, Республика Кипр',\n",
       "       'Россия, Румыния', 'Россия, Сербия', 'Россия, Таджикистан',\n",
       "       'Россия, Украина', 'Россия, Украина, Польша',\n",
       "       'Россия, Украина, Республика Беларусь, Литва',\n",
       "       'Россия, Франция, Германия, Бельгия', 'Россия, Франция, Латвия',\n",
       "       'Россия-Азербайджан', 'Россия-Беларусь', 'Россия-Белоруссия',\n",
       "       'Россия-Германия', 'Россия-Ирландия', 'Россия-Италия',\n",
       "       'Россия-Казахстан', 'Россия-Кипр', 'Россия-Китай', 'Россия-Польша',\n",
       "       'Россия-Польша-Голландия-Словакия', 'Россия-США',\n",
       "       'Россия-США-Канада-Люксембург', 'Россия-Словакия-Чехия',\n",
       "       'Россия-Украина', 'Россия-Украина-Германия', 'Россия-Франция',\n",
       "       'Румыния', 'Румыния - Франция - Бельгия',\n",
       "       'Румыния, ЮАР, Иран, Франция, Канада, Великобритания',\n",
       "       'Румыния-США', 'СССР', 'СССР ', 'СССР  ', 'СССР   ', 'СССР    ',\n",
       "       'СССР     ', 'СССР - ГДР - Польша - Италия', 'СССР - Италия',\n",
       "       'СССР - Швейцария - Франция', 'СССР, Албания', 'СССР, Афганистан',\n",
       "       'СССР, ВНР', 'СССР, Венгрия', 'СССР, Венгрия, ЧССР, ГДР',\n",
       "       'СССР, ГДР', 'СССР, Италия', 'СССР, Монголия', 'СССР, Польша',\n",
       "       'СССР, Россия', 'СССР, Румыния, Франция', 'СССР, ФРГ',\n",
       "       'СССР, ФРГ, Западный Берлин', 'СССР, Финляндия',\n",
       "       'СССР, Франция, Англия, Куба, ГДР',\n",
       "       'СССР, ЧССР, Западный Берлин, ПНР', 'СССР, Швеция', 'США', 'США ',\n",
       "       'США - Австралия', 'США - Австралия - Дания',\n",
       "       'США - Австралия - Индия', 'США - Австралия - Мексика',\n",
       "       'США - Австралия - Новая Зеландия - Великобритания',\n",
       "       'США - Австралия - Франция', 'США - Бельгия',\n",
       "       'США - Бельгия - Великобритания', 'США - Болгария - Мексика',\n",
       "       'США - Бразилия - Великобритания - Канада',\n",
       "       'США - Бразилия - Франция - Австралия - Великобритания - Германия',\n",
       "       'США - Великобритания', 'США - Великобритания ',\n",
       "       'США - Великобритания - Австралия',\n",
       "       'США - Великобритания - Болгария',\n",
       "       'США - Великобритания - Германия',\n",
       "       'США - Великобритания - Германия - - Швеция - Канада',\n",
       "       'США - Великобритания - Германия - Бельгия - Дания',\n",
       "       'США - Великобритания - Германия - Новая Зеландия - Бельгия - Франция',\n",
       "       'США - Великобритания - Ирландия',\n",
       "       'США - Великобритания - Исландия',\n",
       "       'США - Великобритания - Испания',\n",
       "       'США - Великобритания - Италия - Израиль - Сербия - Индия',\n",
       "       'США - Великобритания - КНР', 'США - Великобритания - Канада',\n",
       "       'США - Великобритания - Канада - КНР',\n",
       "       'США - Великобритания - Канада - Швеция',\n",
       "       'США - Великобритания - Новая Зеландия',\n",
       "       'США - Великобритания - Франция',\n",
       "       'США - Великобритания - Франция - Гонконг',\n",
       "       'США - Великобритания - Чехия',\n",
       "       'США - Великобритания - Швейцария - Франция',\n",
       "       'США - Великобритания - Швеция', 'США - Великобритания - Япония',\n",
       "       'США - Великобритания- Франция - Швеция',\n",
       "       'США - Венгрия - Великобритания', 'США - Вьетнам',\n",
       "       'США - Германия', 'США - Германия - Великобритания',\n",
       "       'США - Германия - Гонконг - Сингапур', 'США - Германия - КНР',\n",
       "       'США - Германия - Канада', 'США - Германия - Нидерланды',\n",
       "       'США - Германия - Франция',\n",
       "       'США - Германия - Франция - Великобритания - Канада ',\n",
       "       'США - Германия - Япония', 'США - Гонконг', 'США - Гонконг - КНР ',\n",
       "       'США - Дания', 'США - Индия', 'США - Индия - ОАЭ',\n",
       "       'США - Ирландия - Великобритания',\n",
       "       'США - Ирландия - Великобритания - Франция', 'США - Испания',\n",
       "       'США - Испания - Болгария', 'США - Испания - Франция',\n",
       "       'США - Испания - Франция - Великобритания', 'США - Италия',\n",
       "       'США - КНР', 'США - КНР - Индия - Ю.Корея', 'США - Канада',\n",
       "       'США - Канада - Аргентина',\n",
       "       'США - Канада - Афганистан - Бельгия - Франция',\n",
       "       'США - Канада - Великобритания', 'США - Канада - Германия',\n",
       "       'США - Канада - Германия - Франция', 'США - Канада - Индонезия',\n",
       "       'США - Канада - КНР',\n",
       "       'США - Канада - Россия - Франция - Чили - Ирландия',\n",
       "       'США - Канада - Франция - Индия', 'США - Канада - Япония - КНР',\n",
       "       'США - Китай', 'США - Колумбия', 'США - Колумбия - Испания',\n",
       "       'США - Мальта', 'США - Мексика',\n",
       "       'США - Нидерланды - Бельгия - Венгрия - Греция - Канада',\n",
       "       'США - Нидерланды - Финляндия - Великобритания - Италия',\n",
       "       'США - Новая Зеландия', 'США - Новая Зеландия - Япония',\n",
       "       'США - Норвегия', 'США - ОАЭ',\n",
       "       'США - Объединенные Арабские Эмираты', 'США - Пуэрто Рико',\n",
       "       'США - Пуэрто-Рико - Франция ', 'США - Россия',\n",
       "       'США - Россия - Польша - Германия - Пуэрто Рико',\n",
       "       'США - Россия - Франция', 'США - Румыния - Великобритания',\n",
       "       'США - Сингапур - Малайзия - Индонезия', 'США - Украина',\n",
       "       'США - Финляндия',\n",
       "       'США - Финляндия - Испания - Великобритания - Франция',\n",
       "       'США - Франция', 'США - Франция - Бельгия - Италия',\n",
       "       'США - Франция - Великобритания',\n",
       "       'США - Франция - Великобритания - Бразилия ',\n",
       "       'США - Франция - Германия',\n",
       "       'США - Франция - Германия - Канада - Австралия ',\n",
       "       'США - Франция - Испания - Великобритания',\n",
       "       'США - Франция - Канада - Великобритания',\n",
       "       'США - Франция - Канада - Германия - Австралия - Индия',\n",
       "       'США - Франция - Турция', 'США - Франция - ЮАР',\n",
       "       'США - Хорватия - Босния-Герцеговина', 'США - Чехия - Франция',\n",
       "       'США - Чили', 'США - Швейцария - Франция', 'США - Швеция',\n",
       "       'США - ЮАР', 'США - ЮАР - Гонконг', 'США - Южная Корея',\n",
       "       'США - Япония', 'США - Япония - Германия',\n",
       "       'США - Япония - Канада - Великобритания - Германия - Франция',\n",
       "       'США - Япония - Франция - Великобритания',\n",
       "       'США -Великобритания - Австралия', 'США -Германия',\n",
       "       'США, Великобритания', 'США, Великобритания, Ирландия, Люксембург',\n",
       "       'США, Великобритания, Люксембург', 'США, Великобритания, Франция',\n",
       "       'США, Германия', 'США, Гонконг ', 'США, Индия', 'США, Канада',\n",
       "       'США, Россия', 'США, Украина', 'США, Франция',\n",
       "       'США, Франция, Япония', 'США, Япония', 'США- Ю.Корея',\n",
       "       'США-Австралия', 'США-Аргентина', 'США-Бельгия',\n",
       "       'США-Великобритания', 'США-Великобритания-Австралия',\n",
       "       'США-Великобритания-Индия', 'США-Великобритания-Ирландия',\n",
       "       'США-Великобритания-Новая Зеландия', 'США-Великобритания-Франция',\n",
       "       'США-Великобритания-Чехия-Румыния', 'США-Венгрия', 'США-Германия',\n",
       "       'США-Германия-Австралия', 'США-Германия-Великобритания',\n",
       "       'США-Германия-Канада', 'США-Гонконг-Китай', 'США-Индия',\n",
       "       'США-Индонезия', 'США-Ирландия', 'США-Испания',\n",
       "       'США-Италия-Греция', 'США-Италия-Испания',\n",
       "       'США-Италия-Испания-Аргентина', 'США-КНР', 'США-Канада',\n",
       "       'США-Канада-Австралия', 'США-Канада-Бельгия', 'США-Канада-Италия',\n",
       "       'США-Канада-Франция', 'США-Китай', 'США-Колумбия', 'США-Мальта',\n",
       "       'США-Мексика', 'США-Нидерланды', 'США-ОАЭ', 'США-Россия',\n",
       "       'США-ФРГ-Россия', 'США-Франция',\n",
       "       'США-Франция-Великобритания-Австрия', 'США-Франция-Ирландия',\n",
       "       'США-Франция-Испания', 'США-Франция-Канада', 'США-ЮАР',\n",
       "       'США-Южная Корея-Новая Зеландия', 'США-Япония',\n",
       "       'США-Япония-Германия-Великобритания',\n",
       "       'США-Япония-Германия-Великобритания-Нидерланды', 'СЩА',\n",
       "       'Сербия - Великобритания - США', 'Сербия - Германия - Венгрия',\n",
       "       'Сербия - Словения - Хорватия - Черногория - Македония',\n",
       "       'Сингапур - Великобритания - Индонезия - Канада - США',\n",
       "       'Сша, Канада', 'Таиланд', 'Таиланд - КНР - США', 'Таиланд - США',\n",
       "       'Таиланд-Великобритания-Франция-Германия-Испания-Нидерланды',\n",
       "       'Турция', 'Турция - Германя - Франция', 'Турция - США', 'Украина',\n",
       "       'Украина - Германия - Латвия - Эстония', 'Украина - Нидерланды',\n",
       "       'Уругвай - Аргентина - Испания', 'Уругвай - Колумбия',\n",
       "       'Уругвай-Мексика-Германия ', 'Финляндия',\n",
       "       'Финляндия - Австрия - Россия',\n",
       "       'Финляндия - Великобритания - Германия', 'Финляндия - Германия',\n",
       "       'Финляндия - Дания - Германия - Ирландия',\n",
       "       'Финляндия - Исландия - Швеция', 'Финляндия - Канада',\n",
       "       'Финляндия - Польша', 'Финляндия - Франция - Германия',\n",
       "       'Финляндия - Швеция - Германия', 'Финляндия - Швеция - Норвегия',\n",
       "       'Финляндия, Латвия', 'Финляндия-Дания-Германия-Ирландия',\n",
       "       'Франция', 'Франция ', 'Франция -  Бельгия', 'Франция - Австрия',\n",
       "       'Франция - Австрия - Германия - Италия - США', 'Франция - Бельгия',\n",
       "       'Франция - Бельгия - Великобритания - Испания - Германия - США',\n",
       "       'Франция - Бельгия - Великобритания - США - Нидерланды - Канада',\n",
       "       'Франция - Бельгия - Испания', 'Франция - Бельгия - Канада',\n",
       "       'Франция - Бельгия - Люксембург', 'Франция - Бельгия - Чехия',\n",
       "       'Франция - Бельгия - Япония', 'Франция - Бенльгия',\n",
       "       'Франция - Бразилия', 'Франция - Бразилия - Италия',\n",
       "       'Франция - Великобритания',\n",
       "       'Франция - Великобритания - Багамские острова - США',\n",
       "       'Франция - Великобритания - Камбоджа - США - КНР',\n",
       "       'Франция - Великобритания - Нидерланды - Люксембург',\n",
       "       'Франция - Германия', 'Франция - Германия - Австрия',\n",
       "       'Франция - Германия - Бельгия', 'Франция - Германия - Италия',\n",
       "       'Франция - Германия - Литва - Нидерланды - Россия',\n",
       "       'Франция - Германия - Нидерланды', 'Франция - Германия - США',\n",
       "       'Франция - Германия - Турция - Катар',\n",
       "       'Франция - Германия - Швеция - США - Чехия - Словакия - Великобритания - Нидерланды',\n",
       "       'Франция - Греция', 'Франция - Дания', 'Франция - Дания - США',\n",
       "       'Франция - Дания - Швеция - КНР', 'Франция - Израиль - Германия',\n",
       "       'Франция - Ирландия - Швеция', 'Франция - Испания',\n",
       "       'Франция - Испания - Дания - Венгрия - Швейцария',\n",
       "       'Франция - Испания - Румыния - США - Бельгия',\n",
       "       'Франция - Испания - Тайвань', 'Франция - Италия',\n",
       "       'Франция - Италия - Бельгия - КНР',\n",
       "       'Франция - Италия - Бельгия - Люксембург',\n",
       "       'Франция - Италия - Великобритания - США',\n",
       "       'Франция - Италия - Иран', 'Франция - Италия - Швейцария',\n",
       "       'Франция - КНР', 'Франция - Канада', 'Франция - Канада - Бельгия',\n",
       "       'Франция - Канада - Н.Зеландия - США - Нидерланды - Германия - Швеция - Россия',\n",
       "       'Франция - Люксембург', 'Франция - Люксембург - Бельгия',\n",
       "       'Франция - Люксембург - Германия - Бельгия - Швейцария - Великобритания ',\n",
       "       'Франция - Македония', 'Франция - Мексика - США',\n",
       "       'Франция - Монако', 'Франция - Нидерланды',\n",
       "       'Франция - Польша - Бельгия', 'Франция - Португалия',\n",
       "       'Франция - Россия',\n",
       "       'Франция - Россия - Швейцария - Румыния - Венгрия',\n",
       "       'Франция - США', 'Франция - США - Бельгия',\n",
       "       'Франция - США - Великобритания - Колумбия - Бельгия - Россия',\n",
       "       'Франция - США - Норвегия - Дания', 'Франция - Сенегал - Бельгия',\n",
       "       'Франция - Украина - Грузия - Армения', 'Франция - Финляндия',\n",
       "       'Франция - Чехия - Бельгия', 'Франция - Чехия - Великобритания',\n",
       "       'Франция - Чили', 'Франция - Швейцария',\n",
       "       'Франция - Швейцария - Германия',\n",
       "       'Франция - Швеция - Дания - Норвегия', 'Франция -Бельгия',\n",
       "       'Франция, Бельгия', 'Франция, Бельгия, Люксембург',\n",
       "       'Франция, Германия', 'Франция, Канада',\n",
       "       'Франция, Люксембург, Бельгия', 'Франция, Новая Зеландия',\n",
       "       'Франция, Норвегия', 'Франция-Австралия', 'Франция-Аргентина',\n",
       "       'Франция-Бельгия', 'Франция-Бельгия-Канада',\n",
       "       'Франция-Великобритания', 'Франция-Великобритания - Германия',\n",
       "       'Франция-Великобритания-Чехия', 'Франция-Германия',\n",
       "       'Франция-Германия-Австрия', 'Франция-Германия-Великобритания',\n",
       "       'Франция-Германия-Италия', 'Франция-Гонконг-Ирландия',\n",
       "       'Франция-Грузия-Германия-Россия-Украина-Бельгия', 'Франция-Индия',\n",
       "       'Франция-Испания', 'Франция-Испания-Бельгия-Панама',\n",
       "       'Франция-Испания-Германия', 'Франция-Испания-Швейцария',\n",
       "       'Франция-Италия', 'Франция-Италия-Испания-Венгрия', 'Франция-КНР',\n",
       "       'Франция-Канада', 'Франция-Китай', 'Франция-Перу',\n",
       "       'Франция-Польша', 'Франция-Россия',\n",
       "       'Франция-Россия-Румыния-Италия-Бельгия', 'Франция-США',\n",
       "       'Франция-Украина', 'Хорватия', 'Чехия', 'Чехия - Германия',\n",
       "       'Чехия - Испания - США', 'Чехия - Словакия - Хорватия',\n",
       "       'Чехия-Великобритания-США', 'Чехословакия', 'Чили',\n",
       "       'Чили - Испания', 'Чили - Франция - США', 'Швейцария',\n",
       "       'Швейцария - Австрия', 'Швейцария - Великобритания',\n",
       "       'Швейцария - Израиль - Франция - Великобритания',\n",
       "       'Швейцария - КНР - США - Россия - Республика Корея - Великобритания',\n",
       "       'Швейцария - Люксембург', 'Швейцария - Франция',\n",
       "       'Швейцария, Великобритания, Франция, США, Ирландия',\n",
       "       'Швейцария-Австрия', 'Швейцария-Германия-ЮАР', 'Швейцария-Франция',\n",
       "       'Швеция', 'Швеция - Германия',\n",
       "       'Швеция - Германия - Дания - Норвегия',\n",
       "       'Швеция - Германия - Франция - Дания',\n",
       "       'Швеция - Германия - Франция - Норвегия', 'Швеция - Дания',\n",
       "       'Швеция - Дания - Финляндия', 'Швеция - Норвегия', 'Швеция - США',\n",
       "       'Швеция - Франция - Норвегия - Дания',\n",
       "       'Швеция, Норвегия, Финляндия, Франция',\n",
       "       'Швеция, Франция, Великобритания', 'Швеция-Куба',\n",
       "       'Швеция-Финляндия-Франция-Норвегия', 'Швеция-Франция',\n",
       "       'Швеция-Франция-Дания', 'Эстония', 'Эстония - Россия', 'ЮАР',\n",
       "       'ЮАР - США', 'Южная Корея', 'Южная Корея - КНР',\n",
       "       'Южная Корея - США', 'Южная Корея - США - Канада', 'Япония',\n",
       "       'Япония - Великобритания - Франция',\n",
       "       'Япония - Великобритания - Швейцария - Ирландия - Дания - Франция - Польша - Австралия - Канада  ',\n",
       "       'Япония - КНР - Южная Корея', 'Япония - Канада', 'Япония - США',\n",
       "       'Япония - Франция - США - Южная Корея - Турция',\n",
       "       'Япония, Великобритания',\n",
       "       'Япония, Великобритания, Австрия, Германия, Ю.Корея',\n",
       "       'Япония, США', 'Япония-Великобритания', 'Япония-США-Франция'],\n",
       "      dtype=object)"
      ]
     },
     "execution_count": 60,
     "metadata": {},
     "output_type": "execute_result"
    }
   ],
   "source": [
    "data['production_country'].sort_values().unique()"
   ]
  },
  {
   "cell_type": "markdown",
   "metadata": {},
   "source": [
    "Видны дубли и неточности. Сделаем самые очевидные замены."
   ]
  },
  {
   "cell_type": "code",
   "execution_count": 61,
   "metadata": {},
   "outputs": [],
   "source": [
    "def wrong_value(value):\n",
    "    value = value.replace(' ', '')\n",
    "    value = value.replace(',', '-')\n",
    "    value = value.replace('2019', 'unknown')\n",
    "    value = value.replace('СЩА', 'США')    \n",
    "    value = value.replace('CША', 'США') \n",
    "    return value"
   ]
  },
  {
   "cell_type": "code",
   "execution_count": 62,
   "metadata": {},
   "outputs": [
    {
     "data": {
      "text/plain": [
       "array(['unknown', 'Австралия', 'Австралия-Великобритания',\n",
       "       'Австралия-Великобритания-Бельгия-Индия', 'Австралия-Германия',\n",
       "       'Австралия-Ирландия', 'Австралия-Канада', 'Австралия-Колумбия',\n",
       "       'Австралия-США', 'Австралия-Турция-США', 'Австрия',\n",
       "       'Австрия-Великобритания-Германия', 'Австрия-Германия',\n",
       "       'Австрия-Германия-Франция', 'Австрия-Люксембург',\n",
       "       'Австрия-Франция-Германия', 'Азербайджан-Россия', 'Аргентина',\n",
       "       'Аргентина-Бразилия', 'Аргентина-Испания',\n",
       "       'Аргентина-Испания-Уругвай',\n",
       "       'Аргентина-Мексика-Бразилия-Франция-США',\n",
       "       'Аргентина-Уругвай-Россия-Германия-Франция-Нидерланды',\n",
       "       'Аргентина-Франция-Испания', 'Армения', 'Армения-Германия',\n",
       "       'Армения-Казахстан', 'Армения-Россия', 'Бельгия',\n",
       "       'Бельгия-Великобритания-США',\n",
       "       'Бельгия-Германия-Канада-Франция-США-Великобритания',\n",
       "       'Бельгия-Германия-Люксембург',\n",
       "       'Бельгия-Германия-Люксембург-Франция',\n",
       "       'Бельгия-Испания-Канада-Нидерланды', 'Бельгия-Италия-Франция',\n",
       "       'Бельгия-Канада', 'Бельгия-Люксембург',\n",
       "       'Бельгия-Люксембург-Франция-Швейцария', 'Бельгия-Нидерланды',\n",
       "       'Бельгия-Нидерланды-Франция', 'Бельгия-США', 'Бельгия-Франция',\n",
       "       'Бельгия-Франция-Италия', 'Бельгия-Франция-Люксембург', 'Болгария',\n",
       "       'Болгария-США', 'Болгария-Франция-Изриль',\n",
       "       'БоснияиГерцеговина-Франция-Великобритания-Германия-Словения-Бельгия-Сербия',\n",
       "       'Бразилия', 'Бразилия-Германия-Порртугалия-Франция',\n",
       "       'Бразилия-Испания', 'Бразилия-К;анада', 'Бразилия-Канада-США',\n",
       "       'Бразилия-Португалия-Франция', 'Бразилия-США', 'Бразилия-США-КНР',\n",
       "       'Бразилия-Уругвай-Дания-Норвегия-Чили-Швеция', 'Великобритания',\n",
       "       'Великобритания-Австралия', 'Великобритания-Австралия-США',\n",
       "       'Великобритания-Австрия-Германия',\n",
       "       'Великобритания-Австрия-Франция-США',\n",
       "       'Великобритания-Аргентина-США-Франция-Россия-Испания',\n",
       "       'Великобритания-Венгрия', 'Великобритания-Германия',\n",
       "       'Великобритания-Германия-Дания-США',\n",
       "       'Великобритания-Германия-Канада-ЮАР',\n",
       "       'Великобритания-Германия-Нидерланды-Дания',\n",
       "       'Великобритания-Германия-США',\n",
       "       'Великобритания-Германия-Франция-Кипр-США',\n",
       "       'Великобритания-Гонконг-Венгрия-США-Ирландия',\n",
       "       'Великобритания-Дания', 'Великобритания-Израиль',\n",
       "       'Великобритания-Израиль-Франция-Япония-США',\n",
       "       'Великобритания-Ирландия', 'Великобритания-Ирландия-США',\n",
       "       'Великобритания-Исландия-Испания-Швейцария-США',\n",
       "       'Великобритания-Испания', 'Великобритания-Испания-Германия',\n",
       "       'Великобритания-Испания-Италия-Латвия-Франция-Эстония',\n",
       "       'Великобритания-Испания-Непал-Индия-Венгрия-Гонконг-Германия-Дания-Бахрейн',\n",
       "       'Великобритания-Италия', 'Великобритания-Италия-Испания',\n",
       "       'Великобритания-Италия-Швейцария', 'Великобритания-КНР',\n",
       "       'Великобритания-Канада', 'Великобритания-Канада-США',\n",
       "       'Великобритания-Люксембург', 'Великобритания-Мексика-США',\n",
       "       'Великобритания-Нидерланды-Германия-Франция-Бельгия-Австрия',\n",
       "       'Великобритания-Нидерланды-Польша-Швейцария-Франция',\n",
       "       'Великобритания-Нидерланды-Франция-США',\n",
       "       'Великобритания-Нидерланды-Франция-Хорватия',\n",
       "       'Великобритания-НоваяЗеландия',\n",
       "       'Великобритания-Норвегия-Дания-Германия',\n",
       "       'Великобритания-Норвегия-Кения-Хорватия', 'Великобритания-Польша',\n",
       "       'Великобритания-Польша-КНР-Индия-Норвегия',\n",
       "       'Великобритания-Пуэрто-Рико', 'Великобритания-Россия-КНР',\n",
       "       'Великобритания-Россия-Украина-США', 'Великобритания-Румыния',\n",
       "       'Великобритания-США',\n",
       "       'Великобритания-США-Австралия-Ирландия-Германия-Куба-Канада',\n",
       "       'Великобритания-США-Германия',\n",
       "       'Великобритания-США-Германия-Бельгия',\n",
       "       'Великобритания-США-Германия-КНР',\n",
       "       'Великобритания-США-Германия-Канада-Австралия',\n",
       "       'Великобритания-США-Индия', 'Великобритания-США-Испания',\n",
       "       'Великобритания-США-Канада',\n",
       "       'Великобритания-США-Канада-Бельгия-Нидерланды-Австрия-Германия',\n",
       "       'Великобритания-США-Канада-Нидерланды-Франция',\n",
       "       'Великобритания-США-Россия', 'Великобритания-США-Франция',\n",
       "       'Великобритания-США-Швейцария', 'Великобритания-Франция',\n",
       "       'Великобритания-Франция-Австрия-Швеция',\n",
       "       'Великобритания-Франция-Бельгия',\n",
       "       'Великобритания-Франция-Бельгия-Италия',\n",
       "       'Великобритания-Франция-Бельгия-США',\n",
       "       'Великобритания-Франция-Венгрия',\n",
       "       'Великобритания-Франция-Германия',\n",
       "       'Великобритания-Франция-Германия-США',\n",
       "       'Великобритания-Франция-Италия',\n",
       "       'Великобритания-Франция-Италия-Индия-Дания-КНР-Бангладеш-Камбоджа-Гаити-Уганда',\n",
       "       'Великобритания-Франция-Италия-США',\n",
       "       'Великобритания-Франция-РеспубликаКипр-Швейцария-США-Сербия',\n",
       "       'Великобритания-Франция-США',\n",
       "       'Великобритания-Франция-Швеция-Бельгия',\n",
       "       'Великобритания-Чехия-Франция',\n",
       "       'Великобритания-Чехия-Франция-Италия', 'Великобритания-Швеция-США',\n",
       "       'Великобритания-ЮАР',\n",
       "       'Великобритания-ЮжнаяКорея-Канада-США-Индия-Китай-Япония',\n",
       "       'Великобритания-Япония-США', 'Венгрия', 'Венгрия-Германия-Швеция',\n",
       "       'Венесуэла', 'Германия', 'Германия-Австралия', 'Германия-Австрия',\n",
       "       'Германия-Австрия-Ирландия', 'Германия-Австрия-Франция',\n",
       "       'Германия-Австрия-Франция-Италия',\n",
       "       'Германия-Аргентина-Нидерланды-Чили', 'Германия-Бельгия',\n",
       "       'Германия-Бельгия-Великобритания',\n",
       "       'Германия-Бельгия-Люксембург-Ирландия',\n",
       "       'Германия-Бельгия-Люксембург-Норвегия',\n",
       "       'Германия-Бельгия-США-Франция', 'Германия-Великобритания',\n",
       "       'Германия-Великобритания-Австрия',\n",
       "       'Германия-Великобритания-Италия-Испания',\n",
       "       'Германия-Великобритания-США',\n",
       "       'Германия-Дания-Испания-Швеция-Канада-Эстония-Франция',\n",
       "       'Германия-Дания-Норвегия', 'Германия-Израиль', 'Германия-Исландия',\n",
       "       'Германия-Италия', 'Германия-Италия-США',\n",
       "       'Германия-Италия-Франция', 'Германия-Италия-Швейцария',\n",
       "       'Германия-Италия-Шри-Ланка', 'Германия-Канада',\n",
       "       'Германия-Канада-Великобритания-Швейцария-Франция',\n",
       "       'Германия-Канада-Франция-Бельгия', 'Германия-Кения',\n",
       "       'Германия-Китай', 'Германия-Люксембург-Бельгия',\n",
       "       'Германия-Люксембург-Дания', 'Германия-Люксембург-Франция',\n",
       "       'Германия-Нидерланды-Беларусь-Россия-Латвия',\n",
       "       'Германия-Нидерланды-ЮАР', 'Германия-Россия', 'Германия-США',\n",
       "       'Германия-США-Великобритания-Израиль',\n",
       "       'Германия-США-Великобритания-Ирландия',\n",
       "       'Германия-США-Франция-Испания', 'Германия-США-Швеция-Франция',\n",
       "       'Германия-Украина-Нидерланды', 'Германия-Финляндия-Австралия',\n",
       "       'Германия-Франция', 'Германия-Франция-Австрия',\n",
       "       'Германия-Франция-Бельгия', 'Германия-Франция-Великобритания',\n",
       "       'Германия-Франция-Великобритания-Польша-США',\n",
       "       'Германия-Франция-Великобритания-США', 'Германия-Франция-Канада',\n",
       "       'Германия-Франция-Люксембург', 'Германия-Франция-Польша',\n",
       "       'Германия-Франция-Польша-Турция-Канада-Италия-Россия',\n",
       "       'Германия-Франция-США', 'Германия-Швейцария',\n",
       "       'Германия-Швейцария-Франция-ЮжнаяКорея-США', 'Германия-Швеция',\n",
       "       'Голландия', 'Гонконг', 'Гонконг-КНР',\n",
       "       'Гонконг-Сингапур-Таиланд-Великобритания', 'Греция',\n",
       "       'Греция-Германия-Франция', 'Греция-Россия', 'Грузия',\n",
       "       'Грузия-Россия', 'Грузия-Россия-Украина-Хорватия-Германия',\n",
       "       'Грузия-Украина', 'Грузия-Франция', 'Грузия-Франция-Люксембург',\n",
       "       'Дания',\n",
       "       'Дания-Австрия-Ирландия-Финляндия-Норвегия-Швеция-Нидерланды',\n",
       "       'Дания-Великобритания-ЮАР', 'Дания-Германия',\n",
       "       'Дания-Германия-Швеция', 'Дания-Исландия',\n",
       "       'Дания-Канада-Норвегия-Австралия-США',\n",
       "       'Дания-Канада-Швеция-Франция-Германия-Великобритания-США',\n",
       "       'Дания-Латвия-Россия-США', 'Дания-Норвегия-Великобритания',\n",
       "       'Дания-Норвегия-Венгрия-Чехия', 'Дания-Норвегия-Швеция-Исландия',\n",
       "       'Дания-США', 'Дания-Франция-Бельгия-Германия-Великобритания',\n",
       "       'Дания-Франция-Германия-Швеция',\n",
       "       'Дания-Франция-Италия-Бельгия-Нидерланды',\n",
       "       'Дания-Швейцария-Бельгия-Франция', 'Дания-Швеция',\n",
       "       'Дания-Швеция-Великобритания-Франция-Германия-Нидерланды-Норвегия-Финляндия',\n",
       "       'Дания-Швеция-Великобритания-Франция-Германия-Норвегия-Финляндия-Нидерланды-Италия',\n",
       "       'Дания-Швеция-Италия-Франция-Германия',\n",
       "       'Дания-Швеция-Франция-Германия', 'Израиль',\n",
       "       'Израиль-Германия-Польша-Бельгия-Франция-Люксембург',\n",
       "       'Израиль-Германия-Франция-Швейцария', 'Израиль-США-Франция',\n",
       "       'Израиль-Украина', 'Израиль-Франция',\n",
       "       'Израиль-Франция-Великобритания-Германия',\n",
       "       'Израиль-Франция-Германия-Палестина-США-Австрия-Великобритания',\n",
       "       'Индия', 'Индия-Великобритания', 'Индия-КНР', 'Индия-Мексика',\n",
       "       'Индия-США', 'Индонезия', 'Иран', 'Иран-Франция', 'Ирландия',\n",
       "       'Ирландия-Великобритания', 'Ирландия-Великобритания-Германия',\n",
       "       'Ирландия-Великобритания-Канада', 'Ирландия-Великобритания-США',\n",
       "       'Ирландия-Великобритания-Франция-США',\n",
       "       'Ирландия-Великобритания-Франция-США-Германия-Нидерланды',\n",
       "       'Ирландия-Дания-Бельгия-Люксембург-Франция', 'Ирландия-Канада',\n",
       "       'Ирландия-Нидерланды-Франция-США-Великобритания', 'Ирландия-США',\n",
       "       'Ирландия-Финляндия-Бельгия-Великобритания-США-Швейцария',\n",
       "       'Исландия', 'Исландия-Бельгия', 'Исландия-Ирландия-Германия',\n",
       "       'Исландия-Финляндия', 'Испания', 'Испания-Аргентина',\n",
       "       'Испания-Аргентина-Индия-США',\n",
       "       'Испания-Бельгия-Франция-Португалия-Великобритания',\n",
       "       'Испания-Болгария-США', 'Испания-Великобритания-Франция',\n",
       "       'Испания-Германия-Нидерланды', 'Испания-Ирландия-Бельгия-Франция',\n",
       "       'Испания-Италия-Франция', 'Испания-Канада',\n",
       "       'Испания-Канада-Япония', 'Испания-Колумбия', 'Испания-Куба',\n",
       "       'Испания-Мальта', 'Испания-Мексика', 'Испания-США',\n",
       "       'Испания-США-Великобритания-Канада', 'Испания-США-Колумбия',\n",
       "       'Испания-Уругвай-Аргентина', 'Испания-Франция',\n",
       "       'Испания-Франция-Великобритания-Дания-Бельгия-Германия',\n",
       "       'Испания-Франция-Греция-Индия-США-Россия-Великобритания',\n",
       "       'Испания-Франция-Италия',\n",
       "       'Испания-Франция-Нидерланды-Германия-Бельгия-Великобритания-Канада',\n",
       "       'Испания-Франция-США-Великобритания-Бельгия',\n",
       "       'Испания-Швейцария-Великобритания-Германия-НоваяЗеландия-Нидерланды-Канада',\n",
       "       'Италия', 'Италия-Аргентина-Словения', 'Италия-Бельгия-Франция',\n",
       "       'Италия-Великобритания', 'Италия-Германия', 'Италия-Испания',\n",
       "       'Италия-Канада', 'Италия-Россия', 'Италия-США', 'Италия-Франция',\n",
       "       'Италия-Франция-Великобритания', 'Италия-Франция-Германия',\n",
       "       'Италия-Франция-Швейцария',\n",
       "       'Италия-Франция-Швейцария-Великобритания',\n",
       "       'Италия-Фрация-Бразилия-Германия', 'Италия-Швейцария',\n",
       "       'Италия-Швейцария-Германия', 'Италия-Швейцария-Франция-Германия',\n",
       "       'КНР', 'КНР-Гонконг', 'КНР-Гонконг-США', 'КНР-Индия-Гонконг-США',\n",
       "       'КНР-Канада-США', 'КНР-США', 'КНР-Сингапур', 'КНР-Франция',\n",
       "       'Казахстан', 'Канада', 'Канада-Бразилия-Япония',\n",
       "       'Канада-Великобритания', 'Канада-Германия', 'Канада-Испания',\n",
       "       'Канада-Италия', 'Канада-КНР', 'Канада-Мексика', 'Канада-Норвегия',\n",
       "       'Канада-США', 'Канада-США-Германия-Франция',\n",
       "       'Канада-США-Каймановыострова',\n",
       "       'Канада-США-Нидерланды-Великобритания-Аргентина',\n",
       "       'Канада-США-Норвегия', 'Канада-Франция',\n",
       "       'Канада-Франция-Великобритания', 'Канада-Франция-Испания',\n",
       "       'Канада-Франция-Италия-Швейцария-США',\n",
       "       'Канада-Франция-США-ОАЭ-Великобритания', 'Канада-ЮАР',\n",
       "       'Канада-ЮжнаяКорея', 'Канада-ЮжнаяКорея-США', 'Кения-Германия',\n",
       "       'Киргизия', 'Киргизия-Россия', 'Китай', 'Китай-Гонконг',\n",
       "       'Китай-Гонконг-США', 'Китай-Канада-США', 'Китай-США',\n",
       "       'КняжествоАндорра-Украина', 'Колумбия', 'Колумбия-США', 'Корея',\n",
       "       'Латвия-Россия', 'Латвия-Франция', 'Ливан-США', 'Литва-Венгрия',\n",
       "       'Литва-Россия-Украина', 'Люксембург-Бельгия-Франция',\n",
       "       'Люксембург-Нидерланды-Испания-Великобритания-США-Италия',\n",
       "       'Македония-Франция-Великобритания', 'Малайзия', 'Малайзия-США',\n",
       "       'Мексика', 'Мексика-Аргентина', 'Мексика-Аргентина-Великобритания',\n",
       "       'Мексика-Испания', 'Мексика-Испания-Дания-США',\n",
       "       'Мексика-Нидерланды-Германия-Франция', 'Мексика-США',\n",
       "       'Мексика-Тайвань-США', 'Мексика-Франция',\n",
       "       'Мексика-Франция-Германия-Дания-Швеция',\n",
       "       'Мексика-Франция-Нидерланды-Германия', 'Мексика-Чили',\n",
       "       'Мексика-Эквадор-Канада-США-Франция-Малайзия-Италия-Аргентина-Германия-Индия',\n",
       "       'Монголия', 'Нидерланды', 'Нидерланды-Бельгия',\n",
       "       'Нидерланды-Бельгия-Болгария',\n",
       "       'Нидерланды-Бельгия-Германия-Ирландия',\n",
       "       'Нидерланды-Бельгия-Люксембург',\n",
       "       'Нидерланды-Великобритания-Бельгия',\n",
       "       'Нидерланды-Великобритания-Франция-Италия-Япония',\n",
       "       'Нидерланды-Россия', 'Нидерланды-Россия-Германия',\n",
       "       'Нидерланды-США-Германия-Канада-Франция-Ирландия-Великобритания',\n",
       "       'Нидерланды-Франция-Германия-Бельгия-Швеция-Великобритания',\n",
       "       'НоваяЗеландия', 'НоваяЗеландия-КНР', 'НоваяЗеландия-США',\n",
       "       'Норвегия',\n",
       "       'Норвегия-Азербайджан-Россия-Колумбия-Великобритания-Венгрия-Румыния-Франция-Грузия',\n",
       "       'Норвегия-Дания-Швеция', 'Норвегия-Исландия-США-Великобритания',\n",
       "       'Норвегия-Нидерланды', 'Норвегия-США', 'Норвегия-Швеция',\n",
       "       'Норвегия-Швеция-Дания', 'Норвегия-Швеция-Дания-Германия',\n",
       "       'Норвегия-Швеция-Россия', 'Норвения', 'ОАЭ-США', 'Пакистан',\n",
       "       'Парагвай', 'Перу', 'Польша', 'Польша-Ирландия',\n",
       "       'Польша-Италия-Россия', 'Польша-Португалия-Франция-Великобритания',\n",
       "       'Польша-Франция', 'Польша-Франция-Великобритания',\n",
       "       'Польша-Франция-Испания-Бразилия-Швеция', 'Португалия',\n",
       "       'Португалия-Франция', 'Португалия-Франция-Польша-США',\n",
       "       'Пуэрто-Рико-Великобритания-США', 'РеспубликаАрмения',\n",
       "       'РеспубликаБеларусь', 'РеспубликаБеларусь-Германия-США-Россия',\n",
       "       'РеспубликаКазахстан', 'РеспубликаКипр', 'РеспубликаКипр-Россия',\n",
       "       'РеспубликаКипр-США-Россия', 'РеспубликаКорея',\n",
       "       'РеспубликаУзбекистан', 'Россия', 'Россия-Австрия',\n",
       "       'Россия-Азербайджан', 'Россия-Армения', 'Россия-Беларусь',\n",
       "       'Россия-Белоруссия', 'Россия-Бельгия-Финляндия', 'Россия-Болгария',\n",
       "       'Россия-Германия', 'Россия-Германия-Великобритания',\n",
       "       'Россия-Германия-Казахстан-Польша-Китай',\n",
       "       'Россия-Германия-Украина', 'Россия-Германия-Франция-Бельгия',\n",
       "       'Россия-Германия-Швейцария', 'Россия-Грузия',\n",
       "       'Россия-Грузия-Испания', 'Россия-Грузия-Хорватия-Испания',\n",
       "       'Россия-Ирландия', 'Россия-Испания', 'Россия-Италия',\n",
       "       'Россия-Казахстан', 'Россия-Казахстан-США', 'Россия-Кипр',\n",
       "       'Россия-Китай', 'Россия-Латвия-ЧешскаяРеспублика',\n",
       "       'Россия-Нидерланды-Финляндия', 'Россия-Польша',\n",
       "       'Россия-Польша-Голландия-Словакия', 'Россия-Польша-Финляндия',\n",
       "       'Россия-РеспубликаБеларусь', 'Россия-РеспубликаКипр',\n",
       "       'Россия-Румыния', 'Россия-США', 'Россия-США-Канада-Люксембург',\n",
       "       'Россия-Сербия', 'Россия-Словакия-Чехия', 'Россия-Таджикистан',\n",
       "       'Россия-Украина', 'Россия-Украина-Германия',\n",
       "       'Россия-Украина-Польша', 'Россия-Украина-РеспубликаБеларусь-Литва',\n",
       "       'Россия-Франция', 'Россия-Франция-Великобритания-Латвия',\n",
       "       'Россия-Франция-Германия-Бельгия', 'Россия-Франция-Латвия',\n",
       "       'Россия-Эстония-Финляндия-Беларусь', 'Румыния', 'Румыния-США',\n",
       "       'Румыния-Франция-Бельгия',\n",
       "       'Румыния-ЮАР-Иран-Франция-Канада-Великобритания', 'СССР',\n",
       "       'СССР-Албания', 'СССР-Афганистан', 'СССР-ВНР', 'СССР-Венгрия',\n",
       "       'СССР-Венгрия-ЧССР-ГДР', 'СССР-ГДР', 'СССР-ГДР-Польша-Италия',\n",
       "       'СССР-Италия', 'СССР-Монголия', 'СССР-Польша', 'СССР-Россия',\n",
       "       'СССР-Румыния-Франция', 'СССР-ФРГ', 'СССР-ФРГ-ЗападныйБерлин',\n",
       "       'СССР-Финляндия', 'СССР-Франция-Англия-Куба-ГДР',\n",
       "       'СССР-ЧССР-ЗападныйБерлин-ПНР', 'СССР-Швейцария-Франция',\n",
       "       'СССР-Швеция', 'США', 'США-Австралия', 'США-Австралия-Дания',\n",
       "       'США-Австралия-Индия', 'США-Австралия-Мексика',\n",
       "       'США-Австралия-НоваяЗеландия-Великобритания',\n",
       "       'США-Австралия-Франция', 'США-Аргентина', 'США-Бельгия',\n",
       "       'США-Бельгия-Великобритания', 'США-Болгария-Мексика',\n",
       "       'США-Бразилия-Великобритания-Канада',\n",
       "       'США-Бразилия-Франция-Австралия-Великобритания-Германия',\n",
       "       'США-Великобритания', 'США-Великобритания-Австралия',\n",
       "       'США-Великобритания-Болгария', 'США-Великобритания-Германия',\n",
       "       'США-Великобритания-Германия--Швеция-Канада',\n",
       "       'США-Великобритания-Германия-Бельгия-Дания',\n",
       "       'США-Великобритания-Германия-НоваяЗеландия-Бельгия-Франция',\n",
       "       'США-Великобритания-Индия', 'США-Великобритания-Ирландия',\n",
       "       'США-Великобритания-Ирландия-Люксембург',\n",
       "       'США-Великобритания-Исландия', 'США-Великобритания-Испания',\n",
       "       'США-Великобритания-Италия-Израиль-Сербия-Индия',\n",
       "       'США-Великобритания-КНР', 'США-Великобритания-Канада',\n",
       "       'США-Великобритания-Канада-КНР',\n",
       "       'США-Великобритания-Канада-Швеция',\n",
       "       'США-Великобритания-Люксембург',\n",
       "       'США-Великобритания-НоваяЗеландия', 'США-Великобритания-Франция',\n",
       "       'США-Великобритания-Франция-Гонконг',\n",
       "       'США-Великобритания-Франция-Швеция', 'США-Великобритания-Чехия',\n",
       "       'США-Великобритания-Чехия-Румыния',\n",
       "       'США-Великобритания-Швейцария-Франция',\n",
       "       'США-Великобритания-Швеция', 'США-Великобритания-Япония',\n",
       "       'США-Венгрия', 'США-Венгрия-Великобритания', 'США-Вьетнам',\n",
       "       'США-Германия', 'США-Германия-Австралия',\n",
       "       'США-Германия-Великобритания', 'США-Германия-Гонконг-Сингапур',\n",
       "       'США-Германия-КНР', 'США-Германия-Канада',\n",
       "       'США-Германия-Нидерланды', 'США-Германия-Франция',\n",
       "       'США-Германия-Франция-Великобритания-Канада',\n",
       "       'США-Германия-Япония', 'США-Гонконг', 'США-Гонконг-КНР',\n",
       "       'США-Гонконг-Китай', 'США-Дания', 'США-Индия', 'США-Индия-ОАЭ',\n",
       "       'США-Индонезия', 'США-Ирландия', 'США-Ирландия-Великобритания',\n",
       "       'США-Ирландия-Великобритания-Франция', 'США-Испания',\n",
       "       'США-Испания-Болгария', 'США-Испания-Франция',\n",
       "       'США-Испания-Франция-Великобритания', 'США-Италия',\n",
       "       'США-Италия-Греция', 'США-Италия-Испания',\n",
       "       'США-Италия-Испания-Аргентина', 'США-КНР', 'США-КНР-Индия-Ю.Корея',\n",
       "       'США-Канада', 'США-Канада-Австралия', 'США-Канада-Аргентина',\n",
       "       'США-Канада-Афганистан-Бельгия-Франция', 'США-Канада-Бельгия',\n",
       "       'США-Канада-Великобритания', 'США-Канада-Германия',\n",
       "       'США-Канада-Германия-Франция', 'США-Канада-Индонезия',\n",
       "       'США-Канада-Италия', 'США-Канада-КНР',\n",
       "       'США-Канада-Россия-Франция-Чили-Ирландия', 'США-Канада-Франция',\n",
       "       'США-Канада-Франция-Индия', 'США-Канада-Япония-КНР', 'США-Китай',\n",
       "       'США-Колумбия', 'США-Колумбия-Испания', 'США-Мальта',\n",
       "       'США-Мексика', 'США-Нидерланды',\n",
       "       'США-Нидерланды-Бельгия-Венгрия-Греция-Канада',\n",
       "       'США-Нидерланды-Финляндия-Великобритания-Италия',\n",
       "       'США-НоваяЗеландия', 'США-НоваяЗеландия-Япония', 'США-Норвегия',\n",
       "       'США-ОАЭ', 'США-ОбъединенныеАрабскиеЭмираты',\n",
       "       'США-Пуэрто-Рико-Франция', 'США-ПуэртоРико', 'США-Россия',\n",
       "       'США-Россия-Польша-Германия-ПуэртоРико', 'США-Россия-Франция',\n",
       "       'США-Румыния-Великобритания', 'США-Сингапур-Малайзия-Индонезия',\n",
       "       'США-Украина', 'США-ФРГ-Россия', 'США-Финляндия',\n",
       "       'США-Финляндия-Испания-Великобритания-Франция', 'США-Франция',\n",
       "       'США-Франция-Бельгия-Италия', 'США-Франция-Великобритания',\n",
       "       'США-Франция-Великобритания-Австрия',\n",
       "       'США-Франция-Великобритания-Бразилия', 'США-Франция-Германия',\n",
       "       'США-Франция-Германия-Канада-Австралия', 'США-Франция-Ирландия',\n",
       "       'США-Франция-Испания', 'США-Франция-Испания-Великобритания',\n",
       "       'США-Франция-Канада', 'США-Франция-Канада-Великобритания',\n",
       "       'США-Франция-Канада-Германия-Австралия-Индия',\n",
       "       'США-Франция-Турция', 'США-Франция-ЮАР', 'США-Франция-Япония',\n",
       "       'США-Хорватия-Босния-Герцеговина', 'США-Чехия-Франция', 'США-Чили',\n",
       "       'США-Швейцария-Франция', 'США-Швеция', 'США-Ю.Корея', 'США-ЮАР',\n",
       "       'США-ЮАР-Гонконг', 'США-ЮжнаяКорея',\n",
       "       'США-ЮжнаяКорея-НоваяЗеландия', 'США-Япония',\n",
       "       'США-Япония-Германия', 'США-Япония-Германия-Великобритания',\n",
       "       'США-Япония-Германия-Великобритания-Нидерланды',\n",
       "       'США-Япония-Канада-Великобритания-Германия-Франция',\n",
       "       'США-Япония-Франция-Великобритания', 'Сербия-Великобритания-США',\n",
       "       'Сербия-Германия-Венгрия',\n",
       "       'Сербия-Словения-Хорватия-Черногория-Македония',\n",
       "       'Сингапур-Великобритания-Индонезия-Канада-США', 'Сша-Канада',\n",
       "       'Таиланд',\n",
       "       'Таиланд-Великобритания-Франция-Германия-Испания-Нидерланды',\n",
       "       'Таиланд-КНР-США', 'Таиланд-США', 'Турция',\n",
       "       'Турция-Германя-Франция', 'Турция-США', 'Украина',\n",
       "       'Украина-Германия-Латвия-Эстония', 'Украина-Нидерланды',\n",
       "       'Уругвай-Аргентина-Испания', 'Уругвай-Колумбия',\n",
       "       'Уругвай-Мексика-Германия', 'Финляндия',\n",
       "       'Финляндия-Австрия-Россия', 'Финляндия-Великобритания-Германия',\n",
       "       'Финляндия-Германия', 'Финляндия-Дания-Германия-Ирландия',\n",
       "       'Финляндия-Исландия-Швеция', 'Финляндия-Канада',\n",
       "       'Финляндия-Латвия', 'Финляндия-Польша',\n",
       "       'Финляндия-Франция-Германия', 'Финляндия-Швеция-Германия',\n",
       "       'Финляндия-Швеция-Норвегия', 'Франция', 'Франция-Австралия',\n",
       "       'Франция-Австрия', 'Франция-Австрия-Германия-Италия-США',\n",
       "       'Франция-Аргентина', 'Франция-Бельгия',\n",
       "       'Франция-Бельгия-Великобритания-Испания-Германия-США',\n",
       "       'Франция-Бельгия-Великобритания-США-Нидерланды-Канада',\n",
       "       'Франция-Бельгия-Испания', 'Франция-Бельгия-Канада',\n",
       "       'Франция-Бельгия-Люксембург', 'Франция-Бельгия-Чехия',\n",
       "       'Франция-Бельгия-Япония', 'Франция-Бенльгия', 'Франция-Бразилия',\n",
       "       'Франция-Бразилия-Италия', 'Франция-Великобритания',\n",
       "       'Франция-Великобритания-Багамскиеострова-США',\n",
       "       'Франция-Великобритания-Германия',\n",
       "       'Франция-Великобритания-Камбоджа-США-КНР',\n",
       "       'Франция-Великобритания-Нидерланды-Люксембург',\n",
       "       'Франция-Великобритания-Чехия', 'Франция-Германия',\n",
       "       'Франция-Германия-Австрия', 'Франция-Германия-Бельгия',\n",
       "       'Франция-Германия-Великобритания', 'Франция-Германия-Италия',\n",
       "       'Франция-Германия-Литва-Нидерланды-Россия',\n",
       "       'Франция-Германия-Нидерланды', 'Франция-Германия-США',\n",
       "       'Франция-Германия-Турция-Катар',\n",
       "       'Франция-Германия-Швеция-США-Чехия-Словакия-Великобритания-Нидерланды',\n",
       "       'Франция-Гонконг-Ирландия', 'Франция-Греция',\n",
       "       'Франция-Грузия-Германия-Россия-Украина-Бельгия', 'Франция-Дания',\n",
       "       'Франция-Дания-США', 'Франция-Дания-Швеция-КНР',\n",
       "       'Франция-Израиль-Германия', 'Франция-Индия',\n",
       "       'Франция-Ирландия-Швеция', 'Франция-Испания',\n",
       "       'Франция-Испания-Бельгия-Панама', 'Франция-Испания-Германия',\n",
       "       'Франция-Испания-Дания-Венгрия-Швейцария',\n",
       "       'Франция-Испания-Румыния-США-Бельгия', 'Франция-Испания-Тайвань',\n",
       "       'Франция-Испания-Швейцария', 'Франция-Италия',\n",
       "       'Франция-Италия-Бельгия-КНР', 'Франция-Италия-Бельгия-Люксембург',\n",
       "       'Франция-Италия-Великобритания-США', 'Франция-Италия-Иран',\n",
       "       'Франция-Италия-Испания-Венгрия', 'Франция-Италия-Швейцария',\n",
       "       'Франция-КНР', 'Франция-Канада', 'Франция-Канада-Бельгия',\n",
       "       'Франция-Канада-Н.Зеландия-США-Нидерланды-Германия-Швеция-Россия',\n",
       "       'Франция-Китай', 'Франция-Люксембург',\n",
       "       'Франция-Люксембург-Бельгия',\n",
       "       'Франция-Люксембург-Германия-Бельгия-Швейцария-Великобритания',\n",
       "       'Франция-Македония', 'Франция-Мексика-США', 'Франция-Монако',\n",
       "       'Франция-Нидерланды', 'Франция-НоваяЗеландия', 'Франция-Норвегия',\n",
       "       'Франция-Перу', 'Франция-Польша', 'Франция-Польша-Бельгия',\n",
       "       'Франция-Португалия', 'Франция-Россия',\n",
       "       'Франция-Россия-Румыния-Италия-Бельгия',\n",
       "       'Франция-Россия-Швейцария-Румыния-Венгрия', 'Франция-США',\n",
       "       'Франция-США-Бельгия',\n",
       "       'Франция-США-Великобритания-Колумбия-Бельгия-Россия',\n",
       "       'Франция-США-Норвегия-Дания', 'Франция-Сенегал-Бельгия',\n",
       "       'Франция-Украина', 'Франция-Украина-Грузия-Армения',\n",
       "       'Франция-Финляндия', 'Франция-Чехия-Бельгия',\n",
       "       'Франция-Чехия-Великобритания', 'Франция-Чили',\n",
       "       'Франция-Швейцария', 'Франция-Швейцария-Германия',\n",
       "       'Франция-Швеция-Дания-Норвегия', 'Хорватия', 'Чехия',\n",
       "       'Чехия-Великобритания-США', 'Чехия-Германия', 'Чехия-Испания-США',\n",
       "       'Чехия-Словакия-Хорватия', 'Чехословакия', 'Чили', 'Чили-Испания',\n",
       "       'Чили-Франция-США', 'Швейцария', 'Швейцария-Австрия',\n",
       "       'Швейцария-Великобритания',\n",
       "       'Швейцария-Великобритания-Франция-США-Ирландия',\n",
       "       'Швейцария-Германия-ЮАР',\n",
       "       'Швейцария-Израиль-Франция-Великобритания',\n",
       "       'Швейцария-КНР-США-Россия-РеспубликаКорея-Великобритания',\n",
       "       'Швейцария-Люксембург', 'Швейцария-Франция', 'Швеция',\n",
       "       'Швеция-Германия', 'Швеция-Германия-Дания-Норвегия',\n",
       "       'Швеция-Германия-Франция-Дания',\n",
       "       'Швеция-Германия-Франция-Норвегия', 'Швеция-Дания',\n",
       "       'Швеция-Дания-Финляндия', 'Швеция-Куба', 'Швеция-Норвегия',\n",
       "       'Швеция-Норвегия-Финляндия-Франция', 'Швеция-США',\n",
       "       'Швеция-Финляндия-Франция-Норвегия', 'Швеция-Франция',\n",
       "       'Швеция-Франция-Великобритания', 'Швеция-Франция-Дания',\n",
       "       'Швеция-Франция-Норвегия-Дания', 'Эстония', 'Эстония-Россия',\n",
       "       'ЮАР', 'ЮАР-США', 'ЮжнаяКорея', 'ЮжнаяКорея-КНР', 'ЮжнаяКорея-США',\n",
       "       'ЮжнаяКорея-США-Канада', 'Япония', 'Япония-Великобритания',\n",
       "       'Япония-Великобритания-Австрия-Германия-Ю.Корея',\n",
       "       'Япония-Великобритания-Франция',\n",
       "       'Япония-Великобритания-Швейцария-Ирландия-Дания-Франция-Польша-Австралия-Канада',\n",
       "       'Япония-КНР-ЮжнаяКорея', 'Япония-Канада', 'Япония-США',\n",
       "       'Япония-США-Франция', 'Япония-Франция-США-ЮжнаяКорея-Турция'],\n",
       "      dtype=object)"
      ]
     },
     "execution_count": 62,
     "metadata": {},
     "output_type": "execute_result"
    }
   ],
   "source": [
    "data['production_country'] = data['production_country'].apply(wrong_value)\n",
    "data['production_country'].sort_values().unique()"
   ]
  },
  {
   "cell_type": "markdown",
   "metadata": {},
   "source": [
    "`director`,  `producer`"
   ]
  },
  {
   "cell_type": "code",
   "execution_count": 63,
   "metadata": {},
   "outputs": [
    {
     "data": {
      "text/plain": [
       "array([' Йохан Нийенхейс', ' Н.Орлов, Р.Быков', ' Р.Асхаев', ...,\n",
       "       'хореография Пьера Лакотта по Филиппу Тальони',\n",
       "       'хореография Фредерика Аштона', 'хореография Фредерика Эштона'],\n",
       "      dtype=object)"
      ]
     },
     "execution_count": 63,
     "metadata": {},
     "output_type": "execute_result"
    }
   ],
   "source": [
    "data['director'].sort_values().unique()"
   ]
  },
  {
   "cell_type": "code",
   "execution_count": 64,
   "metadata": {},
   "outputs": [
    {
     "data": {
      "text/plain": [
       "array([' А.Шальопа', ' Г.Шпригов',\n",
       "       ' Дитмар Ганше, Филипп Фогес,  Бенджамин Херрман, Миша Хоффманн, Эберхард Юнексдорф, Энн Мередит',\n",
       "       ..., 'Яэль Бергман, Лаура Уотерс, Питер Хеллайар',\n",
       "       'Яэль Фогель, Летиция Гонзалез', nan], dtype=object)"
      ]
     },
     "execution_count": 64,
     "metadata": {},
     "output_type": "execute_result"
    }
   ],
   "source": [
    "data['producer'].sort_values().unique()"
   ]
  },
  {
   "cell_type": "markdown",
   "metadata": {},
   "source": [
    "Уберем пробелы в начале и в конце слов. "
   ]
  },
  {
   "cell_type": "code",
   "execution_count": 65,
   "metadata": {},
   "outputs": [],
   "source": [
    "data['director'] = data['director'].str.strip()\n",
    "data['producer'] = data['director'].str.strip()"
   ]
  },
  {
   "cell_type": "markdown",
   "metadata": {},
   "source": [
    "`age_restriction`"
   ]
  },
  {
   "cell_type": "code",
   "execution_count": 66,
   "metadata": {},
   "outputs": [
    {
     "data": {
      "text/plain": [
       "array(['«0+» - для любой зрительской аудитории',\n",
       "       '«12+» - для детей старше 12 лет',\n",
       "       '«16+» - для детей старше 16 лет', '«18+» - запрещено для детей',\n",
       "       '«6+» - для детей старше 6 лет'], dtype=object)"
      ]
     },
     "execution_count": 66,
     "metadata": {},
     "output_type": "execute_result"
    }
   ],
   "source": [
    "data['age_restriction'].sort_values().unique()"
   ]
  },
  {
   "cell_type": "markdown",
   "metadata": {},
   "source": [
    "Для удобства работы с графиками переименуем категории."
   ]
  },
  {
   "cell_type": "code",
   "execution_count": 67,
   "metadata": {},
   "outputs": [],
   "source": [
    "data.loc[(data['age_restriction'] == '«0+» - для любой зрительской аудитории'), 'age_restriction'] = '«0+»'\n",
    "data.loc[(data['age_restriction'] == '«12+» - для детей старше 12 лет'), 'age_restriction'] = '«12+»' \n",
    "data.loc[(data['age_restriction'] == '«16+» - для детей старше 16 лет'), 'age_restriction'] = '«16+»'\n",
    "data.loc[(data['age_restriction'] == '«6+» - для детей старше 6 лет'), 'age_restriction'] = '«6+»'\n",
    "data.loc[(data['age_restriction'] == '«18+» - запрещено для детей'), 'age_restriction'] = '«18+»'"
   ]
  },
  {
   "cell_type": "code",
   "execution_count": 68,
   "metadata": {
    "scrolled": true
   },
   "outputs": [
    {
     "data": {
      "text/plain": [
       "array(['«0+»', '«12+»', '«16+»', '«18+»', '«6+»'], dtype=object)"
      ]
     },
     "execution_count": 68,
     "metadata": {},
     "output_type": "execute_result"
    }
   ],
   "source": [
    "data['age_restriction'].sort_values().unique()"
   ]
  },
  {
   "cell_type": "markdown",
   "metadata": {},
   "source": [
    "Вопросов по данным нет."
   ]
  },
  {
   "cell_type": "markdown",
   "metadata": {},
   "source": [
    "`refundable_support`, `nonrefundable_support`"
   ]
  },
  {
   "cell_type": "code",
   "execution_count": 69,
   "metadata": {},
   "outputs": [
    {
     "data": {
      "text/plain": [
       "array([0.000000e+00, 3.500000e+06, 5.000000e+06, 7.000000e+06,\n",
       "       7.153119e+06, 7.346881e+06, 8.000000e+06, 9.000000e+06,\n",
       "       1.000000e+07, 1.500000e+07, 1.700000e+07, 1.900000e+07,\n",
       "       2.000000e+07, 2.500000e+07, 2.600000e+07, 2.800000e+07,\n",
       "       2.900000e+07, 3.000000e+07, 3.500000e+07, 3.600000e+07,\n",
       "       3.800000e+07, 4.000000e+07, 4.100000e+07, 4.400000e+07,\n",
       "       5.000000e+07, 5.500000e+07, 6.000000e+07, 7.500000e+07,\n",
       "       8.000000e+07, 1.000000e+08, 1.100000e+08, 1.150000e+08,\n",
       "       1.500000e+08, 1.800000e+08])"
      ]
     },
     "execution_count": 69,
     "metadata": {},
     "output_type": "execute_result"
    }
   ],
   "source": [
    "data['refundable_support'].sort_values().unique()"
   ]
  },
  {
   "cell_type": "code",
   "execution_count": 70,
   "metadata": {},
   "outputs": [
    {
     "data": {
      "text/plain": [
       "array([0.00000000e+00, 3.00000000e+06, 4.70000000e+06, 5.00000000e+06,\n",
       "       5.30000000e+06, 6.00000000e+06, 8.00000000e+06, 1.00000000e+07,\n",
       "       1.15200000e+07, 1.50000000e+07, 2.00000000e+07, 2.01452850e+07,\n",
       "       2.17000000e+07, 2.29040000e+07, 2.30000000e+07, 2.40000000e+07,\n",
       "       2.44500000e+07, 2.45000000e+07, 2.49860000e+07, 2.50000000e+07,\n",
       "       2.52000000e+07, 2.53450000e+07, 2.55000000e+07, 2.59000000e+07,\n",
       "       2.60000000e+07, 2.65000000e+07, 2.69500000e+07, 2.70000000e+07,\n",
       "       2.75000000e+07, 2.75100000e+07, 2.80000000e+07, 2.85000000e+07,\n",
       "       2.90000000e+07, 3.00000000e+07, 3.01239150e+07, 3.10000000e+07,\n",
       "       3.40000000e+07, 3.50000000e+07, 3.70000000e+07, 4.00000000e+07,\n",
       "       4.15000000e+07, 4.50000000e+07, 4.65022990e+07, 5.00000000e+07,\n",
       "       5.00008660e+07, 5.10000000e+07, 5.50000000e+07, 5.65790550e+07,\n",
       "       5.90000000e+07, 6.00000000e+07, 6.40000000e+07, 7.00000000e+07,\n",
       "       7.50000000e+07, 8.00000000e+07, 8.50000000e+07, 9.00000000e+07,\n",
       "       9.70000000e+07, 1.00000000e+08, 1.07847945e+08, 1.10000000e+08,\n",
       "       1.20000000e+08, 1.30000000e+08, 1.33000000e+08, 1.38969465e+08,\n",
       "       1.40000000e+08, 1.50000000e+08, 1.75000000e+08, 1.90000000e+08,\n",
       "       2.00000000e+08, 2.25000000e+08, 2.50000000e+08, 2.60000000e+08,\n",
       "       3.00000000e+08, 3.92104482e+08, 4.00000000e+08])"
      ]
     },
     "execution_count": 70,
     "metadata": {},
     "output_type": "execute_result"
    }
   ],
   "source": [
    "data['nonrefundable_support'].sort_values().unique()"
   ]
  },
  {
   "cell_type": "markdown",
   "metadata": {},
   "source": [
    "Вопросов по данным нет."
   ]
  },
  {
   "cell_type": "markdown",
   "metadata": {},
   "source": [
    "`budget`"
   ]
  },
  {
   "cell_type": "markdown",
   "metadata": {},
   "source": [
    "Проверим есть ли данные, для которых `'budget'` < (`'refundable_support'` + `'nonrefundable_support'`)"
   ]
  },
  {
   "cell_type": "code",
   "execution_count": 71,
   "metadata": {},
   "outputs": [
    {
     "data": {
      "text/plain": [
       "17"
      ]
     },
     "execution_count": 71,
     "metadata": {},
     "output_type": "execute_result"
    }
   ],
   "source": [
    "data.query('budget < (refundable_support + nonrefundable_support)')['title'].count()"
   ]
  },
  {
   "cell_type": "markdown",
   "metadata": {},
   "source": [
    "Такие фильмы есть, их 17. Значение общего бюджета для них равно нулю."
   ]
  },
  {
   "cell_type": "code",
   "execution_count": 72,
   "metadata": {},
   "outputs": [
    {
     "data": {
      "text/html": [
       "<div>\n",
       "<style scoped>\n",
       "    .dataframe tbody tr th:only-of-type {\n",
       "        vertical-align: middle;\n",
       "    }\n",
       "\n",
       "    .dataframe tbody tr th {\n",
       "        vertical-align: top;\n",
       "    }\n",
       "\n",
       "    .dataframe thead th {\n",
       "        text-align: right;\n",
       "    }\n",
       "</style>\n",
       "<table border=\"1\" class=\"dataframe\">\n",
       "  <thead>\n",
       "    <tr style=\"text-align: right;\">\n",
       "      <th></th>\n",
       "      <th>2053</th>\n",
       "      <th>2058</th>\n",
       "      <th>2472</th>\n",
       "      <th>2532</th>\n",
       "      <th>2615</th>\n",
       "      <th>2684</th>\n",
       "      <th>2788</th>\n",
       "      <th>2874</th>\n",
       "      <th>3047</th>\n",
       "      <th>3565</th>\n",
       "      <th>3675</th>\n",
       "      <th>3739</th>\n",
       "      <th>5673</th>\n",
       "      <th>5806</th>\n",
       "      <th>6008</th>\n",
       "      <th>6323</th>\n",
       "      <th>6823</th>\n",
       "    </tr>\n",
       "  </thead>\n",
       "  <tbody>\n",
       "    <tr>\n",
       "      <th>title</th>\n",
       "      <td>14+</td>\n",
       "      <td>дуxless 2</td>\n",
       "      <td>воин (2015)</td>\n",
       "      <td>бармен.</td>\n",
       "      <td>савва. сердце воина</td>\n",
       "      <td>тряпичный союз</td>\n",
       "      <td>срочно выйду замуж</td>\n",
       "      <td>помню - не помню!</td>\n",
       "      <td>любовь с ограничениями</td>\n",
       "      <td>притяжение (2016)</td>\n",
       "      <td>чудо-юдо</td>\n",
       "      <td>мифы</td>\n",
       "      <td>селфи</td>\n",
       "      <td>два хвоста</td>\n",
       "      <td>принцесса и дракон</td>\n",
       "      <td>баба яга</td>\n",
       "      <td>большое путешествие</td>\n",
       "    </tr>\n",
       "    <tr>\n",
       "      <th>pu_number</th>\n",
       "      <td>111023614</td>\n",
       "      <td>111000415</td>\n",
       "      <td>111017315</td>\n",
       "      <td>111009615</td>\n",
       "      <td>114001715</td>\n",
       "      <td>111010215</td>\n",
       "      <td>111017115</td>\n",
       "      <td>111004916</td>\n",
       "      <td>111008216</td>\n",
       "      <td>111018116</td>\n",
       "      <td>114001817</td>\n",
       "      <td>111004317</td>\n",
       "      <td>111012117</td>\n",
       "      <td>114001018</td>\n",
       "      <td>114003018</td>\n",
       "      <td>114006518</td>\n",
       "      <td>114002419</td>\n",
       "    </tr>\n",
       "    <tr>\n",
       "      <th>show_start_date</th>\n",
       "      <td>2014-12-19T12:00:00.000Z</td>\n",
       "      <td>2015-01-26T12:00:00.000Z</td>\n",
       "      <td>2015-09-28T12:00:00.000Z</td>\n",
       "      <td>2015-05-26T12:00:00.000Z</td>\n",
       "      <td>2015-07-21T12:00:00.000Z</td>\n",
       "      <td>2015-06-08T12:00:00.000Z</td>\n",
       "      <td>2015-09-30T12:00:00.000Z</td>\n",
       "      <td>2016-03-01T12:00:00.000Z</td>\n",
       "      <td>2016-04-29T12:00:00.000Z</td>\n",
       "      <td>2016-12-16T12:00:00.000Z</td>\n",
       "      <td>2017-06-27T12:00:00.000Z</td>\n",
       "      <td>2017-06-07T12:00:00.000Z</td>\n",
       "      <td>2018-02-01T12:00:00.000Z</td>\n",
       "      <td>2018-05-31T12:00:00.000Z</td>\n",
       "      <td>2018-08-23T12:00:00.000Z</td>\n",
       "      <td>2018-11-08T12:00:00.000Z</td>\n",
       "      <td>2019-04-20T12:00:00.000Z</td>\n",
       "    </tr>\n",
       "    <tr>\n",
       "      <th>type</th>\n",
       "      <td>Художественный</td>\n",
       "      <td>Художественный</td>\n",
       "      <td>Художественный</td>\n",
       "      <td>Художественный</td>\n",
       "      <td>Анимационный</td>\n",
       "      <td>Художественный</td>\n",
       "      <td>Художественный</td>\n",
       "      <td>Художественный</td>\n",
       "      <td>Художественный</td>\n",
       "      <td>Художественный</td>\n",
       "      <td>Анимационный</td>\n",
       "      <td>Художественный</td>\n",
       "      <td>Художественный</td>\n",
       "      <td>Анимационный</td>\n",
       "      <td>Анимационный</td>\n",
       "      <td>Анимационный</td>\n",
       "      <td>Анимационный</td>\n",
       "    </tr>\n",
       "    <tr>\n",
       "      <th>film_studio</th>\n",
       "      <td>ооо киностудия  \"сентябрь\"</td>\n",
       "      <td>ооо \"киностудия \"слово\", ооо \"арт пикчерс студия\"</td>\n",
       "      <td>ооо \"форпост продакшн\", ооо \"арт пикчерс студия\"</td>\n",
       "      <td>ао \"вайт медиа\", ооо \"арт пикчерс студия\"</td>\n",
       "      <td>ооо \"глюкоза продакшн\", ооо \"арт пикчерс студия\"</td>\n",
       "      <td>ооо \"кинокомпания \"коктебель\"</td>\n",
       "      <td>ао \"вайт медиа\", ооо \"арт пикчерс студия\"</td>\n",
       "      <td>ооо \"кинофирма\"</td>\n",
       "      <td>ао \"вайт медиа\", ооо \"арт пикчерс студия\"</td>\n",
       "      <td>ооо \"водород 2011\",  ооо \"арт пикчерс студия\"</td>\n",
       "      <td>ооо \"кинофирма\"</td>\n",
       "      <td>ооо \"хайпфилм\", ооо \"арт пикчерс студия\"</td>\n",
       "      <td>ооо \"киностудия \"слово\", ооо \"арт пикчерс студия\"</td>\n",
       "      <td>ооо \"лицензионные бренды\"</td>\n",
       "      <td>ооо \"лицензионные бренды\"</td>\n",
       "      <td>ооо \"арт пикчерс студия\"</td>\n",
       "      <td>ооо \"лицензионные бренды\"</td>\n",
       "    </tr>\n",
       "    <tr>\n",
       "      <th>production_country</th>\n",
       "      <td>Россия</td>\n",
       "      <td>Россия</td>\n",
       "      <td>Россия</td>\n",
       "      <td>Россия</td>\n",
       "      <td>Россия</td>\n",
       "      <td>Россия</td>\n",
       "      <td>Россия</td>\n",
       "      <td>Россия</td>\n",
       "      <td>Россия</td>\n",
       "      <td>Россия</td>\n",
       "      <td>Россия</td>\n",
       "      <td>Россия</td>\n",
       "      <td>Россия</td>\n",
       "      <td>Россия</td>\n",
       "      <td>Россия</td>\n",
       "      <td>Россия</td>\n",
       "      <td>Россия</td>\n",
       "    </tr>\n",
       "    <tr>\n",
       "      <th>director</th>\n",
       "      <td>А.Зайцев</td>\n",
       "      <td>Р.Прыгунов</td>\n",
       "      <td>А.Андрианов</td>\n",
       "      <td>Д.Штурманова</td>\n",
       "      <td>М.Фадеев</td>\n",
       "      <td>М.Местецкий</td>\n",
       "      <td>С Чекалов</td>\n",
       "      <td>В.Ровенский</td>\n",
       "      <td>Д.Тюрин</td>\n",
       "      <td>Ф.Бондарчук</td>\n",
       "      <td>А.Лукичев</td>\n",
       "      <td>А.Молочников</td>\n",
       "      <td>Н.Хомерики</td>\n",
       "      <td>В.Ровенский, Н.Лопато, В.Азеев</td>\n",
       "      <td>М.Нефедова</td>\n",
       "      <td>В.Саков</td>\n",
       "      <td>Н.Лопато, В.Ровенский</td>\n",
       "    </tr>\n",
       "    <tr>\n",
       "      <th>producer</th>\n",
       "      <td>А.Зайцев</td>\n",
       "      <td>Р.Прыгунов</td>\n",
       "      <td>А.Андрианов</td>\n",
       "      <td>Д.Штурманова</td>\n",
       "      <td>М.Фадеев</td>\n",
       "      <td>М.Местецкий</td>\n",
       "      <td>С Чекалов</td>\n",
       "      <td>В.Ровенский</td>\n",
       "      <td>Д.Тюрин</td>\n",
       "      <td>Ф.Бондарчук</td>\n",
       "      <td>А.Лукичев</td>\n",
       "      <td>А.Молочников</td>\n",
       "      <td>Н.Хомерики</td>\n",
       "      <td>В.Ровенский, Н.Лопато, В.Азеев</td>\n",
       "      <td>М.Нефедова</td>\n",
       "      <td>В.Саков</td>\n",
       "      <td>Н.Лопато, В.Ровенский</td>\n",
       "    </tr>\n",
       "    <tr>\n",
       "      <th>age_restriction</th>\n",
       "      <td>«16+»</td>\n",
       "      <td>«16+»</td>\n",
       "      <td>«12+»</td>\n",
       "      <td>«16+»</td>\n",
       "      <td>«6+»</td>\n",
       "      <td>«18+»</td>\n",
       "      <td>«16+»</td>\n",
       "      <td>«12+»</td>\n",
       "      <td>«16+»</td>\n",
       "      <td>«12+»</td>\n",
       "      <td>«6+»</td>\n",
       "      <td>«16+»</td>\n",
       "      <td>«16+»</td>\n",
       "      <td>«6+»</td>\n",
       "      <td>«6+»</td>\n",
       "      <td>«6+»</td>\n",
       "      <td>«6+»</td>\n",
       "    </tr>\n",
       "    <tr>\n",
       "      <th>refundable_support</th>\n",
       "      <td>0.0</td>\n",
       "      <td>0.0</td>\n",
       "      <td>10000000.0</td>\n",
       "      <td>20000000.0</td>\n",
       "      <td>60000000.0</td>\n",
       "      <td>0.0</td>\n",
       "      <td>0.0</td>\n",
       "      <td>0.0</td>\n",
       "      <td>19000000.0</td>\n",
       "      <td>0.0</td>\n",
       "      <td>20000000.0</td>\n",
       "      <td>25000000.0</td>\n",
       "      <td>20000000.0</td>\n",
       "      <td>10000000.0</td>\n",
       "      <td>40000000.0</td>\n",
       "      <td>0.0</td>\n",
       "      <td>60000000.0</td>\n",
       "    </tr>\n",
       "    <tr>\n",
       "      <th>nonrefundable_support</th>\n",
       "      <td>23000000.0</td>\n",
       "      <td>75000000.0</td>\n",
       "      <td>70000000.0</td>\n",
       "      <td>0.0</td>\n",
       "      <td>100000000.0</td>\n",
       "      <td>59000000.0</td>\n",
       "      <td>35000000.0</td>\n",
       "      <td>6000000.0</td>\n",
       "      <td>51000000.0</td>\n",
       "      <td>250000000.0</td>\n",
       "      <td>20000000.0</td>\n",
       "      <td>20000000.0</td>\n",
       "      <td>40000000.0</td>\n",
       "      <td>60000000.0</td>\n",
       "      <td>40000000.0</td>\n",
       "      <td>138969465.0</td>\n",
       "      <td>120000000.0</td>\n",
       "    </tr>\n",
       "    <tr>\n",
       "      <th>budget</th>\n",
       "      <td>0.0</td>\n",
       "      <td>0.0</td>\n",
       "      <td>0.0</td>\n",
       "      <td>0.0</td>\n",
       "      <td>0.0</td>\n",
       "      <td>0.0</td>\n",
       "      <td>0.0</td>\n",
       "      <td>0.0</td>\n",
       "      <td>0.0</td>\n",
       "      <td>0.0</td>\n",
       "      <td>0.0</td>\n",
       "      <td>0.0</td>\n",
       "      <td>0.0</td>\n",
       "      <td>0.0</td>\n",
       "      <td>0.0</td>\n",
       "      <td>0.0</td>\n",
       "      <td>0.0</td>\n",
       "    </tr>\n",
       "    <tr>\n",
       "      <th>financing_source</th>\n",
       "      <td>Министерство культуры, Фонд кино</td>\n",
       "      <td>Фонд кино</td>\n",
       "      <td>Фонд кино</td>\n",
       "      <td>Фонд кино</td>\n",
       "      <td>Фонд кино</td>\n",
       "      <td>Фонд кино</td>\n",
       "      <td>Фонд кино</td>\n",
       "      <td>Министерство культуры</td>\n",
       "      <td>Фонд кино</td>\n",
       "      <td>Фонд кино</td>\n",
       "      <td>Фонд кино</td>\n",
       "      <td>Фонд кино</td>\n",
       "      <td>Фонд кино</td>\n",
       "      <td>Фонд кино</td>\n",
       "      <td>Фонд кино</td>\n",
       "      <td>Фонд кино</td>\n",
       "      <td>Фонд кино</td>\n",
       "    </tr>\n",
       "    <tr>\n",
       "      <th>ratings</th>\n",
       "      <td>6.6</td>\n",
       "      <td>6.6</td>\n",
       "      <td>7.8</td>\n",
       "      <td>6.2</td>\n",
       "      <td>4.6</td>\n",
       "      <td>6.3</td>\n",
       "      <td>5.1</td>\n",
       "      <td>4.3</td>\n",
       "      <td>6.3</td>\n",
       "      <td>5.6</td>\n",
       "      <td>5.2</td>\n",
       "      <td>4.8</td>\n",
       "      <td>5.8</td>\n",
       "      <td>5.0</td>\n",
       "      <td>5.2</td>\n",
       "      <td>0</td>\n",
       "      <td>6.2</td>\n",
       "    </tr>\n",
       "    <tr>\n",
       "      <th>genres</th>\n",
       "      <td>мелодрама</td>\n",
       "      <td>драма</td>\n",
       "      <td>боевик,драма,криминал</td>\n",
       "      <td>комедия,фэнтези</td>\n",
       "      <td>мультфильм,приключения,фэнтези</td>\n",
       "      <td>комедия,драма</td>\n",
       "      <td>комедия,мелодрама</td>\n",
       "      <td>комедия</td>\n",
       "      <td>комедия,мелодрама</td>\n",
       "      <td>фантастика</td>\n",
       "      <td>мультфильм,фэнтези,семейный</td>\n",
       "      <td>комедия</td>\n",
       "      <td>триллер,драма</td>\n",
       "      <td>мультфильм,детский</td>\n",
       "      <td>мультфильм,фэнтези,детский</td>\n",
       "      <td>unknown</td>\n",
       "      <td>мультфильм,комедия,приключения</td>\n",
       "    </tr>\n",
       "    <tr>\n",
       "      <th>box_office</th>\n",
       "      <td>10234016.1</td>\n",
       "      <td>446163511.0</td>\n",
       "      <td>196572438.4</td>\n",
       "      <td>67418974.8</td>\n",
       "      <td>184487551.4</td>\n",
       "      <td>1957738.51</td>\n",
       "      <td>72937783.2</td>\n",
       "      <td>15362931.43</td>\n",
       "      <td>70299052.0</td>\n",
       "      <td>1038321489.0</td>\n",
       "      <td>55108014.76</td>\n",
       "      <td>50451949.0</td>\n",
       "      <td>225196400.03</td>\n",
       "      <td>106514301.03</td>\n",
       "      <td>83366328.66</td>\n",
       "      <td>1334699.4</td>\n",
       "      <td>147606826.51</td>\n",
       "    </tr>\n",
       "  </tbody>\n",
       "</table>\n",
       "</div>"
      ],
      "text/plain": [
       "                                                   2053  \\\n",
       "title                                               14+   \n",
       "pu_number                                     111023614   \n",
       "show_start_date                2014-12-19T12:00:00.000Z   \n",
       "type                                     Художественный   \n",
       "film_studio                  ооо киностудия  \"сентябрь\"   \n",
       "production_country                               Россия   \n",
       "director                                       А.Зайцев   \n",
       "producer                                       А.Зайцев   \n",
       "age_restriction                                   «16+»   \n",
       "refundable_support                                  0.0   \n",
       "nonrefundable_support                        23000000.0   \n",
       "budget                                              0.0   \n",
       "financing_source       Министерство культуры, Фонд кино   \n",
       "ratings                                             6.6   \n",
       "genres                                        мелодрама   \n",
       "box_office                                   10234016.1   \n",
       "\n",
       "                                                                    2058  \\\n",
       "title                                                          дуxless 2   \n",
       "pu_number                                                      111000415   \n",
       "show_start_date                                 2015-01-26T12:00:00.000Z   \n",
       "type                                                      Художественный   \n",
       "film_studio            ооо \"киностудия \"слово\", ооо \"арт пикчерс студия\"   \n",
       "production_country                                                Россия   \n",
       "director                                                      Р.Прыгунов   \n",
       "producer                                                      Р.Прыгунов   \n",
       "age_restriction                                                    «16+»   \n",
       "refundable_support                                                   0.0   \n",
       "nonrefundable_support                                         75000000.0   \n",
       "budget                                                               0.0   \n",
       "financing_source                                               Фонд кино   \n",
       "ratings                                                              6.6   \n",
       "genres                                                             драма   \n",
       "box_office                                                   446163511.0   \n",
       "\n",
       "                                                                   2472  \\\n",
       "title                                                       воин (2015)   \n",
       "pu_number                                                     111017315   \n",
       "show_start_date                                2015-09-28T12:00:00.000Z   \n",
       "type                                                     Художественный   \n",
       "film_studio            ооо \"форпост продакшн\", ооо \"арт пикчерс студия\"   \n",
       "production_country                                               Россия   \n",
       "director                                                    А.Андрианов   \n",
       "producer                                                    А.Андрианов   \n",
       "age_restriction                                                   «12+»   \n",
       "refundable_support                                           10000000.0   \n",
       "nonrefundable_support                                        70000000.0   \n",
       "budget                                                              0.0   \n",
       "financing_source                                              Фонд кино   \n",
       "ratings                                                             7.8   \n",
       "genres                                            боевик,драма,криминал   \n",
       "box_office                                                  196572438.4   \n",
       "\n",
       "                                                            2532  \\\n",
       "title                                                    бармен.   \n",
       "pu_number                                              111009615   \n",
       "show_start_date                         2015-05-26T12:00:00.000Z   \n",
       "type                                              Художественный   \n",
       "film_studio            ао \"вайт медиа\", ооо \"арт пикчерс студия\"   \n",
       "production_country                                        Россия   \n",
       "director                                            Д.Штурманова   \n",
       "producer                                            Д.Штурманова   \n",
       "age_restriction                                            «16+»   \n",
       "refundable_support                                    20000000.0   \n",
       "nonrefundable_support                                        0.0   \n",
       "budget                                                       0.0   \n",
       "financing_source                                       Фонд кино   \n",
       "ratings                                                      6.2   \n",
       "genres                                           комедия,фэнтези   \n",
       "box_office                                            67418974.8   \n",
       "\n",
       "                                                                   2615  \\\n",
       "title                                               савва. сердце воина   \n",
       "pu_number                                                     114001715   \n",
       "show_start_date                                2015-07-21T12:00:00.000Z   \n",
       "type                                                       Анимационный   \n",
       "film_studio            ооо \"глюкоза продакшн\", ооо \"арт пикчерс студия\"   \n",
       "production_country                                               Россия   \n",
       "director                                                       М.Фадеев   \n",
       "producer                                                       М.Фадеев   \n",
       "age_restriction                                                    «6+»   \n",
       "refundable_support                                           60000000.0   \n",
       "nonrefundable_support                                       100000000.0   \n",
       "budget                                                              0.0   \n",
       "financing_source                                              Фонд кино   \n",
       "ratings                                                             4.6   \n",
       "genres                                   мультфильм,приключения,фэнтези   \n",
       "box_office                                                  184487551.4   \n",
       "\n",
       "                                                2684  \\\n",
       "title                                 тряпичный союз   \n",
       "pu_number                                  111010215   \n",
       "show_start_date             2015-06-08T12:00:00.000Z   \n",
       "type                                  Художественный   \n",
       "film_studio            ооо \"кинокомпания \"коктебель\"   \n",
       "production_country                            Россия   \n",
       "director                                 М.Местецкий   \n",
       "producer                                 М.Местецкий   \n",
       "age_restriction                                «18+»   \n",
       "refundable_support                               0.0   \n",
       "nonrefundable_support                     59000000.0   \n",
       "budget                                           0.0   \n",
       "financing_source                           Фонд кино   \n",
       "ratings                                          6.3   \n",
       "genres                                 комедия,драма   \n",
       "box_office                                1957738.51   \n",
       "\n",
       "                                                            2788  \\\n",
       "title                                         срочно выйду замуж   \n",
       "pu_number                                              111017115   \n",
       "show_start_date                         2015-09-30T12:00:00.000Z   \n",
       "type                                              Художественный   \n",
       "film_studio            ао \"вайт медиа\", ооо \"арт пикчерс студия\"   \n",
       "production_country                                        Россия   \n",
       "director                                               С Чекалов   \n",
       "producer                                               С Чекалов   \n",
       "age_restriction                                            «16+»   \n",
       "refundable_support                                           0.0   \n",
       "nonrefundable_support                                 35000000.0   \n",
       "budget                                                       0.0   \n",
       "financing_source                                       Фонд кино   \n",
       "ratings                                                      5.1   \n",
       "genres                                         комедия,мелодрама   \n",
       "box_office                                            72937783.2   \n",
       "\n",
       "                                           2874  \\\n",
       "title                         помню - не помню!   \n",
       "pu_number                             111004916   \n",
       "show_start_date        2016-03-01T12:00:00.000Z   \n",
       "type                             Художественный   \n",
       "film_studio                     ооо \"кинофирма\"   \n",
       "production_country                       Россия   \n",
       "director                            В.Ровенский   \n",
       "producer                            В.Ровенский   \n",
       "age_restriction                           «12+»   \n",
       "refundable_support                          0.0   \n",
       "nonrefundable_support                 6000000.0   \n",
       "budget                                      0.0   \n",
       "financing_source          Министерство культуры   \n",
       "ratings                                     4.3   \n",
       "genres                                  комедия   \n",
       "box_office                          15362931.43   \n",
       "\n",
       "                                                            3047  \\\n",
       "title                                     любовь с ограничениями   \n",
       "pu_number                                              111008216   \n",
       "show_start_date                         2016-04-29T12:00:00.000Z   \n",
       "type                                              Художественный   \n",
       "film_studio            ао \"вайт медиа\", ооо \"арт пикчерс студия\"   \n",
       "production_country                                        Россия   \n",
       "director                                                 Д.Тюрин   \n",
       "producer                                                 Д.Тюрин   \n",
       "age_restriction                                            «16+»   \n",
       "refundable_support                                    19000000.0   \n",
       "nonrefundable_support                                 51000000.0   \n",
       "budget                                                       0.0   \n",
       "financing_source                                       Фонд кино   \n",
       "ratings                                                      6.3   \n",
       "genres                                         комедия,мелодрама   \n",
       "box_office                                            70299052.0   \n",
       "\n",
       "                                                                3565  \\\n",
       "title                                              притяжение (2016)   \n",
       "pu_number                                                  111018116   \n",
       "show_start_date                             2016-12-16T12:00:00.000Z   \n",
       "type                                                  Художественный   \n",
       "film_studio            ооо \"водород 2011\",  ооо \"арт пикчерс студия\"   \n",
       "production_country                                            Россия   \n",
       "director                                                 Ф.Бондарчук   \n",
       "producer                                                 Ф.Бондарчук   \n",
       "age_restriction                                                «12+»   \n",
       "refundable_support                                               0.0   \n",
       "nonrefundable_support                                    250000000.0   \n",
       "budget                                                           0.0   \n",
       "financing_source                                           Фонд кино   \n",
       "ratings                                                          5.6   \n",
       "genres                                                    фантастика   \n",
       "box_office                                              1038321489.0   \n",
       "\n",
       "                                              3675  \\\n",
       "title                                     чудо-юдо   \n",
       "pu_number                                114001817   \n",
       "show_start_date           2017-06-27T12:00:00.000Z   \n",
       "type                                  Анимационный   \n",
       "film_studio                        ооо \"кинофирма\"   \n",
       "production_country                          Россия   \n",
       "director                                 А.Лукичев   \n",
       "producer                                 А.Лукичев   \n",
       "age_restriction                               «6+»   \n",
       "refundable_support                      20000000.0   \n",
       "nonrefundable_support                   20000000.0   \n",
       "budget                                         0.0   \n",
       "financing_source                         Фонд кино   \n",
       "ratings                                        5.2   \n",
       "genres                 мультфильм,фэнтези,семейный   \n",
       "box_office                             55108014.76   \n",
       "\n",
       "                                                           3739  \\\n",
       "title                                                      мифы   \n",
       "pu_number                                             111004317   \n",
       "show_start_date                        2017-06-07T12:00:00.000Z   \n",
       "type                                             Художественный   \n",
       "film_studio            ооо \"хайпфилм\", ооо \"арт пикчерс студия\"   \n",
       "production_country                                       Россия   \n",
       "director                                           А.Молочников   \n",
       "producer                                           А.Молочников   \n",
       "age_restriction                                           «16+»   \n",
       "refundable_support                                   25000000.0   \n",
       "nonrefundable_support                                20000000.0   \n",
       "budget                                                      0.0   \n",
       "financing_source                                      Фонд кино   \n",
       "ratings                                                     4.8   \n",
       "genres                                                  комедия   \n",
       "box_office                                           50451949.0   \n",
       "\n",
       "                                                                    5673  \\\n",
       "title                                                              селфи   \n",
       "pu_number                                                      111012117   \n",
       "show_start_date                                 2018-02-01T12:00:00.000Z   \n",
       "type                                                      Художественный   \n",
       "film_studio            ооо \"киностудия \"слово\", ооо \"арт пикчерс студия\"   \n",
       "production_country                                                Россия   \n",
       "director                                                      Н.Хомерики   \n",
       "producer                                                      Н.Хомерики   \n",
       "age_restriction                                                    «16+»   \n",
       "refundable_support                                            20000000.0   \n",
       "nonrefundable_support                                         40000000.0   \n",
       "budget                                                               0.0   \n",
       "financing_source                                               Фонд кино   \n",
       "ratings                                                              5.8   \n",
       "genres                                                     триллер,драма   \n",
       "box_office                                                  225196400.03   \n",
       "\n",
       "                                                 5806  \\\n",
       "title                                      два хвоста   \n",
       "pu_number                                   114001018   \n",
       "show_start_date              2018-05-31T12:00:00.000Z   \n",
       "type                                     Анимационный   \n",
       "film_studio                 ооо \"лицензионные бренды\"   \n",
       "production_country                             Россия   \n",
       "director               В.Ровенский, Н.Лопато, В.Азеев   \n",
       "producer               В.Ровенский, Н.Лопато, В.Азеев   \n",
       "age_restriction                                  «6+»   \n",
       "refundable_support                         10000000.0   \n",
       "nonrefundable_support                      60000000.0   \n",
       "budget                                            0.0   \n",
       "financing_source                            Фонд кино   \n",
       "ratings                                           5.0   \n",
       "genres                             мультфильм,детский   \n",
       "box_office                               106514301.03   \n",
       "\n",
       "                                             6008                      6323  \\\n",
       "title                          принцесса и дракон                  баба яга   \n",
       "pu_number                               114003018                 114006518   \n",
       "show_start_date          2018-08-23T12:00:00.000Z  2018-11-08T12:00:00.000Z   \n",
       "type                                 Анимационный              Анимационный   \n",
       "film_studio             ооо \"лицензионные бренды\"  ооо \"арт пикчерс студия\"   \n",
       "production_country                         Россия                    Россия   \n",
       "director                               М.Нефедова                   В.Саков   \n",
       "producer                               М.Нефедова                   В.Саков   \n",
       "age_restriction                              «6+»                      «6+»   \n",
       "refundable_support                     40000000.0                       0.0   \n",
       "nonrefundable_support                  40000000.0               138969465.0   \n",
       "budget                                        0.0                       0.0   \n",
       "financing_source                        Фонд кино                 Фонд кино   \n",
       "ratings                                       5.2                         0   \n",
       "genres                 мультфильм,фэнтези,детский                   unknown   \n",
       "box_office                            83366328.66                 1334699.4   \n",
       "\n",
       "                                                 6823  \n",
       "title                             большое путешествие  \n",
       "pu_number                                   114002419  \n",
       "show_start_date              2019-04-20T12:00:00.000Z  \n",
       "type                                     Анимационный  \n",
       "film_studio                 ооо \"лицензионные бренды\"  \n",
       "production_country                             Россия  \n",
       "director                        Н.Лопато, В.Ровенский  \n",
       "producer                        Н.Лопато, В.Ровенский  \n",
       "age_restriction                                  «6+»  \n",
       "refundable_support                         60000000.0  \n",
       "nonrefundable_support                     120000000.0  \n",
       "budget                                            0.0  \n",
       "financing_source                            Фонд кино  \n",
       "ratings                                           6.2  \n",
       "genres                 мультфильм,комедия,приключения  \n",
       "box_office                               147606826.51  "
      ]
     },
     "execution_count": 72,
     "metadata": {},
     "output_type": "execute_result"
    }
   ],
   "source": [
    "data.query('budget < (refundable_support + nonrefundable_support)').head(17).T"
   ]
  },
  {
   "cell_type": "markdown",
   "metadata": {},
   "source": [
    "Проверим насколько правомерным будет считать для этих фильмов общий бюджет как сумму по столбцам 'refundable_support' и 'nonrefundable_support' на примере фильма \"дуxless 2\":\n",
    "    \n",
    "- refundable_support = 0\n",
    "- nonrefundable_support = 75000000\n",
    "- budget = 75000000\n",
    "\n",
    "Данные на Кинопоиске говорят о том, что бюджет фильма составил 140000000. Замена по предложенной логике сильно искажает картину. \n",
    "\n",
    "Другие варианты:\n",
    "    \n",
    "- рассчитать средний показатель доли гос. поддержки и через него выйти на общий бюджет;\n",
    "- проставить данные в ручном режиме с сайта Кинопоиск.\n"
   ]
  },
  {
   "cell_type": "markdown",
   "metadata": {},
   "source": [
    "Найдем коэффициент корреляции Пирсона для общего бюджета относительно сумм ггосподдержки."
   ]
  },
  {
   "cell_type": "code",
   "execution_count": 73,
   "metadata": {},
   "outputs": [
    {
     "data": {
      "text/plain": [
       "0.8071745713013394"
      ]
     },
     "execution_count": 73,
     "metadata": {},
     "output_type": "execute_result"
    }
   ],
   "source": [
    "(data['refundable_support'] + data['nonrefundable_support']).corr(data['budget'])"
   ]
  },
  {
   "cell_type": "markdown",
   "metadata": {},
   "source": [
    "Коэффициент корреляции высокий, посчитаем через средний показатель общий бюджет там, где он отсутствует."
   ]
  },
  {
   "cell_type": "code",
   "execution_count": 74,
   "metadata": {},
   "outputs": [
    {
     "data": {
      "text/plain": [
       "inf"
      ]
     },
     "execution_count": 74,
     "metadata": {},
     "output_type": "execute_result"
    }
   ],
   "source": [
    "((data['refundable_support'] + data['nonrefundable_support']) / data['budget']).mean()"
   ]
  },
  {
   "cell_type": "code",
   "execution_count": 75,
   "metadata": {},
   "outputs": [],
   "source": [
    "data.loc[data['budget'] == 0, 'budget'] = (data['refundable_support'] + data['nonrefundable_support'])/ 0.530225413541535"
   ]
  },
  {
   "cell_type": "code",
   "execution_count": 76,
   "metadata": {},
   "outputs": [
    {
     "data": {
      "text/plain": [
       "0"
      ]
     },
     "execution_count": 76,
     "metadata": {},
     "output_type": "execute_result"
    }
   ],
   "source": [
    "data.query('budget < (refundable_support + nonrefundable_support)')['title'].count() #проверка"
   ]
  },
  {
   "cell_type": "markdown",
   "metadata": {},
   "source": [
    "`financing_source`"
   ]
  },
  {
   "cell_type": "code",
   "execution_count": 77,
   "metadata": {},
   "outputs": [
    {
     "data": {
      "text/plain": [
       "array(['Министерство культуры', 'Министерство культуры, Фонд кино',\n",
       "       'Фонд кино', nan], dtype=object)"
      ]
     },
     "execution_count": 77,
     "metadata": {},
     "output_type": "execute_result"
    }
   ],
   "source": [
    "data['financing_source'].sort_values().unique()"
   ]
  },
  {
   "cell_type": "markdown",
   "metadata": {},
   "source": [
    "Вопросов по данным нет."
   ]
  },
  {
   "cell_type": "markdown",
   "metadata": {},
   "source": [
    "`ratings`"
   ]
  },
  {
   "cell_type": "code",
   "execution_count": 78,
   "metadata": {},
   "outputs": [
    {
     "data": {
      "text/plain": [
       "array(['0', '1.0', '1.1', '1.2', '1.3', '1.4', '1.5', '1.6', '1.7', '1.8',\n",
       "       '1.9', '19%', '2.1', '2.4', '2.5', '2.6', '2.7', '2.8', '2.9',\n",
       "       '28%', '3.0', '3.1', '3.2', '3.3', '3.4', '3.5', '3.6', '3.7',\n",
       "       '3.8', '3.9', '4.0', '4.1', '4.2', '4.3', '4.4', '4.5', '4.6',\n",
       "       '4.7', '4.8', '4.9', '5.0', '5.1', '5.2', '5.3', '5.4', '5.5',\n",
       "       '5.6', '5.7', '5.8', '5.9', '6.0', '6.1', '6.2', '6.3', '6.4',\n",
       "       '6.5', '6.6', '6.7', '6.8', '6.9', '62%', '64%', '7.0', '7.1',\n",
       "       '7.2', '7.3', '7.4', '7.5', '7.6', '7.7', '7.8', '7.9', '79%',\n",
       "       '8.0', '8.1', '8.2', '8.3', '8.4', '8.5', '8.6', '8.7', '8.8',\n",
       "       '8.9', '83%', '88%', '89%', '9.0', '9.1', '9.2', '90%', '91%',\n",
       "       '94%', '97%', '98%', '99%'], dtype=object)"
      ]
     },
     "execution_count": 78,
     "metadata": {},
     "output_type": "execute_result"
    }
   ],
   "source": [
    "data['ratings'].sort_values().unique()"
   ]
  },
  {
   "cell_type": "markdown",
   "metadata": {},
   "source": [
    "Вопросы вызывают значения в процентах. Найдем на примере одного фильма соотвествие."
   ]
  },
  {
   "cell_type": "code",
   "execution_count": 79,
   "metadata": {},
   "outputs": [
    {
     "data": {
      "text/html": [
       "<div>\n",
       "<style scoped>\n",
       "    .dataframe tbody tr th:only-of-type {\n",
       "        vertical-align: middle;\n",
       "    }\n",
       "\n",
       "    .dataframe tbody tr th {\n",
       "        vertical-align: top;\n",
       "    }\n",
       "\n",
       "    .dataframe thead th {\n",
       "        text-align: right;\n",
       "    }\n",
       "</style>\n",
       "<table border=\"1\" class=\"dataframe\">\n",
       "  <thead>\n",
       "    <tr style=\"text-align: right;\">\n",
       "      <th></th>\n",
       "      <th>title</th>\n",
       "      <th>pu_number</th>\n",
       "      <th>show_start_date</th>\n",
       "      <th>type</th>\n",
       "      <th>film_studio</th>\n",
       "      <th>production_country</th>\n",
       "      <th>director</th>\n",
       "      <th>producer</th>\n",
       "      <th>age_restriction</th>\n",
       "      <th>refundable_support</th>\n",
       "      <th>nonrefundable_support</th>\n",
       "      <th>budget</th>\n",
       "      <th>financing_source</th>\n",
       "      <th>ratings</th>\n",
       "      <th>genres</th>\n",
       "      <th>box_office</th>\n",
       "    </tr>\n",
       "  </thead>\n",
       "  <tbody>\n",
       "    <tr>\n",
       "      <th>3431</th>\n",
       "      <td>наурыз</td>\n",
       "      <td>131000217</td>\n",
       "      <td>2017-03-09T12:00:00.000Z</td>\n",
       "      <td>Художественный</td>\n",
       "      <td>эс джи</td>\n",
       "      <td>РеспубликаКазахстан</td>\n",
       "      <td>Аскар Бисембин</td>\n",
       "      <td>Аскар Бисембин</td>\n",
       "      <td>«12+»</td>\n",
       "      <td>0.0</td>\n",
       "      <td>0.0</td>\n",
       "      <td>0.0</td>\n",
       "      <td>NaN</td>\n",
       "      <td>19%</td>\n",
       "      <td>комедия</td>\n",
       "      <td>37960.0</td>\n",
       "    </tr>\n",
       "  </tbody>\n",
       "</table>\n",
       "</div>"
      ],
      "text/plain": [
       "       title  pu_number           show_start_date            type film_studio  \\\n",
       "3431  наурыз  131000217  2017-03-09T12:00:00.000Z  Художественный      эс джи   \n",
       "\n",
       "       production_country        director        producer age_restriction  \\\n",
       "3431  РеспубликаКазахстан  Аскар Бисембин  Аскар Бисембин           «12+»   \n",
       "\n",
       "      refundable_support  nonrefundable_support  budget financing_source  \\\n",
       "3431                 0.0                    0.0     0.0              NaN   \n",
       "\n",
       "     ratings   genres  box_office  \n",
       "3431     19%  комедия     37960.0  "
      ]
     },
     "execution_count": 79,
     "metadata": {},
     "output_type": "execute_result"
    }
   ],
   "source": [
    "data.query('ratings == \"19%\"')"
   ]
  },
  {
   "cell_type": "markdown",
   "metadata": {},
   "source": [
    "Выборочная проверка показала, что у таких фильмов нет рейтинга на Кинопоиске из-за малого количества оценок. Заменим эти значения на '0' c помощью функции."
   ]
  },
  {
   "cell_type": "code",
   "execution_count": 80,
   "metadata": {},
   "outputs": [],
   "source": [
    "def replace_wrong_genres(wrong_genres, correct_genre): \n",
    "    for wrong_genre in wrong_genres: \n",
    "        data['ratings'] = data['ratings'].replace(wrong_genres, correct_genre) \n",
    "\n",
    "wrong_genres = ['19%', '28%', '62%', '64%', '79%', '83%', '88%', '89%', '90%', '91%', '94%', '97%', '98%', '99%'] # список неправильных значений\n",
    "correct_genre = '0'  # правильное значение\n",
    "replace_wrong_genres(wrong_genres, correct_genre)"
   ]
  },
  {
   "cell_type": "code",
   "execution_count": 81,
   "metadata": {},
   "outputs": [
    {
     "data": {
      "text/plain": [
       "array(['0', '1.0', '1.1', '1.2', '1.3', '1.4', '1.5', '1.6', '1.7', '1.8',\n",
       "       '1.9', '2.1', '2.4', '2.5', '2.6', '2.7', '2.8', '2.9', '3.0',\n",
       "       '3.1', '3.2', '3.3', '3.4', '3.5', '3.6', '3.7', '3.8', '3.9',\n",
       "       '4.0', '4.1', '4.2', '4.3', '4.4', '4.5', '4.6', '4.7', '4.8',\n",
       "       '4.9', '5.0', '5.1', '5.2', '5.3', '5.4', '5.5', '5.6', '5.7',\n",
       "       '5.8', '5.9', '6.0', '6.1', '6.2', '6.3', '6.4', '6.5', '6.6',\n",
       "       '6.7', '6.8', '6.9', '7.0', '7.1', '7.2', '7.3', '7.4', '7.5',\n",
       "       '7.6', '7.7', '7.8', '7.9', '8.0', '8.1', '8.2', '8.3', '8.4',\n",
       "       '8.5', '8.6', '8.7', '8.8', '8.9', '9.0', '9.1', '9.2'],\n",
       "      dtype=object)"
      ]
     },
     "execution_count": 81,
     "metadata": {},
     "output_type": "execute_result"
    }
   ],
   "source": [
    "data['ratings'].sort_values().unique()"
   ]
  },
  {
   "cell_type": "markdown",
   "metadata": {},
   "source": [
    "`genres`"
   ]
  },
  {
   "cell_type": "code",
   "execution_count": 82,
   "metadata": {},
   "outputs": [
    {
     "data": {
      "text/plain": [
       "array(['unknown', 'аниме,мультфильм', 'аниме,мультфильм,боевик',\n",
       "       'аниме,мультфильм,детектив', 'аниме,мультфильм,драма',\n",
       "       'аниме,мультфильм,комедия', 'аниме,мультфильм,короткометражка',\n",
       "       'аниме,мультфильм,мелодрама', 'аниме,мультфильм,приключения',\n",
       "       'аниме,мультфильм,ужасы', 'аниме,мультфильм,фантастика',\n",
       "       'аниме,мультфильм,фэнтези', 'биография', 'биография,военный,драма',\n",
       "       'биография,документальный', 'биография,драма',\n",
       "       'биография,драма,военный', 'биография,драма,история',\n",
       "       'биография,драма,криминал', 'биография,история',\n",
       "       'биография,история,драма', 'биография,криминал,драма',\n",
       "       'биография,криминал,триллер', 'биография,мелодрама,драма',\n",
       "       'биография,музыка,драма', 'биография,музыка,мюзикл',\n",
       "       'биография,спорт,драма', 'биография,спорт,история',\n",
       "       'биография,спорт,комедия', 'боевик', 'боевик,вестерн,приключения',\n",
       "       'боевик,военный', 'боевик,военный,драма', 'боевик,военный,история',\n",
       "       'боевик,детектив', 'боевик,драма', 'боевик,драма,биография',\n",
       "       'боевик,драма,вестерн', 'боевик,драма,военный',\n",
       "       'боевик,драма,история', 'боевик,драма,комедия',\n",
       "       'боевик,драма,криминал', 'боевик,драма,мелодрама',\n",
       "       'боевик,драма,приключения', 'боевик,драма,триллер',\n",
       "       'боевик,история', 'боевик,история,драма', 'боевик,комедия',\n",
       "       'боевик,комедия,криминал', 'боевик,комедия,приключения',\n",
       "       'боевик,комедия,семейный', 'боевик,криминал',\n",
       "       'боевик,криминал,детектив', 'боевик,криминал,драма',\n",
       "       'боевик,криминал,триллер', 'боевик,мелодрама',\n",
       "       'боевик,мелодрама,комедия', 'боевик,приключения',\n",
       "       'боевик,приключения,детектив', 'боевик,приключения,история',\n",
       "       'боевик,приключения,семейный', 'боевик,приключения,триллер',\n",
       "       'боевик,спорт,драма', 'боевик,триллер', 'боевик,триллер,детектив',\n",
       "       'боевик,триллер,драма', 'боевик,триллер,комедия',\n",
       "       'боевик,триллер,криминал', 'боевик,триллер,мелодрама',\n",
       "       'боевик,триллер,приключения', 'боевик,триллер,фэнтези',\n",
       "       'боевик,фантастика', 'боевик,фантастика,приключения',\n",
       "       'боевик,фантастика,триллер', 'боевик,фэнтези',\n",
       "       'боевик,фэнтези,драма', 'вестерн,биография,драма',\n",
       "       'вестерн,боевик,драма', 'вестерн,драма,триллер',\n",
       "       'вестерн,криминал,триллер', 'вестерн,приключения,боевик',\n",
       "       'военный', 'военный,биография,драма', 'военный,боевик,драма',\n",
       "       'военный,боевик,история', 'военный,детектив', 'военный,драма',\n",
       "       'военный,драма,боевик', 'военный,драма,история',\n",
       "       'военный,драма,комедия', 'военный,история',\n",
       "       'военный,история,драма', 'военный,приключения,драма', 'детектив',\n",
       "       'детектив,боевик,история', 'детектив,драма,криминал',\n",
       "       'детектив,драма,триллер', 'детектив,история,драма',\n",
       "       'детектив,комедия', 'детектив,комедия,драма', 'детектив,криминал',\n",
       "       'детектив,криминал,боевик', 'детектив,криминал,драма',\n",
       "       'детектив,криминал,триллер', 'детектив,мелодрама',\n",
       "       'детектив,мелодрама,фэнтези', 'детектив,приключения,драма',\n",
       "       'детектив,приключения,триллер', 'детектив,триллер',\n",
       "       'детектив,триллер,боевик', 'детектив,триллер,драма',\n",
       "       'детектив,триллер,криминал', 'детектив,триллер,ужасы',\n",
       "       'детектив,ужасы,криминал', 'детектив,фантастика,криминал',\n",
       "       'детектив,фантастика,триллер', 'детектив,фильм-нуар,комедия',\n",
       "       'детектив,фэнтези,триллер', 'детский', 'детский,комедия',\n",
       "       'детский,мелодрама,семейный', 'детский,мультфильм,приключения',\n",
       "       'детский,приключения,комедия', 'детский,приключения,семейный',\n",
       "       'детский,приключения,фантастика', 'детский,семейный',\n",
       "       'детский,фэнтези', 'детский,фэнтези,приключения',\n",
       "       'для взрослых,драма,комедия', 'для взрослых,драма,мелодрама',\n",
       "       'документальный', 'документальный,биография',\n",
       "       'документальный,биография,история',\n",
       "       'документальный,биография,музыка',\n",
       "       'документальный,биография,спорт',\n",
       "       'документальный,боевик,приключения',\n",
       "       'документальный,военный,драма', 'документальный,военный,история',\n",
       "       'документальный,драма', 'документальный,драма,биография',\n",
       "       'документальный,драма,история', 'документальный,драма,комедия',\n",
       "       'документальный,драма,музыка', 'документальный,драма,семейный',\n",
       "       'документальный,история', 'документальный,комедия',\n",
       "       'документальный,комедия,история',\n",
       "       'документальный,комедия,криминал',\n",
       "       'документальный,короткометражка',\n",
       "       'документальный,короткометражка,семейный',\n",
       "       'документальный,криминал,военный', 'документальный,музыка',\n",
       "       'документальный,музыка,биография', 'документальный,музыка,концерт',\n",
       "       'документальный,мюзикл', 'документальный,новости,драма',\n",
       "       'документальный,приключения',\n",
       "       'документальный,приключения,семейный', 'документальный,семейный',\n",
       "       'документальный,семейный,музыка', 'документальный,спорт',\n",
       "       'документальный,спорт,биография',\n",
       "       'документальный,триллер,биография', 'документальный,ужасы',\n",
       "       'документальный,ужасы,боевик', 'документальный,фантастика',\n",
       "       'документальный,фэнтези', 'документальный,фэнтези,драма',\n",
       "       'документальный,фэнтези,семейный', 'драма', 'драма,биография',\n",
       "       'драма,биография,история', 'драма,биография,комедия',\n",
       "       'драма,биография,музыка', 'драма,биография,мюзикл',\n",
       "       'драма,биография,спорт', 'драма,боевик', 'драма,боевик,история',\n",
       "       'драма,боевик,криминал', 'драма,боевик,приключения',\n",
       "       'драма,вестерн', 'драма,вестерн,боевик',\n",
       "       'драма,вестерн,приключения', 'драма,военный',\n",
       "       'драма,военный,биография', 'драма,военный,боевик',\n",
       "       'драма,военный,история', 'драма,военный,приключения',\n",
       "       'драма,военный,триллер', 'драма,детектив',\n",
       "       'драма,детектив,история', 'драма,детектив,криминал',\n",
       "       'драма,детектив,приключения', 'драма,история',\n",
       "       'драма,история,биография', 'драма,история,военный',\n",
       "       'драма,история,детектив', 'драма,история,музыка',\n",
       "       'драма,история,триллер', 'драма,комедия',\n",
       "       'драма,комедия,биография', 'драма,комедия,вестерн',\n",
       "       'драма,комедия,военный', 'драма,комедия,детектив',\n",
       "       'драма,комедия,история', 'драма,комедия,криминал',\n",
       "       'драма,комедия,мелодрама', 'драма,комедия,музыка',\n",
       "       'драма,комедия,мультфильм', 'драма,комедия,приключения',\n",
       "       'драма,комедия,семейный', 'драма,комедия,спорт',\n",
       "       'драма,комедия,триллер', 'драма,комедия,ужасы',\n",
       "       'драма,комедия,фантастика', 'драма,криминал',\n",
       "       'драма,криминал,биография', 'драма,криминал,боевик',\n",
       "       'драма,криминал,вестерн', 'драма,криминал,детектив',\n",
       "       'драма,криминал,история', 'драма,криминал,приключения',\n",
       "       'драма,криминал,семейный', 'драма,криминал,спорт',\n",
       "       'драма,криминал,фантастика', 'драма,криминал,фильм-нуар',\n",
       "       'драма,мелодрама', 'драма,мелодрама,биография',\n",
       "       'драма,мелодрама,военный', 'драма,мелодрама,детектив',\n",
       "       'драма,мелодрама,история', 'драма,мелодрама,комедия',\n",
       "       'драма,мелодрама,криминал', 'драма,мелодрама,музыка',\n",
       "       'драма,мелодрама,приключения', 'драма,мелодрама,семейный',\n",
       "       'драма,мелодрама,триллер', 'драма,мелодрама,фэнтези',\n",
       "       'драма,музыка', 'драма,мультфильм', 'драма,приключения',\n",
       "       'драма,приключения,биография', 'драма,приключения,военный',\n",
       "       'драма,приключения,история', 'драма,приключения,мелодрама',\n",
       "       'драма,приключения,семейный', 'драма,приключения,триллер',\n",
       "       'драма,приключения,фэнтези', 'драма,семейный',\n",
       "       'драма,семейный,биография', 'драма,семейный,комедия',\n",
       "       'драма,спорт', 'драма,спорт,биография', 'драма,спорт,боевик',\n",
       "       'драма,спорт,история', 'драма,спорт,комедия',\n",
       "       'драма,спорт,семейный', 'драма,триллер', 'драма,триллер,биография',\n",
       "       'драма,триллер,детектив', 'драма,триллер,криминал',\n",
       "       'драма,триллер,приключения', 'драма,ужасы', 'драма,фантастика',\n",
       "       'драма,фантастика,триллер', 'драма,фантастика,ужасы',\n",
       "       'драма,фэнтези', 'драма,фэнтези,история', 'история',\n",
       "       'история,биография,военный', 'история,биография,драма',\n",
       "       'история,боевик,фэнтези', 'история,детектив', 'история,драма',\n",
       "       'история,драма,боевик', 'история,драма,мелодрама',\n",
       "       'история,криминал', 'история,мелодрама', 'история,приключения',\n",
       "       'история,спорт,драма', 'комедия', 'комедия,биография',\n",
       "       'комедия,биография,история', 'комедия,боевик,криминал',\n",
       "       'комедия,боевик,приключения', 'комедия,боевик,фантастика',\n",
       "       'комедия,вестерн', 'комедия,военный', 'комедия,военный,музыка',\n",
       "       'комедия,детектив', 'комедия,детектив,приключения',\n",
       "       'комедия,драма', 'комедия,драма,биография',\n",
       "       'комедия,драма,военный', 'комедия,драма,короткометражка',\n",
       "       'комедия,драма,криминал', 'комедия,драма,мелодрама',\n",
       "       'комедия,драма,семейный', 'комедия,история',\n",
       "       'комедия,история,драма', 'комедия,криминал',\n",
       "       'комедия,криминал,биография', 'комедия,криминал,боевик',\n",
       "       'комедия,криминал,детектив', 'комедия,криминал,драма',\n",
       "       'комедия,криминал,история', 'комедия,криминал,приключения',\n",
       "       'комедия,криминал,семейный', 'комедия,криминал,спорт',\n",
       "       'комедия,криминал,триллер', 'комедия,мелодрама',\n",
       "       'комедия,мелодрама,драма', 'комедия,мелодрама,криминал',\n",
       "       'комедия,мелодрама,фантастика', 'комедия,мелодрама,фэнтези',\n",
       "       'комедия,музыка', 'комедия,музыка,драма',\n",
       "       'комедия,мультфильм,фантастика', 'комедия,приключения',\n",
       "       'комедия,приключения,вестерн', 'комедия,приключения,детектив',\n",
       "       'комедия,приключения,история', 'комедия,приключения,криминал',\n",
       "       'комедия,приключения,мелодрама', 'комедия,приключения,музыка',\n",
       "       'комедия,приключения,семейный', 'комедия,приключения,спорт',\n",
       "       'комедия,приключения,фэнтези', 'комедия,семейный',\n",
       "       'комедия,семейный,музыка', 'комедия,семейный,приключения',\n",
       "       'комедия,семейный,фантастика', 'комедия,семейный,фэнтези',\n",
       "       'комедия,спорт', 'комедия,триллер', 'комедия,триллер,драма',\n",
       "       'комедия,ужасы', 'комедия,фантастика', 'комедия,фантастика,боевик',\n",
       "       'комедия,фантастика,мелодрама', 'комедия,фэнтези',\n",
       "       'комедия,фэнтези,криминал', 'комедия,фэнтези,мелодрама',\n",
       "       'комедия,фэнтези,приключения', 'комедия,фэнтези,ужасы',\n",
       "       'концерт,музыка', 'концерт,музыка,документальный',\n",
       "       'короткометражка', 'короткометражка,биография',\n",
       "       'короткометражка,боевик,драма', 'короткометражка,драма',\n",
       "       'короткометражка,драма,военный', 'короткометражка,драма,триллер',\n",
       "       'короткометражка,комедия,криминал', 'короткометражка,мелодрама',\n",
       "       'короткометражка,музыка', 'короткометражка,мультфильм',\n",
       "       'короткометражка,фантастика', 'криминал',\n",
       "       'криминал,биография,комедия', 'криминал,боевик',\n",
       "       'криминал,боевик,комедия', 'криминал,боевик,триллер',\n",
       "       'криминал,детектив', 'криминал,детектив,приключения',\n",
       "       'криминал,драма', 'криминал,драма,комедия',\n",
       "       'криминал,драма,триллер', 'криминал,комедия',\n",
       "       'криминал,комедия,боевик', 'криминал,комедия,драма',\n",
       "       'криминал,комедия,триллер', 'криминал,мелодрама',\n",
       "       'криминал,триллер,драма', 'мелодрама', 'мелодрама,биография',\n",
       "       'мелодрама,военный,драма', 'мелодрама,детектив',\n",
       "       'мелодрама,детектив,комедия', 'мелодрама,драма',\n",
       "       'мелодрама,драма,боевик', 'мелодрама,драма,комедия',\n",
       "       'мелодрама,драма,музыка', 'мелодрама,драма,фэнтези',\n",
       "       'мелодрама,история', 'мелодрама,история,драма',\n",
       "       'мелодрама,история,триллер', 'мелодрама,комедия',\n",
       "       'мелодрама,комедия,драма', 'мелодрама,комедия,криминал',\n",
       "       'мелодрама,комедия,музыка', 'мелодрама,комедия,приключения',\n",
       "       'мелодрама,комедия,семейный', 'мелодрама,комедия,спорт',\n",
       "       'мелодрама,комедия,триллер', 'мелодрама,комедия,ужасы',\n",
       "       'мелодрама,криминал', 'мелодрама,музыка', 'мелодрама,музыка,драма',\n",
       "       'мелодрама,приключения', 'мелодрама,приключения,боевик',\n",
       "       'мелодрама,семейный', 'мелодрама,семейный,приключения',\n",
       "       'мелодрама,триллер,история', 'мелодрама,фантастика,драма',\n",
       "       'мелодрама,фэнтези,триллер', 'музыка,концерт',\n",
       "       'музыка,концерт,документальный', 'музыка,мелодрама,фэнтези',\n",
       "       'музыка,приключения,концерт', 'мультфильм',\n",
       "       'мультфильм,биография,драма', 'мультфильм,боевик,детектив',\n",
       "       'мультфильм,боевик,комедия', 'мультфильм,боевик,приключения',\n",
       "       'мультфильм,боевик,триллер', 'мультфильм,детский',\n",
       "       'мультфильм,детский,комедия', 'мультфильм,детский,приключения',\n",
       "       'мультфильм,детский,семейный', 'мультфильм,драма',\n",
       "       'мультфильм,драма,комедия', 'мультфильм,драма,приключения',\n",
       "       'мультфильм,история', 'мультфильм,комедия',\n",
       "       'мультфильм,комедия,детский', 'мультфильм,комедия,криминал',\n",
       "       'мультфильм,комедия,приключения', 'мультфильм,комедия,семейный',\n",
       "       'мультфильм,комедия,фантастика', 'мультфильм,короткометражка',\n",
       "       'мультфильм,короткометражка,детский',\n",
       "       'мультфильм,короткометражка,комедия',\n",
       "       'мультфильм,короткометражка,мелодрама',\n",
       "       'мультфильм,короткометражка,мюзикл',\n",
       "       'мультфильм,короткометражка,ужасы',\n",
       "       'мультфильм,короткометражка,фэнтези', 'мультфильм,мелодрама,драма',\n",
       "       'мультфильм,мелодрама,комедия', 'мультфильм,мелодрама,приключения',\n",
       "       'мультфильм,мюзикл,детский', 'мультфильм,мюзикл,драма',\n",
       "       'мультфильм,мюзикл,комедия', 'мультфильм,мюзикл,мелодрама',\n",
       "       'мультфильм,мюзикл,фэнтези', 'мультфильм,приключения',\n",
       "       'мультфильм,приключения,военный',\n",
       "       'мультфильм,приключения,детектив',\n",
       "       'мультфильм,приключения,детский', 'мультфильм,приключения,драма',\n",
       "       'мультфильм,приключения,комедия',\n",
       "       'мультфильм,приключения,семейный',\n",
       "       'мультфильм,приключения,фантастика',\n",
       "       'мультфильм,приключения,фэнтези', 'мультфильм,семейный',\n",
       "       'мультфильм,семейный,детский', 'мультфильм,семейный,драма',\n",
       "       'мультфильм,семейный,комедия', 'мультфильм,семейный,спорт',\n",
       "       'мультфильм,семейный,фэнтези', 'мультфильм,ужасы,комедия',\n",
       "       'мультфильм,ужасы,фантастика', 'мультфильм,ужасы,фэнтези',\n",
       "       'мультфильм,фантастика,боевик', 'мультфильм,фантастика,комедия',\n",
       "       'мультфильм,фантастика,приключения',\n",
       "       'мультфильм,фантастика,фэнтези', 'мультфильм,фэнтези',\n",
       "       'мультфильм,фэнтези,боевик', 'мультфильм,фэнтези,детский',\n",
       "       'мультфильм,фэнтези,драма', 'мультфильм,фэнтези,история',\n",
       "       'мультфильм,фэнтези,комедия', 'мультфильм,фэнтези,мелодрама',\n",
       "       'мультфильм,фэнтези,приключения', 'мультфильм,фэнтези,семейный',\n",
       "       'мультфильм,фэнтези,триллер', 'мюзикл', 'мюзикл,боевик,драма',\n",
       "       'мюзикл,драма', 'мюзикл,драма,мелодрама', 'мюзикл,комедия',\n",
       "       'мюзикл,комедия,детский', 'мюзикл,комедия,мелодрама',\n",
       "       'мюзикл,комедия,музыка', 'мюзикл,комедия,приключения',\n",
       "       'мюзикл,мелодрама', 'мюзикл,мелодрама,комедия',\n",
       "       'мюзикл,мелодрама,фэнтези', 'мюзикл,семейный',\n",
       "       'мюзикл,семейный,драма', 'мюзикл,ужасы,триллер',\n",
       "       'мюзикл,фэнтези,драма', 'мюзикл,фэнтези,комедия',\n",
       "       'мюзикл,фэнтези,мелодрама', 'мюзикл,фэнтези,семейный',\n",
       "       'приключения', 'приключения,биография,драма',\n",
       "       'приключения,биография,история', 'приключения,боевик',\n",
       "       'приключения,боевик,триллер', 'приключения,вестерн,боевик',\n",
       "       'приключения,военный', 'приключения,детектив,мелодрама',\n",
       "       'приключения,детектив,семейный', 'приключения,детский',\n",
       "       'приключения,детский,комедия', 'приключения,драма',\n",
       "       'приключения,драма,фантастика', 'приключения,история',\n",
       "       'приключения,история,военный', 'приключения,история,драма',\n",
       "       'приключения,комедия,фэнтези', 'приключения,мелодрама,детектив',\n",
       "       'приключения,семейный', 'приключения,семейный,драма',\n",
       "       'приключения,триллер', 'приключения,триллер,биография',\n",
       "       'приключения,фантастика', 'приключения,фантастика,драма',\n",
       "       'приключения,фантастика,семейный', 'приключения,фэнтези',\n",
       "       'приключения,фэнтези,семейный', 'реальное ТВ', 'семейный',\n",
       "       'семейный,детектив,детский', 'семейный,документальный',\n",
       "       'семейный,комедия', 'семейный,комедия,драма',\n",
       "       'семейный,комедия,музыка', 'семейный,мелодрама',\n",
       "       'семейный,мультфильм,комедия', 'семейный,приключения',\n",
       "       'семейный,приключения,военный',\n",
       "       'семейный,приключения,документальный',\n",
       "       'семейный,приключения,комедия', 'семейный,спорт,боевик',\n",
       "       'семейный,фэнтези', 'семейный,фэнтези,комедия', 'спорт,драма',\n",
       "       'спорт,драма,биография', 'спорт,драма,комедия',\n",
       "       'спорт,мелодрама,криминал', 'триллер', 'триллер,биография,драма',\n",
       "       'триллер,боевик', 'триллер,боевик,криминал',\n",
       "       'триллер,боевик,приключения', 'триллер,военный',\n",
       "       'триллер,детектив', 'триллер,детектив,драма',\n",
       "       'триллер,детектив,криминал', 'триллер,детектив,ужасы',\n",
       "       'триллер,драма', 'триллер,драма,биография', 'триллер,драма,боевик',\n",
       "       'триллер,драма,военный', 'триллер,драма,детектив',\n",
       "       'триллер,драма,история', 'триллер,драма,комедия',\n",
       "       'триллер,драма,криминал', 'триллер,драма,мелодрама',\n",
       "       'триллер,драма,приключения', 'триллер,драма,ужасы',\n",
       "       'триллер,драма,фантастика', 'триллер,комедия',\n",
       "       'триллер,комедия,криминал', 'триллер,комедия,ужасы',\n",
       "       'триллер,криминал', 'триллер,криминал,боевик',\n",
       "       'триллер,криминал,детектив', 'триллер,криминал,драма',\n",
       "       'триллер,криминал,комедия', 'триллер,криминал,приключения',\n",
       "       'триллер,мелодрама', 'триллер,мелодрама,детектив',\n",
       "       'триллер,мелодрама,драма', 'триллер,мелодрама,комедия',\n",
       "       'триллер,мелодрама,криминал', 'триллер,приключения',\n",
       "       'триллер,приключения,драма', 'триллер,ужасы',\n",
       "       'триллер,ужасы,детектив', 'триллер,ужасы,драма',\n",
       "       'триллер,ужасы,криминал', 'триллер,ужасы,мелодрама',\n",
       "       'триллер,фантастика,боевик', 'триллер,фантастика,драма',\n",
       "       'триллер,фэнтези', 'триллер,фэнтези,драма', 'ужасы',\n",
       "       'ужасы,боевик', 'ужасы,боевик,комедия', 'ужасы,боевик,криминал',\n",
       "       'ужасы,боевик,триллер', 'ужасы,боевик,фантастика',\n",
       "       'ужасы,боевик,фэнтези', 'ужасы,детектив', 'ужасы,драма',\n",
       "       'ужасы,драма,вестерн', 'ужасы,драма,военный',\n",
       "       'ужасы,драма,детектив', 'ужасы,драма,комедия',\n",
       "       'ужасы,драма,мелодрама', 'ужасы,драма,триллер', 'ужасы,комедия',\n",
       "       'ужасы,комедия,боевик', 'ужасы,комедия,детектив',\n",
       "       'ужасы,комедия,драма', 'ужасы,комедия,криминал',\n",
       "       'ужасы,комедия,музыка', 'ужасы,комедия,приключения',\n",
       "       'ужасы,комедия,семейный', 'ужасы,комедия,фантастика',\n",
       "       'ужасы,комедия,фэнтези', 'ужасы,мелодрама,детектив',\n",
       "       'ужасы,мелодрама,комедия', 'ужасы,приключения', 'ужасы,триллер',\n",
       "       'ужасы,триллер,детектив', 'ужасы,триллер,драма',\n",
       "       'ужасы,триллер,комедия', 'ужасы,триллер,криминал',\n",
       "       'ужасы,триллер,мелодрама', 'ужасы,триллер,приключения',\n",
       "       'ужасы,триллер,фантастика', 'ужасы,фантастика',\n",
       "       'ужасы,фантастика,боевик', 'ужасы,фантастика,детектив',\n",
       "       'ужасы,фантастика,драма', 'ужасы,фантастика,комедия',\n",
       "       'ужасы,фантастика,мелодрама', 'ужасы,фантастика,триллер',\n",
       "       'ужасы,фантастика,фэнтези', 'ужасы,фэнтези',\n",
       "       'ужасы,фэнтези,боевик', 'ужасы,фэнтези,детектив',\n",
       "       'ужасы,фэнтези,драма', 'ужасы,фэнтези,комедия',\n",
       "       'ужасы,фэнтези,мелодрама', 'ужасы,фэнтези,приключения',\n",
       "       'ужасы,фэнтези,триллер', 'фантастика', 'фантастика,боевик',\n",
       "       'фантастика,боевик,военный', 'фантастика,боевик,детектив',\n",
       "       'фантастика,боевик,драма', 'фантастика,боевик,комедия',\n",
       "       'фантастика,боевик,криминал', 'фантастика,боевик,мелодрама',\n",
       "       'фантастика,боевик,приключения', 'фантастика,боевик,семейный',\n",
       "       'фантастика,боевик,триллер', 'фантастика,боевик,ужасы',\n",
       "       'фантастика,боевик,фэнтези', 'фантастика,детектив,боевик',\n",
       "       'фантастика,детектив,фэнтези', 'фантастика,драма',\n",
       "       'фантастика,драма,боевик', 'фантастика,драма,детектив',\n",
       "       'фантастика,драма,комедия', 'фантастика,драма,криминал',\n",
       "       'фантастика,драма,мелодрама', 'фантастика,драма,приключения',\n",
       "       'фантастика,драма,триллер', 'фантастика,драма,ужасы',\n",
       "       'фантастика,комедия', 'фантастика,комедия,боевик',\n",
       "       'фантастика,комедия,детектив', 'фантастика,комедия,приключения',\n",
       "       'фантастика,комедия,семейный', 'фантастика,мелодрама',\n",
       "       'фантастика,мелодрама,боевик', 'фантастика,мелодрама,комедия',\n",
       "       'фантастика,мелодрама,фэнтези', 'фантастика,мультфильм,драма',\n",
       "       'фантастика,приключения', 'фантастика,приключения,боевик',\n",
       "       'фантастика,приключения,военный',\n",
       "       'фантастика,приключения,детектив', 'фантастика,приключения,драма',\n",
       "       'фантастика,приключения,семейный', 'фантастика,триллер',\n",
       "       'фантастика,триллер,боевик', 'фантастика,триллер,детектив',\n",
       "       'фантастика,триллер,драма', 'фантастика,триллер,комедия',\n",
       "       'фантастика,триллер,криминал', 'фантастика,триллер,мелодрама',\n",
       "       'фантастика,триллер,приключения', 'фантастика,фэнтези,боевик',\n",
       "       'фантастика,фэнтези,детектив', 'фантастика,фэнтези,драма',\n",
       "       'фантастика,фэнтези,комедия', 'фантастика,фэнтези,приключения',\n",
       "       'фантастика,фэнтези,триллер', 'фильм-нуар,триллер,детектив',\n",
       "       'фэнтези', 'фэнтези,боевик', 'фэнтези,боевик,вестерн',\n",
       "       'фэнтези,боевик,военный', 'фэнтези,боевик,детектив',\n",
       "       'фэнтези,боевик,драма', 'фэнтези,боевик,комедия',\n",
       "       'фэнтези,боевик,криминал', 'фэнтези,боевик,мелодрама',\n",
       "       'фэнтези,боевик,приключения', 'фэнтези,боевик,семейный',\n",
       "       'фэнтези,боевик,триллер', 'фэнтези,боевик,ужасы', 'фэнтези,драма',\n",
       "       'фэнтези,драма,биография', 'фэнтези,драма,детектив',\n",
       "       'фэнтези,драма,комедия', 'фэнтези,драма,мелодрама',\n",
       "       'фэнтези,драма,приключения', 'фэнтези,драма,семейный',\n",
       "       'фэнтези,драма,ужасы', 'фэнтези,драма,фильм-нуар',\n",
       "       'фэнтези,комедия', 'фэнтези,комедия,детектив',\n",
       "       'фэнтези,комедия,драма', 'фэнтези,комедия,криминал',\n",
       "       'фэнтези,комедия,приключения', 'фэнтези,комедия,семейный',\n",
       "       'фэнтези,мелодрама', 'фэнтези,мелодрама,драма',\n",
       "       'фэнтези,мелодрама,комедия', 'фэнтези,мелодрама,приключения',\n",
       "       'фэнтези,приключения', 'фэнтези,приключения,боевик',\n",
       "       'фэнтези,приключения,драма', 'фэнтези,приключения,комедия',\n",
       "       'фэнтези,приключения,семейный', 'фэнтези,семейный',\n",
       "       'фэнтези,семейный,мелодрама', 'фэнтези,семейный,приключения',\n",
       "       'фэнтези,триллер,детектив', 'фэнтези,триллер,драма',\n",
       "       'фэнтези,триллер,мелодрама', 'фэнтези,триллер,приключения',\n",
       "       'фэнтези,ужасы', 'фэнтези,ужасы,триллер'], dtype=object)"
      ]
     },
     "execution_count": 82,
     "metadata": {},
     "output_type": "execute_result"
    }
   ],
   "source": [
    "data['genres'].sort_values().unique()"
   ]
  },
  {
   "cell_type": "markdown",
   "metadata": {},
   "source": [
    "Вопросов по данным нет."
   ]
  },
  {
   "cell_type": "markdown",
   "metadata": {},
   "source": [
    "`box_office`"
   ]
  },
  {
   "cell_type": "code",
   "execution_count": 83,
   "metadata": {},
   "outputs": [
    {
     "data": {
      "text/plain": [
       "array([0.00000000e+00, 4.00000000e+01, 5.00000000e+01, ...,\n",
       "       2.77968614e+09, 3.07356869e+09,            nan])"
      ]
     },
     "execution_count": 83,
     "metadata": {},
     "output_type": "execute_result"
    }
   ],
   "source": [
    "data['box_office'].sort_values().unique()"
   ]
  },
  {
   "cell_type": "markdown",
   "metadata": {},
   "source": [
    "Вызывает сомнения разброс данных."
   ]
  },
  {
   "cell_type": "code",
   "execution_count": 84,
   "metadata": {},
   "outputs": [
    {
     "data": {
      "text/html": [
       "<div>\n",
       "<style scoped>\n",
       "    .dataframe tbody tr th:only-of-type {\n",
       "        vertical-align: middle;\n",
       "    }\n",
       "\n",
       "    .dataframe tbody tr th {\n",
       "        vertical-align: top;\n",
       "    }\n",
       "\n",
       "    .dataframe thead th {\n",
       "        text-align: right;\n",
       "    }\n",
       "</style>\n",
       "<table border=\"1\" class=\"dataframe\">\n",
       "  <thead>\n",
       "    <tr style=\"text-align: right;\">\n",
       "      <th></th>\n",
       "      <th>title</th>\n",
       "      <th>pu_number</th>\n",
       "      <th>show_start_date</th>\n",
       "      <th>type</th>\n",
       "      <th>film_studio</th>\n",
       "      <th>production_country</th>\n",
       "      <th>director</th>\n",
       "      <th>producer</th>\n",
       "      <th>age_restriction</th>\n",
       "      <th>refundable_support</th>\n",
       "      <th>nonrefundable_support</th>\n",
       "      <th>budget</th>\n",
       "      <th>financing_source</th>\n",
       "      <th>ratings</th>\n",
       "      <th>genres</th>\n",
       "      <th>box_office</th>\n",
       "    </tr>\n",
       "  </thead>\n",
       "  <tbody>\n",
       "    <tr>\n",
       "      <th>18</th>\n",
       "      <td>неподдающиеся</td>\n",
       "      <td>111003616</td>\n",
       "      <td>2016-02-12T12:00:00.000Z</td>\n",
       "      <td>Художественный</td>\n",
       "      <td>киностудия \"мосфильм\"</td>\n",
       "      <td>СССР</td>\n",
       "      <td>Ю.Чулюкин</td>\n",
       "      <td>Ю.Чулюкин</td>\n",
       "      <td>«6+»</td>\n",
       "      <td>0.0</td>\n",
       "      <td>0.0</td>\n",
       "      <td>0.0</td>\n",
       "      <td>NaN</td>\n",
       "      <td>8.0</td>\n",
       "      <td>мелодрама,комедия</td>\n",
       "      <td>360.0</td>\n",
       "    </tr>\n",
       "    <tr>\n",
       "      <th>19</th>\n",
       "      <td>неподсуден</td>\n",
       "      <td>111003716</td>\n",
       "      <td>2016-02-12T12:00:00.000Z</td>\n",
       "      <td>Художественный</td>\n",
       "      <td>киностудия \"мосфильм\"</td>\n",
       "      <td>СССР</td>\n",
       "      <td>В.Краснопольский, В.Усков</td>\n",
       "      <td>В.Краснопольский, В.Усков</td>\n",
       "      <td>«6+»</td>\n",
       "      <td>0.0</td>\n",
       "      <td>0.0</td>\n",
       "      <td>0.0</td>\n",
       "      <td>NaN</td>\n",
       "      <td>7.7</td>\n",
       "      <td>драма</td>\n",
       "      <td>420.0</td>\n",
       "    </tr>\n",
       "    <tr>\n",
       "      <th>22</th>\n",
       "      <td>операция \"ы\" и другие приключения шурика</td>\n",
       "      <td>111007413</td>\n",
       "      <td>2013-10-18T12:00:00.000Z</td>\n",
       "      <td>Художественный</td>\n",
       "      <td>киностудия \"мосфильм\"</td>\n",
       "      <td>СССР</td>\n",
       "      <td>Л.Гайдай</td>\n",
       "      <td>Л.Гайдай</td>\n",
       "      <td>«6+»</td>\n",
       "      <td>0.0</td>\n",
       "      <td>0.0</td>\n",
       "      <td>0.0</td>\n",
       "      <td>NaN</td>\n",
       "      <td>8.7</td>\n",
       "      <td>комедия,мелодрама,криминал</td>\n",
       "      <td>380.0</td>\n",
       "    </tr>\n",
       "  </tbody>\n",
       "</table>\n",
       "</div>"
      ],
      "text/plain": [
       "                                       title  pu_number  \\\n",
       "18                             неподдающиеся  111003616   \n",
       "19                                неподсуден  111003716   \n",
       "22  операция \"ы\" и другие приключения шурика  111007413   \n",
       "\n",
       "             show_start_date            type            film_studio  \\\n",
       "18  2016-02-12T12:00:00.000Z  Художественный  киностудия \"мосфильм\"   \n",
       "19  2016-02-12T12:00:00.000Z  Художественный  киностудия \"мосфильм\"   \n",
       "22  2013-10-18T12:00:00.000Z  Художественный  киностудия \"мосфильм\"   \n",
       "\n",
       "   production_country                   director                   producer  \\\n",
       "18               СССР                  Ю.Чулюкин                  Ю.Чулюкин   \n",
       "19               СССР  В.Краснопольский, В.Усков  В.Краснопольский, В.Усков   \n",
       "22               СССР                   Л.Гайдай                   Л.Гайдай   \n",
       "\n",
       "   age_restriction  refundable_support  nonrefundable_support  budget  \\\n",
       "18            «6+»                 0.0                    0.0     0.0   \n",
       "19            «6+»                 0.0                    0.0     0.0   \n",
       "22            «6+»                 0.0                    0.0     0.0   \n",
       "\n",
       "   financing_source ratings                      genres  box_office  \n",
       "18              NaN     8.0           мелодрама,комедия       360.0  \n",
       "19              NaN     7.7                       драма       420.0  \n",
       "22              NaN     8.7  комедия,мелодрама,криминал       380.0  "
      ]
     },
     "execution_count": 84,
     "metadata": {},
     "output_type": "execute_result"
    }
   ],
   "source": [
    "data.query('box_office < 1000').head(3)"
   ]
  },
  {
   "cell_type": "code",
   "execution_count": 85,
   "metadata": {},
   "outputs": [
    {
     "data": {
      "text/html": [
       "<div>\n",
       "<style scoped>\n",
       "    .dataframe tbody tr th:only-of-type {\n",
       "        vertical-align: middle;\n",
       "    }\n",
       "\n",
       "    .dataframe tbody tr th {\n",
       "        vertical-align: top;\n",
       "    }\n",
       "\n",
       "    .dataframe thead th {\n",
       "        text-align: right;\n",
       "    }\n",
       "</style>\n",
       "<table border=\"1\" class=\"dataframe\">\n",
       "  <thead>\n",
       "    <tr style=\"text-align: right;\">\n",
       "      <th></th>\n",
       "      <th>title</th>\n",
       "      <th>pu_number</th>\n",
       "      <th>show_start_date</th>\n",
       "      <th>type</th>\n",
       "      <th>film_studio</th>\n",
       "      <th>production_country</th>\n",
       "      <th>director</th>\n",
       "      <th>producer</th>\n",
       "      <th>age_restriction</th>\n",
       "      <th>refundable_support</th>\n",
       "      <th>nonrefundable_support</th>\n",
       "      <th>budget</th>\n",
       "      <th>financing_source</th>\n",
       "      <th>ratings</th>\n",
       "      <th>genres</th>\n",
       "      <th>box_office</th>\n",
       "    </tr>\n",
       "  </thead>\n",
       "  <tbody>\n",
       "    <tr>\n",
       "      <th>1897</th>\n",
       "      <td>дом _</td>\n",
       "      <td>124000915</td>\n",
       "      <td>2015-02-25T12:00:00.000Z</td>\n",
       "      <td>Анимационный</td>\n",
       "      <td>дримуоркс анимейшн</td>\n",
       "      <td>США</td>\n",
       "      <td>Тим Джонсон</td>\n",
       "      <td>Тим Джонсон</td>\n",
       "      <td>«6+»</td>\n",
       "      <td>0.0</td>\n",
       "      <td>0.0</td>\n",
       "      <td>0.0</td>\n",
       "      <td>NaN</td>\n",
       "      <td>0</td>\n",
       "      <td>unknown</td>\n",
       "      <td>8.288851e+08</td>\n",
       "    </tr>\n",
       "    <tr>\n",
       "      <th>1899</th>\n",
       "      <td>золушка /по сказке шарля перро/. холодное торж...</td>\n",
       "      <td>121003615</td>\n",
       "      <td>2015-02-27T12:00:00.000Z</td>\n",
       "      <td>Художественный</td>\n",
       "      <td>женр филмз, уолт дисней пикчерз</td>\n",
       "      <td>США</td>\n",
       "      <td>Кеннет Брана</td>\n",
       "      <td>Кеннет Брана</td>\n",
       "      <td>«6+»</td>\n",
       "      <td>0.0</td>\n",
       "      <td>0.0</td>\n",
       "      <td>0.0</td>\n",
       "      <td>NaN</td>\n",
       "      <td>0</td>\n",
       "      <td>мюзикл,фэнтези,мелодрама</td>\n",
       "      <td>5.287326e+08</td>\n",
       "    </tr>\n",
       "    <tr>\n",
       "      <th>1982</th>\n",
       "      <td>седьмой сын</td>\n",
       "      <td>121026614</td>\n",
       "      <td>2014-11-11T12:00:00.000Z</td>\n",
       "      <td>Художественный</td>\n",
       "      <td>леджендари пикчерз, мовинг пикчерз компани, ут...</td>\n",
       "      <td>США-Великобритания-Канада-КНР</td>\n",
       "      <td>Сергей Бодров</td>\n",
       "      <td>Сергей Бодров</td>\n",
       "      <td>«12+»</td>\n",
       "      <td>0.0</td>\n",
       "      <td>0.0</td>\n",
       "      <td>0.0</td>\n",
       "      <td>NaN</td>\n",
       "      <td>5.8</td>\n",
       "      <td>фэнтези,приключения</td>\n",
       "      <td>1.016411e+09</td>\n",
       "    </tr>\n",
       "  </tbody>\n",
       "</table>\n",
       "</div>"
      ],
      "text/plain": [
       "                                                  title  pu_number  \\\n",
       "1897                                              дом _  124000915   \n",
       "1899  золушка /по сказке шарля перро/. холодное торж...  121003615   \n",
       "1982                                        седьмой сын  121026614   \n",
       "\n",
       "               show_start_date            type  \\\n",
       "1897  2015-02-25T12:00:00.000Z    Анимационный   \n",
       "1899  2015-02-27T12:00:00.000Z  Художественный   \n",
       "1982  2014-11-11T12:00:00.000Z  Художественный   \n",
       "\n",
       "                                            film_studio  \\\n",
       "1897                                 дримуоркс анимейшн   \n",
       "1899                    женр филмз, уолт дисней пикчерз   \n",
       "1982  леджендари пикчерз, мовинг пикчерз компани, ут...   \n",
       "\n",
       "                 production_country       director       producer  \\\n",
       "1897                            США    Тим Джонсон    Тим Джонсон   \n",
       "1899                            США   Кеннет Брана   Кеннет Брана   \n",
       "1982  США-Великобритания-Канада-КНР  Сергей Бодров  Сергей Бодров   \n",
       "\n",
       "     age_restriction  refundable_support  nonrefundable_support  budget  \\\n",
       "1897            «6+»                 0.0                    0.0     0.0   \n",
       "1899            «6+»                 0.0                    0.0     0.0   \n",
       "1982           «12+»                 0.0                    0.0     0.0   \n",
       "\n",
       "     financing_source ratings                    genres    box_office  \n",
       "1897              NaN       0                   unknown  8.288851e+08  \n",
       "1899              NaN       0  мюзикл,фэнтези,мелодрама  5.287326e+08  \n",
       "1982              NaN     5.8       фэнтези,приключения  1.016411e+09  "
      ]
     },
     "execution_count": 85,
     "metadata": {},
     "output_type": "execute_result"
    }
   ],
   "source": [
    "data.query('box_office > 500000000').head(3)"
   ]
  },
  {
   "cell_type": "markdown",
   "metadata": {},
   "source": [
    "Рассмотрим подробнее на примере фильма \"Остров проклятых\"."
   ]
  },
  {
   "cell_type": "code",
   "execution_count": 86,
   "metadata": {},
   "outputs": [
    {
     "data": {
      "text/html": [
       "<div>\n",
       "<style scoped>\n",
       "    .dataframe tbody tr th:only-of-type {\n",
       "        vertical-align: middle;\n",
       "    }\n",
       "\n",
       "    .dataframe tbody tr th {\n",
       "        vertical-align: top;\n",
       "    }\n",
       "\n",
       "    .dataframe thead th {\n",
       "        text-align: right;\n",
       "    }\n",
       "</style>\n",
       "<table border=\"1\" class=\"dataframe\">\n",
       "  <thead>\n",
       "    <tr style=\"text-align: right;\">\n",
       "      <th></th>\n",
       "      <th>title</th>\n",
       "      <th>pu_number</th>\n",
       "      <th>show_start_date</th>\n",
       "      <th>type</th>\n",
       "      <th>film_studio</th>\n",
       "      <th>production_country</th>\n",
       "      <th>director</th>\n",
       "      <th>producer</th>\n",
       "      <th>age_restriction</th>\n",
       "      <th>refundable_support</th>\n",
       "      <th>nonrefundable_support</th>\n",
       "      <th>budget</th>\n",
       "      <th>financing_source</th>\n",
       "      <th>ratings</th>\n",
       "      <th>genres</th>\n",
       "      <th>box_office</th>\n",
       "    </tr>\n",
       "  </thead>\n",
       "  <tbody>\n",
       "    <tr>\n",
       "      <th>3965</th>\n",
       "      <td>остров проклятых</td>\n",
       "      <td>121002410</td>\n",
       "      <td>2010-02-09T12:00:00.000Z</td>\n",
       "      <td>Художественный</td>\n",
       "      <td>парамаунт пикчерз, феникс пикчерз, сикелия про...</td>\n",
       "      <td>США</td>\n",
       "      <td>Мартин Скорсезе</td>\n",
       "      <td>Мартин Скорсезе</td>\n",
       "      <td>«16+»</td>\n",
       "      <td>0.0</td>\n",
       "      <td>0.0</td>\n",
       "      <td>0.0</td>\n",
       "      <td>NaN</td>\n",
       "      <td>8.5</td>\n",
       "      <td>триллер,детектив,драма</td>\n",
       "      <td>NaN</td>\n",
       "    </tr>\n",
       "    <tr>\n",
       "      <th>4239</th>\n",
       "      <td>остров проклятых</td>\n",
       "      <td>221031210</td>\n",
       "      <td>2010-03-20T12:00:00.000Z</td>\n",
       "      <td>Художественный</td>\n",
       "      <td>парамаунт пикчерз, феникс пикчерз, сикелия про...</td>\n",
       "      <td>США</td>\n",
       "      <td>Мартин Скорсезе</td>\n",
       "      <td>Мартин Скорсезе</td>\n",
       "      <td>«16+»</td>\n",
       "      <td>0.0</td>\n",
       "      <td>0.0</td>\n",
       "      <td>0.0</td>\n",
       "      <td>NaN</td>\n",
       "      <td>8.5</td>\n",
       "      <td>триллер,детектив,драма</td>\n",
       "      <td>NaN</td>\n",
       "    </tr>\n",
       "    <tr>\n",
       "      <th>4600</th>\n",
       "      <td>остров проклятых</td>\n",
       "      <td>221159810</td>\n",
       "      <td>2010-12-17T12:00:00.000Z</td>\n",
       "      <td>Художественный</td>\n",
       "      <td>парамаунт пикчерз, феникс пикчерз, сикелия про...</td>\n",
       "      <td>США</td>\n",
       "      <td>Мартин Скорсезе</td>\n",
       "      <td>Мартин Скорсезе</td>\n",
       "      <td>«16+»</td>\n",
       "      <td>0.0</td>\n",
       "      <td>0.0</td>\n",
       "      <td>0.0</td>\n",
       "      <td>NaN</td>\n",
       "      <td>8.5</td>\n",
       "      <td>триллер,детектив,драма</td>\n",
       "      <td>250.0</td>\n",
       "    </tr>\n",
       "  </tbody>\n",
       "</table>\n",
       "</div>"
      ],
      "text/plain": [
       "                 title  pu_number           show_start_date            type  \\\n",
       "3965  остров проклятых  121002410  2010-02-09T12:00:00.000Z  Художественный   \n",
       "4239  остров проклятых  221031210  2010-03-20T12:00:00.000Z  Художественный   \n",
       "4600  остров проклятых  221159810  2010-12-17T12:00:00.000Z  Художественный   \n",
       "\n",
       "                                            film_studio production_country  \\\n",
       "3965  парамаунт пикчерз, феникс пикчерз, сикелия про...                США   \n",
       "4239  парамаунт пикчерз, феникс пикчерз, сикелия про...                США   \n",
       "4600  парамаунт пикчерз, феникс пикчерз, сикелия про...                США   \n",
       "\n",
       "             director         producer age_restriction  refundable_support  \\\n",
       "3965  Мартин Скорсезе  Мартин Скорсезе           «16+»                 0.0   \n",
       "4239  Мартин Скорсезе  Мартин Скорсезе           «16+»                 0.0   \n",
       "4600  Мартин Скорсезе  Мартин Скорсезе           «16+»                 0.0   \n",
       "\n",
       "      nonrefundable_support  budget financing_source ratings  \\\n",
       "3965                    0.0     0.0              NaN     8.5   \n",
       "4239                    0.0     0.0              NaN     8.5   \n",
       "4600                    0.0     0.0              NaN     8.5   \n",
       "\n",
       "                      genres  box_office  \n",
       "3965  триллер,детектив,драма         NaN  \n",
       "4239  триллер,детектив,драма         NaN  \n",
       "4600  триллер,детектив,драма       250.0  "
      ]
     },
     "execution_count": 86,
     "metadata": {},
     "output_type": "execute_result"
    }
   ],
   "source": [
    "data.query('title == \"остров проклятых\"')"
   ]
  },
  {
   "cell_type": "markdown",
   "metadata": {},
   "source": [
    "Согласно данным Кинопоиска сборы фильма Остров проклятых в России сотавил $5430049, у нас фигурирует 250 руб.      Непонятно пока что с этим делать."
   ]
  },
  {
   "cell_type": "markdown",
   "metadata": {},
   "source": [
    "**Вывод**"
   ]
  },
  {
   "cell_type": "markdown",
   "metadata": {},
   "source": [
    "В ходе анализа возникли многочисленные вопросы к категориальным данным. Из-за отсутствия единого шаблона, разного регистра, возникновения пробелов в начале и конце слов - в данных присутствует много дубликатов. Вызывают так же  сомнения количественные данные в столбце \"box_office\".  "
   ]
  },
  {
   "cell_type": "markdown",
   "metadata": {},
   "source": [
    "#### Обработка дубликатов"
   ]
  },
  {
   "cell_type": "markdown",
   "metadata": {},
   "source": [
    "Посчитаем кол-во явных совпадений."
   ]
  },
  {
   "cell_type": "code",
   "execution_count": 87,
   "metadata": {},
   "outputs": [
    {
     "data": {
      "text/plain": [
       "0"
      ]
     },
     "execution_count": 87,
     "metadata": {},
     "output_type": "execute_result"
    }
   ],
   "source": [
    "data.duplicated().sum() "
   ]
  },
  {
   "cell_type": "markdown",
   "metadata": {},
   "source": [
    "**Вывод**"
   ]
  },
  {
   "cell_type": "markdown",
   "metadata": {},
   "source": [
    "Явные дубликаты в данных не обнаружены. Неявные дубликаты обработаем при исследовании данных, после окончательного формирования исходной таблицы."
   ]
  },
  {
   "cell_type": "markdown",
   "metadata": {},
   "source": [
    "#### Замена типов данных"
   ]
  },
  {
   "cell_type": "markdown",
   "metadata": {},
   "source": [
    "Просмотрим общую информацию по данным."
   ]
  },
  {
   "cell_type": "code",
   "execution_count": 88,
   "metadata": {},
   "outputs": [
    {
     "name": "stdout",
     "output_type": "stream",
     "text": [
      "<class 'pandas.core.frame.DataFrame'>\n",
      "Int64Index: 7485 entries, 0 to 7485\n",
      "Data columns (total 16 columns):\n",
      " #   Column                 Non-Null Count  Dtype  \n",
      "---  ------                 --------------  -----  \n",
      " 0   title                  7485 non-null   object \n",
      " 1   pu_number              7485 non-null   int64  \n",
      " 2   show_start_date        7485 non-null   object \n",
      " 3   type                   7485 non-null   object \n",
      " 4   film_studio            7485 non-null   object \n",
      " 5   production_country     7485 non-null   object \n",
      " 6   director               7485 non-null   object \n",
      " 7   producer               7485 non-null   object \n",
      " 8   age_restriction        7485 non-null   object \n",
      " 9   refundable_support     7485 non-null   float64\n",
      " 10  nonrefundable_support  7485 non-null   float64\n",
      " 11  budget                 7485 non-null   float64\n",
      " 12  financing_source       332 non-null    object \n",
      " 13  ratings                7485 non-null   object \n",
      " 14  genres                 7485 non-null   object \n",
      " 15  box_office             3158 non-null   float64\n",
      "dtypes: float64(4), int64(1), object(11)\n",
      "memory usage: 10.6 MB\n"
     ]
    }
   ],
   "source": [
    "data.info(memory_usage='deep')"
   ]
  },
  {
   "cell_type": "markdown",
   "metadata": {},
   "source": [
    "Проанализируем max и min значения."
   ]
  },
  {
   "cell_type": "code",
   "execution_count": 89,
   "metadata": {},
   "outputs": [
    {
     "data": {
      "text/html": [
       "<div>\n",
       "<style scoped>\n",
       "    .dataframe tbody tr th:only-of-type {\n",
       "        vertical-align: middle;\n",
       "    }\n",
       "\n",
       "    .dataframe tbody tr th {\n",
       "        vertical-align: top;\n",
       "    }\n",
       "\n",
       "    .dataframe thead th {\n",
       "        text-align: right;\n",
       "    }\n",
       "</style>\n",
       "<table border=\"1\" class=\"dataframe\">\n",
       "  <thead>\n",
       "    <tr style=\"text-align: right;\">\n",
       "      <th></th>\n",
       "      <th>count</th>\n",
       "      <th>mean</th>\n",
       "      <th>std</th>\n",
       "      <th>min</th>\n",
       "      <th>25%</th>\n",
       "      <th>50%</th>\n",
       "      <th>75%</th>\n",
       "      <th>max</th>\n",
       "    </tr>\n",
       "  </thead>\n",
       "  <tbody>\n",
       "    <tr>\n",
       "      <th>pu_number</th>\n",
       "      <td>7485.0</td>\n",
       "      <td>1.351966e+08</td>\n",
       "      <td>3.835292e+07</td>\n",
       "      <td>1811096.0</td>\n",
       "      <td>112025118.0</td>\n",
       "      <td>1.210155e+08</td>\n",
       "      <td>1.240033e+08</td>\n",
       "      <td>2.310011e+08</td>\n",
       "    </tr>\n",
       "    <tr>\n",
       "      <th>refundable_support</th>\n",
       "      <td>7485.0</td>\n",
       "      <td>5.262525e+05</td>\n",
       "      <td>5.781491e+06</td>\n",
       "      <td>0.0</td>\n",
       "      <td>0.0</td>\n",
       "      <td>0.000000e+00</td>\n",
       "      <td>0.000000e+00</td>\n",
       "      <td>1.800000e+08</td>\n",
       "    </tr>\n",
       "    <tr>\n",
       "      <th>nonrefundable_support</th>\n",
       "      <td>7485.0</td>\n",
       "      <td>2.172570e+06</td>\n",
       "      <td>1.614999e+07</td>\n",
       "      <td>0.0</td>\n",
       "      <td>0.0</td>\n",
       "      <td>0.000000e+00</td>\n",
       "      <td>0.000000e+00</td>\n",
       "      <td>4.000000e+08</td>\n",
       "    </tr>\n",
       "    <tr>\n",
       "      <th>budget</th>\n",
       "      <td>7485.0</td>\n",
       "      <td>5.994056e+06</td>\n",
       "      <td>4.838529e+07</td>\n",
       "      <td>0.0</td>\n",
       "      <td>0.0</td>\n",
       "      <td>0.000000e+00</td>\n",
       "      <td>0.000000e+00</td>\n",
       "      <td>2.305074e+09</td>\n",
       "    </tr>\n",
       "    <tr>\n",
       "      <th>box_office</th>\n",
       "      <td>3158.0</td>\n",
       "      <td>7.647870e+07</td>\n",
       "      <td>2.403531e+08</td>\n",
       "      <td>0.0</td>\n",
       "      <td>86239.0</td>\n",
       "      <td>2.327988e+06</td>\n",
       "      <td>2.397967e+07</td>\n",
       "      <td>3.073569e+09</td>\n",
       "    </tr>\n",
       "  </tbody>\n",
       "</table>\n",
       "</div>"
      ],
      "text/plain": [
       "                        count          mean           std        min  \\\n",
       "pu_number              7485.0  1.351966e+08  3.835292e+07  1811096.0   \n",
       "refundable_support     7485.0  5.262525e+05  5.781491e+06        0.0   \n",
       "nonrefundable_support  7485.0  2.172570e+06  1.614999e+07        0.0   \n",
       "budget                 7485.0  5.994056e+06  4.838529e+07        0.0   \n",
       "box_office             3158.0  7.647870e+07  2.403531e+08        0.0   \n",
       "\n",
       "                               25%           50%           75%           max  \n",
       "pu_number              112025118.0  1.210155e+08  1.240033e+08  2.310011e+08  \n",
       "refundable_support             0.0  0.000000e+00  0.000000e+00  1.800000e+08  \n",
       "nonrefundable_support          0.0  0.000000e+00  0.000000e+00  4.000000e+08  \n",
       "budget                         0.0  0.000000e+00  0.000000e+00  2.305074e+09  \n",
       "box_office                 86239.0  2.327988e+06  2.397967e+07  3.073569e+09  "
      ]
     },
     "execution_count": 89,
     "metadata": {},
     "output_type": "execute_result"
    }
   ],
   "source": [
    "data.describe().T"
   ]
  },
  {
   "cell_type": "markdown",
   "metadata": {},
   "source": [
    "Учитывая полученные ранее данные о кол-ве уникальных значений а также max и min, проведем замены типов данных с помощью метода `astype()`"
   ]
  },
  {
   "cell_type": "code",
   "execution_count": 90,
   "metadata": {},
   "outputs": [],
   "source": [
    "try:\n",
    "    data['pu_number'] = data['pu_number'].astype('int32')\n",
    "    data['type'] = data['type'].astype('category')\n",
    "    data['age_restriction'] = data['age_restriction'].astype('category')\n",
    "    data['refundable_support'] = data['refundable_support'].astype('int32')\n",
    "    data['nonrefundable_support'] = data['nonrefundable_support'].astype('int32')\n",
    "    data['budget'] = data['budget'].astype('int64')\n",
    "    data['financing_source'] = data['financing_source'].astype('category')\n",
    "        \n",
    "    \n",
    "    \n",
    "    data['show_start_date'] = pd.to_datetime(data['show_start_date'], format='%Y-%m-%dT%H:%M:%S')   \n",
    "        \n",
    "except:\n",
    "    print('Ошибка при попытке изменения типа данных')   \n"
   ]
  },
  {
   "cell_type": "code",
   "execution_count": 91,
   "metadata": {},
   "outputs": [
    {
     "name": "stdout",
     "output_type": "stream",
     "text": [
      "<class 'pandas.core.frame.DataFrame'>\n",
      "Int64Index: 7485 entries, 0 to 7485\n",
      "Data columns (total 16 columns):\n",
      " #   Column                 Non-Null Count  Dtype              \n",
      "---  ------                 --------------  -----              \n",
      " 0   title                  7485 non-null   object             \n",
      " 1   pu_number              7485 non-null   int32              \n",
      " 2   show_start_date        7485 non-null   datetime64[ns, UTC]\n",
      " 3   type                   7485 non-null   category           \n",
      " 4   film_studio            7485 non-null   object             \n",
      " 5   production_country     7485 non-null   object             \n",
      " 6   director               7485 non-null   object             \n",
      " 7   producer               7485 non-null   object             \n",
      " 8   age_restriction        7485 non-null   category           \n",
      " 9   refundable_support     7485 non-null   int32              \n",
      " 10  nonrefundable_support  7485 non-null   int32              \n",
      " 11  budget                 7485 non-null   int64              \n",
      " 12  financing_source       332 non-null    category           \n",
      " 13  ratings                7485 non-null   object             \n",
      " 14  genres                 7485 non-null   object             \n",
      " 15  box_office             3158 non-null   float64            \n",
      "dtypes: category(3), datetime64[ns, UTC](1), float64(1), int32(3), int64(1), object(7)\n",
      "memory usage: 8.1 MB\n"
     ]
    }
   ],
   "source": [
    "data.info(memory_usage='deep') # проверка"
   ]
  },
  {
   "cell_type": "markdown",
   "metadata": {},
   "source": [
    "**Вывод**"
   ]
  },
  {
   "cell_type": "markdown",
   "metadata": {},
   "source": [
    "Для оптимизации работы с памятью провели следующие замены типов данных:\n",
    "- `category`: 'type', 'age_restriction', 'financing_source'\n",
    "- `int32`: 'pu_number', 'refundable_support', 'nonrefundable_support';\n",
    "- `datetime64`: 'show_start_date';\n",
    "- `int64`: 'budget';    \n",
    "- `float16`: 'ratings'.\n",
    "    \n",
    "Изменение типов данных позволило сократить значение используемой памяти с 10.7 MB до 8.2 MB."
   ]
  },
  {
   "cell_type": "markdown",
   "metadata": {
    "id": "4c6k1t9ygFyQ"
   },
   "source": [
    "#### Добавление новых данных в таблицу"
   ]
  },
  {
   "cell_type": "markdown",
   "metadata": {},
   "source": [
    "Создадим столбец с информацией о годе проката фильма."
   ]
  },
  {
   "cell_type": "code",
   "execution_count": 92,
   "metadata": {},
   "outputs": [],
   "source": [
    "data['year'] = pd.DatetimeIndex(data['show_start_date']).year"
   ]
  },
  {
   "cell_type": "markdown",
   "metadata": {},
   "source": [
    "Создадим два столбца: с именем и фамилией главного режиссёра и основным жанром фильма. Используем для это функцию, которая разобьет строку на подстроки по разделителю ','. "
   ]
  },
  {
   "cell_type": "code",
   "execution_count": 93,
   "metadata": {},
   "outputs": [],
   "source": [
    "def str_split(value):\n",
    "    df = value.split(',')\n",
    "    return df[0]"
   ]
  },
  {
   "cell_type": "markdown",
   "metadata": {},
   "source": [
    "Применим функцию к столбцам `'director'` и `'genres'`."
   ]
  },
  {
   "cell_type": "code",
   "execution_count": 94,
   "metadata": {},
   "outputs": [
    {
     "data": {
      "text/html": [
       "<div>\n",
       "<style scoped>\n",
       "    .dataframe tbody tr th:only-of-type {\n",
       "        vertical-align: middle;\n",
       "    }\n",
       "\n",
       "    .dataframe tbody tr th {\n",
       "        vertical-align: top;\n",
       "    }\n",
       "\n",
       "    .dataframe thead th {\n",
       "        text-align: right;\n",
       "    }\n",
       "</style>\n",
       "<table border=\"1\" class=\"dataframe\">\n",
       "  <thead>\n",
       "    <tr style=\"text-align: right;\">\n",
       "      <th></th>\n",
       "      <th>5631</th>\n",
       "      <th>2305</th>\n",
       "      <th>4899</th>\n",
       "    </tr>\n",
       "  </thead>\n",
       "  <tbody>\n",
       "    <tr>\n",
       "      <th>title</th>\n",
       "      <td>затмение</td>\n",
       "      <td>дурак</td>\n",
       "      <td>акулы 3d</td>\n",
       "    </tr>\n",
       "    <tr>\n",
       "      <th>pu_number</th>\n",
       "      <td>111011317</td>\n",
       "      <td>111008414</td>\n",
       "      <td>221052311</td>\n",
       "    </tr>\n",
       "    <tr>\n",
       "      <th>show_start_date</th>\n",
       "      <td>2017-11-30 12:00:00+00:00</td>\n",
       "      <td>2014-08-08 12:00:00+00:00</td>\n",
       "      <td>2011-04-21 12:00:00+00:00</td>\n",
       "    </tr>\n",
       "    <tr>\n",
       "      <th>type</th>\n",
       "      <td>Художественный</td>\n",
       "      <td>Художественный</td>\n",
       "      <td>Документальный</td>\n",
       "    </tr>\n",
       "    <tr>\n",
       "      <th>film_studio</th>\n",
       "      <td>ооо \"киноданц\", ооо \"кинобайт\"</td>\n",
       "      <td>ооо \"новые проекты\", ооо \"тпо \"рок\"</td>\n",
       "      <td>3d интертейнмент, гевин маккинней андероутер п...</td>\n",
       "    </tr>\n",
       "    <tr>\n",
       "      <th>production_country</th>\n",
       "      <td>Россия</td>\n",
       "      <td>Россия</td>\n",
       "      <td>Франция-Великобритания-Багамскиеострова-США</td>\n",
       "    </tr>\n",
       "    <tr>\n",
       "      <th>director</th>\n",
       "      <td>И.Кордзаия, В.Лисневский</td>\n",
       "      <td>Ю.Быков</td>\n",
       "      <td>Жан-Жак Мантелло</td>\n",
       "    </tr>\n",
       "    <tr>\n",
       "      <th>producer</th>\n",
       "      <td>И.Кордзаия, В.Лисневский</td>\n",
       "      <td>Ю.Быков</td>\n",
       "      <td>Жан-Жак Мантелло</td>\n",
       "    </tr>\n",
       "    <tr>\n",
       "      <th>age_restriction</th>\n",
       "      <td>«12+»</td>\n",
       "      <td>«16+»</td>\n",
       "      <td>«12+»</td>\n",
       "    </tr>\n",
       "    <tr>\n",
       "      <th>refundable_support</th>\n",
       "      <td>0</td>\n",
       "      <td>0</td>\n",
       "      <td>0</td>\n",
       "    </tr>\n",
       "    <tr>\n",
       "      <th>nonrefundable_support</th>\n",
       "      <td>0</td>\n",
       "      <td>0</td>\n",
       "      <td>0</td>\n",
       "    </tr>\n",
       "    <tr>\n",
       "      <th>budget</th>\n",
       "      <td>0</td>\n",
       "      <td>0</td>\n",
       "      <td>0</td>\n",
       "    </tr>\n",
       "    <tr>\n",
       "      <th>financing_source</th>\n",
       "      <td>NaN</td>\n",
       "      <td>NaN</td>\n",
       "      <td>NaN</td>\n",
       "    </tr>\n",
       "    <tr>\n",
       "      <th>ratings</th>\n",
       "      <td>5.4</td>\n",
       "      <td>8.1</td>\n",
       "      <td>4.3</td>\n",
       "    </tr>\n",
       "    <tr>\n",
       "      <th>genres</th>\n",
       "      <td>фэнтези,приключения</td>\n",
       "      <td>драма</td>\n",
       "      <td>ужасы,триллер</td>\n",
       "    </tr>\n",
       "    <tr>\n",
       "      <th>box_office</th>\n",
       "      <td>NaN</td>\n",
       "      <td>235625.0</td>\n",
       "      <td>NaN</td>\n",
       "    </tr>\n",
       "    <tr>\n",
       "      <th>year</th>\n",
       "      <td>2017</td>\n",
       "      <td>2014</td>\n",
       "      <td>2011</td>\n",
       "    </tr>\n",
       "    <tr>\n",
       "      <th>main_director</th>\n",
       "      <td>И.Кордзаия</td>\n",
       "      <td>Ю.Быков</td>\n",
       "      <td>Жан-Жак Мантелло</td>\n",
       "    </tr>\n",
       "    <tr>\n",
       "      <th>main_genres</th>\n",
       "      <td>фэнтези</td>\n",
       "      <td>драма</td>\n",
       "      <td>ужасы</td>\n",
       "    </tr>\n",
       "  </tbody>\n",
       "</table>\n",
       "</div>"
      ],
      "text/plain": [
       "                                                 5631  \\\n",
       "title                                        затмение   \n",
       "pu_number                                   111011317   \n",
       "show_start_date             2017-11-30 12:00:00+00:00   \n",
       "type                                   Художественный   \n",
       "film_studio            ооо \"киноданц\", ооо \"кинобайт\"   \n",
       "production_country                             Россия   \n",
       "director                     И.Кордзаия, В.Лисневский   \n",
       "producer                     И.Кордзаия, В.Лисневский   \n",
       "age_restriction                                 «12+»   \n",
       "refundable_support                                  0   \n",
       "nonrefundable_support                               0   \n",
       "budget                                              0   \n",
       "financing_source                                  NaN   \n",
       "ratings                                           5.4   \n",
       "genres                            фэнтези,приключения   \n",
       "box_office                                        NaN   \n",
       "year                                             2017   \n",
       "main_director                              И.Кордзаия   \n",
       "main_genres                                   фэнтези   \n",
       "\n",
       "                                                      2305  \\\n",
       "title                                                дурак   \n",
       "pu_number                                        111008414   \n",
       "show_start_date                  2014-08-08 12:00:00+00:00   \n",
       "type                                        Художественный   \n",
       "film_studio            ооо \"новые проекты\", ооо \"тпо \"рок\"   \n",
       "production_country                                  Россия   \n",
       "director                                           Ю.Быков   \n",
       "producer                                           Ю.Быков   \n",
       "age_restriction                                      «16+»   \n",
       "refundable_support                                       0   \n",
       "nonrefundable_support                                    0   \n",
       "budget                                                   0   \n",
       "financing_source                                       NaN   \n",
       "ratings                                                8.1   \n",
       "genres                                               драма   \n",
       "box_office                                        235625.0   \n",
       "year                                                  2014   \n",
       "main_director                                      Ю.Быков   \n",
       "main_genres                                          драма   \n",
       "\n",
       "                                                                    4899  \n",
       "title                                                           акулы 3d  \n",
       "pu_number                                                      221052311  \n",
       "show_start_date                                2011-04-21 12:00:00+00:00  \n",
       "type                                                      Документальный  \n",
       "film_studio            3d интертейнмент, гевин маккинней андероутер п...  \n",
       "production_country           Франция-Великобритания-Багамскиеострова-США  \n",
       "director                                                Жан-Жак Мантелло  \n",
       "producer                                                Жан-Жак Мантелло  \n",
       "age_restriction                                                    «12+»  \n",
       "refundable_support                                                     0  \n",
       "nonrefundable_support                                                  0  \n",
       "budget                                                                 0  \n",
       "financing_source                                                     NaN  \n",
       "ratings                                                              4.3  \n",
       "genres                                                     ужасы,триллер  \n",
       "box_office                                                           NaN  \n",
       "year                                                                2011  \n",
       "main_director                                           Жан-Жак Мантелло  \n",
       "main_genres                                                        ужасы  "
      ]
     },
     "execution_count": 94,
     "metadata": {},
     "output_type": "execute_result"
    }
   ],
   "source": [
    "data['main_director'] = data['director'].apply(str_split)\n",
    "data['main_genres'] = data['genres'].apply(str_split)\n",
    "data.sample(n=3, random_state=1).T"
   ]
  },
  {
   "cell_type": "markdown",
   "metadata": {},
   "source": [
    "Создадим столбец с данными о доле гос. поддержки в общем бюджете фильма."
   ]
  },
  {
   "cell_type": "code",
   "execution_count": 95,
   "metadata": {
    "scrolled": false
   },
   "outputs": [
    {
     "data": {
      "text/html": [
       "<div>\n",
       "<style scoped>\n",
       "    .dataframe tbody tr th:only-of-type {\n",
       "        vertical-align: middle;\n",
       "    }\n",
       "\n",
       "    .dataframe tbody tr th {\n",
       "        vertical-align: top;\n",
       "    }\n",
       "\n",
       "    .dataframe thead th {\n",
       "        text-align: right;\n",
       "    }\n",
       "</style>\n",
       "<table border=\"1\" class=\"dataframe\">\n",
       "  <thead>\n",
       "    <tr style=\"text-align: right;\">\n",
       "      <th></th>\n",
       "      <th>3136</th>\n",
       "      <th>5576</th>\n",
       "      <th>7009</th>\n",
       "    </tr>\n",
       "  </thead>\n",
       "  <tbody>\n",
       "    <tr>\n",
       "      <th>title</th>\n",
       "      <td>статус: \"свободен\"</td>\n",
       "      <td>исповедь содержанки</td>\n",
       "      <td>куратор</td>\n",
       "    </tr>\n",
       "    <tr>\n",
       "      <th>pu_number</th>\n",
       "      <td>111000116</td>\n",
       "      <td>111007817</td>\n",
       "      <td>111010019</td>\n",
       "    </tr>\n",
       "    <tr>\n",
       "      <th>show_start_date</th>\n",
       "      <td>2016-01-13 12:00:00+00:00</td>\n",
       "      <td>2017-11-30 12:00:00+00:00</td>\n",
       "      <td>2019-06-13 12:00:00+00:00</td>\n",
       "    </tr>\n",
       "    <tr>\n",
       "      <th>type</th>\n",
       "      <td>Художественный</td>\n",
       "      <td>Художественный</td>\n",
       "      <td>Художественный</td>\n",
       "    </tr>\n",
       "    <tr>\n",
       "      <th>film_studio</th>\n",
       "      <td>ооо \"кинодом\"</td>\n",
       "      <td>ооо \"корпорация русская фильм группа\", ооо \"ма...</td>\n",
       "      <td>ооо \"кинокомпания атлантик\", 20 стэпс продакшнс</td>\n",
       "    </tr>\n",
       "    <tr>\n",
       "      <th>production_country</th>\n",
       "      <td>Россия</td>\n",
       "      <td>Россия</td>\n",
       "      <td>Россия-Грузия</td>\n",
       "    </tr>\n",
       "    <tr>\n",
       "      <th>director</th>\n",
       "      <td>П.Руминов</td>\n",
       "      <td>Е.Жигаева</td>\n",
       "      <td>П.Левченко</td>\n",
       "    </tr>\n",
       "    <tr>\n",
       "      <th>producer</th>\n",
       "      <td>П.Руминов</td>\n",
       "      <td>Е.Жигаева</td>\n",
       "      <td>П.Левченко</td>\n",
       "    </tr>\n",
       "    <tr>\n",
       "      <th>age_restriction</th>\n",
       "      <td>«16+»</td>\n",
       "      <td>«18+»</td>\n",
       "      <td>«16+»</td>\n",
       "    </tr>\n",
       "    <tr>\n",
       "      <th>refundable_support</th>\n",
       "      <td>20000000</td>\n",
       "      <td>0</td>\n",
       "      <td>0</td>\n",
       "    </tr>\n",
       "    <tr>\n",
       "      <th>nonrefundable_support</th>\n",
       "      <td>20000000</td>\n",
       "      <td>8000000</td>\n",
       "      <td>25000000</td>\n",
       "    </tr>\n",
       "    <tr>\n",
       "      <th>budget</th>\n",
       "      <td>78686500</td>\n",
       "      <td>18166418</td>\n",
       "      <td>60668576</td>\n",
       "    </tr>\n",
       "    <tr>\n",
       "      <th>financing_source</th>\n",
       "      <td>Фонд кино</td>\n",
       "      <td>Министерство культуры</td>\n",
       "      <td>Министерство культуры</td>\n",
       "    </tr>\n",
       "    <tr>\n",
       "      <th>ratings</th>\n",
       "      <td>5.8</td>\n",
       "      <td>5.4</td>\n",
       "      <td>4.9</td>\n",
       "    </tr>\n",
       "    <tr>\n",
       "      <th>genres</th>\n",
       "      <td>комедия,мелодрама</td>\n",
       "      <td>мелодрама,криминал</td>\n",
       "      <td>драма,криминал,детектив</td>\n",
       "    </tr>\n",
       "    <tr>\n",
       "      <th>box_office</th>\n",
       "      <td>153030013.4</td>\n",
       "      <td>270497.0</td>\n",
       "      <td>NaN</td>\n",
       "    </tr>\n",
       "    <tr>\n",
       "      <th>year</th>\n",
       "      <td>2016</td>\n",
       "      <td>2017</td>\n",
       "      <td>2019</td>\n",
       "    </tr>\n",
       "    <tr>\n",
       "      <th>main_director</th>\n",
       "      <td>П.Руминов</td>\n",
       "      <td>Е.Жигаева</td>\n",
       "      <td>П.Левченко</td>\n",
       "    </tr>\n",
       "    <tr>\n",
       "      <th>main_genres</th>\n",
       "      <td>комедия</td>\n",
       "      <td>мелодрама</td>\n",
       "      <td>драма</td>\n",
       "    </tr>\n",
       "    <tr>\n",
       "      <th>share_support</th>\n",
       "      <td>50.834641</td>\n",
       "      <td>44.0373</td>\n",
       "      <td>41.207494</td>\n",
       "    </tr>\n",
       "  </tbody>\n",
       "</table>\n",
       "</div>"
      ],
      "text/plain": [
       "                                            3136  \\\n",
       "title                         статус: \"свободен\"   \n",
       "pu_number                              111000116   \n",
       "show_start_date        2016-01-13 12:00:00+00:00   \n",
       "type                              Художественный   \n",
       "film_studio                        ооо \"кинодом\"   \n",
       "production_country                        Россия   \n",
       "director                               П.Руминов   \n",
       "producer                               П.Руминов   \n",
       "age_restriction                            «16+»   \n",
       "refundable_support                      20000000   \n",
       "nonrefundable_support                   20000000   \n",
       "budget                                  78686500   \n",
       "financing_source                       Фонд кино   \n",
       "ratings                                      5.8   \n",
       "genres                         комедия,мелодрама   \n",
       "box_office                           153030013.4   \n",
       "year                                        2016   \n",
       "main_director                          П.Руминов   \n",
       "main_genres                              комедия   \n",
       "share_support                          50.834641   \n",
       "\n",
       "                                                                    5576  \\\n",
       "title                                                исповедь содержанки   \n",
       "pu_number                                                      111007817   \n",
       "show_start_date                                2017-11-30 12:00:00+00:00   \n",
       "type                                                      Художественный   \n",
       "film_studio            ооо \"корпорация русская фильм группа\", ооо \"ма...   \n",
       "production_country                                                Россия   \n",
       "director                                                       Е.Жигаева   \n",
       "producer                                                       Е.Жигаева   \n",
       "age_restriction                                                    «18+»   \n",
       "refundable_support                                                     0   \n",
       "nonrefundable_support                                            8000000   \n",
       "budget                                                          18166418   \n",
       "financing_source                                   Министерство культуры   \n",
       "ratings                                                              5.4   \n",
       "genres                                                мелодрама,криминал   \n",
       "box_office                                                      270497.0   \n",
       "year                                                                2017   \n",
       "main_director                                                  Е.Жигаева   \n",
       "main_genres                                                    мелодрама   \n",
       "share_support                                                    44.0373   \n",
       "\n",
       "                                                                  7009  \n",
       "title                                                          куратор  \n",
       "pu_number                                                    111010019  \n",
       "show_start_date                              2019-06-13 12:00:00+00:00  \n",
       "type                                                    Художественный  \n",
       "film_studio            ооо \"кинокомпания атлантик\", 20 стэпс продакшнс  \n",
       "production_country                                       Россия-Грузия  \n",
       "director                                                    П.Левченко  \n",
       "producer                                                    П.Левченко  \n",
       "age_restriction                                                  «16+»  \n",
       "refundable_support                                                   0  \n",
       "nonrefundable_support                                         25000000  \n",
       "budget                                                        60668576  \n",
       "financing_source                                 Министерство культуры  \n",
       "ratings                                                            4.9  \n",
       "genres                                         драма,криминал,детектив  \n",
       "box_office                                                         NaN  \n",
       "year                                                              2019  \n",
       "main_director                                               П.Левченко  \n",
       "main_genres                                                      драма  \n",
       "share_support                                                41.207494  "
      ]
     },
     "execution_count": 95,
     "metadata": {},
     "output_type": "execute_result"
    }
   ],
   "source": [
    "data['share_support'] = (data['refundable_support'] + data['nonrefundable_support']) / data['budget'] * 100\n",
    "data.query('budget > 0').sample(n=3, random_state=3).T"
   ]
  },
  {
   "cell_type": "markdown",
   "metadata": {},
   "source": [
    "**Вывод**"
   ]
  },
  {
   "cell_type": "markdown",
   "metadata": {
    "id": "LV6qFuZLgFyV"
   },
   "source": [
    "Для дальнейшего анализа в первоначальные данные добавили следующую информацию:\n",
    "\n",
    "- год проката;\n",
    "- основной режиссер;\n",
    "- основной жанр;\n",
    "- доля гос. поддержки в общем бюджете.\n",
    "    "
   ]
  },
  {
   "cell_type": "markdown",
   "metadata": {
    "id": "6t4EukPLgFyV"
   },
   "source": [
    "### Шаг 3. Исследовательский анализ данных\n"
   ]
  },
  {
   "cell_type": "markdown",
   "metadata": {},
   "source": [
    "Создадим новую таблицу, с которой и будем в дальнейшем работать. Оставим в ней только те данные, которые с одной стороны нам понадобятся в дальнейшем, а с другой позволят избавиться от дубликатов, связанных с несколькими прокатными удостоверениями для одного фильма."
   ]
  },
  {
   "cell_type": "code",
   "execution_count": 96,
   "metadata": {},
   "outputs": [],
   "source": [
    "data_sort = data[['title', 'type', 'film_studio', 'production_country', 'age_restriction', 'refundable_support', 'nonrefundable_support', 'budget', 'financing_source', 'ratings', 'box_office', 'year', 'main_director', 'main_genres', 'share_support']]"
   ]
  },
  {
   "cell_type": "code",
   "execution_count": 97,
   "metadata": {},
   "outputs": [
    {
     "data": {
      "text/html": [
       "<div>\n",
       "<style scoped>\n",
       "    .dataframe tbody tr th:only-of-type {\n",
       "        vertical-align: middle;\n",
       "    }\n",
       "\n",
       "    .dataframe tbody tr th {\n",
       "        vertical-align: top;\n",
       "    }\n",
       "\n",
       "    .dataframe thead th {\n",
       "        text-align: right;\n",
       "    }\n",
       "</style>\n",
       "<table border=\"1\" class=\"dataframe\">\n",
       "  <thead>\n",
       "    <tr style=\"text-align: right;\">\n",
       "      <th></th>\n",
       "      <th>title</th>\n",
       "      <th>type</th>\n",
       "      <th>film_studio</th>\n",
       "      <th>production_country</th>\n",
       "      <th>age_restriction</th>\n",
       "      <th>refundable_support</th>\n",
       "      <th>nonrefundable_support</th>\n",
       "      <th>budget</th>\n",
       "      <th>financing_source</th>\n",
       "      <th>ratings</th>\n",
       "      <th>box_office</th>\n",
       "      <th>year</th>\n",
       "      <th>main_director</th>\n",
       "      <th>main_genres</th>\n",
       "      <th>share_support</th>\n",
       "    </tr>\n",
       "  </thead>\n",
       "  <tbody>\n",
       "    <tr>\n",
       "      <th>0</th>\n",
       "      <td>открытый простор</td>\n",
       "      <td>Художественный</td>\n",
       "      <td>тачстоун пикчерз, кобальт пикчерз, бикон пикче...</td>\n",
       "      <td>США</td>\n",
       "      <td>«18+»</td>\n",
       "      <td>0</td>\n",
       "      <td>0</td>\n",
       "      <td>0</td>\n",
       "      <td>NaN</td>\n",
       "      <td>7.2</td>\n",
       "      <td>NaN</td>\n",
       "      <td>2015</td>\n",
       "      <td>Кевин Костнер</td>\n",
       "      <td>боевик</td>\n",
       "      <td>NaN</td>\n",
       "    </tr>\n",
       "  </tbody>\n",
       "</table>\n",
       "</div>"
      ],
      "text/plain": [
       "              title            type  \\\n",
       "0  открытый простор  Художественный   \n",
       "\n",
       "                                         film_studio production_country  \\\n",
       "0  тачстоун пикчерз, кобальт пикчерз, бикон пикче...                США   \n",
       "\n",
       "  age_restriction  refundable_support  nonrefundable_support  budget  \\\n",
       "0           «18+»                   0                      0       0   \n",
       "\n",
       "  financing_source ratings  box_office  year  main_director main_genres  \\\n",
       "0              NaN     7.2         NaN  2015  Кевин Костнер      боевик   \n",
       "\n",
       "   share_support  \n",
       "0            NaN  "
      ]
     },
     "execution_count": 97,
     "metadata": {},
     "output_type": "execute_result"
    }
   ],
   "source": [
    "data_sort.head(1)"
   ]
  },
  {
   "cell_type": "markdown",
   "metadata": {},
   "source": [
    "Обработаем явные дубликаты в новой таблице."
   ]
  },
  {
   "cell_type": "code",
   "execution_count": 98,
   "metadata": {},
   "outputs": [
    {
     "data": {
      "text/plain": [
       "277"
      ]
     },
     "execution_count": 98,
     "metadata": {},
     "output_type": "execute_result"
    }
   ],
   "source": [
    "data_sort.duplicated().sum()"
   ]
  },
  {
   "cell_type": "code",
   "execution_count": 99,
   "metadata": {},
   "outputs": [],
   "source": [
    "data_sort = data_sort.drop_duplicates().reset_index(drop=True) "
   ]
  },
  {
   "cell_type": "code",
   "execution_count": 100,
   "metadata": {},
   "outputs": [
    {
     "data": {
      "text/plain": [
       "0"
      ]
     },
     "execution_count": 100,
     "metadata": {},
     "output_type": "execute_result"
    }
   ],
   "source": [
    "data_sort.duplicated().sum()"
   ]
  },
  {
   "cell_type": "markdown",
   "metadata": {},
   "source": [
    "#### Распределение фильмов по годам"
   ]
  },
  {
   "cell_type": "markdown",
   "metadata": {
    "id": "vAH8WCzugFyV"
   },
   "source": [
    "Посмотрим, сколько фильмов выходило в прокат каждый год."
   ]
  },
  {
   "cell_type": "code",
   "execution_count": 101,
   "metadata": {
    "id": "ABeV47y7gFyW"
   },
   "outputs": [
    {
     "data": {
      "text/plain": [
       "2019    930\n",
       "2018    887\n",
       "2010    848\n",
       "2016    809\n",
       "2014    775\n",
       "2015    703\n",
       "2013    618\n",
       "2011    568\n",
       "2012    565\n",
       "2017    505\n",
       "Name: year, dtype: int64"
      ]
     },
     "execution_count": 101,
     "metadata": {},
     "output_type": "execute_result"
    }
   ],
   "source": [
    "data_sort['year'].value_counts()"
   ]
  },
  {
   "cell_type": "markdown",
   "metadata": {},
   "source": [
    "Нарисуем график зависимости кол-ва фильмов от года выпуска."
   ]
  },
  {
   "cell_type": "code",
   "execution_count": 102,
   "metadata": {},
   "outputs": [
    {
     "data": {
      "image/png": "[encoded data removed]",
      "text/plain": [
       "<Figure size 720x360 with 1 Axes>"
      ]
     },
     "metadata": {
      "needs_background": "light"
     },
     "output_type": "display_data"
    }
   ],
   "source": [
    "data_sort.pivot_table(index=['year'],values='title', aggfunc='count').plot(kind='bar', figsize=(10, 5), grid=True) \n",
    "plt.xlabel('Год')\n",
    "plt.ylabel('Кол-во фильмов (шт.)')\n",
    "plt.title('Распределение фильмов по годам (2010-2019 г.)')\n",
    "plt.legend = True"
   ]
  },
  {
   "cell_type": "markdown",
   "metadata": {},
   "source": [
    "Пиковыми по кол-ву вышедших фильмов являются:\n",
    "\n",
    "    2019 - 930 шт.\n",
    "    2018 - 887 шт.\n",
    "    2010 - 848 шт.\n",
    "    \n",
    "Самый низкий показатель был в 2017 году - всего 505 фильмов."
   ]
  },
  {
   "cell_type": "markdown",
   "metadata": {},
   "source": [
    "Обратим внимание, что данные о прокате в кинотеатрах известны не для всех фильмов. Посчитаем, какую долю составляют фильмы с указанной информацией о прокате в кинотеатрах. "
   ]
  },
  {
   "cell_type": "markdown",
   "metadata": {},
   "source": [
    "Найдем долю таких фильмов."
   ]
  },
  {
   "cell_type": "code",
   "execution_count": 103,
   "metadata": {},
   "outputs": [
    {
     "data": {
      "text/plain": [
       "0.4381"
      ]
     },
     "execution_count": 103,
     "metadata": {},
     "output_type": "execute_result"
    }
   ],
   "source": [
    "(data_sort.loc[(data_sort['box_office'].isnull() == False)]['title'].count() / len(data_sort)).round(4)"
   ]
  },
  {
   "cell_type": "markdown",
   "metadata": {},
   "source": [
    "Доля фильмов, выходящих на большой экран, составляет 43,81% от общего числа. Распределение по годам для них представлено на графике ниже:"
   ]
  },
  {
   "cell_type": "code",
   "execution_count": 104,
   "metadata": {},
   "outputs": [
    {
     "data": {
      "image/png": "[encoded data removed]",
      "text/plain": [
       "<Figure size 720x360 with 1 Axes>"
      ]
     },
     "metadata": {
      "needs_background": "light"
     },
     "output_type": "display_data"
    }
   ],
   "source": [
    "data_sort.query('box_office.isna() == False').pivot_table(index=['year'],values='title', aggfunc='count').plot(kind='bar', figsize=(10, 5), grid=True) \n",
    "plt.xlabel('Год')\n",
    "plt.ylabel('Кол-во фильмов (шт.)')\n",
    "plt.title('Распределение фильмов вышедших на большой экран по годам (2010-2019 г.)')\n",
    "plt.legend = True"
   ]
  },
  {
   "cell_type": "markdown",
   "metadata": {},
   "source": [
    "Распределение отличается от общего. С 2010 по 2019 год кол-во фильмов, выходящих на большой экран, увеличилось более чем в 5 раз. Максимальный показатель характерен для 2019 и 2016 года, минимальный - для 2010. Как и в общей выборке, в 2017 году наблюдалось падение. "
   ]
  },
  {
   "cell_type": "markdown",
   "metadata": {},
   "source": [
    "**Вывод**"
   ]
  },
  {
   "cell_type": "markdown",
   "metadata": {},
   "source": [
    "Показатель общего кол-ва вышедших фильмов в 2018-2019 г. достиг уровня 2010 года и продолжил расти. Достаточно резкие спады наблюдались в 2011 и 2017 гг.\n",
    "Показатель количества фильмов, выходящих на большой экран в период с 2010-2019 гг. показывал ежегодную положительную динамику до 2017 года, в 2017 году кол-во таких фильмов достаточно резко уменьшилось, в 2018-2019 гг. рост возобновился."
   ]
  },
  {
   "cell_type": "markdown",
   "metadata": {},
   "source": [
    "#### Динамика проката по годам"
   ]
  },
  {
   "cell_type": "markdown",
   "metadata": {},
   "source": [
    "Посмотрим на ежегодные сборы от фильмов. Для этого сначала определим возможные вбросы в данных, т.к. на этапе проверки у нас возникли сомнения.\n",
    "\n",
    "Посмотрим на статистические данные."
   ]
  },
  {
   "cell_type": "code",
   "execution_count": 105,
   "metadata": {},
   "outputs": [
    {
     "data": {
      "text/plain": [
       "count    3.158000e+03\n",
       "mean     7.647870e+07\n",
       "std      2.403531e+08\n",
       "min      0.000000e+00\n",
       "25%      8.623900e+04\n",
       "50%      2.327988e+06\n",
       "75%      2.397967e+07\n",
       "max      3.073569e+09\n",
       "Name: box_office, dtype: float64"
      ]
     },
     "execution_count": 105,
     "metadata": {},
     "output_type": "execute_result"
    }
   ],
   "source": [
    "data_sort['box_office'].describe()"
   ]
  },
  {
   "cell_type": "code",
   "execution_count": 106,
   "metadata": {},
   "outputs": [
    {
     "data": {
      "image/png": "[encoded data removed]",
      "text/plain": [
       "<Figure size 432x288 with 1 Axes>"
      ]
     },
     "metadata": {
      "needs_background": "light"
     },
     "output_type": "display_data"
    }
   ],
   "source": [
    "data_sort[['box_office']].boxplot()\n",
    "plt.ylim(0, 70000000)\n",
    "plt.ylabel('Доход (руб.)')\n",
    "plt.title('Диаграмма размаха для столбца \"box_office\"')\n",
    "plt.legend = True"
   ]
  },
  {
   "cell_type": "markdown",
   "metadata": {},
   "source": [
    "Очень сильный разброс в данных. Построим график и попробуем проанализировать его."
   ]
  },
  {
   "cell_type": "code",
   "execution_count": 107,
   "metadata": {},
   "outputs": [
    {
     "data": {
      "image/png": "[encoded data removed]",
      "text/plain": [
       "<Figure size 720x360 with 1 Axes>"
      ]
     },
     "metadata": {
      "needs_background": "light"
     },
     "output_type": "display_data"
    }
   ],
   "source": [
    "data_sort.pivot_table(index=['year'],values='box_office', aggfunc='sum').plot(kind='bar', figsize=(10, 5), grid=True) \n",
    "plt.xlabel('Год')\n",
    "plt.ylabel('Доход (руб.)')\n",
    "plt.title('Динамика доходов от проката фильмов (2010-2019 г.)')\n",
    "plt.legend = True"
   ]
  },
  {
   "cell_type": "markdown",
   "metadata": {},
   "source": [
    "Рассмотрим детальнее период 2010-2014 г."
   ]
  },
  {
   "cell_type": "code",
   "execution_count": 108,
   "metadata": {},
   "outputs": [
    {
     "data": {
      "image/png": "[encoded data removed]",
      "text/plain": [
       "<Figure size 720x360 with 1 Axes>"
      ]
     },
     "metadata": {
      "needs_background": "light"
     },
     "output_type": "display_data"
    }
   ],
   "source": [
    "data_sort.query('year < 2015').pivot_table(index=['year'],values='box_office', aggfunc='sum').plot(kind='bar', figsize=(10, 5), grid=True) \n",
    "plt.xlabel('Год')\n",
    "plt.ylabel('Доход (руб.)')\n",
    "plt.title('Динамика доходов от проката фильмов (2010-2014 г.)')\n",
    "plt.ylim(0, 200000000)\n",
    "plt.legend = True"
   ]
  },
  {
   "cell_type": "code",
   "execution_count": 109,
   "metadata": {},
   "outputs": [
    {
     "data": {
      "text/html": [
       "<div>\n",
       "<style scoped>\n",
       "    .dataframe tbody tr th:only-of-type {\n",
       "        vertical-align: middle;\n",
       "    }\n",
       "\n",
       "    .dataframe tbody tr th {\n",
       "        vertical-align: top;\n",
       "    }\n",
       "\n",
       "    .dataframe thead th {\n",
       "        text-align: right;\n",
       "    }\n",
       "</style>\n",
       "<table border=\"1\" class=\"dataframe\">\n",
       "  <thead>\n",
       "    <tr style=\"text-align: right;\">\n",
       "      <th></th>\n",
       "      <th>title</th>\n",
       "      <th>type</th>\n",
       "      <th>film_studio</th>\n",
       "      <th>production_country</th>\n",
       "      <th>age_restriction</th>\n",
       "      <th>refundable_support</th>\n",
       "      <th>nonrefundable_support</th>\n",
       "      <th>budget</th>\n",
       "      <th>financing_source</th>\n",
       "      <th>ratings</th>\n",
       "      <th>box_office</th>\n",
       "      <th>year</th>\n",
       "      <th>main_director</th>\n",
       "      <th>main_genres</th>\n",
       "      <th>share_support</th>\n",
       "    </tr>\n",
       "  </thead>\n",
       "  <tbody>\n",
       "    <tr>\n",
       "      <th>233</th>\n",
       "      <td>повар,вор,его жена и ее любовник</td>\n",
       "      <td>Художественный</td>\n",
       "      <td>эллартс би ви,сине электра 2 лтд</td>\n",
       "      <td>Великобритания</td>\n",
       "      <td>«18+»</td>\n",
       "      <td>0</td>\n",
       "      <td>0</td>\n",
       "      <td>0</td>\n",
       "      <td>NaN</td>\n",
       "      <td>7.6</td>\n",
       "      <td>7800.0</td>\n",
       "      <td>2012</td>\n",
       "      <td>Питер Гринуэй</td>\n",
       "      <td>драма</td>\n",
       "      <td>NaN</td>\n",
       "    </tr>\n",
       "    <tr>\n",
       "      <th>425</th>\n",
       "      <td>храбрая сердцем</td>\n",
       "      <td>Художественный</td>\n",
       "      <td>пиксар анимейшн студиос, уолт дисней пикчерз</td>\n",
       "      <td>США</td>\n",
       "      <td>«6+»</td>\n",
       "      <td>0</td>\n",
       "      <td>0</td>\n",
       "      <td>0</td>\n",
       "      <td>NaN</td>\n",
       "      <td>7.4</td>\n",
       "      <td>45905.0</td>\n",
       "      <td>2012</td>\n",
       "      <td>Бренда Чапмен</td>\n",
       "      <td>мультфильм</td>\n",
       "      <td>NaN</td>\n",
       "    </tr>\n",
       "    <tr>\n",
       "      <th>429</th>\n",
       "      <td>искатели могил</td>\n",
       "      <td>Художественный</td>\n",
       "      <td>диджитал интерференс</td>\n",
       "      <td>США</td>\n",
       "      <td>«16+»</td>\n",
       "      <td>0</td>\n",
       "      <td>0</td>\n",
       "      <td>0</td>\n",
       "      <td>NaN</td>\n",
       "      <td>6.4</td>\n",
       "      <td>550.0</td>\n",
       "      <td>2012</td>\n",
       "      <td>Вишес Бразерс</td>\n",
       "      <td>ужасы</td>\n",
       "      <td>NaN</td>\n",
       "    </tr>\n",
       "  </tbody>\n",
       "</table>\n",
       "</div>"
      ],
      "text/plain": [
       "                                title            type  \\\n",
       "233  повар,вор,его жена и ее любовник  Художественный   \n",
       "425                   храбрая сердцем  Художественный   \n",
       "429                    искатели могил  Художественный   \n",
       "\n",
       "                                      film_studio production_country  \\\n",
       "233              эллартс би ви,сине электра 2 лтд     Великобритания   \n",
       "425  пиксар анимейшн студиос, уолт дисней пикчерз                США   \n",
       "429                          диджитал интерференс                США   \n",
       "\n",
       "    age_restriction  refundable_support  nonrefundable_support  budget  \\\n",
       "233           «18+»                   0                      0       0   \n",
       "425            «6+»                   0                      0       0   \n",
       "429           «16+»                   0                      0       0   \n",
       "\n",
       "    financing_source ratings  box_office  year  main_director main_genres  \\\n",
       "233              NaN     7.6      7800.0  2012  Питер Гринуэй       драма   \n",
       "425              NaN     7.4     45905.0  2012  Бренда Чапмен  мультфильм   \n",
       "429              NaN     6.4       550.0  2012  Вишес Бразерс       ужасы   \n",
       "\n",
       "     share_support  \n",
       "233            NaN  \n",
       "425            NaN  \n",
       "429            NaN  "
      ]
     },
     "execution_count": 109,
     "metadata": {},
     "output_type": "execute_result"
    }
   ],
   "source": [
    "data_sort.query('(year < 2013)&(box_office.isna() == False)').head(3)"
   ]
  },
  {
   "cell_type": "markdown",
   "metadata": {},
   "source": [
    "Складывыается такое ощущение, что за период 2010-2014 кассовые сборы указаны в тыс. $. Резкий рост 2013-2014 обусловлен ростом курса. А в перид 2015-2019 учет стали вести в рублях. При этом с остальными показателями за этот период все нормально. \n",
    "\n",
    "Для анализа по сборам будем использовать только период 2015-2019 гг."
   ]
  },
  {
   "cell_type": "code",
   "execution_count": 110,
   "metadata": {},
   "outputs": [
    {
     "data": {
      "image/png": "[encoded data removed]",
      "text/plain": [
       "<Figure size 720x360 with 1 Axes>"
      ]
     },
     "metadata": {
      "needs_background": "light"
     },
     "output_type": "display_data"
    }
   ],
   "source": [
    "data_sort.query('year > 2014').pivot_table(index=['year'],values='box_office', aggfunc='sum').plot(kind='bar', figsize=(10, 5), grid=True) \n",
    "plt.xlabel('Год')\n",
    "plt.ylabel('Доход (руб.)')\n",
    "plt.title('Динамика доходов от проката фильмов (2015-2019 г.)')\n",
    "plt.ylim(0, 80000000000)\n",
    "plt.legend = True"
   ]
  },
  {
   "cell_type": "markdown",
   "metadata": {},
   "source": [
    "Статистические данные за период 2015-2019 гг."
   ]
  },
  {
   "cell_type": "code",
   "execution_count": 111,
   "metadata": {},
   "outputs": [
    {
     "data": {
      "text/html": [
       "<div>\n",
       "<style scoped>\n",
       "    .dataframe tbody tr th:only-of-type {\n",
       "        vertical-align: middle;\n",
       "    }\n",
       "\n",
       "    .dataframe tbody tr th {\n",
       "        vertical-align: top;\n",
       "    }\n",
       "\n",
       "    .dataframe thead th {\n",
       "        text-align: right;\n",
       "    }\n",
       "</style>\n",
       "<table border=\"1\" class=\"dataframe\">\n",
       "  <thead>\n",
       "    <tr style=\"text-align: right;\">\n",
       "      <th></th>\n",
       "      <th>refundable_support</th>\n",
       "      <th>nonrefundable_support</th>\n",
       "      <th>budget</th>\n",
       "      <th>box_office</th>\n",
       "      <th>year</th>\n",
       "      <th>share_support</th>\n",
       "    </tr>\n",
       "  </thead>\n",
       "  <tbody>\n",
       "    <tr>\n",
       "      <th>count</th>\n",
       "      <td>3.834000e+03</td>\n",
       "      <td>3.834000e+03</td>\n",
       "      <td>3.834000e+03</td>\n",
       "      <td>2.353000e+03</td>\n",
       "      <td>3834.000000</td>\n",
       "      <td>314.000000</td>\n",
       "    </tr>\n",
       "    <tr>\n",
       "      <th>mean</th>\n",
       "      <td>1.008868e+06</td>\n",
       "      <td>4.075727e+06</td>\n",
       "      <td>1.129035e+07</td>\n",
       "      <td>9.945664e+07</td>\n",
       "      <td>2017.138758</td>\n",
       "      <td>51.812946</td>\n",
       "    </tr>\n",
       "    <tr>\n",
       "      <th>std</th>\n",
       "      <td>8.019789e+06</td>\n",
       "      <td>2.221056e+07</td>\n",
       "      <td>6.674757e+07</td>\n",
       "      <td>2.714452e+08</td>\n",
       "      <td>1.458548</td>\n",
       "      <td>16.567888</td>\n",
       "    </tr>\n",
       "    <tr>\n",
       "      <th>min</th>\n",
       "      <td>0.000000e+00</td>\n",
       "      <td>0.000000e+00</td>\n",
       "      <td>0.000000e+00</td>\n",
       "      <td>0.000000e+00</td>\n",
       "      <td>2015.000000</td>\n",
       "      <td>4.404305</td>\n",
       "    </tr>\n",
       "    <tr>\n",
       "      <th>25%</th>\n",
       "      <td>0.000000e+00</td>\n",
       "      <td>0.000000e+00</td>\n",
       "      <td>0.000000e+00</td>\n",
       "      <td>1.252028e+06</td>\n",
       "      <td>2016.000000</td>\n",
       "      <td>39.811212</td>\n",
       "    </tr>\n",
       "    <tr>\n",
       "      <th>50%</th>\n",
       "      <td>0.000000e+00</td>\n",
       "      <td>0.000000e+00</td>\n",
       "      <td>0.000000e+00</td>\n",
       "      <td>5.853559e+06</td>\n",
       "      <td>2017.000000</td>\n",
       "      <td>56.828366</td>\n",
       "    </tr>\n",
       "    <tr>\n",
       "      <th>75%</th>\n",
       "      <td>0.000000e+00</td>\n",
       "      <td>0.000000e+00</td>\n",
       "      <td>0.000000e+00</td>\n",
       "      <td>4.606169e+07</td>\n",
       "      <td>2018.000000</td>\n",
       "      <td>65.248263</td>\n",
       "    </tr>\n",
       "    <tr>\n",
       "      <th>max</th>\n",
       "      <td>1.800000e+08</td>\n",
       "      <td>4.000000e+08</td>\n",
       "      <td>2.305074e+09</td>\n",
       "      <td>3.073569e+09</td>\n",
       "      <td>2019.000000</td>\n",
       "      <td>78.474525</td>\n",
       "    </tr>\n",
       "  </tbody>\n",
       "</table>\n",
       "</div>"
      ],
      "text/plain": [
       "       refundable_support  nonrefundable_support        budget    box_office  \\\n",
       "count        3.834000e+03           3.834000e+03  3.834000e+03  2.353000e+03   \n",
       "mean         1.008868e+06           4.075727e+06  1.129035e+07  9.945664e+07   \n",
       "std          8.019789e+06           2.221056e+07  6.674757e+07  2.714452e+08   \n",
       "min          0.000000e+00           0.000000e+00  0.000000e+00  0.000000e+00   \n",
       "25%          0.000000e+00           0.000000e+00  0.000000e+00  1.252028e+06   \n",
       "50%          0.000000e+00           0.000000e+00  0.000000e+00  5.853559e+06   \n",
       "75%          0.000000e+00           0.000000e+00  0.000000e+00  4.606169e+07   \n",
       "max          1.800000e+08           4.000000e+08  2.305074e+09  3.073569e+09   \n",
       "\n",
       "              year  share_support  \n",
       "count  3834.000000     314.000000  \n",
       "mean   2017.138758      51.812946  \n",
       "std       1.458548      16.567888  \n",
       "min    2015.000000       4.404305  \n",
       "25%    2016.000000      39.811212  \n",
       "50%    2017.000000      56.828366  \n",
       "75%    2018.000000      65.248263  \n",
       "max    2019.000000      78.474525  "
      ]
     },
     "execution_count": 111,
     "metadata": {},
     "output_type": "execute_result"
    }
   ],
   "source": [
    "data_sort.query('year > 2014').describe()"
   ]
  },
  {
   "cell_type": "markdown",
   "metadata": {},
   "source": [
    "Максимальные кассовые сборы были в 2018 году, минимальные в 2015 г. В целом, начиная с 2016 года, сборы от проката кинофильмов колеблются не сильно."
   ]
  },
  {
   "cell_type": "markdown",
   "metadata": {},
   "source": [
    "С помощью сводной таблицы посчитаем среднюю и медианную сумму сборов для каждого года."
   ]
  },
  {
   "cell_type": "code",
   "execution_count": 112,
   "metadata": {
    "id": "tfEhofYvgFyX"
   },
   "outputs": [
    {
     "data": {
      "text/html": [
       "<div>\n",
       "<style scoped>\n",
       "    .dataframe tbody tr th:only-of-type {\n",
       "        vertical-align: middle;\n",
       "    }\n",
       "\n",
       "    .dataframe tbody tr th {\n",
       "        vertical-align: top;\n",
       "    }\n",
       "\n",
       "    .dataframe thead tr th {\n",
       "        text-align: left;\n",
       "    }\n",
       "\n",
       "    .dataframe thead tr:last-of-type th {\n",
       "        text-align: right;\n",
       "    }\n",
       "</style>\n",
       "<table border=\"1\" class=\"dataframe\">\n",
       "  <thead>\n",
       "    <tr>\n",
       "      <th></th>\n",
       "      <th>mean</th>\n",
       "      <th>median</th>\n",
       "    </tr>\n",
       "    <tr>\n",
       "      <th></th>\n",
       "      <th>box_office</th>\n",
       "      <th>box_office</th>\n",
       "    </tr>\n",
       "    <tr>\n",
       "      <th>year</th>\n",
       "      <th></th>\n",
       "      <th></th>\n",
       "    </tr>\n",
       "  </thead>\n",
       "  <tbody>\n",
       "    <tr>\n",
       "      <th>2010</th>\n",
       "      <td>2.313004e+04</td>\n",
       "      <td>1700.000</td>\n",
       "    </tr>\n",
       "    <tr>\n",
       "      <th>2011</th>\n",
       "      <td>1.293832e+05</td>\n",
       "      <td>3000.000</td>\n",
       "    </tr>\n",
       "    <tr>\n",
       "      <th>2012</th>\n",
       "      <td>5.433924e+04</td>\n",
       "      <td>5660.000</td>\n",
       "    </tr>\n",
       "    <tr>\n",
       "      <th>2013</th>\n",
       "      <td>1.619549e+05</td>\n",
       "      <td>3522.500</td>\n",
       "    </tr>\n",
       "    <tr>\n",
       "      <th>2014</th>\n",
       "      <td>2.668442e+07</td>\n",
       "      <td>18160.000</td>\n",
       "    </tr>\n",
       "    <tr>\n",
       "      <th>2015</th>\n",
       "      <td>8.494057e+07</td>\n",
       "      <td>4920933.000</td>\n",
       "    </tr>\n",
       "    <tr>\n",
       "      <th>2016</th>\n",
       "      <td>9.100057e+07</td>\n",
       "      <td>3846679.410</td>\n",
       "    </tr>\n",
       "    <tr>\n",
       "      <th>2017</th>\n",
       "      <td>1.360328e+08</td>\n",
       "      <td>9968340.000</td>\n",
       "    </tr>\n",
       "    <tr>\n",
       "      <th>2018</th>\n",
       "      <td>1.045651e+08</td>\n",
       "      <td>8891102.210</td>\n",
       "    </tr>\n",
       "    <tr>\n",
       "      <th>2019</th>\n",
       "      <td>9.136926e+07</td>\n",
       "      <td>4627798.345</td>\n",
       "    </tr>\n",
       "  </tbody>\n",
       "</table>\n",
       "</div>"
      ],
      "text/plain": [
       "              mean       median\n",
       "        box_office   box_office\n",
       "year                           \n",
       "2010  2.313004e+04     1700.000\n",
       "2011  1.293832e+05     3000.000\n",
       "2012  5.433924e+04     5660.000\n",
       "2013  1.619549e+05     3522.500\n",
       "2014  2.668442e+07    18160.000\n",
       "2015  8.494057e+07  4920933.000\n",
       "2016  9.100057e+07  3846679.410\n",
       "2017  1.360328e+08  9968340.000\n",
       "2018  1.045651e+08  8891102.210\n",
       "2019  9.136926e+07  4627798.345"
      ]
     },
     "execution_count": 112,
     "metadata": {},
     "output_type": "execute_result"
    }
   ],
   "source": [
    "data_sort.pivot_table(index=['year'],values='box_office', aggfunc=['mean', 'median'])"
   ]
  },
  {
   "cell_type": "markdown",
   "metadata": {},
   "source": [
    "Как уже ранее говорилось, период 2010-2014 по кассовым сборам считаем вбросом точная причина которого не известна. "
   ]
  },
  {
   "cell_type": "markdown",
   "metadata": {},
   "source": [
    "**Вывод**"
   ]
  },
  {
   "cell_type": "markdown",
   "metadata": {
    "id": "jmp-rgg9gFyY"
   },
   "source": [
    "В ходе анализа данных по кассовым сборам за 2010-2019 год выявлены аномальные значения за период 2010-2014. Принято решение их отбросить.\n",
    "\n",
    "В периода 2015-2019 для показателя кассовых сборов характерно:\n",
    "    \n",
    "    max: 2018 год\n",
    "    min: 2015 год\n",
    "    стабилизация в период 2016-2019 гг.    "
   ]
  },
  {
   "cell_type": "markdown",
   "metadata": {},
   "source": [
    "#### Влияние возрастного ограничения аудитории на сборы фильмов (2015-2019 гг.)"
   ]
  },
  {
   "cell_type": "markdown",
   "metadata": {},
   "source": [
    "Проанализируем зависимость возрастного ограничения и кассовых сборов на графике."
   ]
  },
  {
   "cell_type": "code",
   "execution_count": 113,
   "metadata": {},
   "outputs": [
    {
     "data": {
      "image/png": "[encoded data removed]",
      "text/plain": [
       "<Figure size 792x432 with 1 Axes>"
      ]
     },
     "metadata": {
      "needs_background": "light"
     },
     "output_type": "display_data"
    }
   ],
   "source": [
    "data_sort.query('(year > 2014)&(box_office >=0)').pivot_table(index=['age_restriction'],values='box_office', aggfunc='sum').plot(kind='bar', figsize=(11, 6), grid=True) \n",
    "plt.xlabel('Возрастное ограничение')\n",
    "plt.ylabel('Кассовые сборы (руб.)')\n",
    "plt.title('Зависимость кассовых сборов от возрастного ограничения фильма (2015-2019 г.)')\n",
    "plt.legend = True"
   ]
  },
  {
   "cell_type": "markdown",
   "metadata": {},
   "source": [
    "Больше всего денег в прокате за период 2015-2019 гг. собрали фильмы с возрастным ограничением `\"16+\"` и `\"12+\"`.\n",
    "Посмотрим на количество фильмов разных категорий за этот же период."
   ]
  },
  {
   "cell_type": "code",
   "execution_count": 114,
   "metadata": {},
   "outputs": [
    {
     "data": {
      "text/html": [
       "<div>\n",
       "<style scoped>\n",
       "    .dataframe tbody tr th:only-of-type {\n",
       "        vertical-align: middle;\n",
       "    }\n",
       "\n",
       "    .dataframe tbody tr th {\n",
       "        vertical-align: top;\n",
       "    }\n",
       "\n",
       "    .dataframe thead th {\n",
       "        text-align: right;\n",
       "    }\n",
       "</style>\n",
       "<table border=\"1\" class=\"dataframe\">\n",
       "  <thead>\n",
       "    <tr style=\"text-align: right;\">\n",
       "      <th></th>\n",
       "      <th>title</th>\n",
       "    </tr>\n",
       "    <tr>\n",
       "      <th>age_restriction</th>\n",
       "      <th></th>\n",
       "    </tr>\n",
       "  </thead>\n",
       "  <tbody>\n",
       "    <tr>\n",
       "      <th>«0+»</th>\n",
       "      <td>91</td>\n",
       "    </tr>\n",
       "    <tr>\n",
       "      <th>«12+»</th>\n",
       "      <td>348</td>\n",
       "    </tr>\n",
       "    <tr>\n",
       "      <th>«16+»</th>\n",
       "      <td>805</td>\n",
       "    </tr>\n",
       "    <tr>\n",
       "      <th>«18+»</th>\n",
       "      <td>792</td>\n",
       "    </tr>\n",
       "    <tr>\n",
       "      <th>«6+»</th>\n",
       "      <td>317</td>\n",
       "    </tr>\n",
       "  </tbody>\n",
       "</table>\n",
       "</div>"
      ],
      "text/plain": [
       "                 title\n",
       "age_restriction       \n",
       "«0+»                91\n",
       "«12+»              348\n",
       "«16+»              805\n",
       "«18+»              792\n",
       "«6+»               317"
      ]
     },
     "execution_count": 114,
     "metadata": {},
     "output_type": "execute_result"
    }
   ],
   "source": [
    "data_sort.query('(year > 2014)&(box_office >=0)').pivot_table(index=['age_restriction'],values='title', aggfunc='count')"
   ]
  },
  {
   "cell_type": "markdown",
   "metadata": {},
   "source": [
    "По количеству выпущенных фильмов за период 2015-2019 гг., категории `\"16+\"` и `\"12+\"` занимают 1-е и 3-е место соответственно. На втором месте по количеству выпущенных фильмов стоит категория `\"18+\"`, а вот по сборам она только на  4-ом месте."
   ]
  },
  {
   "cell_type": "markdown",
   "metadata": {},
   "source": [
    "Рассмотрим графики зависимости кассовых сборов от возрастного ограничения по каждому году."
   ]
  },
  {
   "cell_type": "code",
   "execution_count": 115,
   "metadata": {},
   "outputs": [
    {
     "data": {
      "image/png": "[encoded data removed]",
      "text/plain": [
       "<Figure size 432x288 with 1 Axes>"
      ]
     },
     "metadata": {
      "needs_background": "light"
     },
     "output_type": "display_data"
    }
   ],
   "source": [
    "data_sort.query('(year == 2015)&(box_office >=0)').pivot_table(index=['age_restriction'],values='box_office', aggfunc='sum').plot(kind='bar', figsize=(6, 4), grid=True) \n",
    "plt.xlabel('Возрастное ограничение')\n",
    "plt.ylabel('Кассовые сборы (руб.)')\n",
    "plt.title('2015 г.')\n",
    "plt.legend = True"
   ]
  },
  {
   "cell_type": "code",
   "execution_count": 116,
   "metadata": {},
   "outputs": [
    {
     "data": {
      "image/png": "[encoded data removed]",
      "text/plain": [
       "<Figure size 432x288 with 1 Axes>"
      ]
     },
     "metadata": {
      "needs_background": "light"
     },
     "output_type": "display_data"
    }
   ],
   "source": [
    "data_sort.query('(year == 2016)&(box_office >=0)').pivot_table(index=['age_restriction'],values='box_office', aggfunc='sum').plot(kind='bar', figsize=(6, 4), grid=True) \n",
    "plt.xlabel('Возрастное ограничение')\n",
    "plt.ylabel('Кассовые сборы (руб.)')\n",
    "plt.title('2016 г.')\n",
    "plt.legend = True"
   ]
  },
  {
   "cell_type": "code",
   "execution_count": 117,
   "metadata": {},
   "outputs": [
    {
     "data": {
      "image/png": "[encoded data removed]",
      "text/plain": [
       "<Figure size 432x288 with 1 Axes>"
      ]
     },
     "metadata": {
      "needs_background": "light"
     },
     "output_type": "display_data"
    }
   ],
   "source": [
    "data_sort.query('(year == 2017)&(box_office >=0)').pivot_table(index=['age_restriction'],values='box_office', aggfunc='sum').plot(kind='bar', figsize=(6, 4), grid=True) \n",
    "plt.xlabel('Возрастное ограничение')\n",
    "plt.ylabel('Кассовые сборы (руб.)')\n",
    "plt.title('2017 г.')\n",
    "plt.legend = True"
   ]
  },
  {
   "cell_type": "code",
   "execution_count": 118,
   "metadata": {},
   "outputs": [
    {
     "data": {
      "image/png": "[encoded data removed]",
      "text/plain": [
       "<Figure size 432x288 with 1 Axes>"
      ]
     },
     "metadata": {
      "needs_background": "light"
     },
     "output_type": "display_data"
    }
   ],
   "source": [
    "data_sort.query('(year == 2018)&(box_office >=0)').pivot_table(index=['age_restriction'],values='box_office', aggfunc='sum').plot(kind='bar', figsize=(6, 4), grid=True) \n",
    "plt.xlabel('Возрастное ограничение')\n",
    "plt.ylabel('Кассовые сборы (руб.)')\n",
    "plt.title('2018 г.')\n",
    "plt.legend = True"
   ]
  },
  {
   "cell_type": "code",
   "execution_count": 119,
   "metadata": {},
   "outputs": [
    {
     "data": {
      "image/png": "[encoded data removed]",
      "text/plain": [
       "<Figure size 432x288 with 1 Axes>"
      ]
     },
     "metadata": {
      "needs_background": "light"
     },
     "output_type": "display_data"
    }
   ],
   "source": [
    "data_sort.query('(year == 2019)&(box_office >=0)').pivot_table(index=['age_restriction'],values='box_office', aggfunc='sum').plot(kind='bar', figsize=(6, 4), grid=True) \n",
    "plt.xlabel('Возрастное ограничение')\n",
    "plt.ylabel('Кассовые сборы (руб.)')\n",
    "plt.title('2019 г.')\n",
    "plt.legend = True"
   ]
  },
  {
   "cell_type": "markdown",
   "metadata": {},
   "source": [
    "Картина зависимости  меняется год от года. Это может быть связано например с:\n",
    "\n",
    "    - гос. политикой в этой сфере\n",
    "    - с переходом целевой аудитории в другую группу\n",
    "    - с демографическими пиками"
   ]
  },
  {
   "cell_type": "markdown",
   "metadata": {},
   "source": [
    "**Вывод**"
   ]
  },
  {
   "cell_type": "markdown",
   "metadata": {
    "id": "jsSbEqfjgFya"
   },
   "source": [
    "В периода 2015-2019 для показателя кассовых сборов характерна следующая зависимость от возрастных ограничений:\n",
    "    \n",
    "    max: \"16+\" и \"12+\"\n",
    "    min: \"0+\"\n",
    "    \n",
    "Картина меняется год от года, на это могут влиять демографические, политические, социально-экономические факторы.    "
   ]
  },
  {
   "cell_type": "markdown",
   "metadata": {
    "id": "l_Kg6Ku4gFya"
   },
   "source": [
    "### Шаг 4. Исследование фильмов, получивших государственную поддержку"
   ]
  },
  {
   "cell_type": "markdown",
   "metadata": {
    "id": "W9QKpjUdgFyb"
   },
   "source": [
    "#### Распределение фильмов по годам"
   ]
  },
  {
   "cell_type": "markdown",
   "metadata": {},
   "source": [
    "Посмотрим как менялось количество фильмов, получивших государственную поддержку в период 2010-2019 гг."
   ]
  },
  {
   "cell_type": "code",
   "execution_count": 120,
   "metadata": {},
   "outputs": [
    {
     "data": {
      "image/png": "[encoded data removed]",
      "text/plain": [
       "<Figure size 720x360 with 1 Axes>"
      ]
     },
     "metadata": {
      "needs_background": "light"
     },
     "output_type": "display_data"
    }
   ],
   "source": [
    "data_sort.query('(refundable_support + nonrefundable_support) > 0').pivot_table(index=['year'],values='title', aggfunc='count').plot(kind='bar', figsize=(10, 5), grid=True) \n",
    "plt.xlabel('Год')\n",
    "plt.ylabel('Кол-во фильмов (шт.)')\n",
    "plt.title('Распределение фильмов, получивших гос. поддержку по годам (2013-2019 г.)')\n",
    "plt.legend = True"
   ]
  },
  {
   "cell_type": "markdown",
   "metadata": {},
   "source": [
    "Данные о нужных нам фильмах появляются только с 2013 года.На графике наблюдаются достаточно ощутимые скачки с пиковым значением в 2015 году, и минимальным в 2013 г. Посмотрим как менялась доля фильмов, получивших финансирование за тот же период."
   ]
  },
  {
   "cell_type": "code",
   "execution_count": 121,
   "metadata": {},
   "outputs": [
    {
     "data": {
      "image/png": "[encoded data removed]",
      "text/plain": [
       "<Figure size 720x360 with 1 Axes>"
      ]
     },
     "metadata": {
      "needs_background": "light"
     },
     "output_type": "display_data"
    }
   ],
   "source": [
    "data_check = data_sort.query('(box_office >= 0) & (year > 2012)')\n",
    "data_check_grouped = data_check.groupby(['year']).agg({'title':'count', 'financing_source':'count'})\n",
    "data_check_grouped['ratio'] = data_check_grouped['financing_source'] / data_check_grouped['title'] * 100\n",
    "data_check_grouped.pivot_table(index=['year'],values='ratio').plot(kind='bar', figsize=(10, 5), grid=True) \n",
    "plt.xlabel('Год')\n",
    "plt.ylabel('Доля (%)')\n",
    "plt.title('Доля фильмов, получивших гос. поддержку (2013-2019 г.)')\n",
    "plt.legend = True"
   ]
  },
  {
   "cell_type": "markdown",
   "metadata": {},
   "source": [
    "За период 2013-2015 гг. график повторяет тренд распределения фильмов с гос. поддержкой по годам, а вот в период 2016-2019 имеет более плавные очертания, колеблясь в пределах 10-12%. Скорее всего это связано с установкой квот на финансирование. В пользу этого говорит и следующий график, показывающий изменение средней доли гос. поддержки в общем бюджете фильмов."
   ]
  },
  {
   "cell_type": "code",
   "execution_count": 122,
   "metadata": {
    "scrolled": true
   },
   "outputs": [
    {
     "data": {
      "image/png": "[encoded data removed]",
      "text/plain": [
       "<Figure size 720x360 with 1 Axes>"
      ]
     },
     "metadata": {
      "needs_background": "light"
     },
     "output_type": "display_data"
    }
   ],
   "source": [
    "data_sort.query('(refundable_support + nonrefundable_support) > 0').pivot_table(index=['year'],values='share_support', aggfunc='mean').plot(kind='bar', figsize=(10, 5), grid=True) \n",
    "plt.xlabel('Год')\n",
    "plt.ylabel('Доля (%)')\n",
    "plt.title('Изменение средней доли гос. поддержки в общем бюджете фильмов (2013-2019 г.)')\n",
    "plt.ylim(30, 70) \n",
    "plt.legend = True"
   ]
  },
  {
   "cell_type": "markdown",
   "metadata": {},
   "source": [
    "В течение рассматриваемого периода доля гос. поддержки в общем бюджете фильмов менялась незначительно, колеблясь в районе 50%. "
   ]
  },
  {
   "cell_type": "markdown",
   "metadata": {},
   "source": [
    "#### Рейтинги фильмов  с гос. поддержкой"
   ]
  },
  {
   "cell_type": "markdown",
   "metadata": {},
   "source": [
    "По какому принципу государство отбирает фильмы для гос. поддержки? Коррелируется ли это с оценками пользователей?"
   ]
  },
  {
   "cell_type": "code",
   "execution_count": 123,
   "metadata": {
    "scrolled": false
   },
   "outputs": [
    {
     "data": {
      "image/png": "[encoded data removed]",
      "text/plain": [
       "<Figure size 1080x432 with 1 Axes>"
      ]
     },
     "metadata": {
      "needs_background": "light"
     },
     "output_type": "display_data"
    }
   ],
   "source": [
    "data_sort.query('(refundable_support + nonrefundable_support) > 0').pivot_table(index=['ratings'],values='title', aggfunc='count').plot(kind='bar', figsize=(15, 6), grid=True) \n",
    "plt.xlabel('Оценки пользователей')\n",
    "plt.ylabel('Кол-во фильмов (шт.)')\n",
    "plt.title('Распределение пользовательских оценок для фильмов с гос. поддержкой (2013-2019 г.)')\n",
    "plt.legend = True"
   ]
  },
  {
   "cell_type": "markdown",
   "metadata": {},
   "source": [
    "Наиболее популярные оценки для фильмов с гос. поддержкой: 5.8, 6.2. 6.6  \n",
    "\n",
    "А какая картина будет вцелом для российского кино?"
   ]
  },
  {
   "cell_type": "code",
   "execution_count": 124,
   "metadata": {},
   "outputs": [
    {
     "data": {
      "image/png": "[encoded data removed]",
      "text/plain": [
       "<Figure size 1080x432 with 1 Axes>"
      ]
     },
     "metadata": {
      "needs_background": "light"
     },
     "output_type": "display_data"
    }
   ],
   "source": [
    "data_sort.query('(production_country == \"Россия\") & (box_office >= 0) & (year > 2012)').pivot_table(index=['ratings'],values='title', aggfunc='count').plot(kind='bar', figsize=(15, 6), grid=True) \n",
    "plt.xlabel('Оценки пользователей')\n",
    "plt.ylabel('Кол-во фильмов (шт.)')\n",
    "plt.title('Распределение пользовательских оценок для российских фильмов (2013-2019 г.)')\n",
    "plt.ylim(0, 30) \n",
    "plt.legend = True"
   ]
  },
  {
   "cell_type": "markdown",
   "metadata": {},
   "source": [
    "Графики распределения оценок похожи, но пиков для оценок выше 6.5 для обычных российских фильмов больше. Вероятно, это связано с тем что Минкультуры наряду с массовым кинопромом поддерживает еще и фестивальное/арт-хаусное кино, не пользующееся сильной популярностью. \n",
    "Наиболее популярные оценки для российских фильмов: 5.8, 6.1. 6.2.  \n"
   ]
  },
  {
   "cell_type": "markdown",
   "metadata": {},
   "source": [
    "**Вывод**"
   ]
  },
  {
   "cell_type": "markdown",
   "metadata": {},
   "source": [
    "В настоящий момент действует долгосрочная политика поддержки российского кино - показатели меняются не сильно, резких скачков не наблюдается.\n",
    "\n",
    "Одна из задач правительства в отрасли киноиндустрии - обеспечить выживание разных жанровых ниш, в том числе фестивального и авторского кино. Вероятно, именно с этим связано ухудшение оценок для фильмов с господдержкой по сравнению с общей выборкой по российскому кино. "
   ]
  },
  {
   "cell_type": "markdown",
   "metadata": {
    "id": "V2gYwMcPgFyd"
   },
   "source": [
    "### Шаг 5. Общий вывод"
   ]
  },
  {
   "cell_type": "markdown",
   "metadata": {
    "id": "AYRg3dzXgFye"
   },
   "source": [
    "В ходе исследования выявлены следующие проблемы в данных:\n",
    "\n",
    "- На сайте Минкультуры присутствуют записи без прокатного удостоверения.\n",
    "- Категориальные данные загрязнены пробелами. Во множественном числе присутствуют неявные дубликаты которые из-за большой выборки сложно обнаружить. Все это влияет на процесс обработки дубликатов и может привести к завышению статистики по кол-ву фильмов.\n",
    "- Данные по сборам кинопроката за 2010-2014 год признаны некорректными. Вероятные причины: неправильная разрядность и, возможно, другая валюта расчета.\n",
    "- Данные подтягиваются из разных источников, по этой причине часть информации теряется, например в случае различия в наименовании фильма.\n",
    "\n",
    "В ходе исследования сделаны следующие выводы:\n",
    "\n",
    "- Для российского кинопроката в целом характерно:\n",
    "\n",
    "        максимумы в 2019 году - 930 фильмов, 2018 году - 887 фильмов, 2010 году - 848 фильмов;\n",
    "        минимум в 2017 году - 505 фильмов.\n",
    "\n",
    "\n",
    "- Для кассовых сборов в период 2015-2019 гг. характерно:\n",
    "\n",
    "        максимум в 2018 году;\n",
    "        минимум в 2015 году;\n",
    "        в целом прослеживается стабилизация в период 2016-2019 гг. \n",
    "    \n",
    "\n",
    "- Отмечено следующее влияние возрастных ограничений:\n",
    "\n",
    "        максимум фильмов по категориям \"16+\" b \"12+\";\n",
    "        минимум по категории \"0+\"\n",
    "\n",
    "    Картина распределения не является статичной, на нее могут оказывать влияние политические, социально-экономические, демографические факторы.\n",
    "\n",
    "\n",
    "\n",
    "- Отмечены следующие закономерности в данных по фильмам с гос. поддержкой:\n",
    "\n",
    "        В настоящий момент влияние долгосрочной политики государства в области поддержки отечественной киноиндустрии. Основные показатели за последние 4 года меняются не сильно, резких скачков не наблюдается.\n",
    "\n",
    "        Судя по данным, на гос. финансирование и на долю участия государства установлены определенные квоты. Доля фильмов, получающих господдержку, стремится к 12,5%, а доля участия государства в бюджете фильма к 50%.\n",
    "\n",
    "        Тенденция оценок пользователей для фильмов с гос. поддержкой соответствует тенденции по всем российским фильмам, но отмечается меньшая доля оценок свыше 6.5 для фильмов с господдержкой. вероятно это связано с поддержкой фестивального и авторского кино.\n"
   ]
  }
 ],
 "metadata": {
  "ExecuteTimeLog": [
   {
    "duration": 537,
    "start_time": "2021-07-07T10:12:08.634Z"
   },
   {
    "duration": 206,
    "start_time": "2021-07-07T10:12:30.191Z"
   },
   {
    "duration": 227,
    "start_time": "2021-07-07T10:12:33.078Z"
   },
   {
    "duration": 153,
    "start_time": "2021-07-07T10:13:42.146Z"
   },
   {
    "duration": 233,
    "start_time": "2021-07-07T10:30:09.252Z"
   },
   {
    "duration": 19,
    "start_time": "2021-07-07T10:30:15.577Z"
   },
   {
    "duration": 18,
    "start_time": "2021-07-07T10:30:57.348Z"
   },
   {
    "duration": 19,
    "start_time": "2021-07-07T10:31:17.452Z"
   },
   {
    "duration": 21,
    "start_time": "2021-07-07T10:31:32.227Z"
   },
   {
    "duration": 27,
    "start_time": "2021-07-07T10:32:06.588Z"
   },
   {
    "duration": 23,
    "start_time": "2021-07-07T10:32:43.645Z"
   },
   {
    "duration": 24,
    "start_time": "2021-07-07T10:33:06.948Z"
   },
   {
    "duration": 7,
    "start_time": "2021-07-07T10:33:28.558Z"
   },
   {
    "duration": 23,
    "start_time": "2021-07-07T10:33:43.761Z"
   },
   {
    "duration": 28,
    "start_time": "2021-07-07T10:34:13.466Z"
   },
   {
    "duration": 23,
    "start_time": "2021-07-07T10:35:56.187Z"
   },
   {
    "duration": 6,
    "start_time": "2021-07-07T10:36:48.182Z"
   },
   {
    "duration": 14,
    "start_time": "2021-07-07T10:37:49.641Z"
   },
   {
    "duration": 6,
    "start_time": "2021-07-07T10:38:06.694Z"
   },
   {
    "duration": 6,
    "start_time": "2021-07-07T10:38:13.493Z"
   },
   {
    "duration": 19,
    "start_time": "2021-07-07T10:38:44.056Z"
   },
   {
    "duration": 186,
    "start_time": "2021-07-07T10:48:35.618Z"
   },
   {
    "duration": 24,
    "start_time": "2021-07-07T10:48:51.498Z"
   },
   {
    "duration": 20,
    "start_time": "2021-07-07T10:48:59.415Z"
   },
   {
    "duration": 20,
    "start_time": "2021-07-07T10:53:02.195Z"
   },
   {
    "duration": 188,
    "start_time": "2021-07-07T10:54:40.486Z"
   },
   {
    "duration": 115,
    "start_time": "2021-07-07T10:54:52.552Z"
   },
   {
    "duration": 214,
    "start_time": "2021-07-07T10:54:56.354Z"
   },
   {
    "duration": 47,
    "start_time": "2021-07-07T10:54:58.282Z"
   },
   {
    "duration": 217,
    "start_time": "2021-07-07T10:59:16.075Z"
   },
   {
    "duration": 51,
    "start_time": "2021-07-07T10:59:16.243Z"
   },
   {
    "duration": 578,
    "start_time": "2021-07-07T10:59:18.774Z"
   },
   {
    "duration": 161,
    "start_time": "2021-07-07T10:59:21.238Z"
   },
   {
    "duration": 59,
    "start_time": "2021-07-07T10:59:21.453Z"
   },
   {
    "duration": 3,
    "start_time": "2021-07-07T11:02:10.786Z"
   },
   {
    "duration": 13,
    "start_time": "2021-07-07T11:07:07.722Z"
   },
   {
    "duration": 26,
    "start_time": "2021-07-07T11:07:17.958Z"
   },
   {
    "duration": 22,
    "start_time": "2021-07-07T11:08:17.939Z"
   },
   {
    "duration": 212,
    "start_time": "2021-07-07T11:08:19.665Z"
   },
   {
    "duration": 21,
    "start_time": "2021-07-07T11:08:29.945Z"
   },
   {
    "duration": 31,
    "start_time": "2021-07-07T11:08:38.899Z"
   },
   {
    "duration": 23,
    "start_time": "2021-07-07T11:08:54.527Z"
   },
   {
    "duration": 8,
    "start_time": "2021-07-07T11:18:55.974Z"
   },
   {
    "duration": 7,
    "start_time": "2021-07-07T11:19:03.639Z"
   },
   {
    "duration": 7,
    "start_time": "2021-07-07T11:19:06.444Z"
   },
   {
    "duration": 578,
    "start_time": "2021-07-07T12:09:59.576Z"
   },
   {
    "duration": 195,
    "start_time": "2021-07-07T12:10:00.156Z"
   },
   {
    "duration": 115,
    "start_time": "2021-07-07T12:10:00.353Z"
   },
   {
    "duration": 3,
    "start_time": "2021-07-07T12:10:00.470Z"
   },
   {
    "duration": 32,
    "start_time": "2021-07-07T12:10:00.474Z"
   },
   {
    "duration": 23,
    "start_time": "2021-07-07T12:10:00.508Z"
   },
   {
    "duration": 19,
    "start_time": "2021-07-07T12:10:00.533Z"
   },
   {
    "duration": 44,
    "start_time": "2021-07-07T12:10:00.553Z"
   },
   {
    "duration": 7,
    "start_time": "2021-07-07T12:10:00.600Z"
   },
   {
    "duration": 7,
    "start_time": "2021-07-07T12:19:45.761Z"
   },
   {
    "duration": 21,
    "start_time": "2021-07-07T12:21:35.482Z"
   },
   {
    "duration": 21,
    "start_time": "2021-07-07T12:29:23.569Z"
   },
   {
    "duration": 525,
    "start_time": "2021-07-07T12:29:44.542Z"
   },
   {
    "duration": 214,
    "start_time": "2021-07-07T12:29:45.069Z"
   },
   {
    "duration": 92,
    "start_time": "2021-07-07T12:29:45.285Z"
   },
   {
    "duration": 3,
    "start_time": "2021-07-07T12:29:45.379Z"
   },
   {
    "duration": 28,
    "start_time": "2021-07-07T12:29:45.384Z"
   },
   {
    "duration": 23,
    "start_time": "2021-07-07T12:29:45.413Z"
   },
   {
    "duration": 21,
    "start_time": "2021-07-07T12:29:45.437Z"
   },
   {
    "duration": 41,
    "start_time": "2021-07-07T12:29:45.460Z"
   },
   {
    "duration": 7,
    "start_time": "2021-07-07T12:29:45.502Z"
   },
   {
    "duration": 20,
    "start_time": "2021-07-07T12:29:45.511Z"
   },
   {
    "duration": 12,
    "start_time": "2021-07-07T12:34:02.800Z"
   },
   {
    "duration": 7,
    "start_time": "2021-07-07T12:35:10.479Z"
   },
   {
    "duration": 8,
    "start_time": "2021-07-07T12:35:22.440Z"
   },
   {
    "duration": 6,
    "start_time": "2021-07-07T12:35:35.649Z"
   },
   {
    "duration": 6,
    "start_time": "2021-07-07T12:35:43.107Z"
   },
   {
    "duration": 22,
    "start_time": "2021-07-07T12:38:03.029Z"
   },
   {
    "duration": 10,
    "start_time": "2021-07-07T12:38:06.592Z"
   },
   {
    "duration": 563,
    "start_time": "2021-07-07T12:38:46.493Z"
   },
   {
    "duration": 265,
    "start_time": "2021-07-07T12:38:47.058Z"
   },
   {
    "duration": 94,
    "start_time": "2021-07-07T12:38:47.325Z"
   },
   {
    "duration": 3,
    "start_time": "2021-07-07T12:38:47.422Z"
   },
   {
    "duration": 30,
    "start_time": "2021-07-07T12:38:47.427Z"
   },
   {
    "duration": 16,
    "start_time": "2021-07-07T12:38:53.305Z"
   },
   {
    "duration": 10,
    "start_time": "2021-07-07T12:38:53.499Z"
   },
   {
    "duration": 8,
    "start_time": "2021-07-07T12:39:48.161Z"
   },
   {
    "duration": 27,
    "start_time": "2021-07-07T12:41:17.629Z"
   },
   {
    "duration": 17,
    "start_time": "2021-07-07T12:41:17.867Z"
   },
   {
    "duration": 21,
    "start_time": "2021-07-07T12:41:19.310Z"
   },
   {
    "duration": 7,
    "start_time": "2021-07-07T12:41:19.544Z"
   },
   {
    "duration": 20,
    "start_time": "2021-07-07T12:41:20.504Z"
   },
   {
    "duration": 554,
    "start_time": "2021-07-07T12:56:23.696Z"
   },
   {
    "duration": 200,
    "start_time": "2021-07-07T12:56:25.234Z"
   },
   {
    "duration": 119,
    "start_time": "2021-07-07T12:56:25.480Z"
   },
   {
    "duration": 4,
    "start_time": "2021-07-07T12:56:25.762Z"
   },
   {
    "duration": 26,
    "start_time": "2021-07-07T12:56:27.172Z"
   },
   {
    "duration": 12,
    "start_time": "2021-07-07T12:56:29.051Z"
   },
   {
    "duration": 10,
    "start_time": "2021-07-07T12:56:29.291Z"
   },
   {
    "duration": 8,
    "start_time": "2021-07-07T12:56:29.623Z"
   },
   {
    "duration": 28,
    "start_time": "2021-07-07T12:56:32.137Z"
   },
   {
    "duration": 19,
    "start_time": "2021-07-07T12:56:39.785Z"
   },
   {
    "duration": 20,
    "start_time": "2021-07-07T12:56:44.297Z"
   },
   {
    "duration": 7,
    "start_time": "2021-07-07T12:56:45.392Z"
   },
   {
    "duration": 23,
    "start_time": "2021-07-07T12:56:46.615Z"
   },
   {
    "duration": 4,
    "start_time": "2021-07-07T12:57:06.625Z"
   },
   {
    "duration": 32,
    "start_time": "2021-07-07T12:57:36.690Z"
   },
   {
    "duration": 18,
    "start_time": "2021-07-07T12:58:00.149Z"
   },
   {
    "duration": 15,
    "start_time": "2021-07-07T12:59:16.793Z"
   },
   {
    "duration": 7,
    "start_time": "2021-07-07T13:19:22.624Z"
   },
   {
    "duration": 6,
    "start_time": "2021-07-07T14:17:33.527Z"
   },
   {
    "duration": 9,
    "start_time": "2021-07-07T14:17:48.409Z"
   },
   {
    "duration": 8,
    "start_time": "2021-07-07T14:20:13.060Z"
   },
   {
    "duration": 8,
    "start_time": "2021-07-07T14:20:37.957Z"
   },
   {
    "duration": 8,
    "start_time": "2021-07-07T14:20:47.470Z"
   },
   {
    "duration": 9,
    "start_time": "2021-07-07T14:20:54.503Z"
   },
   {
    "duration": 10,
    "start_time": "2021-07-07T14:28:57.763Z"
   },
   {
    "duration": 3,
    "start_time": "2021-07-07T14:30:23.377Z"
   },
   {
    "duration": 3,
    "start_time": "2021-07-07T14:30:36.489Z"
   },
   {
    "duration": 103,
    "start_time": "2021-07-07T14:30:52.351Z"
   },
   {
    "duration": 8,
    "start_time": "2021-07-07T14:30:54.763Z"
   },
   {
    "duration": 8,
    "start_time": "2021-07-07T14:31:29.301Z"
   },
   {
    "duration": 13,
    "start_time": "2021-07-07T14:31:44.516Z"
   },
   {
    "duration": 7,
    "start_time": "2021-07-07T14:33:10.972Z"
   },
   {
    "duration": 11,
    "start_time": "2021-07-07T14:33:27.780Z"
   },
   {
    "duration": 8,
    "start_time": "2021-07-07T14:34:44.588Z"
   },
   {
    "duration": 57,
    "start_time": "2021-07-07T14:35:59.042Z"
   },
   {
    "duration": 3,
    "start_time": "2021-07-07T14:36:28.168Z"
   },
   {
    "duration": 5,
    "start_time": "2021-07-07T14:36:46.254Z"
   },
   {
    "duration": 4,
    "start_time": "2021-07-07T14:36:52.714Z"
   },
   {
    "duration": 3,
    "start_time": "2021-07-07T14:36:56.612Z"
   },
   {
    "duration": 4,
    "start_time": "2021-07-07T14:36:57.049Z"
   },
   {
    "duration": 3,
    "start_time": "2021-07-07T14:39:21.214Z"
   },
   {
    "duration": 7,
    "start_time": "2021-07-07T14:39:52.406Z"
   },
   {
    "duration": 11,
    "start_time": "2021-07-07T14:39:58.576Z"
   },
   {
    "duration": 9,
    "start_time": "2021-07-07T14:40:26.301Z"
   },
   {
    "duration": 10,
    "start_time": "2021-07-07T14:40:31.704Z"
   },
   {
    "duration": 11,
    "start_time": "2021-07-07T14:40:36.249Z"
   },
   {
    "duration": 10,
    "start_time": "2021-07-07T14:40:39.783Z"
   },
   {
    "duration": 9,
    "start_time": "2021-07-07T14:40:48.558Z"
   },
   {
    "duration": 10,
    "start_time": "2021-07-07T14:40:57.143Z"
   },
   {
    "duration": 9,
    "start_time": "2021-07-07T14:41:06.074Z"
   },
   {
    "duration": 4324,
    "start_time": "2021-07-07T14:41:22.004Z"
   },
   {
    "duration": 11,
    "start_time": "2021-07-07T14:41:33.392Z"
   },
   {
    "duration": 9,
    "start_time": "2021-07-07T14:41:39.288Z"
   },
   {
    "duration": 569,
    "start_time": "2021-07-07T14:42:14.387Z"
   },
   {
    "duration": 197,
    "start_time": "2021-07-07T14:42:14.959Z"
   },
   {
    "duration": 84,
    "start_time": "2021-07-07T14:42:16.052Z"
   },
   {
    "duration": 4,
    "start_time": "2021-07-07T14:42:16.900Z"
   },
   {
    "duration": 27,
    "start_time": "2021-07-07T14:42:19.898Z"
   },
   {
    "duration": 12,
    "start_time": "2021-07-07T14:42:21.577Z"
   },
   {
    "duration": 9,
    "start_time": "2021-07-07T14:42:21.813Z"
   },
   {
    "duration": 9,
    "start_time": "2021-07-07T14:42:22.569Z"
   },
   {
    "duration": 29,
    "start_time": "2021-07-07T14:42:25.837Z"
   },
   {
    "duration": 20,
    "start_time": "2021-07-07T14:42:27.003Z"
   },
   {
    "duration": 21,
    "start_time": "2021-07-07T14:42:28.767Z"
   },
   {
    "duration": 7,
    "start_time": "2021-07-07T14:42:29.838Z"
   },
   {
    "duration": 4,
    "start_time": "2021-07-07T14:43:25.493Z"
   },
   {
    "duration": 7,
    "start_time": "2021-07-07T14:43:26.573Z"
   },
   {
    "duration": 10,
    "start_time": "2021-07-07T14:43:31.639Z"
   },
   {
    "duration": 9,
    "start_time": "2021-07-07T14:43:32.046Z"
   },
   {
    "duration": 10,
    "start_time": "2021-07-07T14:43:33.301Z"
   },
   {
    "duration": 12,
    "start_time": "2021-07-07T14:43:33.658Z"
   },
   {
    "duration": 8,
    "start_time": "2021-07-07T14:43:34.552Z"
   },
   {
    "duration": 9,
    "start_time": "2021-07-07T14:43:35.058Z"
   },
   {
    "duration": 12,
    "start_time": "2021-07-07T14:43:35.914Z"
   },
   {
    "duration": 17,
    "start_time": "2021-07-07T14:45:34.368Z"
   },
   {
    "duration": 512,
    "start_time": "2021-07-07T14:51:58.236Z"
   },
   {
    "duration": 223,
    "start_time": "2021-07-07T14:51:58.750Z"
   },
   {
    "duration": 93,
    "start_time": "2021-07-07T14:51:58.977Z"
   },
   {
    "duration": 4,
    "start_time": "2021-07-07T14:51:59.071Z"
   },
   {
    "duration": 37,
    "start_time": "2021-07-07T14:51:59.077Z"
   },
   {
    "duration": 18,
    "start_time": "2021-07-07T14:51:59.116Z"
   },
   {
    "duration": 10,
    "start_time": "2021-07-07T14:51:59.137Z"
   },
   {
    "duration": 8,
    "start_time": "2021-07-07T14:51:59.149Z"
   },
   {
    "duration": 54,
    "start_time": "2021-07-07T14:51:59.158Z"
   },
   {
    "duration": 18,
    "start_time": "2021-07-07T14:51:59.213Z"
   },
   {
    "duration": 22,
    "start_time": "2021-07-07T14:51:59.232Z"
   },
   {
    "duration": 36,
    "start_time": "2021-07-07T14:51:59.255Z"
   },
   {
    "duration": 7,
    "start_time": "2021-07-07T14:51:59.293Z"
   },
   {
    "duration": 10,
    "start_time": "2021-07-07T14:51:59.302Z"
   },
   {
    "duration": 9,
    "start_time": "2021-07-07T14:51:59.313Z"
   },
   {
    "duration": 11,
    "start_time": "2021-07-07T14:51:59.324Z"
   },
   {
    "duration": 8,
    "start_time": "2021-07-07T14:51:59.337Z"
   },
   {
    "duration": 46,
    "start_time": "2021-07-07T14:51:59.347Z"
   },
   {
    "duration": 22,
    "start_time": "2021-07-07T14:51:59.395Z"
   },
   {
    "duration": 24,
    "start_time": "2021-07-07T14:57:32.911Z"
   },
   {
    "duration": 7,
    "start_time": "2021-07-07T14:58:22.070Z"
   },
   {
    "duration": 4,
    "start_time": "2021-07-07T14:59:11.239Z"
   },
   {
    "duration": 25,
    "start_time": "2021-07-07T15:07:22.208Z"
   },
   {
    "duration": 16,
    "start_time": "2021-07-07T15:08:25.560Z"
   },
   {
    "duration": 15,
    "start_time": "2021-07-07T15:08:40.647Z"
   },
   {
    "duration": 14,
    "start_time": "2021-07-07T15:08:46.669Z"
   },
   {
    "duration": 533,
    "start_time": "2021-07-07T15:18:07.440Z"
   },
   {
    "duration": 173,
    "start_time": "2021-07-07T15:18:07.974Z"
   },
   {
    "duration": 84,
    "start_time": "2021-07-07T15:18:08.149Z"
   },
   {
    "duration": 3,
    "start_time": "2021-07-07T15:18:08.235Z"
   },
   {
    "duration": 30,
    "start_time": "2021-07-07T15:18:08.240Z"
   },
   {
    "duration": 22,
    "start_time": "2021-07-07T15:18:08.272Z"
   },
   {
    "duration": 11,
    "start_time": "2021-07-07T15:18:08.295Z"
   },
   {
    "duration": 11,
    "start_time": "2021-07-07T15:18:08.309Z"
   },
   {
    "duration": 40,
    "start_time": "2021-07-07T15:18:08.322Z"
   },
   {
    "duration": 42,
    "start_time": "2021-07-07T15:18:08.364Z"
   },
   {
    "duration": 22,
    "start_time": "2021-07-07T15:18:08.408Z"
   },
   {
    "duration": 5,
    "start_time": "2021-07-07T15:18:08.432Z"
   },
   {
    "duration": 13,
    "start_time": "2021-07-07T15:18:08.439Z"
   },
   {
    "duration": 9,
    "start_time": "2021-07-07T15:18:08.454Z"
   },
   {
    "duration": 32,
    "start_time": "2021-07-07T15:18:08.465Z"
   },
   {
    "duration": 10,
    "start_time": "2021-07-07T15:18:08.501Z"
   },
   {
    "duration": 7,
    "start_time": "2021-07-07T15:18:08.513Z"
   },
   {
    "duration": 11,
    "start_time": "2021-07-07T15:18:08.521Z"
   },
   {
    "duration": 17,
    "start_time": "2021-07-07T15:18:08.534Z"
   },
   {
    "duration": 44,
    "start_time": "2021-07-07T15:18:08.553Z"
   },
   {
    "duration": 22,
    "start_time": "2021-07-07T15:18:08.599Z"
   },
   {
    "duration": 61,
    "start_time": "2021-07-07T15:18:08.622Z"
   },
   {
    "duration": 7,
    "start_time": "2021-07-07T15:18:39.457Z"
   },
   {
    "duration": 5,
    "start_time": "2021-07-07T16:05:17.020Z"
   },
   {
    "duration": 5,
    "start_time": "2021-07-07T16:51:28.794Z"
   },
   {
    "duration": 546,
    "start_time": "2021-07-07T16:52:26.306Z"
   },
   {
    "duration": 203,
    "start_time": "2021-07-07T16:52:27.523Z"
   },
   {
    "duration": 85,
    "start_time": "2021-07-07T16:52:27.736Z"
   },
   {
    "duration": 4,
    "start_time": "2021-07-07T16:52:27.899Z"
   },
   {
    "duration": 25,
    "start_time": "2021-07-07T16:52:28.674Z"
   },
   {
    "duration": 8,
    "start_time": "2021-07-07T16:52:32.956Z"
   },
   {
    "duration": 18,
    "start_time": "2021-07-07T16:52:35.616Z"
   },
   {
    "duration": 6,
    "start_time": "2021-07-07T16:52:36.913Z"
   },
   {
    "duration": 11,
    "start_time": "2021-07-07T16:52:40.258Z"
   },
   {
    "duration": 10,
    "start_time": "2021-07-07T16:52:46.251Z"
   },
   {
    "duration": 8,
    "start_time": "2021-07-07T16:52:47.182Z"
   },
   {
    "duration": 27,
    "start_time": "2021-07-07T16:53:20.391Z"
   },
   {
    "duration": 20,
    "start_time": "2021-07-07T16:53:22.022Z"
   },
   {
    "duration": 23,
    "start_time": "2021-07-07T16:53:23.690Z"
   },
   {
    "duration": 8,
    "start_time": "2021-07-07T16:53:24.261Z"
   },
   {
    "duration": 4,
    "start_time": "2021-07-07T16:53:38.733Z"
   },
   {
    "duration": 7,
    "start_time": "2021-07-07T16:53:40.445Z"
   },
   {
    "duration": 11,
    "start_time": "2021-07-07T16:53:41.348Z"
   },
   {
    "duration": 13,
    "start_time": "2021-07-07T16:53:45.250Z"
   },
   {
    "duration": 12,
    "start_time": "2021-07-07T16:53:45.467Z"
   },
   {
    "duration": 4,
    "start_time": "2021-07-07T16:55:32.704Z"
   },
   {
    "duration": 12,
    "start_time": "2021-07-07T16:55:49.012Z"
   },
   {
    "duration": 18,
    "start_time": "2021-07-07T16:55:49.547Z"
   },
   {
    "duration": 611,
    "start_time": "2021-07-07T16:58:35.156Z"
   },
   {
    "duration": 200,
    "start_time": "2021-07-07T16:58:35.770Z"
   },
   {
    "duration": 86,
    "start_time": "2021-07-07T16:58:35.972Z"
   },
   {
    "duration": 3,
    "start_time": "2021-07-07T16:58:36.060Z"
   },
   {
    "duration": 27,
    "start_time": "2021-07-07T16:58:36.065Z"
   },
   {
    "duration": 8,
    "start_time": "2021-07-07T16:58:36.094Z"
   },
   {
    "duration": 17,
    "start_time": "2021-07-07T16:58:36.103Z"
   },
   {
    "duration": 5,
    "start_time": "2021-07-07T16:58:36.123Z"
   },
   {
    "duration": 11,
    "start_time": "2021-07-07T16:58:36.130Z"
   },
   {
    "duration": 7,
    "start_time": "2021-07-07T16:58:36.143Z"
   },
   {
    "duration": 37,
    "start_time": "2021-07-07T16:58:36.152Z"
   },
   {
    "duration": 27,
    "start_time": "2021-07-07T16:58:36.191Z"
   },
   {
    "duration": 19,
    "start_time": "2021-07-07T16:58:36.219Z"
   },
   {
    "duration": 49,
    "start_time": "2021-07-07T16:58:36.240Z"
   },
   {
    "duration": 6,
    "start_time": "2021-07-07T16:58:36.291Z"
   },
   {
    "duration": 3,
    "start_time": "2021-07-07T16:58:36.299Z"
   },
   {
    "duration": 13,
    "start_time": "2021-07-07T16:58:36.304Z"
   },
   {
    "duration": 10,
    "start_time": "2021-07-07T16:58:36.319Z"
   },
   {
    "duration": 10,
    "start_time": "2021-07-07T16:58:36.331Z"
   },
   {
    "duration": 44,
    "start_time": "2021-07-07T16:58:36.343Z"
   },
   {
    "duration": 4,
    "start_time": "2021-07-07T16:58:36.388Z"
   },
   {
    "duration": 13,
    "start_time": "2021-07-07T16:58:36.394Z"
   },
   {
    "duration": 16,
    "start_time": "2021-07-07T16:58:36.410Z"
   },
   {
    "duration": 8,
    "start_time": "2021-07-07T17:02:31.629Z"
   },
   {
    "duration": 8,
    "start_time": "2021-07-07T17:02:34.308Z"
   },
   {
    "duration": 6,
    "start_time": "2021-07-07T17:05:13.483Z"
   },
   {
    "duration": 17,
    "start_time": "2021-07-07T17:05:20.606Z"
   },
   {
    "duration": 7,
    "start_time": "2021-07-07T17:05:34.638Z"
   },
   {
    "duration": 3,
    "start_time": "2021-07-07T17:06:31.883Z"
   },
   {
    "duration": 570,
    "start_time": "2021-07-07T17:06:37.165Z"
   },
   {
    "duration": 174,
    "start_time": "2021-07-07T17:06:37.737Z"
   },
   {
    "duration": 47,
    "start_time": "2021-07-07T17:06:37.913Z"
   },
   {
    "duration": 3,
    "start_time": "2021-07-07T17:06:37.962Z"
   },
   {
    "duration": 27,
    "start_time": "2021-07-07T17:06:37.967Z"
   },
   {
    "duration": 7,
    "start_time": "2021-07-07T17:06:37.996Z"
   },
   {
    "duration": 16,
    "start_time": "2021-07-07T17:06:38.005Z"
   },
   {
    "duration": 6,
    "start_time": "2021-07-07T17:06:38.024Z"
   },
   {
    "duration": 12,
    "start_time": "2021-07-07T17:06:38.031Z"
   },
   {
    "duration": 41,
    "start_time": "2021-07-07T17:06:38.045Z"
   },
   {
    "duration": 8,
    "start_time": "2021-07-07T17:06:38.088Z"
   },
   {
    "duration": 26,
    "start_time": "2021-07-07T17:06:38.098Z"
   },
   {
    "duration": 17,
    "start_time": "2021-07-07T17:06:38.126Z"
   },
   {
    "duration": 43,
    "start_time": "2021-07-07T17:06:38.144Z"
   },
   {
    "duration": 6,
    "start_time": "2021-07-07T17:06:38.188Z"
   },
   {
    "duration": 5,
    "start_time": "2021-07-07T17:06:38.195Z"
   },
   {
    "duration": 9,
    "start_time": "2021-07-07T17:06:38.201Z"
   },
   {
    "duration": 12,
    "start_time": "2021-07-07T17:06:38.212Z"
   },
   {
    "duration": 11,
    "start_time": "2021-07-07T17:06:38.226Z"
   },
   {
    "duration": 47,
    "start_time": "2021-07-07T17:06:38.239Z"
   },
   {
    "duration": 4,
    "start_time": "2021-07-07T17:06:38.288Z"
   },
   {
    "duration": 13,
    "start_time": "2021-07-07T17:06:38.293Z"
   },
   {
    "duration": 5,
    "start_time": "2021-07-07T17:06:38.309Z"
   },
   {
    "duration": 18,
    "start_time": "2021-07-07T17:06:38.325Z"
   },
   {
    "duration": 20,
    "start_time": "2021-07-07T17:07:02.805Z"
   },
   {
    "duration": 19,
    "start_time": "2021-07-07T17:07:08.527Z"
   },
   {
    "duration": 19,
    "start_time": "2021-07-07T17:07:12.758Z"
   },
   {
    "duration": 22,
    "start_time": "2021-07-07T17:07:17.497Z"
   },
   {
    "duration": 19,
    "start_time": "2021-07-07T17:07:19.645Z"
   },
   {
    "duration": 10,
    "start_time": "2021-07-07T17:07:34.239Z"
   },
   {
    "duration": 17,
    "start_time": "2021-07-07T17:07:54.144Z"
   },
   {
    "duration": 14,
    "start_time": "2021-07-07T17:08:14.357Z"
   },
   {
    "duration": 616,
    "start_time": "2021-07-07T17:08:45.254Z"
   },
   {
    "duration": 178,
    "start_time": "2021-07-07T17:08:45.872Z"
   },
   {
    "duration": 60,
    "start_time": "2021-07-07T17:08:46.054Z"
   },
   {
    "duration": 3,
    "start_time": "2021-07-07T17:08:46.116Z"
   },
   {
    "duration": 26,
    "start_time": "2021-07-07T17:08:46.121Z"
   },
   {
    "duration": 7,
    "start_time": "2021-07-07T17:08:46.149Z"
   },
   {
    "duration": 17,
    "start_time": "2021-07-07T17:08:46.158Z"
   },
   {
    "duration": 14,
    "start_time": "2021-07-07T17:08:46.176Z"
   },
   {
    "duration": 17,
    "start_time": "2021-07-07T17:08:46.193Z"
   },
   {
    "duration": 9,
    "start_time": "2021-07-07T17:08:46.211Z"
   },
   {
    "duration": 21,
    "start_time": "2021-07-07T17:08:46.221Z"
   },
   {
    "duration": 49,
    "start_time": "2021-07-07T17:08:46.244Z"
   },
   {
    "duration": 24,
    "start_time": "2021-07-07T17:08:46.295Z"
   },
   {
    "duration": 22,
    "start_time": "2021-07-07T17:08:46.321Z"
   },
   {
    "duration": 6,
    "start_time": "2021-07-07T17:08:46.345Z"
   },
   {
    "duration": 5,
    "start_time": "2021-07-07T17:08:46.353Z"
   },
   {
    "duration": 13,
    "start_time": "2021-07-07T17:08:46.386Z"
   },
   {
    "duration": 12,
    "start_time": "2021-07-07T17:08:46.402Z"
   },
   {
    "duration": 10,
    "start_time": "2021-07-07T17:08:46.415Z"
   },
   {
    "duration": 7,
    "start_time": "2021-07-07T17:08:46.427Z"
   },
   {
    "duration": 8,
    "start_time": "2021-07-07T17:08:46.435Z"
   },
   {
    "duration": 68,
    "start_time": "2021-07-07T17:08:46.446Z"
   },
   {
    "duration": 13,
    "start_time": "2021-07-07T17:08:46.516Z"
   },
   {
    "duration": 78,
    "start_time": "2021-07-07T17:08:46.530Z"
   },
   {
    "duration": 40,
    "start_time": "2021-07-07T17:09:08.185Z"
   },
   {
    "duration": 16,
    "start_time": "2021-07-07T17:09:19.324Z"
   },
   {
    "duration": 21,
    "start_time": "2021-07-07T17:09:23.290Z"
   },
   {
    "duration": 13,
    "start_time": "2021-07-07T17:09:54.812Z"
   },
   {
    "duration": 13,
    "start_time": "2021-07-07T17:10:02.039Z"
   },
   {
    "duration": 10,
    "start_time": "2021-07-07T17:10:29.632Z"
   },
   {
    "duration": 13,
    "start_time": "2021-07-07T17:10:52.372Z"
   },
   {
    "duration": 13,
    "start_time": "2021-07-07T17:11:17.270Z"
   },
   {
    "duration": 13,
    "start_time": "2021-07-07T17:14:59.284Z"
   },
   {
    "duration": 547,
    "start_time": "2021-07-07T17:18:52.403Z"
   },
   {
    "duration": 163,
    "start_time": "2021-07-07T17:18:52.952Z"
   },
   {
    "duration": 44,
    "start_time": "2021-07-07T17:18:53.117Z"
   },
   {
    "duration": 3,
    "start_time": "2021-07-07T17:18:53.162Z"
   },
   {
    "duration": 26,
    "start_time": "2021-07-07T17:18:53.167Z"
   },
   {
    "duration": 6,
    "start_time": "2021-07-07T17:18:53.195Z"
   },
   {
    "duration": 15,
    "start_time": "2021-07-07T17:18:53.203Z"
   },
   {
    "duration": 5,
    "start_time": "2021-07-07T17:18:53.220Z"
   },
   {
    "duration": 11,
    "start_time": "2021-07-07T17:18:53.228Z"
   },
   {
    "duration": 9,
    "start_time": "2021-07-07T17:18:53.241Z"
   },
   {
    "duration": 41,
    "start_time": "2021-07-07T17:18:53.252Z"
   },
   {
    "duration": 33,
    "start_time": "2021-07-07T17:18:53.295Z"
   },
   {
    "duration": 19,
    "start_time": "2021-07-07T17:18:53.330Z"
   },
   {
    "duration": 49,
    "start_time": "2021-07-07T17:18:53.350Z"
   },
   {
    "duration": 5,
    "start_time": "2021-07-07T17:18:53.401Z"
   },
   {
    "duration": 5,
    "start_time": "2021-07-07T17:18:53.408Z"
   },
   {
    "duration": 11,
    "start_time": "2021-07-07T17:18:53.414Z"
   },
   {
    "duration": 9,
    "start_time": "2021-07-07T17:18:53.427Z"
   },
   {
    "duration": 10,
    "start_time": "2021-07-07T17:18:53.437Z"
   },
   {
    "duration": 39,
    "start_time": "2021-07-07T17:18:53.448Z"
   },
   {
    "duration": 26,
    "start_time": "2021-07-07T17:18:55.799Z"
   },
   {
    "duration": 598,
    "start_time": "2021-07-07T17:20:17.862Z"
   },
   {
    "duration": 161,
    "start_time": "2021-07-07T17:20:18.462Z"
   },
   {
    "duration": 45,
    "start_time": "2021-07-07T17:20:18.626Z"
   },
   {
    "duration": 4,
    "start_time": "2021-07-07T17:20:18.673Z"
   },
   {
    "duration": 38,
    "start_time": "2021-07-07T17:20:26.877Z"
   },
   {
    "duration": 7,
    "start_time": "2021-07-07T17:20:37.405Z"
   },
   {
    "duration": 19,
    "start_time": "2021-07-07T17:20:51.534Z"
   },
   {
    "duration": 5,
    "start_time": "2021-07-07T17:20:57.228Z"
   },
   {
    "duration": 7,
    "start_time": "2021-07-07T17:21:08.235Z"
   },
   {
    "duration": 19,
    "start_time": "2021-07-07T17:21:42.158Z"
   },
   {
    "duration": 14,
    "start_time": "2021-07-07T17:21:50.225Z"
   },
   {
    "duration": 22,
    "start_time": "2021-07-07T17:22:54.104Z"
   },
   {
    "duration": 5,
    "start_time": "2021-07-07T17:22:56.371Z"
   },
   {
    "duration": 14,
    "start_time": "2021-07-07T17:22:58.316Z"
   },
   {
    "duration": 5,
    "start_time": "2021-07-07T17:22:58.493Z"
   },
   {
    "duration": 35,
    "start_time": "2021-07-07T17:22:59.666Z"
   },
   {
    "duration": 6,
    "start_time": "2021-07-07T17:23:02.410Z"
   },
   {
    "duration": 611,
    "start_time": "2021-07-07T17:24:59.664Z"
   },
   {
    "duration": 178,
    "start_time": "2021-07-07T17:25:01.945Z"
   },
   {
    "duration": 47,
    "start_time": "2021-07-07T17:25:02.125Z"
   },
   {
    "duration": 2,
    "start_time": "2021-07-07T17:25:07.903Z"
   },
   {
    "duration": 254,
    "start_time": "2021-07-07T17:25:08.232Z"
   },
   {
    "duration": 182,
    "start_time": "2021-07-07T17:25:08.671Z"
   },
   {
    "duration": 6,
    "start_time": "2021-07-07T17:25:13.104Z"
   },
   {
    "duration": 36,
    "start_time": "2021-07-07T17:25:13.662Z"
   },
   {
    "duration": 7,
    "start_time": "2021-07-07T17:25:14.528Z"
   },
   {
    "duration": 24,
    "start_time": "2021-07-07T17:25:27.982Z"
   },
   {
    "duration": 3,
    "start_time": "2021-07-07T17:25:48.982Z"
   },
   {
    "duration": 165,
    "start_time": "2021-07-07T17:25:48.987Z"
   },
   {
    "duration": 50,
    "start_time": "2021-07-07T17:25:49.154Z"
   },
   {
    "duration": 4,
    "start_time": "2021-07-07T17:25:49.206Z"
   },
   {
    "duration": 26,
    "start_time": "2021-07-07T17:25:49.212Z"
   },
   {
    "duration": 7,
    "start_time": "2021-07-07T17:25:49.240Z"
   },
   {
    "duration": 16,
    "start_time": "2021-07-07T17:25:49.249Z"
   },
   {
    "duration": 22,
    "start_time": "2021-07-07T17:25:49.266Z"
   },
   {
    "duration": 16,
    "start_time": "2021-07-07T17:25:49.291Z"
   },
   {
    "duration": 9,
    "start_time": "2021-07-07T17:25:49.309Z"
   },
   {
    "duration": 7,
    "start_time": "2021-07-07T17:25:49.319Z"
   },
   {
    "duration": 28,
    "start_time": "2021-07-07T17:25:49.328Z"
   },
   {
    "duration": 44,
    "start_time": "2021-07-07T17:25:49.357Z"
   },
   {
    "duration": 22,
    "start_time": "2021-07-07T17:25:49.403Z"
   },
   {
    "duration": 7,
    "start_time": "2021-07-07T17:25:49.427Z"
   },
   {
    "duration": 3,
    "start_time": "2021-07-07T17:25:49.436Z"
   },
   {
    "duration": 44,
    "start_time": "2021-07-07T17:25:49.441Z"
   },
   {
    "duration": 12,
    "start_time": "2021-07-07T17:25:49.488Z"
   },
   {
    "duration": 13,
    "start_time": "2021-07-07T17:25:49.502Z"
   },
   {
    "duration": 10,
    "start_time": "2021-07-07T17:25:49.516Z"
   },
   {
    "duration": 62,
    "start_time": "2021-07-07T17:25:49.527Z"
   },
   {
    "duration": 26,
    "start_time": "2021-07-07T17:26:51.809Z"
   },
   {
    "duration": 26,
    "start_time": "2021-07-07T17:26:55.759Z"
   },
   {
    "duration": 26,
    "start_time": "2021-07-07T17:27:04.501Z"
   },
   {
    "duration": 25,
    "start_time": "2021-07-07T17:28:24.859Z"
   },
   {
    "duration": 21,
    "start_time": "2021-07-07T17:28:55.250Z"
   },
   {
    "duration": 21,
    "start_time": "2021-07-07T17:28:58.885Z"
   },
   {
    "duration": 7,
    "start_time": "2021-07-07T17:45:40.972Z"
   },
   {
    "duration": 13,
    "start_time": "2021-07-07T17:45:42.529Z"
   },
   {
    "duration": 27,
    "start_time": "2021-07-07T17:45:51.026Z"
   },
   {
    "duration": 518,
    "start_time": "2021-07-07T17:46:15.532Z"
   },
   {
    "duration": 235,
    "start_time": "2021-07-07T17:46:16.053Z"
   },
   {
    "duration": 80,
    "start_time": "2021-07-07T17:46:16.292Z"
   },
   {
    "duration": 5,
    "start_time": "2021-07-07T17:46:16.373Z"
   },
   {
    "duration": 26,
    "start_time": "2021-07-07T17:46:16.380Z"
   },
   {
    "duration": 7,
    "start_time": "2021-07-07T17:46:16.408Z"
   },
   {
    "duration": 16,
    "start_time": "2021-07-07T17:46:16.418Z"
   },
   {
    "duration": 5,
    "start_time": "2021-07-07T17:46:16.436Z"
   },
   {
    "duration": 13,
    "start_time": "2021-07-07T17:46:16.442Z"
   },
   {
    "duration": 35,
    "start_time": "2021-07-07T17:46:16.456Z"
   },
   {
    "duration": 8,
    "start_time": "2021-07-07T17:46:16.493Z"
   },
   {
    "duration": 28,
    "start_time": "2021-07-07T17:46:16.502Z"
   },
   {
    "duration": 17,
    "start_time": "2021-07-07T17:46:16.532Z"
   },
   {
    "duration": 44,
    "start_time": "2021-07-07T17:46:16.551Z"
   },
   {
    "duration": 6,
    "start_time": "2021-07-07T17:46:16.597Z"
   },
   {
    "duration": 4,
    "start_time": "2021-07-07T17:46:16.605Z"
   },
   {
    "duration": 9,
    "start_time": "2021-07-07T17:46:16.610Z"
   },
   {
    "duration": 9,
    "start_time": "2021-07-07T17:46:16.621Z"
   },
   {
    "duration": 10,
    "start_time": "2021-07-07T17:46:16.632Z"
   },
   {
    "duration": 43,
    "start_time": "2021-07-07T17:46:16.644Z"
   },
   {
    "duration": 26,
    "start_time": "2021-07-07T17:46:16.689Z"
   },
   {
    "duration": 19,
    "start_time": "2021-07-07T17:46:16.718Z"
   },
   {
    "duration": 8,
    "start_time": "2021-07-07T17:46:16.738Z"
   },
   {
    "duration": 43,
    "start_time": "2021-07-07T17:46:16.747Z"
   },
   {
    "duration": 19,
    "start_time": "2021-07-07T17:46:16.791Z"
   },
   {
    "duration": 9,
    "start_time": "2021-07-07T17:46:16.812Z"
   },
   {
    "duration": 60,
    "start_time": "2021-07-07T17:46:16.822Z"
   },
   {
    "duration": -8,
    "start_time": "2021-07-07T17:46:16.892Z"
   },
   {
    "duration": 12,
    "start_time": "2021-07-07T17:48:47.707Z"
   },
   {
    "duration": 553,
    "start_time": "2021-07-07T18:10:09.350Z"
   },
   {
    "duration": 230,
    "start_time": "2021-07-07T18:10:09.905Z"
   },
   {
    "duration": 97,
    "start_time": "2021-07-07T18:10:10.137Z"
   },
   {
    "duration": 5,
    "start_time": "2021-07-07T18:10:10.236Z"
   },
   {
    "duration": 29,
    "start_time": "2021-07-07T18:10:10.242Z"
   },
   {
    "duration": 7,
    "start_time": "2021-07-07T18:10:10.272Z"
   },
   {
    "duration": 15,
    "start_time": "2021-07-07T18:10:10.281Z"
   },
   {
    "duration": 4,
    "start_time": "2021-07-07T18:10:10.299Z"
   },
   {
    "duration": 14,
    "start_time": "2021-07-07T18:10:10.305Z"
   },
   {
    "duration": 8,
    "start_time": "2021-07-07T18:10:10.321Z"
   },
   {
    "duration": 8,
    "start_time": "2021-07-07T18:10:10.331Z"
   },
   {
    "duration": 56,
    "start_time": "2021-07-07T18:10:10.341Z"
   },
   {
    "duration": 19,
    "start_time": "2021-07-07T18:10:10.399Z"
   },
   {
    "duration": 23,
    "start_time": "2021-07-07T18:10:10.419Z"
   },
   {
    "duration": 6,
    "start_time": "2021-07-07T18:10:10.444Z"
   },
   {
    "duration": 9,
    "start_time": "2021-07-07T18:10:10.451Z"
   },
   {
    "duration": 30,
    "start_time": "2021-07-07T18:10:10.462Z"
   },
   {
    "duration": 9,
    "start_time": "2021-07-07T18:10:10.494Z"
   },
   {
    "duration": 14,
    "start_time": "2021-07-07T18:10:10.505Z"
   },
   {
    "duration": 7,
    "start_time": "2021-07-07T18:10:10.521Z"
   },
   {
    "duration": 26,
    "start_time": "2021-07-07T18:10:10.530Z"
   },
   {
    "duration": 44,
    "start_time": "2021-07-07T18:10:10.558Z"
   },
   {
    "duration": 7,
    "start_time": "2021-07-07T18:10:10.605Z"
   },
   {
    "duration": 11,
    "start_time": "2021-07-07T18:10:10.614Z"
   },
   {
    "duration": 19,
    "start_time": "2021-07-07T18:10:10.626Z"
   },
   {
    "duration": 44,
    "start_time": "2021-07-07T18:10:10.646Z"
   },
   {
    "duration": 516,
    "start_time": "2021-07-07T18:14:00.826Z"
   },
   {
    "duration": 230,
    "start_time": "2021-07-07T18:14:01.344Z"
   },
   {
    "duration": 105,
    "start_time": "2021-07-07T18:14:01.576Z"
   },
   {
    "duration": 5,
    "start_time": "2021-07-07T18:14:01.683Z"
   },
   {
    "duration": 46,
    "start_time": "2021-07-07T18:14:01.690Z"
   },
   {
    "duration": 7,
    "start_time": "2021-07-07T18:14:01.738Z"
   },
   {
    "duration": 20,
    "start_time": "2021-07-07T18:14:01.747Z"
   },
   {
    "duration": 16,
    "start_time": "2021-07-07T18:14:01.769Z"
   },
   {
    "duration": 14,
    "start_time": "2021-07-07T18:14:01.787Z"
   },
   {
    "duration": 15,
    "start_time": "2021-07-07T18:14:01.803Z"
   },
   {
    "duration": 12,
    "start_time": "2021-07-07T18:14:01.820Z"
   },
   {
    "duration": 35,
    "start_time": "2021-07-07T18:14:01.833Z"
   },
   {
    "duration": 31,
    "start_time": "2021-07-07T18:14:01.869Z"
   },
   {
    "duration": 37,
    "start_time": "2021-07-07T18:14:01.902Z"
   },
   {
    "duration": 8,
    "start_time": "2021-07-07T18:14:01.942Z"
   },
   {
    "duration": 16,
    "start_time": "2021-07-07T18:14:01.952Z"
   },
   {
    "duration": 13,
    "start_time": "2021-07-07T18:14:01.970Z"
   },
   {
    "duration": 32,
    "start_time": "2021-07-07T18:14:01.985Z"
   },
   {
    "duration": 11,
    "start_time": "2021-07-07T18:14:02.019Z"
   },
   {
    "duration": 22,
    "start_time": "2021-07-07T18:14:02.031Z"
   },
   {
    "duration": 27,
    "start_time": "2021-07-07T18:14:02.055Z"
   },
   {
    "duration": 18,
    "start_time": "2021-07-07T18:14:02.084Z"
   },
   {
    "duration": 18,
    "start_time": "2021-07-07T18:14:02.106Z"
   },
   {
    "duration": 11,
    "start_time": "2021-07-07T18:14:02.126Z"
   },
   {
    "duration": 21,
    "start_time": "2021-07-07T18:14:02.138Z"
   },
   {
    "duration": 32,
    "start_time": "2021-07-07T18:14:02.161Z"
   },
   {
    "duration": 28,
    "start_time": "2021-07-07T18:14:44.295Z"
   },
   {
    "duration": 6,
    "start_time": "2021-07-07T18:15:05.834Z"
   },
   {
    "duration": 511,
    "start_time": "2021-07-07T18:15:41.541Z"
   },
   {
    "duration": 183,
    "start_time": "2021-07-07T18:15:42.054Z"
   },
   {
    "duration": 50,
    "start_time": "2021-07-07T18:15:42.239Z"
   },
   {
    "duration": 5,
    "start_time": "2021-07-07T18:15:42.291Z"
   },
   {
    "duration": 48,
    "start_time": "2021-07-07T18:15:42.297Z"
   },
   {
    "duration": 8,
    "start_time": "2021-07-07T18:15:42.346Z"
   },
   {
    "duration": 17,
    "start_time": "2021-07-07T18:15:42.356Z"
   },
   {
    "duration": 15,
    "start_time": "2021-07-07T18:15:42.375Z"
   },
   {
    "duration": 12,
    "start_time": "2021-07-07T18:15:42.392Z"
   },
   {
    "duration": 7,
    "start_time": "2021-07-07T18:15:42.406Z"
   },
   {
    "duration": 7,
    "start_time": "2021-07-07T18:15:42.415Z"
   },
   {
    "duration": 29,
    "start_time": "2021-07-07T18:15:42.423Z"
   },
   {
    "duration": 43,
    "start_time": "2021-07-07T18:15:42.453Z"
   },
   {
    "duration": 18,
    "start_time": "2021-07-07T18:15:42.497Z"
   },
   {
    "duration": 6,
    "start_time": "2021-07-07T18:15:42.516Z"
   },
   {
    "duration": 3,
    "start_time": "2021-07-07T18:15:42.523Z"
   },
   {
    "duration": 18,
    "start_time": "2021-07-07T18:15:42.528Z"
   },
   {
    "duration": 10,
    "start_time": "2021-07-07T18:15:42.547Z"
   },
   {
    "duration": 36,
    "start_time": "2021-07-07T18:15:42.559Z"
   },
   {
    "duration": 8,
    "start_time": "2021-07-07T18:15:42.597Z"
   },
   {
    "duration": 28,
    "start_time": "2021-07-07T18:15:42.606Z"
   },
   {
    "duration": 52,
    "start_time": "2021-07-07T18:15:42.635Z"
   },
   {
    "duration": 7,
    "start_time": "2021-07-07T18:15:42.690Z"
   },
   {
    "duration": 10,
    "start_time": "2021-07-07T18:15:42.699Z"
   },
   {
    "duration": 19,
    "start_time": "2021-07-07T18:15:42.711Z"
   },
   {
    "duration": 9,
    "start_time": "2021-07-07T18:15:42.732Z"
   },
   {
    "duration": 5,
    "start_time": "2021-07-07T18:15:42.743Z"
   },
   {
    "duration": 1450,
    "start_time": "2021-07-07T18:15:51.984Z"
   },
   {
    "duration": 161,
    "start_time": "2021-07-07T18:15:53.435Z"
   },
   {
    "duration": 124,
    "start_time": "2021-07-07T18:15:53.598Z"
   },
   {
    "duration": 5,
    "start_time": "2021-07-07T18:15:53.724Z"
   },
   {
    "duration": 34,
    "start_time": "2021-07-07T18:15:53.730Z"
   },
   {
    "duration": 7,
    "start_time": "2021-07-07T18:15:53.765Z"
   },
   {
    "duration": 15,
    "start_time": "2021-07-07T18:15:53.773Z"
   },
   {
    "duration": 5,
    "start_time": "2021-07-07T18:15:53.791Z"
   },
   {
    "duration": 19,
    "start_time": "2021-07-07T18:15:53.798Z"
   },
   {
    "duration": 9,
    "start_time": "2021-07-07T18:15:53.818Z"
   },
   {
    "duration": 19,
    "start_time": "2021-07-07T18:15:53.828Z"
   },
   {
    "duration": 27,
    "start_time": "2021-07-07T18:15:53.848Z"
   },
   {
    "duration": 16,
    "start_time": "2021-07-07T18:15:53.884Z"
   },
   {
    "duration": 29,
    "start_time": "2021-07-07T18:15:53.901Z"
   },
   {
    "duration": 5,
    "start_time": "2021-07-07T18:15:53.932Z"
   },
   {
    "duration": 15,
    "start_time": "2021-07-07T18:15:53.939Z"
   },
   {
    "duration": 13,
    "start_time": "2021-07-07T18:15:53.956Z"
   },
   {
    "duration": 20,
    "start_time": "2021-07-07T18:15:53.971Z"
   },
   {
    "duration": 14,
    "start_time": "2021-07-07T18:15:53.992Z"
   },
   {
    "duration": 9,
    "start_time": "2021-07-07T18:15:54.009Z"
   },
   {
    "duration": 28,
    "start_time": "2021-07-07T18:15:54.020Z"
   },
   {
    "duration": 50,
    "start_time": "2021-07-07T18:15:54.051Z"
   },
   {
    "duration": 8,
    "start_time": "2021-07-07T18:15:54.105Z"
   },
   {
    "duration": 11,
    "start_time": "2021-07-07T18:15:54.115Z"
   },
   {
    "duration": 20,
    "start_time": "2021-07-07T18:15:54.128Z"
   },
   {
    "duration": 13,
    "start_time": "2021-07-07T18:15:54.184Z"
   },
   {
    "duration": 7,
    "start_time": "2021-07-07T18:15:54.199Z"
   },
   {
    "duration": 7,
    "start_time": "2021-07-07T18:17:08.042Z"
   },
   {
    "duration": 8,
    "start_time": "2021-07-07T18:17:21.008Z"
   },
   {
    "duration": 7,
    "start_time": "2021-07-07T18:17:29.003Z"
   },
   {
    "duration": 8,
    "start_time": "2021-07-07T18:17:32.492Z"
   },
   {
    "duration": 9,
    "start_time": "2021-07-07T18:17:41.758Z"
   },
   {
    "duration": 255,
    "start_time": "2021-07-07T18:20:20.897Z"
   },
   {
    "duration": 173,
    "start_time": "2021-07-07T18:20:26.636Z"
   },
   {
    "duration": 7,
    "start_time": "2021-07-07T18:21:47.164Z"
   },
   {
    "duration": 254,
    "start_time": "2021-07-07T18:23:08.703Z"
   },
   {
    "duration": 21,
    "start_time": "2021-07-07T18:23:22.506Z"
   },
   {
    "duration": 315,
    "start_time": "2021-07-07T18:25:54.801Z"
   },
   {
    "duration": 34,
    "start_time": "2021-07-07T18:26:51.817Z"
   },
   {
    "duration": 327,
    "start_time": "2021-07-07T18:26:56.147Z"
   },
   {
    "duration": 342,
    "start_time": "2021-07-07T18:27:15.887Z"
   },
   {
    "duration": 302,
    "start_time": "2021-07-07T18:28:18.569Z"
   },
   {
    "duration": 226,
    "start_time": "2021-07-07T18:29:20.879Z"
   },
   {
    "duration": 207,
    "start_time": "2021-07-07T18:29:58.114Z"
   },
   {
    "duration": 140,
    "start_time": "2021-07-07T18:32:04.372Z"
   },
   {
    "duration": 158,
    "start_time": "2021-07-07T18:32:32.508Z"
   },
   {
    "duration": 145,
    "start_time": "2021-07-07T18:32:41.365Z"
   },
   {
    "duration": 132,
    "start_time": "2021-07-07T18:32:45.199Z"
   },
   {
    "duration": 11,
    "start_time": "2021-07-07T18:35:24.679Z"
   },
   {
    "duration": 268,
    "start_time": "2021-07-07T18:36:16.145Z"
   },
   {
    "duration": 227,
    "start_time": "2021-07-07T18:37:04.918Z"
   },
   {
    "duration": 3,
    "start_time": "2021-07-07T18:37:33.012Z"
   },
   {
    "duration": 671,
    "start_time": "2021-07-07T18:37:38.295Z"
   },
   {
    "duration": 54,
    "start_time": "2021-07-07T18:37:53.406Z"
   },
   {
    "duration": 631,
    "start_time": "2021-07-07T18:37:56.463Z"
   },
   {
    "duration": 19,
    "start_time": "2021-07-07T18:39:40.535Z"
   },
   {
    "duration": 20,
    "start_time": "2021-07-07T18:40:12.236Z"
   },
   {
    "duration": 633,
    "start_time": "2021-07-07T18:42:00.398Z"
   },
   {
    "duration": 218,
    "start_time": "2021-07-07T18:42:01.033Z"
   },
   {
    "duration": 49,
    "start_time": "2021-07-07T18:42:01.253Z"
   },
   {
    "duration": 5,
    "start_time": "2021-07-07T18:42:01.303Z"
   },
   {
    "duration": 27,
    "start_time": "2021-07-07T18:42:01.310Z"
   },
   {
    "duration": 8,
    "start_time": "2021-07-07T18:42:01.339Z"
   },
   {
    "duration": 20,
    "start_time": "2021-07-07T18:42:01.348Z"
   },
   {
    "duration": 6,
    "start_time": "2021-07-07T18:42:01.386Z"
   },
   {
    "duration": 16,
    "start_time": "2021-07-07T18:42:01.394Z"
   },
   {
    "duration": 9,
    "start_time": "2021-07-07T18:42:01.411Z"
   },
   {
    "duration": 11,
    "start_time": "2021-07-07T18:42:01.421Z"
   },
   {
    "duration": 31,
    "start_time": "2021-07-07T18:42:01.434Z"
   },
   {
    "duration": 18,
    "start_time": "2021-07-07T18:42:01.485Z"
   },
   {
    "duration": 23,
    "start_time": "2021-07-07T18:42:01.505Z"
   },
   {
    "duration": 6,
    "start_time": "2021-07-07T18:42:01.530Z"
   },
   {
    "duration": 10,
    "start_time": "2021-07-07T18:42:01.538Z"
   },
   {
    "duration": 13,
    "start_time": "2021-07-07T18:42:01.550Z"
   },
   {
    "duration": 24,
    "start_time": "2021-07-07T18:42:01.564Z"
   },
   {
    "duration": 20,
    "start_time": "2021-07-07T18:42:01.590Z"
   },
   {
    "duration": 8,
    "start_time": "2021-07-07T18:42:01.611Z"
   },
   {
    "duration": 31,
    "start_time": "2021-07-07T18:42:01.620Z"
   },
   {
    "duration": 39,
    "start_time": "2021-07-07T18:42:01.653Z"
   },
   {
    "duration": 8,
    "start_time": "2021-07-07T18:42:01.696Z"
   },
   {
    "duration": 13,
    "start_time": "2021-07-07T18:42:01.705Z"
   },
   {
    "duration": 20,
    "start_time": "2021-07-07T18:42:01.720Z"
   },
   {
    "duration": 12,
    "start_time": "2021-07-07T18:42:01.741Z"
   },
   {
    "duration": 35,
    "start_time": "2021-07-07T18:42:01.755Z"
   },
   {
    "duration": 14,
    "start_time": "2021-07-07T18:42:01.792Z"
   },
   {
    "duration": 188,
    "start_time": "2021-07-07T18:42:01.808Z"
   },
   {
    "duration": 19,
    "start_time": "2021-07-07T18:42:01.998Z"
   },
   {
    "duration": 175,
    "start_time": "2021-07-07T18:42:02.019Z"
   },
   {
    "duration": 134,
    "start_time": "2021-07-07T18:42:02.196Z"
   },
   {
    "duration": 10,
    "start_time": "2021-07-07T18:42:02.331Z"
   },
   {
    "duration": 19,
    "start_time": "2021-07-07T18:42:02.343Z"
   },
   {
    "duration": 628,
    "start_time": "2021-07-07T18:46:30.701Z"
   },
   {
    "duration": 183,
    "start_time": "2021-07-07T18:46:31.331Z"
   },
   {
    "duration": 48,
    "start_time": "2021-07-07T18:46:31.516Z"
   },
   {
    "duration": 5,
    "start_time": "2021-07-07T18:46:31.566Z"
   },
   {
    "duration": 28,
    "start_time": "2021-07-07T18:46:31.572Z"
   },
   {
    "duration": 8,
    "start_time": "2021-07-07T18:46:31.602Z"
   },
   {
    "duration": 19,
    "start_time": "2021-07-07T18:46:31.611Z"
   },
   {
    "duration": 6,
    "start_time": "2021-07-07T18:46:31.633Z"
   },
   {
    "duration": 17,
    "start_time": "2021-07-07T18:46:31.642Z"
   },
   {
    "duration": 10,
    "start_time": "2021-07-07T18:46:31.684Z"
   },
   {
    "duration": 9,
    "start_time": "2021-07-07T18:46:31.695Z"
   },
   {
    "duration": 28,
    "start_time": "2021-07-07T18:46:31.705Z"
   },
   {
    "duration": 18,
    "start_time": "2021-07-07T18:46:31.735Z"
   },
   {
    "duration": 48,
    "start_time": "2021-07-07T18:46:31.755Z"
   },
   {
    "duration": 6,
    "start_time": "2021-07-07T18:46:31.804Z"
   },
   {
    "duration": 4,
    "start_time": "2021-07-07T18:46:31.812Z"
   },
   {
    "duration": 9,
    "start_time": "2021-07-07T18:46:31.817Z"
   },
   {
    "duration": 10,
    "start_time": "2021-07-07T18:46:31.827Z"
   },
   {
    "duration": 12,
    "start_time": "2021-07-07T18:46:31.838Z"
   },
   {
    "duration": 39,
    "start_time": "2021-07-07T18:46:31.851Z"
   },
   {
    "duration": 24,
    "start_time": "2021-07-07T18:46:31.892Z"
   },
   {
    "duration": 15,
    "start_time": "2021-07-07T18:46:31.918Z"
   },
   {
    "duration": 7,
    "start_time": "2021-07-07T18:46:31.936Z"
   },
   {
    "duration": 8,
    "start_time": "2021-07-07T18:46:31.944Z"
   },
   {
    "duration": 19,
    "start_time": "2021-07-07T18:46:31.984Z"
   },
   {
    "duration": 10,
    "start_time": "2021-07-07T18:46:32.004Z"
   },
   {
    "duration": 5,
    "start_time": "2021-07-07T18:46:32.016Z"
   },
   {
    "duration": 9,
    "start_time": "2021-07-07T18:46:32.023Z"
   },
   {
    "duration": 199,
    "start_time": "2021-07-07T18:46:32.033Z"
   },
   {
    "duration": 19,
    "start_time": "2021-07-07T18:46:32.234Z"
   },
   {
    "duration": 159,
    "start_time": "2021-07-07T18:46:32.255Z"
   },
   {
    "duration": 134,
    "start_time": "2021-07-07T18:46:32.416Z"
   },
   {
    "duration": 10,
    "start_time": "2021-07-07T18:46:32.552Z"
   },
   {
    "duration": 34,
    "start_time": "2021-07-07T18:46:32.563Z"
   },
   {
    "duration": 1039,
    "start_time": "2021-07-08T08:41:09.419Z"
   },
   {
    "duration": 333,
    "start_time": "2021-07-08T08:41:10.459Z"
   },
   {
    "duration": 173,
    "start_time": "2021-07-08T08:41:10.794Z"
   },
   {
    "duration": 5,
    "start_time": "2021-07-08T08:41:10.968Z"
   },
   {
    "duration": 25,
    "start_time": "2021-07-08T08:41:10.975Z"
   },
   {
    "duration": 9,
    "start_time": "2021-07-08T08:41:11.002Z"
   },
   {
    "duration": 18,
    "start_time": "2021-07-08T08:41:11.013Z"
   },
   {
    "duration": 6,
    "start_time": "2021-07-08T08:41:11.033Z"
   },
   {
    "duration": 44,
    "start_time": "2021-07-08T08:41:11.042Z"
   },
   {
    "duration": 10,
    "start_time": "2021-07-08T08:41:11.088Z"
   },
   {
    "duration": 9,
    "start_time": "2021-07-08T08:41:11.100Z"
   },
   {
    "duration": 27,
    "start_time": "2021-07-08T08:41:11.111Z"
   },
   {
    "duration": 46,
    "start_time": "2021-07-08T08:41:11.140Z"
   },
   {
    "duration": 17,
    "start_time": "2021-07-08T08:41:11.187Z"
   },
   {
    "duration": 6,
    "start_time": "2021-07-08T08:41:11.206Z"
   },
   {
    "duration": 5,
    "start_time": "2021-07-08T08:41:11.213Z"
   },
   {
    "duration": 10,
    "start_time": "2021-07-08T08:41:11.219Z"
   },
   {
    "duration": 9,
    "start_time": "2021-07-08T08:41:11.230Z"
   },
   {
    "duration": 45,
    "start_time": "2021-07-08T08:41:11.241Z"
   },
   {
    "duration": 7,
    "start_time": "2021-07-08T08:41:11.287Z"
   },
   {
    "duration": 24,
    "start_time": "2021-07-08T08:41:11.296Z"
   },
   {
    "duration": 16,
    "start_time": "2021-07-08T08:41:11.322Z"
   },
   {
    "duration": 7,
    "start_time": "2021-07-08T08:41:11.341Z"
   },
   {
    "duration": 41,
    "start_time": "2021-07-08T08:41:11.349Z"
   },
   {
    "duration": 17,
    "start_time": "2021-07-08T08:41:11.391Z"
   },
   {
    "duration": 9,
    "start_time": "2021-07-08T08:41:11.410Z"
   },
   {
    "duration": 5,
    "start_time": "2021-07-08T08:41:11.421Z"
   },
   {
    "duration": 6,
    "start_time": "2021-07-08T08:41:11.428Z"
   },
   {
    "duration": 198,
    "start_time": "2021-07-08T08:41:11.435Z"
   },
   {
    "duration": 18,
    "start_time": "2021-07-08T08:41:11.635Z"
   },
   {
    "duration": 155,
    "start_time": "2021-07-08T08:41:11.655Z"
   },
   {
    "duration": 138,
    "start_time": "2021-07-08T08:41:11.811Z"
   },
   {
    "duration": 10,
    "start_time": "2021-07-08T08:41:11.950Z"
   },
   {
    "duration": 29,
    "start_time": "2021-07-08T08:41:11.961Z"
   },
   {
    "duration": 171,
    "start_time": "2021-07-08T08:47:44.522Z"
   },
   {
    "duration": 124,
    "start_time": "2021-07-08T08:47:46.872Z"
   },
   {
    "duration": 191,
    "start_time": "2021-07-08T08:47:58.148Z"
   },
   {
    "duration": 191,
    "start_time": "2021-07-08T08:48:07.412Z"
   },
   {
    "duration": 261,
    "start_time": "2021-07-08T08:48:10.385Z"
   },
   {
    "duration": 255,
    "start_time": "2021-07-08T08:48:14.494Z"
   },
   {
    "duration": 219,
    "start_time": "2021-07-08T08:48:22.752Z"
   },
   {
    "duration": 173,
    "start_time": "2021-07-08T08:49:06.395Z"
   },
   {
    "duration": 180,
    "start_time": "2021-07-08T08:49:21.011Z"
   },
   {
    "duration": 6,
    "start_time": "2021-07-08T08:50:31.697Z"
   },
   {
    "duration": 10,
    "start_time": "2021-07-08T08:50:47.394Z"
   },
   {
    "duration": 11,
    "start_time": "2021-07-08T08:53:49.332Z"
   },
   {
    "duration": 171,
    "start_time": "2021-07-08T08:54:28.408Z"
   },
   {
    "duration": 636,
    "start_time": "2021-07-08T09:02:48.385Z"
   },
   {
    "duration": 227,
    "start_time": "2021-07-08T09:02:49.023Z"
   },
   {
    "duration": 104,
    "start_time": "2021-07-08T09:02:49.252Z"
   },
   {
    "duration": 5,
    "start_time": "2021-07-08T09:02:49.358Z"
   },
   {
    "duration": 27,
    "start_time": "2021-07-08T09:02:49.365Z"
   },
   {
    "duration": 8,
    "start_time": "2021-07-08T09:02:49.394Z"
   },
   {
    "duration": 18,
    "start_time": "2021-07-08T09:02:49.404Z"
   },
   {
    "duration": 6,
    "start_time": "2021-07-08T09:02:49.424Z"
   },
   {
    "duration": 11,
    "start_time": "2021-07-08T09:02:49.433Z"
   },
   {
    "duration": 13,
    "start_time": "2021-07-08T09:02:49.485Z"
   },
   {
    "duration": 9,
    "start_time": "2021-07-08T09:02:49.500Z"
   },
   {
    "duration": 38,
    "start_time": "2021-07-08T09:02:49.511Z"
   },
   {
    "duration": 42,
    "start_time": "2021-07-08T09:02:49.551Z"
   },
   {
    "duration": 21,
    "start_time": "2021-07-08T09:02:49.594Z"
   },
   {
    "duration": 6,
    "start_time": "2021-07-08T09:02:49.616Z"
   },
   {
    "duration": 3,
    "start_time": "2021-07-08T09:02:49.623Z"
   },
   {
    "duration": 9,
    "start_time": "2021-07-08T09:02:49.628Z"
   },
   {
    "duration": 52,
    "start_time": "2021-07-08T09:02:49.638Z"
   },
   {
    "duration": 11,
    "start_time": "2021-07-08T09:02:49.692Z"
   },
   {
    "duration": 8,
    "start_time": "2021-07-08T09:02:49.704Z"
   },
   {
    "duration": 27,
    "start_time": "2021-07-08T09:02:49.713Z"
   },
   {
    "duration": 59,
    "start_time": "2021-07-08T09:02:49.741Z"
   },
   {
    "duration": 8,
    "start_time": "2021-07-08T09:02:49.803Z"
   },
   {
    "duration": 14,
    "start_time": "2021-07-08T09:02:49.813Z"
   },
   {
    "duration": 20,
    "start_time": "2021-07-08T09:02:49.829Z"
   },
   {
    "duration": 44,
    "start_time": "2021-07-08T09:02:49.851Z"
   },
   {
    "duration": 14,
    "start_time": "2021-07-08T09:02:49.896Z"
   },
   {
    "duration": 221,
    "start_time": "2021-07-08T09:02:49.912Z"
   },
   {
    "duration": 6,
    "start_time": "2021-07-08T09:02:50.134Z"
   },
   {
    "duration": 206,
    "start_time": "2021-07-08T09:02:50.142Z"
   },
   {
    "duration": 19,
    "start_time": "2021-07-08T09:02:50.350Z"
   },
   {
    "duration": 21,
    "start_time": "2021-07-08T09:02:50.370Z"
   },
   {
    "duration": 20,
    "start_time": "2021-07-08T09:02:50.393Z"
   },
   {
    "duration": 5,
    "start_time": "2021-07-08T09:02:50.414Z"
   },
   {
    "duration": 5,
    "start_time": "2021-07-08T09:03:34.173Z"
   },
   {
    "duration": 6,
    "start_time": "2021-07-08T09:04:49.062Z"
   },
   {
    "duration": 9,
    "start_time": "2021-07-08T09:04:50.118Z"
   },
   {
    "duration": 14,
    "start_time": "2021-07-08T09:04:58.512Z"
   },
   {
    "duration": 9,
    "start_time": "2021-07-08T09:05:10.988Z"
   },
   {
    "duration": 11,
    "start_time": "2021-07-08T09:05:11.743Z"
   },
   {
    "duration": 7,
    "start_time": "2021-07-08T09:05:25.677Z"
   },
   {
    "duration": 13,
    "start_time": "2021-07-08T09:05:47.189Z"
   },
   {
    "duration": 13,
    "start_time": "2021-07-08T09:05:54.755Z"
   },
   {
    "duration": 4,
    "start_time": "2021-07-08T09:06:29.189Z"
   },
   {
    "duration": 244,
    "start_time": "2021-07-08T09:06:29.195Z"
   },
   {
    "duration": 91,
    "start_time": "2021-07-08T09:06:29.441Z"
   },
   {
    "duration": 4,
    "start_time": "2021-07-08T09:06:29.534Z"
   },
   {
    "duration": 28,
    "start_time": "2021-07-08T09:06:29.540Z"
   },
   {
    "duration": 6,
    "start_time": "2021-07-08T09:06:29.570Z"
   },
   {
    "duration": 18,
    "start_time": "2021-07-08T09:06:29.578Z"
   },
   {
    "duration": 5,
    "start_time": "2021-07-08T09:06:29.597Z"
   },
   {
    "duration": 13,
    "start_time": "2021-07-08T09:06:29.605Z"
   },
   {
    "duration": 8,
    "start_time": "2021-07-08T09:06:29.620Z"
   },
   {
    "duration": 7,
    "start_time": "2021-07-08T09:06:29.630Z"
   },
   {
    "duration": 63,
    "start_time": "2021-07-08T09:06:29.639Z"
   },
   {
    "duration": 17,
    "start_time": "2021-07-08T09:06:29.704Z"
   },
   {
    "duration": 20,
    "start_time": "2021-07-08T09:06:29.723Z"
   },
   {
    "duration": 6,
    "start_time": "2021-07-08T09:06:29.745Z"
   },
   {
    "duration": 3,
    "start_time": "2021-07-08T09:06:29.752Z"
   },
   {
    "duration": 7,
    "start_time": "2021-07-08T09:06:29.785Z"
   },
   {
    "duration": 11,
    "start_time": "2021-07-08T09:06:29.794Z"
   },
   {
    "duration": 15,
    "start_time": "2021-07-08T09:06:29.807Z"
   },
   {
    "duration": 8,
    "start_time": "2021-07-08T09:06:29.823Z"
   },
   {
    "duration": 70,
    "start_time": "2021-07-08T09:06:29.832Z"
   },
   {
    "duration": 17,
    "start_time": "2021-07-08T09:06:29.903Z"
   },
   {
    "duration": 9,
    "start_time": "2021-07-08T09:06:29.921Z"
   },
   {
    "duration": 9,
    "start_time": "2021-07-08T09:06:29.932Z"
   },
   {
    "duration": 57,
    "start_time": "2021-07-08T09:06:29.942Z"
   },
   {
    "duration": 11,
    "start_time": "2021-07-08T09:06:30.001Z"
   },
   {
    "duration": 19,
    "start_time": "2021-07-08T09:06:30.016Z"
   },
   {
    "duration": 217,
    "start_time": "2021-07-08T09:06:30.037Z"
   },
   {
    "duration": 6,
    "start_time": "2021-07-08T09:06:30.255Z"
   },
   {
    "duration": 205,
    "start_time": "2021-07-08T09:06:30.263Z"
   },
   {
    "duration": 27,
    "start_time": "2021-07-08T09:06:30.470Z"
   },
   {
    "duration": 11,
    "start_time": "2021-07-08T09:06:30.500Z"
   },
   {
    "duration": 31,
    "start_time": "2021-07-08T09:06:30.513Z"
   },
   {
    "duration": 18,
    "start_time": "2021-07-08T09:06:30.546Z"
   },
   {
    "duration": 11,
    "start_time": "2021-07-08T09:06:30.566Z"
   },
   {
    "duration": 19,
    "start_time": "2021-07-08T09:06:30.579Z"
   },
   {
    "duration": 20,
    "start_time": "2021-07-08T09:06:49.466Z"
   },
   {
    "duration": 9,
    "start_time": "2021-07-08T09:06:51.994Z"
   },
   {
    "duration": 20,
    "start_time": "2021-07-08T09:06:52.273Z"
   },
   {
    "duration": 246,
    "start_time": "2021-07-08T09:10:21.272Z"
   },
   {
    "duration": 84,
    "start_time": "2021-07-08T09:10:21.436Z"
   },
   {
    "duration": 7,
    "start_time": "2021-07-08T09:10:37.608Z"
   },
   {
    "duration": 189,
    "start_time": "2021-07-08T09:10:38.573Z"
   },
   {
    "duration": 185,
    "start_time": "2021-07-08T09:10:53.181Z"
   },
   {
    "duration": 11,
    "start_time": "2021-07-08T09:10:59.549Z"
   },
   {
    "duration": 42,
    "start_time": "2021-07-08T09:10:59.709Z"
   },
   {
    "duration": 12,
    "start_time": "2021-07-08T09:11:02.857Z"
   },
   {
    "duration": 28,
    "start_time": "2021-07-08T09:11:10.062Z"
   },
   {
    "duration": 249,
    "start_time": "2021-07-08T09:11:37.388Z"
   },
   {
    "duration": 232,
    "start_time": "2021-07-08T09:11:49.485Z"
   },
   {
    "duration": 453,
    "start_time": "2021-07-08T09:12:01.546Z"
   },
   {
    "duration": 440,
    "start_time": "2021-07-08T09:12:12.347Z"
   },
   {
    "duration": 213,
    "start_time": "2021-07-08T09:13:32.196Z"
   },
   {
    "duration": 172,
    "start_time": "2021-07-08T09:14:07.400Z"
   },
   {
    "duration": 185,
    "start_time": "2021-07-08T09:14:14.905Z"
   },
   {
    "duration": 209,
    "start_time": "2021-07-08T09:14:40.109Z"
   },
   {
    "duration": 201,
    "start_time": "2021-07-08T09:14:54.506Z"
   },
   {
    "duration": 622,
    "start_time": "2021-07-08T09:18:14.497Z"
   },
   {
    "duration": 220,
    "start_time": "2021-07-08T09:18:15.121Z"
   },
   {
    "duration": 79,
    "start_time": "2021-07-08T09:18:15.343Z"
   },
   {
    "duration": 4,
    "start_time": "2021-07-08T09:18:15.425Z"
   },
   {
    "duration": 24,
    "start_time": "2021-07-08T09:18:15.431Z"
   },
   {
    "duration": 8,
    "start_time": "2021-07-08T09:18:15.457Z"
   },
   {
    "duration": 16,
    "start_time": "2021-07-08T09:18:15.466Z"
   },
   {
    "duration": 5,
    "start_time": "2021-07-08T09:18:15.484Z"
   },
   {
    "duration": 10,
    "start_time": "2021-07-08T09:18:15.493Z"
   },
   {
    "duration": 8,
    "start_time": "2021-07-08T09:18:15.504Z"
   },
   {
    "duration": 7,
    "start_time": "2021-07-08T09:18:15.513Z"
   },
   {
    "duration": 26,
    "start_time": "2021-07-08T09:18:15.522Z"
   },
   {
    "duration": 49,
    "start_time": "2021-07-08T09:18:15.550Z"
   },
   {
    "duration": 21,
    "start_time": "2021-07-08T09:18:15.601Z"
   },
   {
    "duration": 8,
    "start_time": "2021-07-08T09:18:15.624Z"
   },
   {
    "duration": 3,
    "start_time": "2021-07-08T09:18:15.634Z"
   },
   {
    "duration": 8,
    "start_time": "2021-07-08T09:18:15.639Z"
   },
   {
    "duration": 45,
    "start_time": "2021-07-08T09:18:15.649Z"
   },
   {
    "duration": 13,
    "start_time": "2021-07-08T09:18:15.696Z"
   },
   {
    "duration": 10,
    "start_time": "2021-07-08T09:18:15.711Z"
   },
   {
    "duration": 64,
    "start_time": "2021-07-08T09:18:15.722Z"
   },
   {
    "duration": 19,
    "start_time": "2021-07-08T09:18:15.788Z"
   },
   {
    "duration": 9,
    "start_time": "2021-07-08T09:18:15.809Z"
   },
   {
    "duration": 9,
    "start_time": "2021-07-08T09:18:15.820Z"
   },
   {
    "duration": 18,
    "start_time": "2021-07-08T09:18:15.831Z"
   },
   {
    "duration": 43,
    "start_time": "2021-07-08T09:18:15.851Z"
   },
   {
    "duration": 12,
    "start_time": "2021-07-08T09:18:15.897Z"
   },
   {
    "duration": 219,
    "start_time": "2021-07-08T09:18:15.911Z"
   },
   {
    "duration": 8,
    "start_time": "2021-07-08T09:18:16.132Z"
   },
   {
    "duration": 199,
    "start_time": "2021-07-08T09:18:16.141Z"
   },
   {
    "duration": 18,
    "start_time": "2021-07-08T09:18:16.341Z"
   },
   {
    "duration": 24,
    "start_time": "2021-07-08T09:18:16.361Z"
   },
   {
    "duration": 24,
    "start_time": "2021-07-08T09:18:16.387Z"
   },
   {
    "duration": 211,
    "start_time": "2021-07-08T09:18:16.413Z"
   },
   {
    "duration": 18,
    "start_time": "2021-07-08T09:18:16.626Z"
   },
   {
    "duration": 596,
    "start_time": "2021-07-08T10:06:33.623Z"
   },
   {
    "duration": 181,
    "start_time": "2021-07-08T10:06:34.221Z"
   },
   {
    "duration": 176,
    "start_time": "2021-07-08T10:06:34.635Z"
   },
   {
    "duration": 239,
    "start_time": "2021-07-08T10:06:55.572Z"
   },
   {
    "duration": 6,
    "start_time": "2021-07-08T10:06:57.687Z"
   },
   {
    "duration": 4,
    "start_time": "2021-07-08T10:07:03.956Z"
   },
   {
    "duration": 4,
    "start_time": "2021-07-08T10:07:10.376Z"
   },
   {
    "duration": 4,
    "start_time": "2021-07-08T10:17:19.889Z"
   },
   {
    "duration": 3,
    "start_time": "2021-07-08T10:19:19.407Z"
   },
   {
    "duration": 197,
    "start_time": "2021-07-08T10:19:19.412Z"
   },
   {
    "duration": 127,
    "start_time": "2021-07-08T10:19:19.611Z"
   },
   {
    "duration": 4,
    "start_time": "2021-07-08T10:19:19.740Z"
   },
   {
    "duration": 27,
    "start_time": "2021-07-08T10:19:19.746Z"
   },
   {
    "duration": 7,
    "start_time": "2021-07-08T10:19:19.775Z"
   },
   {
    "duration": 30,
    "start_time": "2021-07-08T10:19:19.784Z"
   },
   {
    "duration": 7,
    "start_time": "2021-07-08T10:19:19.817Z"
   },
   {
    "duration": 26,
    "start_time": "2021-07-08T10:19:19.826Z"
   },
   {
    "duration": 18,
    "start_time": "2021-07-08T10:19:19.854Z"
   },
   {
    "duration": 14,
    "start_time": "2021-07-08T10:19:19.874Z"
   },
   {
    "duration": 48,
    "start_time": "2021-07-08T10:19:19.890Z"
   },
   {
    "duration": 17,
    "start_time": "2021-07-08T10:19:19.940Z"
   },
   {
    "duration": 38,
    "start_time": "2021-07-08T10:19:19.959Z"
   },
   {
    "duration": 8,
    "start_time": "2021-07-08T10:19:19.999Z"
   },
   {
    "duration": 15,
    "start_time": "2021-07-08T10:19:20.009Z"
   },
   {
    "duration": 22,
    "start_time": "2021-07-08T10:19:20.026Z"
   },
   {
    "duration": 10,
    "start_time": "2021-07-08T10:19:20.050Z"
   },
   {
    "duration": 10,
    "start_time": "2021-07-08T10:19:20.062Z"
   },
   {
    "duration": 20,
    "start_time": "2021-07-08T10:19:20.073Z"
   },
   {
    "duration": 29,
    "start_time": "2021-07-08T10:19:20.095Z"
   },
   {
    "duration": 17,
    "start_time": "2021-07-08T10:19:20.126Z"
   },
   {
    "duration": 40,
    "start_time": "2021-07-08T10:19:20.146Z"
   },
   {
    "duration": 15,
    "start_time": "2021-07-08T10:19:20.189Z"
   },
   {
    "duration": 19,
    "start_time": "2021-07-08T10:19:20.206Z"
   },
   {
    "duration": 10,
    "start_time": "2021-07-08T10:19:20.226Z"
   },
   {
    "duration": 11,
    "start_time": "2021-07-08T10:19:20.238Z"
   },
   {
    "duration": 297,
    "start_time": "2021-07-08T10:19:20.250Z"
   },
   {
    "duration": 6,
    "start_time": "2021-07-08T10:19:20.549Z"
   },
   {
    "duration": 191,
    "start_time": "2021-07-08T10:19:20.557Z"
   },
   {
    "duration": 19,
    "start_time": "2021-07-08T10:19:20.750Z"
   },
   {
    "duration": 20,
    "start_time": "2021-07-08T10:19:20.771Z"
   },
   {
    "duration": 15,
    "start_time": "2021-07-08T10:19:20.793Z"
   },
   {
    "duration": 222,
    "start_time": "2021-07-08T10:19:20.809Z"
   },
   {
    "duration": 20,
    "start_time": "2021-07-08T10:19:21.033Z"
   },
   {
    "duration": 27,
    "start_time": "2021-07-08T10:45:04.055Z"
   },
   {
    "duration": 8,
    "start_time": "2021-07-08T10:45:08.478Z"
   },
   {
    "duration": 8,
    "start_time": "2021-07-08T10:45:31.982Z"
   },
   {
    "duration": 10,
    "start_time": "2021-07-08T10:46:01.221Z"
   },
   {
    "duration": 17,
    "start_time": "2021-07-08T10:46:40.011Z"
   },
   {
    "duration": 193,
    "start_time": "2021-07-08T10:48:19.471Z"
   },
   {
    "duration": 225,
    "start_time": "2021-07-08T10:49:26.480Z"
   },
   {
    "duration": 204,
    "start_time": "2021-07-08T10:49:59.992Z"
   },
   {
    "duration": 435,
    "start_time": "2021-07-08T10:50:06.779Z"
   },
   {
    "duration": 199,
    "start_time": "2021-07-08T10:50:14.891Z"
   },
   {
    "duration": 204,
    "start_time": "2021-07-08T10:50:18.501Z"
   },
   {
    "duration": 244,
    "start_time": "2021-07-08T10:50:23.359Z"
   },
   {
    "duration": 192,
    "start_time": "2021-07-08T10:50:29.135Z"
   },
   {
    "duration": 218,
    "start_time": "2021-07-08T10:50:33.092Z"
   },
   {
    "duration": 207,
    "start_time": "2021-07-08T10:52:45.381Z"
   },
   {
    "duration": 5,
    "start_time": "2021-07-08T10:53:34.641Z"
   },
   {
    "duration": 196,
    "start_time": "2021-07-08T10:53:41.478Z"
   },
   {
    "duration": 43,
    "start_time": "2021-07-08T10:53:50.335Z"
   },
   {
    "duration": 32,
    "start_time": "2021-07-08T10:53:55.294Z"
   },
   {
    "duration": 55,
    "start_time": "2021-07-08T10:54:09.675Z"
   },
   {
    "duration": 16,
    "start_time": "2021-07-08T10:54:12.260Z"
   },
   {
    "duration": 15,
    "start_time": "2021-07-08T10:54:49.150Z"
   },
   {
    "duration": 20,
    "start_time": "2021-07-08T10:56:07.596Z"
   },
   {
    "duration": 16,
    "start_time": "2021-07-08T10:58:26.276Z"
   },
   {
    "duration": 22,
    "start_time": "2021-07-08T10:59:00.486Z"
   },
   {
    "duration": 18,
    "start_time": "2021-07-08T11:02:09.653Z"
   },
   {
    "duration": 10,
    "start_time": "2021-07-08T11:03:44.331Z"
   },
   {
    "duration": 10,
    "start_time": "2021-07-08T11:03:54.055Z"
   },
   {
    "duration": 12,
    "start_time": "2021-07-08T11:04:41.967Z"
   },
   {
    "duration": 24,
    "start_time": "2021-07-08T11:07:30.732Z"
   },
   {
    "duration": 6,
    "start_time": "2021-07-08T11:07:37.364Z"
   },
   {
    "duration": 16,
    "start_time": "2021-07-08T11:08:01.819Z"
   },
   {
    "duration": 17,
    "start_time": "2021-07-08T11:09:47.488Z"
   },
   {
    "duration": 246,
    "start_time": "2021-07-08T11:10:00.830Z"
   },
   {
    "duration": 18,
    "start_time": "2021-07-08T11:13:55.195Z"
   },
   {
    "duration": 204,
    "start_time": "2021-07-08T11:14:04.951Z"
   },
   {
    "duration": 19,
    "start_time": "2021-07-08T11:15:10.613Z"
   },
   {
    "duration": 680,
    "start_time": "2021-07-08T11:16:25.793Z"
   },
   {
    "duration": 451,
    "start_time": "2021-07-08T11:16:40.313Z"
   },
   {
    "duration": 469,
    "start_time": "2021-07-08T11:17:21.286Z"
   },
   {
    "duration": 20,
    "start_time": "2021-07-08T11:19:12.554Z"
   },
   {
    "duration": 35,
    "start_time": "2021-07-08T11:20:05.484Z"
   },
   {
    "duration": 53,
    "start_time": "2021-07-08T11:21:40.050Z"
   },
   {
    "duration": 13,
    "start_time": "2021-07-08T11:22:26.059Z"
   },
   {
    "duration": 19,
    "start_time": "2021-07-08T11:22:47.419Z"
   },
   {
    "duration": 25,
    "start_time": "2021-07-08T11:23:19.958Z"
   },
   {
    "duration": 29,
    "start_time": "2021-07-08T11:23:25.415Z"
   },
   {
    "duration": 10,
    "start_time": "2021-07-08T11:24:45.138Z"
   },
   {
    "duration": 19,
    "start_time": "2021-07-08T11:24:54.498Z"
   },
   {
    "duration": 12,
    "start_time": "2021-07-08T11:25:32.225Z"
   },
   {
    "duration": 19,
    "start_time": "2021-07-08T11:25:37.092Z"
   },
   {
    "duration": 17,
    "start_time": "2021-07-08T11:25:58.116Z"
   },
   {
    "duration": 15,
    "start_time": "2021-07-08T11:26:02.258Z"
   },
   {
    "duration": 8,
    "start_time": "2021-07-08T11:26:59.682Z"
   },
   {
    "duration": 184,
    "start_time": "2021-07-08T11:27:21.894Z"
   },
   {
    "duration": 8,
    "start_time": "2021-07-08T11:27:23.824Z"
   },
   {
    "duration": 202,
    "start_time": "2021-07-08T11:27:23.962Z"
   },
   {
    "duration": 360,
    "start_time": "2021-07-08T11:28:33.215Z"
   },
   {
    "duration": 231,
    "start_time": "2021-07-08T11:32:05.542Z"
   },
   {
    "duration": 607,
    "start_time": "2021-07-08T11:36:27.854Z"
   },
   {
    "duration": 241,
    "start_time": "2021-07-08T11:36:28.463Z"
   },
   {
    "duration": 67,
    "start_time": "2021-07-08T11:36:28.709Z"
   },
   {
    "duration": 5,
    "start_time": "2021-07-08T11:36:28.778Z"
   },
   {
    "duration": 32,
    "start_time": "2021-07-08T11:36:28.784Z"
   },
   {
    "duration": 11,
    "start_time": "2021-07-08T11:36:28.819Z"
   },
   {
    "duration": 20,
    "start_time": "2021-07-08T11:36:28.834Z"
   },
   {
    "duration": 36,
    "start_time": "2021-07-08T11:36:28.857Z"
   },
   {
    "duration": 16,
    "start_time": "2021-07-08T11:36:28.895Z"
   },
   {
    "duration": 14,
    "start_time": "2021-07-08T11:36:28.913Z"
   },
   {
    "duration": 9,
    "start_time": "2021-07-08T11:36:28.930Z"
   },
   {
    "duration": 55,
    "start_time": "2021-07-08T11:36:28.941Z"
   },
   {
    "duration": 27,
    "start_time": "2021-07-08T11:36:28.999Z"
   },
   {
    "duration": 30,
    "start_time": "2021-07-08T11:36:29.028Z"
   },
   {
    "duration": 31,
    "start_time": "2021-07-08T11:36:29.060Z"
   },
   {
    "duration": 3,
    "start_time": "2021-07-08T11:36:29.093Z"
   },
   {
    "duration": 12,
    "start_time": "2021-07-08T11:36:29.099Z"
   },
   {
    "duration": 11,
    "start_time": "2021-07-08T11:36:29.112Z"
   },
   {
    "duration": 12,
    "start_time": "2021-07-08T11:36:29.125Z"
   },
   {
    "duration": 9,
    "start_time": "2021-07-08T11:36:29.139Z"
   },
   {
    "duration": 31,
    "start_time": "2021-07-08T11:36:29.191Z"
   },
   {
    "duration": 17,
    "start_time": "2021-07-08T11:36:29.226Z"
   },
   {
    "duration": 7,
    "start_time": "2021-07-08T11:36:29.245Z"
   },
   {
    "duration": 10,
    "start_time": "2021-07-08T11:36:29.254Z"
   },
   {
    "duration": 30,
    "start_time": "2021-07-08T11:36:29.292Z"
   },
   {
    "duration": 11,
    "start_time": "2021-07-08T11:36:29.324Z"
   },
   {
    "duration": 11,
    "start_time": "2021-07-08T11:36:29.337Z"
   },
   {
    "duration": 230,
    "start_time": "2021-07-08T11:36:29.349Z"
   },
   {
    "duration": 13,
    "start_time": "2021-07-08T11:36:29.588Z"
   },
   {
    "duration": 205,
    "start_time": "2021-07-08T11:36:29.603Z"
   },
   {
    "duration": 20,
    "start_time": "2021-07-08T11:36:29.810Z"
   },
   {
    "duration": 9,
    "start_time": "2021-07-08T11:36:29.832Z"
   },
   {
    "duration": 16,
    "start_time": "2021-07-08T11:36:29.843Z"
   },
   {
    "duration": 283,
    "start_time": "2021-07-08T11:36:29.861Z"
   },
   {
    "duration": 50,
    "start_time": "2021-07-08T11:36:30.146Z"
   },
   {
    "duration": 14,
    "start_time": "2021-07-08T11:36:30.198Z"
   },
   {
    "duration": 11,
    "start_time": "2021-07-08T11:36:30.214Z"
   },
   {
    "duration": 245,
    "start_time": "2021-07-08T11:36:30.227Z"
   },
   {
    "duration": 439,
    "start_time": "2021-07-08T11:36:30.474Z"
   },
   {
    "duration": 210,
    "start_time": "2021-07-08T11:36:30.915Z"
   },
   {
    "duration": 15,
    "start_time": "2021-07-08T11:36:31.127Z"
   },
   {
    "duration": 17,
    "start_time": "2021-07-08T11:38:20.451Z"
   },
   {
    "duration": 642,
    "start_time": "2021-07-08T11:46:17.881Z"
   },
   {
    "duration": 210,
    "start_time": "2021-07-08T11:46:18.525Z"
   },
   {
    "duration": 104,
    "start_time": "2021-07-08T11:46:18.741Z"
   },
   {
    "duration": 8,
    "start_time": "2021-07-08T11:46:18.847Z"
   },
   {
    "duration": 25,
    "start_time": "2021-07-08T11:46:18.857Z"
   },
   {
    "duration": 14,
    "start_time": "2021-07-08T11:46:18.884Z"
   },
   {
    "duration": 22,
    "start_time": "2021-07-08T11:46:18.900Z"
   },
   {
    "duration": 5,
    "start_time": "2021-07-08T11:46:18.924Z"
   },
   {
    "duration": 13,
    "start_time": "2021-07-08T11:46:18.931Z"
   },
   {
    "duration": 45,
    "start_time": "2021-07-08T11:46:18.946Z"
   },
   {
    "duration": 12,
    "start_time": "2021-07-08T11:46:18.993Z"
   },
   {
    "duration": 38,
    "start_time": "2021-07-08T11:46:19.006Z"
   },
   {
    "duration": 50,
    "start_time": "2021-07-08T11:46:19.046Z"
   },
   {
    "duration": 29,
    "start_time": "2021-07-08T11:46:19.099Z"
   },
   {
    "duration": 7,
    "start_time": "2021-07-08T11:46:19.130Z"
   },
   {
    "duration": 3,
    "start_time": "2021-07-08T11:46:19.139Z"
   },
   {
    "duration": 11,
    "start_time": "2021-07-08T11:46:19.144Z"
   },
   {
    "duration": 40,
    "start_time": "2021-07-08T11:46:19.157Z"
   },
   {
    "duration": 15,
    "start_time": "2021-07-08T11:46:19.199Z"
   },
   {
    "duration": 10,
    "start_time": "2021-07-08T11:46:19.217Z"
   },
   {
    "duration": 68,
    "start_time": "2021-07-08T11:46:19.230Z"
   },
   {
    "duration": 17,
    "start_time": "2021-07-08T11:46:19.301Z"
   },
   {
    "duration": 7,
    "start_time": "2021-07-08T11:46:19.321Z"
   },
   {
    "duration": 11,
    "start_time": "2021-07-08T11:46:19.330Z"
   },
   {
    "duration": 59,
    "start_time": "2021-07-08T11:46:19.343Z"
   },
   {
    "duration": 17,
    "start_time": "2021-07-08T11:46:19.405Z"
   },
   {
    "duration": 16,
    "start_time": "2021-07-08T11:46:19.424Z"
   },
   {
    "duration": 252,
    "start_time": "2021-07-08T11:46:19.443Z"
   },
   {
    "duration": 9,
    "start_time": "2021-07-08T11:46:19.697Z"
   },
   {
    "duration": 224,
    "start_time": "2021-07-08T11:46:19.708Z"
   },
   {
    "duration": 21,
    "start_time": "2021-07-08T11:46:19.934Z"
   },
   {
    "duration": 9,
    "start_time": "2021-07-08T11:46:19.956Z"
   },
   {
    "duration": 32,
    "start_time": "2021-07-08T11:46:19.967Z"
   },
   {
    "duration": 288,
    "start_time": "2021-07-08T11:46:20.004Z"
   },
   {
    "duration": 23,
    "start_time": "2021-07-08T11:46:20.300Z"
   },
   {
    "duration": 11,
    "start_time": "2021-07-08T11:46:20.325Z"
   },
   {
    "duration": 11,
    "start_time": "2021-07-08T11:46:20.339Z"
   },
   {
    "duration": 259,
    "start_time": "2021-07-08T11:46:20.352Z"
   },
   {
    "duration": 438,
    "start_time": "2021-07-08T11:46:20.613Z"
   },
   {
    "duration": 207,
    "start_time": "2021-07-08T11:46:21.054Z"
   },
   {
    "duration": 27,
    "start_time": "2021-07-08T11:46:21.262Z"
   },
   {
    "duration": 19,
    "start_time": "2021-07-08T11:46:21.291Z"
   },
   {
    "duration": 820,
    "start_time": "2021-07-08T11:49:01.655Z"
   },
   {
    "duration": 372,
    "start_time": "2021-07-08T11:49:02.478Z"
   },
   {
    "duration": 98,
    "start_time": "2021-07-08T11:49:02.853Z"
   },
   {
    "duration": 6,
    "start_time": "2021-07-08T11:49:02.953Z"
   },
   {
    "duration": 39,
    "start_time": "2021-07-08T11:49:02.960Z"
   },
   {
    "duration": 9,
    "start_time": "2021-07-08T11:49:03.003Z"
   },
   {
    "duration": 23,
    "start_time": "2021-07-08T11:49:03.014Z"
   },
   {
    "duration": 6,
    "start_time": "2021-07-08T11:49:03.041Z"
   },
   {
    "duration": 20,
    "start_time": "2021-07-08T11:49:03.049Z"
   },
   {
    "duration": 18,
    "start_time": "2021-07-08T11:49:03.084Z"
   },
   {
    "duration": 14,
    "start_time": "2021-07-08T11:49:03.104Z"
   },
   {
    "duration": 39,
    "start_time": "2021-07-08T11:49:03.119Z"
   },
   {
    "duration": 38,
    "start_time": "2021-07-08T11:49:03.160Z"
   },
   {
    "duration": 26,
    "start_time": "2021-07-08T11:49:03.200Z"
   },
   {
    "duration": 7,
    "start_time": "2021-07-08T11:49:03.227Z"
   },
   {
    "duration": 4,
    "start_time": "2021-07-08T11:49:03.236Z"
   },
   {
    "duration": 15,
    "start_time": "2021-07-08T11:49:03.243Z"
   },
   {
    "duration": 21,
    "start_time": "2021-07-08T11:49:03.285Z"
   },
   {
    "duration": 17,
    "start_time": "2021-07-08T11:49:03.309Z"
   },
   {
    "duration": 10,
    "start_time": "2021-07-08T11:49:03.328Z"
   },
   {
    "duration": 65,
    "start_time": "2021-07-08T11:49:03.340Z"
   },
   {
    "duration": 18,
    "start_time": "2021-07-08T11:49:03.407Z"
   },
   {
    "duration": 8,
    "start_time": "2021-07-08T11:49:03.428Z"
   },
   {
    "duration": 15,
    "start_time": "2021-07-08T11:49:03.438Z"
   },
   {
    "duration": 40,
    "start_time": "2021-07-08T11:49:03.455Z"
   },
   {
    "duration": 12,
    "start_time": "2021-07-08T11:49:03.497Z"
   },
   {
    "duration": 29,
    "start_time": "2021-07-08T11:49:03.511Z"
   },
   {
    "duration": 285,
    "start_time": "2021-07-08T11:49:03.542Z"
   },
   {
    "duration": 8,
    "start_time": "2021-07-08T11:49:03.829Z"
   },
   {
    "duration": 227,
    "start_time": "2021-07-08T11:49:03.838Z"
   },
   {
    "duration": 40,
    "start_time": "2021-07-08T11:49:04.066Z"
   },
   {
    "duration": 10,
    "start_time": "2021-07-08T11:49:04.108Z"
   },
   {
    "duration": 26,
    "start_time": "2021-07-08T11:49:04.121Z"
   },
   {
    "duration": 290,
    "start_time": "2021-07-08T11:49:04.149Z"
   },
   {
    "duration": 26,
    "start_time": "2021-07-08T11:49:04.441Z"
   },
   {
    "duration": 31,
    "start_time": "2021-07-08T11:49:04.470Z"
   },
   {
    "duration": 14,
    "start_time": "2021-07-08T11:49:04.503Z"
   },
   {
    "duration": 259,
    "start_time": "2021-07-08T11:49:04.521Z"
   },
   {
    "duration": 480,
    "start_time": "2021-07-08T11:49:04.782Z"
   },
   {
    "duration": 225,
    "start_time": "2021-07-08T11:49:05.264Z"
   },
   {
    "duration": 22,
    "start_time": "2021-07-08T11:49:05.491Z"
   },
   {
    "duration": 24,
    "start_time": "2021-07-08T11:49:05.515Z"
   },
   {
    "duration": 634,
    "start_time": "2021-07-08T11:52:24.960Z"
   },
   {
    "duration": 199,
    "start_time": "2021-07-08T11:52:25.599Z"
   },
   {
    "duration": 106,
    "start_time": "2021-07-08T11:52:25.803Z"
   },
   {
    "duration": 7,
    "start_time": "2021-07-08T11:52:25.911Z"
   },
   {
    "duration": 29,
    "start_time": "2021-07-08T11:52:25.920Z"
   },
   {
    "duration": 7,
    "start_time": "2021-07-08T11:52:25.951Z"
   },
   {
    "duration": 26,
    "start_time": "2021-07-08T11:52:25.961Z"
   },
   {
    "duration": 11,
    "start_time": "2021-07-08T11:52:25.990Z"
   },
   {
    "duration": 29,
    "start_time": "2021-07-08T11:52:26.005Z"
   },
   {
    "duration": 9,
    "start_time": "2021-07-08T11:52:26.036Z"
   },
   {
    "duration": 8,
    "start_time": "2021-07-08T11:52:26.047Z"
   },
   {
    "duration": 63,
    "start_time": "2021-07-08T11:52:26.057Z"
   },
   {
    "duration": 17,
    "start_time": "2021-07-08T11:52:26.122Z"
   },
   {
    "duration": 43,
    "start_time": "2021-07-08T11:52:26.142Z"
   },
   {
    "duration": 17,
    "start_time": "2021-07-08T11:52:26.187Z"
   },
   {
    "duration": 5,
    "start_time": "2021-07-08T11:52:26.206Z"
   },
   {
    "duration": 12,
    "start_time": "2021-07-08T11:52:26.212Z"
   },
   {
    "duration": 11,
    "start_time": "2021-07-08T11:52:26.226Z"
   },
   {
    "duration": 12,
    "start_time": "2021-07-08T11:52:26.238Z"
   },
   {
    "duration": 38,
    "start_time": "2021-07-08T11:52:26.252Z"
   },
   {
    "duration": 40,
    "start_time": "2021-07-08T11:52:26.292Z"
   },
   {
    "duration": 17,
    "start_time": "2021-07-08T11:52:26.336Z"
   },
   {
    "duration": 39,
    "start_time": "2021-07-08T11:52:26.355Z"
   },
   {
    "duration": 11,
    "start_time": "2021-07-08T11:52:26.395Z"
   },
   {
    "duration": 23,
    "start_time": "2021-07-08T11:52:26.408Z"
   },
   {
    "duration": 12,
    "start_time": "2021-07-08T11:52:26.432Z"
   },
   {
    "duration": 41,
    "start_time": "2021-07-08T11:52:26.446Z"
   },
   {
    "duration": 215,
    "start_time": "2021-07-08T11:52:26.493Z"
   },
   {
    "duration": 8,
    "start_time": "2021-07-08T11:52:26.710Z"
   },
   {
    "duration": 228,
    "start_time": "2021-07-08T11:52:26.720Z"
   },
   {
    "duration": 18,
    "start_time": "2021-07-08T11:52:26.950Z"
   },
   {
    "duration": 35,
    "start_time": "2021-07-08T11:52:26.969Z"
   },
   {
    "duration": 23,
    "start_time": "2021-07-08T11:52:27.006Z"
   },
   {
    "duration": 258,
    "start_time": "2021-07-08T11:52:27.030Z"
   },
   {
    "duration": 24,
    "start_time": "2021-07-08T11:52:27.290Z"
   },
   {
    "duration": 12,
    "start_time": "2021-07-08T11:52:27.316Z"
   },
   {
    "duration": 10,
    "start_time": "2021-07-08T11:52:27.329Z"
   },
   {
    "duration": 298,
    "start_time": "2021-07-08T11:52:27.341Z"
   },
   {
    "duration": 436,
    "start_time": "2021-07-08T11:52:27.641Z"
   },
   {
    "duration": 216,
    "start_time": "2021-07-08T11:52:28.079Z"
   },
   {
    "duration": 20,
    "start_time": "2021-07-08T11:52:28.297Z"
   },
   {
    "duration": 17,
    "start_time": "2021-07-08T11:52:28.319Z"
   },
   {
    "duration": 660,
    "start_time": "2021-10-04T11:03:29.407Z"
   },
   {
    "duration": 2,
    "start_time": "2021-10-04T11:06:25.818Z"
   },
   {
    "duration": 2411,
    "start_time": "2021-10-04T11:06:25.822Z"
   },
   {
    "duration": 533,
    "start_time": "2021-10-04T11:06:27.702Z"
   },
   {
    "duration": 528,
    "start_time": "2021-10-04T11:06:27.708Z"
   },
   {
    "duration": 526,
    "start_time": "2021-10-04T11:06:27.712Z"
   },
   {
    "duration": 520,
    "start_time": "2021-10-04T11:06:27.719Z"
   },
   {
    "duration": 518,
    "start_time": "2021-10-04T11:06:27.722Z"
   },
   {
    "duration": 516,
    "start_time": "2021-10-04T11:06:27.725Z"
   },
   {
    "duration": 513,
    "start_time": "2021-10-04T11:06:27.729Z"
   },
   {
    "duration": 507,
    "start_time": "2021-10-04T11:06:27.736Z"
   },
   {
    "duration": 505,
    "start_time": "2021-10-04T11:06:27.739Z"
   },
   {
    "duration": 503,
    "start_time": "2021-10-04T11:06:27.742Z"
   },
   {
    "duration": 501,
    "start_time": "2021-10-04T11:06:27.745Z"
   },
   {
    "duration": 496,
    "start_time": "2021-10-04T11:06:27.751Z"
   },
   {
    "duration": 493,
    "start_time": "2021-10-04T11:06:27.755Z"
   },
   {
    "duration": 491,
    "start_time": "2021-10-04T11:06:27.758Z"
   },
   {
    "duration": 489,
    "start_time": "2021-10-04T11:06:27.761Z"
   },
   {
    "duration": 487,
    "start_time": "2021-10-04T11:06:27.764Z"
   },
   {
    "duration": 2298,
    "start_time": "2021-10-04T11:06:52.705Z"
   },
   {
    "duration": 3,
    "start_time": "2021-10-04T11:07:52.742Z"
   },
   {
    "duration": 59,
    "start_time": "2021-10-04T11:07:52.749Z"
   },
   {
    "duration": 14,
    "start_time": "2021-10-04T11:07:52.810Z"
   },
   {
    "duration": 10,
    "start_time": "2021-10-04T11:07:52.826Z"
   },
   {
    "duration": 39,
    "start_time": "2021-10-04T11:07:52.838Z"
   },
   {
    "duration": 6,
    "start_time": "2021-10-04T11:07:52.879Z"
   },
   {
    "duration": 7,
    "start_time": "2021-10-04T11:07:52.887Z"
   },
   {
    "duration": 112,
    "start_time": "2021-10-04T11:07:52.896Z"
   },
   {
    "duration": 551,
    "start_time": "2021-10-04T11:07:52.459Z"
   },
   {
    "duration": 550,
    "start_time": "2021-10-04T11:07:52.461Z"
   },
   {
    "duration": 544,
    "start_time": "2021-10-04T11:07:52.468Z"
   },
   {
    "duration": 543,
    "start_time": "2021-10-04T11:07:52.470Z"
   },
   {
    "duration": 541,
    "start_time": "2021-10-04T11:07:52.473Z"
   },
   {
    "duration": 539,
    "start_time": "2021-10-04T11:07:52.475Z"
   },
   {
    "duration": 538,
    "start_time": "2021-10-04T11:07:52.477Z"
   },
   {
    "duration": 533,
    "start_time": "2021-10-04T11:07:52.483Z"
   },
   {
    "duration": 531,
    "start_time": "2021-10-04T11:07:52.486Z"
   },
   {
    "duration": 530,
    "start_time": "2021-10-04T11:07:52.488Z"
   },
   {
    "duration": 2,
    "start_time": "2021-10-04T11:08:32.591Z"
   },
   {
    "duration": 60,
    "start_time": "2021-10-04T11:08:32.599Z"
   },
   {
    "duration": 8,
    "start_time": "2021-10-04T11:08:32.661Z"
   },
   {
    "duration": 11,
    "start_time": "2021-10-04T11:08:32.671Z"
   },
   {
    "duration": 39,
    "start_time": "2021-10-04T11:08:32.684Z"
   },
   {
    "duration": 6,
    "start_time": "2021-10-04T11:08:32.725Z"
   },
   {
    "duration": 12,
    "start_time": "2021-10-04T11:08:32.733Z"
   },
   {
    "duration": 19,
    "start_time": "2021-10-04T11:08:32.747Z"
   },
   {
    "duration": 22,
    "start_time": "2021-10-04T11:08:32.768Z"
   },
   {
    "duration": 263,
    "start_time": "2021-10-04T11:08:32.792Z"
   },
   {
    "duration": 549,
    "start_time": "2021-10-04T11:08:32.508Z"
   },
   {
    "duration": 547,
    "start_time": "2021-10-04T11:08:32.511Z"
   },
   {
    "duration": 3,
    "start_time": "2021-10-04T11:09:02.659Z"
   },
   {
    "duration": 68,
    "start_time": "2021-10-04T11:09:02.666Z"
   },
   {
    "duration": 8,
    "start_time": "2021-10-04T11:09:02.736Z"
   },
   {
    "duration": 21,
    "start_time": "2021-10-04T11:09:02.746Z"
   },
   {
    "duration": 44,
    "start_time": "2021-10-04T11:09:02.769Z"
   },
   {
    "duration": 9,
    "start_time": "2021-10-04T11:09:02.814Z"
   },
   {
    "duration": 14,
    "start_time": "2021-10-04T11:09:02.824Z"
   },
   {
    "duration": 12,
    "start_time": "2021-10-04T11:09:02.839Z"
   },
   {
    "duration": 19,
    "start_time": "2021-10-04T11:09:02.853Z"
   },
   {
    "duration": 263,
    "start_time": "2021-10-04T11:09:02.874Z"
   },
   {
    "duration": 549,
    "start_time": "2021-10-04T11:09:02.590Z"
   },
   {
    "duration": 548,
    "start_time": "2021-10-04T11:09:02.592Z"
   },
   {
    "duration": 6,
    "start_time": "2021-10-04T11:10:32.765Z"
   },
   {
    "duration": 296,
    "start_time": "2021-10-04T11:14:06.487Z"
   },
   {
    "duration": 20,
    "start_time": "2021-10-04T11:14:14.911Z"
   },
   {
    "duration": 15,
    "start_time": "2021-10-04T11:16:52.129Z"
   },
   {
    "duration": 23,
    "start_time": "2021-10-04T11:17:08.405Z"
   },
   {
    "duration": 16,
    "start_time": "2021-10-04T11:17:26.170Z"
   },
   {
    "duration": 114,
    "start_time": "2021-10-04T11:19:07.531Z"
   },
   {
    "duration": 5,
    "start_time": "2021-10-04T11:19:19.859Z"
   },
   {
    "duration": 14,
    "start_time": "2021-10-04T11:19:25.531Z"
   },
   {
    "duration": 10,
    "start_time": "2021-10-04T11:19:34.659Z"
   },
   {
    "duration": 267,
    "start_time": "2021-10-04T11:21:37.517Z"
   },
   {
    "duration": 259,
    "start_time": "2021-10-04T11:22:03.213Z"
   },
   {
    "duration": 118,
    "start_time": "2021-10-04T11:23:17.925Z"
   },
   {
    "duration": 302,
    "start_time": "2021-10-04T11:24:09.198Z"
   },
   {
    "duration": 6,
    "start_time": "2021-10-04T11:27:41.921Z"
   },
   {
    "duration": 14,
    "start_time": "2021-10-04T11:28:46.833Z"
   },
   {
    "duration": 11,
    "start_time": "2021-10-04T11:28:56.545Z"
   },
   {
    "duration": 3,
    "start_time": "2021-10-04T11:29:04.764Z"
   },
   {
    "duration": 59,
    "start_time": "2021-10-04T11:29:04.771Z"
   },
   {
    "duration": 8,
    "start_time": "2021-10-04T11:29:04.832Z"
   },
   {
    "duration": 12,
    "start_time": "2021-10-04T11:29:04.842Z"
   },
   {
    "duration": 40,
    "start_time": "2021-10-04T11:29:04.855Z"
   },
   {
    "duration": 6,
    "start_time": "2021-10-04T11:29:04.897Z"
   },
   {
    "duration": 17,
    "start_time": "2021-10-04T11:29:04.904Z"
   },
   {
    "duration": 12,
    "start_time": "2021-10-04T11:29:04.922Z"
   },
   {
    "duration": 12,
    "start_time": "2021-10-04T11:29:04.936Z"
   },
   {
    "duration": 12,
    "start_time": "2021-10-04T11:29:04.950Z"
   },
   {
    "duration": 15,
    "start_time": "2021-10-04T11:29:04.964Z"
   },
   {
    "duration": 9,
    "start_time": "2021-10-04T11:29:04.981Z"
   },
   {
    "duration": 11,
    "start_time": "2021-10-04T11:29:39.033Z"
   },
   {
    "duration": 82,
    "start_time": "2021-10-04T11:38:35.007Z"
   },
   {
    "duration": 15,
    "start_time": "2021-10-04T11:58:40.500Z"
   },
   {
    "duration": 11,
    "start_time": "2021-10-04T11:58:54.524Z"
   },
   {
    "duration": 2,
    "start_time": "2021-10-04T12:02:33.695Z"
   },
   {
    "duration": 3,
    "start_time": "2021-10-04T12:04:29.583Z"
   },
   {
    "duration": 20,
    "start_time": "2021-10-04T12:04:41.559Z"
   },
   {
    "duration": 91,
    "start_time": "2021-10-04T12:18:01.674Z"
   },
   {
    "duration": 3,
    "start_time": "2021-10-04T12:18:56.032Z"
   },
   {
    "duration": 62,
    "start_time": "2021-10-04T12:18:56.040Z"
   },
   {
    "duration": 8,
    "start_time": "2021-10-04T12:18:56.104Z"
   },
   {
    "duration": 14,
    "start_time": "2021-10-04T12:18:56.115Z"
   },
   {
    "duration": 46,
    "start_time": "2021-10-04T12:18:56.131Z"
   },
   {
    "duration": 7,
    "start_time": "2021-10-04T12:18:56.178Z"
   },
   {
    "duration": 8,
    "start_time": "2021-10-04T12:18:56.186Z"
   },
   {
    "duration": 12,
    "start_time": "2021-10-04T12:18:56.195Z"
   },
   {
    "duration": 12,
    "start_time": "2021-10-04T12:18:56.209Z"
   },
   {
    "duration": 11,
    "start_time": "2021-10-04T12:18:56.223Z"
   },
   {
    "duration": 16,
    "start_time": "2021-10-04T12:18:56.235Z"
   },
   {
    "duration": 9,
    "start_time": "2021-10-04T12:18:56.253Z"
   },
   {
    "duration": 3,
    "start_time": "2021-10-04T12:18:56.264Z"
   },
   {
    "duration": 6,
    "start_time": "2021-10-04T12:18:56.269Z"
   },
   {
    "duration": 4,
    "start_time": "2021-10-04T12:18:56.277Z"
   },
   {
    "duration": 4,
    "start_time": "2021-10-04T12:18:56.338Z"
   },
   {
    "duration": 19,
    "start_time": "2021-10-04T12:18:56.407Z"
   },
   {
    "duration": 6,
    "start_time": "2021-10-04T12:18:56.546Z"
   },
   {
    "duration": 16,
    "start_time": "2021-10-04T12:18:56.616Z"
   },
   {
    "duration": 15,
    "start_time": "2021-10-04T12:18:56.687Z"
   },
   {
    "duration": 4,
    "start_time": "2021-10-04T12:18:56.757Z"
   },
   {
    "duration": 5,
    "start_time": "2021-10-04T12:18:56.826Z"
   },
   {
    "duration": 5,
    "start_time": "2021-10-04T12:18:56.898Z"
   },
   {
    "duration": 9,
    "start_time": "2021-10-04T12:18:56.968Z"
   },
   {
    "duration": 4,
    "start_time": "2021-10-04T12:18:57.039Z"
   },
   {
    "duration": 4,
    "start_time": "2021-10-04T12:18:57.111Z"
   },
   {
    "duration": 5,
    "start_time": "2021-10-04T12:18:57.259Z"
   },
   {
    "duration": 16,
    "start_time": "2021-10-04T12:18:57.334Z"
   },
   {
    "duration": 4,
    "start_time": "2021-10-04T12:18:57.417Z"
   },
   {
    "duration": 5,
    "start_time": "2021-10-04T12:18:57.494Z"
   },
   {
    "duration": 4,
    "start_time": "2021-10-04T12:18:57.660Z"
   },
   {
    "duration": 19,
    "start_time": "2021-10-04T12:18:57.740Z"
   },
   {
    "duration": 4,
    "start_time": "2021-10-04T12:18:57.995Z"
   },
   {
    "duration": 4,
    "start_time": "2021-10-04T12:18:58.018Z"
   },
   {
    "duration": 5,
    "start_time": "2021-10-04T12:18:58.024Z"
   },
   {
    "duration": 5,
    "start_time": "2021-10-04T12:18:58.031Z"
   },
   {
    "duration": 16,
    "start_time": "2021-10-04T12:18:58.088Z"
   },
   {
    "duration": 6,
    "start_time": "2021-10-04T12:18:58.176Z"
   },
   {
    "duration": 4,
    "start_time": "2021-10-04T12:18:58.269Z"
   },
   {
    "duration": 4,
    "start_time": "2021-10-04T12:18:58.292Z"
   },
   {
    "duration": 7,
    "start_time": "2021-10-04T12:18:58.298Z"
   },
   {
    "duration": 6,
    "start_time": "2021-10-04T12:18:58.306Z"
   },
   {
    "duration": 5,
    "start_time": "2021-10-04T12:18:58.465Z"
   },
   {
    "duration": 15,
    "start_time": "2021-10-04T12:18:58.564Z"
   },
   {
    "duration": 4,
    "start_time": "2021-10-04T12:18:58.658Z"
   },
   {
    "duration": 5,
    "start_time": "2021-10-04T12:18:58.758Z"
   },
   {
    "duration": 5,
    "start_time": "2021-10-04T12:18:58.983Z"
   },
   {
    "duration": 15,
    "start_time": "2021-10-04T12:18:59.081Z"
   },
   {
    "duration": 3,
    "start_time": "2021-10-04T12:18:59.180Z"
   },
   {
    "duration": 5,
    "start_time": "2021-10-04T12:18:59.279Z"
   },
   {
    "duration": 5,
    "start_time": "2021-10-04T12:18:59.482Z"
   },
   {
    "duration": 19,
    "start_time": "2021-10-04T12:18:59.788Z"
   },
   {
    "duration": 2,
    "start_time": "2021-10-04T12:26:37.385Z"
   },
   {
    "duration": 3,
    "start_time": "2021-10-04T12:34:57.004Z"
   },
   {
    "duration": 64,
    "start_time": "2021-10-04T12:34:57.008Z"
   },
   {
    "duration": 9,
    "start_time": "2021-10-04T12:34:57.074Z"
   },
   {
    "duration": 12,
    "start_time": "2021-10-04T12:34:57.085Z"
   },
   {
    "duration": 39,
    "start_time": "2021-10-04T12:34:57.099Z"
   },
   {
    "duration": 6,
    "start_time": "2021-10-04T12:34:57.140Z"
   },
   {
    "duration": 7,
    "start_time": "2021-10-04T12:34:57.148Z"
   },
   {
    "duration": 14,
    "start_time": "2021-10-04T12:34:57.156Z"
   },
   {
    "duration": 16,
    "start_time": "2021-10-04T12:34:57.172Z"
   },
   {
    "duration": 12,
    "start_time": "2021-10-04T12:34:57.190Z"
   },
   {
    "duration": 12,
    "start_time": "2021-10-04T12:34:57.203Z"
   },
   {
    "duration": 11,
    "start_time": "2021-10-04T12:34:57.245Z"
   },
   {
    "duration": 5,
    "start_time": "2021-10-04T12:34:57.258Z"
   },
   {
    "duration": 7,
    "start_time": "2021-10-04T12:34:57.265Z"
   },
   {
    "duration": 4,
    "start_time": "2021-10-04T12:34:57.274Z"
   },
   {
    "duration": 5,
    "start_time": "2021-10-04T12:34:57.279Z"
   },
   {
    "duration": 22,
    "start_time": "2021-10-04T12:34:57.285Z"
   },
   {
    "duration": 4,
    "start_time": "2021-10-04T12:34:57.308Z"
   },
   {
    "duration": 45,
    "start_time": "2021-10-04T12:34:57.314Z"
   },
   {
    "duration": 17,
    "start_time": "2021-10-04T12:34:57.361Z"
   },
   {
    "duration": 6,
    "start_time": "2021-10-04T12:34:57.380Z"
   },
   {
    "duration": 7,
    "start_time": "2021-10-04T12:34:57.387Z"
   },
   {
    "duration": 10,
    "start_time": "2021-10-04T12:34:57.396Z"
   },
   {
    "duration": 14,
    "start_time": "2021-10-04T12:34:57.407Z"
   },
   {
    "duration": 3,
    "start_time": "2021-10-04T12:34:57.445Z"
   },
   {
    "duration": 11,
    "start_time": "2021-10-04T12:34:57.450Z"
   },
   {
    "duration": 4,
    "start_time": "2021-10-04T12:34:57.465Z"
   },
   {
    "duration": 19,
    "start_time": "2021-10-04T12:34:57.471Z"
   },
   {
    "duration": 6,
    "start_time": "2021-10-04T12:34:57.492Z"
   },
   {
    "duration": 7,
    "start_time": "2021-10-04T12:34:57.500Z"
   },
   {
    "duration": 7,
    "start_time": "2021-10-04T12:34:57.509Z"
   },
   {
    "duration": 42,
    "start_time": "2021-10-04T12:34:57.518Z"
   },
   {
    "duration": 4,
    "start_time": "2021-10-04T12:34:57.561Z"
   },
   {
    "duration": 6,
    "start_time": "2021-10-04T12:34:57.567Z"
   },
   {
    "duration": 12,
    "start_time": "2021-10-04T12:34:57.575Z"
   },
   {
    "duration": 16,
    "start_time": "2021-10-04T12:34:57.588Z"
   },
   {
    "duration": 17,
    "start_time": "2021-10-04T12:34:57.606Z"
   },
   {
    "duration": 20,
    "start_time": "2021-10-04T12:34:57.624Z"
   },
   {
    "duration": 5,
    "start_time": "2021-10-04T12:34:57.646Z"
   },
   {
    "duration": 19,
    "start_time": "2021-10-04T12:34:57.652Z"
   },
   {
    "duration": 6,
    "start_time": "2021-10-04T12:34:57.673Z"
   },
   {
    "duration": 13,
    "start_time": "2021-10-04T12:34:57.681Z"
   },
   {
    "duration": 9,
    "start_time": "2021-10-04T12:34:57.695Z"
   },
   {
    "duration": 19,
    "start_time": "2021-10-04T12:34:57.706Z"
   },
   {
    "duration": 3,
    "start_time": "2021-10-04T12:34:57.726Z"
   },
   {
    "duration": 14,
    "start_time": "2021-10-04T12:34:57.731Z"
   },
   {
    "duration": 11,
    "start_time": "2021-10-04T12:34:57.747Z"
   },
   {
    "duration": 20,
    "start_time": "2021-10-04T12:34:57.759Z"
   },
   {
    "duration": 4,
    "start_time": "2021-10-04T12:34:57.780Z"
   },
   {
    "duration": 9,
    "start_time": "2021-10-04T12:34:57.785Z"
   },
   {
    "duration": 6,
    "start_time": "2021-10-04T12:34:57.796Z"
   },
   {
    "duration": 23,
    "start_time": "2021-10-04T12:34:57.804Z"
   },
   {
    "duration": 22,
    "start_time": "2021-10-04T12:34:57.828Z"
   },
   {
    "duration": 18,
    "start_time": "2021-10-04T12:34:57.851Z"
   },
   {
    "duration": 8,
    "start_time": "2021-10-04T12:34:57.870Z"
   },
   {
    "duration": 13,
    "start_time": "2021-10-04T12:34:57.879Z"
   },
   {
    "duration": 15,
    "start_time": "2021-10-04T12:34:57.894Z"
   },
   {
    "duration": 4,
    "start_time": "2021-10-04T12:34:57.911Z"
   },
   {
    "duration": 27,
    "start_time": "2021-10-04T12:34:57.917Z"
   },
   {
    "duration": 8,
    "start_time": "2021-10-04T12:34:57.966Z"
   },
   {
    "duration": 5,
    "start_time": "2021-10-04T12:34:58.105Z"
   },
   {
    "duration": 9,
    "start_time": "2021-10-04T12:34:58.130Z"
   },
   {
    "duration": 15,
    "start_time": "2021-10-04T12:34:58.253Z"
   },
   {
    "duration": 9,
    "start_time": "2021-10-04T12:34:58.399Z"
   },
   {
    "duration": 8,
    "start_time": "2021-10-04T12:34:58.551Z"
   },
   {
    "duration": 5,
    "start_time": "2021-10-04T12:34:58.709Z"
   },
   {
    "duration": 21,
    "start_time": "2021-10-04T12:34:58.734Z"
   },
   {
    "duration": 12,
    "start_time": "2021-10-04T12:34:58.869Z"
   },
   {
    "duration": 11,
    "start_time": "2021-10-04T12:34:58.892Z"
   },
   {
    "duration": 8,
    "start_time": "2021-10-04T12:34:59.193Z"
   },
   {
    "duration": 6,
    "start_time": "2021-10-04T12:34:59.534Z"
   },
   {
    "duration": 5,
    "start_time": "2021-10-04T12:34:59.556Z"
   },
   {
    "duration": 9,
    "start_time": "2021-10-04T12:35:00.027Z"
   },
   {
    "duration": 5,
    "start_time": "2021-10-04T12:35:00.195Z"
   },
   {
    "duration": 6,
    "start_time": "2021-10-04T12:35:00.220Z"
   },
   {
    "duration": 21,
    "start_time": "2021-10-04T12:35:00.228Z"
   },
   {
    "duration": 8,
    "start_time": "2021-10-04T12:35:57.311Z"
   },
   {
    "duration": 3,
    "start_time": "2021-10-04T12:37:26.731Z"
   },
   {
    "duration": 66,
    "start_time": "2021-10-04T12:37:26.743Z"
   },
   {
    "duration": 9,
    "start_time": "2021-10-04T12:37:26.811Z"
   },
   {
    "duration": 21,
    "start_time": "2021-10-04T12:37:26.823Z"
   },
   {
    "duration": 52,
    "start_time": "2021-10-04T12:37:26.846Z"
   },
   {
    "duration": 14,
    "start_time": "2021-10-04T12:37:26.900Z"
   },
   {
    "duration": 28,
    "start_time": "2021-10-04T12:37:26.915Z"
   },
   {
    "duration": 34,
    "start_time": "2021-10-04T12:37:26.945Z"
   },
   {
    "duration": 30,
    "start_time": "2021-10-04T12:37:26.981Z"
   },
   {
    "duration": 17,
    "start_time": "2021-10-04T12:37:27.014Z"
   },
   {
    "duration": 24,
    "start_time": "2021-10-04T12:37:27.034Z"
   },
   {
    "duration": 15,
    "start_time": "2021-10-04T12:37:27.060Z"
   },
   {
    "duration": 13,
    "start_time": "2021-10-04T12:37:27.077Z"
   },
   {
    "duration": 16,
    "start_time": "2021-10-04T12:37:27.093Z"
   },
   {
    "duration": 12,
    "start_time": "2021-10-04T12:37:27.111Z"
   },
   {
    "duration": 16,
    "start_time": "2021-10-04T12:37:27.124Z"
   },
   {
    "duration": 23,
    "start_time": "2021-10-04T12:37:27.141Z"
   },
   {
    "duration": 4,
    "start_time": "2021-10-04T12:37:27.166Z"
   },
   {
    "duration": 16,
    "start_time": "2021-10-04T12:37:27.172Z"
   },
   {
    "duration": 19,
    "start_time": "2021-10-04T12:37:27.190Z"
   },
   {
    "duration": 6,
    "start_time": "2021-10-04T12:37:27.211Z"
   },
   {
    "duration": 27,
    "start_time": "2021-10-04T12:37:27.219Z"
   },
   {
    "duration": 7,
    "start_time": "2021-10-04T12:37:27.247Z"
   },
   {
    "duration": 11,
    "start_time": "2021-10-04T12:37:27.255Z"
   },
   {
    "duration": 5,
    "start_time": "2021-10-04T12:37:27.268Z"
   },
   {
    "duration": 12,
    "start_time": "2021-10-04T12:37:27.274Z"
   },
   {
    "duration": 5,
    "start_time": "2021-10-04T12:37:27.287Z"
   },
   {
    "duration": 25,
    "start_time": "2021-10-04T12:37:27.296Z"
   },
   {
    "duration": 22,
    "start_time": "2021-10-04T12:37:27.324Z"
   },
   {
    "duration": 7,
    "start_time": "2021-10-04T12:37:27.348Z"
   },
   {
    "duration": 6,
    "start_time": "2021-10-04T12:37:27.357Z"
   },
   {
    "duration": 20,
    "start_time": "2021-10-04T12:37:27.365Z"
   },
   {
    "duration": 4,
    "start_time": "2021-10-04T12:37:27.387Z"
   },
   {
    "duration": 10,
    "start_time": "2021-10-04T12:37:27.392Z"
   },
   {
    "duration": 8,
    "start_time": "2021-10-04T12:37:27.404Z"
   },
   {
    "duration": 19,
    "start_time": "2021-10-04T12:37:27.414Z"
   },
   {
    "duration": 16,
    "start_time": "2021-10-04T12:37:27.445Z"
   },
   {
    "duration": 5,
    "start_time": "2021-10-04T12:37:27.462Z"
   },
   {
    "duration": 7,
    "start_time": "2021-10-04T12:37:27.469Z"
   },
   {
    "duration": 8,
    "start_time": "2021-10-04T12:37:27.477Z"
   },
   {
    "duration": 6,
    "start_time": "2021-10-04T12:37:27.487Z"
   },
   {
    "duration": 6,
    "start_time": "2021-10-04T12:37:27.495Z"
   },
   {
    "duration": 5,
    "start_time": "2021-10-04T12:37:27.503Z"
   },
   {
    "duration": 45,
    "start_time": "2021-10-04T12:37:27.509Z"
   },
   {
    "duration": 3,
    "start_time": "2021-10-04T12:37:27.556Z"
   },
   {
    "duration": 12,
    "start_time": "2021-10-04T12:37:27.561Z"
   },
   {
    "duration": 9,
    "start_time": "2021-10-04T12:37:27.574Z"
   },
   {
    "duration": 23,
    "start_time": "2021-10-04T12:37:27.585Z"
   },
   {
    "duration": 3,
    "start_time": "2021-10-04T12:37:27.610Z"
   },
   {
    "duration": 17,
    "start_time": "2021-10-04T12:37:27.614Z"
   },
   {
    "duration": 12,
    "start_time": "2021-10-04T12:37:27.633Z"
   },
   {
    "duration": 21,
    "start_time": "2021-10-04T12:37:27.647Z"
   },
   {
    "duration": 14,
    "start_time": "2021-10-04T12:37:27.670Z"
   },
   {
    "duration": 9,
    "start_time": "2021-10-04T12:37:27.686Z"
   },
   {
    "duration": 16,
    "start_time": "2021-10-04T12:37:27.697Z"
   },
   {
    "duration": 41,
    "start_time": "2021-10-04T12:37:27.714Z"
   },
   {
    "duration": 17,
    "start_time": "2021-10-04T12:37:27.757Z"
   },
   {
    "duration": 15,
    "start_time": "2021-10-04T12:37:27.775Z"
   },
   {
    "duration": 11,
    "start_time": "2021-10-04T12:37:27.791Z"
   },
   {
    "duration": 10,
    "start_time": "2021-10-04T12:37:27.804Z"
   },
   {
    "duration": 14,
    "start_time": "2021-10-04T12:37:27.816Z"
   },
   {
    "duration": 17,
    "start_time": "2021-10-04T12:37:27.832Z"
   },
   {
    "duration": 20,
    "start_time": "2021-10-04T12:37:27.851Z"
   },
   {
    "duration": 12,
    "start_time": "2021-10-04T12:37:27.873Z"
   },
   {
    "duration": 21,
    "start_time": "2021-10-04T12:37:27.887Z"
   },
   {
    "duration": 30,
    "start_time": "2021-10-04T12:37:27.910Z"
   },
   {
    "duration": 82,
    "start_time": "2021-10-04T12:37:27.942Z"
   },
   {
    "duration": 24,
    "start_time": "2021-10-04T12:37:28.026Z"
   },
   {
    "duration": 27,
    "start_time": "2021-10-04T12:37:28.052Z"
   },
   {
    "duration": 27,
    "start_time": "2021-10-04T12:37:28.081Z"
   },
   {
    "duration": 13,
    "start_time": "2021-10-04T12:37:28.110Z"
   },
   {
    "duration": 27,
    "start_time": "2021-10-04T12:37:28.124Z"
   },
   {
    "duration": 26,
    "start_time": "2021-10-04T12:37:28.153Z"
   },
   {
    "duration": 18,
    "start_time": "2021-10-04T12:37:28.181Z"
   },
   {
    "duration": 37,
    "start_time": "2021-10-04T12:37:28.201Z"
   },
   {
    "duration": 28,
    "start_time": "2021-10-04T12:37:28.240Z"
   },
   {
    "duration": 28,
    "start_time": "2021-10-04T12:37:28.269Z"
   },
   {
    "duration": 17,
    "start_time": "2021-10-04T12:37:28.300Z"
   },
   {
    "duration": 23,
    "start_time": "2021-10-04T12:37:28.318Z"
   },
   {
    "duration": 15,
    "start_time": "2021-10-04T12:39:06.386Z"
   },
   {
    "duration": 414,
    "start_time": "2021-10-04T12:48:15.840Z"
   },
   {
    "duration": 494,
    "start_time": "2021-10-04T12:48:48.096Z"
   },
   {
    "duration": 41,
    "start_time": "2021-10-04T12:48:55.944Z"
   },
   {
    "duration": 90,
    "start_time": "2021-10-04T12:49:27.336Z"
   },
   {
    "duration": 9,
    "start_time": "2021-10-04T12:49:46.433Z"
   },
   {
    "duration": 10,
    "start_time": "2021-10-04T12:50:28.626Z"
   },
   {
    "duration": 10,
    "start_time": "2021-10-04T12:50:47.305Z"
   },
   {
    "duration": 14,
    "start_time": "2021-10-04T12:50:54.378Z"
   },
   {
    "duration": 7,
    "start_time": "2021-10-04T12:53:27.059Z"
   },
   {
    "duration": 16,
    "start_time": "2021-10-04T12:55:08.517Z"
   },
   {
    "duration": 16,
    "start_time": "2021-10-04T12:57:43.391Z"
   },
   {
    "duration": 12,
    "start_time": "2021-10-04T12:58:17.824Z"
   },
   {
    "duration": 11,
    "start_time": "2021-10-04T12:58:22.183Z"
   },
   {
    "duration": 26,
    "start_time": "2021-10-04T12:58:35.567Z"
   },
   {
    "duration": 7,
    "start_time": "2021-10-04T13:08:46.670Z"
   },
   {
    "duration": 9,
    "start_time": "2021-10-04T13:08:58.038Z"
   },
   {
    "duration": 8,
    "start_time": "2021-10-04T13:09:11.788Z"
   },
   {
    "duration": 17,
    "start_time": "2021-10-04T13:11:10.988Z"
   },
   {
    "duration": 18,
    "start_time": "2021-10-04T13:14:21.624Z"
   },
   {
    "duration": 18,
    "start_time": "2021-10-04T13:14:38.951Z"
   },
   {
    "duration": 19,
    "start_time": "2021-10-04T13:16:02.552Z"
   },
   {
    "duration": 17,
    "start_time": "2021-10-04T13:16:15.761Z"
   },
   {
    "duration": 19,
    "start_time": "2021-10-04T13:16:23.825Z"
   },
   {
    "duration": 16,
    "start_time": "2021-10-04T13:17:03.802Z"
   },
   {
    "duration": 20,
    "start_time": "2021-10-04T13:17:10.042Z"
   },
   {
    "duration": 90,
    "start_time": "2021-10-04T13:20:22.795Z"
   },
   {
    "duration": 11,
    "start_time": "2021-10-04T13:20:37.780Z"
   },
   {
    "duration": 20,
    "start_time": "2021-10-04T13:21:37.758Z"
   },
   {
    "duration": 11,
    "start_time": "2021-10-04T13:23:00.558Z"
   },
   {
    "duration": 9,
    "start_time": "2021-10-04T13:23:19.982Z"
   },
   {
    "duration": 18,
    "start_time": "2021-10-04T13:26:39.153Z"
   },
   {
    "duration": 16,
    "start_time": "2021-10-04T13:28:32.306Z"
   },
   {
    "duration": 39,
    "start_time": "2021-10-04T13:50:57.559Z"
   },
   {
    "duration": 7,
    "start_time": "2021-10-04T13:50:59.999Z"
   },
   {
    "duration": 40,
    "start_time": "2021-10-04T13:51:11.006Z"
   },
   {
    "duration": 6,
    "start_time": "2021-10-04T13:51:13.663Z"
   },
   {
    "duration": 40,
    "start_time": "2021-10-04T13:51:30.950Z"
   },
   {
    "duration": 7,
    "start_time": "2021-10-04T13:51:32.798Z"
   },
   {
    "duration": 39,
    "start_time": "2021-10-04T13:56:39.497Z"
   },
   {
    "duration": 19,
    "start_time": "2021-10-04T14:07:26.907Z"
   },
   {
    "duration": 8,
    "start_time": "2021-10-04T14:09:55.124Z"
   },
   {
    "duration": 10,
    "start_time": "2021-10-04T14:10:29.628Z"
   },
   {
    "duration": 2,
    "start_time": "2021-10-04T14:19:31.857Z"
   },
   {
    "duration": 23,
    "start_time": "2021-10-04T14:20:08.806Z"
   },
   {
    "duration": 20,
    "start_time": "2021-10-04T14:20:29.897Z"
   },
   {
    "duration": 90,
    "start_time": "2021-10-04T14:20:33.568Z"
   },
   {
    "duration": 46,
    "start_time": "2021-10-04T14:23:02.372Z"
   },
   {
    "duration": 12,
    "start_time": "2021-10-04T14:23:50.686Z"
   },
   {
    "duration": 466,
    "start_time": "2021-10-04T14:25:22.381Z"
   },
   {
    "duration": 3,
    "start_time": "2021-10-04T14:26:38.798Z"
   },
   {
    "duration": 60,
    "start_time": "2021-10-04T14:26:38.812Z"
   },
   {
    "duration": 9,
    "start_time": "2021-10-04T14:26:38.873Z"
   },
   {
    "duration": 15,
    "start_time": "2021-10-04T14:26:38.884Z"
   },
   {
    "duration": 39,
    "start_time": "2021-10-04T14:26:38.901Z"
   },
   {
    "duration": 8,
    "start_time": "2021-10-04T14:26:38.942Z"
   },
   {
    "duration": 7,
    "start_time": "2021-10-04T14:26:38.952Z"
   },
   {
    "duration": 23,
    "start_time": "2021-10-04T14:26:38.961Z"
   },
   {
    "duration": 20,
    "start_time": "2021-10-04T14:26:38.986Z"
   },
   {
    "duration": 19,
    "start_time": "2021-10-04T14:26:39.008Z"
   },
   {
    "duration": 25,
    "start_time": "2021-10-04T14:26:39.029Z"
   },
   {
    "duration": 28,
    "start_time": "2021-10-04T14:26:39.056Z"
   },
   {
    "duration": 20,
    "start_time": "2021-10-04T14:26:39.086Z"
   },
   {
    "duration": 19,
    "start_time": "2021-10-04T14:26:39.108Z"
   },
   {
    "duration": 35,
    "start_time": "2021-10-04T14:26:39.129Z"
   },
   {
    "duration": 28,
    "start_time": "2021-10-04T14:26:39.166Z"
   },
   {
    "duration": 43,
    "start_time": "2021-10-04T14:26:39.195Z"
   },
   {
    "duration": 11,
    "start_time": "2021-10-04T14:26:39.240Z"
   },
   {
    "duration": 38,
    "start_time": "2021-10-04T14:26:39.253Z"
   },
   {
    "duration": 35,
    "start_time": "2021-10-04T14:26:39.293Z"
   },
   {
    "duration": 20,
    "start_time": "2021-10-04T14:26:39.329Z"
   },
   {
    "duration": 27,
    "start_time": "2021-10-04T14:26:39.350Z"
   },
   {
    "duration": 17,
    "start_time": "2021-10-04T14:26:39.378Z"
   },
   {
    "duration": 24,
    "start_time": "2021-10-04T14:26:39.396Z"
   },
   {
    "duration": 15,
    "start_time": "2021-10-04T14:26:39.422Z"
   },
   {
    "duration": 26,
    "start_time": "2021-10-04T14:26:39.439Z"
   },
   {
    "duration": 20,
    "start_time": "2021-10-04T14:26:39.467Z"
   },
   {
    "duration": 24,
    "start_time": "2021-10-04T14:26:39.491Z"
   },
   {
    "duration": 12,
    "start_time": "2021-10-04T14:26:39.517Z"
   },
   {
    "duration": 13,
    "start_time": "2021-10-04T14:26:39.531Z"
   },
   {
    "duration": 10,
    "start_time": "2021-10-04T14:26:39.546Z"
   },
   {
    "duration": 24,
    "start_time": "2021-10-04T14:26:39.557Z"
   },
   {
    "duration": 4,
    "start_time": "2021-10-04T14:26:39.582Z"
   },
   {
    "duration": 18,
    "start_time": "2021-10-04T14:26:39.587Z"
   },
   {
    "duration": 8,
    "start_time": "2021-10-04T14:26:39.606Z"
   },
   {
    "duration": 9,
    "start_time": "2021-10-04T14:26:39.616Z"
   },
   {
    "duration": 21,
    "start_time": "2021-10-04T14:26:39.627Z"
   },
   {
    "duration": 7,
    "start_time": "2021-10-04T14:26:39.650Z"
   },
   {
    "duration": 5,
    "start_time": "2021-10-04T14:26:39.658Z"
   },
   {
    "duration": 5,
    "start_time": "2021-10-04T14:26:39.665Z"
   },
   {
    "duration": 5,
    "start_time": "2021-10-04T14:26:39.672Z"
   },
   {
    "duration": 6,
    "start_time": "2021-10-04T14:26:39.679Z"
   },
   {
    "duration": 6,
    "start_time": "2021-10-04T14:26:39.686Z"
   },
   {
    "duration": 19,
    "start_time": "2021-10-04T14:26:39.693Z"
   },
   {
    "duration": 32,
    "start_time": "2021-10-04T14:26:39.714Z"
   },
   {
    "duration": 16,
    "start_time": "2021-10-04T14:26:39.747Z"
   },
   {
    "duration": 10,
    "start_time": "2021-10-04T14:26:39.765Z"
   },
   {
    "duration": 24,
    "start_time": "2021-10-04T14:26:39.777Z"
   },
   {
    "duration": 4,
    "start_time": "2021-10-04T14:26:39.802Z"
   },
   {
    "duration": 15,
    "start_time": "2021-10-04T14:26:39.808Z"
   },
   {
    "duration": 12,
    "start_time": "2021-10-04T14:26:39.824Z"
   },
   {
    "duration": 29,
    "start_time": "2021-10-04T14:26:39.837Z"
   },
   {
    "duration": 12,
    "start_time": "2021-10-04T14:26:39.868Z"
   },
   {
    "duration": 7,
    "start_time": "2021-10-04T14:26:39.882Z"
   },
   {
    "duration": 14,
    "start_time": "2021-10-04T14:26:39.890Z"
   },
   {
    "duration": 19,
    "start_time": "2021-10-04T14:26:39.905Z"
   },
   {
    "duration": 24,
    "start_time": "2021-10-04T14:26:39.926Z"
   },
   {
    "duration": 6,
    "start_time": "2021-10-04T14:26:39.952Z"
   },
   {
    "duration": 9,
    "start_time": "2021-10-04T14:26:39.960Z"
   },
   {
    "duration": 9,
    "start_time": "2021-10-04T14:26:39.971Z"
   },
   {
    "duration": 4,
    "start_time": "2021-10-04T14:26:39.982Z"
   },
   {
    "duration": 10,
    "start_time": "2021-10-04T14:26:39.988Z"
   },
   {
    "duration": 48,
    "start_time": "2021-10-04T14:26:40.000Z"
   },
   {
    "duration": 9,
    "start_time": "2021-10-04T14:26:40.049Z"
   },
   {
    "duration": 24,
    "start_time": "2021-10-04T14:26:40.060Z"
   },
   {
    "duration": 3,
    "start_time": "2021-10-04T14:26:40.086Z"
   },
   {
    "duration": 26,
    "start_time": "2021-10-04T14:26:40.091Z"
   },
   {
    "duration": 27,
    "start_time": "2021-10-04T14:26:40.118Z"
   },
   {
    "duration": 12,
    "start_time": "2021-10-04T14:26:40.147Z"
   },
   {
    "duration": 18,
    "start_time": "2021-10-04T14:26:40.160Z"
   },
   {
    "duration": 14,
    "start_time": "2021-10-04T14:26:40.179Z"
   },
   {
    "duration": 6,
    "start_time": "2021-10-04T14:26:40.194Z"
   },
   {
    "duration": 7,
    "start_time": "2021-10-04T14:26:40.202Z"
   },
   {
    "duration": 7,
    "start_time": "2021-10-04T14:26:40.211Z"
   },
   {
    "duration": 26,
    "start_time": "2021-10-04T14:26:40.219Z"
   },
   {
    "duration": 8,
    "start_time": "2021-10-04T14:26:40.246Z"
   },
   {
    "duration": 7,
    "start_time": "2021-10-04T14:26:40.256Z"
   },
   {
    "duration": 23,
    "start_time": "2021-10-04T14:26:40.264Z"
   },
   {
    "duration": 8,
    "start_time": "2021-10-04T14:26:40.289Z"
   },
   {
    "duration": 13,
    "start_time": "2021-10-04T14:26:40.298Z"
   },
   {
    "duration": 35,
    "start_time": "2021-10-04T14:26:40.312Z"
   },
   {
    "duration": 38,
    "start_time": "2021-10-04T14:26:40.353Z"
   },
   {
    "duration": 8,
    "start_time": "2021-10-04T14:26:40.393Z"
   },
   {
    "duration": 20,
    "start_time": "2021-10-04T14:26:40.402Z"
   },
   {
    "duration": 24,
    "start_time": "2021-10-04T14:26:40.424Z"
   },
   {
    "duration": 23,
    "start_time": "2021-10-04T14:26:40.450Z"
   },
   {
    "duration": 16,
    "start_time": "2021-10-04T14:26:40.475Z"
   },
   {
    "duration": 18,
    "start_time": "2021-10-04T14:26:40.493Z"
   },
   {
    "duration": 44,
    "start_time": "2021-10-04T14:26:40.512Z"
   },
   {
    "duration": 43,
    "start_time": "2021-10-04T14:26:40.557Z"
   },
   {
    "duration": 4,
    "start_time": "2021-10-04T14:27:44.478Z"
   },
   {
    "duration": 70,
    "start_time": "2021-10-04T14:27:44.491Z"
   },
   {
    "duration": 9,
    "start_time": "2021-10-04T14:27:44.563Z"
   },
   {
    "duration": 27,
    "start_time": "2021-10-04T14:27:44.574Z"
   },
   {
    "duration": 60,
    "start_time": "2021-10-04T14:27:44.603Z"
   },
   {
    "duration": 27,
    "start_time": "2021-10-04T14:27:44.665Z"
   },
   {
    "duration": 30,
    "start_time": "2021-10-04T14:27:44.694Z"
   },
   {
    "duration": 33,
    "start_time": "2021-10-04T14:27:44.726Z"
   },
   {
    "duration": 42,
    "start_time": "2021-10-04T14:27:44.760Z"
   },
   {
    "duration": 33,
    "start_time": "2021-10-04T14:27:44.804Z"
   },
   {
    "duration": 34,
    "start_time": "2021-10-04T14:27:44.840Z"
   },
   {
    "duration": 27,
    "start_time": "2021-10-04T14:27:44.876Z"
   },
   {
    "duration": 19,
    "start_time": "2021-10-04T14:27:44.905Z"
   },
   {
    "duration": 41,
    "start_time": "2021-10-04T14:27:44.925Z"
   },
   {
    "duration": 12,
    "start_time": "2021-10-04T14:27:44.968Z"
   },
   {
    "duration": 24,
    "start_time": "2021-10-04T14:27:44.981Z"
   },
   {
    "duration": 70,
    "start_time": "2021-10-04T14:27:45.007Z"
   },
   {
    "duration": 21,
    "start_time": "2021-10-04T14:27:45.079Z"
   },
   {
    "duration": 33,
    "start_time": "2021-10-04T14:27:45.102Z"
   },
   {
    "duration": 48,
    "start_time": "2021-10-04T14:27:45.136Z"
   },
   {
    "duration": 25,
    "start_time": "2021-10-04T14:27:45.186Z"
   },
   {
    "duration": 28,
    "start_time": "2021-10-04T14:27:45.213Z"
   },
   {
    "duration": 27,
    "start_time": "2021-10-04T14:27:45.243Z"
   },
   {
    "duration": 29,
    "start_time": "2021-10-04T14:27:45.272Z"
   },
   {
    "duration": 35,
    "start_time": "2021-10-04T14:27:45.302Z"
   },
   {
    "duration": 31,
    "start_time": "2021-10-04T14:27:45.338Z"
   },
   {
    "duration": 37,
    "start_time": "2021-10-04T14:27:45.370Z"
   },
   {
    "duration": 34,
    "start_time": "2021-10-04T14:27:45.411Z"
   },
   {
    "duration": 4,
    "start_time": "2021-10-04T14:27:45.448Z"
   },
   {
    "duration": 28,
    "start_time": "2021-10-04T14:27:45.453Z"
   },
   {
    "duration": 23,
    "start_time": "2021-10-04T14:27:45.483Z"
   },
   {
    "duration": 39,
    "start_time": "2021-10-04T14:27:45.508Z"
   },
   {
    "duration": 19,
    "start_time": "2021-10-04T14:27:45.549Z"
   },
   {
    "duration": 18,
    "start_time": "2021-10-04T14:27:45.570Z"
   },
   {
    "duration": 33,
    "start_time": "2021-10-04T14:27:45.589Z"
   },
   {
    "duration": 17,
    "start_time": "2021-10-04T14:27:45.624Z"
   },
   {
    "duration": 35,
    "start_time": "2021-10-04T14:27:45.643Z"
   },
   {
    "duration": 11,
    "start_time": "2021-10-04T14:27:45.680Z"
   },
   {
    "duration": 23,
    "start_time": "2021-10-04T14:27:45.692Z"
   },
   {
    "duration": 34,
    "start_time": "2021-10-04T14:27:45.716Z"
   },
   {
    "duration": 14,
    "start_time": "2021-10-04T14:27:45.752Z"
   },
   {
    "duration": 28,
    "start_time": "2021-10-04T14:27:45.768Z"
   },
   {
    "duration": 28,
    "start_time": "2021-10-04T14:27:45.797Z"
   },
   {
    "duration": 29,
    "start_time": "2021-10-04T14:27:45.827Z"
   },
   {
    "duration": 16,
    "start_time": "2021-10-04T14:27:45.858Z"
   },
   {
    "duration": 26,
    "start_time": "2021-10-04T14:27:45.876Z"
   },
   {
    "duration": 24,
    "start_time": "2021-10-04T14:27:45.904Z"
   },
   {
    "duration": 43,
    "start_time": "2021-10-04T14:27:45.930Z"
   },
   {
    "duration": 35,
    "start_time": "2021-10-04T14:27:45.975Z"
   },
   {
    "duration": 48,
    "start_time": "2021-10-04T14:27:46.011Z"
   },
   {
    "duration": 32,
    "start_time": "2021-10-04T14:27:46.061Z"
   },
   {
    "duration": 49,
    "start_time": "2021-10-04T14:27:46.095Z"
   },
   {
    "duration": 25,
    "start_time": "2021-10-04T14:27:46.146Z"
   },
   {
    "duration": 35,
    "start_time": "2021-10-04T14:27:46.172Z"
   },
   {
    "duration": 31,
    "start_time": "2021-10-04T14:27:46.209Z"
   },
   {
    "duration": 44,
    "start_time": "2021-10-04T14:27:46.242Z"
   },
   {
    "duration": 37,
    "start_time": "2021-10-04T14:27:46.289Z"
   },
   {
    "duration": 16,
    "start_time": "2021-10-04T14:27:46.328Z"
   },
   {
    "duration": 55,
    "start_time": "2021-10-04T14:27:46.345Z"
   },
   {
    "duration": 32,
    "start_time": "2021-10-04T14:27:46.402Z"
   },
   {
    "duration": 14,
    "start_time": "2021-10-04T14:27:46.436Z"
   },
   {
    "duration": 34,
    "start_time": "2021-10-04T14:27:46.452Z"
   },
   {
    "duration": 29,
    "start_time": "2021-10-04T14:27:46.487Z"
   },
   {
    "duration": 34,
    "start_time": "2021-10-04T14:27:46.518Z"
   },
   {
    "duration": 40,
    "start_time": "2021-10-04T14:27:46.554Z"
   },
   {
    "duration": 22,
    "start_time": "2021-10-04T14:27:46.596Z"
   },
   {
    "duration": 35,
    "start_time": "2021-10-04T14:27:46.620Z"
   },
   {
    "duration": 32,
    "start_time": "2021-10-04T14:27:46.657Z"
   },
   {
    "duration": 28,
    "start_time": "2021-10-04T14:27:46.691Z"
   },
   {
    "duration": 39,
    "start_time": "2021-10-04T14:27:46.721Z"
   },
   {
    "duration": 36,
    "start_time": "2021-10-04T14:27:46.762Z"
   },
   {
    "duration": 23,
    "start_time": "2021-10-04T14:27:46.799Z"
   },
   {
    "duration": 20,
    "start_time": "2021-10-04T14:27:46.824Z"
   },
   {
    "duration": 39,
    "start_time": "2021-10-04T14:27:46.845Z"
   },
   {
    "duration": 23,
    "start_time": "2021-10-04T14:27:46.886Z"
   },
   {
    "duration": 38,
    "start_time": "2021-10-04T14:27:46.910Z"
   },
   {
    "duration": 32,
    "start_time": "2021-10-04T14:27:46.950Z"
   },
   {
    "duration": 40,
    "start_time": "2021-10-04T14:27:46.983Z"
   },
   {
    "duration": 27,
    "start_time": "2021-10-04T14:27:47.025Z"
   },
   {
    "duration": 21,
    "start_time": "2021-10-04T14:27:47.054Z"
   },
   {
    "duration": 34,
    "start_time": "2021-10-04T14:27:47.077Z"
   },
   {
    "duration": 34,
    "start_time": "2021-10-04T14:27:47.117Z"
   },
   {
    "duration": 42,
    "start_time": "2021-10-04T14:27:47.153Z"
   },
   {
    "duration": 39,
    "start_time": "2021-10-04T14:27:47.197Z"
   },
   {
    "duration": 21,
    "start_time": "2021-10-04T14:27:47.238Z"
   },
   {
    "duration": 1017,
    "start_time": "2021-10-04T14:27:47.261Z"
   },
   {
    "duration": 676,
    "start_time": "2021-10-04T14:27:47.603Z"
   },
   {
    "duration": 671,
    "start_time": "2021-10-04T14:27:47.609Z"
   },
   {
    "duration": 662,
    "start_time": "2021-10-04T14:27:47.619Z"
   },
   {
    "duration": 657,
    "start_time": "2021-10-04T14:27:47.625Z"
   },
   {
    "duration": 1022,
    "start_time": "2021-10-04T14:29:10.703Z"
   },
   {
    "duration": 995,
    "start_time": "2021-10-04T14:29:27.407Z"
   },
   {
    "duration": 11,
    "start_time": "2021-10-04T14:29:38.335Z"
   },
   {
    "duration": 15,
    "start_time": "2021-10-04T14:30:28.471Z"
   },
   {
    "duration": 6,
    "start_time": "2021-10-04T14:30:56.047Z"
   },
   {
    "duration": 2,
    "start_time": "2021-10-04T14:31:14.505Z"
   },
   {
    "duration": 58,
    "start_time": "2021-10-04T14:31:14.515Z"
   },
   {
    "duration": 8,
    "start_time": "2021-10-04T14:31:14.575Z"
   },
   {
    "duration": 14,
    "start_time": "2021-10-04T14:31:14.585Z"
   },
   {
    "duration": 42,
    "start_time": "2021-10-04T14:31:14.601Z"
   },
   {
    "duration": 9,
    "start_time": "2021-10-04T14:31:14.645Z"
   },
   {
    "duration": 9,
    "start_time": "2021-10-04T14:31:14.656Z"
   },
   {
    "duration": 14,
    "start_time": "2021-10-04T14:31:14.667Z"
   },
   {
    "duration": 14,
    "start_time": "2021-10-04T14:31:14.682Z"
   },
   {
    "duration": 11,
    "start_time": "2021-10-04T14:31:14.699Z"
   },
   {
    "duration": 37,
    "start_time": "2021-10-04T14:31:14.712Z"
   },
   {
    "duration": 10,
    "start_time": "2021-10-04T14:31:14.750Z"
   },
   {
    "duration": 11,
    "start_time": "2021-10-04T14:31:14.761Z"
   },
   {
    "duration": 8,
    "start_time": "2021-10-04T14:31:14.774Z"
   },
   {
    "duration": 5,
    "start_time": "2021-10-04T14:31:14.784Z"
   },
   {
    "duration": 5,
    "start_time": "2021-10-04T14:31:14.791Z"
   },
   {
    "duration": 55,
    "start_time": "2021-10-04T14:31:14.798Z"
   },
   {
    "duration": 4,
    "start_time": "2021-10-04T14:31:14.855Z"
   },
   {
    "duration": 22,
    "start_time": "2021-10-04T14:31:14.861Z"
   },
   {
    "duration": 17,
    "start_time": "2021-10-04T14:31:14.884Z"
   },
   {
    "duration": 4,
    "start_time": "2021-10-04T14:31:14.902Z"
   },
   {
    "duration": 7,
    "start_time": "2021-10-04T14:31:14.908Z"
   },
   {
    "duration": 30,
    "start_time": "2021-10-04T14:31:14.916Z"
   },
   {
    "duration": 15,
    "start_time": "2021-10-04T14:31:14.948Z"
   },
   {
    "duration": 5,
    "start_time": "2021-10-04T14:31:14.964Z"
   },
   {
    "duration": 6,
    "start_time": "2021-10-04T14:31:14.971Z"
   },
   {
    "duration": 7,
    "start_time": "2021-10-04T14:31:14.978Z"
   },
   {
    "duration": 15,
    "start_time": "2021-10-04T14:31:14.989Z"
   },
   {
    "duration": 18,
    "start_time": "2021-10-04T14:31:15.008Z"
   },
   {
    "duration": 6,
    "start_time": "2021-10-04T14:31:15.044Z"
   },
   {
    "duration": 15,
    "start_time": "2021-10-04T14:31:15.052Z"
   },
   {
    "duration": 27,
    "start_time": "2021-10-04T14:31:15.069Z"
   },
   {
    "duration": 5,
    "start_time": "2021-10-04T14:31:15.098Z"
   },
   {
    "duration": 10,
    "start_time": "2021-10-04T14:31:15.105Z"
   },
   {
    "duration": 17,
    "start_time": "2021-10-04T14:31:15.116Z"
   },
   {
    "duration": 20,
    "start_time": "2021-10-04T14:31:15.135Z"
   },
   {
    "duration": 28,
    "start_time": "2021-10-04T14:31:15.157Z"
   },
   {
    "duration": 6,
    "start_time": "2021-10-04T14:31:15.187Z"
   },
   {
    "duration": 8,
    "start_time": "2021-10-04T14:31:15.194Z"
   },
   {
    "duration": 6,
    "start_time": "2021-10-04T14:31:15.204Z"
   },
   {
    "duration": 9,
    "start_time": "2021-10-04T14:31:15.212Z"
   },
   {
    "duration": 10,
    "start_time": "2021-10-04T14:31:15.222Z"
   },
   {
    "duration": 14,
    "start_time": "2021-10-04T14:31:15.234Z"
   },
   {
    "duration": 23,
    "start_time": "2021-10-04T14:31:15.250Z"
   },
   {
    "duration": 6,
    "start_time": "2021-10-04T14:31:15.274Z"
   },
   {
    "duration": 27,
    "start_time": "2021-10-04T14:31:15.281Z"
   },
   {
    "duration": 19,
    "start_time": "2021-10-04T14:31:15.310Z"
   },
   {
    "duration": 19,
    "start_time": "2021-10-04T14:31:15.331Z"
   },
   {
    "duration": 14,
    "start_time": "2021-10-04T14:31:15.352Z"
   },
   {
    "duration": 19,
    "start_time": "2021-10-04T14:31:15.367Z"
   },
   {
    "duration": 11,
    "start_time": "2021-10-04T14:31:15.388Z"
   },
   {
    "duration": 35,
    "start_time": "2021-10-04T14:31:15.401Z"
   },
   {
    "duration": 13,
    "start_time": "2021-10-04T14:31:15.438Z"
   },
   {
    "duration": 19,
    "start_time": "2021-10-04T14:31:15.453Z"
   },
   {
    "duration": 12,
    "start_time": "2021-10-04T14:31:15.474Z"
   },
   {
    "duration": 16,
    "start_time": "2021-10-04T14:31:15.487Z"
   },
   {
    "duration": 15,
    "start_time": "2021-10-04T14:31:15.504Z"
   },
   {
    "duration": 12,
    "start_time": "2021-10-04T14:31:15.520Z"
   },
   {
    "duration": 13,
    "start_time": "2021-10-04T14:31:15.534Z"
   },
   {
    "duration": 15,
    "start_time": "2021-10-04T14:31:15.548Z"
   },
   {
    "duration": 7,
    "start_time": "2021-10-04T14:31:15.565Z"
   },
   {
    "duration": 15,
    "start_time": "2021-10-04T14:31:15.574Z"
   },
   {
    "duration": 24,
    "start_time": "2021-10-04T14:31:15.590Z"
   },
   {
    "duration": 19,
    "start_time": "2021-10-04T14:31:15.616Z"
   },
   {
    "duration": 40,
    "start_time": "2021-10-04T14:31:15.636Z"
   },
   {
    "duration": 3,
    "start_time": "2021-10-04T14:31:15.678Z"
   },
   {
    "duration": 22,
    "start_time": "2021-10-04T14:31:15.682Z"
   },
   {
    "duration": 12,
    "start_time": "2021-10-04T14:31:15.706Z"
   },
   {
    "duration": 11,
    "start_time": "2021-10-04T14:31:15.720Z"
   },
   {
    "duration": 16,
    "start_time": "2021-10-04T14:31:15.732Z"
   },
   {
    "duration": 12,
    "start_time": "2021-10-04T14:31:15.750Z"
   },
   {
    "duration": 5,
    "start_time": "2021-10-04T14:31:15.763Z"
   },
   {
    "duration": 6,
    "start_time": "2021-10-04T14:31:15.770Z"
   },
   {
    "duration": 7,
    "start_time": "2021-10-04T14:31:15.777Z"
   },
   {
    "duration": 10,
    "start_time": "2021-10-04T14:31:15.785Z"
   },
   {
    "duration": 9,
    "start_time": "2021-10-04T14:31:15.796Z"
   },
   {
    "duration": 8,
    "start_time": "2021-10-04T14:31:15.807Z"
   },
   {
    "duration": 15,
    "start_time": "2021-10-04T14:31:15.816Z"
   },
   {
    "duration": 22,
    "start_time": "2021-10-04T14:31:15.845Z"
   },
   {
    "duration": 19,
    "start_time": "2021-10-04T14:31:15.868Z"
   },
   {
    "duration": 24,
    "start_time": "2021-10-04T14:31:15.889Z"
   },
   {
    "duration": 40,
    "start_time": "2021-10-04T14:31:15.918Z"
   },
   {
    "duration": 13,
    "start_time": "2021-10-04T14:31:15.960Z"
   },
   {
    "duration": 14,
    "start_time": "2021-10-04T14:31:15.975Z"
   },
   {
    "duration": 8,
    "start_time": "2021-10-04T14:31:15.991Z"
   },
   {
    "duration": 34,
    "start_time": "2021-10-04T14:31:16.000Z"
   },
   {
    "duration": 21,
    "start_time": "2021-10-04T14:31:16.036Z"
   },
   {
    "duration": 21,
    "start_time": "2021-10-04T14:31:16.059Z"
   },
   {
    "duration": 24,
    "start_time": "2021-10-04T14:31:16.082Z"
   },
   {
    "duration": 61,
    "start_time": "2021-10-04T14:31:16.108Z"
   },
   {
    "duration": 17,
    "start_time": "2021-10-04T14:31:45.535Z"
   },
   {
    "duration": 3,
    "start_time": "2021-10-04T14:31:56.086Z"
   },
   {
    "duration": 61,
    "start_time": "2021-10-04T14:31:56.091Z"
   },
   {
    "duration": 9,
    "start_time": "2021-10-04T14:31:56.154Z"
   },
   {
    "duration": 12,
    "start_time": "2021-10-04T14:31:56.164Z"
   },
   {
    "duration": 39,
    "start_time": "2021-10-04T14:31:56.178Z"
   },
   {
    "duration": 7,
    "start_time": "2021-10-04T14:31:56.218Z"
   },
   {
    "duration": 7,
    "start_time": "2021-10-04T14:31:56.226Z"
   },
   {
    "duration": 13,
    "start_time": "2021-10-04T14:31:56.235Z"
   },
   {
    "duration": 14,
    "start_time": "2021-10-04T14:31:56.250Z"
   },
   {
    "duration": 12,
    "start_time": "2021-10-04T14:31:56.266Z"
   },
   {
    "duration": 13,
    "start_time": "2021-10-04T14:31:56.280Z"
   },
   {
    "duration": 10,
    "start_time": "2021-10-04T14:31:56.294Z"
   },
   {
    "duration": 4,
    "start_time": "2021-10-04T14:31:56.305Z"
   },
   {
    "duration": 39,
    "start_time": "2021-10-04T14:31:56.311Z"
   },
   {
    "duration": 4,
    "start_time": "2021-10-04T14:31:56.352Z"
   },
   {
    "duration": 6,
    "start_time": "2021-10-04T14:31:56.358Z"
   },
   {
    "duration": 25,
    "start_time": "2021-10-04T14:31:56.366Z"
   },
   {
    "duration": 4,
    "start_time": "2021-10-04T14:31:56.393Z"
   },
   {
    "duration": 16,
    "start_time": "2021-10-04T14:31:56.399Z"
   },
   {
    "duration": 41,
    "start_time": "2021-10-04T14:31:56.417Z"
   },
   {
    "duration": 5,
    "start_time": "2021-10-04T14:31:56.460Z"
   },
   {
    "duration": 8,
    "start_time": "2021-10-04T14:31:56.466Z"
   },
   {
    "duration": 7,
    "start_time": "2021-10-04T14:31:56.475Z"
   },
   {
    "duration": 14,
    "start_time": "2021-10-04T14:31:56.483Z"
   },
   {
    "duration": 5,
    "start_time": "2021-10-04T14:31:56.498Z"
   },
   {
    "duration": 6,
    "start_time": "2021-10-04T14:31:56.505Z"
   },
   {
    "duration": 29,
    "start_time": "2021-10-04T14:31:56.515Z"
   },
   {
    "duration": 17,
    "start_time": "2021-10-04T14:31:56.547Z"
   },
   {
    "duration": 6,
    "start_time": "2021-10-04T14:31:56.566Z"
   },
   {
    "duration": 8,
    "start_time": "2021-10-04T14:31:56.574Z"
   },
   {
    "duration": 7,
    "start_time": "2021-10-04T14:31:56.583Z"
   },
   {
    "duration": 20,
    "start_time": "2021-10-04T14:31:56.591Z"
   },
   {
    "duration": 5,
    "start_time": "2021-10-04T14:31:56.612Z"
   },
   {
    "duration": 6,
    "start_time": "2021-10-04T14:31:56.645Z"
   },
   {
    "duration": 5,
    "start_time": "2021-10-04T14:31:56.653Z"
   },
   {
    "duration": 7,
    "start_time": "2021-10-04T14:31:56.660Z"
   },
   {
    "duration": 23,
    "start_time": "2021-10-04T14:31:56.668Z"
   },
   {
    "duration": 5,
    "start_time": "2021-10-04T14:31:56.693Z"
   },
   {
    "duration": 4,
    "start_time": "2021-10-04T14:31:56.700Z"
   },
   {
    "duration": 6,
    "start_time": "2021-10-04T14:31:56.706Z"
   },
   {
    "duration": 4,
    "start_time": "2021-10-04T14:31:56.745Z"
   },
   {
    "duration": 6,
    "start_time": "2021-10-04T14:31:56.751Z"
   },
   {
    "duration": 6,
    "start_time": "2021-10-04T14:31:56.759Z"
   },
   {
    "duration": 18,
    "start_time": "2021-10-04T14:31:56.767Z"
   },
   {
    "duration": 6,
    "start_time": "2021-10-04T14:31:56.787Z"
   },
   {
    "duration": 8,
    "start_time": "2021-10-04T14:31:56.794Z"
   },
   {
    "duration": 12,
    "start_time": "2021-10-04T14:31:56.804Z"
   },
   {
    "duration": 44,
    "start_time": "2021-10-04T14:31:56.818Z"
   },
   {
    "duration": 3,
    "start_time": "2021-10-04T14:31:56.864Z"
   },
   {
    "duration": 13,
    "start_time": "2021-10-04T14:31:56.869Z"
   },
   {
    "duration": 10,
    "start_time": "2021-10-04T14:31:56.884Z"
   },
   {
    "duration": 21,
    "start_time": "2021-10-04T14:31:56.896Z"
   },
   {
    "duration": 30,
    "start_time": "2021-10-04T14:31:56.919Z"
   },
   {
    "duration": 12,
    "start_time": "2021-10-04T14:31:56.951Z"
   },
   {
    "duration": 8,
    "start_time": "2021-10-04T14:31:56.965Z"
   },
   {
    "duration": 15,
    "start_time": "2021-10-04T14:31:56.975Z"
   },
   {
    "duration": 16,
    "start_time": "2021-10-04T14:31:56.992Z"
   },
   {
    "duration": 5,
    "start_time": "2021-10-04T14:31:57.009Z"
   },
   {
    "duration": 34,
    "start_time": "2021-10-04T14:31:57.016Z"
   },
   {
    "duration": 16,
    "start_time": "2021-10-04T14:31:57.051Z"
   },
   {
    "duration": 6,
    "start_time": "2021-10-04T14:31:57.068Z"
   },
   {
    "duration": 12,
    "start_time": "2021-10-04T14:31:57.076Z"
   },
   {
    "duration": 15,
    "start_time": "2021-10-04T14:31:57.090Z"
   },
   {
    "duration": 8,
    "start_time": "2021-10-04T14:31:57.107Z"
   },
   {
    "duration": 37,
    "start_time": "2021-10-04T14:31:57.117Z"
   },
   {
    "duration": 3,
    "start_time": "2021-10-04T14:31:57.156Z"
   },
   {
    "duration": 22,
    "start_time": "2021-10-04T14:31:57.161Z"
   },
   {
    "duration": 15,
    "start_time": "2021-10-04T14:31:57.185Z"
   },
   {
    "duration": 43,
    "start_time": "2021-10-04T14:31:57.202Z"
   },
   {
    "duration": 10,
    "start_time": "2021-10-04T14:31:57.248Z"
   },
   {
    "duration": 14,
    "start_time": "2021-10-04T14:31:57.260Z"
   },
   {
    "duration": 6,
    "start_time": "2021-10-04T14:31:57.276Z"
   },
   {
    "duration": 9,
    "start_time": "2021-10-04T14:31:57.284Z"
   },
   {
    "duration": 8,
    "start_time": "2021-10-04T14:31:57.295Z"
   },
   {
    "duration": 39,
    "start_time": "2021-10-04T14:31:57.305Z"
   },
   {
    "duration": 7,
    "start_time": "2021-10-04T14:31:57.347Z"
   },
   {
    "duration": 13,
    "start_time": "2021-10-04T14:31:57.356Z"
   },
   {
    "duration": 22,
    "start_time": "2021-10-04T14:31:57.371Z"
   },
   {
    "duration": 13,
    "start_time": "2021-10-04T14:31:57.394Z"
   },
   {
    "duration": 9,
    "start_time": "2021-10-04T14:31:57.408Z"
   },
   {
    "duration": 37,
    "start_time": "2021-10-04T14:31:57.423Z"
   },
   {
    "duration": 41,
    "start_time": "2021-10-04T14:31:57.462Z"
   },
   {
    "duration": 14,
    "start_time": "2021-10-04T14:31:57.505Z"
   },
   {
    "duration": 13,
    "start_time": "2021-10-04T14:31:57.545Z"
   },
   {
    "duration": 8,
    "start_time": "2021-10-04T14:31:57.559Z"
   },
   {
    "duration": 23,
    "start_time": "2021-10-04T14:31:57.569Z"
   },
   {
    "duration": 19,
    "start_time": "2021-10-04T14:31:57.593Z"
   },
   {
    "duration": 37,
    "start_time": "2021-10-04T14:31:57.614Z"
   },
   {
    "duration": 21,
    "start_time": "2021-10-04T14:31:57.653Z"
   },
   {
    "duration": 44,
    "start_time": "2021-10-04T14:31:57.676Z"
   },
   {
    "duration": 25,
    "start_time": "2021-10-04T14:33:43.779Z"
   },
   {
    "duration": 13,
    "start_time": "2021-10-04T14:48:26.580Z"
   },
   {
    "duration": 15,
    "start_time": "2021-10-04T14:49:06.587Z"
   },
   {
    "duration": 4,
    "start_time": "2021-10-04T14:49:22.903Z"
   },
   {
    "duration": 4,
    "start_time": "2021-10-04T14:49:28.661Z"
   },
   {
    "duration": 5,
    "start_time": "2021-10-04T14:49:31.391Z"
   },
   {
    "duration": 6,
    "start_time": "2021-10-04T14:49:38.087Z"
   },
   {
    "duration": 5,
    "start_time": "2021-10-04T14:49:42.976Z"
   },
   {
    "duration": 6,
    "start_time": "2021-10-04T14:49:47.667Z"
   },
   {
    "duration": 7,
    "start_time": "2021-10-04T14:49:52.951Z"
   },
   {
    "duration": 8,
    "start_time": "2021-10-04T14:49:58.020Z"
   },
   {
    "duration": 8,
    "start_time": "2021-10-04T14:50:02.447Z"
   },
   {
    "duration": 12,
    "start_time": "2021-10-04T14:50:20.743Z"
   },
   {
    "duration": 29,
    "start_time": "2021-10-04T14:50:29.210Z"
   },
   {
    "duration": 10,
    "start_time": "2021-10-04T14:57:50.931Z"
   },
   {
    "duration": 5,
    "start_time": "2021-10-04T14:58:06.169Z"
   },
   {
    "duration": 17,
    "start_time": "2021-10-04T14:58:18.008Z"
   },
   {
    "duration": 15,
    "start_time": "2021-10-04T14:59:01.260Z"
   },
   {
    "duration": 18,
    "start_time": "2021-10-04T15:05:45.822Z"
   },
   {
    "duration": 143,
    "start_time": "2021-10-04T15:10:57.856Z"
   },
   {
    "duration": 94,
    "start_time": "2021-10-04T15:11:04.049Z"
   },
   {
    "duration": 251,
    "start_time": "2021-10-04T15:11:14.321Z"
   },
   {
    "duration": 4,
    "start_time": "2021-10-04T15:11:40.745Z"
   },
   {
    "duration": 21,
    "start_time": "2021-10-04T15:11:58.730Z"
   },
   {
    "duration": 20,
    "start_time": "2021-10-04T15:12:41.587Z"
   },
   {
    "duration": 3,
    "start_time": "2021-10-04T15:12:51.578Z"
   },
   {
    "duration": 4,
    "start_time": "2021-10-04T15:13:25.115Z"
   },
   {
    "duration": 5,
    "start_time": "2021-10-04T15:13:39.420Z"
   },
   {
    "duration": 4,
    "start_time": "2021-10-04T15:26:24.675Z"
   },
   {
    "duration": 5,
    "start_time": "2021-10-04T15:26:32.507Z"
   },
   {
    "duration": 4,
    "start_time": "2021-10-04T15:26:40.051Z"
   },
   {
    "duration": 2,
    "start_time": "2021-10-04T15:27:09.644Z"
   },
   {
    "duration": 4,
    "start_time": "2021-10-04T15:27:15.155Z"
   },
   {
    "duration": 4,
    "start_time": "2021-10-04T15:27:21.051Z"
   },
   {
    "duration": 2,
    "start_time": "2021-10-04T15:36:41.971Z"
   },
   {
    "duration": 321,
    "start_time": "2021-10-04T15:36:43.819Z"
   },
   {
    "duration": 10,
    "start_time": "2021-10-04T15:37:04.557Z"
   },
   {
    "duration": 18,
    "start_time": "2021-10-04T15:41:23.959Z"
   },
   {
    "duration": 22,
    "start_time": "2021-10-04T15:42:01.592Z"
   },
   {
    "duration": 1057,
    "start_time": "2021-10-04T15:47:21.731Z"
   },
   {
    "duration": 19,
    "start_time": "2021-10-04T15:48:01.516Z"
   },
   {
    "duration": 4,
    "start_time": "2021-10-04T15:51:27.565Z"
   },
   {
    "duration": 21,
    "start_time": "2021-10-04T15:51:40.765Z"
   },
   {
    "duration": 13,
    "start_time": "2021-10-04T15:52:10.685Z"
   },
   {
    "duration": 13,
    "start_time": "2021-10-04T15:52:17.566Z"
   },
   {
    "duration": 17,
    "start_time": "2021-10-04T15:52:59.662Z"
   },
   {
    "duration": 3,
    "start_time": "2021-10-04T16:32:11.301Z"
   },
   {
    "duration": 74,
    "start_time": "2021-10-04T16:32:11.315Z"
   },
   {
    "duration": 10,
    "start_time": "2021-10-04T16:32:11.391Z"
   },
   {
    "duration": 20,
    "start_time": "2021-10-04T16:32:11.403Z"
   },
   {
    "duration": 57,
    "start_time": "2021-10-04T16:32:11.425Z"
   },
   {
    "duration": 8,
    "start_time": "2021-10-04T16:32:11.484Z"
   },
   {
    "duration": 10,
    "start_time": "2021-10-04T16:32:11.494Z"
   },
   {
    "duration": 13,
    "start_time": "2021-10-04T16:32:11.506Z"
   },
   {
    "duration": 14,
    "start_time": "2021-10-04T16:32:11.521Z"
   },
   {
    "duration": 12,
    "start_time": "2021-10-04T16:32:11.545Z"
   },
   {
    "duration": 13,
    "start_time": "2021-10-04T16:32:11.559Z"
   },
   {
    "duration": 11,
    "start_time": "2021-10-04T16:32:11.574Z"
   },
   {
    "duration": 3,
    "start_time": "2021-10-04T16:32:11.587Z"
   },
   {
    "duration": 8,
    "start_time": "2021-10-04T16:32:11.592Z"
   },
   {
    "duration": 43,
    "start_time": "2021-10-04T16:32:11.602Z"
   },
   {
    "duration": 4,
    "start_time": "2021-10-04T16:32:11.647Z"
   },
   {
    "duration": 24,
    "start_time": "2021-10-04T16:32:11.653Z"
   },
   {
    "duration": 5,
    "start_time": "2021-10-04T16:32:11.679Z"
   },
   {
    "duration": 17,
    "start_time": "2021-10-04T16:32:11.686Z"
   },
   {
    "duration": 51,
    "start_time": "2021-10-04T16:32:11.705Z"
   },
   {
    "duration": 5,
    "start_time": "2021-10-04T16:32:11.759Z"
   },
   {
    "duration": 7,
    "start_time": "2021-10-04T16:32:11.766Z"
   },
   {
    "duration": 8,
    "start_time": "2021-10-04T16:32:11.775Z"
   },
   {
    "duration": 10,
    "start_time": "2021-10-04T16:32:11.785Z"
   },
   {
    "duration": 7,
    "start_time": "2021-10-04T16:32:11.797Z"
   },
   {
    "duration": 43,
    "start_time": "2021-10-04T16:32:11.806Z"
   },
   {
    "duration": 7,
    "start_time": "2021-10-04T16:32:11.851Z"
   },
   {
    "duration": 17,
    "start_time": "2021-10-04T16:32:11.864Z"
   },
   {
    "duration": 10,
    "start_time": "2021-10-04T16:32:11.884Z"
   },
   {
    "duration": 18,
    "start_time": "2021-10-04T16:32:11.896Z"
   },
   {
    "duration": 30,
    "start_time": "2021-10-04T16:32:11.916Z"
   },
   {
    "duration": 19,
    "start_time": "2021-10-04T16:32:11.948Z"
   },
   {
    "duration": 5,
    "start_time": "2021-10-04T16:32:11.969Z"
   },
   {
    "duration": 7,
    "start_time": "2021-10-04T16:32:11.976Z"
   },
   {
    "duration": 5,
    "start_time": "2021-10-04T16:32:11.985Z"
   },
   {
    "duration": 14,
    "start_time": "2021-10-04T16:32:11.992Z"
   },
   {
    "duration": 53,
    "start_time": "2021-10-04T16:32:12.008Z"
   },
   {
    "duration": 8,
    "start_time": "2021-10-04T16:32:12.064Z"
   },
   {
    "duration": 7,
    "start_time": "2021-10-04T16:32:12.074Z"
   },
   {
    "duration": 6,
    "start_time": "2021-10-04T16:32:12.083Z"
   },
   {
    "duration": 6,
    "start_time": "2021-10-04T16:32:12.091Z"
   },
   {
    "duration": 6,
    "start_time": "2021-10-04T16:32:12.099Z"
   },
   {
    "duration": 38,
    "start_time": "2021-10-04T16:32:12.108Z"
   },
   {
    "duration": 27,
    "start_time": "2021-10-04T16:32:12.149Z"
   },
   {
    "duration": 5,
    "start_time": "2021-10-04T16:32:12.178Z"
   },
   {
    "duration": 8,
    "start_time": "2021-10-04T16:32:12.185Z"
   },
   {
    "duration": 7,
    "start_time": "2021-10-04T16:32:12.195Z"
   },
   {
    "duration": 56,
    "start_time": "2021-10-04T16:32:12.204Z"
   },
   {
    "duration": 5,
    "start_time": "2021-10-04T16:32:12.263Z"
   },
   {
    "duration": 7,
    "start_time": "2021-10-04T16:32:12.270Z"
   },
   {
    "duration": 6,
    "start_time": "2021-10-04T16:32:12.280Z"
   },
   {
    "duration": 31,
    "start_time": "2021-10-04T16:32:12.288Z"
   },
   {
    "duration": 20,
    "start_time": "2021-10-04T16:32:12.344Z"
   },
   {
    "duration": 11,
    "start_time": "2021-10-04T16:32:12.366Z"
   },
   {
    "duration": 8,
    "start_time": "2021-10-04T16:32:12.380Z"
   },
   {
    "duration": 15,
    "start_time": "2021-10-04T16:32:12.390Z"
   },
   {
    "duration": 46,
    "start_time": "2021-10-04T16:32:12.407Z"
   },
   {
    "duration": 7,
    "start_time": "2021-10-04T16:32:12.454Z"
   },
   {
    "duration": 9,
    "start_time": "2021-10-04T16:32:12.462Z"
   },
   {
    "duration": 8,
    "start_time": "2021-10-04T16:32:12.472Z"
   },
   {
    "duration": 4,
    "start_time": "2021-10-04T16:32:12.482Z"
   },
   {
    "duration": 10,
    "start_time": "2021-10-04T16:32:12.488Z"
   },
   {
    "duration": 15,
    "start_time": "2021-10-04T16:32:12.499Z"
   },
   {
    "duration": 9,
    "start_time": "2021-10-04T16:32:12.544Z"
   },
   {
    "duration": 16,
    "start_time": "2021-10-04T16:32:12.555Z"
   },
   {
    "duration": 2,
    "start_time": "2021-10-04T16:32:12.573Z"
   },
   {
    "duration": 21,
    "start_time": "2021-10-04T16:32:12.577Z"
   },
   {
    "duration": 13,
    "start_time": "2021-10-04T16:32:12.600Z"
   },
   {
    "duration": 39,
    "start_time": "2021-10-04T16:32:12.614Z"
   },
   {
    "duration": 8,
    "start_time": "2021-10-04T16:32:12.654Z"
   },
   {
    "duration": 10,
    "start_time": "2021-10-04T16:32:12.664Z"
   },
   {
    "duration": 6,
    "start_time": "2021-10-04T16:32:12.675Z"
   },
   {
    "duration": 6,
    "start_time": "2021-10-04T16:32:12.683Z"
   },
   {
    "duration": 10,
    "start_time": "2021-10-04T16:32:12.691Z"
   },
   {
    "duration": 42,
    "start_time": "2021-10-04T16:32:12.703Z"
   },
   {
    "duration": 12,
    "start_time": "2021-10-04T16:32:12.748Z"
   },
   {
    "duration": 9,
    "start_time": "2021-10-04T16:32:12.763Z"
   },
   {
    "duration": 11,
    "start_time": "2021-10-04T16:32:12.775Z"
   },
   {
    "duration": 8,
    "start_time": "2021-10-04T16:32:12.787Z"
   },
   {
    "duration": 16,
    "start_time": "2021-10-04T16:32:12.797Z"
   },
   {
    "duration": 39,
    "start_time": "2021-10-04T16:32:12.845Z"
   },
   {
    "duration": 9,
    "start_time": "2021-10-04T16:32:12.891Z"
   },
   {
    "duration": 14,
    "start_time": "2021-10-04T16:32:12.903Z"
   },
   {
    "duration": 31,
    "start_time": "2021-10-04T16:32:12.919Z"
   },
   {
    "duration": 18,
    "start_time": "2021-10-04T16:32:12.952Z"
   },
   {
    "duration": 16,
    "start_time": "2021-10-04T16:32:12.972Z"
   },
   {
    "duration": 16,
    "start_time": "2021-10-04T16:32:12.990Z"
   },
   {
    "duration": 58,
    "start_time": "2021-10-04T16:32:13.008Z"
   },
   {
    "duration": 45,
    "start_time": "2021-10-04T16:32:13.068Z"
   },
   {
    "duration": 42,
    "start_time": "2021-10-04T16:32:13.115Z"
   },
   {
    "duration": 18,
    "start_time": "2021-10-04T16:32:13.159Z"
   },
   {
    "duration": 28,
    "start_time": "2021-10-04T16:32:13.178Z"
   },
   {
    "duration": 4,
    "start_time": "2021-10-04T16:32:13.208Z"
   },
   {
    "duration": 45,
    "start_time": "2021-10-04T16:32:13.214Z"
   },
   {
    "duration": 5,
    "start_time": "2021-10-04T16:32:13.261Z"
   },
   {
    "duration": 23,
    "start_time": "2021-10-04T16:32:13.267Z"
   },
   {
    "duration": 17,
    "start_time": "2021-10-04T16:32:13.292Z"
   },
   {
    "duration": 17,
    "start_time": "2021-10-04T16:37:20.689Z"
   },
   {
    "duration": 3,
    "start_time": "2021-10-04T16:37:46.825Z"
   },
   {
    "duration": 59,
    "start_time": "2021-10-04T16:37:46.838Z"
   },
   {
    "duration": 8,
    "start_time": "2021-10-04T16:37:46.899Z"
   },
   {
    "duration": 12,
    "start_time": "2021-10-04T16:37:46.909Z"
   },
   {
    "duration": 39,
    "start_time": "2021-10-04T16:37:46.923Z"
   },
   {
    "duration": 8,
    "start_time": "2021-10-04T16:37:46.964Z"
   },
   {
    "duration": 8,
    "start_time": "2021-10-04T16:37:46.973Z"
   },
   {
    "duration": 11,
    "start_time": "2021-10-04T16:37:46.983Z"
   },
   {
    "duration": 13,
    "start_time": "2021-10-04T16:37:46.996Z"
   },
   {
    "duration": 11,
    "start_time": "2021-10-04T16:37:47.013Z"
   },
   {
    "duration": 27,
    "start_time": "2021-10-04T16:37:47.026Z"
   },
   {
    "duration": 9,
    "start_time": "2021-10-04T16:37:47.055Z"
   },
   {
    "duration": 3,
    "start_time": "2021-10-04T16:37:47.066Z"
   },
   {
    "duration": 15,
    "start_time": "2021-10-04T16:37:47.071Z"
   },
   {
    "duration": 7,
    "start_time": "2021-10-04T16:37:47.088Z"
   },
   {
    "duration": 12,
    "start_time": "2021-10-04T16:37:47.096Z"
   },
   {
    "duration": 48,
    "start_time": "2021-10-04T16:37:47.109Z"
   },
   {
    "duration": 6,
    "start_time": "2021-10-04T16:37:47.159Z"
   },
   {
    "duration": 21,
    "start_time": "2021-10-04T16:37:47.167Z"
   },
   {
    "duration": 28,
    "start_time": "2021-10-04T16:37:47.189Z"
   },
   {
    "duration": 26,
    "start_time": "2021-10-04T16:37:47.219Z"
   },
   {
    "duration": 11,
    "start_time": "2021-10-04T16:37:47.246Z"
   },
   {
    "duration": 5,
    "start_time": "2021-10-04T16:37:47.259Z"
   },
   {
    "duration": 14,
    "start_time": "2021-10-04T16:37:47.266Z"
   },
   {
    "duration": 12,
    "start_time": "2021-10-04T16:37:47.282Z"
   },
   {
    "duration": 6,
    "start_time": "2021-10-04T16:37:47.295Z"
   },
   {
    "duration": 15,
    "start_time": "2021-10-04T16:37:47.303Z"
   },
   {
    "duration": 37,
    "start_time": "2021-10-04T16:37:47.323Z"
   },
   {
    "duration": 7,
    "start_time": "2021-10-04T16:37:47.362Z"
   },
   {
    "duration": 8,
    "start_time": "2021-10-04T16:37:47.370Z"
   },
   {
    "duration": 12,
    "start_time": "2021-10-04T16:37:47.380Z"
   },
   {
    "duration": 24,
    "start_time": "2021-10-04T16:37:47.394Z"
   },
   {
    "duration": 6,
    "start_time": "2021-10-04T16:37:47.419Z"
   },
   {
    "duration": 19,
    "start_time": "2021-10-04T16:37:47.426Z"
   },
   {
    "duration": 6,
    "start_time": "2021-10-04T16:37:47.446Z"
   },
   {
    "duration": 6,
    "start_time": "2021-10-04T16:37:47.453Z"
   },
   {
    "duration": 16,
    "start_time": "2021-10-04T16:37:47.460Z"
   },
   {
    "duration": 6,
    "start_time": "2021-10-04T16:37:47.477Z"
   },
   {
    "duration": 7,
    "start_time": "2021-10-04T16:37:47.484Z"
   },
   {
    "duration": 6,
    "start_time": "2021-10-04T16:37:47.492Z"
   },
   {
    "duration": 5,
    "start_time": "2021-10-04T16:37:47.500Z"
   },
   {
    "duration": 8,
    "start_time": "2021-10-04T16:37:47.506Z"
   },
   {
    "duration": 5,
    "start_time": "2021-10-04T16:37:47.544Z"
   },
   {
    "duration": 16,
    "start_time": "2021-10-04T16:37:47.550Z"
   },
   {
    "duration": 3,
    "start_time": "2021-10-04T16:37:47.567Z"
   },
   {
    "duration": 6,
    "start_time": "2021-10-04T16:37:47.572Z"
   },
   {
    "duration": 6,
    "start_time": "2021-10-04T16:37:47.579Z"
   },
   {
    "duration": 16,
    "start_time": "2021-10-04T16:37:47.587Z"
   },
   {
    "duration": 4,
    "start_time": "2021-10-04T16:37:47.605Z"
   },
   {
    "duration": 36,
    "start_time": "2021-10-04T16:37:47.611Z"
   },
   {
    "duration": 23,
    "start_time": "2021-10-04T16:37:47.649Z"
   },
   {
    "duration": 24,
    "start_time": "2021-10-04T16:37:47.674Z"
   },
   {
    "duration": 13,
    "start_time": "2021-10-04T16:37:47.700Z"
   },
   {
    "duration": 9,
    "start_time": "2021-10-04T16:37:47.715Z"
   },
   {
    "duration": 19,
    "start_time": "2021-10-04T16:37:47.726Z"
   },
   {
    "duration": 16,
    "start_time": "2021-10-04T16:37:47.747Z"
   },
   {
    "duration": 17,
    "start_time": "2021-10-04T16:37:47.765Z"
   },
   {
    "duration": 6,
    "start_time": "2021-10-04T16:37:47.784Z"
   },
   {
    "duration": 10,
    "start_time": "2021-10-04T16:37:47.791Z"
   },
   {
    "duration": 42,
    "start_time": "2021-10-04T16:37:47.803Z"
   },
   {
    "duration": 5,
    "start_time": "2021-10-04T16:37:47.847Z"
   },
   {
    "duration": 10,
    "start_time": "2021-10-04T16:37:47.854Z"
   },
   {
    "duration": 17,
    "start_time": "2021-10-04T16:37:47.866Z"
   },
   {
    "duration": 10,
    "start_time": "2021-10-04T16:37:47.885Z"
   },
   {
    "duration": 19,
    "start_time": "2021-10-04T16:37:47.896Z"
   },
   {
    "duration": 4,
    "start_time": "2021-10-04T16:37:47.945Z"
   },
   {
    "duration": 22,
    "start_time": "2021-10-04T16:37:47.951Z"
   },
   {
    "duration": 14,
    "start_time": "2021-10-04T16:37:47.975Z"
   },
   {
    "duration": 12,
    "start_time": "2021-10-04T16:37:47.991Z"
   },
   {
    "duration": 45,
    "start_time": "2021-10-04T16:37:48.005Z"
   },
   {
    "duration": 11,
    "start_time": "2021-10-04T16:37:48.051Z"
   },
   {
    "duration": 6,
    "start_time": "2021-10-04T16:37:48.064Z"
   },
   {
    "duration": 7,
    "start_time": "2021-10-04T16:37:48.072Z"
   },
   {
    "duration": 8,
    "start_time": "2021-10-04T16:37:48.080Z"
   },
   {
    "duration": 56,
    "start_time": "2021-10-04T16:37:48.090Z"
   },
   {
    "duration": 5,
    "start_time": "2021-10-04T16:37:48.148Z"
   },
   {
    "duration": 8,
    "start_time": "2021-10-04T16:37:48.155Z"
   },
   {
    "duration": 18,
    "start_time": "2021-10-04T16:37:48.165Z"
   },
   {
    "duration": 9,
    "start_time": "2021-10-04T16:37:48.185Z"
   },
   {
    "duration": 17,
    "start_time": "2021-10-04T16:37:48.196Z"
   },
   {
    "duration": 19,
    "start_time": "2021-10-04T16:37:48.214Z"
   },
   {
    "duration": 35,
    "start_time": "2021-10-04T16:37:48.249Z"
   },
   {
    "duration": 10,
    "start_time": "2021-10-04T16:37:48.287Z"
   },
   {
    "duration": 13,
    "start_time": "2021-10-04T16:37:48.299Z"
   },
   {
    "duration": 33,
    "start_time": "2021-10-04T16:37:48.314Z"
   },
   {
    "duration": 17,
    "start_time": "2021-10-04T16:37:48.349Z"
   },
   {
    "duration": 15,
    "start_time": "2021-10-04T16:37:48.368Z"
   },
   {
    "duration": 16,
    "start_time": "2021-10-04T16:37:48.385Z"
   },
   {
    "duration": 51,
    "start_time": "2021-10-04T16:37:48.402Z"
   },
   {
    "duration": 44,
    "start_time": "2021-10-04T16:37:48.455Z"
   },
   {
    "duration": 25,
    "start_time": "2021-10-04T16:37:48.501Z"
   },
   {
    "duration": 29,
    "start_time": "2021-10-04T16:37:48.528Z"
   },
   {
    "duration": 27,
    "start_time": "2021-10-04T16:37:48.559Z"
   },
   {
    "duration": 4,
    "start_time": "2021-10-04T16:37:48.587Z"
   },
   {
    "duration": 22,
    "start_time": "2021-10-04T16:37:48.592Z"
   },
   {
    "duration": 28,
    "start_time": "2021-10-04T16:37:48.616Z"
   },
   {
    "duration": 23,
    "start_time": "2021-10-04T16:37:48.646Z"
   },
   {
    "duration": 16,
    "start_time": "2021-10-04T16:37:48.671Z"
   },
   {
    "duration": 293,
    "start_time": "2021-10-04T16:49:24.243Z"
   },
   {
    "duration": 4,
    "start_time": "2021-10-04T16:49:34.066Z"
   },
   {
    "duration": 4,
    "start_time": "2021-10-04T16:50:10.905Z"
   },
   {
    "duration": 26,
    "start_time": "2021-10-04T16:51:15.483Z"
   },
   {
    "duration": 8,
    "start_time": "2021-10-04T17:22:46.885Z"
   },
   {
    "duration": 96,
    "start_time": "2021-10-04T17:25:06.422Z"
   },
   {
    "duration": 6,
    "start_time": "2021-10-04T17:25:13.816Z"
   },
   {
    "duration": 5,
    "start_time": "2021-10-04T17:25:27.335Z"
   },
   {
    "duration": 99,
    "start_time": "2021-10-04T17:28:52.730Z"
   },
   {
    "duration": 12,
    "start_time": "2021-10-04T17:29:00.723Z"
   },
   {
    "duration": 3,
    "start_time": "2021-10-04T17:29:35.131Z"
   },
   {
    "duration": 62,
    "start_time": "2021-10-04T17:29:35.145Z"
   },
   {
    "duration": 9,
    "start_time": "2021-10-04T17:29:35.209Z"
   },
   {
    "duration": 13,
    "start_time": "2021-10-04T17:29:35.219Z"
   },
   {
    "duration": 39,
    "start_time": "2021-10-04T17:29:35.234Z"
   },
   {
    "duration": 6,
    "start_time": "2021-10-04T17:29:35.275Z"
   },
   {
    "duration": 7,
    "start_time": "2021-10-04T17:29:35.282Z"
   },
   {
    "duration": 12,
    "start_time": "2021-10-04T17:29:35.290Z"
   },
   {
    "duration": 12,
    "start_time": "2021-10-04T17:29:35.304Z"
   },
   {
    "duration": 11,
    "start_time": "2021-10-04T17:29:35.318Z"
   },
   {
    "duration": 23,
    "start_time": "2021-10-04T17:29:35.331Z"
   },
   {
    "duration": 9,
    "start_time": "2021-10-04T17:29:35.356Z"
   },
   {
    "duration": 4,
    "start_time": "2021-10-04T17:29:35.367Z"
   },
   {
    "duration": 7,
    "start_time": "2021-10-04T17:29:35.373Z"
   },
   {
    "duration": 4,
    "start_time": "2021-10-04T17:29:35.381Z"
   },
   {
    "duration": 4,
    "start_time": "2021-10-04T17:29:35.387Z"
   },
   {
    "duration": 54,
    "start_time": "2021-10-04T17:29:35.392Z"
   },
   {
    "duration": 5,
    "start_time": "2021-10-04T17:29:35.447Z"
   },
   {
    "duration": 17,
    "start_time": "2021-10-04T17:29:35.453Z"
   },
   {
    "duration": 15,
    "start_time": "2021-10-04T17:29:35.471Z"
   },
   {
    "duration": 3,
    "start_time": "2021-10-04T17:29:35.488Z"
   },
   {
    "duration": 10,
    "start_time": "2021-10-04T17:29:35.493Z"
   },
   {
    "duration": 40,
    "start_time": "2021-10-04T17:29:35.504Z"
   },
   {
    "duration": 9,
    "start_time": "2021-10-04T17:29:35.546Z"
   },
   {
    "duration": 6,
    "start_time": "2021-10-04T17:29:35.556Z"
   },
   {
    "duration": 7,
    "start_time": "2021-10-04T17:29:35.564Z"
   },
   {
    "duration": 7,
    "start_time": "2021-10-04T17:29:35.572Z"
   },
   {
    "duration": 16,
    "start_time": "2021-10-04T17:29:35.583Z"
   },
   {
    "duration": 4,
    "start_time": "2021-10-04T17:29:35.601Z"
   },
   {
    "duration": 41,
    "start_time": "2021-10-04T17:29:35.606Z"
   },
   {
    "duration": 7,
    "start_time": "2021-10-04T17:29:35.649Z"
   },
   {
    "duration": 19,
    "start_time": "2021-10-04T17:29:35.657Z"
   },
   {
    "duration": 4,
    "start_time": "2021-10-04T17:29:35.677Z"
   },
   {
    "duration": 8,
    "start_time": "2021-10-04T17:29:35.683Z"
   },
   {
    "duration": 9,
    "start_time": "2021-10-04T17:29:35.692Z"
   },
   {
    "duration": 6,
    "start_time": "2021-10-04T17:29:35.703Z"
   },
   {
    "duration": 45,
    "start_time": "2021-10-04T17:29:35.710Z"
   },
   {
    "duration": 5,
    "start_time": "2021-10-04T17:29:35.757Z"
   },
   {
    "duration": 7,
    "start_time": "2021-10-04T17:29:35.764Z"
   },
   {
    "duration": 10,
    "start_time": "2021-10-04T17:29:35.772Z"
   },
   {
    "duration": 23,
    "start_time": "2021-10-04T17:29:35.783Z"
   },
   {
    "duration": 17,
    "start_time": "2021-10-04T17:29:35.808Z"
   },
   {
    "duration": 16,
    "start_time": "2021-10-04T17:29:35.826Z"
   },
   {
    "duration": 38,
    "start_time": "2021-10-04T17:29:35.844Z"
   },
   {
    "duration": 4,
    "start_time": "2021-10-04T17:29:35.884Z"
   },
   {
    "duration": 14,
    "start_time": "2021-10-04T17:29:35.889Z"
   },
   {
    "duration": 13,
    "start_time": "2021-10-04T17:29:35.904Z"
   },
   {
    "duration": 18,
    "start_time": "2021-10-04T17:29:35.918Z"
   },
   {
    "duration": 6,
    "start_time": "2021-10-04T17:29:35.938Z"
   },
   {
    "duration": 18,
    "start_time": "2021-10-04T17:29:35.945Z"
   },
   {
    "duration": 22,
    "start_time": "2021-10-04T17:29:35.964Z"
   },
   {
    "duration": 25,
    "start_time": "2021-10-04T17:29:35.987Z"
   },
   {
    "duration": 13,
    "start_time": "2021-10-04T17:29:36.013Z"
   },
   {
    "duration": 7,
    "start_time": "2021-10-04T17:29:36.028Z"
   },
   {
    "duration": 9,
    "start_time": "2021-10-04T17:29:36.036Z"
   },
   {
    "duration": 22,
    "start_time": "2021-10-04T17:29:36.046Z"
   },
   {
    "duration": 18,
    "start_time": "2021-10-04T17:29:36.069Z"
   },
   {
    "duration": 7,
    "start_time": "2021-10-04T17:29:36.088Z"
   },
   {
    "duration": 12,
    "start_time": "2021-10-04T17:29:36.096Z"
   },
   {
    "duration": 8,
    "start_time": "2021-10-04T17:29:36.110Z"
   },
   {
    "duration": 4,
    "start_time": "2021-10-04T17:29:36.120Z"
   },
   {
    "duration": 22,
    "start_time": "2021-10-04T17:29:36.125Z"
   },
   {
    "duration": 14,
    "start_time": "2021-10-04T17:29:36.149Z"
   },
   {
    "duration": 8,
    "start_time": "2021-10-04T17:29:36.165Z"
   },
   {
    "duration": 15,
    "start_time": "2021-10-04T17:29:36.174Z"
   },
   {
    "duration": 3,
    "start_time": "2021-10-04T17:29:36.190Z"
   },
   {
    "duration": 25,
    "start_time": "2021-10-04T17:29:36.195Z"
   },
   {
    "duration": 31,
    "start_time": "2021-10-04T17:29:36.222Z"
   },
   {
    "duration": 10,
    "start_time": "2021-10-04T17:29:36.255Z"
   },
   {
    "duration": 10,
    "start_time": "2021-10-04T17:29:36.267Z"
   },
   {
    "duration": 10,
    "start_time": "2021-10-04T17:29:36.278Z"
   },
   {
    "duration": 7,
    "start_time": "2021-10-04T17:29:36.290Z"
   },
   {
    "duration": 9,
    "start_time": "2021-10-04T17:29:36.298Z"
   },
   {
    "duration": 40,
    "start_time": "2021-10-04T17:29:36.308Z"
   },
   {
    "duration": 24,
    "start_time": "2021-10-04T17:29:36.349Z"
   },
   {
    "duration": 7,
    "start_time": "2021-10-04T17:29:36.375Z"
   },
   {
    "duration": 11,
    "start_time": "2021-10-04T17:29:36.383Z"
   },
   {
    "duration": 3,
    "start_time": "2021-10-04T17:29:36.395Z"
   },
   {
    "duration": 6,
    "start_time": "2021-10-04T17:29:36.399Z"
   },
   {
    "duration": 9,
    "start_time": "2021-10-04T17:29:36.406Z"
   },
   {
    "duration": 32,
    "start_time": "2021-10-04T17:29:36.416Z"
   },
   {
    "duration": 8,
    "start_time": "2021-10-04T17:29:36.453Z"
   },
   {
    "duration": 8,
    "start_time": "2021-10-04T17:29:36.463Z"
   },
   {
    "duration": 14,
    "start_time": "2021-10-04T17:29:36.473Z"
   },
   {
    "duration": 56,
    "start_time": "2021-10-04T17:29:36.488Z"
   },
   {
    "duration": 8,
    "start_time": "2021-10-04T17:29:36.546Z"
   },
   {
    "duration": 12,
    "start_time": "2021-10-04T17:29:36.555Z"
   },
   {
    "duration": 5,
    "start_time": "2021-10-04T17:29:36.568Z"
   },
   {
    "duration": 24,
    "start_time": "2021-10-04T17:29:36.574Z"
   },
   {
    "duration": 17,
    "start_time": "2021-10-04T17:29:36.599Z"
   },
   {
    "duration": 42,
    "start_time": "2021-10-04T17:29:36.617Z"
   },
   {
    "duration": 22,
    "start_time": "2021-10-04T17:29:36.661Z"
   },
   {
    "duration": 59,
    "start_time": "2021-10-04T17:29:36.685Z"
   },
   {
    "duration": 26,
    "start_time": "2021-10-04T17:29:36.746Z"
   },
   {
    "duration": 17,
    "start_time": "2021-10-04T17:29:36.774Z"
   },
   {
    "duration": 29,
    "start_time": "2021-10-04T17:29:36.793Z"
   },
   {
    "duration": 3,
    "start_time": "2021-10-04T17:29:36.845Z"
   },
   {
    "duration": 16,
    "start_time": "2021-10-04T17:29:36.850Z"
   },
   {
    "duration": 2,
    "start_time": "2021-10-04T17:29:36.868Z"
   },
   {
    "duration": 26,
    "start_time": "2021-10-04T17:29:36.871Z"
   },
   {
    "duration": 16,
    "start_time": "2021-10-04T17:29:36.898Z"
   },
   {
    "duration": 6,
    "start_time": "2021-10-04T17:38:22.801Z"
   },
   {
    "duration": 15,
    "start_time": "2021-10-04T17:40:04.545Z"
   },
   {
    "duration": 4,
    "start_time": "2021-10-04T17:40:30.066Z"
   },
   {
    "duration": 119,
    "start_time": "2021-10-04T17:41:56.667Z"
   },
   {
    "duration": 6,
    "start_time": "2021-10-04T17:42:16.883Z"
   },
   {
    "duration": 5,
    "start_time": "2021-10-04T17:44:48.902Z"
   },
   {
    "duration": 3,
    "start_time": "2021-10-04T17:45:24.977Z"
   },
   {
    "duration": 70,
    "start_time": "2021-10-04T17:45:24.981Z"
   },
   {
    "duration": 10,
    "start_time": "2021-10-04T17:45:25.054Z"
   },
   {
    "duration": 13,
    "start_time": "2021-10-04T17:45:25.066Z"
   },
   {
    "duration": 39,
    "start_time": "2021-10-04T17:45:25.081Z"
   },
   {
    "duration": 8,
    "start_time": "2021-10-04T17:45:25.122Z"
   },
   {
    "duration": 9,
    "start_time": "2021-10-04T17:45:25.131Z"
   },
   {
    "duration": 14,
    "start_time": "2021-10-04T17:45:25.142Z"
   },
   {
    "duration": 15,
    "start_time": "2021-10-04T17:45:25.160Z"
   },
   {
    "duration": 12,
    "start_time": "2021-10-04T17:45:25.178Z"
   },
   {
    "duration": 12,
    "start_time": "2021-10-04T17:45:25.191Z"
   },
   {
    "duration": 11,
    "start_time": "2021-10-04T17:45:25.205Z"
   },
   {
    "duration": 4,
    "start_time": "2021-10-04T17:45:25.245Z"
   },
   {
    "duration": 12,
    "start_time": "2021-10-04T17:45:25.251Z"
   },
   {
    "duration": 4,
    "start_time": "2021-10-04T17:45:25.265Z"
   },
   {
    "duration": 6,
    "start_time": "2021-10-04T17:45:25.271Z"
   },
   {
    "duration": 24,
    "start_time": "2021-10-04T17:45:25.278Z"
   },
   {
    "duration": 13,
    "start_time": "2021-10-04T17:45:25.304Z"
   },
   {
    "duration": 16,
    "start_time": "2021-10-04T17:45:25.344Z"
   },
   {
    "duration": 16,
    "start_time": "2021-10-04T17:45:25.362Z"
   },
   {
    "duration": 4,
    "start_time": "2021-10-04T17:45:25.380Z"
   },
   {
    "duration": 10,
    "start_time": "2021-10-04T17:45:25.385Z"
   },
   {
    "duration": 7,
    "start_time": "2021-10-04T17:45:25.397Z"
   },
   {
    "duration": 39,
    "start_time": "2021-10-04T17:45:25.406Z"
   },
   {
    "duration": 4,
    "start_time": "2021-10-04T17:45:25.447Z"
   },
   {
    "duration": 10,
    "start_time": "2021-10-04T17:45:25.452Z"
   },
   {
    "duration": 4,
    "start_time": "2021-10-04T17:45:25.467Z"
   },
   {
    "duration": 14,
    "start_time": "2021-10-04T17:45:25.475Z"
   },
   {
    "duration": 6,
    "start_time": "2021-10-04T17:45:25.491Z"
   },
   {
    "duration": 7,
    "start_time": "2021-10-04T17:45:25.498Z"
   },
   {
    "duration": 41,
    "start_time": "2021-10-04T17:45:25.507Z"
   },
   {
    "duration": 21,
    "start_time": "2021-10-04T17:45:25.549Z"
   },
   {
    "duration": 5,
    "start_time": "2021-10-04T17:45:25.573Z"
   },
   {
    "duration": 6,
    "start_time": "2021-10-04T17:45:25.580Z"
   },
   {
    "duration": 5,
    "start_time": "2021-10-04T17:45:25.588Z"
   },
   {
    "duration": 5,
    "start_time": "2021-10-04T17:45:25.595Z"
   },
   {
    "duration": 48,
    "start_time": "2021-10-04T17:45:25.601Z"
   },
   {
    "duration": 6,
    "start_time": "2021-10-04T17:45:25.650Z"
   },
   {
    "duration": 7,
    "start_time": "2021-10-04T17:45:25.658Z"
   },
   {
    "duration": 7,
    "start_time": "2021-10-04T17:45:25.666Z"
   },
   {
    "duration": 11,
    "start_time": "2021-10-04T17:45:25.675Z"
   },
   {
    "duration": 7,
    "start_time": "2021-10-04T17:45:25.687Z"
   },
   {
    "duration": 8,
    "start_time": "2021-10-04T17:45:25.696Z"
   },
   {
    "duration": 39,
    "start_time": "2021-10-04T17:45:25.706Z"
   },
   {
    "duration": 4,
    "start_time": "2021-10-04T17:45:25.747Z"
   },
   {
    "duration": 20,
    "start_time": "2021-10-04T17:45:25.753Z"
   },
   {
    "duration": 13,
    "start_time": "2021-10-04T17:45:25.775Z"
   },
   {
    "duration": 27,
    "start_time": "2021-10-04T17:45:25.790Z"
   },
   {
    "duration": 5,
    "start_time": "2021-10-04T17:45:25.819Z"
   },
   {
    "duration": 14,
    "start_time": "2021-10-04T17:45:25.826Z"
   },
   {
    "duration": 11,
    "start_time": "2021-10-04T17:45:25.842Z"
   },
   {
    "duration": 36,
    "start_time": "2021-10-04T17:45:25.854Z"
   },
   {
    "duration": 12,
    "start_time": "2021-10-04T17:45:25.891Z"
   },
   {
    "duration": 14,
    "start_time": "2021-10-04T17:45:25.905Z"
   },
   {
    "duration": 10,
    "start_time": "2021-10-04T17:45:25.921Z"
   },
   {
    "duration": 21,
    "start_time": "2021-10-04T17:45:25.932Z"
   },
   {
    "duration": 16,
    "start_time": "2021-10-04T17:45:25.955Z"
   },
   {
    "duration": 12,
    "start_time": "2021-10-04T17:45:25.973Z"
   },
   {
    "duration": 14,
    "start_time": "2021-10-04T17:45:25.986Z"
   },
   {
    "duration": 15,
    "start_time": "2021-10-04T17:45:26.002Z"
   },
   {
    "duration": 12,
    "start_time": "2021-10-04T17:45:26.019Z"
   },
   {
    "duration": 29,
    "start_time": "2021-10-04T17:45:26.032Z"
   },
   {
    "duration": 31,
    "start_time": "2021-10-04T17:45:26.063Z"
   },
   {
    "duration": 9,
    "start_time": "2021-10-04T17:45:26.095Z"
   },
   {
    "duration": 32,
    "start_time": "2021-10-04T17:45:26.106Z"
   },
   {
    "duration": 13,
    "start_time": "2021-10-04T17:45:26.140Z"
   },
   {
    "duration": 36,
    "start_time": "2021-10-04T17:45:26.155Z"
   },
   {
    "duration": 11,
    "start_time": "2021-10-04T17:45:26.193Z"
   },
   {
    "duration": 15,
    "start_time": "2021-10-04T17:45:26.206Z"
   },
   {
    "duration": 21,
    "start_time": "2021-10-04T17:45:26.222Z"
   },
   {
    "duration": 12,
    "start_time": "2021-10-04T17:45:26.244Z"
   },
   {
    "duration": 6,
    "start_time": "2021-10-04T17:45:26.258Z"
   },
   {
    "duration": 5,
    "start_time": "2021-10-04T17:45:26.266Z"
   },
   {
    "duration": 9,
    "start_time": "2021-10-04T17:45:26.273Z"
   },
   {
    "duration": 25,
    "start_time": "2021-10-04T17:45:26.284Z"
   },
   {
    "duration": 5,
    "start_time": "2021-10-04T17:45:26.311Z"
   },
   {
    "duration": 27,
    "start_time": "2021-10-04T17:45:26.317Z"
   },
   {
    "duration": 7,
    "start_time": "2021-10-04T17:45:26.346Z"
   },
   {
    "duration": 14,
    "start_time": "2021-10-04T17:45:26.354Z"
   },
   {
    "duration": 10,
    "start_time": "2021-10-04T17:45:26.369Z"
   },
   {
    "duration": 10,
    "start_time": "2021-10-04T17:45:26.384Z"
   },
   {
    "duration": 26,
    "start_time": "2021-10-04T17:45:26.395Z"
   },
   {
    "duration": 43,
    "start_time": "2021-10-04T17:45:26.422Z"
   },
   {
    "duration": 8,
    "start_time": "2021-10-04T17:45:26.467Z"
   },
   {
    "duration": 12,
    "start_time": "2021-10-04T17:45:26.476Z"
   },
   {
    "duration": 10,
    "start_time": "2021-10-04T17:45:26.490Z"
   },
   {
    "duration": 31,
    "start_time": "2021-10-04T17:45:26.502Z"
   },
   {
    "duration": 22,
    "start_time": "2021-10-04T17:45:26.535Z"
   },
   {
    "duration": 17,
    "start_time": "2021-10-04T17:45:26.558Z"
   },
   {
    "duration": 35,
    "start_time": "2021-10-04T17:45:26.577Z"
   },
   {
    "duration": 51,
    "start_time": "2021-10-04T17:45:26.614Z"
   },
   {
    "duration": 24,
    "start_time": "2021-10-04T17:45:26.666Z"
   },
   {
    "duration": 17,
    "start_time": "2021-10-04T17:45:26.692Z"
   },
   {
    "duration": 47,
    "start_time": "2021-10-04T17:45:26.711Z"
   },
   {
    "duration": 3,
    "start_time": "2021-10-04T17:45:26.760Z"
   },
   {
    "duration": 24,
    "start_time": "2021-10-04T17:45:26.765Z"
   },
   {
    "duration": 13,
    "start_time": "2021-10-04T17:45:26.791Z"
   },
   {
    "duration": 36,
    "start_time": "2021-10-04T17:45:26.805Z"
   },
   {
    "duration": 21,
    "start_time": "2021-10-04T17:45:26.843Z"
   },
   {
    "duration": 90,
    "start_time": "2021-10-04T17:46:25.771Z"
   },
   {
    "duration": 7,
    "start_time": "2021-10-04T17:46:36.812Z"
   },
   {
    "duration": 7,
    "start_time": "2021-10-04T17:46:51.395Z"
   },
   {
    "duration": 6,
    "start_time": "2021-10-04T17:46:53.859Z"
   },
   {
    "duration": 9,
    "start_time": "2021-10-04T17:46:56.835Z"
   },
   {
    "duration": 17,
    "start_time": "2021-10-04T17:52:58.168Z"
   },
   {
    "duration": 5,
    "start_time": "2021-10-04T18:21:06.967Z"
   },
   {
    "duration": 8,
    "start_time": "2021-10-04T18:21:17.358Z"
   },
   {
    "duration": 6,
    "start_time": "2021-10-04T18:25:47.465Z"
   },
   {
    "duration": 16,
    "start_time": "2021-10-04T18:28:23.646Z"
   },
   {
    "duration": 14,
    "start_time": "2021-10-04T18:28:28.108Z"
   },
   {
    "duration": 22,
    "start_time": "2021-10-04T18:31:14.327Z"
   },
   {
    "duration": 17,
    "start_time": "2021-10-04T18:31:23.446Z"
   },
   {
    "duration": 16,
    "start_time": "2021-10-04T18:32:07.622Z"
   },
   {
    "duration": 16,
    "start_time": "2021-10-04T18:32:43.359Z"
   },
   {
    "duration": 16,
    "start_time": "2021-10-04T18:32:48.967Z"
   },
   {
    "duration": 2,
    "start_time": "2021-10-04T18:34:28.728Z"
   },
   {
    "duration": 14,
    "start_time": "2021-10-04T18:35:27.809Z"
   },
   {
    "duration": 15,
    "start_time": "2021-10-04T18:35:36.801Z"
   },
   {
    "duration": 11,
    "start_time": "2021-10-04T18:37:21.650Z"
   },
   {
    "duration": 13,
    "start_time": "2021-10-04T18:39:29.178Z"
   },
   {
    "duration": 763,
    "start_time": "2021-10-04T18:41:09.778Z"
   },
   {
    "duration": 3,
    "start_time": "2021-10-04T18:41:50.775Z"
   },
   {
    "duration": 66,
    "start_time": "2021-10-04T18:41:50.789Z"
   },
   {
    "duration": 10,
    "start_time": "2021-10-04T18:41:50.857Z"
   },
   {
    "duration": 22,
    "start_time": "2021-10-04T18:41:50.870Z"
   },
   {
    "duration": 41,
    "start_time": "2021-10-04T18:41:50.894Z"
   },
   {
    "duration": 16,
    "start_time": "2021-10-04T18:41:50.937Z"
   },
   {
    "duration": 16,
    "start_time": "2021-10-04T18:41:50.955Z"
   },
   {
    "duration": 16,
    "start_time": "2021-10-04T18:41:50.973Z"
   },
   {
    "duration": 19,
    "start_time": "2021-10-04T18:41:50.992Z"
   },
   {
    "duration": 32,
    "start_time": "2021-10-04T18:41:51.015Z"
   },
   {
    "duration": 12,
    "start_time": "2021-10-04T18:41:51.049Z"
   },
   {
    "duration": 23,
    "start_time": "2021-10-04T18:41:51.063Z"
   },
   {
    "duration": 18,
    "start_time": "2021-10-04T18:41:51.088Z"
   },
   {
    "duration": 13,
    "start_time": "2021-10-04T18:41:51.108Z"
   },
   {
    "duration": 12,
    "start_time": "2021-10-04T18:41:51.123Z"
   },
   {
    "duration": 7,
    "start_time": "2021-10-04T18:41:51.137Z"
   },
   {
    "duration": 39,
    "start_time": "2021-10-04T18:41:51.146Z"
   },
   {
    "duration": 6,
    "start_time": "2021-10-04T18:41:51.187Z"
   },
   {
    "duration": 48,
    "start_time": "2021-10-04T18:41:51.196Z"
   },
   {
    "duration": 24,
    "start_time": "2021-10-04T18:41:51.247Z"
   },
   {
    "duration": 21,
    "start_time": "2021-10-04T18:41:51.274Z"
   },
   {
    "duration": 7,
    "start_time": "2021-10-04T18:41:51.297Z"
   },
   {
    "duration": 6,
    "start_time": "2021-10-04T18:41:51.306Z"
   },
   {
    "duration": 18,
    "start_time": "2021-10-04T18:41:51.313Z"
   },
   {
    "duration": 6,
    "start_time": "2021-10-04T18:41:51.344Z"
   },
   {
    "duration": 8,
    "start_time": "2021-10-04T18:41:51.353Z"
   },
   {
    "duration": 7,
    "start_time": "2021-10-04T18:41:51.362Z"
   },
   {
    "duration": 25,
    "start_time": "2021-10-04T18:41:51.374Z"
   },
   {
    "duration": 5,
    "start_time": "2021-10-04T18:41:51.403Z"
   },
   {
    "duration": 7,
    "start_time": "2021-10-04T18:41:51.445Z"
   },
   {
    "duration": 6,
    "start_time": "2021-10-04T18:41:51.455Z"
   },
   {
    "duration": 31,
    "start_time": "2021-10-04T18:41:51.463Z"
   },
   {
    "duration": 6,
    "start_time": "2021-10-04T18:41:51.497Z"
   },
   {
    "duration": 42,
    "start_time": "2021-10-04T18:41:51.505Z"
   },
   {
    "duration": 5,
    "start_time": "2021-10-04T18:41:51.549Z"
   },
   {
    "duration": 8,
    "start_time": "2021-10-04T18:41:51.556Z"
   },
   {
    "duration": 25,
    "start_time": "2021-10-04T18:41:51.566Z"
   },
   {
    "duration": 9,
    "start_time": "2021-10-04T18:41:51.593Z"
   },
   {
    "duration": 5,
    "start_time": "2021-10-04T18:41:51.604Z"
   },
   {
    "duration": 37,
    "start_time": "2021-10-04T18:41:51.611Z"
   },
   {
    "duration": 7,
    "start_time": "2021-10-04T18:41:51.650Z"
   },
   {
    "duration": 6,
    "start_time": "2021-10-04T18:41:51.659Z"
   },
   {
    "duration": 6,
    "start_time": "2021-10-04T18:41:51.667Z"
   },
   {
    "duration": 27,
    "start_time": "2021-10-04T18:41:51.675Z"
   },
   {
    "duration": 5,
    "start_time": "2021-10-04T18:41:51.704Z"
   },
   {
    "duration": 40,
    "start_time": "2021-10-04T18:41:51.711Z"
   },
   {
    "duration": 7,
    "start_time": "2021-10-04T18:41:51.753Z"
   },
   {
    "duration": 27,
    "start_time": "2021-10-04T18:41:51.762Z"
   },
   {
    "duration": 5,
    "start_time": "2021-10-04T18:41:51.791Z"
   },
   {
    "duration": 6,
    "start_time": "2021-10-04T18:41:51.799Z"
   },
   {
    "duration": 39,
    "start_time": "2021-10-04T18:41:51.808Z"
   },
   {
    "duration": 32,
    "start_time": "2021-10-04T18:41:51.849Z"
   },
   {
    "duration": 19,
    "start_time": "2021-10-04T18:41:51.884Z"
   },
   {
    "duration": 11,
    "start_time": "2021-10-04T18:41:51.905Z"
   },
   {
    "duration": 31,
    "start_time": "2021-10-04T18:41:51.918Z"
   },
   {
    "duration": 15,
    "start_time": "2021-10-04T18:41:51.951Z"
   },
   {
    "duration": 37,
    "start_time": "2021-10-04T18:41:51.968Z"
   },
   {
    "duration": 7,
    "start_time": "2021-10-04T18:41:52.008Z"
   },
   {
    "duration": 33,
    "start_time": "2021-10-04T18:41:52.017Z"
   },
   {
    "duration": 13,
    "start_time": "2021-10-04T18:41:52.052Z"
   },
   {
    "duration": 7,
    "start_time": "2021-10-04T18:41:52.068Z"
   },
   {
    "duration": 15,
    "start_time": "2021-10-04T18:41:52.077Z"
   },
   {
    "duration": 51,
    "start_time": "2021-10-04T18:41:52.095Z"
   },
   {
    "duration": 14,
    "start_time": "2021-10-04T18:41:52.149Z"
   },
   {
    "duration": 22,
    "start_time": "2021-10-04T18:41:52.166Z"
   },
   {
    "duration": 4,
    "start_time": "2021-10-04T18:41:52.190Z"
   },
   {
    "duration": 58,
    "start_time": "2021-10-04T18:41:52.197Z"
   },
   {
    "duration": 18,
    "start_time": "2021-10-04T18:41:52.258Z"
   },
   {
    "duration": 17,
    "start_time": "2021-10-04T18:41:52.279Z"
   },
   {
    "duration": 13,
    "start_time": "2021-10-04T18:41:52.299Z"
   },
   {
    "duration": 39,
    "start_time": "2021-10-04T18:41:52.314Z"
   },
   {
    "duration": 7,
    "start_time": "2021-10-04T18:41:52.356Z"
   },
   {
    "duration": 8,
    "start_time": "2021-10-04T18:41:52.365Z"
   },
   {
    "duration": 10,
    "start_time": "2021-10-04T18:41:52.376Z"
   },
   {
    "duration": 71,
    "start_time": "2021-10-04T18:41:52.388Z"
   },
   {
    "duration": 7,
    "start_time": "2021-10-04T18:41:52.461Z"
   },
   {
    "duration": 6,
    "start_time": "2021-10-04T18:41:52.470Z"
   },
   {
    "duration": 10,
    "start_time": "2021-10-04T18:41:52.478Z"
   },
   {
    "duration": 9,
    "start_time": "2021-10-04T18:41:52.489Z"
   },
   {
    "duration": 11,
    "start_time": "2021-10-04T18:41:52.500Z"
   },
   {
    "duration": 40,
    "start_time": "2021-10-04T18:41:52.512Z"
   },
   {
    "duration": 16,
    "start_time": "2021-10-04T18:41:52.558Z"
   },
   {
    "duration": 45,
    "start_time": "2021-10-04T18:41:52.576Z"
   },
   {
    "duration": 9,
    "start_time": "2021-10-04T18:41:52.644Z"
   },
   {
    "duration": 18,
    "start_time": "2021-10-04T18:41:52.655Z"
   },
   {
    "duration": 7,
    "start_time": "2021-10-04T18:41:52.675Z"
   },
   {
    "duration": 22,
    "start_time": "2021-10-04T18:41:52.684Z"
   },
   {
    "duration": 38,
    "start_time": "2021-10-04T18:41:52.708Z"
   },
   {
    "duration": 21,
    "start_time": "2021-10-04T18:41:52.748Z"
   },
   {
    "duration": 24,
    "start_time": "2021-10-04T18:41:52.770Z"
   },
   {
    "duration": 67,
    "start_time": "2021-10-04T18:41:52.795Z"
   },
   {
    "duration": 25,
    "start_time": "2021-10-04T18:41:52.864Z"
   },
   {
    "duration": 18,
    "start_time": "2021-10-04T18:41:52.891Z"
   },
   {
    "duration": 55,
    "start_time": "2021-10-04T18:41:52.911Z"
   },
   {
    "duration": 4,
    "start_time": "2021-10-04T18:41:52.968Z"
   },
   {
    "duration": 23,
    "start_time": "2021-10-04T18:41:52.974Z"
   },
   {
    "duration": 6,
    "start_time": "2021-10-04T18:41:52.999Z"
   },
   {
    "duration": 26,
    "start_time": "2021-10-04T18:41:53.007Z"
   },
   {
    "duration": 18,
    "start_time": "2021-10-04T18:41:53.044Z"
   },
   {
    "duration": 6,
    "start_time": "2021-10-04T18:41:53.064Z"
   },
   {
    "duration": 19,
    "start_time": "2021-10-04T18:41:53.072Z"
   },
   {
    "duration": 17,
    "start_time": "2021-10-04T18:41:53.093Z"
   },
   {
    "duration": 48,
    "start_time": "2021-10-04T18:41:53.112Z"
   },
   {
    "duration": 17,
    "start_time": "2021-10-04T18:41:53.161Z"
   },
   {
    "duration": 13,
    "start_time": "2021-10-04T18:41:53.179Z"
   },
   {
    "duration": 250,
    "start_time": "2021-10-04T18:41:53.194Z"
   },
   {
    "duration": 9,
    "start_time": "2021-10-04T18:41:53.445Z"
   },
   {
    "duration": 220,
    "start_time": "2021-10-04T18:43:33.038Z"
   },
   {
    "duration": 6,
    "start_time": "2021-10-04T18:45:51.983Z"
   },
   {
    "duration": 14,
    "start_time": "2021-10-04T18:59:02.192Z"
   },
   {
    "duration": 276,
    "start_time": "2021-10-04T18:59:56.914Z"
   },
   {
    "duration": 16,
    "start_time": "2021-10-04T19:01:42.691Z"
   },
   {
    "duration": 4,
    "start_time": "2021-10-04T19:07:44.112Z"
   },
   {
    "duration": 20,
    "start_time": "2021-10-04T19:08:00.463Z"
   },
   {
    "duration": 233,
    "start_time": "2021-10-04T19:10:14.969Z"
   },
   {
    "duration": 405,
    "start_time": "2021-10-04T19:11:43.898Z"
   },
   {
    "duration": 14,
    "start_time": "2021-10-04T19:12:04.524Z"
   },
   {
    "duration": 11,
    "start_time": "2021-10-04T19:21:48.471Z"
   },
   {
    "duration": 8,
    "start_time": "2021-10-04T19:22:13.495Z"
   },
   {
    "duration": 8,
    "start_time": "2021-10-04T19:22:31.343Z"
   },
   {
    "duration": 7,
    "start_time": "2021-10-04T19:23:39.776Z"
   },
   {
    "duration": 7,
    "start_time": "2021-10-04T19:23:50.584Z"
   },
   {
    "duration": 7,
    "start_time": "2021-10-04T19:23:57.656Z"
   },
   {
    "duration": 8,
    "start_time": "2021-10-04T19:24:04.608Z"
   },
   {
    "duration": 3,
    "start_time": "2021-10-04T19:44:57.238Z"
   },
   {
    "duration": 108,
    "start_time": "2021-10-04T19:48:51.497Z"
   },
   {
    "duration": 261,
    "start_time": "2021-10-04T19:51:10.699Z"
   },
   {
    "duration": 70,
    "start_time": "2021-10-04T19:51:36.452Z"
   },
   {
    "duration": 1507,
    "start_time": "2021-10-04T19:51:47.124Z"
   },
   {
    "duration": 5,
    "start_time": "2021-10-04T19:52:09.140Z"
   },
   {
    "duration": 16,
    "start_time": "2021-10-04T19:52:36.892Z"
   },
   {
    "duration": 2,
    "start_time": "2021-10-04T19:57:20.495Z"
   },
   {
    "duration": 61,
    "start_time": "2021-10-04T19:57:20.512Z"
   },
   {
    "duration": 9,
    "start_time": "2021-10-04T19:57:20.575Z"
   },
   {
    "duration": 15,
    "start_time": "2021-10-04T19:57:20.586Z"
   },
   {
    "duration": 56,
    "start_time": "2021-10-04T19:57:20.603Z"
   },
   {
    "duration": 9,
    "start_time": "2021-10-04T19:57:20.661Z"
   },
   {
    "duration": 17,
    "start_time": "2021-10-04T19:57:20.672Z"
   },
   {
    "duration": 20,
    "start_time": "2021-10-04T19:57:20.691Z"
   },
   {
    "duration": 19,
    "start_time": "2021-10-04T19:57:20.713Z"
   },
   {
    "duration": 12,
    "start_time": "2021-10-04T19:57:20.735Z"
   },
   {
    "duration": 15,
    "start_time": "2021-10-04T19:57:20.749Z"
   },
   {
    "duration": 16,
    "start_time": "2021-10-04T19:57:20.765Z"
   },
   {
    "duration": 21,
    "start_time": "2021-10-04T19:57:20.782Z"
   },
   {
    "duration": 23,
    "start_time": "2021-10-04T19:57:20.804Z"
   },
   {
    "duration": 16,
    "start_time": "2021-10-04T19:57:20.829Z"
   },
   {
    "duration": 19,
    "start_time": "2021-10-04T19:57:20.846Z"
   },
   {
    "duration": 30,
    "start_time": "2021-10-04T19:57:20.867Z"
   },
   {
    "duration": 5,
    "start_time": "2021-10-04T19:57:20.898Z"
   },
   {
    "duration": 27,
    "start_time": "2021-10-04T19:57:20.904Z"
   },
   {
    "duration": 31,
    "start_time": "2021-10-04T19:57:20.933Z"
   },
   {
    "duration": 13,
    "start_time": "2021-10-04T19:57:20.966Z"
   },
   {
    "duration": 15,
    "start_time": "2021-10-04T19:57:20.980Z"
   },
   {
    "duration": 7,
    "start_time": "2021-10-04T19:57:20.997Z"
   },
   {
    "duration": 13,
    "start_time": "2021-10-04T19:57:21.005Z"
   },
   {
    "duration": 20,
    "start_time": "2021-10-04T19:57:21.020Z"
   },
   {
    "duration": 9,
    "start_time": "2021-10-04T19:57:21.042Z"
   },
   {
    "duration": 6,
    "start_time": "2021-10-04T19:57:21.053Z"
   },
   {
    "duration": 23,
    "start_time": "2021-10-04T19:57:21.064Z"
   },
   {
    "duration": 4,
    "start_time": "2021-10-04T19:57:21.090Z"
   },
   {
    "duration": 8,
    "start_time": "2021-10-04T19:57:21.096Z"
   },
   {
    "duration": 7,
    "start_time": "2021-10-04T19:57:21.105Z"
   },
   {
    "duration": 36,
    "start_time": "2021-10-04T19:57:21.114Z"
   },
   {
    "duration": 4,
    "start_time": "2021-10-04T19:57:21.152Z"
   },
   {
    "duration": 8,
    "start_time": "2021-10-04T19:57:21.157Z"
   },
   {
    "duration": 8,
    "start_time": "2021-10-04T19:57:21.167Z"
   },
   {
    "duration": 17,
    "start_time": "2021-10-04T19:57:21.176Z"
   },
   {
    "duration": 20,
    "start_time": "2021-10-04T19:57:21.194Z"
   },
   {
    "duration": 31,
    "start_time": "2021-10-04T19:57:21.216Z"
   },
   {
    "duration": 5,
    "start_time": "2021-10-04T19:57:21.249Z"
   },
   {
    "duration": 15,
    "start_time": "2021-10-04T19:57:21.256Z"
   },
   {
    "duration": 6,
    "start_time": "2021-10-04T19:57:21.273Z"
   },
   {
    "duration": 14,
    "start_time": "2021-10-04T19:57:21.280Z"
   },
   {
    "duration": 6,
    "start_time": "2021-10-04T19:57:21.296Z"
   },
   {
    "duration": 21,
    "start_time": "2021-10-04T19:57:21.303Z"
   },
   {
    "duration": 5,
    "start_time": "2021-10-04T19:57:21.326Z"
   },
   {
    "duration": 16,
    "start_time": "2021-10-04T19:57:21.345Z"
   },
   {
    "duration": 6,
    "start_time": "2021-10-04T19:57:21.363Z"
   },
   {
    "duration": 10,
    "start_time": "2021-10-04T19:57:21.371Z"
   },
   {
    "duration": 8,
    "start_time": "2021-10-04T19:57:21.383Z"
   },
   {
    "duration": 21,
    "start_time": "2021-10-04T19:57:21.393Z"
   },
   {
    "duration": 41,
    "start_time": "2021-10-04T19:57:21.416Z"
   },
   {
    "duration": 9,
    "start_time": "2021-10-04T19:57:21.459Z"
   },
   {
    "duration": 11,
    "start_time": "2021-10-04T19:57:21.469Z"
   },
   {
    "duration": 17,
    "start_time": "2021-10-04T19:57:21.482Z"
   },
   {
    "duration": 45,
    "start_time": "2021-10-04T19:57:21.501Z"
   },
   {
    "duration": 7,
    "start_time": "2021-10-04T19:57:21.548Z"
   },
   {
    "duration": 11,
    "start_time": "2021-10-04T19:57:21.557Z"
   },
   {
    "duration": 10,
    "start_time": "2021-10-04T19:57:21.570Z"
   },
   {
    "duration": 5,
    "start_time": "2021-10-04T19:57:21.581Z"
   },
   {
    "duration": 17,
    "start_time": "2021-10-04T19:57:21.587Z"
   },
   {
    "duration": 44,
    "start_time": "2021-10-04T19:57:21.606Z"
   },
   {
    "duration": 9,
    "start_time": "2021-10-04T19:57:21.651Z"
   },
   {
    "duration": 18,
    "start_time": "2021-10-04T19:57:21.662Z"
   },
   {
    "duration": 3,
    "start_time": "2021-10-04T19:57:21.682Z"
   },
   {
    "duration": 23,
    "start_time": "2021-10-04T19:57:21.686Z"
   },
   {
    "duration": 36,
    "start_time": "2021-10-04T19:57:21.711Z"
   },
   {
    "duration": 11,
    "start_time": "2021-10-04T19:57:21.748Z"
   },
   {
    "duration": 16,
    "start_time": "2021-10-04T19:57:21.761Z"
   },
   {
    "duration": 13,
    "start_time": "2021-10-04T19:57:21.778Z"
   },
   {
    "duration": 5,
    "start_time": "2021-10-04T19:57:21.793Z"
   },
   {
    "duration": 6,
    "start_time": "2021-10-04T19:57:21.799Z"
   },
   {
    "duration": 7,
    "start_time": "2021-10-04T19:57:21.806Z"
   },
   {
    "duration": 48,
    "start_time": "2021-10-04T19:57:21.814Z"
   },
   {
    "duration": 5,
    "start_time": "2021-10-04T19:57:21.864Z"
   },
   {
    "duration": 7,
    "start_time": "2021-10-04T19:57:21.870Z"
   },
   {
    "duration": 8,
    "start_time": "2021-10-04T19:57:21.878Z"
   },
   {
    "duration": 7,
    "start_time": "2021-10-04T19:57:21.888Z"
   },
   {
    "duration": 14,
    "start_time": "2021-10-04T19:57:21.896Z"
   },
   {
    "duration": 32,
    "start_time": "2021-10-04T19:57:21.912Z"
   },
   {
    "duration": 15,
    "start_time": "2021-10-04T19:57:21.946Z"
   },
   {
    "duration": 42,
    "start_time": "2021-10-04T19:57:21.963Z"
   },
   {
    "duration": 9,
    "start_time": "2021-10-04T19:57:22.011Z"
   },
   {
    "duration": 34,
    "start_time": "2021-10-04T19:57:22.022Z"
   },
   {
    "duration": 6,
    "start_time": "2021-10-04T19:57:22.058Z"
   },
   {
    "duration": 17,
    "start_time": "2021-10-04T19:57:22.065Z"
   },
   {
    "duration": 19,
    "start_time": "2021-10-04T19:57:22.084Z"
   },
   {
    "duration": 46,
    "start_time": "2021-10-04T19:57:22.105Z"
   },
   {
    "duration": 24,
    "start_time": "2021-10-04T19:57:22.153Z"
   },
   {
    "duration": 44,
    "start_time": "2021-10-04T19:57:22.178Z"
   },
   {
    "duration": 43,
    "start_time": "2021-10-04T19:57:22.224Z"
   },
   {
    "duration": 20,
    "start_time": "2021-10-04T19:57:22.269Z"
   },
   {
    "duration": 53,
    "start_time": "2021-10-04T19:57:22.291Z"
   },
   {
    "duration": 6,
    "start_time": "2021-10-04T19:57:22.346Z"
   },
   {
    "duration": 24,
    "start_time": "2021-10-04T19:57:22.354Z"
   },
   {
    "duration": 3,
    "start_time": "2021-10-04T19:57:22.380Z"
   },
   {
    "duration": 28,
    "start_time": "2021-10-04T19:57:22.385Z"
   },
   {
    "duration": 34,
    "start_time": "2021-10-04T19:57:22.415Z"
   },
   {
    "duration": 6,
    "start_time": "2021-10-04T19:57:22.450Z"
   },
   {
    "duration": 16,
    "start_time": "2021-10-04T19:57:22.457Z"
   },
   {
    "duration": 16,
    "start_time": "2021-10-04T19:57:22.475Z"
   },
   {
    "duration": 17,
    "start_time": "2021-10-04T19:57:22.493Z"
   },
   {
    "duration": 44,
    "start_time": "2021-10-04T19:57:22.512Z"
   },
   {
    "duration": 5,
    "start_time": "2021-10-04T19:57:22.558Z"
   },
   {
    "duration": 236,
    "start_time": "2021-10-04T19:57:22.564Z"
   },
   {
    "duration": 8,
    "start_time": "2021-10-04T19:57:22.801Z"
   },
   {
    "duration": 246,
    "start_time": "2021-10-04T19:57:22.811Z"
   },
   {
    "duration": 85,
    "start_time": "2021-10-04T19:57:23.059Z"
   },
   {
    "duration": 895,
    "start_time": "2021-10-04T19:57:22.251Z"
   },
   {
    "duration": 882,
    "start_time": "2021-10-04T19:57:22.265Z"
   },
   {
    "duration": 7,
    "start_time": "2021-10-04T19:59:59.195Z"
   },
   {
    "duration": 6,
    "start_time": "2021-10-04T20:01:40.516Z"
   },
   {
    "duration": 3,
    "start_time": "2021-10-04T20:03:07.679Z"
   },
   {
    "duration": 5,
    "start_time": "2021-10-04T20:03:15.885Z"
   },
   {
    "duration": 4,
    "start_time": "2021-10-04T20:03:40.589Z"
   },
   {
    "duration": 4,
    "start_time": "2021-10-04T20:03:42.718Z"
   },
   {
    "duration": 57,
    "start_time": "2021-10-04T20:04:56.382Z"
   },
   {
    "duration": 3,
    "start_time": "2021-10-04T20:06:00.990Z"
   },
   {
    "duration": 64,
    "start_time": "2021-10-04T20:06:01.004Z"
   },
   {
    "duration": 11,
    "start_time": "2021-10-04T20:06:01.070Z"
   },
   {
    "duration": 14,
    "start_time": "2021-10-04T20:06:01.084Z"
   },
   {
    "duration": 48,
    "start_time": "2021-10-04T20:06:01.101Z"
   },
   {
    "duration": 39,
    "start_time": "2021-10-04T20:06:01.150Z"
   },
   {
    "duration": 37,
    "start_time": "2021-10-04T20:06:01.190Z"
   },
   {
    "duration": 40,
    "start_time": "2021-10-04T20:06:01.229Z"
   },
   {
    "duration": 22,
    "start_time": "2021-10-04T20:06:01.271Z"
   },
   {
    "duration": 12,
    "start_time": "2021-10-04T20:06:01.362Z"
   },
   {
    "duration": 12,
    "start_time": "2021-10-04T20:06:01.376Z"
   },
   {
    "duration": 20,
    "start_time": "2021-10-04T20:06:01.390Z"
   },
   {
    "duration": 6,
    "start_time": "2021-10-04T20:06:01.411Z"
   },
   {
    "duration": 13,
    "start_time": "2021-10-04T20:06:01.419Z"
   },
   {
    "duration": 14,
    "start_time": "2021-10-04T20:06:01.433Z"
   },
   {
    "duration": 11,
    "start_time": "2021-10-04T20:06:01.449Z"
   },
   {
    "duration": 28,
    "start_time": "2021-10-04T20:06:01.462Z"
   },
   {
    "duration": 25,
    "start_time": "2021-10-04T20:06:01.492Z"
   },
   {
    "duration": 30,
    "start_time": "2021-10-04T20:06:01.519Z"
   },
   {
    "duration": 27,
    "start_time": "2021-10-04T20:06:01.551Z"
   },
   {
    "duration": 16,
    "start_time": "2021-10-04T20:06:01.580Z"
   },
   {
    "duration": 19,
    "start_time": "2021-10-04T20:06:01.598Z"
   },
   {
    "duration": 10,
    "start_time": "2021-10-04T20:06:01.618Z"
   },
   {
    "duration": 17,
    "start_time": "2021-10-04T20:06:01.630Z"
   },
   {
    "duration": 23,
    "start_time": "2021-10-04T20:06:01.649Z"
   },
   {
    "duration": 17,
    "start_time": "2021-10-04T20:06:01.673Z"
   },
   {
    "duration": 13,
    "start_time": "2021-10-04T20:06:01.691Z"
   },
   {
    "duration": 28,
    "start_time": "2021-10-04T20:06:01.708Z"
   },
   {
    "duration": 11,
    "start_time": "2021-10-04T20:06:01.739Z"
   },
   {
    "duration": 14,
    "start_time": "2021-10-04T20:06:01.752Z"
   },
   {
    "duration": 13,
    "start_time": "2021-10-04T20:06:01.767Z"
   },
   {
    "duration": 24,
    "start_time": "2021-10-04T20:06:01.782Z"
   },
   {
    "duration": 5,
    "start_time": "2021-10-04T20:06:01.807Z"
   },
   {
    "duration": 7,
    "start_time": "2021-10-04T20:06:01.813Z"
   },
   {
    "duration": 15,
    "start_time": "2021-10-04T20:06:01.822Z"
   },
   {
    "duration": 5,
    "start_time": "2021-10-04T20:06:01.845Z"
   },
   {
    "duration": 24,
    "start_time": "2021-10-04T20:06:01.851Z"
   },
   {
    "duration": 7,
    "start_time": "2021-10-04T20:06:01.877Z"
   },
   {
    "duration": 18,
    "start_time": "2021-10-04T20:06:01.886Z"
   },
   {
    "duration": 8,
    "start_time": "2021-10-04T20:06:01.906Z"
   },
   {
    "duration": 10,
    "start_time": "2021-10-04T20:06:01.916Z"
   },
   {
    "duration": 20,
    "start_time": "2021-10-04T20:06:01.928Z"
   },
   {
    "duration": 8,
    "start_time": "2021-10-04T20:06:01.949Z"
   },
   {
    "duration": 24,
    "start_time": "2021-10-04T20:06:01.958Z"
   },
   {
    "duration": 3,
    "start_time": "2021-10-04T20:06:01.984Z"
   },
   {
    "duration": 19,
    "start_time": "2021-10-04T20:06:01.989Z"
   },
   {
    "duration": 18,
    "start_time": "2021-10-04T20:06:02.010Z"
   },
   {
    "duration": 27,
    "start_time": "2021-10-04T20:06:02.030Z"
   },
   {
    "duration": 3,
    "start_time": "2021-10-04T20:06:02.059Z"
   },
   {
    "duration": 16,
    "start_time": "2021-10-04T20:06:02.064Z"
   },
   {
    "duration": 9,
    "start_time": "2021-10-04T20:06:02.081Z"
   },
   {
    "duration": 32,
    "start_time": "2021-10-04T20:06:02.092Z"
   },
   {
    "duration": 18,
    "start_time": "2021-10-04T20:06:02.126Z"
   },
   {
    "duration": 8,
    "start_time": "2021-10-04T20:06:02.146Z"
   },
   {
    "duration": 9,
    "start_time": "2021-10-04T20:06:02.156Z"
   },
   {
    "duration": 23,
    "start_time": "2021-10-04T20:06:02.167Z"
   },
   {
    "duration": 23,
    "start_time": "2021-10-04T20:06:02.192Z"
   },
   {
    "duration": 28,
    "start_time": "2021-10-04T20:06:02.217Z"
   },
   {
    "duration": 18,
    "start_time": "2021-10-04T20:06:02.247Z"
   },
   {
    "duration": 10,
    "start_time": "2021-10-04T20:06:02.267Z"
   },
   {
    "duration": 9,
    "start_time": "2021-10-04T20:06:02.278Z"
   },
   {
    "duration": 17,
    "start_time": "2021-10-04T20:06:02.289Z"
   },
   {
    "duration": 18,
    "start_time": "2021-10-04T20:06:02.308Z"
   },
   {
    "duration": 24,
    "start_time": "2021-10-04T20:06:02.327Z"
   },
   {
    "duration": 17,
    "start_time": "2021-10-04T20:06:02.353Z"
   },
   {
    "duration": 3,
    "start_time": "2021-10-04T20:06:02.372Z"
   },
   {
    "duration": 25,
    "start_time": "2021-10-04T20:06:02.377Z"
   },
   {
    "duration": 13,
    "start_time": "2021-10-04T20:06:02.403Z"
   },
   {
    "duration": 12,
    "start_time": "2021-10-04T20:06:02.445Z"
   },
   {
    "duration": 10,
    "start_time": "2021-10-04T20:06:02.459Z"
   },
   {
    "duration": 12,
    "start_time": "2021-10-04T20:06:02.471Z"
   },
   {
    "duration": 6,
    "start_time": "2021-10-04T20:06:02.485Z"
   },
   {
    "duration": 23,
    "start_time": "2021-10-04T20:06:02.492Z"
   },
   {
    "duration": 28,
    "start_time": "2021-10-04T20:06:02.517Z"
   },
   {
    "duration": 27,
    "start_time": "2021-10-04T20:06:02.547Z"
   },
   {
    "duration": 11,
    "start_time": "2021-10-04T20:06:02.575Z"
   },
   {
    "duration": 12,
    "start_time": "2021-10-04T20:06:02.588Z"
   },
   {
    "duration": 9,
    "start_time": "2021-10-04T20:06:02.602Z"
   },
   {
    "duration": 13,
    "start_time": "2021-10-04T20:06:02.612Z"
   },
   {
    "duration": 26,
    "start_time": "2021-10-04T20:06:02.626Z"
   },
   {
    "duration": 9,
    "start_time": "2021-10-04T20:06:02.654Z"
   },
   {
    "duration": 15,
    "start_time": "2021-10-04T20:06:02.668Z"
   },
   {
    "duration": 65,
    "start_time": "2021-10-04T20:06:02.685Z"
   },
   {
    "duration": 9,
    "start_time": "2021-10-04T20:06:02.751Z"
   },
   {
    "duration": 17,
    "start_time": "2021-10-04T20:06:02.762Z"
   },
   {
    "duration": 7,
    "start_time": "2021-10-04T20:06:02.781Z"
   },
   {
    "duration": 18,
    "start_time": "2021-10-04T20:06:02.790Z"
   },
   {
    "duration": 51,
    "start_time": "2021-10-04T20:06:02.810Z"
   },
   {
    "duration": 18,
    "start_time": "2021-10-04T20:06:02.863Z"
   },
   {
    "duration": 24,
    "start_time": "2021-10-04T20:06:02.883Z"
   },
   {
    "duration": 74,
    "start_time": "2021-10-04T20:06:02.909Z"
   },
   {
    "duration": 26,
    "start_time": "2021-10-04T20:06:02.985Z"
   },
   {
    "duration": 41,
    "start_time": "2021-10-04T20:06:03.013Z"
   },
   {
    "duration": 31,
    "start_time": "2021-10-04T20:06:03.056Z"
   },
   {
    "duration": 5,
    "start_time": "2021-10-04T20:06:03.089Z"
   },
   {
    "duration": 18,
    "start_time": "2021-10-04T20:06:03.096Z"
   },
   {
    "duration": 29,
    "start_time": "2021-10-04T20:06:03.116Z"
   },
   {
    "duration": 23,
    "start_time": "2021-10-04T20:06:03.147Z"
   },
   {
    "duration": 17,
    "start_time": "2021-10-04T20:06:03.172Z"
   },
   {
    "duration": 6,
    "start_time": "2021-10-04T20:06:03.190Z"
   },
   {
    "duration": 16,
    "start_time": "2021-10-04T20:06:03.198Z"
   },
   {
    "duration": 43,
    "start_time": "2021-10-04T20:06:03.216Z"
   },
   {
    "duration": 18,
    "start_time": "2021-10-04T20:06:03.261Z"
   },
   {
    "duration": 16,
    "start_time": "2021-10-04T20:06:03.280Z"
   },
   {
    "duration": 5,
    "start_time": "2021-10-04T20:06:03.298Z"
   },
   {
    "duration": 241,
    "start_time": "2021-10-04T20:06:03.305Z"
   },
   {
    "duration": 7,
    "start_time": "2021-10-04T20:06:03.548Z"
   },
   {
    "duration": 231,
    "start_time": "2021-10-04T20:06:03.557Z"
   },
   {
    "duration": 73,
    "start_time": "2021-10-04T20:06:03.790Z"
   },
   {
    "duration": 904,
    "start_time": "2021-10-04T20:06:02.961Z"
   },
   {
    "duration": 892,
    "start_time": "2021-10-04T20:06:02.973Z"
   },
   {
    "duration": 17,
    "start_time": "2021-10-04T20:07:34.766Z"
   },
   {
    "duration": 9,
    "start_time": "2021-10-04T20:13:38.836Z"
   },
   {
    "duration": 130,
    "start_time": "2021-10-04T20:14:07.253Z"
   },
   {
    "duration": 8,
    "start_time": "2021-10-04T20:15:46.950Z"
   },
   {
    "duration": 121,
    "start_time": "2021-10-04T20:16:31.527Z"
   },
   {
    "duration": 133,
    "start_time": "2021-10-04T20:16:45.279Z"
   },
   {
    "duration": 138,
    "start_time": "2021-10-04T20:16:55.223Z"
   },
   {
    "duration": 134,
    "start_time": "2021-10-04T20:18:43.144Z"
   },
   {
    "duration": 9,
    "start_time": "2021-10-04T20:23:31.987Z"
   },
   {
    "duration": 235,
    "start_time": "2021-10-04T20:25:01.228Z"
   },
   {
    "duration": 29,
    "start_time": "2021-10-04T20:28:01.190Z"
   },
   {
    "duration": 11,
    "start_time": "2021-10-04T20:28:20.567Z"
   },
   {
    "duration": 13,
    "start_time": "2021-10-04T20:29:23.127Z"
   },
   {
    "duration": 32,
    "start_time": "2021-10-04T20:29:34.007Z"
   },
   {
    "duration": 220,
    "start_time": "2021-10-04T20:31:20.768Z"
   },
   {
    "duration": 216,
    "start_time": "2021-10-04T20:31:41.360Z"
   },
   {
    "duration": 285,
    "start_time": "2021-10-04T20:32:52.498Z"
   },
   {
    "duration": 240,
    "start_time": "2021-10-04T20:34:49.339Z"
   },
   {
    "duration": 191,
    "start_time": "2021-10-04T20:35:39.220Z"
   },
   {
    "duration": 196,
    "start_time": "2021-10-04T20:36:48.581Z"
   },
   {
    "duration": 200,
    "start_time": "2021-10-04T20:36:56.125Z"
   },
   {
    "duration": 257,
    "start_time": "2021-10-04T20:37:02.356Z"
   },
   {
    "duration": 202,
    "start_time": "2021-10-04T20:38:23.100Z"
   },
   {
    "duration": 29,
    "start_time": "2021-10-04T20:57:44.441Z"
   },
   {
    "duration": 98,
    "start_time": "2021-10-04T20:57:59.705Z"
   },
   {
    "duration": 43,
    "start_time": "2021-10-04T20:59:03.157Z"
   },
   {
    "duration": 19,
    "start_time": "2021-10-04T20:59:41.301Z"
   },
   {
    "duration": 20,
    "start_time": "2021-10-04T21:04:35.009Z"
   },
   {
    "duration": 20,
    "start_time": "2021-10-04T21:07:01.107Z"
   },
   {
    "duration": 25,
    "start_time": "2021-10-04T21:07:17.299Z"
   },
   {
    "duration": 17,
    "start_time": "2021-10-04T21:08:29.229Z"
   },
   {
    "duration": 23,
    "start_time": "2021-10-04T21:16:01.882Z"
   },
   {
    "duration": 22,
    "start_time": "2021-10-04T21:19:26.729Z"
   },
   {
    "duration": 275,
    "start_time": "2021-10-04T21:20:08.381Z"
   },
   {
    "duration": 31,
    "start_time": "2021-10-04T21:20:51.443Z"
   },
   {
    "duration": 30,
    "start_time": "2021-10-04T21:21:31.260Z"
   },
   {
    "duration": 36,
    "start_time": "2021-10-04T21:21:46.153Z"
   },
   {
    "duration": 124,
    "start_time": "2021-10-04T21:25:47.234Z"
   },
   {
    "duration": 131,
    "start_time": "2021-10-04T21:26:16.465Z"
   },
   {
    "duration": 128,
    "start_time": "2021-10-04T21:26:34.321Z"
   },
   {
    "duration": 123,
    "start_time": "2021-10-04T21:26:47.481Z"
   },
   {
    "duration": 183,
    "start_time": "2021-10-04T21:26:57.601Z"
   },
   {
    "duration": 134,
    "start_time": "2021-10-04T21:27:07.305Z"
   },
   {
    "duration": 122,
    "start_time": "2021-10-04T21:27:14.283Z"
   },
   {
    "duration": 134,
    "start_time": "2021-10-04T21:27:23.353Z"
   },
   {
    "duration": 134,
    "start_time": "2021-10-04T21:27:35.785Z"
   },
   {
    "duration": 200,
    "start_time": "2021-10-04T21:29:44.171Z"
   },
   {
    "duration": 198,
    "start_time": "2021-10-04T21:29:51.521Z"
   },
   {
    "duration": 190,
    "start_time": "2021-10-04T21:30:01.206Z"
   },
   {
    "duration": 185,
    "start_time": "2021-10-04T21:30:40.460Z"
   },
   {
    "duration": 185,
    "start_time": "2021-10-04T21:30:47.597Z"
   },
   {
    "duration": 196,
    "start_time": "2021-10-04T21:30:51.735Z"
   },
   {
    "duration": 268,
    "start_time": "2021-10-04T21:30:59.576Z"
   },
   {
    "duration": 202,
    "start_time": "2021-10-04T21:32:51.231Z"
   },
   {
    "duration": 236,
    "start_time": "2021-10-04T21:34:19.810Z"
   },
   {
    "duration": 31,
    "start_time": "2021-10-04T21:34:27.202Z"
   },
   {
    "duration": 18,
    "start_time": "2021-10-04T21:36:07.640Z"
   },
   {
    "duration": 20,
    "start_time": "2021-10-04T21:49:25.981Z"
   },
   {
    "duration": 12,
    "start_time": "2021-10-04T22:06:17.403Z"
   },
   {
    "duration": 235,
    "start_time": "2021-10-04T22:10:29.672Z"
   },
   {
    "duration": 248,
    "start_time": "2021-10-04T22:11:37.717Z"
   },
   {
    "duration": 252,
    "start_time": "2021-10-04T22:11:58.943Z"
   },
   {
    "duration": 88,
    "start_time": "2021-10-04T22:20:44.957Z"
   },
   {
    "duration": 17,
    "start_time": "2021-10-04T22:20:53.006Z"
   },
   {
    "duration": 17,
    "start_time": "2021-10-04T22:24:11.746Z"
   },
   {
    "duration": 18,
    "start_time": "2021-10-04T22:25:29.454Z"
   },
   {
    "duration": 257,
    "start_time": "2021-10-04T22:26:11.775Z"
   },
   {
    "duration": 246,
    "start_time": "2021-10-04T22:56:12.262Z"
   },
   {
    "duration": 17,
    "start_time": "2021-10-04T22:59:37.070Z"
   },
   {
    "duration": 21,
    "start_time": "2021-10-04T23:06:12.074Z"
   },
   {
    "duration": 236,
    "start_time": "2021-10-04T23:07:53.404Z"
   },
   {
    "duration": 248,
    "start_time": "2021-10-04T23:08:43.396Z"
   },
   {
    "duration": 236,
    "start_time": "2021-10-04T23:08:54.788Z"
   },
   {
    "duration": 5959,
    "start_time": "2021-10-04T23:09:00.084Z"
   },
   {
    "duration": 17,
    "start_time": "2021-10-04T23:10:13.973Z"
   },
   {
    "duration": 11,
    "start_time": "2021-10-04T23:10:33.019Z"
   },
   {
    "duration": 6600,
    "start_time": "2021-10-04T23:10:58.012Z"
   },
   {
    "duration": 18,
    "start_time": "2021-10-04T23:11:55.534Z"
   },
   {
    "duration": 8,
    "start_time": "2021-10-04T23:11:58.469Z"
   },
   {
    "duration": 6011,
    "start_time": "2021-10-04T23:14:00.566Z"
   },
   {
    "duration": 186,
    "start_time": "2021-10-04T23:17:43.289Z"
   },
   {
    "duration": 187,
    "start_time": "2021-10-04T23:18:18.049Z"
   },
   {
    "duration": 204,
    "start_time": "2021-10-04T23:18:35.761Z"
   },
   {
    "duration": 8,
    "start_time": "2021-10-04T23:21:20.961Z"
   },
   {
    "duration": 8,
    "start_time": "2021-10-04T23:21:23.681Z"
   },
   {
    "duration": 286,
    "start_time": "2021-10-04T23:22:08.971Z"
   },
   {
    "duration": 350,
    "start_time": "2021-10-04T23:22:21.202Z"
   },
   {
    "duration": 190,
    "start_time": "2021-10-04T23:22:28.788Z"
   },
   {
    "duration": 22,
    "start_time": "2021-10-04T23:25:33.605Z"
   },
   {
    "duration": 15,
    "start_time": "2021-10-04T23:28:41.056Z"
   },
   {
    "duration": 250,
    "start_time": "2021-10-04T23:28:48.943Z"
   },
   {
    "duration": 193,
    "start_time": "2021-10-04T23:29:14.464Z"
   },
   {
    "duration": 21,
    "start_time": "2021-10-04T23:30:27.681Z"
   },
   {
    "duration": 18,
    "start_time": "2021-10-04T23:31:38.211Z"
   },
   {
    "duration": 18,
    "start_time": "2021-10-04T23:35:00.021Z"
   },
   {
    "duration": 235,
    "start_time": "2021-10-04T23:38:48.414Z"
   },
   {
    "duration": 384,
    "start_time": "2021-10-04T23:38:50.040Z"
   },
   {
    "duration": 1309,
    "start_time": "2021-10-04T23:39:20.191Z"
   },
   {
    "duration": 1360,
    "start_time": "2021-10-04T23:39:45.289Z"
   },
   {
    "duration": 1163,
    "start_time": "2021-10-04T23:39:59.480Z"
   },
   {
    "duration": 239,
    "start_time": "2021-10-04T23:43:33.938Z"
   },
   {
    "duration": 235,
    "start_time": "2021-10-04T23:43:52.233Z"
   },
   {
    "duration": 184,
    "start_time": "2021-10-04T23:46:16.083Z"
   },
   {
    "duration": 19,
    "start_time": "2021-10-04T23:46:36.963Z"
   },
   {
    "duration": 16,
    "start_time": "2021-10-04T23:52:18.166Z"
   },
   {
    "duration": 186,
    "start_time": "2021-10-04T23:52:54.616Z"
   },
   {
    "duration": 179,
    "start_time": "2021-10-04T23:53:24.272Z"
   },
   {
    "duration": 173,
    "start_time": "2021-10-04T23:54:10.792Z"
   },
   {
    "duration": 176,
    "start_time": "2021-10-04T23:54:33.208Z"
   },
   {
    "duration": 23,
    "start_time": "2021-10-04T23:55:40.808Z"
   },
   {
    "duration": 24,
    "start_time": "2021-10-04T23:56:01.425Z"
   },
   {
    "duration": 24,
    "start_time": "2021-10-04T23:57:48.819Z"
   },
   {
    "duration": 254,
    "start_time": "2021-10-04T23:58:27.083Z"
   },
   {
    "duration": 244,
    "start_time": "2021-10-04T23:58:33.715Z"
   },
   {
    "duration": 250,
    "start_time": "2021-10-04T23:58:54.852Z"
   },
   {
    "duration": 277,
    "start_time": "2021-10-04T23:59:15.253Z"
   },
   {
    "duration": 191,
    "start_time": "2021-10-04T23:59:28.597Z"
   },
   {
    "duration": 394,
    "start_time": "2021-10-04T23:59:47.920Z"
   },
   {
    "duration": 3,
    "start_time": "2021-10-05T00:00:45.925Z"
   },
   {
    "duration": 201,
    "start_time": "2021-10-05T00:01:05.246Z"
   },
   {
    "duration": 218,
    "start_time": "2021-10-05T00:01:19.070Z"
   },
   {
    "duration": 257,
    "start_time": "2021-10-05T00:01:33.862Z"
   },
   {
    "duration": 193,
    "start_time": "2021-10-05T00:01:50.094Z"
   },
   {
    "duration": 210,
    "start_time": "2021-10-05T00:02:04.486Z"
   },
   {
    "duration": 199,
    "start_time": "2021-10-05T00:02:15.064Z"
   },
   {
    "duration": 99,
    "start_time": "2021-10-05T00:11:37.891Z"
   },
   {
    "duration": 72,
    "start_time": "2021-10-05T00:12:24.941Z"
   },
   {
    "duration": 238,
    "start_time": "2021-10-05T00:13:13.677Z"
   },
   {
    "duration": 3,
    "start_time": "2021-10-05T00:13:45.605Z"
   },
   {
    "duration": 65,
    "start_time": "2021-10-05T00:13:45.619Z"
   },
   {
    "duration": 9,
    "start_time": "2021-10-05T00:13:45.686Z"
   },
   {
    "duration": 11,
    "start_time": "2021-10-05T00:13:45.697Z"
   },
   {
    "duration": 39,
    "start_time": "2021-10-05T00:13:45.710Z"
   },
   {
    "duration": 7,
    "start_time": "2021-10-05T00:13:45.751Z"
   },
   {
    "duration": 8,
    "start_time": "2021-10-05T00:13:45.759Z"
   },
   {
    "duration": 12,
    "start_time": "2021-10-05T00:13:45.768Z"
   },
   {
    "duration": 13,
    "start_time": "2021-10-05T00:13:45.781Z"
   },
   {
    "duration": 11,
    "start_time": "2021-10-05T00:13:45.797Z"
   },
   {
    "duration": 45,
    "start_time": "2021-10-05T00:13:45.810Z"
   },
   {
    "duration": 10,
    "start_time": "2021-10-05T00:13:45.857Z"
   },
   {
    "duration": 7,
    "start_time": "2021-10-05T00:13:45.869Z"
   },
   {
    "duration": 9,
    "start_time": "2021-10-05T00:13:45.878Z"
   },
   {
    "duration": 9,
    "start_time": "2021-10-05T00:13:45.889Z"
   },
   {
    "duration": 8,
    "start_time": "2021-10-05T00:13:45.900Z"
   },
   {
    "duration": 50,
    "start_time": "2021-10-05T00:13:45.909Z"
   },
   {
    "duration": 4,
    "start_time": "2021-10-05T00:13:45.961Z"
   },
   {
    "duration": 17,
    "start_time": "2021-10-05T00:13:45.967Z"
   },
   {
    "duration": 28,
    "start_time": "2021-10-05T00:13:45.986Z"
   },
   {
    "duration": 8,
    "start_time": "2021-10-05T00:13:46.015Z"
   },
   {
    "duration": 20,
    "start_time": "2021-10-05T00:13:46.025Z"
   },
   {
    "duration": 13,
    "start_time": "2021-10-05T00:13:46.047Z"
   },
   {
    "duration": 12,
    "start_time": "2021-10-05T00:13:46.061Z"
   },
   {
    "duration": 17,
    "start_time": "2021-10-05T00:13:46.075Z"
   },
   {
    "duration": 9,
    "start_time": "2021-10-05T00:13:46.094Z"
   },
   {
    "duration": 7,
    "start_time": "2021-10-05T00:13:46.105Z"
   },
   {
    "duration": 29,
    "start_time": "2021-10-05T00:13:46.116Z"
   },
   {
    "duration": 13,
    "start_time": "2021-10-05T00:13:46.148Z"
   },
   {
    "duration": 25,
    "start_time": "2021-10-05T00:13:46.163Z"
   },
   {
    "duration": 11,
    "start_time": "2021-10-05T00:13:46.190Z"
   },
   {
    "duration": 21,
    "start_time": "2021-10-05T00:13:46.203Z"
   },
   {
    "duration": 5,
    "start_time": "2021-10-05T00:13:46.225Z"
   },
   {
    "duration": 24,
    "start_time": "2021-10-05T00:13:46.231Z"
   },
   {
    "duration": 18,
    "start_time": "2021-10-05T00:13:46.257Z"
   },
   {
    "duration": 24,
    "start_time": "2021-10-05T00:13:46.276Z"
   },
   {
    "duration": 22,
    "start_time": "2021-10-05T00:13:46.302Z"
   },
   {
    "duration": 13,
    "start_time": "2021-10-05T00:13:46.326Z"
   },
   {
    "duration": 18,
    "start_time": "2021-10-05T00:13:46.341Z"
   },
   {
    "duration": 19,
    "start_time": "2021-10-05T00:13:46.361Z"
   },
   {
    "duration": 16,
    "start_time": "2021-10-05T00:13:46.382Z"
   },
   {
    "duration": 24,
    "start_time": "2021-10-05T00:13:46.400Z"
   },
   {
    "duration": 19,
    "start_time": "2021-10-05T00:13:46.425Z"
   },
   {
    "duration": 27,
    "start_time": "2021-10-05T00:13:46.446Z"
   },
   {
    "duration": 9,
    "start_time": "2021-10-05T00:13:46.474Z"
   },
   {
    "duration": 11,
    "start_time": "2021-10-05T00:13:46.485Z"
   },
   {
    "duration": 14,
    "start_time": "2021-10-05T00:13:46.497Z"
   },
   {
    "duration": 18,
    "start_time": "2021-10-05T00:13:46.512Z"
   },
   {
    "duration": 8,
    "start_time": "2021-10-05T00:13:46.531Z"
   },
   {
    "duration": 25,
    "start_time": "2021-10-05T00:13:46.540Z"
   },
   {
    "duration": 7,
    "start_time": "2021-10-05T00:13:46.567Z"
   },
   {
    "duration": 30,
    "start_time": "2021-10-05T00:13:46.576Z"
   },
   {
    "duration": 15,
    "start_time": "2021-10-05T00:13:46.607Z"
   },
   {
    "duration": 24,
    "start_time": "2021-10-05T00:13:46.624Z"
   },
   {
    "duration": 29,
    "start_time": "2021-10-05T00:13:46.649Z"
   },
   {
    "duration": 15,
    "start_time": "2021-10-05T00:13:46.681Z"
   },
   {
    "duration": 21,
    "start_time": "2021-10-05T00:13:46.698Z"
   },
   {
    "duration": 6,
    "start_time": "2021-10-05T00:13:46.721Z"
   },
   {
    "duration": 17,
    "start_time": "2021-10-05T00:13:46.729Z"
   },
   {
    "duration": 11,
    "start_time": "2021-10-05T00:13:46.748Z"
   },
   {
    "duration": 8,
    "start_time": "2021-10-05T00:13:46.760Z"
   },
   {
    "duration": 12,
    "start_time": "2021-10-05T00:13:46.770Z"
   },
   {
    "duration": 16,
    "start_time": "2021-10-05T00:13:46.784Z"
   },
   {
    "duration": 25,
    "start_time": "2021-10-05T00:13:46.802Z"
   },
   {
    "duration": 18,
    "start_time": "2021-10-05T00:13:46.829Z"
   },
   {
    "duration": 3,
    "start_time": "2021-10-05T00:13:46.849Z"
   },
   {
    "duration": 20,
    "start_time": "2021-10-05T00:13:46.854Z"
   },
   {
    "duration": 11,
    "start_time": "2021-10-05T00:13:46.876Z"
   },
   {
    "duration": 14,
    "start_time": "2021-10-05T00:13:46.889Z"
   },
   {
    "duration": 40,
    "start_time": "2021-10-05T00:13:46.904Z"
   },
   {
    "duration": 9,
    "start_time": "2021-10-05T00:13:46.946Z"
   },
   {
    "duration": 20,
    "start_time": "2021-10-05T00:13:46.956Z"
   },
   {
    "duration": 7,
    "start_time": "2021-10-05T00:13:46.978Z"
   },
   {
    "duration": 12,
    "start_time": "2021-10-05T00:13:46.987Z"
   },
   {
    "duration": 10,
    "start_time": "2021-10-05T00:13:47.000Z"
   },
   {
    "duration": 42,
    "start_time": "2021-10-05T00:13:47.011Z"
   },
   {
    "duration": 5,
    "start_time": "2021-10-05T00:13:47.055Z"
   },
   {
    "duration": 6,
    "start_time": "2021-10-05T00:13:47.061Z"
   },
   {
    "duration": 8,
    "start_time": "2021-10-05T00:13:47.068Z"
   },
   {
    "duration": 17,
    "start_time": "2021-10-05T00:13:47.077Z"
   },
   {
    "duration": 13,
    "start_time": "2021-10-05T00:13:47.096Z"
   },
   {
    "duration": 9,
    "start_time": "2021-10-05T00:13:47.115Z"
   },
   {
    "duration": 20,
    "start_time": "2021-10-05T00:13:47.144Z"
   },
   {
    "duration": 49,
    "start_time": "2021-10-05T00:13:47.166Z"
   },
   {
    "duration": 20,
    "start_time": "2021-10-05T00:13:47.216Z"
   },
   {
    "duration": 20,
    "start_time": "2021-10-05T00:13:47.237Z"
   },
   {
    "duration": 15,
    "start_time": "2021-10-05T00:13:47.259Z"
   },
   {
    "duration": 31,
    "start_time": "2021-10-05T00:13:47.276Z"
   },
   {
    "duration": 16,
    "start_time": "2021-10-05T00:13:47.309Z"
   },
   {
    "duration": 16,
    "start_time": "2021-10-05T00:13:47.326Z"
   },
   {
    "duration": 29,
    "start_time": "2021-10-05T00:13:47.344Z"
   },
   {
    "duration": 42,
    "start_time": "2021-10-05T00:13:47.374Z"
   },
   {
    "duration": 42,
    "start_time": "2021-10-05T00:13:47.418Z"
   },
   {
    "duration": 17,
    "start_time": "2021-10-05T00:13:47.461Z"
   },
   {
    "duration": 28,
    "start_time": "2021-10-05T00:13:47.479Z"
   },
   {
    "duration": 4,
    "start_time": "2021-10-05T00:13:47.509Z"
   },
   {
    "duration": 27,
    "start_time": "2021-10-05T00:13:47.515Z"
   },
   {
    "duration": 48,
    "start_time": "2021-10-05T00:13:47.544Z"
   },
   {
    "duration": 16,
    "start_time": "2021-10-05T00:13:47.594Z"
   },
   {
    "duration": 5,
    "start_time": "2021-10-05T00:13:47.612Z"
   },
   {
    "duration": 31,
    "start_time": "2021-10-05T00:13:47.619Z"
   },
   {
    "duration": 28,
    "start_time": "2021-10-05T00:13:47.651Z"
   },
   {
    "duration": 17,
    "start_time": "2021-10-05T00:13:47.680Z"
   },
   {
    "duration": 15,
    "start_time": "2021-10-05T00:13:47.698Z"
   },
   {
    "duration": 5,
    "start_time": "2021-10-05T00:13:47.715Z"
   },
   {
    "duration": 219,
    "start_time": "2021-10-05T00:13:47.722Z"
   },
   {
    "duration": 8,
    "start_time": "2021-10-05T00:13:47.942Z"
   },
   {
    "duration": 316,
    "start_time": "2021-10-05T00:13:47.952Z"
   },
   {
    "duration": 8,
    "start_time": "2021-10-05T00:13:48.270Z"
   },
   {
    "duration": 143,
    "start_time": "2021-10-05T00:13:48.279Z"
   },
   {
    "duration": 217,
    "start_time": "2021-10-05T00:13:48.424Z"
   },
   {
    "duration": 202,
    "start_time": "2021-10-05T00:13:48.644Z"
   },
   {
    "duration": 21,
    "start_time": "2021-10-05T00:13:48.847Z"
   },
   {
    "duration": 211,
    "start_time": "2021-10-05T00:13:48.870Z"
   },
   {
    "duration": 30,
    "start_time": "2021-10-05T00:13:49.083Z"
   },
   {
    "duration": 36,
    "start_time": "2021-10-05T00:13:49.114Z"
   },
   {
    "duration": 232,
    "start_time": "2021-10-05T00:13:49.151Z"
   },
   {
    "duration": 18,
    "start_time": "2021-10-05T00:13:49.385Z"
   },
   {
    "duration": 2,
    "start_time": "2021-10-05T00:13:49.406Z"
   },
   {
    "duration": 188,
    "start_time": "2021-10-05T00:13:49.410Z"
   },
   {
    "duration": 177,
    "start_time": "2021-10-05T00:13:49.599Z"
   },
   {
    "duration": 176,
    "start_time": "2021-10-05T00:13:49.778Z"
   },
   {
    "duration": 181,
    "start_time": "2021-10-05T00:13:49.956Z"
   },
   {
    "duration": 177,
    "start_time": "2021-10-05T00:13:50.139Z"
   },
   {
    "duration": 11,
    "start_time": "2021-10-05T00:13:50.318Z"
   },
   {
    "duration": 6,
    "start_time": "2021-10-05T00:14:19.704Z"
   },
   {
    "duration": 3,
    "start_time": "2021-10-05T00:33:10.498Z"
   },
   {
    "duration": 11,
    "start_time": "2021-10-05T00:36:33.244Z"
   },
   {
    "duration": 197,
    "start_time": "2021-10-05T00:38:23.181Z"
   },
   {
    "duration": 303,
    "start_time": "2021-10-05T00:40:18.724Z"
   },
   {
    "duration": 211,
    "start_time": "2021-10-05T00:41:27.406Z"
   },
   {
    "duration": 215,
    "start_time": "2021-10-05T00:41:36.086Z"
   },
   {
    "duration": 208,
    "start_time": "2021-10-05T00:42:34.478Z"
   },
   {
    "duration": 201,
    "start_time": "2021-10-05T00:57:37.433Z"
   },
   {
    "duration": 3,
    "start_time": "2021-10-05T00:58:28.164Z"
   },
   {
    "duration": 63,
    "start_time": "2021-10-05T00:58:28.168Z"
   },
   {
    "duration": 8,
    "start_time": "2021-10-05T00:58:28.233Z"
   },
   {
    "duration": 17,
    "start_time": "2021-10-05T00:58:28.243Z"
   },
   {
    "duration": 48,
    "start_time": "2021-10-05T00:58:28.262Z"
   },
   {
    "duration": 19,
    "start_time": "2021-10-05T00:58:28.311Z"
   },
   {
    "duration": 11,
    "start_time": "2021-10-05T00:58:28.331Z"
   },
   {
    "duration": 25,
    "start_time": "2021-10-05T00:58:28.344Z"
   },
   {
    "duration": 18,
    "start_time": "2021-10-05T00:58:28.372Z"
   },
   {
    "duration": 12,
    "start_time": "2021-10-05T00:58:28.393Z"
   },
   {
    "duration": 13,
    "start_time": "2021-10-05T00:58:28.406Z"
   },
   {
    "duration": 10,
    "start_time": "2021-10-05T00:58:28.421Z"
   },
   {
    "duration": 4,
    "start_time": "2021-10-05T00:58:28.445Z"
   },
   {
    "duration": 9,
    "start_time": "2021-10-05T00:58:28.451Z"
   },
   {
    "duration": 4,
    "start_time": "2021-10-05T00:58:28.462Z"
   },
   {
    "duration": 5,
    "start_time": "2021-10-05T00:58:28.468Z"
   },
   {
    "duration": 21,
    "start_time": "2021-10-05T00:58:28.474Z"
   },
   {
    "duration": 5,
    "start_time": "2021-10-05T00:58:28.497Z"
   },
   {
    "duration": 52,
    "start_time": "2021-10-05T00:58:28.503Z"
   },
   {
    "duration": 16,
    "start_time": "2021-10-05T00:58:28.557Z"
   },
   {
    "duration": 4,
    "start_time": "2021-10-05T00:58:28.574Z"
   },
   {
    "duration": 9,
    "start_time": "2021-10-05T00:58:28.580Z"
   },
   {
    "duration": 5,
    "start_time": "2021-10-05T00:58:28.590Z"
   },
   {
    "duration": 9,
    "start_time": "2021-10-05T00:58:28.597Z"
   },
   {
    "duration": 3,
    "start_time": "2021-10-05T00:58:28.608Z"
   },
   {
    "duration": 4,
    "start_time": "2021-10-05T00:58:28.645Z"
   },
   {
    "duration": 5,
    "start_time": "2021-10-05T00:58:28.653Z"
   },
   {
    "duration": 17,
    "start_time": "2021-10-05T00:58:28.660Z"
   },
   {
    "duration": 4,
    "start_time": "2021-10-05T00:58:28.678Z"
   },
   {
    "duration": 8,
    "start_time": "2021-10-05T00:58:28.683Z"
   },
   {
    "duration": 7,
    "start_time": "2021-10-05T00:58:28.693Z"
   },
   {
    "duration": 56,
    "start_time": "2021-10-05T00:58:28.701Z"
   },
   {
    "duration": 4,
    "start_time": "2021-10-05T00:58:28.759Z"
   },
   {
    "duration": 7,
    "start_time": "2021-10-05T00:58:28.764Z"
   },
   {
    "duration": 5,
    "start_time": "2021-10-05T00:58:28.772Z"
   },
   {
    "duration": 7,
    "start_time": "2021-10-05T00:58:28.778Z"
   },
   {
    "duration": 16,
    "start_time": "2021-10-05T00:58:28.786Z"
   },
   {
    "duration": 5,
    "start_time": "2021-10-05T00:58:28.803Z"
   },
   {
    "duration": 4,
    "start_time": "2021-10-05T00:58:28.810Z"
   },
   {
    "duration": 32,
    "start_time": "2021-10-05T00:58:28.815Z"
   },
   {
    "duration": 7,
    "start_time": "2021-10-05T00:58:28.849Z"
   },
   {
    "duration": 6,
    "start_time": "2021-10-05T00:58:28.858Z"
   },
   {
    "duration": 11,
    "start_time": "2021-10-05T00:58:28.865Z"
   },
   {
    "duration": 18,
    "start_time": "2021-10-05T00:58:28.877Z"
   },
   {
    "duration": 4,
    "start_time": "2021-10-05T00:58:28.896Z"
   },
   {
    "duration": 9,
    "start_time": "2021-10-05T00:58:28.901Z"
   },
   {
    "duration": 6,
    "start_time": "2021-10-05T00:58:28.911Z"
   },
   {
    "duration": 40,
    "start_time": "2021-10-05T00:58:28.919Z"
   },
   {
    "duration": 3,
    "start_time": "2021-10-05T00:58:28.960Z"
   },
   {
    "duration": 6,
    "start_time": "2021-10-05T00:58:28.965Z"
   },
   {
    "duration": 5,
    "start_time": "2021-10-05T00:58:28.973Z"
   },
   {
    "duration": 19,
    "start_time": "2021-10-05T00:58:28.979Z"
   },
   {
    "duration": 12,
    "start_time": "2021-10-05T00:58:29.000Z"
   },
   {
    "duration": 8,
    "start_time": "2021-10-05T00:58:29.044Z"
   },
   {
    "duration": 8,
    "start_time": "2021-10-05T00:58:29.054Z"
   },
   {
    "duration": 15,
    "start_time": "2021-10-05T00:58:29.063Z"
   },
   {
    "duration": 15,
    "start_time": "2021-10-05T00:58:29.079Z"
   },
   {
    "duration": 4,
    "start_time": "2021-10-05T00:58:29.095Z"
   },
   {
    "duration": 9,
    "start_time": "2021-10-05T00:58:29.100Z"
   },
   {
    "duration": 37,
    "start_time": "2021-10-05T00:58:29.111Z"
   },
   {
    "duration": 4,
    "start_time": "2021-10-05T00:58:29.149Z"
   },
   {
    "duration": 11,
    "start_time": "2021-10-05T00:58:29.155Z"
   },
   {
    "duration": 15,
    "start_time": "2021-10-05T00:58:29.168Z"
   },
   {
    "duration": 9,
    "start_time": "2021-10-05T00:58:29.184Z"
   },
   {
    "duration": 19,
    "start_time": "2021-10-05T00:58:29.194Z"
   },
   {
    "duration": 32,
    "start_time": "2021-10-05T00:58:29.214Z"
   },
   {
    "duration": 20,
    "start_time": "2021-10-05T00:58:29.248Z"
   },
   {
    "duration": 15,
    "start_time": "2021-10-05T00:58:29.270Z"
   },
   {
    "duration": 11,
    "start_time": "2021-10-05T00:58:29.286Z"
   },
   {
    "duration": 8,
    "start_time": "2021-10-05T00:58:29.299Z"
   },
   {
    "duration": 17,
    "start_time": "2021-10-05T00:58:29.308Z"
   },
   {
    "duration": 16,
    "start_time": "2021-10-05T00:58:29.345Z"
   },
   {
    "duration": 12,
    "start_time": "2021-10-05T00:58:29.363Z"
   },
   {
    "duration": 6,
    "start_time": "2021-10-05T00:58:29.376Z"
   },
   {
    "duration": 7,
    "start_time": "2021-10-05T00:58:29.384Z"
   },
   {
    "duration": 7,
    "start_time": "2021-10-05T00:58:29.392Z"
   },
   {
    "duration": 54,
    "start_time": "2021-10-05T00:58:29.401Z"
   },
   {
    "duration": 5,
    "start_time": "2021-10-05T00:58:29.457Z"
   },
   {
    "duration": 7,
    "start_time": "2021-10-05T00:58:29.463Z"
   },
   {
    "duration": 7,
    "start_time": "2021-10-05T00:58:29.472Z"
   },
   {
    "duration": 8,
    "start_time": "2021-10-05T00:58:29.485Z"
   },
   {
    "duration": 12,
    "start_time": "2021-10-05T00:58:29.495Z"
   },
   {
    "duration": 40,
    "start_time": "2021-10-05T00:58:29.508Z"
   },
   {
    "duration": 16,
    "start_time": "2021-10-05T00:58:29.549Z"
   },
   {
    "duration": 49,
    "start_time": "2021-10-05T00:58:29.567Z"
   },
   {
    "duration": 9,
    "start_time": "2021-10-05T00:58:29.618Z"
   },
   {
    "duration": 27,
    "start_time": "2021-10-05T00:58:29.628Z"
   },
   {
    "duration": 6,
    "start_time": "2021-10-05T00:58:29.657Z"
   },
   {
    "duration": 17,
    "start_time": "2021-10-05T00:58:29.664Z"
   },
   {
    "duration": 17,
    "start_time": "2021-10-05T00:58:29.683Z"
   },
   {
    "duration": 50,
    "start_time": "2021-10-05T00:58:29.701Z"
   },
   {
    "duration": 26,
    "start_time": "2021-10-05T00:58:29.753Z"
   },
   {
    "duration": 43,
    "start_time": "2021-10-05T00:58:29.781Z"
   },
   {
    "duration": 39,
    "start_time": "2021-10-05T00:58:29.826Z"
   },
   {
    "duration": 16,
    "start_time": "2021-10-05T00:58:29.867Z"
   },
   {
    "duration": 27,
    "start_time": "2021-10-05T00:58:29.885Z"
   },
   {
    "duration": 4,
    "start_time": "2021-10-05T00:58:29.914Z"
   },
   {
    "duration": 6,
    "start_time": "2021-10-05T00:58:29.944Z"
   },
   {
    "duration": 22,
    "start_time": "2021-10-05T00:58:29.952Z"
   },
   {
    "duration": 18,
    "start_time": "2021-10-05T00:58:29.975Z"
   },
   {
    "duration": 5,
    "start_time": "2021-10-05T00:58:29.995Z"
   },
   {
    "duration": 18,
    "start_time": "2021-10-05T00:58:30.002Z"
   },
   {
    "duration": 20,
    "start_time": "2021-10-05T00:58:30.045Z"
   },
   {
    "duration": 18,
    "start_time": "2021-10-05T00:58:30.067Z"
   },
   {
    "duration": 18,
    "start_time": "2021-10-05T00:58:30.087Z"
   },
   {
    "duration": 38,
    "start_time": "2021-10-05T00:58:30.107Z"
   },
   {
    "duration": 222,
    "start_time": "2021-10-05T00:58:30.148Z"
   },
   {
    "duration": 9,
    "start_time": "2021-10-05T00:58:30.372Z"
   },
   {
    "duration": 236,
    "start_time": "2021-10-05T00:58:30.383Z"
   },
   {
    "duration": 9,
    "start_time": "2021-10-05T00:58:30.622Z"
   },
   {
    "duration": 141,
    "start_time": "2021-10-05T00:58:30.645Z"
   },
   {
    "duration": 221,
    "start_time": "2021-10-05T00:58:30.788Z"
   },
   {
    "duration": 236,
    "start_time": "2021-10-05T00:58:31.010Z"
   },
   {
    "duration": 20,
    "start_time": "2021-10-05T00:58:31.248Z"
   },
   {
    "duration": 212,
    "start_time": "2021-10-05T00:58:31.270Z"
   },
   {
    "duration": 31,
    "start_time": "2021-10-05T00:58:31.483Z"
   },
   {
    "duration": 19,
    "start_time": "2021-10-05T00:58:31.516Z"
   },
   {
    "duration": 328,
    "start_time": "2021-10-05T00:58:31.537Z"
   },
   {
    "duration": 16,
    "start_time": "2021-10-05T00:58:31.866Z"
   },
   {
    "duration": 174,
    "start_time": "2021-10-05T00:58:31.884Z"
   },
   {
    "duration": 320,
    "start_time": "2021-10-05T00:58:32.060Z"
   },
   {
    "duration": 265,
    "start_time": "2021-10-05T00:58:32.381Z"
   },
   {
    "duration": 182,
    "start_time": "2021-10-05T00:58:32.648Z"
   },
   {
    "duration": 172,
    "start_time": "2021-10-05T00:58:32.832Z"
   },
   {
    "duration": 199,
    "start_time": "2021-10-05T00:58:33.005Z"
   },
   {
    "duration": 219,
    "start_time": "2021-10-05T00:58:33.206Z"
   },
   {
    "duration": 74,
    "start_time": "2021-10-05T00:58:33.427Z"
   },
   {
    "duration": 1101,
    "start_time": "2021-10-05T00:58:32.401Z"
   },
   {
    "duration": 205,
    "start_time": "2021-10-05T00:59:11.888Z"
   },
   {
    "duration": 216,
    "start_time": "2021-10-05T00:59:25.830Z"
   },
   {
    "duration": 212,
    "start_time": "2021-10-05T01:00:14.338Z"
   },
   {
    "duration": 14,
    "start_time": "2021-10-05T01:09:48.561Z"
   },
   {
    "duration": 13,
    "start_time": "2021-10-05T01:21:47.056Z"
   },
   {
    "duration": 633,
    "start_time": "2021-10-05T01:28:11.894Z"
   },
   {
    "duration": 579,
    "start_time": "2021-10-05T01:33:30.137Z"
   },
   {
    "duration": 767,
    "start_time": "2021-10-05T01:34:15.385Z"
   },
   {
    "duration": 21,
    "start_time": "2021-10-05T01:35:00.097Z"
   },
   {
    "duration": 3,
    "start_time": "2021-10-05T01:37:41.638Z"
   },
   {
    "duration": 67,
    "start_time": "2021-10-05T01:37:41.643Z"
   },
   {
    "duration": 9,
    "start_time": "2021-10-05T01:37:41.712Z"
   },
   {
    "duration": 12,
    "start_time": "2021-10-05T01:37:41.722Z"
   },
   {
    "duration": 42,
    "start_time": "2021-10-05T01:37:41.736Z"
   },
   {
    "duration": 10,
    "start_time": "2021-10-05T01:37:41.780Z"
   },
   {
    "duration": 8,
    "start_time": "2021-10-05T01:37:41.791Z"
   },
   {
    "duration": 12,
    "start_time": "2021-10-05T01:37:41.801Z"
   },
   {
    "duration": 13,
    "start_time": "2021-10-05T01:37:41.816Z"
   },
   {
    "duration": 11,
    "start_time": "2021-10-05T01:37:41.831Z"
   },
   {
    "duration": 11,
    "start_time": "2021-10-05T01:37:41.843Z"
   },
   {
    "duration": 9,
    "start_time": "2021-10-05T01:37:41.856Z"
   },
   {
    "duration": 4,
    "start_time": "2021-10-05T01:37:41.866Z"
   },
   {
    "duration": 8,
    "start_time": "2021-10-05T01:37:41.871Z"
   },
   {
    "duration": 4,
    "start_time": "2021-10-05T01:37:41.880Z"
   },
   {
    "duration": 5,
    "start_time": "2021-10-05T01:37:41.885Z"
   },
   {
    "duration": 54,
    "start_time": "2021-10-05T01:37:41.891Z"
   },
   {
    "duration": 5,
    "start_time": "2021-10-05T01:37:41.947Z"
   },
   {
    "duration": 18,
    "start_time": "2021-10-05T01:37:41.953Z"
   },
   {
    "duration": 18,
    "start_time": "2021-10-05T01:37:41.972Z"
   },
   {
    "duration": 6,
    "start_time": "2021-10-05T01:37:41.992Z"
   },
   {
    "duration": 6,
    "start_time": "2021-10-05T01:37:42.000Z"
   },
   {
    "duration": 37,
    "start_time": "2021-10-05T01:37:42.008Z"
   },
   {
    "duration": 10,
    "start_time": "2021-10-05T01:37:42.047Z"
   },
   {
    "duration": 7,
    "start_time": "2021-10-05T01:37:42.059Z"
   },
   {
    "duration": 6,
    "start_time": "2021-10-05T01:37:42.067Z"
   },
   {
    "duration": 5,
    "start_time": "2021-10-05T01:37:42.075Z"
   },
   {
    "duration": 17,
    "start_time": "2021-10-05T01:37:42.081Z"
   },
   {
    "duration": 3,
    "start_time": "2021-10-05T01:37:42.100Z"
   },
   {
    "duration": 8,
    "start_time": "2021-10-05T01:37:42.105Z"
   },
   {
    "duration": 33,
    "start_time": "2021-10-05T01:37:42.114Z"
   },
   {
    "duration": 19,
    "start_time": "2021-10-05T01:37:42.149Z"
   },
   {
    "duration": 4,
    "start_time": "2021-10-05T01:37:42.170Z"
   },
   {
    "duration": 6,
    "start_time": "2021-10-05T01:37:42.175Z"
   },
   {
    "duration": 8,
    "start_time": "2021-10-05T01:37:42.182Z"
   },
   {
    "duration": 7,
    "start_time": "2021-10-05T01:37:42.192Z"
   },
   {
    "duration": 51,
    "start_time": "2021-10-05T01:37:42.200Z"
   },
   {
    "duration": 5,
    "start_time": "2021-10-05T01:37:42.330Z"
   },
   {
    "duration": 4,
    "start_time": "2021-10-05T01:37:42.354Z"
   },
   {
    "duration": 11,
    "start_time": "2021-10-05T01:37:42.360Z"
   },
   {
    "duration": 12,
    "start_time": "2021-10-05T01:37:42.373Z"
   },
   {
    "duration": 11,
    "start_time": "2021-10-05T01:37:42.387Z"
   },
   {
    "duration": 18,
    "start_time": "2021-10-05T01:37:42.399Z"
   },
   {
    "duration": 27,
    "start_time": "2021-10-05T01:37:42.418Z"
   },
   {
    "duration": 5,
    "start_time": "2021-10-05T01:37:42.446Z"
   },
   {
    "duration": 7,
    "start_time": "2021-10-05T01:37:42.453Z"
   },
   {
    "duration": 5,
    "start_time": "2021-10-05T01:37:42.462Z"
   },
   {
    "duration": 15,
    "start_time": "2021-10-05T01:37:42.469Z"
   },
   {
    "duration": 3,
    "start_time": "2021-10-05T01:37:42.486Z"
   },
   {
    "duration": 9,
    "start_time": "2021-10-05T01:37:42.490Z"
   },
   {
    "duration": 11,
    "start_time": "2021-10-05T01:37:42.500Z"
   },
   {
    "duration": 46,
    "start_time": "2021-10-05T01:37:42.512Z"
   },
   {
    "duration": 13,
    "start_time": "2021-10-05T01:37:42.560Z"
   },
   {
    "duration": 18,
    "start_time": "2021-10-05T01:37:42.575Z"
   },
   {
    "duration": 22,
    "start_time": "2021-10-05T01:37:42.594Z"
   },
   {
    "duration": 24,
    "start_time": "2021-10-05T01:37:42.618Z"
   },
   {
    "duration": 21,
    "start_time": "2021-10-05T01:37:42.644Z"
   },
   {
    "duration": 6,
    "start_time": "2021-10-05T01:37:42.667Z"
   },
   {
    "duration": 19,
    "start_time": "2021-10-05T01:37:42.674Z"
   },
   {
    "duration": 24,
    "start_time": "2021-10-05T01:37:42.694Z"
   },
   {
    "duration": 7,
    "start_time": "2021-10-05T01:37:42.720Z"
   },
   {
    "duration": 10,
    "start_time": "2021-10-05T01:37:42.728Z"
   },
   {
    "duration": 21,
    "start_time": "2021-10-05T01:37:42.740Z"
   },
   {
    "duration": 9,
    "start_time": "2021-10-05T01:37:42.763Z"
   },
   {
    "duration": 28,
    "start_time": "2021-10-05T01:37:42.773Z"
   },
   {
    "duration": 4,
    "start_time": "2021-10-05T01:37:42.802Z"
   },
   {
    "duration": 35,
    "start_time": "2021-10-05T01:37:42.809Z"
   },
   {
    "duration": 14,
    "start_time": "2021-10-05T01:37:42.846Z"
   },
   {
    "duration": 17,
    "start_time": "2021-10-05T01:37:42.862Z"
   },
   {
    "duration": 18,
    "start_time": "2021-10-05T01:37:42.881Z"
   },
   {
    "duration": 11,
    "start_time": "2021-10-05T01:37:42.901Z"
   },
   {
    "duration": 38,
    "start_time": "2021-10-05T01:37:42.914Z"
   },
   {
    "duration": 9,
    "start_time": "2021-10-05T01:37:42.954Z"
   },
   {
    "duration": 14,
    "start_time": "2021-10-05T01:37:42.965Z"
   },
   {
    "duration": 14,
    "start_time": "2021-10-05T01:37:42.981Z"
   },
   {
    "duration": 12,
    "start_time": "2021-10-05T01:37:42.997Z"
   },
   {
    "duration": 39,
    "start_time": "2021-10-05T01:37:43.011Z"
   },
   {
    "duration": 6,
    "start_time": "2021-10-05T01:37:43.052Z"
   },
   {
    "duration": 6,
    "start_time": "2021-10-05T01:37:43.060Z"
   },
   {
    "duration": 15,
    "start_time": "2021-10-05T01:37:43.068Z"
   },
   {
    "duration": 22,
    "start_time": "2021-10-05T01:37:43.087Z"
   },
   {
    "duration": 13,
    "start_time": "2021-10-05T01:37:43.112Z"
   },
   {
    "duration": 22,
    "start_time": "2021-10-05T01:37:43.127Z"
   },
   {
    "duration": 17,
    "start_time": "2021-10-05T01:37:43.150Z"
   },
   {
    "duration": 40,
    "start_time": "2021-10-05T01:37:43.169Z"
   },
   {
    "duration": 34,
    "start_time": "2021-10-05T01:37:43.210Z"
   },
   {
    "duration": 13,
    "start_time": "2021-10-05T01:37:43.246Z"
   },
   {
    "duration": 12,
    "start_time": "2021-10-05T01:37:43.260Z"
   },
   {
    "duration": 31,
    "start_time": "2021-10-05T01:37:43.273Z"
   },
   {
    "duration": 24,
    "start_time": "2021-10-05T01:37:43.306Z"
   },
   {
    "duration": 21,
    "start_time": "2021-10-05T01:37:43.331Z"
   },
   {
    "duration": 34,
    "start_time": "2021-10-05T01:37:43.354Z"
   },
   {
    "duration": 43,
    "start_time": "2021-10-05T01:37:43.389Z"
   },
   {
    "duration": 29,
    "start_time": "2021-10-05T01:37:43.434Z"
   },
   {
    "duration": 18,
    "start_time": "2021-10-05T01:37:43.465Z"
   },
   {
    "duration": 31,
    "start_time": "2021-10-05T01:37:43.485Z"
   },
   {
    "duration": 27,
    "start_time": "2021-10-05T01:37:43.517Z"
   },
   {
    "duration": 3,
    "start_time": "2021-10-05T01:37:43.546Z"
   },
   {
    "duration": 32,
    "start_time": "2021-10-05T01:37:43.550Z"
   },
   {
    "duration": 18,
    "start_time": "2021-10-05T01:37:43.583Z"
   },
   {
    "duration": 6,
    "start_time": "2021-10-05T01:37:43.602Z"
   },
   {
    "duration": 15,
    "start_time": "2021-10-05T01:37:43.609Z"
   },
   {
    "duration": 15,
    "start_time": "2021-10-05T01:37:43.645Z"
   },
   {
    "duration": 16,
    "start_time": "2021-10-05T01:37:43.662Z"
   },
   {
    "duration": 14,
    "start_time": "2021-10-05T01:37:43.682Z"
   },
   {
    "duration": 11,
    "start_time": "2021-10-05T01:37:43.698Z"
   },
   {
    "duration": 320,
    "start_time": "2021-10-05T01:37:43.711Z"
   },
   {
    "duration": 12,
    "start_time": "2021-10-05T01:37:44.033Z"
   },
   {
    "duration": 227,
    "start_time": "2021-10-05T01:37:44.046Z"
   },
   {
    "duration": 7,
    "start_time": "2021-10-05T01:37:44.275Z"
   },
   {
    "duration": 137,
    "start_time": "2021-10-05T01:37:44.283Z"
   },
   {
    "duration": 229,
    "start_time": "2021-10-05T01:37:44.422Z"
   },
   {
    "duration": 205,
    "start_time": "2021-10-05T01:37:44.652Z"
   },
   {
    "duration": 20,
    "start_time": "2021-10-05T01:37:44.859Z"
   },
   {
    "duration": 217,
    "start_time": "2021-10-05T01:37:44.881Z"
   },
   {
    "duration": 45,
    "start_time": "2021-10-05T01:37:45.100Z"
   },
   {
    "duration": 22,
    "start_time": "2021-10-05T01:37:45.147Z"
   },
   {
    "duration": 243,
    "start_time": "2021-10-05T01:37:45.171Z"
   },
   {
    "duration": 29,
    "start_time": "2021-10-05T01:37:45.416Z"
   },
   {
    "duration": 183,
    "start_time": "2021-10-05T01:37:45.447Z"
   },
   {
    "duration": 198,
    "start_time": "2021-10-05T01:37:45.633Z"
   },
   {
    "duration": 185,
    "start_time": "2021-10-05T01:37:45.834Z"
   },
   {
    "duration": 183,
    "start_time": "2021-10-05T01:37:46.021Z"
   },
   {
    "duration": 179,
    "start_time": "2021-10-05T01:37:46.206Z"
   },
   {
    "duration": 208,
    "start_time": "2021-10-05T01:37:46.388Z"
   },
   {
    "duration": 23,
    "start_time": "2021-10-05T01:37:46.598Z"
   },
   {
    "duration": 323,
    "start_time": "2021-10-05T01:37:46.623Z"
   },
   {
    "duration": 249,
    "start_time": "2021-10-05T01:37:46.948Z"
   },
   {
    "duration": 15,
    "start_time": "2021-10-05T01:37:47.199Z"
   },
   {
    "duration": 254,
    "start_time": "2021-10-05T01:44:37.019Z"
   },
   {
    "duration": 303,
    "start_time": "2021-10-05T01:45:28.564Z"
   },
   {
    "duration": 17,
    "start_time": "2021-10-05T01:50:59.639Z"
   },
   {
    "duration": 226,
    "start_time": "2021-10-05T01:54:44.770Z"
   },
   {
    "duration": 15,
    "start_time": "2021-10-05T01:55:10.603Z"
   },
   {
    "duration": 210,
    "start_time": "2021-10-05T01:57:04.411Z"
   },
   {
    "duration": 7,
    "start_time": "2021-10-05T01:59:04.580Z"
   },
   {
    "duration": 29,
    "start_time": "2021-10-05T01:59:55.365Z"
   },
   {
    "duration": 11,
    "start_time": "2021-10-05T02:00:18.054Z"
   },
   {
    "duration": 834,
    "start_time": "2021-10-05T02:21:38.235Z"
   },
   {
    "duration": 807,
    "start_time": "2021-10-05T02:23:26.842Z"
   },
   {
    "duration": 808,
    "start_time": "2021-10-05T02:23:52.553Z"
   },
   {
    "duration": 87,
    "start_time": "2021-10-05T02:27:05.916Z"
   },
   {
    "duration": 69,
    "start_time": "2021-10-05T02:27:25.204Z"
   },
   {
    "duration": 85,
    "start_time": "2021-10-05T02:28:42.724Z"
   },
   {
    "duration": 95,
    "start_time": "2021-10-05T02:29:54.678Z"
   },
   {
    "duration": 79,
    "start_time": "2021-10-05T02:30:06.038Z"
   },
   {
    "duration": 922,
    "start_time": "2021-10-05T02:30:51.016Z"
   },
   {
    "duration": 1040,
    "start_time": "2021-10-05T02:31:09.791Z"
   },
   {
    "duration": 949,
    "start_time": "2021-10-05T02:32:49.103Z"
   },
   {
    "duration": 6,
    "start_time": "2021-10-05T02:37:23.219Z"
   },
   {
    "duration": 4,
    "start_time": "2021-10-05T02:37:34.332Z"
   },
   {
    "duration": 850,
    "start_time": "2021-10-05T02:37:36.564Z"
   },
   {
    "duration": 941,
    "start_time": "2021-10-05T02:38:02.491Z"
   },
   {
    "duration": 2,
    "start_time": "2021-10-05T02:39:05.634Z"
   },
   {
    "duration": 61,
    "start_time": "2021-10-05T02:39:05.648Z"
   },
   {
    "duration": 9,
    "start_time": "2021-10-05T02:39:05.711Z"
   },
   {
    "duration": 11,
    "start_time": "2021-10-05T02:39:05.722Z"
   },
   {
    "duration": 39,
    "start_time": "2021-10-05T02:39:05.735Z"
   },
   {
    "duration": 8,
    "start_time": "2021-10-05T02:39:05.776Z"
   },
   {
    "duration": 13,
    "start_time": "2021-10-05T02:39:05.786Z"
   },
   {
    "duration": 21,
    "start_time": "2021-10-05T02:39:05.800Z"
   },
   {
    "duration": 13,
    "start_time": "2021-10-05T02:39:05.823Z"
   },
   {
    "duration": 11,
    "start_time": "2021-10-05T02:39:05.839Z"
   },
   {
    "duration": 11,
    "start_time": "2021-10-05T02:39:05.853Z"
   },
   {
    "duration": 10,
    "start_time": "2021-10-05T02:39:05.866Z"
   },
   {
    "duration": 5,
    "start_time": "2021-10-05T02:39:05.878Z"
   },
   {
    "duration": 8,
    "start_time": "2021-10-05T02:39:05.885Z"
   },
   {
    "duration": 4,
    "start_time": "2021-10-05T02:39:05.894Z"
   },
   {
    "duration": 10,
    "start_time": "2021-10-05T02:39:05.900Z"
   },
   {
    "duration": 48,
    "start_time": "2021-10-05T02:39:05.911Z"
   },
   {
    "duration": 5,
    "start_time": "2021-10-05T02:39:05.960Z"
   },
   {
    "duration": 17,
    "start_time": "2021-10-05T02:39:05.967Z"
   },
   {
    "duration": 17,
    "start_time": "2021-10-05T02:39:05.986Z"
   },
   {
    "duration": 41,
    "start_time": "2021-10-05T02:39:06.005Z"
   },
   {
    "duration": 4,
    "start_time": "2021-10-05T02:39:06.048Z"
   },
   {
    "duration": 7,
    "start_time": "2021-10-05T02:39:06.054Z"
   },
   {
    "duration": 12,
    "start_time": "2021-10-05T02:39:06.062Z"
   },
   {
    "duration": 5,
    "start_time": "2021-10-05T02:39:06.076Z"
   },
   {
    "duration": 7,
    "start_time": "2021-10-05T02:39:06.082Z"
   },
   {
    "duration": 5,
    "start_time": "2021-10-05T02:39:06.091Z"
   },
   {
    "duration": 53,
    "start_time": "2021-10-05T02:39:06.100Z"
   },
   {
    "duration": 5,
    "start_time": "2021-10-05T02:39:06.156Z"
   },
   {
    "duration": 10,
    "start_time": "2021-10-05T02:39:06.162Z"
   },
   {
    "duration": 6,
    "start_time": "2021-10-05T02:39:06.174Z"
   },
   {
    "duration": 20,
    "start_time": "2021-10-05T02:39:06.182Z"
   },
   {
    "duration": 40,
    "start_time": "2021-10-05T02:39:06.204Z"
   },
   {
    "duration": 5,
    "start_time": "2021-10-05T02:39:06.246Z"
   },
   {
    "duration": 13,
    "start_time": "2021-10-05T02:39:06.252Z"
   },
   {
    "duration": 6,
    "start_time": "2021-10-05T02:39:06.266Z"
   },
   {
    "duration": 17,
    "start_time": "2021-10-05T02:39:06.273Z"
   },
   {
    "duration": 4,
    "start_time": "2021-10-05T02:39:06.292Z"
   },
   {
    "duration": 6,
    "start_time": "2021-10-05T02:39:06.298Z"
   },
   {
    "duration": 6,
    "start_time": "2021-10-05T02:39:06.305Z"
   },
   {
    "duration": 4,
    "start_time": "2021-10-05T02:39:06.345Z"
   },
   {
    "duration": 7,
    "start_time": "2021-10-05T02:39:06.351Z"
   },
   {
    "duration": 8,
    "start_time": "2021-10-05T02:39:06.359Z"
   },
   {
    "duration": 19,
    "start_time": "2021-10-05T02:39:06.368Z"
   },
   {
    "duration": 4,
    "start_time": "2021-10-05T02:39:06.388Z"
   },
   {
    "duration": 11,
    "start_time": "2021-10-05T02:39:06.393Z"
   },
   {
    "duration": 9,
    "start_time": "2021-10-05T02:39:06.406Z"
   },
   {
    "duration": 37,
    "start_time": "2021-10-05T02:39:06.416Z"
   },
   {
    "duration": 5,
    "start_time": "2021-10-05T02:39:06.454Z"
   },
   {
    "duration": 6,
    "start_time": "2021-10-05T02:39:06.461Z"
   },
   {
    "duration": 5,
    "start_time": "2021-10-05T02:39:06.469Z"
   },
   {
    "duration": 21,
    "start_time": "2021-10-05T02:39:06.475Z"
   },
   {
    "duration": 12,
    "start_time": "2021-10-05T02:39:06.498Z"
   },
   {
    "duration": 7,
    "start_time": "2021-10-05T02:39:06.545Z"
   },
   {
    "duration": 8,
    "start_time": "2021-10-05T02:39:06.553Z"
   },
   {
    "duration": 17,
    "start_time": "2021-10-05T02:39:06.562Z"
   },
   {
    "duration": 13,
    "start_time": "2021-10-05T02:39:06.580Z"
   },
   {
    "duration": 4,
    "start_time": "2021-10-05T02:39:06.595Z"
   },
   {
    "duration": 9,
    "start_time": "2021-10-05T02:39:06.601Z"
   },
   {
    "duration": 38,
    "start_time": "2021-10-05T02:39:06.612Z"
   },
   {
    "duration": 5,
    "start_time": "2021-10-05T02:39:06.652Z"
   },
   {
    "duration": 10,
    "start_time": "2021-10-05T02:39:06.658Z"
   },
   {
    "duration": 14,
    "start_time": "2021-10-05T02:39:06.670Z"
   },
   {
    "duration": 8,
    "start_time": "2021-10-05T02:39:06.686Z"
   },
   {
    "duration": 17,
    "start_time": "2021-10-05T02:39:06.695Z"
   },
   {
    "duration": 31,
    "start_time": "2021-10-05T02:39:06.713Z"
   },
   {
    "duration": 18,
    "start_time": "2021-10-05T02:39:06.746Z"
   },
   {
    "duration": 11,
    "start_time": "2021-10-05T02:39:06.766Z"
   },
   {
    "duration": 14,
    "start_time": "2021-10-05T02:39:06.778Z"
   },
   {
    "duration": 7,
    "start_time": "2021-10-05T02:39:06.794Z"
   },
   {
    "duration": 11,
    "start_time": "2021-10-05T02:39:06.803Z"
   },
   {
    "duration": 42,
    "start_time": "2021-10-05T02:39:06.815Z"
   },
   {
    "duration": 9,
    "start_time": "2021-10-05T02:39:06.859Z"
   },
   {
    "duration": 5,
    "start_time": "2021-10-05T02:39:06.874Z"
   },
   {
    "duration": 7,
    "start_time": "2021-10-05T02:39:06.881Z"
   },
   {
    "duration": 7,
    "start_time": "2021-10-05T02:39:06.889Z"
   },
   {
    "duration": 58,
    "start_time": "2021-10-05T02:39:06.898Z"
   },
   {
    "duration": 5,
    "start_time": "2021-10-05T02:39:06.957Z"
   },
   {
    "duration": 7,
    "start_time": "2021-10-05T02:39:06.964Z"
   },
   {
    "duration": 6,
    "start_time": "2021-10-05T02:39:06.973Z"
   },
   {
    "duration": 8,
    "start_time": "2021-10-05T02:39:06.981Z"
   },
   {
    "duration": 7,
    "start_time": "2021-10-05T02:39:06.991Z"
   },
   {
    "duration": 8,
    "start_time": "2021-10-05T02:39:07.000Z"
   },
   {
    "duration": 51,
    "start_time": "2021-10-05T02:39:07.009Z"
   },
   {
    "duration": 46,
    "start_time": "2021-10-05T02:39:07.062Z"
   },
   {
    "duration": 13,
    "start_time": "2021-10-05T02:39:07.110Z"
   },
   {
    "duration": 27,
    "start_time": "2021-10-05T02:39:07.125Z"
   },
   {
    "duration": 6,
    "start_time": "2021-10-05T02:39:07.154Z"
   },
   {
    "duration": 17,
    "start_time": "2021-10-05T02:39:07.161Z"
   },
   {
    "duration": 18,
    "start_time": "2021-10-05T02:39:07.180Z"
   },
   {
    "duration": 16,
    "start_time": "2021-10-05T02:39:07.199Z"
   },
   {
    "duration": 22,
    "start_time": "2021-10-05T02:39:07.245Z"
   },
   {
    "duration": 43,
    "start_time": "2021-10-05T02:39:07.269Z"
   },
   {
    "duration": 49,
    "start_time": "2021-10-05T02:39:07.314Z"
   },
   {
    "duration": 16,
    "start_time": "2021-10-05T02:39:07.364Z"
   },
   {
    "duration": 31,
    "start_time": "2021-10-05T02:39:07.382Z"
   },
   {
    "duration": 4,
    "start_time": "2021-10-05T02:39:07.415Z"
   },
   {
    "duration": 26,
    "start_time": "2021-10-05T02:39:07.420Z"
   },
   {
    "duration": 26,
    "start_time": "2021-10-05T02:39:07.447Z"
   },
   {
    "duration": 18,
    "start_time": "2021-10-05T02:39:07.474Z"
   },
   {
    "duration": 5,
    "start_time": "2021-10-05T02:39:07.493Z"
   },
   {
    "duration": 19,
    "start_time": "2021-10-05T02:39:07.500Z"
   },
   {
    "duration": 38,
    "start_time": "2021-10-05T02:39:07.521Z"
   },
   {
    "duration": 16,
    "start_time": "2021-10-05T02:39:07.561Z"
   },
   {
    "duration": 14,
    "start_time": "2021-10-05T02:39:07.579Z"
   },
   {
    "duration": 5,
    "start_time": "2021-10-05T02:39:07.595Z"
   },
   {
    "duration": 242,
    "start_time": "2021-10-05T02:39:07.602Z"
   },
   {
    "duration": 8,
    "start_time": "2021-10-05T02:39:07.846Z"
   },
   {
    "duration": 238,
    "start_time": "2021-10-05T02:39:07.856Z"
   },
   {
    "duration": 8,
    "start_time": "2021-10-05T02:39:08.096Z"
   },
   {
    "duration": 251,
    "start_time": "2021-10-05T02:39:08.106Z"
   },
   {
    "duration": 218,
    "start_time": "2021-10-05T02:39:08.359Z"
   },
   {
    "duration": 206,
    "start_time": "2021-10-05T02:39:08.578Z"
   },
   {
    "duration": 20,
    "start_time": "2021-10-05T02:39:08.785Z"
   },
   {
    "duration": 213,
    "start_time": "2021-10-05T02:39:08.807Z"
   },
   {
    "duration": 38,
    "start_time": "2021-10-05T02:39:09.022Z"
   },
   {
    "duration": 19,
    "start_time": "2021-10-05T02:39:09.061Z"
   },
   {
    "duration": 232,
    "start_time": "2021-10-05T02:39:09.082Z"
   },
   {
    "duration": 28,
    "start_time": "2021-10-05T02:39:09.316Z"
   },
   {
    "duration": 182,
    "start_time": "2021-10-05T02:39:09.346Z"
   },
   {
    "duration": 186,
    "start_time": "2021-10-05T02:39:09.530Z"
   },
   {
    "duration": 190,
    "start_time": "2021-10-05T02:39:09.718Z"
   },
   {
    "duration": 201,
    "start_time": "2021-10-05T02:39:09.910Z"
   },
   {
    "duration": 179,
    "start_time": "2021-10-05T02:39:10.113Z"
   },
   {
    "duration": 216,
    "start_time": "2021-10-05T02:39:10.294Z"
   },
   {
    "duration": 214,
    "start_time": "2021-10-05T02:39:10.512Z"
   },
   {
    "duration": 221,
    "start_time": "2021-10-05T02:39:10.728Z"
   },
   {
    "duration": 222,
    "start_time": "2021-10-05T02:39:10.953Z"
   },
   {
    "duration": 1159,
    "start_time": "2021-10-05T02:39:10.018Z"
   },
   {
    "duration": 1148,
    "start_time": "2021-10-05T02:39:10.030Z"
   },
   {
    "duration": 1139,
    "start_time": "2021-10-05T02:39:10.039Z"
   },
   {
    "duration": 1129,
    "start_time": "2021-10-05T02:39:10.050Z"
   },
   {
    "duration": 3,
    "start_time": "2021-10-05T02:39:27.385Z"
   },
   {
    "duration": 65,
    "start_time": "2021-10-05T02:39:27.400Z"
   },
   {
    "duration": 9,
    "start_time": "2021-10-05T02:39:27.467Z"
   },
   {
    "duration": 25,
    "start_time": "2021-10-05T02:39:27.478Z"
   },
   {
    "duration": 54,
    "start_time": "2021-10-05T02:39:27.505Z"
   },
   {
    "duration": 28,
    "start_time": "2021-10-05T02:39:27.561Z"
   },
   {
    "duration": 30,
    "start_time": "2021-10-05T02:39:27.591Z"
   },
   {
    "duration": 28,
    "start_time": "2021-10-05T02:39:27.622Z"
   },
   {
    "duration": 28,
    "start_time": "2021-10-05T02:39:27.651Z"
   },
   {
    "duration": 25,
    "start_time": "2021-10-05T02:39:27.682Z"
   },
   {
    "duration": 31,
    "start_time": "2021-10-05T02:39:27.709Z"
   },
   {
    "duration": 23,
    "start_time": "2021-10-05T02:39:27.741Z"
   },
   {
    "duration": 117,
    "start_time": "2021-10-05T02:39:27.766Z"
   },
   {
    "duration": 27,
    "start_time": "2021-10-05T02:39:27.885Z"
   },
   {
    "duration": 18,
    "start_time": "2021-10-05T02:39:27.913Z"
   },
   {
    "duration": 26,
    "start_time": "2021-10-05T02:39:27.933Z"
   },
   {
    "duration": 38,
    "start_time": "2021-10-05T02:39:27.961Z"
   },
   {
    "duration": 7,
    "start_time": "2021-10-05T02:39:28.000Z"
   },
   {
    "duration": 33,
    "start_time": "2021-10-05T02:39:28.009Z"
   },
   {
    "duration": 33,
    "start_time": "2021-10-05T02:39:28.044Z"
   },
   {
    "duration": 13,
    "start_time": "2021-10-05T02:39:28.079Z"
   },
   {
    "duration": 26,
    "start_time": "2021-10-05T02:39:28.094Z"
   },
   {
    "duration": 27,
    "start_time": "2021-10-05T02:39:28.122Z"
   },
   {
    "duration": 19,
    "start_time": "2021-10-05T02:39:28.151Z"
   },
   {
    "duration": 14,
    "start_time": "2021-10-05T02:39:28.172Z"
   },
   {
    "duration": 32,
    "start_time": "2021-10-05T02:39:28.188Z"
   },
   {
    "duration": 22,
    "start_time": "2021-10-05T02:39:28.222Z"
   },
   {
    "duration": 33,
    "start_time": "2021-10-05T02:39:28.249Z"
   },
   {
    "duration": 30,
    "start_time": "2021-10-05T02:39:28.284Z"
   },
   {
    "duration": 24,
    "start_time": "2021-10-05T02:39:28.315Z"
   },
   {
    "duration": 27,
    "start_time": "2021-10-05T02:39:28.340Z"
   },
   {
    "duration": 30,
    "start_time": "2021-10-05T02:39:28.369Z"
   },
   {
    "duration": 10,
    "start_time": "2021-10-05T02:39:28.401Z"
   },
   {
    "duration": 33,
    "start_time": "2021-10-05T02:39:28.413Z"
   },
   {
    "duration": 26,
    "start_time": "2021-10-05T02:39:28.448Z"
   },
   {
    "duration": 7,
    "start_time": "2021-10-05T02:39:28.476Z"
   },
   {
    "duration": 31,
    "start_time": "2021-10-05T02:39:28.485Z"
   },
   {
    "duration": 10,
    "start_time": "2021-10-05T02:39:28.518Z"
   },
   {
    "duration": 35,
    "start_time": "2021-10-05T02:39:28.530Z"
   },
   {
    "duration": 12,
    "start_time": "2021-10-05T02:39:28.567Z"
   },
   {
    "duration": 16,
    "start_time": "2021-10-05T02:39:28.580Z"
   },
   {
    "duration": 23,
    "start_time": "2021-10-05T02:39:28.598Z"
   },
   {
    "duration": 13,
    "start_time": "2021-10-05T02:39:28.623Z"
   },
   {
    "duration": 26,
    "start_time": "2021-10-05T02:39:28.637Z"
   },
   {
    "duration": 4,
    "start_time": "2021-10-05T02:39:28.665Z"
   },
   {
    "duration": 15,
    "start_time": "2021-10-05T02:39:28.670Z"
   },
   {
    "duration": 24,
    "start_time": "2021-10-05T02:39:28.687Z"
   },
   {
    "duration": 29,
    "start_time": "2021-10-05T02:39:28.713Z"
   },
   {
    "duration": 4,
    "start_time": "2021-10-05T02:39:28.743Z"
   },
   {
    "duration": 17,
    "start_time": "2021-10-05T02:39:28.749Z"
   },
   {
    "duration": 20,
    "start_time": "2021-10-05T02:39:28.767Z"
   },
   {
    "duration": 37,
    "start_time": "2021-10-05T02:39:28.788Z"
   },
   {
    "duration": 14,
    "start_time": "2021-10-05T02:39:28.827Z"
   },
   {
    "duration": 23,
    "start_time": "2021-10-05T02:39:28.842Z"
   },
   {
    "duration": 21,
    "start_time": "2021-10-05T02:39:28.867Z"
   },
   {
    "duration": 31,
    "start_time": "2021-10-05T02:39:28.889Z"
   },
   {
    "duration": 16,
    "start_time": "2021-10-05T02:39:28.922Z"
   },
   {
    "duration": 19,
    "start_time": "2021-10-05T02:39:28.939Z"
   },
   {
    "duration": 24,
    "start_time": "2021-10-05T02:39:28.960Z"
   },
   {
    "duration": 19,
    "start_time": "2021-10-05T02:39:28.986Z"
   },
   {
    "duration": 13,
    "start_time": "2021-10-05T02:39:29.006Z"
   },
   {
    "duration": 30,
    "start_time": "2021-10-05T02:39:29.021Z"
   },
   {
    "duration": 35,
    "start_time": "2021-10-05T02:39:29.053Z"
   },
   {
    "duration": 14,
    "start_time": "2021-10-05T02:39:29.089Z"
   },
   {
    "duration": 35,
    "start_time": "2021-10-05T02:39:29.105Z"
   },
   {
    "duration": 14,
    "start_time": "2021-10-05T02:39:29.141Z"
   },
   {
    "duration": 46,
    "start_time": "2021-10-05T02:39:29.157Z"
   },
   {
    "duration": 13,
    "start_time": "2021-10-05T02:39:29.204Z"
   },
   {
    "duration": 16,
    "start_time": "2021-10-05T02:39:29.218Z"
   },
   {
    "duration": 14,
    "start_time": "2021-10-05T02:39:29.235Z"
   },
   {
    "duration": 21,
    "start_time": "2021-10-05T02:39:29.250Z"
   },
   {
    "duration": 27,
    "start_time": "2021-10-05T02:39:29.272Z"
   },
   {
    "duration": 27,
    "start_time": "2021-10-05T02:39:29.301Z"
   },
   {
    "duration": 26,
    "start_time": "2021-10-05T02:39:29.330Z"
   },
   {
    "duration": 24,
    "start_time": "2021-10-05T02:39:29.358Z"
   },
   {
    "duration": 14,
    "start_time": "2021-10-05T02:39:29.384Z"
   },
   {
    "duration": 29,
    "start_time": "2021-10-05T02:39:29.400Z"
   },
   {
    "duration": 5,
    "start_time": "2021-10-05T02:39:29.431Z"
   },
   {
    "duration": 28,
    "start_time": "2021-10-05T02:39:29.438Z"
   },
   {
    "duration": 14,
    "start_time": "2021-10-05T02:39:29.468Z"
   },
   {
    "duration": 16,
    "start_time": "2021-10-05T02:39:29.484Z"
   },
   {
    "duration": 13,
    "start_time": "2021-10-05T02:39:29.508Z"
   },
   {
    "duration": 20,
    "start_time": "2021-10-05T02:39:29.524Z"
   },
   {
    "duration": 28,
    "start_time": "2021-10-05T02:39:29.546Z"
   },
   {
    "duration": 56,
    "start_time": "2021-10-05T02:39:29.575Z"
   },
   {
    "duration": 18,
    "start_time": "2021-10-05T02:39:29.633Z"
   },
   {
    "duration": 14,
    "start_time": "2021-10-05T02:39:29.653Z"
   },
   {
    "duration": 9,
    "start_time": "2021-10-05T02:39:29.669Z"
   },
   {
    "duration": 32,
    "start_time": "2021-10-05T02:39:29.680Z"
   },
   {
    "duration": 17,
    "start_time": "2021-10-05T02:39:29.714Z"
   },
   {
    "duration": 24,
    "start_time": "2021-10-05T02:39:29.732Z"
   },
   {
    "duration": 28,
    "start_time": "2021-10-05T02:39:29.758Z"
   },
   {
    "duration": 44,
    "start_time": "2021-10-05T02:39:29.787Z"
   },
   {
    "duration": 25,
    "start_time": "2021-10-05T02:39:29.844Z"
   },
   {
    "duration": 16,
    "start_time": "2021-10-05T02:39:29.870Z"
   },
   {
    "duration": 32,
    "start_time": "2021-10-05T02:39:29.887Z"
   },
   {
    "duration": 25,
    "start_time": "2021-10-05T02:39:29.920Z"
   },
   {
    "duration": 3,
    "start_time": "2021-10-05T02:39:29.946Z"
   },
   {
    "duration": 32,
    "start_time": "2021-10-05T02:39:29.950Z"
   },
   {
    "duration": 21,
    "start_time": "2021-10-05T02:39:29.983Z"
   },
   {
    "duration": 7,
    "start_time": "2021-10-05T02:39:30.006Z"
   },
   {
    "duration": 30,
    "start_time": "2021-10-05T02:39:30.015Z"
   },
   {
    "duration": 19,
    "start_time": "2021-10-05T02:39:30.047Z"
   },
   {
    "duration": 18,
    "start_time": "2021-10-05T02:39:30.068Z"
   },
   {
    "duration": 15,
    "start_time": "2021-10-05T02:39:30.088Z"
   },
   {
    "duration": 8,
    "start_time": "2021-10-05T02:39:30.104Z"
   },
   {
    "duration": 241,
    "start_time": "2021-10-05T02:39:30.114Z"
   },
   {
    "duration": 8,
    "start_time": "2021-10-05T02:39:30.356Z"
   },
   {
    "duration": 252,
    "start_time": "2021-10-05T02:39:30.366Z"
   },
   {
    "duration": 8,
    "start_time": "2021-10-05T02:39:30.619Z"
   },
   {
    "duration": 142,
    "start_time": "2021-10-05T02:39:30.628Z"
   },
   {
    "duration": 219,
    "start_time": "2021-10-05T02:39:30.772Z"
   },
   {
    "duration": 208,
    "start_time": "2021-10-05T02:39:30.993Z"
   },
   {
    "duration": 18,
    "start_time": "2021-10-05T02:39:31.203Z"
   },
   {
    "duration": 209,
    "start_time": "2021-10-05T02:39:31.222Z"
   },
   {
    "duration": 34,
    "start_time": "2021-10-05T02:39:31.433Z"
   },
   {
    "duration": 17,
    "start_time": "2021-10-05T02:39:31.469Z"
   },
   {
    "duration": 233,
    "start_time": "2021-10-05T02:39:31.488Z"
   },
   {
    "duration": 24,
    "start_time": "2021-10-05T02:39:31.723Z"
   },
   {
    "duration": 174,
    "start_time": "2021-10-05T02:39:31.749Z"
   },
   {
    "duration": 181,
    "start_time": "2021-10-05T02:39:31.925Z"
   },
   {
    "duration": 183,
    "start_time": "2021-10-05T02:39:32.108Z"
   },
   {
    "duration": 194,
    "start_time": "2021-10-05T02:39:32.293Z"
   },
   {
    "duration": 277,
    "start_time": "2021-10-05T02:39:32.489Z"
   },
   {
    "duration": 208,
    "start_time": "2021-10-05T02:39:32.768Z"
   },
   {
    "duration": 221,
    "start_time": "2021-10-05T02:39:32.978Z"
   },
   {
    "duration": 228,
    "start_time": "2021-10-05T02:39:33.201Z"
   },
   {
    "duration": 715,
    "start_time": "2021-10-05T02:39:33.431Z"
   },
   {
    "duration": 74,
    "start_time": "2021-10-05T02:39:34.148Z"
   },
   {
    "duration": 1186,
    "start_time": "2021-10-05T02:39:33.038Z"
   },
   {
    "duration": 1178,
    "start_time": "2021-10-05T02:39:33.047Z"
   },
   {
    "duration": 831,
    "start_time": "2021-10-05T02:40:56.694Z"
   },
   {
    "duration": 71,
    "start_time": "2021-10-05T02:52:48.868Z"
   },
   {
    "duration": 860,
    "start_time": "2021-10-05T02:53:55.126Z"
   },
   {
    "duration": 1112,
    "start_time": "2021-10-05T02:54:08.054Z"
   },
   {
    "duration": 863,
    "start_time": "2021-10-05T02:54:16.118Z"
   },
   {
    "duration": 1009,
    "start_time": "2021-10-05T02:54:22.175Z"
   },
   {
    "duration": 821,
    "start_time": "2021-10-05T02:55:37.470Z"
   },
   {
    "duration": 12,
    "start_time": "2021-10-05T02:57:34.615Z"
   },
   {
    "duration": 694,
    "start_time": "2021-10-05T02:57:56.792Z"
   },
   {
    "duration": 324,
    "start_time": "2021-10-05T02:58:36.153Z"
   },
   {
    "duration": 466,
    "start_time": "2021-10-05T03:00:13.303Z"
   },
   {
    "duration": 29,
    "start_time": "2021-10-05T03:04:44.290Z"
   },
   {
    "duration": 28,
    "start_time": "2021-10-05T03:05:01.562Z"
   },
   {
    "duration": 2,
    "start_time": "2021-10-05T03:09:59.494Z"
   },
   {
    "duration": 60,
    "start_time": "2021-10-05T03:09:59.509Z"
   },
   {
    "duration": 9,
    "start_time": "2021-10-05T03:09:59.571Z"
   },
   {
    "duration": 13,
    "start_time": "2021-10-05T03:09:59.582Z"
   },
   {
    "duration": 40,
    "start_time": "2021-10-05T03:09:59.597Z"
   },
   {
    "duration": 8,
    "start_time": "2021-10-05T03:09:59.639Z"
   },
   {
    "duration": 10,
    "start_time": "2021-10-05T03:09:59.648Z"
   },
   {
    "duration": 15,
    "start_time": "2021-10-05T03:09:59.659Z"
   },
   {
    "duration": 15,
    "start_time": "2021-10-05T03:09:59.675Z"
   },
   {
    "duration": 12,
    "start_time": "2021-10-05T03:09:59.692Z"
   },
   {
    "duration": 38,
    "start_time": "2021-10-05T03:09:59.706Z"
   },
   {
    "duration": 10,
    "start_time": "2021-10-05T03:09:59.746Z"
   },
   {
    "duration": 3,
    "start_time": "2021-10-05T03:09:59.758Z"
   },
   {
    "duration": 8,
    "start_time": "2021-10-05T03:09:59.763Z"
   },
   {
    "duration": 5,
    "start_time": "2021-10-05T03:09:59.773Z"
   },
   {
    "duration": 7,
    "start_time": "2021-10-05T03:09:59.780Z"
   },
   {
    "duration": 29,
    "start_time": "2021-10-05T03:09:59.789Z"
   },
   {
    "duration": 27,
    "start_time": "2021-10-05T03:09:59.819Z"
   },
   {
    "duration": 16,
    "start_time": "2021-10-05T03:09:59.848Z"
   },
   {
    "duration": 15,
    "start_time": "2021-10-05T03:09:59.866Z"
   },
   {
    "duration": 4,
    "start_time": "2021-10-05T03:09:59.882Z"
   },
   {
    "duration": 8,
    "start_time": "2021-10-05T03:09:59.887Z"
   },
   {
    "duration": 6,
    "start_time": "2021-10-05T03:09:59.897Z"
   },
   {
    "duration": 47,
    "start_time": "2021-10-05T03:09:59.904Z"
   },
   {
    "duration": 3,
    "start_time": "2021-10-05T03:09:59.953Z"
   },
   {
    "duration": 7,
    "start_time": "2021-10-05T03:09:59.958Z"
   },
   {
    "duration": 9,
    "start_time": "2021-10-05T03:09:59.966Z"
   },
   {
    "duration": 16,
    "start_time": "2021-10-05T03:09:59.980Z"
   },
   {
    "duration": 4,
    "start_time": "2021-10-05T03:09:59.998Z"
   },
   {
    "duration": 42,
    "start_time": "2021-10-05T03:10:00.004Z"
   },
   {
    "duration": 5,
    "start_time": "2021-10-05T03:10:00.048Z"
   },
   {
    "duration": 49,
    "start_time": "2021-10-05T03:10:00.054Z"
   },
   {
    "duration": 5,
    "start_time": "2021-10-05T03:10:00.105Z"
   },
   {
    "duration": 26,
    "start_time": "2021-10-05T03:10:00.112Z"
   },
   {
    "duration": 17,
    "start_time": "2021-10-05T03:10:00.140Z"
   },
   {
    "duration": 20,
    "start_time": "2021-10-05T03:10:00.159Z"
   },
   {
    "duration": 31,
    "start_time": "2021-10-05T03:10:00.181Z"
   },
   {
    "duration": 12,
    "start_time": "2021-10-05T03:10:00.214Z"
   },
   {
    "duration": 15,
    "start_time": "2021-10-05T03:10:00.227Z"
   },
   {
    "duration": 17,
    "start_time": "2021-10-05T03:10:00.244Z"
   },
   {
    "duration": 28,
    "start_time": "2021-10-05T03:10:00.262Z"
   },
   {
    "duration": 13,
    "start_time": "2021-10-05T03:10:00.292Z"
   },
   {
    "duration": 18,
    "start_time": "2021-10-05T03:10:00.307Z"
   },
   {
    "duration": 23,
    "start_time": "2021-10-05T03:10:00.327Z"
   },
   {
    "duration": 15,
    "start_time": "2021-10-05T03:10:00.351Z"
   },
   {
    "duration": 21,
    "start_time": "2021-10-05T03:10:00.367Z"
   },
   {
    "duration": 17,
    "start_time": "2021-10-05T03:10:00.390Z"
   },
   {
    "duration": 34,
    "start_time": "2021-10-05T03:10:00.409Z"
   },
   {
    "duration": 4,
    "start_time": "2021-10-05T03:10:00.444Z"
   },
   {
    "duration": 14,
    "start_time": "2021-10-05T03:10:00.449Z"
   },
   {
    "duration": 25,
    "start_time": "2021-10-05T03:10:00.465Z"
   },
   {
    "duration": 43,
    "start_time": "2021-10-05T03:10:00.492Z"
   },
   {
    "duration": 15,
    "start_time": "2021-10-05T03:10:00.536Z"
   },
   {
    "duration": 15,
    "start_time": "2021-10-05T03:10:00.553Z"
   },
   {
    "duration": 20,
    "start_time": "2021-10-05T03:10:00.569Z"
   },
   {
    "duration": 26,
    "start_time": "2021-10-05T03:10:00.590Z"
   },
   {
    "duration": 22,
    "start_time": "2021-10-05T03:10:00.618Z"
   },
   {
    "duration": 7,
    "start_time": "2021-10-05T03:10:00.641Z"
   },
   {
    "duration": 18,
    "start_time": "2021-10-05T03:10:00.649Z"
   },
   {
    "duration": 24,
    "start_time": "2021-10-05T03:10:00.668Z"
   },
   {
    "duration": 12,
    "start_time": "2021-10-05T03:10:00.693Z"
   },
   {
    "duration": 17,
    "start_time": "2021-10-05T03:10:00.706Z"
   },
   {
    "duration": 25,
    "start_time": "2021-10-05T03:10:00.724Z"
   },
   {
    "duration": 20,
    "start_time": "2021-10-05T03:10:00.750Z"
   },
   {
    "duration": 23,
    "start_time": "2021-10-05T03:10:00.771Z"
   },
   {
    "duration": 18,
    "start_time": "2021-10-05T03:10:00.796Z"
   },
   {
    "duration": 26,
    "start_time": "2021-10-05T03:10:00.815Z"
   },
   {
    "duration": 11,
    "start_time": "2021-10-05T03:10:00.842Z"
   },
   {
    "duration": 25,
    "start_time": "2021-10-05T03:10:00.855Z"
   },
   {
    "duration": 9,
    "start_time": "2021-10-05T03:10:00.882Z"
   },
   {
    "duration": 17,
    "start_time": "2021-10-05T03:10:00.892Z"
   },
   {
    "duration": 22,
    "start_time": "2021-10-05T03:10:00.911Z"
   },
   {
    "duration": 14,
    "start_time": "2021-10-05T03:10:00.934Z"
   },
   {
    "duration": 18,
    "start_time": "2021-10-05T03:10:00.950Z"
   },
   {
    "duration": 13,
    "start_time": "2021-10-05T03:10:00.970Z"
   },
   {
    "duration": 13,
    "start_time": "2021-10-05T03:10:00.985Z"
   },
   {
    "duration": 31,
    "start_time": "2021-10-05T03:10:01.000Z"
   },
   {
    "duration": 12,
    "start_time": "2021-10-05T03:10:01.033Z"
   },
   {
    "duration": 13,
    "start_time": "2021-10-05T03:10:01.047Z"
   },
   {
    "duration": 23,
    "start_time": "2021-10-05T03:10:01.062Z"
   },
   {
    "duration": 29,
    "start_time": "2021-10-05T03:10:01.087Z"
   },
   {
    "duration": 18,
    "start_time": "2021-10-05T03:10:01.123Z"
   },
   {
    "duration": 12,
    "start_time": "2021-10-05T03:10:01.144Z"
   },
   {
    "duration": 20,
    "start_time": "2021-10-05T03:10:01.158Z"
   },
   {
    "duration": 54,
    "start_time": "2021-10-05T03:10:01.180Z"
   },
   {
    "duration": 11,
    "start_time": "2021-10-05T03:10:01.235Z"
   },
   {
    "duration": 22,
    "start_time": "2021-10-05T03:10:01.248Z"
   },
   {
    "duration": 16,
    "start_time": "2021-10-05T03:10:01.272Z"
   },
   {
    "duration": 26,
    "start_time": "2021-10-05T03:10:01.290Z"
   },
   {
    "duration": 26,
    "start_time": "2021-10-05T03:10:01.319Z"
   },
   {
    "duration": 18,
    "start_time": "2021-10-05T03:10:01.346Z"
   },
   {
    "duration": 46,
    "start_time": "2021-10-05T03:10:01.365Z"
   },
   {
    "duration": 47,
    "start_time": "2021-10-05T03:10:01.413Z"
   },
   {
    "duration": 25,
    "start_time": "2021-10-05T03:10:01.461Z"
   },
   {
    "duration": 17,
    "start_time": "2021-10-05T03:10:01.488Z"
   },
   {
    "duration": 52,
    "start_time": "2021-10-05T03:10:01.507Z"
   },
   {
    "duration": 4,
    "start_time": "2021-10-05T03:10:01.561Z"
   },
   {
    "duration": 24,
    "start_time": "2021-10-05T03:10:01.566Z"
   },
   {
    "duration": 46,
    "start_time": "2021-10-05T03:10:01.592Z"
   },
   {
    "duration": 25,
    "start_time": "2021-10-05T03:10:01.639Z"
   },
   {
    "duration": 23,
    "start_time": "2021-10-05T03:10:01.666Z"
   },
   {
    "duration": 47,
    "start_time": "2021-10-05T03:10:01.691Z"
   },
   {
    "duration": 33,
    "start_time": "2021-10-05T03:10:01.740Z"
   },
   {
    "duration": 21,
    "start_time": "2021-10-05T03:10:01.775Z"
   },
   {
    "duration": 21,
    "start_time": "2021-10-05T03:10:01.798Z"
   },
   {
    "duration": 7,
    "start_time": "2021-10-05T03:10:01.821Z"
   },
   {
    "duration": 234,
    "start_time": "2021-10-05T03:10:01.830Z"
   },
   {
    "duration": 9,
    "start_time": "2021-10-05T03:10:02.067Z"
   },
   {
    "duration": 251,
    "start_time": "2021-10-05T03:10:02.078Z"
   },
   {
    "duration": 18,
    "start_time": "2021-10-05T03:10:02.331Z"
   },
   {
    "duration": 135,
    "start_time": "2021-10-05T03:10:02.350Z"
   },
   {
    "duration": 227,
    "start_time": "2021-10-05T03:10:02.487Z"
   },
   {
    "duration": 217,
    "start_time": "2021-10-05T03:10:02.716Z"
   },
   {
    "duration": 26,
    "start_time": "2021-10-05T03:10:02.935Z"
   },
   {
    "duration": 213,
    "start_time": "2021-10-05T03:10:02.963Z"
   },
   {
    "duration": 30,
    "start_time": "2021-10-05T03:10:03.178Z"
   },
   {
    "duration": 42,
    "start_time": "2021-10-05T03:10:03.210Z"
   },
   {
    "duration": 225,
    "start_time": "2021-10-05T03:10:03.254Z"
   },
   {
    "duration": 17,
    "start_time": "2021-10-05T03:10:03.481Z"
   },
   {
    "duration": 183,
    "start_time": "2021-10-05T03:10:03.499Z"
   },
   {
    "duration": 184,
    "start_time": "2021-10-05T03:10:03.684Z"
   },
   {
    "duration": 197,
    "start_time": "2021-10-05T03:10:03.870Z"
   },
   {
    "duration": 301,
    "start_time": "2021-10-05T03:10:04.069Z"
   },
   {
    "duration": 185,
    "start_time": "2021-10-05T03:10:04.373Z"
   },
   {
    "duration": 225,
    "start_time": "2021-10-05T03:10:04.560Z"
   },
   {
    "duration": 227,
    "start_time": "2021-10-05T03:10:04.787Z"
   },
   {
    "duration": 228,
    "start_time": "2021-10-05T03:10:05.016Z"
   },
   {
    "duration": 748,
    "start_time": "2021-10-05T03:10:05.246Z"
   },
   {
    "duration": 828,
    "start_time": "2021-10-05T03:10:05.996Z"
   },
   {
    "duration": 978,
    "start_time": "2021-10-05T05:07:10.530Z"
   },
   {
    "duration": 81,
    "start_time": "2021-10-05T05:07:11.510Z"
   },
   {
    "duration": 18,
    "start_time": "2021-10-05T05:07:11.594Z"
   },
   {
    "duration": 15,
    "start_time": "2021-10-05T05:07:11.616Z"
   },
   {
    "duration": 38,
    "start_time": "2021-10-05T05:07:11.634Z"
   },
   {
    "duration": 12,
    "start_time": "2021-10-05T05:07:11.675Z"
   },
   {
    "duration": 10,
    "start_time": "2021-10-05T05:07:11.689Z"
   },
   {
    "duration": 19,
    "start_time": "2021-10-05T05:07:11.703Z"
   },
   {
    "duration": 57,
    "start_time": "2021-10-05T05:07:11.725Z"
   },
   {
    "duration": 17,
    "start_time": "2021-10-05T05:07:11.784Z"
   },
   {
    "duration": 19,
    "start_time": "2021-10-05T05:07:11.804Z"
   },
   {
    "duration": 52,
    "start_time": "2021-10-05T05:07:11.825Z"
   },
   {
    "duration": 5,
    "start_time": "2021-10-05T05:07:11.880Z"
   },
   {
    "duration": 8,
    "start_time": "2021-10-05T05:07:11.888Z"
   },
   {
    "duration": 7,
    "start_time": "2021-10-05T05:07:11.898Z"
   },
   {
    "duration": 8,
    "start_time": "2021-10-05T05:07:11.908Z"
   },
   {
    "duration": 75,
    "start_time": "2021-10-05T05:07:11.919Z"
   },
   {
    "duration": 7,
    "start_time": "2021-10-05T05:07:11.997Z"
   },
   {
    "duration": 24,
    "start_time": "2021-10-05T05:07:12.006Z"
   },
   {
    "duration": 57,
    "start_time": "2021-10-05T05:07:12.033Z"
   },
   {
    "duration": 11,
    "start_time": "2021-10-05T05:07:12.093Z"
   },
   {
    "duration": 18,
    "start_time": "2021-10-05T05:07:12.107Z"
   },
   {
    "duration": 12,
    "start_time": "2021-10-05T05:07:12.130Z"
   },
   {
    "duration": 42,
    "start_time": "2021-10-05T05:07:12.146Z"
   },
   {
    "duration": 16,
    "start_time": "2021-10-05T05:07:12.190Z"
   },
   {
    "duration": 12,
    "start_time": "2021-10-05T05:07:12.208Z"
   },
   {
    "duration": 12,
    "start_time": "2021-10-05T05:07:12.222Z"
   },
   {
    "duration": 38,
    "start_time": "2021-10-05T05:07:12.236Z"
   },
   {
    "duration": 9,
    "start_time": "2021-10-05T05:07:12.277Z"
   },
   {
    "duration": 12,
    "start_time": "2021-10-05T05:07:12.289Z"
   },
   {
    "duration": 11,
    "start_time": "2021-10-05T05:07:12.304Z"
   },
   {
    "duration": 51,
    "start_time": "2021-10-05T05:07:12.317Z"
   },
   {
    "duration": 5,
    "start_time": "2021-10-05T05:07:12.371Z"
   },
   {
    "duration": 24,
    "start_time": "2021-10-05T05:07:12.378Z"
   },
   {
    "duration": 15,
    "start_time": "2021-10-05T05:07:12.404Z"
   },
   {
    "duration": 9,
    "start_time": "2021-10-05T05:07:12.421Z"
   },
   {
    "duration": 39,
    "start_time": "2021-10-05T05:07:12.432Z"
   },
   {
    "duration": 6,
    "start_time": "2021-10-05T05:07:12.473Z"
   },
   {
    "duration": 23,
    "start_time": "2021-10-05T05:07:12.481Z"
   },
   {
    "duration": 7,
    "start_time": "2021-10-05T05:07:12.506Z"
   },
   {
    "duration": 8,
    "start_time": "2021-10-05T05:07:12.515Z"
   },
   {
    "duration": 7,
    "start_time": "2021-10-05T05:07:12.526Z"
   },
   {
    "duration": 35,
    "start_time": "2021-10-05T05:07:12.535Z"
   },
   {
    "duration": 27,
    "start_time": "2021-10-05T05:07:12.572Z"
   },
   {
    "duration": 5,
    "start_time": "2021-10-05T05:07:12.601Z"
   },
   {
    "duration": 15,
    "start_time": "2021-10-05T05:07:12.608Z"
   },
   {
    "duration": 7,
    "start_time": "2021-10-05T05:07:12.625Z"
   },
   {
    "duration": 54,
    "start_time": "2021-10-05T05:07:12.634Z"
   },
   {
    "duration": 5,
    "start_time": "2021-10-05T05:07:12.690Z"
   },
   {
    "duration": 11,
    "start_time": "2021-10-05T05:07:12.697Z"
   },
   {
    "duration": 7,
    "start_time": "2021-10-05T05:07:12.710Z"
   },
   {
    "duration": 63,
    "start_time": "2021-10-05T05:07:12.720Z"
   },
   {
    "duration": 18,
    "start_time": "2021-10-05T05:07:12.786Z"
   },
   {
    "duration": 11,
    "start_time": "2021-10-05T05:07:12.806Z"
   },
   {
    "duration": 10,
    "start_time": "2021-10-05T05:07:12.819Z"
   },
   {
    "duration": 55,
    "start_time": "2021-10-05T05:07:12.832Z"
   },
   {
    "duration": 25,
    "start_time": "2021-10-05T05:07:12.889Z"
   },
   {
    "duration": 17,
    "start_time": "2021-10-05T05:07:12.917Z"
   },
   {
    "duration": 36,
    "start_time": "2021-10-05T05:07:12.937Z"
   },
   {
    "duration": 13,
    "start_time": "2021-10-05T05:07:12.975Z"
   },
   {
    "duration": 7,
    "start_time": "2021-10-05T05:07:12.990Z"
   },
   {
    "duration": 14,
    "start_time": "2021-10-05T05:07:12.999Z"
   },
   {
    "duration": 58,
    "start_time": "2021-10-05T05:07:13.015Z"
   },
   {
    "duration": 14,
    "start_time": "2021-10-05T05:07:13.076Z"
   },
   {
    "duration": 30,
    "start_time": "2021-10-05T05:07:13.093Z"
   },
   {
    "duration": 6,
    "start_time": "2021-10-05T05:07:13.126Z"
   },
   {
    "duration": 59,
    "start_time": "2021-10-05T05:07:13.136Z"
   },
   {
    "duration": 18,
    "start_time": "2021-10-05T05:07:13.209Z"
   },
   {
    "duration": 47,
    "start_time": "2021-10-05T05:07:13.232Z"
   },
   {
    "duration": 13,
    "start_time": "2021-10-05T05:07:13.281Z"
   },
   {
    "duration": 13,
    "start_time": "2021-10-05T05:07:13.297Z"
   },
   {
    "duration": 55,
    "start_time": "2021-10-05T05:07:13.312Z"
   },
   {
    "duration": 12,
    "start_time": "2021-10-05T05:07:13.369Z"
   },
   {
    "duration": 14,
    "start_time": "2021-10-05T05:07:13.384Z"
   },
   {
    "duration": 15,
    "start_time": "2021-10-05T05:07:13.401Z"
   },
   {
    "duration": 10,
    "start_time": "2021-10-05T05:07:13.418Z"
   },
   {
    "duration": 72,
    "start_time": "2021-10-05T05:07:13.430Z"
   },
   {
    "duration": 7,
    "start_time": "2021-10-05T05:07:13.504Z"
   },
   {
    "duration": 11,
    "start_time": "2021-10-05T05:07:13.513Z"
   },
   {
    "duration": 41,
    "start_time": "2021-10-05T05:07:13.527Z"
   },
   {
    "duration": 19,
    "start_time": "2021-10-05T05:07:13.570Z"
   },
   {
    "duration": 16,
    "start_time": "2021-10-05T05:07:13.591Z"
   },
   {
    "duration": 13,
    "start_time": "2021-10-05T05:07:13.609Z"
   },
   {
    "duration": 47,
    "start_time": "2021-10-05T05:07:13.624Z"
   },
   {
    "duration": 70,
    "start_time": "2021-10-05T05:07:13.674Z"
   },
   {
    "duration": 25,
    "start_time": "2021-10-05T05:07:13.747Z"
   },
   {
    "duration": 20,
    "start_time": "2021-10-05T05:07:13.775Z"
   },
   {
    "duration": 7,
    "start_time": "2021-10-05T05:07:13.798Z"
   },
   {
    "duration": 61,
    "start_time": "2021-10-05T05:07:13.808Z"
   },
   {
    "duration": 25,
    "start_time": "2021-10-05T05:07:13.871Z"
   },
   {
    "duration": 32,
    "start_time": "2021-10-05T05:07:13.899Z"
   },
   {
    "duration": 59,
    "start_time": "2021-10-05T05:07:13.934Z"
   },
   {
    "duration": 90,
    "start_time": "2021-10-05T05:07:13.996Z"
   },
   {
    "duration": 40,
    "start_time": "2021-10-05T05:07:14.088Z"
   },
   {
    "duration": 45,
    "start_time": "2021-10-05T05:07:14.130Z"
   },
   {
    "duration": 56,
    "start_time": "2021-10-05T05:07:14.177Z"
   },
   {
    "duration": 5,
    "start_time": "2021-10-05T05:07:14.236Z"
   },
   {
    "duration": 4,
    "start_time": "2021-10-05T05:07:14.268Z"
   },
   {
    "duration": 36,
    "start_time": "2021-10-05T05:07:14.275Z"
   },
   {
    "duration": 54,
    "start_time": "2021-10-05T05:07:14.313Z"
   },
   {
    "duration": 8,
    "start_time": "2021-10-05T05:07:14.369Z"
   },
   {
    "duration": 25,
    "start_time": "2021-10-05T05:07:14.379Z"
   },
   {
    "duration": 26,
    "start_time": "2021-10-05T05:07:14.407Z"
   },
   {
    "duration": 48,
    "start_time": "2021-10-05T05:07:14.435Z"
   },
   {
    "duration": 22,
    "start_time": "2021-10-05T05:07:14.486Z"
   },
   {
    "duration": 9,
    "start_time": "2021-10-05T05:07:14.510Z"
   },
   {
    "duration": 405,
    "start_time": "2021-10-05T05:07:14.522Z"
   },
   {
    "duration": 12,
    "start_time": "2021-10-05T05:07:14.929Z"
   },
   {
    "duration": 405,
    "start_time": "2021-10-05T05:07:14.944Z"
   },
   {
    "duration": 23,
    "start_time": "2021-10-05T05:07:15.352Z"
   },
   {
    "duration": 247,
    "start_time": "2021-10-05T05:07:15.377Z"
   },
   {
    "duration": 443,
    "start_time": "2021-10-05T05:07:15.627Z"
   },
   {
    "duration": 358,
    "start_time": "2021-10-05T05:07:16.072Z"
   },
   {
    "duration": 39,
    "start_time": "2021-10-05T05:07:16.433Z"
   },
   {
    "duration": 353,
    "start_time": "2021-10-05T05:07:16.474Z"
   },
   {
    "duration": 57,
    "start_time": "2021-10-05T05:07:16.830Z"
   },
   {
    "duration": 32,
    "start_time": "2021-10-05T05:07:16.889Z"
   },
   {
    "duration": 402,
    "start_time": "2021-10-05T05:07:16.923Z"
   },
   {
    "duration": 41,
    "start_time": "2021-10-05T05:07:17.328Z"
   },
   {
    "duration": 311,
    "start_time": "2021-10-05T05:07:17.372Z"
   },
   {
    "duration": 313,
    "start_time": "2021-10-05T05:07:17.685Z"
   },
   {
    "duration": 310,
    "start_time": "2021-10-05T05:07:18.000Z"
   },
   {
    "duration": 341,
    "start_time": "2021-10-05T05:07:18.312Z"
   },
   {
    "duration": 302,
    "start_time": "2021-10-05T05:07:18.667Z"
   },
   {
    "duration": 355,
    "start_time": "2021-10-05T05:07:18.972Z"
   },
   {
    "duration": 376,
    "start_time": "2021-10-05T05:07:19.330Z"
   },
   {
    "duration": 469,
    "start_time": "2021-10-05T05:07:19.708Z"
   },
   {
    "duration": 1223,
    "start_time": "2021-10-05T05:07:20.179Z"
   },
   {
    "duration": 1413,
    "start_time": "2021-10-05T05:07:21.405Z"
   },
   {
    "duration": 1014,
    "start_time": "2021-10-05T06:51:39.488Z"
   },
   {
    "duration": 78,
    "start_time": "2021-10-05T06:51:40.504Z"
   },
   {
    "duration": 18,
    "start_time": "2021-10-05T06:51:40.585Z"
   },
   {
    "duration": 23,
    "start_time": "2021-10-05T06:51:40.606Z"
   },
   {
    "duration": 33,
    "start_time": "2021-10-05T06:51:40.632Z"
   },
   {
    "duration": 14,
    "start_time": "2021-10-05T06:51:40.668Z"
   },
   {
    "duration": 8,
    "start_time": "2021-10-05T06:51:40.685Z"
   },
   {
    "duration": 15,
    "start_time": "2021-10-05T06:51:40.697Z"
   },
   {
    "duration": 19,
    "start_time": "2021-10-05T06:51:40.716Z"
   },
   {
    "duration": 51,
    "start_time": "2021-10-05T06:51:40.738Z"
   },
   {
    "duration": 18,
    "start_time": "2021-10-05T06:51:40.792Z"
   },
   {
    "duration": 17,
    "start_time": "2021-10-05T06:51:40.812Z"
   },
   {
    "duration": 8,
    "start_time": "2021-10-05T06:51:40.831Z"
   },
   {
    "duration": 8,
    "start_time": "2021-10-05T06:51:40.882Z"
   },
   {
    "duration": 12,
    "start_time": "2021-10-05T06:51:40.893Z"
   },
   {
    "duration": 11,
    "start_time": "2021-10-05T06:51:40.907Z"
   },
   {
    "duration": 40,
    "start_time": "2021-10-05T06:51:40.921Z"
   },
   {
    "duration": 24,
    "start_time": "2021-10-05T06:51:40.964Z"
   },
   {
    "duration": 30,
    "start_time": "2021-10-05T06:51:40.990Z"
   },
   {
    "duration": 27,
    "start_time": "2021-10-05T06:51:41.022Z"
   },
   {
    "duration": 35,
    "start_time": "2021-10-05T06:51:41.052Z"
   },
   {
    "duration": 18,
    "start_time": "2021-10-05T06:51:41.089Z"
   },
   {
    "duration": 6,
    "start_time": "2021-10-05T06:51:41.113Z"
   },
   {
    "duration": 23,
    "start_time": "2021-10-05T06:51:41.123Z"
   },
   {
    "duration": 6,
    "start_time": "2021-10-05T06:51:41.149Z"
   },
   {
    "duration": 28,
    "start_time": "2021-10-05T06:51:41.158Z"
   },
   {
    "duration": 13,
    "start_time": "2021-10-05T06:51:41.189Z"
   },
   {
    "duration": 33,
    "start_time": "2021-10-05T06:51:41.204Z"
   },
   {
    "duration": 6,
    "start_time": "2021-10-05T06:51:41.239Z"
   },
   {
    "duration": 36,
    "start_time": "2021-10-05T06:51:41.248Z"
   },
   {
    "duration": 8,
    "start_time": "2021-10-05T06:51:41.287Z"
   },
   {
    "duration": 44,
    "start_time": "2021-10-05T06:51:41.298Z"
   },
   {
    "duration": 8,
    "start_time": "2021-10-05T06:51:41.344Z"
   },
   {
    "duration": 30,
    "start_time": "2021-10-05T06:51:41.354Z"
   },
   {
    "duration": 10,
    "start_time": "2021-10-05T06:51:41.386Z"
   },
   {
    "duration": 9,
    "start_time": "2021-10-05T06:51:41.398Z"
   },
   {
    "duration": 30,
    "start_time": "2021-10-05T06:51:41.410Z"
   },
   {
    "duration": 6,
    "start_time": "2021-10-05T06:51:41.442Z"
   },
   {
    "duration": 42,
    "start_time": "2021-10-05T06:51:41.451Z"
   },
   {
    "duration": 9,
    "start_time": "2021-10-05T06:51:41.495Z"
   },
   {
    "duration": 9,
    "start_time": "2021-10-05T06:51:41.506Z"
   },
   {
    "duration": 10,
    "start_time": "2021-10-05T06:51:41.518Z"
   },
   {
    "duration": 8,
    "start_time": "2021-10-05T06:51:41.530Z"
   },
   {
    "duration": 64,
    "start_time": "2021-10-05T06:51:41.540Z"
   },
   {
    "duration": 5,
    "start_time": "2021-10-05T06:51:41.606Z"
   },
   {
    "duration": 9,
    "start_time": "2021-10-05T06:51:41.613Z"
   },
   {
    "duration": 20,
    "start_time": "2021-10-05T06:51:41.624Z"
   },
   {
    "duration": 56,
    "start_time": "2021-10-05T06:51:41.647Z"
   },
   {
    "duration": 7,
    "start_time": "2021-10-05T06:51:41.706Z"
   },
   {
    "duration": 13,
    "start_time": "2021-10-05T06:51:41.716Z"
   },
   {
    "duration": 8,
    "start_time": "2021-10-05T06:51:41.732Z"
   },
   {
    "duration": 78,
    "start_time": "2021-10-05T06:51:41.742Z"
   },
   {
    "duration": 25,
    "start_time": "2021-10-05T06:51:41.823Z"
   },
   {
    "duration": 35,
    "start_time": "2021-10-05T06:51:41.851Z"
   },
   {
    "duration": 11,
    "start_time": "2021-10-05T06:51:41.889Z"
   },
   {
    "duration": 37,
    "start_time": "2021-10-05T06:51:41.903Z"
   },
   {
    "duration": 53,
    "start_time": "2021-10-05T06:51:41.944Z"
   },
   {
    "duration": 19,
    "start_time": "2021-10-05T06:51:42.000Z"
   },
   {
    "duration": 22,
    "start_time": "2021-10-05T06:51:42.022Z"
   },
   {
    "duration": 19,
    "start_time": "2021-10-05T06:51:42.047Z"
   },
   {
    "duration": 10,
    "start_time": "2021-10-05T06:51:42.081Z"
   },
   {
    "duration": 29,
    "start_time": "2021-10-05T06:51:42.094Z"
   },
   {
    "duration": 26,
    "start_time": "2021-10-05T06:51:42.126Z"
   },
   {
    "duration": 27,
    "start_time": "2021-10-05T06:51:42.155Z"
   },
   {
    "duration": 21,
    "start_time": "2021-10-05T06:51:42.185Z"
   },
   {
    "duration": 5,
    "start_time": "2021-10-05T06:51:42.208Z"
   },
   {
    "duration": 33,
    "start_time": "2021-10-05T06:51:42.216Z"
   },
   {
    "duration": 17,
    "start_time": "2021-10-05T06:51:42.292Z"
   },
   {
    "duration": 17,
    "start_time": "2021-10-05T06:51:42.313Z"
   },
   {
    "duration": 15,
    "start_time": "2021-10-05T06:51:42.332Z"
   },
   {
    "duration": 15,
    "start_time": "2021-10-05T06:51:42.383Z"
   },
   {
    "duration": 25,
    "start_time": "2021-10-05T06:51:42.401Z"
   },
   {
    "duration": 17,
    "start_time": "2021-10-05T06:51:42.429Z"
   },
   {
    "duration": 9,
    "start_time": "2021-10-05T06:51:42.481Z"
   },
   {
    "duration": 8,
    "start_time": "2021-10-05T06:51:42.493Z"
   },
   {
    "duration": 12,
    "start_time": "2021-10-05T06:51:42.503Z"
   },
   {
    "duration": 73,
    "start_time": "2021-10-05T06:51:42.517Z"
   },
   {
    "duration": 7,
    "start_time": "2021-10-05T06:51:42.593Z"
   },
   {
    "duration": 9,
    "start_time": "2021-10-05T06:51:42.603Z"
   },
   {
    "duration": 9,
    "start_time": "2021-10-05T06:51:42.614Z"
   },
   {
    "duration": 14,
    "start_time": "2021-10-05T06:51:42.625Z"
   },
   {
    "duration": 46,
    "start_time": "2021-10-05T06:51:42.641Z"
   },
   {
    "duration": 13,
    "start_time": "2021-10-05T06:51:42.690Z"
   },
   {
    "duration": 34,
    "start_time": "2021-10-05T06:51:42.706Z"
   },
   {
    "duration": 118,
    "start_time": "2021-10-05T06:51:42.743Z"
   },
   {
    "duration": 13,
    "start_time": "2021-10-05T06:51:42.883Z"
   },
   {
    "duration": 19,
    "start_time": "2021-10-05T06:51:42.898Z"
   },
   {
    "duration": 7,
    "start_time": "2021-10-05T06:51:42.920Z"
   },
   {
    "duration": 73,
    "start_time": "2021-10-05T06:51:42.930Z"
   },
   {
    "duration": 27,
    "start_time": "2021-10-05T06:51:43.005Z"
   },
   {
    "duration": 60,
    "start_time": "2021-10-05T06:51:43.034Z"
   },
   {
    "duration": 34,
    "start_time": "2021-10-05T06:51:43.096Z"
   },
   {
    "duration": 101,
    "start_time": "2021-10-05T06:51:43.133Z"
   },
   {
    "duration": 52,
    "start_time": "2021-10-05T06:51:43.237Z"
   },
   {
    "duration": 23,
    "start_time": "2021-10-05T06:51:43.291Z"
   },
   {
    "duration": 80,
    "start_time": "2021-10-05T06:51:43.317Z"
   },
   {
    "duration": 5,
    "start_time": "2021-10-05T06:51:43.399Z"
   },
   {
    "duration": 10,
    "start_time": "2021-10-05T06:51:43.407Z"
   },
   {
    "duration": 35,
    "start_time": "2021-10-05T06:51:43.420Z"
   },
   {
    "duration": 27,
    "start_time": "2021-10-05T06:51:43.482Z"
   },
   {
    "duration": 6,
    "start_time": "2021-10-05T06:51:43.512Z"
   },
   {
    "duration": 25,
    "start_time": "2021-10-05T06:51:43.521Z"
   },
   {
    "duration": 26,
    "start_time": "2021-10-05T06:51:43.582Z"
   },
   {
    "duration": 23,
    "start_time": "2021-10-05T06:51:43.611Z"
   },
   {
    "duration": 47,
    "start_time": "2021-10-05T06:51:43.637Z"
   },
   {
    "duration": 8,
    "start_time": "2021-10-05T06:51:43.686Z"
   },
   {
    "duration": 374,
    "start_time": "2021-10-05T06:51:43.696Z"
   },
   {
    "duration": 17,
    "start_time": "2021-10-05T06:51:44.072Z"
   },
   {
    "duration": 376,
    "start_time": "2021-10-05T06:51:44.091Z"
   },
   {
    "duration": 20,
    "start_time": "2021-10-05T06:51:44.469Z"
   },
   {
    "duration": 231,
    "start_time": "2021-10-05T06:51:44.491Z"
   },
   {
    "duration": 427,
    "start_time": "2021-10-05T06:51:44.725Z"
   },
   {
    "duration": 340,
    "start_time": "2021-10-05T06:51:45.154Z"
   },
   {
    "duration": 29,
    "start_time": "2021-10-05T06:51:45.496Z"
   },
   {
    "duration": 340,
    "start_time": "2021-10-05T06:51:45.528Z"
   },
   {
    "duration": 53,
    "start_time": "2021-10-05T06:51:45.870Z"
   },
   {
    "duration": 55,
    "start_time": "2021-10-05T06:51:45.926Z"
   },
   {
    "duration": 376,
    "start_time": "2021-10-05T06:51:45.984Z"
   },
   {
    "duration": 36,
    "start_time": "2021-10-05T06:51:46.364Z"
   },
   {
    "duration": 315,
    "start_time": "2021-10-05T06:51:46.403Z"
   },
   {
    "duration": 301,
    "start_time": "2021-10-05T06:51:46.720Z"
   },
   {
    "duration": 312,
    "start_time": "2021-10-05T06:51:47.024Z"
   },
   {
    "duration": 302,
    "start_time": "2021-10-05T06:51:47.338Z"
   },
   {
    "duration": 297,
    "start_time": "2021-10-05T06:51:47.643Z"
   },
   {
    "duration": 502,
    "start_time": "2021-10-05T06:51:47.943Z"
   },
   {
    "duration": 359,
    "start_time": "2021-10-05T06:51:48.448Z"
   },
   {
    "duration": 465,
    "start_time": "2021-10-05T06:51:48.810Z"
   },
   {
    "duration": 1315,
    "start_time": "2021-10-05T06:51:49.283Z"
   },
   {
    "duration": 1361,
    "start_time": "2021-10-05T06:51:50.600Z"
   },
   {
    "duration": 34,
    "start_time": "2021-10-05T06:58:37.528Z"
   },
   {
    "duration": 24,
    "start_time": "2021-10-05T06:58:54.028Z"
   },
   {
    "duration": 26,
    "start_time": "2021-10-05T06:59:14.438Z"
   },
   {
    "duration": 31,
    "start_time": "2021-10-05T06:59:18.309Z"
   },
   {
    "duration": 31,
    "start_time": "2021-10-05T06:59:45.927Z"
   },
   {
    "duration": 5,
    "start_time": "2021-10-05T07:17:15.336Z"
   },
   {
    "duration": 69,
    "start_time": "2021-10-05T07:35:20.130Z"
   },
   {
    "duration": 69,
    "start_time": "2021-10-05T08:08:45.020Z"
   },
   {
    "duration": 112,
    "start_time": "2021-10-05T08:08:54.737Z"
   },
   {
    "duration": 68,
    "start_time": "2021-10-05T08:09:16.376Z"
   },
   {
    "duration": 268,
    "start_time": "2021-10-05T08:09:25.202Z"
   },
   {
    "duration": 228,
    "start_time": "2021-10-05T08:09:37.184Z"
   },
   {
    "duration": 219,
    "start_time": "2021-10-05T08:10:06.515Z"
   },
   {
    "duration": 851,
    "start_time": "2021-10-05T08:10:23.881Z"
   },
   {
    "duration": 89,
    "start_time": "2021-10-05T08:10:24.734Z"
   },
   {
    "duration": 14,
    "start_time": "2021-10-05T08:10:24.826Z"
   },
   {
    "duration": 13,
    "start_time": "2021-10-05T08:10:24.849Z"
   },
   {
    "duration": 40,
    "start_time": "2021-10-05T08:10:24.864Z"
   },
   {
    "duration": 6,
    "start_time": "2021-10-05T08:10:24.907Z"
   },
   {
    "duration": 8,
    "start_time": "2021-10-05T08:10:24.915Z"
   },
   {
    "duration": 24,
    "start_time": "2021-10-05T08:10:24.924Z"
   },
   {
    "duration": 20,
    "start_time": "2021-10-05T08:10:24.952Z"
   },
   {
    "duration": 12,
    "start_time": "2021-10-05T08:10:24.974Z"
   },
   {
    "duration": 14,
    "start_time": "2021-10-05T08:10:24.988Z"
   },
   {
    "duration": 11,
    "start_time": "2021-10-05T08:10:25.003Z"
   },
   {
    "duration": 4,
    "start_time": "2021-10-05T08:10:25.016Z"
   },
   {
    "duration": 15,
    "start_time": "2021-10-05T08:10:25.022Z"
   },
   {
    "duration": 11,
    "start_time": "2021-10-05T08:10:25.039Z"
   },
   {
    "duration": 5,
    "start_time": "2021-10-05T08:10:25.052Z"
   },
   {
    "duration": 34,
    "start_time": "2021-10-05T08:10:25.059Z"
   },
   {
    "duration": 35,
    "start_time": "2021-10-05T08:10:25.095Z"
   },
   {
    "duration": 6,
    "start_time": "2021-10-05T08:10:25.132Z"
   },
   {
    "duration": 27,
    "start_time": "2021-10-05T08:10:25.140Z"
   },
   {
    "duration": 28,
    "start_time": "2021-10-05T08:10:25.169Z"
   },
   {
    "duration": 5,
    "start_time": "2021-10-05T08:10:25.199Z"
   },
   {
    "duration": 8,
    "start_time": "2021-10-05T08:10:25.206Z"
   },
   {
    "duration": 11,
    "start_time": "2021-10-05T08:10:25.216Z"
   },
   {
    "duration": 18,
    "start_time": "2021-10-05T08:10:25.229Z"
   },
   {
    "duration": 27,
    "start_time": "2021-10-05T08:10:25.249Z"
   },
   {
    "duration": 7,
    "start_time": "2021-10-05T08:10:25.282Z"
   },
   {
    "duration": 8,
    "start_time": "2021-10-05T08:10:25.292Z"
   },
   {
    "duration": 47,
    "start_time": "2021-10-05T08:10:25.302Z"
   },
   {
    "duration": 5,
    "start_time": "2021-10-05T08:10:25.352Z"
   },
   {
    "duration": 7,
    "start_time": "2021-10-05T08:10:25.359Z"
   },
   {
    "duration": 9,
    "start_time": "2021-10-05T08:10:25.368Z"
   },
   {
    "duration": 70,
    "start_time": "2021-10-05T08:10:25.379Z"
   },
   {
    "duration": 5,
    "start_time": "2021-10-05T08:10:25.451Z"
   },
   {
    "duration": 6,
    "start_time": "2021-10-05T08:10:25.458Z"
   },
   {
    "duration": 6,
    "start_time": "2021-10-05T08:10:25.466Z"
   },
   {
    "duration": 7,
    "start_time": "2021-10-05T08:10:25.474Z"
   },
   {
    "duration": 72,
    "start_time": "2021-10-05T08:10:25.483Z"
   },
   {
    "duration": 5,
    "start_time": "2021-10-05T08:10:25.557Z"
   },
   {
    "duration": 7,
    "start_time": "2021-10-05T08:10:25.564Z"
   },
   {
    "duration": 7,
    "start_time": "2021-10-05T08:10:25.572Z"
   },
   {
    "duration": 8,
    "start_time": "2021-10-05T08:10:25.581Z"
   },
   {
    "duration": 64,
    "start_time": "2021-10-05T08:10:25.591Z"
   },
   {
    "duration": 6,
    "start_time": "2021-10-05T08:10:25.657Z"
   },
   {
    "duration": 17,
    "start_time": "2021-10-05T08:10:25.665Z"
   },
   {
    "duration": 3,
    "start_time": "2021-10-05T08:10:25.684Z"
   },
   {
    "duration": 62,
    "start_time": "2021-10-05T08:10:25.689Z"
   },
   {
    "duration": 9,
    "start_time": "2021-10-05T08:10:25.753Z"
   },
   {
    "duration": 20,
    "start_time": "2021-10-05T08:10:25.763Z"
   },
   {
    "duration": 4,
    "start_time": "2021-10-05T08:10:25.785Z"
   },
   {
    "duration": 9,
    "start_time": "2021-10-05T08:10:25.791Z"
   },
   {
    "duration": 51,
    "start_time": "2021-10-05T08:10:25.802Z"
   },
   {
    "duration": 31,
    "start_time": "2021-10-05T08:10:25.855Z"
   },
   {
    "duration": 12,
    "start_time": "2021-10-05T08:10:25.888Z"
   },
   {
    "duration": 13,
    "start_time": "2021-10-05T08:10:25.902Z"
   },
   {
    "duration": 36,
    "start_time": "2021-10-05T08:10:25.916Z"
   },
   {
    "duration": 25,
    "start_time": "2021-10-05T08:10:25.954Z"
   },
   {
    "duration": 14,
    "start_time": "2021-10-05T08:10:25.981Z"
   },
   {
    "duration": 12,
    "start_time": "2021-10-05T08:10:25.997Z"
   },
   {
    "duration": 39,
    "start_time": "2021-10-05T08:10:26.011Z"
   },
   {
    "duration": 13,
    "start_time": "2021-10-05T08:10:26.053Z"
   },
   {
    "duration": 5,
    "start_time": "2021-10-05T08:10:26.068Z"
   },
   {
    "duration": 16,
    "start_time": "2021-10-05T08:10:26.075Z"
   },
   {
    "duration": 16,
    "start_time": "2021-10-05T08:10:26.093Z"
   },
   {
    "duration": 42,
    "start_time": "2021-10-05T08:10:26.110Z"
   },
   {
    "duration": 17,
    "start_time": "2021-10-05T08:10:26.154Z"
   },
   {
    "duration": 4,
    "start_time": "2021-10-05T08:10:26.173Z"
   },
   {
    "duration": 34,
    "start_time": "2021-10-05T08:10:26.179Z"
   },
   {
    "duration": 46,
    "start_time": "2021-10-05T08:10:26.215Z"
   },
   {
    "duration": 17,
    "start_time": "2021-10-05T08:10:26.264Z"
   },
   {
    "duration": 12,
    "start_time": "2021-10-05T08:10:26.282Z"
   },
   {
    "duration": 21,
    "start_time": "2021-10-05T08:10:26.296Z"
   },
   {
    "duration": 51,
    "start_time": "2021-10-05T08:10:26.319Z"
   },
   {
    "duration": 16,
    "start_time": "2021-10-05T08:10:26.372Z"
   },
   {
    "duration": 10,
    "start_time": "2021-10-05T08:10:26.390Z"
   },
   {
    "duration": 13,
    "start_time": "2021-10-05T08:10:26.402Z"
   },
   {
    "duration": 14,
    "start_time": "2021-10-05T08:10:26.417Z"
   },
   {
    "duration": 41,
    "start_time": "2021-10-05T08:10:26.450Z"
   },
   {
    "duration": 6,
    "start_time": "2021-10-05T08:10:26.494Z"
   },
   {
    "duration": 6,
    "start_time": "2021-10-05T08:10:26.502Z"
   },
   {
    "duration": 35,
    "start_time": "2021-10-05T08:10:26.514Z"
   },
   {
    "duration": 9,
    "start_time": "2021-10-05T08:10:26.552Z"
   },
   {
    "duration": 8,
    "start_time": "2021-10-05T08:10:26.563Z"
   },
   {
    "duration": 16,
    "start_time": "2021-10-05T08:10:26.573Z"
   },
   {
    "duration": 16,
    "start_time": "2021-10-05T08:10:26.591Z"
   },
   {
    "duration": 68,
    "start_time": "2021-10-05T08:10:26.609Z"
   },
   {
    "duration": 14,
    "start_time": "2021-10-05T08:10:26.679Z"
   },
   {
    "duration": 18,
    "start_time": "2021-10-05T08:10:26.695Z"
   },
   {
    "duration": 36,
    "start_time": "2021-10-05T08:10:26.715Z"
   },
   {
    "duration": 23,
    "start_time": "2021-10-05T08:10:26.752Z"
   },
   {
    "duration": 22,
    "start_time": "2021-10-05T08:10:26.777Z"
   },
   {
    "duration": 16,
    "start_time": "2021-10-05T08:10:26.801Z"
   },
   {
    "duration": 62,
    "start_time": "2021-10-05T08:10:26.819Z"
   },
   {
    "duration": 88,
    "start_time": "2021-10-05T08:10:26.883Z"
   },
   {
    "duration": 35,
    "start_time": "2021-10-05T08:10:26.973Z"
   },
   {
    "duration": 44,
    "start_time": "2021-10-05T08:10:27.010Z"
   },
   {
    "duration": 58,
    "start_time": "2021-10-05T08:10:27.056Z"
   },
   {
    "duration": 6,
    "start_time": "2021-10-05T08:10:27.116Z"
   },
   {
    "duration": 26,
    "start_time": "2021-10-05T08:10:27.123Z"
   },
   {
    "duration": 34,
    "start_time": "2021-10-05T08:10:27.151Z"
   },
   {
    "duration": 22,
    "start_time": "2021-10-05T08:10:27.187Z"
   },
   {
    "duration": 7,
    "start_time": "2021-10-05T08:10:27.211Z"
   },
   {
    "duration": 39,
    "start_time": "2021-10-05T08:10:27.221Z"
   },
   {
    "duration": 17,
    "start_time": "2021-10-05T08:10:27.262Z"
   },
   {
    "duration": 17,
    "start_time": "2021-10-05T08:10:27.281Z"
   },
   {
    "duration": 14,
    "start_time": "2021-10-05T08:10:27.300Z"
   },
   {
    "duration": 7,
    "start_time": "2021-10-05T08:10:27.350Z"
   },
   {
    "duration": 346,
    "start_time": "2021-10-05T08:10:27.360Z"
   },
   {
    "duration": 8,
    "start_time": "2021-10-05T08:10:27.708Z"
   },
   {
    "duration": 243,
    "start_time": "2021-10-05T08:10:27.718Z"
   },
   {
    "duration": 9,
    "start_time": "2021-10-05T08:10:27.962Z"
   },
   {
    "duration": 170,
    "start_time": "2021-10-05T08:10:27.972Z"
   },
   {
    "duration": 383,
    "start_time": "2021-10-05T08:10:28.144Z"
   },
   {
    "duration": 305,
    "start_time": "2021-10-05T08:10:28.529Z"
   },
   {
    "duration": 27,
    "start_time": "2021-10-05T08:10:28.836Z"
   },
   {
    "duration": 269,
    "start_time": "2021-10-05T08:10:28.865Z"
   },
   {
    "duration": 51,
    "start_time": "2021-10-05T08:10:29.137Z"
   },
   {
    "duration": 32,
    "start_time": "2021-10-05T08:10:29.190Z"
   },
   {
    "duration": 376,
    "start_time": "2021-10-05T08:10:29.225Z"
   },
   {
    "duration": 23,
    "start_time": "2021-10-05T08:10:29.603Z"
   },
   {
    "duration": 301,
    "start_time": "2021-10-05T08:10:29.628Z"
   },
   {
    "duration": 287,
    "start_time": "2021-10-05T08:10:29.931Z"
   },
   {
    "duration": 279,
    "start_time": "2021-10-05T08:10:30.220Z"
   },
   {
    "duration": 5,
    "start_time": "2021-10-05T08:10:30.502Z"
   },
   {
    "duration": 299,
    "start_time": "2021-10-05T08:10:30.509Z"
   },
   {
    "duration": 293,
    "start_time": "2021-10-05T08:10:30.810Z"
   },
   {
    "duration": 244,
    "start_time": "2021-10-05T08:10:31.105Z"
   },
   {
    "duration": 374,
    "start_time": "2021-10-05T08:10:31.351Z"
   },
   {
    "duration": 324,
    "start_time": "2021-10-05T08:10:31.727Z"
   },
   {
    "duration": 765,
    "start_time": "2021-10-05T08:10:32.054Z"
   },
   {
    "duration": 1435,
    "start_time": "2021-10-05T08:10:32.822Z"
   },
   {
    "duration": 89,
    "start_time": "2021-10-05T08:12:29.275Z"
   },
   {
    "duration": 220,
    "start_time": "2021-10-05T08:12:41.005Z"
   },
   {
    "duration": 70,
    "start_time": "2021-10-05T08:22:45.030Z"
   }
  ],
  "colab": {
   "name": "DA+. Сборный проект 1. Шаблон (1).ipynb",
   "provenance": []
  },
  "kernelspec": {
   "display_name": "Python 3 (ipykernel)",
   "language": "python",
   "name": "python3"
  },
  "language_info": {
   "codemirror_mode": {
    "name": "ipython",
    "version": 3
   },
   "file_extension": ".py",
   "mimetype": "text/x-python",
   "name": "python",
   "nbconvert_exporter": "python",
   "pygments_lexer": "ipython3",
   "version": "3.9.12"
  },
  "toc": {
   "base_numbering": 1,
   "nav_menu": {},
   "number_sections": true,
   "sideBar": true,
   "skip_h1_title": true,
   "title_cell": "",
   "title_sidebar": "Contents",
   "toc_cell": true,
   "toc_position": {
    "height": "calc(100% - 180px)",
    "left": "10px",
    "top": "150px",
    "width": "375.391px"
   },
   "toc_section_display": true,
   "toc_window_display": false
  }
 },
 "nbformat": 4,
 "nbformat_minor": 1
}
