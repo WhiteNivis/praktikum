{
 "cells": [
  {
   "cell_type": "code",
   "execution_count": 1,
   "metadata": {
    "collapsed": true
   },
   "outputs": [
    {
     "name": "stdout",
     "output_type": "stream",
     "text": [
      "Defaulting to user installation because normal site-packages is not writeable\n",
      "Requirement already satisfied: seaborn in c:\\users\\white\\appdata\\roaming\\python\\python39\\site-packages (0.12.1)\n",
      "Requirement already satisfied: numpy>=1.17 in c:\\programdata\\anaconda3\\lib\\site-packages (from seaborn) (1.21.5)\n",
      "Requirement already satisfied: pandas>=0.25 in c:\\programdata\\anaconda3\\lib\\site-packages (from seaborn) (1.4.2)\n",
      "Requirement already satisfied: matplotlib!=3.6.1,>=3.1 in c:\\programdata\\anaconda3\\lib\\site-packages (from seaborn) (3.5.1)\n",
      "Requirement already satisfied: python-dateutil>=2.7 in c:\\programdata\\anaconda3\\lib\\site-packages (from matplotlib!=3.6.1,>=3.1->seaborn) (2.8.2)\n",
      "Requirement already satisfied: fonttools>=4.22.0 in c:\\programdata\\anaconda3\\lib\\site-packages (from matplotlib!=3.6.1,>=3.1->seaborn) (4.25.0)\n",
      "Requirement already satisfied: pillow>=6.2.0 in c:\\programdata\\anaconda3\\lib\\site-packages (from matplotlib!=3.6.1,>=3.1->seaborn) (9.0.1)\n",
      "Requirement already satisfied: pyparsing>=2.2.1 in c:\\programdata\\anaconda3\\lib\\site-packages (from matplotlib!=3.6.1,>=3.1->seaborn) (3.0.4)\n",
      "Requirement already satisfied: kiwisolver>=1.0.1 in c:\\programdata\\anaconda3\\lib\\site-packages (from matplotlib!=3.6.1,>=3.1->seaborn) (1.3.2)\n",
      "Requirement already satisfied: packaging>=20.0 in c:\\programdata\\anaconda3\\lib\\site-packages (from matplotlib!=3.6.1,>=3.1->seaborn) (21.3)\n",
      "Requirement already satisfied: cycler>=0.10 in c:\\programdata\\anaconda3\\lib\\site-packages (from matplotlib!=3.6.1,>=3.1->seaborn) (0.11.0)\n",
      "Requirement already satisfied: pytz>=2020.1 in c:\\programdata\\anaconda3\\lib\\site-packages (from pandas>=0.25->seaborn) (2021.3)\n",
      "Requirement already satisfied: six>=1.5 in c:\\programdata\\anaconda3\\lib\\site-packages (from python-dateutil>=2.7->matplotlib!=3.6.1,>=3.1->seaborn) (1.16.0)\n"
     ]
    }
   ],
   "source": [
    "!pip install -U seaborn "
   ]
  },
  {
   "cell_type": "markdown",
   "metadata": {},
   "source": [
    "# Анализ прибыли и рисков добычи нефти в регионе"
   ]
  },
  {
   "cell_type": "markdown",
   "metadata": {},
   "source": [
    "Добывающей компании «ГлавРосГосНефть» требуется смоделировать принятие решения о выборе региона для разработки скважин.\n",
    "В нашем распоряжении пробы нефти в трёх регионах: в каждом 10 000 месторождений, где измерили качество нефти и объём её запасов. "
   ]
  },
  {
   "cell_type": "markdown",
   "metadata": {},
   "source": [
    "<font color='green'>Цель</font>"
   ]
  },
  {
   "cell_type": "markdown",
   "metadata": {},
   "source": [
    "Построить модель машинного обучения, которая поможет определить регион, где добыча нефти принесёт наибольшую прибыль. Проанализировать возможную прибыль и риски техникой *Bootstrap*."
   ]
  },
  {
   "cell_type": "markdown",
   "metadata": {},
   "source": [
    "<font color='green'>Задачи</font>"
   ]
  },
  {
   "cell_type": "markdown",
   "metadata": {},
   "source": [
    "- исследовать данные;\n",
    "- построить модель машинного обучения на основе линейной регрессии;\n",
    "- оценить объём запасов;\n",
    "- посчитать риски и прибыль для каждого региона;\n",
    "- определить регион для добычи."
   ]
  },
  {
   "cell_type": "markdown",
   "metadata": {},
   "source": [
    "<font color='green'>Основные условия</font>"
   ]
  },
  {
   "cell_type": "markdown",
   "metadata": {},
   "source": [
    "- основная метрика - RМSE\n",
    "- требуемая вероятность убытков - < 2.5%\n",
    "- бюджет - 10 млрд. руб.\n",
    "- доход с 1 барреля - 450 руб."
   ]
  },
  {
   "cell_type": "markdown",
   "metadata": {},
   "source": [
    "<font color='green'>Файлы</font>"
   ]
  },
  {
   "cell_type": "markdown",
   "metadata": {},
   "source": [
    "- `geo_data_0.csv`\n",
    "- `geo_data_1.csv`\n",
    "- `geo_data_2.csv`"
   ]
  },
  {
   "cell_type": "markdown",
   "metadata": {},
   "source": [
    "<font color='green'>Признаки</font>"
   ]
  },
  {
   "cell_type": "markdown",
   "metadata": {},
   "source": [
    "- `id` — уникальный идентификатор скважины;\n",
    "- `f0, f1, f2` - признаки точек.\n"
   ]
  },
  {
   "cell_type": "markdown",
   "metadata": {},
   "source": [
    "<font color='green'>Целевой признак</font>"
   ]
  },
  {
   "cell_type": "markdown",
   "metadata": {},
   "source": [
    "- `product` — объём запасов в скважине (тыс. баррелей)."
   ]
  },
  {
   "cell_type": "markdown",
   "metadata": {},
   "source": [
    "<font color='green'>Содержание</font>"
   ]
  },
  {
   "cell_type": "markdown",
   "metadata": {
    "toc": true
   },
   "source": [
    "<h1><span class=\"tocSkip\"></span></h1>\n",
    "<div class=\"toc\"><ul class=\"toc-item\"><li><span><a href=\"#Загрузка-и-подготовка-данных\" data-toc-modified-id=\"Загрузка-и-подготовка-данных-1\"><span class=\"toc-item-num\">1&nbsp;&nbsp;</span>Загрузка и подготовка данных</a></span></li><li><span><a href=\"#Обучение-и-проверка-модели\" data-toc-modified-id=\"Обучение-и-проверка-модели-2\"><span class=\"toc-item-num\">2&nbsp;&nbsp;</span>Обучение и проверка модели</a></span><ul class=\"toc-item\"><li><span><a href=\"#Регион-1\" data-toc-modified-id=\"Регион-1-2.1\"><span class=\"toc-item-num\">2.1&nbsp;&nbsp;</span>Регион 1</a></span></li><li><span><a href=\"#Регион-2\" data-toc-modified-id=\"Регион-2-2.2\"><span class=\"toc-item-num\">2.2&nbsp;&nbsp;</span>Регион 2</a></span></li><li><span><a href=\"#Регион-3\" data-toc-modified-id=\"Регион-3-2.3\"><span class=\"toc-item-num\">2.3&nbsp;&nbsp;</span>Регион 3</a></span></li></ul></li><li><span><a href=\"#Подготовка-к-расчёту-прибыли\" data-toc-modified-id=\"Подготовка-к-расчёту-прибыли-3\"><span class=\"toc-item-num\">3&nbsp;&nbsp;</span>Подготовка к расчёту прибыли</a></span></li><li><span><a href=\"#Расчёт-прибыли-и-рисков\" data-toc-modified-id=\"Расчёт-прибыли-и-рисков-4\"><span class=\"toc-item-num\">4&nbsp;&nbsp;</span>Расчёт прибыли и рисков</a></span><ul class=\"toc-item\"><li><span><a href=\"#Регион-1\" data-toc-modified-id=\"Регион-1-4.1\"><span class=\"toc-item-num\">4.1&nbsp;&nbsp;</span>Регион 1</a></span></li><li><span><a href=\"#Регион-2\" data-toc-modified-id=\"Регион-2-4.2\"><span class=\"toc-item-num\">4.2&nbsp;&nbsp;</span>Регион 2</a></span></li><li><span><a href=\"#Регион-3\" data-toc-modified-id=\"Регион-3-4.3\"><span class=\"toc-item-num\">4.3&nbsp;&nbsp;</span>Регион 3</a></span></li></ul></li></ul></div>"
   ]
  },
  {
   "cell_type": "markdown",
   "metadata": {},
   "source": [
    "## Загрузка и подготовка данных"
   ]
  },
  {
   "cell_type": "code",
   "execution_count": 2,
   "metadata": {},
   "outputs": [],
   "source": [
    "import warnings\n",
    "warnings.filterwarnings(\"ignore\", category=FutureWarning)\n",
    "\n",
    "import pandas as pd\n",
    "import numpy as np\n",
    "from numpy.random import RandomState\n",
    "\n",
    "from sklearn.linear_model import LinearRegression\n",
    "from sklearn.model_selection import train_test_split, GridSearchCV\n",
    "from sklearn.metrics import mean_absolute_error, mean_squared_error\n",
    "from sklearn.preprocessing import StandardScaler\n",
    "from sklearn.dummy import DummyClassifier\n",
    "\n",
    "\n",
    "import seaborn as sns\n",
    "import matplotlib.pyplot as plt\n",
    "%matplotlib inline"
   ]
  },
  {
   "cell_type": "code",
   "execution_count": 3,
   "metadata": {},
   "outputs": [],
   "source": [
    "data_1 = pd.read_csv('/ML/datasets/geo_data_0.csv')\n",
    "data_1['region'] = '1'\n",
    "data_2 = pd.read_csv('/ML/datasets/geo_data_1.csv')\n",
    "data_2['region'] = '2'\n",
    "data_3 = pd.read_csv('/ML/datasets/geo_data_2.csv')\n",
    "data_3['region'] = '3'\n",
    "data = pd.concat([data_1, data_2, data_3], axis=0, ignore_index=True)"
   ]
  },
  {
   "cell_type": "code",
   "execution_count": 4,
   "metadata": {},
   "outputs": [
    {
     "data": {
      "text/plain": [
       "0"
      ]
     },
     "execution_count": 4,
     "metadata": {},
     "output_type": "execute_result"
    }
   ],
   "source": [
    "data.drop(['region'], axis=1).duplicated().sum() "
   ]
  },
  {
   "cell_type": "code",
   "execution_count": 5,
   "metadata": {},
   "outputs": [
    {
     "data": {
      "text/plain": [
       "49"
      ]
     },
     "execution_count": 5,
     "metadata": {},
     "output_type": "execute_result"
    }
   ],
   "source": [
    "data['id'].duplicated().sum() "
   ]
  },
  {
   "cell_type": "code",
   "execution_count": 6,
   "metadata": {},
   "outputs": [
    {
     "name": "stdout",
     "output_type": "stream",
     "text": [
      "<class 'pandas.core.frame.DataFrame'>\n",
      "RangeIndex: 300000 entries, 0 to 299999\n",
      "Data columns (total 6 columns):\n",
      " #   Column   Non-Null Count   Dtype  \n",
      "---  ------   --------------   -----  \n",
      " 0   id       300000 non-null  object \n",
      " 1   f0       300000 non-null  float64\n",
      " 2   f1       300000 non-null  float64\n",
      " 3   f2       300000 non-null  float64\n",
      " 4   product  300000 non-null  float64\n",
      " 5   region   300000 non-null  object \n",
      "dtypes: float64(4), object(2)\n",
      "memory usage: 13.7+ MB\n"
     ]
    }
   ],
   "source": [
    "data.info()"
   ]
  },
  {
   "cell_type": "markdown",
   "metadata": {},
   "source": [
    "Полные дубликаты и пропуски не выявлены. При этом следует отметить, что присутствуют дубликаты в столбце `id`.  Классы сбалансированы. \n",
    "\n",
    "Посмотрим подробнее на распределения."
   ]
  },
  {
   "cell_type": "code",
   "execution_count": 7,
   "metadata": {},
   "outputs": [
    {
     "data": {
      "image/png": "[encoded data removed]",
      "text/plain": [
       "<Figure size 1440x1080 with 12 Axes>"
      ]
     },
     "metadata": {
      "needs_background": "light"
     },
     "output_type": "display_data"
    }
   ],
   "source": [
    "fig, axes = plt.subplots(4,3, figsize=(20,15))\n",
    "x = 0\n",
    "y = -1\n",
    "for data in [data_1, data_2, data_3]:\n",
    "    y +=1\n",
    "    x = 0\n",
    "    for column in ['f0', 'f1', 'f2', 'product']:\n",
    "        sns.histplot(data = data, x = column, ax=axes[x, y])    \n",
    "        x += 1   \n",
    "axes[0,0].set_title('Регион 1', fontsize=11)\n",
    "axes[0,1].set_title('Регион 2', fontsize=11)\n",
    "axes[0,2].set_title('Регион 3', fontsize=11)\n",
    "plt.show()"
   ]
  },
  {
   "cell_type": "markdown",
   "metadata": {},
   "source": [
    "Вероятно, что данные `'f2'` и `'prodact'` по второму региону подготавливались по правилам, отличным от других регионов.\n",
    "\n",
    "Посмотрим подробнее на корреляции."
   ]
  },
  {
   "cell_type": "code",
   "execution_count": 8,
   "metadata": {},
   "outputs": [
    {
     "data": {
      "image/png": "[encoded data removed]",
      "text/plain": [
       "<Figure size 1080x360 with 3 Axes>"
      ]
     },
     "metadata": {
      "needs_background": "light"
     },
     "output_type": "display_data"
    }
   ],
   "source": [
    "fig, axes = plt.subplots(1,3, figsize=(15,5))\n",
    "\n",
    "ax_1 = sns.heatmap(data_1.corr(), annot=True, cbar=False, linewidths=.5, fmt= '.2f', ax=axes[0])\n",
    "axes[0].set_title('Регион 1', fontsize=11)\n",
    "ax_2 = sns.heatmap(data_2.corr(), annot=True, cbar=False, linewidths=.5, fmt= '.2f', ax=axes[1])\n",
    "axes[1].set_title('Регион 2', fontsize=11)\n",
    "ax_3 = sns.heatmap(data_3.corr(), annot=True, cbar=False, linewidths=.5, fmt= '.2f', ax=axes[2])\n",
    "axes[2].set_title('Регион 3', fontsize=11)\n",
    "plt.show()"
   ]
  },
  {
   "cell_type": "markdown",
   "metadata": {},
   "source": [
    "Во втором регионе корреляция целевого признака с данными из `'f2'` равна единице, возможна утечка целевого признака. Требуется доп. проверка.\n",
    "\n",
    "Будем строить модели для каждого региона по отдельности."
   ]
  },
  {
   "cell_type": "markdown",
   "metadata": {},
   "source": [
    "**Вывод**"
   ]
  },
  {
   "cell_type": "markdown",
   "metadata": {},
   "source": [
    "Пропусков и полных дубликатов в данных не выявлено. В столбце `'id'` присутствуют 49 дубликатов. \n",
    "\n",
    "Между признаками `'f2'` и `'prodact'` для второго региона отмечается почти полная корреляция - возможна утечка целевого признака, требуется проверка данных. \n",
    "\n",
    "Вероятно также, что при формировании данных для районов применялись разные  правила."
   ]
  },
  {
   "cell_type": "markdown",
   "metadata": {},
   "source": [
    "## Обучение и проверка модели"
   ]
  },
  {
   "cell_type": "markdown",
   "metadata": {},
   "source": [
    "Создадим функцию для оценки качества модели."
   ]
  },
  {
   "cell_type": "code",
   "execution_count": 9,
   "metadata": {},
   "outputs": [],
   "source": [
    "def quality(title):\n",
    "    scorers = pd.DataFrame([np.sqrt(mean_squared_error(target_valid, predicted_valid)), predicted_valid.mean()],\\\n",
    "                           index=['RMSE', 'средний запас сырья'], columns=[title]).round(3).T\n",
    "    print(\"на тренировочной выборке:\\\n",
    "    MAE - {:.3f}, RMSE - {:.3f}, средний запас сырья - {:.3f}\".format\\\n",
    "                                      (mean_absolute_error(target_train, predicted_train),\\\n",
    "                                       np.sqrt(mean_squared_error(target_train, predicted_train)),\\\n",
    "                                       predicted_train.mean())) \n",
    "    print(\"на валидационной выборке:\\\n",
    "    MAE - {:.3f}, RMSE - {:.3f}, средний запас сырья - {:.3f}\".format\\\n",
    "                                      (mean_absolute_error(target_valid, predicted_valid),\\\n",
    "                                       np.sqrt(mean_squared_error(target_valid, predicted_valid)),\\\n",
    "                                       predicted_valid.mean())) \n",
    "        \n",
    "    return scorers\n",
    "\n",
    "results = pd.DataFrame() #датафрейм для хранения результатов работы моделей"
   ]
  },
  {
   "cell_type": "markdown",
   "metadata": {},
   "source": [
    "### Регион 1"
   ]
  },
  {
   "cell_type": "markdown",
   "metadata": {},
   "source": [
    "Разобьём данные на тренировочную и валидационную."
   ]
  },
  {
   "cell_type": "code",
   "execution_count": 10,
   "metadata": {},
   "outputs": [],
   "source": [
    "target = data_1['product']\n",
    "features = data_1.drop(['product', 'id', 'region'] , axis=1)\n",
    "\n",
    "features_train, features_valid, target_train, target_valid = train_test_split(\n",
    "    features, target, test_size=0.25, random_state=12345)"
   ]
  },
  {
   "cell_type": "markdown",
   "metadata": {},
   "source": [
    "Проверим размеры полученных файлов."
   ]
  },
  {
   "cell_type": "code",
   "execution_count": 11,
   "metadata": {},
   "outputs": [
    {
     "name": "stdout",
     "output_type": "stream",
     "text": [
      "(75000, 3) (75000,) (25000, 3) (25000,)\n"
     ]
    }
   ],
   "source": [
    "print(features_train.shape, target_train.shape, features_valid.shape, target_valid.shape)"
   ]
  },
  {
   "cell_type": "markdown",
   "metadata": {},
   "source": [
    "Приведем признаки в столбцах `'f0'`, `'f1'`, `'f2'` к единому масштабу."
   ]
  },
  {
   "cell_type": "raw",
   "metadata": {},
   "source": [
    "pd.options.mode.chained_assignment = None\n",
    "numeric = ['f0', 'f1', 'f2']\n",
    "scaler = StandardScaler()\n",
    "scaler.fit(features_train[numeric])\n",
    "features_train[numeric] = scaler.transform(features_train[numeric])\n",
    "features_valid[numeric] = scaler.transform(features_valid[numeric])"
   ]
  },
  {
   "cell_type": "markdown",
   "metadata": {},
   "source": [
    "Создадим модель."
   ]
  },
  {
   "cell_type": "code",
   "execution_count": 12,
   "metadata": {},
   "outputs": [
    {
     "name": "stdout",
     "output_type": "stream",
     "text": [
      "на тренировочной выборке:    MAE - 31.080, RMSE - 37.730, средний запас сырья - 92.640\n",
      "на валидационной выборке:    MAE - 30.920, RMSE - 37.579, средний запас сырья - 92.593\n",
      "Параметры лучшей модели: {'copy_X': True, 'fit_intercept': True, 'normalize': False}\n",
      "CPU times: total: 3.7 s\n",
      "Wall time: 676 ms\n"
     ]
    }
   ],
   "source": [
    "%%time\n",
    "\n",
    "param_grid = {'fit_intercept':[True,False],\n",
    "              'normalize':[True,False],\n",
    "              'copy_X':[True, False]\n",
    "}\n",
    "\n",
    "model_1 = LinearRegression()\n",
    "grid_search = GridSearchCV(model_1, param_grid, cv=5, refit='neg_mean_squared_error')\n",
    "grid_search.fit(features_train, target_train)\n",
    "predicted_train = grid_search.best_estimator_.predict(features_train)\n",
    "predicted_valid = grid_search.best_estimator_.predict(features_valid)\n",
    "\n",
    "target_1 = pd.DataFrame(target_valid).reset_index(drop=True)\n",
    "prediction_1 = pd.DataFrame(predicted_valid)\n",
    "\n",
    "\n",
    "results = quality('Регион 1').join(results) #сохранение и вывод результатов\n",
    "print(\"Параметры лучшей модели:\", grid_search.best_params_)"
   ]
  },
  {
   "cell_type": "markdown",
   "metadata": {},
   "source": [
    "Проверим нашу модель на адекватность, сравнив с исскуственной моделью."
   ]
  },
  {
   "cell_type": "code",
   "execution_count": 13,
   "metadata": {},
   "outputs": [
    {
     "name": "stdout",
     "output_type": "stream",
     "text": [
      "Стратегия модели: most_frequent\n",
      "на тренировочной выборке:    MAE - 92.640, RMSE - 102.683, средний запас сырья - 0.000\n",
      "на валидационной выборке:    MAE - 92.079, RMSE - 102.175, средний запас сырья - 0.000\n",
      "Стратегия модели: uniform\n",
      "на тренировочной выборке:    MAE - 50.930, RMSE - 62.550, средний запас сырья - 92.565\n",
      "на валидационной выборке:    MAE - 50.896, RMSE - 62.540, средний запас сырья - 92.154\n"
     ]
    }
   ],
   "source": [
    "strategies = ['most_frequent', 'uniform']\n",
    "\n",
    "for strategy in strategies:\n",
    "\n",
    "    baseline_model = DummyClassifier(strategy = strategy, random_state = 12345)\n",
    "    baseline_model.fit(features_train, target_train)\n",
    "\n",
    "    predicted_train = baseline_model.predict(features_train)\n",
    "    predicted_valid = baseline_model.predict(features_valid)\n",
    "    \n",
    "    print('Стратегия модели:', strategy)\n",
    "    quality('title')"
   ]
  },
  {
   "cell_type": "markdown",
   "metadata": {},
   "source": [
    "Проверку на адекватность наша модель прошла. "
   ]
  },
  {
   "cell_type": "markdown",
   "metadata": {},
   "source": [
    "### Регион 2"
   ]
  },
  {
   "cell_type": "markdown",
   "metadata": {},
   "source": [
    "Разобьём данные на тренировочную и валидационную."
   ]
  },
  {
   "cell_type": "code",
   "execution_count": 14,
   "metadata": {},
   "outputs": [],
   "source": [
    "target = data_2['product']\n",
    "features = data_2.drop(['product', 'id', 'region'] , axis=1)\n",
    "\n",
    "features_train, features_valid, target_train, target_valid = train_test_split(\n",
    "    features, target, test_size=0.25, random_state=12345)"
   ]
  },
  {
   "cell_type": "markdown",
   "metadata": {},
   "source": [
    "Проверим размеры полученных файлов. "
   ]
  },
  {
   "cell_type": "code",
   "execution_count": 15,
   "metadata": {},
   "outputs": [
    {
     "name": "stdout",
     "output_type": "stream",
     "text": [
      "(75000, 3) (75000,) (25000, 3) (25000,)\n"
     ]
    }
   ],
   "source": [
    "print(features_train.shape, target_train.shape, features_valid.shape, target_valid.shape)"
   ]
  },
  {
   "cell_type": "markdown",
   "metadata": {},
   "source": [
    "Приведем признаки в столбцах `'f0'`, `'f1'`, `'f2'` к единому масштабу."
   ]
  },
  {
   "cell_type": "raw",
   "metadata": {},
   "source": [
    "pd.options.mode.chained_assignment = None\n",
    "numeric = ['f0', 'f1', 'f2']\n",
    "scaler = StandardScaler()\n",
    "scaler.fit(features_train[numeric])\n",
    "features_train[numeric] = scaler.transform(features_train[numeric])\n",
    "features_valid[numeric] = scaler.transform(features_valid[numeric])"
   ]
  },
  {
   "cell_type": "markdown",
   "metadata": {},
   "source": [
    "Создадим модель."
   ]
  },
  {
   "cell_type": "code",
   "execution_count": 16,
   "metadata": {},
   "outputs": [
    {
     "name": "stdout",
     "output_type": "stream",
     "text": [
      "на тренировочной выборке:    MAE - 0.717, RMSE - 0.889, средний запас сырья - 68.859\n",
      "на валидационной выборке:    MAE - 0.719, RMSE - 0.893, средний запас сырья - 68.729\n",
      "Параметры лучшей модели: {'copy_X': True, 'fit_intercept': True, 'normalize': True}\n",
      "CPU times: total: 3.81 s\n",
      "Wall time: 636 ms\n"
     ]
    }
   ],
   "source": [
    "%%time\n",
    "\n",
    "param_grid = {'fit_intercept':[True,False],\n",
    "              'normalize':[True,False],\n",
    "              'copy_X':[True, False]\n",
    "}\n",
    "\n",
    "model_2 = LinearRegression()\n",
    "grid_search = GridSearchCV(model_2, param_grid, cv=5, refit='neg_mean_squared_error')\n",
    "grid_search.fit(features_train, target_train)\n",
    "predicted_train = grid_search.best_estimator_.predict(features_train)\n",
    "predicted_valid = grid_search.best_estimator_.predict(features_valid)\n",
    "\n",
    "target_2 = pd.DataFrame(target_valid).reset_index(drop=True)\n",
    "prediction_2 = pd.DataFrame(predicted_valid)\n",
    "\n",
    "results = pd.concat([results, quality('Регион 2')], axis=0, ignore_index=False)#сохранение и вывод результатов\n",
    "print(\"Параметры лучшей модели:\", grid_search.best_params_)"
   ]
  },
  {
   "cell_type": "markdown",
   "metadata": {},
   "source": [
    "Проверим нашу модель на адекватность, сравнив с исскуственной моделью."
   ]
  },
  {
   "cell_type": "code",
   "execution_count": 17,
   "metadata": {},
   "outputs": [
    {
     "name": "stdout",
     "output_type": "stream",
     "text": [
      "Стратегия модели: most_frequent\n",
      "на тренировочной выборке:    MAE - 40.841, RMSE - 48.363, средний запас сырья - 84.039\n",
      "на валидационной выборке:    MAE - 41.038, RMSE - 48.503, средний запас сырья - 84.039\n",
      "Стратегия модели: uniform\n",
      "на тренировочной выборке:    MAE - 52.498, RMSE - 64.945, средний запас сырья - 68.893\n",
      "на валидационной выборке:    MAE - 52.797, RMSE - 65.149, средний запас сырья - 68.944\n"
     ]
    }
   ],
   "source": [
    "strategies = ['most_frequent', 'uniform']\n",
    "\n",
    "for strategy in strategies:\n",
    "\n",
    "    baseline_model = DummyClassifier(strategy = strategy, random_state = 12345)\n",
    "    baseline_model.fit(features_train, target_train)\n",
    "\n",
    "    predicted_train = baseline_model.predict(features_train)\n",
    "    predicted_valid = baseline_model.predict(features_valid)\n",
    "    \n",
    "    print('Стратегия модели:', strategy)\n",
    "    quality('title')"
   ]
  },
  {
   "cell_type": "markdown",
   "metadata": {},
   "source": [
    "Проверку на адекватность наша модель прошла. "
   ]
  },
  {
   "cell_type": "markdown",
   "metadata": {},
   "source": [
    "### Регион 3"
   ]
  },
  {
   "cell_type": "markdown",
   "metadata": {},
   "source": [
    "Разобьём данные на тренировочную и валидационную. "
   ]
  },
  {
   "cell_type": "code",
   "execution_count": 18,
   "metadata": {},
   "outputs": [],
   "source": [
    "target = data_3['product']\n",
    "features = data_3.drop(['product', 'id', 'region'] , axis=1)\n",
    "\n",
    "features_train, features_valid, target_train, target_valid = train_test_split(\n",
    "    features, target, test_size=0.25, random_state=12345)"
   ]
  },
  {
   "cell_type": "markdown",
   "metadata": {},
   "source": [
    "Проверим размеры полученных файлов. "
   ]
  },
  {
   "cell_type": "code",
   "execution_count": 19,
   "metadata": {},
   "outputs": [
    {
     "name": "stdout",
     "output_type": "stream",
     "text": [
      "(75000, 3) (75000,) (25000, 3) (25000,)\n"
     ]
    }
   ],
   "source": [
    "print(features_train.shape, target_train.shape, features_valid.shape, target_valid.shape)"
   ]
  },
  {
   "cell_type": "markdown",
   "metadata": {},
   "source": [
    "Приведем признаки в столбцах `'f0'`, `'f1'`, `'f2'` к единому масштабу."
   ]
  },
  {
   "cell_type": "raw",
   "metadata": {},
   "source": [
    "pd.options.mode.chained_assignment = None\n",
    "numeric = ['f0', 'f1', 'f2']\n",
    "scaler = StandardScaler()\n",
    "scaler.fit(features_train[numeric])\n",
    "features_train[numeric] = scaler.transform(features_train[numeric])\n",
    "features_valid[numeric] = scaler.transform(features_valid[numeric])"
   ]
  },
  {
   "cell_type": "markdown",
   "metadata": {},
   "source": [
    "Создадим модель."
   ]
  },
  {
   "cell_type": "code",
   "execution_count": 20,
   "metadata": {},
   "outputs": [
    {
     "name": "stdout",
     "output_type": "stream",
     "text": [
      "на тренировочной выборке:    MAE - 32.839, RMSE - 40.064, средний запас сырья - 95.039\n",
      "на валидационной выборке:    MAE - 32.793, RMSE - 40.030, средний запас сырья - 94.965\n",
      "Параметры лучшей модели: {'copy_X': True, 'fit_intercept': True, 'normalize': True}\n",
      "CPU times: total: 3.8 s\n",
      "Wall time: 636 ms\n"
     ]
    }
   ],
   "source": [
    "%%time\n",
    "\n",
    "param_grid = {'fit_intercept':[True,False],\n",
    "              'normalize':[True,False],\n",
    "              'copy_X':[True, False]\n",
    "}\n",
    "\n",
    "model_3 = LinearRegression()\n",
    "grid_search = GridSearchCV(model_3, param_grid, cv=5, refit='neg_mean_squared_error')\n",
    "grid_search.fit(features_train, target_train)\n",
    "predicted_train = grid_search.best_estimator_.predict(features_train)\n",
    "predicted_valid = grid_search.best_estimator_.predict(features_valid)\n",
    "\n",
    "target_3 = pd.DataFrame(target_valid).reset_index(drop=True)\n",
    "prediction_3 = pd.DataFrame(predicted_valid)\n",
    "\n",
    "results = pd.concat([results, quality('Регион 3')], axis=0, ignore_index=False)#сохранение и вывод результатов\n",
    "print(\"Параметры лучшей модели:\", grid_search.best_params_)"
   ]
  },
  {
   "cell_type": "markdown",
   "metadata": {},
   "source": [
    "Проверим нашу модель на адекватность, сравнив с исскуственной моделью:"
   ]
  },
  {
   "cell_type": "code",
   "execution_count": 21,
   "metadata": {},
   "outputs": [
    {
     "name": "stdout",
     "output_type": "stream",
     "text": [
      "Стратегия модели: most_frequent\n",
      "на тренировочной выборке:    MAE - 95.024, RMSE - 105.012, средний запас сырья - 0.014\n",
      "на валидационной выборке:    MAE - 94.870, RMSE - 104.960, средний запас сырья - 0.014\n",
      "Стратегия модели: uniform\n",
      "на тренировочной выборке:    MAE - 51.536, RMSE - 63.340, средний запас сырья - 94.967\n",
      "на валидационной выборке:    MAE - 51.708, RMSE - 63.579, средний запас сырья - 94.552\n"
     ]
    }
   ],
   "source": [
    "strategies = ['most_frequent', 'uniform']\n",
    "\n",
    "for strategy in strategies:\n",
    "\n",
    "    baseline_model = DummyClassifier(strategy = strategy, random_state = 12345)\n",
    "    baseline_model.fit(features_train, target_train)\n",
    "\n",
    "    predicted_train = baseline_model.predict(features_train)\n",
    "    predicted_valid = baseline_model.predict(features_valid)\n",
    "    \n",
    "    print('Стратегия модели:', strategy)\n",
    "    quality('title')"
   ]
  },
  {
   "cell_type": "markdown",
   "metadata": {},
   "source": [
    "Проверку на адекватность наша модель прошла."
   ]
  },
  {
   "cell_type": "markdown",
   "metadata": {},
   "source": [
    "**Вывод**"
   ]
  },
  {
   "cell_type": "markdown",
   "metadata": {},
   "source": [
    "Результаты работы наших моделей на валидационной выборке выглядят следующим образом:"
   ]
  },
  {
   "cell_type": "code",
   "execution_count": 22,
   "metadata": {},
   "outputs": [
    {
     "data": {
      "text/html": [
       "<div>\n",
       "<style scoped>\n",
       "    .dataframe tbody tr th:only-of-type {\n",
       "        vertical-align: middle;\n",
       "    }\n",
       "\n",
       "    .dataframe tbody tr th {\n",
       "        vertical-align: top;\n",
       "    }\n",
       "\n",
       "    .dataframe thead th {\n",
       "        text-align: right;\n",
       "    }\n",
       "</style>\n",
       "<table border=\"1\" class=\"dataframe\">\n",
       "  <thead>\n",
       "    <tr style=\"text-align: right;\">\n",
       "      <th></th>\n",
       "      <th>RMSE</th>\n",
       "      <th>средний запас сырья</th>\n",
       "    </tr>\n",
       "  </thead>\n",
       "  <tbody>\n",
       "    <tr>\n",
       "      <th>Регион 1</th>\n",
       "      <td>37.579</td>\n",
       "      <td>92.593</td>\n",
       "    </tr>\n",
       "    <tr>\n",
       "      <th>Регион 2</th>\n",
       "      <td>0.893</td>\n",
       "      <td>68.729</td>\n",
       "    </tr>\n",
       "    <tr>\n",
       "      <th>Регион 3</th>\n",
       "      <td>40.030</td>\n",
       "      <td>94.965</td>\n",
       "    </tr>\n",
       "  </tbody>\n",
       "</table>\n",
       "</div>"
      ],
      "text/plain": [
       "            RMSE  средний запас сырья\n",
       "Регион 1  37.579               92.593\n",
       "Регион 2   0.893               68.729\n",
       "Регион 3  40.030               94.965"
      ]
     },
     "execution_count": 22,
     "metadata": {},
     "output_type": "execute_result"
    }
   ],
   "source": [
    "results"
   ]
  },
  {
   "cell_type": "markdown",
   "metadata": {},
   "source": [
    "Для второго региона возможна утечка целевого признака, требуется дополнительная проверка данных."
   ]
  },
  {
   "cell_type": "markdown",
   "metadata": {},
   "source": [
    "## Подготовка к расчёту прибыли"
   ]
  },
  {
   "cell_type": "markdown",
   "metadata": {},
   "source": [
    "Создадим основные константы для расчета прибыли."
   ]
  },
  {
   "cell_type": "code",
   "execution_count": 23,
   "metadata": {},
   "outputs": [],
   "source": [
    "BUDGET = 10000000000 \n",
    "PROFIT_PER_UNIT = 450000 \n",
    "COUNT = 200"
   ]
  },
  {
   "cell_type": "markdown",
   "metadata": {},
   "source": [
    "Рассчитаем средний уровень сырья, достаточный для безубыточной разработки новой скважины:"
   ]
  },
  {
   "cell_type": "code",
   "execution_count": 24,
   "metadata": {},
   "outputs": [
    {
     "name": "stdout",
     "output_type": "stream",
     "text": [
      "Cредний уровень сырья, достаточный для безубыточной разработки:      111.12\n"
     ]
    }
   ],
   "source": [
    "print(\"Cредний уровень сырья, достаточный для безубыточной разработки: \\\n",
    "     {:.2f}\".format(round(BUDGET/PROFIT_PER_UNIT/COUNT+0.01, 2))) "
   ]
  },
  {
   "cell_type": "markdown",
   "metadata": {},
   "source": [
    "Ранее полученные нами данные по среднему уровню сырья в регионах:"
   ]
  },
  {
   "cell_type": "code",
   "execution_count": 25,
   "metadata": {},
   "outputs": [
    {
     "data": {
      "text/plain": [
       "Регион 1    92.593\n",
       "Регион 2    68.729\n",
       "Регион 3    94.965\n",
       "Name: средний запас сырья, dtype: float64"
      ]
     },
     "execution_count": 25,
     "metadata": {},
     "output_type": "execute_result"
    }
   ],
   "source": [
    "results['средний запас сырья']"
   ]
  },
  {
   "cell_type": "markdown",
   "metadata": {},
   "source": [
    "**Вывод**"
   ]
  },
  {
   "cell_type": "markdown",
   "metadata": {},
   "source": [
    "Cредний уровень сырья, достаточный для безубыточной разработки - `111.12` тыс. баррелей.\n",
    "\n",
    "Средний предсказанный уровень сырья по всем трем районам ниже этого уровня."
   ]
  },
  {
   "cell_type": "markdown",
   "metadata": {},
   "source": [
    "## Расчёт прибыли и рисков "
   ]
  },
  {
   "cell_type": "markdown",
   "metadata": {},
   "source": [
    "Создадим функцию для расчета прибыли."
   ]
  },
  {
   "cell_type": "code",
   "execution_count": 26,
   "metadata": {},
   "outputs": [],
   "source": [
    "def profit(target, prediction, count):\n",
    "    sorted = prediction.sort_values(by=0, ascending=False)\n",
    "    selected = target[sorted.index][:count]\n",
    "    return (PROFIT_PER_UNIT * selected.sum()- BUDGET) / 1000000\n",
    "\n",
    "conclusion = pd.DataFrame() # для сохранения результатов"
   ]
  },
  {
   "cell_type": "markdown",
   "metadata": {},
   "source": [
    "### Регион 1"
   ]
  },
  {
   "cell_type": "markdown",
   "metadata": {},
   "source": [
    "Проведем процедуру Bootstrap."
   ]
  },
  {
   "cell_type": "code",
   "execution_count": 27,
   "metadata": {},
   "outputs": [
    {
     "name": "stdout",
     "output_type": "stream",
     "text": [
      "Средняя прибыль(млн.руб):             380.71\n",
      "Доверительный 95% интервал(млн.руб): [-126.95,879.61]\n",
      "Риск убытков: 7.20%\n"
     ]
    }
   ],
   "source": [
    "state = RandomState(12345) \n",
    "values = []\n",
    "\n",
    "for i in range(1000):\n",
    "    \n",
    "    prediction_subsample = prediction_1.sample(frac=0.02, replace=False, random_state=state)\n",
    "    target_subsample = target_1['product'][prediction_subsample.index]\n",
    "    res = profit(target_subsample, prediction_subsample, 200)\n",
    "    values.append(res)    \n",
    "values = pd.Series(values)\n",
    "loss = (values < 0).mean() # доля отрицательной прибыли\n",
    "\n",
    "lower = values.quantile(0.025)\n",
    "upper = values.quantile(0.975)\n",
    "\n",
    "mean = values.mean()\n",
    "\n",
    "interval = round(lower, 2),round(upper, 2)\n",
    "conclusion_1 = pd.DataFrame([mean, str(interval),loss*100], \\\n",
    "               index=['ср. прибыль(млн.руб)*', 'дов. 95% интервал', 'риск убытков (%)'], columns=['Регион 1']).T\n",
    "\n",
    "conclusion = pd.concat([conclusion_1, conclusion], axis=0)\n",
    "\n",
    "print(\"Средняя прибыль(млн.руб):             {:.2f}\".format(mean))\n",
    "print(\"Доверительный 95% интервал(млн.руб): [{:.2f},{:.2f}]\".format(lower,upper))\n",
    "print(\"Риск убытков: {:.2%}\".format(loss))\n"
   ]
  },
  {
   "cell_type": "markdown",
   "metadata": {},
   "source": [
    "### Регион 2"
   ]
  },
  {
   "cell_type": "markdown",
   "metadata": {},
   "source": [
    "Проведем процедуру Bootstrap."
   ]
  },
  {
   "cell_type": "code",
   "execution_count": 28,
   "metadata": {},
   "outputs": [
    {
     "name": "stdout",
     "output_type": "stream",
     "text": [
      "Средняя прибыль(млн.руб):             448.23\n",
      "Доверительный 95% интервал(млн.руб): [70.90,892.99]\n",
      "Риск убытков: 1.40%\n"
     ]
    }
   ],
   "source": [
    "state = RandomState(12345) \n",
    "values = []\n",
    "\n",
    "for i in range(1000):\n",
    "    \n",
    "    prediction_subsample = prediction_2.sample(frac=0.02, replace=False, random_state=state)\n",
    "    target_subsample = target_2['product'][prediction_subsample.index]\n",
    "    res = profit(target_subsample, prediction_subsample, 200)\n",
    "    values.append(res)    \n",
    "values = pd.Series(values)\n",
    "loss = (values < 0).mean() # доля отрицательной прибыли\n",
    "\n",
    "lower = values.quantile(0.025)\n",
    "upper = values.quantile(0.975)\n",
    "\n",
    "mean = values.mean()\n",
    "\n",
    "interval = round(lower, 2),round(upper, 2)\n",
    "conclusion_2 = pd.DataFrame([mean, str(interval),loss*100], \\\n",
    "               index=['ср. прибыль(млн.руб)*', 'дов. 95% интервал', 'риск убытков (%)'], columns=['Регион 2']).T\n",
    "\n",
    "conclusion = pd.concat([conclusion, conclusion_2], axis=0)\n",
    "\n",
    "print(\"Средняя прибыль(млн.руб):             {:.2f}\".format(mean))\n",
    "print(\"Доверительный 95% интервал(млн.руб): [{:.2f},{:.2f}]\".format(lower,upper))\n",
    "print(\"Риск убытков: {:.2%}\".format(loss))"
   ]
  },
  {
   "cell_type": "markdown",
   "metadata": {},
   "source": [
    "### Регион 3"
   ]
  },
  {
   "cell_type": "markdown",
   "metadata": {},
   "source": [
    "Проведем процедуру Bootstrap."
   ]
  },
  {
   "cell_type": "code",
   "execution_count": 29,
   "metadata": {},
   "outputs": [
    {
     "name": "stdout",
     "output_type": "stream",
     "text": [
      "Средняя прибыль(млн.руб):             402.80\n",
      "Доверительный 95% интервал(млн.руб): [-143.66,963.03]\n",
      "Риск убытков: 7.10%\n"
     ]
    }
   ],
   "source": [
    "state = RandomState(12345) \n",
    "values = []\n",
    "\n",
    "for i in range(1000):\n",
    "    \n",
    "    prediction_subsample = prediction_3.sample(frac=0.02, replace=False, random_state=state)\n",
    "    target_subsample = target_3['product'][prediction_subsample.index]\n",
    "    res = profit(target_subsample, prediction_subsample, 200)\n",
    "    values.append(res)    \n",
    "values = pd.Series(values)\n",
    "loss = (values < 0).mean() # доля отрицательной прибыли\n",
    "\n",
    "lower = values.quantile(0.025)\n",
    "upper = values.quantile(0.975)\n",
    "\n",
    "mean = values.mean()\n",
    "\n",
    "interval = round(lower, 2),round(upper, 2)\n",
    "conclusion_3 = pd.DataFrame([mean, str(interval),loss*100], \\\n",
    "               index=['ср. прибыль(млн.руб)*', 'дов. 95% интервал', 'риск убытков (%)'], columns=['Регион 3']).T\n",
    "\n",
    "conclusion = pd.concat([conclusion, conclusion_3], axis=0)\n",
    "\n",
    "print(\"Средняя прибыль(млн.руб):             {:.2f}\".format(mean))\n",
    "print(\"Доверительный 95% интервал(млн.руб): [{:.2f},{:.2f}]\".format(lower,upper))\n",
    "print(\"Риск убытков: {:.2%}\".format(loss))"
   ]
  },
  {
   "cell_type": "markdown",
   "metadata": {},
   "source": [
    "**Вывод**"
   ]
  },
  {
   "cell_type": "markdown",
   "metadata": {},
   "source": [
    "Расчетные данные по регионам выглядят следующим образом:"
   ]
  },
  {
   "cell_type": "code",
   "execution_count": 30,
   "metadata": {},
   "outputs": [
    {
     "data": {
      "text/html": [
       "<div>\n",
       "<style scoped>\n",
       "    .dataframe tbody tr th:only-of-type {\n",
       "        vertical-align: middle;\n",
       "    }\n",
       "\n",
       "    .dataframe tbody tr th {\n",
       "        vertical-align: top;\n",
       "    }\n",
       "\n",
       "    .dataframe thead th {\n",
       "        text-align: right;\n",
       "    }\n",
       "</style>\n",
       "<table border=\"1\" class=\"dataframe\">\n",
       "  <thead>\n",
       "    <tr style=\"text-align: right;\">\n",
       "      <th></th>\n",
       "      <th>ср. прибыль(млн.руб)*</th>\n",
       "      <th>дов. 95% интервал</th>\n",
       "      <th>риск убытков (%)</th>\n",
       "    </tr>\n",
       "  </thead>\n",
       "  <tbody>\n",
       "    <tr>\n",
       "      <th>Регион 1</th>\n",
       "      <td>380.710891</td>\n",
       "      <td>(-126.95, 879.61)</td>\n",
       "      <td>7.2</td>\n",
       "    </tr>\n",
       "    <tr>\n",
       "      <th>Регион 2</th>\n",
       "      <td>448.231065</td>\n",
       "      <td>(70.9, 892.99)</td>\n",
       "      <td>1.4</td>\n",
       "    </tr>\n",
       "    <tr>\n",
       "      <th>Регион 3</th>\n",
       "      <td>402.796587</td>\n",
       "      <td>(-143.66, 963.03)</td>\n",
       "      <td>7.1</td>\n",
       "    </tr>\n",
       "  </tbody>\n",
       "</table>\n",
       "</div>"
      ],
      "text/plain": [
       "         ср. прибыль(млн.руб)*  дов. 95% интервал риск убытков (%)\n",
       "Регион 1            380.710891  (-126.95, 879.61)              7.2\n",
       "Регион 2            448.231065     (70.9, 892.99)              1.4\n",
       "Регион 3            402.796587  (-143.66, 963.03)              7.1"
      ]
     },
     "execution_count": 30,
     "metadata": {},
     "output_type": "execute_result"
    }
   ],
   "source": [
    "conclusion"
   ]
  },
  {
   "cell_type": "markdown",
   "metadata": {},
   "source": [
    "`*` без учета налогов"
   ]
  },
  {
   "cell_type": "markdown",
   "metadata": {},
   "source": [
    "Вероятность убытков < 2,5% наблюдается только по Региону №2. Этот регион предлагается в качестве целевого для разработки. \n",
    "\n",
    "При этом стоит помнить, что именно в данных по Региону №2 была отмечена сильная корреляция одного из признаков с целевым. Требуется дополнительная проверка входных данных. "
   ]
  }
 ],
 "metadata": {
  "ExecuteTimeLog": [
   {
    "duration": 1420,
    "start_time": "2022-01-14T14:12:25.037Z"
   },
   {
    "duration": 11578,
    "start_time": "2022-01-14T14:12:44.480Z"
   },
   {
    "duration": 639,
    "start_time": "2022-01-14T14:13:04.825Z"
   },
   {
    "duration": 477,
    "start_time": "2022-01-14T14:15:26.659Z"
   },
   {
    "duration": 483,
    "start_time": "2022-01-14T14:15:50.187Z"
   },
   {
    "duration": 14,
    "start_time": "2022-01-14T14:16:08.483Z"
   },
   {
    "duration": 8,
    "start_time": "2022-01-14T14:16:44.060Z"
   },
   {
    "duration": 9,
    "start_time": "2022-01-14T14:17:03.139Z"
   },
   {
    "duration": 13,
    "start_time": "2022-01-14T14:17:26.372Z"
   },
   {
    "duration": 11,
    "start_time": "2022-01-14T14:17:37.644Z"
   },
   {
    "duration": 12,
    "start_time": "2022-01-14T14:17:41.299Z"
   },
   {
    "duration": 95,
    "start_time": "2022-01-14T14:25:30.003Z"
   },
   {
    "duration": 7,
    "start_time": "2022-01-14T14:29:44.973Z"
   },
   {
    "duration": 296,
    "start_time": "2022-01-14T14:36:21.791Z"
   },
   {
    "duration": 383,
    "start_time": "2022-01-14T14:38:37.042Z"
   },
   {
    "duration": 8,
    "start_time": "2022-01-14T14:38:48.234Z"
   },
   {
    "duration": 386,
    "start_time": "2022-01-14T14:39:13.402Z"
   },
   {
    "duration": 271,
    "start_time": "2022-01-14T14:39:57.146Z"
   },
   {
    "duration": 246,
    "start_time": "2022-01-14T14:41:20.050Z"
   },
   {
    "duration": 243,
    "start_time": "2022-01-14T14:41:45.386Z"
   },
   {
    "duration": 25,
    "start_time": "2022-01-14T14:46:00.778Z"
   },
   {
    "duration": 55,
    "start_time": "2022-01-14T14:46:09.203Z"
   },
   {
    "duration": 27,
    "start_time": "2022-01-14T14:46:20.003Z"
   },
   {
    "duration": 24,
    "start_time": "2022-01-14T14:46:52.515Z"
   },
   {
    "duration": 250,
    "start_time": "2022-01-14T14:47:24.139Z"
   },
   {
    "duration": 22,
    "start_time": "2022-01-14T14:49:14.196Z"
   },
   {
    "duration": 29,
    "start_time": "2022-01-14T14:49:34.332Z"
   },
   {
    "duration": 264,
    "start_time": "2022-01-14T14:49:44.292Z"
   },
   {
    "duration": 257,
    "start_time": "2022-01-14T14:49:47.812Z"
   },
   {
    "duration": 52,
    "start_time": "2022-01-14T14:52:59.285Z"
   },
   {
    "duration": 7,
    "start_time": "2022-01-14T14:52:59.902Z"
   },
   {
    "duration": 54,
    "start_time": "2022-01-14T14:53:16.647Z"
   },
   {
    "duration": 8,
    "start_time": "2022-01-14T14:53:31.958Z"
   },
   {
    "duration": 8,
    "start_time": "2022-01-14T14:53:32.398Z"
   },
   {
    "duration": 4,
    "start_time": "2022-01-14T14:53:47.495Z"
   },
   {
    "duration": 10,
    "start_time": "2022-01-14T14:53:55.261Z"
   },
   {
    "duration": 52,
    "start_time": "2022-01-14T14:54:35.158Z"
   },
   {
    "duration": 9,
    "start_time": "2022-01-14T14:54:40.894Z"
   },
   {
    "duration": 7,
    "start_time": "2022-01-14T14:54:52.671Z"
   },
   {
    "duration": 366,
    "start_time": "2022-01-14T14:55:08.055Z"
   },
   {
    "duration": 18,
    "start_time": "2022-01-14T14:56:12.927Z"
   },
   {
    "duration": 16,
    "start_time": "2022-01-14T14:56:36.224Z"
   },
   {
    "duration": 20,
    "start_time": "2022-01-14T14:59:34.848Z"
   },
   {
    "duration": 1546,
    "start_time": "2022-01-14T15:02:20.188Z"
   },
   {
    "duration": 1578,
    "start_time": "2022-01-14T15:02:33.548Z"
   },
   {
    "duration": 1557,
    "start_time": "2022-01-14T15:02:48.317Z"
   },
   {
    "duration": 3226,
    "start_time": "2022-01-14T15:03:15.700Z"
   },
   {
    "duration": 1731,
    "start_time": "2022-01-14T15:03:24.118Z"
   },
   {
    "duration": 2561,
    "start_time": "2022-01-14T15:03:35.473Z"
   },
   {
    "duration": 2667,
    "start_time": "2022-01-14T15:03:38.036Z"
   },
   {
    "duration": 2278,
    "start_time": "2022-01-14T15:03:40.705Z"
   },
   {
    "duration": 403,
    "start_time": "2022-01-14T15:03:42.985Z"
   },
   {
    "duration": 21,
    "start_time": "2022-01-14T15:03:43.390Z"
   },
   {
    "duration": 37,
    "start_time": "2022-01-14T15:03:43.413Z"
   },
   {
    "duration": 279,
    "start_time": "2022-01-14T15:18:48.858Z"
   },
   {
    "duration": 5314,
    "start_time": "2022-01-14T15:18:53.787Z"
   },
   {
    "duration": 948,
    "start_time": "2022-01-14T15:19:00.737Z"
   },
   {
    "duration": 65,
    "start_time": "2022-01-14T15:19:04.147Z"
   },
   {
    "duration": 309,
    "start_time": "2022-01-14T15:19:04.996Z"
   },
   {
    "duration": 9553,
    "start_time": "2022-01-14T15:19:14.312Z"
   },
   {
    "duration": 275,
    "start_time": "2022-01-14T15:22:37.159Z"
   },
   {
    "duration": 234,
    "start_time": "2022-01-14T15:25:01.221Z"
   },
   {
    "duration": 155,
    "start_time": "2022-01-14T15:25:06.669Z"
   },
   {
    "duration": 80,
    "start_time": "2022-01-14T15:25:59.398Z"
   },
   {
    "duration": 12,
    "start_time": "2022-01-14T15:26:06.413Z"
   },
   {
    "duration": 100,
    "start_time": "2022-01-14T15:26:09.278Z"
   },
   {
    "duration": 101,
    "start_time": "2022-01-14T15:26:11.966Z"
   },
   {
    "duration": 6451,
    "start_time": "2022-01-14T15:30:17.290Z"
   },
   {
    "duration": 6604,
    "start_time": "2022-01-14T15:31:21.947Z"
   },
   {
    "duration": 236,
    "start_time": "2022-01-14T15:37:51.407Z"
   },
   {
    "duration": 6362,
    "start_time": "2022-01-14T15:38:01.560Z"
   },
   {
    "duration": 9,
    "start_time": "2022-01-14T15:38:44.657Z"
   },
   {
    "duration": 56,
    "start_time": "2022-01-14T15:41:24.865Z"
   },
   {
    "duration": 11,
    "start_time": "2022-01-14T15:41:25.554Z"
   },
   {
    "duration": 49,
    "start_time": "2022-01-14T15:41:58.825Z"
   },
   {
    "duration": 10,
    "start_time": "2022-01-14T15:41:59.817Z"
   },
   {
    "duration": 51,
    "start_time": "2022-01-14T15:42:20.305Z"
   },
   {
    "duration": 9,
    "start_time": "2022-01-14T15:42:21.482Z"
   },
   {
    "duration": 51,
    "start_time": "2022-01-14T15:42:29.481Z"
   },
   {
    "duration": 14,
    "start_time": "2022-01-14T15:42:30.218Z"
   },
   {
    "duration": 327,
    "start_time": "2022-01-14T15:42:48.706Z"
   },
   {
    "duration": 17,
    "start_time": "2022-01-14T15:42:49.178Z"
   },
   {
    "duration": 2412,
    "start_time": "2022-01-14T15:43:07.011Z"
   },
   {
    "duration": 17986,
    "start_time": "2022-01-14T15:48:34.764Z"
   },
   {
    "duration": 18254,
    "start_time": "2022-01-14T15:52:25.670Z"
   },
   {
    "duration": 2245,
    "start_time": "2022-01-14T15:54:05.415Z"
   },
   {
    "duration": 246,
    "start_time": "2022-01-14T15:58:42.833Z"
   },
   {
    "duration": 241,
    "start_time": "2022-01-14T15:59:42.978Z"
   },
   {
    "duration": 252,
    "start_time": "2022-01-14T16:00:31.019Z"
   },
   {
    "duration": 6,
    "start_time": "2022-01-14T16:00:42.037Z"
   },
   {
    "duration": 50,
    "start_time": "2022-01-14T16:00:55.154Z"
   },
   {
    "duration": 12,
    "start_time": "2022-01-14T16:01:31.051Z"
   },
   {
    "duration": 17998,
    "start_time": "2022-01-14T16:02:02.676Z"
   },
   {
    "duration": 8869,
    "start_time": "2022-01-14T16:03:10.187Z"
   },
   {
    "duration": 8549,
    "start_time": "2022-01-14T16:03:36.557Z"
   },
   {
    "duration": 9550,
    "start_time": "2022-01-14T16:04:53.741Z"
   },
   {
    "duration": 6748,
    "start_time": "2022-01-14T16:06:22.910Z"
   },
   {
    "duration": 6873,
    "start_time": "2022-01-14T16:08:39.191Z"
   },
   {
    "duration": 5885,
    "start_time": "2022-01-14T16:13:51.469Z"
   },
   {
    "duration": 5,
    "start_time": "2022-01-14T16:20:10.842Z"
   },
   {
    "duration": 7,
    "start_time": "2022-01-14T16:22:31.771Z"
   },
   {
    "duration": 323,
    "start_time": "2022-01-14T16:32:39.779Z"
   },
   {
    "duration": 283,
    "start_time": "2022-01-14T16:32:49.732Z"
   },
   {
    "duration": 263,
    "start_time": "2022-01-14T16:33:15.693Z"
   },
   {
    "duration": 282,
    "start_time": "2022-01-14T16:33:28.909Z"
   },
   {
    "duration": 250,
    "start_time": "2022-01-14T16:35:29.811Z"
   },
   {
    "duration": 756,
    "start_time": "2022-01-14T16:42:09.910Z"
   },
   {
    "duration": 1345,
    "start_time": "2022-01-14T16:42:23.256Z"
   },
   {
    "duration": 614,
    "start_time": "2022-01-14T16:42:45.464Z"
   },
   {
    "duration": 506,
    "start_time": "2022-01-14T16:42:54.975Z"
   },
   {
    "duration": 553,
    "start_time": "2022-01-14T16:43:12.495Z"
   },
   {
    "duration": 567,
    "start_time": "2022-01-14T16:43:22.574Z"
   },
   {
    "duration": 567,
    "start_time": "2022-01-14T16:43:36.223Z"
   },
   {
    "duration": 593,
    "start_time": "2022-01-14T16:45:25.415Z"
   },
   {
    "duration": 537,
    "start_time": "2022-01-14T16:45:59.871Z"
   },
   {
    "duration": 556,
    "start_time": "2022-01-14T16:46:13.885Z"
   },
   {
    "duration": 359,
    "start_time": "2022-01-14T17:08:25.635Z"
   },
   {
    "duration": 365,
    "start_time": "2022-01-14T17:11:34.871Z"
   },
   {
    "duration": 272,
    "start_time": "2022-01-14T17:14:10.551Z"
   },
   {
    "duration": 803,
    "start_time": "2022-01-14T17:14:27.727Z"
   },
   {
    "duration": 7228,
    "start_time": "2022-01-14T17:14:47.457Z"
   },
   {
    "duration": 366,
    "start_time": "2022-01-14T17:17:47.858Z"
   },
   {
    "duration": 4,
    "start_time": "2022-01-14T17:18:30.426Z"
   },
   {
    "duration": 6,
    "start_time": "2022-01-14T17:18:35.723Z"
   },
   {
    "duration": 7062,
    "start_time": "2022-01-14T17:19:01.163Z"
   },
   {
    "duration": 364,
    "start_time": "2022-01-14T17:20:57.492Z"
   },
   {
    "duration": 9101,
    "start_time": "2022-01-14T17:21:02.742Z"
   },
   {
    "duration": 9589,
    "start_time": "2022-01-14T17:21:24.188Z"
   },
   {
    "duration": 297,
    "start_time": "2022-01-14T17:30:02.849Z"
   },
   {
    "duration": 18513,
    "start_time": "2022-01-14T17:30:17.626Z"
   },
   {
    "duration": 5096,
    "start_time": "2022-01-14T17:30:41.258Z"
   },
   {
    "duration": 53,
    "start_time": "2022-01-14T17:31:59.236Z"
   },
   {
    "duration": 328,
    "start_time": "2022-01-14T17:32:02.901Z"
   },
   {
    "duration": 13,
    "start_time": "2022-01-14T17:32:17.012Z"
   },
   {
    "duration": 12,
    "start_time": "2022-01-14T17:32:23.500Z"
   },
   {
    "duration": 13,
    "start_time": "2022-01-14T17:32:25.644Z"
   },
   {
    "duration": 4,
    "start_time": "2022-01-14T17:32:33.644Z"
   },
   {
    "duration": 12,
    "start_time": "2022-01-14T17:33:10.524Z"
   },
   {
    "duration": 5219,
    "start_time": "2022-01-14T17:34:05.269Z"
   },
   {
    "duration": 14,
    "start_time": "2022-01-14T17:34:30.167Z"
   },
   {
    "duration": 13,
    "start_time": "2022-01-14T17:34:32.685Z"
   },
   {
    "duration": 2672,
    "start_time": "2022-01-14T17:34:54.817Z"
   },
   {
    "duration": 2567,
    "start_time": "2022-01-14T17:34:57.492Z"
   },
   {
    "duration": 2927,
    "start_time": "2022-01-14T17:35:00.062Z"
   },
   {
    "duration": 2628,
    "start_time": "2022-01-14T17:35:02.991Z"
   },
   {
    "duration": 2843,
    "start_time": "2022-01-14T17:35:05.621Z"
   },
   {
    "duration": 388,
    "start_time": "2022-01-14T17:35:08.466Z"
   },
   {
    "duration": 8995,
    "start_time": "2022-01-14T17:35:08.856Z"
   },
   {
    "duration": 435,
    "start_time": "2022-01-14T17:35:17.854Z"
   },
   {
    "duration": 130,
    "start_time": "2022-01-14T17:35:18.160Z"
   },
   {
    "duration": 129,
    "start_time": "2022-01-14T17:35:18.162Z"
   },
   {
    "duration": 129,
    "start_time": "2022-01-14T17:35:18.163Z"
   },
   {
    "duration": 128,
    "start_time": "2022-01-14T17:35:18.165Z"
   },
   {
    "duration": 128,
    "start_time": "2022-01-14T17:35:18.166Z"
   },
   {
    "duration": 6372,
    "start_time": "2022-01-14T17:35:38.193Z"
   },
   {
    "duration": 558,
    "start_time": "2022-01-14T17:35:44.567Z"
   },
   {
    "duration": 44,
    "start_time": "2022-01-14T17:35:45.127Z"
   },
   {
    "duration": 23372,
    "start_time": "2022-01-14T17:35:45.173Z"
   },
   {
    "duration": 32,
    "start_time": "2022-01-14T17:38:09.027Z"
   },
   {
    "duration": 23,
    "start_time": "2022-01-14T17:38:30.708Z"
   },
   {
    "duration": 48,
    "start_time": "2022-01-14T17:38:54.305Z"
   },
   {
    "duration": 50,
    "start_time": "2022-01-14T17:43:04.375Z"
   },
   {
    "duration": 268,
    "start_time": "2022-01-14T17:43:53.254Z"
   },
   {
    "duration": 180,
    "start_time": "2022-01-14T17:45:24.920Z"
   },
   {
    "duration": 3053,
    "start_time": "2022-01-14T17:46:08.009Z"
   },
   {
    "duration": 14,
    "start_time": "2022-01-14T17:46:22.313Z"
   },
   {
    "duration": 184,
    "start_time": "2022-01-14T17:46:38.393Z"
   },
   {
    "duration": 16828,
    "start_time": "2022-01-14T17:57:07.472Z"
   },
   {
    "duration": 16099,
    "start_time": "2022-01-14T18:00:12.270Z"
   },
   {
    "duration": 15950,
    "start_time": "2022-01-14T18:01:46.199Z"
   },
   {
    "duration": 15376,
    "start_time": "2022-01-14T18:02:30.480Z"
   },
   {
    "duration": 364,
    "start_time": "2022-01-14T18:13:24.833Z"
   },
   {
    "duration": 400,
    "start_time": "2022-01-14T18:14:47.241Z"
   },
   {
    "duration": 1179,
    "start_time": "2022-01-14T18:17:14.479Z"
   },
   {
    "duration": 1183,
    "start_time": "2022-01-14T18:18:00.280Z"
   },
   {
    "duration": 1128,
    "start_time": "2022-01-14T18:18:19.159Z"
   },
   {
    "duration": 38,
    "start_time": "2022-01-14T18:20:25.070Z"
   },
   {
    "duration": 1376,
    "start_time": "2022-01-14T18:20:43.967Z"
   },
   {
    "duration": 1669,
    "start_time": "2022-01-14T18:22:24.103Z"
   },
   {
    "duration": 1766,
    "start_time": "2022-01-14T18:22:37.255Z"
   },
   {
    "duration": 1985,
    "start_time": "2022-01-14T18:23:02.167Z"
   },
   {
    "duration": 339,
    "start_time": "2022-01-14T18:23:43.326Z"
   },
   {
    "duration": 3283,
    "start_time": "2022-01-14T18:24:44.143Z"
   },
   {
    "duration": 4165,
    "start_time": "2022-01-14T18:26:34.360Z"
   },
   {
    "duration": 4338,
    "start_time": "2022-01-14T18:26:52.736Z"
   },
   {
    "duration": 4160,
    "start_time": "2022-01-14T18:28:12.560Z"
   },
   {
    "duration": 4669,
    "start_time": "2022-01-14T18:28:32.833Z"
   },
   {
    "duration": 4823,
    "start_time": "2022-01-14T18:29:58.163Z"
   },
   {
    "duration": 3,
    "start_time": "2022-01-14T18:34:45.562Z"
   },
   {
    "duration": 79,
    "start_time": "2022-01-14T18:46:54.351Z"
   },
   {
    "duration": 9278,
    "start_time": "2022-01-14T18:47:06.322Z"
   },
   {
    "duration": 2886,
    "start_time": "2022-01-14T18:50:47.626Z"
   },
   {
    "duration": 2589,
    "start_time": "2022-01-14T18:52:36.210Z"
   },
   {
    "duration": 2771,
    "start_time": "2022-01-14T18:53:34.942Z"
   },
   {
    "duration": 2493,
    "start_time": "2022-01-14T18:54:11.004Z"
   },
   {
    "duration": 48,
    "start_time": "2022-01-14T18:55:36.766Z"
   },
   {
    "duration": 7,
    "start_time": "2022-01-14T18:56:08.607Z"
   },
   {
    "duration": 7,
    "start_time": "2022-01-14T18:57:12.632Z"
   },
   {
    "duration": 4435,
    "start_time": "2022-01-14T18:57:59.017Z"
   },
   {
    "duration": 4349,
    "start_time": "2022-01-14T18:59:29.970Z"
   },
   {
    "duration": 3619,
    "start_time": "2022-01-14T18:59:46.138Z"
   },
   {
    "duration": 322,
    "start_time": "2022-01-14T19:02:17.828Z"
   },
   {
    "duration": 30,
    "start_time": "2022-01-14T19:02:54.348Z"
   },
   {
    "duration": 156,
    "start_time": "2022-01-14T19:05:19.263Z"
   },
   {
    "duration": 36,
    "start_time": "2022-01-14T19:06:12.907Z"
   },
   {
    "duration": 369,
    "start_time": "2022-01-14T19:07:23.688Z"
   },
   {
    "duration": 33,
    "start_time": "2022-01-14T19:07:25.065Z"
   },
   {
    "duration": 177,
    "start_time": "2022-01-14T19:09:11.209Z"
   },
   {
    "duration": 64,
    "start_time": "2022-01-14T19:09:12.490Z"
   },
   {
    "duration": 508,
    "start_time": "2022-01-14T19:23:35.892Z"
   },
   {
    "duration": 368,
    "start_time": "2022-01-14T19:23:51.837Z"
   },
   {
    "duration": 404,
    "start_time": "2022-01-14T19:26:54.272Z"
   },
   {
    "duration": 353,
    "start_time": "2022-01-14T19:27:42.218Z"
   },
   {
    "duration": 376,
    "start_time": "2022-01-14T19:27:51.634Z"
   },
   {
    "duration": 476,
    "start_time": "2022-01-14T19:27:58.292Z"
   },
   {
    "duration": 795,
    "start_time": "2022-01-14T19:28:07.474Z"
   },
   {
    "duration": 430,
    "start_time": "2022-01-14T19:28:58.189Z"
   },
   {
    "duration": 283,
    "start_time": "2022-01-14T19:29:35.253Z"
   },
   {
    "duration": 460,
    "start_time": "2022-01-14T19:30:31.800Z"
   },
   {
    "duration": 317,
    "start_time": "2022-01-14T19:32:41.345Z"
   },
   {
    "duration": 553,
    "start_time": "2022-01-14T19:33:03.705Z"
   },
   {
    "duration": 301,
    "start_time": "2022-01-14T19:33:19.385Z"
   },
   {
    "duration": 326,
    "start_time": "2022-01-14T19:33:52.304Z"
   },
   {
    "duration": 321,
    "start_time": "2022-01-14T19:34:07.032Z"
   },
   {
    "duration": 310,
    "start_time": "2022-01-14T19:34:16.152Z"
   },
   {
    "duration": 286,
    "start_time": "2022-01-14T19:34:33.279Z"
   },
   {
    "duration": 269,
    "start_time": "2022-01-14T19:34:49.608Z"
   },
   {
    "duration": 244,
    "start_time": "2022-01-14T19:34:59.471Z"
   },
   {
    "duration": 289,
    "start_time": "2022-01-14T19:35:09.808Z"
   },
   {
    "duration": 78,
    "start_time": "2022-01-14T19:35:20.767Z"
   },
   {
    "duration": 333,
    "start_time": "2022-01-14T19:35:27.327Z"
   },
   {
    "duration": 1308,
    "start_time": "2022-01-14T19:41:07.398Z"
   },
   {
    "duration": 283,
    "start_time": "2022-01-14T19:45:18.553Z"
   },
   {
    "duration": 418,
    "start_time": "2022-01-14T19:45:30.591Z"
   },
   {
    "duration": 436,
    "start_time": "2022-01-14T19:47:01.297Z"
   },
   {
    "duration": 3,
    "start_time": "2022-01-14T19:49:33.794Z"
   },
   {
    "duration": 25,
    "start_time": "2022-01-14T19:54:05.716Z"
   },
   {
    "duration": 4,
    "start_time": "2022-01-14T19:54:39.332Z"
   },
   {
    "duration": 22,
    "start_time": "2022-01-14T19:57:30.886Z"
   },
   {
    "duration": 4,
    "start_time": "2022-01-14T19:57:32.430Z"
   },
   {
    "duration": 14,
    "start_time": "2022-01-14T19:57:34.287Z"
   },
   {
    "duration": 307,
    "start_time": "2022-01-14T20:00:59.496Z"
   },
   {
    "duration": 163,
    "start_time": "2022-01-14T20:01:13.585Z"
   },
   {
    "duration": 249,
    "start_time": "2022-01-14T20:02:11.866Z"
   },
   {
    "duration": 155,
    "start_time": "2022-01-14T20:02:21.890Z"
   },
   {
    "duration": 248,
    "start_time": "2022-01-14T20:06:15.495Z"
   },
   {
    "duration": 187,
    "start_time": "2022-01-14T20:06:27.860Z"
   },
   {
    "duration": 195,
    "start_time": "2022-01-14T20:09:19.350Z"
   },
   {
    "duration": 160,
    "start_time": "2022-01-14T20:10:25.184Z"
   },
   {
    "duration": 203,
    "start_time": "2022-01-14T20:10:55.938Z"
   },
   {
    "duration": 237,
    "start_time": "2022-01-14T20:21:58.753Z"
   },
   {
    "duration": 8,
    "start_time": "2022-01-14T20:23:09.820Z"
   },
   {
    "duration": 303,
    "start_time": "2022-01-14T20:23:25.997Z"
   },
   {
    "duration": 303,
    "start_time": "2022-01-14T20:24:38.995Z"
   },
   {
    "duration": 14,
    "start_time": "2022-01-14T20:26:04.922Z"
   },
   {
    "duration": 159,
    "start_time": "2022-01-14T20:26:05.685Z"
   },
   {
    "duration": 399,
    "start_time": "2022-01-14T20:26:08.857Z"
   },
   {
    "duration": 288,
    "start_time": "2022-01-14T20:27:12.818Z"
   },
   {
    "duration": 3,
    "start_time": "2022-01-14T20:28:00.177Z"
   },
   {
    "duration": 5,
    "start_time": "2022-01-14T20:28:05.951Z"
   },
   {
    "duration": 296,
    "start_time": "2022-01-14T20:28:17.541Z"
   },
   {
    "duration": 64,
    "start_time": "2022-01-14T20:28:54.146Z"
   },
   {
    "duration": 2484,
    "start_time": "2022-01-14T20:34:44.694Z"
   },
   {
    "duration": 2616,
    "start_time": "2022-01-14T20:34:47.180Z"
   },
   {
    "duration": 2838,
    "start_time": "2022-01-14T20:34:49.801Z"
   },
   {
    "duration": 2808,
    "start_time": "2022-01-14T20:34:52.641Z"
   },
   {
    "duration": 2653,
    "start_time": "2022-01-14T20:34:55.451Z"
   },
   {
    "duration": 718,
    "start_time": "2022-01-14T20:34:58.106Z"
   },
   {
    "duration": 249,
    "start_time": "2022-01-14T20:34:58.578Z"
   },
   {
    "duration": 247,
    "start_time": "2022-01-14T20:34:58.581Z"
   },
   {
    "duration": 241,
    "start_time": "2022-01-14T20:34:58.587Z"
   },
   {
    "duration": 239,
    "start_time": "2022-01-14T20:34:58.590Z"
   },
   {
    "duration": 237,
    "start_time": "2022-01-14T20:34:58.593Z"
   },
   {
    "duration": 236,
    "start_time": "2022-01-14T20:34:58.595Z"
   },
   {
    "duration": 234,
    "start_time": "2022-01-14T20:34:58.598Z"
   },
   {
    "duration": 230,
    "start_time": "2022-01-14T20:34:58.603Z"
   },
   {
    "duration": 227,
    "start_time": "2022-01-14T20:34:58.606Z"
   },
   {
    "duration": 225,
    "start_time": "2022-01-14T20:34:58.609Z"
   },
   {
    "duration": 223,
    "start_time": "2022-01-14T20:34:58.612Z"
   },
   {
    "duration": 221,
    "start_time": "2022-01-14T20:34:58.615Z"
   },
   {
    "duration": 216,
    "start_time": "2022-01-14T20:34:58.620Z"
   },
   {
    "duration": 214,
    "start_time": "2022-01-14T20:34:58.623Z"
   },
   {
    "duration": 213,
    "start_time": "2022-01-14T20:34:58.625Z"
   },
   {
    "duration": 211,
    "start_time": "2022-01-14T20:34:58.628Z"
   },
   {
    "duration": 209,
    "start_time": "2022-01-14T20:34:58.631Z"
   },
   {
    "duration": 204,
    "start_time": "2022-01-14T20:34:58.637Z"
   },
   {
    "duration": 201,
    "start_time": "2022-01-14T20:34:58.640Z"
   },
   {
    "duration": 200,
    "start_time": "2022-01-14T20:34:58.642Z"
   },
   {
    "duration": 198,
    "start_time": "2022-01-14T20:34:58.645Z"
   },
   {
    "duration": 197,
    "start_time": "2022-01-14T20:34:58.647Z"
   },
   {
    "duration": 192,
    "start_time": "2022-01-14T20:34:58.653Z"
   },
   {
    "duration": 2483,
    "start_time": "2022-01-14T20:35:44.165Z"
   },
   {
    "duration": 2450,
    "start_time": "2022-01-14T20:35:46.651Z"
   },
   {
    "duration": 2671,
    "start_time": "2022-01-14T20:35:49.106Z"
   },
   {
    "duration": 2900,
    "start_time": "2022-01-14T20:35:51.779Z"
   },
   {
    "duration": 2666,
    "start_time": "2022-01-14T20:35:54.681Z"
   },
   {
    "duration": 364,
    "start_time": "2022-01-14T20:35:57.349Z"
   },
   {
    "duration": 201,
    "start_time": "2022-01-14T20:35:57.715Z"
   },
   {
    "duration": 56,
    "start_time": "2022-01-14T20:35:57.918Z"
   },
   {
    "duration": 32,
    "start_time": "2022-01-14T20:35:57.975Z"
   },
   {
    "duration": 3085,
    "start_time": "2022-01-14T20:35:58.008Z"
   },
   {
    "duration": 726,
    "start_time": "2022-01-14T20:36:01.095Z"
   },
   {
    "duration": 29,
    "start_time": "2022-01-14T20:36:01.823Z"
   },
   {
    "duration": 4,
    "start_time": "2022-01-14T20:36:01.853Z"
   },
   {
    "duration": 28,
    "start_time": "2022-01-14T20:36:01.859Z"
   },
   {
    "duration": 252,
    "start_time": "2022-01-14T20:36:01.889Z"
   },
   {
    "duration": 3,
    "start_time": "2022-01-14T20:36:02.143Z"
   },
   {
    "duration": 1129,
    "start_time": "2022-01-14T20:36:02.148Z"
   },
   {
    "duration": 244,
    "start_time": "2022-01-14T20:36:03.035Z"
   },
   {
    "duration": 242,
    "start_time": "2022-01-14T20:36:03.038Z"
   },
   {
    "duration": 240,
    "start_time": "2022-01-14T20:36:03.040Z"
   },
   {
    "duration": 238,
    "start_time": "2022-01-14T20:36:03.043Z"
   },
   {
    "duration": 236,
    "start_time": "2022-01-14T20:36:03.046Z"
   },
   {
    "duration": 230,
    "start_time": "2022-01-14T20:36:03.053Z"
   },
   {
    "duration": 229,
    "start_time": "2022-01-14T20:36:03.055Z"
   },
   {
    "duration": 227,
    "start_time": "2022-01-14T20:36:03.058Z"
   },
   {
    "duration": 225,
    "start_time": "2022-01-14T20:36:03.061Z"
   },
   {
    "duration": 222,
    "start_time": "2022-01-14T20:36:03.065Z"
   },
   {
    "duration": 217,
    "start_time": "2022-01-14T20:36:03.071Z"
   },
   {
    "duration": 216,
    "start_time": "2022-01-14T20:36:03.073Z"
   },
   {
    "duration": 956,
    "start_time": "2022-01-14T20:39:30.542Z"
   },
   {
    "duration": 1194,
    "start_time": "2022-01-14T20:39:50.765Z"
   },
   {
    "duration": 323,
    "start_time": "2022-01-14T20:40:04.726Z"
   },
   {
    "duration": 23,
    "start_time": "2022-01-14T20:40:46.077Z"
   },
   {
    "duration": 24,
    "start_time": "2022-01-14T20:40:48.292Z"
   },
   {
    "duration": 922,
    "start_time": "2022-01-14T20:40:53.422Z"
   },
   {
    "duration": 962,
    "start_time": "2022-01-14T20:40:58.556Z"
   },
   {
    "duration": 24,
    "start_time": "2022-01-14T20:41:09.541Z"
   },
   {
    "duration": 23,
    "start_time": "2022-01-14T20:41:12.181Z"
   },
   {
    "duration": 25,
    "start_time": "2022-01-14T20:41:16.388Z"
   },
   {
    "duration": 1003,
    "start_time": "2022-01-14T20:43:03.412Z"
   },
   {
    "duration": 3,
    "start_time": "2022-01-14T20:43:58.229Z"
   },
   {
    "duration": 5,
    "start_time": "2022-01-14T20:44:32.661Z"
   },
   {
    "duration": 4,
    "start_time": "2022-01-14T20:44:43.070Z"
   },
   {
    "duration": 17,
    "start_time": "2022-01-14T20:45:12.133Z"
   },
   {
    "duration": 19,
    "start_time": "2022-01-14T20:45:43.861Z"
   },
   {
    "duration": 20,
    "start_time": "2022-01-14T20:45:52.166Z"
   },
   {
    "duration": 4,
    "start_time": "2022-01-14T20:45:54.405Z"
   },
   {
    "duration": 15,
    "start_time": "2022-01-14T20:45:57.525Z"
   },
   {
    "duration": 17,
    "start_time": "2022-01-14T20:46:00.040Z"
   },
   {
    "duration": 3,
    "start_time": "2022-01-14T20:46:09.743Z"
   },
   {
    "duration": 261,
    "start_time": "2022-01-14T20:46:49.557Z"
   },
   {
    "duration": 10,
    "start_time": "2022-01-14T20:46:59.253Z"
   },
   {
    "duration": 12,
    "start_time": "2022-01-14T20:47:29.142Z"
   },
   {
    "duration": 15,
    "start_time": "2022-01-14T20:48:28.958Z"
   },
   {
    "duration": 1478,
    "start_time": "2022-01-14T20:50:14.400Z"
   },
   {
    "duration": 972,
    "start_time": "2022-01-14T20:50:33.859Z"
   },
   {
    "duration": 16,
    "start_time": "2022-01-14T20:50:52.583Z"
   },
   {
    "duration": 35,
    "start_time": "2022-01-14T20:51:02.240Z"
   },
   {
    "duration": 31,
    "start_time": "2022-01-14T20:51:49.328Z"
   },
   {
    "duration": 2606,
    "start_time": "2022-01-14T20:52:37.401Z"
   },
   {
    "duration": 2777,
    "start_time": "2022-01-14T20:52:40.012Z"
   },
   {
    "duration": 2804,
    "start_time": "2022-01-14T20:52:42.791Z"
   },
   {
    "duration": 2603,
    "start_time": "2022-01-14T20:52:45.597Z"
   },
   {
    "duration": 2870,
    "start_time": "2022-01-14T20:52:48.202Z"
   },
   {
    "duration": 403,
    "start_time": "2022-01-14T20:52:51.074Z"
   },
   {
    "duration": 222,
    "start_time": "2022-01-14T20:52:51.479Z"
   },
   {
    "duration": 63,
    "start_time": "2022-01-14T20:52:51.703Z"
   },
   {
    "duration": 32,
    "start_time": "2022-01-14T20:52:51.768Z"
   },
   {
    "duration": 3319,
    "start_time": "2022-01-14T20:52:51.802Z"
   },
   {
    "duration": 689,
    "start_time": "2022-01-14T20:52:55.123Z"
   },
   {
    "duration": 32,
    "start_time": "2022-01-14T20:52:55.814Z"
   },
   {
    "duration": 9,
    "start_time": "2022-01-14T20:52:55.848Z"
   },
   {
    "duration": 16,
    "start_time": "2022-01-14T20:52:55.858Z"
   },
   {
    "duration": 76,
    "start_time": "2022-01-14T20:52:55.875Z"
   },
   {
    "duration": 124,
    "start_time": "2022-01-14T20:52:55.953Z"
   },
   {
    "duration": 25,
    "start_time": "2022-01-14T20:52:56.079Z"
   },
   {
    "duration": 3,
    "start_time": "2022-01-14T20:52:56.106Z"
   },
   {
    "duration": 20,
    "start_time": "2022-01-14T20:52:56.110Z"
   },
   {
    "duration": 201,
    "start_time": "2022-01-14T20:52:56.141Z"
   },
   {
    "duration": 6,
    "start_time": "2022-01-14T20:52:56.347Z"
   },
   {
    "duration": 122,
    "start_time": "2022-01-14T20:52:56.355Z"
   },
   {
    "duration": 25,
    "start_time": "2022-01-14T20:52:56.479Z"
   },
   {
    "duration": 3,
    "start_time": "2022-01-14T20:52:56.506Z"
   },
   {
    "duration": 15,
    "start_time": "2022-01-14T20:52:56.511Z"
   },
   {
    "duration": 119,
    "start_time": "2022-01-14T20:52:56.529Z"
   },
   {
    "duration": 3,
    "start_time": "2022-01-14T20:52:56.650Z"
   },
   {
    "duration": 228,
    "start_time": "2022-01-14T20:52:56.655Z"
   },
   {
    "duration": 2678,
    "start_time": "2022-01-14T20:55:25.514Z"
   },
   {
    "duration": 2516,
    "start_time": "2022-01-14T20:55:28.194Z"
   },
   {
    "duration": 2761,
    "start_time": "2022-01-14T20:55:30.713Z"
   },
   {
    "duration": 2794,
    "start_time": "2022-01-14T20:55:33.477Z"
   },
   {
    "duration": 2734,
    "start_time": "2022-01-14T20:55:36.273Z"
   },
   {
    "duration": 386,
    "start_time": "2022-01-14T20:55:39.009Z"
   },
   {
    "duration": 211,
    "start_time": "2022-01-14T20:55:39.397Z"
   },
   {
    "duration": 62,
    "start_time": "2022-01-14T20:55:39.610Z"
   },
   {
    "duration": 48,
    "start_time": "2022-01-14T20:55:39.674Z"
   },
   {
    "duration": 3271,
    "start_time": "2022-01-14T20:55:39.724Z"
   },
   {
    "duration": 719,
    "start_time": "2022-01-14T20:55:42.997Z"
   },
   {
    "duration": 46,
    "start_time": "2022-01-14T20:55:43.718Z"
   },
   {
    "duration": 15,
    "start_time": "2022-01-14T20:55:43.766Z"
   },
   {
    "duration": 26,
    "start_time": "2022-01-14T20:55:43.783Z"
   },
   {
    "duration": 44,
    "start_time": "2022-01-14T20:55:43.810Z"
   },
   {
    "duration": 201,
    "start_time": "2022-01-14T20:55:43.856Z"
   },
   {
    "duration": 29,
    "start_time": "2022-01-14T20:55:44.059Z"
   },
   {
    "duration": 5,
    "start_time": "2022-01-14T20:55:44.090Z"
   },
   {
    "duration": 469,
    "start_time": "2022-01-14T20:55:44.097Z"
   },
   {
    "duration": 247,
    "start_time": "2022-01-14T20:55:44.322Z"
   },
   {
    "duration": 245,
    "start_time": "2022-01-14T20:55:44.325Z"
   },
   {
    "duration": 243,
    "start_time": "2022-01-14T20:55:44.328Z"
   },
   {
    "duration": 238,
    "start_time": "2022-01-14T20:55:44.334Z"
   },
   {
    "duration": 235,
    "start_time": "2022-01-14T20:55:44.338Z"
   },
   {
    "duration": 233,
    "start_time": "2022-01-14T20:55:44.341Z"
   },
   {
    "duration": 230,
    "start_time": "2022-01-14T20:55:44.345Z"
   },
   {
    "duration": 228,
    "start_time": "2022-01-14T20:55:44.348Z"
   },
   {
    "duration": 225,
    "start_time": "2022-01-14T20:55:44.352Z"
   },
   {
    "duration": 12,
    "start_time": "2022-01-14T20:56:28.023Z"
   },
   {
    "duration": 2625,
    "start_time": "2022-01-14T20:57:31.086Z"
   },
   {
    "duration": 2765,
    "start_time": "2022-01-14T20:57:33.713Z"
   },
   {
    "duration": 2785,
    "start_time": "2022-01-14T20:57:36.481Z"
   },
   {
    "duration": 2574,
    "start_time": "2022-01-14T20:57:39.268Z"
   },
   {
    "duration": 2839,
    "start_time": "2022-01-14T20:57:41.844Z"
   },
   {
    "duration": 415,
    "start_time": "2022-01-14T20:57:44.684Z"
   },
   {
    "duration": 243,
    "start_time": "2022-01-14T20:57:45.101Z"
   },
   {
    "duration": 62,
    "start_time": "2022-01-14T20:57:45.348Z"
   },
   {
    "duration": 59,
    "start_time": "2022-01-14T20:57:45.412Z"
   },
   {
    "duration": 3325,
    "start_time": "2022-01-14T20:57:45.474Z"
   },
   {
    "duration": 808,
    "start_time": "2022-01-14T20:57:48.801Z"
   },
   {
    "duration": 47,
    "start_time": "2022-01-14T20:57:49.611Z"
   },
   {
    "duration": 4,
    "start_time": "2022-01-14T20:57:49.660Z"
   },
   {
    "duration": 15,
    "start_time": "2022-01-14T20:57:49.666Z"
   },
   {
    "duration": 63,
    "start_time": "2022-01-14T20:57:49.683Z"
   },
   {
    "duration": 115,
    "start_time": "2022-01-14T20:57:49.748Z"
   },
   {
    "duration": 21,
    "start_time": "2022-01-14T20:57:49.865Z"
   },
   {
    "duration": 4,
    "start_time": "2022-01-14T20:57:49.887Z"
   },
   {
    "duration": 15,
    "start_time": "2022-01-14T20:57:49.893Z"
   },
   {
    "duration": 48,
    "start_time": "2022-01-14T20:57:49.909Z"
   },
   {
    "duration": 83,
    "start_time": "2022-01-14T20:57:49.960Z"
   },
   {
    "duration": 132,
    "start_time": "2022-01-14T20:57:50.046Z"
   },
   {
    "duration": 24,
    "start_time": "2022-01-14T20:57:50.181Z"
   },
   {
    "duration": 4,
    "start_time": "2022-01-14T20:57:50.207Z"
   },
   {
    "duration": 16,
    "start_time": "2022-01-14T20:57:50.214Z"
   },
   {
    "duration": 22,
    "start_time": "2022-01-14T20:57:50.240Z"
   },
   {
    "duration": 82,
    "start_time": "2022-01-14T20:57:50.264Z"
   },
   {
    "duration": 133,
    "start_time": "2022-01-14T20:57:50.348Z"
   },
   {
    "duration": 24,
    "start_time": "2022-01-14T21:00:55.137Z"
   },
   {
    "duration": 4,
    "start_time": "2022-01-14T21:00:58.104Z"
   },
   {
    "duration": 75,
    "start_time": "2022-01-14T21:01:05.579Z"
   },
   {
    "duration": 15,
    "start_time": "2022-01-14T21:01:12.052Z"
   },
   {
    "duration": 16,
    "start_time": "2022-01-14T21:01:12.774Z"
   },
   {
    "duration": 294,
    "start_time": "2022-01-15T10:54:36.163Z"
   },
   {
    "duration": 269,
    "start_time": "2022-01-15T10:54:46.547Z"
   },
   {
    "duration": 1379,
    "start_time": "2022-01-15T10:54:50.282Z"
   },
   {
    "duration": 133,
    "start_time": "2022-01-15T10:55:09.998Z"
   },
   {
    "duration": 391,
    "start_time": "2022-01-15T10:55:12.307Z"
   },
   {
    "duration": 167,
    "start_time": "2022-01-15T10:55:17.181Z"
   },
   {
    "duration": 55,
    "start_time": "2022-01-15T10:55:17.687Z"
   },
   {
    "duration": 28,
    "start_time": "2022-01-15T10:55:18.372Z"
   },
   {
    "duration": 18,
    "start_time": "2022-01-15T10:55:26.669Z"
   },
   {
    "duration": 4,
    "start_time": "2022-01-15T10:55:28.900Z"
   },
   {
    "duration": 18,
    "start_time": "2022-01-15T10:55:49.188Z"
   },
   {
    "duration": 4,
    "start_time": "2022-01-15T10:55:51.283Z"
   },
   {
    "duration": 9,
    "start_time": "2022-01-15T10:56:41.549Z"
   },
   {
    "duration": 5,
    "start_time": "2022-01-15T10:56:53.061Z"
   },
   {
    "duration": 8,
    "start_time": "2022-01-15T10:57:03.973Z"
   },
   {
    "duration": 5,
    "start_time": "2022-01-15T10:57:11.445Z"
   },
   {
    "duration": 7,
    "start_time": "2022-01-15T10:57:33.509Z"
   },
   {
    "duration": 5,
    "start_time": "2022-01-15T10:57:43.709Z"
   },
   {
    "duration": 16,
    "start_time": "2022-01-15T11:04:59.275Z"
   },
   {
    "duration": 18,
    "start_time": "2022-01-15T11:05:34.474Z"
   },
   {
    "duration": 4,
    "start_time": "2022-01-15T11:05:36.290Z"
   },
   {
    "duration": 17,
    "start_time": "2022-01-15T11:05:54.010Z"
   },
   {
    "duration": 18,
    "start_time": "2022-01-15T11:06:20.994Z"
   },
   {
    "duration": 16,
    "start_time": "2022-01-15T11:06:46.339Z"
   },
   {
    "duration": 17,
    "start_time": "2022-01-15T11:09:08.601Z"
   },
   {
    "duration": 3,
    "start_time": "2022-01-15T11:09:09.909Z"
   },
   {
    "duration": 16,
    "start_time": "2022-01-15T11:11:50.983Z"
   },
   {
    "duration": 4,
    "start_time": "2022-01-15T11:11:52.095Z"
   },
   {
    "duration": 16,
    "start_time": "2022-01-15T11:11:56.584Z"
   },
   {
    "duration": 17,
    "start_time": "2022-01-15T11:15:51.905Z"
   },
   {
    "duration": 5,
    "start_time": "2022-01-15T11:15:52.833Z"
   },
   {
    "duration": 17,
    "start_time": "2022-01-15T11:15:57.449Z"
   },
   {
    "duration": 3,
    "start_time": "2022-01-15T11:39:59.169Z"
   },
   {
    "duration": 9,
    "start_time": "2022-01-15T11:42:34.283Z"
   },
   {
    "duration": 4432,
    "start_time": "2022-01-15T11:49:12.567Z"
   },
   {
    "duration": 4468,
    "start_time": "2022-01-15T11:49:56.536Z"
   },
   {
    "duration": 100,
    "start_time": "2022-01-15T11:50:22.556Z"
   },
   {
    "duration": 4192,
    "start_time": "2022-01-15T11:50:32.416Z"
   },
   {
    "duration": 4335,
    "start_time": "2022-01-15T11:51:04.864Z"
   },
   {
    "duration": 4,
    "start_time": "2022-01-15T12:00:15.932Z"
   },
   {
    "duration": 4513,
    "start_time": "2022-01-15T12:00:22.687Z"
   },
   {
    "duration": 4400,
    "start_time": "2022-01-15T12:00:53.399Z"
   },
   {
    "duration": 33,
    "start_time": "2022-01-15T12:05:58.011Z"
   },
   {
    "duration": 37,
    "start_time": "2022-01-15T12:06:31.813Z"
   },
   {
    "duration": 38,
    "start_time": "2022-01-15T12:06:56.052Z"
   },
   {
    "duration": 4352,
    "start_time": "2022-01-15T12:07:43.149Z"
   },
   {
    "duration": 4459,
    "start_time": "2022-01-15T12:07:57.541Z"
   },
   {
    "duration": 137790,
    "start_time": "2022-01-15T12:16:24.914Z"
   },
   {
    "duration": 1183,
    "start_time": "2022-01-15T12:18:42.706Z"
   },
   {
    "duration": 381,
    "start_time": "2022-01-15T12:18:43.891Z"
   },
   {
    "duration": 176,
    "start_time": "2022-01-15T12:18:44.274Z"
   },
   {
    "duration": 54,
    "start_time": "2022-01-15T12:18:44.452Z"
   },
   {
    "duration": 30,
    "start_time": "2022-01-15T12:18:44.508Z"
   },
   {
    "duration": 4571,
    "start_time": "2022-01-15T12:18:44.541Z"
   },
   {
    "duration": 581,
    "start_time": "2022-01-15T12:18:49.115Z"
   },
   {
    "duration": 16,
    "start_time": "2022-01-15T12:18:49.699Z"
   },
   {
    "duration": 11,
    "start_time": "2022-01-15T12:18:49.717Z"
   },
   {
    "duration": 20,
    "start_time": "2022-01-15T12:18:49.730Z"
   },
   {
    "duration": 4818,
    "start_time": "2022-01-15T12:18:49.752Z"
   },
   {
    "duration": 276,
    "start_time": "2022-01-15T12:18:54.572Z"
   },
   {
    "duration": 301,
    "start_time": "2022-01-15T12:18:54.549Z"
   },
   {
    "duration": 298,
    "start_time": "2022-01-15T12:18:54.553Z"
   },
   {
    "duration": 296,
    "start_time": "2022-01-15T12:18:54.556Z"
   },
   {
    "duration": 293,
    "start_time": "2022-01-15T12:18:54.560Z"
   },
   {
    "duration": 291,
    "start_time": "2022-01-15T12:18:54.564Z"
   },
   {
    "duration": 288,
    "start_time": "2022-01-15T12:18:54.568Z"
   },
   {
    "duration": 285,
    "start_time": "2022-01-15T12:18:54.572Z"
   },
   {
    "duration": 282,
    "start_time": "2022-01-15T12:18:54.576Z"
   },
   {
    "duration": 280,
    "start_time": "2022-01-15T12:18:54.579Z"
   },
   {
    "duration": 277,
    "start_time": "2022-01-15T12:18:54.583Z"
   },
   {
    "duration": 274,
    "start_time": "2022-01-15T12:18:54.587Z"
   },
   {
    "duration": 6,
    "start_time": "2022-01-15T12:21:17.641Z"
   },
   {
    "duration": 90335,
    "start_time": "2022-01-15T12:21:23.012Z"
   },
   {
    "duration": 1123,
    "start_time": "2022-01-15T12:22:53.351Z"
   },
   {
    "duration": 389,
    "start_time": "2022-01-15T12:22:54.479Z"
   },
   {
    "duration": 172,
    "start_time": "2022-01-15T12:22:54.869Z"
   },
   {
    "duration": 57,
    "start_time": "2022-01-15T12:22:55.043Z"
   },
   {
    "duration": 29,
    "start_time": "2022-01-15T12:22:55.101Z"
   },
   {
    "duration": 4554,
    "start_time": "2022-01-15T12:22:55.132Z"
   },
   {
    "duration": 626,
    "start_time": "2022-01-15T12:22:59.688Z"
   },
   {
    "duration": 16,
    "start_time": "2022-01-15T12:23:00.316Z"
   },
   {
    "duration": 5,
    "start_time": "2022-01-15T12:23:00.334Z"
   },
   {
    "duration": 24,
    "start_time": "2022-01-15T12:23:00.341Z"
   },
   {
    "duration": 4633,
    "start_time": "2022-01-15T12:23:00.367Z"
   },
   {
    "duration": 129,
    "start_time": "2022-01-15T12:23:05.002Z"
   },
   {
    "duration": 16,
    "start_time": "2022-01-15T12:23:05.133Z"
   },
   {
    "duration": 3,
    "start_time": "2022-01-15T12:23:05.151Z"
   },
   {
    "duration": 42,
    "start_time": "2022-01-15T12:23:05.156Z"
   },
   {
    "duration": 4401,
    "start_time": "2022-01-15T12:23:05.200Z"
   },
   {
    "duration": 3,
    "start_time": "2022-01-15T12:23:09.698Z"
   },
   {
    "duration": 26,
    "start_time": "2022-01-15T12:23:09.703Z"
   },
   {
    "duration": 17,
    "start_time": "2022-01-15T12:23:09.730Z"
   },
   {
    "duration": 3,
    "start_time": "2022-01-15T12:23:09.749Z"
   },
   {
    "duration": 50,
    "start_time": "2022-01-15T12:23:09.755Z"
   },
   {
    "duration": 4394,
    "start_time": "2022-01-15T12:23:09.807Z"
   },
   {
    "duration": 127,
    "start_time": "2022-01-15T12:23:14.203Z"
   },
   {
    "duration": 6,
    "start_time": "2022-01-15T13:32:42.320Z"
   },
   {
    "duration": 6,
    "start_time": "2022-01-15T13:34:27.108Z"
   },
   {
    "duration": 270,
    "start_time": "2022-01-15T13:40:18.005Z"
   },
   {
    "duration": 4586,
    "start_time": "2022-01-15T13:40:53.813Z"
   },
   {
    "duration": 520,
    "start_time": "2022-01-15T13:41:09.109Z"
   },
   {
    "duration": 96,
    "start_time": "2022-01-15T13:42:31.991Z"
   },
   {
    "duration": 87,
    "start_time": "2022-01-15T13:42:39.287Z"
   },
   {
    "duration": 6,
    "start_time": "2022-01-15T13:43:08.279Z"
   },
   {
    "duration": 4568,
    "start_time": "2022-01-15T13:43:13.839Z"
   },
   {
    "duration": 499,
    "start_time": "2022-01-15T13:43:21.543Z"
   },
   {
    "duration": 6,
    "start_time": "2022-01-15T13:43:40.567Z"
   },
   {
    "duration": 4740,
    "start_time": "2022-01-15T13:44:34.064Z"
   },
   {
    "duration": 4824,
    "start_time": "2022-01-15T13:45:02.881Z"
   },
   {
    "duration": 4997,
    "start_time": "2022-01-15T13:45:17.307Z"
   },
   {
    "duration": 5086,
    "start_time": "2022-01-15T13:46:30.817Z"
   },
   {
    "duration": 177,
    "start_time": "2022-01-15T13:47:21.500Z"
   },
   {
    "duration": 4801,
    "start_time": "2022-01-15T13:47:42.399Z"
   },
   {
    "duration": 4295,
    "start_time": "2022-01-15T13:53:05.110Z"
   },
   {
    "duration": 4146,
    "start_time": "2022-01-15T13:53:29.054Z"
   },
   {
    "duration": 169,
    "start_time": "2022-01-15T14:15:33.510Z"
   },
   {
    "duration": 4298,
    "start_time": "2022-01-15T14:15:40.006Z"
   },
   {
    "duration": 4452,
    "start_time": "2022-01-15T14:16:28.653Z"
   },
   {
    "duration": 17,
    "start_time": "2022-01-15T14:17:18.670Z"
   },
   {
    "duration": 4,
    "start_time": "2022-01-15T14:17:19.805Z"
   },
   {
    "duration": 19,
    "start_time": "2022-01-15T14:17:21.813Z"
   },
   {
    "duration": 4320,
    "start_time": "2022-01-15T14:17:28.585Z"
   },
   {
    "duration": 612,
    "start_time": "2022-01-15T14:20:13.239Z"
   },
   {
    "duration": 573,
    "start_time": "2022-01-15T14:20:24.439Z"
   },
   {
    "duration": 4118,
    "start_time": "2022-01-15T14:21:28.986Z"
   },
   {
    "duration": 4020,
    "start_time": "2022-01-15T14:22:17.880Z"
   },
   {
    "duration": 564,
    "start_time": "2022-01-15T14:27:43.436Z"
   },
   {
    "duration": 6,
    "start_time": "2022-01-15T14:29:34.990Z"
   },
   {
    "duration": 4772,
    "start_time": "2022-01-15T14:29:44.230Z"
   },
   {
    "duration": 560,
    "start_time": "2022-01-15T14:29:52.358Z"
   },
   {
    "duration": 4681,
    "start_time": "2022-01-15T14:31:41.423Z"
   },
   {
    "duration": 527,
    "start_time": "2022-01-15T14:31:54.711Z"
   },
   {
    "duration": 546,
    "start_time": "2022-01-15T14:32:06.745Z"
   },
   {
    "duration": 5,
    "start_time": "2022-01-15T14:32:13.639Z"
   },
   {
    "duration": 21,
    "start_time": "2022-01-15T14:32:20.992Z"
   },
   {
    "duration": 17,
    "start_time": "2022-01-15T14:32:34.385Z"
   },
   {
    "duration": 189,
    "start_time": "2022-01-15T14:33:22.273Z"
   },
   {
    "duration": 183,
    "start_time": "2022-01-15T14:33:46.729Z"
   },
   {
    "duration": 4209,
    "start_time": "2022-01-15T14:47:27.690Z"
   },
   {
    "duration": 3,
    "start_time": "2022-01-15T15:02:05.933Z"
   },
   {
    "duration": 4405,
    "start_time": "2022-01-15T15:02:07.796Z"
   },
   {
    "duration": 3,
    "start_time": "2022-01-15T15:02:12.396Z"
   },
   {
    "duration": 2,
    "start_time": "2022-01-15T15:02:14.445Z"
   },
   {
    "duration": 5,
    "start_time": "2022-01-15T15:02:19.204Z"
   },
   {
    "duration": 4328,
    "start_time": "2022-01-15T15:03:42.581Z"
   },
   {
    "duration": 7,
    "start_time": "2022-01-15T15:03:49.366Z"
   },
   {
    "duration": 4,
    "start_time": "2022-01-15T15:04:04.662Z"
   },
   {
    "duration": 9,
    "start_time": "2022-01-15T15:04:07.205Z"
   },
   {
    "duration": 4460,
    "start_time": "2022-01-15T15:05:51.544Z"
   },
   {
    "duration": 4,
    "start_time": "2022-01-15T15:09:27.602Z"
   },
   {
    "duration": 14,
    "start_time": "2022-01-15T15:09:32.298Z"
   },
   {
    "duration": 5,
    "start_time": "2022-01-15T15:19:47.761Z"
   },
   {
    "duration": 9,
    "start_time": "2022-01-15T15:19:48.953Z"
   },
   {
    "duration": 5,
    "start_time": "2022-01-15T15:20:57.328Z"
   },
   {
    "duration": 13,
    "start_time": "2022-01-15T15:20:58.001Z"
   },
   {
    "duration": 10,
    "start_time": "2022-01-15T15:22:00.577Z"
   },
   {
    "duration": 7,
    "start_time": "2022-01-15T15:22:07.057Z"
   },
   {
    "duration": 7,
    "start_time": "2022-01-15T15:22:56.538Z"
   },
   {
    "duration": 9,
    "start_time": "2022-01-15T15:22:57.306Z"
   },
   {
    "duration": 7,
    "start_time": "2022-01-15T15:23:02.434Z"
   },
   {
    "duration": 6,
    "start_time": "2022-01-15T15:24:01.890Z"
   },
   {
    "duration": 4304,
    "start_time": "2022-01-15T15:24:25.196Z"
   },
   {
    "duration": 4695,
    "start_time": "2022-01-15T15:26:06.900Z"
   },
   {
    "duration": 4656,
    "start_time": "2022-01-15T15:26:35.749Z"
   },
   {
    "duration": 6,
    "start_time": "2022-01-15T15:26:59.044Z"
   },
   {
    "duration": 4607,
    "start_time": "2022-01-15T15:27:05.293Z"
   },
   {
    "duration": 7,
    "start_time": "2022-01-15T15:27:48.285Z"
   },
   {
    "duration": 4501,
    "start_time": "2022-01-15T15:27:52.500Z"
   },
   {
    "duration": 7,
    "start_time": "2022-01-15T15:28:49.325Z"
   },
   {
    "duration": 4643,
    "start_time": "2022-01-15T15:29:00.863Z"
   },
   {
    "duration": 39,
    "start_time": "2022-01-15T15:29:55.287Z"
   },
   {
    "duration": 39,
    "start_time": "2022-01-15T15:30:09.071Z"
   },
   {
    "duration": 105168,
    "start_time": "2022-01-15T15:32:15.785Z"
   },
   {
    "duration": 1195,
    "start_time": "2022-01-15T15:34:00.955Z"
   },
   {
    "duration": 436,
    "start_time": "2022-01-15T15:34:02.154Z"
   },
   {
    "duration": 217,
    "start_time": "2022-01-15T15:34:02.591Z"
   },
   {
    "duration": 63,
    "start_time": "2022-01-15T15:34:02.810Z"
   },
   {
    "duration": 45,
    "start_time": "2022-01-15T15:34:02.875Z"
   },
   {
    "duration": 4916,
    "start_time": "2022-01-15T15:34:02.923Z"
   },
   {
    "duration": 610,
    "start_time": "2022-01-15T15:34:07.841Z"
   },
   {
    "duration": 5,
    "start_time": "2022-01-15T15:34:08.453Z"
   },
   {
    "duration": 22,
    "start_time": "2022-01-15T15:34:08.460Z"
   },
   {
    "duration": 4,
    "start_time": "2022-01-15T15:34:08.483Z"
   },
   {
    "duration": 17,
    "start_time": "2022-01-15T15:34:08.498Z"
   },
   {
    "duration": 4690,
    "start_time": "2022-01-15T15:34:08.517Z"
   },
   {
    "duration": 37,
    "start_time": "2022-01-15T15:34:13.299Z"
   },
   {
    "duration": 17,
    "start_time": "2022-01-15T15:34:13.338Z"
   },
   {
    "duration": 3,
    "start_time": "2022-01-15T15:34:13.357Z"
   },
   {
    "duration": 45,
    "start_time": "2022-01-15T15:34:13.362Z"
   },
   {
    "duration": 3762,
    "start_time": "2022-01-15T15:34:13.409Z"
   },
   {
    "duration": 3,
    "start_time": "2022-01-15T15:34:17.173Z"
   },
   {
    "duration": 37,
    "start_time": "2022-01-15T15:34:17.178Z"
   },
   {
    "duration": 17,
    "start_time": "2022-01-15T15:34:17.216Z"
   },
   {
    "duration": 5,
    "start_time": "2022-01-15T15:34:17.236Z"
   },
   {
    "duration": 26,
    "start_time": "2022-01-15T15:34:17.244Z"
   },
   {
    "duration": 4335,
    "start_time": "2022-01-15T15:34:17.272Z"
   },
   {
    "duration": 37,
    "start_time": "2022-01-15T15:34:21.608Z"
   },
   {
    "duration": 18,
    "start_time": "2022-01-15T15:40:57.392Z"
   },
   {
    "duration": 17,
    "start_time": "2022-01-15T15:41:03.663Z"
   },
   {
    "duration": 4,
    "start_time": "2022-01-15T15:41:04.654Z"
   },
   {
    "duration": 18,
    "start_time": "2022-01-15T15:41:05.830Z"
   },
   {
    "duration": 4565,
    "start_time": "2022-01-15T15:41:08.042Z"
   },
   {
    "duration": 6,
    "start_time": "2022-01-15T15:41:58.223Z"
   },
   {
    "duration": 18,
    "start_time": "2022-01-15T15:42:04.647Z"
   },
   {
    "duration": 4,
    "start_time": "2022-01-15T15:42:05.464Z"
   },
   {
    "duration": 19,
    "start_time": "2022-01-15T15:42:06.391Z"
   },
   {
    "duration": 4327,
    "start_time": "2022-01-15T15:42:09.073Z"
   },
   {
    "duration": 40,
    "start_time": "2022-01-15T15:42:19.199Z"
   },
   {
    "duration": 19,
    "start_time": "2022-01-15T15:42:27.601Z"
   },
   {
    "duration": 5,
    "start_time": "2022-01-15T15:42:28.639Z"
   },
   {
    "duration": 4743,
    "start_time": "2022-01-15T15:42:36.361Z"
   },
   {
    "duration": 9,
    "start_time": "2022-01-15T15:42:55.999Z"
   },
   {
    "duration": 15,
    "start_time": "2022-01-15T15:43:04.240Z"
   },
   {
    "duration": 11,
    "start_time": "2022-01-15T15:44:38.162Z"
   },
   {
    "duration": 7,
    "start_time": "2022-01-15T15:44:47.273Z"
   },
   {
    "duration": 106301,
    "start_time": "2022-01-15T15:47:20.491Z"
   },
   {
    "duration": 1218,
    "start_time": "2022-01-15T15:49:06.794Z"
   },
   {
    "duration": 413,
    "start_time": "2022-01-15T15:49:08.014Z"
   },
   {
    "duration": 194,
    "start_time": "2022-01-15T15:49:08.429Z"
   },
   {
    "duration": 54,
    "start_time": "2022-01-15T15:49:08.624Z"
   },
   {
    "duration": 38,
    "start_time": "2022-01-15T15:49:08.680Z"
   },
   {
    "duration": 4829,
    "start_time": "2022-01-15T15:49:08.720Z"
   },
   {
    "duration": 660,
    "start_time": "2022-01-15T15:49:13.551Z"
   },
   {
    "duration": 6,
    "start_time": "2022-01-15T15:49:14.214Z"
   },
   {
    "duration": 21,
    "start_time": "2022-01-15T15:49:14.222Z"
   },
   {
    "duration": 4,
    "start_time": "2022-01-15T15:49:14.245Z"
   },
   {
    "duration": 22,
    "start_time": "2022-01-15T15:49:14.251Z"
   },
   {
    "duration": 4626,
    "start_time": "2022-01-15T15:49:14.275Z"
   },
   {
    "duration": 129,
    "start_time": "2022-01-15T15:49:18.904Z"
   },
   {
    "duration": 14,
    "start_time": "2022-01-15T15:49:19.035Z"
   },
   {
    "duration": 4,
    "start_time": "2022-01-15T15:49:19.051Z"
   },
   {
    "duration": 45,
    "start_time": "2022-01-15T15:49:19.057Z"
   },
   {
    "duration": 4297,
    "start_time": "2022-01-15T15:49:19.104Z"
   },
   {
    "duration": 121,
    "start_time": "2022-01-15T15:49:23.403Z"
   },
   {
    "duration": 19,
    "start_time": "2022-01-15T15:49:23.526Z"
   },
   {
    "duration": 3,
    "start_time": "2022-01-15T15:49:23.547Z"
   },
   {
    "duration": 50,
    "start_time": "2022-01-15T15:49:23.552Z"
   },
   {
    "duration": 4601,
    "start_time": "2022-01-15T15:49:23.605Z"
   },
   {
    "duration": 125,
    "start_time": "2022-01-15T15:49:28.208Z"
   },
   {
    "duration": 10,
    "start_time": "2022-01-15T15:49:28.335Z"
   },
   {
    "duration": 90768,
    "start_time": "2022-01-15T16:46:07.722Z"
   },
   {
    "duration": 1222,
    "start_time": "2022-01-15T16:47:38.492Z"
   },
   {
    "duration": 2704,
    "start_time": "2022-01-15T16:47:39.719Z"
   },
   {
    "duration": 184,
    "start_time": "2022-01-15T16:47:42.425Z"
   },
   {
    "duration": 53,
    "start_time": "2022-01-15T16:47:42.611Z"
   },
   {
    "duration": 43,
    "start_time": "2022-01-15T16:47:42.666Z"
   },
   {
    "duration": 4725,
    "start_time": "2022-01-15T16:47:42.712Z"
   },
   {
    "duration": 590,
    "start_time": "2022-01-15T16:47:47.439Z"
   },
   {
    "duration": 6,
    "start_time": "2022-01-15T16:47:48.031Z"
   },
   {
    "duration": 20,
    "start_time": "2022-01-15T16:47:48.038Z"
   },
   {
    "duration": 4,
    "start_time": "2022-01-15T16:47:48.060Z"
   },
   {
    "duration": 36,
    "start_time": "2022-01-15T16:47:48.065Z"
   },
   {
    "duration": 4504,
    "start_time": "2022-01-15T16:47:48.102Z"
   },
   {
    "duration": 90,
    "start_time": "2022-01-15T16:47:52.608Z"
   },
   {
    "duration": 18,
    "start_time": "2022-01-15T16:47:52.701Z"
   },
   {
    "duration": 5,
    "start_time": "2022-01-15T16:47:52.721Z"
   },
   {
    "duration": 19,
    "start_time": "2022-01-15T16:47:52.728Z"
   },
   {
    "duration": 4451,
    "start_time": "2022-01-15T16:47:52.749Z"
   },
   {
    "duration": 116,
    "start_time": "2022-01-15T16:47:57.202Z"
   },
   {
    "duration": 16,
    "start_time": "2022-01-15T16:47:57.319Z"
   },
   {
    "duration": 3,
    "start_time": "2022-01-15T16:47:57.337Z"
   },
   {
    "duration": 17,
    "start_time": "2022-01-15T16:47:57.343Z"
   },
   {
    "duration": 4540,
    "start_time": "2022-01-15T16:47:57.361Z"
   },
   {
    "duration": 127,
    "start_time": "2022-01-15T16:48:01.904Z"
   },
   {
    "duration": 9,
    "start_time": "2022-01-15T16:48:02.032Z"
   },
   {
    "duration": 5176,
    "start_time": "2022-01-15T21:21:55.271Z"
   },
   {
    "duration": 1583,
    "start_time": "2022-01-15T21:22:00.450Z"
   },
   {
    "duration": 571,
    "start_time": "2022-01-15T21:22:02.035Z"
   },
   {
    "duration": 505,
    "start_time": "2022-01-15T21:22:02.610Z"
   },
   {
    "duration": 96,
    "start_time": "2022-01-15T21:22:03.118Z"
   },
   {
    "duration": 38,
    "start_time": "2022-01-15T21:22:03.216Z"
   },
   {
    "duration": 7460,
    "start_time": "2022-01-15T21:22:03.256Z"
   },
   {
    "duration": 903,
    "start_time": "2022-01-15T21:22:10.720Z"
   },
   {
    "duration": 8,
    "start_time": "2022-01-15T21:22:11.627Z"
   },
   {
    "duration": 36,
    "start_time": "2022-01-15T21:22:11.638Z"
   },
   {
    "duration": 6,
    "start_time": "2022-01-15T21:22:11.676Z"
   },
   {
    "duration": 26,
    "start_time": "2022-01-15T21:22:11.710Z"
   },
   {
    "duration": 4374,
    "start_time": "2022-01-15T21:22:11.738Z"
   },
   {
    "duration": 53,
    "start_time": "2022-01-15T21:22:16.115Z"
   },
   {
    "duration": 41,
    "start_time": "2022-01-15T21:22:16.171Z"
   },
   {
    "duration": 4,
    "start_time": "2022-01-15T21:22:16.215Z"
   },
   {
    "duration": 27,
    "start_time": "2022-01-15T21:22:16.222Z"
   },
   {
    "duration": 3660,
    "start_time": "2022-01-15T21:22:16.251Z"
   },
   {
    "duration": 126,
    "start_time": "2022-01-15T21:22:19.922Z"
   },
   {
    "duration": 59,
    "start_time": "2022-01-15T21:22:20.050Z"
   },
   {
    "duration": 5,
    "start_time": "2022-01-15T21:22:20.114Z"
   },
   {
    "duration": 24,
    "start_time": "2022-01-15T21:22:20.122Z"
   },
   {
    "duration": 4768,
    "start_time": "2022-01-15T21:22:20.150Z"
   },
   {
    "duration": 67,
    "start_time": "2022-01-15T21:22:25.003Z"
   },
   {
    "duration": 12,
    "start_time": "2022-01-15T21:22:25.073Z"
   },
   {
    "duration": 617,
    "start_time": "2022-01-15T21:34:57.226Z"
   },
   {
    "duration": 41416,
    "start_time": "2022-01-15T21:35:39.274Z"
   },
   {
    "duration": 24,
    "start_time": "2022-01-15T21:44:04.864Z"
   },
   {
    "duration": 5,
    "start_time": "2022-01-15T21:44:08.352Z"
   },
   {
    "duration": 21,
    "start_time": "2022-01-15T21:44:09.841Z"
   },
   {
    "duration": 3945,
    "start_time": "2022-01-15T21:44:12.058Z"
   },
   {
    "duration": 41,
    "start_time": "2022-01-15T21:44:21.560Z"
   },
   {
    "duration": 38893,
    "start_time": "2022-01-15T21:46:02.530Z"
   },
   {
    "duration": 139,
    "start_time": "2022-01-15T21:50:37.012Z"
   },
   {
    "duration": 401,
    "start_time": "2022-01-15T21:50:41.877Z"
   },
   {
    "duration": 414,
    "start_time": "2022-01-15T21:51:27.158Z"
   },
   {
    "duration": 384,
    "start_time": "2022-01-15T21:51:53.318Z"
   },
   {
    "duration": 431,
    "start_time": "2022-01-15T21:53:36.775Z"
   },
   {
    "duration": 407,
    "start_time": "2022-01-15T21:53:44.807Z"
   },
   {
    "duration": 426,
    "start_time": "2022-01-15T21:54:07.383Z"
   },
   {
    "duration": 400,
    "start_time": "2022-01-15T21:54:28.720Z"
   },
   {
    "duration": 402,
    "start_time": "2022-01-15T21:54:38.281Z"
   },
   {
    "duration": 428,
    "start_time": "2022-01-15T21:54:59.984Z"
   },
   {
    "duration": 133,
    "start_time": "2022-01-15T21:55:15.569Z"
   },
   {
    "duration": 557,
    "start_time": "2022-01-15T21:55:28.448Z"
   },
   {
    "duration": 466,
    "start_time": "2022-01-15T22:03:33.567Z"
   },
   {
    "duration": 568,
    "start_time": "2022-01-15T22:04:11.424Z"
   },
   {
    "duration": 789,
    "start_time": "2022-01-15T22:04:20.495Z"
   },
   {
    "duration": 2418,
    "start_time": "2022-01-15T22:04:30.712Z"
   },
   {
    "duration": 1176,
    "start_time": "2022-01-15T22:07:25.345Z"
   },
   {
    "duration": 1216,
    "start_time": "2022-01-15T22:07:42.506Z"
   },
   {
    "duration": 8,
    "start_time": "2022-01-15T22:08:09.986Z"
   },
   {
    "duration": 954,
    "start_time": "2022-01-15T22:08:30.004Z"
   },
   {
    "duration": 3869,
    "start_time": "2022-01-15T22:14:29.905Z"
   },
   {
    "duration": 1705,
    "start_time": "2022-01-15T22:14:33.778Z"
   },
   {
    "duration": 579,
    "start_time": "2022-01-15T22:14:35.487Z"
   },
   {
    "duration": 464,
    "start_time": "2022-01-15T22:14:36.068Z"
   },
   {
    "duration": 88,
    "start_time": "2022-01-15T22:14:36.534Z"
   },
   {
    "duration": 55,
    "start_time": "2022-01-15T22:14:36.625Z"
   },
   {
    "duration": 7600,
    "start_time": "2022-01-15T22:14:36.683Z"
   },
   {
    "duration": 903,
    "start_time": "2022-01-15T22:14:44.286Z"
   },
   {
    "duration": 15,
    "start_time": "2022-01-15T22:14:45.193Z"
   },
   {
    "duration": 28,
    "start_time": "2022-01-15T22:14:45.213Z"
   },
   {
    "duration": 6,
    "start_time": "2022-01-15T22:14:45.244Z"
   },
   {
    "duration": 59,
    "start_time": "2022-01-15T22:14:45.252Z"
   },
   {
    "duration": 4391,
    "start_time": "2022-01-15T22:14:45.313Z"
   },
   {
    "duration": 140,
    "start_time": "2022-01-15T22:14:49.708Z"
   },
   {
    "duration": 24,
    "start_time": "2022-01-15T22:14:49.850Z"
   },
   {
    "duration": 35,
    "start_time": "2022-01-15T22:14:49.876Z"
   },
   {
    "duration": 26,
    "start_time": "2022-01-15T22:14:49.914Z"
   },
   {
    "duration": 4272,
    "start_time": "2022-01-15T22:14:49.942Z"
   },
   {
    "duration": 120,
    "start_time": "2022-01-15T22:14:54.218Z"
   },
   {
    "duration": 59,
    "start_time": "2022-01-15T22:14:54.341Z"
   },
   {
    "duration": 8,
    "start_time": "2022-01-15T22:14:54.405Z"
   },
   {
    "duration": 27,
    "start_time": "2022-01-15T22:14:54.417Z"
   },
   {
    "duration": 4260,
    "start_time": "2022-01-15T22:14:54.448Z"
   },
   {
    "duration": 132,
    "start_time": "2022-01-15T22:14:58.717Z"
   },
   {
    "duration": 12,
    "start_time": "2022-01-15T22:14:58.852Z"
   },
   {
    "duration": 24,
    "start_time": "2022-01-15T22:17:43.161Z"
   },
   {
    "duration": 7,
    "start_time": "2022-01-15T22:17:44.697Z"
   },
   {
    "duration": 23,
    "start_time": "2022-01-15T22:17:47.433Z"
   },
   {
    "duration": 126,
    "start_time": "2022-01-15T22:18:56.291Z"
   },
   {
    "duration": 120,
    "start_time": "2022-01-15T22:19:10.907Z"
   },
   {
    "duration": 31,
    "start_time": "2022-01-15T22:21:30.197Z"
   },
   {
    "duration": 124,
    "start_time": "2022-01-15T22:21:36.188Z"
   },
   {
    "duration": 164,
    "start_time": "2022-01-15T22:22:36.743Z"
   },
   {
    "duration": 534,
    "start_time": "2022-01-15T22:26:48.668Z"
   },
   {
    "duration": 5303,
    "start_time": "2022-01-15T22:27:51.424Z"
   },
   {
    "duration": 417,
    "start_time": "2022-01-15T22:28:07.501Z"
   },
   {
    "duration": 10784,
    "start_time": "2022-01-15T22:30:36.268Z"
   },
   {
    "duration": 406,
    "start_time": "2022-01-15T22:30:56.061Z"
   },
   {
    "duration": 400,
    "start_time": "2022-01-15T22:32:25.022Z"
   },
   {
    "duration": 2322,
    "start_time": "2022-01-15T22:32:40.095Z"
   },
   {
    "duration": 144,
    "start_time": "2022-01-15T22:36:19.930Z"
   },
   {
    "duration": 137,
    "start_time": "2022-01-15T22:38:27.365Z"
   },
   {
    "duration": 125,
    "start_time": "2022-01-15T22:39:00.917Z"
   },
   {
    "duration": 147,
    "start_time": "2022-01-15T22:39:53.714Z"
   },
   {
    "duration": 8,
    "start_time": "2022-01-15T22:40:31.191Z"
   },
   {
    "duration": 4232,
    "start_time": "2022-01-15T22:41:20.853Z"
   },
   {
    "duration": 3868,
    "start_time": "2022-01-15T22:41:25.088Z"
   },
   {
    "duration": 2601,
    "start_time": "2022-01-15T22:41:28.960Z"
   },
   {
    "duration": 599,
    "start_time": "2022-01-15T22:41:31.564Z"
   },
   {
    "duration": 520,
    "start_time": "2022-01-15T22:41:32.166Z"
   },
   {
    "duration": 111,
    "start_time": "2022-01-15T22:41:32.689Z"
   },
   {
    "duration": 54,
    "start_time": "2022-01-15T22:41:32.803Z"
   },
   {
    "duration": 7902,
    "start_time": "2022-01-15T22:41:32.863Z"
   },
   {
    "duration": 855,
    "start_time": "2022-01-15T22:41:40.768Z"
   },
   {
    "duration": 8,
    "start_time": "2022-01-15T22:41:41.627Z"
   },
   {
    "duration": 26,
    "start_time": "2022-01-15T22:41:41.638Z"
   },
   {
    "duration": 6,
    "start_time": "2022-01-15T22:41:41.666Z"
   },
   {
    "duration": 33,
    "start_time": "2022-01-15T22:41:41.702Z"
   },
   {
    "duration": 6374,
    "start_time": "2022-01-15T22:41:41.738Z"
   },
   {
    "duration": 86,
    "start_time": "2022-01-15T22:41:48.114Z"
   },
   {
    "duration": 22,
    "start_time": "2022-01-15T22:41:48.203Z"
   },
   {
    "duration": 5,
    "start_time": "2022-01-15T22:41:48.228Z"
   },
   {
    "duration": 28,
    "start_time": "2022-01-15T22:41:48.235Z"
   },
   {
    "duration": 6307,
    "start_time": "2022-01-15T22:41:48.301Z"
   },
   {
    "duration": 49,
    "start_time": "2022-01-15T22:41:54.610Z"
   },
   {
    "duration": 51,
    "start_time": "2022-01-15T22:41:54.661Z"
   },
   {
    "duration": 5,
    "start_time": "2022-01-15T22:41:54.714Z"
   },
   {
    "duration": 33,
    "start_time": "2022-01-15T22:41:54.723Z"
   },
   {
    "duration": 6756,
    "start_time": "2022-01-15T22:41:54.759Z"
   },
   {
    "duration": 147,
    "start_time": "2022-01-15T22:42:01.519Z"
   },
   {
    "duration": 36,
    "start_time": "2022-01-15T22:42:01.670Z"
   },
   {
    "duration": 8,
    "start_time": "2022-01-15T22:43:04.358Z"
   },
   {
    "duration": 24,
    "start_time": "2022-01-15T22:43:07.933Z"
   },
   {
    "duration": 6,
    "start_time": "2022-01-15T22:43:10.477Z"
   },
   {
    "duration": 31,
    "start_time": "2022-01-15T22:43:11.724Z"
   },
   {
    "duration": 7937,
    "start_time": "2022-01-15T22:43:14.072Z"
   },
   {
    "duration": 8,
    "start_time": "2022-01-15T22:44:13.397Z"
   },
   {
    "duration": 7879,
    "start_time": "2022-01-15T22:44:17.136Z"
   },
   {
    "duration": 23,
    "start_time": "2022-01-15T22:44:39.438Z"
   },
   {
    "duration": 6,
    "start_time": "2022-01-15T22:44:40.357Z"
   },
   {
    "duration": 28,
    "start_time": "2022-01-15T22:44:41.390Z"
   },
   {
    "duration": 6823,
    "start_time": "2022-01-15T22:44:43.181Z"
   },
   {
    "duration": 23,
    "start_time": "2022-01-15T22:45:07.711Z"
   },
   {
    "duration": 6,
    "start_time": "2022-01-15T22:45:08.799Z"
   },
   {
    "duration": 31,
    "start_time": "2022-01-15T22:45:09.910Z"
   },
   {
    "duration": 8134,
    "start_time": "2022-01-15T22:45:10.576Z"
   },
   {
    "duration": 3716,
    "start_time": "2022-01-15T22:49:26.350Z"
   },
   {
    "duration": 3553,
    "start_time": "2022-01-15T22:49:30.070Z"
   },
   {
    "duration": 2239,
    "start_time": "2022-01-15T22:49:33.626Z"
   },
   {
    "duration": 566,
    "start_time": "2022-01-15T22:49:35.868Z"
   },
   {
    "duration": 488,
    "start_time": "2022-01-15T22:49:36.437Z"
   },
   {
    "duration": 85,
    "start_time": "2022-01-15T22:49:36.927Z"
   },
   {
    "duration": 39,
    "start_time": "2022-01-15T22:49:37.014Z"
   },
   {
    "duration": 7966,
    "start_time": "2022-01-15T22:49:37.057Z"
   },
   {
    "duration": 873,
    "start_time": "2022-01-15T22:49:45.027Z"
   },
   {
    "duration": 9,
    "start_time": "2022-01-15T22:49:45.902Z"
   },
   {
    "duration": 26,
    "start_time": "2022-01-15T22:49:45.914Z"
   },
   {
    "duration": 7,
    "start_time": "2022-01-15T22:49:45.942Z"
   },
   {
    "duration": 7957,
    "start_time": "2022-01-15T22:49:45.953Z"
   },
   {
    "duration": 56,
    "start_time": "2022-01-15T22:49:53.912Z"
   },
   {
    "duration": 42,
    "start_time": "2022-01-15T22:49:53.971Z"
   },
   {
    "duration": 17,
    "start_time": "2022-01-15T22:49:54.016Z"
   },
   {
    "duration": 6864,
    "start_time": "2022-01-15T22:49:54.036Z"
   },
   {
    "duration": 46,
    "start_time": "2022-01-15T22:50:00.903Z"
   },
   {
    "duration": 55,
    "start_time": "2022-01-15T22:50:00.952Z"
   },
   {
    "duration": 7,
    "start_time": "2022-01-15T22:50:01.010Z"
   },
   {
    "duration": 7398,
    "start_time": "2022-01-15T22:50:01.020Z"
   },
   {
    "duration": 133,
    "start_time": "2022-01-15T22:50:08.422Z"
   },
   {
    "duration": 13,
    "start_time": "2022-01-15T22:50:08.559Z"
   },
   {
    "duration": 5,
    "start_time": "2022-01-16T06:32:33.396Z"
   },
   {
    "duration": 497,
    "start_time": "2022-01-16T06:32:48.667Z"
   },
   {
    "duration": 4730,
    "start_time": "2022-01-16T06:32:56.161Z"
   },
   {
    "duration": 11100,
    "start_time": "2022-01-16T06:33:00.895Z"
   },
   {
    "duration": 2388,
    "start_time": "2022-01-16T06:33:11.998Z"
   },
   {
    "duration": 472,
    "start_time": "2022-01-16T06:33:14.389Z"
   },
   {
    "duration": 300,
    "start_time": "2022-01-16T06:33:14.863Z"
   },
   {
    "duration": 63,
    "start_time": "2022-01-16T06:33:15.165Z"
   },
   {
    "duration": 37,
    "start_time": "2022-01-16T06:33:15.231Z"
   },
   {
    "duration": 6987,
    "start_time": "2022-01-16T06:33:15.273Z"
   },
   {
    "duration": 859,
    "start_time": "2022-01-16T06:33:22.264Z"
   },
   {
    "duration": 8,
    "start_time": "2022-01-16T06:33:23.126Z"
   },
   {
    "duration": 26,
    "start_time": "2022-01-16T06:33:23.137Z"
   },
   {
    "duration": 7,
    "start_time": "2022-01-16T06:33:23.166Z"
   },
   {
    "duration": 6254,
    "start_time": "2022-01-16T06:33:23.175Z"
   },
   {
    "duration": 92,
    "start_time": "2022-01-16T06:33:29.432Z"
   },
   {
    "duration": 2094,
    "start_time": "2022-01-16T06:33:29.527Z"
   },
   {
    "duration": 472,
    "start_time": "2022-01-16T06:33:31.152Z"
   },
   {
    "duration": 471,
    "start_time": "2022-01-16T06:33:31.155Z"
   },
   {
    "duration": 470,
    "start_time": "2022-01-16T06:33:31.158Z"
   },
   {
    "duration": 469,
    "start_time": "2022-01-16T06:33:31.160Z"
   },
   {
    "duration": 467,
    "start_time": "2022-01-16T06:33:31.163Z"
   },
   {
    "duration": 466,
    "start_time": "2022-01-16T06:33:31.166Z"
   },
   {
    "duration": 465,
    "start_time": "2022-01-16T06:33:31.168Z"
   },
   {
    "duration": 463,
    "start_time": "2022-01-16T06:33:31.171Z"
   },
   {
    "duration": 463,
    "start_time": "2022-01-16T06:33:31.173Z"
   },
   {
    "duration": 461,
    "start_time": "2022-01-16T06:33:31.176Z"
   },
   {
    "duration": 6,
    "start_time": "2022-01-16T06:42:29.595Z"
   },
   {
    "duration": 9,
    "start_time": "2022-01-16T06:46:26.365Z"
   },
   {
    "duration": 7,
    "start_time": "2022-01-16T06:46:49.070Z"
   },
   {
    "duration": 6,
    "start_time": "2022-01-16T06:46:54.237Z"
   },
   {
    "duration": 6,
    "start_time": "2022-01-16T06:46:56.197Z"
   },
   {
    "duration": 9,
    "start_time": "2022-01-16T06:47:39.446Z"
   },
   {
    "duration": 6360,
    "start_time": "2022-01-16T06:47:43.466Z"
   },
   {
    "duration": 8,
    "start_time": "2022-01-16T06:49:53.000Z"
   },
   {
    "duration": 6419,
    "start_time": "2022-01-16T06:49:59.510Z"
   },
   {
    "duration": 9,
    "start_time": "2022-01-16T06:50:41.624Z"
   },
   {
    "duration": 6284,
    "start_time": "2022-01-16T06:50:46.249Z"
   },
   {
    "duration": 8,
    "start_time": "2022-01-16T06:51:09.424Z"
   },
   {
    "duration": 5890,
    "start_time": "2022-01-16T06:51:13.633Z"
   },
   {
    "duration": 21,
    "start_time": "2022-01-16T06:54:22.011Z"
   },
   {
    "duration": 6,
    "start_time": "2022-01-16T06:54:23.196Z"
   },
   {
    "duration": 26,
    "start_time": "2022-01-16T06:54:37.291Z"
   },
   {
    "duration": 6322,
    "start_time": "2022-01-16T06:54:58.402Z"
   },
   {
    "duration": 3430,
    "start_time": "2022-01-16T06:55:36.804Z"
   },
   {
    "duration": 3233,
    "start_time": "2022-01-16T06:55:40.237Z"
   },
   {
    "duration": 2035,
    "start_time": "2022-01-16T06:55:43.473Z"
   },
   {
    "duration": 483,
    "start_time": "2022-01-16T06:55:45.511Z"
   },
   {
    "duration": 304,
    "start_time": "2022-01-16T06:55:45.996Z"
   },
   {
    "duration": 68,
    "start_time": "2022-01-16T06:55:46.303Z"
   },
   {
    "duration": 51,
    "start_time": "2022-01-16T06:55:46.374Z"
   },
   {
    "duration": 7102,
    "start_time": "2022-01-16T06:55:46.429Z"
   },
   {
    "duration": 991,
    "start_time": "2022-01-16T06:55:53.534Z"
   },
   {
    "duration": 9,
    "start_time": "2022-01-16T06:55:54.528Z"
   },
   {
    "duration": 29,
    "start_time": "2022-01-16T06:55:54.539Z"
   },
   {
    "duration": 5,
    "start_time": "2022-01-16T06:55:54.571Z"
   },
   {
    "duration": 5850,
    "start_time": "2022-01-16T06:55:54.578Z"
   },
   {
    "duration": 55,
    "start_time": "2022-01-16T06:56:00.431Z"
   },
   {
    "duration": 49,
    "start_time": "2022-01-16T06:56:00.489Z"
   },
   {
    "duration": 6,
    "start_time": "2022-01-16T06:56:00.541Z"
   },
   {
    "duration": 5874,
    "start_time": "2022-01-16T06:56:00.550Z"
   },
   {
    "duration": 44,
    "start_time": "2022-01-16T06:56:06.428Z"
   },
   {
    "duration": 56,
    "start_time": "2022-01-16T06:56:06.475Z"
   },
   {
    "duration": 6,
    "start_time": "2022-01-16T06:56:06.534Z"
   },
   {
    "duration": 28,
    "start_time": "2022-01-16T06:56:06.544Z"
   },
   {
    "duration": 6250,
    "start_time": "2022-01-16T06:56:06.575Z"
   },
   {
    "duration": 22,
    "start_time": "2022-01-16T06:56:12.830Z"
   },
   {
    "duration": 4,
    "start_time": "2022-01-16T06:56:12.854Z"
   },
   {
    "duration": 6063,
    "start_time": "2022-01-16T06:56:12.861Z"
   },
   {
    "duration": 56,
    "start_time": "2022-01-16T06:56:18.927Z"
   },
   {
    "duration": 41,
    "start_time": "2022-01-16T06:56:18.986Z"
   },
   {
    "duration": 3476,
    "start_time": "2022-01-16T07:57:34.615Z"
   },
   {
    "duration": 3234,
    "start_time": "2022-01-16T07:57:38.094Z"
   },
   {
    "duration": 1974,
    "start_time": "2022-01-16T07:57:41.331Z"
   },
   {
    "duration": 532,
    "start_time": "2022-01-16T07:57:43.308Z"
   },
   {
    "duration": 328,
    "start_time": "2022-01-16T07:57:43.842Z"
   },
   {
    "duration": 76,
    "start_time": "2022-01-16T07:57:44.173Z"
   },
   {
    "duration": 39,
    "start_time": "2022-01-16T07:57:44.251Z"
   },
   {
    "duration": 6612,
    "start_time": "2022-01-16T07:57:44.294Z"
   },
   {
    "duration": 777,
    "start_time": "2022-01-16T07:57:50.910Z"
   },
   {
    "duration": 9,
    "start_time": "2022-01-16T07:57:51.690Z"
   },
   {
    "duration": 38,
    "start_time": "2022-01-16T07:57:51.702Z"
   },
   {
    "duration": 6,
    "start_time": "2022-01-16T07:57:51.743Z"
   },
   {
    "duration": 5779,
    "start_time": "2022-01-16T07:57:51.751Z"
   },
   {
    "duration": 54,
    "start_time": "2022-01-16T07:57:57.533Z"
   },
   {
    "duration": 53,
    "start_time": "2022-01-16T07:57:57.590Z"
   },
   {
    "duration": 6,
    "start_time": "2022-01-16T07:57:57.646Z"
   },
   {
    "duration": 7173,
    "start_time": "2022-01-16T07:57:57.655Z"
   },
   {
    "duration": 138,
    "start_time": "2022-01-16T07:58:04.832Z"
   },
   {
    "duration": 50,
    "start_time": "2022-01-16T07:58:04.973Z"
   },
   {
    "duration": 6,
    "start_time": "2022-01-16T07:58:05.027Z"
   },
   {
    "duration": 5793,
    "start_time": "2022-01-16T07:58:05.035Z"
   },
   {
    "duration": 50,
    "start_time": "2022-01-16T07:58:10.831Z"
   },
   {
    "duration": 10,
    "start_time": "2022-01-16T07:58:10.886Z"
   },
   {
    "duration": 7,
    "start_time": "2022-01-16T08:15:16.444Z"
   },
   {
    "duration": 8,
    "start_time": "2022-01-16T08:16:34.295Z"
   },
   {
    "duration": 3570,
    "start_time": "2022-01-16T08:16:40.348Z"
   },
   {
    "duration": 2304,
    "start_time": "2022-01-16T08:16:43.922Z"
   },
   {
    "duration": 503,
    "start_time": "2022-01-16T08:16:46.230Z"
   },
   {
    "duration": 299,
    "start_time": "2022-01-16T08:16:46.736Z"
   },
   {
    "duration": 84,
    "start_time": "2022-01-16T08:16:47.038Z"
   },
   {
    "duration": 46,
    "start_time": "2022-01-16T08:16:47.127Z"
   },
   {
    "duration": 7076,
    "start_time": "2022-01-16T08:16:47.177Z"
   },
   {
    "duration": 844,
    "start_time": "2022-01-16T08:16:54.255Z"
   },
   {
    "duration": 7,
    "start_time": "2022-01-16T08:16:55.102Z"
   },
   {
    "duration": 30,
    "start_time": "2022-01-16T08:16:55.111Z"
   },
   {
    "duration": 6,
    "start_time": "2022-01-16T08:16:55.144Z"
   },
   {
    "duration": 6376,
    "start_time": "2022-01-16T08:16:55.153Z"
   },
   {
    "duration": 136,
    "start_time": "2022-01-16T08:17:01.532Z"
   },
   {
    "duration": 20,
    "start_time": "2022-01-16T08:17:01.670Z"
   },
   {
    "duration": 31,
    "start_time": "2022-01-16T08:17:01.693Z"
   },
   {
    "duration": 6399,
    "start_time": "2022-01-16T08:17:01.727Z"
   },
   {
    "duration": 121,
    "start_time": "2022-01-16T08:17:08.128Z"
   },
   {
    "duration": 23,
    "start_time": "2022-01-16T08:17:08.253Z"
   },
   {
    "duration": 5,
    "start_time": "2022-01-16T08:17:08.278Z"
   },
   {
    "duration": 6239,
    "start_time": "2022-01-16T08:17:08.286Z"
   },
   {
    "duration": 48,
    "start_time": "2022-01-16T08:17:14.527Z"
   },
   {
    "duration": 11,
    "start_time": "2022-01-16T08:17:14.577Z"
   },
   {
    "duration": 7035,
    "start_time": "2022-01-16T08:51:55.268Z"
   },
   {
    "duration": 3339,
    "start_time": "2022-01-16T08:52:56.640Z"
   },
   {
    "duration": 2059,
    "start_time": "2022-01-16T08:52:59.982Z"
   },
   {
    "duration": 475,
    "start_time": "2022-01-16T08:53:02.048Z"
   },
   {
    "duration": 286,
    "start_time": "2022-01-16T08:53:02.525Z"
   },
   {
    "duration": 61,
    "start_time": "2022-01-16T08:53:02.813Z"
   },
   {
    "duration": 56,
    "start_time": "2022-01-16T08:53:02.877Z"
   },
   {
    "duration": 7068,
    "start_time": "2022-01-16T08:53:02.936Z"
   },
   {
    "duration": 846,
    "start_time": "2022-01-16T08:53:10.007Z"
   },
   {
    "duration": 8,
    "start_time": "2022-01-16T08:53:10.855Z"
   },
   {
    "duration": 24,
    "start_time": "2022-01-16T08:53:10.866Z"
   },
   {
    "duration": 5,
    "start_time": "2022-01-16T08:53:10.893Z"
   },
   {
    "duration": 6304,
    "start_time": "2022-01-16T08:53:10.923Z"
   },
   {
    "duration": 138,
    "start_time": "2022-01-16T08:53:17.231Z"
   },
   {
    "duration": 22,
    "start_time": "2022-01-16T08:53:17.371Z"
   },
   {
    "duration": 29,
    "start_time": "2022-01-16T08:53:17.395Z"
   },
   {
    "duration": 6001,
    "start_time": "2022-01-16T08:53:17.427Z"
   },
   {
    "duration": 115,
    "start_time": "2022-01-16T08:53:23.431Z"
   },
   {
    "duration": 20,
    "start_time": "2022-01-16T08:53:23.548Z"
   },
   {
    "duration": 6,
    "start_time": "2022-01-16T08:53:23.570Z"
   },
   {
    "duration": 6348,
    "start_time": "2022-01-16T08:53:23.578Z"
   },
   {
    "duration": 124,
    "start_time": "2022-01-16T08:53:29.929Z"
   },
   {
    "duration": 11,
    "start_time": "2022-01-16T08:53:30.057Z"
   },
   {
    "duration": 6535,
    "start_time": "2022-01-16T08:55:54.834Z"
   },
   {
    "duration": 24,
    "start_time": "2022-01-16T08:56:14.952Z"
   },
   {
    "duration": 6,
    "start_time": "2022-01-16T08:56:15.872Z"
   },
   {
    "duration": 6074,
    "start_time": "2022-01-16T08:56:19.056Z"
   },
   {
    "duration": 8,
    "start_time": "2022-01-16T08:56:38.609Z"
   },
   {
    "duration": 22,
    "start_time": "2022-01-16T08:56:40.873Z"
   },
   {
    "duration": 5,
    "start_time": "2022-01-16T08:56:41.769Z"
   },
   {
    "duration": 6229,
    "start_time": "2022-01-16T08:56:44.300Z"
   },
   {
    "duration": 294,
    "start_time": "2022-01-16T08:57:03.929Z"
   },
   {
    "duration": 288,
    "start_time": "2022-01-16T08:57:35.057Z"
   },
   {
    "duration": 272,
    "start_time": "2022-01-16T08:57:44.203Z"
   },
   {
    "duration": 13,
    "start_time": "2022-01-16T08:57:59.345Z"
   },
   {
    "duration": 290,
    "start_time": "2022-01-16T08:58:20.354Z"
   },
   {
    "duration": 13,
    "start_time": "2022-01-16T08:58:26.362Z"
   },
   {
    "duration": 270,
    "start_time": "2022-01-16T08:59:41.923Z"
   },
   {
    "duration": 7,
    "start_time": "2022-01-16T09:00:10.355Z"
   },
   {
    "duration": 6,
    "start_time": "2022-01-16T09:00:40.899Z"
   },
   {
    "duration": 14,
    "start_time": "2022-01-16T09:00:47.901Z"
   },
   {
    "duration": 7,
    "start_time": "2022-01-16T09:01:12.092Z"
   },
   {
    "duration": 4,
    "start_time": "2022-01-16T09:01:26.620Z"
   },
   {
    "duration": 14,
    "start_time": "2022-01-16T09:01:38.397Z"
   },
   {
    "duration": 7,
    "start_time": "2022-01-16T09:01:48.765Z"
   },
   {
    "duration": 6,
    "start_time": "2022-01-16T09:02:54.181Z"
   },
   {
    "duration": 9,
    "start_time": "2022-01-16T09:08:26.066Z"
   },
   {
    "duration": 3480,
    "start_time": "2022-01-16T09:09:26.103Z"
   },
   {
    "duration": 2049,
    "start_time": "2022-01-16T09:09:29.586Z"
   },
   {
    "duration": 473,
    "start_time": "2022-01-16T09:09:31.638Z"
   },
   {
    "duration": 309,
    "start_time": "2022-01-16T09:09:32.114Z"
   },
   {
    "duration": 58,
    "start_time": "2022-01-16T09:09:32.425Z"
   },
   {
    "duration": 52,
    "start_time": "2022-01-16T09:09:32.485Z"
   },
   {
    "duration": 6821,
    "start_time": "2022-01-16T09:09:32.540Z"
   },
   {
    "duration": 933,
    "start_time": "2022-01-16T09:09:39.365Z"
   },
   {
    "duration": 9,
    "start_time": "2022-01-16T09:09:40.301Z"
   },
   {
    "duration": 22,
    "start_time": "2022-01-16T09:09:40.324Z"
   },
   {
    "duration": 6,
    "start_time": "2022-01-16T09:09:40.348Z"
   },
   {
    "duration": 6169,
    "start_time": "2022-01-16T09:09:40.356Z"
   },
   {
    "duration": 426,
    "start_time": "2022-01-16T09:09:46.527Z"
   },
   {
    "duration": 568,
    "start_time": "2022-01-16T09:09:46.388Z"
   },
   {
    "duration": 565,
    "start_time": "2022-01-16T09:09:46.392Z"
   },
   {
    "duration": 561,
    "start_time": "2022-01-16T09:09:46.398Z"
   },
   {
    "duration": 559,
    "start_time": "2022-01-16T09:09:46.401Z"
   },
   {
    "duration": 558,
    "start_time": "2022-01-16T09:09:46.404Z"
   },
   {
    "duration": 556,
    "start_time": "2022-01-16T09:09:46.407Z"
   },
   {
    "duration": 552,
    "start_time": "2022-01-16T09:09:46.413Z"
   },
   {
    "duration": 551,
    "start_time": "2022-01-16T09:09:46.415Z"
   },
   {
    "duration": 549,
    "start_time": "2022-01-16T09:09:46.419Z"
   },
   {
    "duration": 547,
    "start_time": "2022-01-16T09:09:46.422Z"
   },
   {
    "duration": 546,
    "start_time": "2022-01-16T09:09:46.425Z"
   },
   {
    "duration": 543,
    "start_time": "2022-01-16T09:09:46.430Z"
   },
   {
    "duration": 3561,
    "start_time": "2022-01-16T09:10:40.829Z"
   },
   {
    "duration": 2383,
    "start_time": "2022-01-16T09:10:44.394Z"
   },
   {
    "duration": 524,
    "start_time": "2022-01-16T09:10:46.780Z"
   },
   {
    "duration": 322,
    "start_time": "2022-01-16T09:10:47.306Z"
   },
   {
    "duration": 60,
    "start_time": "2022-01-16T09:10:47.630Z"
   },
   {
    "duration": 82,
    "start_time": "2022-01-16T09:10:47.693Z"
   },
   {
    "duration": 7051,
    "start_time": "2022-01-16T09:10:47.779Z"
   },
   {
    "duration": 826,
    "start_time": "2022-01-16T09:10:54.834Z"
   },
   {
    "duration": 9,
    "start_time": "2022-01-16T09:10:55.663Z"
   },
   {
    "duration": 30,
    "start_time": "2022-01-16T09:10:55.674Z"
   },
   {
    "duration": 17,
    "start_time": "2022-01-16T09:10:55.707Z"
   },
   {
    "duration": 6297,
    "start_time": "2022-01-16T09:10:55.727Z"
   },
   {
    "duration": 7,
    "start_time": "2022-01-16T09:11:02.027Z"
   },
   {
    "duration": 449,
    "start_time": "2022-01-16T09:11:02.037Z"
   },
   {
    "duration": 568,
    "start_time": "2022-01-16T09:11:01.921Z"
   },
   {
    "duration": 566,
    "start_time": "2022-01-16T09:11:01.924Z"
   },
   {
    "duration": 562,
    "start_time": "2022-01-16T09:11:01.930Z"
   },
   {
    "duration": 560,
    "start_time": "2022-01-16T09:11:01.933Z"
   },
   {
    "duration": 558,
    "start_time": "2022-01-16T09:11:01.936Z"
   },
   {
    "duration": 557,
    "start_time": "2022-01-16T09:11:01.939Z"
   },
   {
    "duration": 555,
    "start_time": "2022-01-16T09:11:01.942Z"
   },
   {
    "duration": 550,
    "start_time": "2022-01-16T09:11:01.948Z"
   },
   {
    "duration": 548,
    "start_time": "2022-01-16T09:11:01.951Z"
   },
   {
    "duration": 547,
    "start_time": "2022-01-16T09:11:01.954Z"
   },
   {
    "duration": 546,
    "start_time": "2022-01-16T09:11:01.956Z"
   },
   {
    "duration": 4185,
    "start_time": "2022-01-16T09:12:25.075Z"
   },
   {
    "duration": 1951,
    "start_time": "2022-01-16T09:12:29.262Z"
   },
   {
    "duration": 475,
    "start_time": "2022-01-16T09:12:31.216Z"
   },
   {
    "duration": 287,
    "start_time": "2022-01-16T09:12:31.693Z"
   },
   {
    "duration": 61,
    "start_time": "2022-01-16T09:12:31.983Z"
   },
   {
    "duration": 39,
    "start_time": "2022-01-16T09:12:32.047Z"
   },
   {
    "duration": 6835,
    "start_time": "2022-01-16T09:12:32.089Z"
   },
   {
    "duration": 779,
    "start_time": "2022-01-16T09:12:38.927Z"
   },
   {
    "duration": 16,
    "start_time": "2022-01-16T09:12:39.709Z"
   },
   {
    "duration": 24,
    "start_time": "2022-01-16T09:12:39.727Z"
   },
   {
    "duration": 5,
    "start_time": "2022-01-16T09:12:39.753Z"
   },
   {
    "duration": 6265,
    "start_time": "2022-01-16T09:12:39.760Z"
   },
   {
    "duration": 6,
    "start_time": "2022-01-16T09:12:46.027Z"
   },
   {
    "duration": 425,
    "start_time": "2022-01-16T09:12:46.036Z"
   },
   {
    "duration": 567,
    "start_time": "2022-01-16T09:12:45.897Z"
   },
   {
    "duration": 565,
    "start_time": "2022-01-16T09:12:45.900Z"
   },
   {
    "duration": 563,
    "start_time": "2022-01-16T09:12:45.903Z"
   },
   {
    "duration": 562,
    "start_time": "2022-01-16T09:12:45.906Z"
   },
   {
    "duration": 557,
    "start_time": "2022-01-16T09:12:45.912Z"
   },
   {
    "duration": 556,
    "start_time": "2022-01-16T09:12:45.915Z"
   },
   {
    "duration": 555,
    "start_time": "2022-01-16T09:12:45.917Z"
   },
   {
    "duration": 554,
    "start_time": "2022-01-16T09:12:45.920Z"
   },
   {
    "duration": 551,
    "start_time": "2022-01-16T09:12:45.924Z"
   },
   {
    "duration": 546,
    "start_time": "2022-01-16T09:12:45.930Z"
   },
   {
    "duration": 545,
    "start_time": "2022-01-16T09:12:45.933Z"
   },
   {
    "duration": 3598,
    "start_time": "2022-01-16T09:13:17.081Z"
   },
   {
    "duration": 2256,
    "start_time": "2022-01-16T09:13:20.682Z"
   },
   {
    "duration": 482,
    "start_time": "2022-01-16T09:13:22.941Z"
   },
   {
    "duration": 279,
    "start_time": "2022-01-16T09:13:23.426Z"
   },
   {
    "duration": 60,
    "start_time": "2022-01-16T09:13:23.707Z"
   },
   {
    "duration": 54,
    "start_time": "2022-01-16T09:13:23.770Z"
   },
   {
    "duration": 6681,
    "start_time": "2022-01-16T09:13:23.826Z"
   },
   {
    "duration": 801,
    "start_time": "2022-01-16T09:13:30.511Z"
   },
   {
    "duration": 12,
    "start_time": "2022-01-16T09:13:31.315Z"
   },
   {
    "duration": 41,
    "start_time": "2022-01-16T09:13:31.329Z"
   },
   {
    "duration": 5,
    "start_time": "2022-01-16T09:13:31.373Z"
   },
   {
    "duration": 6243,
    "start_time": "2022-01-16T09:13:31.380Z"
   },
   {
    "duration": 6,
    "start_time": "2022-01-16T09:13:37.626Z"
   },
   {
    "duration": 53,
    "start_time": "2022-01-16T09:13:37.634Z"
   },
   {
    "duration": 20,
    "start_time": "2022-01-16T09:13:37.689Z"
   },
   {
    "duration": 13,
    "start_time": "2022-01-16T09:13:37.711Z"
   },
   {
    "duration": 6396,
    "start_time": "2022-01-16T09:13:37.727Z"
   },
   {
    "duration": 6,
    "start_time": "2022-01-16T09:13:44.126Z"
   },
   {
    "duration": 37,
    "start_time": "2022-01-16T09:13:44.134Z"
   },
   {
    "duration": 52,
    "start_time": "2022-01-16T09:13:44.173Z"
   },
   {
    "duration": 5,
    "start_time": "2022-01-16T09:13:44.227Z"
   },
   {
    "duration": 6192,
    "start_time": "2022-01-16T09:13:44.235Z"
   },
   {
    "duration": 9,
    "start_time": "2022-01-16T09:13:50.433Z"
   },
   {
    "duration": 50,
    "start_time": "2022-01-16T09:13:50.525Z"
   },
   {
    "duration": 11,
    "start_time": "2022-01-16T09:13:50.578Z"
   },
   {
    "duration": 7,
    "start_time": "2022-01-16T09:14:42.096Z"
   },
   {
    "duration": 22,
    "start_time": "2022-01-16T09:14:44.784Z"
   },
   {
    "duration": 6,
    "start_time": "2022-01-16T09:14:45.648Z"
   },
   {
    "duration": 6106,
    "start_time": "2022-01-16T09:14:48.521Z"
   },
   {
    "duration": 9,
    "start_time": "2022-01-16T09:15:02.127Z"
   },
   {
    "duration": 22,
    "start_time": "2022-01-16T09:15:47.448Z"
   },
   {
    "duration": 5,
    "start_time": "2022-01-16T09:15:48.465Z"
   },
   {
    "duration": 5943,
    "start_time": "2022-01-16T09:15:52.087Z"
   },
   {
    "duration": 9,
    "start_time": "2022-01-16T09:16:04.288Z"
   },
   {
    "duration": 5688,
    "start_time": "2022-01-16T09:16:15.735Z"
   },
   {
    "duration": 10,
    "start_time": "2022-01-16T09:16:24.240Z"
   },
   {
    "duration": 3263,
    "start_time": "2022-01-16T09:16:55.430Z"
   },
   {
    "duration": 2196,
    "start_time": "2022-01-16T09:16:58.696Z"
   },
   {
    "duration": 513,
    "start_time": "2022-01-16T09:17:00.900Z"
   },
   {
    "duration": 304,
    "start_time": "2022-01-16T09:17:01.415Z"
   },
   {
    "duration": 56,
    "start_time": "2022-01-16T09:17:01.724Z"
   },
   {
    "duration": 54,
    "start_time": "2022-01-16T09:17:01.783Z"
   },
   {
    "duration": 6945,
    "start_time": "2022-01-16T09:17:01.840Z"
   },
   {
    "duration": 838,
    "start_time": "2022-01-16T09:17:08.788Z"
   },
   {
    "duration": 8,
    "start_time": "2022-01-16T09:17:09.629Z"
   },
   {
    "duration": 44,
    "start_time": "2022-01-16T09:17:09.640Z"
   },
   {
    "duration": 25,
    "start_time": "2022-01-16T09:17:09.687Z"
   },
   {
    "duration": 5609,
    "start_time": "2022-01-16T09:17:09.715Z"
   },
   {
    "duration": 7,
    "start_time": "2022-01-16T09:17:15.327Z"
   },
   {
    "duration": 49,
    "start_time": "2022-01-16T09:17:15.336Z"
   },
   {
    "duration": 53,
    "start_time": "2022-01-16T09:17:15.387Z"
   },
   {
    "duration": 7,
    "start_time": "2022-01-16T09:17:15.442Z"
   },
   {
    "duration": 6181,
    "start_time": "2022-01-16T09:17:15.451Z"
   },
   {
    "duration": 6,
    "start_time": "2022-01-16T09:17:21.724Z"
   },
   {
    "duration": 45,
    "start_time": "2022-01-16T09:17:21.733Z"
   },
   {
    "duration": 45,
    "start_time": "2022-01-16T09:17:21.780Z"
   },
   {
    "duration": 5,
    "start_time": "2022-01-16T09:17:21.828Z"
   },
   {
    "duration": 6186,
    "start_time": "2022-01-16T09:17:21.839Z"
   },
   {
    "duration": 7,
    "start_time": "2022-01-16T09:17:28.028Z"
   },
   {
    "duration": 49,
    "start_time": "2022-01-16T09:17:28.037Z"
   },
   {
    "duration": 40,
    "start_time": "2022-01-16T09:17:28.089Z"
   },
   {
    "duration": 438,
    "start_time": "2022-01-16T09:25:09.581Z"
   },
   {
    "duration": 3,
    "start_time": "2022-01-16T09:25:17.093Z"
   },
   {
    "duration": 5,
    "start_time": "2022-01-16T09:25:17.597Z"
   },
   {
    "duration": 5,
    "start_time": "2022-01-16T09:25:35.837Z"
   },
   {
    "duration": 6,
    "start_time": "2022-01-16T09:28:45.557Z"
   },
   {
    "duration": 95,
    "start_time": "2022-01-16T09:28:57.543Z"
   },
   {
    "duration": 354,
    "start_time": "2022-01-16T09:29:07.128Z"
   },
   {
    "duration": 4,
    "start_time": "2022-01-16T09:33:04.140Z"
   },
   {
    "duration": 4,
    "start_time": "2022-01-16T09:33:08.667Z"
   },
   {
    "duration": 5,
    "start_time": "2022-01-16T09:33:09.244Z"
   },
   {
    "duration": 4,
    "start_time": "2022-01-16T09:34:01.651Z"
   },
   {
    "duration": 101,
    "start_time": "2022-01-16T09:35:23.956Z"
   },
   {
    "duration": 106,
    "start_time": "2022-01-16T09:35:33.404Z"
   },
   {
    "duration": 289,
    "start_time": "2022-01-16T09:35:40.805Z"
   },
   {
    "duration": 5,
    "start_time": "2022-01-16T09:37:03.486Z"
   },
   {
    "duration": 8,
    "start_time": "2022-01-16T09:37:41.059Z"
   },
   {
    "duration": 101,
    "start_time": "2022-01-16T09:37:52.310Z"
   },
   {
    "duration": 95,
    "start_time": "2022-01-16T09:38:01.238Z"
   },
   {
    "duration": 5,
    "start_time": "2022-01-16T09:38:11.758Z"
   },
   {
    "duration": 4,
    "start_time": "2022-01-16T09:38:30.743Z"
   },
   {
    "duration": 276,
    "start_time": "2022-01-16T09:38:55.622Z"
   },
   {
    "duration": 5,
    "start_time": "2022-01-16T09:41:07.328Z"
   },
   {
    "duration": 5,
    "start_time": "2022-01-16T09:41:25.072Z"
   },
   {
    "duration": 5,
    "start_time": "2022-01-16T09:41:36.696Z"
   },
   {
    "duration": 6,
    "start_time": "2022-01-16T09:41:49.593Z"
   },
   {
    "duration": 4,
    "start_time": "2022-01-16T09:42:07.257Z"
   },
   {
    "duration": 95,
    "start_time": "2022-01-16T09:50:00.703Z"
   },
   {
    "duration": 90,
    "start_time": "2022-01-16T09:50:10.559Z"
   },
   {
    "duration": 290,
    "start_time": "2022-01-16T09:50:16.335Z"
   },
   {
    "duration": 6,
    "start_time": "2022-01-16T09:53:47.225Z"
   },
   {
    "duration": 5,
    "start_time": "2022-01-16T09:53:57.386Z"
   },
   {
    "duration": 6,
    "start_time": "2022-01-16T09:57:00.316Z"
   },
   {
    "duration": 5,
    "start_time": "2022-01-16T10:01:14.047Z"
   },
   {
    "duration": 7,
    "start_time": "2022-01-16T10:04:51.617Z"
   },
   {
    "duration": 7,
    "start_time": "2022-01-16T10:05:25.882Z"
   },
   {
    "duration": 297,
    "start_time": "2022-01-16T10:06:21.626Z"
   },
   {
    "duration": 9,
    "start_time": "2022-01-16T10:06:39.372Z"
   },
   {
    "duration": 4,
    "start_time": "2022-01-16T10:53:56.985Z"
   },
   {
    "duration": 146,
    "start_time": "2022-01-16T10:55:24.225Z"
   },
   {
    "duration": 6135,
    "start_time": "2022-01-16T10:55:35.386Z"
   },
   {
    "duration": 6,
    "start_time": "2022-01-16T10:56:14.170Z"
   },
   {
    "duration": 15,
    "start_time": "2022-01-16T10:56:19.347Z"
   },
   {
    "duration": 5227,
    "start_time": "2022-01-16T10:56:43.324Z"
   },
   {
    "duration": 8,
    "start_time": "2022-01-16T10:56:53.346Z"
   },
   {
    "duration": 4,
    "start_time": "2022-01-16T10:57:01.587Z"
   },
   {
    "duration": 7,
    "start_time": "2022-01-16T10:57:21.916Z"
   },
   {
    "duration": 6,
    "start_time": "2022-01-16T10:57:31.259Z"
   },
   {
    "duration": 7,
    "start_time": "2022-01-16T10:57:32.843Z"
   },
   {
    "duration": 269,
    "start_time": "2022-01-16T10:58:48.387Z"
   },
   {
    "duration": 13,
    "start_time": "2022-01-16T10:58:57.477Z"
   },
   {
    "duration": 9,
    "start_time": "2022-01-16T10:59:21.324Z"
   },
   {
    "duration": 9,
    "start_time": "2022-01-16T10:59:29.237Z"
   },
   {
    "duration": 4,
    "start_time": "2022-01-16T11:00:24.629Z"
   },
   {
    "duration": 8,
    "start_time": "2022-01-16T11:00:46.157Z"
   },
   {
    "duration": 7,
    "start_time": "2022-01-16T11:01:16.374Z"
   },
   {
    "duration": 9,
    "start_time": "2022-01-16T11:01:21.453Z"
   },
   {
    "duration": 6,
    "start_time": "2022-01-16T11:29:06.650Z"
   },
   {
    "duration": 4464,
    "start_time": "2022-01-16T11:33:59.458Z"
   },
   {
    "duration": 2118,
    "start_time": "2022-01-16T11:34:03.925Z"
   },
   {
    "duration": 492,
    "start_time": "2022-01-16T11:34:06.046Z"
   },
   {
    "duration": 328,
    "start_time": "2022-01-16T11:34:06.541Z"
   },
   {
    "duration": 69,
    "start_time": "2022-01-16T11:34:06.872Z"
   },
   {
    "duration": 37,
    "start_time": "2022-01-16T11:34:06.943Z"
   },
   {
    "duration": 8303,
    "start_time": "2022-01-16T11:34:06.983Z"
   },
   {
    "duration": 833,
    "start_time": "2022-01-16T11:34:15.290Z"
   },
   {
    "duration": 9,
    "start_time": "2022-01-16T11:34:16.126Z"
   },
   {
    "duration": 25,
    "start_time": "2022-01-16T11:34:16.137Z"
   },
   {
    "duration": 5,
    "start_time": "2022-01-16T11:34:16.165Z"
   },
   {
    "duration": 7158,
    "start_time": "2022-01-16T11:34:16.172Z"
   },
   {
    "duration": 49,
    "start_time": "2022-01-16T11:34:23.332Z"
   },
   {
    "duration": 49,
    "start_time": "2022-01-16T11:34:23.384Z"
   },
   {
    "duration": 6,
    "start_time": "2022-01-16T11:34:23.436Z"
   },
   {
    "duration": 7488,
    "start_time": "2022-01-16T11:34:23.444Z"
   },
   {
    "duration": 128,
    "start_time": "2022-01-16T11:34:30.935Z"
   },
   {
    "duration": 23,
    "start_time": "2022-01-16T11:34:31.065Z"
   },
   {
    "duration": 36,
    "start_time": "2022-01-16T11:34:31.091Z"
   },
   {
    "duration": 7106,
    "start_time": "2022-01-16T11:34:31.130Z"
   },
   {
    "duration": 119,
    "start_time": "2022-01-16T11:34:38.239Z"
   },
   {
    "duration": 13,
    "start_time": "2022-01-16T11:34:38.361Z"
   },
   {
    "duration": 4,
    "start_time": "2022-01-16T11:34:38.378Z"
   },
   {
    "duration": 109,
    "start_time": "2022-01-16T11:34:38.384Z"
   },
   {
    "duration": 665,
    "start_time": "2022-01-16T11:34:37.831Z"
   },
   {
    "duration": 663,
    "start_time": "2022-01-16T11:34:37.834Z"
   },
   {
    "duration": 661,
    "start_time": "2022-01-16T11:34:37.837Z"
   },
   {
    "duration": 661,
    "start_time": "2022-01-16T11:34:37.839Z"
   },
   {
    "duration": 659,
    "start_time": "2022-01-16T11:34:37.842Z"
   },
   {
    "duration": 659,
    "start_time": "2022-01-16T11:34:37.844Z"
   },
   {
    "duration": 657,
    "start_time": "2022-01-16T11:34:37.847Z"
   },
   {
    "duration": 4,
    "start_time": "2022-01-16T12:44:07.330Z"
   },
   {
    "duration": 11,
    "start_time": "2022-01-16T12:44:07.876Z"
   },
   {
    "duration": 5,
    "start_time": "2022-01-16T12:44:23.869Z"
   },
   {
    "duration": 5,
    "start_time": "2022-01-16T12:44:29.620Z"
   },
   {
    "duration": 739,
    "start_time": "2022-01-16T12:44:55.644Z"
   },
   {
    "duration": 182,
    "start_time": "2022-01-16T12:45:27.469Z"
   },
   {
    "duration": 310,
    "start_time": "2022-01-16T12:45:32.324Z"
   },
   {
    "duration": 14,
    "start_time": "2022-01-16T12:45:41.566Z"
   },
   {
    "duration": 7,
    "start_time": "2022-01-16T12:45:46.589Z"
   },
   {
    "duration": 14,
    "start_time": "2022-01-16T12:45:51.044Z"
   },
   {
    "duration": 341,
    "start_time": "2022-01-16T12:46:32.638Z"
   },
   {
    "duration": 13,
    "start_time": "2022-01-16T12:46:59.666Z"
   },
   {
    "duration": 13,
    "start_time": "2022-01-16T12:47:04.181Z"
   },
   {
    "duration": 4,
    "start_time": "2022-01-16T12:51:25.416Z"
   },
   {
    "duration": 7076,
    "start_time": "2022-01-16T12:51:36.376Z"
   },
   {
    "duration": 5,
    "start_time": "2022-01-16T12:51:58.864Z"
   },
   {
    "duration": 586,
    "start_time": "2022-01-16T12:52:07.825Z"
   },
   {
    "duration": 4,
    "start_time": "2022-01-16T12:52:26.401Z"
   },
   {
    "duration": 4,
    "start_time": "2022-01-16T12:52:39.881Z"
   },
   {
    "duration": 626,
    "start_time": "2022-01-16T12:52:57.961Z"
   },
   {
    "duration": 4,
    "start_time": "2022-01-16T12:53:20.050Z"
   },
   {
    "duration": 561,
    "start_time": "2022-01-16T12:53:24.401Z"
   },
   {
    "duration": 6,
    "start_time": "2022-01-16T12:53:50.210Z"
   },
   {
    "duration": 24,
    "start_time": "2022-01-16T12:54:00.426Z"
   },
   {
    "duration": 9,
    "start_time": "2022-01-16T12:54:18.211Z"
   },
   {
    "duration": 11,
    "start_time": "2022-01-16T12:54:42.962Z"
   },
   {
    "duration": 5,
    "start_time": "2022-01-16T12:55:26.339Z"
   },
   {
    "duration": 13,
    "start_time": "2022-01-16T12:56:19.733Z"
   },
   {
    "duration": 12,
    "start_time": "2022-01-16T12:57:10.068Z"
   },
   {
    "duration": 283,
    "start_time": "2022-01-16T12:57:59.501Z"
   },
   {
    "duration": 3318,
    "start_time": "2022-01-16T12:58:39.831Z"
   },
   {
    "duration": 2098,
    "start_time": "2022-01-16T12:58:43.152Z"
   },
   {
    "duration": 480,
    "start_time": "2022-01-16T12:58:45.253Z"
   },
   {
    "duration": 290,
    "start_time": "2022-01-16T12:58:45.737Z"
   },
   {
    "duration": 60,
    "start_time": "2022-01-16T12:58:46.030Z"
   },
   {
    "duration": 82,
    "start_time": "2022-01-16T12:58:46.092Z"
   },
   {
    "duration": 7000,
    "start_time": "2022-01-16T12:58:46.176Z"
   },
   {
    "duration": 852,
    "start_time": "2022-01-16T12:58:53.180Z"
   },
   {
    "duration": 9,
    "start_time": "2022-01-16T12:58:54.035Z"
   },
   {
    "duration": 26,
    "start_time": "2022-01-16T12:58:54.046Z"
   },
   {
    "duration": 7,
    "start_time": "2022-01-16T12:58:54.074Z"
   },
   {
    "duration": 7147,
    "start_time": "2022-01-16T12:58:54.084Z"
   },
   {
    "duration": 51,
    "start_time": "2022-01-16T12:59:01.234Z"
   },
   {
    "duration": 49,
    "start_time": "2022-01-16T12:59:01.287Z"
   },
   {
    "duration": 6,
    "start_time": "2022-01-16T12:59:01.338Z"
   },
   {
    "duration": 4380,
    "start_time": "2022-01-16T12:59:01.346Z"
   },
   {
    "duration": 128,
    "start_time": "2022-01-16T12:59:05.730Z"
   },
   {
    "duration": 21,
    "start_time": "2022-01-16T12:59:05.861Z"
   },
   {
    "duration": 39,
    "start_time": "2022-01-16T12:59:05.884Z"
   },
   {
    "duration": 7505,
    "start_time": "2022-01-16T12:59:05.926Z"
   },
   {
    "duration": 135,
    "start_time": "2022-01-16T12:59:13.434Z"
   },
   {
    "duration": 11,
    "start_time": "2022-01-16T12:59:13.572Z"
   },
   {
    "duration": 35,
    "start_time": "2022-01-16T12:59:13.588Z"
   },
   {
    "duration": 7,
    "start_time": "2022-01-16T12:59:13.626Z"
   },
   {
    "duration": 8,
    "start_time": "2022-01-16T12:59:13.635Z"
   },
   {
    "duration": 16,
    "start_time": "2022-01-16T12:59:13.646Z"
   },
   {
    "duration": 10,
    "start_time": "2022-01-16T12:59:13.664Z"
   },
   {
    "duration": 51,
    "start_time": "2022-01-16T12:59:13.676Z"
   },
   {
    "duration": 20,
    "start_time": "2022-01-16T12:59:13.730Z"
   },
   {
    "duration": 5,
    "start_time": "2022-01-16T13:10:23.910Z"
   },
   {
    "duration": 17,
    "start_time": "2022-01-16T13:10:49.494Z"
   },
   {
    "duration": 133,
    "start_time": "2022-01-16T13:13:42.863Z"
   },
   {
    "duration": 582,
    "start_time": "2022-01-16T13:13:58.352Z"
   },
   {
    "duration": 6,
    "start_time": "2022-01-16T13:14:04.999Z"
   },
   {
    "duration": 697,
    "start_time": "2022-01-16T13:14:05.831Z"
   },
   {
    "duration": 4,
    "start_time": "2022-01-16T13:14:58.680Z"
   },
   {
    "duration": 673,
    "start_time": "2022-01-16T13:15:00.456Z"
   },
   {
    "duration": 5,
    "start_time": "2022-01-16T13:15:42.280Z"
   },
   {
    "duration": 18,
    "start_time": "2022-01-16T13:15:49.137Z"
   },
   {
    "duration": 296,
    "start_time": "2022-01-16T13:16:22.294Z"
   },
   {
    "duration": 11,
    "start_time": "2022-01-16T13:16:48.530Z"
   },
   {
    "duration": 13,
    "start_time": "2022-01-16T13:17:24.122Z"
   },
   {
    "duration": 6,
    "start_time": "2022-01-16T15:44:28.047Z"
   },
   {
    "duration": 4450,
    "start_time": "2022-01-16T15:51:32.101Z"
   },
   {
    "duration": 2642,
    "start_time": "2022-01-16T15:51:36.555Z"
   },
   {
    "duration": 557,
    "start_time": "2022-01-16T15:51:39.200Z"
   },
   {
    "duration": 340,
    "start_time": "2022-01-16T15:51:39.760Z"
   },
   {
    "duration": 65,
    "start_time": "2022-01-16T15:51:40.103Z"
   },
   {
    "duration": 42,
    "start_time": "2022-01-16T15:51:40.171Z"
   },
   {
    "duration": 7351,
    "start_time": "2022-01-16T15:51:40.224Z"
   },
   {
    "duration": 1337,
    "start_time": "2022-01-16T15:51:47.579Z"
   },
   {
    "duration": 8,
    "start_time": "2022-01-16T15:51:48.919Z"
   },
   {
    "duration": 33,
    "start_time": "2022-01-16T15:51:48.931Z"
   },
   {
    "duration": 7,
    "start_time": "2022-01-16T15:51:48.967Z"
   },
   {
    "duration": 6158,
    "start_time": "2022-01-16T15:51:48.978Z"
   },
   {
    "duration": 48,
    "start_time": "2022-01-16T15:51:55.140Z"
   },
   {
    "duration": 47,
    "start_time": "2022-01-16T15:51:55.190Z"
   },
   {
    "duration": 7,
    "start_time": "2022-01-16T15:51:55.241Z"
   },
   {
    "duration": 7176,
    "start_time": "2022-01-16T15:51:55.251Z"
   },
   {
    "duration": 97,
    "start_time": "2022-01-16T15:52:02.431Z"
   },
   {
    "duration": 20,
    "start_time": "2022-01-16T15:52:02.532Z"
   },
   {
    "duration": 7,
    "start_time": "2022-01-16T15:52:02.555Z"
   },
   {
    "duration": 100,
    "start_time": "2022-01-16T15:52:02.566Z"
   },
   {
    "duration": 824,
    "start_time": "2022-01-16T15:52:01.845Z"
   },
   {
    "duration": 822,
    "start_time": "2022-01-16T15:52:01.848Z"
   },
   {
    "duration": 820,
    "start_time": "2022-01-16T15:52:01.852Z"
   },
   {
    "duration": 817,
    "start_time": "2022-01-16T15:52:01.856Z"
   },
   {
    "duration": 813,
    "start_time": "2022-01-16T15:52:01.862Z"
   },
   {
    "duration": 811,
    "start_time": "2022-01-16T15:52:01.865Z"
   },
   {
    "duration": 810,
    "start_time": "2022-01-16T15:52:01.868Z"
   },
   {
    "duration": 5267,
    "start_time": "2022-01-16T15:52:54.683Z"
   },
   {
    "duration": 48,
    "start_time": "2022-01-16T15:53:05.754Z"
   },
   {
    "duration": 12,
    "start_time": "2022-01-16T15:53:10.161Z"
   },
   {
    "duration": 470,
    "start_time": "2022-01-16T15:53:41.355Z"
   },
   {
    "duration": 3,
    "start_time": "2022-01-16T15:53:59.010Z"
   },
   {
    "duration": 5,
    "start_time": "2022-01-16T15:54:00.226Z"
   },
   {
    "duration": 10,
    "start_time": "2022-01-16T15:54:54.883Z"
   },
   {
    "duration": 7,
    "start_time": "2022-01-16T15:55:06.043Z"
   },
   {
    "duration": 4,
    "start_time": "2022-01-16T15:58:17.270Z"
   },
   {
    "duration": 6,
    "start_time": "2022-01-16T15:58:52.567Z"
   },
   {
    "duration": 4,
    "start_time": "2022-01-16T15:59:46.134Z"
   },
   {
    "duration": 5,
    "start_time": "2022-01-16T15:59:46.934Z"
   },
   {
    "duration": 6,
    "start_time": "2022-01-16T15:59:47.983Z"
   },
   {
    "duration": 7,
    "start_time": "2022-01-16T16:02:20.880Z"
   },
   {
    "duration": 9,
    "start_time": "2022-01-16T17:48:18.027Z"
   },
   {
    "duration": 5,
    "start_time": "2022-01-16T19:00:08.017Z"
   },
   {
    "duration": 10,
    "start_time": "2022-01-16T19:01:17.330Z"
   },
   {
    "duration": 14,
    "start_time": "2022-01-16T19:04:41.764Z"
   },
   {
    "duration": 299,
    "start_time": "2022-01-16T19:17:42.301Z"
   },
   {
    "duration": 4,
    "start_time": "2022-01-16T19:17:49.997Z"
   },
   {
    "duration": 422,
    "start_time": "2022-01-16T19:17:51.398Z"
   },
   {
    "duration": 5,
    "start_time": "2022-01-16T19:18:18.854Z"
   },
   {
    "duration": 15,
    "start_time": "2022-01-16T19:18:19.718Z"
   },
   {
    "duration": 12,
    "start_time": "2022-01-16T19:26:56.379Z"
   },
   {
    "duration": 12,
    "start_time": "2022-01-16T19:26:58.715Z"
   },
   {
    "duration": 8,
    "start_time": "2022-01-16T19:31:20.375Z"
   },
   {
    "duration": 20,
    "start_time": "2022-01-16T19:31:23.255Z"
   },
   {
    "duration": 6,
    "start_time": "2022-01-16T19:31:24.160Z"
   },
   {
    "duration": 5767,
    "start_time": "2022-01-16T19:31:26.267Z"
   },
   {
    "duration": 6286,
    "start_time": "2022-01-16T19:31:49.643Z"
   },
   {
    "duration": 6356,
    "start_time": "2022-01-16T19:32:21.747Z"
   },
   {
    "duration": 336,
    "start_time": "2022-01-16T19:33:15.329Z"
   },
   {
    "duration": 6246,
    "start_time": "2022-01-16T19:34:58.980Z"
   },
   {
    "duration": 12,
    "start_time": "2022-01-16T19:35:32.883Z"
   },
   {
    "duration": 11,
    "start_time": "2022-01-16T19:36:05.956Z"
   },
   {
    "duration": 303,
    "start_time": "2022-01-16T19:37:33.588Z"
   },
   {
    "duration": 8,
    "start_time": "2022-01-16T19:38:15.006Z"
   },
   {
    "duration": 6288,
    "start_time": "2022-01-16T19:39:14.840Z"
   },
   {
    "duration": 6216,
    "start_time": "2022-01-16T19:39:33.316Z"
   },
   {
    "duration": 4,
    "start_time": "2022-01-16T19:40:01.607Z"
   },
   {
    "duration": 6096,
    "start_time": "2022-01-16T19:40:39.161Z"
   },
   {
    "duration": 6,
    "start_time": "2022-01-16T19:41:10.015Z"
   },
   {
    "duration": 13,
    "start_time": "2022-01-16T19:41:33.775Z"
   },
   {
    "duration": 5808,
    "start_time": "2022-01-16T19:42:48.134Z"
   },
   {
    "duration": 6279,
    "start_time": "2022-01-16T19:43:38.668Z"
   },
   {
    "duration": 6,
    "start_time": "2022-01-16T19:43:49.217Z"
   },
   {
    "duration": 20,
    "start_time": "2022-01-16T19:43:50.801Z"
   },
   {
    "duration": 5,
    "start_time": "2022-01-16T19:43:53.139Z"
   },
   {
    "duration": 6201,
    "start_time": "2022-01-16T19:43:56.230Z"
   },
   {
    "duration": 5,
    "start_time": "2022-01-16T19:44:14.186Z"
   },
   {
    "duration": 6,
    "start_time": "2022-01-16T19:44:21.498Z"
   },
   {
    "duration": 12,
    "start_time": "2022-01-16T19:44:23.898Z"
   },
   {
    "duration": 8,
    "start_time": "2022-01-16T19:44:28.610Z"
   },
   {
    "duration": 6,
    "start_time": "2022-01-16T19:44:38.458Z"
   },
   {
    "duration": 7,
    "start_time": "2022-01-16T19:45:19.938Z"
   },
   {
    "duration": 18,
    "start_time": "2022-01-16T19:45:21.362Z"
   },
   {
    "duration": 4,
    "start_time": "2022-01-16T19:45:23.308Z"
   },
   {
    "duration": 6496,
    "start_time": "2022-01-16T19:45:27.332Z"
   },
   {
    "duration": 11,
    "start_time": "2022-01-16T19:45:42.516Z"
   },
   {
    "duration": 11,
    "start_time": "2022-01-16T19:45:48.467Z"
   },
   {
    "duration": 7,
    "start_time": "2022-01-16T19:46:06.627Z"
   },
   {
    "duration": 19,
    "start_time": "2022-01-16T19:46:08.251Z"
   },
   {
    "duration": 5,
    "start_time": "2022-01-16T19:46:10.948Z"
   },
   {
    "duration": 6204,
    "start_time": "2022-01-16T19:46:13.220Z"
   },
   {
    "duration": 3407,
    "start_time": "2022-01-16T19:47:49.668Z"
   },
   {
    "duration": 1951,
    "start_time": "2022-01-16T19:47:53.079Z"
   },
   {
    "duration": 475,
    "start_time": "2022-01-16T19:47:55.033Z"
   },
   {
    "duration": 297,
    "start_time": "2022-01-16T19:47:55.511Z"
   },
   {
    "duration": 66,
    "start_time": "2022-01-16T19:47:55.811Z"
   },
   {
    "duration": 56,
    "start_time": "2022-01-16T19:47:55.880Z"
   },
   {
    "duration": 7142,
    "start_time": "2022-01-16T19:47:55.939Z"
   },
   {
    "duration": 841,
    "start_time": "2022-01-16T19:48:03.085Z"
   },
   {
    "duration": 7,
    "start_time": "2022-01-16T19:48:03.929Z"
   },
   {
    "duration": 23,
    "start_time": "2022-01-16T19:48:03.939Z"
   },
   {
    "duration": 5,
    "start_time": "2022-01-16T19:48:03.964Z"
   },
   {
    "duration": 6057,
    "start_time": "2022-01-16T19:48:03.971Z"
   },
   {
    "duration": 138,
    "start_time": "2022-01-16T19:48:10.031Z"
   },
   {
    "duration": 19,
    "start_time": "2022-01-16T19:48:10.171Z"
   },
   {
    "duration": 31,
    "start_time": "2022-01-16T19:48:10.192Z"
   },
   {
    "duration": 6306,
    "start_time": "2022-01-16T19:48:10.226Z"
   },
   {
    "duration": 35,
    "start_time": "2022-01-16T19:48:16.624Z"
   },
   {
    "duration": 17,
    "start_time": "2022-01-16T19:48:16.661Z"
   },
   {
    "duration": 4,
    "start_time": "2022-01-16T19:48:16.681Z"
   },
   {
    "duration": 6443,
    "start_time": "2022-01-16T19:48:16.688Z"
   },
   {
    "duration": 132,
    "start_time": "2022-01-16T19:48:23.134Z"
   },
   {
    "duration": 11,
    "start_time": "2022-01-16T19:48:23.269Z"
   },
   {
    "duration": 4,
    "start_time": "2022-01-16T19:48:23.284Z"
   },
   {
    "duration": 5,
    "start_time": "2022-01-16T19:48:23.323Z"
   },
   {
    "duration": 10,
    "start_time": "2022-01-16T19:48:23.330Z"
   },
   {
    "duration": 7,
    "start_time": "2022-01-16T19:48:23.342Z"
   },
   {
    "duration": 4,
    "start_time": "2022-01-16T19:48:23.352Z"
   },
   {
    "duration": 431,
    "start_time": "2022-01-16T19:48:23.358Z"
   },
   {
    "duration": 12,
    "start_time": "2022-01-16T19:49:45.141Z"
   },
   {
    "duration": 4,
    "start_time": "2022-01-16T19:51:10.143Z"
   },
   {
    "duration": 12,
    "start_time": "2022-01-16T19:51:50.233Z"
   },
   {
    "duration": 11,
    "start_time": "2022-01-16T19:51:58.080Z"
   },
   {
    "duration": 12,
    "start_time": "2022-01-16T19:52:02.728Z"
   },
   {
    "duration": 6,
    "start_time": "2022-01-16T19:52:15.640Z"
   },
   {
    "duration": 12,
    "start_time": "2022-01-16T19:52:17.105Z"
   },
   {
    "duration": 6,
    "start_time": "2022-01-16T19:52:19.096Z"
   },
   {
    "duration": 12,
    "start_time": "2022-01-16T19:52:19.568Z"
   },
   {
    "duration": 7,
    "start_time": "2022-01-16T19:52:21.576Z"
   },
   {
    "duration": 11,
    "start_time": "2022-01-16T19:52:22.121Z"
   },
   {
    "duration": 7,
    "start_time": "2022-01-16T19:52:55.432Z"
   },
   {
    "duration": 11,
    "start_time": "2022-01-16T19:53:02.481Z"
   },
   {
    "duration": 15,
    "start_time": "2022-01-16T19:53:11.121Z"
   },
   {
    "duration": 4,
    "start_time": "2022-01-16T19:53:20.481Z"
   },
   {
    "duration": 4,
    "start_time": "2022-01-16T19:56:16.458Z"
   },
   {
    "duration": 8682,
    "start_time": "2022-01-16T19:56:17.275Z"
   },
   {
    "duration": 12,
    "start_time": "2022-01-16T19:56:49.635Z"
   },
   {
    "duration": 985,
    "start_time": "2022-01-16T19:57:05.038Z"
   },
   {
    "duration": 8150,
    "start_time": "2022-01-16T19:57:11.651Z"
   },
   {
    "duration": 7177,
    "start_time": "2022-01-16T19:57:43.671Z"
   },
   {
    "duration": 7436,
    "start_time": "2022-01-16T19:57:54.732Z"
   },
   {
    "duration": 7134,
    "start_time": "2022-01-16T19:58:12.468Z"
   },
   {
    "duration": 10,
    "start_time": "2022-01-16T19:58:50.053Z"
   },
   {
    "duration": 8137,
    "start_time": "2022-01-16T19:59:02.509Z"
   },
   {
    "duration": 6,
    "start_time": "2022-01-16T19:59:29.094Z"
   },
   {
    "duration": 10626,
    "start_time": "2022-01-16T19:59:56.861Z"
   },
   {
    "duration": 7961,
    "start_time": "2022-01-16T20:00:12.528Z"
   },
   {
    "duration": 13,
    "start_time": "2022-01-16T20:00:25.390Z"
   },
   {
    "duration": 6,
    "start_time": "2022-01-16T20:02:40.470Z"
   },
   {
    "duration": 19,
    "start_time": "2022-01-16T20:02:45.582Z"
   },
   {
    "duration": 4,
    "start_time": "2022-01-16T20:02:46.496Z"
   },
   {
    "duration": 7,
    "start_time": "2022-01-16T20:03:12.719Z"
   },
   {
    "duration": 6283,
    "start_time": "2022-01-16T20:04:39.548Z"
   },
   {
    "duration": 13,
    "start_time": "2022-01-16T20:04:54.161Z"
   },
   {
    "duration": 5875,
    "start_time": "2022-01-16T20:05:14.664Z"
   },
   {
    "duration": 5889,
    "start_time": "2022-01-16T20:05:32.444Z"
   },
   {
    "duration": 7,
    "start_time": "2022-01-16T20:05:41.931Z"
   },
   {
    "duration": 19,
    "start_time": "2022-01-16T20:05:43.210Z"
   },
   {
    "duration": 5,
    "start_time": "2022-01-16T20:05:44.106Z"
   },
   {
    "duration": 6203,
    "start_time": "2022-01-16T20:05:47.228Z"
   },
   {
    "duration": 13,
    "start_time": "2022-01-16T20:05:58.252Z"
   },
   {
    "duration": 4,
    "start_time": "2022-01-16T20:06:26.106Z"
   },
   {
    "duration": 3531,
    "start_time": "2022-01-16T20:06:54.360Z"
   },
   {
    "duration": 2053,
    "start_time": "2022-01-16T20:06:57.894Z"
   },
   {
    "duration": 503,
    "start_time": "2022-01-16T20:06:59.951Z"
   },
   {
    "duration": 407,
    "start_time": "2022-01-16T20:07:00.457Z"
   },
   {
    "duration": 73,
    "start_time": "2022-01-16T20:07:00.867Z"
   },
   {
    "duration": 46,
    "start_time": "2022-01-16T20:07:00.942Z"
   },
   {
    "duration": 9554,
    "start_time": "2022-01-16T20:07:00.990Z"
   },
   {
    "duration": 1172,
    "start_time": "2022-01-16T20:07:10.549Z"
   },
   {
    "duration": 10,
    "start_time": "2022-01-16T20:07:11.725Z"
   },
   {
    "duration": 23,
    "start_time": "2022-01-16T20:07:11.737Z"
   },
   {
    "duration": 5,
    "start_time": "2022-01-16T20:07:11.763Z"
   },
   {
    "duration": 7361,
    "start_time": "2022-01-16T20:07:11.771Z"
   },
   {
    "duration": 59,
    "start_time": "2022-01-16T20:07:19.135Z"
   },
   {
    "duration": 43,
    "start_time": "2022-01-16T20:07:19.196Z"
   },
   {
    "duration": 7,
    "start_time": "2022-01-16T20:07:19.242Z"
   },
   {
    "duration": 5472,
    "start_time": "2022-01-16T20:07:19.252Z"
   },
   {
    "duration": 128,
    "start_time": "2022-01-16T20:07:24.728Z"
   },
   {
    "duration": 26,
    "start_time": "2022-01-16T20:07:24.859Z"
   },
   {
    "duration": 5,
    "start_time": "2022-01-16T20:07:24.888Z"
   },
   {
    "duration": 6406,
    "start_time": "2022-01-16T20:07:24.923Z"
   },
   {
    "duration": 47,
    "start_time": "2022-01-16T20:07:31.331Z"
   },
   {
    "duration": 11,
    "start_time": "2022-01-16T20:07:31.380Z"
   },
   {
    "duration": 30,
    "start_time": "2022-01-16T20:07:31.395Z"
   },
   {
    "duration": 8,
    "start_time": "2022-01-16T20:07:31.428Z"
   },
   {
    "duration": 11,
    "start_time": "2022-01-16T20:07:31.439Z"
   },
   {
    "duration": 10,
    "start_time": "2022-01-16T20:07:31.453Z"
   },
   {
    "duration": 11,
    "start_time": "2022-01-16T20:07:31.466Z"
   },
   {
    "duration": 587,
    "start_time": "2022-01-16T20:07:31.480Z"
   },
   {
    "duration": 979,
    "start_time": "2022-01-16T20:07:31.091Z"
   },
   {
    "duration": 979,
    "start_time": "2022-01-16T20:07:31.093Z"
   },
   {
    "duration": 976,
    "start_time": "2022-01-16T20:07:31.098Z"
   },
   {
    "duration": 12,
    "start_time": "2022-01-16T20:08:23.645Z"
   },
   {
    "duration": 7,
    "start_time": "2022-01-16T20:09:06.558Z"
   },
   {
    "duration": 14,
    "start_time": "2022-01-16T20:09:13.102Z"
   },
   {
    "duration": 22,
    "start_time": "2022-01-16T20:09:27.990Z"
   },
   {
    "duration": 7,
    "start_time": "2022-01-16T20:09:47.350Z"
   },
   {
    "duration": 22,
    "start_time": "2022-01-16T20:09:49.863Z"
   },
   {
    "duration": 4811,
    "start_time": "2022-01-16T20:10:09.337Z"
   },
   {
    "duration": 13,
    "start_time": "2022-01-16T20:10:25.279Z"
   },
   {
    "duration": 14,
    "start_time": "2022-01-16T20:10:33.829Z"
   },
   {
    "duration": 7,
    "start_time": "2022-01-16T20:11:07.703Z"
   },
   {
    "duration": 20,
    "start_time": "2022-01-16T20:11:11.567Z"
   },
   {
    "duration": 6252,
    "start_time": "2022-01-16T20:11:14.572Z"
   },
   {
    "duration": 11,
    "start_time": "2022-01-16T20:11:24.599Z"
   },
   {
    "duration": 13,
    "start_time": "2022-01-16T20:11:30.816Z"
   },
   {
    "duration": 8,
    "start_time": "2022-01-16T20:12:00.032Z"
   },
   {
    "duration": 19,
    "start_time": "2022-01-16T20:12:04.607Z"
   },
   {
    "duration": 6468,
    "start_time": "2022-01-16T20:12:06.756Z"
   },
   {
    "duration": 12,
    "start_time": "2022-01-16T20:12:15.896Z"
   },
   {
    "duration": 13,
    "start_time": "2022-01-16T20:12:22.200Z"
   },
   {
    "duration": 5,
    "start_time": "2022-01-16T20:13:13.601Z"
   },
   {
    "duration": 7,
    "start_time": "2022-01-16T20:13:22.144Z"
   },
   {
    "duration": 12,
    "start_time": "2022-01-16T20:13:30.161Z"
   },
   {
    "duration": 423,
    "start_time": "2022-01-16T20:13:45.009Z"
   },
   {
    "duration": 7,
    "start_time": "2022-01-16T20:14:54.170Z"
   },
   {
    "duration": 7620,
    "start_time": "2022-01-16T20:15:17.386Z"
   },
   {
    "duration": 11,
    "start_time": "2022-01-16T20:15:39.154Z"
   },
   {
    "duration": 8763,
    "start_time": "2022-01-16T20:15:59.746Z"
   },
   {
    "duration": 6,
    "start_time": "2022-01-16T20:16:40.395Z"
   },
   {
    "duration": 7,
    "start_time": "2022-01-16T20:16:54.859Z"
   },
   {
    "duration": 9,
    "start_time": "2022-01-16T20:17:29.236Z"
   },
   {
    "duration": 12,
    "start_time": "2022-01-16T20:17:38.444Z"
   },
   {
    "duration": 7,
    "start_time": "2022-01-16T20:17:44.772Z"
   },
   {
    "duration": 5,
    "start_time": "2022-01-16T20:18:23.508Z"
   },
   {
    "duration": 5,
    "start_time": "2022-01-16T20:18:30.501Z"
   },
   {
    "duration": 11,
    "start_time": "2022-01-16T20:19:18.733Z"
   },
   {
    "duration": 12,
    "start_time": "2022-01-16T20:19:25.717Z"
   },
   {
    "duration": 8,
    "start_time": "2022-01-16T20:20:07.237Z"
   },
   {
    "duration": 15,
    "start_time": "2022-01-16T20:21:18.801Z"
   },
   {
    "duration": 25,
    "start_time": "2022-01-16T20:22:10.576Z"
   },
   {
    "duration": 6,
    "start_time": "2022-01-16T20:22:15.343Z"
   },
   {
    "duration": 27,
    "start_time": "2022-01-16T20:22:52.919Z"
   },
   {
    "duration": 123,
    "start_time": "2022-01-16T20:32:41.234Z"
   },
   {
    "duration": 30,
    "start_time": "2022-01-16T20:32:48.265Z"
   },
   {
    "duration": 4,
    "start_time": "2022-01-16T20:33:41.763Z"
   },
   {
    "duration": 30,
    "start_time": "2022-01-16T20:33:44.874Z"
   },
   {
    "duration": 4,
    "start_time": "2022-01-16T20:34:54.825Z"
   },
   {
    "duration": 31,
    "start_time": "2022-01-16T20:34:57.817Z"
   },
   {
    "duration": 30,
    "start_time": "2022-01-16T20:35:46.410Z"
   },
   {
    "duration": 31,
    "start_time": "2022-01-16T20:36:02.202Z"
   },
   {
    "duration": 31,
    "start_time": "2022-01-16T20:36:16.065Z"
   },
   {
    "duration": 31,
    "start_time": "2022-01-16T20:36:23.748Z"
   },
   {
    "duration": 6,
    "start_time": "2022-01-16T20:38:38.035Z"
   },
   {
    "duration": 31,
    "start_time": "2022-01-16T20:39:10.735Z"
   },
   {
    "duration": 7,
    "start_time": "2022-01-16T20:39:13.276Z"
   },
   {
    "duration": 33,
    "start_time": "2022-01-16T20:39:19.088Z"
   },
   {
    "duration": 5,
    "start_time": "2022-01-16T20:39:26.780Z"
   },
   {
    "duration": 30,
    "start_time": "2022-01-16T20:39:46.920Z"
   },
   {
    "duration": 6,
    "start_time": "2022-01-16T20:39:48.004Z"
   },
   {
    "duration": 112,
    "start_time": "2022-01-16T20:40:54.823Z"
   },
   {
    "duration": 5190,
    "start_time": "2022-01-16T20:41:23.182Z"
   },
   {
    "duration": 5081,
    "start_time": "2022-01-16T20:42:40.031Z"
   },
   {
    "duration": 5755,
    "start_time": "2022-01-16T20:43:00.985Z"
   },
   {
    "duration": 5591,
    "start_time": "2022-01-16T20:43:18.684Z"
   },
   {
    "duration": 5285,
    "start_time": "2022-01-16T20:43:32.609Z"
   },
   {
    "duration": 5220,
    "start_time": "2022-01-16T20:43:55.313Z"
   },
   {
    "duration": 3280,
    "start_time": "2022-01-16T20:45:54.910Z"
   },
   {
    "duration": 2064,
    "start_time": "2022-01-16T20:45:58.197Z"
   },
   {
    "duration": 493,
    "start_time": "2022-01-16T20:46:00.264Z"
   },
   {
    "duration": 329,
    "start_time": "2022-01-16T20:46:00.759Z"
   },
   {
    "duration": 69,
    "start_time": "2022-01-16T20:46:01.091Z"
   },
   {
    "duration": 43,
    "start_time": "2022-01-16T20:46:01.163Z"
   },
   {
    "duration": 7069,
    "start_time": "2022-01-16T20:46:01.224Z"
   },
   {
    "duration": 837,
    "start_time": "2022-01-16T20:46:08.299Z"
   },
   {
    "duration": 7,
    "start_time": "2022-01-16T20:46:09.140Z"
   },
   {
    "duration": 22,
    "start_time": "2022-01-16T20:46:09.150Z"
   },
   {
    "duration": 4,
    "start_time": "2022-01-16T20:46:09.175Z"
   },
   {
    "duration": 6245,
    "start_time": "2022-01-16T20:46:09.182Z"
   },
   {
    "duration": 136,
    "start_time": "2022-01-16T20:46:15.431Z"
   },
   {
    "duration": 18,
    "start_time": "2022-01-16T20:46:15.569Z"
   },
   {
    "duration": 4,
    "start_time": "2022-01-16T20:46:15.590Z"
   },
   {
    "duration": 5908,
    "start_time": "2022-01-16T20:46:15.623Z"
   },
   {
    "duration": 118,
    "start_time": "2022-01-16T20:46:21.534Z"
   },
   {
    "duration": 19,
    "start_time": "2022-01-16T20:46:21.655Z"
   },
   {
    "duration": 5,
    "start_time": "2022-01-16T20:46:21.676Z"
   },
   {
    "duration": 5843,
    "start_time": "2022-01-16T20:46:21.683Z"
   },
   {
    "duration": 137,
    "start_time": "2022-01-16T20:46:27.529Z"
   },
   {
    "duration": 11,
    "start_time": "2022-01-16T20:46:27.669Z"
   },
   {
    "duration": 19,
    "start_time": "2022-01-16T20:46:27.682Z"
   },
   {
    "duration": 22,
    "start_time": "2022-01-16T20:46:27.703Z"
   },
   {
    "duration": 7,
    "start_time": "2022-01-16T20:46:27.727Z"
   },
   {
    "duration": 6,
    "start_time": "2022-01-16T20:46:27.739Z"
   },
   {
    "duration": 5,
    "start_time": "2022-01-16T20:46:27.748Z"
   },
   {
    "duration": 5394,
    "start_time": "2022-01-16T20:46:27.755Z"
   },
   {
    "duration": 5374,
    "start_time": "2022-01-16T20:46:33.151Z"
   },
   {
    "duration": 5212,
    "start_time": "2022-01-16T20:46:38.527Z"
   },
   {
    "duration": 5,
    "start_time": "2022-01-16T20:48:12.413Z"
   },
   {
    "duration": 5,
    "start_time": "2022-01-16T20:48:38.669Z"
   },
   {
    "duration": 5,
    "start_time": "2022-01-16T20:50:19.479Z"
   },
   {
    "duration": 628,
    "start_time": "2022-01-16T20:50:22.834Z"
   },
   {
    "duration": 290,
    "start_time": "2022-01-16T20:50:35.096Z"
   },
   {
    "duration": 5,
    "start_time": "2022-01-16T20:50:54.329Z"
   },
   {
    "duration": 9,
    "start_time": "2022-01-16T20:51:00.344Z"
   },
   {
    "duration": 9,
    "start_time": "2022-01-16T20:51:12.872Z"
   },
   {
    "duration": 4,
    "start_time": "2022-01-16T20:52:31.337Z"
   },
   {
    "duration": 7,
    "start_time": "2022-01-16T20:52:36.112Z"
   },
   {
    "duration": 6,
    "start_time": "2022-01-16T20:53:34.114Z"
   },
   {
    "duration": 425,
    "start_time": "2022-01-16T20:54:07.531Z"
   },
   {
    "duration": 584,
    "start_time": "2022-01-16T20:54:30.124Z"
   },
   {
    "duration": 112,
    "start_time": "2022-01-16T20:54:45.676Z"
   },
   {
    "duration": 5437,
    "start_time": "2022-01-16T20:56:08.587Z"
   },
   {
    "duration": 10,
    "start_time": "2022-01-16T20:56:37.548Z"
   },
   {
    "duration": 5,
    "start_time": "2022-01-16T20:57:26.236Z"
   },
   {
    "duration": 5,
    "start_time": "2022-01-16T20:57:36.781Z"
   },
   {
    "duration": 6,
    "start_time": "2022-01-16T20:57:42.044Z"
   },
   {
    "duration": 5516,
    "start_time": "2022-01-16T20:58:01.925Z"
   },
   {
    "duration": 10,
    "start_time": "2022-01-16T20:58:14.764Z"
   },
   {
    "duration": 6,
    "start_time": "2022-01-16T20:58:30.387Z"
   },
   {
    "duration": 5393,
    "start_time": "2022-01-16T20:58:42.206Z"
   },
   {
    "duration": 12,
    "start_time": "2022-01-16T20:58:51.115Z"
   },
   {
    "duration": 5532,
    "start_time": "2022-01-16T20:59:27.349Z"
   },
   {
    "duration": 9,
    "start_time": "2022-01-16T20:59:36.021Z"
   },
   {
    "duration": 5466,
    "start_time": "2022-01-16T21:00:37.015Z"
   },
   {
    "duration": 3441,
    "start_time": "2022-01-16T21:02:23.453Z"
   },
   {
    "duration": 2080,
    "start_time": "2022-01-16T21:02:26.897Z"
   },
   {
    "duration": 484,
    "start_time": "2022-01-16T21:02:28.980Z"
   },
   {
    "duration": 315,
    "start_time": "2022-01-16T21:02:29.466Z"
   },
   {
    "duration": 75,
    "start_time": "2022-01-16T21:02:29.784Z"
   },
   {
    "duration": 44,
    "start_time": "2022-01-16T21:02:29.861Z"
   },
   {
    "duration": 6763,
    "start_time": "2022-01-16T21:02:29.924Z"
   },
   {
    "duration": 837,
    "start_time": "2022-01-16T21:02:36.691Z"
   },
   {
    "duration": 7,
    "start_time": "2022-01-16T21:02:37.531Z"
   },
   {
    "duration": 24,
    "start_time": "2022-01-16T21:02:37.540Z"
   },
   {
    "duration": 5,
    "start_time": "2022-01-16T21:02:37.566Z"
   },
   {
    "duration": 6154,
    "start_time": "2022-01-16T21:02:37.573Z"
   },
   {
    "duration": 121,
    "start_time": "2022-01-16T21:02:43.730Z"
   },
   {
    "duration": 18,
    "start_time": "2022-01-16T21:02:43.853Z"
   },
   {
    "duration": 5,
    "start_time": "2022-01-16T21:02:43.873Z"
   },
   {
    "duration": 6244,
    "start_time": "2022-01-16T21:02:43.881Z"
   },
   {
    "duration": 122,
    "start_time": "2022-01-16T21:02:50.128Z"
   },
   {
    "duration": 18,
    "start_time": "2022-01-16T21:02:50.252Z"
   },
   {
    "duration": 5,
    "start_time": "2022-01-16T21:02:50.272Z"
   },
   {
    "duration": 6144,
    "start_time": "2022-01-16T21:02:50.279Z"
   },
   {
    "duration": 46,
    "start_time": "2022-01-16T21:02:56.426Z"
   },
   {
    "duration": 11,
    "start_time": "2022-01-16T21:02:56.474Z"
   },
   {
    "duration": 4,
    "start_time": "2022-01-16T21:02:56.522Z"
   },
   {
    "duration": 6,
    "start_time": "2022-01-16T21:02:56.528Z"
   },
   {
    "duration": 8,
    "start_time": "2022-01-16T21:02:56.537Z"
   },
   {
    "duration": 8,
    "start_time": "2022-01-16T21:02:56.547Z"
   },
   {
    "duration": 5,
    "start_time": "2022-01-16T21:02:56.557Z"
   },
   {
    "duration": 5310,
    "start_time": "2022-01-16T21:02:56.565Z"
   },
   {
    "duration": 7,
    "start_time": "2022-01-16T21:03:01.877Z"
   },
   {
    "duration": 5382,
    "start_time": "2022-01-16T21:03:01.886Z"
   },
   {
    "duration": 5413,
    "start_time": "2022-01-16T21:03:07.271Z"
   },
   {
    "duration": 10,
    "start_time": "2022-01-16T21:05:21.740Z"
   },
   {
    "duration": 10,
    "start_time": "2022-01-16T21:05:32.740Z"
   },
   {
    "duration": 5,
    "start_time": "2022-01-16T21:06:20.396Z"
   },
   {
    "duration": 10,
    "start_time": "2022-01-16T21:06:24.412Z"
   },
   {
    "duration": 5,
    "start_time": "2022-01-16T21:06:37.149Z"
   },
   {
    "duration": 5868,
    "start_time": "2022-01-16T21:09:16.691Z"
   },
   {
    "duration": 5531,
    "start_time": "2022-01-16T21:10:24.627Z"
   },
   {
    "duration": 5518,
    "start_time": "2022-01-16T21:11:04.227Z"
   },
   {
    "duration": 5238,
    "start_time": "2022-01-16T21:11:45.747Z"
   },
   {
    "duration": 10,
    "start_time": "2022-01-16T21:11:58.200Z"
   },
   {
    "duration": 5684,
    "start_time": "2022-01-16T21:12:25.571Z"
   },
   {
    "duration": 5519,
    "start_time": "2022-01-16T21:14:35.301Z"
   },
   {
    "duration": 5647,
    "start_time": "2022-01-16T21:15:12.142Z"
   },
   {
    "duration": 5535,
    "start_time": "2022-01-16T21:15:24.942Z"
   },
   {
    "duration": 5391,
    "start_time": "2022-01-16T21:15:42.036Z"
   },
   {
    "duration": 5271,
    "start_time": "2022-01-16T21:16:23.028Z"
   },
   {
    "duration": 5201,
    "start_time": "2022-01-16T21:17:28.229Z"
   },
   {
    "duration": 8,
    "start_time": "2022-01-16T21:17:39.845Z"
   },
   {
    "duration": 5114,
    "start_time": "2022-01-16T21:18:35.070Z"
   },
   {
    "duration": 11,
    "start_time": "2022-01-16T21:18:42.171Z"
   },
   {
    "duration": 5319,
    "start_time": "2022-01-16T21:19:11.325Z"
   },
   {
    "duration": 10,
    "start_time": "2022-01-16T21:19:20.598Z"
   },
   {
    "duration": 124,
    "start_time": "2022-01-16T21:20:52.567Z"
   },
   {
    "duration": 5678,
    "start_time": "2022-01-16T21:21:58.648Z"
   },
   {
    "duration": 5263,
    "start_time": "2022-01-16T21:22:18.525Z"
   },
   {
    "duration": 9,
    "start_time": "2022-01-16T21:22:26.658Z"
   },
   {
    "duration": 5225,
    "start_time": "2022-01-16T21:22:56.249Z"
   },
   {
    "duration": 14,
    "start_time": "2022-01-16T21:23:04.624Z"
   },
   {
    "duration": 6,
    "start_time": "2022-01-16T21:23:15.745Z"
   },
   {
    "duration": 5601,
    "start_time": "2022-01-16T21:23:17.537Z"
   },
   {
    "duration": 10,
    "start_time": "2022-01-16T21:23:25.625Z"
   },
   {
    "duration": 3611,
    "start_time": "2022-01-16T21:25:07.480Z"
   },
   {
    "duration": 2248,
    "start_time": "2022-01-16T21:25:11.094Z"
   },
   {
    "duration": 473,
    "start_time": "2022-01-16T21:25:13.345Z"
   },
   {
    "duration": 302,
    "start_time": "2022-01-16T21:25:13.821Z"
   },
   {
    "duration": 56,
    "start_time": "2022-01-16T21:25:14.125Z"
   },
   {
    "duration": 55,
    "start_time": "2022-01-16T21:25:14.184Z"
   },
   {
    "duration": 6789,
    "start_time": "2022-01-16T21:25:14.242Z"
   },
   {
    "duration": 834,
    "start_time": "2022-01-16T21:25:21.036Z"
   },
   {
    "duration": 8,
    "start_time": "2022-01-16T21:25:21.874Z"
   },
   {
    "duration": 44,
    "start_time": "2022-01-16T21:25:21.885Z"
   },
   {
    "duration": 6,
    "start_time": "2022-01-16T21:25:21.932Z"
   },
   {
    "duration": 5787,
    "start_time": "2022-01-16T21:25:21.941Z"
   },
   {
    "duration": 135,
    "start_time": "2022-01-16T21:25:27.732Z"
   },
   {
    "duration": 19,
    "start_time": "2022-01-16T21:25:27.869Z"
   },
   {
    "duration": 33,
    "start_time": "2022-01-16T21:25:27.890Z"
   },
   {
    "duration": 6099,
    "start_time": "2022-01-16T21:25:27.926Z"
   },
   {
    "duration": 125,
    "start_time": "2022-01-16T21:25:34.029Z"
   },
   {
    "duration": 19,
    "start_time": "2022-01-16T21:25:34.156Z"
   },
   {
    "duration": 6,
    "start_time": "2022-01-16T21:25:34.177Z"
   },
   {
    "duration": 6240,
    "start_time": "2022-01-16T21:25:34.186Z"
   },
   {
    "duration": 126,
    "start_time": "2022-01-16T21:25:40.430Z"
   },
   {
    "duration": 10,
    "start_time": "2022-01-16T21:25:40.558Z"
   },
   {
    "duration": 3,
    "start_time": "2022-01-16T21:25:40.573Z"
   },
   {
    "duration": 7,
    "start_time": "2022-01-16T21:25:40.578Z"
   },
   {
    "duration": 6,
    "start_time": "2022-01-16T21:25:40.623Z"
   },
   {
    "duration": 8,
    "start_time": "2022-01-16T21:25:40.632Z"
   },
   {
    "duration": 6,
    "start_time": "2022-01-16T21:25:40.643Z"
   },
   {
    "duration": 5424,
    "start_time": "2022-01-16T21:25:40.651Z"
   },
   {
    "duration": 5148,
    "start_time": "2022-01-16T21:25:46.077Z"
   },
   {
    "duration": 5869,
    "start_time": "2022-01-16T21:25:51.228Z"
   },
   {
    "duration": 1035,
    "start_time": "2022-01-16T21:25:56.065Z"
   },
   {
    "duration": 5391,
    "start_time": "2022-01-16T21:26:08.172Z"
   },
   {
    "duration": 11,
    "start_time": "2022-01-16T21:26:17.172Z"
   },
   {
    "duration": 3373,
    "start_time": "2022-01-16T21:26:50.972Z"
   },
   {
    "duration": 2018,
    "start_time": "2022-01-16T21:26:54.348Z"
   },
   {
    "duration": 488,
    "start_time": "2022-01-16T21:26:56.369Z"
   },
   {
    "duration": 311,
    "start_time": "2022-01-16T21:26:56.860Z"
   },
   {
    "duration": 68,
    "start_time": "2022-01-16T21:26:57.174Z"
   },
   {
    "duration": 37,
    "start_time": "2022-01-16T21:26:57.245Z"
   },
   {
    "duration": 7089,
    "start_time": "2022-01-16T21:26:57.285Z"
   },
   {
    "duration": 833,
    "start_time": "2022-01-16T21:27:04.378Z"
   },
   {
    "duration": 13,
    "start_time": "2022-01-16T21:27:05.215Z"
   },
   {
    "duration": 27,
    "start_time": "2022-01-16T21:27:05.231Z"
   },
   {
    "duration": 5,
    "start_time": "2022-01-16T21:27:05.260Z"
   },
   {
    "duration": 6356,
    "start_time": "2022-01-16T21:27:05.267Z"
   },
   {
    "duration": 46,
    "start_time": "2022-01-16T21:27:11.627Z"
   },
   {
    "duration": 49,
    "start_time": "2022-01-16T21:27:11.676Z"
   },
   {
    "duration": 5,
    "start_time": "2022-01-16T21:27:11.727Z"
   },
   {
    "duration": 6291,
    "start_time": "2022-01-16T21:27:11.734Z"
   },
   {
    "duration": 35,
    "start_time": "2022-01-16T21:27:18.028Z"
   },
   {
    "duration": 19,
    "start_time": "2022-01-16T21:27:18.066Z"
   },
   {
    "duration": 38,
    "start_time": "2022-01-16T21:27:18.087Z"
   },
   {
    "duration": 6102,
    "start_time": "2022-01-16T21:27:18.128Z"
   },
   {
    "duration": 132,
    "start_time": "2022-01-16T21:27:24.233Z"
   },
   {
    "duration": 11,
    "start_time": "2022-01-16T21:27:24.367Z"
   },
   {
    "duration": 4,
    "start_time": "2022-01-16T21:27:24.384Z"
   },
   {
    "duration": 5,
    "start_time": "2022-01-16T21:27:24.424Z"
   },
   {
    "duration": 10,
    "start_time": "2022-01-16T21:27:24.432Z"
   },
   {
    "duration": 7,
    "start_time": "2022-01-16T21:27:24.445Z"
   },
   {
    "duration": 5,
    "start_time": "2022-01-16T21:27:24.456Z"
   },
   {
    "duration": 5205,
    "start_time": "2022-01-16T21:27:24.463Z"
   },
   {
    "duration": 5193,
    "start_time": "2022-01-16T21:27:29.670Z"
   },
   {
    "duration": 5093,
    "start_time": "2022-01-16T21:27:34.865Z"
   },
   {
    "duration": 11,
    "start_time": "2022-01-16T21:27:39.961Z"
   },
   {
    "duration": 3387,
    "start_time": "2022-01-16T21:59:36.157Z"
   },
   {
    "duration": 2700,
    "start_time": "2022-01-16T21:59:39.547Z"
   },
   {
    "duration": 503,
    "start_time": "2022-01-16T21:59:42.250Z"
   },
   {
    "duration": 293,
    "start_time": "2022-01-16T21:59:42.756Z"
   },
   {
    "duration": 55,
    "start_time": "2022-01-16T21:59:43.052Z"
   },
   {
    "duration": 39,
    "start_time": "2022-01-16T21:59:43.124Z"
   },
   {
    "duration": 6838,
    "start_time": "2022-01-16T21:59:43.165Z"
   },
   {
    "duration": 792,
    "start_time": "2022-01-16T21:59:50.006Z"
   },
   {
    "duration": 7,
    "start_time": "2022-01-16T21:59:50.801Z"
   },
   {
    "duration": 20,
    "start_time": "2022-01-16T21:59:50.822Z"
   },
   {
    "duration": 5,
    "start_time": "2022-01-16T21:59:50.844Z"
   },
   {
    "duration": 6182,
    "start_time": "2022-01-16T21:59:50.851Z"
   },
   {
    "duration": 131,
    "start_time": "2022-01-16T21:59:57.036Z"
   },
   {
    "duration": 19,
    "start_time": "2022-01-16T21:59:57.170Z"
   },
   {
    "duration": 4,
    "start_time": "2022-01-16T21:59:57.192Z"
   },
   {
    "duration": 6204,
    "start_time": "2022-01-16T21:59:57.224Z"
   },
   {
    "duration": 125,
    "start_time": "2022-01-16T22:00:03.431Z"
   },
   {
    "duration": 17,
    "start_time": "2022-01-16T22:00:03.559Z"
   },
   {
    "duration": 5,
    "start_time": "2022-01-16T22:00:03.579Z"
   },
   {
    "duration": 6245,
    "start_time": "2022-01-16T22:00:03.586Z"
   },
   {
    "duration": 47,
    "start_time": "2022-01-16T22:00:09.925Z"
   },
   {
    "duration": 13,
    "start_time": "2022-01-16T22:00:09.975Z"
   },
   {
    "duration": 4,
    "start_time": "2022-01-16T22:00:10.022Z"
   },
   {
    "duration": 19,
    "start_time": "2022-01-16T22:00:10.030Z"
   },
   {
    "duration": 10,
    "start_time": "2022-01-16T22:00:10.052Z"
   },
   {
    "duration": 12,
    "start_time": "2022-01-16T22:00:10.065Z"
   },
   {
    "duration": 18,
    "start_time": "2022-01-16T22:00:10.080Z"
   },
   {
    "duration": 5251,
    "start_time": "2022-01-16T22:00:10.101Z"
   },
   {
    "duration": 5269,
    "start_time": "2022-01-16T22:00:15.354Z"
   },
   {
    "duration": 5332,
    "start_time": "2022-01-16T22:00:20.626Z"
   },
   {
    "duration": 11,
    "start_time": "2022-01-16T22:00:25.960Z"
   },
   {
    "duration": 3365,
    "start_time": "2022-01-16T22:02:10.812Z"
   },
   {
    "duration": 2100,
    "start_time": "2022-01-16T22:02:14.180Z"
   },
   {
    "duration": 487,
    "start_time": "2022-01-16T22:02:16.283Z"
   },
   {
    "duration": 301,
    "start_time": "2022-01-16T22:02:16.773Z"
   },
   {
    "duration": 64,
    "start_time": "2022-01-16T22:02:17.077Z"
   },
   {
    "duration": 36,
    "start_time": "2022-01-16T22:02:17.144Z"
   },
   {
    "duration": 6873,
    "start_time": "2022-01-16T22:02:17.183Z"
   },
   {
    "duration": 832,
    "start_time": "2022-01-16T22:02:24.059Z"
   },
   {
    "duration": 7,
    "start_time": "2022-01-16T22:02:24.894Z"
   },
   {
    "duration": 34,
    "start_time": "2022-01-16T22:02:24.904Z"
   },
   {
    "duration": 4,
    "start_time": "2022-01-16T22:02:24.941Z"
   },
   {
    "duration": 6279,
    "start_time": "2022-01-16T22:02:24.948Z"
   },
   {
    "duration": 124,
    "start_time": "2022-01-16T22:02:31.230Z"
   },
   {
    "duration": 18,
    "start_time": "2022-01-16T22:02:31.357Z"
   },
   {
    "duration": 5,
    "start_time": "2022-01-16T22:02:31.377Z"
   },
   {
    "duration": 6142,
    "start_time": "2022-01-16T22:02:31.384Z"
   },
   {
    "duration": 122,
    "start_time": "2022-01-16T22:02:37.530Z"
   },
   {
    "duration": 17,
    "start_time": "2022-01-16T22:02:37.655Z"
   },
   {
    "duration": 4,
    "start_time": "2022-01-16T22:02:37.675Z"
   },
   {
    "duration": 6345,
    "start_time": "2022-01-16T22:02:37.681Z"
   },
   {
    "duration": 200,
    "start_time": "2022-01-16T22:02:44.029Z"
   },
   {
    "duration": 14,
    "start_time": "2022-01-16T22:02:44.232Z"
   },
   {
    "duration": 4,
    "start_time": "2022-01-16T22:02:44.253Z"
   },
   {
    "duration": 6,
    "start_time": "2022-01-16T22:02:44.261Z"
   },
   {
    "duration": 60,
    "start_time": "2022-01-16T22:02:44.269Z"
   },
   {
    "duration": 7,
    "start_time": "2022-01-16T22:02:44.332Z"
   },
   {
    "duration": 6,
    "start_time": "2022-01-16T22:02:44.341Z"
   },
   {
    "duration": 5545,
    "start_time": "2022-01-16T22:02:44.349Z"
   },
   {
    "duration": 5227,
    "start_time": "2022-01-16T22:02:49.896Z"
   },
   {
    "duration": 5171,
    "start_time": "2022-01-16T22:02:55.126Z"
   },
   {
    "duration": 10,
    "start_time": "2022-01-16T22:03:00.299Z"
   },
   {
    "duration": 3565,
    "start_time": "2022-01-16T22:18:28.313Z"
   },
   {
    "duration": 2270,
    "start_time": "2022-01-16T22:18:31.886Z"
   },
   {
    "duration": 627,
    "start_time": "2022-01-16T22:18:34.159Z"
   },
   {
    "duration": 438,
    "start_time": "2022-01-16T22:18:34.789Z"
   },
   {
    "duration": 61,
    "start_time": "2022-01-16T22:18:35.230Z"
   },
   {
    "duration": 58,
    "start_time": "2022-01-16T22:18:35.293Z"
   },
   {
    "duration": 6870,
    "start_time": "2022-01-16T22:18:35.355Z"
   },
   {
    "duration": 823,
    "start_time": "2022-01-16T22:18:42.228Z"
   },
   {
    "duration": 7,
    "start_time": "2022-01-16T22:18:43.053Z"
   },
   {
    "duration": 22,
    "start_time": "2022-01-16T22:18:43.063Z"
   },
   {
    "duration": 5,
    "start_time": "2022-01-16T22:18:43.087Z"
   },
   {
    "duration": 6531,
    "start_time": "2022-01-16T22:18:43.094Z"
   },
   {
    "duration": 134,
    "start_time": "2022-01-16T22:18:49.629Z"
   },
   {
    "duration": 18,
    "start_time": "2022-01-16T22:18:49.766Z"
   },
   {
    "duration": 7,
    "start_time": "2022-01-16T22:18:49.787Z"
   },
   {
    "duration": 6403,
    "start_time": "2022-01-16T22:18:49.823Z"
   },
   {
    "duration": 122,
    "start_time": "2022-01-16T22:18:56.229Z"
   },
   {
    "duration": 18,
    "start_time": "2022-01-16T22:18:56.353Z"
   },
   {
    "duration": 5,
    "start_time": "2022-01-16T22:18:56.374Z"
   },
   {
    "duration": 6342,
    "start_time": "2022-01-16T22:18:56.381Z"
   },
   {
    "duration": 43,
    "start_time": "2022-01-16T22:19:02.726Z"
   },
   {
    "duration": 10,
    "start_time": "2022-01-16T22:19:02.774Z"
   },
   {
    "duration": 4,
    "start_time": "2022-01-16T22:19:02.786Z"
   },
   {
    "duration": 33,
    "start_time": "2022-01-16T22:19:02.792Z"
   },
   {
    "duration": 7,
    "start_time": "2022-01-16T22:19:02.827Z"
   },
   {
    "duration": 5,
    "start_time": "2022-01-16T22:19:02.837Z"
   },
   {
    "duration": 5345,
    "start_time": "2022-01-16T22:19:02.845Z"
   },
   {
    "duration": 5430,
    "start_time": "2022-01-16T22:19:08.193Z"
   },
   {
    "duration": 5281,
    "start_time": "2022-01-16T22:19:13.626Z"
   },
   {
    "duration": 19,
    "start_time": "2022-01-16T22:19:18.909Z"
   },
   {
    "duration": 101,
    "start_time": "2022-01-17T07:13:46.277Z"
   },
   {
    "duration": 531,
    "start_time": "2022-01-17T07:22:49.939Z"
   },
   {
    "duration": 1557,
    "start_time": "2022-01-17T07:22:58.029Z"
   },
   {
    "duration": 5,
    "start_time": "2022-01-17T07:24:05.123Z"
   },
   {
    "duration": 396,
    "start_time": "2022-01-17T07:24:12.884Z"
   },
   {
    "duration": 360,
    "start_time": "2022-01-17T07:24:23.371Z"
   },
   {
    "duration": 528,
    "start_time": "2022-01-17T07:24:33.291Z"
   },
   {
    "duration": 22,
    "start_time": "2022-01-17T07:24:38.108Z"
   },
   {
    "duration": 6405,
    "start_time": "2022-01-17T07:24:43.757Z"
   },
   {
    "duration": 7,
    "start_time": "2022-01-17T07:24:54.772Z"
   },
   {
    "duration": 6225,
    "start_time": "2022-01-17T07:24:58.146Z"
   },
   {
    "duration": 587,
    "start_time": "2022-01-17T07:25:15.021Z"
   },
   {
    "duration": 3,
    "start_time": "2022-01-17T07:25:29.412Z"
   },
   {
    "duration": 5456,
    "start_time": "2022-01-17T07:25:34.036Z"
   },
   {
    "duration": 10,
    "start_time": "2022-01-17T07:25:55.780Z"
   },
   {
    "duration": 7,
    "start_time": "2022-01-17T07:26:04.196Z"
   },
   {
    "duration": 10,
    "start_time": "2022-01-17T07:26:19.446Z"
   },
   {
    "duration": 4535,
    "start_time": "2022-01-17T07:31:10.034Z"
   },
   {
    "duration": 1552,
    "start_time": "2022-01-17T07:31:14.572Z"
   },
   {
    "duration": 526,
    "start_time": "2022-01-17T07:31:16.127Z"
   },
   {
    "duration": 417,
    "start_time": "2022-01-17T07:31:16.655Z"
   },
   {
    "duration": 71,
    "start_time": "2022-01-17T07:31:17.074Z"
   },
   {
    "duration": 56,
    "start_time": "2022-01-17T07:31:17.148Z"
   },
   {
    "duration": 7220,
    "start_time": "2022-01-17T07:31:17.207Z"
   },
   {
    "duration": 857,
    "start_time": "2022-01-17T07:31:24.431Z"
   },
   {
    "duration": 8,
    "start_time": "2022-01-17T07:31:25.291Z"
   },
   {
    "duration": 23,
    "start_time": "2022-01-17T07:31:25.301Z"
   },
   {
    "duration": 5,
    "start_time": "2022-01-17T07:31:25.326Z"
   },
   {
    "duration": 5437,
    "start_time": "2022-01-17T07:31:25.334Z"
   },
   {
    "duration": 138,
    "start_time": "2022-01-17T07:31:30.775Z"
   },
   {
    "duration": 21,
    "start_time": "2022-01-17T07:31:30.916Z"
   },
   {
    "duration": 34,
    "start_time": "2022-01-17T07:31:30.940Z"
   },
   {
    "duration": 5594,
    "start_time": "2022-01-17T07:31:30.976Z"
   },
   {
    "duration": 123,
    "start_time": "2022-01-17T07:31:36.574Z"
   },
   {
    "duration": 20,
    "start_time": "2022-01-17T07:31:36.699Z"
   },
   {
    "duration": 5,
    "start_time": "2022-01-17T07:31:36.721Z"
   },
   {
    "duration": 5139,
    "start_time": "2022-01-17T07:31:36.728Z"
   },
   {
    "duration": 52,
    "start_time": "2022-01-17T07:31:41.870Z"
   },
   {
    "duration": 12,
    "start_time": "2022-01-17T07:31:41.925Z"
   },
   {
    "duration": 4,
    "start_time": "2022-01-17T07:31:41.968Z"
   },
   {
    "duration": 7,
    "start_time": "2022-01-17T07:31:41.976Z"
   },
   {
    "duration": 11,
    "start_time": "2022-01-17T07:31:41.986Z"
   },
   {
    "duration": 8,
    "start_time": "2022-01-17T07:31:42.000Z"
   },
   {
    "duration": 5650,
    "start_time": "2022-01-17T07:31:42.010Z"
   },
   {
    "duration": 5443,
    "start_time": "2022-01-17T07:31:47.667Z"
   },
   {
    "duration": 5511,
    "start_time": "2022-01-17T07:31:53.112Z"
   },
   {
    "duration": 12,
    "start_time": "2022-01-17T07:31:58.625Z"
   }
  ],
  "kernelspec": {
   "display_name": "Python 3 (ipykernel)",
   "language": "python",
   "name": "python3"
  },
  "language_info": {
   "codemirror_mode": {
    "name": "ipython",
    "version": 3
   },
   "file_extension": ".py",
   "mimetype": "text/x-python",
   "name": "python",
   "nbconvert_exporter": "python",
   "pygments_lexer": "ipython3",
   "version": "3.9.12"
  },
  "toc": {
   "base_numbering": 1,
   "nav_menu": {},
   "number_sections": true,
   "sideBar": true,
   "skip_h1_title": true,
   "title_cell": "",
   "title_sidebar": "Contents",
   "toc_cell": true,
   "toc_position": {
    "height": "calc(100% - 180px)",
    "left": "10px",
    "top": "150px",
    "width": "276.767px"
   },
   "toc_section_display": true,
   "toc_window_display": false
  }
 },
 "nbformat": 4,
 "nbformat_minor": 2
}
