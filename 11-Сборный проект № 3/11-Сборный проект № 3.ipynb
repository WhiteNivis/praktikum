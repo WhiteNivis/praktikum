{
 "cells": [
  {
   "cell_type": "markdown",
   "id": "434a266d",
   "metadata": {},
   "source": [
    "# Оценка риска ДТП."
   ]
  },
  {
   "cell_type": "markdown",
   "id": "6d96d6ce",
   "metadata": {},
   "source": [
    "Для каршеринговой компании требуется создать систему, которая могла бы оценить риск ДТП по выбранному маршруту движения. Под риском понимается вероятность ДТП с любым повреждением транспортного средства. Как только водитель забронировал автомобиль, сел за руль и выбрал маршрут, система должна оценить уровень риска. Если уровень риска высок, водитель увидит предупреждение и рекомендации по маршруту.\n",
    "\n",
    "<font color='green'>Цель</font>\n",
    "\n",
    "Выбрать оптимальную модель нейронной сети для предсказания температуры.\n",
    "\n",
    "<font color='green'>Задачи</font>\n",
    "\n",
    "- исследовать данные;\n",
    "- подготовить данные;\n",
    "- создать модель;\n",
    "- исследовать основные факторы ДТП;\n",
    "- Понять, помогут ли результаты моделирования и анализ важности факторов ответить на вопросы:\n",
    "   \n",
    "   Возможно ли создать адекватную системы оценки водительского риска при выдаче авто?\n",
    "   Какие ещё факторы нужно учесть?\n",
    "   Нужно ли оборудовать автомобиль какими-либо датчиками или камерой?\n",
    "\n",
    "\n",
    "<font color='green'>Таблицы БД `data-science-vehicle-db`</font>\n",
    "\n",
    "- `collisions` — общая информация о ДТП;\n",
    "- `parties` - информация об участниках ДТП;\n",
    "- `vehicles` - информация о пострадавших машинах.\n",
    "\n",
    "<img src=\"https://pictures.s3.yandex.net/resources/1.7_2880border_1_1654004672.png\">\n",
    "\n",
    "<font color='green'>Признаки</font>\n",
    "\n",
    "`collisions` (информация о происшествиях)\n",
    "\n",
    "- `CASE_ID` — уникальный номер для зарегистрированного происшествия в таблице происшествий;\n",
    "- `COLLISION_DATE` — дата происшествия;\n",
    "- `COLLISION_TIME` — время происшествия;\n",
    "- `INTERSECTION` — является ли место происшествие перекрёстком (Y — перекрёсток, N — не перекрёсток;\n",
    "- `WEATHER_1` — погода;\n",
    "- `COLLISION_DAMAGE` — серьёзность происшествия;\n",
    "- `PRIMARY_COLL_FACTOR` — основной фактор аварии ;\n",
    "- `ROAD_SURFACE` — состояние дороги;\n",
    "- `LIGHTING` — освещение;\n",
    "- `COUNTY_CITY_LOCATION` — номер географических районов, где произошло ДТП;\n",
    "- `COUNTY_LOCATION` — названия географических районов, где произошло ДТП;\n",
    "- `DIRECTION` — направление движения;\n",
    "- `LOCATION_TYPE` — тип дороги;\n",
    "- `PARTY_COUNT` — количество участников;\n",
    "- `PCF_VIOLATION_CATEGORY` — категория нарушения;\n",
    "- `TYPE_OF_COLLISION` — тип аварии;\n",
    "- `MOTOR_VEHICLE_INVOLVED_WITH` — дополнительные участники ДТП;\n",
    "- `ROAD_CONDITION_1` — дорожное состояние\t;\n",
    "- `CONTROL_CONDITION_1` — устройство управления;\n",
    "\n",
    "\n",
    "`parties` (информация о происшествиях)\n",
    "\n",
    "- `CASE_ID` — уникальный номер для зарегистрированного происшествия в таблице происшествий;\n",
    "- `PARTY_NUMBER` — номер участника происшествия;\n",
    "- `PARTY_TYPE` — тип участника происшествия;\n",
    "- `INSURANCE_PREMIUM` — cумма страховки (тыс.дол.);\n",
    "- `PARTY_DRUG_PHYSICAL` — состояние участника: физическое или с учётом принятых лекарств;\n",
    "- `PARTY_SOBRIETY` — трезвость участника;\n",
    "- `CELLPHONE_IN_USE` — наличие телефона в автомобиле (возможности разговаривать по громкой связи);\n",
    "\n",
    "`vehicles` (описание автомобиля)\n",
    "\n",
    "- `CASE_ID` — уникальный номер для зарегистрированного происшествия в таблице происшествий;\n",
    "- `VEHICLE_TYPE` — тип кузова;\n",
    "- `VEHICLE_TRANSMISSION` — тип КПП;\n",
    "- `VEHICLE_AGE` — возраст автомобиля (в годах);\n",
    "\n",
    "\n",
    "<font color='green'>Целевой признак</font>\n",
    "\n",
    "- `at_fault` - данные о виновнике в таблице parties.\n",
    "\n",
    "<font color='green'>Содержание</font>"
   ]
  },
  {
   "cell_type": "markdown",
   "id": "e4a74be6",
   "metadata": {
    "toc": true
   },
   "source": [
    "<h1><span class=\"tocSkip\"></span></h1>\n",
    "<div class=\"toc\"><ul class=\"toc-item\"><li><span><a href=\"#Оценка-риска-ДТП.\" data-toc-modified-id=\"Оценка-риска-ДТП.-1\">Оценка риска ДТП.</a></span><ul class=\"toc-item\"><li><span><a href=\"#Подключение-к-БД.-Загрузка-таблиц-sql.\" data-toc-modified-id=\"Подключение-к-БД.-Загрузка-таблиц-sql.-1.1\">Подключение к БД. Загрузка таблиц sql.</a></span></li><li><span><a href=\"#Проведение-первичного-исследования-таблиц\" data-toc-modified-id=\"Проведение-первичного-исследования-таблиц-1.2\">Проведение первичного исследования таблиц</a></span><ul class=\"toc-item\"><li><span><a href=\"#Таблица-parties\" data-toc-modified-id=\"Таблица-parties-1.2.1\">Таблица parties</a></span></li><li><span><a href=\"#Таблица-collisions\" data-toc-modified-id=\"Таблица-collisions-1.2.2\">Таблица collisions</a></span></li><li><span><a href=\"#Таблица-vehicles\" data-toc-modified-id=\"Таблица-vehicles-1.2.3\">Таблица vehicles</a></span></li></ul></li><li><span><a href=\"#Статистический-анализ-факторов-ДТП\" data-toc-modified-id=\"Статистический-анализ-факторов-ДТП-1.3\">Статистический анализ факторов ДТП</a></span><ul class=\"toc-item\"><li><span><a href=\"#Сезонность-аварий\" data-toc-modified-id=\"Сезонность-аварий-1.3.1\">Сезонность аварий</a></span></li><li><span><a href=\"#Анализ-возраста-автопарка.\" data-toc-modified-id=\"Анализ-возраста-автопарка.-1.3.2\">Анализ возраста автопарка.</a></span></li><li><span><a href=\"#Анализ-серьезности-повреждений-исходя-из-состояния-дороги\" data-toc-modified-id=\"Анализ-серьезности-повреждений-исходя-из-состояния-дороги-1.3.3\">Анализ серьезности повреждений исходя из состояния дороги</a></span></li><li><span><a href=\"#Влияние-возраста-авто-на-серьезность-повреждений.\" data-toc-modified-id=\"Влияние-возраста-авто-на-серьезность-повреждений.-1.3.4\">Влияние возраста авто на серьезность повреждений.</a></span></li><li><span><a href=\"#Категории-нарушений.\" data-toc-modified-id=\"Категории-нарушений.-1.3.5\">Категории нарушений.</a></span></li><li><span><a href=\"#Наличие-громкой-связи-в-зависимости-от-возраста-авто.\" data-toc-modified-id=\"Наличие-громкой-связи-в-зависимости-от-возраста-авто.-1.3.6\">Наличие громкой связи в зависимости от возраста авто.</a></span></li><li><span><a href=\"#Анализ-серьезности-повреждений-исходя-из-состояния-виновника.\" data-toc-modified-id=\"Анализ-серьезности-повреждений-исходя-из-состояния-виновника.-1.3.7\">Анализ серьезности повреждений исходя из состояния виновника.</a></span></li></ul></li><li><span><a href=\"#Создайте-модель-для-оценки-водительского-риска\" data-toc-modified-id=\"Создайте-модель-для-оценки-водительского-риска-1.4\">Создайте модель для оценки водительского риска</a></span><ul class=\"toc-item\"><li><span><a href=\"#Выгрузка-данных-и-выбор-признаков\" data-toc-modified-id=\"Выгрузка-данных-и-выбор-признаков-1.4.1\">Выгрузка данных и выбор признаков</a></span></li><li><span><a href=\"#Обработка-пропусков--и-укрупнение-категорий\" data-toc-modified-id=\"Обработка-пропусков--и-укрупнение-категорий-1.4.2\">Обработка пропусков  и укрупнение категорий</a></span></li><li><span><a href=\"#Разделение-данных-на-выборки\" data-toc-modified-id=\"Разделение-данных-на-выборки-1.4.3\">Разделение данных на выборки</a></span></li><li><span><a href=\"#OHE-и-масштабирование-признаков\" data-toc-modified-id=\"OHE-и-масштабирование-признаков-1.4.4\">OHE и масштабирование признаков</a></span></li></ul></li><li><span><a href=\"#Обучение-моделей\" data-toc-modified-id=\"Обучение-моделей-1.5\">Обучение моделей</a></span><ul class=\"toc-item\"><li><span><a href=\"#Искусственная-модель\" data-toc-modified-id=\"Искусственная-модель-1.5.1\">Искусственная модель</a></span></li></ul></li><li><span><a href=\"#Анализ-важности-факторов-ДТП\" data-toc-modified-id=\"Анализ-важности-факторов-ДТП-1.6\">Анализ важности факторов ДТП</a></span></li><li><span><a href=\"#Выводы\" data-toc-modified-id=\"Выводы-1.7\">Выводы</a></span></li></ul></li></ul></div>"
   ]
  },
  {
   "cell_type": "markdown",
   "id": "4404bbd8",
   "metadata": {},
   "source": [
    "## Подключение к БД. Загрузка таблиц sql."
   ]
  },
  {
   "cell_type": "code",
   "execution_count": 1,
   "id": "ef946319",
   "metadata": {},
   "outputs": [],
   "source": [
    "import pandas as pd\n",
    "import seaborn as sns\n",
    "import matplotlib.pyplot as plt\n",
    "%matplotlib inline\n",
    "from sqlalchemy import create_engine \n",
    "import numpy as np\n",
    "import sklearn\n",
    "from sklearn.model_selection import train_test_split, GridSearchCV\n",
    "from sklearn.metrics import  f1_score, confusion_matrix, make_scorer\n",
    "from sklearn.preprocessing import StandardScaler, OneHotEncoder\n",
    "from sklearn.compose import ColumnTransformer\n",
    "from sklearn.linear_model import LogisticRegression\n",
    "from sklearn.tree import DecisionTreeClassifier\n",
    "from sklearn.ensemble import RandomForestClassifier\n",
    "from sklearn.dummy import DummyClassifier\n",
    "from sklearn.pipeline import Pipeline\n",
    "from catboost import CatBoostClassifier\n",
    "from multiprocessing import Pool\n",
    "\n",
    "import sweetviz as sv\n",
    "import random\n",
    "import shap"
   ]
  },
  {
   "cell_type": "code",
   "execution_count": 2,
   "id": "a4219200",
   "metadata": {},
   "outputs": [],
   "source": [
    "db_config = {\n",
    "'user': 'praktikum_student', \n",
    "'pwd': 'Sdf4$2;d-d30pp', \n",
    "'host': 'rc1b-wcoijxj3yxfsf3fs.mdb.yandexcloud.net',\n",
    "'port': 6432,\n",
    "'db': 'data-science-vehicle-db' \n",
    "} \n",
    "\n",
    "connection_string = 'postgresql://{}:{}@{}:{}/{}'.format(\n",
    "    db_config['user'],\n",
    "    db_config['pwd'],\n",
    "    db_config['host'],\n",
    "    db_config['port'],\n",
    "    db_config['db'],\n",
    ") \n",
    "\n",
    "engine = create_engine(connection_string) "
   ]
  },
  {
   "cell_type": "code",
   "execution_count": 3,
   "id": "55b5af66",
   "metadata": {},
   "outputs": [
    {
     "data": {
      "text/html": [
       "<div>\n",
       "<style scoped>\n",
       "    .dataframe tbody tr th:only-of-type {\n",
       "        vertical-align: middle;\n",
       "    }\n",
       "\n",
       "    .dataframe tbody tr th {\n",
       "        vertical-align: top;\n",
       "    }\n",
       "\n",
       "    .dataframe thead th {\n",
       "        text-align: right;\n",
       "    }\n",
       "</style>\n",
       "<table border=\"1\" class=\"dataframe\">\n",
       "  <thead>\n",
       "    <tr style=\"text-align: right;\">\n",
       "      <th></th>\n",
       "      <th>id</th>\n",
       "      <th>case_id</th>\n",
       "      <th>party_number</th>\n",
       "      <th>party_type</th>\n",
       "      <th>at_fault</th>\n",
       "      <th>insurance_premium</th>\n",
       "      <th>party_sobriety</th>\n",
       "      <th>party_drug_physical</th>\n",
       "      <th>cellphone_in_use</th>\n",
       "    </tr>\n",
       "  </thead>\n",
       "  <tbody>\n",
       "    <tr>\n",
       "      <th>0</th>\n",
       "      <td>22</td>\n",
       "      <td>3899454</td>\n",
       "      <td>1</td>\n",
       "      <td>road signs</td>\n",
       "      <td>1</td>\n",
       "      <td>29.0</td>\n",
       "      <td>had not been drinking</td>\n",
       "      <td>None</td>\n",
       "      <td>0</td>\n",
       "    </tr>\n",
       "    <tr>\n",
       "      <th>1</th>\n",
       "      <td>23</td>\n",
       "      <td>3899454</td>\n",
       "      <td>2</td>\n",
       "      <td>road signs</td>\n",
       "      <td>0</td>\n",
       "      <td>7.0</td>\n",
       "      <td>had not been drinking</td>\n",
       "      <td>None</td>\n",
       "      <td>0</td>\n",
       "    </tr>\n",
       "    <tr>\n",
       "      <th>2</th>\n",
       "      <td>29</td>\n",
       "      <td>3899462</td>\n",
       "      <td>2</td>\n",
       "      <td>car</td>\n",
       "      <td>0</td>\n",
       "      <td>21.0</td>\n",
       "      <td>had not been drinking</td>\n",
       "      <td>None</td>\n",
       "      <td>0</td>\n",
       "    </tr>\n",
       "    <tr>\n",
       "      <th>3</th>\n",
       "      <td>31</td>\n",
       "      <td>3899465</td>\n",
       "      <td>2</td>\n",
       "      <td>road signs</td>\n",
       "      <td>0</td>\n",
       "      <td>24.0</td>\n",
       "      <td>had not been drinking</td>\n",
       "      <td>None</td>\n",
       "      <td>0</td>\n",
       "    </tr>\n",
       "    <tr>\n",
       "      <th>4</th>\n",
       "      <td>41</td>\n",
       "      <td>3899478</td>\n",
       "      <td>2</td>\n",
       "      <td>road bumper</td>\n",
       "      <td>0</td>\n",
       "      <td>NaN</td>\n",
       "      <td>not applicable</td>\n",
       "      <td>not applicable</td>\n",
       "      <td>0</td>\n",
       "    </tr>\n",
       "  </tbody>\n",
       "</table>\n",
       "</div>"
      ],
      "text/plain": [
       "   id  case_id  party_number   party_type  at_fault  insurance_premium  \\\n",
       "0  22  3899454             1   road signs         1               29.0   \n",
       "1  23  3899454             2   road signs         0                7.0   \n",
       "2  29  3899462             2          car         0               21.0   \n",
       "3  31  3899465             2   road signs         0               24.0   \n",
       "4  41  3899478             2  road bumper         0                NaN   \n",
       "\n",
       "          party_sobriety party_drug_physical  cellphone_in_use  \n",
       "0  had not been drinking                None                 0  \n",
       "1  had not been drinking                None                 0  \n",
       "2  had not been drinking                None                 0  \n",
       "3  had not been drinking                None                 0  \n",
       "4         not applicable      not applicable                 0  "
      ]
     },
     "execution_count": 3,
     "metadata": {},
     "output_type": "execute_result"
    }
   ],
   "source": [
    "query = '''\n",
    "\n",
    "SELECT *\n",
    "FROM parties\n",
    "LIMIT 5\n",
    "''' \n",
    "parties = pd.read_sql_query(query, con = engine) \n",
    "parties"
   ]
  },
  {
   "cell_type": "code",
   "execution_count": 4,
   "id": "ce7b9205",
   "metadata": {},
   "outputs": [
    {
     "data": {
      "text/html": [
       "<div>\n",
       "<style scoped>\n",
       "    .dataframe tbody tr th:only-of-type {\n",
       "        vertical-align: middle;\n",
       "    }\n",
       "\n",
       "    .dataframe tbody tr th {\n",
       "        vertical-align: top;\n",
       "    }\n",
       "\n",
       "    .dataframe thead th {\n",
       "        text-align: right;\n",
       "    }\n",
       "</style>\n",
       "<table border=\"1\" class=\"dataframe\">\n",
       "  <thead>\n",
       "    <tr style=\"text-align: right;\">\n",
       "      <th></th>\n",
       "      <th>case_id</th>\n",
       "      <th>county_city_location</th>\n",
       "      <th>county_location</th>\n",
       "      <th>distance</th>\n",
       "      <th>direction</th>\n",
       "      <th>intersection</th>\n",
       "      <th>weather_1</th>\n",
       "      <th>location_type</th>\n",
       "      <th>collision_damage</th>\n",
       "      <th>party_count</th>\n",
       "      <th>...</th>\n",
       "      <th>pcf_violation_category</th>\n",
       "      <th>type_of_collision</th>\n",
       "      <th>motor_vehicle_involved_with</th>\n",
       "      <th>road_surface</th>\n",
       "      <th>road_condition_1</th>\n",
       "      <th>lighting</th>\n",
       "      <th>control_device</th>\n",
       "      <th>collision_date</th>\n",
       "      <th>collision_time</th>\n",
       "      <th>collision_month</th>\n",
       "    </tr>\n",
       "  </thead>\n",
       "  <tbody>\n",
       "    <tr>\n",
       "      <th>0</th>\n",
       "      <td>4083072</td>\n",
       "      <td>1942</td>\n",
       "      <td>los angeles</td>\n",
       "      <td>528.0</td>\n",
       "      <td>north</td>\n",
       "      <td>0</td>\n",
       "      <td>cloudy</td>\n",
       "      <td>highway</td>\n",
       "      <td>small damage</td>\n",
       "      <td>2</td>\n",
       "      <td>...</td>\n",
       "      <td>unsafe lane change</td>\n",
       "      <td>sideswipe</td>\n",
       "      <td>other motor vehicle</td>\n",
       "      <td>wet</td>\n",
       "      <td>normal</td>\n",
       "      <td>daylight</td>\n",
       "      <td>none</td>\n",
       "      <td>2009-01-22</td>\n",
       "      <td>07:25:00</td>\n",
       "      <td>1.0</td>\n",
       "    </tr>\n",
       "    <tr>\n",
       "      <th>1</th>\n",
       "      <td>4083075</td>\n",
       "      <td>4313</td>\n",
       "      <td>santa clara</td>\n",
       "      <td>0.0</td>\n",
       "      <td>None</td>\n",
       "      <td>1</td>\n",
       "      <td>clear</td>\n",
       "      <td>None</td>\n",
       "      <td>small damage</td>\n",
       "      <td>1</td>\n",
       "      <td>...</td>\n",
       "      <td>improper passing</td>\n",
       "      <td>hit object</td>\n",
       "      <td>fixed object</td>\n",
       "      <td>dry</td>\n",
       "      <td>normal</td>\n",
       "      <td>dark with street lights</td>\n",
       "      <td>functioning</td>\n",
       "      <td>2009-01-03</td>\n",
       "      <td>02:26:00</td>\n",
       "      <td>1.0</td>\n",
       "    </tr>\n",
       "    <tr>\n",
       "      <th>2</th>\n",
       "      <td>4083073</td>\n",
       "      <td>0109</td>\n",
       "      <td>alameda</td>\n",
       "      <td>0.0</td>\n",
       "      <td>None</td>\n",
       "      <td>1</td>\n",
       "      <td>clear</td>\n",
       "      <td>None</td>\n",
       "      <td>scratch</td>\n",
       "      <td>2</td>\n",
       "      <td>...</td>\n",
       "      <td>improper turning</td>\n",
       "      <td>broadside</td>\n",
       "      <td>other motor vehicle</td>\n",
       "      <td>dry</td>\n",
       "      <td>normal</td>\n",
       "      <td>dark with street lights</td>\n",
       "      <td>functioning</td>\n",
       "      <td>2009-01-11</td>\n",
       "      <td>03:32:00</td>\n",
       "      <td>1.0</td>\n",
       "    </tr>\n",
       "    <tr>\n",
       "      <th>3</th>\n",
       "      <td>4083077</td>\n",
       "      <td>0109</td>\n",
       "      <td>alameda</td>\n",
       "      <td>0.0</td>\n",
       "      <td>None</td>\n",
       "      <td>1</td>\n",
       "      <td>clear</td>\n",
       "      <td>None</td>\n",
       "      <td>scratch</td>\n",
       "      <td>2</td>\n",
       "      <td>...</td>\n",
       "      <td>automobile right of way</td>\n",
       "      <td>broadside</td>\n",
       "      <td>other motor vehicle</td>\n",
       "      <td>dry</td>\n",
       "      <td>normal</td>\n",
       "      <td>daylight</td>\n",
       "      <td>functioning</td>\n",
       "      <td>2009-01-11</td>\n",
       "      <td>10:35:00</td>\n",
       "      <td>1.0</td>\n",
       "    </tr>\n",
       "    <tr>\n",
       "      <th>4</th>\n",
       "      <td>4083087</td>\n",
       "      <td>4313</td>\n",
       "      <td>santa clara</td>\n",
       "      <td>0.0</td>\n",
       "      <td>None</td>\n",
       "      <td>1</td>\n",
       "      <td>clear</td>\n",
       "      <td>None</td>\n",
       "      <td>scratch</td>\n",
       "      <td>2</td>\n",
       "      <td>...</td>\n",
       "      <td>speeding</td>\n",
       "      <td>rear end</td>\n",
       "      <td>other motor vehicle</td>\n",
       "      <td>dry</td>\n",
       "      <td>None</td>\n",
       "      <td>dark with street lights</td>\n",
       "      <td>functioning</td>\n",
       "      <td>2009-01-02</td>\n",
       "      <td>22:43:00</td>\n",
       "      <td>1.0</td>\n",
       "    </tr>\n",
       "  </tbody>\n",
       "</table>\n",
       "<p>5 rows × 21 columns</p>\n",
       "</div>"
      ],
      "text/plain": [
       "   case_id county_city_location county_location  distance direction  \\\n",
       "0  4083072                 1942     los angeles     528.0     north   \n",
       "1  4083075                 4313     santa clara       0.0      None   \n",
       "2  4083073                 0109         alameda       0.0      None   \n",
       "3  4083077                 0109         alameda       0.0      None   \n",
       "4  4083087                 4313     santa clara       0.0      None   \n",
       "\n",
       "   intersection weather_1 location_type collision_damage  party_count  ...  \\\n",
       "0             0    cloudy       highway     small damage            2  ...   \n",
       "1             1     clear          None     small damage            1  ...   \n",
       "2             1     clear          None          scratch            2  ...   \n",
       "3             1     clear          None          scratch            2  ...   \n",
       "4             1     clear          None          scratch            2  ...   \n",
       "\n",
       "    pcf_violation_category type_of_collision motor_vehicle_involved_with  \\\n",
       "0       unsafe lane change         sideswipe         other motor vehicle   \n",
       "1         improper passing        hit object                fixed object   \n",
       "2         improper turning         broadside         other motor vehicle   \n",
       "3  automobile right of way         broadside         other motor vehicle   \n",
       "4                 speeding          rear end         other motor vehicle   \n",
       "\n",
       "  road_surface road_condition_1                 lighting control_device  \\\n",
       "0          wet           normal                 daylight           none   \n",
       "1          dry           normal  dark with street lights    functioning   \n",
       "2          dry           normal  dark with street lights    functioning   \n",
       "3          dry           normal                 daylight    functioning   \n",
       "4          dry             None  dark with street lights    functioning   \n",
       "\n",
       "  collision_date collision_time collision_month  \n",
       "0     2009-01-22       07:25:00             1.0  \n",
       "1     2009-01-03       02:26:00             1.0  \n",
       "2     2009-01-11       03:32:00             1.0  \n",
       "3     2009-01-11       10:35:00             1.0  \n",
       "4     2009-01-02       22:43:00             1.0  \n",
       "\n",
       "[5 rows x 21 columns]"
      ]
     },
     "execution_count": 4,
     "metadata": {},
     "output_type": "execute_result"
    }
   ],
   "source": [
    "query = '''\n",
    "\n",
    "SELECT *,\n",
    "       EXTRACT(MONTH FROM collision_date) AS collision_month\n",
    "FROM collisions\n",
    "LIMIT 5\n",
    "''' \n",
    "collisions = pd.read_sql_query(query, con = engine)\n",
    "collisions"
   ]
  },
  {
   "cell_type": "code",
   "execution_count": 5,
   "id": "789f4f9f",
   "metadata": {},
   "outputs": [
    {
     "data": {
      "text/html": [
       "<div>\n",
       "<style scoped>\n",
       "    .dataframe tbody tr th:only-of-type {\n",
       "        vertical-align: middle;\n",
       "    }\n",
       "\n",
       "    .dataframe tbody tr th {\n",
       "        vertical-align: top;\n",
       "    }\n",
       "\n",
       "    .dataframe thead th {\n",
       "        text-align: right;\n",
       "    }\n",
       "</style>\n",
       "<table border=\"1\" class=\"dataframe\">\n",
       "  <thead>\n",
       "    <tr style=\"text-align: right;\">\n",
       "      <th></th>\n",
       "      <th>id</th>\n",
       "      <th>case_id</th>\n",
       "      <th>party_number</th>\n",
       "      <th>vehicle_type</th>\n",
       "      <th>vehicle_transmission</th>\n",
       "      <th>vehicle_age</th>\n",
       "    </tr>\n",
       "  </thead>\n",
       "  <tbody>\n",
       "    <tr>\n",
       "      <th>0</th>\n",
       "      <td>1175713</td>\n",
       "      <td>5305032</td>\n",
       "      <td>2</td>\n",
       "      <td>sedan</td>\n",
       "      <td>manual</td>\n",
       "      <td>3</td>\n",
       "    </tr>\n",
       "    <tr>\n",
       "      <th>1</th>\n",
       "      <td>1</td>\n",
       "      <td>3858022</td>\n",
       "      <td>1</td>\n",
       "      <td>sedan</td>\n",
       "      <td>auto</td>\n",
       "      <td>3</td>\n",
       "    </tr>\n",
       "    <tr>\n",
       "      <th>2</th>\n",
       "      <td>1175712</td>\n",
       "      <td>5305030</td>\n",
       "      <td>1</td>\n",
       "      <td>sedan</td>\n",
       "      <td>auto</td>\n",
       "      <td>3</td>\n",
       "    </tr>\n",
       "    <tr>\n",
       "      <th>3</th>\n",
       "      <td>1175717</td>\n",
       "      <td>5305033</td>\n",
       "      <td>3</td>\n",
       "      <td>sedan</td>\n",
       "      <td>auto</td>\n",
       "      <td>5</td>\n",
       "    </tr>\n",
       "    <tr>\n",
       "      <th>4</th>\n",
       "      <td>1175722</td>\n",
       "      <td>5305034</td>\n",
       "      <td>2</td>\n",
       "      <td>sedan</td>\n",
       "      <td>auto</td>\n",
       "      <td>5</td>\n",
       "    </tr>\n",
       "  </tbody>\n",
       "</table>\n",
       "</div>"
      ],
      "text/plain": [
       "        id  case_id  party_number vehicle_type vehicle_transmission  \\\n",
       "0  1175713  5305032             2        sedan               manual   \n",
       "1        1  3858022             1        sedan                 auto   \n",
       "2  1175712  5305030             1        sedan                 auto   \n",
       "3  1175717  5305033             3        sedan                 auto   \n",
       "4  1175722  5305034             2        sedan                 auto   \n",
       "\n",
       "   vehicle_age  \n",
       "0            3  \n",
       "1            3  \n",
       "2            3  \n",
       "3            5  \n",
       "4            5  "
      ]
     },
     "execution_count": 5,
     "metadata": {},
     "output_type": "execute_result"
    }
   ],
   "source": [
    "query = '''\n",
    "\n",
    "SELECT *\n",
    "FROM vehicles\n",
    "LIMIT 5\n",
    "''' \n",
    "vehicles = pd.read_sql_query(query, con = engine) \n",
    "vehicles"
   ]
  },
  {
   "cell_type": "markdown",
   "id": "035f2e9d",
   "metadata": {},
   "source": [
    "**Вывод**"
   ]
  },
  {
   "cell_type": "markdown",
   "id": "714f265e",
   "metadata": {},
   "source": [
    "Таблицы из БД загружены. "
   ]
  },
  {
   "cell_type": "markdown",
   "id": "b296b6e4",
   "metadata": {},
   "source": [
    "## Проведение первичного исследования таблиц"
   ]
  },
  {
   "cell_type": "markdown",
   "id": "ee232514",
   "metadata": {},
   "source": [
    "### Таблица parties"
   ]
  },
  {
   "cell_type": "code",
   "execution_count": 6,
   "id": "e5d46693",
   "metadata": {},
   "outputs": [
    {
     "name": "stdout",
     "output_type": "stream",
     "text": [
      "<class 'pandas.core.frame.DataFrame'>\n",
      "RangeIndex: 5 entries, 0 to 4\n",
      "Data columns (total 9 columns):\n",
      " #   Column               Non-Null Count  Dtype  \n",
      "---  ------               --------------  -----  \n",
      " 0   id                   5 non-null      int64  \n",
      " 1   case_id              5 non-null      object \n",
      " 2   party_number         5 non-null      int64  \n",
      " 3   party_type           5 non-null      object \n",
      " 4   at_fault             5 non-null      int64  \n",
      " 5   insurance_premium    4 non-null      float64\n",
      " 6   party_sobriety       5 non-null      object \n",
      " 7   party_drug_physical  1 non-null      object \n",
      " 8   cellphone_in_use     5 non-null      int64  \n",
      "dtypes: float64(1), int64(4), object(4)\n",
      "memory usage: 488.0+ bytes\n"
     ]
    }
   ],
   "source": [
    "parties.info(show_counts=True)"
   ]
  },
  {
   "cell_type": "code",
   "execution_count": 7,
   "id": "3c2a58b9",
   "metadata": {},
   "outputs": [
    {
     "data": {
      "text/html": [
       "<div>\n",
       "<style scoped>\n",
       "    .dataframe tbody tr th:only-of-type {\n",
       "        vertical-align: middle;\n",
       "    }\n",
       "\n",
       "    .dataframe tbody tr th {\n",
       "        vertical-align: top;\n",
       "    }\n",
       "\n",
       "    .dataframe thead th {\n",
       "        text-align: right;\n",
       "    }\n",
       "</style>\n",
       "<table border=\"1\" class=\"dataframe\">\n",
       "  <thead>\n",
       "    <tr style=\"text-align: right;\">\n",
       "      <th></th>\n",
       "      <th>party_type</th>\n",
       "      <th>count</th>\n",
       "    </tr>\n",
       "  </thead>\n",
       "  <tbody>\n",
       "    <tr>\n",
       "      <th>0</th>\n",
       "      <td>building</td>\n",
       "      <td>48649</td>\n",
       "    </tr>\n",
       "    <tr>\n",
       "      <th>1</th>\n",
       "      <td>car</td>\n",
       "      <td>2469314</td>\n",
       "    </tr>\n",
       "    <tr>\n",
       "      <th>2</th>\n",
       "      <td>other</td>\n",
       "      <td>8879</td>\n",
       "    </tr>\n",
       "    <tr>\n",
       "      <th>3</th>\n",
       "      <td>road bumper</td>\n",
       "      <td>173488</td>\n",
       "    </tr>\n",
       "    <tr>\n",
       "      <th>4</th>\n",
       "      <td>road signs</td>\n",
       "      <td>48456</td>\n",
       "    </tr>\n",
       "    <tr>\n",
       "      <th>5</th>\n",
       "      <td>None</td>\n",
       "      <td>3622</td>\n",
       "    </tr>\n",
       "  </tbody>\n",
       "</table>\n",
       "</div>"
      ],
      "text/plain": [
       "    party_type    count\n",
       "0     building    48649\n",
       "1          car  2469314\n",
       "2        other     8879\n",
       "3  road bumper   173488\n",
       "4   road signs    48456\n",
       "5         None     3622"
      ]
     },
     "execution_count": 7,
     "metadata": {},
     "output_type": "execute_result"
    }
   ],
   "source": [
    "query = '''\n",
    "\n",
    "SELECT party_type,\n",
    "       COUNT(id)\n",
    "FROM parties\n",
    "GROUP BY party_type\n",
    "''' \n",
    "vehicles = pd.read_sql_query(query, con = engine) \n",
    "vehicles"
   ]
  },
  {
   "cell_type": "code",
   "execution_count": 8,
   "id": "9e5676b1",
   "metadata": {},
   "outputs": [
    {
     "data": {
      "text/html": [
       "<div>\n",
       "<style scoped>\n",
       "    .dataframe tbody tr th:only-of-type {\n",
       "        vertical-align: middle;\n",
       "    }\n",
       "\n",
       "    .dataframe tbody tr th {\n",
       "        vertical-align: top;\n",
       "    }\n",
       "\n",
       "    .dataframe thead th {\n",
       "        text-align: right;\n",
       "    }\n",
       "</style>\n",
       "<table border=\"1\" class=\"dataframe\">\n",
       "  <thead>\n",
       "    <tr style=\"text-align: right;\">\n",
       "      <th></th>\n",
       "      <th>insurance_premium</th>\n",
       "      <th>count</th>\n",
       "    </tr>\n",
       "  </thead>\n",
       "  <tbody>\n",
       "    <tr>\n",
       "      <th>0</th>\n",
       "      <td>0.0</td>\n",
       "      <td>307</td>\n",
       "    </tr>\n",
       "    <tr>\n",
       "      <th>1</th>\n",
       "      <td>1.0</td>\n",
       "      <td>260</td>\n",
       "    </tr>\n",
       "    <tr>\n",
       "      <th>2</th>\n",
       "      <td>2.0</td>\n",
       "      <td>433</td>\n",
       "    </tr>\n",
       "    <tr>\n",
       "      <th>3</th>\n",
       "      <td>3.0</td>\n",
       "      <td>453</td>\n",
       "    </tr>\n",
       "    <tr>\n",
       "      <th>4</th>\n",
       "      <td>4.0</td>\n",
       "      <td>534</td>\n",
       "    </tr>\n",
       "    <tr>\n",
       "      <th>...</th>\n",
       "      <td>...</td>\n",
       "      <td>...</td>\n",
       "    </tr>\n",
       "    <tr>\n",
       "      <th>102</th>\n",
       "      <td>102.0</td>\n",
       "      <td>52</td>\n",
       "    </tr>\n",
       "    <tr>\n",
       "      <th>103</th>\n",
       "      <td>103.0</td>\n",
       "      <td>39</td>\n",
       "    </tr>\n",
       "    <tr>\n",
       "      <th>104</th>\n",
       "      <td>104.0</td>\n",
       "      <td>34</td>\n",
       "    </tr>\n",
       "    <tr>\n",
       "      <th>105</th>\n",
       "      <td>105.0</td>\n",
       "      <td>16</td>\n",
       "    </tr>\n",
       "    <tr>\n",
       "      <th>106</th>\n",
       "      <td>NaN</td>\n",
       "      <td>405402</td>\n",
       "    </tr>\n",
       "  </tbody>\n",
       "</table>\n",
       "<p>107 rows × 2 columns</p>\n",
       "</div>"
      ],
      "text/plain": [
       "     insurance_premium   count\n",
       "0                  0.0     307\n",
       "1                  1.0     260\n",
       "2                  2.0     433\n",
       "3                  3.0     453\n",
       "4                  4.0     534\n",
       "..                 ...     ...\n",
       "102              102.0      52\n",
       "103              103.0      39\n",
       "104              104.0      34\n",
       "105              105.0      16\n",
       "106                NaN  405402\n",
       "\n",
       "[107 rows x 2 columns]"
      ]
     },
     "execution_count": 8,
     "metadata": {},
     "output_type": "execute_result"
    }
   ],
   "source": [
    "query = '''\n",
    "\n",
    "SELECT insurance_premium,\n",
    "       COUNT(id)\n",
    "FROM parties\n",
    "GROUP BY insurance_premium\n",
    "''' \n",
    "vehicles = pd.read_sql_query(query, con = engine) \n",
    "vehicles"
   ]
  },
  {
   "cell_type": "code",
   "execution_count": 9,
   "id": "4fd16bcc",
   "metadata": {},
   "outputs": [
    {
     "data": {
      "text/html": [
       "<div>\n",
       "<style scoped>\n",
       "    .dataframe tbody tr th:only-of-type {\n",
       "        vertical-align: middle;\n",
       "    }\n",
       "\n",
       "    .dataframe tbody tr th {\n",
       "        vertical-align: top;\n",
       "    }\n",
       "\n",
       "    .dataframe thead th {\n",
       "        text-align: right;\n",
       "    }\n",
       "</style>\n",
       "<table border=\"1\" class=\"dataframe\">\n",
       "  <thead>\n",
       "    <tr style=\"text-align: right;\">\n",
       "      <th></th>\n",
       "      <th>at_fault</th>\n",
       "      <th>count</th>\n",
       "    </tr>\n",
       "  </thead>\n",
       "  <tbody>\n",
       "    <tr>\n",
       "      <th>0</th>\n",
       "      <td>0</td>\n",
       "      <td>1464281</td>\n",
       "    </tr>\n",
       "    <tr>\n",
       "      <th>1</th>\n",
       "      <td>1</td>\n",
       "      <td>1288127</td>\n",
       "    </tr>\n",
       "  </tbody>\n",
       "</table>\n",
       "</div>"
      ],
      "text/plain": [
       "   at_fault    count\n",
       "0         0  1464281\n",
       "1         1  1288127"
      ]
     },
     "execution_count": 9,
     "metadata": {},
     "output_type": "execute_result"
    }
   ],
   "source": [
    "query = '''\n",
    "\n",
    "SELECT at_fault ,\n",
    "       COUNT(id)\n",
    "FROM parties\n",
    "GROUP BY at_fault \n",
    "''' \n",
    "vehicles = pd.read_sql_query(query, con = engine) \n",
    "vehicles"
   ]
  },
  {
   "cell_type": "code",
   "execution_count": 10,
   "id": "7c6571c4",
   "metadata": {},
   "outputs": [
    {
     "data": {
      "text/html": [
       "<div>\n",
       "<style scoped>\n",
       "    .dataframe tbody tr th:only-of-type {\n",
       "        vertical-align: middle;\n",
       "    }\n",
       "\n",
       "    .dataframe tbody tr th {\n",
       "        vertical-align: top;\n",
       "    }\n",
       "\n",
       "    .dataframe thead th {\n",
       "        text-align: right;\n",
       "    }\n",
       "</style>\n",
       "<table border=\"1\" class=\"dataframe\">\n",
       "  <thead>\n",
       "    <tr style=\"text-align: right;\">\n",
       "      <th></th>\n",
       "      <th>party_sobriety</th>\n",
       "      <th>count</th>\n",
       "    </tr>\n",
       "  </thead>\n",
       "  <tbody>\n",
       "    <tr>\n",
       "      <th>0</th>\n",
       "      <td>had been drinking, impairment unknown</td>\n",
       "      <td>21419</td>\n",
       "    </tr>\n",
       "    <tr>\n",
       "      <th>1</th>\n",
       "      <td>had been drinking, not under influence</td>\n",
       "      <td>17650</td>\n",
       "    </tr>\n",
       "    <tr>\n",
       "      <th>2</th>\n",
       "      <td>had been drinking, under influence</td>\n",
       "      <td>112413</td>\n",
       "    </tr>\n",
       "    <tr>\n",
       "      <th>3</th>\n",
       "      <td>had not been drinking</td>\n",
       "      <td>2124727</td>\n",
       "    </tr>\n",
       "    <tr>\n",
       "      <th>4</th>\n",
       "      <td>impairment unknown</td>\n",
       "      <td>232901</td>\n",
       "    </tr>\n",
       "    <tr>\n",
       "      <th>5</th>\n",
       "      <td>not applicable</td>\n",
       "      <td>169343</td>\n",
       "    </tr>\n",
       "    <tr>\n",
       "      <th>6</th>\n",
       "      <td>None</td>\n",
       "      <td>73955</td>\n",
       "    </tr>\n",
       "  </tbody>\n",
       "</table>\n",
       "</div>"
      ],
      "text/plain": [
       "                           party_sobriety    count\n",
       "0   had been drinking, impairment unknown    21419\n",
       "1  had been drinking, not under influence    17650\n",
       "2      had been drinking, under influence   112413\n",
       "3                   had not been drinking  2124727\n",
       "4                      impairment unknown   232901\n",
       "5                          not applicable   169343\n",
       "6                                    None    73955"
      ]
     },
     "execution_count": 10,
     "metadata": {},
     "output_type": "execute_result"
    }
   ],
   "source": [
    "query = '''\n",
    "\n",
    "SELECT party_sobriety,\n",
    "       COUNT(id)\n",
    "FROM parties\n",
    "GROUP BY party_sobriety\n",
    "''' \n",
    "vehicles = pd.read_sql_query(query, con = engine) \n",
    "vehicles"
   ]
  },
  {
   "cell_type": "code",
   "execution_count": 11,
   "id": "0efdd7d2",
   "metadata": {},
   "outputs": [
    {
     "data": {
      "text/html": [
       "<div>\n",
       "<style scoped>\n",
       "    .dataframe tbody tr th:only-of-type {\n",
       "        vertical-align: middle;\n",
       "    }\n",
       "\n",
       "    .dataframe tbody tr th {\n",
       "        vertical-align: top;\n",
       "    }\n",
       "\n",
       "    .dataframe thead th {\n",
       "        text-align: right;\n",
       "    }\n",
       "</style>\n",
       "<table border=\"1\" class=\"dataframe\">\n",
       "  <thead>\n",
       "    <tr style=\"text-align: right;\">\n",
       "      <th></th>\n",
       "      <th>party_drug_physical</th>\n",
       "      <th>count</th>\n",
       "    </tr>\n",
       "  </thead>\n",
       "  <tbody>\n",
       "    <tr>\n",
       "      <th>0</th>\n",
       "      <td>G</td>\n",
       "      <td>232901</td>\n",
       "    </tr>\n",
       "    <tr>\n",
       "      <th>1</th>\n",
       "      <td>impairment - physical</td>\n",
       "      <td>4188</td>\n",
       "    </tr>\n",
       "    <tr>\n",
       "      <th>2</th>\n",
       "      <td>not applicable</td>\n",
       "      <td>169343</td>\n",
       "    </tr>\n",
       "    <tr>\n",
       "      <th>3</th>\n",
       "      <td>sleepy/fatigued</td>\n",
       "      <td>12641</td>\n",
       "    </tr>\n",
       "    <tr>\n",
       "      <th>4</th>\n",
       "      <td>under drug influence</td>\n",
       "      <td>13215</td>\n",
       "    </tr>\n",
       "    <tr>\n",
       "      <th>5</th>\n",
       "      <td>None</td>\n",
       "      <td>2320120</td>\n",
       "    </tr>\n",
       "  </tbody>\n",
       "</table>\n",
       "</div>"
      ],
      "text/plain": [
       "     party_drug_physical    count\n",
       "0                      G   232901\n",
       "1  impairment - physical     4188\n",
       "2         not applicable   169343\n",
       "3        sleepy/fatigued    12641\n",
       "4   under drug influence    13215\n",
       "5                   None  2320120"
      ]
     },
     "execution_count": 11,
     "metadata": {},
     "output_type": "execute_result"
    }
   ],
   "source": [
    "query = '''\n",
    "\n",
    "SELECT party_drug_physical,\n",
    "       COUNT(id)\n",
    "FROM parties\n",
    "GROUP BY party_drug_physical\n",
    "''' \n",
    "vehicles = pd.read_sql_query(query, con = engine) \n",
    "vehicles"
   ]
  },
  {
   "cell_type": "code",
   "execution_count": 12,
   "id": "d282057c",
   "metadata": {},
   "outputs": [
    {
     "data": {
      "text/html": [
       "<div>\n",
       "<style scoped>\n",
       "    .dataframe tbody tr th:only-of-type {\n",
       "        vertical-align: middle;\n",
       "    }\n",
       "\n",
       "    .dataframe tbody tr th {\n",
       "        vertical-align: top;\n",
       "    }\n",
       "\n",
       "    .dataframe thead th {\n",
       "        text-align: right;\n",
       "    }\n",
       "</style>\n",
       "<table border=\"1\" class=\"dataframe\">\n",
       "  <thead>\n",
       "    <tr style=\"text-align: right;\">\n",
       "      <th></th>\n",
       "      <th>cellphone_in_use</th>\n",
       "      <th>count</th>\n",
       "    </tr>\n",
       "  </thead>\n",
       "  <tbody>\n",
       "    <tr>\n",
       "      <th>0</th>\n",
       "      <td>0.0</td>\n",
       "      <td>2194946</td>\n",
       "    </tr>\n",
       "    <tr>\n",
       "      <th>1</th>\n",
       "      <td>1.0</td>\n",
       "      <td>45825</td>\n",
       "    </tr>\n",
       "    <tr>\n",
       "      <th>2</th>\n",
       "      <td>NaN</td>\n",
       "      <td>511637</td>\n",
       "    </tr>\n",
       "  </tbody>\n",
       "</table>\n",
       "</div>"
      ],
      "text/plain": [
       "   cellphone_in_use    count\n",
       "0               0.0  2194946\n",
       "1               1.0    45825\n",
       "2               NaN   511637"
      ]
     },
     "execution_count": 12,
     "metadata": {},
     "output_type": "execute_result"
    }
   ],
   "source": [
    "query = '''\n",
    "\n",
    "SELECT cellphone_in_use,\n",
    "       COUNT(id)\n",
    "FROM parties\n",
    "GROUP BY cellphone_in_use\n",
    "''' \n",
    "vehicles = pd.read_sql_query(query, con = engine) \n",
    "vehicles"
   ]
  },
  {
   "cell_type": "markdown",
   "id": "987eb9fe",
   "metadata": {},
   "source": [
    "### Таблица collisions"
   ]
  },
  {
   "cell_type": "code",
   "execution_count": 13,
   "id": "9ecea39e",
   "metadata": {},
   "outputs": [
    {
     "name": "stdout",
     "output_type": "stream",
     "text": [
      "<class 'pandas.core.frame.DataFrame'>\n",
      "RangeIndex: 5 entries, 0 to 4\n",
      "Data columns (total 21 columns):\n",
      " #   Column                       Non-Null Count  Dtype  \n",
      "---  ------                       --------------  -----  \n",
      " 0   case_id                      5 non-null      object \n",
      " 1   county_city_location         5 non-null      object \n",
      " 2   county_location              5 non-null      object \n",
      " 3   distance                     5 non-null      float64\n",
      " 4   direction                    1 non-null      object \n",
      " 5   intersection                 5 non-null      int64  \n",
      " 6   weather_1                    5 non-null      object \n",
      " 7   location_type                1 non-null      object \n",
      " 8   collision_damage             5 non-null      object \n",
      " 9   party_count                  5 non-null      int64  \n",
      " 10  primary_collision_factor     5 non-null      object \n",
      " 11  pcf_violation_category       5 non-null      object \n",
      " 12  type_of_collision            5 non-null      object \n",
      " 13  motor_vehicle_involved_with  5 non-null      object \n",
      " 14  road_surface                 5 non-null      object \n",
      " 15  road_condition_1             4 non-null      object \n",
      " 16  lighting                     5 non-null      object \n",
      " 17  control_device               5 non-null      object \n",
      " 18  collision_date               5 non-null      object \n",
      " 19  collision_time               5 non-null      object \n",
      " 20  collision_month              5 non-null      float64\n",
      "dtypes: float64(2), int64(2), object(17)\n",
      "memory usage: 968.0+ bytes\n"
     ]
    }
   ],
   "source": [
    "collisions.info(show_counts=True)"
   ]
  },
  {
   "cell_type": "code",
   "execution_count": 14,
   "id": "67ef817f",
   "metadata": {},
   "outputs": [
    {
     "data": {
      "text/html": [
       "<div>\n",
       "<style scoped>\n",
       "    .dataframe tbody tr th:only-of-type {\n",
       "        vertical-align: middle;\n",
       "    }\n",
       "\n",
       "    .dataframe tbody tr th {\n",
       "        vertical-align: top;\n",
       "    }\n",
       "\n",
       "    .dataframe thead th {\n",
       "        text-align: right;\n",
       "    }\n",
       "</style>\n",
       "<table border=\"1\" class=\"dataframe\">\n",
       "  <thead>\n",
       "    <tr style=\"text-align: right;\">\n",
       "      <th></th>\n",
       "      <th>direction</th>\n",
       "      <th>count</th>\n",
       "    </tr>\n",
       "  </thead>\n",
       "  <tbody>\n",
       "    <tr>\n",
       "      <th>0</th>\n",
       "      <td>east</td>\n",
       "      <td>240574</td>\n",
       "    </tr>\n",
       "    <tr>\n",
       "      <th>1</th>\n",
       "      <td>north</td>\n",
       "      <td>288614</td>\n",
       "    </tr>\n",
       "    <tr>\n",
       "      <th>2</th>\n",
       "      <td>south</td>\n",
       "      <td>290513</td>\n",
       "    </tr>\n",
       "    <tr>\n",
       "      <th>3</th>\n",
       "      <td>west</td>\n",
       "      <td>239657</td>\n",
       "    </tr>\n",
       "    <tr>\n",
       "      <th>4</th>\n",
       "      <td>None</td>\n",
       "      <td>340642</td>\n",
       "    </tr>\n",
       "  </tbody>\n",
       "</table>\n",
       "</div>"
      ],
      "text/plain": [
       "  direction   count\n",
       "0      east  240574\n",
       "1     north  288614\n",
       "2     south  290513\n",
       "3      west  239657\n",
       "4      None  340642"
      ]
     },
     "execution_count": 14,
     "metadata": {},
     "output_type": "execute_result"
    }
   ],
   "source": [
    "query = '''\n",
    "\n",
    "SELECT direction,\n",
    "       COUNT(case_id)\n",
    "FROM collisions\n",
    "GROUP BY direction\n",
    "''' \n",
    "vehicles = pd.read_sql_query(query, con = engine) \n",
    "vehicles"
   ]
  },
  {
   "cell_type": "code",
   "execution_count": 15,
   "id": "c3bdf032",
   "metadata": {},
   "outputs": [
    {
     "data": {
      "text/html": [
       "<div>\n",
       "<style scoped>\n",
       "    .dataframe tbody tr th:only-of-type {\n",
       "        vertical-align: middle;\n",
       "    }\n",
       "\n",
       "    .dataframe tbody tr th {\n",
       "        vertical-align: top;\n",
       "    }\n",
       "\n",
       "    .dataframe thead th {\n",
       "        text-align: right;\n",
       "    }\n",
       "</style>\n",
       "<table border=\"1\" class=\"dataframe\">\n",
       "  <thead>\n",
       "    <tr style=\"text-align: right;\">\n",
       "      <th></th>\n",
       "      <th>intersection</th>\n",
       "      <th>count</th>\n",
       "    </tr>\n",
       "  </thead>\n",
       "  <tbody>\n",
       "    <tr>\n",
       "      <th>0</th>\n",
       "      <td>0.0</td>\n",
       "      <td>1075657</td>\n",
       "    </tr>\n",
       "    <tr>\n",
       "      <th>1</th>\n",
       "      <td>1.0</td>\n",
       "      <td>312124</td>\n",
       "    </tr>\n",
       "    <tr>\n",
       "      <th>2</th>\n",
       "      <td>NaN</td>\n",
       "      <td>12219</td>\n",
       "    </tr>\n",
       "  </tbody>\n",
       "</table>\n",
       "</div>"
      ],
      "text/plain": [
       "   intersection    count\n",
       "0           0.0  1075657\n",
       "1           1.0   312124\n",
       "2           NaN    12219"
      ]
     },
     "execution_count": 15,
     "metadata": {},
     "output_type": "execute_result"
    }
   ],
   "source": [
    "query = '''\n",
    "\n",
    "SELECT intersection,\n",
    "       COUNT(case_id)\n",
    "FROM collisions\n",
    "GROUP BY intersection\n",
    "''' \n",
    "vehicles = pd.read_sql_query(query, con = engine) \n",
    "vehicles"
   ]
  },
  {
   "cell_type": "code",
   "execution_count": 16,
   "id": "4e28596e",
   "metadata": {},
   "outputs": [
    {
     "data": {
      "text/html": [
       "<div>\n",
       "<style scoped>\n",
       "    .dataframe tbody tr th:only-of-type {\n",
       "        vertical-align: middle;\n",
       "    }\n",
       "\n",
       "    .dataframe tbody tr th {\n",
       "        vertical-align: top;\n",
       "    }\n",
       "\n",
       "    .dataframe thead th {\n",
       "        text-align: right;\n",
       "    }\n",
       "</style>\n",
       "<table border=\"1\" class=\"dataframe\">\n",
       "  <thead>\n",
       "    <tr style=\"text-align: right;\">\n",
       "      <th></th>\n",
       "      <th>weather_1</th>\n",
       "      <th>count</th>\n",
       "    </tr>\n",
       "  </thead>\n",
       "  <tbody>\n",
       "    <tr>\n",
       "      <th>0</th>\n",
       "      <td>clear</td>\n",
       "      <td>1121048</td>\n",
       "    </tr>\n",
       "    <tr>\n",
       "      <th>1</th>\n",
       "      <td>cloudy</td>\n",
       "      <td>203030</td>\n",
       "    </tr>\n",
       "    <tr>\n",
       "      <th>2</th>\n",
       "      <td>fog</td>\n",
       "      <td>6156</td>\n",
       "    </tr>\n",
       "    <tr>\n",
       "      <th>3</th>\n",
       "      <td>other</td>\n",
       "      <td>1516</td>\n",
       "    </tr>\n",
       "    <tr>\n",
       "      <th>4</th>\n",
       "      <td>raining</td>\n",
       "      <td>57976</td>\n",
       "    </tr>\n",
       "    <tr>\n",
       "      <th>5</th>\n",
       "      <td>snowing</td>\n",
       "      <td>2571</td>\n",
       "    </tr>\n",
       "    <tr>\n",
       "      <th>6</th>\n",
       "      <td>wind</td>\n",
       "      <td>444</td>\n",
       "    </tr>\n",
       "    <tr>\n",
       "      <th>7</th>\n",
       "      <td>None</td>\n",
       "      <td>7259</td>\n",
       "    </tr>\n",
       "  </tbody>\n",
       "</table>\n",
       "</div>"
      ],
      "text/plain": [
       "  weather_1    count\n",
       "0     clear  1121048\n",
       "1    cloudy   203030\n",
       "2       fog     6156\n",
       "3     other     1516\n",
       "4   raining    57976\n",
       "5   snowing     2571\n",
       "6      wind      444\n",
       "7      None     7259"
      ]
     },
     "execution_count": 16,
     "metadata": {},
     "output_type": "execute_result"
    }
   ],
   "source": [
    "query = '''\n",
    "\n",
    "SELECT weather_1,\n",
    "       COUNT(case_id)\n",
    "FROM collisions\n",
    "GROUP BY weather_1\n",
    "''' \n",
    "vehicles = pd.read_sql_query(query, con = engine) \n",
    "vehicles"
   ]
  },
  {
   "cell_type": "code",
   "execution_count": 17,
   "id": "6be90294",
   "metadata": {},
   "outputs": [
    {
     "data": {
      "text/html": [
       "<div>\n",
       "<style scoped>\n",
       "    .dataframe tbody tr th:only-of-type {\n",
       "        vertical-align: middle;\n",
       "    }\n",
       "\n",
       "    .dataframe tbody tr th {\n",
       "        vertical-align: top;\n",
       "    }\n",
       "\n",
       "    .dataframe thead th {\n",
       "        text-align: right;\n",
       "    }\n",
       "</style>\n",
       "<table border=\"1\" class=\"dataframe\">\n",
       "  <thead>\n",
       "    <tr style=\"text-align: right;\">\n",
       "      <th></th>\n",
       "      <th>location_type</th>\n",
       "      <th>count</th>\n",
       "    </tr>\n",
       "  </thead>\n",
       "  <tbody>\n",
       "    <tr>\n",
       "      <th>0</th>\n",
       "      <td>highway</td>\n",
       "      <td>416531</td>\n",
       "    </tr>\n",
       "    <tr>\n",
       "      <th>1</th>\n",
       "      <td>intersection</td>\n",
       "      <td>26656</td>\n",
       "    </tr>\n",
       "    <tr>\n",
       "      <th>2</th>\n",
       "      <td>ramp</td>\n",
       "      <td>75592</td>\n",
       "    </tr>\n",
       "    <tr>\n",
       "      <th>3</th>\n",
       "      <td>None</td>\n",
       "      <td>881221</td>\n",
       "    </tr>\n",
       "  </tbody>\n",
       "</table>\n",
       "</div>"
      ],
      "text/plain": [
       "  location_type   count\n",
       "0       highway  416531\n",
       "1  intersection   26656\n",
       "2          ramp   75592\n",
       "3          None  881221"
      ]
     },
     "execution_count": 17,
     "metadata": {},
     "output_type": "execute_result"
    }
   ],
   "source": [
    "query = '''\n",
    "\n",
    "SELECT location_type,\n",
    "       COUNT(case_id)\n",
    "FROM collisions\n",
    "GROUP BY location_type\n",
    "''' \n",
    "vehicles = pd.read_sql_query(query, con = engine) \n",
    "vehicles"
   ]
  },
  {
   "cell_type": "code",
   "execution_count": 18,
   "id": "4f4960a0",
   "metadata": {},
   "outputs": [
    {
     "data": {
      "text/html": [
       "<div>\n",
       "<style scoped>\n",
       "    .dataframe tbody tr th:only-of-type {\n",
       "        vertical-align: middle;\n",
       "    }\n",
       "\n",
       "    .dataframe tbody tr th {\n",
       "        vertical-align: top;\n",
       "    }\n",
       "\n",
       "    .dataframe thead th {\n",
       "        text-align: right;\n",
       "    }\n",
       "</style>\n",
       "<table border=\"1\" class=\"dataframe\">\n",
       "  <thead>\n",
       "    <tr style=\"text-align: right;\">\n",
       "      <th></th>\n",
       "      <th>pcf_violation_category</th>\n",
       "      <th>count</th>\n",
       "    </tr>\n",
       "  </thead>\n",
       "  <tbody>\n",
       "    <tr>\n",
       "      <th>0</th>\n",
       "      <td>automobile right of way</td>\n",
       "      <td>158291</td>\n",
       "    </tr>\n",
       "    <tr>\n",
       "      <th>1</th>\n",
       "      <td>brakes</td>\n",
       "      <td>303</td>\n",
       "    </tr>\n",
       "    <tr>\n",
       "      <th>2</th>\n",
       "      <td>dui</td>\n",
       "      <td>110476</td>\n",
       "    </tr>\n",
       "    <tr>\n",
       "      <th>3</th>\n",
       "      <td>fell asleep</td>\n",
       "      <td>117</td>\n",
       "    </tr>\n",
       "    <tr>\n",
       "      <th>4</th>\n",
       "      <td>following too closely</td>\n",
       "      <td>30033</td>\n",
       "    </tr>\n",
       "    <tr>\n",
       "      <th>5</th>\n",
       "      <td>hazardous parking</td>\n",
       "      <td>1746</td>\n",
       "    </tr>\n",
       "    <tr>\n",
       "      <th>6</th>\n",
       "      <td>impeding traffic</td>\n",
       "      <td>752</td>\n",
       "    </tr>\n",
       "    <tr>\n",
       "      <th>7</th>\n",
       "      <td>improper passing</td>\n",
       "      <td>12136</td>\n",
       "    </tr>\n",
       "    <tr>\n",
       "      <th>8</th>\n",
       "      <td>improper turning</td>\n",
       "      <td>238987</td>\n",
       "    </tr>\n",
       "    <tr>\n",
       "      <th>9</th>\n",
       "      <td>lights</td>\n",
       "      <td>209</td>\n",
       "    </tr>\n",
       "    <tr>\n",
       "      <th>10</th>\n",
       "      <td>other equipment</td>\n",
       "      <td>1747</td>\n",
       "    </tr>\n",
       "    <tr>\n",
       "      <th>11</th>\n",
       "      <td>other hazardous violation</td>\n",
       "      <td>13851</td>\n",
       "    </tr>\n",
       "    <tr>\n",
       "      <th>12</th>\n",
       "      <td>other improper driving</td>\n",
       "      <td>8470</td>\n",
       "    </tr>\n",
       "    <tr>\n",
       "      <th>13</th>\n",
       "      <td>other than driver (or pedestrian)</td>\n",
       "      <td>29780</td>\n",
       "    </tr>\n",
       "    <tr>\n",
       "      <th>14</th>\n",
       "      <td>pedestrian dui</td>\n",
       "      <td>2</td>\n",
       "    </tr>\n",
       "    <tr>\n",
       "      <th>15</th>\n",
       "      <td>pedestrian right of way</td>\n",
       "      <td>15739</td>\n",
       "    </tr>\n",
       "    <tr>\n",
       "      <th>16</th>\n",
       "      <td>pedestrian violation</td>\n",
       "      <td>15392</td>\n",
       "    </tr>\n",
       "    <tr>\n",
       "      <th>17</th>\n",
       "      <td>speeding</td>\n",
       "      <td>438439</td>\n",
       "    </tr>\n",
       "    <tr>\n",
       "      <th>18</th>\n",
       "      <td>traffic signals and signs</td>\n",
       "      <td>72751</td>\n",
       "    </tr>\n",
       "    <tr>\n",
       "      <th>19</th>\n",
       "      <td>unknown</td>\n",
       "      <td>39558</td>\n",
       "    </tr>\n",
       "    <tr>\n",
       "      <th>20</th>\n",
       "      <td>unsafe lane change</td>\n",
       "      <td>93962</td>\n",
       "    </tr>\n",
       "    <tr>\n",
       "      <th>21</th>\n",
       "      <td>unsafe starting or backing</td>\n",
       "      <td>55674</td>\n",
       "    </tr>\n",
       "    <tr>\n",
       "      <th>22</th>\n",
       "      <td>wrong side of road</td>\n",
       "      <td>33631</td>\n",
       "    </tr>\n",
       "    <tr>\n",
       "      <th>23</th>\n",
       "      <td>None</td>\n",
       "      <td>27954</td>\n",
       "    </tr>\n",
       "  </tbody>\n",
       "</table>\n",
       "</div>"
      ],
      "text/plain": [
       "               pcf_violation_category   count\n",
       "0             automobile right of way  158291\n",
       "1                              brakes     303\n",
       "2                                 dui  110476\n",
       "3                         fell asleep     117\n",
       "4               following too closely   30033\n",
       "5                   hazardous parking    1746\n",
       "6                    impeding traffic     752\n",
       "7                    improper passing   12136\n",
       "8                    improper turning  238987\n",
       "9                              lights     209\n",
       "10                    other equipment    1747\n",
       "11          other hazardous violation   13851\n",
       "12             other improper driving    8470\n",
       "13  other than driver (or pedestrian)   29780\n",
       "14                     pedestrian dui       2\n",
       "15            pedestrian right of way   15739\n",
       "16               pedestrian violation   15392\n",
       "17                           speeding  438439\n",
       "18          traffic signals and signs   72751\n",
       "19                            unknown   39558\n",
       "20                 unsafe lane change   93962\n",
       "21         unsafe starting or backing   55674\n",
       "22                 wrong side of road   33631\n",
       "23                               None   27954"
      ]
     },
     "execution_count": 18,
     "metadata": {},
     "output_type": "execute_result"
    }
   ],
   "source": [
    "query = '''\n",
    "\n",
    "SELECT pcf_violation_category,\n",
    "       COUNT(case_id)\n",
    "FROM collisions\n",
    "GROUP BY pcf_violation_category\n",
    "''' \n",
    "vehicles = pd.read_sql_query(query, con = engine) \n",
    "vehicles"
   ]
  },
  {
   "cell_type": "markdown",
   "id": "3934ad69",
   "metadata": {},
   "source": [
    "### Таблица vehicles"
   ]
  },
  {
   "cell_type": "code",
   "execution_count": 19,
   "id": "fd1179c4",
   "metadata": {},
   "outputs": [
    {
     "name": "stdout",
     "output_type": "stream",
     "text": [
      "<class 'pandas.core.frame.DataFrame'>\n",
      "RangeIndex: 24 entries, 0 to 23\n",
      "Data columns (total 2 columns):\n",
      " #   Column                  Non-Null Count  Dtype \n",
      "---  ------                  --------------  ----- \n",
      " 0   pcf_violation_category  23 non-null     object\n",
      " 1   count                   24 non-null     int64 \n",
      "dtypes: int64(1), object(1)\n",
      "memory usage: 512.0+ bytes\n"
     ]
    }
   ],
   "source": [
    "vehicles.info(show_counts=True)"
   ]
  },
  {
   "cell_type": "code",
   "execution_count": 20,
   "id": "ad5dca4e",
   "metadata": {},
   "outputs": [
    {
     "data": {
      "text/html": [
       "<div>\n",
       "<style scoped>\n",
       "    .dataframe tbody tr th:only-of-type {\n",
       "        vertical-align: middle;\n",
       "    }\n",
       "\n",
       "    .dataframe tbody tr th {\n",
       "        vertical-align: top;\n",
       "    }\n",
       "\n",
       "    .dataframe thead th {\n",
       "        text-align: right;\n",
       "    }\n",
       "</style>\n",
       "<table border=\"1\" class=\"dataframe\">\n",
       "  <thead>\n",
       "    <tr style=\"text-align: right;\">\n",
       "      <th></th>\n",
       "      <th>count</th>\n",
       "    </tr>\n",
       "  </thead>\n",
       "  <tbody>\n",
       "    <tr>\n",
       "      <th>0</th>\n",
       "      <td>792642</td>\n",
       "    </tr>\n",
       "  </tbody>\n",
       "</table>\n",
       "</div>"
      ],
      "text/plain": [
       "    count\n",
       "0  792642"
      ]
     },
     "execution_count": 20,
     "metadata": {},
     "output_type": "execute_result"
    }
   ],
   "source": [
    "query = '''\n",
    "\n",
    "SELECT COUNT(DISTINCT case_id)\n",
    "FROM vehicles\n",
    "''' \n",
    "vehicles = pd.read_sql_query(query, con = engine) \n",
    "vehicles"
   ]
  },
  {
   "cell_type": "markdown",
   "id": "ae63ddd5",
   "metadata": {},
   "source": [
    "Информация в таблице есть не по всем происшествиям из таблицы `collisions`."
   ]
  },
  {
   "cell_type": "code",
   "execution_count": 21,
   "id": "fb57bed5",
   "metadata": {},
   "outputs": [
    {
     "data": {
      "text/html": [
       "<div>\n",
       "<style scoped>\n",
       "    .dataframe tbody tr th:only-of-type {\n",
       "        vertical-align: middle;\n",
       "    }\n",
       "\n",
       "    .dataframe tbody tr th {\n",
       "        vertical-align: top;\n",
       "    }\n",
       "\n",
       "    .dataframe thead th {\n",
       "        text-align: right;\n",
       "    }\n",
       "</style>\n",
       "<table border=\"1\" class=\"dataframe\">\n",
       "  <thead>\n",
       "    <tr style=\"text-align: right;\">\n",
       "      <th></th>\n",
       "      <th>vehicle_transmission</th>\n",
       "      <th>count</th>\n",
       "    </tr>\n",
       "  </thead>\n",
       "  <tbody>\n",
       "    <tr>\n",
       "      <th>0</th>\n",
       "      <td>auto</td>\n",
       "      <td>502243</td>\n",
       "    </tr>\n",
       "    <tr>\n",
       "      <th>1</th>\n",
       "      <td>manual</td>\n",
       "      <td>495332</td>\n",
       "    </tr>\n",
       "    <tr>\n",
       "      <th>2</th>\n",
       "      <td>None</td>\n",
       "      <td>23659</td>\n",
       "    </tr>\n",
       "  </tbody>\n",
       "</table>\n",
       "</div>"
      ],
      "text/plain": [
       "  vehicle_transmission   count\n",
       "0                 auto  502243\n",
       "1               manual  495332\n",
       "2                 None   23659"
      ]
     },
     "execution_count": 21,
     "metadata": {},
     "output_type": "execute_result"
    }
   ],
   "source": [
    "query = '''\n",
    "\n",
    "SELECT vehicle_transmission,\n",
    "       COUNT(id)\n",
    "FROM vehicles\n",
    "GROUP BY vehicle_transmission\n",
    "''' \n",
    "vehicles = pd.read_sql_query(query, con = engine) \n",
    "vehicles"
   ]
  },
  {
   "cell_type": "code",
   "execution_count": 22,
   "id": "b0e863a2",
   "metadata": {},
   "outputs": [
    {
     "data": {
      "text/html": [
       "<div>\n",
       "<style scoped>\n",
       "    .dataframe tbody tr th:only-of-type {\n",
       "        vertical-align: middle;\n",
       "    }\n",
       "\n",
       "    .dataframe tbody tr th {\n",
       "        vertical-align: top;\n",
       "    }\n",
       "\n",
       "    .dataframe thead th {\n",
       "        text-align: right;\n",
       "    }\n",
       "</style>\n",
       "<table border=\"1\" class=\"dataframe\">\n",
       "  <thead>\n",
       "    <tr style=\"text-align: right;\">\n",
       "      <th></th>\n",
       "      <th>vehicle_age</th>\n",
       "      <th>count</th>\n",
       "    </tr>\n",
       "  </thead>\n",
       "  <tbody>\n",
       "    <tr>\n",
       "      <th>0</th>\n",
       "      <td>0.0</td>\n",
       "      <td>40262</td>\n",
       "    </tr>\n",
       "    <tr>\n",
       "      <th>1</th>\n",
       "      <td>1.0</td>\n",
       "      <td>41307</td>\n",
       "    </tr>\n",
       "    <tr>\n",
       "      <th>2</th>\n",
       "      <td>2.0</td>\n",
       "      <td>106530</td>\n",
       "    </tr>\n",
       "    <tr>\n",
       "      <th>3</th>\n",
       "      <td>3.0</td>\n",
       "      <td>178550</td>\n",
       "    </tr>\n",
       "    <tr>\n",
       "      <th>4</th>\n",
       "      <td>4.0</td>\n",
       "      <td>125472</td>\n",
       "    </tr>\n",
       "    <tr>\n",
       "      <th>5</th>\n",
       "      <td>5.0</td>\n",
       "      <td>105035</td>\n",
       "    </tr>\n",
       "    <tr>\n",
       "      <th>6</th>\n",
       "      <td>6.0</td>\n",
       "      <td>84362</td>\n",
       "    </tr>\n",
       "    <tr>\n",
       "      <th>7</th>\n",
       "      <td>7.0</td>\n",
       "      <td>84282</td>\n",
       "    </tr>\n",
       "    <tr>\n",
       "      <th>8</th>\n",
       "      <td>8.0</td>\n",
       "      <td>77070</td>\n",
       "    </tr>\n",
       "    <tr>\n",
       "      <th>9</th>\n",
       "      <td>9.0</td>\n",
       "      <td>58255</td>\n",
       "    </tr>\n",
       "    <tr>\n",
       "      <th>10</th>\n",
       "      <td>10.0</td>\n",
       "      <td>38457</td>\n",
       "    </tr>\n",
       "    <tr>\n",
       "      <th>11</th>\n",
       "      <td>11.0</td>\n",
       "      <td>27075</td>\n",
       "    </tr>\n",
       "    <tr>\n",
       "      <th>12</th>\n",
       "      <td>12.0</td>\n",
       "      <td>14947</td>\n",
       "    </tr>\n",
       "    <tr>\n",
       "      <th>13</th>\n",
       "      <td>13.0</td>\n",
       "      <td>10126</td>\n",
       "    </tr>\n",
       "    <tr>\n",
       "      <th>14</th>\n",
       "      <td>14.0</td>\n",
       "      <td>4096</td>\n",
       "    </tr>\n",
       "    <tr>\n",
       "      <th>15</th>\n",
       "      <td>15.0</td>\n",
       "      <td>673</td>\n",
       "    </tr>\n",
       "    <tr>\n",
       "      <th>16</th>\n",
       "      <td>16.0</td>\n",
       "      <td>96</td>\n",
       "    </tr>\n",
       "    <tr>\n",
       "      <th>17</th>\n",
       "      <td>17.0</td>\n",
       "      <td>31</td>\n",
       "    </tr>\n",
       "    <tr>\n",
       "      <th>18</th>\n",
       "      <td>18.0</td>\n",
       "      <td>1</td>\n",
       "    </tr>\n",
       "    <tr>\n",
       "      <th>19</th>\n",
       "      <td>19.0</td>\n",
       "      <td>6</td>\n",
       "    </tr>\n",
       "    <tr>\n",
       "      <th>20</th>\n",
       "      <td>20.0</td>\n",
       "      <td>2</td>\n",
       "    </tr>\n",
       "    <tr>\n",
       "      <th>21</th>\n",
       "      <td>161.0</td>\n",
       "      <td>17</td>\n",
       "    </tr>\n",
       "    <tr>\n",
       "      <th>22</th>\n",
       "      <td>NaN</td>\n",
       "      <td>24582</td>\n",
       "    </tr>\n",
       "  </tbody>\n",
       "</table>\n",
       "</div>"
      ],
      "text/plain": [
       "    vehicle_age   count\n",
       "0           0.0   40262\n",
       "1           1.0   41307\n",
       "2           2.0  106530\n",
       "3           3.0  178550\n",
       "4           4.0  125472\n",
       "5           5.0  105035\n",
       "6           6.0   84362\n",
       "7           7.0   84282\n",
       "8           8.0   77070\n",
       "9           9.0   58255\n",
       "10         10.0   38457\n",
       "11         11.0   27075\n",
       "12         12.0   14947\n",
       "13         13.0   10126\n",
       "14         14.0    4096\n",
       "15         15.0     673\n",
       "16         16.0      96\n",
       "17         17.0      31\n",
       "18         18.0       1\n",
       "19         19.0       6\n",
       "20         20.0       2\n",
       "21        161.0      17\n",
       "22          NaN   24582"
      ]
     },
     "execution_count": 22,
     "metadata": {},
     "output_type": "execute_result"
    }
   ],
   "source": [
    "query = '''\n",
    "\n",
    "SELECT vehicle_age,\n",
    "       COUNT(id)\n",
    "FROM vehicles\n",
    "GROUP BY vehicle_age\n",
    "''' \n",
    "vehicles = pd.read_sql_query(query, con = engine) \n",
    "vehicles"
   ]
  },
  {
   "cell_type": "markdown",
   "id": "7caf57dd",
   "metadata": {},
   "source": [
    "**Вывод**"
   ]
  },
  {
   "cell_type": "markdown",
   "id": "78c7dc09",
   "metadata": {},
   "source": [
    "В таблицах иммется общий ключ - `case_id`. Есть категории и поля не совпадаюшие с описанием таблиц (например поле `PARTY_NUMBER` в `vehicles`, поле `primary_collision_factor` в `collision`, категории в `party_drug_physical`).\n",
    "\n",
    "Все таблицы содержат пропущенные значения. Только для 792,642 происшествий из 1,400,000 имеются данные в таблице `vehicles`. Требуется укрупнение данных по новым категориям. "
   ]
  },
  {
   "cell_type": "markdown",
   "id": "e13c29b1",
   "metadata": {},
   "source": [
    "##  Статистический анализ факторов ДТП"
   ]
  },
  {
   "cell_type": "markdown",
   "id": "63147622",
   "metadata": {},
   "source": [
    "Задачи:\n",
    "    \n",
    "    1) Выявить сезонность аварий.\n",
    "    План работы:\n",
    "        - загрузить данные\n",
    "        - построить график\n",
    "        - сделать выводы \n",
    "        \n",
    "    2) Провести анализ возраста автопарка.\n",
    "    План работы:\n",
    "        - загрузить данные\n",
    "        - построить график\n",
    "        - сделать выводы     \n",
    "        \n",
    "    3) Провести анализ серьезности повреждений исходя из состояния дороги.\n",
    "    План работы:\n",
    "        - загрузить данные\n",
    "        - построить график\n",
    "        - сделать выводы \n",
    "    4) Оценить влияние возраста авто на серьезность повреждений.\n",
    "    План работы:\n",
    "        - загрузить данные\n",
    "        - построить график\n",
    "        - сделать выводы \n",
    "        \n",
    "    5) Найти самые частые категории нарушений.\n",
    "    План работы:\n",
    "        - загрузить данные\n",
    "        - построить график\n",
    "        - сделать выводы   \n",
    "    6) Оценить наличие громкой связи в зависимости от возраста авто.\n",
    "    План работы:\n",
    "        - загрузить данные\n",
    "        - построить график\n",
    "        - сделать выводы   \n",
    "    7) Провести анализ серьезности повреждений исходя из состояния виновника.\n",
    "    План работы:\n",
    "        - загрузить данные\n",
    "        - построить график\n",
    "        - сделать выводы     \n",
    "        "
   ]
  },
  {
   "cell_type": "markdown",
   "id": "8ebd29f5",
   "metadata": {},
   "source": [
    "### Сезонность аварий"
   ]
  },
  {
   "cell_type": "markdown",
   "id": "11d0cfe4",
   "metadata": {},
   "source": [
    "Выясним в какие месяцы происходит наибольшее кол-во аварий. Посмотрим за какие периоды есть данные."
   ]
  },
  {
   "cell_type": "code",
   "execution_count": 23,
   "id": "4b255dea",
   "metadata": {},
   "outputs": [
    {
     "data": {
      "text/html": [
       "<div>\n",
       "<style scoped>\n",
       "    .dataframe tbody tr th:only-of-type {\n",
       "        vertical-align: middle;\n",
       "    }\n",
       "\n",
       "    .dataframe tbody tr th {\n",
       "        vertical-align: top;\n",
       "    }\n",
       "\n",
       "    .dataframe thead th {\n",
       "        text-align: right;\n",
       "    }\n",
       "</style>\n",
       "<table border=\"1\" class=\"dataframe\">\n",
       "  <thead>\n",
       "    <tr style=\"text-align: right;\">\n",
       "      <th></th>\n",
       "      <th>date_part</th>\n",
       "      <th>count</th>\n",
       "    </tr>\n",
       "  </thead>\n",
       "  <tbody>\n",
       "    <tr>\n",
       "      <th>0</th>\n",
       "      <td>2009</td>\n",
       "      <td>12</td>\n",
       "    </tr>\n",
       "    <tr>\n",
       "      <th>1</th>\n",
       "      <td>2010</td>\n",
       "      <td>12</td>\n",
       "    </tr>\n",
       "    <tr>\n",
       "      <th>2</th>\n",
       "      <td>2011</td>\n",
       "      <td>12</td>\n",
       "    </tr>\n",
       "    <tr>\n",
       "      <th>3</th>\n",
       "      <td>2012</td>\n",
       "      <td>12</td>\n",
       "    </tr>\n",
       "    <tr>\n",
       "      <th>4</th>\n",
       "      <td>2013</td>\n",
       "      <td>6</td>\n",
       "    </tr>\n",
       "    <tr>\n",
       "      <th>5</th>\n",
       "      <td>2020</td>\n",
       "      <td>2</td>\n",
       "    </tr>\n",
       "  </tbody>\n",
       "</table>\n",
       "</div>"
      ],
      "text/plain": [
       "   date_part  count\n",
       "0       2009     12\n",
       "1       2010     12\n",
       "2       2011     12\n",
       "3       2012     12\n",
       "4       2013      6\n",
       "5       2020      2"
      ]
     },
     "execution_count": 23,
     "metadata": {},
     "output_type": "execute_result"
    }
   ],
   "source": [
    "query = '''\n",
    "\n",
    "SELECT EXTRACT(YEAR FROM collision_date)::int,\n",
    "       COUNT(DISTINCT(EXTRACT(MONTH FROM collision_date)))\n",
    "FROM collisions\n",
    "GROUP BY EXTRACT(YEAR FROM collision_date)\n",
    "''' \n",
    "vehicles = pd.read_sql_query(query, con = engine)\n",
    "vehicles"
   ]
  },
  {
   "cell_type": "markdown",
   "id": "16c26f7c",
   "metadata": {},
   "source": [
    "Т.к. данные за 2013 и 2020 года неполные, не будем включать их в анализ."
   ]
  },
  {
   "cell_type": "code",
   "execution_count": 24,
   "id": "3c0cd609",
   "metadata": {},
   "outputs": [
    {
     "data": {
      "image/png": "[encoded data removed]",
      "text/plain": [
       "<Figure size 504x288 with 1 Axes>"
      ]
     },
     "metadata": {},
     "output_type": "display_data"
    }
   ],
   "source": [
    "query = '''\n",
    "\n",
    "SELECT EXTRACT(MONTH FROM collision_date) AS collision_month\n",
    "FROM collisions\n",
    "WHERE EXTRACT(YEAR FROM collision_date) NOT IN (2013, 2020)\n",
    "''' \n",
    "vehicles = pd.read_sql_query(query, con = engine) \n",
    "\n",
    "sns.set(style=\"whitegrid\")\n",
    "plt.figure(figsize=(7, 4))\n",
    "sns.countplot(x ='collision_month', data = vehicles, color ='steelblue')\n",
    "plt.xlabel('Порядковый номер месяца', fontsize=12)\n",
    "plt.ylabel('Кол-во', fontsize=12)\n",
    "plt.title('Распределение аварий по месяцам', fontsize=15)\n",
    "plt.draw()"
   ]
  },
  {
   "cell_type": "markdown",
   "id": "44db9978",
   "metadata": {},
   "source": [
    "Наибольшее кол-во аварий происходит в весенне-зимний период. "
   ]
  },
  {
   "cell_type": "markdown",
   "id": "82d462fc",
   "metadata": {},
   "source": [
    "### Анализ возраста автопарка."
   ]
  },
  {
   "cell_type": "code",
   "execution_count": 25,
   "id": "326b5310",
   "metadata": {},
   "outputs": [
    {
     "data": {
      "image/png": "[encoded data removed]",
      "text/plain": [
       "<Figure size 720x288 with 1 Axes>"
      ]
     },
     "metadata": {},
     "output_type": "display_data"
    }
   ],
   "source": [
    "query = '''\n",
    "\n",
    "SELECT vehicle_age\n",
    "FROM vehicles \n",
    "''' \n",
    "vehicles = pd.read_sql_query(query, con = engine) \n",
    "\n",
    "sns.set(style=\"whitegrid\")\n",
    "plt.figure(figsize=(10, 4))\n",
    "sns.countplot(x ='vehicle_age', data = vehicles, color ='steelblue')\n",
    "plt.xlabel('Возраст авто', fontsize=12)\n",
    "plt.ylabel('Кол-во', fontsize=12)\n",
    "plt.title('Анализ возраста автопарка', fontsize=15)\n",
    "plt.draw()"
   ]
  },
  {
   "cell_type": "markdown",
   "id": "266d0936",
   "metadata": {},
   "source": [
    "Большая часть автопарка имеет возраст от 2 до 9 лет. "
   ]
  },
  {
   "cell_type": "markdown",
   "id": "1b29f3bc",
   "metadata": {},
   "source": [
    "### Анализ серьезности повреждений исходя из состояния дороги"
   ]
  },
  {
   "cell_type": "code",
   "execution_count": 26,
   "id": "7fecd1f4",
   "metadata": {},
   "outputs": [],
   "source": [
    "query = '''\n",
    "\n",
    "SELECT collision_damage,\n",
    "       road_surface\n",
    "FROM collisions \n",
    "''' \n",
    "vehicles = pd.read_sql_query(query, con = engine) "
   ]
  },
  {
   "cell_type": "code",
   "execution_count": 27,
   "id": "d3cd1249",
   "metadata": {},
   "outputs": [
    {
     "data": {
      "image/png": "[encoded data removed]",
      "text/plain": [
       "<Figure size 1080x504 with 1 Axes>"
      ]
     },
     "metadata": {},
     "output_type": "display_data"
    },
    {
     "data": {
      "image/png": "[encoded data removed]",
      "text/plain": [
       "<Figure size 1080x504 with 1 Axes>"
      ]
     },
     "metadata": {},
     "output_type": "display_data"
    }
   ],
   "source": [
    "sns.set(style=\"whitegrid\")\n",
    "plt.figure(figsize=(15, 7))\n",
    "sns.countplot(y ='collision_damage', data = vehicles, hue='road_surface')\n",
    "plt.xlabel('Кол-во ДТП', fontsize=17)\n",
    "plt.ylabel('Степень повреждения', fontsize=17)\n",
    "plt.title('Повреждения исходя из состояния дороги', fontsize=20)\n",
    "plt.draw()\n",
    "\n",
    "sns.set(style=\"whitegrid\")\n",
    "plt.figure(figsize=(15, 7))\n",
    "sns.countplot(y ='collision_damage', data = vehicles, hue='road_surface')\n",
    "plt.xlabel('Кол-во ДТП', fontsize=17)\n",
    "plt.ylabel('Степень повреждения', fontsize=17)\n",
    "plt.title('Повреждения исходя из состояния дороги', fontsize=20)\n",
    "plt.xlim([0, 40000])\n",
    "plt.draw()"
   ]
  },
  {
   "cell_type": "markdown",
   "id": "96658606",
   "metadata": {},
   "source": [
    "Для всех типов повреждений топ-3 состояния дороги выглядит следующим образом:\n",
    "      \n",
    "      - dry\n",
    "      - wet\n",
    "      - snowy"
   ]
  },
  {
   "cell_type": "markdown",
   "id": "9d53162c",
   "metadata": {},
   "source": [
    "### Влияние возраста авто на серьезность повреждений."
   ]
  },
  {
   "cell_type": "code",
   "execution_count": 28,
   "id": "9355f4a9",
   "metadata": {},
   "outputs": [],
   "source": [
    "query = '''\n",
    "\n",
    "SELECT CASE \n",
    "           WHEN v.vehicle_age <= 2 THEN 'age <= 2'\n",
    "           WHEN v.vehicle_age > 2 AND v.vehicle_age <= 5 THEN '2 < age <= 5'\n",
    "           WHEN v.vehicle_age > 5 AND v.vehicle_age <= 8 THEN '5 < age <= 8'\n",
    "           WHEN v.vehicle_age > 8 THEN 'age > 8'\n",
    "       END AS age,\n",
    "       c.collision_damage\n",
    "FROM vehicles AS v\n",
    "JOIN collisions AS c ON v.case_id = c.case_id\n",
    "''' \n",
    "vehicles = pd.read_sql_query(query, con = engine) "
   ]
  },
  {
   "cell_type": "code",
   "execution_count": 29,
   "id": "d3db223c",
   "metadata": {},
   "outputs": [
    {
     "data": {
      "image/png": "[encoded data removed]",
      "text/plain": [
       "<Figure size 1080x504 with 1 Axes>"
      ]
     },
     "metadata": {},
     "output_type": "display_data"
    }
   ],
   "source": [
    "sns.set(style=\"whitegrid\")\n",
    "plt.figure(figsize=(15, 7))\n",
    "sns.countplot(y ='collision_damage', data = vehicles, hue='age')\n",
    "plt.xlabel('Кол-во ДТП', fontsize=17)\n",
    "plt.ylabel('Степень повреждения', fontsize=17)\n",
    "plt.title('Повреждения исходя из возраста авто', fontsize=20)\n",
    "plt.draw()"
   ]
  },
  {
   "cell_type": "markdown",
   "id": "5520c699",
   "metadata": {},
   "source": [
    "Для фатального повреждения наблюдается снижение доли авто возрастом до 2 лет, тогда как для небольших повреждений - обратная ситуация."
   ]
  },
  {
   "cell_type": "markdown",
   "id": "ce962e56",
   "metadata": {},
   "source": [
    "### Категории нарушений."
   ]
  },
  {
   "cell_type": "code",
   "execution_count": 30,
   "id": "0f813e61",
   "metadata": {},
   "outputs": [
    {
     "data": {
      "image/png": "[encoded data removed]",
      "text/plain": [
       "<Figure size 1080x504 with 1 Axes>"
      ]
     },
     "metadata": {},
     "output_type": "display_data"
    }
   ],
   "source": [
    "query = '''\n",
    "\n",
    "SELECT pcf_violation_category\n",
    "FROM collisions\n",
    "''' \n",
    "vehicles = pd.read_sql_query(query, con = engine) \n",
    "\n",
    "sns.set(style=\"whitegrid\")\n",
    "plt.figure(figsize=(15, 7))\n",
    "sns.countplot(y ='pcf_violation_category', data = vehicles, color ='steelblue')\n",
    "plt.xlabel('Кол-во ДТП', fontsize=12)\n",
    "plt.ylabel('Категория', fontsize=12)\n",
    "plt.title('Факторы ДТП', fontsize=15)\n",
    "plt.draw()"
   ]
  },
  {
   "cell_type": "markdown",
   "id": "a02b6d15",
   "metadata": {},
   "source": [
    "Топ 3 категорий нарушений:\n",
    "\n",
    "    - превышение скорости\n",
    "    - неправильный поворот\n",
    "    - автомобильное право проезда   \n",
    "    "
   ]
  },
  {
   "cell_type": "markdown",
   "id": "f0c88a14",
   "metadata": {},
   "source": [
    "### Наличие громкой связи в зависимости от возраста авто."
   ]
  },
  {
   "cell_type": "code",
   "execution_count": 31,
   "id": "1c8f3322",
   "metadata": {},
   "outputs": [
    {
     "data": {
      "image/png": "[encoded data removed]",
      "text/plain": [
       "<Figure size 1440x360 with 2 Axes>"
      ]
     },
     "metadata": {},
     "output_type": "display_data"
    }
   ],
   "source": [
    "query = '''\n",
    "\n",
    "SELECT CASE \n",
    "           WHEN v.vehicle_age <= 2 THEN 'age <= 2'\n",
    "           WHEN v.vehicle_age > 2 AND v.vehicle_age <= 5 THEN '2 < age <= 5'\n",
    "           WHEN v.vehicle_age > 5 AND v.vehicle_age <= 8 THEN '5 < age <= 8'\n",
    "           WHEN v.vehicle_age > 8 THEN 'age > 8'\n",
    "       END AS age,\n",
    "       SUM(p.cellphone_in_use),\n",
    "       COUNT(v.id)\n",
    "FROM vehicles AS v\n",
    "JOIN parties AS p ON v.case_id = p.case_id AND v.party_number = p.party_number\n",
    "WHERE v.vehicle_age IS NOT Null\n",
    "GROUP BY age\n",
    "''' \n",
    "vehicles = pd.read_sql_query(query, con = engine) \n",
    "vehicles\n",
    "\n",
    "\n",
    "fig, axes = plt.subplots(1, 2, figsize=(20,10))\n",
    "explode = (0.05, 0) \n",
    "\n",
    "ax = vehicles['sum'].plot(kind='pie', fontsize=14, use_index=False, shadow=True, \\\n",
    "                      title='Наличие громкой связи в зависимости от возраста авто', figsize=(20,5),\n",
    "                      ax=axes[1], autopct='%1.1f%%', labels=None)\n",
    "ax.legend(vehicles['age'], bbox_to_anchor=(0.897,0.87), prop={'size':12})\n",
    "ax.set_ylabel('')\n",
    "ax.title.set_size(15) \n",
    "\n",
    "ax = vehicles['count'].plot(kind='pie', fontsize=14, use_index=False, shadow=True, \\\n",
    "                      title='Анализ автопарка по возрасту авто', figsize=(20,5),\n",
    "                      ax=axes[0], autopct='%1.1f%%', labels=None)\n",
    "ax.legend(vehicles['age'], bbox_to_anchor=(0.897,0.87), prop={'size':12})\n",
    "ax.set_ylabel('')\n",
    "ax.title.set_size(15);"
   ]
  },
  {
   "cell_type": "markdown",
   "id": "7845a336",
   "metadata": {},
   "source": [
    "Автопарк равномерно оборудован громкой связью."
   ]
  },
  {
   "cell_type": "markdown",
   "id": "8d19e401",
   "metadata": {},
   "source": [
    "### Анализ серьезности повреждений исходя из состояния виновника."
   ]
  },
  {
   "cell_type": "code",
   "execution_count": 32,
   "id": "8a364d28",
   "metadata": {},
   "outputs": [],
   "source": [
    "query = '''\n",
    "\n",
    "SELECT CASE \n",
    "           WHEN p.party_sobriety = 'had not been drinking' THEN 'не пил'\n",
    "           WHEN p.party_sobriety = 'impairment unknown' OR p.party_sobriety = 'not applicable' THEN 'не известно'\n",
    "           WHEN p.party_sobriety = 'had been drinking, under influence' \n",
    "             OR p.party_sobriety = 'had been drinking, impairment unknown' \n",
    "             OR p.party_sobriety = 'had been drinking, not under influence' THEN 'пил'\n",
    "       END AS party_sobriety,\n",
    "       c.collision_damage\n",
    "FROM (\n",
    "        SELECT *\n",
    "        FROM parties \n",
    "        WHERE at_fault = 1\n",
    "     ) AS p\n",
    "JOIN collisions AS c ON p.case_id = c.case_id\n",
    "''' \n",
    "vehicles = pd.read_sql_query(query, con = engine) "
   ]
  },
  {
   "cell_type": "code",
   "execution_count": 33,
   "id": "eb51fe25",
   "metadata": {},
   "outputs": [
    {
     "data": {
      "image/png": "[encoded data removed]",
      "text/plain": [
       "<Figure size 1080x504 with 1 Axes>"
      ]
     },
     "metadata": {},
     "output_type": "display_data"
    }
   ],
   "source": [
    "sns.set(style=\"whitegrid\")\n",
    "plt.figure(figsize=(15, 7))\n",
    "sns.countplot(y ='party_sobriety', data = vehicles, hue='collision_damage')\n",
    "plt.xlabel('Кол-во ДТП', fontsize=17)\n",
    "plt.ylabel('Состояние водителя', fontsize=17)\n",
    "plt.title('Серьезность уровна в зависимости от состояния водителя', fontsize=20)\n",
    "plt.draw()"
   ]
  },
  {
   "cell_type": "markdown",
   "id": "1b905ca8",
   "metadata": {},
   "source": [
    "Для выпивших виновников ДТП повышается доля среднего урона авто. Большая часть фатального урона приходится на водителей которые не пили. "
   ]
  },
  {
   "cell_type": "markdown",
   "id": "05b76e92",
   "metadata": {},
   "source": [
    "**Вывод**"
   ]
  },
  {
   "cell_type": "markdown",
   "id": "92b0db22",
   "metadata": {},
   "source": [
    "  - Наибольшее кол-во аварий происходит в весенне-зимний период. \n",
    "  - Большая часть автопарка имеет возраст от 2 до 9 лет. \n",
    "  - Для всех типов повреждений топ-3 состояния дороги выглядит следующим образом:      \n",
    "      - dry\n",
    "      - wet\n",
    "      - snowy\n",
    "  - Для фатального повреждения наблюдается снижение доли авто возрастом до 2 лет, тогда как для небольших повреждений - обратная ситуация.\n",
    "  - Топ 3 категорий нарушений:\n",
    "\n",
    "    - превышение скорости\n",
    "    - неправильный поворот\n",
    "    - автомобильное право проезда   \n",
    "  - Автопарк равномерно оборудован громкой связью.\n",
    "  - Для выпивших виновников ДТП повышается доля среднего урона авто. Большая часть фатального урона приходится на водителей которые не пили. "
   ]
  },
  {
   "cell_type": "markdown",
   "id": "a3f86e94",
   "metadata": {},
   "source": [
    "## Создайте модель для оценки водительского риска"
   ]
  },
  {
   "cell_type": "markdown",
   "id": "d4b3c098",
   "metadata": {},
   "source": [
    "### Выгрузка данных и выбор признаков"
   ]
  },
  {
   "cell_type": "code",
   "execution_count": 34,
   "id": "2b673bdb",
   "metadata": {},
   "outputs": [],
   "source": [
    "query = '''\n",
    "\n",
    "WITH collisions AS (SELECT *,\n",
    "                           EXTRACT(MONTH FROM collision_date) AS collision_month\n",
    "                    FROM collisions\n",
    "                    WHERE case_id IN (SELECT DISTINCT case_id\n",
    "                                      FROM parties\n",
    "                                      WHERE at_fault = 1 AND party_type = 'car'\n",
    "                                     )\n",
    "                                  AND EXTRACT(YEAR FROM collision_date) = 2012\n",
    "                                  AND collision_damage NOT LIKE 'scratch'\n",
    "                    )\n",
    "                    \n",
    "SELECT *\n",
    "FROM parties AS p\n",
    "LEFT OUTER JOIN collisions AS c ON p.case_id = c.case_id\n",
    "LEFT OUTER JOIN vehicles AS v ON p.case_id = v.case_id AND p.party_number = v.party_number\n",
    "WHERE c.county_city_location IS NOT NULL \n",
    "      AND v.id IS NOT NULL\n",
    "''' \n",
    "data = pd.read_sql_query(query, con = engine) "
   ]
  },
  {
   "cell_type": "markdown",
   "id": "e708fe37",
   "metadata": {},
   "source": [
    "Удалим дубликаты столбцов."
   ]
  },
  {
   "cell_type": "code",
   "execution_count": 35,
   "id": "71dea647",
   "metadata": {},
   "outputs": [],
   "source": [
    "data = data.loc[:,~data.columns.duplicated()].copy()"
   ]
  },
  {
   "cell_type": "code",
   "execution_count": 36,
   "id": "0d1289df",
   "metadata": {},
   "outputs": [
    {
     "data": {
      "application/vnd.jupyter.widget-view+json": {
       "model_id": "f94cade16ffe476c80d5068ec9baf3f1",
       "version_major": 2,
       "version_minor": 0
      },
      "text/plain": [
       "                                             |          | [  0%]   00:00 -> (? left)"
      ]
     },
     "metadata": {},
     "output_type": "display_data"
    },
    {
     "name": "stdout",
     "output_type": "stream",
     "text": [
      "Report SWEETVIZ_REPORT.html was generated! NOTEBOOK/COLAB USERS: the web browser MAY not pop up, regardless, the report IS saved in your notebook/colab files.\n"
     ]
    }
   ],
   "source": [
    "report = sv.analyze(data)\n",
    "#report.show_notebook()\n",
    "report.show_html()"
   ]
  },
  {
   "cell_type": "markdown",
   "id": "582028d2",
   "metadata": {},
   "source": [
    "Дубликатов в данных не выявлено. Имеются пропуски и сильные корреляции между признаками.\n",
    "\n",
    "Удалим следующие признаки, т.к. они имеют слишком много пропусков:\n",
    "\n",
    "    - party_drug_physical\n",
    "    - location_type\n",
    "    \n",
    "Следующие признаки имеют очень высокую корреляцию. В качестве признака оставим только один из них:\n",
    "\n",
    "    - county_location / county_city_location - оставим county_location\n",
    "    - primary_collision_factor / pcf_violation_category - оставим pcf_violation_category\n",
    "    \n",
    "Удалим признаки не влияющие/маловероятно влияющие на целевую переменную:\n",
    "\n",
    "    - id_x\n",
    "    - case_id\n",
    "    - party_number\n",
    "    - party_count\n",
    "    - collision_date (в качестве признака остается collision_month)\n",
    "    - collision_time\n",
    "    - id_y \n",
    "    - vehicle_type\n",
    "    - vehicle_transmission"
   ]
  },
  {
   "cell_type": "code",
   "execution_count": 37,
   "id": "ae93aace",
   "metadata": {},
   "outputs": [],
   "source": [
    "data = data.drop(['party_drug_physical', 'location_type', 'county_city_location', 'primary_collision_factor', 'id', 'case_id',\\\n",
    "                 'party_number', 'party_count', 'collision_date', 'collision_time', 'vehicle_type', 'vehicle_transmission'], axis=1)"
   ]
  },
  {
   "cell_type": "markdown",
   "id": "fc29f356",
   "metadata": {},
   "source": [
    "### Обработка пропусков  и укрупнение категорий"
   ]
  },
  {
   "cell_type": "code",
   "execution_count": 38,
   "id": "b1177ab1",
   "metadata": {},
   "outputs": [
    {
     "data": {
      "text/html": [
       "<div>\n",
       "<style scoped>\n",
       "    .dataframe tbody tr th:only-of-type {\n",
       "        vertical-align: middle;\n",
       "    }\n",
       "\n",
       "    .dataframe tbody tr th {\n",
       "        vertical-align: top;\n",
       "    }\n",
       "\n",
       "    .dataframe thead th {\n",
       "        text-align: right;\n",
       "    }\n",
       "</style>\n",
       "<table border=\"1\" class=\"dataframe\">\n",
       "  <thead>\n",
       "    <tr style=\"text-align: right;\">\n",
       "      <th></th>\n",
       "      <th>index</th>\n",
       "      <th>percent_NaN</th>\n",
       "      <th>count_NaN</th>\n",
       "    </tr>\n",
       "  </thead>\n",
       "  <tbody>\n",
       "    <tr>\n",
       "      <th>0</th>\n",
       "      <td>party_type</td>\n",
       "      <td>0.05</td>\n",
       "      <td>27</td>\n",
       "    </tr>\n",
       "    <tr>\n",
       "      <th>1</th>\n",
       "      <td>at_fault</td>\n",
       "      <td>0.00</td>\n",
       "      <td>0</td>\n",
       "    </tr>\n",
       "    <tr>\n",
       "      <th>2</th>\n",
       "      <td>insurance_premium</td>\n",
       "      <td>2.02</td>\n",
       "      <td>1121</td>\n",
       "    </tr>\n",
       "    <tr>\n",
       "      <th>3</th>\n",
       "      <td>party_sobriety</td>\n",
       "      <td>1.74</td>\n",
       "      <td>970</td>\n",
       "    </tr>\n",
       "    <tr>\n",
       "      <th>4</th>\n",
       "      <td>cellphone_in_use</td>\n",
       "      <td>9.08</td>\n",
       "      <td>5048</td>\n",
       "    </tr>\n",
       "    <tr>\n",
       "      <th>5</th>\n",
       "      <td>county_location</td>\n",
       "      <td>0.00</td>\n",
       "      <td>0</td>\n",
       "    </tr>\n",
       "    <tr>\n",
       "      <th>6</th>\n",
       "      <td>distance</td>\n",
       "      <td>0.00</td>\n",
       "      <td>0</td>\n",
       "    </tr>\n",
       "    <tr>\n",
       "      <th>7</th>\n",
       "      <td>direction</td>\n",
       "      <td>23.62</td>\n",
       "      <td>13135</td>\n",
       "    </tr>\n",
       "    <tr>\n",
       "      <th>8</th>\n",
       "      <td>intersection</td>\n",
       "      <td>0.32</td>\n",
       "      <td>179</td>\n",
       "    </tr>\n",
       "    <tr>\n",
       "      <th>9</th>\n",
       "      <td>weather_1</td>\n",
       "      <td>0.27</td>\n",
       "      <td>151</td>\n",
       "    </tr>\n",
       "    <tr>\n",
       "      <th>10</th>\n",
       "      <td>collision_damage</td>\n",
       "      <td>0.00</td>\n",
       "      <td>0</td>\n",
       "    </tr>\n",
       "    <tr>\n",
       "      <th>11</th>\n",
       "      <td>pcf_violation_category</td>\n",
       "      <td>1.13</td>\n",
       "      <td>630</td>\n",
       "    </tr>\n",
       "    <tr>\n",
       "      <th>12</th>\n",
       "      <td>type_of_collision</td>\n",
       "      <td>0.50</td>\n",
       "      <td>276</td>\n",
       "    </tr>\n",
       "    <tr>\n",
       "      <th>13</th>\n",
       "      <td>motor_vehicle_involved_with</td>\n",
       "      <td>0.27</td>\n",
       "      <td>151</td>\n",
       "    </tr>\n",
       "    <tr>\n",
       "      <th>14</th>\n",
       "      <td>road_surface</td>\n",
       "      <td>0.61</td>\n",
       "      <td>337</td>\n",
       "    </tr>\n",
       "    <tr>\n",
       "      <th>15</th>\n",
       "      <td>road_condition_1</td>\n",
       "      <td>0.42</td>\n",
       "      <td>236</td>\n",
       "    </tr>\n",
       "    <tr>\n",
       "      <th>16</th>\n",
       "      <td>lighting</td>\n",
       "      <td>0.26</td>\n",
       "      <td>142</td>\n",
       "    </tr>\n",
       "    <tr>\n",
       "      <th>17</th>\n",
       "      <td>control_device</td>\n",
       "      <td>0.36</td>\n",
       "      <td>199</td>\n",
       "    </tr>\n",
       "    <tr>\n",
       "      <th>18</th>\n",
       "      <td>collision_month</td>\n",
       "      <td>0.00</td>\n",
       "      <td>0</td>\n",
       "    </tr>\n",
       "    <tr>\n",
       "      <th>19</th>\n",
       "      <td>vehicle_age</td>\n",
       "      <td>2.86</td>\n",
       "      <td>1589</td>\n",
       "    </tr>\n",
       "  </tbody>\n",
       "</table>\n",
       "</div>"
      ],
      "text/plain": [
       "                          index  percent_NaN  count_NaN\n",
       "0                    party_type         0.05         27\n",
       "1                      at_fault         0.00          0\n",
       "2             insurance_premium         2.02       1121\n",
       "3                party_sobriety         1.74        970\n",
       "4              cellphone_in_use         9.08       5048\n",
       "5               county_location         0.00          0\n",
       "6                      distance         0.00          0\n",
       "7                     direction        23.62      13135\n",
       "8                  intersection         0.32        179\n",
       "9                     weather_1         0.27        151\n",
       "10             collision_damage         0.00          0\n",
       "11       pcf_violation_category         1.13        630\n",
       "12            type_of_collision         0.50        276\n",
       "13  motor_vehicle_involved_with         0.27        151\n",
       "14                 road_surface         0.61        337\n",
       "15             road_condition_1         0.42        236\n",
       "16                     lighting         0.26        142\n",
       "17               control_device         0.36        199\n",
       "18              collision_month         0.00          0\n",
       "19                  vehicle_age         2.86       1589"
      ]
     },
     "execution_count": 38,
     "metadata": {},
     "output_type": "execute_result"
    }
   ],
   "source": [
    "pd.concat(\n",
    "    [\n",
    "        ((data.isna().mean()*100).round(2)).reset_index().rename(columns={0:'percent_NaN'}),\n",
    "        data.isna().sum().reset_index().rename(columns={0:'count_NaN'})['count_NaN']\n",
    "    ],\n",
    "    axis=1\n",
    ")"
   ]
  },
  {
   "cell_type": "code",
   "execution_count": 39,
   "id": "bb0d36f2",
   "metadata": {},
   "outputs": [
    {
     "data": {
      "text/plain": [
       "car            52514\n",
       "road signs      1579\n",
       "building         921\n",
       "road bumper      507\n",
       "other             68\n",
       "Name: party_type, dtype: int64"
      ]
     },
     "execution_count": 39,
     "metadata": {},
     "output_type": "execute_result"
    }
   ],
   "source": [
    "data['party_type'].value_counts()"
   ]
  },
  {
   "cell_type": "markdown",
   "id": "e4845689",
   "metadata": {},
   "source": [
    "Пропуски заменим имеющейся категорией 'other'."
   ]
  },
  {
   "cell_type": "code",
   "execution_count": 40,
   "id": "131c3e76",
   "metadata": {},
   "outputs": [],
   "source": [
    "data['party_type'] = data['party_type'].fillna('other')  "
   ]
  },
  {
   "cell_type": "code",
   "execution_count": 41,
   "id": "a239fee4",
   "metadata": {},
   "outputs": [
    {
     "data": {
      "text/plain": [
       "north    11813\n",
       "south    11652\n",
       "west      9629\n",
       "east      9387\n",
       "Name: direction, dtype: int64"
      ]
     },
     "execution_count": 41,
     "metadata": {},
     "output_type": "execute_result"
    }
   ],
   "source": [
    "data['direction'].value_counts()"
   ]
  },
  {
   "cell_type": "markdown",
   "id": "2b24a8b8",
   "metadata": {},
   "source": [
    "Пропуски заменим новой категорией."
   ]
  },
  {
   "cell_type": "code",
   "execution_count": 42,
   "id": "541507e5",
   "metadata": {},
   "outputs": [],
   "source": [
    "data['direction'] = data['direction'].fillna('unknow')  "
   ]
  },
  {
   "cell_type": "code",
   "execution_count": 43,
   "id": "25706d46",
   "metadata": {},
   "outputs": [
    {
     "data": {
      "text/plain": [
       "0.0    42914\n",
       "1.0    12523\n",
       "Name: intersection, dtype: int64"
      ]
     },
     "execution_count": 43,
     "metadata": {},
     "output_type": "execute_result"
    }
   ],
   "source": [
    "data['intersection'].value_counts()"
   ]
  },
  {
   "cell_type": "code",
   "execution_count": 44,
   "id": "2a905cbf",
   "metadata": {},
   "outputs": [
    {
     "data": {
      "text/plain": [
       "speeding                      18536\n",
       "improper turning               8587\n",
       "automobile right of way        7400\n",
       "dui                            6367\n",
       "unsafe lane change             4436\n",
       "traffic signals and signs      3217\n",
       "unsafe starting or backing     1543\n",
       "wrong side of road             1308\n",
       "following too closely          1014\n",
       "pedestrian right of way         953\n",
       "other hazardous violation       586\n",
       "improper passing                540\n",
       "other improper driving          209\n",
       "other equipment                  88\n",
       "unknown                          80\n",
       "pedestrian violation             43\n",
       "hazardous parking                34\n",
       "impeding traffic                 33\n",
       "brakes                           10\n",
       "fell asleep                       1\n",
       "lights                            1\n",
       "Name: pcf_violation_category, dtype: int64"
      ]
     },
     "execution_count": 44,
     "metadata": {},
     "output_type": "execute_result"
    }
   ],
   "source": [
    "data['pcf_violation_category'].value_counts()"
   ]
  },
  {
   "cell_type": "markdown",
   "id": "1b79ed27",
   "metadata": {},
   "source": [
    "Пропуски заменим существующей категорией 'unknown'."
   ]
  },
  {
   "cell_type": "code",
   "execution_count": 45,
   "id": "c64270dd",
   "metadata": {},
   "outputs": [],
   "source": [
    "data['pcf_violation_category'] = data['pcf_violation_category'].fillna('unknown')  "
   ]
  },
  {
   "cell_type": "code",
   "execution_count": 46,
   "id": "0c5acb86",
   "metadata": {},
   "outputs": [
    {
     "data": {
      "text/plain": [
       "rear end      18726\n",
       "broadside     11660\n",
       "sideswipe      8840\n",
       "hit object     8039\n",
       "head-on        3191\n",
       "other          2643\n",
       "overturned     2241\n",
       "Name: type_of_collision, dtype: int64"
      ]
     },
     "execution_count": 46,
     "metadata": {},
     "output_type": "execute_result"
    }
   ],
   "source": [
    "data['type_of_collision'].value_counts()"
   ]
  },
  {
   "cell_type": "markdown",
   "id": "55d3f9f2",
   "metadata": {},
   "source": [
    "Пропуски заменим существующей категорией 'other'."
   ]
  },
  {
   "cell_type": "code",
   "execution_count": 47,
   "id": "bed34dc0",
   "metadata": {},
   "outputs": [],
   "source": [
    "data['type_of_collision'] = data['type_of_collision'].fillna('other')  "
   ]
  },
  {
   "cell_type": "markdown",
   "id": "62345020",
   "metadata": {},
   "source": [
    "Укрупним категории:"
   ]
  },
  {
   "cell_type": "code",
   "execution_count": 48,
   "id": "c0a715db",
   "metadata": {},
   "outputs": [],
   "source": [
    "data['insurance_premium'] = pd.qcut(data['insurance_premium'],4)\n",
    "\n",
    "data = data.replace({'party_sobriety':{'had been drinking, under influence':'had been drinking',\\\n",
    "                                       'had been drinking, not under influence':'had been drinking',\\\n",
    "                                       'had been drinking, impairment unknown':'had been drinking'}})"
   ]
  },
  {
   "cell_type": "markdown",
   "id": "de9d5403",
   "metadata": {},
   "source": [
    "Для следующих признаков заменим пропуски модой:"
   ]
  },
  {
   "cell_type": "code",
   "execution_count": 49,
   "id": "fc94f30c",
   "metadata": {},
   "outputs": [],
   "source": [
    "def missing_value(data, columns):\n",
    "    for col in columns:\n",
    "        data[col] = data[col].fillna(data[col].value_counts().index[0])\n",
    "    return data"
   ]
  },
  {
   "cell_type": "code",
   "execution_count": 50,
   "id": "773b3923",
   "metadata": {},
   "outputs": [],
   "source": [
    "columns = ['insurance_premium','party_sobriety', 'cellphone_in_use', 'intersection', 'weather_1', 'motor_vehicle_involved_with',\\\n",
    "          'road_surface', 'road_condition_1', 'control_device', 'vehicle_age', 'lighting']\n",
    "data = missing_value(data, columns)"
   ]
  },
  {
   "cell_type": "code",
   "execution_count": 51,
   "id": "e99d2018",
   "metadata": {},
   "outputs": [
    {
     "data": {
      "text/plain": [
       "party_type                     0\n",
       "at_fault                       0\n",
       "insurance_premium              0\n",
       "party_sobriety                 0\n",
       "cellphone_in_use               0\n",
       "county_location                0\n",
       "distance                       0\n",
       "direction                      0\n",
       "intersection                   0\n",
       "weather_1                      0\n",
       "collision_damage               0\n",
       "pcf_violation_category         0\n",
       "type_of_collision              0\n",
       "motor_vehicle_involved_with    0\n",
       "road_surface                   0\n",
       "road_condition_1               0\n",
       "lighting                       0\n",
       "control_device                 0\n",
       "collision_month                0\n",
       "vehicle_age                    0\n",
       "dtype: int64"
      ]
     },
     "execution_count": 51,
     "metadata": {},
     "output_type": "execute_result"
    }
   ],
   "source": [
    "data.isnull().sum()"
   ]
  },
  {
   "cell_type": "markdown",
   "id": "b08b9ab6",
   "metadata": {},
   "source": [
    "### Разделение данных на выборки"
   ]
  },
  {
   "cell_type": "markdown",
   "id": "fdb1131e",
   "metadata": {},
   "source": [
    "Выделим признаки и целевой признак. "
   ]
  },
  {
   "cell_type": "code",
   "execution_count": 52,
   "id": "fd67d242",
   "metadata": {},
   "outputs": [],
   "source": [
    "features = data.drop(['at_fault'], axis=1)\n",
    "target = data['at_fault']"
   ]
  },
  {
   "cell_type": "markdown",
   "id": "57423372",
   "metadata": {},
   "source": [
    "Разделим данные на выборки."
   ]
  },
  {
   "cell_type": "code",
   "execution_count": 53,
   "id": "1c0bd78d",
   "metadata": {},
   "outputs": [],
   "source": [
    "features_train, features_test, target_train, target_test = train_test_split(\n",
    "    features, target, test_size=0.25, random_state=12345, stratify=target)"
   ]
  },
  {
   "cell_type": "markdown",
   "id": "f9458e37",
   "metadata": {},
   "source": [
    "Проверим размеры полученных файлов."
   ]
  },
  {
   "cell_type": "code",
   "execution_count": 54,
   "id": "b848f0ad",
   "metadata": {},
   "outputs": [
    {
     "name": "stdout",
     "output_type": "stream",
     "text": [
      "(41712, 19) (41712,) (13904, 19) (13904,)\n"
     ]
    }
   ],
   "source": [
    "print(features_train.shape, target_train.shape, features_test.shape, target_test.shape)"
   ]
  },
  {
   "cell_type": "markdown",
   "id": "647cd73d",
   "metadata": {},
   "source": [
    "###  OHE и масштабирование признаков"
   ]
  },
  {
   "cell_type": "markdown",
   "id": "df94b3cb",
   "metadata": {},
   "source": [
    "Разделим колонки на два типа: числовые и категориальные."
   ]
  },
  {
   "cell_type": "code",
   "execution_count": 55,
   "id": "e57023ab",
   "metadata": {},
   "outputs": [],
   "source": [
    "numerical = ['distance', 'vehicle_age']\n",
    "target = ['at_fault']\n",
    "categorical  = [col for col in features_train.columns if col not in numerical+target]"
   ]
  },
  {
   "cell_type": "code",
   "execution_count": 56,
   "id": "2464fca9",
   "metadata": {},
   "outputs": [],
   "source": [
    "scaler = StandardScaler()\n",
    "scaler.fit(features_train[numerical])\n",
    "df_scaler_train = scaler.transform(features_train[numerical])\n",
    "df_scaler_test = scaler.transform(features_test[numerical]) \n",
    "\n",
    "df_scaler_train = pd.DataFrame(df_scaler_train, columns=numerical)\n",
    "df_scaler_test = pd.DataFrame(df_scaler_test, columns=numerical)"
   ]
  },
  {
   "cell_type": "code",
   "execution_count": 57,
   "id": "e9f6e756",
   "metadata": {},
   "outputs": [
    {
     "name": "stderr",
     "output_type": "stream",
     "text": [
      "Found unknown categories in columns [9] during transform. These unknown categories will be encoded as all zeros\n"
     ]
    }
   ],
   "source": [
    "ohe = OneHotEncoder(handle_unknown='ignore', sparse=False, drop='first')\n",
    "ohe.fit(features_train[categorical])\n",
    "df_ohe_train = ohe.transform(features_train[categorical])\n",
    "df_ohe_test = ohe.transform(features_test[categorical]) \n",
    "\n",
    "df_ohe_train = pd.DataFrame(df_ohe_train, columns=ohe.get_feature_names_out())\n",
    "df_ohe_test = pd.DataFrame(df_ohe_test, columns=ohe.get_feature_names_out())"
   ]
  },
  {
   "cell_type": "code",
   "execution_count": 58,
   "id": "e405a5d2",
   "metadata": {},
   "outputs": [],
   "source": [
    "features_train = pd.concat([df_scaler_train, df_ohe_train], axis=1)\n",
    "features_test = pd.concat([df_scaler_test, df_ohe_test], axis=1)"
   ]
  },
  {
   "cell_type": "markdown",
   "id": "d2d3cab1",
   "metadata": {},
   "source": [
    "## Обучение моделей"
   ]
  },
  {
   "cell_type": "code",
   "execution_count": 59,
   "id": "f0a15f57",
   "metadata": {},
   "outputs": [
    {
     "name": "stdout",
     "output_type": "stream",
     "text": [
      "\n",
      "Модель: Logistic Regression\n",
      "Лучшие параметры : {'clf__class_weight': None}\n",
      "Лучшее значение F1 на train: 0.723\n",
      "\n",
      "Модель: DecisionTree\n",
      "Лучшие параметры : {'clf__class_weight': None, 'clf__max_depth': 8, 'clf__min_samples_leaf': 9}\n",
      "Лучшее значение F1 на train: 0.719\n",
      "\n",
      "Модель: Random Forest\n",
      "Лучшие параметры : {'clf__class_weight': None, 'clf__max_depth': 8, 'clf__n_estimators': 41}\n",
      "Лучшее значение F1 на train: 0.709\n",
      "\n",
      "Модель: CatBoost\n",
      "Лучшие параметры : {'clf__depth': 4, 'clf__iterations': 250, 'clf__learning_rate': 0.1}\n",
      "Лучшее значение F1 на train: 0.729\n",
      "\n",
      "Модель с лучшим значением F1 на train: CatBoost\n",
      "\n",
      "Параметры лучшей модели: {'clf__depth': 4, 'clf__iterations': 250, 'clf__learning_rate': 0.1}\n"
     ]
    }
   ],
   "source": [
    "param_grid_lr = [{'clf__class_weight': [None, 'balanced']\n",
    "                 }]\n",
    "param_grid_dt = [{'clf__max_depth': range (4,10,2),\n",
    "                  'clf__min_samples_leaf': range (3,10),\n",
    "                  'clf__class_weight': [None, 'balanced']\n",
    "                 }]\n",
    "param_grid_rf = [{'clf__n_estimators': range (1,100,10),\n",
    "                  'clf__max_depth': range (4,10,2),\n",
    "                  'clf__class_weight': [None, 'balanced']\n",
    "                 }]\n",
    "param_grid_cb = [{'clf__learning_rate': [0.001,0.01,0.1,0.2,0.3],\n",
    "                  'clf__depth': [2,4,6],\n",
    "                  'clf__iterations':[100,250,500]\n",
    "                 }]\n",
    "\n",
    "pipe_lr = Pipeline([('clf', LogisticRegression(solver='lbfgs', max_iter=1000))])\n",
    "pipe_dt = Pipeline([('clf', DecisionTreeClassifier(random_state = 12345))])\n",
    "pipe_rf = Pipeline([('clf', RandomForestClassifier(random_state = 12345))])\n",
    "pipe_cb = Pipeline([('clf', CatBoostClassifier(verbose=False, random_state = 12345))])\n",
    "\n",
    "scorer = {'f1': make_scorer(f1_score)} \n",
    "jobs = -1\n",
    "\n",
    "LR = GridSearchCV(estimator=pipe_lr,\n",
    "            param_grid=param_grid_lr,\n",
    "            refit='f1_score',\n",
    "            cv=5) \n",
    "DT = GridSearchCV(estimator=pipe_dt,\n",
    "            param_grid=param_grid_dt,\n",
    "            refit='f1_score',\n",
    "            cv=5) \n",
    "RF = GridSearchCV(estimator=pipe_rf,\n",
    "            param_grid=param_grid_rf,\n",
    "            refit='f1_score',\n",
    "            cv=5) \n",
    "CB = GridSearchCV(estimator=pipe_cb,\n",
    "            param_grid=param_grid_cb,\n",
    "            refit='f1_score',\n",
    "            cv=5) \n",
    "\n",
    "grids = [LR,DT,RF,CB]\n",
    "grid_dict = {0: 'Logistic Regression',\n",
    "             1: 'DecisionTree',\n",
    "             2: 'Random Forest',\n",
    "             3: 'CatBoost'}\n",
    "\n",
    "best_f1 = 0.0\n",
    "best_clf = 0\n",
    "best_gs = ''\n",
    "\n",
    "for idx, gs in enumerate(grids):\n",
    "    print('\\nМодель: %s' % grid_dict[idx])\n",
    "    \n",
    "    if gs == CB:\n",
    "        gs.fit(features_train, target_train)\n",
    "    else:\n",
    "        gs.fit(features_train, target_train)    \n",
    "    print('Лучшие параметры : %s' % gs.best_params_)\n",
    "    print('Лучшее значение F1 на train: %.3f' % gs.best_score_)\n",
    "    \n",
    "    if gs.best_score_ > best_f1:\n",
    "        best_f1 = gs.best_score_\n",
    "        best_gs = gs\n",
    "        best_clf = idx\n",
    "print('\\nМодель с лучшим значением F1 на train: %s' % grid_dict[best_clf])\n",
    "print('\\nПараметры лучшей модели:', best_gs.best_params_)"
   ]
  },
  {
   "cell_type": "markdown",
   "id": "f478553e",
   "metadata": {},
   "source": [
    "### Искусственная модель"
   ]
  },
  {
   "cell_type": "markdown",
   "id": "7e59c15c",
   "metadata": {},
   "source": [
    "Проверим модель на адекватность, сравнив с исскуственной."
   ]
  },
  {
   "cell_type": "code",
   "execution_count": 60,
   "id": "fa249a7b",
   "metadata": {},
   "outputs": [
    {
     "name": "stdout",
     "output_type": "stream",
     "text": [
      "F1 на тестовой выборке: 0.676\n"
     ]
    }
   ],
   "source": [
    "baseline_model = DummyClassifier(strategy='most_frequent')\n",
    "baseline_model.fit(features_train, target_train)\n",
    "predicted_train = baseline_model.predict(features_train)\n",
    "print('F1 на тестовой выборке: {:.3f}'.format(f1_score(target_train, predicted_train)))    "
   ]
  },
  {
   "cell_type": "markdown",
   "id": "3db75da1",
   "metadata": {},
   "source": [
    "**Вывод**"
   ]
  },
  {
   "cell_type": "markdown",
   "id": "1cf19518",
   "metadata": {},
   "source": [
    "Лучший результат на `train` показала модель: `CatBoost`. Ее итоговый показатель  несколько лучше искусственной модели."
   ]
  },
  {
   "cell_type": "markdown",
   "id": "ee867f14",
   "metadata": {},
   "source": [
    "## Анализ важности факторов ДТП"
   ]
  },
  {
   "cell_type": "markdown",
   "id": "fb59f8d3",
   "metadata": {},
   "source": [
    "Проверим лучшую модель на test."
   ]
  },
  {
   "cell_type": "code",
   "execution_count": 61,
   "id": "24cccb71",
   "metadata": {},
   "outputs": [
    {
     "name": "stdout",
     "output_type": "stream",
     "text": [
      "F1 на test: 0.695\n"
     ]
    }
   ],
   "source": [
    "model = CatBoostClassifier(depth=6, iterations=100, learning_rate=0.1, verbose=False)\n",
    "model.fit(features_train, target_train)\n",
    "predicted_test = model.predict(features_test)\n",
    "print('F1 на test: {:.3f}'.format(f1_score(target_test, predicted_test)))    "
   ]
  },
  {
   "cell_type": "code",
   "execution_count": 62,
   "id": "544e6c1b",
   "metadata": {
    "scrolled": false
   },
   "outputs": [
    {
     "data": {
      "image/png": "[encoded data removed]",
      "text/plain": [
       "<Figure size 600x500 with 2 Axes>"
      ]
     },
     "metadata": {},
     "output_type": "display_data"
    }
   ],
   "source": [
    "matrix = confusion_matrix(target_test, predicted_test)\n",
    "plt.figure(figsize=(6, 5))\n",
    "ax= plt.subplot()\n",
    "sns.heatmap(matrix, annot=True, fmt='g', ax=ax); \n",
    "ax.set_xlabel('Predicted labels');ax.set_ylabel('True labels'); \n",
    "ax.set_title('Confusion Matrix'); \n",
    "ax.xaxis.set_ticklabels(['0', '1']); ax.yaxis.set_ticklabels(['0', '1']);"
   ]
  },
  {
   "cell_type": "markdown",
   "id": "e6432250",
   "metadata": {},
   "source": [
    "Наибольшее число ошибок модель делает при предсказании класса `1`.\n",
    "\n",
    "Выделим важные признаки нашей модели."
   ]
  },
  {
   "cell_type": "code",
   "execution_count": 63,
   "id": "dea8ff25",
   "metadata": {},
   "outputs": [],
   "source": [
    "model = CatBoostClassifier(depth=6, iterations=100, learning_rate=0.1, verbose=False)\n",
    "model.fit(features_train, target_train)\n",
    "explainer = shap.Explainer(model)\n",
    "\n",
    "shap_values_1 = explainer(features_train)\n",
    "shap_values_2 = shap.TreeExplainer(model).shap_values(features_train)"
   ]
  },
  {
   "cell_type": "code",
   "execution_count": 64,
   "id": "19e1b82b",
   "metadata": {},
   "outputs": [
    {
     "data": {
      "image/png": "[encoded data removed]",
      "text/plain": [
       "<Figure size 800x650 with 1 Axes>"
      ]
     },
     "metadata": {},
     "output_type": "display_data"
    }
   ],
   "source": [
    "shap.plots.bar(shap_values_1)"
   ]
  },
  {
   "cell_type": "markdown",
   "id": "0b93d252",
   "metadata": {},
   "source": [
    "ТОП-5 важных факторов нашей модели:\n",
    "\n",
    "    - Дополнительные участники ДТП (другой авто)\n",
    "    - Тип участника происшествия (авто)\n",
    "    - Трезвость участника (не пил)\n",
    "    - Возраст автомобиля (в годах)\n",
    "    - Сумма страховки (в промежетке (34, 48])"
   ]
  },
  {
   "cell_type": "markdown",
   "id": "c3f8b68a",
   "metadata": {},
   "source": [
    "Посмотрим на них подробнее."
   ]
  },
  {
   "cell_type": "code",
   "execution_count": 65,
   "id": "e898499a",
   "metadata": {},
   "outputs": [
    {
     "data": {
      "image/png": "[encoded data removed]",
      "text/plain": [
       "<Figure size 800x550 with 2 Axes>"
      ]
     },
     "metadata": {},
     "output_type": "display_data"
    }
   ],
   "source": [
    "shap.summary_plot(shap_values_2, features_train, max_display=10, plot_size='auto')"
   ]
  },
  {
   "cell_type": "markdown",
   "id": "901c6743",
   "metadata": {},
   "source": [
    "Значения слева от центральной вертикальной линии — это negative класс (0), справа — positive (1).\n",
    "Чем толще линия на графике, тем больше таких точек наблюдения. Чем краснее точки на графике, тем выше значения признака в ней.\n",
    "\n",
    "    - Дополнительные участники ДТП (другой авто): значение '1' повышает вероятность класса '0'.  \n",
    "    - Тип участника происшествия (авто): значение '1' повышает вероятность класса '1', хорошо разделяет данные на классы 0/1\n",
    "    - Трезвость участника (не пил): значение '1' повышает вероятность класса '0', хорошо разделяет данные на классы 0/1 \n",
    "    - Возраст автомобиля (в годах): низкие значения повышают вероятность класса '1', при возрастании картина меняется на противоположную, а затем при высоких значениях признака вновь повышается вероятность класса '1'.\n",
    "    - Сумма страховки (в промежетке (34, 48]): значение '1' повышает вероятность класса '0'.  \n"
   ]
  },
  {
   "cell_type": "markdown",
   "id": "9cfe9063",
   "metadata": {},
   "source": [
    "## Выводы"
   ]
  },
  {
   "cell_type": "code",
   "execution_count": 66,
   "id": "5f9c19d2",
   "metadata": {},
   "outputs": [
    {
     "name": "stdout",
     "output_type": "stream",
     "text": [
      "\n",
      "Модель с лучшим значением F1 на train: CatBoost\n",
      "\n",
      "F1 на тестовой выборке: 0.695\n"
     ]
    }
   ],
   "source": [
    "print('\\nМодель с лучшим значением F1 на train: %s' % grid_dict[best_clf])\n",
    "print('\\nF1 на тестовой выборке: {:.3f}'.format(f1_score(target_test, predicted_test)))    "
   ]
  },
  {
   "cell_type": "markdown",
   "id": "43306fcf",
   "metadata": {},
   "source": [
    "Полученная нами модели не сильно отличается от исcкусственной. Вероятно, для получения адекватной системы оценки водительского риска требуется пересмотреть список используемых параметров или учесть дополнительные факторы. \n",
    "Такими могут стать:\n",
    "    \n",
    "    - водительский стаж;\n",
    "    - история поведения клиента в сервисе;\n",
    "    - количество перекрестков на маршруте;\n",
    "    - количество опасных участков на маршруте.\n",
    "\n",
    "Рекомендуется обратить внимание на периодичность обновления автопарка компании (наша модель в качестве важного фактора выделила возраст авто). \n",
    "\n",
    "Рекомендуется принять предупредительные меры против самых частых категорий нарушений. Например:\n",
    "    \n",
    "    - превышение скорости: установить порог скорости, при его превышении предупреждать водителя; ввести штрафные санкции за нарушение.\n",
    "    - неправильный поворот: голосовое предупреждение об опасных участках дороги. \n",
    "    - автомобильное право проезда: голосовое предупреждение об опасных участках дороги. \n",
    "    "
   ]
  }
 ],
 "metadata": {
  "ExecuteTimeLog": [
   {
    "duration": 2242,
    "start_time": "2022-10-12T01:48:15.753Z"
   },
   {
    "duration": 0,
    "start_time": "2022-10-12T01:48:17.996Z"
   },
   {
    "duration": 7,
    "start_time": "2022-10-12T01:49:59.384Z"
   },
   {
    "duration": 4,
    "start_time": "2022-10-12T01:50:11.731Z"
   },
   {
    "duration": 8530,
    "start_time": "2022-10-12T01:50:15.068Z"
   },
   {
    "duration": 11921,
    "start_time": "2022-10-12T01:50:36.028Z"
   },
   {
    "duration": 2998,
    "start_time": "2022-10-12T01:51:09.983Z"
   },
   {
    "duration": 2896,
    "start_time": "2022-10-12T01:55:28.876Z"
   },
   {
    "duration": 11784,
    "start_time": "2022-10-12T02:24:27.090Z"
   },
   {
    "duration": 40600,
    "start_time": "2022-10-12T02:42:17.498Z"
   },
   {
    "duration": 1528,
    "start_time": "2022-10-12T02:48:42.343Z"
   },
   {
    "duration": 3,
    "start_time": "2022-10-12T02:48:44.542Z"
   },
   {
    "duration": 7870,
    "start_time": "2022-10-12T02:48:45.461Z"
   },
   {
    "duration": 17594,
    "start_time": "2022-10-12T02:49:06.574Z"
   },
   {
    "duration": 11029,
    "start_time": "2022-10-12T02:49:41.035Z"
   },
   {
    "duration": 6611,
    "start_time": "2022-10-12T02:50:26.740Z"
   },
   {
    "duration": 6,
    "start_time": "2022-10-12T02:50:47.581Z"
   },
   {
    "duration": 354,
    "start_time": "2022-10-12T02:52:12.148Z"
   },
   {
    "duration": 128,
    "start_time": "2022-10-12T02:52:18.951Z"
   },
   {
    "duration": 6,
    "start_time": "2022-10-12T02:52:37.853Z"
   },
   {
    "duration": 4,
    "start_time": "2022-10-12T02:53:44.109Z"
   },
   {
    "duration": 4,
    "start_time": "2022-10-12T02:54:49.932Z"
   },
   {
    "duration": 10,
    "start_time": "2022-10-12T02:55:03.829Z"
   },
   {
    "duration": 9,
    "start_time": "2022-10-12T02:55:14.555Z"
   },
   {
    "duration": 6,
    "start_time": "2022-10-12T02:55:17.719Z"
   },
   {
    "duration": 10,
    "start_time": "2022-10-12T02:55:40.777Z"
   },
   {
    "duration": 13,
    "start_time": "2022-10-12T02:55:46.210Z"
   },
   {
    "duration": 12,
    "start_time": "2022-10-12T02:55:50.038Z"
   },
   {
    "duration": 6866,
    "start_time": "2022-10-12T02:56:09.417Z"
   },
   {
    "duration": 4,
    "start_time": "2022-10-12T02:56:17.699Z"
   },
   {
    "duration": 1799,
    "start_time": "2022-10-12T02:58:14.555Z"
   },
   {
    "duration": 4,
    "start_time": "2022-10-12T02:58:19.956Z"
   },
   {
    "duration": 8468,
    "start_time": "2022-10-12T02:58:25.309Z"
   },
   {
    "duration": 29781,
    "start_time": "2022-10-12T02:58:52.078Z"
   },
   {
    "duration": 10621,
    "start_time": "2022-10-12T02:59:21.861Z"
   },
   {
    "duration": 7,
    "start_time": "2022-10-12T02:59:32.484Z"
   },
   {
    "duration": 3469,
    "start_time": "2022-10-12T03:15:47.067Z"
   },
   {
    "duration": 54,
    "start_time": "2022-10-12T03:15:55.246Z"
   },
   {
    "duration": 4,
    "start_time": "2022-10-12T03:16:10.914Z"
   },
   {
    "duration": 249,
    "start_time": "2022-10-12T03:18:27.463Z"
   },
   {
    "duration": 230,
    "start_time": "2022-10-12T03:19:13.853Z"
   },
   {
    "duration": 24,
    "start_time": "2022-10-12T03:25:44.889Z"
   },
   {
    "duration": 19,
    "start_time": "2022-10-12T03:25:46.307Z"
   },
   {
    "duration": 13,
    "start_time": "2022-10-12T03:25:46.775Z"
   },
   {
    "duration": 290,
    "start_time": "2022-10-12T03:27:09.935Z"
   },
   {
    "duration": 24,
    "start_time": "2022-10-12T03:27:35.464Z"
   },
   {
    "duration": 14,
    "start_time": "2022-10-12T03:27:49.640Z"
   },
   {
    "duration": 27,
    "start_time": "2022-10-12T03:28:06.443Z"
   },
   {
    "duration": 27467,
    "start_time": "2022-10-12T03:28:48.614Z"
   },
   {
    "duration": 1724,
    "start_time": "2022-10-12T03:30:06.708Z"
   },
   {
    "duration": 4,
    "start_time": "2022-10-12T03:30:08.435Z"
   },
   {
    "duration": 155,
    "start_time": "2022-10-12T03:30:21.028Z"
   },
   {
    "duration": 6834,
    "start_time": "2022-10-12T03:30:37.596Z"
   },
   {
    "duration": 148,
    "start_time": "2022-10-12T03:31:22.204Z"
   },
   {
    "duration": 4,
    "start_time": "2022-10-12T03:31:46.386Z"
   },
   {
    "duration": 8282,
    "start_time": "2022-10-12T03:31:47.703Z"
   },
   {
    "duration": 32547,
    "start_time": "2022-10-12T03:32:08.409Z"
   },
   {
    "duration": 3312,
    "start_time": "2022-10-12T03:33:35.620Z"
   },
   {
    "duration": 75697,
    "start_time": "2022-10-12T03:33:38.934Z"
   },
   {
    "duration": 50,
    "start_time": "2022-10-12T03:39:10.103Z"
   },
   {
    "duration": 242,
    "start_time": "2022-10-12T03:39:12.465Z"
   },
   {
    "duration": 23,
    "start_time": "2022-10-12T03:39:19.328Z"
   },
   {
    "duration": 16,
    "start_time": "2022-10-12T03:39:24.634Z"
   },
   {
    "duration": 13,
    "start_time": "2022-10-12T03:39:26.195Z"
   },
   {
    "duration": 7,
    "start_time": "2022-10-12T03:39:41.861Z"
   },
   {
    "duration": 11,
    "start_time": "2022-10-12T03:39:42.980Z"
   },
   {
    "duration": 9,
    "start_time": "2022-10-12T03:40:04.779Z"
   },
   {
    "duration": 21,
    "start_time": "2022-10-12T03:41:03.219Z"
   },
   {
    "duration": 19,
    "start_time": "2022-10-12T03:41:08.202Z"
   },
   {
    "duration": 68,
    "start_time": "2022-10-12T03:41:08.752Z"
   },
   {
    "duration": 9,
    "start_time": "2022-10-12T03:41:09.195Z"
   },
   {
    "duration": 4,
    "start_time": "2022-10-12T03:41:10.336Z"
   },
   {
    "duration": 22,
    "start_time": "2022-10-12T03:41:12.364Z"
   },
   {
    "duration": 18,
    "start_time": "2022-10-12T03:41:15.691Z"
   },
   {
    "duration": 6,
    "start_time": "2022-10-12T03:41:16.861Z"
   },
   {
    "duration": 4,
    "start_time": "2022-10-12T03:41:19.116Z"
   },
   {
    "duration": 27,
    "start_time": "2022-10-12T03:41:21.450Z"
   },
   {
    "duration": 20,
    "start_time": "2022-10-12T03:41:29.859Z"
   },
   {
    "duration": 26,
    "start_time": "2022-10-12T03:41:51.169Z"
   },
   {
    "duration": 21,
    "start_time": "2022-10-12T03:41:53.045Z"
   },
   {
    "duration": 28,
    "start_time": "2022-10-12T03:41:53.860Z"
   },
   {
    "duration": 23,
    "start_time": "2022-10-12T03:41:57.107Z"
   },
   {
    "duration": 26,
    "start_time": "2022-10-12T03:41:57.471Z"
   },
   {
    "duration": 17,
    "start_time": "2022-10-12T03:41:58.889Z"
   },
   {
    "duration": 31,
    "start_time": "2022-10-12T03:42:01.923Z"
   },
   {
    "duration": 18,
    "start_time": "2022-10-12T03:42:03.566Z"
   },
   {
    "duration": 26,
    "start_time": "2022-10-12T03:42:04.295Z"
   },
   {
    "duration": 19,
    "start_time": "2022-10-12T03:42:08.632Z"
   },
   {
    "duration": 25,
    "start_time": "2022-10-12T03:42:09.033Z"
   },
   {
    "duration": 18,
    "start_time": "2022-10-12T03:42:09.782Z"
   },
   {
    "duration": 25,
    "start_time": "2022-10-12T03:42:10.542Z"
   },
   {
    "duration": 16,
    "start_time": "2022-10-12T03:53:50.877Z"
   },
   {
    "duration": 22,
    "start_time": "2022-10-12T03:54:01.359Z"
   },
   {
    "duration": 11,
    "start_time": "2022-10-12T03:54:02.455Z"
   },
   {
    "duration": 16,
    "start_time": "2022-10-12T03:54:05.001Z"
   },
   {
    "duration": 154,
    "start_time": "2022-10-12T03:54:05.302Z"
   },
   {
    "duration": 40,
    "start_time": "2022-10-12T03:54:07.361Z"
   },
   {
    "duration": 71,
    "start_time": "2022-10-12T03:54:08.250Z"
   },
   {
    "duration": 5,
    "start_time": "2022-10-12T03:54:10.379Z"
   },
   {
    "duration": 4,
    "start_time": "2022-10-12T03:54:13.161Z"
   },
   {
    "duration": 17,
    "start_time": "2022-10-12T03:54:14.157Z"
   },
   {
    "duration": 1545,
    "start_time": "2022-10-12T03:54:14.907Z"
   },
   {
    "duration": 1283,
    "start_time": "2022-10-12T03:57:22.005Z"
   },
   {
    "duration": 14,
    "start_time": "2022-10-12T03:57:32.585Z"
   },
   {
    "duration": 10,
    "start_time": "2022-10-12T03:58:37.555Z"
   },
   {
    "duration": 7,
    "start_time": "2022-10-12T03:59:00.619Z"
   },
   {
    "duration": 6,
    "start_time": "2022-10-12T03:59:56.174Z"
   },
   {
    "duration": 6,
    "start_time": "2022-10-12T04:00:00.748Z"
   },
   {
    "duration": 11,
    "start_time": "2022-10-12T04:04:53.249Z"
   },
   {
    "duration": 4,
    "start_time": "2022-10-12T04:05:48.253Z"
   },
   {
    "duration": 2320,
    "start_time": "2022-10-12T04:10:25.648Z"
   },
   {
    "duration": 6,
    "start_time": "2022-10-12T04:11:05.203Z"
   },
   {
    "duration": 10,
    "start_time": "2022-10-12T04:12:07.253Z"
   },
   {
    "duration": 7,
    "start_time": "2022-10-12T04:12:13.602Z"
   },
   {
    "duration": 107,
    "start_time": "2022-10-12T05:01:39.492Z"
   },
   {
    "duration": 1724,
    "start_time": "2022-10-12T11:17:15.316Z"
   },
   {
    "duration": 5939,
    "start_time": "2022-10-12T11:17:22.908Z"
   },
   {
    "duration": 124,
    "start_time": "2022-10-12T11:17:34.252Z"
   },
   {
    "duration": 3,
    "start_time": "2022-10-12T11:17:36.151Z"
   },
   {
    "duration": 14341,
    "start_time": "2022-10-12T11:17:36.686Z"
   },
   {
    "duration": 72,
    "start_time": "2022-10-12T11:19:07.373Z"
   },
   {
    "duration": 131,
    "start_time": "2022-10-12T11:20:01.592Z"
   },
   {
    "duration": 4,
    "start_time": "2022-10-12T11:20:18.760Z"
   },
   {
    "duration": 231,
    "start_time": "2022-10-12T11:20:19.297Z"
   },
   {
    "duration": 57,
    "start_time": "2022-10-12T11:20:22.882Z"
   },
   {
    "duration": 43,
    "start_time": "2022-10-12T11:20:26.659Z"
   },
   {
    "duration": 473,
    "start_time": "2022-10-12T12:22:55.868Z"
   },
   {
    "duration": 162,
    "start_time": "2022-10-12T12:24:28.816Z"
   },
   {
    "duration": 138,
    "start_time": "2022-10-12T12:24:36.858Z"
   },
   {
    "duration": 131,
    "start_time": "2022-10-12T12:25:22.847Z"
   },
   {
    "duration": 3500,
    "start_time": "2022-10-12T12:25:55.664Z"
   },
   {
    "duration": 3344,
    "start_time": "2022-10-12T12:26:16.874Z"
   },
   {
    "duration": 193,
    "start_time": "2022-10-12T12:28:08.953Z"
   },
   {
    "duration": 588,
    "start_time": "2022-10-12T12:28:30.546Z"
   },
   {
    "duration": 565,
    "start_time": "2022-10-12T12:28:54.316Z"
   },
   {
    "duration": 2139,
    "start_time": "2022-10-12T12:29:38.684Z"
   },
   {
    "duration": 4889,
    "start_time": "2022-10-12T12:30:07.888Z"
   },
   {
    "duration": 8959,
    "start_time": "2022-10-12T12:30:31.203Z"
   },
   {
    "duration": 1348,
    "start_time": "2022-10-12T12:33:25.602Z"
   },
   {
    "duration": 1999,
    "start_time": "2022-10-12T12:33:32.446Z"
   },
   {
    "duration": 3378,
    "start_time": "2022-10-12T12:33:34.749Z"
   },
   {
    "duration": 1118,
    "start_time": "2022-10-12T12:34:38.801Z"
   },
   {
    "duration": 3854,
    "start_time": "2022-10-12T12:45:20.795Z"
   },
   {
    "duration": 2609,
    "start_time": "2022-10-12T12:45:24.651Z"
   },
   {
    "duration": 44,
    "start_time": "2022-10-12T12:46:32.037Z"
   },
   {
    "duration": 24847,
    "start_time": "2022-10-12T13:05:29.830Z"
   },
   {
    "duration": 16287,
    "start_time": "2022-10-12T13:10:34.930Z"
   },
   {
    "duration": 18346,
    "start_time": "2022-10-12T13:11:09.407Z"
   },
   {
    "duration": 17009,
    "start_time": "2022-10-12T13:12:28.578Z"
   },
   {
    "duration": 9348,
    "start_time": "2022-10-12T13:16:05.978Z"
   },
   {
    "duration": 10464,
    "start_time": "2022-10-12T13:16:56.606Z"
   },
   {
    "duration": 102,
    "start_time": "2022-10-12T13:18:27.260Z"
   },
   {
    "duration": 9193,
    "start_time": "2022-10-12T13:18:39.273Z"
   },
   {
    "duration": 9361,
    "start_time": "2022-10-12T13:19:20.151Z"
   },
   {
    "duration": 8892,
    "start_time": "2022-10-12T13:20:23.003Z"
   },
   {
    "duration": 189,
    "start_time": "2022-10-12T13:22:56.357Z"
   },
   {
    "duration": 10636,
    "start_time": "2022-10-12T13:23:15.350Z"
   },
   {
    "duration": 18229,
    "start_time": "2022-10-12T13:24:27.938Z"
   },
   {
    "duration": 7669,
    "start_time": "2022-10-12T13:25:12.222Z"
   },
   {
    "duration": 136,
    "start_time": "2022-10-12T13:25:49.719Z"
   },
   {
    "duration": 186,
    "start_time": "2022-10-12T13:26:06.881Z"
   },
   {
    "duration": 9085,
    "start_time": "2022-10-12T13:26:37.913Z"
   },
   {
    "duration": 9780,
    "start_time": "2022-10-12T13:27:37.192Z"
   },
   {
    "duration": 9712,
    "start_time": "2022-10-12T13:31:44.988Z"
   },
   {
    "duration": 9623,
    "start_time": "2022-10-12T13:32:34.579Z"
   },
   {
    "duration": 9641,
    "start_time": "2022-10-12T13:34:25.865Z"
   },
   {
    "duration": 22143,
    "start_time": "2022-10-12T13:39:28.702Z"
   },
   {
    "duration": 1310,
    "start_time": "2022-10-12T13:40:36.593Z"
   },
   {
    "duration": 10027,
    "start_time": "2022-10-12T13:42:58.511Z"
   },
   {
    "duration": 9777,
    "start_time": "2022-10-12T13:43:11.347Z"
   },
   {
    "duration": 10001,
    "start_time": "2022-10-12T13:43:48.285Z"
   },
   {
    "duration": 6652,
    "start_time": "2022-10-12T14:35:59.296Z"
   },
   {
    "duration": 1922,
    "start_time": "2022-10-12T14:36:05.950Z"
   },
   {
    "duration": 4,
    "start_time": "2022-10-12T14:36:07.874Z"
   },
   {
    "duration": 18710,
    "start_time": "2022-10-12T14:36:07.886Z"
   },
   {
    "duration": 62,
    "start_time": "2022-10-12T14:36:26.597Z"
   },
   {
    "duration": 27,
    "start_time": "2022-10-12T14:36:26.661Z"
   },
   {
    "duration": 12,
    "start_time": "2022-10-12T14:36:26.689Z"
   },
   {
    "duration": 10,
    "start_time": "2022-10-12T14:36:26.702Z"
   },
   {
    "duration": 250,
    "start_time": "2022-10-12T14:36:26.714Z"
   },
   {
    "duration": 254,
    "start_time": "2022-10-12T14:36:26.966Z"
   },
   {
    "duration": 219,
    "start_time": "2022-10-12T14:36:27.221Z"
   },
   {
    "duration": 259,
    "start_time": "2022-10-12T14:36:27.441Z"
   },
   {
    "duration": 227,
    "start_time": "2022-10-12T14:36:27.702Z"
   },
   {
    "duration": 230,
    "start_time": "2022-10-12T14:36:27.931Z"
   },
   {
    "duration": 10,
    "start_time": "2022-10-12T14:36:28.163Z"
   },
   {
    "duration": 184,
    "start_time": "2022-10-12T14:36:28.174Z"
   },
   {
    "duration": 167,
    "start_time": "2022-10-12T14:36:28.360Z"
   },
   {
    "duration": 181,
    "start_time": "2022-10-12T14:36:28.529Z"
   },
   {
    "duration": 170,
    "start_time": "2022-10-12T14:36:28.719Z"
   },
   {
    "duration": 207,
    "start_time": "2022-10-12T14:36:28.890Z"
   },
   {
    "duration": 11,
    "start_time": "2022-10-12T14:36:29.098Z"
   },
   {
    "duration": 527,
    "start_time": "2022-10-12T14:36:29.111Z"
   },
   {
    "duration": 98,
    "start_time": "2022-10-12T14:36:29.640Z"
   },
   {
    "duration": 93,
    "start_time": "2022-10-12T14:36:29.739Z"
   },
   {
    "duration": 1142,
    "start_time": "2022-10-12T14:36:29.833Z"
   },
   {
    "duration": 3547,
    "start_time": "2022-10-12T14:36:30.977Z"
   },
   {
    "duration": 1992,
    "start_time": "2022-10-12T14:36:34.526Z"
   },
   {
    "duration": 3606,
    "start_time": "2022-10-12T14:36:36.522Z"
   },
   {
    "duration": 4717,
    "start_time": "2022-10-12T14:36:40.130Z"
   },
   {
    "duration": 8937,
    "start_time": "2022-10-12T14:36:44.848Z"
   },
   {
    "duration": 2434,
    "start_time": "2022-10-12T14:36:53.786Z"
   },
   {
    "duration": 4288,
    "start_time": "2022-10-12T14:36:56.221Z"
   },
   {
    "duration": 9958,
    "start_time": "2022-10-12T14:37:00.510Z"
   },
   {
    "duration": 11968,
    "start_time": "2022-10-12T14:37:10.469Z"
   },
   {
    "duration": 1946,
    "start_time": "2022-10-12T14:37:22.439Z"
   },
   {
    "duration": 340,
    "start_time": "2022-10-12T14:37:24.387Z"
   },
   {
    "duration": 0,
    "start_time": "2022-10-12T14:37:24.729Z"
   },
   {
    "duration": 0,
    "start_time": "2022-10-12T14:37:24.730Z"
   },
   {
    "duration": 0,
    "start_time": "2022-10-12T14:37:24.731Z"
   },
   {
    "duration": 0,
    "start_time": "2022-10-12T14:37:24.732Z"
   },
   {
    "duration": 0,
    "start_time": "2022-10-12T14:37:24.733Z"
   },
   {
    "duration": 0,
    "start_time": "2022-10-12T14:37:24.735Z"
   },
   {
    "duration": 0,
    "start_time": "2022-10-12T14:37:24.736Z"
   },
   {
    "duration": 0,
    "start_time": "2022-10-12T14:37:24.737Z"
   },
   {
    "duration": 0,
    "start_time": "2022-10-12T14:37:24.738Z"
   },
   {
    "duration": 0,
    "start_time": "2022-10-12T14:37:24.739Z"
   },
   {
    "duration": 0,
    "start_time": "2022-10-12T14:37:24.740Z"
   },
   {
    "duration": 0,
    "start_time": "2022-10-12T14:37:24.741Z"
   },
   {
    "duration": 0,
    "start_time": "2022-10-12T14:37:24.742Z"
   },
   {
    "duration": 0,
    "start_time": "2022-10-12T14:37:24.745Z"
   },
   {
    "duration": 0,
    "start_time": "2022-10-12T14:37:24.746Z"
   },
   {
    "duration": 0,
    "start_time": "2022-10-12T14:37:24.747Z"
   },
   {
    "duration": 0,
    "start_time": "2022-10-12T14:37:24.748Z"
   },
   {
    "duration": 0,
    "start_time": "2022-10-12T14:37:24.749Z"
   },
   {
    "duration": 0,
    "start_time": "2022-10-12T14:37:24.750Z"
   },
   {
    "duration": 0,
    "start_time": "2022-10-12T14:37:24.751Z"
   },
   {
    "duration": 0,
    "start_time": "2022-10-12T14:37:24.753Z"
   },
   {
    "duration": 0,
    "start_time": "2022-10-12T14:37:24.754Z"
   },
   {
    "duration": 0,
    "start_time": "2022-10-12T14:37:24.755Z"
   },
   {
    "duration": 0,
    "start_time": "2022-10-12T14:37:24.756Z"
   },
   {
    "duration": 0,
    "start_time": "2022-10-12T14:37:24.757Z"
   },
   {
    "duration": 0,
    "start_time": "2022-10-12T14:37:24.758Z"
   },
   {
    "duration": 0,
    "start_time": "2022-10-12T14:37:24.759Z"
   },
   {
    "duration": 0,
    "start_time": "2022-10-12T14:37:24.760Z"
   },
   {
    "duration": 0,
    "start_time": "2022-10-12T14:37:24.761Z"
   },
   {
    "duration": 0,
    "start_time": "2022-10-12T14:37:24.786Z"
   },
   {
    "duration": 0,
    "start_time": "2022-10-12T14:37:24.789Z"
   },
   {
    "duration": 0,
    "start_time": "2022-10-12T14:37:24.790Z"
   },
   {
    "duration": 0,
    "start_time": "2022-10-12T14:37:24.792Z"
   },
   {
    "duration": 0,
    "start_time": "2022-10-12T14:37:24.793Z"
   },
   {
    "duration": 0,
    "start_time": "2022-10-12T14:37:24.795Z"
   },
   {
    "duration": 0,
    "start_time": "2022-10-12T14:37:24.796Z"
   },
   {
    "duration": 0,
    "start_time": "2022-10-12T14:37:24.797Z"
   },
   {
    "duration": 0,
    "start_time": "2022-10-12T14:37:24.799Z"
   },
   {
    "duration": 0,
    "start_time": "2022-10-12T14:37:24.800Z"
   },
   {
    "duration": 0,
    "start_time": "2022-10-12T14:37:24.802Z"
   },
   {
    "duration": 0,
    "start_time": "2022-10-12T14:37:24.803Z"
   },
   {
    "duration": 0,
    "start_time": "2022-10-12T14:37:24.804Z"
   },
   {
    "duration": 1,
    "start_time": "2022-10-12T14:37:24.805Z"
   },
   {
    "duration": 0,
    "start_time": "2022-10-12T14:37:24.807Z"
   },
   {
    "duration": 0,
    "start_time": "2022-10-12T14:37:24.808Z"
   },
   {
    "duration": 0,
    "start_time": "2022-10-12T14:37:24.810Z"
   },
   {
    "duration": 0,
    "start_time": "2022-10-12T14:37:24.812Z"
   },
   {
    "duration": 0,
    "start_time": "2022-10-12T14:37:24.813Z"
   },
   {
    "duration": 1,
    "start_time": "2022-10-12T14:37:24.814Z"
   },
   {
    "duration": 0,
    "start_time": "2022-10-12T14:37:24.816Z"
   },
   {
    "duration": 0,
    "start_time": "2022-10-12T14:37:24.817Z"
   },
   {
    "duration": 0,
    "start_time": "2022-10-12T14:37:24.819Z"
   },
   {
    "duration": 0,
    "start_time": "2022-10-12T14:37:24.820Z"
   },
   {
    "duration": 0,
    "start_time": "2022-10-12T14:37:24.821Z"
   },
   {
    "duration": 0,
    "start_time": "2022-10-12T14:37:24.823Z"
   },
   {
    "duration": 0,
    "start_time": "2022-10-12T14:37:24.824Z"
   },
   {
    "duration": 3928,
    "start_time": "2022-10-12T14:44:46.464Z"
   },
   {
    "duration": 1624,
    "start_time": "2022-10-12T14:44:50.395Z"
   },
   {
    "duration": 3,
    "start_time": "2022-10-12T14:44:52.021Z"
   },
   {
    "duration": 9791,
    "start_time": "2022-10-12T14:44:52.026Z"
   },
   {
    "duration": 70,
    "start_time": "2022-10-12T14:45:01.819Z"
   },
   {
    "duration": 22,
    "start_time": "2022-10-12T14:45:01.890Z"
   },
   {
    "duration": 32,
    "start_time": "2022-10-12T14:45:01.913Z"
   },
   {
    "duration": 19,
    "start_time": "2022-10-12T14:45:01.947Z"
   },
   {
    "duration": 249,
    "start_time": "2022-10-12T14:45:01.967Z"
   },
   {
    "duration": 237,
    "start_time": "2022-10-12T14:45:02.219Z"
   },
   {
    "duration": 216,
    "start_time": "2022-10-12T14:45:02.458Z"
   },
   {
    "duration": 256,
    "start_time": "2022-10-12T14:45:02.676Z"
   },
   {
    "duration": 225,
    "start_time": "2022-10-12T14:45:02.933Z"
   },
   {
    "duration": 233,
    "start_time": "2022-10-12T14:45:03.160Z"
   },
   {
    "duration": 10,
    "start_time": "2022-10-12T14:45:03.395Z"
   },
   {
    "duration": 184,
    "start_time": "2022-10-12T14:45:03.407Z"
   },
   {
    "duration": 163,
    "start_time": "2022-10-12T14:45:03.593Z"
   },
   {
    "duration": 178,
    "start_time": "2022-10-12T14:45:03.758Z"
   },
   {
    "duration": 170,
    "start_time": "2022-10-12T14:45:03.938Z"
   },
   {
    "duration": 196,
    "start_time": "2022-10-12T14:45:04.109Z"
   },
   {
    "duration": 9,
    "start_time": "2022-10-12T14:45:04.307Z"
   },
   {
    "duration": 509,
    "start_time": "2022-10-12T14:45:04.317Z"
   },
   {
    "duration": 98,
    "start_time": "2022-10-12T14:45:04.827Z"
   },
   {
    "duration": 95,
    "start_time": "2022-10-12T14:45:04.926Z"
   },
   {
    "duration": 1278,
    "start_time": "2022-10-12T14:45:05.022Z"
   },
   {
    "duration": 3507,
    "start_time": "2022-10-12T14:45:06.301Z"
   },
   {
    "duration": 1971,
    "start_time": "2022-10-12T14:45:09.810Z"
   },
   {
    "duration": 3500,
    "start_time": "2022-10-12T14:45:11.786Z"
   },
   {
    "duration": 4753,
    "start_time": "2022-10-12T14:45:15.288Z"
   },
   {
    "duration": 3270,
    "start_time": "2022-10-12T14:45:20.042Z"
   },
   {
    "duration": 2423,
    "start_time": "2022-10-12T14:45:23.314Z"
   },
   {
    "duration": 4141,
    "start_time": "2022-10-12T14:45:25.739Z"
   },
   {
    "duration": 9868,
    "start_time": "2022-10-12T14:45:29.884Z"
   },
   {
    "duration": 12762,
    "start_time": "2022-10-12T14:45:39.754Z"
   },
   {
    "duration": 1948,
    "start_time": "2022-10-12T14:45:52.518Z"
   },
   {
    "duration": 25788,
    "start_time": "2022-10-12T14:45:54.468Z"
   },
   {
    "duration": 184,
    "start_time": "2022-10-12T14:46:20.258Z"
   },
   {
    "duration": 126,
    "start_time": "2022-10-12T14:46:20.444Z"
   },
   {
    "duration": 0,
    "start_time": "2022-10-12T14:46:20.571Z"
   },
   {
    "duration": 0,
    "start_time": "2022-10-12T14:46:20.572Z"
   },
   {
    "duration": 0,
    "start_time": "2022-10-12T14:46:20.573Z"
   },
   {
    "duration": 0,
    "start_time": "2022-10-12T14:46:20.574Z"
   },
   {
    "duration": 0,
    "start_time": "2022-10-12T14:46:20.575Z"
   },
   {
    "duration": 0,
    "start_time": "2022-10-12T14:46:20.576Z"
   },
   {
    "duration": 0,
    "start_time": "2022-10-12T14:46:20.577Z"
   },
   {
    "duration": 0,
    "start_time": "2022-10-12T14:46:20.585Z"
   },
   {
    "duration": 0,
    "start_time": "2022-10-12T14:46:20.586Z"
   },
   {
    "duration": 0,
    "start_time": "2022-10-12T14:46:20.587Z"
   },
   {
    "duration": 1,
    "start_time": "2022-10-12T14:46:20.587Z"
   },
   {
    "duration": 0,
    "start_time": "2022-10-12T14:46:20.589Z"
   },
   {
    "duration": 0,
    "start_time": "2022-10-12T14:46:20.589Z"
   },
   {
    "duration": 0,
    "start_time": "2022-10-12T14:46:20.590Z"
   },
   {
    "duration": 0,
    "start_time": "2022-10-12T14:46:20.591Z"
   },
   {
    "duration": 0,
    "start_time": "2022-10-12T14:46:20.592Z"
   },
   {
    "duration": 0,
    "start_time": "2022-10-12T14:46:20.593Z"
   },
   {
    "duration": 0,
    "start_time": "2022-10-12T14:46:20.593Z"
   },
   {
    "duration": 0,
    "start_time": "2022-10-12T14:46:20.594Z"
   },
   {
    "duration": 0,
    "start_time": "2022-10-12T14:46:20.595Z"
   },
   {
    "duration": 0,
    "start_time": "2022-10-12T14:46:20.596Z"
   },
   {
    "duration": 0,
    "start_time": "2022-10-12T14:46:20.597Z"
   },
   {
    "duration": 0,
    "start_time": "2022-10-12T14:46:20.598Z"
   },
   {
    "duration": 0,
    "start_time": "2022-10-12T14:46:20.599Z"
   },
   {
    "duration": 0,
    "start_time": "2022-10-12T14:46:20.600Z"
   },
   {
    "duration": 0,
    "start_time": "2022-10-12T14:46:20.601Z"
   },
   {
    "duration": 0,
    "start_time": "2022-10-12T14:46:20.602Z"
   },
   {
    "duration": 0,
    "start_time": "2022-10-12T14:46:20.603Z"
   },
   {
    "duration": 0,
    "start_time": "2022-10-12T14:46:20.604Z"
   },
   {
    "duration": 0,
    "start_time": "2022-10-12T14:46:20.605Z"
   },
   {
    "duration": 0,
    "start_time": "2022-10-12T14:46:20.606Z"
   },
   {
    "duration": 0,
    "start_time": "2022-10-12T14:46:20.607Z"
   },
   {
    "duration": 0,
    "start_time": "2022-10-12T14:46:20.608Z"
   },
   {
    "duration": 0,
    "start_time": "2022-10-12T14:46:20.609Z"
   },
   {
    "duration": 0,
    "start_time": "2022-10-12T14:46:20.610Z"
   },
   {
    "duration": 0,
    "start_time": "2022-10-12T14:46:20.610Z"
   },
   {
    "duration": 0,
    "start_time": "2022-10-12T14:46:20.611Z"
   },
   {
    "duration": 0,
    "start_time": "2022-10-12T14:46:20.612Z"
   },
   {
    "duration": 0,
    "start_time": "2022-10-12T14:46:20.613Z"
   },
   {
    "duration": 0,
    "start_time": "2022-10-12T14:46:20.614Z"
   },
   {
    "duration": 0,
    "start_time": "2022-10-12T14:46:20.615Z"
   },
   {
    "duration": 0,
    "start_time": "2022-10-12T14:46:20.616Z"
   },
   {
    "duration": 0,
    "start_time": "2022-10-12T14:46:20.617Z"
   },
   {
    "duration": 0,
    "start_time": "2022-10-12T14:46:20.618Z"
   },
   {
    "duration": 0,
    "start_time": "2022-10-12T14:46:20.619Z"
   },
   {
    "duration": 0,
    "start_time": "2022-10-12T14:46:20.619Z"
   },
   {
    "duration": 1,
    "start_time": "2022-10-12T14:46:20.620Z"
   },
   {
    "duration": 0,
    "start_time": "2022-10-12T14:46:20.621Z"
   },
   {
    "duration": 0,
    "start_time": "2022-10-12T14:46:20.685Z"
   },
   {
    "duration": 0,
    "start_time": "2022-10-12T14:46:20.686Z"
   },
   {
    "duration": 0,
    "start_time": "2022-10-12T14:46:20.687Z"
   },
   {
    "duration": 0,
    "start_time": "2022-10-12T14:46:20.688Z"
   },
   {
    "duration": 23,
    "start_time": "2022-10-12T14:46:54.197Z"
   },
   {
    "duration": 9,
    "start_time": "2022-10-12T14:48:55.029Z"
   },
   {
    "duration": 44,
    "start_time": "2022-10-12T14:49:00.444Z"
   },
   {
    "duration": 9,
    "start_time": "2022-10-12T14:50:24.343Z"
   },
   {
    "duration": 155,
    "start_time": "2022-10-12T14:50:31.087Z"
   },
   {
    "duration": 8,
    "start_time": "2022-10-12T14:51:19.898Z"
   },
   {
    "duration": 8,
    "start_time": "2022-10-12T14:51:33.002Z"
   },
   {
    "duration": 12,
    "start_time": "2022-10-12T14:52:05.139Z"
   },
   {
    "duration": 10549,
    "start_time": "2022-10-12T14:56:48.885Z"
   },
   {
    "duration": 24489,
    "start_time": "2022-10-12T15:03:36.548Z"
   },
   {
    "duration": 10448,
    "start_time": "2022-10-12T15:04:01.039Z"
   },
   {
    "duration": 166,
    "start_time": "2022-10-12T15:04:11.489Z"
   },
   {
    "duration": 90,
    "start_time": "2022-10-12T15:04:54.436Z"
   },
   {
    "duration": 24644,
    "start_time": "2022-10-12T15:09:30.922Z"
   },
   {
    "duration": 94,
    "start_time": "2022-10-12T15:10:32.292Z"
   },
   {
    "duration": 130,
    "start_time": "2022-10-12T15:10:35.636Z"
   },
   {
    "duration": 54782,
    "start_time": "2022-10-12T15:10:48.381Z"
   },
   {
    "duration": 131,
    "start_time": "2022-10-12T15:13:05.141Z"
   },
   {
    "duration": 304,
    "start_time": "2022-10-12T15:25:23.518Z"
   },
   {
    "duration": 3,
    "start_time": "2022-10-12T15:28:35.816Z"
   },
   {
    "duration": 3,
    "start_time": "2022-10-12T15:41:46.080Z"
   },
   {
    "duration": 33606,
    "start_time": "2022-10-12T15:47:52.979Z"
   },
   {
    "duration": 119,
    "start_time": "2022-10-12T15:48:26.587Z"
   },
   {
    "duration": 52,
    "start_time": "2022-10-12T15:48:26.708Z"
   },
   {
    "duration": 199,
    "start_time": "2022-10-12T15:48:26.762Z"
   },
   {
    "duration": 25,
    "start_time": "2022-10-12T15:49:27.145Z"
   },
   {
    "duration": 15,
    "start_time": "2022-10-12T15:49:28.498Z"
   },
   {
    "duration": 20,
    "start_time": "2022-10-12T15:49:28.689Z"
   },
   {
    "duration": 18,
    "start_time": "2022-10-12T15:49:29.082Z"
   },
   {
    "duration": 6,
    "start_time": "2022-10-12T15:49:29.290Z"
   },
   {
    "duration": 24,
    "start_time": "2022-10-12T15:49:29.457Z"
   },
   {
    "duration": 16,
    "start_time": "2022-10-12T15:49:31.426Z"
   },
   {
    "duration": 24,
    "start_time": "2022-10-12T15:49:31.778Z"
   },
   {
    "duration": 16,
    "start_time": "2022-10-12T15:49:32.654Z"
   },
   {
    "duration": 62,
    "start_time": "2022-10-12T15:49:33.602Z"
   },
   {
    "duration": 3,
    "start_time": "2022-10-12T15:49:36.034Z"
   },
   {
    "duration": 16,
    "start_time": "2022-10-12T15:49:36.465Z"
   },
   {
    "duration": 3,
    "start_time": "2022-10-12T15:50:02.332Z"
   },
   {
    "duration": 12,
    "start_time": "2022-10-12T15:50:02.709Z"
   },
   {
    "duration": 3,
    "start_time": "2022-10-12T15:50:14.269Z"
   },
   {
    "duration": 1471,
    "start_time": "2022-10-12T15:50:14.749Z"
   },
   {
    "duration": 121,
    "start_time": "2022-10-12T15:50:49.327Z"
   },
   {
    "duration": 89,
    "start_time": "2022-10-12T15:50:52.169Z"
   },
   {
    "duration": 3,
    "start_time": "2022-10-12T15:51:28.042Z"
   },
   {
    "duration": 9,
    "start_time": "2022-10-12T15:51:29.004Z"
   },
   {
    "duration": 139,
    "start_time": "2022-10-12T15:51:30.947Z"
   },
   {
    "duration": 98,
    "start_time": "2022-10-12T15:51:31.756Z"
   },
   {
    "duration": 2,
    "start_time": "2022-10-12T15:51:43.412Z"
   },
   {
    "duration": 128,
    "start_time": "2022-10-12T15:51:55.117Z"
   },
   {
    "duration": 9,
    "start_time": "2022-10-12T15:51:56.284Z"
   },
   {
    "duration": 8,
    "start_time": "2022-10-12T16:00:01.346Z"
   },
   {
    "duration": 52,
    "start_time": "2022-10-12T16:00:06.860Z"
   },
   {
    "duration": 27458,
    "start_time": "2022-10-12T16:00:23.007Z"
   },
   {
    "duration": 114,
    "start_time": "2022-10-12T16:00:50.467Z"
   },
   {
    "duration": 295,
    "start_time": "2022-10-12T16:00:50.584Z"
   },
   {
    "duration": 20,
    "start_time": "2022-10-12T16:00:50.884Z"
   },
   {
    "duration": 18,
    "start_time": "2022-10-12T16:00:50.906Z"
   },
   {
    "duration": 19,
    "start_time": "2022-10-12T16:00:50.926Z"
   },
   {
    "duration": 15,
    "start_time": "2022-10-12T16:00:50.947Z"
   },
   {
    "duration": 22,
    "start_time": "2022-10-12T16:00:50.964Z"
   },
   {
    "duration": 24,
    "start_time": "2022-10-12T16:00:50.987Z"
   },
   {
    "duration": 22,
    "start_time": "2022-10-12T16:00:51.013Z"
   },
   {
    "duration": 20,
    "start_time": "2022-10-12T16:00:51.037Z"
   },
   {
    "duration": 27,
    "start_time": "2022-10-12T16:00:51.059Z"
   },
   {
    "duration": 76,
    "start_time": "2022-10-12T16:00:51.087Z"
   },
   {
    "duration": 8,
    "start_time": "2022-10-12T16:00:52.159Z"
   },
   {
    "duration": 8,
    "start_time": "2022-10-12T16:01:28.642Z"
   },
   {
    "duration": 112,
    "start_time": "2022-10-12T16:03:09.369Z"
   },
   {
    "duration": 13,
    "start_time": "2022-10-12T16:03:17.451Z"
   },
   {
    "duration": 13,
    "start_time": "2022-10-12T16:03:28.698Z"
   },
   {
    "duration": 1296,
    "start_time": "2022-10-12T16:03:39.459Z"
   },
   {
    "duration": 6,
    "start_time": "2022-10-12T16:10:15.868Z"
   },
   {
    "duration": 4,
    "start_time": "2022-10-12T16:10:22.036Z"
   },
   {
    "duration": 9,
    "start_time": "2022-10-12T16:10:27.556Z"
   },
   {
    "duration": 6,
    "start_time": "2022-10-12T16:11:07.272Z"
   },
   {
    "duration": 9,
    "start_time": "2022-10-12T16:11:07.839Z"
   },
   {
    "duration": 4,
    "start_time": "2022-10-12T16:11:12.753Z"
   },
   {
    "duration": 11,
    "start_time": "2022-10-12T16:12:00.499Z"
   },
   {
    "duration": 4,
    "start_time": "2022-10-12T16:12:09.459Z"
   },
   {
    "duration": 4,
    "start_time": "2022-10-12T16:12:14.500Z"
   },
   {
    "duration": 327,
    "start_time": "2022-10-12T16:12:56.951Z"
   },
   {
    "duration": 27,
    "start_time": "2022-10-12T16:13:26.441Z"
   },
   {
    "duration": 20,
    "start_time": "2022-10-12T16:14:06.219Z"
   },
   {
    "duration": 29,
    "start_time": "2022-10-12T16:15:39.274Z"
   },
   {
    "duration": 66,
    "start_time": "2022-10-12T16:16:31.256Z"
   },
   {
    "duration": 9,
    "start_time": "2022-10-12T16:17:18.607Z"
   },
   {
    "duration": 4,
    "start_time": "2022-10-12T16:17:24.946Z"
   },
   {
    "duration": 6,
    "start_time": "2022-10-12T16:17:33.025Z"
   },
   {
    "duration": 3,
    "start_time": "2022-10-12T16:23:01.295Z"
   },
   {
    "duration": 3,
    "start_time": "2022-10-12T16:23:31.906Z"
   },
   {
    "duration": 94,
    "start_time": "2022-10-12T16:23:34.081Z"
   },
   {
    "duration": 18,
    "start_time": "2022-10-12T16:23:39.162Z"
   },
   {
    "duration": 9,
    "start_time": "2022-10-12T16:26:38.951Z"
   },
   {
    "duration": 6,
    "start_time": "2022-10-12T16:26:51.223Z"
   },
   {
    "duration": 8,
    "start_time": "2022-10-12T16:27:01.232Z"
   },
   {
    "duration": 9,
    "start_time": "2022-10-12T16:27:15.368Z"
   },
   {
    "duration": 8,
    "start_time": "2022-10-12T16:27:53.211Z"
   },
   {
    "duration": 7,
    "start_time": "2022-10-12T16:28:01.443Z"
   },
   {
    "duration": 10,
    "start_time": "2022-10-12T16:28:53.839Z"
   },
   {
    "duration": 11,
    "start_time": "2022-10-12T16:30:13.420Z"
   },
   {
    "duration": 10,
    "start_time": "2022-10-12T16:30:26.741Z"
   },
   {
    "duration": 5,
    "start_time": "2022-10-12T16:30:40.691Z"
   },
   {
    "duration": 6,
    "start_time": "2022-10-12T16:30:47.047Z"
   },
   {
    "duration": 4,
    "start_time": "2022-10-12T16:30:57.583Z"
   },
   {
    "duration": 9,
    "start_time": "2022-10-12T16:31:06.351Z"
   },
   {
    "duration": 4,
    "start_time": "2022-10-12T16:31:14.563Z"
   },
   {
    "duration": 4,
    "start_time": "2022-10-12T16:32:06.786Z"
   },
   {
    "duration": 6,
    "start_time": "2022-10-12T16:32:50.495Z"
   },
   {
    "duration": 3,
    "start_time": "2022-10-12T16:33:24.879Z"
   },
   {
    "duration": 1314,
    "start_time": "2022-10-12T16:33:44.224Z"
   },
   {
    "duration": 3,
    "start_time": "2022-10-12T16:34:18.667Z"
   },
   {
    "duration": 1388,
    "start_time": "2022-10-12T16:34:19.379Z"
   },
   {
    "duration": 3,
    "start_time": "2022-10-12T16:35:23.638Z"
   },
   {
    "duration": 4,
    "start_time": "2022-10-12T16:35:25.775Z"
   },
   {
    "duration": 6,
    "start_time": "2022-10-12T16:35:29.622Z"
   },
   {
    "duration": 23,
    "start_time": "2022-10-12T16:36:23.540Z"
   },
   {
    "duration": 30,
    "start_time": "2022-10-12T16:36:38.818Z"
   },
   {
    "duration": 23,
    "start_time": "2022-10-12T16:36:40.171Z"
   },
   {
    "duration": 3,
    "start_time": "2022-10-12T16:37:02.126Z"
   },
   {
    "duration": 153,
    "start_time": "2022-10-12T16:37:02.479Z"
   },
   {
    "duration": 147,
    "start_time": "2022-10-12T16:37:10.765Z"
   },
   {
    "duration": 34,
    "start_time": "2022-10-12T16:42:40.377Z"
   },
   {
    "duration": 95,
    "start_time": "2022-10-12T16:42:41.616Z"
   },
   {
    "duration": 4,
    "start_time": "2022-10-12T16:42:42.740Z"
   },
   {
    "duration": 4,
    "start_time": "2022-10-12T16:42:43.896Z"
   },
   {
    "duration": 3,
    "start_time": "2022-10-12T16:44:06.990Z"
   },
   {
    "duration": 11,
    "start_time": "2022-10-12T16:44:07.518Z"
   },
   {
    "duration": 45,
    "start_time": "2022-10-12T16:44:07.949Z"
   },
   {
    "duration": 10077,
    "start_time": "2022-10-12T16:48:03.341Z"
   },
   {
    "duration": 9,
    "start_time": "2022-10-12T16:48:27.376Z"
   },
   {
    "duration": 95,
    "start_time": "2022-10-12T16:49:05.466Z"
   },
   {
    "duration": 3267,
    "start_time": "2022-10-12T16:49:12.426Z"
   },
   {
    "duration": 3,
    "start_time": "2022-10-12T16:49:44.788Z"
   },
   {
    "duration": 11,
    "start_time": "2022-10-12T16:49:45.196Z"
   },
   {
    "duration": 3042,
    "start_time": "2022-10-12T16:49:45.556Z"
   },
   {
    "duration": 10,
    "start_time": "2022-10-12T16:52:04.342Z"
   },
   {
    "duration": 9,
    "start_time": "2022-10-12T16:52:23.174Z"
   },
   {
    "duration": 6,
    "start_time": "2022-10-12T16:53:44.083Z"
   },
   {
    "duration": 8,
    "start_time": "2022-10-12T16:53:48.236Z"
   },
   {
    "duration": 81,
    "start_time": "2022-10-12T16:54:06.069Z"
   },
   {
    "duration": 7,
    "start_time": "2022-10-12T16:54:15.838Z"
   },
   {
    "duration": 3,
    "start_time": "2022-10-12T16:54:16.710Z"
   },
   {
    "duration": 6595,
    "start_time": "2022-10-12T16:58:13.966Z"
   },
   {
    "duration": 8,
    "start_time": "2022-10-12T16:58:37.880Z"
   },
   {
    "duration": 3,
    "start_time": "2022-10-12T16:58:38.397Z"
   },
   {
    "duration": 6,
    "start_time": "2022-10-12T16:58:42.744Z"
   },
   {
    "duration": 4,
    "start_time": "2022-10-12T16:58:43.422Z"
   },
   {
    "duration": 76,
    "start_time": "2022-10-12T16:59:41.228Z"
   },
   {
    "duration": 6439,
    "start_time": "2022-10-12T16:59:52.600Z"
   },
   {
    "duration": 6278,
    "start_time": "2022-10-12T17:00:06.110Z"
   },
   {
    "duration": 1585,
    "start_time": "2022-10-12T17:00:12.391Z"
   },
   {
    "duration": 3,
    "start_time": "2022-10-12T17:00:13.977Z"
   },
   {
    "duration": 9,
    "start_time": "2022-10-12T17:00:13.982Z"
   },
   {
    "duration": 9805,
    "start_time": "2022-10-12T17:00:13.993Z"
   },
   {
    "duration": 68,
    "start_time": "2022-10-12T17:00:23.802Z"
   },
   {
    "duration": 24,
    "start_time": "2022-10-12T17:00:23.871Z"
   },
   {
    "duration": 10,
    "start_time": "2022-10-12T17:00:23.896Z"
   },
   {
    "duration": 10,
    "start_time": "2022-10-12T17:00:23.908Z"
   },
   {
    "duration": 239,
    "start_time": "2022-10-12T17:00:23.921Z"
   },
   {
    "duration": 235,
    "start_time": "2022-10-12T17:00:24.162Z"
   },
   {
    "duration": 213,
    "start_time": "2022-10-12T17:00:24.399Z"
   },
   {
    "duration": 246,
    "start_time": "2022-10-12T17:00:24.614Z"
   },
   {
    "duration": 269,
    "start_time": "2022-10-12T17:00:24.862Z"
   },
   {
    "duration": 213,
    "start_time": "2022-10-12T17:00:25.132Z"
   },
   {
    "duration": 11,
    "start_time": "2022-10-12T17:00:25.347Z"
   },
   {
    "duration": 170,
    "start_time": "2022-10-12T17:00:25.359Z"
   },
   {
    "duration": 150,
    "start_time": "2022-10-12T17:00:25.531Z"
   },
   {
    "duration": 162,
    "start_time": "2022-10-12T17:00:25.683Z"
   },
   {
    "duration": 156,
    "start_time": "2022-10-12T17:00:25.847Z"
   },
   {
    "duration": 179,
    "start_time": "2022-10-12T17:00:26.005Z"
   },
   {
    "duration": 10,
    "start_time": "2022-10-12T17:00:26.186Z"
   },
   {
    "duration": 451,
    "start_time": "2022-10-12T17:00:26.198Z"
   },
   {
    "duration": 85,
    "start_time": "2022-10-12T17:00:26.650Z"
   },
   {
    "duration": 83,
    "start_time": "2022-10-12T17:00:26.737Z"
   },
   {
    "duration": 990,
    "start_time": "2022-10-12T17:00:26.822Z"
   },
   {
    "duration": 3620,
    "start_time": "2022-10-12T17:00:27.814Z"
   },
   {
    "duration": 2236,
    "start_time": "2022-10-12T17:00:31.437Z"
   },
   {
    "duration": 3558,
    "start_time": "2022-10-12T17:00:33.675Z"
   },
   {
    "duration": 5884,
    "start_time": "2022-10-12T17:00:37.235Z"
   },
   {
    "duration": 9242,
    "start_time": "2022-10-12T17:00:43.121Z"
   },
   {
    "duration": 2942,
    "start_time": "2022-10-12T17:00:52.365Z"
   },
   {
    "duration": 4519,
    "start_time": "2022-10-12T17:00:55.309Z"
   },
   {
    "duration": 9764,
    "start_time": "2022-10-12T17:00:59.829Z"
   },
   {
    "duration": 11512,
    "start_time": "2022-10-12T17:01:09.594Z"
   },
   {
    "duration": 2204,
    "start_time": "2022-10-12T17:01:21.108Z"
   },
   {
    "duration": 31801,
    "start_time": "2022-10-12T17:01:23.314Z"
   },
   {
    "duration": 128,
    "start_time": "2022-10-12T17:01:55.116Z"
   },
   {
    "duration": 67992,
    "start_time": "2022-10-12T17:01:55.246Z"
   },
   {
    "duration": 83,
    "start_time": "2022-10-12T17:03:03.240Z"
   },
   {
    "duration": 260,
    "start_time": "2022-10-12T17:03:03.325Z"
   },
   {
    "duration": 24,
    "start_time": "2022-10-12T17:03:03.587Z"
   },
   {
    "duration": 21,
    "start_time": "2022-10-12T17:03:03.613Z"
   },
   {
    "duration": 25,
    "start_time": "2022-10-12T17:03:03.636Z"
   },
   {
    "duration": 39,
    "start_time": "2022-10-12T17:03:03.663Z"
   },
   {
    "duration": 8,
    "start_time": "2022-10-12T17:03:03.704Z"
   },
   {
    "duration": 26,
    "start_time": "2022-10-12T17:03:03.714Z"
   },
   {
    "duration": 22,
    "start_time": "2022-10-12T17:03:03.741Z"
   },
   {
    "duration": 45,
    "start_time": "2022-10-12T17:03:03.765Z"
   },
   {
    "duration": 27,
    "start_time": "2022-10-12T17:03:03.812Z"
   },
   {
    "duration": 78,
    "start_time": "2022-10-12T17:03:03.841Z"
   },
   {
    "duration": 4,
    "start_time": "2022-10-12T17:03:03.920Z"
   },
   {
    "duration": 181,
    "start_time": "2022-10-12T17:03:03.926Z"
   },
   {
    "duration": 106,
    "start_time": "2022-10-12T17:03:04.109Z"
   },
   {
    "duration": 29,
    "start_time": "2022-10-12T17:03:04.217Z"
   },
   {
    "duration": 83,
    "start_time": "2022-10-12T17:03:04.248Z"
   },
   {
    "duration": 4,
    "start_time": "2022-10-12T17:03:04.333Z"
   },
   {
    "duration": 7,
    "start_time": "2022-10-12T17:03:04.339Z"
   },
   {
    "duration": 12,
    "start_time": "2022-10-12T17:03:04.348Z"
   },
   {
    "duration": 1391,
    "start_time": "2022-10-12T17:03:04.362Z"
   },
   {
    "duration": 191,
    "start_time": "2022-10-12T17:03:05.755Z"
   },
   {
    "duration": 124,
    "start_time": "2022-10-12T17:03:05.948Z"
   },
   {
    "duration": 0,
    "start_time": "2022-10-12T17:03:06.074Z"
   },
   {
    "duration": 0,
    "start_time": "2022-10-12T17:03:06.075Z"
   },
   {
    "duration": 0,
    "start_time": "2022-10-12T17:03:06.077Z"
   },
   {
    "duration": 0,
    "start_time": "2022-10-12T17:03:06.078Z"
   },
   {
    "duration": 0,
    "start_time": "2022-10-12T17:03:06.085Z"
   },
   {
    "duration": 0,
    "start_time": "2022-10-12T17:03:06.087Z"
   },
   {
    "duration": 0,
    "start_time": "2022-10-12T17:03:06.088Z"
   },
   {
    "duration": 0,
    "start_time": "2022-10-12T17:03:06.090Z"
   },
   {
    "duration": 0,
    "start_time": "2022-10-12T17:03:06.091Z"
   },
   {
    "duration": 0,
    "start_time": "2022-10-12T17:03:06.093Z"
   },
   {
    "duration": 15,
    "start_time": "2022-10-12T17:03:41.193Z"
   },
   {
    "duration": 6022,
    "start_time": "2022-10-12T17:04:09.001Z"
   },
   {
    "duration": 1551,
    "start_time": "2022-10-12T17:04:15.026Z"
   },
   {
    "duration": 3,
    "start_time": "2022-10-12T17:04:16.578Z"
   },
   {
    "duration": 9322,
    "start_time": "2022-10-12T17:04:16.584Z"
   },
   {
    "duration": 65,
    "start_time": "2022-10-12T17:04:25.907Z"
   },
   {
    "duration": 23,
    "start_time": "2022-10-12T17:04:25.974Z"
   },
   {
    "duration": 11,
    "start_time": "2022-10-12T17:04:25.999Z"
   },
   {
    "duration": 10,
    "start_time": "2022-10-12T17:04:26.012Z"
   },
   {
    "duration": 228,
    "start_time": "2022-10-12T17:04:26.023Z"
   },
   {
    "duration": 232,
    "start_time": "2022-10-12T17:04:26.253Z"
   },
   {
    "duration": 203,
    "start_time": "2022-10-12T17:04:26.487Z"
   },
   {
    "duration": 261,
    "start_time": "2022-10-12T17:04:26.692Z"
   },
   {
    "duration": 231,
    "start_time": "2022-10-12T17:04:26.955Z"
   },
   {
    "duration": 213,
    "start_time": "2022-10-12T17:04:27.188Z"
   },
   {
    "duration": 9,
    "start_time": "2022-10-12T17:04:27.403Z"
   },
   {
    "duration": 166,
    "start_time": "2022-10-12T17:04:27.414Z"
   },
   {
    "duration": 144,
    "start_time": "2022-10-12T17:04:27.582Z"
   },
   {
    "duration": 172,
    "start_time": "2022-10-12T17:04:27.728Z"
   },
   {
    "duration": 158,
    "start_time": "2022-10-12T17:04:27.902Z"
   },
   {
    "duration": 177,
    "start_time": "2022-10-12T17:04:28.062Z"
   },
   {
    "duration": 9,
    "start_time": "2022-10-12T17:04:28.241Z"
   },
   {
    "duration": 448,
    "start_time": "2022-10-12T17:04:28.252Z"
   },
   {
    "duration": 84,
    "start_time": "2022-10-12T17:04:28.702Z"
   },
   {
    "duration": 84,
    "start_time": "2022-10-12T17:04:28.788Z"
   },
   {
    "duration": 974,
    "start_time": "2022-10-12T17:04:28.873Z"
   },
   {
    "duration": 3719,
    "start_time": "2022-10-12T17:04:29.848Z"
   },
   {
    "duration": 2220,
    "start_time": "2022-10-12T17:04:33.568Z"
   },
   {
    "duration": 3526,
    "start_time": "2022-10-12T17:04:35.793Z"
   },
   {
    "duration": 5664,
    "start_time": "2022-10-12T17:04:39.321Z"
   },
   {
    "duration": 6792,
    "start_time": "2022-10-12T17:04:44.987Z"
   },
   {
    "duration": 3020,
    "start_time": "2022-10-12T17:04:51.784Z"
   },
   {
    "duration": 4600,
    "start_time": "2022-10-12T17:04:54.806Z"
   },
   {
    "duration": 9927,
    "start_time": "2022-10-12T17:04:59.408Z"
   },
   {
    "duration": 11732,
    "start_time": "2022-10-12T17:05:09.337Z"
   },
   {
    "duration": 2194,
    "start_time": "2022-10-12T17:05:21.071Z"
   },
   {
    "duration": 26264,
    "start_time": "2022-10-12T17:05:23.267Z"
   },
   {
    "duration": 136,
    "start_time": "2022-10-12T17:05:49.533Z"
   },
   {
    "duration": 65677,
    "start_time": "2022-10-12T17:05:49.671Z"
   },
   {
    "duration": 83,
    "start_time": "2022-10-12T17:06:55.349Z"
   },
   {
    "duration": 257,
    "start_time": "2022-10-12T17:06:55.433Z"
   },
   {
    "duration": 27,
    "start_time": "2022-10-12T17:06:55.692Z"
   },
   {
    "duration": 25,
    "start_time": "2022-10-12T17:06:55.721Z"
   },
   {
    "duration": 22,
    "start_time": "2022-10-12T17:06:55.748Z"
   },
   {
    "duration": 20,
    "start_time": "2022-10-12T17:06:55.784Z"
   },
   {
    "duration": 11,
    "start_time": "2022-10-12T17:06:55.805Z"
   },
   {
    "duration": 26,
    "start_time": "2022-10-12T17:06:55.818Z"
   },
   {
    "duration": 29,
    "start_time": "2022-10-12T17:06:55.846Z"
   },
   {
    "duration": 33,
    "start_time": "2022-10-12T17:06:55.877Z"
   },
   {
    "duration": 19,
    "start_time": "2022-10-12T17:06:55.911Z"
   },
   {
    "duration": 76,
    "start_time": "2022-10-12T17:06:55.932Z"
   },
   {
    "duration": 3,
    "start_time": "2022-10-12T17:06:56.010Z"
   },
   {
    "duration": 183,
    "start_time": "2022-10-12T17:06:56.014Z"
   },
   {
    "duration": 119,
    "start_time": "2022-10-12T17:06:56.199Z"
   },
   {
    "duration": 27,
    "start_time": "2022-10-12T17:06:56.320Z"
   },
   {
    "duration": 82,
    "start_time": "2022-10-12T17:06:56.349Z"
   },
   {
    "duration": 3,
    "start_time": "2022-10-12T17:06:56.433Z"
   },
   {
    "duration": 7,
    "start_time": "2022-10-12T17:06:56.438Z"
   },
   {
    "duration": 13,
    "start_time": "2022-10-12T17:06:56.447Z"
   },
   {
    "duration": 1412,
    "start_time": "2022-10-12T17:06:56.462Z"
   },
   {
    "duration": 163,
    "start_time": "2022-10-12T17:06:57.876Z"
   },
   {
    "duration": 115,
    "start_time": "2022-10-12T17:06:58.041Z"
   },
   {
    "duration": 0,
    "start_time": "2022-10-12T17:06:58.157Z"
   },
   {
    "duration": 0,
    "start_time": "2022-10-12T17:06:58.159Z"
   },
   {
    "duration": 0,
    "start_time": "2022-10-12T17:06:58.160Z"
   },
   {
    "duration": 0,
    "start_time": "2022-10-12T17:06:58.161Z"
   },
   {
    "duration": 0,
    "start_time": "2022-10-12T17:06:58.162Z"
   },
   {
    "duration": 0,
    "start_time": "2022-10-12T17:06:58.163Z"
   },
   {
    "duration": 0,
    "start_time": "2022-10-12T17:06:58.164Z"
   },
   {
    "duration": 0,
    "start_time": "2022-10-12T17:06:58.165Z"
   },
   {
    "duration": 0,
    "start_time": "2022-10-12T17:06:58.166Z"
   },
   {
    "duration": 0,
    "start_time": "2022-10-12T17:06:58.167Z"
   },
   {
    "duration": 129,
    "start_time": "2022-10-12T17:09:21.528Z"
   },
   {
    "duration": 5,
    "start_time": "2022-10-12T17:09:53.169Z"
   },
   {
    "duration": 94,
    "start_time": "2022-10-12T17:12:05.546Z"
   },
   {
    "duration": 9,
    "start_time": "2022-10-12T17:17:20.295Z"
   },
   {
    "duration": 6108,
    "start_time": "2022-10-12T17:17:33.598Z"
   },
   {
    "duration": 1620,
    "start_time": "2022-10-12T17:17:39.708Z"
   },
   {
    "duration": 3,
    "start_time": "2022-10-12T17:17:41.329Z"
   },
   {
    "duration": 9222,
    "start_time": "2022-10-12T17:17:41.334Z"
   },
   {
    "duration": 61,
    "start_time": "2022-10-12T17:17:50.558Z"
   },
   {
    "duration": 23,
    "start_time": "2022-10-12T17:17:50.620Z"
   },
   {
    "duration": 11,
    "start_time": "2022-10-12T17:17:50.644Z"
   },
   {
    "duration": 10,
    "start_time": "2022-10-12T17:17:50.656Z"
   },
   {
    "duration": 209,
    "start_time": "2022-10-12T17:17:50.667Z"
   },
   {
    "duration": 227,
    "start_time": "2022-10-12T17:17:50.878Z"
   },
   {
    "duration": 196,
    "start_time": "2022-10-12T17:17:51.107Z"
   },
   {
    "duration": 231,
    "start_time": "2022-10-12T17:17:51.304Z"
   },
   {
    "duration": 225,
    "start_time": "2022-10-12T17:17:51.536Z"
   },
   {
    "duration": 230,
    "start_time": "2022-10-12T17:17:51.763Z"
   },
   {
    "duration": 10,
    "start_time": "2022-10-12T17:17:51.994Z"
   },
   {
    "duration": 178,
    "start_time": "2022-10-12T17:17:52.006Z"
   },
   {
    "duration": 168,
    "start_time": "2022-10-12T17:17:52.186Z"
   },
   {
    "duration": 174,
    "start_time": "2022-10-12T17:17:52.356Z"
   },
   {
    "duration": 155,
    "start_time": "2022-10-12T17:17:52.531Z"
   },
   {
    "duration": 183,
    "start_time": "2022-10-12T17:17:52.688Z"
   },
   {
    "duration": 8,
    "start_time": "2022-10-12T17:17:52.873Z"
   },
   {
    "duration": 477,
    "start_time": "2022-10-12T17:17:52.882Z"
   },
   {
    "duration": 93,
    "start_time": "2022-10-12T17:17:53.360Z"
   },
   {
    "duration": 96,
    "start_time": "2022-10-12T17:17:53.454Z"
   },
   {
    "duration": 1120,
    "start_time": "2022-10-12T17:17:53.552Z"
   },
   {
    "duration": 3717,
    "start_time": "2022-10-12T17:17:54.674Z"
   },
   {
    "duration": 2311,
    "start_time": "2022-10-12T17:17:58.392Z"
   },
   {
    "duration": 3562,
    "start_time": "2022-10-12T17:18:00.707Z"
   },
   {
    "duration": 5790,
    "start_time": "2022-10-12T17:18:04.270Z"
   },
   {
    "duration": 4151,
    "start_time": "2022-10-12T17:18:10.062Z"
   },
   {
    "duration": 3061,
    "start_time": "2022-10-12T17:18:14.215Z"
   },
   {
    "duration": 4379,
    "start_time": "2022-10-12T17:18:17.284Z"
   },
   {
    "duration": 10903,
    "start_time": "2022-10-12T17:18:21.665Z"
   },
   {
    "duration": 11703,
    "start_time": "2022-10-12T17:18:32.569Z"
   },
   {
    "duration": 2206,
    "start_time": "2022-10-12T17:18:44.273Z"
   },
   {
    "duration": 32223,
    "start_time": "2022-10-12T17:18:46.480Z"
   },
   {
    "duration": 132,
    "start_time": "2022-10-12T17:19:18.705Z"
   },
   {
    "duration": 66783,
    "start_time": "2022-10-12T17:19:18.838Z"
   },
   {
    "duration": 92,
    "start_time": "2022-10-12T17:20:25.623Z"
   },
   {
    "duration": 285,
    "start_time": "2022-10-12T17:20:25.716Z"
   },
   {
    "duration": 25,
    "start_time": "2022-10-12T17:20:26.003Z"
   },
   {
    "duration": 25,
    "start_time": "2022-10-12T17:20:26.030Z"
   },
   {
    "duration": 33,
    "start_time": "2022-10-12T17:20:26.057Z"
   },
   {
    "duration": 19,
    "start_time": "2022-10-12T17:20:26.091Z"
   },
   {
    "duration": 7,
    "start_time": "2022-10-12T17:20:26.111Z"
   },
   {
    "duration": 26,
    "start_time": "2022-10-12T17:20:26.119Z"
   },
   {
    "duration": 49,
    "start_time": "2022-10-12T17:20:26.146Z"
   },
   {
    "duration": 23,
    "start_time": "2022-10-12T17:20:26.197Z"
   },
   {
    "duration": 27,
    "start_time": "2022-10-12T17:20:26.221Z"
   },
   {
    "duration": 79,
    "start_time": "2022-10-12T17:20:26.249Z"
   },
   {
    "duration": 3,
    "start_time": "2022-10-12T17:20:26.329Z"
   },
   {
    "duration": 201,
    "start_time": "2022-10-12T17:20:26.334Z"
   },
   {
    "duration": 113,
    "start_time": "2022-10-12T17:20:26.537Z"
   },
   {
    "duration": 39,
    "start_time": "2022-10-12T17:20:26.652Z"
   },
   {
    "duration": 68,
    "start_time": "2022-10-12T17:20:26.692Z"
   },
   {
    "duration": 4,
    "start_time": "2022-10-12T17:20:26.762Z"
   },
   {
    "duration": 3,
    "start_time": "2022-10-12T17:20:26.786Z"
   },
   {
    "duration": 15,
    "start_time": "2022-10-12T17:20:26.790Z"
   },
   {
    "duration": 1451,
    "start_time": "2022-10-12T17:20:26.806Z"
   },
   {
    "duration": 171,
    "start_time": "2022-10-12T17:20:28.258Z"
   },
   {
    "duration": 3,
    "start_time": "2022-10-12T17:20:28.431Z"
   },
   {
    "duration": 213052,
    "start_time": "2022-10-12T17:20:28.436Z"
   },
   {
    "duration": 35883,
    "start_time": "2022-10-12T17:24:01.489Z"
   },
   {
    "duration": 192426,
    "start_time": "2022-10-12T17:24:37.374Z"
   },
   {
    "duration": 0,
    "start_time": "2022-10-12T17:47:49.196Z"
   },
   {
    "duration": 0,
    "start_time": "2022-10-12T17:47:49.197Z"
   },
   {
    "duration": 0,
    "start_time": "2022-10-12T17:47:49.198Z"
   },
   {
    "duration": 0,
    "start_time": "2022-10-12T17:47:49.199Z"
   },
   {
    "duration": 0,
    "start_time": "2022-10-12T17:47:49.200Z"
   },
   {
    "duration": 0,
    "start_time": "2022-10-12T17:47:49.201Z"
   },
   {
    "duration": 0,
    "start_time": "2022-10-12T17:47:49.202Z"
   },
   {
    "duration": 0,
    "start_time": "2022-10-12T17:47:49.203Z"
   },
   {
    "duration": 0,
    "start_time": "2022-10-12T17:47:49.204Z"
   },
   {
    "duration": 0,
    "start_time": "2022-10-12T17:47:49.205Z"
   },
   {
    "duration": 0,
    "start_time": "2022-10-12T17:47:49.206Z"
   },
   {
    "duration": 0,
    "start_time": "2022-10-12T17:47:49.207Z"
   },
   {
    "duration": 0,
    "start_time": "2022-10-12T17:47:49.208Z"
   },
   {
    "duration": 0,
    "start_time": "2022-10-12T17:47:49.209Z"
   },
   {
    "duration": 0,
    "start_time": "2022-10-12T17:47:49.211Z"
   },
   {
    "duration": 0,
    "start_time": "2022-10-12T17:47:49.212Z"
   },
   {
    "duration": 0,
    "start_time": "2022-10-12T17:47:49.213Z"
   },
   {
    "duration": 0,
    "start_time": "2022-10-12T17:47:49.214Z"
   },
   {
    "duration": 0,
    "start_time": "2022-10-12T17:47:49.215Z"
   },
   {
    "duration": 0,
    "start_time": "2022-10-12T17:47:49.216Z"
   },
   {
    "duration": 0,
    "start_time": "2022-10-12T17:47:49.217Z"
   },
   {
    "duration": 0,
    "start_time": "2022-10-12T17:47:49.218Z"
   },
   {
    "duration": 0,
    "start_time": "2022-10-12T17:47:49.219Z"
   },
   {
    "duration": 0,
    "start_time": "2022-10-12T17:47:49.220Z"
   },
   {
    "duration": 0,
    "start_time": "2022-10-12T17:47:49.221Z"
   },
   {
    "duration": 0,
    "start_time": "2022-10-12T17:47:49.222Z"
   },
   {
    "duration": 0,
    "start_time": "2022-10-12T17:47:49.285Z"
   },
   {
    "duration": 0,
    "start_time": "2022-10-12T17:47:49.286Z"
   },
   {
    "duration": 0,
    "start_time": "2022-10-12T17:47:49.287Z"
   },
   {
    "duration": 0,
    "start_time": "2022-10-12T17:47:49.288Z"
   },
   {
    "duration": 0,
    "start_time": "2022-10-12T17:47:49.289Z"
   },
   {
    "duration": 0,
    "start_time": "2022-10-12T17:47:49.290Z"
   },
   {
    "duration": 0,
    "start_time": "2022-10-12T17:47:49.291Z"
   },
   {
    "duration": 1,
    "start_time": "2022-10-12T17:47:49.291Z"
   },
   {
    "duration": 0,
    "start_time": "2022-10-12T17:47:49.293Z"
   },
   {
    "duration": 0,
    "start_time": "2022-10-12T17:47:49.293Z"
   },
   {
    "duration": 0,
    "start_time": "2022-10-12T17:47:49.295Z"
   },
   {
    "duration": 0,
    "start_time": "2022-10-12T17:47:49.295Z"
   },
   {
    "duration": 0,
    "start_time": "2022-10-12T17:47:49.296Z"
   },
   {
    "duration": 0,
    "start_time": "2022-10-12T17:47:49.297Z"
   },
   {
    "duration": 0,
    "start_time": "2022-10-12T17:47:49.298Z"
   },
   {
    "duration": 0,
    "start_time": "2022-10-12T17:47:49.299Z"
   },
   {
    "duration": 0,
    "start_time": "2022-10-12T17:47:49.300Z"
   },
   {
    "duration": 0,
    "start_time": "2022-10-12T17:47:49.301Z"
   },
   {
    "duration": 0,
    "start_time": "2022-10-12T17:47:49.302Z"
   },
   {
    "duration": 0,
    "start_time": "2022-10-12T17:47:49.303Z"
   },
   {
    "duration": 0,
    "start_time": "2022-10-12T17:47:49.304Z"
   },
   {
    "duration": 0,
    "start_time": "2022-10-12T17:47:49.305Z"
   },
   {
    "duration": 0,
    "start_time": "2022-10-12T17:47:49.306Z"
   },
   {
    "duration": 0,
    "start_time": "2022-10-12T17:47:49.307Z"
   },
   {
    "duration": 0,
    "start_time": "2022-10-12T17:47:49.308Z"
   },
   {
    "duration": 0,
    "start_time": "2022-10-12T17:47:49.309Z"
   },
   {
    "duration": 0,
    "start_time": "2022-10-12T17:47:49.310Z"
   },
   {
    "duration": 0,
    "start_time": "2022-10-12T17:47:49.311Z"
   },
   {
    "duration": 0,
    "start_time": "2022-10-12T17:47:49.312Z"
   },
   {
    "duration": 0,
    "start_time": "2022-10-12T17:47:49.313Z"
   },
   {
    "duration": 0,
    "start_time": "2022-10-12T17:47:49.314Z"
   },
   {
    "duration": 0,
    "start_time": "2022-10-12T17:47:49.315Z"
   },
   {
    "duration": 0,
    "start_time": "2022-10-12T17:47:49.316Z"
   },
   {
    "duration": 0,
    "start_time": "2022-10-12T17:47:49.317Z"
   },
   {
    "duration": 0,
    "start_time": "2022-10-12T17:47:49.318Z"
   },
   {
    "duration": 0,
    "start_time": "2022-10-12T17:47:49.319Z"
   },
   {
    "duration": 0,
    "start_time": "2022-10-12T17:47:49.320Z"
   },
   {
    "duration": 0,
    "start_time": "2022-10-12T17:47:49.321Z"
   },
   {
    "duration": 0,
    "start_time": "2022-10-12T17:47:49.322Z"
   },
   {
    "duration": 0,
    "start_time": "2022-10-12T17:47:49.323Z"
   },
   {
    "duration": 0,
    "start_time": "2022-10-12T17:47:49.384Z"
   },
   {
    "duration": 0,
    "start_time": "2022-10-12T17:47:49.386Z"
   },
   {
    "duration": 0,
    "start_time": "2022-10-12T17:47:49.387Z"
   },
   {
    "duration": 0,
    "start_time": "2022-10-12T17:47:49.388Z"
   },
   {
    "duration": 0,
    "start_time": "2022-10-12T17:47:49.389Z"
   },
   {
    "duration": 0,
    "start_time": "2022-10-12T17:47:49.390Z"
   },
   {
    "duration": 6023,
    "start_time": "2022-10-12T17:48:24.411Z"
   },
   {
    "duration": 1498,
    "start_time": "2022-10-12T17:48:30.436Z"
   },
   {
    "duration": 2,
    "start_time": "2022-10-12T17:48:31.936Z"
   },
   {
    "duration": 8221,
    "start_time": "2022-10-12T17:48:31.940Z"
   },
   {
    "duration": 54,
    "start_time": "2022-10-12T17:48:40.163Z"
   },
   {
    "duration": 29,
    "start_time": "2022-10-12T17:48:40.219Z"
   },
   {
    "duration": 11,
    "start_time": "2022-10-12T17:48:40.250Z"
   },
   {
    "duration": 11,
    "start_time": "2022-10-12T17:48:40.262Z"
   },
   {
    "duration": 231,
    "start_time": "2022-10-12T17:48:40.274Z"
   },
   {
    "duration": 238,
    "start_time": "2022-10-12T17:48:40.507Z"
   },
   {
    "duration": 218,
    "start_time": "2022-10-12T17:48:40.747Z"
   },
   {
    "duration": 260,
    "start_time": "2022-10-12T17:48:40.967Z"
   },
   {
    "duration": 234,
    "start_time": "2022-10-12T17:48:41.228Z"
   },
   {
    "duration": 241,
    "start_time": "2022-10-12T17:48:41.464Z"
   },
   {
    "duration": 9,
    "start_time": "2022-10-12T17:48:41.707Z"
   },
   {
    "duration": 181,
    "start_time": "2022-10-12T17:48:41.718Z"
   },
   {
    "duration": 167,
    "start_time": "2022-10-12T17:48:41.901Z"
   },
   {
    "duration": 173,
    "start_time": "2022-10-12T17:48:42.070Z"
   },
   {
    "duration": 163,
    "start_time": "2022-10-12T17:48:42.245Z"
   },
   {
    "duration": 199,
    "start_time": "2022-10-12T17:48:42.410Z"
   },
   {
    "duration": 10,
    "start_time": "2022-10-12T17:48:42.610Z"
   },
   {
    "duration": 475,
    "start_time": "2022-10-12T17:48:42.621Z"
   },
   {
    "duration": 85,
    "start_time": "2022-10-12T17:48:43.097Z"
   },
   {
    "duration": 86,
    "start_time": "2022-10-12T17:48:43.184Z"
   },
   {
    "duration": 1010,
    "start_time": "2022-10-12T17:48:43.271Z"
   },
   {
    "duration": 3577,
    "start_time": "2022-10-12T17:48:44.283Z"
   },
   {
    "duration": 2145,
    "start_time": "2022-10-12T17:48:47.862Z"
   },
   {
    "duration": 3380,
    "start_time": "2022-10-12T17:48:50.010Z"
   },
   {
    "duration": 5627,
    "start_time": "2022-10-12T17:48:53.392Z"
   },
   {
    "duration": 3932,
    "start_time": "2022-10-12T17:48:59.020Z"
   },
   {
    "duration": 3018,
    "start_time": "2022-10-12T17:49:02.953Z"
   },
   {
    "duration": 4350,
    "start_time": "2022-10-12T17:49:05.972Z"
   },
   {
    "duration": 9921,
    "start_time": "2022-10-12T17:49:10.323Z"
   },
   {
    "duration": 11904,
    "start_time": "2022-10-12T17:49:20.245Z"
   },
   {
    "duration": 2134,
    "start_time": "2022-10-12T17:49:32.151Z"
   },
   {
    "duration": 32210,
    "start_time": "2022-10-12T17:49:34.286Z"
   },
   {
    "duration": 131,
    "start_time": "2022-10-12T17:50:06.498Z"
   },
   {
    "duration": 65911,
    "start_time": "2022-10-12T17:50:06.631Z"
   },
   {
    "duration": 86,
    "start_time": "2022-10-12T17:51:12.544Z"
   },
   {
    "duration": 256,
    "start_time": "2022-10-12T17:51:12.631Z"
   },
   {
    "duration": 24,
    "start_time": "2022-10-12T17:51:12.888Z"
   },
   {
    "duration": 19,
    "start_time": "2022-10-12T17:51:12.913Z"
   },
   {
    "duration": 18,
    "start_time": "2022-10-12T17:51:12.934Z"
   },
   {
    "duration": 33,
    "start_time": "2022-10-12T17:51:12.953Z"
   },
   {
    "duration": 5,
    "start_time": "2022-10-12T17:51:12.988Z"
   },
   {
    "duration": 23,
    "start_time": "2022-10-12T17:51:12.994Z"
   },
   {
    "duration": 20,
    "start_time": "2022-10-12T17:51:13.019Z"
   },
   {
    "duration": 24,
    "start_time": "2022-10-12T17:51:13.041Z"
   },
   {
    "duration": 19,
    "start_time": "2022-10-12T17:51:13.085Z"
   },
   {
    "duration": 82,
    "start_time": "2022-10-12T17:51:13.105Z"
   },
   {
    "duration": 2,
    "start_time": "2022-10-12T17:51:13.189Z"
   },
   {
    "duration": 180,
    "start_time": "2022-10-12T17:51:13.193Z"
   },
   {
    "duration": 112,
    "start_time": "2022-10-12T17:51:13.375Z"
   },
   {
    "duration": 25,
    "start_time": "2022-10-12T17:51:13.489Z"
   },
   {
    "duration": 77,
    "start_time": "2022-10-12T17:51:13.516Z"
   },
   {
    "duration": 3,
    "start_time": "2022-10-12T17:51:13.595Z"
   },
   {
    "duration": 7,
    "start_time": "2022-10-12T17:51:13.599Z"
   },
   {
    "duration": 20,
    "start_time": "2022-10-12T17:51:13.607Z"
   },
   {
    "duration": 1365,
    "start_time": "2022-10-12T17:51:13.629Z"
   },
   {
    "duration": 163,
    "start_time": "2022-10-12T17:51:14.996Z"
   },
   {
    "duration": 4,
    "start_time": "2022-10-12T17:51:15.161Z"
   },
   {
    "duration": 78,
    "start_time": "2022-10-12T17:51:15.166Z"
   },
   {
    "duration": 0,
    "start_time": "2022-10-12T17:51:15.245Z"
   },
   {
    "duration": 0,
    "start_time": "2022-10-12T17:51:15.246Z"
   },
   {
    "duration": 0,
    "start_time": "2022-10-12T17:51:15.247Z"
   },
   {
    "duration": 0,
    "start_time": "2022-10-12T17:51:15.249Z"
   },
   {
    "duration": 0,
    "start_time": "2022-10-12T17:51:15.250Z"
   },
   {
    "duration": 0,
    "start_time": "2022-10-12T17:51:15.251Z"
   },
   {
    "duration": 0,
    "start_time": "2022-10-12T17:51:15.252Z"
   },
   {
    "duration": 0,
    "start_time": "2022-10-12T17:51:15.253Z"
   },
   {
    "duration": 0,
    "start_time": "2022-10-12T17:51:15.253Z"
   },
   {
    "duration": 0,
    "start_time": "2022-10-12T17:51:15.254Z"
   },
   {
    "duration": 182237,
    "start_time": "2022-10-12T17:53:01.750Z"
   },
   {
    "duration": 35144,
    "start_time": "2022-10-12T17:56:03.989Z"
   },
   {
    "duration": 188257,
    "start_time": "2022-10-12T17:56:39.135Z"
   },
   {
    "duration": 635090,
    "start_time": "2022-10-12T17:59:47.394Z"
   },
   {
    "duration": 27,
    "start_time": "2022-10-12T18:10:22.485Z"
   },
   {
    "duration": 6,
    "start_time": "2022-10-12T18:10:22.514Z"
   },
   {
    "duration": 7,
    "start_time": "2022-10-12T18:11:01.884Z"
   },
   {
    "duration": 111,
    "start_time": "2022-10-12T18:12:05.855Z"
   },
   {
    "duration": 21,
    "start_time": "2022-10-12T18:12:36.490Z"
   },
   {
    "duration": 6,
    "start_time": "2022-10-12T18:17:26.162Z"
   },
   {
    "duration": 21,
    "start_time": "2022-10-12T18:17:37.005Z"
   },
   {
    "duration": 36,
    "start_time": "2022-10-12T18:19:11.790Z"
   },
   {
    "duration": 31,
    "start_time": "2022-10-12T18:19:51.215Z"
   },
   {
    "duration": 31,
    "start_time": "2022-10-12T18:22:16.703Z"
   },
   {
    "duration": 30,
    "start_time": "2022-10-12T18:23:36.743Z"
   },
   {
    "duration": 179179,
    "start_time": "2022-10-12T18:24:54.308Z"
   },
   {
    "duration": 1082464,
    "start_time": "2022-10-12T18:28:34.144Z"
   },
   {
    "duration": 5999,
    "start_time": "2022-10-12T18:49:21.521Z"
   },
   {
    "duration": 1485,
    "start_time": "2022-10-12T18:49:27.523Z"
   },
   {
    "duration": 3,
    "start_time": "2022-10-12T18:49:29.010Z"
   },
   {
    "duration": 8607,
    "start_time": "2022-10-12T18:49:29.014Z"
   },
   {
    "duration": 61,
    "start_time": "2022-10-12T18:49:37.622Z"
   },
   {
    "duration": 21,
    "start_time": "2022-10-12T18:49:37.685Z"
   },
   {
    "duration": 50,
    "start_time": "2022-10-12T18:49:37.708Z"
   },
   {
    "duration": 41,
    "start_time": "2022-10-12T18:49:37.760Z"
   },
   {
    "duration": 245,
    "start_time": "2022-10-12T18:49:37.802Z"
   },
   {
    "duration": 208,
    "start_time": "2022-10-12T18:49:38.049Z"
   },
   {
    "duration": 187,
    "start_time": "2022-10-12T18:49:38.258Z"
   },
   {
    "duration": 221,
    "start_time": "2022-10-12T18:49:38.447Z"
   },
   {
    "duration": 195,
    "start_time": "2022-10-12T18:49:38.669Z"
   },
   {
    "duration": 201,
    "start_time": "2022-10-12T18:49:38.866Z"
   },
   {
    "duration": 11,
    "start_time": "2022-10-12T18:49:39.068Z"
   },
   {
    "duration": 194,
    "start_time": "2022-10-12T18:49:39.081Z"
   },
   {
    "duration": 147,
    "start_time": "2022-10-12T18:49:39.276Z"
   },
   {
    "duration": 157,
    "start_time": "2022-10-12T18:49:39.425Z"
   },
   {
    "duration": 169,
    "start_time": "2022-10-12T18:49:39.583Z"
   },
   {
    "duration": 201,
    "start_time": "2022-10-12T18:49:39.754Z"
   },
   {
    "duration": 8,
    "start_time": "2022-10-12T18:49:39.957Z"
   },
   {
    "duration": 500,
    "start_time": "2022-10-12T18:49:39.967Z"
   },
   {
    "duration": 96,
    "start_time": "2022-10-12T18:49:40.469Z"
   },
   {
    "duration": 90,
    "start_time": "2022-10-12T18:49:40.567Z"
   },
   {
    "duration": 1079,
    "start_time": "2022-10-12T18:49:40.659Z"
   },
   {
    "duration": 3533,
    "start_time": "2022-10-12T18:49:41.740Z"
   },
   {
    "duration": 2203,
    "start_time": "2022-10-12T18:49:45.275Z"
   },
   {
    "duration": 3400,
    "start_time": "2022-10-12T18:49:47.485Z"
   },
   {
    "duration": 5586,
    "start_time": "2022-10-12T18:49:50.887Z"
   },
   {
    "duration": 6712,
    "start_time": "2022-10-12T18:49:56.475Z"
   },
   {
    "duration": 2926,
    "start_time": "2022-10-12T18:50:03.189Z"
   },
   {
    "duration": 4400,
    "start_time": "2022-10-12T18:50:06.117Z"
   },
   {
    "duration": 10968,
    "start_time": "2022-10-12T18:50:10.519Z"
   },
   {
    "duration": 11961,
    "start_time": "2022-10-12T18:50:21.489Z"
   },
   {
    "duration": 2155,
    "start_time": "2022-10-12T18:50:33.452Z"
   },
   {
    "duration": 25864,
    "start_time": "2022-10-12T18:50:35.609Z"
   },
   {
    "duration": 126,
    "start_time": "2022-10-12T18:51:01.474Z"
   },
   {
    "duration": 64837,
    "start_time": "2022-10-12T18:51:01.602Z"
   },
   {
    "duration": 72,
    "start_time": "2022-10-12T18:52:06.441Z"
   },
   {
    "duration": 240,
    "start_time": "2022-10-12T18:52:06.514Z"
   },
   {
    "duration": 23,
    "start_time": "2022-10-12T18:52:06.755Z"
   },
   {
    "duration": 24,
    "start_time": "2022-10-12T18:52:06.779Z"
   },
   {
    "duration": 20,
    "start_time": "2022-10-12T18:52:06.804Z"
   },
   {
    "duration": 15,
    "start_time": "2022-10-12T18:52:06.826Z"
   },
   {
    "duration": 6,
    "start_time": "2022-10-12T18:52:06.843Z"
   },
   {
    "duration": 42,
    "start_time": "2022-10-12T18:52:06.850Z"
   },
   {
    "duration": 18,
    "start_time": "2022-10-12T18:52:06.894Z"
   },
   {
    "duration": 24,
    "start_time": "2022-10-12T18:52:06.914Z"
   },
   {
    "duration": 24,
    "start_time": "2022-10-12T18:52:06.940Z"
   },
   {
    "duration": 82,
    "start_time": "2022-10-12T18:52:06.967Z"
   },
   {
    "duration": 4,
    "start_time": "2022-10-12T18:52:07.051Z"
   },
   {
    "duration": 187,
    "start_time": "2022-10-12T18:52:07.056Z"
   },
   {
    "duration": 111,
    "start_time": "2022-10-12T18:52:07.244Z"
   },
   {
    "duration": 39,
    "start_time": "2022-10-12T18:52:07.356Z"
   },
   {
    "duration": 67,
    "start_time": "2022-10-12T18:52:07.396Z"
   },
   {
    "duration": 3,
    "start_time": "2022-10-12T18:52:07.465Z"
   },
   {
    "duration": 6,
    "start_time": "2022-10-12T18:52:07.469Z"
   },
   {
    "duration": 11,
    "start_time": "2022-10-12T18:52:07.485Z"
   },
   {
    "duration": 1384,
    "start_time": "2022-10-12T18:52:07.497Z"
   },
   {
    "duration": 173,
    "start_time": "2022-10-12T18:52:08.883Z"
   },
   {
    "duration": 4,
    "start_time": "2022-10-12T18:52:09.058Z"
   },
   {
    "duration": 180122,
    "start_time": "2022-10-12T18:52:09.063Z"
   },
   {
    "duration": 34340,
    "start_time": "2022-10-12T18:55:09.187Z"
   },
   {
    "duration": 188025,
    "start_time": "2022-10-12T18:55:43.528Z"
   },
   {
    "duration": 639154,
    "start_time": "2022-10-12T18:58:51.555Z"
   },
   {
    "duration": 6,
    "start_time": "2022-10-12T19:09:30.711Z"
   },
   {
    "duration": 48,
    "start_time": "2022-10-12T19:09:30.718Z"
   },
   {
    "duration": 79,
    "start_time": "2022-10-12T19:09:30.768Z"
   },
   {
    "duration": 0,
    "start_time": "2022-10-12T19:09:30.848Z"
   },
   {
    "duration": 0,
    "start_time": "2022-10-12T19:09:30.849Z"
   },
   {
    "duration": 0,
    "start_time": "2022-10-12T19:09:30.850Z"
   },
   {
    "duration": 407783,
    "start_time": "2022-10-12T19:10:38.867Z"
   },
   {
    "duration": 1059028,
    "start_time": "2022-10-12T19:19:06.038Z"
   },
   {
    "duration": 236,
    "start_time": "2022-10-12T19:38:32.676Z"
   },
   {
    "duration": 409647,
    "start_time": "2022-10-12T19:40:49.235Z"
   },
   {
    "duration": 13,
    "start_time": "2022-10-12T19:52:06.893Z"
   },
   {
    "duration": 13,
    "start_time": "2022-10-12T19:52:55.913Z"
   },
   {
    "duration": 12,
    "start_time": "2022-10-12T19:53:18.034Z"
   },
   {
    "duration": 12,
    "start_time": "2022-10-12T19:53:22.643Z"
   },
   {
    "duration": 4677,
    "start_time": "2022-10-12T19:53:43.260Z"
   },
   {
    "duration": 626435,
    "start_time": "2022-10-12T19:54:41.640Z"
   },
   {
    "duration": 80,
    "start_time": "2022-10-12T20:07:55.819Z"
   },
   {
    "duration": 1553,
    "start_time": "2022-10-12T20:08:11.555Z"
   },
   {
    "duration": 1538,
    "start_time": "2022-10-12T20:08:41.670Z"
   },
   {
    "duration": 259,
    "start_time": "2022-10-12T20:08:59.478Z"
   },
   {
    "duration": 15,
    "start_time": "2022-10-12T20:13:44.729Z"
   },
   {
    "duration": 13,
    "start_time": "2022-10-12T20:14:03.593Z"
   },
   {
    "duration": 5846,
    "start_time": "2022-10-12T20:14:20.823Z"
   },
   {
    "duration": 1533,
    "start_time": "2022-10-12T20:14:26.671Z"
   },
   {
    "duration": 3,
    "start_time": "2022-10-12T20:14:28.205Z"
   },
   {
    "duration": 8268,
    "start_time": "2022-10-12T20:14:28.209Z"
   },
   {
    "duration": 63,
    "start_time": "2022-10-12T20:14:36.479Z"
   },
   {
    "duration": 28,
    "start_time": "2022-10-12T20:14:36.543Z"
   },
   {
    "duration": 12,
    "start_time": "2022-10-12T20:14:36.573Z"
   },
   {
    "duration": 12,
    "start_time": "2022-10-12T20:14:36.587Z"
   },
   {
    "duration": 223,
    "start_time": "2022-10-12T20:14:36.601Z"
   },
   {
    "duration": 216,
    "start_time": "2022-10-12T20:14:36.826Z"
   },
   {
    "duration": 197,
    "start_time": "2022-10-12T20:14:37.044Z"
   },
   {
    "duration": 259,
    "start_time": "2022-10-12T20:14:37.242Z"
   },
   {
    "duration": 227,
    "start_time": "2022-10-12T20:14:37.503Z"
   },
   {
    "duration": 237,
    "start_time": "2022-10-12T20:14:37.732Z"
   },
   {
    "duration": 9,
    "start_time": "2022-10-12T20:14:37.970Z"
   },
   {
    "duration": 197,
    "start_time": "2022-10-12T20:14:37.981Z"
   },
   {
    "duration": 166,
    "start_time": "2022-10-12T20:14:38.179Z"
   },
   {
    "duration": 172,
    "start_time": "2022-10-12T20:14:38.347Z"
   },
   {
    "duration": 169,
    "start_time": "2022-10-12T20:14:38.520Z"
   },
   {
    "duration": 192,
    "start_time": "2022-10-12T20:14:38.690Z"
   },
   {
    "duration": 9,
    "start_time": "2022-10-12T20:14:38.884Z"
   },
   {
    "duration": 440,
    "start_time": "2022-10-12T20:14:38.894Z"
   },
   {
    "duration": 84,
    "start_time": "2022-10-12T20:14:39.336Z"
   },
   {
    "duration": 83,
    "start_time": "2022-10-12T20:14:39.421Z"
   },
   {
    "duration": 997,
    "start_time": "2022-10-12T20:14:39.505Z"
   },
   {
    "duration": 3445,
    "start_time": "2022-10-12T20:14:40.503Z"
   },
   {
    "duration": 2090,
    "start_time": "2022-10-12T20:14:43.950Z"
   },
   {
    "duration": 3389,
    "start_time": "2022-10-12T20:14:46.044Z"
   },
   {
    "duration": 5518,
    "start_time": "2022-10-12T20:14:49.435Z"
   },
   {
    "duration": 3871,
    "start_time": "2022-10-12T20:14:54.955Z"
   },
   {
    "duration": 2917,
    "start_time": "2022-10-12T20:14:58.828Z"
   },
   {
    "duration": 4240,
    "start_time": "2022-10-12T20:15:01.747Z"
   },
   {
    "duration": 9930,
    "start_time": "2022-10-12T20:15:05.989Z"
   },
   {
    "duration": 11630,
    "start_time": "2022-10-12T20:15:15.921Z"
   },
   {
    "duration": 2140,
    "start_time": "2022-10-12T20:15:27.553Z"
   },
   {
    "duration": 31433,
    "start_time": "2022-10-12T20:15:29.695Z"
   },
   {
    "duration": 127,
    "start_time": "2022-10-12T20:16:01.129Z"
   },
   {
    "duration": 63394,
    "start_time": "2022-10-12T20:16:01.258Z"
   },
   {
    "duration": 80,
    "start_time": "2022-10-12T20:17:04.654Z"
   },
   {
    "duration": 234,
    "start_time": "2022-10-12T20:17:04.736Z"
   },
   {
    "duration": 24,
    "start_time": "2022-10-12T20:17:04.971Z"
   },
   {
    "duration": 26,
    "start_time": "2022-10-12T20:17:04.996Z"
   },
   {
    "duration": 33,
    "start_time": "2022-10-12T20:17:05.024Z"
   },
   {
    "duration": 24,
    "start_time": "2022-10-12T20:17:05.059Z"
   },
   {
    "duration": 6,
    "start_time": "2022-10-12T20:17:05.084Z"
   },
   {
    "duration": 34,
    "start_time": "2022-10-12T20:17:05.091Z"
   },
   {
    "duration": 21,
    "start_time": "2022-10-12T20:17:05.126Z"
   },
   {
    "duration": 22,
    "start_time": "2022-10-12T20:17:05.149Z"
   },
   {
    "duration": 22,
    "start_time": "2022-10-12T20:17:05.173Z"
   },
   {
    "duration": 65,
    "start_time": "2022-10-12T20:17:05.196Z"
   },
   {
    "duration": 3,
    "start_time": "2022-10-12T20:17:05.263Z"
   },
   {
    "duration": 199,
    "start_time": "2022-10-12T20:17:05.267Z"
   },
   {
    "duration": 108,
    "start_time": "2022-10-12T20:17:05.467Z"
   },
   {
    "duration": 25,
    "start_time": "2022-10-12T20:17:05.585Z"
   },
   {
    "duration": 75,
    "start_time": "2022-10-12T20:17:05.611Z"
   },
   {
    "duration": 3,
    "start_time": "2022-10-12T20:17:05.688Z"
   },
   {
    "duration": 5,
    "start_time": "2022-10-12T20:17:05.692Z"
   },
   {
    "duration": 19,
    "start_time": "2022-10-12T20:17:05.699Z"
   },
   {
    "duration": 1295,
    "start_time": "2022-10-12T20:17:05.720Z"
   },
   {
    "duration": 142,
    "start_time": "2022-10-12T20:17:07.017Z"
   },
   {
    "duration": 4,
    "start_time": "2022-10-12T20:17:07.161Z"
   },
   {
    "duration": 173426,
    "start_time": "2022-10-12T20:17:07.167Z"
   },
   {
    "duration": 31839,
    "start_time": "2022-10-12T20:20:00.595Z"
   },
   {
    "duration": 184036,
    "start_time": "2022-10-12T20:20:32.435Z"
   },
   {
    "duration": 618640,
    "start_time": "2022-10-12T20:23:36.472Z"
   },
   {
    "duration": 8,
    "start_time": "2022-10-12T20:33:55.114Z"
   },
   {
    "duration": 9,
    "start_time": "2022-10-12T20:33:55.123Z"
   },
   {
    "duration": 76,
    "start_time": "2022-10-12T20:33:55.134Z"
   },
   {
    "duration": 0,
    "start_time": "2022-10-12T20:33:55.211Z"
   },
   {
    "duration": 0,
    "start_time": "2022-10-12T20:33:55.213Z"
   },
   {
    "duration": 0,
    "start_time": "2022-10-12T20:33:55.214Z"
   },
   {
    "duration": 0,
    "start_time": "2022-10-12T20:33:55.215Z"
   },
   {
    "duration": 0,
    "start_time": "2022-10-12T20:33:55.216Z"
   },
   {
    "duration": 387247,
    "start_time": "2022-10-12T20:35:43.708Z"
   },
   {
    "duration": 1563,
    "start_time": "2022-10-12T20:42:10.957Z"
   },
   {
    "duration": 223,
    "start_time": "2022-10-12T20:42:12.522Z"
   },
   {
    "duration": 14,
    "start_time": "2022-10-12T20:42:12.746Z"
   },
   {
    "duration": 0,
    "start_time": "2022-10-12T20:42:12.762Z"
   },
   {
    "duration": 1011980,
    "start_time": "2022-10-12T20:45:32.458Z"
   },
   {
    "duration": 3920,
    "start_time": "2022-10-12T21:02:25.476Z"
   },
   {
    "duration": 0,
    "start_time": "2022-10-12T21:02:29.397Z"
   },
   {
    "duration": 0,
    "start_time": "2022-10-12T21:02:29.399Z"
   },
   {
    "duration": 0,
    "start_time": "2022-10-12T21:02:29.400Z"
   },
   {
    "duration": 0,
    "start_time": "2022-10-12T21:02:29.401Z"
   },
   {
    "duration": 0,
    "start_time": "2022-10-12T21:02:29.402Z"
   },
   {
    "duration": 991,
    "start_time": "2022-10-12T21:14:50.326Z"
   },
   {
    "duration": 4392,
    "start_time": "2022-10-12T21:15:15.128Z"
   },
   {
    "duration": 988,
    "start_time": "2022-10-12T21:17:04.199Z"
   },
   {
    "duration": 42,
    "start_time": "2022-10-12T21:17:58.194Z"
   },
   {
    "duration": 67,
    "start_time": "2022-10-12T21:17:59.757Z"
   },
   {
    "duration": 3,
    "start_time": "2022-10-12T21:18:04.634Z"
   },
   {
    "duration": 11,
    "start_time": "2022-10-12T21:18:05.474Z"
   },
   {
    "duration": 1108,
    "start_time": "2022-10-12T21:18:06.115Z"
   },
   {
    "duration": 117,
    "start_time": "2022-10-12T21:18:12.875Z"
   },
   {
    "duration": 1809,
    "start_time": "2022-10-12T21:18:33.684Z"
   },
   {
    "duration": 1713,
    "start_time": "2022-10-12T21:18:50.014Z"
   },
   {
    "duration": 225,
    "start_time": "2022-10-12T21:18:58.814Z"
   },
   {
    "duration": 1241,
    "start_time": "2022-10-12T21:19:04.254Z"
   },
   {
    "duration": 1130,
    "start_time": "2022-10-12T21:19:13.822Z"
   },
   {
    "duration": 11,
    "start_time": "2022-10-12T21:19:23.399Z"
   },
   {
    "duration": 4,
    "start_time": "2022-10-12T21:20:05.274Z"
   },
   {
    "duration": 14,
    "start_time": "2022-10-12T21:23:00.837Z"
   },
   {
    "duration": 10,
    "start_time": "2022-10-12T21:23:20.598Z"
   },
   {
    "duration": 9,
    "start_time": "2022-10-12T21:23:37.208Z"
   },
   {
    "duration": 1174,
    "start_time": "2022-10-12T21:24:09.426Z"
   },
   {
    "duration": 4,
    "start_time": "2022-10-12T21:24:18.402Z"
   },
   {
    "duration": 37,
    "start_time": "2022-10-12T21:24:39.683Z"
   },
   {
    "duration": 4,
    "start_time": "2022-10-12T21:29:52.568Z"
   },
   {
    "duration": 10,
    "start_time": "2022-10-12T21:30:01.384Z"
   },
   {
    "duration": 11,
    "start_time": "2022-10-12T21:30:45.700Z"
   },
   {
    "duration": 580,
    "start_time": "2022-10-12T21:31:37.119Z"
   },
   {
    "duration": 18,
    "start_time": "2022-10-12T21:32:14.681Z"
   },
   {
    "duration": 4033,
    "start_time": "2022-10-12T21:33:01.477Z"
   },
   {
    "duration": 5789,
    "start_time": "2022-10-12T21:38:48.597Z"
   },
   {
    "duration": 1524,
    "start_time": "2022-10-12T21:38:54.388Z"
   },
   {
    "duration": 3,
    "start_time": "2022-10-12T21:38:55.913Z"
   },
   {
    "duration": 8877,
    "start_time": "2022-10-12T21:38:55.918Z"
   },
   {
    "duration": 60,
    "start_time": "2022-10-12T21:39:04.796Z"
   },
   {
    "duration": 24,
    "start_time": "2022-10-12T21:39:04.858Z"
   },
   {
    "duration": 9,
    "start_time": "2022-10-12T21:39:04.884Z"
   },
   {
    "duration": 10,
    "start_time": "2022-10-12T21:39:04.895Z"
   },
   {
    "duration": 215,
    "start_time": "2022-10-12T21:39:04.906Z"
   },
   {
    "duration": 208,
    "start_time": "2022-10-12T21:39:05.123Z"
   },
   {
    "duration": 185,
    "start_time": "2022-10-12T21:39:05.332Z"
   },
   {
    "duration": 218,
    "start_time": "2022-10-12T21:39:05.519Z"
   },
   {
    "duration": 192,
    "start_time": "2022-10-12T21:39:05.739Z"
   },
   {
    "duration": 201,
    "start_time": "2022-10-12T21:39:05.932Z"
   },
   {
    "duration": 11,
    "start_time": "2022-10-12T21:39:06.134Z"
   },
   {
    "duration": 163,
    "start_time": "2022-10-12T21:39:06.146Z"
   },
   {
    "duration": 142,
    "start_time": "2022-10-12T21:39:06.311Z"
   },
   {
    "duration": 155,
    "start_time": "2022-10-12T21:39:06.456Z"
   },
   {
    "duration": 148,
    "start_time": "2022-10-12T21:39:06.612Z"
   },
   {
    "duration": 171,
    "start_time": "2022-10-12T21:39:06.762Z"
   },
   {
    "duration": 13,
    "start_time": "2022-10-12T21:39:06.935Z"
   },
   {
    "duration": 429,
    "start_time": "2022-10-12T21:39:06.950Z"
   },
   {
    "duration": 80,
    "start_time": "2022-10-12T21:39:07.380Z"
   },
   {
    "duration": 79,
    "start_time": "2022-10-12T21:39:07.461Z"
   },
   {
    "duration": 951,
    "start_time": "2022-10-12T21:39:07.541Z"
   },
   {
    "duration": 3420,
    "start_time": "2022-10-12T21:39:08.494Z"
   },
   {
    "duration": 2104,
    "start_time": "2022-10-12T21:39:11.916Z"
   },
   {
    "duration": 3436,
    "start_time": "2022-10-12T21:39:14.025Z"
   },
   {
    "duration": 5617,
    "start_time": "2022-10-12T21:39:17.462Z"
   },
   {
    "duration": 5990,
    "start_time": "2022-10-12T21:39:23.081Z"
   },
   {
    "duration": 2970,
    "start_time": "2022-10-12T21:39:29.072Z"
   },
   {
    "duration": 4299,
    "start_time": "2022-10-12T21:39:32.044Z"
   },
   {
    "duration": 9823,
    "start_time": "2022-10-12T21:39:36.345Z"
   },
   {
    "duration": 11552,
    "start_time": "2022-10-12T21:39:46.170Z"
   },
   {
    "duration": 2183,
    "start_time": "2022-10-12T21:39:57.723Z"
   },
   {
    "duration": 30778,
    "start_time": "2022-10-12T21:39:59.907Z"
   },
   {
    "duration": 138,
    "start_time": "2022-10-12T21:40:30.687Z"
   },
   {
    "duration": 64048,
    "start_time": "2022-10-12T21:40:30.827Z"
   },
   {
    "duration": 61,
    "start_time": "2022-10-12T21:41:34.885Z"
   },
   {
    "duration": 235,
    "start_time": "2022-10-12T21:41:34.985Z"
   },
   {
    "duration": 25,
    "start_time": "2022-10-12T21:41:35.221Z"
   },
   {
    "duration": 19,
    "start_time": "2022-10-12T21:41:35.248Z"
   },
   {
    "duration": 32,
    "start_time": "2022-10-12T21:41:35.269Z"
   },
   {
    "duration": 24,
    "start_time": "2022-10-12T21:41:35.303Z"
   },
   {
    "duration": 9,
    "start_time": "2022-10-12T21:41:35.329Z"
   },
   {
    "duration": 31,
    "start_time": "2022-10-12T21:41:35.339Z"
   },
   {
    "duration": 27,
    "start_time": "2022-10-12T21:41:35.372Z"
   },
   {
    "duration": 37,
    "start_time": "2022-10-12T21:41:35.400Z"
   },
   {
    "duration": 20,
    "start_time": "2022-10-12T21:41:35.439Z"
   },
   {
    "duration": 75,
    "start_time": "2022-10-12T21:41:35.460Z"
   },
   {
    "duration": 3,
    "start_time": "2022-10-12T21:41:35.536Z"
   },
   {
    "duration": 225,
    "start_time": "2022-10-12T21:41:35.540Z"
   },
   {
    "duration": 121,
    "start_time": "2022-10-12T21:41:35.767Z"
   },
   {
    "duration": 26,
    "start_time": "2022-10-12T21:41:35.889Z"
   },
   {
    "duration": 84,
    "start_time": "2022-10-12T21:41:35.917Z"
   },
   {
    "duration": 4,
    "start_time": "2022-10-12T21:41:36.002Z"
   },
   {
    "duration": 7,
    "start_time": "2022-10-12T21:41:36.008Z"
   },
   {
    "duration": 16,
    "start_time": "2022-10-12T21:41:36.016Z"
   },
   {
    "duration": 1455,
    "start_time": "2022-10-12T21:41:36.034Z"
   },
   {
    "duration": 144,
    "start_time": "2022-10-12T21:41:37.491Z"
   },
   {
    "duration": 1009860,
    "start_time": "2022-10-12T21:41:37.637Z"
   },
   {
    "duration": 115,
    "start_time": "2022-10-12T21:58:27.499Z"
   },
   {
    "duration": 0,
    "start_time": "2022-10-12T21:58:27.616Z"
   },
   {
    "duration": 0,
    "start_time": "2022-10-12T21:58:27.617Z"
   },
   {
    "duration": 0,
    "start_time": "2022-10-12T21:58:27.618Z"
   },
   {
    "duration": 0,
    "start_time": "2022-10-12T21:58:27.619Z"
   },
   {
    "duration": 0,
    "start_time": "2022-10-12T21:58:27.619Z"
   },
   {
    "duration": 0,
    "start_time": "2022-10-12T21:58:27.620Z"
   },
   {
    "duration": 0,
    "start_time": "2022-10-12T21:58:27.621Z"
   },
   {
    "duration": 0,
    "start_time": "2022-10-12T21:58:27.622Z"
   },
   {
    "duration": 16,
    "start_time": "2022-10-12T22:00:28.537Z"
   },
   {
    "duration": 1942,
    "start_time": "2022-10-12T22:02:30.904Z"
   },
   {
    "duration": 7,
    "start_time": "2022-10-12T22:02:48.329Z"
   },
   {
    "duration": 261,
    "start_time": "2022-10-12T22:03:01.178Z"
   },
   {
    "duration": 4,
    "start_time": "2022-10-12T22:06:28.239Z"
   },
   {
    "duration": 13,
    "start_time": "2022-10-12T22:07:24.947Z"
   },
   {
    "duration": 18,
    "start_time": "2022-10-12T22:10:18.431Z"
   },
   {
    "duration": 16,
    "start_time": "2022-10-12T22:10:49.209Z"
   },
   {
    "duration": 1841,
    "start_time": "2022-10-12T22:11:22.372Z"
   },
   {
    "duration": 3555,
    "start_time": "2022-10-12T22:13:51.717Z"
   },
   {
    "duration": 3553,
    "start_time": "2022-10-12T22:15:42.244Z"
   },
   {
    "duration": 127,
    "start_time": "2022-10-12T22:16:50.953Z"
   },
   {
    "duration": 6,
    "start_time": "2022-10-12T22:17:35.172Z"
   },
   {
    "duration": 6,
    "start_time": "2022-10-12T22:17:50.820Z"
   },
   {
    "duration": 1138,
    "start_time": "2022-10-12T22:21:46.030Z"
   },
   {
    "duration": 11,
    "start_time": "2022-10-12T22:22:00.159Z"
   },
   {
    "duration": 10,
    "start_time": "2022-10-12T22:22:49.313Z"
   },
   {
    "duration": 4,
    "start_time": "2022-10-12T22:24:39.968Z"
   },
   {
    "duration": 4,
    "start_time": "2022-10-12T22:24:49.417Z"
   },
   {
    "duration": 1310,
    "start_time": "2022-10-12T22:25:43.309Z"
   },
   {
    "duration": 1685,
    "start_time": "2022-10-12T22:25:55.664Z"
   },
   {
    "duration": 179,
    "start_time": "2022-10-12T22:28:45.736Z"
   },
   {
    "duration": 335,
    "start_time": "2022-10-12T22:28:53.162Z"
   },
   {
    "duration": 330,
    "start_time": "2022-10-12T22:29:17.172Z"
   },
   {
    "duration": 6065,
    "start_time": "2022-10-12T22:29:32.934Z"
   },
   {
    "duration": 1509,
    "start_time": "2022-10-12T22:29:39.001Z"
   },
   {
    "duration": 4,
    "start_time": "2022-10-12T22:29:40.512Z"
   },
   {
    "duration": 8347,
    "start_time": "2022-10-12T22:29:40.518Z"
   },
   {
    "duration": 55,
    "start_time": "2022-10-12T22:29:48.866Z"
   },
   {
    "duration": 22,
    "start_time": "2022-10-12T22:29:48.923Z"
   },
   {
    "duration": 11,
    "start_time": "2022-10-12T22:29:48.946Z"
   },
   {
    "duration": 9,
    "start_time": "2022-10-12T22:29:48.959Z"
   },
   {
    "duration": 207,
    "start_time": "2022-10-12T22:29:48.969Z"
   },
   {
    "duration": 204,
    "start_time": "2022-10-12T22:29:49.178Z"
   },
   {
    "duration": 188,
    "start_time": "2022-10-12T22:29:49.383Z"
   },
   {
    "duration": 219,
    "start_time": "2022-10-12T22:29:49.573Z"
   },
   {
    "duration": 197,
    "start_time": "2022-10-12T22:29:49.793Z"
   },
   {
    "duration": 207,
    "start_time": "2022-10-12T22:29:49.991Z"
   },
   {
    "duration": 10,
    "start_time": "2022-10-12T22:29:50.199Z"
   },
   {
    "duration": 157,
    "start_time": "2022-10-12T22:29:50.210Z"
   },
   {
    "duration": 146,
    "start_time": "2022-10-12T22:29:50.369Z"
   },
   {
    "duration": 161,
    "start_time": "2022-10-12T22:29:50.517Z"
   },
   {
    "duration": 149,
    "start_time": "2022-10-12T22:29:50.679Z"
   },
   {
    "duration": 175,
    "start_time": "2022-10-12T22:29:50.830Z"
   },
   {
    "duration": 9,
    "start_time": "2022-10-12T22:29:51.007Z"
   },
   {
    "duration": 442,
    "start_time": "2022-10-12T22:29:51.017Z"
   },
   {
    "duration": 83,
    "start_time": "2022-10-12T22:29:51.460Z"
   },
   {
    "duration": 79,
    "start_time": "2022-10-12T22:29:51.545Z"
   },
   {
    "duration": 985,
    "start_time": "2022-10-12T22:29:51.626Z"
   },
   {
    "duration": 3491,
    "start_time": "2022-10-12T22:29:52.613Z"
   },
   {
    "duration": 2116,
    "start_time": "2022-10-12T22:29:56.105Z"
   },
   {
    "duration": 3437,
    "start_time": "2022-10-12T22:29:58.226Z"
   },
   {
    "duration": 5644,
    "start_time": "2022-10-12T22:30:01.665Z"
   },
   {
    "duration": 6907,
    "start_time": "2022-10-12T22:30:07.311Z"
   },
   {
    "duration": 2877,
    "start_time": "2022-10-12T22:30:14.220Z"
   },
   {
    "duration": 4178,
    "start_time": "2022-10-12T22:30:17.099Z"
   },
   {
    "duration": 10076,
    "start_time": "2022-10-12T22:30:21.284Z"
   },
   {
    "duration": 11623,
    "start_time": "2022-10-12T22:30:31.362Z"
   },
   {
    "duration": 2114,
    "start_time": "2022-10-12T22:30:42.987Z"
   },
   {
    "duration": 23782,
    "start_time": "2022-10-12T22:30:45.102Z"
   },
   {
    "duration": 131,
    "start_time": "2022-10-12T22:31:08.885Z"
   },
   {
    "duration": 62897,
    "start_time": "2022-10-12T22:31:09.018Z"
   },
   {
    "duration": 98,
    "start_time": "2022-10-12T22:32:11.916Z"
   },
   {
    "duration": 220,
    "start_time": "2022-10-12T22:32:12.015Z"
   },
   {
    "duration": 23,
    "start_time": "2022-10-12T22:32:12.236Z"
   },
   {
    "duration": 31,
    "start_time": "2022-10-12T22:32:12.260Z"
   },
   {
    "duration": 18,
    "start_time": "2022-10-12T22:32:12.292Z"
   },
   {
    "duration": 23,
    "start_time": "2022-10-12T22:32:12.312Z"
   },
   {
    "duration": 12,
    "start_time": "2022-10-12T22:32:12.337Z"
   },
   {
    "duration": 27,
    "start_time": "2022-10-12T22:32:12.351Z"
   },
   {
    "duration": 20,
    "start_time": "2022-10-12T22:32:12.379Z"
   },
   {
    "duration": 28,
    "start_time": "2022-10-12T22:32:12.400Z"
   },
   {
    "duration": 23,
    "start_time": "2022-10-12T22:32:12.430Z"
   },
   {
    "duration": 71,
    "start_time": "2022-10-12T22:32:12.454Z"
   },
   {
    "duration": 2,
    "start_time": "2022-10-12T22:32:12.527Z"
   },
   {
    "duration": 207,
    "start_time": "2022-10-12T22:32:12.530Z"
   },
   {
    "duration": 106,
    "start_time": "2022-10-12T22:32:12.738Z"
   },
   {
    "duration": 41,
    "start_time": "2022-10-12T22:32:12.846Z"
   },
   {
    "duration": 63,
    "start_time": "2022-10-12T22:32:12.889Z"
   },
   {
    "duration": 4,
    "start_time": "2022-10-12T22:32:12.954Z"
   },
   {
    "duration": 11,
    "start_time": "2022-10-12T22:32:12.959Z"
   },
   {
    "duration": 18,
    "start_time": "2022-10-12T22:32:12.972Z"
   },
   {
    "duration": 1308,
    "start_time": "2022-10-12T22:32:12.991Z"
   },
   {
    "duration": 138,
    "start_time": "2022-10-12T22:32:14.301Z"
   },
   {
    "duration": 1003160,
    "start_time": "2022-10-12T22:32:14.440Z"
   },
   {
    "duration": 15,
    "start_time": "2022-10-12T22:48:57.602Z"
   },
   {
    "duration": 1819,
    "start_time": "2022-10-12T22:48:57.618Z"
   },
   {
    "duration": 263,
    "start_time": "2022-10-12T22:48:59.439Z"
   },
   {
    "duration": 1260,
    "start_time": "2022-10-12T22:48:59.704Z"
   },
   {
    "duration": 4,
    "start_time": "2022-10-12T22:49:00.966Z"
   },
   {
    "duration": 341,
    "start_time": "2022-10-12T22:49:00.971Z"
   },
   {
    "duration": 112,
    "start_time": "2022-10-12T22:49:01.315Z"
   },
   {
    "duration": 0,
    "start_time": "2022-10-12T22:49:01.429Z"
   },
   {
    "duration": 118,
    "start_time": "2022-10-12T22:57:22.869Z"
   },
   {
    "duration": 2828,
    "start_time": "2022-10-12T22:57:32.694Z"
   },
   {
    "duration": 5884,
    "start_time": "2022-10-12T22:58:47.955Z"
   },
   {
    "duration": 1454,
    "start_time": "2022-10-12T22:58:53.841Z"
   },
   {
    "duration": 3,
    "start_time": "2022-10-12T22:58:55.296Z"
   },
   {
    "duration": 8239,
    "start_time": "2022-10-12T22:58:55.301Z"
   },
   {
    "duration": 59,
    "start_time": "2022-10-12T22:59:03.542Z"
   },
   {
    "duration": 25,
    "start_time": "2022-10-12T22:59:03.602Z"
   },
   {
    "duration": 10,
    "start_time": "2022-10-12T22:59:03.628Z"
   },
   {
    "duration": 10,
    "start_time": "2022-10-12T22:59:03.640Z"
   },
   {
    "duration": 209,
    "start_time": "2022-10-12T22:59:03.651Z"
   },
   {
    "duration": 205,
    "start_time": "2022-10-12T22:59:03.863Z"
   },
   {
    "duration": 187,
    "start_time": "2022-10-12T22:59:04.069Z"
   },
   {
    "duration": 219,
    "start_time": "2022-10-12T22:59:04.257Z"
   },
   {
    "duration": 190,
    "start_time": "2022-10-12T22:59:04.478Z"
   },
   {
    "duration": 196,
    "start_time": "2022-10-12T22:59:04.670Z"
   },
   {
    "duration": 10,
    "start_time": "2022-10-12T22:59:04.868Z"
   },
   {
    "duration": 160,
    "start_time": "2022-10-12T22:59:04.880Z"
   },
   {
    "duration": 140,
    "start_time": "2022-10-12T22:59:05.042Z"
   },
   {
    "duration": 153,
    "start_time": "2022-10-12T22:59:05.184Z"
   },
   {
    "duration": 147,
    "start_time": "2022-10-12T22:59:05.339Z"
   },
   {
    "duration": 171,
    "start_time": "2022-10-12T22:59:05.487Z"
   },
   {
    "duration": 9,
    "start_time": "2022-10-12T22:59:05.660Z"
   },
   {
    "duration": 418,
    "start_time": "2022-10-12T22:59:05.671Z"
   },
   {
    "duration": 79,
    "start_time": "2022-10-12T22:59:06.091Z"
   },
   {
    "duration": 77,
    "start_time": "2022-10-12T22:59:06.172Z"
   },
   {
    "duration": 2248,
    "start_time": "2022-10-12T22:59:06.252Z"
   },
   {
    "duration": 3375,
    "start_time": "2022-10-12T22:59:08.502Z"
   },
   {
    "duration": 2051,
    "start_time": "2022-10-12T22:59:11.879Z"
   },
   {
    "duration": 3422,
    "start_time": "2022-10-12T22:59:13.934Z"
   },
   {
    "duration": 5449,
    "start_time": "2022-10-12T22:59:17.358Z"
   },
   {
    "duration": 3951,
    "start_time": "2022-10-12T22:59:22.808Z"
   },
   {
    "duration": 2903,
    "start_time": "2022-10-12T22:59:26.761Z"
   },
   {
    "duration": 4260,
    "start_time": "2022-10-12T22:59:29.666Z"
   },
   {
    "duration": 9687,
    "start_time": "2022-10-12T22:59:33.927Z"
   },
   {
    "duration": 11708,
    "start_time": "2022-10-12T22:59:43.615Z"
   },
   {
    "duration": 2126,
    "start_time": "2022-10-12T22:59:55.325Z"
   },
   {
    "duration": 32053,
    "start_time": "2022-10-12T22:59:57.452Z"
   },
   {
    "duration": 129,
    "start_time": "2022-10-12T23:00:29.506Z"
   },
   {
    "duration": 62700,
    "start_time": "2022-10-12T23:00:29.636Z"
   },
   {
    "duration": 86,
    "start_time": "2022-10-12T23:01:32.338Z"
   },
   {
    "duration": 241,
    "start_time": "2022-10-12T23:01:32.426Z"
   },
   {
    "duration": 25,
    "start_time": "2022-10-12T23:01:32.668Z"
   },
   {
    "duration": 32,
    "start_time": "2022-10-12T23:01:32.695Z"
   },
   {
    "duration": 31,
    "start_time": "2022-10-12T23:01:32.729Z"
   },
   {
    "duration": 43,
    "start_time": "2022-10-12T23:01:32.761Z"
   },
   {
    "duration": 10,
    "start_time": "2022-10-12T23:01:32.806Z"
   },
   {
    "duration": 34,
    "start_time": "2022-10-12T23:01:32.817Z"
   },
   {
    "duration": 29,
    "start_time": "2022-10-12T23:01:32.853Z"
   },
   {
    "duration": 34,
    "start_time": "2022-10-12T23:01:32.884Z"
   },
   {
    "duration": 36,
    "start_time": "2022-10-12T23:01:32.919Z"
   },
   {
    "duration": 79,
    "start_time": "2022-10-12T23:01:32.956Z"
   },
   {
    "duration": 3,
    "start_time": "2022-10-12T23:01:33.037Z"
   },
   {
    "duration": 210,
    "start_time": "2022-10-12T23:01:33.042Z"
   },
   {
    "duration": 110,
    "start_time": "2022-10-12T23:01:33.254Z"
   },
   {
    "duration": 37,
    "start_time": "2022-10-12T23:01:33.366Z"
   },
   {
    "duration": 66,
    "start_time": "2022-10-12T23:01:33.405Z"
   },
   {
    "duration": 12,
    "start_time": "2022-10-12T23:01:33.473Z"
   },
   {
    "duration": 18,
    "start_time": "2022-10-12T23:01:33.487Z"
   },
   {
    "duration": 29,
    "start_time": "2022-10-12T23:01:33.507Z"
   },
   {
    "duration": 1318,
    "start_time": "2022-10-12T23:01:33.537Z"
   },
   {
    "duration": 143,
    "start_time": "2022-10-12T23:01:34.857Z"
   },
   {
    "duration": 1007109,
    "start_time": "2022-10-12T23:01:35.001Z"
   },
   {
    "duration": 15,
    "start_time": "2022-10-12T23:18:22.112Z"
   },
   {
    "duration": 1687,
    "start_time": "2022-10-12T23:18:22.128Z"
   },
   {
    "duration": 224,
    "start_time": "2022-10-12T23:18:23.817Z"
   },
   {
    "duration": 122,
    "start_time": "2022-10-12T23:18:24.043Z"
   },
   {
    "duration": 0,
    "start_time": "2022-10-12T23:18:24.168Z"
   },
   {
    "duration": 2727,
    "start_time": "2022-10-12T23:19:46.695Z"
   },
   {
    "duration": 10,
    "start_time": "2022-10-12T23:19:57.615Z"
   },
   {
    "duration": 9778,
    "start_time": "2022-10-12T23:20:15.081Z"
   },
   {
    "duration": 943,
    "start_time": "2022-10-12T23:20:51.308Z"
   },
   {
    "duration": 64,
    "start_time": "2022-10-12T23:21:02.403Z"
   },
   {
    "duration": 21,
    "start_time": "2022-10-12T23:22:13.271Z"
   },
   {
    "duration": 2872,
    "start_time": "2022-10-12T23:22:43.121Z"
   },
   {
    "duration": 21,
    "start_time": "2022-10-12T23:23:46.662Z"
   },
   {
    "duration": 22,
    "start_time": "2022-10-12T23:25:04.803Z"
   },
   {
    "duration": 2699,
    "start_time": "2022-10-12T23:32:26.951Z"
   },
   {
    "duration": 7922,
    "start_time": "2022-10-12T23:32:42.327Z"
   },
   {
    "duration": 2193,
    "start_time": "2022-10-12T23:32:50.251Z"
   },
   {
    "duration": 3,
    "start_time": "2022-10-12T23:32:52.445Z"
   },
   {
    "duration": 8203,
    "start_time": "2022-10-12T23:32:52.450Z"
   },
   {
    "duration": 54,
    "start_time": "2022-10-12T23:33:00.655Z"
   },
   {
    "duration": 27,
    "start_time": "2022-10-12T23:33:00.710Z"
   },
   {
    "duration": 10,
    "start_time": "2022-10-12T23:33:00.738Z"
   },
   {
    "duration": 10,
    "start_time": "2022-10-12T23:33:00.749Z"
   },
   {
    "duration": 213,
    "start_time": "2022-10-12T23:33:00.760Z"
   },
   {
    "duration": 205,
    "start_time": "2022-10-12T23:33:00.975Z"
   },
   {
    "duration": 185,
    "start_time": "2022-10-12T23:33:01.181Z"
   },
   {
    "duration": 217,
    "start_time": "2022-10-12T23:33:01.367Z"
   },
   {
    "duration": 191,
    "start_time": "2022-10-12T23:33:01.586Z"
   },
   {
    "duration": 202,
    "start_time": "2022-10-12T23:33:01.778Z"
   },
   {
    "duration": 10,
    "start_time": "2022-10-12T23:33:01.981Z"
   },
   {
    "duration": 168,
    "start_time": "2022-10-12T23:33:01.992Z"
   },
   {
    "duration": 142,
    "start_time": "2022-10-12T23:33:02.162Z"
   },
   {
    "duration": 152,
    "start_time": "2022-10-12T23:33:02.306Z"
   },
   {
    "duration": 146,
    "start_time": "2022-10-12T23:33:02.459Z"
   },
   {
    "duration": 167,
    "start_time": "2022-10-12T23:33:02.606Z"
   },
   {
    "duration": 9,
    "start_time": "2022-10-12T23:33:02.775Z"
   },
   {
    "duration": 415,
    "start_time": "2022-10-12T23:33:02.785Z"
   },
   {
    "duration": 90,
    "start_time": "2022-10-12T23:33:03.202Z"
   },
   {
    "duration": 89,
    "start_time": "2022-10-12T23:33:03.294Z"
   },
   {
    "duration": 2949,
    "start_time": "2022-10-12T23:33:03.385Z"
   },
   {
    "duration": 3543,
    "start_time": "2022-10-12T23:33:06.336Z"
   },
   {
    "duration": 2141,
    "start_time": "2022-10-12T23:33:09.884Z"
   },
   {
    "duration": 3788,
    "start_time": "2022-10-12T23:33:12.028Z"
   },
   {
    "duration": 5502,
    "start_time": "2022-10-12T23:33:15.818Z"
   },
   {
    "duration": 4046,
    "start_time": "2022-10-12T23:33:21.322Z"
   },
   {
    "duration": 2937,
    "start_time": "2022-10-12T23:33:25.370Z"
   },
   {
    "duration": 4411,
    "start_time": "2022-10-12T23:33:28.308Z"
   },
   {
    "duration": 9476,
    "start_time": "2022-10-12T23:33:32.721Z"
   },
   {
    "duration": 11590,
    "start_time": "2022-10-12T23:33:42.198Z"
   },
   {
    "duration": 2143,
    "start_time": "2022-10-12T23:33:53.790Z"
   },
   {
    "duration": 26889,
    "start_time": "2022-10-12T23:33:55.934Z"
   },
   {
    "duration": 136,
    "start_time": "2022-10-12T23:34:22.825Z"
   },
   {
    "duration": 63798,
    "start_time": "2022-10-12T23:34:22.963Z"
   },
   {
    "duration": 73,
    "start_time": "2022-10-12T23:35:26.763Z"
   },
   {
    "duration": 263,
    "start_time": "2022-10-12T23:35:26.838Z"
   },
   {
    "duration": 23,
    "start_time": "2022-10-12T23:35:27.103Z"
   },
   {
    "duration": 21,
    "start_time": "2022-10-12T23:35:27.127Z"
   },
   {
    "duration": 19,
    "start_time": "2022-10-12T23:35:27.149Z"
   },
   {
    "duration": 18,
    "start_time": "2022-10-12T23:35:27.185Z"
   },
   {
    "duration": 9,
    "start_time": "2022-10-12T23:35:27.204Z"
   },
   {
    "duration": 24,
    "start_time": "2022-10-12T23:35:27.215Z"
   },
   {
    "duration": 20,
    "start_time": "2022-10-12T23:35:27.241Z"
   },
   {
    "duration": 45,
    "start_time": "2022-10-12T23:35:27.262Z"
   },
   {
    "duration": 20,
    "start_time": "2022-10-12T23:35:27.309Z"
   },
   {
    "duration": 77,
    "start_time": "2022-10-12T23:35:27.330Z"
   },
   {
    "duration": 3,
    "start_time": "2022-10-12T23:35:27.409Z"
   },
   {
    "duration": 213,
    "start_time": "2022-10-12T23:35:27.414Z"
   },
   {
    "duration": 112,
    "start_time": "2022-10-12T23:35:27.629Z"
   },
   {
    "duration": 29,
    "start_time": "2022-10-12T23:35:27.743Z"
   },
   {
    "duration": 79,
    "start_time": "2022-10-12T23:35:27.773Z"
   },
   {
    "duration": 4,
    "start_time": "2022-10-12T23:35:27.854Z"
   },
   {
    "duration": 11,
    "start_time": "2022-10-12T23:35:27.859Z"
   },
   {
    "duration": 23,
    "start_time": "2022-10-12T23:35:27.871Z"
   },
   {
    "duration": 865,
    "start_time": "2022-10-12T23:35:27.895Z"
   },
   {
    "duration": 136,
    "start_time": "2022-10-12T23:35:28.762Z"
   },
   {
    "duration": 999310,
    "start_time": "2022-10-12T23:35:28.900Z"
   },
   {
    "duration": 14,
    "start_time": "2022-10-12T23:52:08.212Z"
   },
   {
    "duration": 1740,
    "start_time": "2022-10-12T23:52:08.228Z"
   },
   {
    "duration": 257,
    "start_time": "2022-10-12T23:52:09.969Z"
   },
   {
    "duration": 2389,
    "start_time": "2022-10-12T23:52:10.228Z"
   },
   {
    "duration": 0,
    "start_time": "2022-10-12T23:52:12.618Z"
   },
   {
    "duration": 6,
    "start_time": "2022-10-12T23:53:28.745Z"
   },
   {
    "duration": 1738,
    "start_time": "2022-10-12T23:53:35.993Z"
   },
   {
    "duration": 1749,
    "start_time": "2022-10-12T23:54:18.364Z"
   },
   {
    "duration": 14130,
    "start_time": "2022-10-12T23:59:54.482Z"
   },
   {
    "duration": 9220,
    "start_time": "2022-10-13T00:00:35.028Z"
   },
   {
    "duration": 9331,
    "start_time": "2022-10-13T00:02:25.643Z"
   },
   {
    "duration": 7451,
    "start_time": "2022-10-13T00:02:54.213Z"
   },
   {
    "duration": 9370,
    "start_time": "2022-10-13T00:03:54.601Z"
   },
   {
    "duration": 9006,
    "start_time": "2022-10-13T00:04:40.853Z"
   },
   {
    "duration": 9900,
    "start_time": "2022-10-13T00:05:32.888Z"
   },
   {
    "duration": 9848,
    "start_time": "2022-10-13T00:05:55.129Z"
   },
   {
    "duration": 9157,
    "start_time": "2022-10-13T00:06:15.378Z"
   },
   {
    "duration": 22647,
    "start_time": "2022-10-13T00:16:04.744Z"
   },
   {
    "duration": 11,
    "start_time": "2022-10-13T00:20:27.601Z"
   },
   {
    "duration": 9438,
    "start_time": "2022-10-13T00:21:34.686Z"
   },
   {
    "duration": 200,
    "start_time": "2022-10-13T00:22:18.905Z"
   },
   {
    "duration": 9240,
    "start_time": "2022-10-13T00:22:29.937Z"
   },
   {
    "duration": 164,
    "start_time": "2022-10-13T00:22:51.122Z"
   },
   {
    "duration": 87,
    "start_time": "2022-10-13T00:23:40.229Z"
   },
   {
    "duration": 178,
    "start_time": "2022-10-13T00:23:55.942Z"
   },
   {
    "duration": 202,
    "start_time": "2022-10-13T00:25:36.437Z"
   },
   {
    "duration": 167,
    "start_time": "2022-10-13T00:25:42.430Z"
   },
   {
    "duration": 167,
    "start_time": "2022-10-13T00:25:53.343Z"
   },
   {
    "duration": 12,
    "start_time": "2022-10-13T00:28:49.658Z"
   },
   {
    "duration": 4449,
    "start_time": "2022-10-13T00:29:10.260Z"
   },
   {
    "duration": 9269,
    "start_time": "2022-10-13T00:30:38.129Z"
   },
   {
    "duration": 78,
    "start_time": "2022-10-13T00:30:47.400Z"
   },
   {
    "duration": 4590,
    "start_time": "2022-10-13T00:31:01.050Z"
   },
   {
    "duration": 10699,
    "start_time": "2022-10-13T00:40:26.271Z"
   },
   {
    "duration": 14609,
    "start_time": "2022-10-13T00:41:03.185Z"
   },
   {
    "duration": 13612,
    "start_time": "2022-10-13T00:42:15.870Z"
   },
   {
    "duration": 9183,
    "start_time": "2022-10-13T00:43:02.762Z"
   },
   {
    "duration": 473,
    "start_time": "2022-10-13T00:43:12.722Z"
   },
   {
    "duration": 9,
    "start_time": "2022-10-13T01:01:52.394Z"
   },
   {
    "duration": 1811,
    "start_time": "2022-10-13T01:04:45.654Z"
   },
   {
    "duration": 7737,
    "start_time": "2022-10-13T01:04:54.578Z"
   },
   {
    "duration": 2208,
    "start_time": "2022-10-13T01:05:02.317Z"
   },
   {
    "duration": 3,
    "start_time": "2022-10-13T01:05:04.526Z"
   },
   {
    "duration": 7598,
    "start_time": "2022-10-13T01:05:04.530Z"
   },
   {
    "duration": 59,
    "start_time": "2022-10-13T01:05:12.129Z"
   },
   {
    "duration": 23,
    "start_time": "2022-10-13T01:05:12.189Z"
   },
   {
    "duration": 10,
    "start_time": "2022-10-13T01:05:12.214Z"
   },
   {
    "duration": 10,
    "start_time": "2022-10-13T01:05:12.225Z"
   },
   {
    "duration": 209,
    "start_time": "2022-10-13T01:05:12.237Z"
   },
   {
    "duration": 203,
    "start_time": "2022-10-13T01:05:12.448Z"
   },
   {
    "duration": 185,
    "start_time": "2022-10-13T01:05:12.653Z"
   },
   {
    "duration": 218,
    "start_time": "2022-10-13T01:05:12.840Z"
   },
   {
    "duration": 191,
    "start_time": "2022-10-13T01:05:13.060Z"
   },
   {
    "duration": 198,
    "start_time": "2022-10-13T01:05:13.252Z"
   },
   {
    "duration": 9,
    "start_time": "2022-10-13T01:05:13.452Z"
   },
   {
    "duration": 159,
    "start_time": "2022-10-13T01:05:13.463Z"
   },
   {
    "duration": 143,
    "start_time": "2022-10-13T01:05:13.623Z"
   },
   {
    "duration": 155,
    "start_time": "2022-10-13T01:05:13.768Z"
   },
   {
    "duration": 153,
    "start_time": "2022-10-13T01:05:13.925Z"
   },
   {
    "duration": 171,
    "start_time": "2022-10-13T01:05:14.079Z"
   },
   {
    "duration": 9,
    "start_time": "2022-10-13T01:05:14.252Z"
   },
   {
    "duration": 437,
    "start_time": "2022-10-13T01:05:14.263Z"
   },
   {
    "duration": 81,
    "start_time": "2022-10-13T01:05:14.702Z"
   },
   {
    "duration": 80,
    "start_time": "2022-10-13T01:05:14.784Z"
   },
   {
    "duration": 953,
    "start_time": "2022-10-13T01:05:14.865Z"
   },
   {
    "duration": 3576,
    "start_time": "2022-10-13T01:05:15.820Z"
   },
   {
    "duration": 2135,
    "start_time": "2022-10-13T01:05:19.398Z"
   },
   {
    "duration": 3468,
    "start_time": "2022-10-13T01:05:21.537Z"
   },
   {
    "duration": 5566,
    "start_time": "2022-10-13T01:05:25.007Z"
   },
   {
    "duration": 9182,
    "start_time": "2022-10-13T01:05:30.575Z"
   },
   {
    "duration": 2879,
    "start_time": "2022-10-13T01:05:39.759Z"
   },
   {
    "duration": 4410,
    "start_time": "2022-10-13T01:05:42.640Z"
   },
   {
    "duration": 9449,
    "start_time": "2022-10-13T01:05:47.052Z"
   },
   {
    "duration": 11614,
    "start_time": "2022-10-13T01:05:56.503Z"
   },
   {
    "duration": 2167,
    "start_time": "2022-10-13T01:06:08.118Z"
   },
   {
    "duration": 23537,
    "start_time": "2022-10-13T01:06:10.286Z"
   },
   {
    "duration": 142,
    "start_time": "2022-10-13T01:06:33.825Z"
   },
   {
    "duration": 64210,
    "start_time": "2022-10-13T01:06:33.968Z"
   },
   {
    "duration": 62,
    "start_time": "2022-10-13T01:07:38.180Z"
   },
   {
    "duration": 264,
    "start_time": "2022-10-13T01:07:38.244Z"
   },
   {
    "duration": 24,
    "start_time": "2022-10-13T01:07:38.509Z"
   },
   {
    "duration": 23,
    "start_time": "2022-10-13T01:07:38.534Z"
   },
   {
    "duration": 29,
    "start_time": "2022-10-13T01:07:38.558Z"
   },
   {
    "duration": 14,
    "start_time": "2022-10-13T01:07:38.589Z"
   },
   {
    "duration": 7,
    "start_time": "2022-10-13T01:07:38.605Z"
   },
   {
    "duration": 25,
    "start_time": "2022-10-13T01:07:38.613Z"
   },
   {
    "duration": 19,
    "start_time": "2022-10-13T01:07:38.639Z"
   },
   {
    "duration": 43,
    "start_time": "2022-10-13T01:07:38.660Z"
   },
   {
    "duration": 18,
    "start_time": "2022-10-13T01:07:38.705Z"
   },
   {
    "duration": 75,
    "start_time": "2022-10-13T01:07:38.725Z"
   },
   {
    "duration": 3,
    "start_time": "2022-10-13T01:07:38.802Z"
   },
   {
    "duration": 204,
    "start_time": "2022-10-13T01:07:38.806Z"
   },
   {
    "duration": 131,
    "start_time": "2022-10-13T01:07:39.012Z"
   },
   {
    "duration": 27,
    "start_time": "2022-10-13T01:07:39.145Z"
   },
   {
    "duration": 68,
    "start_time": "2022-10-13T01:07:39.184Z"
   },
   {
    "duration": 4,
    "start_time": "2022-10-13T01:07:39.253Z"
   },
   {
    "duration": 14,
    "start_time": "2022-10-13T01:07:39.258Z"
   },
   {
    "duration": 17,
    "start_time": "2022-10-13T01:07:39.273Z"
   },
   {
    "duration": 880,
    "start_time": "2022-10-13T01:07:39.292Z"
   },
   {
    "duration": 143,
    "start_time": "2022-10-13T01:07:40.173Z"
   },
   {
    "duration": 1025145,
    "start_time": "2022-10-13T01:07:40.318Z"
   },
   {
    "duration": 15,
    "start_time": "2022-10-13T01:24:45.464Z"
   },
   {
    "duration": 1706,
    "start_time": "2022-10-13T01:24:45.481Z"
   },
   {
    "duration": 260,
    "start_time": "2022-10-13T01:24:47.189Z"
   },
   {
    "duration": 9701,
    "start_time": "2022-10-13T01:24:47.451Z"
   },
   {
    "duration": 511,
    "start_time": "2022-10-13T01:24:57.154Z"
   },
   {
    "duration": 158,
    "start_time": "2022-10-13T01:24:57.667Z"
   },
   {
    "duration": 0,
    "start_time": "2022-10-13T01:24:57.827Z"
   },
   {
    "duration": 3938,
    "start_time": "2022-10-13T01:25:28.858Z"
   },
   {
    "duration": 9,
    "start_time": "2022-10-13T01:25:41.253Z"
   }
  ],
  "kernelspec": {
   "display_name": "Python 3 (ipykernel)",
   "language": "python",
   "name": "python3"
  },
  "language_info": {
   "codemirror_mode": {
    "name": "ipython",
    "version": 3
   },
   "file_extension": ".py",
   "mimetype": "text/x-python",
   "name": "python",
   "nbconvert_exporter": "python",
   "pygments_lexer": "ipython3",
   "version": "3.9.12"
  },
  "toc": {
   "base_numbering": 1,
   "nav_menu": {},
   "number_sections": false,
   "sideBar": true,
   "skip_h1_title": false,
   "title_cell": "",
   "title_sidebar": "Содержание",
   "toc_cell": true,
   "toc_position": {},
   "toc_section_display": true,
   "toc_window_display": false
  }
 },
 "nbformat": 4,
 "nbformat_minor": 5
}
