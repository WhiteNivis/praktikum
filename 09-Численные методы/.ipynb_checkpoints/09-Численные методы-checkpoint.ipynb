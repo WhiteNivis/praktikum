{
 "cells": [
  {
   "cell_type": "markdown",
   "metadata": {},
   "source": [
    "# Определение стоимости автомобилей"
   ]
  },
  {
   "cell_type": "markdown",
   "metadata": {},
   "source": [
    "Сервис по продаже автомобилей с пробегом «Не бит, не крашен» разрабатывает приложение для привлечения новых клиентов. В нашем распоряжении исторические данные: технические характеристики, комплектации и цены автомобилей. Требуется построить модель для определения стоимости. \n",
    "\n",
    "Заказчику важны:\n",
    "\n",
    "- качество предсказания (RMSE < 2500);\n",
    "- скорость предсказания;\n",
    "- время обучения.\n",
    "\n",
    "<font color='green'>Цель</font>\n",
    "\n",
    "Выбрать оптимальную модель для предсказания цены автомобиля с учетом требований заказчика.\n",
    "\n",
    "<font color='green'>Задачи</font>\n",
    "\n",
    "- исследовать данные;\n",
    "- подготовить данные;\n",
    "- обучить модели;\n",
    "- проанализировать результаты;\n",
    "- выбрать оптимальную модель;\n",
    "\n",
    "<font color='green'>Файлы</font>\n",
    "\n",
    "- `autos.csv`\n",
    "\n",
    "<font color='green'>Признаки</font>\n",
    "\n",
    "- `DateCrawled` — дата скачивания анкеты из базы;\n",
    "- `VehicleType` — тип автомобильного кузова;\n",
    "- `RegistrationYear` — год регистрации автомобиля;\n",
    "- `Gearbox` — тип коробки передач;\n",
    "- `Power` — мощность (л. с.);\n",
    "- `Model` — модель автомобиля;\n",
    "- `Kilometer` — пробег (км);\n",
    "- `RegistrationMonth` — месяц регистрации автомобиля;\n",
    "- `FuelType` — тип топлива;\n",
    "- `Brand` — марка автомобиля;\n",
    "- `NotRepaired` — была машина в ремонте или нет;\n",
    "- `DateCreated` — дата создания анкеты;\n",
    "- `NumberOfPictures` — количество фотографий автомобиля;\n",
    "- `PostalCode` — почтовый индекс владельца анкеты (пользователя);\n",
    "- `LastSeen` — дата последней активности пользователя.\n",
    "\n",
    "<font color='green'>Целевой признак</font>\n",
    "\n",
    "- `Price` - цена (евро).\n",
    "\n",
    "<font color='green'>Содержание</font>"
   ]
  },
  {
   "cell_type": "markdown",
   "metadata": {
    "toc": true
   },
   "source": [
    "<h1><span class=\"tocSkip\"></span></h1>\n",
    "<div class=\"toc\"><ul class=\"toc-item\"><li><span><a href=\"#Подготовка-данных\" data-toc-modified-id=\"Подготовка-данных-1\"><span class=\"toc-item-num\">1&nbsp;&nbsp;</span>Подготовка данных</a></span><ul class=\"toc-item\"><li><span><a href=\"#Загрузка-и-знакомство-с-данными\" data-toc-modified-id=\"Загрузка-и-знакомство-с-данными-1.1\"><span class=\"toc-item-num\">1.1&nbsp;&nbsp;</span>Загрузка и знакомство с данными</a></span></li><li><span><a href=\"#Обработка-пропусков\" data-toc-modified-id=\"Обработка-пропусков-1.2\"><span class=\"toc-item-num\">1.2&nbsp;&nbsp;</span>Обработка пропусков</a></span></li><li><span><a href=\"#Анализ-данных\" data-toc-modified-id=\"Анализ-данных-1.3\"><span class=\"toc-item-num\">1.3&nbsp;&nbsp;</span>Анализ данных</a></span></li><li><span><a href=\"#Разделение-данных-на-выборки\" data-toc-modified-id=\"Разделение-данных-на-выборки-1.4\"><span class=\"toc-item-num\">1.4&nbsp;&nbsp;</span>Разделение данных на выборки</a></span></li><li><span><a href=\"#OHE-и-масштабирование-признаков\" data-toc-modified-id=\"OHE-и-масштабирование-признаков-1.5\"><span class=\"toc-item-num\">1.5&nbsp;&nbsp;</span>OHE и масштабирование признаков</a></span></li></ul></li><li><span><a href=\"#Обучение-моделей\" data-toc-modified-id=\"Обучение-моделей-2\"><span class=\"toc-item-num\">2&nbsp;&nbsp;</span>Обучение моделей</a></span><ul class=\"toc-item\"><li><span><a href=\"#LinearRegression\" data-toc-modified-id=\"LinearRegression-2.1\"><span class=\"toc-item-num\">2.1&nbsp;&nbsp;</span>LinearRegression</a></span></li><li><span><a href=\"#DecisionTreeRegressor\" data-toc-modified-id=\"DecisionTreeRegressor-2.2\"><span class=\"toc-item-num\">2.2&nbsp;&nbsp;</span>DecisionTreeRegressor</a></span></li><li><span><a href=\"#CatBoost\" data-toc-modified-id=\"CatBoost-2.3\"><span class=\"toc-item-num\">2.3&nbsp;&nbsp;</span>CatBoost</a></span></li><li><span><a href=\"#LGBMRegressor\" data-toc-modified-id=\"LGBMRegressor-2.4\"><span class=\"toc-item-num\">2.4&nbsp;&nbsp;</span>LGBMRegressor</a></span></li><li><span><a href=\"#Искусственная-модель\" data-toc-modified-id=\"Искусственная-модель-2.5\"><span class=\"toc-item-num\">2.5&nbsp;&nbsp;</span>Искусственная модель</a></span></li></ul></li><li><span><a href=\"#Анализ-моделей\" data-toc-modified-id=\"Анализ-моделей-3\"><span class=\"toc-item-num\">3&nbsp;&nbsp;</span>Анализ моделей</a></span></li></ul></div>"
   ]
  },
  {
   "cell_type": "markdown",
   "metadata": {},
   "source": [
    "<div class=\"alert alert-success\">\n",
    "<b>Комментарий ревьюера:</b> ✔️Здорово, что вместе с названием есть описание проекта и представление!.</div>"
   ]
  },
  {
   "cell_type": "markdown",
   "metadata": {},
   "source": [
    "## Подготовка данных"
   ]
  },
  {
   "cell_type": "code",
   "execution_count": 1,
   "metadata": {},
   "outputs": [],
   "source": [
    "import pandas as pd\n",
    "import numpy as np\n",
    "import time\n",
    "\n",
    "from sklearn.linear_model import LinearRegression\n",
    "from catboost import CatBoostRegressor\n",
    "from lightgbm import LGBMRegressor\n",
    "from sklearn.tree import DecisionTreeRegressor\n",
    "\n",
    "from sklearn.model_selection import train_test_split, GridSearchCV\n",
    "from sklearn.metrics import  mean_squared_error\n",
    "from sklearn.preprocessing import StandardScaler\n",
    "from sklearn.dummy import  DummyRegressor\n",
    "from sklearn.preprocessing import OneHotEncoder\n",
    "from sklearn.compose import ColumnTransformer\n",
    "\n",
    "import sweetviz as sv\n",
    "import seaborn as sns\n",
    "import matplotlib.pyplot as plt\n",
    "%matplotlib inline\n",
    "\n",
    "import warnings\n",
    "warnings.filterwarnings(\"ignore\", category=FutureWarning)"
   ]
  },
  {
   "cell_type": "markdown",
   "metadata": {},
   "source": [
    "### Загрузка и знакомство с данными"
   ]
  },
  {
   "cell_type": "code",
   "execution_count": 2,
   "metadata": {},
   "outputs": [],
   "source": [
    "data = pd.read_csv('/ML/datasets/autos.csv')"
   ]
  },
  {
   "cell_type": "code",
   "execution_count": 3,
   "metadata": {},
   "outputs": [
    {
     "data": {
      "text/html": [
       "<div>\n",
       "<style scoped>\n",
       "    .dataframe tbody tr th:only-of-type {\n",
       "        vertical-align: middle;\n",
       "    }\n",
       "\n",
       "    .dataframe tbody tr th {\n",
       "        vertical-align: top;\n",
       "    }\n",
       "\n",
       "    .dataframe thead th {\n",
       "        text-align: right;\n",
       "    }\n",
       "</style>\n",
       "<table border=\"1\" class=\"dataframe\">\n",
       "  <thead>\n",
       "    <tr style=\"text-align: right;\">\n",
       "      <th></th>\n",
       "      <th>0</th>\n",
       "      <th>1</th>\n",
       "      <th>2</th>\n",
       "      <th>3</th>\n",
       "      <th>4</th>\n",
       "    </tr>\n",
       "  </thead>\n",
       "  <tbody>\n",
       "    <tr>\n",
       "      <th>DateCrawled</th>\n",
       "      <td>2016-03-24 11:52:17</td>\n",
       "      <td>2016-03-24 10:58:45</td>\n",
       "      <td>2016-03-14 12:52:21</td>\n",
       "      <td>2016-03-17 16:54:04</td>\n",
       "      <td>2016-03-31 17:25:20</td>\n",
       "    </tr>\n",
       "    <tr>\n",
       "      <th>Price</th>\n",
       "      <td>480</td>\n",
       "      <td>18300</td>\n",
       "      <td>9800</td>\n",
       "      <td>1500</td>\n",
       "      <td>3600</td>\n",
       "    </tr>\n",
       "    <tr>\n",
       "      <th>VehicleType</th>\n",
       "      <td>NaN</td>\n",
       "      <td>coupe</td>\n",
       "      <td>suv</td>\n",
       "      <td>small</td>\n",
       "      <td>small</td>\n",
       "    </tr>\n",
       "    <tr>\n",
       "      <th>RegistrationYear</th>\n",
       "      <td>1993</td>\n",
       "      <td>2011</td>\n",
       "      <td>2004</td>\n",
       "      <td>2001</td>\n",
       "      <td>2008</td>\n",
       "    </tr>\n",
       "    <tr>\n",
       "      <th>Gearbox</th>\n",
       "      <td>manual</td>\n",
       "      <td>manual</td>\n",
       "      <td>auto</td>\n",
       "      <td>manual</td>\n",
       "      <td>manual</td>\n",
       "    </tr>\n",
       "    <tr>\n",
       "      <th>Power</th>\n",
       "      <td>0</td>\n",
       "      <td>190</td>\n",
       "      <td>163</td>\n",
       "      <td>75</td>\n",
       "      <td>69</td>\n",
       "    </tr>\n",
       "    <tr>\n",
       "      <th>Model</th>\n",
       "      <td>golf</td>\n",
       "      <td>NaN</td>\n",
       "      <td>grand</td>\n",
       "      <td>golf</td>\n",
       "      <td>fabia</td>\n",
       "    </tr>\n",
       "    <tr>\n",
       "      <th>Kilometer</th>\n",
       "      <td>150000</td>\n",
       "      <td>125000</td>\n",
       "      <td>125000</td>\n",
       "      <td>150000</td>\n",
       "      <td>90000</td>\n",
       "    </tr>\n",
       "    <tr>\n",
       "      <th>RegistrationMonth</th>\n",
       "      <td>0</td>\n",
       "      <td>5</td>\n",
       "      <td>8</td>\n",
       "      <td>6</td>\n",
       "      <td>7</td>\n",
       "    </tr>\n",
       "    <tr>\n",
       "      <th>FuelType</th>\n",
       "      <td>petrol</td>\n",
       "      <td>gasoline</td>\n",
       "      <td>gasoline</td>\n",
       "      <td>petrol</td>\n",
       "      <td>gasoline</td>\n",
       "    </tr>\n",
       "    <tr>\n",
       "      <th>Brand</th>\n",
       "      <td>volkswagen</td>\n",
       "      <td>audi</td>\n",
       "      <td>jeep</td>\n",
       "      <td>volkswagen</td>\n",
       "      <td>skoda</td>\n",
       "    </tr>\n",
       "    <tr>\n",
       "      <th>NotRepaired</th>\n",
       "      <td>NaN</td>\n",
       "      <td>yes</td>\n",
       "      <td>NaN</td>\n",
       "      <td>no</td>\n",
       "      <td>no</td>\n",
       "    </tr>\n",
       "    <tr>\n",
       "      <th>DateCreated</th>\n",
       "      <td>2016-03-24 00:00:00</td>\n",
       "      <td>2016-03-24 00:00:00</td>\n",
       "      <td>2016-03-14 00:00:00</td>\n",
       "      <td>2016-03-17 00:00:00</td>\n",
       "      <td>2016-03-31 00:00:00</td>\n",
       "    </tr>\n",
       "    <tr>\n",
       "      <th>NumberOfPictures</th>\n",
       "      <td>0</td>\n",
       "      <td>0</td>\n",
       "      <td>0</td>\n",
       "      <td>0</td>\n",
       "      <td>0</td>\n",
       "    </tr>\n",
       "    <tr>\n",
       "      <th>PostalCode</th>\n",
       "      <td>70435</td>\n",
       "      <td>66954</td>\n",
       "      <td>90480</td>\n",
       "      <td>91074</td>\n",
       "      <td>60437</td>\n",
       "    </tr>\n",
       "    <tr>\n",
       "      <th>LastSeen</th>\n",
       "      <td>2016-04-07 03:16:57</td>\n",
       "      <td>2016-04-07 01:46:50</td>\n",
       "      <td>2016-04-05 12:47:46</td>\n",
       "      <td>2016-03-17 17:40:17</td>\n",
       "      <td>2016-04-06 10:17:21</td>\n",
       "    </tr>\n",
       "  </tbody>\n",
       "</table>\n",
       "</div>"
      ],
      "text/plain": [
       "                                     0                    1  \\\n",
       "DateCrawled        2016-03-24 11:52:17  2016-03-24 10:58:45   \n",
       "Price                              480                18300   \n",
       "VehicleType                        NaN                coupe   \n",
       "RegistrationYear                  1993                 2011   \n",
       "Gearbox                         manual               manual   \n",
       "Power                                0                  190   \n",
       "Model                             golf                  NaN   \n",
       "Kilometer                       150000               125000   \n",
       "RegistrationMonth                    0                    5   \n",
       "FuelType                        petrol             gasoline   \n",
       "Brand                       volkswagen                 audi   \n",
       "NotRepaired                        NaN                  yes   \n",
       "DateCreated        2016-03-24 00:00:00  2016-03-24 00:00:00   \n",
       "NumberOfPictures                     0                    0   \n",
       "PostalCode                       70435                66954   \n",
       "LastSeen           2016-04-07 03:16:57  2016-04-07 01:46:50   \n",
       "\n",
       "                                     2                    3  \\\n",
       "DateCrawled        2016-03-14 12:52:21  2016-03-17 16:54:04   \n",
       "Price                             9800                 1500   \n",
       "VehicleType                        suv                small   \n",
       "RegistrationYear                  2004                 2001   \n",
       "Gearbox                           auto               manual   \n",
       "Power                              163                   75   \n",
       "Model                            grand                 golf   \n",
       "Kilometer                       125000               150000   \n",
       "RegistrationMonth                    8                    6   \n",
       "FuelType                      gasoline               petrol   \n",
       "Brand                             jeep           volkswagen   \n",
       "NotRepaired                        NaN                   no   \n",
       "DateCreated        2016-03-14 00:00:00  2016-03-17 00:00:00   \n",
       "NumberOfPictures                     0                    0   \n",
       "PostalCode                       90480                91074   \n",
       "LastSeen           2016-04-05 12:47:46  2016-03-17 17:40:17   \n",
       "\n",
       "                                     4  \n",
       "DateCrawled        2016-03-31 17:25:20  \n",
       "Price                             3600  \n",
       "VehicleType                      small  \n",
       "RegistrationYear                  2008  \n",
       "Gearbox                         manual  \n",
       "Power                               69  \n",
       "Model                            fabia  \n",
       "Kilometer                        90000  \n",
       "RegistrationMonth                    7  \n",
       "FuelType                      gasoline  \n",
       "Brand                            skoda  \n",
       "NotRepaired                         no  \n",
       "DateCreated        2016-03-31 00:00:00  \n",
       "NumberOfPictures                     0  \n",
       "PostalCode                       60437  \n",
       "LastSeen           2016-04-06 10:17:21  "
      ]
     },
     "execution_count": 3,
     "metadata": {},
     "output_type": "execute_result"
    }
   ],
   "source": [
    "data.head().T"
   ]
  },
  {
   "cell_type": "code",
   "execution_count": 4,
   "metadata": {},
   "outputs": [
    {
     "name": "stdout",
     "output_type": "stream",
     "text": [
      "<class 'pandas.core.frame.DataFrame'>\n",
      "RangeIndex: 354369 entries, 0 to 354368\n",
      "Data columns (total 16 columns):\n",
      " #   Column             Non-Null Count   Dtype \n",
      "---  ------             --------------   ----- \n",
      " 0   DateCrawled        354369 non-null  object\n",
      " 1   Price              354369 non-null  int64 \n",
      " 2   VehicleType        316879 non-null  object\n",
      " 3   RegistrationYear   354369 non-null  int64 \n",
      " 4   Gearbox            334536 non-null  object\n",
      " 5   Power              354369 non-null  int64 \n",
      " 6   Model              334664 non-null  object\n",
      " 7   Kilometer          354369 non-null  int64 \n",
      " 8   RegistrationMonth  354369 non-null  int64 \n",
      " 9   FuelType           321474 non-null  object\n",
      " 10  Brand              354369 non-null  object\n",
      " 11  NotRepaired        283215 non-null  object\n",
      " 12  DateCreated        354369 non-null  object\n",
      " 13  NumberOfPictures   354369 non-null  int64 \n",
      " 14  PostalCode         354369 non-null  int64 \n",
      " 15  LastSeen           354369 non-null  object\n",
      "dtypes: int64(7), object(9)\n",
      "memory usage: 43.3+ MB\n"
     ]
    }
   ],
   "source": [
    "data.info()"
   ]
  },
  {
   "cell_type": "code",
   "execution_count": 5,
   "metadata": {},
   "outputs": [
    {
     "data": {
      "text/html": [
       "<div>\n",
       "<style scoped>\n",
       "    .dataframe tbody tr th:only-of-type {\n",
       "        vertical-align: middle;\n",
       "    }\n",
       "\n",
       "    .dataframe tbody tr th {\n",
       "        vertical-align: top;\n",
       "    }\n",
       "\n",
       "    .dataframe thead th {\n",
       "        text-align: right;\n",
       "    }\n",
       "</style>\n",
       "<table border=\"1\" class=\"dataframe\">\n",
       "  <thead>\n",
       "    <tr style=\"text-align: right;\">\n",
       "      <th></th>\n",
       "      <th>Price</th>\n",
       "      <th>RegistrationYear</th>\n",
       "      <th>Power</th>\n",
       "      <th>Kilometer</th>\n",
       "      <th>RegistrationMonth</th>\n",
       "      <th>NumberOfPictures</th>\n",
       "      <th>PostalCode</th>\n",
       "    </tr>\n",
       "  </thead>\n",
       "  <tbody>\n",
       "    <tr>\n",
       "      <th>count</th>\n",
       "      <td>354369.000000</td>\n",
       "      <td>354369.000000</td>\n",
       "      <td>354369.000000</td>\n",
       "      <td>354369.000000</td>\n",
       "      <td>354369.000000</td>\n",
       "      <td>354369.0</td>\n",
       "      <td>354369.000000</td>\n",
       "    </tr>\n",
       "    <tr>\n",
       "      <th>mean</th>\n",
       "      <td>4416.656776</td>\n",
       "      <td>2004.234448</td>\n",
       "      <td>110.094337</td>\n",
       "      <td>128211.172535</td>\n",
       "      <td>5.714645</td>\n",
       "      <td>0.0</td>\n",
       "      <td>50508.689087</td>\n",
       "    </tr>\n",
       "    <tr>\n",
       "      <th>std</th>\n",
       "      <td>4514.158514</td>\n",
       "      <td>90.227958</td>\n",
       "      <td>189.850405</td>\n",
       "      <td>37905.341530</td>\n",
       "      <td>3.726421</td>\n",
       "      <td>0.0</td>\n",
       "      <td>25783.096248</td>\n",
       "    </tr>\n",
       "    <tr>\n",
       "      <th>min</th>\n",
       "      <td>0.000000</td>\n",
       "      <td>1000.000000</td>\n",
       "      <td>0.000000</td>\n",
       "      <td>5000.000000</td>\n",
       "      <td>0.000000</td>\n",
       "      <td>0.0</td>\n",
       "      <td>1067.000000</td>\n",
       "    </tr>\n",
       "    <tr>\n",
       "      <th>25%</th>\n",
       "      <td>1050.000000</td>\n",
       "      <td>1999.000000</td>\n",
       "      <td>69.000000</td>\n",
       "      <td>125000.000000</td>\n",
       "      <td>3.000000</td>\n",
       "      <td>0.0</td>\n",
       "      <td>30165.000000</td>\n",
       "    </tr>\n",
       "    <tr>\n",
       "      <th>50%</th>\n",
       "      <td>2700.000000</td>\n",
       "      <td>2003.000000</td>\n",
       "      <td>105.000000</td>\n",
       "      <td>150000.000000</td>\n",
       "      <td>6.000000</td>\n",
       "      <td>0.0</td>\n",
       "      <td>49413.000000</td>\n",
       "    </tr>\n",
       "    <tr>\n",
       "      <th>75%</th>\n",
       "      <td>6400.000000</td>\n",
       "      <td>2008.000000</td>\n",
       "      <td>143.000000</td>\n",
       "      <td>150000.000000</td>\n",
       "      <td>9.000000</td>\n",
       "      <td>0.0</td>\n",
       "      <td>71083.000000</td>\n",
       "    </tr>\n",
       "    <tr>\n",
       "      <th>max</th>\n",
       "      <td>20000.000000</td>\n",
       "      <td>9999.000000</td>\n",
       "      <td>20000.000000</td>\n",
       "      <td>150000.000000</td>\n",
       "      <td>12.000000</td>\n",
       "      <td>0.0</td>\n",
       "      <td>99998.000000</td>\n",
       "    </tr>\n",
       "  </tbody>\n",
       "</table>\n",
       "</div>"
      ],
      "text/plain": [
       "               Price  RegistrationYear          Power      Kilometer  \\\n",
       "count  354369.000000     354369.000000  354369.000000  354369.000000   \n",
       "mean     4416.656776       2004.234448     110.094337  128211.172535   \n",
       "std      4514.158514         90.227958     189.850405   37905.341530   \n",
       "min         0.000000       1000.000000       0.000000    5000.000000   \n",
       "25%      1050.000000       1999.000000      69.000000  125000.000000   \n",
       "50%      2700.000000       2003.000000     105.000000  150000.000000   \n",
       "75%      6400.000000       2008.000000     143.000000  150000.000000   \n",
       "max     20000.000000       9999.000000   20000.000000  150000.000000   \n",
       "\n",
       "       RegistrationMonth  NumberOfPictures     PostalCode  \n",
       "count      354369.000000          354369.0  354369.000000  \n",
       "mean            5.714645               0.0   50508.689087  \n",
       "std             3.726421               0.0   25783.096248  \n",
       "min             0.000000               0.0    1067.000000  \n",
       "25%             3.000000               0.0   30165.000000  \n",
       "50%             6.000000               0.0   49413.000000  \n",
       "75%             9.000000               0.0   71083.000000  \n",
       "max            12.000000               0.0   99998.000000  "
      ]
     },
     "execution_count": 5,
     "metadata": {},
     "output_type": "execute_result"
    }
   ],
   "source": [
    "data.describe()"
   ]
  },
  {
   "cell_type": "code",
   "execution_count": 6,
   "metadata": {},
   "outputs": [
    {
     "name": "stdout",
     "output_type": "stream",
     "text": [
      "<class 'pandas.core.frame.DataFrame'>\n",
      "RangeIndex: 354369 entries, 0 to 354368\n",
      "Data columns (total 16 columns):\n",
      " #   Column             Non-Null Count   Dtype \n",
      "---  ------             --------------   ----- \n",
      " 0   DateCrawled        354369 non-null  object\n",
      " 1   Price              354369 non-null  int64 \n",
      " 2   VehicleType        316879 non-null  object\n",
      " 3   RegistrationYear   354369 non-null  int64 \n",
      " 4   Gearbox            334536 non-null  object\n",
      " 5   Power              354369 non-null  int64 \n",
      " 6   Model              334664 non-null  object\n",
      " 7   Kilometer          354369 non-null  int64 \n",
      " 8   RegistrationMonth  354369 non-null  int64 \n",
      " 9   FuelType           321474 non-null  object\n",
      " 10  Brand              354369 non-null  object\n",
      " 11  NotRepaired        283215 non-null  object\n",
      " 12  DateCreated        354369 non-null  object\n",
      " 13  NumberOfPictures   354369 non-null  int64 \n",
      " 14  PostalCode         354369 non-null  int64 \n",
      " 15  LastSeen           354369 non-null  object\n",
      "dtypes: int64(7), object(9)\n",
      "memory usage: 43.3+ MB\n"
     ]
    }
   ],
   "source": [
    "data.info()"
   ]
  },
  {
   "cell_type": "markdown",
   "metadata": {},
   "source": [
    "Изменим тип данных у дат."
   ]
  },
  {
   "cell_type": "code",
   "execution_count": 7,
   "metadata": {},
   "outputs": [],
   "source": [
    "data['DateCrawled'] = pd.to_datetime(data['DateCrawled'], format='%Y.%m.%d')\n",
    "data['DateCreated'] = pd.to_datetime(data['DateCreated'], format='%Y.%m.%d')\n",
    "data['LastSeen'] = pd.to_datetime(data['LastSeen'], format='%Y.%m.%d')"
   ]
  },
  {
   "cell_type": "code",
   "execution_count": 8,
   "metadata": {
    "scrolled": true
   },
   "outputs": [
    {
     "data": {
      "application/vnd.jupyter.widget-view+json": {
       "model_id": "854956cb69a248b3810ecfbcac8505e5",
       "version_major": 2,
       "version_minor": 0
      },
      "text/plain": [
       "                                             |          | [  0%]   00:00 -> (? left)"
      ]
     },
     "metadata": {},
     "output_type": "display_data"
    },
    {
     "name": "stdout",
     "output_type": "stream",
     "text": [
      "Report SWEETVIZ_REPORT.html was generated! NOTEBOOK/COLAB USERS: the web browser MAY not pop up, regardless, the report IS saved in your notebook/colab files.\n"
     ]
    }
   ],
   "source": [
    "report = sv.analyze(data)\n",
    "#report.show_notebook()\n",
    "report.show_html()"
   ]
  },
  {
   "cell_type": "markdown",
   "metadata": {},
   "source": [
    "Выявленные проблемы:\n",
    " - в данных присутствуют дубликаты;\n",
    " - есть пропущенные значения;\n",
    " - есть некорректные данные. \n",
    " \n",
    "Достаточно слабая зависимость целевого признака от следующих данных: \n",
    " - RegistrationMonth;\n",
    " - PostalCode;\n",
    " - RegistrationYear;\n",
    " - NumberOfPictures."
   ]
  },
  {
   "cell_type": "markdown",
   "metadata": {},
   "source": [
    "Удалим дубликаты."
   ]
  },
  {
   "cell_type": "code",
   "execution_count": 9,
   "metadata": {},
   "outputs": [
    {
     "name": "stdout",
     "output_type": "stream",
     "text": [
      "0\n"
     ]
    }
   ],
   "source": [
    "data = data.drop_duplicates().reset_index(drop=True) \n",
    "print(data.duplicated().sum())"
   ]
  },
  {
   "cell_type": "markdown",
   "metadata": {},
   "source": [
    "### Обработка пропусков"
   ]
  },
  {
   "cell_type": "markdown",
   "metadata": {},
   "source": [
    "Посмотрим на пропуски."
   ]
  },
  {
   "cell_type": "code",
   "execution_count": 10,
   "metadata": {},
   "outputs": [
    {
     "data": {
      "text/html": [
       "<div>\n",
       "<style scoped>\n",
       "    .dataframe tbody tr th:only-of-type {\n",
       "        vertical-align: middle;\n",
       "    }\n",
       "\n",
       "    .dataframe tbody tr th {\n",
       "        vertical-align: top;\n",
       "    }\n",
       "\n",
       "    .dataframe thead th {\n",
       "        text-align: right;\n",
       "    }\n",
       "</style>\n",
       "<table border=\"1\" class=\"dataframe\">\n",
       "  <thead>\n",
       "    <tr style=\"text-align: right;\">\n",
       "      <th></th>\n",
       "      <th>index</th>\n",
       "      <th>percent_NaN</th>\n",
       "      <th>count_NaN</th>\n",
       "    </tr>\n",
       "  </thead>\n",
       "  <tbody>\n",
       "    <tr>\n",
       "      <th>0</th>\n",
       "      <td>DateCrawled</td>\n",
       "      <td>0.00</td>\n",
       "      <td>0</td>\n",
       "    </tr>\n",
       "    <tr>\n",
       "      <th>1</th>\n",
       "      <td>Price</td>\n",
       "      <td>0.00</td>\n",
       "      <td>0</td>\n",
       "    </tr>\n",
       "    <tr>\n",
       "      <th>2</th>\n",
       "      <td>VehicleType</td>\n",
       "      <td>10.58</td>\n",
       "      <td>37490</td>\n",
       "    </tr>\n",
       "    <tr>\n",
       "      <th>3</th>\n",
       "      <td>RegistrationYear</td>\n",
       "      <td>0.00</td>\n",
       "      <td>0</td>\n",
       "    </tr>\n",
       "    <tr>\n",
       "      <th>4</th>\n",
       "      <td>Gearbox</td>\n",
       "      <td>5.60</td>\n",
       "      <td>19833</td>\n",
       "    </tr>\n",
       "    <tr>\n",
       "      <th>5</th>\n",
       "      <td>Power</td>\n",
       "      <td>0.00</td>\n",
       "      <td>0</td>\n",
       "    </tr>\n",
       "    <tr>\n",
       "      <th>6</th>\n",
       "      <td>Model</td>\n",
       "      <td>5.56</td>\n",
       "      <td>19705</td>\n",
       "    </tr>\n",
       "    <tr>\n",
       "      <th>7</th>\n",
       "      <td>Kilometer</td>\n",
       "      <td>0.00</td>\n",
       "      <td>0</td>\n",
       "    </tr>\n",
       "    <tr>\n",
       "      <th>8</th>\n",
       "      <td>RegistrationMonth</td>\n",
       "      <td>0.00</td>\n",
       "      <td>0</td>\n",
       "    </tr>\n",
       "    <tr>\n",
       "      <th>9</th>\n",
       "      <td>FuelType</td>\n",
       "      <td>9.28</td>\n",
       "      <td>32895</td>\n",
       "    </tr>\n",
       "    <tr>\n",
       "      <th>10</th>\n",
       "      <td>Brand</td>\n",
       "      <td>0.00</td>\n",
       "      <td>0</td>\n",
       "    </tr>\n",
       "    <tr>\n",
       "      <th>11</th>\n",
       "      <td>NotRepaired</td>\n",
       "      <td>20.08</td>\n",
       "      <td>71154</td>\n",
       "    </tr>\n",
       "    <tr>\n",
       "      <th>12</th>\n",
       "      <td>DateCreated</td>\n",
       "      <td>0.00</td>\n",
       "      <td>0</td>\n",
       "    </tr>\n",
       "    <tr>\n",
       "      <th>13</th>\n",
       "      <td>NumberOfPictures</td>\n",
       "      <td>0.00</td>\n",
       "      <td>0</td>\n",
       "    </tr>\n",
       "    <tr>\n",
       "      <th>14</th>\n",
       "      <td>PostalCode</td>\n",
       "      <td>0.00</td>\n",
       "      <td>0</td>\n",
       "    </tr>\n",
       "    <tr>\n",
       "      <th>15</th>\n",
       "      <td>LastSeen</td>\n",
       "      <td>0.00</td>\n",
       "      <td>0</td>\n",
       "    </tr>\n",
       "  </tbody>\n",
       "</table>\n",
       "</div>"
      ],
      "text/plain": [
       "                index  percent_NaN  count_NaN\n",
       "0         DateCrawled         0.00          0\n",
       "1               Price         0.00          0\n",
       "2         VehicleType        10.58      37490\n",
       "3    RegistrationYear         0.00          0\n",
       "4             Gearbox         5.60      19833\n",
       "5               Power         0.00          0\n",
       "6               Model         5.56      19705\n",
       "7           Kilometer         0.00          0\n",
       "8   RegistrationMonth         0.00          0\n",
       "9            FuelType         9.28      32895\n",
       "10              Brand         0.00          0\n",
       "11        NotRepaired        20.08      71154\n",
       "12        DateCreated         0.00          0\n",
       "13   NumberOfPictures         0.00          0\n",
       "14         PostalCode         0.00          0\n",
       "15           LastSeen         0.00          0"
      ]
     },
     "execution_count": 10,
     "metadata": {},
     "output_type": "execute_result"
    }
   ],
   "source": [
    "pd.concat(\n",
    "    [\n",
    "        ((data.isna().mean()*100).round(2)).reset_index().rename(columns={0:'percent_NaN'}),\n",
    "        data.isna().sum().reset_index().rename(columns={0:'count_NaN'})['count_NaN']\n",
    "    ],\n",
    "    axis=1\n",
    ")"
   ]
  },
  {
   "cell_type": "markdown",
   "metadata": {},
   "source": [
    "`VehicleType`:"
   ]
  },
  {
   "cell_type": "code",
   "execution_count": 11,
   "metadata": {},
   "outputs": [
    {
     "data": {
      "text/plain": [
       "sedan          91457\n",
       "small          79830\n",
       "wagon          65165\n",
       "bus            28775\n",
       "convertible    20203\n",
       "coupe          16161\n",
       "suv            11996\n",
       "other           3288\n",
       "Name: VehicleType, dtype: int64"
      ]
     },
     "execution_count": 11,
     "metadata": {},
     "output_type": "execute_result"
    }
   ],
   "source": [
    "data['VehicleType'].value_counts()"
   ]
  },
  {
   "cell_type": "markdown",
   "metadata": {},
   "source": [
    "В столбце `'VehicleType'` доля пропущенных значений 10,58%. Удалять данные не целесообразно, cделать правдоподобное предположение о пропущенных данных нет возможности, поэтому заменим пропуски существующей категорией `'other'`."
   ]
  },
  {
   "cell_type": "code",
   "execution_count": 12,
   "metadata": {},
   "outputs": [],
   "source": [
    "data['VehicleType'] = data['VehicleType'].fillna('other') "
   ]
  },
  {
   "cell_type": "markdown",
   "metadata": {},
   "source": [
    "`Gearbox`:"
   ]
  },
  {
   "cell_type": "code",
   "execution_count": 13,
   "metadata": {},
   "outputs": [
    {
     "data": {
      "text/plain": [
       "manual    268249\n",
       "auto       66283\n",
       "Name: Gearbox, dtype: int64"
      ]
     },
     "execution_count": 13,
     "metadata": {},
     "output_type": "execute_result"
    }
   ],
   "source": [
    "data['Gearbox'].value_counts()"
   ]
  },
  {
   "cell_type": "markdown",
   "metadata": {},
   "source": [
    "В столбце `'Gearbox'` доля пропущенных значений 5,6%. Удалять данные не целесообразно, из бинарной классификации непонятно к какой категории отнесены следующие типы коробки передач: роботизированная, вариативная. Возможно, на эти типы приходится часть пропущенных данных. Заменим пропуски новой категорией `'unknown'`."
   ]
  },
  {
   "cell_type": "code",
   "execution_count": 14,
   "metadata": {},
   "outputs": [],
   "source": [
    "data['Gearbox'] = data['Gearbox'].fillna('unknown')"
   ]
  },
  {
   "cell_type": "markdown",
   "metadata": {},
   "source": [
    "`Model`:"
   ]
  },
  {
   "cell_type": "code",
   "execution_count": 15,
   "metadata": {},
   "outputs": [
    {
     "data": {
      "text/plain": [
       "golf                  29232\n",
       "other                 24420\n",
       "3er                   19761\n",
       "polo                  13066\n",
       "corsa                 12570\n",
       "                      ...  \n",
       "i3                        8\n",
       "serie_3                   4\n",
       "rangerover                4\n",
       "range_rover_evoque        2\n",
       "serie_1                   2\n",
       "Name: Model, Length: 250, dtype: int64"
      ]
     },
     "execution_count": 15,
     "metadata": {},
     "output_type": "execute_result"
    }
   ],
   "source": [
    "data['Model'].value_counts()"
   ]
  },
  {
   "cell_type": "markdown",
   "metadata": {},
   "source": [
    "В столбце `'Model'` доля пропущенных значений 5,56%. Удалять данные не целесообразно, cделать правдоподобное предположение о пропущенных данных нет возможности, поэтому заменим пропуски существующей категорией `'other'`."
   ]
  },
  {
   "cell_type": "code",
   "execution_count": 16,
   "metadata": {},
   "outputs": [],
   "source": [
    "data['Model'] = data['Model'].fillna('other') "
   ]
  },
  {
   "cell_type": "markdown",
   "metadata": {},
   "source": [
    "`FuelType`:"
   ]
  },
  {
   "cell_type": "code",
   "execution_count": 17,
   "metadata": {},
   "outputs": [
    {
     "data": {
      "text/plain": [
       "petrol      216349\n",
       "gasoline     98719\n",
       "lpg           5310\n",
       "cng            565\n",
       "hybrid         233\n",
       "other          204\n",
       "electric        90\n",
       "Name: FuelType, dtype: int64"
      ]
     },
     "execution_count": 17,
     "metadata": {},
     "output_type": "execute_result"
    }
   ],
   "source": [
    "data['FuelType'].value_counts()"
   ]
  },
  {
   "cell_type": "markdown",
   "metadata": {},
   "source": [
    "В столбце `'FuelType'` доля пропущенных значений 9,28%. Удалять данные не целесообразно. Не ясно присутствует ли в классификации дизельное топливо. Заменим пропуски новой категорией `'unknown'`."
   ]
  },
  {
   "cell_type": "code",
   "execution_count": 18,
   "metadata": {},
   "outputs": [],
   "source": [
    "data['FuelType'] = data['FuelType'].fillna('unknown') "
   ]
  },
  {
   "cell_type": "markdown",
   "metadata": {},
   "source": [
    "`NotRepaired`:"
   ]
  },
  {
   "cell_type": "code",
   "execution_count": 19,
   "metadata": {},
   "outputs": [
    {
     "data": {
      "text/plain": [
       "no     247158\n",
       "yes     36053\n",
       "Name: NotRepaired, dtype: int64"
      ]
     },
     "execution_count": 19,
     "metadata": {},
     "output_type": "execute_result"
    }
   ],
   "source": [
    "data['NotRepaired'].value_counts()"
   ]
  },
  {
   "cell_type": "markdown",
   "metadata": {},
   "source": [
    "В столбце `'NotRepaired'` доля пропущенных значений 20,08%. Удалять данные не целесообразно. Из описания данных не понятно что следует считать `ремонтом`, а что нет. Вероятно, часть пропусков обусловленна проблемой различия мелкого и серьезного ремонта. Заменим пропуски новой категорией `'unknown'`."
   ]
  },
  {
   "cell_type": "code",
   "execution_count": 20,
   "metadata": {},
   "outputs": [],
   "source": [
    "data['NotRepaired'] = data['NotRepaired'].fillna('unknown') "
   ]
  },
  {
   "cell_type": "markdown",
   "metadata": {},
   "source": [
    "`Проверка`:"
   ]
  },
  {
   "cell_type": "code",
   "execution_count": 21,
   "metadata": {
    "scrolled": true
   },
   "outputs": [
    {
     "data": {
      "text/plain": [
       "DateCrawled          0\n",
       "Price                0\n",
       "VehicleType          0\n",
       "RegistrationYear     0\n",
       "Gearbox              0\n",
       "Power                0\n",
       "Model                0\n",
       "Kilometer            0\n",
       "RegistrationMonth    0\n",
       "FuelType             0\n",
       "Brand                0\n",
       "NotRepaired          0\n",
       "DateCreated          0\n",
       "NumberOfPictures     0\n",
       "PostalCode           0\n",
       "LastSeen             0\n",
       "dtype: int64"
      ]
     },
     "execution_count": 21,
     "metadata": {},
     "output_type": "execute_result"
    }
   ],
   "source": [
    "data.isnull().sum()"
   ]
  },
  {
   "cell_type": "markdown",
   "metadata": {},
   "source": [
    "### Анализ данных"
   ]
  },
  {
   "cell_type": "markdown",
   "metadata": {},
   "source": [
    "`Price`:"
   ]
  },
  {
   "cell_type": "code",
   "execution_count": 22,
   "metadata": {},
   "outputs": [
    {
     "data": {
      "image/png": "[encoded data removed]",
      "text/plain": [
       "<Figure size 1500x200 with 1 Axes>"
      ]
     },
     "metadata": {},
     "output_type": "display_data"
    },
    {
     "data": {
      "image/png": "[encoded data removed]",
      "text/plain": [
       "<Figure size 1500x500 with 1 Axes>"
      ]
     },
     "metadata": {},
     "output_type": "display_data"
    }
   ],
   "source": [
    "plt.figure(figsize=(15, 2))\n",
    "ax = sns.boxplot(x=data['Price']);\n",
    "ax.set_title('Распределение цен', fontsize=15)\n",
    "ax.set_xlabel('Цена (евро)', fontsize=12)\n",
    "\n",
    "plt.figure(figsize=(15, 5))\n",
    "ax = sns.boxplot(x='VehicleType', y='Price', whis = 1.5, width=0.5, data=data)\n",
    "ax.set_title('Распределение цен в разрезе типа кузова', fontsize=15)\n",
    "ax.set_xlabel('Тип кузова', fontsize=12)\n",
    "ax.set_ylabel('Цена (евро)')\n",
    "ax.title.set_size(15)\n",
    "ax.tick_params(labelsize=12)"
   ]
  },
  {
   "cell_type": "markdown",
   "metadata": {},
   "source": [
    "Не будем относить данные со значением целевого признака > 14500 к вбросам."
   ]
  },
  {
   "cell_type": "code",
   "execution_count": 23,
   "metadata": {},
   "outputs": [
    {
     "data": {
      "text/plain": [
       "13314"
      ]
     },
     "execution_count": 23,
     "metadata": {},
     "output_type": "execute_result"
    }
   ],
   "source": [
    "data['Price'].loc[data['Price'] < 100].count()"
   ]
  },
  {
   "cell_type": "markdown",
   "metadata": {},
   "source": [
    "Около 3,75% значений целевого признака < `100`. Удалим эти данные."
   ]
  },
  {
   "cell_type": "code",
   "execution_count": 24,
   "metadata": {},
   "outputs": [],
   "source": [
    "data = data.loc[data['Price'] >= 100]"
   ]
  },
  {
   "cell_type": "markdown",
   "metadata": {},
   "source": [
    "`RegistrationYear`:"
   ]
  },
  {
   "cell_type": "code",
   "execution_count": 25,
   "metadata": {},
   "outputs": [
    {
     "data": {
      "text/plain": [
       "256530    1000\n",
       "71459     1000\n",
       "325735    1000\n",
       "66198     1000\n",
       "110123    1000\n",
       "          ... \n",
       "306575    9999\n",
       "29426     9999\n",
       "17271     9999\n",
       "227461    9999\n",
       "200524    9999\n",
       "Name: RegistrationYear, Length: 341051, dtype: int64"
      ]
     },
     "execution_count": 25,
     "metadata": {},
     "output_type": "execute_result"
    }
   ],
   "source": [
    "data['RegistrationYear'].sort_values()"
   ]
  },
  {
   "cell_type": "markdown",
   "metadata": {},
   "source": [
    "Исходя из того, что анкеты выгружены в 2016 году, данные по регистрации авто за следующие периоды вероятно следует считать некорректными: "
   ]
  },
  {
   "cell_type": "code",
   "execution_count": 26,
   "metadata": {},
   "outputs": [
    {
     "data": {
      "text/plain": [
       "13764"
      ]
     },
     "execution_count": 26,
     "metadata": {},
     "output_type": "execute_result"
    }
   ],
   "source": [
    "data['RegistrationYear'].loc[(data['RegistrationYear'] > 2016) | (data['RegistrationYear'] <= 1910)].count()"
   ]
  },
  {
   "cell_type": "markdown",
   "metadata": {},
   "source": [
    "Удалим эти данные. Их доля порядка 4% от выборки."
   ]
  },
  {
   "cell_type": "code",
   "execution_count": 27,
   "metadata": {},
   "outputs": [],
   "source": [
    "data = data.loc[(data['RegistrationYear'] <= 2016) & (data['RegistrationYear'] > 1980)]"
   ]
  },
  {
   "cell_type": "markdown",
   "metadata": {},
   "source": [
    "`Power`:"
   ]
  },
  {
   "cell_type": "code",
   "execution_count": 28,
   "metadata": {},
   "outputs": [
    {
     "data": {
      "text/plain": [
       "0        30582\n",
       "75       21931\n",
       "60       14550\n",
       "150      13651\n",
       "101      12359\n",
       "         ...  \n",
       "1625         1\n",
       "17410        1\n",
       "6920         1\n",
       "584          1\n",
       "1241         1\n",
       "Name: Power, Length: 677, dtype: int64"
      ]
     },
     "execution_count": 28,
     "metadata": {},
     "output_type": "execute_result"
    }
   ],
   "source": [
    "data['Power'].value_counts()"
   ]
  },
  {
   "cell_type": "code",
   "execution_count": 29,
   "metadata": {},
   "outputs": [
    {
     "data": {
      "text/plain": [
       "30885"
      ]
     },
     "execution_count": 29,
     "metadata": {},
     "output_type": "execute_result"
    }
   ],
   "source": [
    "data['Power'].loc[(data['Power'] > 620) | (data['Power'] == 0)].count()"
   ]
  },
  {
   "cell_type": "markdown",
   "metadata": {},
   "source": [
    "Данные с мощностью свыше 620 л.с. и 0 л.с удалим."
   ]
  },
  {
   "cell_type": "code",
   "execution_count": 30,
   "metadata": {},
   "outputs": [
    {
     "name": "stdout",
     "output_type": "stream",
     "text": [
      "<class 'pandas.core.frame.DataFrame'>\n",
      "Int64Index: 323838 entries, 0 to 354364\n",
      "Data columns (total 16 columns):\n",
      " #   Column             Non-Null Count   Dtype         \n",
      "---  ------             --------------   -----         \n",
      " 0   DateCrawled        323838 non-null  datetime64[ns]\n",
      " 1   Price              323838 non-null  int64         \n",
      " 2   VehicleType        323838 non-null  object        \n",
      " 3   RegistrationYear   323838 non-null  int64         \n",
      " 4   Gearbox            323838 non-null  object        \n",
      " 5   Power              323838 non-null  int64         \n",
      " 6   Model              323838 non-null  object        \n",
      " 7   Kilometer          323838 non-null  int64         \n",
      " 8   RegistrationMonth  323838 non-null  int64         \n",
      " 9   FuelType           323838 non-null  object        \n",
      " 10  Brand              323838 non-null  object        \n",
      " 11  NotRepaired        323838 non-null  object        \n",
      " 12  DateCreated        323838 non-null  datetime64[ns]\n",
      " 13  NumberOfPictures   323838 non-null  int64         \n",
      " 14  PostalCode         323838 non-null  int64         \n",
      " 15  LastSeen           323838 non-null  datetime64[ns]\n",
      "dtypes: datetime64[ns](3), int64(7), object(6)\n",
      "memory usage: 42.0+ MB\n"
     ]
    }
   ],
   "source": [
    "data.info()"
   ]
  },
  {
   "cell_type": "code",
   "execution_count": 31,
   "metadata": {},
   "outputs": [],
   "source": [
    "data = data.loc[(data['Power'] <= 620) & (data['Power'] > 45)]"
   ]
  },
  {
   "cell_type": "code",
   "execution_count": 32,
   "metadata": {},
   "outputs": [
    {
     "name": "stdout",
     "output_type": "stream",
     "text": [
      "<class 'pandas.core.frame.DataFrame'>\n",
      "Int64Index: 288247 entries, 1 to 354364\n",
      "Data columns (total 16 columns):\n",
      " #   Column             Non-Null Count   Dtype         \n",
      "---  ------             --------------   -----         \n",
      " 0   DateCrawled        288247 non-null  datetime64[ns]\n",
      " 1   Price              288247 non-null  int64         \n",
      " 2   VehicleType        288247 non-null  object        \n",
      " 3   RegistrationYear   288247 non-null  int64         \n",
      " 4   Gearbox            288247 non-null  object        \n",
      " 5   Power              288247 non-null  int64         \n",
      " 6   Model              288247 non-null  object        \n",
      " 7   Kilometer          288247 non-null  int64         \n",
      " 8   RegistrationMonth  288247 non-null  int64         \n",
      " 9   FuelType           288247 non-null  object        \n",
      " 10  Brand              288247 non-null  object        \n",
      " 11  NotRepaired        288247 non-null  object        \n",
      " 12  DateCreated        288247 non-null  datetime64[ns]\n",
      " 13  NumberOfPictures   288247 non-null  int64         \n",
      " 14  PostalCode         288247 non-null  int64         \n",
      " 15  LastSeen           288247 non-null  datetime64[ns]\n",
      "dtypes: datetime64[ns](3), int64(7), object(6)\n",
      "memory usage: 37.4+ MB\n"
     ]
    }
   ],
   "source": [
    "data.info()"
   ]
  },
  {
   "cell_type": "markdown",
   "metadata": {},
   "source": [
    "`RegistrationMonth`:"
   ]
  },
  {
   "cell_type": "code",
   "execution_count": 33,
   "metadata": {},
   "outputs": [
    {
     "data": {
      "text/plain": [
       "3     29707\n",
       "6     26866\n",
       "4     25130\n",
       "5     24993\n",
       "7     23067\n",
       "10    22475\n",
       "12    20767\n",
       "11    20644\n",
       "9     20505\n",
       "1     19561\n",
       "8     19327\n",
       "2     18353\n",
       "0     16852\n",
       "Name: RegistrationMonth, dtype: int64"
      ]
     },
     "execution_count": 33,
     "metadata": {},
     "output_type": "execute_result"
    }
   ],
   "source": [
    "data['RegistrationMonth'].value_counts()"
   ]
  },
  {
   "cell_type": "markdown",
   "metadata": {},
   "source": [
    "Вероятно, нулевые значения соответствуют отсутствующим данным. Месяц регистрации маловероятно связан с ценой автомобиля. Данные можно не использовать."
   ]
  },
  {
   "cell_type": "markdown",
   "metadata": {},
   "source": [
    "`NumberOfPictures`:"
   ]
  },
  {
   "cell_type": "code",
   "execution_count": 34,
   "metadata": {},
   "outputs": [
    {
     "data": {
      "text/plain": [
       "0    288247\n",
       "Name: NumberOfPictures, dtype: int64"
      ]
     },
     "execution_count": 34,
     "metadata": {},
     "output_type": "execute_result"
    }
   ],
   "source": [
    "data['NumberOfPictures'].value_counts()"
   ]
  },
  {
   "cell_type": "markdown",
   "metadata": {},
   "source": [
    "Столбец можно удалить."
   ]
  },
  {
   "cell_type": "code",
   "execution_count": 35,
   "metadata": {},
   "outputs": [],
   "source": [
    "data = data.drop('NumberOfPictures', 1)"
   ]
  },
  {
   "cell_type": "markdown",
   "metadata": {},
   "source": [
    "`DateCrawled`:"
   ]
  },
  {
   "cell_type": "code",
   "execution_count": 36,
   "metadata": {
    "scrolled": true
   },
   "outputs": [
    {
     "data": {
      "text/plain": [
       "count                  288247\n",
       "unique                 232099\n",
       "top       2016-04-02 22:54:55\n",
       "freq                        5\n",
       "first     2016-03-05 14:06:22\n",
       "last      2016-04-07 14:36:58\n",
       "Name: DateCrawled, dtype: object"
      ]
     },
     "execution_count": 36,
     "metadata": {},
     "output_type": "execute_result"
    }
   ],
   "source": [
    "data['DateCrawled'].describe()"
   ]
  },
  {
   "cell_type": "markdown",
   "metadata": {},
   "source": [
    "Анкеты выгружены в период с 05-03-2016 по 07-04-2016. Эти данные с большой долей вероятности не влияют на целевой признак. Не будем использовать их."
   ]
  },
  {
   "cell_type": "markdown",
   "metadata": {},
   "source": [
    "`DateCreated`:"
   ]
  },
  {
   "cell_type": "code",
   "execution_count": 37,
   "metadata": {},
   "outputs": [
    {
     "data": {
      "text/plain": [
       "count                  288247\n",
       "unique                    105\n",
       "top       2016-04-03 00:00:00\n",
       "freq                    11369\n",
       "first     2015-03-20 00:00:00\n",
       "last      2016-04-07 00:00:00\n",
       "Name: DateCreated, dtype: object"
      ]
     },
     "execution_count": 37,
     "metadata": {},
     "output_type": "execute_result"
    }
   ],
   "source": [
    "data['DateCreated'].describe()"
   ]
  },
  {
   "cell_type": "markdown",
   "metadata": {},
   "source": [
    "Анкеты созданы в период с 10-03-2014 по 07-04-2016. Создадим столбew c данными о месяце создания анкеты. Сами данные использовать не будем."
   ]
  },
  {
   "cell_type": "code",
   "execution_count": 38,
   "metadata": {},
   "outputs": [],
   "source": [
    "data['DateCreated_month'] = pd.DatetimeIndex(data['DateCreated']).month "
   ]
  },
  {
   "cell_type": "markdown",
   "metadata": {},
   "source": [
    "`LastSeen`:"
   ]
  },
  {
   "cell_type": "code",
   "execution_count": 39,
   "metadata": {},
   "outputs": [
    {
     "data": {
      "text/plain": [
       "count                  288247\n",
       "unique                 151226\n",
       "top       2016-04-06 13:46:17\n",
       "freq                       15\n",
       "first     2016-03-05 14:15:08\n",
       "last      2016-04-07 14:58:51\n",
       "Name: LastSeen, dtype: object"
      ]
     },
     "execution_count": 39,
     "metadata": {},
     "output_type": "execute_result"
    }
   ],
   "source": [
    "data['LastSeen'].describe()"
   ]
  },
  {
   "cell_type": "markdown",
   "metadata": {},
   "source": [
    "Последняя активность пользователей зарегистрирована в период с 05-03-2016 по 07-04-2016. Эти данные с большой долей вероятности не влияют на целевой признак. Не будем использовать их."
   ]
  },
  {
   "cell_type": "markdown",
   "metadata": {},
   "source": [
    "`PostalCode`:"
   ]
  },
  {
   "cell_type": "code",
   "execution_count": 40,
   "metadata": {},
   "outputs": [
    {
     "data": {
      "text/plain": [
       "8111"
      ]
     },
     "execution_count": 40,
     "metadata": {},
     "output_type": "execute_result"
    }
   ],
   "source": [
    "len(data['PostalCode'].unique())"
   ]
  },
  {
   "cell_type": "markdown",
   "metadata": {},
   "source": [
    "Достаточно много уникальных значений. Не будем учитывать географический фактор в модели."
   ]
  },
  {
   "cell_type": "code",
   "execution_count": 41,
   "metadata": {
    "scrolled": true
   },
   "outputs": [
    {
     "data": {
      "text/html": [
       "<div>\n",
       "<style scoped>\n",
       "    .dataframe tbody tr th:only-of-type {\n",
       "        vertical-align: middle;\n",
       "    }\n",
       "\n",
       "    .dataframe tbody tr th {\n",
       "        vertical-align: top;\n",
       "    }\n",
       "\n",
       "    .dataframe thead th {\n",
       "        text-align: right;\n",
       "    }\n",
       "</style>\n",
       "<table border=\"1\" class=\"dataframe\">\n",
       "  <thead>\n",
       "    <tr style=\"text-align: right;\">\n",
       "      <th></th>\n",
       "      <th>DateCrawled</th>\n",
       "      <th>Price</th>\n",
       "      <th>VehicleType</th>\n",
       "      <th>RegistrationYear</th>\n",
       "      <th>Gearbox</th>\n",
       "      <th>Power</th>\n",
       "      <th>Model</th>\n",
       "      <th>Kilometer</th>\n",
       "      <th>RegistrationMonth</th>\n",
       "      <th>FuelType</th>\n",
       "      <th>Brand</th>\n",
       "      <th>NotRepaired</th>\n",
       "      <th>DateCreated</th>\n",
       "      <th>PostalCode</th>\n",
       "      <th>LastSeen</th>\n",
       "      <th>DateCreated_month</th>\n",
       "    </tr>\n",
       "  </thead>\n",
       "  <tbody>\n",
       "    <tr>\n",
       "      <th>count</th>\n",
       "      <td>288247</td>\n",
       "      <td>288247.000000</td>\n",
       "      <td>288247</td>\n",
       "      <td>288247.000000</td>\n",
       "      <td>288247</td>\n",
       "      <td>288247.000000</td>\n",
       "      <td>288247</td>\n",
       "      <td>288247.000000</td>\n",
       "      <td>288247.000000</td>\n",
       "      <td>288247</td>\n",
       "      <td>288247</td>\n",
       "      <td>288247</td>\n",
       "      <td>288247</td>\n",
       "      <td>288247.000000</td>\n",
       "      <td>288247</td>\n",
       "      <td>288247.000000</td>\n",
       "    </tr>\n",
       "    <tr>\n",
       "      <th>unique</th>\n",
       "      <td>232099</td>\n",
       "      <td>NaN</td>\n",
       "      <td>8</td>\n",
       "      <td>NaN</td>\n",
       "      <td>3</td>\n",
       "      <td>NaN</td>\n",
       "      <td>248</td>\n",
       "      <td>NaN</td>\n",
       "      <td>NaN</td>\n",
       "      <td>8</td>\n",
       "      <td>40</td>\n",
       "      <td>3</td>\n",
       "      <td>105</td>\n",
       "      <td>NaN</td>\n",
       "      <td>151226</td>\n",
       "      <td>NaN</td>\n",
       "    </tr>\n",
       "    <tr>\n",
       "      <th>top</th>\n",
       "      <td>2016-04-02 22:54:55</td>\n",
       "      <td>NaN</td>\n",
       "      <td>sedan</td>\n",
       "      <td>NaN</td>\n",
       "      <td>manual</td>\n",
       "      <td>NaN</td>\n",
       "      <td>other</td>\n",
       "      <td>NaN</td>\n",
       "      <td>NaN</td>\n",
       "      <td>petrol</td>\n",
       "      <td>volkswagen</td>\n",
       "      <td>no</td>\n",
       "      <td>2016-04-03 00:00:00</td>\n",
       "      <td>NaN</td>\n",
       "      <td>2016-04-06 13:46:17</td>\n",
       "      <td>NaN</td>\n",
       "    </tr>\n",
       "    <tr>\n",
       "      <th>freq</th>\n",
       "      <td>5</td>\n",
       "      <td>NaN</td>\n",
       "      <td>81759</td>\n",
       "      <td>NaN</td>\n",
       "      <td>225980</td>\n",
       "      <td>NaN</td>\n",
       "      <td>29045</td>\n",
       "      <td>NaN</td>\n",
       "      <td>NaN</td>\n",
       "      <td>181277</td>\n",
       "      <td>62414</td>\n",
       "      <td>219723</td>\n",
       "      <td>11369</td>\n",
       "      <td>NaN</td>\n",
       "      <td>15</td>\n",
       "      <td>NaN</td>\n",
       "    </tr>\n",
       "    <tr>\n",
       "      <th>first</th>\n",
       "      <td>2016-03-05 14:06:22</td>\n",
       "      <td>NaN</td>\n",
       "      <td>NaN</td>\n",
       "      <td>NaN</td>\n",
       "      <td>NaN</td>\n",
       "      <td>NaN</td>\n",
       "      <td>NaN</td>\n",
       "      <td>NaN</td>\n",
       "      <td>NaN</td>\n",
       "      <td>NaN</td>\n",
       "      <td>NaN</td>\n",
       "      <td>NaN</td>\n",
       "      <td>2015-03-20 00:00:00</td>\n",
       "      <td>NaN</td>\n",
       "      <td>2016-03-05 14:15:08</td>\n",
       "      <td>NaN</td>\n",
       "    </tr>\n",
       "    <tr>\n",
       "      <th>last</th>\n",
       "      <td>2016-04-07 14:36:58</td>\n",
       "      <td>NaN</td>\n",
       "      <td>NaN</td>\n",
       "      <td>NaN</td>\n",
       "      <td>NaN</td>\n",
       "      <td>NaN</td>\n",
       "      <td>NaN</td>\n",
       "      <td>NaN</td>\n",
       "      <td>NaN</td>\n",
       "      <td>NaN</td>\n",
       "      <td>NaN</td>\n",
       "      <td>NaN</td>\n",
       "      <td>2016-04-07 00:00:00</td>\n",
       "      <td>NaN</td>\n",
       "      <td>2016-04-07 14:58:51</td>\n",
       "      <td>NaN</td>\n",
       "    </tr>\n",
       "    <tr>\n",
       "      <th>mean</th>\n",
       "      <td>NaN</td>\n",
       "      <td>4904.300541</td>\n",
       "      <td>NaN</td>\n",
       "      <td>2003.179575</td>\n",
       "      <td>NaN</td>\n",
       "      <td>122.157556</td>\n",
       "      <td>NaN</td>\n",
       "      <td>128673.203884</td>\n",
       "      <td>6.014762</td>\n",
       "      <td>NaN</td>\n",
       "      <td>NaN</td>\n",
       "      <td>NaN</td>\n",
       "      <td>NaN</td>\n",
       "      <td>51320.552380</td>\n",
       "      <td>NaN</td>\n",
       "      <td>3.161063</td>\n",
       "    </tr>\n",
       "    <tr>\n",
       "      <th>std</th>\n",
       "      <td>NaN</td>\n",
       "      <td>4606.305614</td>\n",
       "      <td>NaN</td>\n",
       "      <td>5.813787</td>\n",
       "      <td>NaN</td>\n",
       "      <td>53.200043</td>\n",
       "      <td>NaN</td>\n",
       "      <td>36381.602002</td>\n",
       "      <td>3.578117</td>\n",
       "      <td>NaN</td>\n",
       "      <td>NaN</td>\n",
       "      <td>NaN</td>\n",
       "      <td>NaN</td>\n",
       "      <td>25767.133543</td>\n",
       "      <td>NaN</td>\n",
       "      <td>0.378141</td>\n",
       "    </tr>\n",
       "    <tr>\n",
       "      <th>min</th>\n",
       "      <td>NaN</td>\n",
       "      <td>100.000000</td>\n",
       "      <td>NaN</td>\n",
       "      <td>1981.000000</td>\n",
       "      <td>NaN</td>\n",
       "      <td>46.000000</td>\n",
       "      <td>NaN</td>\n",
       "      <td>5000.000000</td>\n",
       "      <td>0.000000</td>\n",
       "      <td>NaN</td>\n",
       "      <td>NaN</td>\n",
       "      <td>NaN</td>\n",
       "      <td>NaN</td>\n",
       "      <td>1067.000000</td>\n",
       "      <td>NaN</td>\n",
       "      <td>1.000000</td>\n",
       "    </tr>\n",
       "    <tr>\n",
       "      <th>25%</th>\n",
       "      <td>NaN</td>\n",
       "      <td>1399.000000</td>\n",
       "      <td>NaN</td>\n",
       "      <td>1999.000000</td>\n",
       "      <td>NaN</td>\n",
       "      <td>80.000000</td>\n",
       "      <td>NaN</td>\n",
       "      <td>125000.000000</td>\n",
       "      <td>3.000000</td>\n",
       "      <td>NaN</td>\n",
       "      <td>NaN</td>\n",
       "      <td>NaN</td>\n",
       "      <td>NaN</td>\n",
       "      <td>30982.000000</td>\n",
       "      <td>NaN</td>\n",
       "      <td>3.000000</td>\n",
       "    </tr>\n",
       "    <tr>\n",
       "      <th>50%</th>\n",
       "      <td>NaN</td>\n",
       "      <td>3250.000000</td>\n",
       "      <td>NaN</td>\n",
       "      <td>2003.000000</td>\n",
       "      <td>NaN</td>\n",
       "      <td>115.000000</td>\n",
       "      <td>NaN</td>\n",
       "      <td>150000.000000</td>\n",
       "      <td>6.000000</td>\n",
       "      <td>NaN</td>\n",
       "      <td>NaN</td>\n",
       "      <td>NaN</td>\n",
       "      <td>NaN</td>\n",
       "      <td>50354.000000</td>\n",
       "      <td>NaN</td>\n",
       "      <td>3.000000</td>\n",
       "    </tr>\n",
       "    <tr>\n",
       "      <th>75%</th>\n",
       "      <td>NaN</td>\n",
       "      <td>7000.000000</td>\n",
       "      <td>NaN</td>\n",
       "      <td>2007.000000</td>\n",
       "      <td>NaN</td>\n",
       "      <td>150.000000</td>\n",
       "      <td>NaN</td>\n",
       "      <td>150000.000000</td>\n",
       "      <td>9.000000</td>\n",
       "      <td>NaN</td>\n",
       "      <td>NaN</td>\n",
       "      <td>NaN</td>\n",
       "      <td>NaN</td>\n",
       "      <td>72135.000000</td>\n",
       "      <td>NaN</td>\n",
       "      <td>3.000000</td>\n",
       "    </tr>\n",
       "    <tr>\n",
       "      <th>max</th>\n",
       "      <td>NaN</td>\n",
       "      <td>20000.000000</td>\n",
       "      <td>NaN</td>\n",
       "      <td>2016.000000</td>\n",
       "      <td>NaN</td>\n",
       "      <td>620.000000</td>\n",
       "      <td>NaN</td>\n",
       "      <td>150000.000000</td>\n",
       "      <td>12.000000</td>\n",
       "      <td>NaN</td>\n",
       "      <td>NaN</td>\n",
       "      <td>NaN</td>\n",
       "      <td>NaN</td>\n",
       "      <td>99998.000000</td>\n",
       "      <td>NaN</td>\n",
       "      <td>12.000000</td>\n",
       "    </tr>\n",
       "  </tbody>\n",
       "</table>\n",
       "</div>"
      ],
      "text/plain": [
       "                DateCrawled          Price VehicleType  RegistrationYear  \\\n",
       "count                288247  288247.000000      288247     288247.000000   \n",
       "unique               232099            NaN           8               NaN   \n",
       "top     2016-04-02 22:54:55            NaN       sedan               NaN   \n",
       "freq                      5            NaN       81759               NaN   \n",
       "first   2016-03-05 14:06:22            NaN         NaN               NaN   \n",
       "last    2016-04-07 14:36:58            NaN         NaN               NaN   \n",
       "mean                    NaN    4904.300541         NaN       2003.179575   \n",
       "std                     NaN    4606.305614         NaN          5.813787   \n",
       "min                     NaN     100.000000         NaN       1981.000000   \n",
       "25%                     NaN    1399.000000         NaN       1999.000000   \n",
       "50%                     NaN    3250.000000         NaN       2003.000000   \n",
       "75%                     NaN    7000.000000         NaN       2007.000000   \n",
       "max                     NaN   20000.000000         NaN       2016.000000   \n",
       "\n",
       "       Gearbox          Power   Model      Kilometer  RegistrationMonth  \\\n",
       "count   288247  288247.000000  288247  288247.000000      288247.000000   \n",
       "unique       3            NaN     248            NaN                NaN   \n",
       "top     manual            NaN   other            NaN                NaN   \n",
       "freq    225980            NaN   29045            NaN                NaN   \n",
       "first      NaN            NaN     NaN            NaN                NaN   \n",
       "last       NaN            NaN     NaN            NaN                NaN   \n",
       "mean       NaN     122.157556     NaN  128673.203884           6.014762   \n",
       "std        NaN      53.200043     NaN   36381.602002           3.578117   \n",
       "min        NaN      46.000000     NaN    5000.000000           0.000000   \n",
       "25%        NaN      80.000000     NaN  125000.000000           3.000000   \n",
       "50%        NaN     115.000000     NaN  150000.000000           6.000000   \n",
       "75%        NaN     150.000000     NaN  150000.000000           9.000000   \n",
       "max        NaN     620.000000     NaN  150000.000000          12.000000   \n",
       "\n",
       "       FuelType       Brand NotRepaired          DateCreated     PostalCode  \\\n",
       "count    288247      288247      288247               288247  288247.000000   \n",
       "unique        8          40           3                  105            NaN   \n",
       "top      petrol  volkswagen          no  2016-04-03 00:00:00            NaN   \n",
       "freq     181277       62414      219723                11369            NaN   \n",
       "first       NaN         NaN         NaN  2015-03-20 00:00:00            NaN   \n",
       "last        NaN         NaN         NaN  2016-04-07 00:00:00            NaN   \n",
       "mean        NaN         NaN         NaN                  NaN   51320.552380   \n",
       "std         NaN         NaN         NaN                  NaN   25767.133543   \n",
       "min         NaN         NaN         NaN                  NaN    1067.000000   \n",
       "25%         NaN         NaN         NaN                  NaN   30982.000000   \n",
       "50%         NaN         NaN         NaN                  NaN   50354.000000   \n",
       "75%         NaN         NaN         NaN                  NaN   72135.000000   \n",
       "max         NaN         NaN         NaN                  NaN   99998.000000   \n",
       "\n",
       "                   LastSeen  DateCreated_month  \n",
       "count                288247      288247.000000  \n",
       "unique               151226                NaN  \n",
       "top     2016-04-06 13:46:17                NaN  \n",
       "freq                     15                NaN  \n",
       "first   2016-03-05 14:15:08                NaN  \n",
       "last    2016-04-07 14:58:51                NaN  \n",
       "mean                    NaN           3.161063  \n",
       "std                     NaN           0.378141  \n",
       "min                     NaN           1.000000  \n",
       "25%                     NaN           3.000000  \n",
       "50%                     NaN           3.000000  \n",
       "75%                     NaN           3.000000  \n",
       "max                     NaN          12.000000  "
      ]
     },
     "execution_count": 41,
     "metadata": {},
     "output_type": "execute_result"
    }
   ],
   "source": [
    "data.describe(include = 'all')"
   ]
  },
  {
   "cell_type": "markdown",
   "metadata": {},
   "source": [
    "### Разделение данных на выборки"
   ]
  },
  {
   "cell_type": "markdown",
   "metadata": {},
   "source": [
    "Выделим признаки и целевой признак. "
   ]
  },
  {
   "cell_type": "code",
   "execution_count": 42,
   "metadata": {},
   "outputs": [],
   "source": [
    "features = data.drop(['Price', 'DateCrawled', 'DateCreated', 'LastSeen', 'RegistrationMonth', 'PostalCode'], axis=1)\n",
    "target = data['Price']"
   ]
  },
  {
   "cell_type": "markdown",
   "metadata": {},
   "source": [
    "Разделим данные на выборки."
   ]
  },
  {
   "cell_type": "code",
   "execution_count": 43,
   "metadata": {},
   "outputs": [],
   "source": [
    "features_train, features_test, target_train, target_test = train_test_split(\n",
    "    features, target, test_size=0.25, random_state=12345)"
   ]
  },
  {
   "cell_type": "markdown",
   "metadata": {},
   "source": [
    "Проверим размеры полученных файлов."
   ]
  },
  {
   "cell_type": "code",
   "execution_count": 44,
   "metadata": {},
   "outputs": [
    {
     "name": "stdout",
     "output_type": "stream",
     "text": [
      "(216185, 10) (216185,) (72062, 10) (72062,)\n"
     ]
    }
   ],
   "source": [
    "print(features_train.shape, target_train.shape, features_test.shape, target_test.shape)"
   ]
  },
  {
   "cell_type": "markdown",
   "metadata": {},
   "source": [
    "###  OHE и масштабирование признаков"
   ]
  },
  {
   "cell_type": "markdown",
   "metadata": {},
   "source": [
    "Разделим колонки на два типа: числовые и категориальные."
   ]
  },
  {
   "cell_type": "code",
   "execution_count": 45,
   "metadata": {},
   "outputs": [],
   "source": [
    "numerical = ['DateCreated_month', 'Power', 'Kilometer', 'RegistrationYear']\n",
    "target = ['Price']\n",
    "categorical  = [col for col in features_test.columns if col not in numerical+target]"
   ]
  },
  {
   "cell_type": "markdown",
   "metadata": {},
   "source": [
    "Применим к данным OneHotEncoder и StandardScaler."
   ]
  },
  {
   "cell_type": "code",
   "execution_count": 46,
   "metadata": {},
   "outputs": [],
   "source": [
    "preprocessor = ColumnTransformer(transformers=[('standardscaler', StandardScaler(), numerical),\n",
    "                                ('onehotencoder', OneHotEncoder(handle_unknown='ignore'), categorical)\n",
    "])"
   ]
  },
  {
   "cell_type": "code",
   "execution_count": 47,
   "metadata": {},
   "outputs": [],
   "source": [
    "preprocessor.fit(features_train)\n",
    "features_train = preprocessor.transform(features_train)\n",
    "features_test = preprocessor.transform(features_test)"
   ]
  },
  {
   "cell_type": "markdown",
   "metadata": {},
   "source": [
    "**Вывод**"
   ]
  },
  {
   "cell_type": "markdown",
   "metadata": {},
   "source": [
    "Данные загружены и проанализированы. Удалены дубликаты и заполнены пропуски. К данным числового типа применено масштабирование, к категориальным данным - OHE кодирование. \n",
    "\n",
    "Добавлен новый признак - `'DateCreated_month'` (месяц создания анкеты).\n",
    "В качестве признаков решено не использовать следующие данные: `'NumberOfPictures'`, `'DateCrawled'`, `'DateCreated'`, `'LastSeen'`, `'RegistrationMonth'`, `'PostalCode'`.\n",
    "\n",
    "Принято решение считать вбросами следующие данные:\n",
    " - 'Price < 100\n",
    " - 'RegistrationYear' > 2016 или < 1899 \n",
    " - 'Power' > 620 или = 0 "
   ]
  },
  {
   "cell_type": "markdown",
   "metadata": {},
   "source": [
    "## Обучение моделей"
   ]
  },
  {
   "cell_type": "markdown",
   "metadata": {},
   "source": [
    "Создадим функцию для оценки времени работы модели."
   ]
  },
  {
   "cell_type": "code",
   "execution_count": 48,
   "metadata": {},
   "outputs": [],
   "source": [
    "def exec_time(start, end):\n",
    "   diff_time = end - start\n",
    "   m, s = divmod(diff_time, 60)\n",
    "   h, m = divmod(m, 60)\n",
    "   s,m,h = int(round(s, 0)), int(round(m, 0)), int(round(h, 0))\n",
    "    \n",
    "   return \"{0:02d}:{1:02d}:{2:02d}\".format(h, m, s)"
   ]
  },
  {
   "cell_type": "markdown",
   "metadata": {},
   "source": [
    "Создадим функцию для оценки качества модели."
   ]
  },
  {
   "cell_type": "code",
   "execution_count": 49,
   "metadata": {},
   "outputs": [],
   "source": [
    "def quality(title):\n",
    "    scorers = pd.DataFrame([np.sqrt(mean_squared_error(target_test, predicted_test)), exec_time(start_1,end_1), \\\n",
    "                           exec_time(start_2,end_2)], index=['качество предсказания (RMSE)', \\\n",
    "                           't обучения (с подбором параметров)', 't предсказания'], columns=[title]).round(3).T\n",
    "    print(\"на тренировочной выборке: RMSE - {:.2f}\".format(np.sqrt(mean_squared_error(target_train, predicted_train)))) \n",
    "    print(\"на тестовой выборке:      RMSE - {:.2f}\".format(np.sqrt(mean_squared_error(target_test, predicted_test)))) \n",
    "        \n",
    "    return scorers\n",
    "\n",
    "results = pd.DataFrame() # датафрейм для хранения результатов работы"
   ]
  },
  {
   "cell_type": "markdown",
   "metadata": {},
   "source": [
    "### LinearRegression"
   ]
  },
  {
   "cell_type": "code",
   "execution_count": 50,
   "metadata": {},
   "outputs": [
    {
     "name": "stdout",
     "output_type": "stream",
     "text": [
      "на тренировочной выборке: RMSE - 2400.42\n",
      "на тестовой выборке:      RMSE - 2393.90\n",
      "Параметры лучшей модели: {'fit_intercept': True, 'normalize': True}\n",
      "Общее время: 00:00:36\n"
     ]
    }
   ],
   "source": [
    "start_1 = time.time()\n",
    "\n",
    "param_grid = {'fit_intercept':[True,False],\n",
    "              'normalize':[True,False]\n",
    "}\n",
    "model_1 = LinearRegression()\n",
    "grid_search = GridSearchCV(model_1, param_grid, cv=3, refit='neg_mean_squared_error')\n",
    "grid_search.fit(features_train, target_train)\n",
    "end_1 = time.time()\n",
    "\n",
    "predicted_train = grid_search.best_estimator_.predict(features_train)\n",
    "\n",
    "start_2 = time.time()\n",
    "predicted_test = grid_search.best_estimator_.predict(features_test)\n",
    "end_2 = time.time()\n",
    "\n",
    "results = quality('LinearRegression model').join(results) # сохранение результатов\n",
    "print(\"Параметры лучшей модели:\", grid_search.best_params_)\n",
    "print(\"Общее время:\", exec_time(start_1,end_2))"
   ]
  },
  {
   "cell_type": "markdown",
   "metadata": {},
   "source": [
    "### DecisionTreeRegressor"
   ]
  },
  {
   "cell_type": "code",
   "execution_count": 51,
   "metadata": {},
   "outputs": [
    {
     "name": "stdout",
     "output_type": "stream",
     "text": [
      "на тренировочной выборке: RMSE - 1868.79\n",
      "на тестовой выборке:      RMSE - 1905.65\n",
      "Параметры лучшей модели: {'max_depth': 10, 'min_samples_leaf': 10}\n",
      "Общее время: 00:00:37\n"
     ]
    }
   ],
   "source": [
    "start_1 = time.time()\n",
    "\n",
    "param_grid = {'max_depth': [2, 5, 10],\n",
    "              'min_samples_leaf': [2, 5, 10]\n",
    "}\n",
    "\n",
    "model = DecisionTreeRegressor(random_state=12345)\n",
    "grid_search = GridSearchCV(model, param_grid, cv=3, refit='neg_mean_squared_error')\n",
    "grid_search.fit(features_train, target_train)\n",
    "end_1 = time.time()\n",
    "\n",
    "predicted_train = grid_search.best_estimator_.predict(features_train)\n",
    "\n",
    "start_2 = time.time()\n",
    "predicted_test = grid_search.best_estimator_.predict(features_test)\n",
    "end_2 = time.time()\n",
    "\n",
    "results = pd.concat([results, quality('DecisionTreeRegressor model')], axis=0, ignore_index=False) # сохранение результатов\n",
    "print(\"Параметры лучшей модели:\", grid_search.best_params_)\n",
    "print(\"Общее время:\", exec_time(start_1,end_2))"
   ]
  },
  {
   "cell_type": "markdown",
   "metadata": {},
   "source": [
    "### CatBoost"
   ]
  },
  {
   "cell_type": "code",
   "execution_count": 52,
   "metadata": {},
   "outputs": [
    {
     "name": "stdout",
     "output_type": "stream",
     "text": [
      "на тренировочной выборке: RMSE - 1317.03\n",
      "на тестовой выборке:      RMSE - 1476.87\n",
      "Параметры лучшей модели: {'learning_rate': 0.5}\n",
      "Общее время: 00:03:34\n"
     ]
    }
   ],
   "source": [
    "start_1 = time.time()\n",
    "\n",
    "param_grid = {'learning_rate': [0.05, 0.1, 0.5, 1]}\n",
    "\n",
    "model = CatBoostRegressor(random_state=12345)\n",
    "grid_search = GridSearchCV(model, param_grid, cv=3, refit='neg_mean_squared_error')\n",
    "grid_search.fit(features_train, target_train, verbose=False)\n",
    "end_1 = time.time()\n",
    "\n",
    "predicted_train = grid_search.best_estimator_.predict(features_train)\n",
    "\n",
    "start_2 = time.time()\n",
    "predicted_test = grid_search.best_estimator_.predict(features_test)\n",
    "end_2 = time.time()\n",
    "\n",
    "results = pd.concat([results, quality('CatBoost model')], axis=0, ignore_index=False) # сохранение результатов\n",
    "print(\"Параметры лучшей модели:\", grid_search.best_params_)\n",
    "print(\"Общее время:\", exec_time(start_1,end_2))"
   ]
  },
  {
   "cell_type": "markdown",
   "metadata": {},
   "source": [
    "### LGBMRegressor"
   ]
  },
  {
   "cell_type": "code",
   "execution_count": 53,
   "metadata": {},
   "outputs": [
    {
     "name": "stdout",
     "output_type": "stream",
     "text": [
      "на тренировочной выборке: RMSE - 1469.67\n",
      "на тестовой выборке:      RMSE - 1537.10\n",
      "Параметры лучшей модели: {'learning_rate': 0.5}\n",
      "Общее время: 00:00:09\n"
     ]
    }
   ],
   "source": [
    "start_1 = time.time()\n",
    "\n",
    "param_grid = {'learning_rate': [0.05, 0.1, 0.5, 1]}\n",
    "\n",
    "model = LGBMRegressor(random_state=12345)\n",
    "grid_search = GridSearchCV(model, param_grid, cv=3, refit='neg_mean_squared_error')\n",
    "grid_search.fit(features_train, target_train)\n",
    "end_1 = time.time()\n",
    "\n",
    "predicted_train = grid_search.best_estimator_.predict(features_train)\n",
    "\n",
    "start_2 = time.time()\n",
    "predicted_test = grid_search.best_estimator_.predict(features_test)\n",
    "end_2 = time.time()\n",
    "\n",
    "results = pd.concat([results, quality('LGBMRegressor model')], axis=0, ignore_index=False) # сохранение результатов\n",
    "print(\"Параметры лучшей модели:\", grid_search.best_params_)\n",
    "print(\"Общее время:\", exec_time(start_1,end_2))"
   ]
  },
  {
   "cell_type": "markdown",
   "metadata": {},
   "source": [
    "### Искусственная модель"
   ]
  },
  {
   "cell_type": "markdown",
   "metadata": {},
   "source": [
    "Проверим наши модели на адекватность, сравнив с исскуственной."
   ]
  },
  {
   "cell_type": "code",
   "execution_count": 54,
   "metadata": {},
   "outputs": [
    {
     "name": "stdout",
     "output_type": "stream",
     "text": [
      "Стратегия модели: mean\n",
      "на тренировочной выборке: RMSE - 4605.36\n",
      "на тестовой выборке:      RMSE - 4609.11\n",
      "Стратегия модели: median\n",
      "на тренировочной выборке: RMSE - 4903.38\n",
      "на тестовой выборке:      RMSE - 4905.40\n",
      "Стратегия модели: quantile\n",
      "на тренировочной выборке: RMSE - 4614.71\n",
      "на тестовой выборке:      RMSE - 4618.74\n"
     ]
    }
   ],
   "source": [
    "strategies = ['mean', 'median', 'quantile']\n",
    "\n",
    "for strategy in strategies:\n",
    "\n",
    "    baseline_model = DummyRegressor(strategy=strategy, quantile=0.65)\n",
    "    baseline_model.fit(features_train, target_train)\n",
    "\n",
    "    predicted_train = baseline_model.predict(features_train)\n",
    "    predicted_test = baseline_model.predict(features_test)\n",
    "    \n",
    "    print('Стратегия модели:', strategy)\n",
    "    quality('title')"
   ]
  },
  {
   "cell_type": "markdown",
   "metadata": {},
   "source": [
    "Все модели проходят тест на адекватность."
   ]
  },
  {
   "cell_type": "markdown",
   "metadata": {},
   "source": [
    "**Вывод**"
   ]
  },
  {
   "cell_type": "markdown",
   "metadata": {},
   "source": [
    "Все модели прошли тест на адекватность. Результаты работы представлены ниже."
   ]
  },
  {
   "cell_type": "code",
   "execution_count": 55,
   "metadata": {},
   "outputs": [
    {
     "data": {
      "text/html": [
       "<div>\n",
       "<style scoped>\n",
       "    .dataframe tbody tr th:only-of-type {\n",
       "        vertical-align: middle;\n",
       "    }\n",
       "\n",
       "    .dataframe tbody tr th {\n",
       "        vertical-align: top;\n",
       "    }\n",
       "\n",
       "    .dataframe thead th {\n",
       "        text-align: right;\n",
       "    }\n",
       "</style>\n",
       "<table border=\"1\" class=\"dataframe\">\n",
       "  <thead>\n",
       "    <tr style=\"text-align: right;\">\n",
       "      <th></th>\n",
       "      <th>качество предсказания (RMSE)</th>\n",
       "      <th>t обучения (с подбором параметров)</th>\n",
       "      <th>t предсказания</th>\n",
       "    </tr>\n",
       "  </thead>\n",
       "  <tbody>\n",
       "    <tr>\n",
       "      <th>LinearRegression model</th>\n",
       "      <td>2393.89881</td>\n",
       "      <td>00:00:36</td>\n",
       "      <td>00:00:00</td>\n",
       "    </tr>\n",
       "    <tr>\n",
       "      <th>DecisionTreeRegressor model</th>\n",
       "      <td>1905.647356</td>\n",
       "      <td>00:00:37</td>\n",
       "      <td>00:00:00</td>\n",
       "    </tr>\n",
       "    <tr>\n",
       "      <th>CatBoost model</th>\n",
       "      <td>1476.866978</td>\n",
       "      <td>00:03:34</td>\n",
       "      <td>00:00:00</td>\n",
       "    </tr>\n",
       "    <tr>\n",
       "      <th>LGBMRegressor model</th>\n",
       "      <td>1537.096493</td>\n",
       "      <td>00:00:09</td>\n",
       "      <td>00:00:00</td>\n",
       "    </tr>\n",
       "  </tbody>\n",
       "</table>\n",
       "</div>"
      ],
      "text/plain": [
       "                            качество предсказания (RMSE)  \\\n",
       "LinearRegression model                        2393.89881   \n",
       "DecisionTreeRegressor model                  1905.647356   \n",
       "CatBoost model                               1476.866978   \n",
       "LGBMRegressor model                          1537.096493   \n",
       "\n",
       "                            t обучения (с подбором параметров) t предсказания  \n",
       "LinearRegression model                                00:00:36       00:00:00  \n",
       "DecisionTreeRegressor model                           00:00:37       00:00:00  \n",
       "CatBoost model                                        00:03:34       00:00:00  \n",
       "LGBMRegressor model                                   00:00:09       00:00:00  "
      ]
     },
     "execution_count": 55,
     "metadata": {},
     "output_type": "execute_result"
    }
   ],
   "source": [
    "results"
   ]
  },
  {
   "cell_type": "markdown",
   "metadata": {},
   "source": [
    "## Анализ моделей"
   ]
  },
  {
   "cell_type": "markdown",
   "metadata": {},
   "source": [
    "Заказчику важны:\n",
    "\n",
    "- качество предсказания (`RMSE < 2500`);\n",
    "- скорость предсказания;\n",
    "- время обучения."
   ]
  },
  {
   "cell_type": "markdown",
   "metadata": {},
   "source": [
    "Продублируем результаты работы моделей и обобщим информацию."
   ]
  },
  {
   "cell_type": "code",
   "execution_count": 56,
   "metadata": {},
   "outputs": [
    {
     "data": {
      "text/html": [
       "<div>\n",
       "<style scoped>\n",
       "    .dataframe tbody tr th:only-of-type {\n",
       "        vertical-align: middle;\n",
       "    }\n",
       "\n",
       "    .dataframe tbody tr th {\n",
       "        vertical-align: top;\n",
       "    }\n",
       "\n",
       "    .dataframe thead th {\n",
       "        text-align: right;\n",
       "    }\n",
       "</style>\n",
       "<table border=\"1\" class=\"dataframe\">\n",
       "  <thead>\n",
       "    <tr style=\"text-align: right;\">\n",
       "      <th></th>\n",
       "      <th>качество предсказания (RMSE)</th>\n",
       "      <th>t обучения (с подбором параметров)</th>\n",
       "      <th>t предсказания</th>\n",
       "    </tr>\n",
       "  </thead>\n",
       "  <tbody>\n",
       "    <tr>\n",
       "      <th>LinearRegression model</th>\n",
       "      <td>2393.89881</td>\n",
       "      <td>00:00:36</td>\n",
       "      <td>00:00:00</td>\n",
       "    </tr>\n",
       "    <tr>\n",
       "      <th>DecisionTreeRegressor model</th>\n",
       "      <td>1905.647356</td>\n",
       "      <td>00:00:37</td>\n",
       "      <td>00:00:00</td>\n",
       "    </tr>\n",
       "    <tr>\n",
       "      <th>CatBoost model</th>\n",
       "      <td>1476.866978</td>\n",
       "      <td>00:03:34</td>\n",
       "      <td>00:00:00</td>\n",
       "    </tr>\n",
       "    <tr>\n",
       "      <th>LGBMRegressor model</th>\n",
       "      <td>1537.096493</td>\n",
       "      <td>00:00:09</td>\n",
       "      <td>00:00:00</td>\n",
       "    </tr>\n",
       "  </tbody>\n",
       "</table>\n",
       "</div>"
      ],
      "text/plain": [
       "                            качество предсказания (RMSE)  \\\n",
       "LinearRegression model                        2393.89881   \n",
       "DecisionTreeRegressor model                  1905.647356   \n",
       "CatBoost model                               1476.866978   \n",
       "LGBMRegressor model                          1537.096493   \n",
       "\n",
       "                            t обучения (с подбором параметров) t предсказания  \n",
       "LinearRegression model                                00:00:36       00:00:00  \n",
       "DecisionTreeRegressor model                           00:00:37       00:00:00  \n",
       "CatBoost model                                        00:03:34       00:00:00  \n",
       "LGBMRegressor model                                   00:00:09       00:00:00  "
      ]
     },
     "execution_count": 56,
     "metadata": {},
     "output_type": "execute_result"
    }
   ],
   "source": [
    "results"
   ]
  },
  {
   "cell_type": "markdown",
   "metadata": {},
   "source": [
    "Условию `RMSE < 2500` соответствуют все модели: \n",
    " \n",
    "ТОП `t обучения`:\n",
    " - LGBMRegressor;\n",
    " - DecisionTreeRegressor;\n",
    " - LinearRegression;\n",
    " - CatBoost.   \n",
    "\n",
    "\n",
    "ТОП `качество предсказания`:\n",
    " - CatBoost;\n",
    " - LGBMRegressor;  \n",
    " - DecisionTreeRegressor.   "
   ]
  },
  {
   "cell_type": "markdown",
   "metadata": {},
   "source": [
    "**Вывод**"
   ]
  },
  {
   "cell_type": "markdown",
   "metadata": {},
   "source": [
    "В качестве рабочих моделей для предсказания стоимости автомобиля можно рекомендовать `LGBMRegressor` и `CatBoost`.\n",
    "Результаты работы этих моделей на тестовой выборке:"
   ]
  },
  {
   "cell_type": "code",
   "execution_count": 57,
   "metadata": {
    "scrolled": false
   },
   "outputs": [
    {
     "data": {
      "text/html": [
       "<div>\n",
       "<style scoped>\n",
       "    .dataframe tbody tr th:only-of-type {\n",
       "        vertical-align: middle;\n",
       "    }\n",
       "\n",
       "    .dataframe tbody tr th {\n",
       "        vertical-align: top;\n",
       "    }\n",
       "\n",
       "    .dataframe thead th {\n",
       "        text-align: right;\n",
       "    }\n",
       "</style>\n",
       "<table border=\"1\" class=\"dataframe\">\n",
       "  <thead>\n",
       "    <tr style=\"text-align: right;\">\n",
       "      <th></th>\n",
       "      <th>качество предсказания (RMSE)</th>\n",
       "      <th>t обучения (с подбором параметров)</th>\n",
       "      <th>t предсказания</th>\n",
       "    </tr>\n",
       "  </thead>\n",
       "  <tbody>\n",
       "    <tr>\n",
       "      <th>CatBoost model</th>\n",
       "      <td>1476.866978</td>\n",
       "      <td>00:03:34</td>\n",
       "      <td>00:00:00</td>\n",
       "    </tr>\n",
       "    <tr>\n",
       "      <th>LGBMRegressor model</th>\n",
       "      <td>1537.096493</td>\n",
       "      <td>00:00:09</td>\n",
       "      <td>00:00:00</td>\n",
       "    </tr>\n",
       "  </tbody>\n",
       "</table>\n",
       "</div>"
      ],
      "text/plain": [
       "                    качество предсказания (RMSE)  \\\n",
       "CatBoost model                       1476.866978   \n",
       "LGBMRegressor model                  1537.096493   \n",
       "\n",
       "                    t обучения (с подбором параметров) t предсказания  \n",
       "CatBoost model                                00:03:34       00:00:00  \n",
       "LGBMRegressor model                           00:00:09       00:00:00  "
      ]
     },
     "execution_count": 57,
     "metadata": {},
     "output_type": "execute_result"
    }
   ],
   "source": [
    "results[2:4]"
   ]
  }
 ],
 "metadata": {
  "ExecuteTimeLog": [
   {
    "duration": 11,
    "start_time": "2022-06-09T18:17:47.213Z"
   },
   {
    "duration": 1141,
    "start_time": "2022-06-09T18:25:53.965Z"
   },
   {
    "duration": 3396,
    "start_time": "2022-06-09T18:26:28.872Z"
   },
   {
    "duration": 498,
    "start_time": "2022-06-09T18:26:36.736Z"
   },
   {
    "duration": 1042,
    "start_time": "2022-06-09T18:26:39.845Z"
   },
   {
    "duration": 20,
    "start_time": "2022-06-09T18:26:44.293Z"
   },
   {
    "duration": 11,
    "start_time": "2022-06-09T18:26:52.257Z"
   },
   {
    "duration": 158,
    "start_time": "2022-06-09T18:36:27.552Z"
   },
   {
    "duration": 119,
    "start_time": "2022-06-09T18:38:34.589Z"
   },
   {
    "duration": 437,
    "start_time": "2022-06-09T18:40:20.493Z"
   },
   {
    "duration": 929,
    "start_time": "2022-06-09T18:40:30.078Z"
   },
   {
    "duration": 461,
    "start_time": "2022-06-09T18:40:45.489Z"
   },
   {
    "duration": 27,
    "start_time": "2022-06-09T18:40:59.225Z"
   },
   {
    "duration": 3540,
    "start_time": "2022-06-09T18:41:09.997Z"
   },
   {
    "duration": 101413,
    "start_time": "2022-06-09T18:41:40.001Z"
   },
   {
    "duration": 10,
    "start_time": "2022-06-09T18:43:21.453Z"
   },
   {
    "duration": 30458,
    "start_time": "2022-06-09T18:43:50.735Z"
   },
   {
    "duration": 213,
    "start_time": "2022-06-09T19:03:19.931Z"
   },
   {
    "duration": 13,
    "start_time": "2022-06-09T19:03:25.501Z"
   },
   {
    "duration": 3,
    "start_time": "2022-06-09T19:03:40.551Z"
   },
   {
    "duration": 5,
    "start_time": "2022-06-09T19:03:50.621Z"
   },
   {
    "duration": 11,
    "start_time": "2022-06-09T19:05:08.188Z"
   },
   {
    "duration": 8239,
    "start_time": "2022-06-09T19:07:45.216Z"
   },
   {
    "duration": 170,
    "start_time": "2022-06-09T19:08:33.799Z"
   },
   {
    "duration": 128,
    "start_time": "2022-06-09T19:09:38.104Z"
   },
   {
    "duration": 5026,
    "start_time": "2022-06-09T19:09:41.303Z"
   },
   {
    "duration": 1023,
    "start_time": "2022-06-09T19:19:17.091Z"
   },
   {
    "duration": 3421,
    "start_time": "2022-06-13T15:51:26.744Z"
   },
   {
    "duration": 1330,
    "start_time": "2022-06-13T15:51:34.463Z"
   },
   {
    "duration": 2421,
    "start_time": "2022-06-13T15:51:36.767Z"
   },
   {
    "duration": 24032,
    "start_time": "2022-06-13T15:51:46.173Z"
   },
   {
    "duration": 25,
    "start_time": "2022-06-13T15:54:09.576Z"
   },
   {
    "duration": 24,
    "start_time": "2022-06-13T15:58:03.552Z"
   },
   {
    "duration": 129,
    "start_time": "2022-06-13T15:58:56.780Z"
   },
   {
    "duration": 56,
    "start_time": "2022-06-13T15:59:21.621Z"
   },
   {
    "duration": 19,
    "start_time": "2022-06-13T16:00:19.606Z"
   },
   {
    "duration": 134,
    "start_time": "2022-06-13T16:01:57.648Z"
   },
   {
    "duration": 4,
    "start_time": "2022-06-13T16:02:44.486Z"
   },
   {
    "duration": 7,
    "start_time": "2022-06-13T16:02:50.799Z"
   },
   {
    "duration": 8,
    "start_time": "2022-06-13T16:03:07.944Z"
   },
   {
    "duration": 26,
    "start_time": "2022-06-13T16:03:16.432Z"
   },
   {
    "duration": 6,
    "start_time": "2022-06-13T16:03:24.650Z"
   },
   {
    "duration": 5,
    "start_time": "2022-06-13T16:03:31.696Z"
   },
   {
    "duration": 9,
    "start_time": "2022-06-13T16:05:06.437Z"
   },
   {
    "duration": 7,
    "start_time": "2022-06-13T16:05:11.217Z"
   },
   {
    "duration": 25,
    "start_time": "2022-06-13T16:05:28.098Z"
   },
   {
    "duration": 7,
    "start_time": "2022-06-13T16:05:57.922Z"
   },
   {
    "duration": 672,
    "start_time": "2022-06-13T16:06:06.347Z"
   },
   {
    "duration": 24,
    "start_time": "2022-06-13T16:06:10.937Z"
   },
   {
    "duration": 24,
    "start_time": "2022-06-13T16:06:16.042Z"
   },
   {
    "duration": 22,
    "start_time": "2022-06-13T16:07:26.276Z"
   },
   {
    "duration": 14,
    "start_time": "2022-06-13T16:08:07.005Z"
   },
   {
    "duration": 16,
    "start_time": "2022-06-13T16:11:17.916Z"
   },
   {
    "duration": 42,
    "start_time": "2022-06-13T16:11:32.431Z"
   },
   {
    "duration": 7,
    "start_time": "2022-06-13T16:11:58.760Z"
   },
   {
    "duration": 650,
    "start_time": "2022-06-13T16:12:04.520Z"
   },
   {
    "duration": 18,
    "start_time": "2022-06-13T16:12:08.888Z"
   },
   {
    "duration": 659,
    "start_time": "2022-06-13T16:16:07.288Z"
   },
   {
    "duration": 14,
    "start_time": "2022-06-13T16:16:16.965Z"
   },
   {
    "duration": 2131,
    "start_time": "2022-06-13T16:20:04.816Z"
   },
   {
    "duration": 10,
    "start_time": "2022-06-13T16:20:10.811Z"
   },
   {
    "duration": 710,
    "start_time": "2022-06-13T16:20:11.381Z"
   },
   {
    "duration": 25270,
    "start_time": "2022-06-13T16:20:14.267Z"
   },
   {
    "duration": 7,
    "start_time": "2022-06-13T16:20:39.539Z"
   },
   {
    "duration": 26,
    "start_time": "2022-06-13T16:21:18.043Z"
   },
   {
    "duration": 12,
    "start_time": "2022-06-13T16:21:43.477Z"
   },
   {
    "duration": 25,
    "start_time": "2022-06-13T16:26:16.432Z"
   },
   {
    "duration": 61,
    "start_time": "2022-06-13T16:26:28.784Z"
   },
   {
    "duration": 15,
    "start_time": "2022-06-13T16:26:40.336Z"
   },
   {
    "duration": 91,
    "start_time": "2022-06-13T16:27:01.611Z"
   },
   {
    "duration": 10,
    "start_time": "2022-06-13T16:30:44.795Z"
   },
   {
    "duration": 227,
    "start_time": "2022-06-13T16:31:21.403Z"
   },
   {
    "duration": 9,
    "start_time": "2022-06-13T16:33:11.418Z"
   },
   {
    "duration": 727,
    "start_time": "2022-06-13T16:33:22.644Z"
   },
   {
    "duration": 13,
    "start_time": "2022-06-13T16:33:23.881Z"
   },
   {
    "duration": 10,
    "start_time": "2022-06-13T16:33:26.653Z"
   },
   {
    "duration": 640,
    "start_time": "2022-06-13T16:39:34.166Z"
   },
   {
    "duration": 9,
    "start_time": "2022-06-13T16:39:41.145Z"
   },
   {
    "duration": 12,
    "start_time": "2022-06-13T16:39:53.377Z"
   },
   {
    "duration": 75,
    "start_time": "2022-06-13T16:40:04.243Z"
   },
   {
    "duration": 57,
    "start_time": "2022-06-13T16:40:29.524Z"
   },
   {
    "duration": 67,
    "start_time": "2022-06-13T16:40:43.434Z"
   },
   {
    "duration": 69,
    "start_time": "2022-06-13T16:40:47.785Z"
   },
   {
    "duration": 43,
    "start_time": "2022-06-13T16:41:59.411Z"
   },
   {
    "duration": 24194,
    "start_time": "2022-06-13T16:42:09.083Z"
   },
   {
    "duration": 72,
    "start_time": "2022-06-13T16:43:18.221Z"
   },
   {
    "duration": 8,
    "start_time": "2022-06-13T16:43:36.404Z"
   },
   {
    "duration": 10,
    "start_time": "2022-06-13T16:43:51.525Z"
   },
   {
    "duration": 45,
    "start_time": "2022-06-13T16:43:55.668Z"
   },
   {
    "duration": 32,
    "start_time": "2022-06-13T16:44:24.356Z"
   },
   {
    "duration": 7,
    "start_time": "2022-06-13T16:49:50.815Z"
   },
   {
    "duration": 16,
    "start_time": "2022-06-13T16:50:03.744Z"
   },
   {
    "duration": 12,
    "start_time": "2022-06-13T16:54:06.947Z"
   },
   {
    "duration": 8,
    "start_time": "2022-06-13T16:54:11.432Z"
   },
   {
    "duration": 9,
    "start_time": "2022-06-13T16:54:36.715Z"
   },
   {
    "duration": 41,
    "start_time": "2022-06-13T16:55:06.564Z"
   },
   {
    "duration": 9,
    "start_time": "2022-06-13T16:59:46.751Z"
   },
   {
    "duration": 70,
    "start_time": "2022-06-13T17:00:00.488Z"
   },
   {
    "duration": 12,
    "start_time": "2022-06-13T17:00:16.072Z"
   },
   {
    "duration": 27,
    "start_time": "2022-06-13T17:00:44.689Z"
   },
   {
    "duration": 34,
    "start_time": "2022-06-13T17:02:57.069Z"
   },
   {
    "duration": 81,
    "start_time": "2022-06-13T17:02:58.831Z"
   },
   {
    "duration": 13,
    "start_time": "2022-06-13T17:03:11.291Z"
   },
   {
    "duration": 53,
    "start_time": "2022-06-13T17:04:11.131Z"
   },
   {
    "duration": 14,
    "start_time": "2022-06-13T17:04:28.115Z"
   },
   {
    "duration": 502,
    "start_time": "2022-06-13T17:05:58.448Z"
   },
   {
    "duration": 238,
    "start_time": "2022-06-13T17:06:13.939Z"
   },
   {
    "duration": 7,
    "start_time": "2022-06-13T17:08:16.368Z"
   },
   {
    "duration": 8,
    "start_time": "2022-06-13T17:10:02.403Z"
   },
   {
    "duration": 5,
    "start_time": "2022-06-13T17:10:13.273Z"
   },
   {
    "duration": 5,
    "start_time": "2022-06-13T17:10:19.474Z"
   },
   {
    "duration": 221,
    "start_time": "2022-06-13T17:23:23.882Z"
   },
   {
    "duration": 151,
    "start_time": "2022-06-13T17:23:54.060Z"
   },
   {
    "duration": 187,
    "start_time": "2022-06-13T17:24:05.524Z"
   },
   {
    "duration": 5,
    "start_time": "2022-06-13T17:26:04.932Z"
   },
   {
    "duration": 141,
    "start_time": "2022-06-13T17:27:51.544Z"
   },
   {
    "duration": 174,
    "start_time": "2022-06-13T17:28:10.040Z"
   },
   {
    "duration": 170,
    "start_time": "2022-06-13T17:28:15.951Z"
   },
   {
    "duration": 26,
    "start_time": "2022-06-13T17:32:47.648Z"
   },
   {
    "duration": 28,
    "start_time": "2022-06-13T17:35:28.186Z"
   },
   {
    "duration": 84,
    "start_time": "2022-06-13T17:38:36.360Z"
   },
   {
    "duration": 155,
    "start_time": "2022-06-13T17:40:40.828Z"
   },
   {
    "duration": 243,
    "start_time": "2022-06-13T17:42:14.890Z"
   },
   {
    "duration": 183,
    "start_time": "2022-06-13T17:43:10.754Z"
   },
   {
    "duration": 191,
    "start_time": "2022-06-13T17:43:20.026Z"
   },
   {
    "duration": 37,
    "start_time": "2022-06-13T17:45:07.493Z"
   },
   {
    "duration": 87,
    "start_time": "2022-06-13T17:45:27.564Z"
   },
   {
    "duration": 224,
    "start_time": "2022-06-13T17:45:36.818Z"
   },
   {
    "duration": 221,
    "start_time": "2022-06-13T17:45:52.057Z"
   },
   {
    "duration": 38,
    "start_time": "2022-06-13T17:46:10.485Z"
   },
   {
    "duration": 198,
    "start_time": "2022-06-13T17:46:20.385Z"
   },
   {
    "duration": 41,
    "start_time": "2022-06-13T17:53:12.799Z"
   },
   {
    "duration": 53,
    "start_time": "2022-06-13T17:54:14.537Z"
   },
   {
    "duration": 58,
    "start_time": "2022-06-13T17:59:36.670Z"
   },
   {
    "duration": 6,
    "start_time": "2022-06-13T18:30:34.778Z"
   },
   {
    "duration": 26,
    "start_time": "2022-06-13T18:30:46.949Z"
   },
   {
    "duration": 28,
    "start_time": "2022-06-13T18:32:01.780Z"
   },
   {
    "duration": 26,
    "start_time": "2022-06-13T18:32:54.924Z"
   },
   {
    "duration": 154,
    "start_time": "2022-06-13T18:34:27.189Z"
   },
   {
    "duration": 11,
    "start_time": "2022-06-13T18:38:43.572Z"
   },
   {
    "duration": 361,
    "start_time": "2022-06-13T18:38:52.703Z"
   },
   {
    "duration": 450,
    "start_time": "2022-06-13T18:39:22.060Z"
   },
   {
    "duration": 398,
    "start_time": "2022-06-13T18:40:21.069Z"
   },
   {
    "duration": 368,
    "start_time": "2022-06-13T18:40:27.613Z"
   },
   {
    "duration": 17,
    "start_time": "2022-06-13T18:42:32.809Z"
   },
   {
    "duration": 511,
    "start_time": "2022-06-13T18:43:12.688Z"
   },
   {
    "duration": 441,
    "start_time": "2022-06-13T18:43:51.152Z"
   },
   {
    "duration": 460,
    "start_time": "2022-06-13T18:44:02.360Z"
   },
   {
    "duration": 478,
    "start_time": "2022-06-13T18:44:17.729Z"
   },
   {
    "duration": 491,
    "start_time": "2022-06-13T18:44:47.577Z"
   },
   {
    "duration": 600,
    "start_time": "2022-06-13T18:44:57.515Z"
   },
   {
    "duration": 1009,
    "start_time": "2022-06-13T18:45:57.442Z"
   },
   {
    "duration": 42,
    "start_time": "2022-06-13T19:01:21.242Z"
   },
   {
    "duration": 28,
    "start_time": "2022-06-13T19:01:28.764Z"
   },
   {
    "duration": 52,
    "start_time": "2022-06-13T19:02:12.077Z"
   },
   {
    "duration": 20,
    "start_time": "2022-06-13T19:02:52.732Z"
   },
   {
    "duration": 38,
    "start_time": "2022-06-13T19:03:29.582Z"
   },
   {
    "duration": 16,
    "start_time": "2022-06-13T19:04:18.359Z"
   },
   {
    "duration": 33,
    "start_time": "2022-06-13T19:04:44.374Z"
   },
   {
    "duration": 22,
    "start_time": "2022-06-13T19:05:13.176Z"
   },
   {
    "duration": 70,
    "start_time": "2022-06-13T19:05:29.159Z"
   },
   {
    "duration": 50,
    "start_time": "2022-06-13T19:14:58.121Z"
   },
   {
    "duration": 53,
    "start_time": "2022-06-13T19:15:03.521Z"
   },
   {
    "duration": 62,
    "start_time": "2022-06-13T19:15:10.298Z"
   },
   {
    "duration": 38,
    "start_time": "2022-06-13T19:15:43.201Z"
   },
   {
    "duration": 24,
    "start_time": "2022-06-13T19:16:28.479Z"
   },
   {
    "duration": 764,
    "start_time": "2022-06-13T19:28:08.170Z"
   },
   {
    "duration": 268,
    "start_time": "2022-06-13T19:28:13.645Z"
   },
   {
    "duration": 173,
    "start_time": "2022-06-13T19:28:16.373Z"
   },
   {
    "duration": 28,
    "start_time": "2022-06-13T19:28:21.757Z"
   },
   {
    "duration": 31,
    "start_time": "2022-06-13T19:28:22.931Z"
   },
   {
    "duration": 39,
    "start_time": "2022-06-13T19:28:23.965Z"
   },
   {
    "duration": 29,
    "start_time": "2022-06-13T19:28:25.222Z"
   },
   {
    "duration": 26,
    "start_time": "2022-06-13T19:28:27.661Z"
   },
   {
    "duration": 51,
    "start_time": "2022-06-13T19:28:28.809Z"
   },
   {
    "duration": 70,
    "start_time": "2022-06-13T19:28:30.185Z"
   },
   {
    "duration": 33,
    "start_time": "2022-06-13T19:28:33.584Z"
   },
   {
    "duration": 88,
    "start_time": "2022-06-13T19:28:35.045Z"
   },
   {
    "duration": 31604,
    "start_time": "2022-06-13T19:28:36.606Z"
   },
   {
    "duration": 610,
    "start_time": "2022-06-13T19:30:32.047Z"
   },
   {
    "duration": 89,
    "start_time": "2022-06-13T19:31:47.289Z"
   },
   {
    "duration": 259,
    "start_time": "2022-06-13T19:33:04.141Z"
   },
   {
    "duration": 231,
    "start_time": "2022-06-13T19:34:16.264Z"
   },
   {
    "duration": 218,
    "start_time": "2022-06-13T19:34:30.959Z"
   },
   {
    "duration": 653,
    "start_time": "2022-06-13T19:35:06.443Z"
   },
   {
    "duration": 747,
    "start_time": "2022-06-13T19:36:04.756Z"
   },
   {
    "duration": 728,
    "start_time": "2022-06-13T19:36:24.313Z"
   },
   {
    "duration": 252,
    "start_time": "2022-06-13T19:36:59.412Z"
   },
   {
    "duration": 713,
    "start_time": "2022-06-13T19:37:17.990Z"
   },
   {
    "duration": 731,
    "start_time": "2022-06-13T19:38:00.321Z"
   },
   {
    "duration": 751,
    "start_time": "2022-06-13T19:38:21.552Z"
   },
   {
    "duration": 799,
    "start_time": "2022-06-13T19:38:50.148Z"
   },
   {
    "duration": 791,
    "start_time": "2022-06-13T19:39:06.733Z"
   },
   {
    "duration": 27,
    "start_time": "2022-06-13T19:42:45.851Z"
   },
   {
    "duration": 56,
    "start_time": "2022-06-13T19:43:33.609Z"
   },
   {
    "duration": 108,
    "start_time": "2022-06-13T19:43:34.468Z"
   },
   {
    "duration": 42,
    "start_time": "2022-06-13T19:43:38.915Z"
   },
   {
    "duration": 122,
    "start_time": "2022-06-13T19:43:46.152Z"
   },
   {
    "duration": 37690,
    "start_time": "2022-06-13T19:43:55.134Z"
   },
   {
    "duration": 1034,
    "start_time": "2022-06-13T19:48:50.008Z"
   },
   {
    "duration": 987,
    "start_time": "2022-06-13T19:49:14.280Z"
   },
   {
    "duration": 929,
    "start_time": "2022-06-13T19:49:24.214Z"
   },
   {
    "duration": 19,
    "start_time": "2022-06-13T19:50:21.564Z"
   },
   {
    "duration": 51,
    "start_time": "2022-06-13T19:53:16.876Z"
   },
   {
    "duration": 48,
    "start_time": "2022-06-13T19:53:23.013Z"
   },
   {
    "duration": 24,
    "start_time": "2022-06-13T19:54:42.041Z"
   },
   {
    "duration": 26,
    "start_time": "2022-06-13T19:56:05.630Z"
   },
   {
    "duration": 55,
    "start_time": "2022-06-13T19:58:31.873Z"
   },
   {
    "duration": 35,
    "start_time": "2022-06-13T19:59:37.106Z"
   },
   {
    "duration": 36,
    "start_time": "2022-06-13T20:00:30.173Z"
   },
   {
    "duration": 16,
    "start_time": "2022-06-13T20:00:46.024Z"
   },
   {
    "duration": 57,
    "start_time": "2022-06-13T20:01:43.460Z"
   },
   {
    "duration": 33,
    "start_time": "2022-06-13T20:11:09.527Z"
   },
   {
    "duration": 7,
    "start_time": "2022-06-13T20:11:17.877Z"
   },
   {
    "duration": 10,
    "start_time": "2022-06-13T20:17:16.235Z"
   },
   {
    "duration": 5,
    "start_time": "2022-06-13T20:21:19.484Z"
   },
   {
    "duration": 80,
    "start_time": "2022-06-13T20:22:12.285Z"
   },
   {
    "duration": 27,
    "start_time": "2022-06-13T20:23:24.238Z"
   },
   {
    "duration": 8,
    "start_time": "2022-06-13T20:24:06.078Z"
   },
   {
    "duration": 7,
    "start_time": "2022-06-13T20:24:41.327Z"
   },
   {
    "duration": 29,
    "start_time": "2022-06-13T20:26:12.329Z"
   },
   {
    "duration": 14,
    "start_time": "2022-06-13T20:32:22.964Z"
   },
   {
    "duration": 40,
    "start_time": "2022-06-13T20:32:38.121Z"
   },
   {
    "duration": 7,
    "start_time": "2022-06-13T20:33:14.975Z"
   },
   {
    "duration": 6,
    "start_time": "2022-06-13T20:33:24.076Z"
   },
   {
    "duration": 6,
    "start_time": "2022-06-13T20:42:08.855Z"
   },
   {
    "duration": 10,
    "start_time": "2022-06-13T20:54:29.331Z"
   },
   {
    "duration": 126,
    "start_time": "2022-06-13T20:57:07.061Z"
   },
   {
    "duration": 6,
    "start_time": "2022-06-13T20:57:27.839Z"
   },
   {
    "duration": 17,
    "start_time": "2022-06-13T20:57:36.229Z"
   },
   {
    "duration": 6,
    "start_time": "2022-06-13T20:57:47.783Z"
   },
   {
    "duration": 8,
    "start_time": "2022-06-13T21:00:04.461Z"
   },
   {
    "duration": 7,
    "start_time": "2022-06-13T21:00:09.356Z"
   },
   {
    "duration": 10,
    "start_time": "2022-06-13T21:00:26.489Z"
   },
   {
    "duration": 117,
    "start_time": "2022-06-13T21:02:08.222Z"
   },
   {
    "duration": 44,
    "start_time": "2022-06-13T21:05:30.759Z"
   },
   {
    "duration": 9,
    "start_time": "2022-06-13T21:06:03.443Z"
   },
   {
    "duration": 7,
    "start_time": "2022-06-13T21:07:52.552Z"
   },
   {
    "duration": 3,
    "start_time": "2022-06-13T21:10:31.284Z"
   },
   {
    "duration": 9,
    "start_time": "2022-06-13T21:10:41.086Z"
   },
   {
    "duration": 7,
    "start_time": "2022-06-13T21:10:43.942Z"
   },
   {
    "duration": 28,
    "start_time": "2022-06-13T21:12:18.157Z"
   },
   {
    "duration": 9,
    "start_time": "2022-06-13T21:12:40.307Z"
   },
   {
    "duration": 7,
    "start_time": "2022-06-13T21:13:04.263Z"
   },
   {
    "duration": 42,
    "start_time": "2022-06-13T21:20:30.566Z"
   },
   {
    "duration": 35,
    "start_time": "2022-06-13T21:20:48.070Z"
   },
   {
    "duration": 47,
    "start_time": "2022-06-13T21:21:24.918Z"
   },
   {
    "duration": 9,
    "start_time": "2022-06-13T21:21:41.520Z"
   },
   {
    "duration": 11,
    "start_time": "2022-06-13T21:22:04.959Z"
   },
   {
    "duration": 6,
    "start_time": "2022-06-13T21:23:27.777Z"
   },
   {
    "duration": 11,
    "start_time": "2022-06-13T21:25:13.346Z"
   },
   {
    "duration": 6,
    "start_time": "2022-06-13T21:26:15.771Z"
   },
   {
    "duration": 24,
    "start_time": "2022-06-13T21:27:43.557Z"
   },
   {
    "duration": 52,
    "start_time": "2022-06-13T21:28:08.390Z"
   },
   {
    "duration": 3101,
    "start_time": "2022-06-13T21:39:55.431Z"
   },
   {
    "duration": 12,
    "start_time": "2022-06-13T21:39:59.719Z"
   },
   {
    "duration": 134,
    "start_time": "2022-06-13T21:39:59.959Z"
   },
   {
    "duration": 90,
    "start_time": "2022-06-13T21:40:00.176Z"
   },
   {
    "duration": 296,
    "start_time": "2022-06-13T21:40:00.591Z"
   },
   {
    "duration": 88,
    "start_time": "2022-06-13T21:40:01.830Z"
   },
   {
    "duration": 183,
    "start_time": "2022-06-13T21:40:02.286Z"
   },
   {
    "duration": 29,
    "start_time": "2022-06-13T21:40:02.729Z"
   },
   {
    "duration": 15,
    "start_time": "2022-06-13T21:40:03.158Z"
   },
   {
    "duration": 48,
    "start_time": "2022-06-13T21:40:03.591Z"
   },
   {
    "duration": 20,
    "start_time": "2022-06-13T21:40:04.055Z"
   },
   {
    "duration": 33,
    "start_time": "2022-06-13T21:40:04.513Z"
   },
   {
    "duration": 14,
    "start_time": "2022-06-13T21:40:04.959Z"
   },
   {
    "duration": 33,
    "start_time": "2022-06-13T21:40:05.415Z"
   },
   {
    "duration": 15,
    "start_time": "2022-06-13T21:40:05.846Z"
   },
   {
    "duration": 33,
    "start_time": "2022-06-13T21:40:06.306Z"
   },
   {
    "duration": 18,
    "start_time": "2022-06-13T21:40:06.749Z"
   },
   {
    "duration": 71,
    "start_time": "2022-06-13T21:40:07.230Z"
   },
   {
    "duration": 27256,
    "start_time": "2022-06-13T21:40:07.467Z"
   },
   {
    "duration": 633,
    "start_time": "2022-06-13T21:40:34.725Z"
   },
   {
    "duration": 21,
    "start_time": "2022-06-13T21:40:35.360Z"
   },
   {
    "duration": 31,
    "start_time": "2022-06-13T21:40:35.394Z"
   },
   {
    "duration": 65,
    "start_time": "2022-06-13T21:40:35.427Z"
   },
   {
    "duration": 62,
    "start_time": "2022-06-13T21:40:35.494Z"
   },
   {
    "duration": 14,
    "start_time": "2022-06-13T21:40:35.557Z"
   },
   {
    "duration": 17,
    "start_time": "2022-06-13T21:40:35.573Z"
   },
   {
    "duration": 50,
    "start_time": "2022-06-13T21:40:35.591Z"
   },
   {
    "duration": 24,
    "start_time": "2022-06-13T21:40:35.643Z"
   },
   {
    "duration": 16,
    "start_time": "2022-06-13T21:40:35.668Z"
   },
   {
    "duration": 62,
    "start_time": "2022-06-13T21:40:35.685Z"
   },
   {
    "duration": 34,
    "start_time": "2022-06-13T21:40:35.749Z"
   },
   {
    "duration": 21,
    "start_time": "2022-06-13T21:40:35.785Z"
   },
   {
    "duration": 537,
    "start_time": "2022-06-13T21:40:35.809Z"
   },
   {
    "duration": 26722,
    "start_time": "2022-06-13T21:40:36.348Z"
   },
   {
    "duration": 684,
    "start_time": "2022-06-13T21:41:03.071Z"
   },
   {
    "duration": 28,
    "start_time": "2022-06-13T21:41:03.756Z"
   },
   {
    "duration": 2,
    "start_time": "2022-06-13T21:49:21.445Z"
   },
   {
    "duration": 17,
    "start_time": "2022-06-13T21:50:14.990Z"
   },
   {
    "duration": 9,
    "start_time": "2022-06-13T21:55:41.762Z"
   },
   {
    "duration": 17,
    "start_time": "2022-06-13T21:56:10.475Z"
   },
   {
    "duration": 650,
    "start_time": "2022-06-13T21:56:26.628Z"
   },
   {
    "duration": 128,
    "start_time": "2022-06-13T21:56:35.483Z"
   },
   {
    "duration": 15,
    "start_time": "2022-06-13T21:58:10.535Z"
   },
   {
    "duration": 78,
    "start_time": "2022-06-13T21:58:13.541Z"
   },
   {
    "duration": 9,
    "start_time": "2022-06-13T21:58:26.189Z"
   },
   {
    "duration": 13,
    "start_time": "2022-06-13T22:03:20.167Z"
   },
   {
    "duration": 15,
    "start_time": "2022-06-13T22:03:57.971Z"
   },
   {
    "duration": 2241,
    "start_time": "2022-06-13T22:05:02.635Z"
   },
   {
    "duration": 1392,
    "start_time": "2022-06-13T22:05:04.878Z"
   },
   {
    "duration": 835,
    "start_time": "2022-06-13T22:05:06.271Z"
   },
   {
    "duration": 20,
    "start_time": "2022-06-13T22:05:07.110Z"
   },
   {
    "duration": 139,
    "start_time": "2022-06-13T22:05:07.132Z"
   },
   {
    "duration": 93,
    "start_time": "2022-06-13T22:05:07.273Z"
   },
   {
    "duration": 328,
    "start_time": "2022-06-13T22:05:07.368Z"
   },
   {
    "duration": 84,
    "start_time": "2022-06-13T22:05:07.697Z"
   },
   {
    "duration": 181,
    "start_time": "2022-06-13T22:05:07.783Z"
   },
   {
    "duration": 41,
    "start_time": "2022-06-13T22:05:07.966Z"
   },
   {
    "duration": 25,
    "start_time": "2022-06-13T22:05:08.023Z"
   },
   {
    "duration": 25,
    "start_time": "2022-06-13T22:05:08.049Z"
   },
   {
    "duration": 20,
    "start_time": "2022-06-13T22:05:08.075Z"
   },
   {
    "duration": 54,
    "start_time": "2022-06-13T22:05:08.104Z"
   },
   {
    "duration": 17,
    "start_time": "2022-06-13T22:05:08.160Z"
   },
   {
    "duration": 35,
    "start_time": "2022-06-13T22:05:08.178Z"
   },
   {
    "duration": 50,
    "start_time": "2022-06-13T22:05:08.215Z"
   },
   {
    "duration": 25,
    "start_time": "2022-06-13T22:05:08.266Z"
   },
   {
    "duration": 68,
    "start_time": "2022-06-13T22:05:08.294Z"
   },
   {
    "duration": 88,
    "start_time": "2022-06-13T22:05:08.364Z"
   },
   {
    "duration": 28289,
    "start_time": "2022-06-13T22:05:08.454Z"
   },
   {
    "duration": 639,
    "start_time": "2022-06-13T22:05:36.745Z"
   },
   {
    "duration": 29,
    "start_time": "2022-06-13T22:05:37.386Z"
   },
   {
    "duration": 56,
    "start_time": "2022-06-13T22:05:37.416Z"
   },
   {
    "duration": 36,
    "start_time": "2022-06-13T22:05:37.473Z"
   },
   {
    "duration": 29,
    "start_time": "2022-06-13T22:05:37.510Z"
   },
   {
    "duration": 7,
    "start_time": "2022-06-13T22:05:37.540Z"
   },
   {
    "duration": 4,
    "start_time": "2022-06-13T22:05:37.550Z"
   },
   {
    "duration": 7,
    "start_time": "2022-06-13T22:05:37.555Z"
   },
   {
    "duration": 29,
    "start_time": "2022-06-13T22:05:37.563Z"
   },
   {
    "duration": 16,
    "start_time": "2022-06-13T22:05:37.598Z"
   },
   {
    "duration": 29,
    "start_time": "2022-06-13T22:05:37.616Z"
   },
   {
    "duration": 11,
    "start_time": "2022-06-13T22:05:37.646Z"
   },
   {
    "duration": 6,
    "start_time": "2022-06-13T22:05:37.658Z"
   },
   {
    "duration": 543,
    "start_time": "2022-06-13T22:05:37.665Z"
   },
   {
    "duration": 89,
    "start_time": "2022-06-13T22:05:38.211Z"
   },
   {
    "duration": 23,
    "start_time": "2022-06-13T22:05:38.306Z"
   },
   {
    "duration": 91,
    "start_time": "2022-06-13T22:05:38.330Z"
   },
   {
    "duration": 9,
    "start_time": "2022-06-13T22:05:38.425Z"
   },
   {
    "duration": 213,
    "start_time": "2022-06-13T22:05:38.439Z"
   },
   {
    "duration": 0,
    "start_time": "2022-06-13T22:05:38.653Z"
   },
   {
    "duration": 0,
    "start_time": "2022-06-13T22:05:38.654Z"
   },
   {
    "duration": 0,
    "start_time": "2022-06-13T22:05:38.655Z"
   },
   {
    "duration": 0,
    "start_time": "2022-06-13T22:05:38.657Z"
   },
   {
    "duration": 0,
    "start_time": "2022-06-13T22:05:38.658Z"
   },
   {
    "duration": 0,
    "start_time": "2022-06-13T22:05:38.659Z"
   },
   {
    "duration": 15,
    "start_time": "2022-06-13T22:07:10.247Z"
   },
   {
    "duration": 18,
    "start_time": "2022-06-13T22:07:38.149Z"
   },
   {
    "duration": 10425,
    "start_time": "2022-06-13T22:07:59.581Z"
   },
   {
    "duration": 3,
    "start_time": "2022-06-13T22:08:41.711Z"
   },
   {
    "duration": 87,
    "start_time": "2022-06-13T22:08:52.424Z"
   },
   {
    "duration": 598,
    "start_time": "2022-06-13T22:09:28.824Z"
   },
   {
    "duration": 21,
    "start_time": "2022-06-13T22:10:00.308Z"
   },
   {
    "duration": 2546,
    "start_time": "2022-06-13T22:11:08.420Z"
   },
   {
    "duration": 1263,
    "start_time": "2022-06-13T22:11:10.968Z"
   },
   {
    "duration": 804,
    "start_time": "2022-06-13T22:11:12.233Z"
   },
   {
    "duration": 15,
    "start_time": "2022-06-13T22:11:13.039Z"
   },
   {
    "duration": 162,
    "start_time": "2022-06-13T22:11:13.057Z"
   },
   {
    "duration": 108,
    "start_time": "2022-06-13T22:11:13.231Z"
   },
   {
    "duration": 295,
    "start_time": "2022-06-13T22:11:13.343Z"
   },
   {
    "duration": 76,
    "start_time": "2022-06-13T22:11:13.639Z"
   },
   {
    "duration": 210,
    "start_time": "2022-06-13T22:11:13.717Z"
   },
   {
    "duration": 32,
    "start_time": "2022-06-13T22:11:13.932Z"
   },
   {
    "duration": 20,
    "start_time": "2022-06-13T22:11:13.966Z"
   },
   {
    "duration": 47,
    "start_time": "2022-06-13T22:11:13.988Z"
   },
   {
    "duration": 28,
    "start_time": "2022-06-13T22:11:14.036Z"
   },
   {
    "duration": 61,
    "start_time": "2022-06-13T22:11:14.067Z"
   },
   {
    "duration": 30,
    "start_time": "2022-06-13T22:11:14.130Z"
   },
   {
    "duration": 26,
    "start_time": "2022-06-13T22:11:14.161Z"
   },
   {
    "duration": 53,
    "start_time": "2022-06-13T22:11:14.189Z"
   },
   {
    "duration": 29,
    "start_time": "2022-06-13T22:11:14.245Z"
   },
   {
    "duration": 27,
    "start_time": "2022-06-13T22:11:14.275Z"
   },
   {
    "duration": 111,
    "start_time": "2022-06-13T22:11:14.303Z"
   },
   {
    "duration": 29827,
    "start_time": "2022-06-13T22:11:14.415Z"
   },
   {
    "duration": 595,
    "start_time": "2022-06-13T22:11:44.244Z"
   },
   {
    "duration": 22,
    "start_time": "2022-06-13T22:11:44.841Z"
   },
   {
    "duration": 48,
    "start_time": "2022-06-13T22:11:44.864Z"
   },
   {
    "duration": 40,
    "start_time": "2022-06-13T22:11:44.913Z"
   },
   {
    "duration": 23,
    "start_time": "2022-06-13T22:11:44.954Z"
   },
   {
    "duration": 14,
    "start_time": "2022-06-13T22:11:44.991Z"
   },
   {
    "duration": 29,
    "start_time": "2022-06-13T22:11:45.013Z"
   },
   {
    "duration": 11,
    "start_time": "2022-06-13T22:11:45.043Z"
   },
   {
    "duration": 13,
    "start_time": "2022-06-13T22:11:45.055Z"
   },
   {
    "duration": 6,
    "start_time": "2022-06-13T22:11:45.069Z"
   },
   {
    "duration": 11,
    "start_time": "2022-06-13T22:11:45.076Z"
   },
   {
    "duration": 48,
    "start_time": "2022-06-13T22:11:45.089Z"
   },
   {
    "duration": 10,
    "start_time": "2022-06-13T22:11:45.138Z"
   },
   {
    "duration": 569,
    "start_time": "2022-06-13T22:11:45.150Z"
   },
   {
    "duration": 77,
    "start_time": "2022-06-13T22:11:45.721Z"
   },
   {
    "duration": 17,
    "start_time": "2022-06-13T22:11:45.799Z"
   },
   {
    "duration": 104,
    "start_time": "2022-06-13T22:11:45.817Z"
   },
   {
    "duration": 7,
    "start_time": "2022-06-13T22:11:45.923Z"
   },
   {
    "duration": 20,
    "start_time": "2022-06-13T22:11:45.931Z"
   },
   {
    "duration": 96,
    "start_time": "2022-06-13T22:11:45.954Z"
   },
   {
    "duration": 726,
    "start_time": "2022-06-13T22:11:46.052Z"
   },
   {
    "duration": 0,
    "start_time": "2022-06-13T22:11:46.780Z"
   },
   {
    "duration": 90,
    "start_time": "2022-06-13T22:18:59.434Z"
   },
   {
    "duration": 3653,
    "start_time": "2022-06-20T11:43:10.770Z"
   },
   {
    "duration": 1412,
    "start_time": "2022-06-20T11:43:14.425Z"
   },
   {
    "duration": 2637,
    "start_time": "2022-06-20T11:43:15.838Z"
   },
   {
    "duration": 15,
    "start_time": "2022-06-20T11:43:18.477Z"
   },
   {
    "duration": 104,
    "start_time": "2022-06-20T11:43:18.493Z"
   },
   {
    "duration": 81,
    "start_time": "2022-06-20T11:43:18.598Z"
   },
   {
    "duration": 250,
    "start_time": "2022-06-20T11:43:18.691Z"
   },
   {
    "duration": 70,
    "start_time": "2022-06-20T11:43:18.943Z"
   },
   {
    "duration": 146,
    "start_time": "2022-06-20T11:43:19.014Z"
   },
   {
    "duration": 32,
    "start_time": "2022-06-20T11:43:19.162Z"
   },
   {
    "duration": 16,
    "start_time": "2022-06-20T11:43:19.195Z"
   },
   {
    "duration": 24,
    "start_time": "2022-06-20T11:43:19.213Z"
   },
   {
    "duration": 19,
    "start_time": "2022-06-20T11:43:19.238Z"
   },
   {
    "duration": 46,
    "start_time": "2022-06-20T11:43:19.258Z"
   },
   {
    "duration": 15,
    "start_time": "2022-06-20T11:43:19.305Z"
   },
   {
    "duration": 26,
    "start_time": "2022-06-20T11:43:19.321Z"
   },
   {
    "duration": 17,
    "start_time": "2022-06-20T11:43:19.348Z"
   },
   {
    "duration": 45,
    "start_time": "2022-06-20T11:43:19.366Z"
   },
   {
    "duration": 18,
    "start_time": "2022-06-20T11:43:19.412Z"
   },
   {
    "duration": 78,
    "start_time": "2022-06-20T11:43:19.431Z"
   },
   {
    "duration": 22671,
    "start_time": "2022-06-20T11:43:19.510Z"
   },
   {
    "duration": 499,
    "start_time": "2022-06-20T11:43:42.182Z"
   },
   {
    "duration": 26,
    "start_time": "2022-06-20T11:43:42.683Z"
   },
   {
    "duration": 29,
    "start_time": "2022-06-20T11:43:42.710Z"
   },
   {
    "duration": 32,
    "start_time": "2022-06-20T11:43:42.740Z"
   },
   {
    "duration": 43,
    "start_time": "2022-06-20T11:43:42.773Z"
   },
   {
    "duration": 4,
    "start_time": "2022-06-20T11:43:42.818Z"
   },
   {
    "duration": 4,
    "start_time": "2022-06-20T11:43:42.825Z"
   },
   {
    "duration": 7,
    "start_time": "2022-06-20T11:43:42.831Z"
   },
   {
    "duration": 9,
    "start_time": "2022-06-20T11:43:42.839Z"
   },
   {
    "duration": 4,
    "start_time": "2022-06-20T11:43:42.850Z"
   },
   {
    "duration": 37,
    "start_time": "2022-06-20T11:43:42.855Z"
   },
   {
    "duration": 10,
    "start_time": "2022-06-20T11:43:42.893Z"
   },
   {
    "duration": 5,
    "start_time": "2022-06-20T11:43:42.905Z"
   },
   {
    "duration": 464,
    "start_time": "2022-06-20T11:43:42.911Z"
   },
   {
    "duration": 65,
    "start_time": "2022-06-20T11:43:43.376Z"
   },
   {
    "duration": 13,
    "start_time": "2022-06-20T11:43:43.443Z"
   },
   {
    "duration": 81,
    "start_time": "2022-06-20T11:43:43.458Z"
   },
   {
    "duration": 4,
    "start_time": "2022-06-20T11:43:43.540Z"
   },
   {
    "duration": 72,
    "start_time": "2022-06-20T11:43:43.545Z"
   },
   {
    "duration": 0,
    "start_time": "2022-06-20T11:43:43.619Z"
   },
   {
    "duration": 0,
    "start_time": "2022-06-20T11:43:43.620Z"
   },
   {
    "duration": 0,
    "start_time": "2022-06-20T11:43:43.620Z"
   },
   {
    "duration": 62,
    "start_time": "2022-06-20T11:48:41.047Z"
   },
   {
    "duration": 3,
    "start_time": "2022-06-20T11:49:35.810Z"
   },
   {
    "duration": 3,
    "start_time": "2022-06-20T12:14:54.772Z"
   },
   {
    "duration": 122,
    "start_time": "2022-06-20T12:28:42.347Z"
   },
   {
    "duration": 14,
    "start_time": "2022-06-20T12:31:07.990Z"
   },
   {
    "duration": 84,
    "start_time": "2022-06-20T12:31:40.194Z"
   },
   {
    "duration": 24,
    "start_time": "2022-06-20T12:31:54.606Z"
   },
   {
    "duration": 8,
    "start_time": "2022-06-20T12:33:59.119Z"
   },
   {
    "duration": 6,
    "start_time": "2022-06-20T12:34:04.956Z"
   },
   {
    "duration": 3,
    "start_time": "2022-06-20T12:34:21.796Z"
   },
   {
    "duration": 4093,
    "start_time": "2022-06-20T12:36:36.557Z"
   },
   {
    "duration": 3,
    "start_time": "2022-06-20T12:37:34.420Z"
   },
   {
    "duration": 1559,
    "start_time": "2022-06-20T12:37:37.159Z"
   },
   {
    "duration": 3,
    "start_time": "2022-06-20T12:38:08.298Z"
   },
   {
    "duration": 3,
    "start_time": "2022-06-20T12:38:42.430Z"
   },
   {
    "duration": 3,
    "start_time": "2022-06-20T12:38:45.609Z"
   },
   {
    "duration": 3,
    "start_time": "2022-06-20T12:38:53.486Z"
   },
   {
    "duration": 4,
    "start_time": "2022-06-20T12:38:53.888Z"
   },
   {
    "duration": 591,
    "start_time": "2022-06-20T12:38:59.623Z"
   },
   {
    "duration": 1199,
    "start_time": "2022-06-20T12:39:15.360Z"
   },
   {
    "duration": 3,
    "start_time": "2022-06-20T12:41:13.242Z"
   },
   {
    "duration": 27,
    "start_time": "2022-06-20T12:41:37.286Z"
   },
   {
    "duration": 4,
    "start_time": "2022-06-20T12:43:05.858Z"
   },
   {
    "duration": 9,
    "start_time": "2022-06-20T12:43:09.723Z"
   },
   {
    "duration": 8,
    "start_time": "2022-06-20T12:54:19.756Z"
   },
   {
    "duration": 14,
    "start_time": "2022-06-20T12:56:35.211Z"
   },
   {
    "duration": 65,
    "start_time": "2022-06-20T12:56:36.357Z"
   },
   {
    "duration": 3,
    "start_time": "2022-06-20T12:56:37.184Z"
   },
   {
    "duration": 3,
    "start_time": "2022-06-20T12:56:38.655Z"
   },
   {
    "duration": 5,
    "start_time": "2022-06-20T12:57:05.676Z"
   },
   {
    "duration": 5,
    "start_time": "2022-06-20T12:59:50.863Z"
   },
   {
    "duration": 3,
    "start_time": "2022-06-20T13:00:24.105Z"
   },
   {
    "duration": 1096,
    "start_time": "2022-06-20T13:01:06.502Z"
   },
   {
    "duration": 2,
    "start_time": "2022-06-20T13:01:24.882Z"
   },
   {
    "duration": 16,
    "start_time": "2022-06-20T13:01:27.159Z"
   },
   {
    "duration": 21,
    "start_time": "2022-06-20T13:01:32.957Z"
   },
   {
    "duration": 73,
    "start_time": "2022-06-20T13:01:33.861Z"
   },
   {
    "duration": 3,
    "start_time": "2022-06-20T13:01:34.626Z"
   },
   {
    "duration": 4,
    "start_time": "2022-06-20T13:01:36.929Z"
   },
   {
    "duration": 3,
    "start_time": "2022-06-20T13:01:37.513Z"
   },
   {
    "duration": 1022,
    "start_time": "2022-06-20T13:01:39.982Z"
   },
   {
    "duration": 16,
    "start_time": "2022-06-20T13:05:57.700Z"
   },
   {
    "duration": 64,
    "start_time": "2022-06-20T13:05:59.057Z"
   },
   {
    "duration": 4,
    "start_time": "2022-06-20T13:05:59.980Z"
   },
   {
    "duration": 3,
    "start_time": "2022-06-20T13:06:01.761Z"
   },
   {
    "duration": 3,
    "start_time": "2022-06-20T13:06:02.777Z"
   },
   {
    "duration": 8,
    "start_time": "2022-06-20T13:08:09.989Z"
   },
   {
    "duration": 9,
    "start_time": "2022-06-20T13:08:22.253Z"
   },
   {
    "duration": 7,
    "start_time": "2022-06-20T13:08:28.254Z"
   },
   {
    "duration": 29,
    "start_time": "2022-06-20T13:13:24.191Z"
   },
   {
    "duration": 79,
    "start_time": "2022-06-20T13:13:24.985Z"
   },
   {
    "duration": 4,
    "start_time": "2022-06-20T13:13:25.761Z"
   },
   {
    "duration": 3,
    "start_time": "2022-06-20T13:13:30.884Z"
   },
   {
    "duration": 2,
    "start_time": "2022-06-20T13:13:31.479Z"
   },
   {
    "duration": 1203,
    "start_time": "2022-06-20T13:13:31.907Z"
   },
   {
    "duration": 9,
    "start_time": "2022-06-20T13:15:56.016Z"
   },
   {
    "duration": 9458,
    "start_time": "2022-06-20T13:16:04.059Z"
   },
   {
    "duration": 10,
    "start_time": "2022-06-20T13:16:18.251Z"
   },
   {
    "duration": 17,
    "start_time": "2022-06-20T13:17:48.185Z"
   },
   {
    "duration": 28,
    "start_time": "2022-06-20T13:18:20.706Z"
   },
   {
    "duration": 4,
    "start_time": "2022-06-20T13:19:39.861Z"
   },
   {
    "duration": 16,
    "start_time": "2022-06-20T13:20:02.720Z"
   },
   {
    "duration": 10068,
    "start_time": "2022-06-20T13:20:49.913Z"
   },
   {
    "duration": 16,
    "start_time": "2022-06-20T13:20:59.983Z"
   },
   {
    "duration": 7,
    "start_time": "2022-06-20T13:22:37.413Z"
   },
   {
    "duration": 737479,
    "start_time": "2022-06-20T13:22:56.049Z"
   },
   {
    "duration": 82,
    "start_time": "2022-06-20T13:35:13.533Z"
   },
   {
    "duration": 7701,
    "start_time": "2022-06-21T12:00:08.715Z"
   },
   {
    "duration": 1941,
    "start_time": "2022-06-21T12:00:16.419Z"
   },
   {
    "duration": 1925,
    "start_time": "2022-06-21T12:00:18.363Z"
   },
   {
    "duration": 17,
    "start_time": "2022-06-21T12:00:20.290Z"
   },
   {
    "duration": 236,
    "start_time": "2022-06-21T12:00:20.309Z"
   },
   {
    "duration": 119,
    "start_time": "2022-06-21T12:00:20.555Z"
   },
   {
    "duration": 363,
    "start_time": "2022-06-21T12:00:20.679Z"
   },
   {
    "duration": 126,
    "start_time": "2022-06-21T12:00:21.047Z"
   },
   {
    "duration": 293,
    "start_time": "2022-06-21T12:00:21.176Z"
   },
   {
    "duration": 36,
    "start_time": "2022-06-21T12:00:21.480Z"
   },
   {
    "duration": 93,
    "start_time": "2022-06-21T12:00:21.519Z"
   },
   {
    "duration": 71,
    "start_time": "2022-06-21T12:00:21.614Z"
   },
   {
    "duration": 32,
    "start_time": "2022-06-21T12:00:21.687Z"
   },
   {
    "duration": 74,
    "start_time": "2022-06-21T12:00:21.721Z"
   },
   {
    "duration": 28,
    "start_time": "2022-06-21T12:00:21.796Z"
   },
   {
    "duration": 71,
    "start_time": "2022-06-21T12:00:21.828Z"
   },
   {
    "duration": 27,
    "start_time": "2022-06-21T12:00:21.901Z"
   },
   {
    "duration": 62,
    "start_time": "2022-06-21T12:00:21.944Z"
   },
   {
    "duration": 36,
    "start_time": "2022-06-21T12:00:22.008Z"
   },
   {
    "duration": 155,
    "start_time": "2022-06-21T12:00:22.050Z"
   },
   {
    "duration": 36039,
    "start_time": "2022-06-21T12:00:22.207Z"
   },
   {
    "duration": 793,
    "start_time": "2022-06-21T12:00:58.250Z"
   },
   {
    "duration": 39,
    "start_time": "2022-06-21T12:00:59.049Z"
   },
   {
    "duration": 69,
    "start_time": "2022-06-21T12:00:59.089Z"
   },
   {
    "duration": 49,
    "start_time": "2022-06-21T12:00:59.161Z"
   },
   {
    "duration": 55,
    "start_time": "2022-06-21T12:00:59.212Z"
   },
   {
    "duration": 36,
    "start_time": "2022-06-21T12:00:59.269Z"
   },
   {
    "duration": 45,
    "start_time": "2022-06-21T12:00:59.312Z"
   },
   {
    "duration": 23,
    "start_time": "2022-06-21T12:00:59.360Z"
   },
   {
    "duration": 13,
    "start_time": "2022-06-21T12:00:59.387Z"
   },
   {
    "duration": 6,
    "start_time": "2022-06-21T12:00:59.402Z"
   },
   {
    "duration": 11,
    "start_time": "2022-06-21T12:00:59.410Z"
   },
   {
    "duration": 44,
    "start_time": "2022-06-21T12:00:59.425Z"
   },
   {
    "duration": 11,
    "start_time": "2022-06-21T12:00:59.474Z"
   },
   {
    "duration": 760,
    "start_time": "2022-06-21T12:00:59.486Z"
   },
   {
    "duration": 136,
    "start_time": "2022-06-21T12:01:00.256Z"
   },
   {
    "duration": 45,
    "start_time": "2022-06-21T12:01:00.394Z"
   },
   {
    "duration": 123,
    "start_time": "2022-06-21T12:01:00.451Z"
   },
   {
    "duration": 6,
    "start_time": "2022-06-21T12:01:00.577Z"
   },
   {
    "duration": 15,
    "start_time": "2022-06-21T12:01:00.585Z"
   },
   {
    "duration": 10,
    "start_time": "2022-06-21T12:01:00.601Z"
   },
   {
    "duration": 1717,
    "start_time": "2022-06-21T12:01:00.613Z"
   },
   {
    "duration": 10,
    "start_time": "2022-06-21T12:01:02.337Z"
   },
   {
    "duration": 107,
    "start_time": "2022-06-21T12:01:02.349Z"
   },
   {
    "duration": 431305,
    "start_time": "2022-06-21T12:01:02.466Z"
   },
   {
    "duration": 42,
    "start_time": "2022-06-21T12:19:19.193Z"
   },
   {
    "duration": 2791,
    "start_time": "2022-06-21T12:35:28.094Z"
   },
   {
    "duration": 1633,
    "start_time": "2022-06-21T12:35:30.888Z"
   },
   {
    "duration": 1045,
    "start_time": "2022-06-21T12:35:32.523Z"
   },
   {
    "duration": 15,
    "start_time": "2022-06-21T12:35:33.571Z"
   },
   {
    "duration": 197,
    "start_time": "2022-06-21T12:35:33.588Z"
   },
   {
    "duration": 101,
    "start_time": "2022-06-21T12:35:33.787Z"
   },
   {
    "duration": 366,
    "start_time": "2022-06-21T12:35:33.889Z"
   },
   {
    "duration": 145,
    "start_time": "2022-06-21T12:35:34.257Z"
   },
   {
    "duration": 258,
    "start_time": "2022-06-21T12:35:34.404Z"
   },
   {
    "duration": 35,
    "start_time": "2022-06-21T12:35:34.666Z"
   },
   {
    "duration": 40,
    "start_time": "2022-06-21T12:35:34.702Z"
   },
   {
    "duration": 44,
    "start_time": "2022-06-21T12:35:34.752Z"
   },
   {
    "duration": 21,
    "start_time": "2022-06-21T12:35:34.798Z"
   },
   {
    "duration": 59,
    "start_time": "2022-06-21T12:35:34.820Z"
   },
   {
    "duration": 20,
    "start_time": "2022-06-21T12:35:34.880Z"
   },
   {
    "duration": 49,
    "start_time": "2022-06-21T12:35:34.902Z"
   },
   {
    "duration": 34,
    "start_time": "2022-06-21T12:35:34.953Z"
   },
   {
    "duration": 65,
    "start_time": "2022-06-21T12:35:34.988Z"
   },
   {
    "duration": 28,
    "start_time": "2022-06-21T12:35:35.061Z"
   },
   {
    "duration": 112,
    "start_time": "2022-06-21T12:35:35.091Z"
   },
   {
    "duration": 37675,
    "start_time": "2022-06-21T12:35:35.205Z"
   },
   {
    "duration": 852,
    "start_time": "2022-06-21T12:36:12.882Z"
   },
   {
    "duration": 36,
    "start_time": "2022-06-21T12:36:13.739Z"
   },
   {
    "duration": 56,
    "start_time": "2022-06-21T12:36:13.777Z"
   },
   {
    "duration": 56,
    "start_time": "2022-06-21T12:36:13.843Z"
   },
   {
    "duration": 39,
    "start_time": "2022-06-21T12:36:13.901Z"
   },
   {
    "duration": 8,
    "start_time": "2022-06-21T12:36:13.943Z"
   },
   {
    "duration": 24,
    "start_time": "2022-06-21T12:36:13.959Z"
   },
   {
    "duration": 20,
    "start_time": "2022-06-21T12:36:13.985Z"
   },
   {
    "duration": 9,
    "start_time": "2022-06-21T12:36:14.007Z"
   },
   {
    "duration": 17,
    "start_time": "2022-06-21T12:36:14.017Z"
   },
   {
    "duration": 62,
    "start_time": "2022-06-21T12:36:14.036Z"
   },
   {
    "duration": 15,
    "start_time": "2022-06-21T12:36:14.101Z"
   },
   {
    "duration": 12,
    "start_time": "2022-06-21T12:36:14.118Z"
   },
   {
    "duration": 782,
    "start_time": "2022-06-21T12:36:14.134Z"
   },
   {
    "duration": 148,
    "start_time": "2022-06-21T12:36:14.918Z"
   },
   {
    "duration": 23,
    "start_time": "2022-06-21T12:36:15.072Z"
   },
   {
    "duration": 113,
    "start_time": "2022-06-21T12:36:15.097Z"
   },
   {
    "duration": 5,
    "start_time": "2022-06-21T12:36:15.212Z"
   },
   {
    "duration": 68,
    "start_time": "2022-06-21T12:36:15.219Z"
   },
   {
    "duration": 7,
    "start_time": "2022-06-21T12:36:15.289Z"
   },
   {
    "duration": 1883,
    "start_time": "2022-06-21T12:36:15.297Z"
   },
   {
    "duration": 8,
    "start_time": "2022-06-21T12:36:17.190Z"
   },
   {
    "duration": 107,
    "start_time": "2022-06-21T12:36:17.200Z"
   },
   {
    "duration": 266634,
    "start_time": "2022-06-21T12:36:17.308Z"
   },
   {
    "duration": 242,
    "start_time": "2022-06-21T12:40:43.949Z"
   },
   {
    "duration": 3916617,
    "start_time": "2022-06-21T12:45:19.207Z"
   },
   {
    "duration": 21,
    "start_time": "2022-06-21T13:50:35.831Z"
   },
   {
    "duration": 12,
    "start_time": "2022-06-21T13:51:16.306Z"
   },
   {
    "duration": 16,
    "start_time": "2022-06-21T13:51:31.617Z"
   },
   {
    "duration": 5786,
    "start_time": "2022-06-21T13:51:52.557Z"
   },
   {
    "duration": 6052,
    "start_time": "2022-06-21T13:56:42.312Z"
   },
   {
    "duration": 3380729,
    "start_time": "2022-06-21T15:00:19.579Z"
   },
   {
    "duration": 4631,
    "start_time": "2022-06-21T15:56:40.309Z"
   },
   {
    "duration": 742893,
    "start_time": "2022-06-21T16:00:12.021Z"
   },
   {
    "duration": 8,
    "start_time": "2022-06-21T16:12:34.916Z"
   },
   {
    "duration": 2503,
    "start_time": "2022-06-21T16:46:02.475Z"
   },
   {
    "duration": 1620,
    "start_time": "2022-06-21T16:46:04.982Z"
   },
   {
    "duration": 880,
    "start_time": "2022-06-21T16:46:06.604Z"
   },
   {
    "duration": 22,
    "start_time": "2022-06-21T16:46:07.486Z"
   },
   {
    "duration": 165,
    "start_time": "2022-06-21T16:46:07.522Z"
   },
   {
    "duration": 114,
    "start_time": "2022-06-21T16:46:07.689Z"
   },
   {
    "duration": 320,
    "start_time": "2022-06-21T16:46:07.805Z"
   },
   {
    "duration": 105,
    "start_time": "2022-06-21T16:46:08.127Z"
   },
   {
    "duration": 191,
    "start_time": "2022-06-21T16:46:08.234Z"
   },
   {
    "duration": 34,
    "start_time": "2022-06-21T16:46:08.426Z"
   },
   {
    "duration": 25,
    "start_time": "2022-06-21T16:46:08.461Z"
   },
   {
    "duration": 52,
    "start_time": "2022-06-21T16:46:08.488Z"
   },
   {
    "duration": 25,
    "start_time": "2022-06-21T16:46:08.542Z"
   },
   {
    "duration": 37,
    "start_time": "2022-06-21T16:46:08.570Z"
   },
   {
    "duration": 22,
    "start_time": "2022-06-21T16:46:08.624Z"
   },
   {
    "duration": 38,
    "start_time": "2022-06-21T16:46:08.648Z"
   },
   {
    "duration": 44,
    "start_time": "2022-06-21T16:46:08.687Z"
   },
   {
    "duration": 37,
    "start_time": "2022-06-21T16:46:08.733Z"
   },
   {
    "duration": 25,
    "start_time": "2022-06-21T16:46:08.772Z"
   },
   {
    "duration": 102,
    "start_time": "2022-06-21T16:46:08.799Z"
   },
   {
    "duration": 27064,
    "start_time": "2022-06-21T16:46:08.903Z"
   },
   {
    "duration": 619,
    "start_time": "2022-06-21T16:46:35.970Z"
   },
   {
    "duration": 37,
    "start_time": "2022-06-21T16:46:36.591Z"
   },
   {
    "duration": 36,
    "start_time": "2022-06-21T16:46:36.630Z"
   },
   {
    "duration": 58,
    "start_time": "2022-06-21T16:46:36.668Z"
   },
   {
    "duration": 29,
    "start_time": "2022-06-21T16:46:36.727Z"
   },
   {
    "duration": 6,
    "start_time": "2022-06-21T16:46:36.758Z"
   },
   {
    "duration": 8,
    "start_time": "2022-06-21T16:46:36.765Z"
   },
   {
    "duration": 7,
    "start_time": "2022-06-21T16:46:36.774Z"
   },
   {
    "duration": 46,
    "start_time": "2022-06-21T16:46:36.783Z"
   },
   {
    "duration": 6,
    "start_time": "2022-06-21T16:46:36.830Z"
   },
   {
    "duration": 9,
    "start_time": "2022-06-21T16:46:36.838Z"
   },
   {
    "duration": 16,
    "start_time": "2022-06-21T16:46:36.849Z"
   },
   {
    "duration": 8,
    "start_time": "2022-06-21T16:46:36.866Z"
   },
   {
    "duration": 654,
    "start_time": "2022-06-21T16:46:36.876Z"
   },
   {
    "duration": 102,
    "start_time": "2022-06-21T16:46:37.532Z"
   },
   {
    "duration": 16,
    "start_time": "2022-06-21T16:46:37.636Z"
   },
   {
    "duration": 88,
    "start_time": "2022-06-21T16:46:37.654Z"
   },
   {
    "duration": 4,
    "start_time": "2022-06-21T16:46:37.743Z"
   },
   {
    "duration": 7,
    "start_time": "2022-06-21T16:46:37.749Z"
   },
   {
    "duration": 4,
    "start_time": "2022-06-21T16:46:37.759Z"
   },
   {
    "duration": 1366,
    "start_time": "2022-06-21T16:46:37.764Z"
   },
   {
    "duration": 5,
    "start_time": "2022-06-21T16:46:39.132Z"
   },
   {
    "duration": 65,
    "start_time": "2022-06-21T16:46:39.139Z"
   },
   {
    "duration": 278914,
    "start_time": "2022-06-21T16:46:39.222Z"
   },
   {
    "duration": 567261,
    "start_time": "2022-06-21T16:51:18.141Z"
   },
   {
    "duration": 317634,
    "start_time": "2022-06-21T17:00:45.404Z"
   },
   {
    "duration": 2448,
    "start_time": "2022-06-21T17:18:25.819Z"
   },
   {
    "duration": 1681,
    "start_time": "2022-06-21T17:18:28.270Z"
   },
   {
    "duration": 889,
    "start_time": "2022-06-21T17:18:29.954Z"
   },
   {
    "duration": 16,
    "start_time": "2022-06-21T17:18:30.845Z"
   },
   {
    "duration": 162,
    "start_time": "2022-06-21T17:18:30.863Z"
   },
   {
    "duration": 154,
    "start_time": "2022-06-21T17:18:31.027Z"
   },
   {
    "duration": 327,
    "start_time": "2022-06-21T17:18:31.183Z"
   },
   {
    "duration": 123,
    "start_time": "2022-06-21T17:18:31.512Z"
   },
   {
    "duration": 179,
    "start_time": "2022-06-21T17:18:31.637Z"
   },
   {
    "duration": 41,
    "start_time": "2022-06-21T17:18:31.818Z"
   },
   {
    "duration": 28,
    "start_time": "2022-06-21T17:18:31.860Z"
   },
   {
    "duration": 49,
    "start_time": "2022-06-21T17:18:31.889Z"
   },
   {
    "duration": 23,
    "start_time": "2022-06-21T17:18:31.940Z"
   },
   {
    "duration": 44,
    "start_time": "2022-06-21T17:18:31.966Z"
   },
   {
    "duration": 21,
    "start_time": "2022-06-21T17:18:32.031Z"
   },
   {
    "duration": 32,
    "start_time": "2022-06-21T17:18:32.053Z"
   },
   {
    "duration": 21,
    "start_time": "2022-06-21T17:18:32.087Z"
   },
   {
    "duration": 35,
    "start_time": "2022-06-21T17:18:32.128Z"
   },
   {
    "duration": 23,
    "start_time": "2022-06-21T17:18:32.165Z"
   },
   {
    "duration": 97,
    "start_time": "2022-06-21T17:18:32.190Z"
   },
   {
    "duration": 28414,
    "start_time": "2022-06-21T17:18:32.289Z"
   },
   {
    "duration": 633,
    "start_time": "2022-06-21T17:19:00.705Z"
   },
   {
    "duration": 28,
    "start_time": "2022-06-21T17:19:01.340Z"
   },
   {
    "duration": 34,
    "start_time": "2022-06-21T17:19:01.370Z"
   },
   {
    "duration": 60,
    "start_time": "2022-06-21T17:19:01.406Z"
   },
   {
    "duration": 27,
    "start_time": "2022-06-21T17:19:01.467Z"
   },
   {
    "duration": 53,
    "start_time": "2022-06-21T17:19:01.496Z"
   },
   {
    "duration": 18,
    "start_time": "2022-06-21T17:19:01.552Z"
   },
   {
    "duration": 21,
    "start_time": "2022-06-21T17:19:01.572Z"
   },
   {
    "duration": 41,
    "start_time": "2022-06-21T17:19:01.595Z"
   },
   {
    "duration": 17,
    "start_time": "2022-06-21T17:19:01.638Z"
   },
   {
    "duration": 26,
    "start_time": "2022-06-21T17:19:01.657Z"
   },
   {
    "duration": 25,
    "start_time": "2022-06-21T17:19:01.685Z"
   },
   {
    "duration": 31,
    "start_time": "2022-06-21T17:19:01.712Z"
   },
   {
    "duration": 593,
    "start_time": "2022-06-21T17:19:01.745Z"
   },
   {
    "duration": 99,
    "start_time": "2022-06-21T17:19:02.339Z"
   },
   {
    "duration": 18,
    "start_time": "2022-06-21T17:19:02.439Z"
   },
   {
    "duration": 93,
    "start_time": "2022-06-21T17:19:02.459Z"
   },
   {
    "duration": 4,
    "start_time": "2022-06-21T17:19:02.556Z"
   },
   {
    "duration": 28,
    "start_time": "2022-06-21T17:19:02.562Z"
   },
   {
    "duration": 13,
    "start_time": "2022-06-21T17:19:02.594Z"
   },
   {
    "duration": 1384,
    "start_time": "2022-06-21T17:19:02.610Z"
   },
   {
    "duration": 4,
    "start_time": "2022-06-21T17:19:03.996Z"
   },
   {
    "duration": 314934,
    "start_time": "2022-06-21T17:19:04.002Z"
   },
   {
    "duration": 2516,
    "start_time": "2022-06-21T17:35:09.834Z"
   },
   {
    "duration": 1526,
    "start_time": "2022-06-21T17:35:12.353Z"
   },
   {
    "duration": 889,
    "start_time": "2022-06-21T17:35:13.881Z"
   },
   {
    "duration": 15,
    "start_time": "2022-06-21T17:35:14.773Z"
   },
   {
    "duration": 170,
    "start_time": "2022-06-21T17:35:14.790Z"
   },
   {
    "duration": 102,
    "start_time": "2022-06-21T17:35:14.962Z"
   },
   {
    "duration": 357,
    "start_time": "2022-06-21T17:35:15.066Z"
   },
   {
    "duration": 112,
    "start_time": "2022-06-21T17:35:15.425Z"
   },
   {
    "duration": 188,
    "start_time": "2022-06-21T17:35:15.539Z"
   },
   {
    "duration": 39,
    "start_time": "2022-06-21T17:35:15.730Z"
   },
   {
    "duration": 52,
    "start_time": "2022-06-21T17:35:15.771Z"
   },
   {
    "duration": 36,
    "start_time": "2022-06-21T17:35:15.825Z"
   },
   {
    "duration": 24,
    "start_time": "2022-06-21T17:35:15.863Z"
   },
   {
    "duration": 62,
    "start_time": "2022-06-21T17:35:15.889Z"
   },
   {
    "duration": 25,
    "start_time": "2022-06-21T17:35:15.952Z"
   },
   {
    "duration": 51,
    "start_time": "2022-06-21T17:35:15.979Z"
   },
   {
    "duration": 23,
    "start_time": "2022-06-21T17:35:16.032Z"
   },
   {
    "duration": 33,
    "start_time": "2022-06-21T17:35:16.057Z"
   },
   {
    "duration": 35,
    "start_time": "2022-06-21T17:35:16.092Z"
   },
   {
    "duration": 95,
    "start_time": "2022-06-21T17:35:16.129Z"
   },
   {
    "duration": 28162,
    "start_time": "2022-06-21T17:35:16.225Z"
   },
   {
    "duration": 601,
    "start_time": "2022-06-21T17:35:44.390Z"
   },
   {
    "duration": 37,
    "start_time": "2022-06-21T17:35:44.993Z"
   },
   {
    "duration": 38,
    "start_time": "2022-06-21T17:35:45.032Z"
   },
   {
    "duration": 59,
    "start_time": "2022-06-21T17:35:45.072Z"
   },
   {
    "duration": 29,
    "start_time": "2022-06-21T17:35:45.133Z"
   },
   {
    "duration": 5,
    "start_time": "2022-06-21T17:35:45.164Z"
   },
   {
    "duration": 11,
    "start_time": "2022-06-21T17:35:45.172Z"
   },
   {
    "duration": 10,
    "start_time": "2022-06-21T17:35:45.185Z"
   },
   {
    "duration": 29,
    "start_time": "2022-06-21T17:35:45.196Z"
   },
   {
    "duration": 5,
    "start_time": "2022-06-21T17:35:45.226Z"
   },
   {
    "duration": 11,
    "start_time": "2022-06-21T17:35:45.233Z"
   },
   {
    "duration": 14,
    "start_time": "2022-06-21T17:35:45.246Z"
   },
   {
    "duration": 7,
    "start_time": "2022-06-21T17:35:45.262Z"
   },
   {
    "duration": 598,
    "start_time": "2022-06-21T17:35:45.271Z"
   },
   {
    "duration": 94,
    "start_time": "2022-06-21T17:35:45.871Z"
   },
   {
    "duration": 17,
    "start_time": "2022-06-21T17:35:45.966Z"
   },
   {
    "duration": 88,
    "start_time": "2022-06-21T17:35:45.985Z"
   },
   {
    "duration": 4,
    "start_time": "2022-06-21T17:35:46.074Z"
   },
   {
    "duration": 11,
    "start_time": "2022-06-21T17:35:46.080Z"
   },
   {
    "duration": 14,
    "start_time": "2022-06-21T17:35:46.093Z"
   },
   {
    "duration": 1305,
    "start_time": "2022-06-21T17:35:46.108Z"
   },
   {
    "duration": 7,
    "start_time": "2022-06-21T17:35:47.416Z"
   },
   {
    "duration": 318015,
    "start_time": "2022-06-21T17:35:47.424Z"
   },
   {
    "duration": 801151,
    "start_time": "2022-06-21T17:41:05.441Z"
   },
   {
    "duration": 210948,
    "start_time": "2022-06-21T17:54:26.594Z"
   },
   {
    "duration": 2513,
    "start_time": "2022-06-21T18:45:44.502Z"
   },
   {
    "duration": 1575,
    "start_time": "2022-06-21T18:45:47.018Z"
   },
   {
    "duration": 915,
    "start_time": "2022-06-21T18:45:48.594Z"
   },
   {
    "duration": 24,
    "start_time": "2022-06-21T18:45:49.511Z"
   },
   {
    "duration": 147,
    "start_time": "2022-06-21T18:45:49.537Z"
   },
   {
    "duration": 100,
    "start_time": "2022-06-21T18:45:49.686Z"
   },
   {
    "duration": 331,
    "start_time": "2022-06-21T18:45:49.787Z"
   },
   {
    "duration": 115,
    "start_time": "2022-06-21T18:45:50.120Z"
   },
   {
    "duration": 184,
    "start_time": "2022-06-21T18:45:50.237Z"
   },
   {
    "duration": 46,
    "start_time": "2022-06-21T18:45:50.424Z"
   },
   {
    "duration": 38,
    "start_time": "2022-06-21T18:45:50.471Z"
   },
   {
    "duration": 51,
    "start_time": "2022-06-21T18:45:50.510Z"
   },
   {
    "duration": 23,
    "start_time": "2022-06-21T18:45:50.563Z"
   },
   {
    "duration": 50,
    "start_time": "2022-06-21T18:45:50.588Z"
   },
   {
    "duration": 22,
    "start_time": "2022-06-21T18:45:50.639Z"
   },
   {
    "duration": 33,
    "start_time": "2022-06-21T18:45:50.663Z"
   },
   {
    "duration": 37,
    "start_time": "2022-06-21T18:45:50.697Z"
   },
   {
    "duration": 36,
    "start_time": "2022-06-21T18:45:50.736Z"
   },
   {
    "duration": 24,
    "start_time": "2022-06-21T18:45:50.774Z"
   },
   {
    "duration": 106,
    "start_time": "2022-06-21T18:45:50.799Z"
   },
   {
    "duration": 28385,
    "start_time": "2022-06-21T18:45:50.907Z"
   },
   {
    "duration": 592,
    "start_time": "2022-06-21T18:46:19.295Z"
   },
   {
    "duration": 25,
    "start_time": "2022-06-21T18:46:19.889Z"
   },
   {
    "duration": 38,
    "start_time": "2022-06-21T18:46:19.923Z"
   },
   {
    "duration": 60,
    "start_time": "2022-06-21T18:46:19.964Z"
   },
   {
    "duration": 26,
    "start_time": "2022-06-21T18:46:20.026Z"
   },
   {
    "duration": 6,
    "start_time": "2022-06-21T18:46:20.053Z"
   },
   {
    "duration": 7,
    "start_time": "2022-06-21T18:46:20.063Z"
   },
   {
    "duration": 7,
    "start_time": "2022-06-21T18:46:20.071Z"
   },
   {
    "duration": 10,
    "start_time": "2022-06-21T18:46:20.079Z"
   },
   {
    "duration": 34,
    "start_time": "2022-06-21T18:46:20.091Z"
   },
   {
    "duration": 7,
    "start_time": "2022-06-21T18:46:20.126Z"
   },
   {
    "duration": 12,
    "start_time": "2022-06-21T18:46:20.135Z"
   },
   {
    "duration": 7,
    "start_time": "2022-06-21T18:46:20.149Z"
   },
   {
    "duration": 560,
    "start_time": "2022-06-21T18:46:20.158Z"
   },
   {
    "duration": 85,
    "start_time": "2022-06-21T18:46:20.720Z"
   },
   {
    "duration": 29,
    "start_time": "2022-06-21T18:46:20.807Z"
   },
   {
    "duration": 73,
    "start_time": "2022-06-21T18:46:20.838Z"
   },
   {
    "duration": 3,
    "start_time": "2022-06-21T18:46:20.923Z"
   },
   {
    "duration": 6,
    "start_time": "2022-06-21T18:46:20.928Z"
   },
   {
    "duration": 7,
    "start_time": "2022-06-21T18:46:20.935Z"
   },
   {
    "duration": 1267,
    "start_time": "2022-06-21T18:46:20.943Z"
   },
   {
    "duration": 4,
    "start_time": "2022-06-21T18:46:22.212Z"
   },
   {
    "duration": 324217,
    "start_time": "2022-06-21T18:46:22.222Z"
   },
   {
    "duration": 528608,
    "start_time": "2022-06-21T18:51:46.442Z"
   },
   {
    "duration": 206087,
    "start_time": "2022-06-21T19:00:35.052Z"
   },
   {
    "duration": 2423,
    "start_time": "2022-06-21T19:09:44.091Z"
   },
   {
    "duration": 1486,
    "start_time": "2022-06-21T19:09:46.516Z"
   },
   {
    "duration": 799,
    "start_time": "2022-06-21T19:09:48.004Z"
   },
   {
    "duration": 14,
    "start_time": "2022-06-21T19:09:48.805Z"
   },
   {
    "duration": 145,
    "start_time": "2022-06-21T19:09:48.824Z"
   },
   {
    "duration": 113,
    "start_time": "2022-06-21T19:09:48.971Z"
   },
   {
    "duration": 314,
    "start_time": "2022-06-21T19:09:49.085Z"
   },
   {
    "duration": 90,
    "start_time": "2022-06-21T19:09:49.401Z"
   },
   {
    "duration": 186,
    "start_time": "2022-06-21T19:09:49.492Z"
   },
   {
    "duration": 32,
    "start_time": "2022-06-21T19:09:49.680Z"
   },
   {
    "duration": 19,
    "start_time": "2022-06-21T19:09:49.723Z"
   },
   {
    "duration": 34,
    "start_time": "2022-06-21T19:09:49.744Z"
   },
   {
    "duration": 25,
    "start_time": "2022-06-21T19:09:49.780Z"
   },
   {
    "duration": 48,
    "start_time": "2022-06-21T19:09:49.809Z"
   },
   {
    "duration": 21,
    "start_time": "2022-06-21T19:09:49.859Z"
   },
   {
    "duration": 50,
    "start_time": "2022-06-21T19:09:49.882Z"
   },
   {
    "duration": 25,
    "start_time": "2022-06-21T19:09:49.934Z"
   },
   {
    "duration": 38,
    "start_time": "2022-06-21T19:09:49.961Z"
   },
   {
    "duration": 45,
    "start_time": "2022-06-21T19:09:50.001Z"
   },
   {
    "duration": 92,
    "start_time": "2022-06-21T19:09:50.048Z"
   },
   {
    "duration": 26791,
    "start_time": "2022-06-21T19:09:50.141Z"
   },
   {
    "duration": 599,
    "start_time": "2022-06-21T19:10:16.934Z"
   },
   {
    "duration": 23,
    "start_time": "2022-06-21T19:10:17.534Z"
   },
   {
    "duration": 34,
    "start_time": "2022-06-21T19:10:17.558Z"
   },
   {
    "duration": 58,
    "start_time": "2022-06-21T19:10:17.593Z"
   },
   {
    "duration": 30,
    "start_time": "2022-06-21T19:10:17.653Z"
   },
   {
    "duration": 6,
    "start_time": "2022-06-21T19:10:17.684Z"
   },
   {
    "duration": 7,
    "start_time": "2022-06-21T19:10:17.692Z"
   },
   {
    "duration": 25,
    "start_time": "2022-06-21T19:10:17.700Z"
   },
   {
    "duration": 9,
    "start_time": "2022-06-21T19:10:17.726Z"
   },
   {
    "duration": 5,
    "start_time": "2022-06-21T19:10:17.736Z"
   },
   {
    "duration": 11,
    "start_time": "2022-06-21T19:10:17.743Z"
   },
   {
    "duration": 12,
    "start_time": "2022-06-21T19:10:17.756Z"
   },
   {
    "duration": 7,
    "start_time": "2022-06-21T19:10:17.769Z"
   },
   {
    "duration": 606,
    "start_time": "2022-06-21T19:10:17.777Z"
   },
   {
    "duration": 93,
    "start_time": "2022-06-21T19:10:18.385Z"
   },
   {
    "duration": 16,
    "start_time": "2022-06-21T19:10:18.480Z"
   },
   {
    "duration": 85,
    "start_time": "2022-06-21T19:10:18.498Z"
   },
   {
    "duration": 4,
    "start_time": "2022-06-21T19:10:18.585Z"
   },
   {
    "duration": 5,
    "start_time": "2022-06-21T19:10:18.591Z"
   },
   {
    "duration": 4,
    "start_time": "2022-06-21T19:10:18.599Z"
   },
   {
    "duration": 1278,
    "start_time": "2022-06-21T19:10:18.604Z"
   },
   {
    "duration": 5,
    "start_time": "2022-06-21T19:10:19.883Z"
   },
   {
    "duration": 355538,
    "start_time": "2022-06-21T19:10:19.890Z"
   },
   {
    "duration": 543275,
    "start_time": "2022-06-21T19:16:15.430Z"
   },
   {
    "duration": 126040,
    "start_time": "2022-06-21T19:25:18.707Z"
   },
   {
    "duration": 3332,
    "start_time": "2022-06-21T20:26:50.948Z"
   },
   {
    "duration": 1493,
    "start_time": "2022-06-21T20:26:54.282Z"
   },
   {
    "duration": 833,
    "start_time": "2022-06-21T20:26:55.777Z"
   },
   {
    "duration": 16,
    "start_time": "2022-06-21T20:26:56.612Z"
   },
   {
    "duration": 144,
    "start_time": "2022-06-21T20:26:56.629Z"
   },
   {
    "duration": 104,
    "start_time": "2022-06-21T20:26:56.774Z"
   },
   {
    "duration": 306,
    "start_time": "2022-06-21T20:26:56.879Z"
   },
   {
    "duration": 87,
    "start_time": "2022-06-21T20:26:57.187Z"
   },
   {
    "duration": 178,
    "start_time": "2022-06-21T20:26:57.276Z"
   },
   {
    "duration": 31,
    "start_time": "2022-06-21T20:26:57.457Z"
   },
   {
    "duration": 34,
    "start_time": "2022-06-21T20:26:57.489Z"
   },
   {
    "duration": 30,
    "start_time": "2022-06-21T20:26:57.525Z"
   },
   {
    "duration": 22,
    "start_time": "2022-06-21T20:26:57.557Z"
   },
   {
    "duration": 47,
    "start_time": "2022-06-21T20:26:57.581Z"
   },
   {
    "duration": 21,
    "start_time": "2022-06-21T20:26:57.630Z"
   },
   {
    "duration": 32,
    "start_time": "2022-06-21T20:26:57.653Z"
   },
   {
    "duration": 36,
    "start_time": "2022-06-21T20:26:57.687Z"
   },
   {
    "duration": 30,
    "start_time": "2022-06-21T20:26:57.725Z"
   },
   {
    "duration": 26,
    "start_time": "2022-06-21T20:26:57.756Z"
   },
   {
    "duration": 90,
    "start_time": "2022-06-21T20:26:57.784Z"
   },
   {
    "duration": 26779,
    "start_time": "2022-06-21T20:26:57.876Z"
   },
   {
    "duration": 635,
    "start_time": "2022-06-21T20:27:24.657Z"
   },
   {
    "duration": 36,
    "start_time": "2022-06-21T20:27:25.294Z"
   },
   {
    "duration": 38,
    "start_time": "2022-06-21T20:27:25.332Z"
   },
   {
    "duration": 53,
    "start_time": "2022-06-21T20:27:25.373Z"
   },
   {
    "duration": 28,
    "start_time": "2022-06-21T20:27:25.428Z"
   },
   {
    "duration": 6,
    "start_time": "2022-06-21T20:27:25.457Z"
   },
   {
    "duration": 5,
    "start_time": "2022-06-21T20:27:25.466Z"
   },
   {
    "duration": 7,
    "start_time": "2022-06-21T20:27:25.472Z"
   },
   {
    "duration": 12,
    "start_time": "2022-06-21T20:27:25.481Z"
   },
   {
    "duration": 31,
    "start_time": "2022-06-21T20:27:25.494Z"
   },
   {
    "duration": 10,
    "start_time": "2022-06-21T20:27:25.527Z"
   },
   {
    "duration": 15,
    "start_time": "2022-06-21T20:27:25.539Z"
   },
   {
    "duration": 7,
    "start_time": "2022-06-21T20:27:25.556Z"
   },
   {
    "duration": 552,
    "start_time": "2022-06-21T20:27:25.565Z"
   },
   {
    "duration": 83,
    "start_time": "2022-06-21T20:27:26.123Z"
   },
   {
    "duration": 29,
    "start_time": "2022-06-21T20:27:26.208Z"
   },
   {
    "duration": 71,
    "start_time": "2022-06-21T20:27:26.239Z"
   },
   {
    "duration": 12,
    "start_time": "2022-06-21T20:27:26.312Z"
   },
   {
    "duration": 9,
    "start_time": "2022-06-21T20:27:26.326Z"
   },
   {
    "duration": 13,
    "start_time": "2022-06-21T20:27:26.337Z"
   },
   {
    "duration": 1182,
    "start_time": "2022-06-21T20:27:26.352Z"
   },
   {
    "duration": 4,
    "start_time": "2022-06-21T20:27:27.536Z"
   },
   {
    "duration": 60,
    "start_time": "2022-06-21T20:27:27.542Z"
   },
   {
    "duration": 0,
    "start_time": "2022-06-21T20:27:27.603Z"
   },
   {
    "duration": 0,
    "start_time": "2022-06-21T20:27:27.605Z"
   },
   {
    "duration": 0,
    "start_time": "2022-06-21T20:27:27.606Z"
   },
   {
    "duration": 0,
    "start_time": "2022-06-21T20:27:27.607Z"
   },
   {
    "duration": 0,
    "start_time": "2022-06-21T20:27:27.608Z"
   },
   {
    "duration": 0,
    "start_time": "2022-06-21T20:27:27.609Z"
   },
   {
    "duration": 0,
    "start_time": "2022-06-21T20:27:27.610Z"
   },
   {
    "duration": 1717,
    "start_time": "2022-06-21T20:32:27.743Z"
   },
   {
    "duration": 9,
    "start_time": "2022-06-21T20:33:00.621Z"
   },
   {
    "duration": 1002,
    "start_time": "2022-06-21T20:33:01.353Z"
   },
   {
    "duration": 37,
    "start_time": "2022-06-21T20:33:36.796Z"
   },
   {
    "duration": 24,
    "start_time": "2022-06-21T20:33:37.650Z"
   },
   {
    "duration": 45,
    "start_time": "2022-06-21T20:33:38.112Z"
   },
   {
    "duration": 22,
    "start_time": "2022-06-21T20:33:38.545Z"
   },
   {
    "duration": 49,
    "start_time": "2022-06-21T20:33:38.992Z"
   },
   {
    "duration": 33,
    "start_time": "2022-06-21T20:33:39.435Z"
   },
   {
    "duration": 49,
    "start_time": "2022-06-21T20:33:39.903Z"
   },
   {
    "duration": 37,
    "start_time": "2022-06-21T20:33:40.497Z"
   },
   {
    "duration": 36,
    "start_time": "2022-06-21T20:33:41.341Z"
   },
   {
    "duration": 21,
    "start_time": "2022-06-21T20:33:41.801Z"
   },
   {
    "duration": 169,
    "start_time": "2022-06-21T20:33:42.459Z"
   },
   {
    "duration": 66,
    "start_time": "2022-06-21T20:33:54.384Z"
   },
   {
    "duration": 314,
    "start_time": "2022-06-21T20:33:56.736Z"
   },
   {
    "duration": 9,
    "start_time": "2022-06-21T20:34:06.344Z"
   },
   {
    "duration": 7,
    "start_time": "2022-06-21T20:34:11.640Z"
   },
   {
    "duration": 935,
    "start_time": "2022-06-21T20:34:27.223Z"
   },
   {
    "duration": 24,
    "start_time": "2022-06-21T20:34:31.319Z"
   },
   {
    "duration": 77,
    "start_time": "2022-06-21T20:34:33.336Z"
   },
   {
    "duration": 4,
    "start_time": "2022-06-21T20:34:35.015Z"
   },
   {
    "duration": 4,
    "start_time": "2022-06-21T20:34:56.204Z"
   },
   {
    "duration": 119,
    "start_time": "2022-06-21T20:35:05.960Z"
   },
   {
    "duration": 14,
    "start_time": "2022-06-21T20:35:31.616Z"
   },
   {
    "duration": 20,
    "start_time": "2022-06-21T20:36:08.627Z"
   },
   {
    "duration": 5,
    "start_time": "2022-06-21T20:36:29.256Z"
   },
   {
    "duration": 4,
    "start_time": "2022-06-21T20:36:35.920Z"
   },
   {
    "duration": 11,
    "start_time": "2022-06-21T20:36:40.586Z"
   },
   {
    "duration": 27,
    "start_time": "2022-06-21T20:36:51.530Z"
   },
   {
    "duration": 23,
    "start_time": "2022-06-21T20:38:22.642Z"
   },
   {
    "duration": 26,
    "start_time": "2022-06-21T20:40:12.906Z"
   },
   {
    "duration": 11,
    "start_time": "2022-06-21T20:40:25.770Z"
   },
   {
    "duration": 36,
    "start_time": "2022-06-21T20:40:45.105Z"
   },
   {
    "duration": 7,
    "start_time": "2022-06-21T20:40:58.409Z"
   },
   {
    "duration": 72,
    "start_time": "2022-06-21T20:41:36.306Z"
   },
   {
    "duration": 15,
    "start_time": "2022-06-21T20:42:54.730Z"
   },
   {
    "duration": 30,
    "start_time": "2022-06-21T20:43:01.373Z"
   },
   {
    "duration": 33,
    "start_time": "2022-06-21T20:44:24.708Z"
   },
   {
    "duration": 35,
    "start_time": "2022-06-21T20:44:33.818Z"
   },
   {
    "duration": 30,
    "start_time": "2022-06-21T20:44:41.555Z"
   },
   {
    "duration": 28,
    "start_time": "2022-06-21T20:44:48.116Z"
   },
   {
    "duration": 33,
    "start_time": "2022-06-21T20:44:53.211Z"
   },
   {
    "duration": 39,
    "start_time": "2022-06-21T20:44:59.617Z"
   },
   {
    "duration": 40,
    "start_time": "2022-06-21T20:45:05.420Z"
   },
   {
    "duration": 39,
    "start_time": "2022-06-21T20:45:11.412Z"
   },
   {
    "duration": 34,
    "start_time": "2022-06-21T20:45:17.608Z"
   },
   {
    "duration": 28,
    "start_time": "2022-06-21T20:45:24.500Z"
   },
   {
    "duration": 29,
    "start_time": "2022-06-21T20:45:31.044Z"
   },
   {
    "duration": 32,
    "start_time": "2022-06-21T20:45:36.267Z"
   },
   {
    "duration": 2551,
    "start_time": "2022-06-21T20:48:14.520Z"
   },
   {
    "duration": 1515,
    "start_time": "2022-06-21T20:48:17.073Z"
   },
   {
    "duration": 925,
    "start_time": "2022-06-21T20:48:18.589Z"
   },
   {
    "duration": 20,
    "start_time": "2022-06-21T20:48:19.516Z"
   },
   {
    "duration": 160,
    "start_time": "2022-06-21T20:48:19.539Z"
   },
   {
    "duration": 100,
    "start_time": "2022-06-21T20:48:19.701Z"
   },
   {
    "duration": 338,
    "start_time": "2022-06-21T20:48:19.803Z"
   },
   {
    "duration": 103,
    "start_time": "2022-06-21T20:48:20.143Z"
   },
   {
    "duration": 202,
    "start_time": "2022-06-21T20:48:20.248Z"
   },
   {
    "duration": 34,
    "start_time": "2022-06-21T20:48:20.453Z"
   },
   {
    "duration": 35,
    "start_time": "2022-06-21T20:48:20.489Z"
   },
   {
    "duration": 41,
    "start_time": "2022-06-21T20:48:20.527Z"
   },
   {
    "duration": 22,
    "start_time": "2022-06-21T20:48:20.570Z"
   },
   {
    "duration": 67,
    "start_time": "2022-06-21T20:48:20.594Z"
   },
   {
    "duration": 22,
    "start_time": "2022-06-21T20:48:20.663Z"
   },
   {
    "duration": 40,
    "start_time": "2022-06-21T20:48:20.687Z"
   },
   {
    "duration": 40,
    "start_time": "2022-06-21T20:48:20.729Z"
   },
   {
    "duration": 32,
    "start_time": "2022-06-21T20:48:20.770Z"
   },
   {
    "duration": 38,
    "start_time": "2022-06-21T20:48:20.804Z"
   },
   {
    "duration": 120,
    "start_time": "2022-06-21T20:48:20.844Z"
   },
   {
    "duration": 30379,
    "start_time": "2022-06-21T20:48:20.965Z"
   },
   {
    "duration": 660,
    "start_time": "2022-06-21T20:48:51.347Z"
   },
   {
    "duration": 36,
    "start_time": "2022-06-21T20:48:52.008Z"
   },
   {
    "duration": 33,
    "start_time": "2022-06-21T20:48:52.047Z"
   },
   {
    "duration": 67,
    "start_time": "2022-06-21T20:48:52.082Z"
   },
   {
    "duration": 27,
    "start_time": "2022-06-21T20:48:52.151Z"
   },
   {
    "duration": 6,
    "start_time": "2022-06-21T20:48:52.180Z"
   },
   {
    "duration": 9,
    "start_time": "2022-06-21T20:48:52.189Z"
   },
   {
    "duration": 24,
    "start_time": "2022-06-21T20:48:52.200Z"
   },
   {
    "duration": 16,
    "start_time": "2022-06-21T20:48:52.226Z"
   },
   {
    "duration": 14,
    "start_time": "2022-06-21T20:48:52.243Z"
   },
   {
    "duration": 8,
    "start_time": "2022-06-21T20:48:52.259Z"
   },
   {
    "duration": 12,
    "start_time": "2022-06-21T20:48:52.269Z"
   },
   {
    "duration": 7,
    "start_time": "2022-06-21T20:48:52.283Z"
   },
   {
    "duration": 655,
    "start_time": "2022-06-21T20:48:52.291Z"
   },
   {
    "duration": 102,
    "start_time": "2022-06-21T20:48:52.947Z"
   },
   {
    "duration": 16,
    "start_time": "2022-06-21T20:48:53.050Z"
   },
   {
    "duration": 97,
    "start_time": "2022-06-21T20:48:53.068Z"
   },
   {
    "duration": 4,
    "start_time": "2022-06-21T20:48:53.167Z"
   },
   {
    "duration": 12,
    "start_time": "2022-06-21T20:48:53.173Z"
   },
   {
    "duration": 9,
    "start_time": "2022-06-21T20:48:53.186Z"
   },
   {
    "duration": 1329,
    "start_time": "2022-06-21T20:48:53.196Z"
   },
   {
    "duration": 7,
    "start_time": "2022-06-21T20:48:54.527Z"
   },
   {
    "duration": 15,
    "start_time": "2022-06-21T20:48:54.536Z"
   },
   {
    "duration": 327984,
    "start_time": "2022-06-21T20:48:54.553Z"
   },
   {
    "duration": 42637,
    "start_time": "2022-06-21T20:54:22.540Z"
   },
   {
    "duration": 321897,
    "start_time": "2022-06-21T20:55:05.179Z"
   },
   {
    "duration": 70463,
    "start_time": "2022-06-21T21:00:27.077Z"
   },
   {
    "duration": 27,
    "start_time": "2022-06-21T21:01:37.542Z"
   },
   {
    "duration": 53,
    "start_time": "2022-06-21T21:01:37.570Z"
   },
   {
    "duration": 4,
    "start_time": "2022-06-21T21:08:56.475Z"
   },
   {
    "duration": 2347,
    "start_time": "2022-06-21T21:09:27.281Z"
   },
   {
    "duration": 1468,
    "start_time": "2022-06-21T21:09:29.630Z"
   },
   {
    "duration": 810,
    "start_time": "2022-06-21T21:09:31.100Z"
   },
   {
    "duration": 16,
    "start_time": "2022-06-21T21:09:31.912Z"
   },
   {
    "duration": 143,
    "start_time": "2022-06-21T21:09:31.929Z"
   },
   {
    "duration": 95,
    "start_time": "2022-06-21T21:09:32.074Z"
   },
   {
    "duration": 295,
    "start_time": "2022-06-21T21:09:32.170Z"
   },
   {
    "duration": 117,
    "start_time": "2022-06-21T21:09:32.467Z"
   },
   {
    "duration": 219,
    "start_time": "2022-06-21T21:09:32.586Z"
   },
   {
    "duration": 38,
    "start_time": "2022-06-21T21:09:32.808Z"
   },
   {
    "duration": 21,
    "start_time": "2022-06-21T21:09:32.848Z"
   },
   {
    "duration": 30,
    "start_time": "2022-06-21T21:09:32.871Z"
   },
   {
    "duration": 41,
    "start_time": "2022-06-21T21:09:32.903Z"
   },
   {
    "duration": 34,
    "start_time": "2022-06-21T21:09:32.945Z"
   },
   {
    "duration": 19,
    "start_time": "2022-06-21T21:09:32.980Z"
   },
   {
    "duration": 47,
    "start_time": "2022-06-21T21:09:33.001Z"
   },
   {
    "duration": 21,
    "start_time": "2022-06-21T21:09:33.050Z"
   },
   {
    "duration": 51,
    "start_time": "2022-06-21T21:09:33.073Z"
   },
   {
    "duration": 22,
    "start_time": "2022-06-21T21:09:33.126Z"
   },
   {
    "duration": 101,
    "start_time": "2022-06-21T21:09:33.150Z"
   },
   {
    "duration": 25862,
    "start_time": "2022-06-21T21:09:33.253Z"
   },
   {
    "duration": 584,
    "start_time": "2022-06-21T21:09:59.117Z"
   },
   {
    "duration": 32,
    "start_time": "2022-06-21T21:09:59.703Z"
   },
   {
    "duration": 34,
    "start_time": "2022-06-21T21:09:59.737Z"
   },
   {
    "duration": 53,
    "start_time": "2022-06-21T21:09:59.773Z"
   },
   {
    "duration": 27,
    "start_time": "2022-06-21T21:09:59.828Z"
   },
   {
    "duration": 5,
    "start_time": "2022-06-21T21:09:59.857Z"
   },
   {
    "duration": 7,
    "start_time": "2022-06-21T21:09:59.865Z"
   },
   {
    "duration": 7,
    "start_time": "2022-06-21T21:09:59.873Z"
   },
   {
    "duration": 11,
    "start_time": "2022-06-21T21:09:59.882Z"
   },
   {
    "duration": 29,
    "start_time": "2022-06-21T21:09:59.895Z"
   },
   {
    "duration": 7,
    "start_time": "2022-06-21T21:09:59.926Z"
   },
   {
    "duration": 12,
    "start_time": "2022-06-21T21:09:59.935Z"
   },
   {
    "duration": 20,
    "start_time": "2022-06-21T21:09:59.948Z"
   },
   {
    "duration": 555,
    "start_time": "2022-06-21T21:09:59.970Z"
   },
   {
    "duration": 81,
    "start_time": "2022-06-21T21:10:00.527Z"
   },
   {
    "duration": 25,
    "start_time": "2022-06-21T21:10:00.610Z"
   },
   {
    "duration": 71,
    "start_time": "2022-06-21T21:10:00.637Z"
   },
   {
    "duration": 14,
    "start_time": "2022-06-21T21:10:00.710Z"
   },
   {
    "duration": 8,
    "start_time": "2022-06-21T21:10:00.726Z"
   },
   {
    "duration": 8,
    "start_time": "2022-06-21T21:10:00.736Z"
   },
   {
    "duration": 1223,
    "start_time": "2022-06-21T21:10:00.745Z"
   },
   {
    "duration": 5,
    "start_time": "2022-06-21T21:10:01.970Z"
   },
   {
    "duration": 20,
    "start_time": "2022-06-21T21:10:01.977Z"
   },
   {
    "duration": 351970,
    "start_time": "2022-06-21T21:10:01.999Z"
   },
   {
    "duration": 0,
    "start_time": "2022-06-21T21:15:53.971Z"
   },
   {
    "duration": 0,
    "start_time": "2022-06-21T21:15:53.973Z"
   },
   {
    "duration": 0,
    "start_time": "2022-06-21T21:15:53.975Z"
   },
   {
    "duration": 0,
    "start_time": "2022-06-21T21:15:53.976Z"
   },
   {
    "duration": 0,
    "start_time": "2022-06-21T21:15:53.978Z"
   },
   {
    "duration": 6,
    "start_time": "2022-06-21T21:18:22.896Z"
   },
   {
    "duration": 4,
    "start_time": "2022-06-21T21:18:38.713Z"
   },
   {
    "duration": 5,
    "start_time": "2022-06-21T21:18:52.009Z"
   },
   {
    "duration": 4,
    "start_time": "2022-06-21T21:20:23.050Z"
   },
   {
    "duration": 41049,
    "start_time": "2022-06-21T21:20:50.594Z"
   },
   {
    "duration": 0,
    "start_time": "2022-06-21T21:21:31.645Z"
   },
   {
    "duration": 20,
    "start_time": "2022-06-21T21:22:05.589Z"
   },
   {
    "duration": 41107,
    "start_time": "2022-06-21T21:22:22.076Z"
   },
   {
    "duration": 4,
    "start_time": "2022-06-21T21:23:46.308Z"
   },
   {
    "duration": 5,
    "start_time": "2022-06-21T21:24:23.181Z"
   },
   {
    "duration": 41495,
    "start_time": "2022-06-21T21:25:14.821Z"
   },
   {
    "duration": 4,
    "start_time": "2022-06-21T21:26:24.767Z"
   },
   {
    "duration": 4,
    "start_time": "2022-06-21T21:26:27.670Z"
   },
   {
    "duration": 42074,
    "start_time": "2022-06-21T21:26:30.972Z"
   },
   {
    "duration": 43117,
    "start_time": "2022-06-21T21:27:51.741Z"
   },
   {
    "duration": 7,
    "start_time": "2022-06-21T21:28:51.711Z"
   },
   {
    "duration": 3,
    "start_time": "2022-06-21T21:29:56.144Z"
   },
   {
    "duration": 4,
    "start_time": "2022-06-21T21:29:57.067Z"
   },
   {
    "duration": 346251,
    "start_time": "2022-06-21T21:30:03.578Z"
   },
   {
    "duration": 40981,
    "start_time": "2022-06-21T21:36:08.502Z"
   },
   {
    "duration": 321131,
    "start_time": "2022-06-21T21:36:57.386Z"
   },
   {
    "duration": 84520,
    "start_time": "2022-06-21T21:42:18.519Z"
   },
   {
    "duration": 101,
    "start_time": "2022-06-21T21:43:43.041Z"
   },
   {
    "duration": 7,
    "start_time": "2022-06-21T21:43:43.144Z"
   },
   {
    "duration": 4,
    "start_time": "2022-06-21T21:45:24.604Z"
   },
   {
    "duration": 4863,
    "start_time": "2022-06-22T06:23:59.047Z"
   },
   {
    "duration": 2063,
    "start_time": "2022-06-22T06:24:03.913Z"
   },
   {
    "duration": 1505,
    "start_time": "2022-06-22T06:24:05.981Z"
   },
   {
    "duration": 34,
    "start_time": "2022-06-22T06:24:07.488Z"
   },
   {
    "duration": 243,
    "start_time": "2022-06-22T06:24:07.524Z"
   },
   {
    "duration": 124,
    "start_time": "2022-06-22T06:24:07.775Z"
   },
   {
    "duration": 305,
    "start_time": "2022-06-22T06:24:07.901Z"
   },
   {
    "duration": 98,
    "start_time": "2022-06-22T06:24:08.208Z"
   },
   {
    "duration": 217,
    "start_time": "2022-06-22T06:24:08.311Z"
   },
   {
    "duration": 83,
    "start_time": "2022-06-22T06:24:08.530Z"
   },
   {
    "duration": 18,
    "start_time": "2022-06-22T06:24:08.616Z"
   },
   {
    "duration": 49,
    "start_time": "2022-06-22T06:24:08.637Z"
   },
   {
    "duration": 32,
    "start_time": "2022-06-22T06:24:08.687Z"
   },
   {
    "duration": 47,
    "start_time": "2022-06-22T06:24:08.721Z"
   },
   {
    "duration": 44,
    "start_time": "2022-06-22T06:24:08.781Z"
   },
   {
    "duration": 49,
    "start_time": "2022-06-22T06:24:08.827Z"
   },
   {
    "duration": 48,
    "start_time": "2022-06-22T06:24:08.878Z"
   },
   {
    "duration": 49,
    "start_time": "2022-06-22T06:24:08.928Z"
   },
   {
    "duration": 44,
    "start_time": "2022-06-22T06:24:08.979Z"
   },
   {
    "duration": 161,
    "start_time": "2022-06-22T06:24:09.025Z"
   },
   {
    "duration": 31820,
    "start_time": "2022-06-22T06:24:09.193Z"
   },
   {
    "duration": 729,
    "start_time": "2022-06-22T06:24:41.017Z"
   },
   {
    "duration": 57,
    "start_time": "2022-06-22T06:24:41.747Z"
   },
   {
    "duration": 35,
    "start_time": "2022-06-22T06:24:41.806Z"
   },
   {
    "duration": 68,
    "start_time": "2022-06-22T06:24:41.843Z"
   },
   {
    "duration": 27,
    "start_time": "2022-06-22T06:24:41.913Z"
   },
   {
    "duration": 7,
    "start_time": "2022-06-22T06:24:41.943Z"
   },
   {
    "duration": 18,
    "start_time": "2022-06-22T06:24:41.962Z"
   },
   {
    "duration": 27,
    "start_time": "2022-06-22T06:24:41.982Z"
   },
   {
    "duration": 27,
    "start_time": "2022-06-22T06:24:42.012Z"
   },
   {
    "duration": 6,
    "start_time": "2022-06-22T06:24:42.041Z"
   },
   {
    "duration": 68,
    "start_time": "2022-06-22T06:24:42.049Z"
   },
   {
    "duration": 18,
    "start_time": "2022-06-22T06:24:42.119Z"
   },
   {
    "duration": 6,
    "start_time": "2022-06-22T06:24:42.139Z"
   },
   {
    "duration": 725,
    "start_time": "2022-06-22T06:24:42.147Z"
   },
   {
    "duration": 142,
    "start_time": "2022-06-22T06:24:42.881Z"
   },
   {
    "duration": 20,
    "start_time": "2022-06-22T06:24:43.026Z"
   },
   {
    "duration": 129,
    "start_time": "2022-06-22T06:24:43.048Z"
   },
   {
    "duration": 15,
    "start_time": "2022-06-22T06:24:43.179Z"
   },
   {
    "duration": 9,
    "start_time": "2022-06-22T06:24:43.196Z"
   },
   {
    "duration": 7,
    "start_time": "2022-06-22T06:24:43.207Z"
   },
   {
    "duration": 1805,
    "start_time": "2022-06-22T06:24:43.216Z"
   },
   {
    "duration": 5,
    "start_time": "2022-06-22T06:24:45.023Z"
   },
   {
    "duration": 18,
    "start_time": "2022-06-22T06:24:45.029Z"
   },
   {
    "duration": 217832,
    "start_time": "2022-06-22T06:24:45.049Z"
   },
   {
    "duration": 44517,
    "start_time": "2022-06-22T06:28:22.952Z"
   },
   {
    "duration": 0,
    "start_time": "2022-06-22T06:29:07.477Z"
   },
   {
    "duration": 0,
    "start_time": "2022-06-22T06:29:07.483Z"
   },
   {
    "duration": 0,
    "start_time": "2022-06-22T06:29:07.485Z"
   },
   {
    "duration": 0,
    "start_time": "2022-06-22T06:29:07.487Z"
   },
   {
    "duration": 41680,
    "start_time": "2022-06-22T06:31:04.688Z"
   },
   {
    "duration": 398064,
    "start_time": "2022-06-22T06:31:46.369Z"
   },
   {
    "duration": 4825351,
    "start_time": "2022-06-22T06:38:24.436Z"
   },
   {
    "duration": 84,
    "start_time": "2022-06-22T07:58:49.791Z"
   },
   {
    "duration": 13,
    "start_time": "2022-06-22T07:58:49.878Z"
   },
   {
    "duration": 37,
    "start_time": "2022-06-22T07:58:49.984Z"
   },
   {
    "duration": 53,
    "start_time": "2022-06-22T07:58:50.048Z"
   },
   {
    "duration": 593,
    "start_time": "2022-06-22T09:13:59.658Z"
   },
   {
    "duration": 3145,
    "start_time": "2022-06-22T09:17:42.619Z"
   },
   {
    "duration": 1824,
    "start_time": "2022-06-22T09:17:45.767Z"
   },
   {
    "duration": 1070,
    "start_time": "2022-06-22T09:17:47.593Z"
   },
   {
    "duration": 20,
    "start_time": "2022-06-22T09:17:48.666Z"
   },
   {
    "duration": 165,
    "start_time": "2022-06-22T09:17:48.688Z"
   },
   {
    "duration": 145,
    "start_time": "2022-06-22T09:17:48.856Z"
   },
   {
    "duration": 391,
    "start_time": "2022-06-22T09:17:49.004Z"
   },
   {
    "duration": 116,
    "start_time": "2022-06-22T09:17:49.397Z"
   },
   {
    "duration": 211,
    "start_time": "2022-06-22T09:17:49.515Z"
   },
   {
    "duration": 52,
    "start_time": "2022-06-22T09:17:49.730Z"
   },
   {
    "duration": 20,
    "start_time": "2022-06-22T09:17:49.784Z"
   },
   {
    "duration": 62,
    "start_time": "2022-06-22T09:17:49.807Z"
   },
   {
    "duration": 26,
    "start_time": "2022-06-22T09:17:49.872Z"
   },
   {
    "duration": 82,
    "start_time": "2022-06-22T09:17:49.900Z"
   },
   {
    "duration": 26,
    "start_time": "2022-06-22T09:17:49.988Z"
   },
   {
    "duration": 60,
    "start_time": "2022-06-22T09:17:50.017Z"
   },
   {
    "duration": 22,
    "start_time": "2022-06-22T09:17:50.079Z"
   },
   {
    "duration": 65,
    "start_time": "2022-06-22T09:17:50.103Z"
   },
   {
    "duration": 34,
    "start_time": "2022-06-22T09:17:50.170Z"
   },
   {
    "duration": 107,
    "start_time": "2022-06-22T09:17:50.207Z"
   },
   {
    "duration": 33925,
    "start_time": "2022-06-22T09:17:50.317Z"
   },
   {
    "duration": 910,
    "start_time": "2022-06-22T09:18:24.244Z"
   },
   {
    "duration": 31,
    "start_time": "2022-06-22T09:18:25.157Z"
   },
   {
    "duration": 67,
    "start_time": "2022-06-22T09:18:25.190Z"
   },
   {
    "duration": 50,
    "start_time": "2022-06-22T09:18:25.259Z"
   },
   {
    "duration": 74,
    "start_time": "2022-06-22T09:18:25.312Z"
   },
   {
    "duration": 9,
    "start_time": "2022-06-22T09:18:25.389Z"
   },
   {
    "duration": 10,
    "start_time": "2022-06-22T09:18:25.404Z"
   },
   {
    "duration": 41,
    "start_time": "2022-06-22T09:18:25.416Z"
   },
   {
    "duration": 15,
    "start_time": "2022-06-22T09:18:25.460Z"
   },
   {
    "duration": 8,
    "start_time": "2022-06-22T09:18:25.477Z"
   },
   {
    "duration": 15,
    "start_time": "2022-06-22T09:18:25.487Z"
   },
   {
    "duration": 51,
    "start_time": "2022-06-22T09:18:25.505Z"
   },
   {
    "duration": 13,
    "start_time": "2022-06-22T09:18:25.570Z"
   },
   {
    "duration": 694,
    "start_time": "2022-06-22T09:18:25.585Z"
   },
   {
    "duration": 114,
    "start_time": "2022-06-22T09:18:26.282Z"
   },
   {
    "duration": 24,
    "start_time": "2022-06-22T09:18:26.399Z"
   },
   {
    "duration": 104,
    "start_time": "2022-06-22T09:18:26.426Z"
   },
   {
    "duration": 6,
    "start_time": "2022-06-22T09:18:26.532Z"
   },
   {
    "duration": 7,
    "start_time": "2022-06-22T09:18:26.551Z"
   },
   {
    "duration": 9,
    "start_time": "2022-06-22T09:18:26.561Z"
   },
   {
    "duration": 1498,
    "start_time": "2022-06-22T09:18:26.573Z"
   },
   {
    "duration": 5,
    "start_time": "2022-06-22T09:18:28.073Z"
   },
   {
    "duration": 16,
    "start_time": "2022-06-22T09:18:28.081Z"
   },
   {
    "duration": 227053,
    "start_time": "2022-06-22T09:18:28.101Z"
   },
   {
    "duration": 52894,
    "start_time": "2022-06-22T09:22:15.159Z"
   },
   {
    "duration": 439384,
    "start_time": "2022-06-22T09:23:08.056Z"
   },
   {
    "duration": 5821632,
    "start_time": "2022-06-22T09:30:27.442Z"
   },
   {
    "duration": 34,
    "start_time": "2022-06-22T11:07:29.076Z"
   },
   {
    "duration": 51,
    "start_time": "2022-06-22T11:07:29.113Z"
   },
   {
    "duration": 590,
    "start_time": "2022-06-22T11:07:29.166Z"
   },
   {
    "duration": 11,
    "start_time": "2022-06-22T11:07:29.763Z"
   },
   {
    "duration": 8,
    "start_time": "2022-06-22T11:07:29.776Z"
   },
   {
    "duration": 5762182,
    "start_time": "2022-06-22T11:07:29.787Z"
   },
   {
    "duration": 82,
    "start_time": "2022-06-22T12:43:31.973Z"
   },
   {
    "duration": 8,
    "start_time": "2022-06-22T12:43:32.057Z"
   },
   {
    "duration": 587,
    "start_time": "2022-06-22T12:43:32.067Z"
   },
   {
    "duration": 10,
    "start_time": "2022-06-22T12:43:32.656Z"
   },
   {
    "duration": 14,
    "start_time": "2022-06-22T12:43:32.668Z"
   },
   {
    "duration": 8,
    "start_time": "2022-06-22T13:06:50.043Z"
   },
   {
    "duration": 6,
    "start_time": "2022-06-22T13:07:21.585Z"
   },
   {
    "duration": 1214,
    "start_time": "2022-06-22T13:07:44.873Z"
   },
   {
    "duration": 12,
    "start_time": "2022-06-22T13:07:56.259Z"
   },
   {
    "duration": 10,
    "start_time": "2022-06-22T13:08:13.639Z"
   },
   {
    "duration": 12,
    "start_time": "2022-06-22T13:08:19.283Z"
   },
   {
    "duration": 54,
    "start_time": "2022-06-22T13:54:25.465Z"
   },
   {
    "duration": 34,
    "start_time": "2022-06-22T13:56:45.513Z"
   },
   {
    "duration": 13,
    "start_time": "2022-06-22T14:09:21.516Z"
   },
   {
    "duration": 25,
    "start_time": "2022-06-22T14:10:49.126Z"
   },
   {
    "duration": 10,
    "start_time": "2022-06-22T14:11:03.171Z"
   },
   {
    "duration": 6,
    "start_time": "2022-06-22T14:11:32.704Z"
   },
   {
    "duration": 20,
    "start_time": "2022-06-22T14:16:19.889Z"
   },
   {
    "duration": 74,
    "start_time": "2022-06-22T14:17:43.102Z"
   },
   {
    "duration": 2713,
    "start_time": "2022-06-22T14:31:24.901Z"
   },
   {
    "duration": 1895,
    "start_time": "2022-06-22T14:31:27.617Z"
   },
   {
    "duration": 1665,
    "start_time": "2022-06-22T14:31:29.514Z"
   },
   {
    "duration": 21,
    "start_time": "2022-06-22T14:31:31.182Z"
   },
   {
    "duration": 150,
    "start_time": "2022-06-22T14:31:31.206Z"
   },
   {
    "duration": 184,
    "start_time": "2022-06-22T14:31:31.361Z"
   },
   {
    "duration": 154,
    "start_time": "2022-06-22T14:31:31.551Z"
   },
   {
    "duration": 352,
    "start_time": "2022-06-22T14:31:31.707Z"
   },
   {
    "duration": 33369,
    "start_time": "2022-06-22T14:31:32.061Z"
   },
   {
    "duration": 759,
    "start_time": "2022-06-22T14:32:05.433Z"
   },
   {
    "duration": 195,
    "start_time": "2022-06-22T14:32:06.194Z"
   },
   {
    "duration": 37,
    "start_time": "2022-06-22T14:32:06.397Z"
   },
   {
    "duration": 30,
    "start_time": "2022-06-22T14:32:06.436Z"
   },
   {
    "duration": 44,
    "start_time": "2022-06-22T14:32:06.469Z"
   },
   {
    "duration": 58,
    "start_time": "2022-06-22T14:32:06.515Z"
   },
   {
    "duration": 39,
    "start_time": "2022-06-22T14:32:06.575Z"
   },
   {
    "duration": 43,
    "start_time": "2022-06-22T14:32:06.617Z"
   },
   {
    "duration": 39,
    "start_time": "2022-06-22T14:32:06.662Z"
   },
   {
    "duration": 52,
    "start_time": "2022-06-22T14:32:06.703Z"
   },
   {
    "duration": 38,
    "start_time": "2022-06-22T14:32:06.757Z"
   },
   {
    "duration": 30,
    "start_time": "2022-06-22T14:32:06.797Z"
   },
   {
    "duration": 99,
    "start_time": "2022-06-22T14:32:06.829Z"
   },
   {
    "duration": 756,
    "start_time": "2022-06-22T14:32:06.931Z"
   },
   {
    "duration": 23,
    "start_time": "2022-06-22T14:32:07.689Z"
   },
   {
    "duration": 55,
    "start_time": "2022-06-22T14:32:07.713Z"
   },
   {
    "duration": 45,
    "start_time": "2022-06-22T14:32:07.771Z"
   },
   {
    "duration": 7,
    "start_time": "2022-06-22T14:32:07.818Z"
   },
   {
    "duration": 7,
    "start_time": "2022-06-22T14:32:07.854Z"
   },
   {
    "duration": 9,
    "start_time": "2022-06-22T14:32:07.863Z"
   },
   {
    "duration": 11,
    "start_time": "2022-06-22T14:32:07.874Z"
   },
   {
    "duration": 6,
    "start_time": "2022-06-22T14:32:07.887Z"
   },
   {
    "duration": 56,
    "start_time": "2022-06-22T14:32:07.896Z"
   },
   {
    "duration": 8,
    "start_time": "2022-06-22T14:32:07.954Z"
   },
   {
    "duration": 88,
    "start_time": "2022-06-22T14:32:07.964Z"
   },
   {
    "duration": 16,
    "start_time": "2022-06-22T14:32:08.055Z"
   },
   {
    "duration": 91,
    "start_time": "2022-06-22T14:32:08.073Z"
   },
   {
    "duration": 41,
    "start_time": "2022-06-22T14:32:08.166Z"
   },
   {
    "duration": 67,
    "start_time": "2022-06-22T14:32:08.209Z"
   },
   {
    "duration": 155,
    "start_time": "2022-06-22T14:32:08.278Z"
   },
   {
    "duration": 5,
    "start_time": "2022-06-22T14:32:08.435Z"
   },
   {
    "duration": 6,
    "start_time": "2022-06-22T14:32:08.451Z"
   },
   {
    "duration": 13,
    "start_time": "2022-06-22T14:32:08.459Z"
   },
   {
    "duration": 1981,
    "start_time": "2022-06-22T14:32:08.474Z"
   },
   {
    "duration": 5,
    "start_time": "2022-06-22T14:32:10.457Z"
   },
   {
    "duration": 24,
    "start_time": "2022-06-22T14:32:10.465Z"
   },
   {
    "duration": 240075,
    "start_time": "2022-06-22T14:32:10.491Z"
   },
   {
    "duration": 55250,
    "start_time": "2022-06-22T14:36:10.569Z"
   },
   {
    "duration": 444500,
    "start_time": "2022-06-22T14:37:05.822Z"
   },
   {
    "duration": 5460065,
    "start_time": "2022-06-22T14:44:30.325Z"
   },
   {
    "duration": 94,
    "start_time": "2022-06-22T16:15:30.392Z"
   },
   {
    "duration": 14,
    "start_time": "2022-06-22T16:15:30.489Z"
   },
   {
    "duration": 26,
    "start_time": "2022-06-22T16:15:30.506Z"
   },
   {
    "duration": 30,
    "start_time": "2022-06-22T16:15:30.535Z"
   },
   {
    "duration": 5117,
    "start_time": "2022-06-23T14:23:50.051Z"
   },
   {
    "duration": 2146,
    "start_time": "2022-06-23T14:24:55.524Z"
   },
   {
    "duration": 3083,
    "start_time": "2022-06-23T14:24:58.855Z"
   },
   {
    "duration": 18,
    "start_time": "2022-06-23T14:25:01.940Z"
   },
   {
    "duration": 135,
    "start_time": "2022-06-23T14:25:01.960Z"
   },
   {
    "duration": 147,
    "start_time": "2022-06-23T14:25:02.098Z"
   },
   {
    "duration": 127,
    "start_time": "2022-06-23T14:25:02.247Z"
   },
   {
    "duration": 326,
    "start_time": "2022-06-23T14:25:02.376Z"
   },
   {
    "duration": 35253,
    "start_time": "2022-06-23T14:25:02.704Z"
   },
   {
    "duration": 663,
    "start_time": "2022-06-23T14:25:37.960Z"
   },
   {
    "duration": 169,
    "start_time": "2022-06-23T14:25:38.625Z"
   },
   {
    "duration": 45,
    "start_time": "2022-06-23T14:25:38.796Z"
   },
   {
    "duration": 22,
    "start_time": "2022-06-23T14:25:38.843Z"
   },
   {
    "duration": 31,
    "start_time": "2022-06-23T14:25:38.867Z"
   },
   {
    "duration": 41,
    "start_time": "2022-06-23T14:25:38.900Z"
   },
   {
    "duration": 40,
    "start_time": "2022-06-23T14:25:38.943Z"
   },
   {
    "duration": 20,
    "start_time": "2022-06-23T14:25:38.985Z"
   },
   {
    "duration": 71,
    "start_time": "2022-06-23T14:25:39.010Z"
   },
   {
    "duration": 24,
    "start_time": "2022-06-23T14:25:39.083Z"
   },
   {
    "duration": 47,
    "start_time": "2022-06-23T14:25:39.109Z"
   },
   {
    "duration": 26,
    "start_time": "2022-06-23T14:25:39.158Z"
   },
   {
    "duration": 98,
    "start_time": "2022-06-23T14:25:39.186Z"
   },
   {
    "duration": 644,
    "start_time": "2022-06-23T14:25:39.286Z"
   },
   {
    "duration": 22,
    "start_time": "2022-06-23T14:25:39.941Z"
   },
   {
    "duration": 30,
    "start_time": "2022-06-23T14:25:39.965Z"
   },
   {
    "duration": 48,
    "start_time": "2022-06-23T14:25:39.997Z"
   },
   {
    "duration": 8,
    "start_time": "2022-06-23T14:25:40.047Z"
   },
   {
    "duration": 8,
    "start_time": "2022-06-23T14:25:40.057Z"
   },
   {
    "duration": 15,
    "start_time": "2022-06-23T14:25:40.067Z"
   },
   {
    "duration": 9,
    "start_time": "2022-06-23T14:25:40.084Z"
   },
   {
    "duration": 7,
    "start_time": "2022-06-23T14:25:40.095Z"
   },
   {
    "duration": 45,
    "start_time": "2022-06-23T14:25:40.103Z"
   },
   {
    "duration": 9,
    "start_time": "2022-06-23T14:25:40.150Z"
   },
   {
    "duration": 43,
    "start_time": "2022-06-23T14:25:40.161Z"
   },
   {
    "duration": 44,
    "start_time": "2022-06-23T14:25:40.207Z"
   },
   {
    "duration": 65,
    "start_time": "2022-06-23T14:25:40.253Z"
   },
   {
    "duration": 60,
    "start_time": "2022-06-23T14:25:40.321Z"
   },
   {
    "duration": 499,
    "start_time": "2022-06-23T14:25:40.383Z"
   },
   {
    "duration": 134,
    "start_time": "2022-06-23T14:25:40.884Z"
   },
   {
    "duration": 308,
    "start_time": "2022-06-23T14:42:11.343Z"
   },
   {
    "duration": 195,
    "start_time": "2022-06-23T14:47:27.757Z"
   },
   {
    "duration": 1558,
    "start_time": "2022-06-24T06:17:02.585Z"
   },
   {
    "duration": 2875,
    "start_time": "2022-06-24T06:17:10.264Z"
   },
   {
    "duration": 20,
    "start_time": "2022-06-24T06:17:13.141Z"
   },
   {
    "duration": 313,
    "start_time": "2022-06-24T06:17:21.200Z"
   },
   {
    "duration": 12,
    "start_time": "2022-06-24T06:18:38.003Z"
   },
   {
    "duration": 4246,
    "start_time": "2022-06-24T06:19:09.865Z"
   },
   {
    "duration": 434,
    "start_time": "2022-06-24T06:19:15.944Z"
   },
   {
    "duration": 767,
    "start_time": "2022-06-24T06:19:41.083Z"
   },
   {
    "duration": 566,
    "start_time": "2022-06-24T06:20:04.012Z"
   },
   {
    "duration": 39,
    "start_time": "2022-06-24T06:20:37.971Z"
   },
   {
    "duration": 48,
    "start_time": "2022-06-24T06:20:45.451Z"
   },
   {
    "duration": 36,
    "start_time": "2022-06-24T06:20:46.179Z"
   },
   {
    "duration": 8,
    "start_time": "2022-06-24T06:21:44.029Z"
   },
   {
    "duration": 8,
    "start_time": "2022-06-24T06:22:08.357Z"
   },
   {
    "duration": 152,
    "start_time": "2022-06-24T06:24:55.565Z"
   },
   {
    "duration": 281,
    "start_time": "2022-06-24T06:25:46.806Z"
   },
   {
    "duration": 282,
    "start_time": "2022-06-24T06:25:55.321Z"
   },
   {
    "duration": 281,
    "start_time": "2022-06-24T06:26:25.825Z"
   },
   {
    "duration": 433,
    "start_time": "2022-06-24T06:26:39.473Z"
   },
   {
    "duration": 306,
    "start_time": "2022-06-24T06:27:16.705Z"
   },
   {
    "duration": 282,
    "start_time": "2022-06-24T06:27:33.354Z"
   },
   {
    "duration": 28,
    "start_time": "2022-06-24T06:28:29.338Z"
   },
   {
    "duration": 7,
    "start_time": "2022-06-24T06:28:48.698Z"
   },
   {
    "duration": 5,
    "start_time": "2022-06-24T06:29:48.571Z"
   },
   {
    "duration": 150,
    "start_time": "2022-06-24T06:31:52.666Z"
   },
   {
    "duration": 86,
    "start_time": "2022-06-24T06:31:58.546Z"
   },
   {
    "duration": 11813,
    "start_time": "2022-06-24T06:32:07.526Z"
   },
   {
    "duration": 51624,
    "start_time": "2022-06-24T06:32:31.454Z"
   },
   {
    "duration": 20,
    "start_time": "2022-06-24T06:33:27.483Z"
   },
   {
    "duration": 17,
    "start_time": "2022-06-24T06:34:00.801Z"
   },
   {
    "duration": 27,
    "start_time": "2022-06-24T06:34:16.639Z"
   },
   {
    "duration": 52539,
    "start_time": "2022-06-24T06:34:51.847Z"
   },
   {
    "duration": 12,
    "start_time": "2022-06-24T06:35:45.145Z"
   },
   {
    "duration": 6,
    "start_time": "2022-06-24T06:35:51.601Z"
   },
   {
    "duration": 85,
    "start_time": "2022-06-24T06:36:43.161Z"
   },
   {
    "duration": 641,
    "start_time": "2022-06-24T06:37:12.233Z"
   },
   {
    "duration": 775,
    "start_time": "2022-06-24T06:37:19.375Z"
   },
   {
    "duration": 122,
    "start_time": "2022-06-24T06:37:24.441Z"
   },
   {
    "duration": 221,
    "start_time": "2022-06-24T06:37:29.154Z"
   },
   {
    "duration": 32,
    "start_time": "2022-06-24T06:37:29.625Z"
   },
   {
    "duration": 33,
    "start_time": "2022-06-24T06:37:30.050Z"
   },
   {
    "duration": 47,
    "start_time": "2022-06-24T06:37:30.489Z"
   },
   {
    "duration": 32,
    "start_time": "2022-06-24T06:37:30.921Z"
   },
   {
    "duration": 35,
    "start_time": "2022-06-24T06:37:31.370Z"
   },
   {
    "duration": 20,
    "start_time": "2022-06-24T06:37:31.833Z"
   },
   {
    "duration": 32,
    "start_time": "2022-06-24T06:37:32.290Z"
   },
   {
    "duration": 23,
    "start_time": "2022-06-24T06:37:32.729Z"
   },
   {
    "duration": 31,
    "start_time": "2022-06-24T06:37:33.201Z"
   },
   {
    "duration": 21,
    "start_time": "2022-06-24T06:37:33.673Z"
   },
   {
    "duration": 118,
    "start_time": "2022-06-24T06:37:34.130Z"
   },
   {
    "duration": 8,
    "start_time": "2022-06-24T06:37:39.945Z"
   },
   {
    "duration": 116,
    "start_time": "2022-06-24T06:37:54.906Z"
   },
   {
    "duration": 47,
    "start_time": "2022-06-24T06:39:03.840Z"
   },
   {
    "duration": 6,
    "start_time": "2022-06-24T06:39:08.818Z"
   },
   {
    "duration": 12,
    "start_time": "2022-06-24T06:44:12.271Z"
   },
   {
    "duration": 13,
    "start_time": "2022-06-24T06:44:31.204Z"
   },
   {
    "duration": 94,
    "start_time": "2022-06-24T06:46:16.377Z"
   },
   {
    "duration": 12,
    "start_time": "2022-06-24T06:46:24.593Z"
   },
   {
    "duration": 15,
    "start_time": "2022-06-24T06:47:06.041Z"
   },
   {
    "duration": 7,
    "start_time": "2022-06-24T06:47:18.705Z"
   },
   {
    "duration": 9,
    "start_time": "2022-06-24T06:47:25.849Z"
   },
   {
    "duration": 109,
    "start_time": "2022-06-24T06:48:08.794Z"
   },
   {
    "duration": 25,
    "start_time": "2022-06-24T06:51:30.654Z"
   },
   {
    "duration": 8,
    "start_time": "2022-06-24T06:51:39.293Z"
   },
   {
    "duration": 7,
    "start_time": "2022-06-24T06:57:03.673Z"
   },
   {
    "duration": 6,
    "start_time": "2022-06-24T06:57:19.833Z"
   },
   {
    "duration": 4,
    "start_time": "2022-06-24T06:57:52.386Z"
   },
   {
    "duration": 6,
    "start_time": "2022-06-24T06:58:02.290Z"
   },
   {
    "duration": 6,
    "start_time": "2022-06-24T06:58:09.842Z"
   },
   {
    "duration": 8,
    "start_time": "2022-06-24T06:59:53.835Z"
   },
   {
    "duration": 6,
    "start_time": "2022-06-24T07:00:00.387Z"
   },
   {
    "duration": 8,
    "start_time": "2022-06-24T07:00:09.937Z"
   },
   {
    "duration": 6,
    "start_time": "2022-06-24T07:00:10.404Z"
   },
   {
    "duration": 7,
    "start_time": "2022-06-24T07:04:14.991Z"
   },
   {
    "duration": 7,
    "start_time": "2022-06-24T07:04:35.576Z"
   },
   {
    "duration": 8,
    "start_time": "2022-06-24T07:05:36.528Z"
   },
   {
    "duration": 790,
    "start_time": "2022-06-24T08:44:43.131Z"
   },
   {
    "duration": 245,
    "start_time": "2022-06-24T08:44:50.274Z"
   },
   {
    "duration": 34,
    "start_time": "2022-06-24T08:44:50.672Z"
   },
   {
    "duration": 19,
    "start_time": "2022-06-24T08:44:51.078Z"
   },
   {
    "duration": 832,
    "start_time": "2022-06-24T08:53:38.186Z"
   },
   {
    "duration": 11,
    "start_time": "2022-06-24T08:53:39.020Z"
   },
   {
    "duration": 286,
    "start_time": "2022-06-24T08:53:46.741Z"
   },
   {
    "duration": 158,
    "start_time": "2022-06-24T08:53:50.174Z"
   },
   {
    "duration": 33,
    "start_time": "2022-06-24T08:53:50.580Z"
   },
   {
    "duration": 20,
    "start_time": "2022-06-24T08:53:50.964Z"
   },
   {
    "duration": 34,
    "start_time": "2022-06-24T08:53:51.430Z"
   },
   {
    "duration": 19,
    "start_time": "2022-06-24T08:53:51.918Z"
   },
   {
    "duration": 36,
    "start_time": "2022-06-24T08:53:52.309Z"
   },
   {
    "duration": 20,
    "start_time": "2022-06-24T08:53:52.708Z"
   },
   {
    "duration": 31,
    "start_time": "2022-06-24T08:53:53.093Z"
   },
   {
    "duration": 20,
    "start_time": "2022-06-24T08:53:53.493Z"
   },
   {
    "duration": 31,
    "start_time": "2022-06-24T08:53:53.909Z"
   },
   {
    "duration": 20,
    "start_time": "2022-06-24T08:53:54.325Z"
   },
   {
    "duration": 76,
    "start_time": "2022-06-24T08:53:54.748Z"
   },
   {
    "duration": 554,
    "start_time": "2022-06-24T08:53:55.726Z"
   },
   {
    "duration": 6,
    "start_time": "2022-06-24T08:53:56.510Z"
   },
   {
    "duration": 40,
    "start_time": "2022-06-24T08:53:56.925Z"
   },
   {
    "duration": 29,
    "start_time": "2022-06-24T08:53:57.349Z"
   },
   {
    "duration": 9,
    "start_time": "2022-06-24T08:53:57.748Z"
   },
   {
    "duration": 15,
    "start_time": "2022-06-24T08:53:58.178Z"
   },
   {
    "duration": 7,
    "start_time": "2022-06-24T08:53:58.556Z"
   },
   {
    "duration": 7,
    "start_time": "2022-06-24T08:53:58.748Z"
   },
   {
    "duration": 6,
    "start_time": "2022-06-24T08:53:59.149Z"
   },
   {
    "duration": 7,
    "start_time": "2022-06-24T08:53:59.558Z"
   },
   {
    "duration": 5,
    "start_time": "2022-06-24T08:53:59.969Z"
   },
   {
    "duration": 5,
    "start_time": "2022-06-24T08:54:00.860Z"
   },
   {
    "duration": 16,
    "start_time": "2022-06-24T08:54:00.867Z"
   },
   {
    "duration": 9,
    "start_time": "2022-06-24T08:54:02.001Z"
   },
   {
    "duration": 8,
    "start_time": "2022-06-24T08:54:02.012Z"
   },
   {
    "duration": 5,
    "start_time": "2022-06-24T08:54:02.277Z"
   },
   {
    "duration": 10,
    "start_time": "2022-06-24T08:54:02.709Z"
   },
   {
    "duration": 71,
    "start_time": "2022-06-24T08:54:03.309Z"
   },
   {
    "duration": 16,
    "start_time": "2022-06-24T08:54:18.149Z"
   },
   {
    "duration": 786,
    "start_time": "2022-06-24T08:55:49.415Z"
   },
   {
    "duration": 246,
    "start_time": "2022-06-24T08:55:53.207Z"
   },
   {
    "duration": 162,
    "start_time": "2022-06-24T08:55:55.772Z"
   },
   {
    "duration": 31,
    "start_time": "2022-06-24T08:55:56.150Z"
   },
   {
    "duration": 19,
    "start_time": "2022-06-24T08:55:56.502Z"
   },
   {
    "duration": 38,
    "start_time": "2022-06-24T08:55:56.894Z"
   },
   {
    "duration": 19,
    "start_time": "2022-06-24T08:55:57.280Z"
   },
   {
    "duration": 35,
    "start_time": "2022-06-24T08:55:57.668Z"
   },
   {
    "duration": 23,
    "start_time": "2022-06-24T08:55:58.061Z"
   },
   {
    "duration": 32,
    "start_time": "2022-06-24T08:55:58.430Z"
   },
   {
    "duration": 20,
    "start_time": "2022-06-24T08:55:58.814Z"
   },
   {
    "duration": 31,
    "start_time": "2022-06-24T08:55:59.182Z"
   },
   {
    "duration": 22,
    "start_time": "2022-06-24T08:55:59.574Z"
   },
   {
    "duration": 78,
    "start_time": "2022-06-24T08:55:59.958Z"
   },
   {
    "duration": 569,
    "start_time": "2022-06-24T08:56:00.993Z"
   },
   {
    "duration": 6,
    "start_time": "2022-06-24T08:56:01.564Z"
   },
   {
    "duration": 37,
    "start_time": "2022-06-24T08:56:01.572Z"
   },
   {
    "duration": 29,
    "start_time": "2022-06-24T08:56:01.926Z"
   },
   {
    "duration": 9,
    "start_time": "2022-06-24T08:56:02.319Z"
   },
   {
    "duration": 19,
    "start_time": "2022-06-24T08:56:02.710Z"
   },
   {
    "duration": 9,
    "start_time": "2022-06-24T08:56:03.102Z"
   },
   {
    "duration": 8,
    "start_time": "2022-06-24T08:56:03.286Z"
   },
   {
    "duration": 7,
    "start_time": "2022-06-24T08:56:03.646Z"
   },
   {
    "duration": 6,
    "start_time": "2022-06-24T08:56:04.030Z"
   },
   {
    "duration": 7,
    "start_time": "2022-06-24T08:56:04.606Z"
   },
   {
    "duration": 5,
    "start_time": "2022-06-24T08:56:05.026Z"
   },
   {
    "duration": 11,
    "start_time": "2022-06-24T08:56:05.390Z"
   },
   {
    "duration": 9,
    "start_time": "2022-06-24T08:56:06.039Z"
   },
   {
    "duration": 5,
    "start_time": "2022-06-24T08:56:06.468Z"
   },
   {
    "duration": 10,
    "start_time": "2022-06-24T08:56:06.910Z"
   },
   {
    "duration": 64,
    "start_time": "2022-06-24T08:56:08.576Z"
   },
   {
    "duration": 16,
    "start_time": "2022-06-24T08:56:12.791Z"
   },
   {
    "duration": 17,
    "start_time": "2022-06-24T08:57:10.272Z"
   },
   {
    "duration": 6,
    "start_time": "2022-06-24T08:57:31.216Z"
   },
   {
    "duration": 7,
    "start_time": "2022-06-24T08:57:34.504Z"
   },
   {
    "duration": 4,
    "start_time": "2022-06-24T08:57:35.897Z"
   },
   {
    "duration": 15,
    "start_time": "2022-06-24T08:59:14.898Z"
   },
   {
    "duration": 771,
    "start_time": "2022-06-24T08:59:19.129Z"
   },
   {
    "duration": 29370,
    "start_time": "2022-06-24T08:59:25.680Z"
   },
   {
    "duration": 126,
    "start_time": "2022-06-24T09:00:16.755Z"
   },
   {
    "duration": 2605,
    "start_time": "2022-06-24T09:00:52.301Z"
   },
   {
    "duration": 1639,
    "start_time": "2022-06-24T09:00:54.908Z"
   },
   {
    "duration": 906,
    "start_time": "2022-06-24T09:00:56.549Z"
   },
   {
    "duration": 17,
    "start_time": "2022-06-24T09:00:57.457Z"
   },
   {
    "duration": 136,
    "start_time": "2022-06-24T09:00:57.476Z"
   },
   {
    "duration": 117,
    "start_time": "2022-06-24T09:00:57.614Z"
   },
   {
    "duration": 120,
    "start_time": "2022-06-24T09:00:57.733Z"
   },
   {
    "duration": 307,
    "start_time": "2022-06-24T09:00:57.855Z"
   },
   {
    "duration": 28990,
    "start_time": "2022-06-24T09:00:58.164Z"
   },
   {
    "duration": 644,
    "start_time": "2022-06-24T09:01:27.156Z"
   },
   {
    "duration": 157,
    "start_time": "2022-06-24T09:01:27.802Z"
   },
   {
    "duration": 31,
    "start_time": "2022-06-24T09:01:27.961Z"
   },
   {
    "duration": 23,
    "start_time": "2022-06-24T09:01:27.994Z"
   },
   {
    "duration": 46,
    "start_time": "2022-06-24T09:01:28.019Z"
   },
   {
    "duration": 25,
    "start_time": "2022-06-24T09:01:28.067Z"
   },
   {
    "duration": 51,
    "start_time": "2022-06-24T09:01:28.094Z"
   },
   {
    "duration": 19,
    "start_time": "2022-06-24T09:01:28.147Z"
   },
   {
    "duration": 34,
    "start_time": "2022-06-24T09:01:28.167Z"
   },
   {
    "duration": 41,
    "start_time": "2022-06-24T09:01:28.203Z"
   },
   {
    "duration": 32,
    "start_time": "2022-06-24T09:01:28.246Z"
   },
   {
    "duration": 20,
    "start_time": "2022-06-24T09:01:28.280Z"
   },
   {
    "duration": 96,
    "start_time": "2022-06-24T09:01:28.302Z"
   },
   {
    "duration": 635,
    "start_time": "2022-06-24T09:01:28.400Z"
   },
   {
    "duration": 6,
    "start_time": "2022-06-24T09:01:29.042Z"
   },
   {
    "duration": 33,
    "start_time": "2022-06-24T09:01:29.049Z"
   },
   {
    "duration": 32,
    "start_time": "2022-06-24T09:01:29.084Z"
   },
   {
    "duration": 29,
    "start_time": "2022-06-24T09:01:29.118Z"
   },
   {
    "duration": 14,
    "start_time": "2022-06-24T09:01:29.151Z"
   },
   {
    "duration": 7,
    "start_time": "2022-06-24T09:01:29.167Z"
   },
   {
    "duration": 8,
    "start_time": "2022-06-24T09:01:29.175Z"
   },
   {
    "duration": 6,
    "start_time": "2022-06-24T09:01:29.185Z"
   },
   {
    "duration": 7,
    "start_time": "2022-06-24T09:01:29.193Z"
   },
   {
    "duration": 42,
    "start_time": "2022-06-24T09:01:29.201Z"
   },
   {
    "duration": 9,
    "start_time": "2022-06-24T09:01:29.245Z"
   },
   {
    "duration": 12,
    "start_time": "2022-06-24T09:01:29.256Z"
   },
   {
    "duration": 9,
    "start_time": "2022-06-24T09:01:29.270Z"
   },
   {
    "duration": 8,
    "start_time": "2022-06-24T09:01:29.281Z"
   },
   {
    "duration": 31,
    "start_time": "2022-06-24T09:01:29.291Z"
   },
   {
    "duration": 81,
    "start_time": "2022-06-24T09:01:29.324Z"
   },
   {
    "duration": 17,
    "start_time": "2022-06-24T09:01:29.407Z"
   },
   {
    "duration": 6,
    "start_time": "2022-06-24T09:01:29.441Z"
   },
   {
    "duration": 9,
    "start_time": "2022-06-24T09:01:29.449Z"
   },
   {
    "duration": 5,
    "start_time": "2022-06-24T09:01:29.459Z"
   },
   {
    "duration": 5,
    "start_time": "2022-06-24T09:01:29.466Z"
   },
   {
    "duration": 9,
    "start_time": "2022-06-24T09:01:29.473Z"
   },
   {
    "duration": 223,
    "start_time": "2022-06-24T09:01:29.484Z"
   },
   {
    "duration": 0,
    "start_time": "2022-06-24T09:01:29.709Z"
   },
   {
    "duration": 0,
    "start_time": "2022-06-24T09:01:29.710Z"
   },
   {
    "duration": 0,
    "start_time": "2022-06-24T09:01:29.711Z"
   },
   {
    "duration": 0,
    "start_time": "2022-06-24T09:01:29.712Z"
   },
   {
    "duration": 0,
    "start_time": "2022-06-24T09:01:29.713Z"
   },
   {
    "duration": 0,
    "start_time": "2022-06-24T09:01:29.715Z"
   },
   {
    "duration": 0,
    "start_time": "2022-06-24T09:01:29.715Z"
   },
   {
    "duration": 0,
    "start_time": "2022-06-24T09:01:29.717Z"
   },
   {
    "duration": 0,
    "start_time": "2022-06-24T09:01:29.718Z"
   },
   {
    "duration": 0,
    "start_time": "2022-06-24T09:01:29.719Z"
   },
   {
    "duration": 13,
    "start_time": "2022-06-24T09:04:32.247Z"
   },
   {
    "duration": 2524,
    "start_time": "2022-06-24T09:05:16.855Z"
   },
   {
    "duration": 1583,
    "start_time": "2022-06-24T09:05:19.382Z"
   },
   {
    "duration": 876,
    "start_time": "2022-06-24T09:05:20.967Z"
   },
   {
    "duration": 18,
    "start_time": "2022-06-24T09:05:21.846Z"
   },
   {
    "duration": 138,
    "start_time": "2022-06-24T09:05:21.867Z"
   },
   {
    "duration": 162,
    "start_time": "2022-06-24T09:05:22.007Z"
   },
   {
    "duration": 120,
    "start_time": "2022-06-24T09:05:22.171Z"
   },
   {
    "duration": 331,
    "start_time": "2022-06-24T09:05:22.293Z"
   },
   {
    "duration": 30016,
    "start_time": "2022-06-24T09:05:22.626Z"
   },
   {
    "duration": 712,
    "start_time": "2022-06-24T09:05:52.645Z"
   },
   {
    "duration": 179,
    "start_time": "2022-06-24T09:05:53.359Z"
   },
   {
    "duration": 33,
    "start_time": "2022-06-24T09:05:53.541Z"
   },
   {
    "duration": 23,
    "start_time": "2022-06-24T09:05:53.575Z"
   },
   {
    "duration": 44,
    "start_time": "2022-06-24T09:05:53.601Z"
   },
   {
    "duration": 21,
    "start_time": "2022-06-24T09:05:53.647Z"
   },
   {
    "duration": 40,
    "start_time": "2022-06-24T09:05:53.671Z"
   },
   {
    "duration": 45,
    "start_time": "2022-06-24T09:05:53.713Z"
   },
   {
    "duration": 34,
    "start_time": "2022-06-24T09:05:53.760Z"
   },
   {
    "duration": 23,
    "start_time": "2022-06-24T09:05:53.795Z"
   },
   {
    "duration": 40,
    "start_time": "2022-06-24T09:05:53.820Z"
   },
   {
    "duration": 25,
    "start_time": "2022-06-24T09:05:53.862Z"
   },
   {
    "duration": 89,
    "start_time": "2022-06-24T09:05:53.889Z"
   },
   {
    "duration": 654,
    "start_time": "2022-06-24T09:05:53.980Z"
   },
   {
    "duration": 9,
    "start_time": "2022-06-24T09:05:54.636Z"
   },
   {
    "duration": 39,
    "start_time": "2022-06-24T09:05:54.646Z"
   },
   {
    "duration": 28,
    "start_time": "2022-06-24T09:05:54.687Z"
   },
   {
    "duration": 25,
    "start_time": "2022-06-24T09:05:54.717Z"
   },
   {
    "duration": 14,
    "start_time": "2022-06-24T09:05:54.746Z"
   },
   {
    "duration": 8,
    "start_time": "2022-06-24T09:05:54.761Z"
   },
   {
    "duration": 7,
    "start_time": "2022-06-24T09:05:54.771Z"
   },
   {
    "duration": 6,
    "start_time": "2022-06-24T09:05:54.779Z"
   },
   {
    "duration": 6,
    "start_time": "2022-06-24T09:05:54.787Z"
   },
   {
    "duration": 8,
    "start_time": "2022-06-24T09:05:54.794Z"
   },
   {
    "duration": 40,
    "start_time": "2022-06-24T09:05:54.803Z"
   },
   {
    "duration": 14,
    "start_time": "2022-06-24T09:05:54.845Z"
   },
   {
    "duration": 9,
    "start_time": "2022-06-24T09:05:54.861Z"
   },
   {
    "duration": 5,
    "start_time": "2022-06-24T09:05:54.872Z"
   },
   {
    "duration": 17,
    "start_time": "2022-06-24T09:05:54.878Z"
   },
   {
    "duration": 89,
    "start_time": "2022-06-24T09:05:54.897Z"
   },
   {
    "duration": 13,
    "start_time": "2022-06-24T09:05:54.988Z"
   },
   {
    "duration": 6,
    "start_time": "2022-06-24T09:05:55.004Z"
   },
   {
    "duration": 30,
    "start_time": "2022-06-24T09:05:55.012Z"
   },
   {
    "duration": 5,
    "start_time": "2022-06-24T09:05:55.044Z"
   },
   {
    "duration": 5,
    "start_time": "2022-06-24T09:05:55.051Z"
   },
   {
    "duration": 144,
    "start_time": "2022-06-24T09:05:55.057Z"
   },
   {
    "duration": 0,
    "start_time": "2022-06-24T09:05:55.202Z"
   },
   {
    "duration": 0,
    "start_time": "2022-06-24T09:05:55.203Z"
   },
   {
    "duration": 0,
    "start_time": "2022-06-24T09:05:55.205Z"
   },
   {
    "duration": 0,
    "start_time": "2022-06-24T09:05:55.206Z"
   },
   {
    "duration": 0,
    "start_time": "2022-06-24T09:05:55.207Z"
   },
   {
    "duration": 0,
    "start_time": "2022-06-24T09:05:55.208Z"
   },
   {
    "duration": 0,
    "start_time": "2022-06-24T09:05:55.209Z"
   },
   {
    "duration": 0,
    "start_time": "2022-06-24T09:05:55.211Z"
   },
   {
    "duration": 0,
    "start_time": "2022-06-24T09:05:55.212Z"
   },
   {
    "duration": 0,
    "start_time": "2022-06-24T09:05:55.213Z"
   },
   {
    "duration": 0,
    "start_time": "2022-06-24T09:05:55.214Z"
   },
   {
    "duration": 4,
    "start_time": "2022-06-24T09:06:13.899Z"
   },
   {
    "duration": 2511,
    "start_time": "2022-06-24T09:07:44.009Z"
   },
   {
    "duration": 1696,
    "start_time": "2022-06-24T09:07:46.522Z"
   },
   {
    "duration": 898,
    "start_time": "2022-06-24T09:07:48.220Z"
   },
   {
    "duration": 23,
    "start_time": "2022-06-24T09:07:49.120Z"
   },
   {
    "duration": 141,
    "start_time": "2022-06-24T09:07:49.145Z"
   },
   {
    "duration": 120,
    "start_time": "2022-06-24T09:07:49.288Z"
   },
   {
    "duration": 133,
    "start_time": "2022-06-24T09:07:49.410Z"
   },
   {
    "duration": 306,
    "start_time": "2022-06-24T09:07:49.545Z"
   },
   {
    "duration": 29629,
    "start_time": "2022-06-24T09:07:49.853Z"
   },
   {
    "duration": 651,
    "start_time": "2022-06-24T09:08:19.485Z"
   },
   {
    "duration": 160,
    "start_time": "2022-06-24T09:08:20.138Z"
   },
   {
    "duration": 44,
    "start_time": "2022-06-24T09:08:20.299Z"
   },
   {
    "duration": 19,
    "start_time": "2022-06-24T09:08:20.345Z"
   },
   {
    "duration": 37,
    "start_time": "2022-06-24T09:08:20.366Z"
   },
   {
    "duration": 37,
    "start_time": "2022-06-24T09:08:20.405Z"
   },
   {
    "duration": 36,
    "start_time": "2022-06-24T09:08:20.444Z"
   },
   {
    "duration": 24,
    "start_time": "2022-06-24T09:08:20.482Z"
   },
   {
    "duration": 44,
    "start_time": "2022-06-24T09:08:20.508Z"
   },
   {
    "duration": 21,
    "start_time": "2022-06-24T09:08:20.554Z"
   },
   {
    "duration": 33,
    "start_time": "2022-06-24T09:08:20.577Z"
   },
   {
    "duration": 41,
    "start_time": "2022-06-24T09:08:20.611Z"
   },
   {
    "duration": 75,
    "start_time": "2022-06-24T09:08:20.654Z"
   },
   {
    "duration": 645,
    "start_time": "2022-06-24T09:08:20.741Z"
   },
   {
    "duration": 6,
    "start_time": "2022-06-24T09:08:21.388Z"
   },
   {
    "duration": 46,
    "start_time": "2022-06-24T09:08:21.396Z"
   },
   {
    "duration": 30,
    "start_time": "2022-06-24T09:08:21.443Z"
   },
   {
    "duration": 6,
    "start_time": "2022-06-24T09:08:21.475Z"
   },
   {
    "duration": 14,
    "start_time": "2022-06-24T09:08:21.485Z"
   },
   {
    "duration": 6,
    "start_time": "2022-06-24T09:08:21.501Z"
   },
   {
    "duration": 36,
    "start_time": "2022-06-24T09:08:21.509Z"
   },
   {
    "duration": 6,
    "start_time": "2022-06-24T09:08:21.546Z"
   },
   {
    "duration": 8,
    "start_time": "2022-06-24T09:08:21.554Z"
   },
   {
    "duration": 8,
    "start_time": "2022-06-24T09:08:21.563Z"
   },
   {
    "duration": 6,
    "start_time": "2022-06-24T09:08:21.573Z"
   },
   {
    "duration": 11,
    "start_time": "2022-06-24T09:08:21.581Z"
   },
   {
    "duration": 8,
    "start_time": "2022-06-24T09:08:21.594Z"
   },
   {
    "duration": 43,
    "start_time": "2022-06-24T09:08:21.603Z"
   },
   {
    "duration": 10,
    "start_time": "2022-06-24T09:08:21.648Z"
   },
   {
    "duration": 88,
    "start_time": "2022-06-24T09:08:21.659Z"
   },
   {
    "duration": 15,
    "start_time": "2022-06-24T09:08:21.749Z"
   },
   {
    "duration": 5,
    "start_time": "2022-06-24T09:08:21.765Z"
   },
   {
    "duration": 9,
    "start_time": "2022-06-24T09:08:21.772Z"
   },
   {
    "duration": 4,
    "start_time": "2022-06-24T09:08:21.783Z"
   },
   {
    "duration": 5,
    "start_time": "2022-06-24T09:08:21.788Z"
   },
   {
    "duration": 5,
    "start_time": "2022-06-24T09:08:21.794Z"
   },
   {
    "duration": 169,
    "start_time": "2022-06-24T09:08:21.801Z"
   },
   {
    "duration": 0,
    "start_time": "2022-06-24T09:08:21.972Z"
   },
   {
    "duration": 0,
    "start_time": "2022-06-24T09:08:21.973Z"
   },
   {
    "duration": 0,
    "start_time": "2022-06-24T09:08:21.974Z"
   },
   {
    "duration": 0,
    "start_time": "2022-06-24T09:08:21.976Z"
   },
   {
    "duration": 0,
    "start_time": "2022-06-24T09:08:21.977Z"
   },
   {
    "duration": 0,
    "start_time": "2022-06-24T09:08:21.978Z"
   },
   {
    "duration": 0,
    "start_time": "2022-06-24T09:08:21.979Z"
   },
   {
    "duration": 0,
    "start_time": "2022-06-24T09:08:21.980Z"
   },
   {
    "duration": 0,
    "start_time": "2022-06-24T09:08:21.981Z"
   },
   {
    "duration": 0,
    "start_time": "2022-06-24T09:08:21.982Z"
   },
   {
    "duration": 4,
    "start_time": "2022-06-24T09:10:57.823Z"
   },
   {
    "duration": 31,
    "start_time": "2022-06-24T09:11:03.822Z"
   },
   {
    "duration": 3,
    "start_time": "2022-06-24T09:12:53.072Z"
   },
   {
    "duration": 32,
    "start_time": "2022-06-24T09:12:54.676Z"
   },
   {
    "duration": 3,
    "start_time": "2022-06-24T09:13:10.879Z"
   },
   {
    "duration": 29,
    "start_time": "2022-06-24T09:13:13.392Z"
   },
   {
    "duration": 4,
    "start_time": "2022-06-24T09:16:02.385Z"
   },
   {
    "duration": 3,
    "start_time": "2022-06-24T09:16:21.281Z"
   },
   {
    "duration": 14,
    "start_time": "2022-06-24T09:18:02.120Z"
   },
   {
    "duration": 3,
    "start_time": "2022-06-24T09:18:12.583Z"
   },
   {
    "duration": 4,
    "start_time": "2022-06-24T09:18:13.786Z"
   },
   {
    "duration": 2613,
    "start_time": "2022-06-24T09:18:31.333Z"
   },
   {
    "duration": 1621,
    "start_time": "2022-06-24T09:18:33.948Z"
   },
   {
    "duration": 888,
    "start_time": "2022-06-24T09:18:35.571Z"
   },
   {
    "duration": 18,
    "start_time": "2022-06-24T09:18:36.461Z"
   },
   {
    "duration": 133,
    "start_time": "2022-06-24T09:18:36.481Z"
   },
   {
    "duration": 129,
    "start_time": "2022-06-24T09:18:36.615Z"
   },
   {
    "duration": 158,
    "start_time": "2022-06-24T09:18:36.746Z"
   },
   {
    "duration": 330,
    "start_time": "2022-06-24T09:18:36.907Z"
   },
   {
    "duration": 29746,
    "start_time": "2022-06-24T09:18:37.239Z"
   },
   {
    "duration": 659,
    "start_time": "2022-06-24T09:19:06.988Z"
   },
   {
    "duration": 165,
    "start_time": "2022-06-24T09:19:07.649Z"
   },
   {
    "duration": 42,
    "start_time": "2022-06-24T09:19:07.815Z"
   },
   {
    "duration": 24,
    "start_time": "2022-06-24T09:19:07.859Z"
   },
   {
    "duration": 34,
    "start_time": "2022-06-24T09:19:07.885Z"
   },
   {
    "duration": 33,
    "start_time": "2022-06-24T09:19:07.921Z"
   },
   {
    "duration": 38,
    "start_time": "2022-06-24T09:19:07.956Z"
   },
   {
    "duration": 18,
    "start_time": "2022-06-24T09:19:07.995Z"
   },
   {
    "duration": 60,
    "start_time": "2022-06-24T09:19:08.015Z"
   },
   {
    "duration": 25,
    "start_time": "2022-06-24T09:19:08.077Z"
   },
   {
    "duration": 41,
    "start_time": "2022-06-24T09:19:08.104Z"
   },
   {
    "duration": 22,
    "start_time": "2022-06-24T09:19:08.147Z"
   },
   {
    "duration": 95,
    "start_time": "2022-06-24T09:19:08.171Z"
   },
   {
    "duration": 667,
    "start_time": "2022-06-24T09:19:08.268Z"
   },
   {
    "duration": 6,
    "start_time": "2022-06-24T09:19:08.942Z"
   },
   {
    "duration": 40,
    "start_time": "2022-06-24T09:19:08.950Z"
   },
   {
    "duration": 30,
    "start_time": "2022-06-24T09:19:08.991Z"
   },
   {
    "duration": 21,
    "start_time": "2022-06-24T09:19:09.022Z"
   },
   {
    "duration": 16,
    "start_time": "2022-06-24T09:19:09.048Z"
   },
   {
    "duration": 8,
    "start_time": "2022-06-24T09:19:09.066Z"
   },
   {
    "duration": 14,
    "start_time": "2022-06-24T09:19:09.076Z"
   },
   {
    "duration": 7,
    "start_time": "2022-06-24T09:19:09.092Z"
   },
   {
    "duration": 6,
    "start_time": "2022-06-24T09:19:09.101Z"
   },
   {
    "duration": 37,
    "start_time": "2022-06-24T09:19:09.109Z"
   },
   {
    "duration": 7,
    "start_time": "2022-06-24T09:19:09.148Z"
   },
   {
    "duration": 13,
    "start_time": "2022-06-24T09:19:09.156Z"
   },
   {
    "duration": 21,
    "start_time": "2022-06-24T09:19:09.171Z"
   },
   {
    "duration": 4,
    "start_time": "2022-06-24T09:19:09.195Z"
   },
   {
    "duration": 20,
    "start_time": "2022-06-24T09:19:09.201Z"
   },
   {
    "duration": 81,
    "start_time": "2022-06-24T09:19:09.223Z"
   },
   {
    "duration": 16,
    "start_time": "2022-06-24T09:19:09.306Z"
   },
   {
    "duration": 23,
    "start_time": "2022-06-24T09:19:09.323Z"
   },
   {
    "duration": 8,
    "start_time": "2022-06-24T09:19:09.349Z"
   },
   {
    "duration": 5,
    "start_time": "2022-06-24T09:19:09.359Z"
   },
   {
    "duration": 5,
    "start_time": "2022-06-24T09:19:09.366Z"
   },
   {
    "duration": 16,
    "start_time": "2022-06-24T09:19:09.372Z"
   },
   {
    "duration": 146,
    "start_time": "2022-06-24T09:19:09.390Z"
   },
   {
    "duration": 0,
    "start_time": "2022-06-24T09:19:09.541Z"
   },
   {
    "duration": 0,
    "start_time": "2022-06-24T09:19:09.542Z"
   },
   {
    "duration": 0,
    "start_time": "2022-06-24T09:19:09.543Z"
   },
   {
    "duration": 0,
    "start_time": "2022-06-24T09:19:09.544Z"
   },
   {
    "duration": 0,
    "start_time": "2022-06-24T09:19:09.546Z"
   },
   {
    "duration": 0,
    "start_time": "2022-06-24T09:19:09.546Z"
   },
   {
    "duration": 0,
    "start_time": "2022-06-24T09:19:09.547Z"
   },
   {
    "duration": 0,
    "start_time": "2022-06-24T09:19:09.549Z"
   },
   {
    "duration": 0,
    "start_time": "2022-06-24T09:19:09.550Z"
   },
   {
    "duration": 0,
    "start_time": "2022-06-24T09:19:09.552Z"
   },
   {
    "duration": 20,
    "start_time": "2022-06-24T09:20:36.333Z"
   },
   {
    "duration": 4,
    "start_time": "2022-06-24T09:21:03.597Z"
   },
   {
    "duration": 4,
    "start_time": "2022-06-24T09:21:10.205Z"
   },
   {
    "duration": 4,
    "start_time": "2022-06-24T09:26:07.600Z"
   },
   {
    "duration": 66,
    "start_time": "2022-06-24T09:26:11.169Z"
   },
   {
    "duration": 4,
    "start_time": "2022-06-24T09:26:51.410Z"
   },
   {
    "duration": 2726,
    "start_time": "2022-06-24T09:27:19.396Z"
   },
   {
    "duration": 1713,
    "start_time": "2022-06-24T09:27:22.124Z"
   },
   {
    "duration": 934,
    "start_time": "2022-06-24T09:27:23.839Z"
   },
   {
    "duration": 17,
    "start_time": "2022-06-24T09:27:24.775Z"
   },
   {
    "duration": 145,
    "start_time": "2022-06-24T09:27:24.794Z"
   },
   {
    "duration": 115,
    "start_time": "2022-06-24T09:27:24.942Z"
   },
   {
    "duration": 134,
    "start_time": "2022-06-24T09:27:25.058Z"
   },
   {
    "duration": 345,
    "start_time": "2022-06-24T09:27:25.194Z"
   },
   {
    "duration": 31014,
    "start_time": "2022-06-24T09:27:25.542Z"
   },
   {
    "duration": 680,
    "start_time": "2022-06-24T09:27:56.559Z"
   },
   {
    "duration": 199,
    "start_time": "2022-06-24T09:27:57.242Z"
   },
   {
    "duration": 48,
    "start_time": "2022-06-24T09:27:57.442Z"
   },
   {
    "duration": 38,
    "start_time": "2022-06-24T09:27:57.492Z"
   },
   {
    "duration": 41,
    "start_time": "2022-06-24T09:27:57.541Z"
   },
   {
    "duration": 32,
    "start_time": "2022-06-24T09:27:57.584Z"
   },
   {
    "duration": 56,
    "start_time": "2022-06-24T09:27:57.618Z"
   },
   {
    "duration": 23,
    "start_time": "2022-06-24T09:27:57.675Z"
   },
   {
    "duration": 44,
    "start_time": "2022-06-24T09:27:57.700Z"
   },
   {
    "duration": 39,
    "start_time": "2022-06-24T09:27:57.746Z"
   },
   {
    "duration": 31,
    "start_time": "2022-06-24T09:27:57.787Z"
   },
   {
    "duration": 26,
    "start_time": "2022-06-24T09:27:57.820Z"
   },
   {
    "duration": 82,
    "start_time": "2022-06-24T09:27:57.849Z"
   },
   {
    "duration": 681,
    "start_time": "2022-06-24T09:27:57.932Z"
   },
   {
    "duration": 6,
    "start_time": "2022-06-24T09:27:58.614Z"
   },
   {
    "duration": 46,
    "start_time": "2022-06-24T09:27:58.621Z"
   },
   {
    "duration": 29,
    "start_time": "2022-06-24T09:27:58.669Z"
   },
   {
    "duration": 7,
    "start_time": "2022-06-24T09:27:58.699Z"
   },
   {
    "duration": 35,
    "start_time": "2022-06-24T09:27:58.710Z"
   },
   {
    "duration": 8,
    "start_time": "2022-06-24T09:27:58.746Z"
   },
   {
    "duration": 11,
    "start_time": "2022-06-24T09:27:58.755Z"
   },
   {
    "duration": 7,
    "start_time": "2022-06-24T09:27:58.768Z"
   },
   {
    "duration": 7,
    "start_time": "2022-06-24T09:27:58.777Z"
   },
   {
    "duration": 7,
    "start_time": "2022-06-24T09:27:58.786Z"
   },
   {
    "duration": 6,
    "start_time": "2022-06-24T09:27:58.795Z"
   },
   {
    "duration": 44,
    "start_time": "2022-06-24T09:27:58.803Z"
   },
   {
    "duration": 16,
    "start_time": "2022-06-24T09:27:58.849Z"
   },
   {
    "duration": 5,
    "start_time": "2022-06-24T09:27:58.867Z"
   },
   {
    "duration": 10,
    "start_time": "2022-06-24T09:27:58.873Z"
   },
   {
    "duration": 93,
    "start_time": "2022-06-24T09:27:58.885Z"
   },
   {
    "duration": 14,
    "start_time": "2022-06-24T09:27:58.980Z"
   },
   {
    "duration": 7,
    "start_time": "2022-06-24T09:27:58.996Z"
   },
   {
    "duration": 7,
    "start_time": "2022-06-24T09:27:59.005Z"
   },
   {
    "duration": 6,
    "start_time": "2022-06-24T09:27:59.014Z"
   },
   {
    "duration": 11,
    "start_time": "2022-06-24T09:27:59.043Z"
   },
   {
    "duration": 10,
    "start_time": "2022-06-24T09:27:59.056Z"
   },
   {
    "duration": 154,
    "start_time": "2022-06-24T09:27:59.068Z"
   },
   {
    "duration": 0,
    "start_time": "2022-06-24T09:27:59.224Z"
   },
   {
    "duration": 0,
    "start_time": "2022-06-24T09:27:59.225Z"
   },
   {
    "duration": 0,
    "start_time": "2022-06-24T09:27:59.226Z"
   },
   {
    "duration": 0,
    "start_time": "2022-06-24T09:27:59.227Z"
   },
   {
    "duration": 0,
    "start_time": "2022-06-24T09:27:59.228Z"
   },
   {
    "duration": 0,
    "start_time": "2022-06-24T09:27:59.229Z"
   },
   {
    "duration": 0,
    "start_time": "2022-06-24T09:27:59.230Z"
   },
   {
    "duration": 0,
    "start_time": "2022-06-24T09:27:59.231Z"
   },
   {
    "duration": 0,
    "start_time": "2022-06-24T09:27:59.231Z"
   },
   {
    "duration": 0,
    "start_time": "2022-06-24T09:27:59.232Z"
   },
   {
    "duration": 3,
    "start_time": "2022-06-24T09:28:33.208Z"
   },
   {
    "duration": 2538,
    "start_time": "2022-06-24T09:28:37.806Z"
   },
   {
    "duration": 1708,
    "start_time": "2022-06-24T09:28:40.346Z"
   },
   {
    "duration": 936,
    "start_time": "2022-06-24T09:28:42.055Z"
   },
   {
    "duration": 17,
    "start_time": "2022-06-24T09:28:42.993Z"
   },
   {
    "duration": 134,
    "start_time": "2022-06-24T09:28:43.011Z"
   },
   {
    "duration": 119,
    "start_time": "2022-06-24T09:28:43.147Z"
   },
   {
    "duration": 128,
    "start_time": "2022-06-24T09:28:43.267Z"
   },
   {
    "duration": 332,
    "start_time": "2022-06-24T09:28:43.397Z"
   },
   {
    "duration": 30199,
    "start_time": "2022-06-24T09:28:43.731Z"
   },
   {
    "duration": 689,
    "start_time": "2022-06-24T09:29:13.933Z"
   },
   {
    "duration": 174,
    "start_time": "2022-06-24T09:29:14.624Z"
   },
   {
    "duration": 42,
    "start_time": "2022-06-24T09:29:14.800Z"
   },
   {
    "duration": 19,
    "start_time": "2022-06-24T09:29:14.844Z"
   },
   {
    "duration": 31,
    "start_time": "2022-06-24T09:29:14.865Z"
   },
   {
    "duration": 46,
    "start_time": "2022-06-24T09:29:14.898Z"
   },
   {
    "duration": 34,
    "start_time": "2022-06-24T09:29:14.946Z"
   },
   {
    "duration": 20,
    "start_time": "2022-06-24T09:29:14.982Z"
   },
   {
    "duration": 45,
    "start_time": "2022-06-24T09:29:15.004Z"
   },
   {
    "duration": 22,
    "start_time": "2022-06-24T09:29:15.051Z"
   },
   {
    "duration": 32,
    "start_time": "2022-06-24T09:29:15.075Z"
   },
   {
    "duration": 43,
    "start_time": "2022-06-24T09:29:15.109Z"
   },
   {
    "duration": 77,
    "start_time": "2022-06-24T09:29:15.154Z"
   },
   {
    "duration": 668,
    "start_time": "2022-06-24T09:29:15.242Z"
   },
   {
    "duration": 7,
    "start_time": "2022-06-24T09:29:15.912Z"
   },
   {
    "duration": 45,
    "start_time": "2022-06-24T09:29:15.921Z"
   },
   {
    "duration": 30,
    "start_time": "2022-06-24T09:29:15.967Z"
   },
   {
    "duration": 7,
    "start_time": "2022-06-24T09:29:15.999Z"
   },
   {
    "duration": 41,
    "start_time": "2022-06-24T09:29:16.010Z"
   },
   {
    "duration": 9,
    "start_time": "2022-06-24T09:29:16.054Z"
   },
   {
    "duration": 7,
    "start_time": "2022-06-24T09:29:16.065Z"
   },
   {
    "duration": 7,
    "start_time": "2022-06-24T09:29:16.074Z"
   },
   {
    "duration": 8,
    "start_time": "2022-06-24T09:29:16.083Z"
   },
   {
    "duration": 6,
    "start_time": "2022-06-24T09:29:16.093Z"
   },
   {
    "duration": 6,
    "start_time": "2022-06-24T09:29:16.101Z"
   },
   {
    "duration": 10,
    "start_time": "2022-06-24T09:29:16.142Z"
   },
   {
    "duration": 9,
    "start_time": "2022-06-24T09:29:16.153Z"
   },
   {
    "duration": 5,
    "start_time": "2022-06-24T09:29:16.163Z"
   },
   {
    "duration": 13,
    "start_time": "2022-06-24T09:29:16.170Z"
   },
   {
    "duration": 91,
    "start_time": "2022-06-24T09:29:16.185Z"
   },
   {
    "duration": 15,
    "start_time": "2022-06-24T09:29:16.278Z"
   },
   {
    "duration": 6,
    "start_time": "2022-06-24T09:29:16.295Z"
   },
   {
    "duration": 13,
    "start_time": "2022-06-24T09:29:16.303Z"
   },
   {
    "duration": 24,
    "start_time": "2022-06-24T09:29:16.318Z"
   },
   {
    "duration": 13,
    "start_time": "2022-06-24T09:29:16.345Z"
   },
   {
    "duration": 22,
    "start_time": "2022-06-24T09:29:16.360Z"
   },
   {
    "duration": 76,
    "start_time": "2022-06-24T09:29:16.384Z"
   },
   {
    "duration": 6,
    "start_time": "2022-06-24T09:29:16.462Z"
   },
   {
    "duration": 12,
    "start_time": "2022-06-24T09:29:16.469Z"
   },
   {
    "duration": 1470,
    "start_time": "2022-06-24T09:29:16.483Z"
   },
   {
    "duration": 970,
    "start_time": "2022-06-24T09:29:18.043Z"
   },
   {
    "duration": 44606,
    "start_time": "2022-06-24T09:29:19.015Z"
   },
   {
    "duration": 1031231,
    "start_time": "2022-06-24T09:30:03.623Z"
   },
   {
    "duration": 93,
    "start_time": "2022-06-24T09:47:14.856Z"
   },
   {
    "duration": 8,
    "start_time": "2022-06-24T09:47:14.951Z"
   },
   {
    "duration": 13,
    "start_time": "2022-06-24T09:47:14.960Z"
   },
   {
    "duration": 11,
    "start_time": "2022-06-24T09:47:14.975Z"
   },
   {
    "duration": 117,
    "start_time": "2022-06-24T09:47:14.989Z"
   },
   {
    "duration": 16,
    "start_time": "2022-06-24T09:49:01.049Z"
   },
   {
    "duration": 15,
    "start_time": "2022-06-24T09:49:29.283Z"
   },
   {
    "duration": 803,
    "start_time": "2022-06-24T09:49:41.187Z"
   },
   {
    "duration": 242,
    "start_time": "2022-06-24T09:56:11.126Z"
   },
   {
    "duration": 48,
    "start_time": "2022-06-24T09:56:11.535Z"
   },
   {
    "duration": 32,
    "start_time": "2022-06-24T09:56:11.927Z"
   },
   {
    "duration": 40,
    "start_time": "2022-06-24T09:56:12.335Z"
   },
   {
    "duration": 20,
    "start_time": "2022-06-24T09:56:12.755Z"
   },
   {
    "duration": 60,
    "start_time": "2022-06-24T09:56:13.414Z"
   },
   {
    "duration": 33,
    "start_time": "2022-06-24T09:56:14.190Z"
   },
   {
    "duration": 44,
    "start_time": "2022-06-24T09:56:16.826Z"
   },
   {
    "duration": 20,
    "start_time": "2022-06-24T09:56:18.894Z"
   },
   {
    "duration": 31,
    "start_time": "2022-06-24T09:56:21.285Z"
   },
   {
    "duration": 23,
    "start_time": "2022-06-24T09:56:22.022Z"
   },
   {
    "duration": 112,
    "start_time": "2022-06-24T09:56:23.151Z"
   },
   {
    "duration": 116,
    "start_time": "2022-06-24T09:56:28.072Z"
   },
   {
    "duration": 7,
    "start_time": "2022-06-24T09:56:39.571Z"
   },
   {
    "duration": 78,
    "start_time": "2022-06-24T09:56:46.038Z"
   },
   {
    "duration": 124,
    "start_time": "2022-06-24T09:56:50.000Z"
   },
   {
    "duration": 6,
    "start_time": "2022-06-24T09:57:14.275Z"
   },
   {
    "duration": 6,
    "start_time": "2022-06-24T09:57:23.383Z"
   },
   {
    "duration": 45,
    "start_time": "2022-06-24T09:57:52.736Z"
   },
   {
    "duration": 109,
    "start_time": "2022-06-24T09:57:59.058Z"
   },
   {
    "duration": 2709,
    "start_time": "2022-06-24T09:58:19.918Z"
   },
   {
    "duration": 1662,
    "start_time": "2022-06-24T09:58:22.630Z"
   },
   {
    "duration": 904,
    "start_time": "2022-06-24T09:58:24.293Z"
   },
   {
    "duration": 18,
    "start_time": "2022-06-24T09:58:25.199Z"
   },
   {
    "duration": 219,
    "start_time": "2022-06-24T09:58:25.219Z"
   },
   {
    "duration": 118,
    "start_time": "2022-06-24T09:58:25.442Z"
   },
   {
    "duration": 196,
    "start_time": "2022-06-24T09:58:25.562Z"
   },
   {
    "duration": 303,
    "start_time": "2022-06-24T09:58:25.760Z"
   },
   {
    "duration": 29457,
    "start_time": "2022-06-24T09:58:26.065Z"
   },
   {
    "duration": 677,
    "start_time": "2022-06-24T09:58:55.525Z"
   },
   {
    "duration": 277,
    "start_time": "2022-06-24T09:58:56.203Z"
   },
   {
    "duration": 42,
    "start_time": "2022-06-24T09:58:56.482Z"
   },
   {
    "duration": 40,
    "start_time": "2022-06-24T09:58:56.526Z"
   },
   {
    "duration": 41,
    "start_time": "2022-06-24T09:58:56.568Z"
   },
   {
    "duration": 47,
    "start_time": "2022-06-24T09:58:56.610Z"
   },
   {
    "duration": 45,
    "start_time": "2022-06-24T09:58:56.659Z"
   },
   {
    "duration": 35,
    "start_time": "2022-06-24T09:58:56.706Z"
   },
   {
    "duration": 41,
    "start_time": "2022-06-24T09:58:56.743Z"
   },
   {
    "duration": 30,
    "start_time": "2022-06-24T09:58:56.785Z"
   },
   {
    "duration": 62,
    "start_time": "2022-06-24T09:58:56.817Z"
   },
   {
    "duration": 39,
    "start_time": "2022-06-24T09:58:56.881Z"
   },
   {
    "duration": 159,
    "start_time": "2022-06-24T09:58:56.922Z"
   },
   {
    "duration": 710,
    "start_time": "2022-06-24T09:58:57.083Z"
   },
   {
    "duration": 6,
    "start_time": "2022-06-24T09:58:57.795Z"
   },
   {
    "duration": 43,
    "start_time": "2022-06-24T09:58:57.802Z"
   },
   {
    "duration": 29,
    "start_time": "2022-06-24T09:58:57.846Z"
   },
   {
    "duration": 7,
    "start_time": "2022-06-24T09:58:57.877Z"
   },
   {
    "duration": 65,
    "start_time": "2022-06-24T09:58:57.888Z"
   },
   {
    "duration": 9,
    "start_time": "2022-06-24T09:58:57.955Z"
   },
   {
    "duration": 8,
    "start_time": "2022-06-24T09:58:57.965Z"
   },
   {
    "duration": 28,
    "start_time": "2022-06-24T09:58:57.975Z"
   },
   {
    "duration": 39,
    "start_time": "2022-06-24T09:58:58.005Z"
   },
   {
    "duration": 8,
    "start_time": "2022-06-24T09:58:58.046Z"
   },
   {
    "duration": 25,
    "start_time": "2022-06-24T09:58:58.056Z"
   },
   {
    "duration": 72,
    "start_time": "2022-06-24T09:58:58.083Z"
   },
   {
    "duration": 16,
    "start_time": "2022-06-24T09:58:58.158Z"
   },
   {
    "duration": 35,
    "start_time": "2022-06-24T09:58:58.176Z"
   },
   {
    "duration": 68,
    "start_time": "2022-06-24T09:58:58.213Z"
   },
   {
    "duration": 526,
    "start_time": "2022-06-24T09:58:58.284Z"
   },
   {
    "duration": 132,
    "start_time": "2022-06-24T09:58:58.812Z"
   },
   {
    "duration": 39,
    "start_time": "2022-06-24T09:58:58.946Z"
   },
   {
    "duration": 109,
    "start_time": "2022-06-24T09:58:58.987Z"
   },
   {
    "duration": 5,
    "start_time": "2022-06-24T09:58:59.098Z"
   },
   {
    "duration": 6,
    "start_time": "2022-06-24T09:58:59.104Z"
   },
   {
    "duration": 7,
    "start_time": "2022-06-24T09:58:59.112Z"
   },
   {
    "duration": 1131,
    "start_time": "2022-06-24T09:58:59.121Z"
   },
   {
    "duration": 4,
    "start_time": "2022-06-24T09:59:00.254Z"
   },
   {
    "duration": 23,
    "start_time": "2022-06-24T09:59:00.261Z"
   },
   {
    "duration": 253057,
    "start_time": "2022-06-24T09:59:00.287Z"
   },
   {
    "duration": 42326,
    "start_time": "2022-06-24T10:03:13.346Z"
   },
   {
    "duration": 390680,
    "start_time": "2022-06-24T10:03:55.673Z"
   },
   {
    "duration": 995107,
    "start_time": "2022-06-24T10:10:26.356Z"
   },
   {
    "duration": 86,
    "start_time": "2022-06-24T10:27:01.465Z"
   },
   {
    "duration": 9,
    "start_time": "2022-06-24T10:27:01.553Z"
   },
   {
    "duration": 18,
    "start_time": "2022-06-24T10:27:01.564Z"
   },
   {
    "duration": 17,
    "start_time": "2022-06-24T10:27:01.584Z"
   },
   {
    "duration": 163,
    "start_time": "2022-06-24T10:27:01.606Z"
   },
   {
    "duration": 90,
    "start_time": "2022-06-24T10:49:19.526Z"
   },
   {
    "duration": 2772,
    "start_time": "2022-06-24T10:52:22.516Z"
   },
   {
    "duration": 1668,
    "start_time": "2022-06-24T10:52:25.291Z"
   },
   {
    "duration": 1023,
    "start_time": "2022-06-24T10:52:26.962Z"
   },
   {
    "duration": 26,
    "start_time": "2022-06-24T10:52:27.988Z"
   },
   {
    "duration": 253,
    "start_time": "2022-06-24T10:52:28.017Z"
   },
   {
    "duration": 125,
    "start_time": "2022-06-24T10:52:28.272Z"
   },
   {
    "duration": 129,
    "start_time": "2022-06-24T10:52:28.399Z"
   },
   {
    "duration": 331,
    "start_time": "2022-06-24T10:52:28.530Z"
   },
   {
    "duration": 30815,
    "start_time": "2022-06-24T10:52:28.863Z"
   },
   {
    "duration": 683,
    "start_time": "2022-06-24T10:52:59.681Z"
   },
   {
    "duration": 171,
    "start_time": "2022-06-24T10:53:00.366Z"
   },
   {
    "duration": 34,
    "start_time": "2022-06-24T10:53:00.538Z"
   },
   {
    "duration": 23,
    "start_time": "2022-06-24T10:53:00.573Z"
   },
   {
    "duration": 56,
    "start_time": "2022-06-24T10:53:00.598Z"
   },
   {
    "duration": 22,
    "start_time": "2022-06-24T10:53:00.656Z"
   },
   {
    "duration": 35,
    "start_time": "2022-06-24T10:53:00.680Z"
   },
   {
    "duration": 46,
    "start_time": "2022-06-24T10:53:00.717Z"
   },
   {
    "duration": 39,
    "start_time": "2022-06-24T10:53:00.765Z"
   },
   {
    "duration": 29,
    "start_time": "2022-06-24T10:53:00.806Z"
   },
   {
    "duration": 44,
    "start_time": "2022-06-24T10:53:00.838Z"
   },
   {
    "duration": 31,
    "start_time": "2022-06-24T10:53:00.884Z"
   },
   {
    "duration": 85,
    "start_time": "2022-06-24T10:53:00.917Z"
   },
   {
    "duration": 656,
    "start_time": "2022-06-24T10:53:01.004Z"
   },
   {
    "duration": 7,
    "start_time": "2022-06-24T10:53:01.662Z"
   },
   {
    "duration": 35,
    "start_time": "2022-06-24T10:53:01.671Z"
   },
   {
    "duration": 48,
    "start_time": "2022-06-24T10:53:01.708Z"
   },
   {
    "duration": 8,
    "start_time": "2022-06-24T10:53:01.759Z"
   },
   {
    "duration": 40,
    "start_time": "2022-06-24T10:53:01.772Z"
   },
   {
    "duration": 35,
    "start_time": "2022-06-24T10:53:01.814Z"
   },
   {
    "duration": 13,
    "start_time": "2022-06-24T10:53:01.851Z"
   },
   {
    "duration": 32,
    "start_time": "2022-06-24T10:53:01.866Z"
   },
   {
    "duration": 9,
    "start_time": "2022-06-24T10:53:01.900Z"
   },
   {
    "duration": 33,
    "start_time": "2022-06-24T10:53:01.911Z"
   },
   {
    "duration": 23,
    "start_time": "2022-06-24T10:53:01.946Z"
   },
   {
    "duration": 45,
    "start_time": "2022-06-24T10:53:01.971Z"
   },
   {
    "duration": 15,
    "start_time": "2022-06-24T10:53:02.043Z"
   },
   {
    "duration": 36,
    "start_time": "2022-06-24T10:53:02.060Z"
   },
   {
    "duration": 63,
    "start_time": "2022-06-24T10:53:02.098Z"
   },
   {
    "duration": 442,
    "start_time": "2022-06-24T10:53:02.162Z"
   },
   {
    "duration": 36,
    "start_time": "2022-06-24T10:53:02.606Z"
   },
   {
    "duration": 74,
    "start_time": "2022-06-24T10:53:02.643Z"
   },
   {
    "duration": 4,
    "start_time": "2022-06-24T10:53:02.719Z"
   },
   {
    "duration": 21,
    "start_time": "2022-06-24T10:53:02.724Z"
   },
   {
    "duration": 5,
    "start_time": "2022-06-24T10:53:02.747Z"
   },
   {
    "duration": 1129,
    "start_time": "2022-06-24T10:53:02.754Z"
   },
   {
    "duration": 3,
    "start_time": "2022-06-24T10:53:03.885Z"
   },
   {
    "duration": 15,
    "start_time": "2022-06-24T10:53:03.890Z"
   },
   {
    "duration": 236444,
    "start_time": "2022-06-24T10:53:03.907Z"
   },
   {
    "duration": 36696,
    "start_time": "2022-06-24T10:57:00.353Z"
   },
   {
    "duration": 355522,
    "start_time": "2022-06-24T10:57:37.051Z"
   },
   {
    "duration": 51,
    "start_time": "2022-06-24T11:22:21.242Z"
   },
   {
    "duration": 7,
    "start_time": "2022-06-24T11:22:31.945Z"
   },
   {
    "duration": 1667,
    "start_time": "2022-06-24T11:22:35.243Z"
   },
   {
    "duration": 882,
    "start_time": "2022-06-24T11:22:37.588Z"
   },
   {
    "duration": 37,
    "start_time": "2022-06-24T11:22:48.033Z"
   },
   {
    "duration": 17,
    "start_time": "2022-06-24T11:23:11.478Z"
   },
   {
    "duration": 2623,
    "start_time": "2022-06-24T11:26:38.210Z"
   },
   {
    "duration": 1719,
    "start_time": "2022-06-24T11:26:40.836Z"
   },
   {
    "duration": 877,
    "start_time": "2022-06-24T11:26:42.557Z"
   },
   {
    "duration": 26,
    "start_time": "2022-06-24T11:26:43.437Z"
   },
   {
    "duration": 151,
    "start_time": "2022-06-24T11:26:43.466Z"
   },
   {
    "duration": 151,
    "start_time": "2022-06-24T11:26:43.619Z"
   },
   {
    "duration": 171,
    "start_time": "2022-06-24T11:26:43.772Z"
   },
   {
    "duration": 382,
    "start_time": "2022-06-24T11:26:43.945Z"
   },
   {
    "duration": 30229,
    "start_time": "2022-06-24T11:26:44.329Z"
   },
   {
    "duration": 702,
    "start_time": "2022-06-24T11:27:14.563Z"
   },
   {
    "duration": 184,
    "start_time": "2022-06-24T11:27:15.267Z"
   },
   {
    "duration": 45,
    "start_time": "2022-06-24T11:27:15.454Z"
   },
   {
    "duration": 51,
    "start_time": "2022-06-24T11:27:15.502Z"
   },
   {
    "duration": 40,
    "start_time": "2022-06-24T11:27:15.556Z"
   },
   {
    "duration": 23,
    "start_time": "2022-06-24T11:27:15.598Z"
   },
   {
    "duration": 55,
    "start_time": "2022-06-24T11:27:15.623Z"
   },
   {
    "duration": 18,
    "start_time": "2022-06-24T11:27:15.680Z"
   },
   {
    "duration": 51,
    "start_time": "2022-06-24T11:27:15.701Z"
   },
   {
    "duration": 21,
    "start_time": "2022-06-24T11:27:15.754Z"
   },
   {
    "duration": 33,
    "start_time": "2022-06-24T11:27:15.777Z"
   },
   {
    "duration": 43,
    "start_time": "2022-06-24T11:27:15.813Z"
   },
   {
    "duration": 88,
    "start_time": "2022-06-24T11:27:15.859Z"
   },
   {
    "duration": 684,
    "start_time": "2022-06-24T11:27:15.949Z"
   },
   {
    "duration": 12,
    "start_time": "2022-06-24T11:27:16.635Z"
   },
   {
    "duration": 32,
    "start_time": "2022-06-24T11:27:16.650Z"
   },
   {
    "duration": 30,
    "start_time": "2022-06-24T11:27:16.684Z"
   },
   {
    "duration": 32,
    "start_time": "2022-06-24T11:27:16.715Z"
   },
   {
    "duration": 41,
    "start_time": "2022-06-24T11:27:16.752Z"
   },
   {
    "duration": 10,
    "start_time": "2022-06-24T11:27:16.795Z"
   },
   {
    "duration": 36,
    "start_time": "2022-06-24T11:27:16.807Z"
   },
   {
    "duration": 36,
    "start_time": "2022-06-24T11:27:16.846Z"
   },
   {
    "duration": 10,
    "start_time": "2022-06-24T11:27:16.884Z"
   },
   {
    "duration": 12,
    "start_time": "2022-06-24T11:27:16.899Z"
   },
   {
    "duration": 23,
    "start_time": "2022-06-24T11:27:16.943Z"
   },
   {
    "duration": 59,
    "start_time": "2022-06-24T11:27:16.969Z"
   },
   {
    "duration": 18,
    "start_time": "2022-06-24T11:27:17.043Z"
   },
   {
    "duration": 50,
    "start_time": "2022-06-24T11:27:17.064Z"
   },
   {
    "duration": 56,
    "start_time": "2022-06-24T11:27:17.117Z"
   },
   {
    "duration": 12,
    "start_time": "2022-06-24T11:27:17.175Z"
   },
   {
    "duration": 451,
    "start_time": "2022-06-24T11:27:17.189Z"
   },
   {
    "duration": 30,
    "start_time": "2022-06-24T11:27:17.642Z"
   },
   {
    "duration": 88,
    "start_time": "2022-06-24T11:27:17.674Z"
   },
   {
    "duration": 5,
    "start_time": "2022-06-24T11:27:17.764Z"
   },
   {
    "duration": 8,
    "start_time": "2022-06-24T11:27:17.771Z"
   },
   {
    "duration": 10,
    "start_time": "2022-06-24T11:27:17.781Z"
   },
   {
    "duration": 1098,
    "start_time": "2022-06-24T11:27:17.793Z"
   },
   {
    "duration": 4,
    "start_time": "2022-06-24T11:27:18.893Z"
   },
   {
    "duration": 8,
    "start_time": "2022-06-24T11:27:18.899Z"
   },
   {
    "duration": 211242,
    "start_time": "2022-06-24T11:27:18.909Z"
   },
   {
    "duration": 27085,
    "start_time": "2022-06-24T11:30:50.242Z"
   },
   {
    "duration": 357508,
    "start_time": "2022-06-24T11:31:17.330Z"
   },
   {
    "duration": 18524,
    "start_time": "2022-06-24T11:37:14.839Z"
   },
   {
    "duration": 0,
    "start_time": "2022-06-24T11:37:33.365Z"
   },
   {
    "duration": 0,
    "start_time": "2022-06-24T11:37:33.366Z"
   },
   {
    "duration": 0,
    "start_time": "2022-06-24T11:37:33.367Z"
   },
   {
    "duration": 0,
    "start_time": "2022-06-24T11:37:33.369Z"
   },
   {
    "duration": 10,
    "start_time": "2022-06-24T11:42:06.721Z"
   },
   {
    "duration": 14,
    "start_time": "2022-06-24T11:42:15.624Z"
   },
   {
    "duration": 12,
    "start_time": "2022-06-24T11:42:18.809Z"
   },
   {
    "duration": 9,
    "start_time": "2022-06-24T11:42:24.280Z"
   },
   {
    "duration": 7,
    "start_time": "2022-06-24T11:42:37.899Z"
   },
   {
    "duration": 83,
    "start_time": "2022-06-24T11:48:58.497Z"
   },
   {
    "duration": 44,
    "start_time": "2022-06-24T11:49:57.501Z"
   },
   {
    "duration": 11,
    "start_time": "2022-06-24T11:50:32.416Z"
   },
   {
    "duration": 26,
    "start_time": "2022-06-24T11:56:08.287Z"
   },
   {
    "duration": 16,
    "start_time": "2022-06-24T11:57:22.177Z"
   },
   {
    "duration": 14,
    "start_time": "2022-06-24T12:03:18.466Z"
   },
   {
    "duration": 12,
    "start_time": "2022-06-24T12:05:21.177Z"
   },
   {
    "duration": 14,
    "start_time": "2022-06-24T12:05:28.378Z"
   },
   {
    "duration": 11,
    "start_time": "2022-06-24T12:05:35.708Z"
   },
   {
    "duration": 15,
    "start_time": "2022-06-24T12:05:41.191Z"
   },
   {
    "duration": 12,
    "start_time": "2022-06-24T12:05:48.086Z"
   },
   {
    "duration": 11,
    "start_time": "2022-06-24T12:05:56.117Z"
   },
   {
    "duration": 12,
    "start_time": "2022-06-24T12:06:02.890Z"
   },
   {
    "duration": 11,
    "start_time": "2022-06-24T12:06:11.589Z"
   },
   {
    "duration": 12,
    "start_time": "2022-06-24T12:06:18.534Z"
   },
   {
    "duration": 12,
    "start_time": "2022-06-24T12:06:31.185Z"
   },
   {
    "duration": 11,
    "start_time": "2022-06-24T12:06:36.198Z"
   },
   {
    "duration": 11,
    "start_time": "2022-06-24T12:06:40.911Z"
   },
   {
    "duration": 11,
    "start_time": "2022-06-24T12:06:47.883Z"
   },
   {
    "duration": 11,
    "start_time": "2022-06-24T12:09:07.104Z"
   },
   {
    "duration": 5,
    "start_time": "2022-06-24T12:11:04.384Z"
   },
   {
    "duration": 12,
    "start_time": "2022-06-24T12:11:14.574Z"
   },
   {
    "duration": 18,
    "start_time": "2022-06-24T12:12:37.213Z"
   },
   {
    "duration": 15,
    "start_time": "2022-06-24T12:13:51.586Z"
   },
   {
    "duration": 11,
    "start_time": "2022-06-24T12:18:24.335Z"
   },
   {
    "duration": 11,
    "start_time": "2022-06-24T12:19:15.684Z"
   },
   {
    "duration": 21,
    "start_time": "2022-06-24T12:20:44.094Z"
   },
   {
    "duration": 6,
    "start_time": "2022-06-24T12:20:56.322Z"
   },
   {
    "duration": 8,
    "start_time": "2022-06-24T12:21:10.295Z"
   },
   {
    "duration": 135,
    "start_time": "2022-06-24T12:21:21.986Z"
   },
   {
    "duration": 12,
    "start_time": "2022-06-24T12:23:16.586Z"
   },
   {
    "duration": 15,
    "start_time": "2022-06-24T12:23:53.856Z"
   },
   {
    "duration": 71,
    "start_time": "2022-06-24T12:24:41.534Z"
   },
   {
    "duration": 140,
    "start_time": "2022-06-24T12:25:05.490Z"
   },
   {
    "duration": 18,
    "start_time": "2022-06-24T12:25:18.086Z"
   },
   {
    "duration": 136,
    "start_time": "2022-06-24T12:25:22.229Z"
   },
   {
    "duration": 33,
    "start_time": "2022-06-24T12:25:36.702Z"
   },
   {
    "duration": 151,
    "start_time": "2022-06-24T12:25:52.580Z"
   },
   {
    "duration": 14,
    "start_time": "2022-06-24T12:26:18.734Z"
   },
   {
    "duration": 14,
    "start_time": "2022-06-24T12:26:28.414Z"
   },
   {
    "duration": 10,
    "start_time": "2022-06-24T12:26:35.592Z"
   },
   {
    "duration": 13,
    "start_time": "2022-06-24T12:26:36.990Z"
   },
   {
    "duration": 20,
    "start_time": "2022-06-24T12:26:43.982Z"
   },
   {
    "duration": 25,
    "start_time": "2022-06-24T12:27:15.222Z"
   },
   {
    "duration": 18,
    "start_time": "2022-06-24T12:27:27.407Z"
   },
   {
    "duration": 41,
    "start_time": "2022-06-24T12:30:16.634Z"
   },
   {
    "duration": 18,
    "start_time": "2022-06-24T12:30:35.609Z"
   },
   {
    "duration": 16,
    "start_time": "2022-06-24T12:31:08.498Z"
   },
   {
    "duration": 12,
    "start_time": "2022-06-24T12:31:14.619Z"
   },
   {
    "duration": 23,
    "start_time": "2022-06-24T12:31:46.330Z"
   },
   {
    "duration": 9,
    "start_time": "2022-06-24T12:32:06.588Z"
   },
   {
    "duration": 24,
    "start_time": "2022-06-24T12:33:36.211Z"
   },
   {
    "duration": 18,
    "start_time": "2022-06-24T12:33:51.635Z"
   },
   {
    "duration": 17,
    "start_time": "2022-06-24T12:33:59.992Z"
   },
   {
    "duration": 15,
    "start_time": "2022-06-24T12:35:42.994Z"
   },
   {
    "duration": 9,
    "start_time": "2022-06-24T12:35:52.695Z"
   },
   {
    "duration": 17,
    "start_time": "2022-06-24T12:36:15.941Z"
   },
   {
    "duration": 4,
    "start_time": "2022-06-24T12:36:30.783Z"
   },
   {
    "duration": 10,
    "start_time": "2022-06-24T12:36:34.587Z"
   },
   {
    "duration": 6,
    "start_time": "2022-06-24T12:36:37.054Z"
   },
   {
    "duration": 14,
    "start_time": "2022-06-24T12:37:08.525Z"
   },
   {
    "duration": 10,
    "start_time": "2022-06-24T12:37:46.201Z"
   },
   {
    "duration": 106,
    "start_time": "2022-06-24T12:38:25.201Z"
   },
   {
    "duration": 14,
    "start_time": "2022-06-24T12:38:32.017Z"
   },
   {
    "duration": 15,
    "start_time": "2022-06-24T12:38:47.103Z"
   },
   {
    "duration": 4,
    "start_time": "2022-06-24T12:38:47.710Z"
   },
   {
    "duration": 15,
    "start_time": "2022-06-24T12:38:51.006Z"
   },
   {
    "duration": 6,
    "start_time": "2022-06-24T12:39:12.015Z"
   },
   {
    "duration": 13,
    "start_time": "2022-06-24T12:39:44.402Z"
   },
   {
    "duration": 12,
    "start_time": "2022-06-24T12:39:45.648Z"
   },
   {
    "duration": 14,
    "start_time": "2022-06-24T12:39:48.805Z"
   },
   {
    "duration": 17,
    "start_time": "2022-06-24T12:40:10.927Z"
   },
   {
    "duration": 13,
    "start_time": "2022-06-24T12:42:10.497Z"
   },
   {
    "duration": 15,
    "start_time": "2022-06-24T12:42:50.630Z"
   },
   {
    "duration": 11,
    "start_time": "2022-06-24T12:43:10.722Z"
   },
   {
    "duration": 16,
    "start_time": "2022-06-24T12:43:17.322Z"
   },
   {
    "duration": 19,
    "start_time": "2022-06-24T12:43:24.690Z"
   },
   {
    "duration": 18,
    "start_time": "2022-06-24T12:43:37.477Z"
   },
   {
    "duration": 14,
    "start_time": "2022-06-24T12:43:40.490Z"
   },
   {
    "duration": 11,
    "start_time": "2022-06-24T12:44:56.389Z"
   },
   {
    "duration": 1569,
    "start_time": "2022-06-24T12:44:56.811Z"
   },
   {
    "duration": 73462,
    "start_time": "2022-06-24T12:49:04.129Z"
   },
   {
    "duration": 20,
    "start_time": "2022-06-24T12:50:44.260Z"
   },
   {
    "duration": 19,
    "start_time": "2022-06-24T12:50:47.513Z"
   },
   {
    "duration": 34,
    "start_time": "2022-06-24T12:51:07.432Z"
   },
   {
    "duration": 71752,
    "start_time": "2022-06-24T12:51:34.642Z"
   },
   {
    "duration": 16,
    "start_time": "2022-06-24T12:53:20.000Z"
   },
   {
    "duration": 877,
    "start_time": "2022-06-24T12:54:20.498Z"
   },
   {
    "duration": 13,
    "start_time": "2022-06-24T12:54:30.347Z"
   },
   {
    "duration": 11,
    "start_time": "2022-06-24T12:54:53.489Z"
   },
   {
    "duration": 14,
    "start_time": "2022-06-24T12:54:58.643Z"
   },
   {
    "duration": 9,
    "start_time": "2022-06-24T12:55:03.982Z"
   },
   {
    "duration": 15,
    "start_time": "2022-06-24T12:55:10.044Z"
   },
   {
    "duration": 13,
    "start_time": "2022-06-24T12:55:17.597Z"
   },
   {
    "duration": 13,
    "start_time": "2022-06-24T12:55:30.236Z"
   },
   {
    "duration": 976,
    "start_time": "2022-06-24T12:58:12.255Z"
   },
   {
    "duration": 11,
    "start_time": "2022-06-24T12:58:34.557Z"
   },
   {
    "duration": 8,
    "start_time": "2022-06-24T12:59:03.551Z"
   },
   {
    "duration": 13,
    "start_time": "2022-06-24T12:59:22.639Z"
   },
   {
    "duration": 16,
    "start_time": "2022-06-24T12:59:34.299Z"
   },
   {
    "duration": 21,
    "start_time": "2022-06-24T12:59:40.936Z"
   },
   {
    "duration": 15,
    "start_time": "2022-06-24T12:59:45.419Z"
   },
   {
    "duration": 13,
    "start_time": "2022-06-24T12:59:49.319Z"
   },
   {
    "duration": 14,
    "start_time": "2022-06-24T13:00:15.152Z"
   },
   {
    "duration": 21,
    "start_time": "2022-06-24T13:00:21.039Z"
   },
   {
    "duration": 13,
    "start_time": "2022-06-24T13:00:30.216Z"
   },
   {
    "duration": 11,
    "start_time": "2022-06-24T13:00:39.795Z"
   },
   {
    "duration": 13,
    "start_time": "2022-06-24T13:01:12.808Z"
   },
   {
    "duration": 22,
    "start_time": "2022-06-24T13:01:28.729Z"
   },
   {
    "duration": 17,
    "start_time": "2022-06-24T13:01:35.825Z"
   },
   {
    "duration": 13,
    "start_time": "2022-06-24T13:01:45.608Z"
   },
   {
    "duration": 13,
    "start_time": "2022-06-24T13:01:46.704Z"
   },
   {
    "duration": 21,
    "start_time": "2022-06-24T13:06:06.831Z"
   },
   {
    "duration": 30138,
    "start_time": "2022-06-24T13:06:08.218Z"
   },
   {
    "duration": 28,
    "start_time": "2022-06-24T13:06:49.725Z"
   },
   {
    "duration": 94169,
    "start_time": "2022-06-24T13:07:04.843Z"
   },
   {
    "duration": 16,
    "start_time": "2022-06-24T13:08:56.289Z"
   },
   {
    "duration": 15,
    "start_time": "2022-06-24T13:08:59.513Z"
   },
   {
    "duration": 27,
    "start_time": "2022-06-24T13:09:19.017Z"
   },
   {
    "duration": 864,
    "start_time": "2022-06-24T13:09:43.656Z"
   },
   {
    "duration": 8,
    "start_time": "2022-06-24T13:09:56.585Z"
   },
   {
    "duration": 13,
    "start_time": "2022-06-24T13:10:01.478Z"
   },
   {
    "duration": 12,
    "start_time": "2022-06-24T13:10:03.076Z"
   },
   {
    "duration": 33257,
    "start_time": "2022-06-24T13:10:20.004Z"
   },
   {
    "duration": 26,
    "start_time": "2022-06-24T13:10:53.263Z"
   },
   {
    "duration": 129,
    "start_time": "2022-06-24T13:12:15.286Z"
   },
   {
    "duration": 41,
    "start_time": "2022-06-24T13:12:22.253Z"
   },
   {
    "duration": 26,
    "start_time": "2022-06-24T13:12:30.158Z"
   },
   {
    "duration": 846,
    "start_time": "2022-06-24T13:12:52.349Z"
   },
   {
    "duration": 12,
    "start_time": "2022-06-24T13:13:03.750Z"
   },
   {
    "duration": 36780,
    "start_time": "2022-06-24T13:13:04.292Z"
   },
   {
    "duration": 26,
    "start_time": "2022-06-24T13:13:41.074Z"
   },
   {
    "duration": 175,
    "start_time": "2022-06-24T13:15:19.961Z"
   },
   {
    "duration": 65,
    "start_time": "2022-06-24T13:16:37.168Z"
   },
   {
    "duration": 24,
    "start_time": "2022-06-24T13:16:44.800Z"
   },
   {
    "duration": 35,
    "start_time": "2022-06-24T13:18:58.082Z"
   },
   {
    "duration": 32,
    "start_time": "2022-06-24T13:19:06.664Z"
   },
   {
    "duration": 26,
    "start_time": "2022-06-24T13:19:08.427Z"
   },
   {
    "duration": 2694,
    "start_time": "2022-06-24T13:20:42.892Z"
   },
   {
    "duration": 1655,
    "start_time": "2022-06-24T13:20:45.589Z"
   },
   {
    "duration": 922,
    "start_time": "2022-06-24T13:20:47.246Z"
   },
   {
    "duration": 17,
    "start_time": "2022-06-24T13:20:48.171Z"
   },
   {
    "duration": 139,
    "start_time": "2022-06-24T13:20:48.191Z"
   },
   {
    "duration": 121,
    "start_time": "2022-06-24T13:20:48.332Z"
   },
   {
    "duration": 122,
    "start_time": "2022-06-24T13:20:48.456Z"
   },
   {
    "duration": 330,
    "start_time": "2022-06-24T13:20:48.580Z"
   },
   {
    "duration": 30237,
    "start_time": "2022-06-24T13:20:48.913Z"
   },
   {
    "duration": 689,
    "start_time": "2022-06-24T13:21:19.153Z"
   },
   {
    "duration": 184,
    "start_time": "2022-06-24T13:21:19.845Z"
   },
   {
    "duration": 45,
    "start_time": "2022-06-24T13:21:20.031Z"
   },
   {
    "duration": 27,
    "start_time": "2022-06-24T13:21:20.077Z"
   },
   {
    "duration": 46,
    "start_time": "2022-06-24T13:21:20.107Z"
   },
   {
    "duration": 23,
    "start_time": "2022-06-24T13:21:20.155Z"
   },
   {
    "duration": 35,
    "start_time": "2022-06-24T13:21:20.180Z"
   },
   {
    "duration": 36,
    "start_time": "2022-06-24T13:21:20.218Z"
   },
   {
    "duration": 32,
    "start_time": "2022-06-24T13:21:20.257Z"
   },
   {
    "duration": 21,
    "start_time": "2022-06-24T13:21:20.291Z"
   },
   {
    "duration": 57,
    "start_time": "2022-06-24T13:21:20.314Z"
   },
   {
    "duration": 26,
    "start_time": "2022-06-24T13:21:20.373Z"
   },
   {
    "duration": 93,
    "start_time": "2022-06-24T13:21:20.401Z"
   },
   {
    "duration": 659,
    "start_time": "2022-06-24T13:21:20.496Z"
   },
   {
    "duration": 6,
    "start_time": "2022-06-24T13:21:21.157Z"
   },
   {
    "duration": 39,
    "start_time": "2022-06-24T13:21:21.165Z"
   },
   {
    "duration": 61,
    "start_time": "2022-06-24T13:21:21.206Z"
   },
   {
    "duration": 10,
    "start_time": "2022-06-24T13:21:21.270Z"
   },
   {
    "duration": 61,
    "start_time": "2022-06-24T13:21:21.286Z"
   },
   {
    "duration": 13,
    "start_time": "2022-06-24T13:21:21.350Z"
   },
   {
    "duration": 8,
    "start_time": "2022-06-24T13:21:21.365Z"
   },
   {
    "duration": 30,
    "start_time": "2022-06-24T13:21:21.375Z"
   },
   {
    "duration": 41,
    "start_time": "2022-06-24T13:21:21.407Z"
   },
   {
    "duration": 14,
    "start_time": "2022-06-24T13:21:21.449Z"
   },
   {
    "duration": 24,
    "start_time": "2022-06-24T13:21:21.466Z"
   },
   {
    "duration": 70,
    "start_time": "2022-06-24T13:21:21.491Z"
   },
   {
    "duration": 16,
    "start_time": "2022-06-24T13:21:21.563Z"
   },
   {
    "duration": 32,
    "start_time": "2022-06-24T13:21:21.581Z"
   },
   {
    "duration": 64,
    "start_time": "2022-06-24T13:21:21.615Z"
   },
   {
    "duration": 9,
    "start_time": "2022-06-24T13:21:21.681Z"
   },
   {
    "duration": 20,
    "start_time": "2022-06-24T13:21:21.691Z"
   },
   {
    "duration": 170,
    "start_time": "2022-06-24T13:21:21.712Z"
   },
   {
    "duration": 1,
    "start_time": "2022-06-24T13:21:21.883Z"
   },
   {
    "duration": 0,
    "start_time": "2022-06-24T13:21:21.885Z"
   },
   {
    "duration": 0,
    "start_time": "2022-06-24T13:21:21.887Z"
   },
   {
    "duration": 0,
    "start_time": "2022-06-24T13:21:21.888Z"
   },
   {
    "duration": 0,
    "start_time": "2022-06-24T13:21:21.889Z"
   },
   {
    "duration": 0,
    "start_time": "2022-06-24T13:21:21.891Z"
   },
   {
    "duration": 0,
    "start_time": "2022-06-24T13:21:21.891Z"
   },
   {
    "duration": 1,
    "start_time": "2022-06-24T13:21:21.892Z"
   },
   {
    "duration": 0,
    "start_time": "2022-06-24T13:21:21.894Z"
   },
   {
    "duration": 0,
    "start_time": "2022-06-24T13:21:21.895Z"
   },
   {
    "duration": 0,
    "start_time": "2022-06-24T13:21:21.896Z"
   },
   {
    "duration": 0,
    "start_time": "2022-06-24T13:21:21.897Z"
   },
   {
    "duration": 0,
    "start_time": "2022-06-24T13:21:21.898Z"
   },
   {
    "duration": 1,
    "start_time": "2022-06-24T13:21:21.899Z"
   },
   {
    "duration": 0,
    "start_time": "2022-06-24T13:21:21.902Z"
   },
   {
    "duration": 0,
    "start_time": "2022-06-24T13:21:21.903Z"
   },
   {
    "duration": 0,
    "start_time": "2022-06-24T13:21:21.942Z"
   },
   {
    "duration": 2685,
    "start_time": "2022-06-24T13:21:55.099Z"
   },
   {
    "duration": 1625,
    "start_time": "2022-06-24T13:21:57.787Z"
   },
   {
    "duration": 940,
    "start_time": "2022-06-24T13:21:59.414Z"
   },
   {
    "duration": 17,
    "start_time": "2022-06-24T13:22:00.356Z"
   },
   {
    "duration": 172,
    "start_time": "2022-06-24T13:22:00.375Z"
   },
   {
    "duration": 117,
    "start_time": "2022-06-24T13:22:00.549Z"
   },
   {
    "duration": 122,
    "start_time": "2022-06-24T13:22:00.668Z"
   },
   {
    "duration": 350,
    "start_time": "2022-06-24T13:22:00.792Z"
   },
   {
    "duration": 30154,
    "start_time": "2022-06-24T13:22:01.144Z"
   },
   {
    "duration": 707,
    "start_time": "2022-06-24T13:22:31.302Z"
   },
   {
    "duration": 185,
    "start_time": "2022-06-24T13:22:32.011Z"
   },
   {
    "duration": 32,
    "start_time": "2022-06-24T13:22:32.198Z"
   },
   {
    "duration": 19,
    "start_time": "2022-06-24T13:22:32.242Z"
   },
   {
    "duration": 31,
    "start_time": "2022-06-24T13:22:32.265Z"
   },
   {
    "duration": 47,
    "start_time": "2022-06-24T13:22:32.298Z"
   },
   {
    "duration": 47,
    "start_time": "2022-06-24T13:22:32.348Z"
   },
   {
    "duration": 21,
    "start_time": "2022-06-24T13:22:32.396Z"
   },
   {
    "duration": 52,
    "start_time": "2022-06-24T13:22:32.419Z"
   },
   {
    "duration": 26,
    "start_time": "2022-06-24T13:22:32.473Z"
   },
   {
    "duration": 44,
    "start_time": "2022-06-24T13:22:32.502Z"
   },
   {
    "duration": 25,
    "start_time": "2022-06-24T13:22:32.548Z"
   },
   {
    "duration": 92,
    "start_time": "2022-06-24T13:22:32.575Z"
   },
   {
    "duration": 661,
    "start_time": "2022-06-24T13:22:32.670Z"
   },
   {
    "duration": 11,
    "start_time": "2022-06-24T13:22:33.334Z"
   },
   {
    "duration": 34,
    "start_time": "2022-06-24T13:22:33.347Z"
   },
   {
    "duration": 31,
    "start_time": "2022-06-24T13:22:33.383Z"
   },
   {
    "duration": 29,
    "start_time": "2022-06-24T13:22:33.415Z"
   },
   {
    "duration": 42,
    "start_time": "2022-06-24T13:22:33.448Z"
   },
   {
    "duration": 9,
    "start_time": "2022-06-24T13:22:33.492Z"
   },
   {
    "duration": 15,
    "start_time": "2022-06-24T13:22:33.503Z"
   },
   {
    "duration": 50,
    "start_time": "2022-06-24T13:22:33.520Z"
   },
   {
    "duration": 8,
    "start_time": "2022-06-24T13:22:33.572Z"
   },
   {
    "duration": 8,
    "start_time": "2022-06-24T13:22:33.582Z"
   },
   {
    "duration": 50,
    "start_time": "2022-06-24T13:22:33.592Z"
   },
   {
    "duration": 45,
    "start_time": "2022-06-24T13:22:33.644Z"
   },
   {
    "duration": 14,
    "start_time": "2022-06-24T13:22:33.691Z"
   },
   {
    "duration": 59,
    "start_time": "2022-06-24T13:22:33.706Z"
   },
   {
    "duration": 38,
    "start_time": "2022-06-24T13:22:33.767Z"
   },
   {
    "duration": 7,
    "start_time": "2022-06-24T13:22:33.807Z"
   },
   {
    "duration": 34,
    "start_time": "2022-06-24T13:22:33.816Z"
   },
   {
    "duration": 18808,
    "start_time": "2022-06-24T13:22:33.852Z"
   },
   {
    "duration": 421,
    "start_time": "2022-06-24T13:22:52.662Z"
   },
   {
    "duration": 96,
    "start_time": "2022-06-24T13:22:53.084Z"
   },
   {
    "duration": 87,
    "start_time": "2022-06-24T13:22:53.181Z"
   },
   {
    "duration": 4,
    "start_time": "2022-06-24T13:22:53.270Z"
   },
   {
    "duration": 8,
    "start_time": "2022-06-24T13:22:53.275Z"
   },
   {
    "duration": 5,
    "start_time": "2022-06-24T13:22:53.285Z"
   },
   {
    "duration": 1251,
    "start_time": "2022-06-24T13:22:53.292Z"
   },
   {
    "duration": 4,
    "start_time": "2022-06-24T13:22:54.545Z"
   },
   {
    "duration": 11,
    "start_time": "2022-06-24T13:22:54.550Z"
   },
   {
    "duration": 258289,
    "start_time": "2022-06-24T13:22:54.563Z"
   },
   {
    "duration": 40635,
    "start_time": "2022-06-24T13:27:12.854Z"
   },
   {
    "duration": 353847,
    "start_time": "2022-06-24T13:27:53.492Z"
   },
   {
    "duration": 2626,
    "start_time": "2022-06-24T13:37:15.751Z"
   },
   {
    "duration": 1730,
    "start_time": "2022-06-24T13:37:18.380Z"
   },
   {
    "duration": 964,
    "start_time": "2022-06-24T13:37:20.112Z"
   },
   {
    "duration": 18,
    "start_time": "2022-06-24T13:37:21.079Z"
   },
   {
    "duration": 151,
    "start_time": "2022-06-24T13:37:21.099Z"
   },
   {
    "duration": 135,
    "start_time": "2022-06-24T13:37:21.251Z"
   },
   {
    "duration": 129,
    "start_time": "2022-06-24T13:37:21.387Z"
   },
   {
    "duration": 332,
    "start_time": "2022-06-24T13:37:21.518Z"
   },
   {
    "duration": 30193,
    "start_time": "2022-06-24T13:37:21.852Z"
   },
   {
    "duration": 715,
    "start_time": "2022-06-24T13:37:52.050Z"
   },
   {
    "duration": 169,
    "start_time": "2022-06-24T13:37:52.767Z"
   },
   {
    "duration": 31,
    "start_time": "2022-06-24T13:37:52.941Z"
   },
   {
    "duration": 22,
    "start_time": "2022-06-24T13:37:52.974Z"
   },
   {
    "duration": 45,
    "start_time": "2022-06-24T13:37:52.998Z"
   },
   {
    "duration": 23,
    "start_time": "2022-06-24T13:37:53.045Z"
   },
   {
    "duration": 32,
    "start_time": "2022-06-24T13:37:53.070Z"
   },
   {
    "duration": 38,
    "start_time": "2022-06-24T13:37:53.104Z"
   },
   {
    "duration": 31,
    "start_time": "2022-06-24T13:37:53.144Z"
   },
   {
    "duration": 20,
    "start_time": "2022-06-24T13:37:53.177Z"
   },
   {
    "duration": 48,
    "start_time": "2022-06-24T13:37:53.198Z"
   },
   {
    "duration": 22,
    "start_time": "2022-06-24T13:37:53.248Z"
   },
   {
    "duration": 87,
    "start_time": "2022-06-24T13:37:53.272Z"
   },
   {
    "duration": 660,
    "start_time": "2022-06-24T13:37:53.361Z"
   },
   {
    "duration": 6,
    "start_time": "2022-06-24T13:37:54.024Z"
   },
   {
    "duration": 36,
    "start_time": "2022-06-24T13:37:54.041Z"
   },
   {
    "duration": 29,
    "start_time": "2022-06-24T13:37:54.079Z"
   },
   {
    "duration": 8,
    "start_time": "2022-06-24T13:37:54.109Z"
   },
   {
    "duration": 39,
    "start_time": "2022-06-24T13:37:54.145Z"
   },
   {
    "duration": 9,
    "start_time": "2022-06-24T13:37:54.186Z"
   },
   {
    "duration": 8,
    "start_time": "2022-06-24T13:37:54.196Z"
   },
   {
    "duration": 55,
    "start_time": "2022-06-24T13:37:54.205Z"
   },
   {
    "duration": 8,
    "start_time": "2022-06-24T13:37:54.262Z"
   },
   {
    "duration": 9,
    "start_time": "2022-06-24T13:37:54.271Z"
   },
   {
    "duration": 23,
    "start_time": "2022-06-24T13:37:54.282Z"
   },
   {
    "duration": 77,
    "start_time": "2022-06-24T13:37:54.307Z"
   },
   {
    "duration": 15,
    "start_time": "2022-06-24T13:37:54.386Z"
   },
   {
    "duration": 56,
    "start_time": "2022-06-24T13:37:54.404Z"
   },
   {
    "duration": 37,
    "start_time": "2022-06-24T13:37:54.462Z"
   },
   {
    "duration": 9,
    "start_time": "2022-06-24T13:37:54.501Z"
   },
   {
    "duration": 426,
    "start_time": "2022-06-24T13:37:54.512Z"
   },
   {
    "duration": 30,
    "start_time": "2022-06-24T13:37:54.940Z"
   },
   {
    "duration": 90,
    "start_time": "2022-06-24T13:37:54.972Z"
   },
   {
    "duration": 4,
    "start_time": "2022-06-24T13:37:55.064Z"
   },
   {
    "duration": 7,
    "start_time": "2022-06-24T13:37:55.069Z"
   },
   {
    "duration": 5,
    "start_time": "2022-06-24T13:37:55.078Z"
   },
   {
    "duration": 1080,
    "start_time": "2022-06-24T13:37:55.085Z"
   },
   {
    "duration": 5,
    "start_time": "2022-06-24T13:37:56.167Z"
   },
   {
    "duration": 9,
    "start_time": "2022-06-24T13:37:56.173Z"
   },
   {
    "duration": 241372,
    "start_time": "2022-06-24T13:37:56.183Z"
   },
   {
    "duration": 37829,
    "start_time": "2022-06-24T13:41:57.643Z"
   },
   {
    "duration": 357297,
    "start_time": "2022-06-24T13:42:35.474Z"
   },
   {
    "duration": 96783,
    "start_time": "2022-06-24T13:48:32.773Z"
   },
   {
    "duration": 34,
    "start_time": "2022-06-24T13:50:09.558Z"
   },
   {
    "duration": 9,
    "start_time": "2022-06-24T13:50:09.593Z"
   },
   {
    "duration": 8,
    "start_time": "2022-06-24T13:50:09.643Z"
   },
   {
    "duration": 13,
    "start_time": "2022-06-24T13:50:09.653Z"
   },
   {
    "duration": 2680,
    "start_time": "2022-06-24T14:12:44.940Z"
   },
   {
    "duration": 1730,
    "start_time": "2022-06-24T14:12:47.622Z"
   },
   {
    "duration": 1071,
    "start_time": "2022-06-24T14:12:49.354Z"
   },
   {
    "duration": 22,
    "start_time": "2022-06-24T14:12:50.428Z"
   },
   {
    "duration": 151,
    "start_time": "2022-06-24T14:12:50.453Z"
   },
   {
    "duration": 127,
    "start_time": "2022-06-24T14:12:50.606Z"
   },
   {
    "duration": 151,
    "start_time": "2022-06-24T14:12:50.736Z"
   },
   {
    "duration": 332,
    "start_time": "2022-06-24T14:12:50.889Z"
   },
   {
    "duration": 32079,
    "start_time": "2022-06-24T14:12:51.223Z"
   },
   {
    "duration": 728,
    "start_time": "2022-06-24T14:13:23.305Z"
   },
   {
    "duration": 196,
    "start_time": "2022-06-24T14:13:24.035Z"
   },
   {
    "duration": 50,
    "start_time": "2022-06-24T14:13:24.233Z"
   },
   {
    "duration": 24,
    "start_time": "2022-06-24T14:13:24.285Z"
   },
   {
    "duration": 44,
    "start_time": "2022-06-24T14:13:24.311Z"
   },
   {
    "duration": 26,
    "start_time": "2022-06-24T14:13:24.357Z"
   },
   {
    "duration": 38,
    "start_time": "2022-06-24T14:13:24.385Z"
   },
   {
    "duration": 40,
    "start_time": "2022-06-24T14:13:24.424Z"
   },
   {
    "duration": 34,
    "start_time": "2022-06-24T14:13:24.466Z"
   },
   {
    "duration": 21,
    "start_time": "2022-06-24T14:13:24.502Z"
   },
   {
    "duration": 58,
    "start_time": "2022-06-24T14:13:24.525Z"
   },
   {
    "duration": 35,
    "start_time": "2022-06-24T14:13:24.585Z"
   },
   {
    "duration": 110,
    "start_time": "2022-06-24T14:13:24.623Z"
   },
   {
    "duration": 694,
    "start_time": "2022-06-24T14:13:24.743Z"
   },
   {
    "duration": 6,
    "start_time": "2022-06-24T14:13:25.441Z"
   },
   {
    "duration": 48,
    "start_time": "2022-06-24T14:13:25.449Z"
   },
   {
    "duration": 37,
    "start_time": "2022-06-24T14:13:25.499Z"
   },
   {
    "duration": 10,
    "start_time": "2022-06-24T14:13:25.543Z"
   },
   {
    "duration": 44,
    "start_time": "2022-06-24T14:13:25.558Z"
   },
   {
    "duration": 9,
    "start_time": "2022-06-24T14:13:25.604Z"
   },
   {
    "duration": 30,
    "start_time": "2022-06-24T14:13:25.615Z"
   },
   {
    "duration": 47,
    "start_time": "2022-06-24T14:13:25.647Z"
   },
   {
    "duration": 9,
    "start_time": "2022-06-24T14:13:25.696Z"
   },
   {
    "duration": 20,
    "start_time": "2022-06-24T14:13:25.707Z"
   },
   {
    "duration": 33,
    "start_time": "2022-06-24T14:13:25.729Z"
   },
   {
    "duration": 42,
    "start_time": "2022-06-24T14:13:25.764Z"
   },
   {
    "duration": 14,
    "start_time": "2022-06-24T14:13:25.808Z"
   },
   {
    "duration": 48,
    "start_time": "2022-06-24T14:13:25.824Z"
   },
   {
    "duration": 35,
    "start_time": "2022-06-24T14:13:25.874Z"
   },
   {
    "duration": 7,
    "start_time": "2022-06-24T14:13:25.911Z"
   },
   {
    "duration": 440,
    "start_time": "2022-06-24T14:13:25.919Z"
   },
   {
    "duration": 33,
    "start_time": "2022-06-24T14:13:26.361Z"
   },
   {
    "duration": 99,
    "start_time": "2022-06-24T14:13:26.396Z"
   },
   {
    "duration": 5,
    "start_time": "2022-06-24T14:13:26.496Z"
   },
   {
    "duration": 6,
    "start_time": "2022-06-24T14:13:26.503Z"
   },
   {
    "duration": 5,
    "start_time": "2022-06-24T14:13:26.511Z"
   },
   {
    "duration": 1300,
    "start_time": "2022-06-24T14:13:26.518Z"
   },
   {
    "duration": 4,
    "start_time": "2022-06-24T14:13:27.820Z"
   },
   {
    "duration": 13,
    "start_time": "2022-06-24T14:13:27.827Z"
   },
   {
    "duration": 218103,
    "start_time": "2022-06-24T14:13:27.842Z"
   },
   {
    "duration": 42196,
    "start_time": "2022-06-24T14:17:05.947Z"
   },
   {
    "duration": 370169,
    "start_time": "2022-06-24T14:17:48.148Z"
   },
   {
    "duration": 1015146,
    "start_time": "2022-06-24T14:23:58.320Z"
   },
   {
    "duration": 36,
    "start_time": "2022-06-24T14:40:53.468Z"
   },
   {
    "duration": 10,
    "start_time": "2022-06-24T14:40:53.542Z"
   },
   {
    "duration": 14,
    "start_time": "2022-06-24T14:40:53.555Z"
   },
   {
    "duration": 10,
    "start_time": "2022-06-24T14:40:53.571Z"
   },
   {
    "duration": 2717,
    "start_time": "2022-06-24T14:43:03.992Z"
   },
   {
    "duration": 1737,
    "start_time": "2022-06-24T14:43:06.712Z"
   },
   {
    "duration": 922,
    "start_time": "2022-06-24T14:43:08.451Z"
   },
   {
    "duration": 17,
    "start_time": "2022-06-24T14:43:09.376Z"
   },
   {
    "duration": 137,
    "start_time": "2022-06-24T14:43:09.395Z"
   },
   {
    "duration": 124,
    "start_time": "2022-06-24T14:43:09.543Z"
   },
   {
    "duration": 124,
    "start_time": "2022-06-24T14:43:09.668Z"
   },
   {
    "duration": 340,
    "start_time": "2022-06-24T14:43:09.794Z"
   },
   {
    "duration": 32426,
    "start_time": "2022-06-24T14:43:10.136Z"
   },
   {
    "duration": 705,
    "start_time": "2022-06-24T14:43:42.565Z"
   },
   {
    "duration": 166,
    "start_time": "2022-06-24T14:43:43.272Z"
   },
   {
    "duration": 37,
    "start_time": "2022-06-24T14:43:43.440Z"
   },
   {
    "duration": 28,
    "start_time": "2022-06-24T14:43:43.479Z"
   },
   {
    "duration": 52,
    "start_time": "2022-06-24T14:43:43.509Z"
   },
   {
    "duration": 19,
    "start_time": "2022-06-24T14:43:43.562Z"
   },
   {
    "duration": 34,
    "start_time": "2022-06-24T14:43:43.583Z"
   },
   {
    "duration": 47,
    "start_time": "2022-06-24T14:43:43.619Z"
   },
   {
    "duration": 35,
    "start_time": "2022-06-24T14:43:43.668Z"
   },
   {
    "duration": 25,
    "start_time": "2022-06-24T14:43:43.705Z"
   },
   {
    "duration": 37,
    "start_time": "2022-06-24T14:43:43.741Z"
   },
   {
    "duration": 26,
    "start_time": "2022-06-24T14:43:43.780Z"
   },
   {
    "duration": 93,
    "start_time": "2022-06-24T14:43:43.808Z"
   },
   {
    "duration": 688,
    "start_time": "2022-06-24T14:43:43.903Z"
   },
   {
    "duration": 7,
    "start_time": "2022-06-24T14:43:44.593Z"
   },
   {
    "duration": 53,
    "start_time": "2022-06-24T14:43:44.601Z"
   },
   {
    "duration": 33,
    "start_time": "2022-06-24T14:43:44.657Z"
   },
   {
    "duration": 7,
    "start_time": "2022-06-24T14:43:44.692Z"
   },
   {
    "duration": 60,
    "start_time": "2022-06-24T14:43:44.703Z"
   },
   {
    "duration": 10,
    "start_time": "2022-06-24T14:43:44.766Z"
   },
   {
    "duration": 9,
    "start_time": "2022-06-24T14:43:44.778Z"
   },
   {
    "duration": 62,
    "start_time": "2022-06-24T14:43:44.789Z"
   },
   {
    "duration": 10,
    "start_time": "2022-06-24T14:43:44.854Z"
   },
   {
    "duration": 9,
    "start_time": "2022-06-24T14:43:44.866Z"
   },
   {
    "duration": 24,
    "start_time": "2022-06-24T14:43:44.876Z"
   },
   {
    "duration": 78,
    "start_time": "2022-06-24T14:43:44.902Z"
   },
   {
    "duration": 14,
    "start_time": "2022-06-24T14:43:44.982Z"
   },
   {
    "duration": 45,
    "start_time": "2022-06-24T14:43:44.997Z"
   },
   {
    "duration": 42,
    "start_time": "2022-06-24T14:43:45.043Z"
   },
   {
    "duration": 8,
    "start_time": "2022-06-24T14:43:45.088Z"
   },
   {
    "duration": 465,
    "start_time": "2022-06-24T14:43:45.097Z"
   },
   {
    "duration": 30,
    "start_time": "2022-06-24T14:43:45.564Z"
   },
   {
    "duration": 101,
    "start_time": "2022-06-24T14:43:45.596Z"
   },
   {
    "duration": 3,
    "start_time": "2022-06-24T14:43:45.699Z"
   },
   {
    "duration": 7,
    "start_time": "2022-06-24T14:43:45.704Z"
   },
   {
    "duration": 5,
    "start_time": "2022-06-24T14:43:45.713Z"
   },
   {
    "duration": 1137,
    "start_time": "2022-06-24T14:43:45.720Z"
   },
   {
    "duration": 4,
    "start_time": "2022-06-24T14:43:46.859Z"
   },
   {
    "duration": 11,
    "start_time": "2022-06-24T14:43:46.865Z"
   },
   {
    "duration": 208177,
    "start_time": "2022-06-24T14:43:46.878Z"
   },
   {
    "duration": 37446,
    "start_time": "2022-06-24T14:47:15.057Z"
   },
   {
    "duration": 345010,
    "start_time": "2022-06-24T14:47:52.507Z"
   },
   {
    "duration": 763329,
    "start_time": "2022-06-24T14:53:37.520Z"
   },
   {
    "duration": 37,
    "start_time": "2022-06-24T15:06:20.851Z"
   },
   {
    "duration": 8,
    "start_time": "2022-06-24T15:06:20.890Z"
   },
   {
    "duration": 44,
    "start_time": "2022-06-24T15:06:20.900Z"
   },
   {
    "duration": 32,
    "start_time": "2022-06-24T15:06:20.946Z"
   },
   {
    "duration": 2624,
    "start_time": "2022-06-24T15:15:49.077Z"
   },
   {
    "duration": 1669,
    "start_time": "2022-06-24T15:15:51.703Z"
   },
   {
    "duration": 929,
    "start_time": "2022-06-24T15:15:53.374Z"
   },
   {
    "duration": 18,
    "start_time": "2022-06-24T15:15:54.305Z"
   },
   {
    "duration": 147,
    "start_time": "2022-06-24T15:15:54.325Z"
   },
   {
    "duration": 111,
    "start_time": "2022-06-24T15:15:54.474Z"
   },
   {
    "duration": 125,
    "start_time": "2022-06-24T15:15:54.587Z"
   },
   {
    "duration": 319,
    "start_time": "2022-06-24T15:15:54.713Z"
   },
   {
    "duration": 30572,
    "start_time": "2022-06-24T15:15:55.034Z"
   },
   {
    "duration": 707,
    "start_time": "2022-06-24T15:16:25.608Z"
   },
   {
    "duration": 172,
    "start_time": "2022-06-24T15:16:26.317Z"
   },
   {
    "duration": 32,
    "start_time": "2022-06-24T15:16:26.491Z"
   },
   {
    "duration": 35,
    "start_time": "2022-06-24T15:16:26.525Z"
   },
   {
    "duration": 31,
    "start_time": "2022-06-24T15:16:26.563Z"
   },
   {
    "duration": 21,
    "start_time": "2022-06-24T15:16:26.596Z"
   },
   {
    "duration": 51,
    "start_time": "2022-06-24T15:16:26.619Z"
   },
   {
    "duration": 18,
    "start_time": "2022-06-24T15:16:26.672Z"
   },
   {
    "duration": 51,
    "start_time": "2022-06-24T15:16:26.692Z"
   },
   {
    "duration": 20,
    "start_time": "2022-06-24T15:16:26.745Z"
   },
   {
    "duration": 41,
    "start_time": "2022-06-24T15:16:26.767Z"
   },
   {
    "duration": 51,
    "start_time": "2022-06-24T15:16:26.810Z"
   },
   {
    "duration": 108,
    "start_time": "2022-06-24T15:16:26.863Z"
   },
   {
    "duration": 686,
    "start_time": "2022-06-24T15:16:26.973Z"
   },
   {
    "duration": 7,
    "start_time": "2022-06-24T15:16:27.661Z"
   },
   {
    "duration": 35,
    "start_time": "2022-06-24T15:16:27.670Z"
   },
   {
    "duration": 48,
    "start_time": "2022-06-24T15:16:27.707Z"
   },
   {
    "duration": 7,
    "start_time": "2022-06-24T15:16:27.757Z"
   },
   {
    "duration": 40,
    "start_time": "2022-06-24T15:16:27.766Z"
   },
   {
    "duration": 9,
    "start_time": "2022-06-24T15:16:27.808Z"
   },
   {
    "duration": 8,
    "start_time": "2022-06-24T15:16:27.841Z"
   },
   {
    "duration": 30,
    "start_time": "2022-06-24T15:16:27.851Z"
   },
   {
    "duration": 8,
    "start_time": "2022-06-24T15:16:27.883Z"
   },
   {
    "duration": 7,
    "start_time": "2022-06-24T15:16:27.893Z"
   },
   {
    "duration": 57,
    "start_time": "2022-06-24T15:16:27.902Z"
   },
   {
    "duration": 42,
    "start_time": "2022-06-24T15:16:27.961Z"
   },
   {
    "duration": 14,
    "start_time": "2022-06-24T15:16:28.005Z"
   },
   {
    "duration": 49,
    "start_time": "2022-06-24T15:16:28.021Z"
   },
   {
    "duration": 35,
    "start_time": "2022-06-24T15:16:28.072Z"
   },
   {
    "duration": 6,
    "start_time": "2022-06-24T15:16:28.109Z"
   },
   {
    "duration": 444,
    "start_time": "2022-06-24T15:16:28.117Z"
   },
   {
    "duration": 32,
    "start_time": "2022-06-24T15:16:28.565Z"
   },
   {
    "duration": 89,
    "start_time": "2022-06-24T15:16:28.599Z"
   },
   {
    "duration": 4,
    "start_time": "2022-06-24T15:16:28.690Z"
   },
   {
    "duration": 5,
    "start_time": "2022-06-24T15:16:28.696Z"
   },
   {
    "duration": 6,
    "start_time": "2022-06-24T15:16:28.702Z"
   },
   {
    "duration": 1089,
    "start_time": "2022-06-24T15:16:28.710Z"
   },
   {
    "duration": 3,
    "start_time": "2022-06-24T15:16:29.801Z"
   },
   {
    "duration": 10,
    "start_time": "2022-06-24T15:16:29.806Z"
   },
   {
    "duration": 229225,
    "start_time": "2022-06-24T15:16:29.818Z"
   },
   {
    "duration": 37359,
    "start_time": "2022-06-24T15:20:19.046Z"
   },
   {
    "duration": 344790,
    "start_time": "2022-06-24T15:20:56.407Z"
   },
   {
    "duration": 1898868,
    "start_time": "2022-06-24T15:26:41.199Z"
   },
   {
    "duration": 33,
    "start_time": "2022-06-24T15:58:20.069Z"
   },
   {
    "duration": 9,
    "start_time": "2022-06-24T15:58:20.142Z"
   },
   {
    "duration": 10,
    "start_time": "2022-06-24T15:58:20.153Z"
   },
   {
    "duration": 13,
    "start_time": "2022-06-24T15:58:20.165Z"
   },
   {
    "duration": 75,
    "start_time": "2022-06-24T16:04:29.857Z"
   },
   {
    "duration": 5,
    "start_time": "2022-06-25T10:10:34.602Z"
   },
   {
    "duration": 4439,
    "start_time": "2022-06-25T10:13:19.776Z"
   },
   {
    "duration": 2121,
    "start_time": "2022-06-25T10:13:24.218Z"
   },
   {
    "duration": 1411,
    "start_time": "2022-06-25T10:13:26.341Z"
   },
   {
    "duration": 28,
    "start_time": "2022-06-25T10:13:27.754Z"
   },
   {
    "duration": 161,
    "start_time": "2022-06-25T10:13:27.784Z"
   },
   {
    "duration": 107,
    "start_time": "2022-06-25T10:13:27.947Z"
   },
   {
    "duration": 162,
    "start_time": "2022-06-25T10:13:28.055Z"
   },
   {
    "duration": 326,
    "start_time": "2022-06-25T10:13:28.219Z"
   },
   {
    "duration": 32305,
    "start_time": "2022-06-25T10:13:28.547Z"
   },
   {
    "duration": 673,
    "start_time": "2022-06-25T10:14:00.855Z"
   },
   {
    "duration": 198,
    "start_time": "2022-06-25T10:14:01.529Z"
   },
   {
    "duration": 43,
    "start_time": "2022-06-25T10:14:01.729Z"
   },
   {
    "duration": 57,
    "start_time": "2022-06-25T10:14:01.774Z"
   },
   {
    "duration": 50,
    "start_time": "2022-06-25T10:14:01.833Z"
   },
   {
    "duration": 29,
    "start_time": "2022-06-25T10:14:01.885Z"
   },
   {
    "duration": 55,
    "start_time": "2022-06-25T10:14:01.915Z"
   },
   {
    "duration": 41,
    "start_time": "2022-06-25T10:14:01.975Z"
   },
   {
    "duration": 42,
    "start_time": "2022-06-25T10:14:02.018Z"
   },
   {
    "duration": 72,
    "start_time": "2022-06-25T10:14:02.066Z"
   },
   {
    "duration": 50,
    "start_time": "2022-06-25T10:14:02.140Z"
   },
   {
    "duration": 25,
    "start_time": "2022-06-25T10:14:02.192Z"
   },
   {
    "duration": 95,
    "start_time": "2022-06-25T10:14:02.220Z"
   },
   {
    "duration": 621,
    "start_time": "2022-06-25T10:14:02.316Z"
   },
   {
    "duration": 26,
    "start_time": "2022-06-25T10:14:02.939Z"
   },
   {
    "duration": 32,
    "start_time": "2022-06-25T10:14:02.971Z"
   },
   {
    "duration": 31,
    "start_time": "2022-06-25T10:14:03.005Z"
   },
   {
    "duration": 7,
    "start_time": "2022-06-25T10:14:03.039Z"
   },
   {
    "duration": 43,
    "start_time": "2022-06-25T10:14:03.060Z"
   },
   {
    "duration": 16,
    "start_time": "2022-06-25T10:14:03.105Z"
   },
   {
    "duration": 38,
    "start_time": "2022-06-25T10:17:38.113Z"
   },
   {
    "duration": 38,
    "start_time": "2022-06-25T10:18:28.398Z"
   },
   {
    "duration": 62,
    "start_time": "2022-06-25T10:18:56.314Z"
   },
   {
    "duration": 53,
    "start_time": "2022-06-25T10:20:25.878Z"
   },
   {
    "duration": 9,
    "start_time": "2022-06-25T10:20:37.777Z"
   },
   {
    "duration": 87,
    "start_time": "2022-06-25T10:20:55.328Z"
   },
   {
    "duration": 24,
    "start_time": "2022-06-25T10:21:02.726Z"
   },
   {
    "duration": 117,
    "start_time": "2022-06-25T10:22:09.539Z"
   },
   {
    "duration": 99,
    "start_time": "2022-06-25T10:22:49.487Z"
   },
   {
    "duration": 4433,
    "start_time": "2022-06-25T10:22:55.872Z"
   },
   {
    "duration": 4163,
    "start_time": "2022-06-25T10:23:42.268Z"
   },
   {
    "duration": 11,
    "start_time": "2022-06-25T10:24:15.981Z"
   },
   {
    "duration": 10,
    "start_time": "2022-06-25T10:24:40.198Z"
   },
   {
    "duration": 16,
    "start_time": "2022-06-25T10:24:45.363Z"
   },
   {
    "duration": 18,
    "start_time": "2022-06-25T10:24:53.473Z"
   },
   {
    "duration": 21,
    "start_time": "2022-06-25T10:25:12.314Z"
   },
   {
    "duration": 11,
    "start_time": "2022-06-25T10:30:31.436Z"
   },
   {
    "duration": 18,
    "start_time": "2022-06-25T10:30:31.888Z"
   },
   {
    "duration": 37,
    "start_time": "2022-06-25T10:30:32.647Z"
   },
   {
    "duration": 22,
    "start_time": "2022-06-25T10:30:33.008Z"
   },
   {
    "duration": 39,
    "start_time": "2022-06-25T10:30:33.792Z"
   },
   {
    "duration": 7,
    "start_time": "2022-06-25T10:30:34.545Z"
   },
   {
    "duration": 19,
    "start_time": "2022-06-25T10:30:35.858Z"
   },
   {
    "duration": 38,
    "start_time": "2022-06-25T10:30:36.491Z"
   },
   {
    "duration": 57,
    "start_time": "2022-06-25T10:30:37.129Z"
   },
   {
    "duration": 23,
    "start_time": "2022-06-25T10:30:38.292Z"
   },
   {
    "duration": 38,
    "start_time": "2022-06-25T10:30:39.122Z"
   },
   {
    "duration": 55,
    "start_time": "2022-06-25T10:30:39.939Z"
   },
   {
    "duration": 20,
    "start_time": "2022-06-25T10:30:42.484Z"
   },
   {
    "duration": 595,
    "start_time": "2022-06-25T10:30:43.705Z"
   },
   {
    "duration": 4117,
    "start_time": "2022-06-25T10:54:43.088Z"
   },
   {
    "duration": 1601,
    "start_time": "2022-06-25T10:54:47.207Z"
   },
   {
    "duration": 3005,
    "start_time": "2022-06-25T10:54:48.810Z"
   },
   {
    "duration": 23,
    "start_time": "2022-06-25T10:54:51.817Z"
   },
   {
    "duration": 300,
    "start_time": "2022-06-25T10:54:53.799Z"
   },
   {
    "duration": 581,
    "start_time": "2022-06-25T10:54:58.436Z"
   },
   {
    "duration": 140,
    "start_time": "2022-06-25T10:55:00.469Z"
   },
   {
    "duration": 28,
    "start_time": "2022-06-25T10:55:00.909Z"
   },
   {
    "duration": 16,
    "start_time": "2022-06-25T10:55:01.341Z"
   },
   {
    "duration": 29,
    "start_time": "2022-06-25T10:55:01.733Z"
   },
   {
    "duration": 25,
    "start_time": "2022-06-25T10:55:02.141Z"
   },
   {
    "duration": 35,
    "start_time": "2022-06-25T10:55:02.549Z"
   },
   {
    "duration": 17,
    "start_time": "2022-06-25T10:55:02.964Z"
   },
   {
    "duration": 27,
    "start_time": "2022-06-25T10:55:03.388Z"
   },
   {
    "duration": 17,
    "start_time": "2022-06-25T10:55:03.796Z"
   },
   {
    "duration": 27,
    "start_time": "2022-06-25T10:55:04.206Z"
   },
   {
    "duration": 18,
    "start_time": "2022-06-25T10:55:04.613Z"
   },
   {
    "duration": 71,
    "start_time": "2022-06-25T10:55:05.047Z"
   },
   {
    "duration": 6,
    "start_time": "2022-06-25T10:55:15.389Z"
   },
   {
    "duration": 27,
    "start_time": "2022-06-25T10:55:16.300Z"
   },
   {
    "duration": 26,
    "start_time": "2022-06-25T10:55:16.773Z"
   },
   {
    "duration": 8,
    "start_time": "2022-06-25T10:55:17.996Z"
   },
   {
    "duration": 35,
    "start_time": "2022-06-25T10:55:22.109Z"
   },
   {
    "duration": 130,
    "start_time": "2022-06-25T10:55:41.213Z"
   },
   {
    "duration": 3,
    "start_time": "2022-06-25T10:55:53.390Z"
   },
   {
    "duration": 10,
    "start_time": "2022-06-25T10:56:01.326Z"
   },
   {
    "duration": 25,
    "start_time": "2022-06-25T10:56:29.814Z"
   },
   {
    "duration": 27,
    "start_time": "2022-06-25T10:57:12.119Z"
   },
   {
    "duration": 25,
    "start_time": "2022-06-25T10:57:12.680Z"
   },
   {
    "duration": 78,
    "start_time": "2022-06-25T10:59:22.873Z"
   },
   {
    "duration": 91,
    "start_time": "2022-06-25T10:59:48.141Z"
   },
   {
    "duration": 112,
    "start_time": "2022-06-25T11:00:27.905Z"
   },
   {
    "duration": 138,
    "start_time": "2022-06-25T11:04:15.326Z"
   },
   {
    "duration": 2263,
    "start_time": "2022-06-25T11:06:46.361Z"
   },
   {
    "duration": 1517,
    "start_time": "2022-06-25T11:06:48.626Z"
   },
   {
    "duration": 720,
    "start_time": "2022-06-25T11:06:50.145Z"
   },
   {
    "duration": 15,
    "start_time": "2022-06-25T11:06:50.867Z"
   },
   {
    "duration": 121,
    "start_time": "2022-06-25T11:06:50.883Z"
   },
   {
    "duration": 91,
    "start_time": "2022-06-25T11:06:51.006Z"
   },
   {
    "duration": 120,
    "start_time": "2022-06-25T11:06:51.099Z"
   },
   {
    "duration": 279,
    "start_time": "2022-06-25T11:06:51.221Z"
   },
   {
    "duration": 27563,
    "start_time": "2022-06-25T11:06:51.501Z"
   },
   {
    "duration": 613,
    "start_time": "2022-06-25T11:07:19.067Z"
   },
   {
    "duration": 159,
    "start_time": "2022-06-25T11:07:19.682Z"
   },
   {
    "duration": 28,
    "start_time": "2022-06-25T11:07:19.843Z"
   },
   {
    "duration": 19,
    "start_time": "2022-06-25T11:07:19.873Z"
   },
   {
    "duration": 40,
    "start_time": "2022-06-25T11:07:19.893Z"
   },
   {
    "duration": 27,
    "start_time": "2022-06-25T11:07:19.935Z"
   },
   {
    "duration": 32,
    "start_time": "2022-06-25T11:07:19.964Z"
   },
   {
    "duration": 22,
    "start_time": "2022-06-25T11:07:19.997Z"
   },
   {
    "duration": 51,
    "start_time": "2022-06-25T11:07:20.021Z"
   },
   {
    "duration": 19,
    "start_time": "2022-06-25T11:07:20.074Z"
   },
   {
    "duration": 29,
    "start_time": "2022-06-25T11:07:20.095Z"
   },
   {
    "duration": 32,
    "start_time": "2022-06-25T11:07:20.125Z"
   },
   {
    "duration": 68,
    "start_time": "2022-06-25T11:07:20.159Z"
   },
   {
    "duration": 572,
    "start_time": "2022-06-25T11:07:20.229Z"
   },
   {
    "duration": 5,
    "start_time": "2022-06-25T11:07:20.802Z"
   },
   {
    "duration": 42,
    "start_time": "2022-06-25T11:07:20.809Z"
   },
   {
    "duration": 25,
    "start_time": "2022-06-25T11:07:20.853Z"
   },
   {
    "duration": 5,
    "start_time": "2022-06-25T11:07:20.880Z"
   },
   {
    "duration": 50,
    "start_time": "2022-06-25T11:07:20.889Z"
   },
   {
    "duration": 24,
    "start_time": "2022-06-25T11:07:20.941Z"
   },
   {
    "duration": 14,
    "start_time": "2022-06-25T11:07:20.967Z"
   },
   {
    "duration": 58,
    "start_time": "2022-06-25T11:07:20.983Z"
   },
   {
    "duration": 8,
    "start_time": "2022-06-25T11:07:21.043Z"
   },
   {
    "duration": 10,
    "start_time": "2022-06-25T11:07:21.052Z"
   },
   {
    "duration": 6,
    "start_time": "2022-06-25T11:07:21.063Z"
   },
   {
    "duration": 22,
    "start_time": "2022-06-25T11:07:21.070Z"
   },
   {
    "duration": 7,
    "start_time": "2022-06-25T11:07:21.093Z"
   },
   {
    "duration": 31,
    "start_time": "2022-06-25T11:07:21.101Z"
   },
   {
    "duration": 32,
    "start_time": "2022-06-25T11:07:21.133Z"
   },
   {
    "duration": 35,
    "start_time": "2022-06-25T11:07:21.167Z"
   },
   {
    "duration": 12,
    "start_time": "2022-06-25T11:07:21.204Z"
   },
   {
    "duration": 38,
    "start_time": "2022-06-25T11:07:21.217Z"
   },
   {
    "duration": 25,
    "start_time": "2022-06-25T11:07:21.257Z"
   },
   {
    "duration": 5,
    "start_time": "2022-06-25T11:07:21.284Z"
   },
   {
    "duration": 312,
    "start_time": "2022-06-25T11:07:21.291Z"
   },
   {
    "duration": 36,
    "start_time": "2022-06-25T11:07:21.605Z"
   },
   {
    "duration": 58,
    "start_time": "2022-06-25T11:07:21.643Z"
   },
   {
    "duration": 4,
    "start_time": "2022-06-25T11:07:21.703Z"
   },
   {
    "duration": 6,
    "start_time": "2022-06-25T11:07:21.708Z"
   },
   {
    "duration": 6,
    "start_time": "2022-06-25T11:07:21.715Z"
   },
   {
    "duration": 91,
    "start_time": "2022-06-25T11:07:21.722Z"
   },
   {
    "duration": 0,
    "start_time": "2022-06-25T11:07:21.815Z"
   },
   {
    "duration": 0,
    "start_time": "2022-06-25T11:07:21.815Z"
   },
   {
    "duration": 0,
    "start_time": "2022-06-25T11:07:21.816Z"
   },
   {
    "duration": 0,
    "start_time": "2022-06-25T11:07:21.817Z"
   },
   {
    "duration": 0,
    "start_time": "2022-06-25T11:07:21.818Z"
   },
   {
    "duration": 0,
    "start_time": "2022-06-25T11:07:21.819Z"
   },
   {
    "duration": 0,
    "start_time": "2022-06-25T11:07:21.820Z"
   },
   {
    "duration": 0,
    "start_time": "2022-06-25T11:07:21.821Z"
   },
   {
    "duration": 0,
    "start_time": "2022-06-25T11:07:21.822Z"
   },
   {
    "duration": 0,
    "start_time": "2022-06-25T11:07:21.823Z"
   },
   {
    "duration": 0,
    "start_time": "2022-06-25T11:07:21.824Z"
   },
   {
    "duration": 82,
    "start_time": "2022-06-25T11:07:28.507Z"
   },
   {
    "duration": 2242,
    "start_time": "2022-06-25T11:09:46.179Z"
   },
   {
    "duration": 1448,
    "start_time": "2022-06-25T11:09:48.423Z"
   },
   {
    "duration": 772,
    "start_time": "2022-06-25T11:09:49.872Z"
   },
   {
    "duration": 13,
    "start_time": "2022-06-25T11:09:50.646Z"
   },
   {
    "duration": 105,
    "start_time": "2022-06-25T11:09:50.661Z"
   },
   {
    "duration": 97,
    "start_time": "2022-06-25T11:09:50.767Z"
   },
   {
    "duration": 106,
    "start_time": "2022-06-25T11:09:50.866Z"
   },
   {
    "duration": 270,
    "start_time": "2022-06-25T11:09:50.974Z"
   },
   {
    "duration": 27474,
    "start_time": "2022-06-25T11:09:51.245Z"
   },
   {
    "duration": 623,
    "start_time": "2022-06-25T11:10:18.723Z"
   },
   {
    "duration": 160,
    "start_time": "2022-06-25T11:10:19.348Z"
   },
   {
    "duration": 44,
    "start_time": "2022-06-25T11:10:19.510Z"
   },
   {
    "duration": 19,
    "start_time": "2022-06-25T11:10:19.556Z"
   },
   {
    "duration": 29,
    "start_time": "2022-06-25T11:10:19.577Z"
   },
   {
    "duration": 41,
    "start_time": "2022-06-25T11:10:19.607Z"
   },
   {
    "duration": 33,
    "start_time": "2022-06-25T11:10:19.649Z"
   },
   {
    "duration": 18,
    "start_time": "2022-06-25T11:10:19.683Z"
   },
   {
    "duration": 50,
    "start_time": "2022-06-25T11:10:19.703Z"
   },
   {
    "duration": 18,
    "start_time": "2022-06-25T11:10:19.755Z"
   },
   {
    "duration": 30,
    "start_time": "2022-06-25T11:10:19.775Z"
   },
   {
    "duration": 45,
    "start_time": "2022-06-25T11:10:19.806Z"
   },
   {
    "duration": 65,
    "start_time": "2022-06-25T11:10:19.852Z"
   },
   {
    "duration": 593,
    "start_time": "2022-06-25T11:10:19.919Z"
   },
   {
    "duration": 6,
    "start_time": "2022-06-25T11:10:20.513Z"
   },
   {
    "duration": 42,
    "start_time": "2022-06-25T11:10:20.520Z"
   },
   {
    "duration": 29,
    "start_time": "2022-06-25T11:10:20.564Z"
   },
   {
    "duration": 5,
    "start_time": "2022-06-25T11:10:20.595Z"
   },
   {
    "duration": 54,
    "start_time": "2022-06-25T11:10:20.604Z"
   },
   {
    "duration": 25,
    "start_time": "2022-06-25T11:10:20.660Z"
   },
   {
    "duration": 14,
    "start_time": "2022-06-25T11:10:20.687Z"
   },
   {
    "duration": 56,
    "start_time": "2022-06-25T11:10:20.703Z"
   },
   {
    "duration": 9,
    "start_time": "2022-06-25T11:10:20.760Z"
   },
   {
    "duration": 11,
    "start_time": "2022-06-25T11:10:20.770Z"
   },
   {
    "duration": 7,
    "start_time": "2022-06-25T11:10:20.783Z"
   },
   {
    "duration": 47,
    "start_time": "2022-06-25T11:10:20.791Z"
   },
   {
    "duration": 9,
    "start_time": "2022-06-25T11:10:20.843Z"
   },
   {
    "duration": 8,
    "start_time": "2022-06-25T11:10:20.853Z"
   },
   {
    "duration": 17,
    "start_time": "2022-06-25T11:10:20.863Z"
   },
   {
    "duration": 59,
    "start_time": "2022-06-25T11:10:20.881Z"
   },
   {
    "duration": 12,
    "start_time": "2022-06-25T11:10:20.942Z"
   },
   {
    "duration": 24,
    "start_time": "2022-06-25T11:10:20.955Z"
   },
   {
    "duration": 53,
    "start_time": "2022-06-25T11:10:20.981Z"
   },
   {
    "duration": 10,
    "start_time": "2022-06-25T11:10:21.036Z"
   },
   {
    "duration": 323,
    "start_time": "2022-06-25T11:10:21.048Z"
   },
   {
    "duration": 20,
    "start_time": "2022-06-25T11:10:21.373Z"
   },
   {
    "duration": 78,
    "start_time": "2022-06-25T11:10:21.395Z"
   },
   {
    "duration": 4,
    "start_time": "2022-06-25T11:10:21.475Z"
   },
   {
    "duration": 18,
    "start_time": "2022-06-25T11:10:21.481Z"
   },
   {
    "duration": 8,
    "start_time": "2022-06-25T11:10:21.500Z"
   },
   {
    "duration": 140,
    "start_time": "2022-06-25T11:10:21.509Z"
   },
   {
    "duration": 1,
    "start_time": "2022-06-25T11:10:21.650Z"
   },
   {
    "duration": 0,
    "start_time": "2022-06-25T11:10:21.651Z"
   },
   {
    "duration": 0,
    "start_time": "2022-06-25T11:10:21.652Z"
   },
   {
    "duration": 0,
    "start_time": "2022-06-25T11:10:21.653Z"
   },
   {
    "duration": 0,
    "start_time": "2022-06-25T11:10:21.654Z"
   },
   {
    "duration": 0,
    "start_time": "2022-06-25T11:10:21.655Z"
   },
   {
    "duration": 0,
    "start_time": "2022-06-25T11:10:21.656Z"
   },
   {
    "duration": 0,
    "start_time": "2022-06-25T11:10:21.657Z"
   },
   {
    "duration": 0,
    "start_time": "2022-06-25T11:10:21.658Z"
   },
   {
    "duration": 0,
    "start_time": "2022-06-25T11:10:21.659Z"
   },
   {
    "duration": 0,
    "start_time": "2022-06-25T11:10:21.660Z"
   },
   {
    "duration": 28,
    "start_time": "2022-06-25T11:16:26.611Z"
   },
   {
    "duration": 64,
    "start_time": "2022-06-25T11:16:30.915Z"
   },
   {
    "duration": 3,
    "start_time": "2022-06-25T11:16:33.251Z"
   },
   {
    "duration": 3,
    "start_time": "2022-06-25T11:16:34.684Z"
   },
   {
    "duration": 18,
    "start_time": "2022-06-25T11:16:38.541Z"
   },
   {
    "duration": 59,
    "start_time": "2022-06-25T11:16:39.115Z"
   },
   {
    "duration": 3,
    "start_time": "2022-06-25T11:16:41.652Z"
   },
   {
    "duration": 3,
    "start_time": "2022-06-25T11:16:43.348Z"
   },
   {
    "duration": 2316,
    "start_time": "2022-06-25T11:28:09.146Z"
   },
   {
    "duration": 1435,
    "start_time": "2022-06-25T11:28:11.464Z"
   },
   {
    "duration": 763,
    "start_time": "2022-06-25T11:28:12.901Z"
   },
   {
    "duration": 18,
    "start_time": "2022-06-25T11:28:13.667Z"
   },
   {
    "duration": 136,
    "start_time": "2022-06-25T11:28:13.687Z"
   },
   {
    "duration": 95,
    "start_time": "2022-06-25T11:28:13.825Z"
   },
   {
    "duration": 125,
    "start_time": "2022-06-25T11:28:13.922Z"
   },
   {
    "duration": 287,
    "start_time": "2022-06-25T11:28:14.049Z"
   },
   {
    "duration": 28203,
    "start_time": "2022-06-25T11:28:14.341Z"
   },
   {
    "duration": 592,
    "start_time": "2022-06-25T11:28:42.546Z"
   },
   {
    "duration": 159,
    "start_time": "2022-06-25T11:28:43.142Z"
   },
   {
    "duration": 34,
    "start_time": "2022-06-25T11:28:43.302Z"
   },
   {
    "duration": 21,
    "start_time": "2022-06-25T11:28:43.341Z"
   },
   {
    "duration": 28,
    "start_time": "2022-06-25T11:28:43.363Z"
   },
   {
    "duration": 18,
    "start_time": "2022-06-25T11:28:43.393Z"
   },
   {
    "duration": 48,
    "start_time": "2022-06-25T11:28:43.412Z"
   },
   {
    "duration": 16,
    "start_time": "2022-06-25T11:28:43.462Z"
   },
   {
    "duration": 33,
    "start_time": "2022-06-25T11:28:43.479Z"
   },
   {
    "duration": 39,
    "start_time": "2022-06-25T11:28:43.513Z"
   },
   {
    "duration": 30,
    "start_time": "2022-06-25T11:28:43.554Z"
   },
   {
    "duration": 23,
    "start_time": "2022-06-25T11:28:43.585Z"
   },
   {
    "duration": 90,
    "start_time": "2022-06-25T11:28:43.610Z"
   },
   {
    "duration": 577,
    "start_time": "2022-06-25T11:28:43.702Z"
   },
   {
    "duration": 5,
    "start_time": "2022-06-25T11:28:44.281Z"
   },
   {
    "duration": 27,
    "start_time": "2022-06-25T11:28:44.288Z"
   },
   {
    "duration": 41,
    "start_time": "2022-06-25T11:28:44.317Z"
   },
   {
    "duration": 6,
    "start_time": "2022-06-25T11:28:44.360Z"
   },
   {
    "duration": 37,
    "start_time": "2022-06-25T11:28:44.370Z"
   },
   {
    "duration": 36,
    "start_time": "2022-06-25T11:28:44.428Z"
   },
   {
    "duration": 16,
    "start_time": "2022-06-25T11:28:44.466Z"
   },
   {
    "duration": 62,
    "start_time": "2022-06-25T11:28:44.484Z"
   },
   {
    "duration": 10,
    "start_time": "2022-06-25T11:28:44.548Z"
   },
   {
    "duration": 15,
    "start_time": "2022-06-25T11:28:44.559Z"
   },
   {
    "duration": 7,
    "start_time": "2022-06-25T11:28:44.576Z"
   },
   {
    "duration": 33,
    "start_time": "2022-06-25T11:28:44.585Z"
   },
   {
    "duration": 20,
    "start_time": "2022-06-25T11:28:44.620Z"
   },
   {
    "duration": 13,
    "start_time": "2022-06-25T11:28:44.643Z"
   },
   {
    "duration": 25,
    "start_time": "2022-06-25T11:28:44.657Z"
   },
   {
    "duration": 35,
    "start_time": "2022-06-25T11:28:44.683Z"
   },
   {
    "duration": 22,
    "start_time": "2022-06-25T11:28:44.720Z"
   },
   {
    "duration": 25,
    "start_time": "2022-06-25T11:28:44.744Z"
   },
   {
    "duration": 26,
    "start_time": "2022-06-25T11:28:44.770Z"
   },
   {
    "duration": 8,
    "start_time": "2022-06-25T11:28:44.798Z"
   },
   {
    "duration": 341,
    "start_time": "2022-06-25T11:28:44.807Z"
   },
   {
    "duration": 23,
    "start_time": "2022-06-25T11:28:45.150Z"
   },
   {
    "duration": 69,
    "start_time": "2022-06-25T11:28:45.176Z"
   },
   {
    "duration": 3,
    "start_time": "2022-06-25T11:28:45.247Z"
   },
   {
    "duration": 7,
    "start_time": "2022-06-25T11:28:45.252Z"
   },
   {
    "duration": 13,
    "start_time": "2022-06-25T11:28:45.261Z"
   },
   {
    "duration": 867,
    "start_time": "2022-06-25T11:28:45.276Z"
   },
   {
    "duration": 4,
    "start_time": "2022-06-25T11:28:46.152Z"
   },
   {
    "duration": 7,
    "start_time": "2022-06-25T11:28:46.158Z"
   },
   {
    "duration": 193372,
    "start_time": "2022-06-25T11:28:46.166Z"
   },
   {
    "duration": 27606,
    "start_time": "2022-06-25T11:31:59.540Z"
   },
   {
    "duration": 275917,
    "start_time": "2022-06-25T11:32:27.151Z"
   },
   {
    "duration": 2747291,
    "start_time": "2022-06-25T11:37:03.069Z"
   },
   {
    "duration": 23,
    "start_time": "2022-06-25T12:22:50.362Z"
   },
   {
    "duration": 18,
    "start_time": "2022-06-25T12:22:50.435Z"
   },
   {
    "duration": 10,
    "start_time": "2022-06-25T12:22:50.456Z"
   },
   {
    "duration": 11,
    "start_time": "2022-06-25T12:22:50.467Z"
   },
   {
    "duration": 907,
    "start_time": "2022-06-25T12:22:50.481Z"
   },
   {
    "duration": 2019,
    "start_time": "2022-06-25T12:30:31.290Z"
   },
   {
    "duration": 909,
    "start_time": "2022-06-25T12:32:02.462Z"
   },
   {
    "duration": 737,
    "start_time": "2022-06-25T12:42:31.957Z"
   },
   {
    "duration": 711,
    "start_time": "2022-06-25T12:44:00.510Z"
   },
   {
    "duration": 1935,
    "start_time": "2022-06-25T12:44:29.790Z"
   },
   {
    "duration": 137,
    "start_time": "2022-06-25T12:47:32.427Z"
   },
   {
    "duration": 843,
    "start_time": "2022-06-25T12:48:13.425Z"
   },
   {
    "duration": 814,
    "start_time": "2022-06-25T12:49:23.856Z"
   },
   {
    "duration": 40,
    "start_time": "2022-06-25T12:54:44.292Z"
   },
   {
    "duration": 2374,
    "start_time": "2022-06-25T12:54:57.718Z"
   },
   {
    "duration": 1459,
    "start_time": "2022-06-25T12:55:00.095Z"
   },
   {
    "duration": 704,
    "start_time": "2022-06-25T12:55:01.556Z"
   },
   {
    "duration": 15,
    "start_time": "2022-06-25T12:55:02.263Z"
   },
   {
    "duration": 108,
    "start_time": "2022-06-25T12:55:02.280Z"
   },
   {
    "duration": 128,
    "start_time": "2022-06-25T12:55:02.390Z"
   },
   {
    "duration": 99,
    "start_time": "2022-06-25T12:55:02.520Z"
   },
   {
    "duration": 275,
    "start_time": "2022-06-25T12:55:02.629Z"
   },
   {
    "duration": 26437,
    "start_time": "2022-06-25T12:55:02.906Z"
   },
   {
    "duration": 578,
    "start_time": "2022-06-25T12:55:29.346Z"
   },
   {
    "duration": 155,
    "start_time": "2022-06-25T12:55:29.926Z"
   },
   {
    "duration": 30,
    "start_time": "2022-06-25T12:55:30.082Z"
   },
   {
    "duration": 45,
    "start_time": "2022-06-25T12:55:30.114Z"
   },
   {
    "duration": 60,
    "start_time": "2022-06-25T12:55:30.161Z"
   },
   {
    "duration": 39,
    "start_time": "2022-06-25T12:55:30.222Z"
   },
   {
    "duration": 68,
    "start_time": "2022-06-25T12:55:30.263Z"
   },
   {
    "duration": 43,
    "start_time": "2022-06-25T12:55:30.336Z"
   },
   {
    "duration": 44,
    "start_time": "2022-06-25T12:55:30.381Z"
   },
   {
    "duration": 43,
    "start_time": "2022-06-25T12:55:30.427Z"
   },
   {
    "duration": 71,
    "start_time": "2022-06-25T12:55:30.472Z"
   },
   {
    "duration": 53,
    "start_time": "2022-06-25T12:55:30.545Z"
   },
   {
    "duration": 81,
    "start_time": "2022-06-25T12:55:30.600Z"
   },
   {
    "duration": 611,
    "start_time": "2022-06-25T12:55:30.683Z"
   },
   {
    "duration": 7,
    "start_time": "2022-06-25T12:55:31.296Z"
   },
   {
    "duration": 43,
    "start_time": "2022-06-25T12:55:31.305Z"
   },
   {
    "duration": 31,
    "start_time": "2022-06-25T12:55:31.350Z"
   },
   {
    "duration": 7,
    "start_time": "2022-06-25T12:55:31.383Z"
   },
   {
    "duration": 55,
    "start_time": "2022-06-25T12:55:31.393Z"
   },
   {
    "duration": 27,
    "start_time": "2022-06-25T12:55:31.450Z"
   },
   {
    "duration": 24,
    "start_time": "2022-06-25T12:55:31.479Z"
   },
   {
    "duration": 57,
    "start_time": "2022-06-25T12:55:31.505Z"
   },
   {
    "duration": 9,
    "start_time": "2022-06-25T12:55:31.563Z"
   },
   {
    "duration": 20,
    "start_time": "2022-06-25T12:55:31.573Z"
   },
   {
    "duration": 11,
    "start_time": "2022-06-25T12:55:31.594Z"
   },
   {
    "duration": 40,
    "start_time": "2022-06-25T12:55:31.606Z"
   },
   {
    "duration": 7,
    "start_time": "2022-06-25T12:55:31.647Z"
   },
   {
    "duration": 8,
    "start_time": "2022-06-25T12:55:31.656Z"
   },
   {
    "duration": 34,
    "start_time": "2022-06-25T12:55:31.665Z"
   },
   {
    "duration": 40,
    "start_time": "2022-06-25T12:55:31.701Z"
   },
   {
    "duration": 13,
    "start_time": "2022-06-25T12:55:31.743Z"
   },
   {
    "duration": 55,
    "start_time": "2022-06-25T12:55:31.757Z"
   },
   {
    "duration": 29,
    "start_time": "2022-06-25T12:55:31.814Z"
   },
   {
    "duration": 14,
    "start_time": "2022-06-25T12:55:31.844Z"
   },
   {
    "duration": 339,
    "start_time": "2022-06-25T12:55:31.859Z"
   },
   {
    "duration": 30,
    "start_time": "2022-06-25T12:55:32.200Z"
   },
   {
    "duration": 78,
    "start_time": "2022-06-25T12:55:32.232Z"
   },
   {
    "duration": 4,
    "start_time": "2022-06-25T12:55:32.312Z"
   },
   {
    "duration": 40,
    "start_time": "2022-06-25T12:55:32.317Z"
   },
   {
    "duration": 15,
    "start_time": "2022-06-25T12:55:32.359Z"
   },
   {
    "duration": 793,
    "start_time": "2022-06-25T12:55:32.375Z"
   },
   {
    "duration": 4,
    "start_time": "2022-06-25T12:55:33.170Z"
   },
   {
    "duration": 13,
    "start_time": "2022-06-25T12:55:33.176Z"
   },
   {
    "duration": 182747,
    "start_time": "2022-06-25T12:55:33.191Z"
   },
   {
    "duration": 26032,
    "start_time": "2022-06-25T12:58:35.940Z"
   },
   {
    "duration": 173348,
    "start_time": "2022-06-25T12:59:01.973Z"
   },
   {
    "duration": 0,
    "start_time": "2022-06-25T13:01:55.323Z"
   },
   {
    "duration": 0,
    "start_time": "2022-06-25T13:01:55.324Z"
   },
   {
    "duration": 0,
    "start_time": "2022-06-25T13:01:55.326Z"
   },
   {
    "duration": 0,
    "start_time": "2022-06-25T13:01:55.327Z"
   },
   {
    "duration": 0,
    "start_time": "2022-06-25T13:01:55.328Z"
   },
   {
    "duration": 2221,
    "start_time": "2022-06-25T13:02:43.645Z"
   },
   {
    "duration": 1426,
    "start_time": "2022-06-25T13:02:45.868Z"
   },
   {
    "duration": 756,
    "start_time": "2022-06-25T13:02:47.295Z"
   },
   {
    "duration": 15,
    "start_time": "2022-06-25T13:02:48.053Z"
   },
   {
    "duration": 126,
    "start_time": "2022-06-25T13:02:48.071Z"
   },
   {
    "duration": 99,
    "start_time": "2022-06-25T13:02:48.199Z"
   },
   {
    "duration": 121,
    "start_time": "2022-06-25T13:02:48.299Z"
   },
   {
    "duration": 289,
    "start_time": "2022-06-25T13:02:48.421Z"
   },
   {
    "duration": 26699,
    "start_time": "2022-06-25T13:02:48.712Z"
   },
   {
    "duration": 567,
    "start_time": "2022-06-25T13:03:15.413Z"
   },
   {
    "duration": 187,
    "start_time": "2022-06-25T13:03:15.982Z"
   },
   {
    "duration": 37,
    "start_time": "2022-06-25T13:03:16.171Z"
   },
   {
    "duration": 34,
    "start_time": "2022-06-25T13:03:16.210Z"
   },
   {
    "duration": 30,
    "start_time": "2022-06-25T13:03:16.247Z"
   },
   {
    "duration": 18,
    "start_time": "2022-06-25T13:03:16.279Z"
   },
   {
    "duration": 36,
    "start_time": "2022-06-25T13:03:16.299Z"
   },
   {
    "duration": 19,
    "start_time": "2022-06-25T13:03:16.336Z"
   },
   {
    "duration": 31,
    "start_time": "2022-06-25T13:03:16.356Z"
   },
   {
    "duration": 20,
    "start_time": "2022-06-25T13:03:16.389Z"
   },
   {
    "duration": 42,
    "start_time": "2022-06-25T13:03:16.411Z"
   },
   {
    "duration": 23,
    "start_time": "2022-06-25T13:03:16.454Z"
   },
   {
    "duration": 83,
    "start_time": "2022-06-25T13:03:16.479Z"
   },
   {
    "duration": 558,
    "start_time": "2022-06-25T13:03:16.563Z"
   },
   {
    "duration": 7,
    "start_time": "2022-06-25T13:03:17.122Z"
   },
   {
    "duration": 28,
    "start_time": "2022-06-25T13:03:17.131Z"
   },
   {
    "duration": 26,
    "start_time": "2022-06-25T13:03:17.161Z"
   },
   {
    "duration": 6,
    "start_time": "2022-06-25T13:03:17.189Z"
   },
   {
    "duration": 62,
    "start_time": "2022-06-25T13:03:17.196Z"
   },
   {
    "duration": 14,
    "start_time": "2022-06-25T13:03:17.260Z"
   },
   {
    "duration": 35,
    "start_time": "2022-06-25T13:03:17.275Z"
   },
   {
    "duration": 24,
    "start_time": "2022-06-25T13:03:17.312Z"
   },
   {
    "duration": 9,
    "start_time": "2022-06-25T13:03:17.337Z"
   },
   {
    "duration": 7,
    "start_time": "2022-06-25T13:03:17.347Z"
   },
   {
    "duration": 25,
    "start_time": "2022-06-25T13:03:17.355Z"
   },
   {
    "duration": 7,
    "start_time": "2022-06-25T13:03:17.381Z"
   },
   {
    "duration": 6,
    "start_time": "2022-06-25T13:03:17.390Z"
   },
   {
    "duration": 48,
    "start_time": "2022-06-25T13:03:17.398Z"
   },
   {
    "duration": 37,
    "start_time": "2022-06-25T13:03:17.447Z"
   },
   {
    "duration": 16,
    "start_time": "2022-06-25T13:03:17.486Z"
   },
   {
    "duration": 57,
    "start_time": "2022-06-25T13:03:17.504Z"
   },
   {
    "duration": 27,
    "start_time": "2022-06-25T13:03:17.565Z"
   },
   {
    "duration": 6,
    "start_time": "2022-06-25T13:03:17.594Z"
   },
   {
    "duration": 358,
    "start_time": "2022-06-25T13:03:17.601Z"
   },
   {
    "duration": 21,
    "start_time": "2022-06-25T13:03:17.961Z"
   },
   {
    "duration": 73,
    "start_time": "2022-06-25T13:03:17.983Z"
   },
   {
    "duration": 3,
    "start_time": "2022-06-25T13:03:18.058Z"
   },
   {
    "duration": 9,
    "start_time": "2022-06-25T13:03:18.063Z"
   },
   {
    "duration": 5,
    "start_time": "2022-06-25T13:03:18.073Z"
   },
   {
    "duration": 799,
    "start_time": "2022-06-25T13:03:18.080Z"
   },
   {
    "duration": 3,
    "start_time": "2022-06-25T13:03:18.882Z"
   },
   {
    "duration": 6,
    "start_time": "2022-06-25T13:03:18.887Z"
   },
   {
    "duration": 184542,
    "start_time": "2022-06-25T13:03:18.895Z"
   },
   {
    "duration": 27326,
    "start_time": "2022-06-25T13:06:23.439Z"
   },
   {
    "duration": 255105,
    "start_time": "2022-06-25T13:06:50.767Z"
   },
   {
    "duration": 55872,
    "start_time": "2022-06-25T13:11:05.874Z"
   },
   {
    "duration": 27,
    "start_time": "2022-06-25T13:12:01.748Z"
   },
   {
    "duration": 59,
    "start_time": "2022-06-25T13:12:01.776Z"
   },
   {
    "duration": 20,
    "start_time": "2022-06-25T13:12:01.837Z"
   },
   {
    "duration": 9,
    "start_time": "2022-06-25T13:12:01.859Z"
   },
   {
    "duration": 58,
    "start_time": "2022-06-25T13:21:33.392Z"
   },
   {
    "duration": 7,
    "start_time": "2022-06-25T13:23:54.603Z"
   },
   {
    "duration": 7,
    "start_time": "2022-06-25T13:24:15.440Z"
   },
   {
    "duration": 696,
    "start_time": "2022-06-25T13:24:18.440Z"
   },
   {
    "duration": 219,
    "start_time": "2022-06-25T13:24:22.192Z"
   },
   {
    "duration": 147,
    "start_time": "2022-06-25T13:24:27.127Z"
   },
   {
    "duration": 29,
    "start_time": "2022-06-25T13:24:27.537Z"
   },
   {
    "duration": 16,
    "start_time": "2022-06-25T13:24:27.948Z"
   },
   {
    "duration": 28,
    "start_time": "2022-06-25T13:24:28.311Z"
   },
   {
    "duration": 17,
    "start_time": "2022-06-25T13:24:28.712Z"
   },
   {
    "duration": 28,
    "start_time": "2022-06-25T13:24:29.112Z"
   },
   {
    "duration": 16,
    "start_time": "2022-06-25T13:24:29.513Z"
   },
   {
    "duration": 26,
    "start_time": "2022-06-25T13:24:29.949Z"
   },
   {
    "duration": 17,
    "start_time": "2022-06-25T13:24:30.345Z"
   },
   {
    "duration": 27,
    "start_time": "2022-06-25T13:24:30.733Z"
   },
   {
    "duration": 19,
    "start_time": "2022-06-25T13:24:31.144Z"
   },
   {
    "duration": 79,
    "start_time": "2022-06-25T13:24:31.533Z"
   },
   {
    "duration": 7,
    "start_time": "2022-06-25T13:24:38.394Z"
   },
   {
    "duration": 29,
    "start_time": "2022-06-25T13:24:40.665Z"
   },
   {
    "duration": 26,
    "start_time": "2022-06-25T13:24:43.742Z"
   },
   {
    "duration": 10,
    "start_time": "2022-06-25T13:24:48.859Z"
   },
   {
    "duration": 26,
    "start_time": "2022-06-25T13:25:04.769Z"
   },
   {
    "duration": 25,
    "start_time": "2022-06-25T13:25:13.800Z"
   },
   {
    "duration": 24,
    "start_time": "2022-06-25T13:26:11.067Z"
   },
   {
    "duration": 24,
    "start_time": "2022-06-25T13:26:12.656Z"
   },
   {
    "duration": 691,
    "start_time": "2022-06-25T13:26:23.157Z"
   },
   {
    "duration": 10,
    "start_time": "2022-06-25T13:26:23.858Z"
   },
   {
    "duration": 110,
    "start_time": "2022-06-25T13:26:26.210Z"
   },
   {
    "duration": 206,
    "start_time": "2022-06-25T13:26:30.713Z"
   },
   {
    "duration": 157,
    "start_time": "2022-06-25T13:26:35.040Z"
   },
   {
    "duration": 44,
    "start_time": "2022-06-25T13:26:35.445Z"
   },
   {
    "duration": 19,
    "start_time": "2022-06-25T13:26:35.859Z"
   },
   {
    "duration": 29,
    "start_time": "2022-06-25T13:26:36.340Z"
   },
   {
    "duration": 24,
    "start_time": "2022-06-25T13:26:36.832Z"
   },
   {
    "duration": 46,
    "start_time": "2022-06-25T13:26:37.255Z"
   },
   {
    "duration": 18,
    "start_time": "2022-06-25T13:26:37.669Z"
   },
   {
    "duration": 26,
    "start_time": "2022-06-25T13:26:38.098Z"
   },
   {
    "duration": 18,
    "start_time": "2022-06-25T13:26:38.536Z"
   },
   {
    "duration": 26,
    "start_time": "2022-06-25T13:26:38.953Z"
   },
   {
    "duration": 18,
    "start_time": "2022-06-25T13:26:39.378Z"
   },
   {
    "duration": 66,
    "start_time": "2022-06-25T13:26:39.793Z"
   },
   {
    "duration": 6,
    "start_time": "2022-06-25T13:26:44.845Z"
   },
   {
    "duration": 40,
    "start_time": "2022-06-25T13:26:46.098Z"
   },
   {
    "duration": 26,
    "start_time": "2022-06-25T13:26:48.244Z"
   },
   {
    "duration": 7,
    "start_time": "2022-06-25T13:26:50.251Z"
   },
   {
    "duration": 32,
    "start_time": "2022-06-25T13:26:54.949Z"
   },
   {
    "duration": 28,
    "start_time": "2022-06-25T13:26:56.378Z"
   },
   {
    "duration": 2276,
    "start_time": "2022-06-25T13:27:38.487Z"
   },
   {
    "duration": 1410,
    "start_time": "2022-06-25T13:27:40.766Z"
   },
   {
    "duration": 741,
    "start_time": "2022-06-25T13:27:42.178Z"
   },
   {
    "duration": 16,
    "start_time": "2022-06-25T13:27:42.922Z"
   },
   {
    "duration": 105,
    "start_time": "2022-06-25T13:27:42.939Z"
   },
   {
    "duration": 101,
    "start_time": "2022-06-25T13:27:43.046Z"
   },
   {
    "duration": 115,
    "start_time": "2022-06-25T13:27:43.148Z"
   },
   {
    "duration": 289,
    "start_time": "2022-06-25T13:27:43.265Z"
   },
   {
    "duration": 26676,
    "start_time": "2022-06-25T13:27:43.556Z"
   },
   {
    "duration": 591,
    "start_time": "2022-06-25T13:28:10.234Z"
   },
   {
    "duration": 138,
    "start_time": "2022-06-25T13:28:10.828Z"
   },
   {
    "duration": 28,
    "start_time": "2022-06-25T13:28:10.967Z"
   },
   {
    "duration": 22,
    "start_time": "2022-06-25T13:28:10.997Z"
   },
   {
    "duration": 28,
    "start_time": "2022-06-25T13:28:11.028Z"
   },
   {
    "duration": 19,
    "start_time": "2022-06-25T13:28:11.057Z"
   },
   {
    "duration": 28,
    "start_time": "2022-06-25T13:28:11.078Z"
   },
   {
    "duration": 29,
    "start_time": "2022-06-25T13:28:11.108Z"
   },
   {
    "duration": 32,
    "start_time": "2022-06-25T13:28:11.139Z"
   },
   {
    "duration": 23,
    "start_time": "2022-06-25T13:28:11.173Z"
   },
   {
    "duration": 47,
    "start_time": "2022-06-25T13:28:11.198Z"
   },
   {
    "duration": 19,
    "start_time": "2022-06-25T13:28:11.246Z"
   },
   {
    "duration": 80,
    "start_time": "2022-06-25T13:28:11.267Z"
   },
   {
    "duration": 550,
    "start_time": "2022-06-25T13:28:11.349Z"
   },
   {
    "duration": 6,
    "start_time": "2022-06-25T13:28:11.901Z"
   },
   {
    "duration": 42,
    "start_time": "2022-06-25T13:28:11.908Z"
   },
   {
    "duration": 29,
    "start_time": "2022-06-25T13:28:11.952Z"
   },
   {
    "duration": 6,
    "start_time": "2022-06-25T13:28:11.983Z"
   },
   {
    "duration": 54,
    "start_time": "2022-06-25T13:28:11.993Z"
   },
   {
    "duration": 17,
    "start_time": "2022-06-25T13:28:12.048Z"
   },
   {
    "duration": 37,
    "start_time": "2022-06-25T13:28:12.067Z"
   },
   {
    "duration": 25,
    "start_time": "2022-06-25T13:28:12.105Z"
   },
   {
    "duration": 7,
    "start_time": "2022-06-25T13:28:12.131Z"
   },
   {
    "duration": 6,
    "start_time": "2022-06-25T13:28:12.140Z"
   },
   {
    "duration": 22,
    "start_time": "2022-06-25T13:28:12.147Z"
   },
   {
    "duration": 8,
    "start_time": "2022-06-25T13:28:12.171Z"
   },
   {
    "duration": 15,
    "start_time": "2022-06-25T13:28:12.180Z"
   },
   {
    "duration": 45,
    "start_time": "2022-06-25T13:28:12.196Z"
   },
   {
    "duration": 31,
    "start_time": "2022-06-25T13:28:12.243Z"
   },
   {
    "duration": 10,
    "start_time": "2022-06-25T13:28:12.275Z"
   },
   {
    "duration": 45,
    "start_time": "2022-06-25T13:28:12.287Z"
   },
   {
    "duration": 27,
    "start_time": "2022-06-25T13:28:12.334Z"
   },
   {
    "duration": 6,
    "start_time": "2022-06-25T13:28:12.363Z"
   },
   {
    "duration": 303,
    "start_time": "2022-06-25T13:28:12.371Z"
   },
   {
    "duration": 21,
    "start_time": "2022-06-25T13:28:12.676Z"
   },
   {
    "duration": 71,
    "start_time": "2022-06-25T13:28:12.698Z"
   },
   {
    "duration": 4,
    "start_time": "2022-06-25T13:28:12.770Z"
   },
   {
    "duration": 7,
    "start_time": "2022-06-25T13:28:12.776Z"
   },
   {
    "duration": 10,
    "start_time": "2022-06-25T13:28:12.784Z"
   },
   {
    "duration": 798,
    "start_time": "2022-06-25T13:28:12.796Z"
   },
   {
    "duration": 6,
    "start_time": "2022-06-25T13:28:13.596Z"
   },
   {
    "duration": 9,
    "start_time": "2022-06-25T13:28:13.604Z"
   },
   {
    "duration": 177315,
    "start_time": "2022-06-25T13:28:13.615Z"
   },
   {
    "duration": 26699,
    "start_time": "2022-06-25T13:31:10.932Z"
   },
   {
    "duration": 251940,
    "start_time": "2022-06-25T13:31:37.633Z"
   },
   {
    "duration": 53074,
    "start_time": "2022-06-25T13:35:49.575Z"
   },
   {
    "duration": 91,
    "start_time": "2022-06-25T13:36:42.650Z"
   },
   {
    "duration": 6,
    "start_time": "2022-06-25T13:36:42.743Z"
   },
   {
    "duration": 9,
    "start_time": "2022-06-25T13:36:42.751Z"
   },
   {
    "duration": 9,
    "start_time": "2022-06-25T13:36:42.761Z"
   },
   {
    "duration": 59,
    "start_time": "2022-06-25T13:38:16.446Z"
   },
   {
    "duration": 56,
    "start_time": "2022-06-25T13:42:20.202Z"
   },
   {
    "duration": 59,
    "start_time": "2022-06-25T13:42:25.627Z"
   },
   {
    "duration": 718,
    "start_time": "2022-06-25T13:42:37.337Z"
   },
   {
    "duration": 196,
    "start_time": "2022-06-25T13:42:41.515Z"
   },
   {
    "duration": 512,
    "start_time": "2022-06-25T13:42:46.939Z"
   },
   {
    "duration": 133,
    "start_time": "2022-06-25T13:42:50.736Z"
   },
   {
    "duration": 26,
    "start_time": "2022-06-25T13:42:51.131Z"
   },
   {
    "duration": 16,
    "start_time": "2022-06-25T13:42:51.576Z"
   },
   {
    "duration": 28,
    "start_time": "2022-06-25T13:42:51.978Z"
   },
   {
    "duration": 17,
    "start_time": "2022-06-25T13:42:52.376Z"
   },
   {
    "duration": 30,
    "start_time": "2022-06-25T13:42:52.876Z"
   },
   {
    "duration": 19,
    "start_time": "2022-06-25T13:42:53.679Z"
   },
   {
    "duration": 31,
    "start_time": "2022-06-25T13:42:53.779Z"
   },
   {
    "duration": 18,
    "start_time": "2022-06-25T13:42:54.179Z"
   },
   {
    "duration": 29,
    "start_time": "2022-06-25T13:42:54.706Z"
   },
   {
    "duration": 17,
    "start_time": "2022-06-25T13:42:56.683Z"
   },
   {
    "duration": 68,
    "start_time": "2022-06-25T13:42:57.699Z"
   },
   {
    "duration": 6,
    "start_time": "2022-06-25T13:43:02.979Z"
   },
   {
    "duration": 26,
    "start_time": "2022-06-25T13:43:03.491Z"
   },
   {
    "duration": 24,
    "start_time": "2022-06-25T13:43:03.977Z"
   },
   {
    "duration": 6,
    "start_time": "2022-06-25T13:43:07.177Z"
   },
   {
    "duration": 35,
    "start_time": "2022-06-25T13:43:09.434Z"
   },
   {
    "duration": 16,
    "start_time": "2022-06-25T13:43:13.810Z"
   },
   {
    "duration": 36,
    "start_time": "2022-06-25T13:43:17.331Z"
   },
   {
    "duration": 7,
    "start_time": "2022-06-25T13:43:25.693Z"
   },
   {
    "duration": 7,
    "start_time": "2022-06-25T13:43:32.395Z"
   },
   {
    "duration": 67,
    "start_time": "2022-06-25T13:43:45.227Z"
   },
   {
    "duration": 2274,
    "start_time": "2022-06-25T13:44:46.315Z"
   },
   {
    "duration": 1400,
    "start_time": "2022-06-25T13:44:48.592Z"
   },
   {
    "duration": 740,
    "start_time": "2022-06-25T13:44:49.994Z"
   },
   {
    "duration": 17,
    "start_time": "2022-06-25T13:44:50.736Z"
   },
   {
    "duration": 129,
    "start_time": "2022-06-25T13:44:50.755Z"
   },
   {
    "duration": 95,
    "start_time": "2022-06-25T13:44:50.886Z"
   },
   {
    "duration": 110,
    "start_time": "2022-06-25T13:44:50.983Z"
   },
   {
    "duration": 311,
    "start_time": "2022-06-25T13:44:51.095Z"
   },
   {
    "duration": 25936,
    "start_time": "2022-06-25T13:44:51.408Z"
   },
   {
    "duration": 576,
    "start_time": "2022-06-25T13:45:17.347Z"
   },
   {
    "duration": 149,
    "start_time": "2022-06-25T13:45:17.928Z"
   },
   {
    "duration": 26,
    "start_time": "2022-06-25T13:45:18.079Z"
   },
   {
    "duration": 29,
    "start_time": "2022-06-25T13:45:18.107Z"
   },
   {
    "duration": 27,
    "start_time": "2022-06-25T13:45:18.137Z"
   },
   {
    "duration": 19,
    "start_time": "2022-06-25T13:45:18.165Z"
   },
   {
    "duration": 44,
    "start_time": "2022-06-25T13:45:18.186Z"
   },
   {
    "duration": 16,
    "start_time": "2022-06-25T13:45:18.231Z"
   },
   {
    "duration": 27,
    "start_time": "2022-06-25T13:45:18.249Z"
   },
   {
    "duration": 18,
    "start_time": "2022-06-25T13:45:18.278Z"
   },
   {
    "duration": 42,
    "start_time": "2022-06-25T13:45:18.298Z"
   },
   {
    "duration": 20,
    "start_time": "2022-06-25T13:45:18.341Z"
   },
   {
    "duration": 83,
    "start_time": "2022-06-25T13:45:18.362Z"
   },
   {
    "duration": 589,
    "start_time": "2022-06-25T13:45:18.446Z"
   },
   {
    "duration": 7,
    "start_time": "2022-06-25T13:45:19.038Z"
   },
   {
    "duration": 32,
    "start_time": "2022-06-25T13:45:19.046Z"
   },
   {
    "duration": 27,
    "start_time": "2022-06-25T13:45:19.080Z"
   },
   {
    "duration": 26,
    "start_time": "2022-06-25T13:45:19.109Z"
   },
   {
    "duration": 38,
    "start_time": "2022-06-25T13:45:19.138Z"
   },
   {
    "duration": 18,
    "start_time": "2022-06-25T13:45:19.178Z"
   },
   {
    "duration": 42,
    "start_time": "2022-06-25T13:45:19.198Z"
   },
   {
    "duration": 10,
    "start_time": "2022-06-25T13:45:19.242Z"
   },
   {
    "duration": 11,
    "start_time": "2022-06-25T13:45:19.253Z"
   },
   {
    "duration": 8,
    "start_time": "2022-06-25T13:45:19.265Z"
   },
   {
    "duration": 96,
    "start_time": "2022-06-25T13:45:19.275Z"
   },
   {
    "duration": 27,
    "start_time": "2022-06-25T13:45:19.373Z"
   },
   {
    "duration": 78,
    "start_time": "2022-06-25T13:45:19.402Z"
   },
   {
    "duration": 8,
    "start_time": "2022-06-25T13:45:19.482Z"
   },
   {
    "duration": 7,
    "start_time": "2022-06-25T13:45:19.492Z"
   },
   {
    "duration": 36,
    "start_time": "2022-06-25T13:45:19.500Z"
   },
   {
    "duration": 31,
    "start_time": "2022-06-25T13:45:19.538Z"
   },
   {
    "duration": 10,
    "start_time": "2022-06-25T13:45:19.571Z"
   },
   {
    "duration": 47,
    "start_time": "2022-06-25T13:45:19.583Z"
   },
   {
    "duration": 26,
    "start_time": "2022-06-25T13:45:19.631Z"
   },
   {
    "duration": 5,
    "start_time": "2022-06-25T13:45:19.658Z"
   },
   {
    "duration": 315,
    "start_time": "2022-06-25T13:45:19.665Z"
   },
   {
    "duration": 21,
    "start_time": "2022-06-25T13:45:19.982Z"
   },
   {
    "duration": 67,
    "start_time": "2022-06-25T13:45:20.005Z"
   },
   {
    "duration": 3,
    "start_time": "2022-06-25T13:45:20.074Z"
   },
   {
    "duration": 3,
    "start_time": "2022-06-25T13:45:20.079Z"
   },
   {
    "duration": 11,
    "start_time": "2022-06-25T13:45:20.083Z"
   },
   {
    "duration": 801,
    "start_time": "2022-06-25T13:45:20.096Z"
   },
   {
    "duration": 4,
    "start_time": "2022-06-25T13:45:20.898Z"
   },
   {
    "duration": 10,
    "start_time": "2022-06-25T13:45:20.903Z"
   },
   {
    "duration": 197125,
    "start_time": "2022-06-25T13:45:20.914Z"
   },
   {
    "duration": 26770,
    "start_time": "2022-06-25T13:48:38.041Z"
   },
   {
    "duration": 260867,
    "start_time": "2022-06-25T13:49:04.812Z"
   },
   {
    "duration": 63554,
    "start_time": "2022-06-25T13:53:25.681Z"
   },
   {
    "duration": 23,
    "start_time": "2022-06-25T13:54:29.236Z"
   },
   {
    "duration": 7,
    "start_time": "2022-06-25T13:54:29.260Z"
   },
   {
    "duration": 7,
    "start_time": "2022-06-25T13:54:29.268Z"
   },
   {
    "duration": 7,
    "start_time": "2022-06-25T13:54:29.277Z"
   },
   {
    "duration": 73,
    "start_time": "2022-06-25T13:54:29.286Z"
   },
   {
    "duration": 4177,
    "start_time": "2022-06-25T18:31:07.305Z"
   },
   {
    "duration": 1853,
    "start_time": "2022-06-25T18:31:11.485Z"
   },
   {
    "duration": 1142,
    "start_time": "2022-06-25T18:31:13.340Z"
   },
   {
    "duration": 17,
    "start_time": "2022-06-25T18:31:14.484Z"
   },
   {
    "duration": 170,
    "start_time": "2022-06-25T18:31:14.504Z"
   },
   {
    "duration": 102,
    "start_time": "2022-06-25T18:31:14.677Z"
   },
   {
    "duration": 134,
    "start_time": "2022-06-25T18:31:14.781Z"
   },
   {
    "duration": 291,
    "start_time": "2022-06-25T18:31:14.917Z"
   },
   {
    "duration": 29028,
    "start_time": "2022-06-25T18:31:15.209Z"
   },
   {
    "duration": 643,
    "start_time": "2022-06-25T18:31:44.239Z"
   },
   {
    "duration": 200,
    "start_time": "2022-06-25T18:31:44.885Z"
   },
   {
    "duration": 43,
    "start_time": "2022-06-25T18:31:45.087Z"
   },
   {
    "duration": 63,
    "start_time": "2022-06-25T18:31:45.132Z"
   },
   {
    "duration": 37,
    "start_time": "2022-06-25T18:31:45.201Z"
   },
   {
    "duration": 31,
    "start_time": "2022-06-25T18:31:45.240Z"
   },
   {
    "duration": 36,
    "start_time": "2022-06-25T18:31:45.273Z"
   },
   {
    "duration": 37,
    "start_time": "2022-06-25T18:31:45.312Z"
   },
   {
    "duration": 41,
    "start_time": "2022-06-25T18:31:45.351Z"
   },
   {
    "duration": 42,
    "start_time": "2022-06-25T18:31:45.394Z"
   },
   {
    "duration": 53,
    "start_time": "2022-06-25T18:31:45.438Z"
   },
   {
    "duration": 34,
    "start_time": "2022-06-25T18:31:45.493Z"
   },
   {
    "duration": 85,
    "start_time": "2022-06-25T18:31:45.529Z"
   },
   {
    "duration": 639,
    "start_time": "2022-06-25T18:31:45.627Z"
   },
   {
    "duration": 6,
    "start_time": "2022-06-25T18:31:46.268Z"
   },
   {
    "duration": 59,
    "start_time": "2022-06-25T18:31:46.276Z"
   },
   {
    "duration": 26,
    "start_time": "2022-06-25T18:31:46.337Z"
   },
   {
    "duration": 7,
    "start_time": "2022-06-25T18:31:46.365Z"
   },
   {
    "duration": 64,
    "start_time": "2022-06-25T18:31:46.373Z"
   },
   {
    "duration": 15,
    "start_time": "2022-06-25T18:31:46.439Z"
   },
   {
    "duration": 14,
    "start_time": "2022-06-25T18:31:46.456Z"
   },
   {
    "duration": 9,
    "start_time": "2022-06-25T18:31:46.472Z"
   },
   {
    "duration": 45,
    "start_time": "2022-06-25T18:31:46.483Z"
   },
   {
    "duration": 8,
    "start_time": "2022-06-25T18:31:46.529Z"
   },
   {
    "duration": 100,
    "start_time": "2022-06-25T18:31:46.539Z"
   },
   {
    "duration": 25,
    "start_time": "2022-06-25T18:31:46.641Z"
   },
   {
    "duration": 93,
    "start_time": "2022-06-25T18:31:46.668Z"
   },
   {
    "duration": 11,
    "start_time": "2022-06-25T18:31:46.763Z"
   },
   {
    "duration": 10,
    "start_time": "2022-06-25T18:31:46.776Z"
   },
   {
    "duration": 42,
    "start_time": "2022-06-25T18:31:46.788Z"
   },
   {
    "duration": 34,
    "start_time": "2022-06-25T18:31:46.832Z"
   },
   {
    "duration": 11,
    "start_time": "2022-06-25T18:31:46.871Z"
   },
   {
    "duration": 50,
    "start_time": "2022-06-25T18:31:46.884Z"
   },
   {
    "duration": 27,
    "start_time": "2022-06-25T18:31:46.936Z"
   },
   {
    "duration": 6,
    "start_time": "2022-06-25T18:31:46.965Z"
   },
   {
    "duration": 364,
    "start_time": "2022-06-25T18:31:46.973Z"
   },
   {
    "duration": 21,
    "start_time": "2022-06-25T18:31:47.339Z"
   },
   {
    "duration": 71,
    "start_time": "2022-06-25T18:31:47.361Z"
   },
   {
    "duration": 4,
    "start_time": "2022-06-25T18:31:47.434Z"
   },
   {
    "duration": 7,
    "start_time": "2022-06-25T18:31:47.439Z"
   },
   {
    "duration": 6,
    "start_time": "2022-06-25T18:31:47.448Z"
   },
   {
    "duration": 910,
    "start_time": "2022-06-25T18:31:47.456Z"
   },
   {
    "duration": 4,
    "start_time": "2022-06-25T18:31:48.367Z"
   },
   {
    "duration": 11,
    "start_time": "2022-06-25T18:31:48.374Z"
   },
   {
    "duration": 233946,
    "start_time": "2022-06-25T18:31:48.387Z"
   },
   {
    "duration": 32920,
    "start_time": "2022-06-25T18:35:42.335Z"
   },
   {
    "duration": 272747,
    "start_time": "2022-06-25T18:36:15.257Z"
   },
   {
    "duration": 1920040,
    "start_time": "2022-06-25T18:40:48.006Z"
   },
   {
    "duration": 23,
    "start_time": "2022-06-25T19:12:48.127Z"
   },
   {
    "duration": 7,
    "start_time": "2022-06-25T19:12:48.152Z"
   },
   {
    "duration": 9,
    "start_time": "2022-06-25T19:12:48.160Z"
   },
   {
    "duration": 10,
    "start_time": "2022-06-25T19:12:48.170Z"
   },
   {
    "duration": 45,
    "start_time": "2022-10-10T23:27:52.336Z"
   }
  ],
  "kernelspec": {
   "display_name": "Python 3 (ipykernel)",
   "language": "python",
   "name": "python3"
  },
  "language_info": {
   "codemirror_mode": {
    "name": "ipython",
    "version": 3
   },
   "file_extension": ".py",
   "mimetype": "text/x-python",
   "name": "python",
   "nbconvert_exporter": "python",
   "pygments_lexer": "ipython3",
   "version": "3.9.12"
  },
  "toc": {
   "base_numbering": 1,
   "nav_menu": {},
   "number_sections": true,
   "sideBar": true,
   "skip_h1_title": true,
   "title_cell": "",
   "title_sidebar": "",
   "toc_cell": true,
   "toc_position": {},
   "toc_section_display": true,
   "toc_window_display": false
  }
 },
 "nbformat": 4,
 "nbformat_minor": 2
}
